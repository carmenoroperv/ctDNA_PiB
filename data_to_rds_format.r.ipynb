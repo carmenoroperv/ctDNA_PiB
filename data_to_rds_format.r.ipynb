{
 "cells": [
  {
   "cell_type": "markdown",
   "id": "b9405582-0221-4b45-b035-6f9d0b33c16b",
   "metadata": {},
   "source": [
    "# Write .csv files as rds files"
   ]
  },
  {
   "cell_type": "code",
   "execution_count": null,
   "id": "edf9e98f-bcc5-452e-825d-d61e67861049",
   "metadata": {},
   "outputs": [],
   "source": [
    "library(tidyverse)"
   ]
  },
  {
   "cell_type": "code",
   "execution_count": null,
   "id": "2ff4e7a9-9026-4a6b-ad90-2413fb935623",
   "metadata": {},
   "outputs": [],
   "source": [
    "input_file = snakemake@input[[\"input_filename\"]]\n",
    "output_file = snakemake@output[[\"output_filename\"]]"
   ]
  },
  {
   "cell_type": "code",
   "execution_count": null,
   "id": "7bd98c98-d6ba-4c1d-9eae-481994683c7f",
   "metadata": {},
   "outputs": [],
   "source": [
    "data = read.csv(input_file)"
   ]
  },
  {
   "cell_type": "code",
   "execution_count": 1,
   "id": "d2dac901-7ba9-49a6-b118-a3111b437c59",
   "metadata": {},
   "outputs": [
    {
     "ename": "ERROR",
     "evalue": "Error in saveRDS(data, file = output_file): object 'output_file' not found\n",
     "output_type": "error",
     "traceback": [
      "Error in saveRDS(data, file = output_file): object 'output_file' not found\nTraceback:\n",
      "1. saveRDS(data, file = output_file)"
     ]
    }
   ],
   "source": [
    "saveRDS(data, file = output_file)"
   ]
  },
  {
   "cell_type": "code",
   "execution_count": null,
   "id": "06d864b7-2081-4a4e-b513-973cadac86c9",
   "metadata": {},
   "outputs": [],
   "source": [
    "# RDS files can be in future be read in with readRDS(file = input_filename)"
   ]
  }
 ],
 "metadata": {
  "kernelspec": {
   "display_name": "R",
   "language": "R",
   "name": "ir"
  },
  "language_info": {
   "codemirror_mode": "r",
   "file_extension": ".r",
   "mimetype": "text/x-r-source",
   "name": "R",
   "pygments_lexer": "r",
   "version": "3.6.1"
  }
 },
 "nbformat": 4,
 "nbformat_minor": 5
}
