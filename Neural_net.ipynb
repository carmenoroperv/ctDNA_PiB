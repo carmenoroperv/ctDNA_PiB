{
 "cells": [
  {
   "cell_type": "markdown",
   "id": "cea82e10-f06a-4815-84e2-5c119db9933c",
   "metadata": {},
   "source": [
    "# Neural net"
   ]
  },
  {
   "cell_type": "code",
   "execution_count": 46,
   "id": "badb623b-4e4a-4dfb-901c-027a88bb6309",
   "metadata": {},
   "outputs": [],
   "source": [
    "#install.packages(\"keras\")\n",
    "library(keras)\n",
    "#keras::install_keras(method='conda', envname = 'ctDNA', conda=\"home/anikago/miniconda3/bin/conda\")\n",
    "\n",
    "#install.packages(\"cvms\")\n",
    "#library(cvms)\n",
    "\n",
    "library(dplyr)\n",
    "\n",
    "#install.packages(\"tensorflow\")\n",
    "library(tensorflow)"
   ]
  },
  {
   "cell_type": "code",
   "execution_count": 30,
   "id": "98861b75-356c-4601-8459-283c22852422",
   "metadata": {},
   "outputs": [],
   "source": [
    "sum_control_ATAC_bin_rm = read.csv(\"sum_control_ATAC_bin_rm.csv\")"
   ]
  },
  {
   "cell_type": "markdown",
   "id": "60adc5c4-8ae2-44b0-95d1-d93d3ac99502",
   "metadata": {},
   "source": [
    "Function for the neural net"
   ]
  },
  {
   "cell_type": "code",
   "execution_count": 47,
   "id": "6d2f75e9-9470-484a-b4a9-de605c0021f8",
   "metadata": {},
   "outputs": [],
   "source": [
    "# Small neural network\n",
    "\n",
    "fit_neural_net <- function(x_train, y_train, batch_size=128, epoch=100, lr=0.001, dropout=.1){\n",
    "\n",
    "  # Define model for regression\n",
    "  # We create 3 layers\n",
    "  #   1: Has 128 neurons and is activated by relu (sets negative values to 0)\n",
    "  #   2: Has 32 neurons and is activated by relu\n",
    "  #   3: Has 1 neuron (the output value) and is activated by softplus\n",
    "  #      The softplus activation function makes the output positive\n",
    "  #      but I'm not sure whether it is better than e.g. relu or something else\n",
    "  model <- keras_model_sequential() %>%\n",
    "    layer_dropout(rate = dropout, input_shape = ncol(x_train)) %>%\n",
    "    layer_dense(units = 128, activation = 'relu') %>%\n",
    "    layer_dropout(rate = dropout) %>%\n",
    "    layer_dense(units = 32, activation = 'relu') %>%\n",
    "    layer_dropout(rate = dropout) %>%\n",
    "    layer_dense(units = 1, activation = 'softplus')\n",
    "\n",
    "  # Compile model\n",
    "  model %>% compile(\n",
    "    loss = loss_mean_squared_error,\n",
    "    optimizer = optimizer_adam(learning_rate = lr),\n",
    "    metrics = metric_mean_squared_error\n",
    "  )\n",
    "\n",
    "  # Train model\n",
    "  model %>% fit(\n",
    "    x_train, y_train,\n",
    "    batch_size = batch_size,\n",
    "    epochs = epochs,\n",
    "    validation_split = 0.2\n",
    "  )\n",
    "\n",
    "  model\n",
    "}"
   ]
  },
  {
   "cell_type": "code",
   "execution_count": 48,
   "id": "11e785b6-a6ff-4ba7-9031-76f2cfdc18ca",
   "metadata": {},
   "outputs": [
    {
     "name": "stdout",
     "output_type": "stream",
     "text": [
      "List of 19\n",
      " $ python              : chr \"/home/anikago/miniconda3/envs/ctDNA/bin/python3\"\n",
      " $ libpython           : chr \"/home/anikago/miniconda3/envs/ctDNA/lib/libpython3.9.so\"\n",
      " $ pythonhome          : chr \"/home/anikago/miniconda3/envs/ctDNA:/home/anikago/miniconda3/envs/ctDNA\"\n",
      " $ pythonpath          : chr \"/home/anikago/miniconda3/envs/ctDNA/lib/python39.zip:/home/anikago/miniconda3/envs/ctDNA/lib/python3.9:/home/an\"| __truncated__\n",
      " $ prefix              : chr \"/home/anikago/miniconda3/envs/ctDNA\"\n",
      " $ exec_prefix         : chr \"/home/anikago/miniconda3/envs/ctDNA\"\n",
      " $ base_exec_prefix    : chr \"/home/anikago/miniconda3/envs/ctDNA\"\n",
      " $ virtualenv          : chr \"\"\n",
      " $ virtualenv_activate : chr \"\"\n",
      " $ version_string      : chr \"3.9.6 (default, Aug 18 2021, 19:38:01)  [GCC 7.5.0]\"\n",
      " $ version             : chr \"3.9\"\n",
      " $ architecture        : chr \"64bit\"\n",
      " $ anaconda            : logi FALSE\n",
      " $ numpy               :List of 2\n",
      "  ..$ path   : chr \"/home/anikago/miniconda3/envs/ctDNA/lib/python3.9/site-packages/numpy\"\n",
      "  ..$ version:Class 'numeric_version'  hidden list of 1\n",
      "  .. ..$ : int [1:3] 1 20 3\n",
      " $ required_module     : chr \"tensorflow\"\n",
      " $ required_module_path: NULL\n",
      " $ available           : logi TRUE\n",
      " $ python_versions     : chr [1:6] \"/home/anikago/miniconda3/envs/ctDNA/bin/python3\" \"/usr/bin/python3\" \"/usr/bin/python\" \"/home/anikago/miniconda3/envs/ctDNA/bin/python\" ...\n",
      " $ forced              : NULL\n",
      " - attr(*, \"class\")= chr \"py_config\"\n"
     ]
    },
    {
     "ename": "ERROR",
     "evalue": "Error: Python module tensorflow.keras was not found.\n\nDetected Python configuration:\n\n\n\n",
     "output_type": "error",
     "traceback": [
      "Error: Python module tensorflow.keras was not found.\n\nDetected Python configuration:\n\n\n\nTraceback:\n",
      "1. fit_neural_net(x_train = sum_control_ATAC_bin_rm %>% dplyr::select(-ATAC_val), \n .     y_train = sum_control_ATAC_bin_rm %>% dplyr::select(ATAC_val), \n .     batch_size = 128, epoch = 100, lr = 0.001, dropout = 0.1)",
      "2. keras_model_sequential() %>% layer_dropout(rate = dropout, input_shape = ncol(x_train)) %>% \n .     layer_dense(units = 128, activation = \"relu\") %>% layer_dropout(rate = dropout) %>% \n .     layer_dense(units = 32, activation = \"relu\") %>% layer_dropout(rate = dropout) %>% \n .     layer_dense(units = 1, activation = \"softplus\")   # at line 12-18 of file <text>",
      "3. eval(lhs, parent, parent)",
      "4. eval(lhs, parent, parent)",
      "5. keras_model_sequential()",
      "6. keras$models",
      "7. `$.python.builtin.module`(keras, \"models\")",
      "8. py_resolve_module_proxy(x)",
      "9. stop(message, call. = FALSE)"
     ]
    }
   ],
   "source": [
    "# Fit the neural net\n",
    "m <- fit_neural_net(\n",
    "  x_train = sum_control_ATAC_bin_rm %>% dplyr::select(-ATAC_val),\n",
    "  y_train = sum_control_ATAC_bin_rm %>% dplyr::select(ATAC_val),\n",
    "  batch_size = 128,\n",
    "  epoch = 100,\n",
    "  lr = 0.001,\n",
    "  dropout = .1\n",
    ")"
   ]
  },
  {
   "cell_type": "code",
   "execution_count": null,
   "id": "bf649ada-aadd-4e1b-bebb-6614cfc6cd89",
   "metadata": {},
   "outputs": [],
   "source": [
    "\n",
    "\n",
    "\n",
    "# Some random data\n",
    "set.seed(1)\n",
    "data_size <- 500\n",
    "data <- tibble(\n",
    "  x1 = sin(1:data_size / 10) + 0.1 * rnorm(data_size),\n",
    "  x2 = cos(1:data_size / 10) + 0.1 * rnorm(data_size),\n",
    "  x3 = rnorm(data_size),\n",
    "  y = 0.4 * x1 + 0.7 * x2 + 2.4 * x3 + 0.03 * rnorm(data_size)\n",
    ")\n",
    "\n",
    "library(groupdata2)\n",
    "\n",
    "parts <- groupdata2::partition(data, p = 0.2)\n",
    "train <- parts[[2]]\n",
    "test <- parts[[1]]\n",
    "\n",
    "\n",
    "# Cross-validate a simple lm() gets us rmse=0.0316 (on my machine at least)\n",
    "train_folded <- groupdata2::fold(train, k = 5)\n",
    "cvms::cross_validate(train_folded,\n",
    "                     \"y ~ x1 + x2 + x3\",\n",
    "                     fold_cols = \".folds\",\n",
    "                     family = \"gaussian\")\n",
    "\n",
    "# Fit the neural net\n",
    "m <- fit_neural_net(\n",
    "  x_train = train[, -4],\n",
    "  y_train = train[, 4],\n",
    "  batch_size = 128,\n",
    "  epoch = 100,\n",
    "  lr = 0.001,\n",
    "  dropout = .1\n",
    ")\n",
    "\n",
    "# I think something like this is the code for predicting\n",
    "predict(m, test[, -4])\n"
   ]
  },
  {
   "cell_type": "code",
   "execution_count": null,
   "id": "981873b9-b91e-4cd3-bdc7-b04cda57dc35",
   "metadata": {},
   "outputs": [],
   "source": []
  },
  {
   "cell_type": "code",
   "execution_count": null,
   "id": "c9d48d7a-f640-40e2-91b0-b318b0f73cfd",
   "metadata": {},
   "outputs": [],
   "source": []
  },
  {
   "cell_type": "code",
   "execution_count": null,
   "id": "370878c3-be82-45bf-a855-57c236dc9eb2",
   "metadata": {},
   "outputs": [],
   "source": []
  },
  {
   "cell_type": "code",
   "execution_count": null,
   "id": "f7526289-e29c-4966-a1f5-a1b05614e7b7",
   "metadata": {},
   "outputs": [],
   "source": []
  }
 ],
 "metadata": {
  "kernelspec": {
   "display_name": "R [conda env:ctDNA] *",
   "language": "R",
   "name": "conda-env-ctDNA-r"
  },
  "language_info": {
   "codemirror_mode": "r",
   "file_extension": ".r",
   "mimetype": "text/x-r-source",
   "name": "R",
   "pygments_lexer": "r",
   "version": "3.6.1"
  }
 },
 "nbformat": 4,
 "nbformat_minor": 5
}
