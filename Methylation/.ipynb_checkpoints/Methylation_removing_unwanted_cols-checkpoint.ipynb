{
 "cells": [
  {
   "cell_type": "code",
   "execution_count": 2,
   "id": "843b63a0-8969-41b8-a644-f79f95959490",
   "metadata": {},
   "outputs": [],
   "source": [
    "test <- readRDS(\"../data/methylation/mean_methylation_NAs_removed_with_binID.rds\")"
   ]
  },
  {
   "cell_type": "code",
   "execution_count": 3,
   "id": "a7517526-3ffe-493f-a9b7-e74269ee4eef",
   "metadata": {},
   "outputs": [
    {
     "data": {
      "text/html": [
       "<table>\n",
       "<thead><tr><th scope=col>chr</th><th scope=col>start</th><th scope=col>end</th><th scope=col>bin_number</th><th scope=col>bin_id</th><th scope=col>methylation</th></tr></thead>\n",
       "<tbody>\n",
       "\t<tr><td>chr1    </td><td> 750000 </td><td>1000000 </td><td>3       </td><td>chr1_3  </td><td>48.69058</td></tr>\n",
       "\t<tr><td>chr1    </td><td>1000000 </td><td>1250000 </td><td>4       </td><td>chr1_4  </td><td>55.44770</td></tr>\n",
       "\t<tr><td>chr1    </td><td>1250000 </td><td>1500000 </td><td>5       </td><td>chr1_5  </td><td>63.11780</td></tr>\n",
       "\t<tr><td>chr1    </td><td>1750000 </td><td>2000000 </td><td>7       </td><td>chr1_7  </td><td>62.01188</td></tr>\n",
       "\t<tr><td>chr1    </td><td>2000000 </td><td>2250000 </td><td>8       </td><td>chr1_8  </td><td>60.11379</td></tr>\n",
       "\t<tr><td>chr1    </td><td>2250000 </td><td>2500000 </td><td>9       </td><td>chr1_9  </td><td>57.19907</td></tr>\n",
       "</tbody>\n",
       "</table>\n"
      ],
      "text/latex": [
       "\\begin{tabular}{r|llllll}\n",
       " chr & start & end & bin\\_number & bin\\_id & methylation\\\\\n",
       "\\hline\n",
       "\t chr1     &  750000  & 1000000  & 3        & chr1\\_3 & 48.69058\\\\\n",
       "\t chr1     & 1000000  & 1250000  & 4        & chr1\\_4 & 55.44770\\\\\n",
       "\t chr1     & 1250000  & 1500000  & 5        & chr1\\_5 & 63.11780\\\\\n",
       "\t chr1     & 1750000  & 2000000  & 7        & chr1\\_7 & 62.01188\\\\\n",
       "\t chr1     & 2000000  & 2250000  & 8        & chr1\\_8 & 60.11379\\\\\n",
       "\t chr1     & 2250000  & 2500000  & 9        & chr1\\_9 & 57.19907\\\\\n",
       "\\end{tabular}\n"
      ],
      "text/markdown": [
       "\n",
       "| chr | start | end | bin_number | bin_id | methylation |\n",
       "|---|---|---|---|---|---|\n",
       "| chr1     |  750000  | 1000000  | 3        | chr1_3   | 48.69058 |\n",
       "| chr1     | 1000000  | 1250000  | 4        | chr1_4   | 55.44770 |\n",
       "| chr1     | 1250000  | 1500000  | 5        | chr1_5   | 63.11780 |\n",
       "| chr1     | 1750000  | 2000000  | 7        | chr1_7   | 62.01188 |\n",
       "| chr1     | 2000000  | 2250000  | 8        | chr1_8   | 60.11379 |\n",
       "| chr1     | 2250000  | 2500000  | 9        | chr1_9   | 57.19907 |\n",
       "\n"
      ],
      "text/plain": [
       "  chr  start   end     bin_number bin_id methylation\n",
       "1 chr1  750000 1000000 3          chr1_3 48.69058   \n",
       "2 chr1 1000000 1250000 4          chr1_4 55.44770   \n",
       "3 chr1 1250000 1500000 5          chr1_5 63.11780   \n",
       "4 chr1 1750000 2000000 7          chr1_7 62.01188   \n",
       "5 chr1 2000000 2250000 8          chr1_8 60.11379   \n",
       "6 chr1 2250000 2500000 9          chr1_9 57.19907   "
      ]
     },
     "metadata": {},
     "output_type": "display_data"
    }
   ],
   "source": [
    "head(test)"
   ]
  },
  {
   "cell_type": "code",
   "execution_count": 6,
   "id": "a9aa3ffe-5ceb-4b65-a697-646a0f604044",
   "metadata": {},
   "outputs": [],
   "source": [
    "test <- test %>% select(bin_id, methylation)"
   ]
  },
  {
   "cell_type": "code",
   "execution_count": 5,
   "id": "59c01b87-fdbc-40c4-8313-b2ed8a61abe0",
   "metadata": {},
   "outputs": [
    {
     "name": "stderr",
     "output_type": "stream",
     "text": [
      "\n",
      "Attaching package: ‘dplyr’\n",
      "\n",
      "The following objects are masked from ‘package:stats’:\n",
      "\n",
      "    filter, lag\n",
      "\n",
      "The following objects are masked from ‘package:base’:\n",
      "\n",
      "    intersect, setdiff, setequal, union\n",
      "\n"
     ]
    }
   ],
   "source": [
    "library(dplyr)"
   ]
  },
  {
   "cell_type": "code",
   "execution_count": 7,
   "id": "2facfeaa-33e6-42a9-886f-228e64b1e356",
   "metadata": {},
   "outputs": [
    {
     "data": {
      "text/html": [
       "<table>\n",
       "<thead><tr><th scope=col>bin_id</th><th scope=col>methylation</th></tr></thead>\n",
       "<tbody>\n",
       "\t<tr><td>chr1_3  </td><td>48.69058</td></tr>\n",
       "\t<tr><td>chr1_4  </td><td>55.44770</td></tr>\n",
       "\t<tr><td>chr1_5  </td><td>63.11780</td></tr>\n",
       "\t<tr><td>chr1_7  </td><td>62.01188</td></tr>\n",
       "\t<tr><td>chr1_8  </td><td>60.11379</td></tr>\n",
       "\t<tr><td>chr1_9  </td><td>57.19907</td></tr>\n",
       "</tbody>\n",
       "</table>\n"
      ],
      "text/latex": [
       "\\begin{tabular}{r|ll}\n",
       " bin\\_id & methylation\\\\\n",
       "\\hline\n",
       "\t chr1\\_3 & 48.69058\\\\\n",
       "\t chr1\\_4 & 55.44770\\\\\n",
       "\t chr1\\_5 & 63.11780\\\\\n",
       "\t chr1\\_7 & 62.01188\\\\\n",
       "\t chr1\\_8 & 60.11379\\\\\n",
       "\t chr1\\_9 & 57.19907\\\\\n",
       "\\end{tabular}\n"
      ],
      "text/markdown": [
       "\n",
       "| bin_id | methylation |\n",
       "|---|---|\n",
       "| chr1_3   | 48.69058 |\n",
       "| chr1_4   | 55.44770 |\n",
       "| chr1_5   | 63.11780 |\n",
       "| chr1_7   | 62.01188 |\n",
       "| chr1_8   | 60.11379 |\n",
       "| chr1_9   | 57.19907 |\n",
       "\n"
      ],
      "text/plain": [
       "  bin_id methylation\n",
       "1 chr1_3 48.69058   \n",
       "2 chr1_4 55.44770   \n",
       "3 chr1_5 63.11780   \n",
       "4 chr1_7 62.01188   \n",
       "5 chr1_8 60.11379   \n",
       "6 chr1_9 57.19907   "
      ]
     },
     "metadata": {},
     "output_type": "display_data"
    }
   ],
   "source": [
    "head(test)"
   ]
  },
  {
   "cell_type": "code",
   "execution_count": 8,
   "id": "b46f6f2e-7d65-48f6-9cda-f0b64c9a7af7",
   "metadata": {},
   "outputs": [],
   "source": [
    "saveRDS(test, file = \"../data/methylation/methylation_preprocessed.rds\")"
   ]
  }
 ],
 "metadata": {
  "kernelspec": {
   "display_name": "R",
   "language": "R",
   "name": "ir"
  },
  "language_info": {
   "codemirror_mode": "r",
   "file_extension": ".r",
   "mimetype": "text/x-r-source",
   "name": "R",
   "pygments_lexer": "r",
   "version": "3.6.1"
  }
 },
 "nbformat": 4,
 "nbformat_minor": 5
}
