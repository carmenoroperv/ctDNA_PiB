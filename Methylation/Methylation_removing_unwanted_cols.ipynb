{
 "cells": [
  {
   "cell_type": "code",
   "execution_count": 1,
   "id": "07f5b990-be6d-44d0-b95e-fb9ece494460",
   "metadata": {
    "tags": []
   },
   "outputs": [
    {
     "name": "stderr",
     "output_type": "stream",
     "text": [
      "Registered S3 methods overwritten by 'ggplot2':\n",
      "  method         from \n",
      "  [.quosures     rlang\n",
      "  c.quosures     rlang\n",
      "  print.quosures rlang\n",
      "Registered S3 method overwritten by 'rvest':\n",
      "  method            from\n",
      "  read_xml.response xml2\n",
      "── Attaching packages ───────────────────────────────────── tidyverse 1.2.1 ──\n",
      "✔ ggplot2 3.1.1     ✔ purrr   0.3.4\n",
      "✔ tibble  3.1.4     ✔ dplyr   1.0.7\n",
      "✔ tidyr   1.1.3     ✔ stringr 1.4.0\n",
      "✔ readr   1.3.1     ✔ forcats 0.4.0\n",
      "── Conflicts ──────────────────────────────────────── tidyverse_conflicts() ──\n",
      "✖ dplyr::filter() masks stats::filter()\n",
      "✖ dplyr::lag()    masks stats::lag()\n"
     ]
    }
   ],
   "source": [
    "library(tidyverse)"
   ]
  },
  {
   "cell_type": "code",
   "execution_count": 2,
   "id": "843b63a0-8969-41b8-a644-f79f95959490",
   "metadata": {},
   "outputs": [],
   "source": [
    "meth_df <- readRDS(\"../data/methylation/Methylation_files_with_counts/mean_methylation_with_counts_NAs_removed_with_binID_FILTERED.rds\")"
   ]
  },
  {
   "cell_type": "code",
   "execution_count": 3,
   "id": "a7517526-3ffe-493f-a9b7-e74269ee4eef",
   "metadata": {},
   "outputs": [
    {
     "data": {
      "text/html": [
       "<table>\n",
       "<thead><tr><th scope=col>chr</th><th scope=col>start</th><th scope=col>end</th><th scope=col>bin_number</th><th scope=col>bin_id</th><th scope=col>methylation</th><th scope=col>n_meth_values_in_bin</th><th scope=col>n_na_meth_values_in_bin</th></tr></thead>\n",
       "<tbody>\n",
       "\t<tr><td>chr1    </td><td> 750000 </td><td>1000000 </td><td>3       </td><td>chr1_3  </td><td>48.69058</td><td>11554   </td><td>0       </td></tr>\n",
       "\t<tr><td>chr1    </td><td>1000000 </td><td>1250000 </td><td>4       </td><td>chr1_4  </td><td>55.44770</td><td>20073   </td><td>0       </td></tr>\n",
       "\t<tr><td>chr1    </td><td>1250000 </td><td>1500000 </td><td>5       </td><td>chr1_5  </td><td>63.11780</td><td>18631   </td><td>0       </td></tr>\n",
       "\t<tr><td>chr1    </td><td>1750000 </td><td>2000000 </td><td>7       </td><td>chr1_7  </td><td>62.01188</td><td>13403   </td><td>0       </td></tr>\n",
       "\t<tr><td>chr1    </td><td>2000000 </td><td>2250000 </td><td>8       </td><td>chr1_8  </td><td>60.11379</td><td>16934   </td><td>0       </td></tr>\n",
       "\t<tr><td>chr1    </td><td>2250000 </td><td>2500000 </td><td>9       </td><td>chr1_9  </td><td>57.19907</td><td>16015   </td><td>0       </td></tr>\n",
       "</tbody>\n",
       "</table>\n"
      ],
      "text/latex": [
       "\\begin{tabular}{r|llllllll}\n",
       " chr & start & end & bin\\_number & bin\\_id & methylation & n\\_meth\\_values\\_in\\_bin & n\\_na\\_meth\\_values\\_in\\_bin\\\\\n",
       "\\hline\n",
       "\t chr1     &  750000  & 1000000  & 3        & chr1\\_3 & 48.69058 & 11554    & 0       \\\\\n",
       "\t chr1     & 1000000  & 1250000  & 4        & chr1\\_4 & 55.44770 & 20073    & 0       \\\\\n",
       "\t chr1     & 1250000  & 1500000  & 5        & chr1\\_5 & 63.11780 & 18631    & 0       \\\\\n",
       "\t chr1     & 1750000  & 2000000  & 7        & chr1\\_7 & 62.01188 & 13403    & 0       \\\\\n",
       "\t chr1     & 2000000  & 2250000  & 8        & chr1\\_8 & 60.11379 & 16934    & 0       \\\\\n",
       "\t chr1     & 2250000  & 2500000  & 9        & chr1\\_9 & 57.19907 & 16015    & 0       \\\\\n",
       "\\end{tabular}\n"
      ],
      "text/markdown": [
       "\n",
       "| chr | start | end | bin_number | bin_id | methylation | n_meth_values_in_bin | n_na_meth_values_in_bin |\n",
       "|---|---|---|---|---|---|---|---|\n",
       "| chr1     |  750000  | 1000000  | 3        | chr1_3   | 48.69058 | 11554    | 0        |\n",
       "| chr1     | 1000000  | 1250000  | 4        | chr1_4   | 55.44770 | 20073    | 0        |\n",
       "| chr1     | 1250000  | 1500000  | 5        | chr1_5   | 63.11780 | 18631    | 0        |\n",
       "| chr1     | 1750000  | 2000000  | 7        | chr1_7   | 62.01188 | 13403    | 0        |\n",
       "| chr1     | 2000000  | 2250000  | 8        | chr1_8   | 60.11379 | 16934    | 0        |\n",
       "| chr1     | 2250000  | 2500000  | 9        | chr1_9   | 57.19907 | 16015    | 0        |\n",
       "\n"
      ],
      "text/plain": [
       "  chr  start   end     bin_number bin_id methylation n_meth_values_in_bin\n",
       "1 chr1  750000 1000000 3          chr1_3 48.69058    11554               \n",
       "2 chr1 1000000 1250000 4          chr1_4 55.44770    20073               \n",
       "3 chr1 1250000 1500000 5          chr1_5 63.11780    18631               \n",
       "4 chr1 1750000 2000000 7          chr1_7 62.01188    13403               \n",
       "5 chr1 2000000 2250000 8          chr1_8 60.11379    16934               \n",
       "6 chr1 2250000 2500000 9          chr1_9 57.19907    16015               \n",
       "  n_na_meth_values_in_bin\n",
       "1 0                      \n",
       "2 0                      \n",
       "3 0                      \n",
       "4 0                      \n",
       "5 0                      \n",
       "6 0                      "
      ]
     },
     "metadata": {},
     "output_type": "display_data"
    }
   ],
   "source": [
    "head(meth_df)"
   ]
  },
  {
   "cell_type": "code",
   "execution_count": 4,
   "id": "6a3f5962-2503-4867-bd74-c740859f1e2d",
   "metadata": {},
   "outputs": [
    {
     "data": {
      "text/html": [
       "<ol class=list-inline>\n",
       "\t<li>10058</li>\n",
       "\t<li>8</li>\n",
       "</ol>\n"
      ],
      "text/latex": [
       "\\begin{enumerate*}\n",
       "\\item 10058\n",
       "\\item 8\n",
       "\\end{enumerate*}\n"
      ],
      "text/markdown": [
       "1. 10058\n",
       "2. 8\n",
       "\n",
       "\n"
      ],
      "text/plain": [
       "[1] 10058     8"
      ]
     },
     "metadata": {},
     "output_type": "display_data"
    }
   ],
   "source": [
    "dim(meth_df)"
   ]
  },
  {
   "cell_type": "code",
   "execution_count": 5,
   "id": "a9aa3ffe-5ceb-4b65-a697-646a0f604044",
   "metadata": {},
   "outputs": [],
   "source": [
    "meth_df <- meth_df %>% select(bin_id, methylation)"
   ]
  },
  {
   "cell_type": "code",
   "execution_count": 6,
   "id": "2facfeaa-33e6-42a9-886f-228e64b1e356",
   "metadata": {},
   "outputs": [
    {
     "data": {
      "text/html": [
       "<table>\n",
       "<thead><tr><th scope=col>bin_id</th><th scope=col>methylation</th></tr></thead>\n",
       "<tbody>\n",
       "\t<tr><td>chr1_3  </td><td>48.69058</td></tr>\n",
       "\t<tr><td>chr1_4  </td><td>55.44770</td></tr>\n",
       "\t<tr><td>chr1_5  </td><td>63.11780</td></tr>\n",
       "\t<tr><td>chr1_7  </td><td>62.01188</td></tr>\n",
       "\t<tr><td>chr1_8  </td><td>60.11379</td></tr>\n",
       "\t<tr><td>chr1_9  </td><td>57.19907</td></tr>\n",
       "</tbody>\n",
       "</table>\n"
      ],
      "text/latex": [
       "\\begin{tabular}{r|ll}\n",
       " bin\\_id & methylation\\\\\n",
       "\\hline\n",
       "\t chr1\\_3 & 48.69058\\\\\n",
       "\t chr1\\_4 & 55.44770\\\\\n",
       "\t chr1\\_5 & 63.11780\\\\\n",
       "\t chr1\\_7 & 62.01188\\\\\n",
       "\t chr1\\_8 & 60.11379\\\\\n",
       "\t chr1\\_9 & 57.19907\\\\\n",
       "\\end{tabular}\n"
      ],
      "text/markdown": [
       "\n",
       "| bin_id | methylation |\n",
       "|---|---|\n",
       "| chr1_3   | 48.69058 |\n",
       "| chr1_4   | 55.44770 |\n",
       "| chr1_5   | 63.11780 |\n",
       "| chr1_7   | 62.01188 |\n",
       "| chr1_8   | 60.11379 |\n",
       "| chr1_9   | 57.19907 |\n",
       "\n"
      ],
      "text/plain": [
       "  bin_id methylation\n",
       "1 chr1_3 48.69058   \n",
       "2 chr1_4 55.44770   \n",
       "3 chr1_5 63.11780   \n",
       "4 chr1_7 62.01188   \n",
       "5 chr1_8 60.11379   \n",
       "6 chr1_9 57.19907   "
      ]
     },
     "metadata": {},
     "output_type": "display_data"
    }
   ],
   "source": [
    "head(meth_df)"
   ]
  },
  {
   "cell_type": "code",
   "execution_count": 7,
   "id": "b46f6f2e-7d65-48f6-9cda-f0b64c9a7af7",
   "metadata": {},
   "outputs": [],
   "source": [
    "saveRDS(meth_df, file = \"../data/methylation/methylation_preprocessed_FILTERED.rds\")"
   ]
  },
  {
   "cell_type": "code",
   "execution_count": null,
   "id": "3c0b4659-f5c7-4ce1-84ca-51d9706d8e48",
   "metadata": {},
   "outputs": [],
   "source": []
  }
 ],
 "metadata": {
  "kernelspec": {
   "display_name": "R",
   "language": "R",
   "name": "ir"
  },
  "language_info": {
   "codemirror_mode": "r",
   "file_extension": ".r",
   "mimetype": "text/x-r-source",
   "name": "R",
   "pygments_lexer": "r",
   "version": "3.6.1"
  }
 },
 "nbformat": 4,
 "nbformat_minor": 5
}
