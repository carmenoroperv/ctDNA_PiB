{
 "cells": [
  {
   "cell_type": "markdown",
   "id": "b07dc4e6-3145-4e23-983e-2a336ed6bea5",
   "metadata": {},
   "source": [
    "## Discarding start and end of histograms"
   ]
  },
  {
   "cell_type": "markdown",
   "id": "cc6841d1-66bb-4713-94c4-8bc375803fda",
   "metadata": {},
   "source": [
    "__This notebook discards the starts and ends of histograms for all individuals. The input file contains the already normalized histograms. The input file is read in in chunks, histograms smoothed and then written into the output file.__"
   ]
  },
  {
   "cell_type": "code",
   "execution_count": 1,
   "id": "c10311db-55a7-4298-9aa8-8888190d3c40",
   "metadata": {},
   "outputs": [
    {
     "name": "stderr",
     "output_type": "stream",
     "text": [
      "Registered S3 methods overwritten by 'ggplot2':\n",
      "  method         from \n",
      "  [.quosures     rlang\n",
      "  c.quosures     rlang\n",
      "  print.quosures rlang\n",
      "Registered S3 method overwritten by 'rvest':\n",
      "  method            from\n",
      "  read_xml.response xml2\n",
      "── Attaching packages ─────────────────────────────────────── tidyverse 1.2.1 ──\n",
      "✔ ggplot2 3.1.1     ✔ purrr   0.3.2\n",
      "✔ tibble  3.1.4     ✔ dplyr   1.0.7\n",
      "✔ tidyr   1.1.3     ✔ stringr 1.4.0\n",
      "✔ readr   1.3.1     ✔ forcats 0.4.0\n",
      "── Conflicts ────────────────────────────────────────── tidyverse_conflicts() ──\n",
      "✖ dplyr::filter() masks stats::filter()\n",
      "✖ dplyr::lag()    masks stats::lag()\n"
     ]
    }
   ],
   "source": [
    "# packages\n",
    "\n",
    "library(tidyverse)"
   ]
  },
  {
   "cell_type": "markdown",
   "id": "2038be3d-5c4d-4744-af3c-1f8d42e9b3f8",
   "metadata": {},
   "source": [
    "### 1) Discarding start and end of histograms for the summed controls"
   ]
  },
  {
   "cell_type": "code",
   "execution_count": 2,
   "id": "40444177-4443-4766-9c3c-1a9f647628ce",
   "metadata": {},
   "outputs": [],
   "source": [
    "#inputs\n",
    "filename = \"../data/all_samples_normalized.csv\""
   ]
  },
  {
   "cell_type": "code",
   "execution_count": 3,
   "id": "1db0671c-996c-439a-8465-5143bc35197a",
   "metadata": {},
   "outputs": [
    {
     "name": "stderr",
     "output_type": "stream",
     "text": [
      "Parsed with column specification:\n",
      "cols(\n",
      "  .default = col_double(),\n",
      "  sample = col_character(),\n",
      "  bin = col_character()\n",
      ")\n",
      "See spec(...) for full column specifications.\n"
     ]
    },
    {
     "data": {
      "text/html": [
       "<table>\n",
       "<thead><tr><th scope=col>sample</th><th scope=col>bin</th><th scope=col>30</th><th scope=col>31</th><th scope=col>32</th><th scope=col>33</th><th scope=col>34</th><th scope=col>35</th><th scope=col>36</th><th scope=col>37</th><th scope=col>...</th><th scope=col>691</th><th scope=col>692</th><th scope=col>693</th><th scope=col>694</th><th scope=col>695</th><th scope=col>696</th><th scope=col>697</th><th scope=col>698</th><th scope=col>699</th><th scope=col>700</th></tr></thead>\n",
       "<tbody>\n",
       "\t<tr><td>PGDX10344P1</td><td>chr10_400  </td><td>0          </td><td>0          </td><td>0          </td><td>0          </td><td>0          </td><td>0          </td><td>0          </td><td>0          </td><td>...        </td><td>0          </td><td>0          </td><td>0          </td><td>0          </td><td>0          </td><td>0          </td><td>0          </td><td>0          </td><td>0          </td><td>0          </td></tr>\n",
       "\t<tr><td>PGDX10344P1</td><td>chr10_40   </td><td>0          </td><td>0          </td><td>0          </td><td>0          </td><td>0          </td><td>0          </td><td>0          </td><td>0          </td><td>...        </td><td>0          </td><td>0          </td><td>0          </td><td>0          </td><td>0          </td><td>0          </td><td>0          </td><td>0          </td><td>0          </td><td>0          </td></tr>\n",
       "\t<tr><td>PGDX10344P1</td><td>chr10_4    </td><td>0          </td><td>0          </td><td>0          </td><td>0          </td><td>0          </td><td>0          </td><td>0          </td><td>0          </td><td>...        </td><td>0          </td><td>0          </td><td>0          </td><td>0          </td><td>0          </td><td>0          </td><td>0          </td><td>0          </td><td>0          </td><td>0          </td></tr>\n",
       "\t<tr><td>PGDX10344P1</td><td>chr10_401  </td><td>0          </td><td>0          </td><td>0          </td><td>0          </td><td>0          </td><td>0          </td><td>0          </td><td>0          </td><td>...        </td><td>0          </td><td>0          </td><td>0          </td><td>0          </td><td>0          </td><td>0          </td><td>0          </td><td>0          </td><td>0          </td><td>0          </td></tr>\n",
       "\t<tr><td>PGDX10344P1</td><td>chr10_402  </td><td>0          </td><td>0          </td><td>0          </td><td>0          </td><td>0          </td><td>0          </td><td>0          </td><td>0          </td><td>...        </td><td>0          </td><td>0          </td><td>0          </td><td>0          </td><td>0          </td><td>0          </td><td>0          </td><td>0          </td><td>0          </td><td>0          </td></tr>\n",
       "\t<tr><td>PGDX10344P1</td><td>chr10_403  </td><td>0          </td><td>0          </td><td>0          </td><td>0          </td><td>0          </td><td>0          </td><td>0          </td><td>0          </td><td>...        </td><td>0          </td><td>0          </td><td>0          </td><td>0          </td><td>0          </td><td>0          </td><td>0          </td><td>0          </td><td>0          </td><td>0          </td></tr>\n",
       "</tbody>\n",
       "</table>\n"
      ],
      "text/latex": [
       "\\begin{tabular}{r|lllllllllllllllllllllllllllllllllllllllllllllllllllllllllllllllllllllllllllllllllllllllllllllllllllllllllllllllllllllllllllllllllllllllllllllllllllllllllllllllllllllllllllllllllllllllllllllllllllllllllllllllllllllllllllllllllllllllllllllllllllllllllllllllllllllllllllllllllllllllllllllllllllllllllllllllllllllllllllllllllllllllllllllllllllllllllllllllllllllllllllllllllllllllllllllllllllllllllllllllllllllllllllllllllllllllllllllllllllllllllllllllllllllllllllllllllllllllllllllllllllllllllllllllllllllllllllllllllllllllllllllllllllllllllllllllllllllllllllllllllllllllllllllllllllllllllllllllllllllllllllllllllllllllllllllllllllllllllllllllllllllllllllllllllllllllllllllllll}\n",
       " sample & bin & 30 & 31 & 32 & 33 & 34 & 35 & 36 & 37 & ... & 691 & 692 & 693 & 694 & 695 & 696 & 697 & 698 & 699 & 700\\\\\n",
       "\\hline\n",
       "\t PGDX10344P1 & chr10\\_400 & 0           & 0           & 0           & 0           & 0           & 0           & 0           & 0           & ...         & 0           & 0           & 0           & 0           & 0           & 0           & 0           & 0           & 0           & 0          \\\\\n",
       "\t PGDX10344P1 & chr10\\_40  & 0           & 0           & 0           & 0           & 0           & 0           & 0           & 0           & ...         & 0           & 0           & 0           & 0           & 0           & 0           & 0           & 0           & 0           & 0          \\\\\n",
       "\t PGDX10344P1 & chr10\\_4   & 0           & 0           & 0           & 0           & 0           & 0           & 0           & 0           & ...         & 0           & 0           & 0           & 0           & 0           & 0           & 0           & 0           & 0           & 0          \\\\\n",
       "\t PGDX10344P1 & chr10\\_401 & 0           & 0           & 0           & 0           & 0           & 0           & 0           & 0           & ...         & 0           & 0           & 0           & 0           & 0           & 0           & 0           & 0           & 0           & 0          \\\\\n",
       "\t PGDX10344P1 & chr10\\_402 & 0           & 0           & 0           & 0           & 0           & 0           & 0           & 0           & ...         & 0           & 0           & 0           & 0           & 0           & 0           & 0           & 0           & 0           & 0          \\\\\n",
       "\t PGDX10344P1 & chr10\\_403 & 0           & 0           & 0           & 0           & 0           & 0           & 0           & 0           & ...         & 0           & 0           & 0           & 0           & 0           & 0           & 0           & 0           & 0           & 0          \\\\\n",
       "\\end{tabular}\n"
      ],
      "text/markdown": [
       "\n",
       "| sample | bin | 30 | 31 | 32 | 33 | 34 | 35 | 36 | 37 | ... | 691 | 692 | 693 | 694 | 695 | 696 | 697 | 698 | 699 | 700 |\n",
       "|---|---|---|---|---|---|---|---|---|---|---|---|---|---|---|---|---|---|---|---|---|\n",
       "| PGDX10344P1 | chr10_400   | 0           | 0           | 0           | 0           | 0           | 0           | 0           | 0           | ...         | 0           | 0           | 0           | 0           | 0           | 0           | 0           | 0           | 0           | 0           |\n",
       "| PGDX10344P1 | chr10_40    | 0           | 0           | 0           | 0           | 0           | 0           | 0           | 0           | ...         | 0           | 0           | 0           | 0           | 0           | 0           | 0           | 0           | 0           | 0           |\n",
       "| PGDX10344P1 | chr10_4     | 0           | 0           | 0           | 0           | 0           | 0           | 0           | 0           | ...         | 0           | 0           | 0           | 0           | 0           | 0           | 0           | 0           | 0           | 0           |\n",
       "| PGDX10344P1 | chr10_401   | 0           | 0           | 0           | 0           | 0           | 0           | 0           | 0           | ...         | 0           | 0           | 0           | 0           | 0           | 0           | 0           | 0           | 0           | 0           |\n",
       "| PGDX10344P1 | chr10_402   | 0           | 0           | 0           | 0           | 0           | 0           | 0           | 0           | ...         | 0           | 0           | 0           | 0           | 0           | 0           | 0           | 0           | 0           | 0           |\n",
       "| PGDX10344P1 | chr10_403   | 0           | 0           | 0           | 0           | 0           | 0           | 0           | 0           | ...         | 0           | 0           | 0           | 0           | 0           | 0           | 0           | 0           | 0           | 0           |\n",
       "\n"
      ],
      "text/plain": [
       "  sample      bin       30 31 32 33 34 35 36 37 ... 691 692 693 694 695 696 697\n",
       "1 PGDX10344P1 chr10_400 0  0  0  0  0  0  0  0  ... 0   0   0   0   0   0   0  \n",
       "2 PGDX10344P1 chr10_40  0  0  0  0  0  0  0  0  ... 0   0   0   0   0   0   0  \n",
       "3 PGDX10344P1 chr10_4   0  0  0  0  0  0  0  0  ... 0   0   0   0   0   0   0  \n",
       "4 PGDX10344P1 chr10_401 0  0  0  0  0  0  0  0  ... 0   0   0   0   0   0   0  \n",
       "5 PGDX10344P1 chr10_402 0  0  0  0  0  0  0  0  ... 0   0   0   0   0   0   0  \n",
       "6 PGDX10344P1 chr10_403 0  0  0  0  0  0  0  0  ... 0   0   0   0   0   0   0  \n",
       "  698 699 700\n",
       "1 0   0   0  \n",
       "2 0   0   0  \n",
       "3 0   0   0  \n",
       "4 0   0   0  \n",
       "5 0   0   0  \n",
       "6 0   0   0  "
      ]
     },
     "metadata": {},
     "output_type": "display_data"
    }
   ],
   "source": [
    "small_test <- read_csv(file = filename, col_names = T, comment = \"#\", skip = 0, n_max = 10)\n",
    "head(small_test)"
   ]
  },
  {
   "cell_type": "code",
   "execution_count": 8,
   "id": "d255894f-5ab7-4fa8-be98-c325071847cd",
   "metadata": {},
   "outputs": [
    {
     "data": {
      "text/html": [
       "<table>\n",
       "<thead><tr><th scope=col>V1</th><th scope=col>V2</th><th scope=col>V3</th><th scope=col>V4</th><th scope=col>V5</th><th scope=col>V6</th><th scope=col>V7</th><th scope=col>V8</th><th scope=col>V9</th><th scope=col>V10</th><th scope=col>...</th><th scope=col>V314</th><th scope=col>V315</th><th scope=col>V316</th><th scope=col>V317</th><th scope=col>V318</th><th scope=col>V319</th><th scope=col>V320</th><th scope=col>V321</th><th scope=col>V322</th><th scope=col>V323</th></tr></thead>\n",
       "<tbody>\n",
       "\t<tr><td>sample</td><td>bin   </td><td>X80   </td><td>X81   </td><td>X82   </td><td>X83   </td><td>X84   </td><td>X85   </td><td>X86   </td><td>X87   </td><td>...   </td><td>X391  </td><td>X392  </td><td>X393  </td><td>X394  </td><td>X395  </td><td>X396  </td><td>X397  </td><td>X398  </td><td>X399  </td><td>X400  </td></tr>\n",
       "</tbody>\n",
       "</table>\n"
      ],
      "text/latex": [
       "\\begin{tabular}{r|lllllllllllllllllllllllllllllllllllllllllllllllllllllllllllllllllllllllllllllllllllllllllllllllllllllllllllllllllllllllllllllllllllllllllllllllllllllllllllllllllllllllllllllllllllllllllllllllllllllllllllllllllllllllllllllllllllllllllllllllllllllllllllllllllllllllllllllllllllllllllllllllllllllllllllllllllllllllllllllllllll}\n",
       " V1 & V2 & V3 & V4 & V5 & V6 & V7 & V8 & V9 & V10 & ... & V314 & V315 & V316 & V317 & V318 & V319 & V320 & V321 & V322 & V323\\\\\n",
       "\\hline\n",
       "\t sample & bin    & X80    & X81    & X82    & X83    & X84    & X85    & X86    & X87    & ...    & X391   & X392   & X393   & X394   & X395   & X396   & X397   & X398   & X399   & X400  \\\\\n",
       "\\end{tabular}\n"
      ],
      "text/markdown": [
       "\n",
       "| V1 | V2 | V3 | V4 | V5 | V6 | V7 | V8 | V9 | V10 | ... | V314 | V315 | V316 | V317 | V318 | V319 | V320 | V321 | V322 | V323 |\n",
       "|---|---|---|---|---|---|---|---|---|---|---|---|---|---|---|---|---|---|---|---|---|\n",
       "| sample | bin    | X80    | X81    | X82    | X83    | X84    | X85    | X86    | X87    | ...    | X391   | X392   | X393   | X394   | X395   | X396   | X397   | X398   | X399   | X400   |\n",
       "\n"
      ],
      "text/plain": [
       "  V1     V2  V3  V4  V5  V6  V7  V8  V9  V10 ... V314 V315 V316 V317 V318 V319\n",
       "1 sample bin X80 X81 X82 X83 X84 X85 X86 X87 ... X391 X392 X393 X394 X395 X396\n",
       "  V320 V321 V322 V323\n",
       "1 X397 X398 X399 X400"
      ]
     },
     "metadata": {},
     "output_type": "display_data"
    }
   ],
   "source": [
    "cols_trimmed_first_two <- colnames(small_test)[1:2]\n",
    "cols_trimmed_rest <- colnames(small_test)[53:373]\n",
    "cols_trimmed_rest <- paste(\"X\", cols_trimmed_rest, sep = \"\")\n",
    "\n",
    "cols_trimmed = as.data.frame(t(c(cols_trimmed_first_two, cols_trimmed_rest)))\n",
    "cols_trimmed"
   ]
  },
  {
   "cell_type": "code",
   "execution_count": 9,
   "id": "3aad833f-76a7-4fd2-b235-a9fe00ee6e5b",
   "metadata": {},
   "outputs": [],
   "source": [
    "write.table(NULL, file=\"../data/all_samples_normalized_trimmed.csv\", \n",
    "             append = F, \n",
    "             sep=',', \n",
    "             row.names=F, \n",
    "             col.names=F)\n",
    "\n",
    "write.table(cols_trimmed, \"../data/all_samples_normalized_trimmed.csv\", append = F, sep=',', col.names=F, row.names=F)"
   ]
  },
  {
   "cell_type": "code",
   "execution_count": 10,
   "id": "5d5f5397-72bc-45ea-bae2-5e78f1c11979",
   "metadata": {},
   "outputs": [
    {
     "name": "stderr",
     "output_type": "stream",
     "text": [
      "Parsed with column specification:\n",
      "cols(\n",
      "  .default = col_double(),\n",
      "  sample = col_character(),\n",
      "  bin = col_character()\n",
      ")\n",
      "See spec(...) for full column specifications.\n"
     ]
    }
   ],
   "source": [
    "f <- function(df1, pos) {\n",
    "    trimmed_first_two <- df1[,1:2]\n",
    "    trimmed_rest <- df1[,53:373]\n",
    "    \n",
    "    output <- cbind(trimmed_first_two, trimmed_rest)\n",
    "\n",
    "    write.table(output, \"../data/all_samples_normalized_trimmed.csv\", append = TRUE, sep=',', col.names=F, row.names=F)\n",
    "    }\n",
    "\n",
    "\n",
    "df <- read_delim_chunked(file = filename, \n",
    "                 callback = DataFrameCallback$new(f), \n",
    "                 chunk_size = 10000, col_names = T,\n",
    "                 delim = \",\", \n",
    "                 progress = show_progress())"
   ]
  },
  {
   "cell_type": "code",
   "execution_count": null,
   "id": "d400c60a-5a89-4230-b8cb-a3e281a47da6",
   "metadata": {},
   "outputs": [],
   "source": []
  }
 ],
 "metadata": {
  "kernelspec": {
   "display_name": "R",
   "language": "R",
   "name": "ir"
  },
  "language_info": {
   "codemirror_mode": "r",
   "file_extension": ".r",
   "mimetype": "text/x-r-source",
   "name": "R",
   "pygments_lexer": "r",
   "version": "3.6.1"
  }
 },
 "nbformat": 4,
 "nbformat_minor": 5
}
