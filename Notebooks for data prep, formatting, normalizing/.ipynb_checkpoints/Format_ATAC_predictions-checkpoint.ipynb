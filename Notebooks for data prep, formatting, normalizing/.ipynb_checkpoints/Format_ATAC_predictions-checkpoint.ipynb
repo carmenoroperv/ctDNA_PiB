{
 "cells": [
  {
   "cell_type": "markdown",
   "id": "e7d7d882-671e-4f93-a644-d069d6270f2a",
   "metadata": {},
   "source": [
    "# Format ATAC predictions into wider format"
   ]
  },
  {
   "cell_type": "code",
   "execution_count": 1,
   "id": "43eacc69-7ad5-492d-9f48-ab4d498102da",
   "metadata": {},
   "outputs": [
    {
     "name": "stderr",
     "output_type": "stream",
     "text": [
      "Registered S3 method overwritten by 'rvest':\n",
      "  method            from\n",
      "  read_xml.response xml2\n",
      "── Attaching packages ─────────────────────────────────────────────────────────────────────────────── tidyverse 1.2.1 ──\n",
      "✔ ggplot2 3.3.5     ✔ purrr   0.3.4\n",
      "✔ tibble  3.1.4     ✔ dplyr   1.0.7\n",
      "✔ tidyr   1.1.3     ✔ stringr 1.4.0\n",
      "✔ readr   1.3.1     ✔ forcats 0.4.0\n",
      "── Conflicts ────────────────────────────────────────────────────────────────────────────────── tidyverse_conflicts() ──\n",
      "✖ dplyr::filter() masks stats::filter()\n",
      "✖ dplyr::lag()    masks stats::lag()\n"
     ]
    }
   ],
   "source": [
    "library(tidyverse)"
   ]
  },
  {
   "cell_type": "code",
   "execution_count": 2,
   "id": "af18de5e-72c4-4510-bbb1-0ce86237684b",
   "metadata": {},
   "outputs": [],
   "source": [
    "# inputs and outputs\n",
    "input_file = \"../data/ATAC_predictions_on_all_samples/ATAC_pred_random_forest.csv\"\n",
    "output_file = \"../data/ATAC_predictions_on_all_samples/ATAC_pred_random_forest_formatted.csv\""
   ]
  },
  {
   "cell_type": "code",
   "execution_count": 3,
   "id": "dbbbca59-3197-41ea-ad08-bffff5af9f3a",
   "metadata": {},
   "outputs": [],
   "source": [
    "pred_ATAC = read.csv(input_file)"
   ]
  },
  {
   "cell_type": "code",
   "execution_count": 4,
   "id": "369a0676-469a-4753-a710-1608682af0c7",
   "metadata": {},
   "outputs": [
    {
     "data": {
      "text/html": [
       "<table>\n",
       "<thead><tr><th scope=col>sample</th><th scope=col>bin</th><th scope=col>ATAC_prediction</th></tr></thead>\n",
       "<tbody>\n",
       "\t<tr><td>PGDX10344P1</td><td>chr10_400  </td><td>0.3883758  </td></tr>\n",
       "\t<tr><td>PGDX10344P1</td><td>chr10_40   </td><td>0.3843248  </td></tr>\n",
       "\t<tr><td>PGDX10344P1</td><td>chr10_4    </td><td>0.3977866  </td></tr>\n",
       "\t<tr><td>PGDX10344P1</td><td>chr10_401  </td><td>0.3697629  </td></tr>\n",
       "\t<tr><td>PGDX10344P1</td><td>chr10_402  </td><td>0.4081540  </td></tr>\n",
       "\t<tr><td>PGDX10344P1</td><td>chr10_403  </td><td>0.3953066  </td></tr>\n",
       "</tbody>\n",
       "</table>\n"
      ],
      "text/latex": [
       "\\begin{tabular}{r|lll}\n",
       " sample & bin & ATAC\\_prediction\\\\\n",
       "\\hline\n",
       "\t PGDX10344P1 & chr10\\_400 & 0.3883758  \\\\\n",
       "\t PGDX10344P1 & chr10\\_40  & 0.3843248  \\\\\n",
       "\t PGDX10344P1 & chr10\\_4   & 0.3977866  \\\\\n",
       "\t PGDX10344P1 & chr10\\_401 & 0.3697629  \\\\\n",
       "\t PGDX10344P1 & chr10\\_402 & 0.4081540  \\\\\n",
       "\t PGDX10344P1 & chr10\\_403 & 0.3953066  \\\\\n",
       "\\end{tabular}\n"
      ],
      "text/markdown": [
       "\n",
       "| sample | bin | ATAC_prediction |\n",
       "|---|---|---|\n",
       "| PGDX10344P1 | chr10_400   | 0.3883758   |\n",
       "| PGDX10344P1 | chr10_40    | 0.3843248   |\n",
       "| PGDX10344P1 | chr10_4     | 0.3977866   |\n",
       "| PGDX10344P1 | chr10_401   | 0.3697629   |\n",
       "| PGDX10344P1 | chr10_402   | 0.4081540   |\n",
       "| PGDX10344P1 | chr10_403   | 0.3953066   |\n",
       "\n"
      ],
      "text/plain": [
       "  sample      bin       ATAC_prediction\n",
       "1 PGDX10344P1 chr10_400 0.3883758      \n",
       "2 PGDX10344P1 chr10_40  0.3843248      \n",
       "3 PGDX10344P1 chr10_4   0.3977866      \n",
       "4 PGDX10344P1 chr10_401 0.3697629      \n",
       "5 PGDX10344P1 chr10_402 0.4081540      \n",
       "6 PGDX10344P1 chr10_403 0.3953066      "
      ]
     },
     "metadata": {},
     "output_type": "display_data"
    }
   ],
   "source": [
    "head(pred_ATAC)"
   ]
  },
  {
   "cell_type": "code",
   "execution_count": 5,
   "id": "b4c009cb-ed69-4603-a4e9-b8e1e40ef04f",
   "metadata": {
    "tags": []
   },
   "outputs": [
    {
     "name": "stderr",
     "output_type": "stream",
     "text": [
      "ERROR while rich displaying an object: Error in sprintf(wrap, header, body): 'fmt' length exceeds maximal format length 8192\n",
      "\n",
      "Traceback:\n",
      "1. FUN(X[[i]], ...)\n",
      "2. tryCatch(withCallingHandlers({\n",
      " .     if (!mime %in% names(repr::mime2repr)) \n",
      " .         stop(\"No repr_* for mimetype \", mime, \" in repr::mime2repr\")\n",
      " .     rpr <- repr::mime2repr[[mime]](obj)\n",
      " .     if (is.null(rpr)) \n",
      " .         return(NULL)\n",
      " .     prepare_content(is.raw(rpr), rpr)\n",
      " . }, error = error_handler), error = outer_handler)\n",
      "3. tryCatchList(expr, classes, parentenv, handlers)\n",
      "4. tryCatchOne(expr, names, parentenv, handlers[[1L]])\n",
      "5. doTryCatch(return(expr), name, parentenv, handler)\n",
      "6. withCallingHandlers({\n",
      " .     if (!mime %in% names(repr::mime2repr)) \n",
      " .         stop(\"No repr_* for mimetype \", mime, \" in repr::mime2repr\")\n",
      " .     rpr <- repr::mime2repr[[mime]](obj)\n",
      " .     if (is.null(rpr)) \n",
      " .         return(NULL)\n",
      " .     prepare_content(is.raw(rpr), rpr)\n",
      " . }, error = error_handler)\n",
      "7. repr::mime2repr[[mime]](obj)\n",
      "8. repr_latex.data.frame(obj)\n",
      "9. repr_matrix_generic(obj, sprintf(\"\\\\begin{tabular}{%s}\\n%%s%%s\\\\end{tabular}\\n\", \n",
      " .     cols), \"%s\\\\\\\\\\n\\\\hline\\n\", \"  &\", \" %s &\", \"%s\", \"\\t%s\\\\\\\\\\n\", \n",
      " .     \"%s &\", \" %s &\", escape_fun = latex_escape_vec, ...)\n",
      "10. sprintf(wrap, header, body)\n"
     ]
    },
    {
     "data": {
      "text/html": [
       "<table>\n",
       "<thead><tr><th scope=col>sample</th><th scope=col>chr10_400</th><th scope=col>chr10_40</th><th scope=col>chr10_4</th><th scope=col>chr10_401</th><th scope=col>chr10_402</th><th scope=col>chr10_403</th><th scope=col>chr10_404</th><th scope=col>chr10_405</th><th scope=col>chr10_406</th><th scope=col>...</th><th scope=col>chr9_39</th><th scope=col>chr9_391</th><th scope=col>chr9_392</th><th scope=col>chr9_393</th><th scope=col>chr9_394</th><th scope=col>chr9_395</th><th scope=col>chr9_396</th><th scope=col>chr9_397</th><th scope=col>chr9_398</th><th scope=col>chr9_399</th></tr></thead>\n",
       "<tbody>\n",
       "\t<tr><td>PGDX10344P1</td><td>0.3883758  </td><td>0.3843248  </td><td>0.3977866  </td><td>0.3697629  </td><td>0.4081540  </td><td>0.3953066  </td><td>0.4457056  </td><td>0.4167098  </td><td>0.4115153  </td><td>...        </td><td>0.3812284  </td><td>0.3948858  </td><td>0.3628562  </td><td>0.3707410  </td><td>0.3775750  </td><td>0.3947800  </td><td>0.4572481  </td><td>0.3534653  </td><td>0.4270313  </td><td>0.3744804  </td></tr>\n",
       "\t<tr><td>PGDX10346P1</td><td>0.4346115  </td><td>0.3782809  </td><td>0.4649704  </td><td>0.3817025  </td><td>0.3592152  </td><td>0.3705625  </td><td>0.4053213  </td><td>0.3939915  </td><td>0.4095885  </td><td>...        </td><td>0.3703051  </td><td>0.3977812  </td><td>0.3689136  </td><td>0.4194060  </td><td>0.3991264  </td><td>0.4243625  </td><td>0.3946968  </td><td>0.4142043  </td><td>0.3876142  </td><td>0.3793279  </td></tr>\n",
       "\t<tr><td>PGDX10349P1</td><td>0.4295638  </td><td>0.3774432  </td><td>0.4480150  </td><td>0.3578145  </td><td>0.3999786  </td><td>0.3883968  </td><td>0.3913336  </td><td>0.4274321  </td><td>0.4937644  </td><td>...        </td><td>0.3856914  </td><td>0.5010500  </td><td>0.4395882  </td><td>0.4412689  </td><td>0.4324786  </td><td>0.4223528  </td><td>0.4805078  </td><td>0.4429683  </td><td>0.4289354  </td><td>0.4245526  </td></tr>\n",
       "\t<tr><td>PGDX10351P1</td><td>0.4417902  </td><td>0.3428081  </td><td>0.3829423  </td><td>0.3383605  </td><td>0.3288270  </td><td>0.3489355  </td><td>0.3847480  </td><td>0.3737851  </td><td>0.4051339  </td><td>...        </td><td>0.3682787  </td><td>0.3613192  </td><td>0.4270310  </td><td>0.3596711  </td><td>0.4110839  </td><td>0.3566643  </td><td>0.3838984  </td><td>0.3532726  </td><td>0.3798948  </td><td>0.3278912  </td></tr>\n",
       "\t<tr><td>PGDX10566P </td><td>0.4021024  </td><td>0.3563863  </td><td>0.4308722  </td><td>0.3655920  </td><td>0.3798644  </td><td>0.3880365  </td><td>0.4050515  </td><td>0.4293173  </td><td>0.3928115  </td><td>...        </td><td>0.3856342  </td><td>0.4077481  </td><td>0.4269527  </td><td>0.3745052  </td><td>0.4457063  </td><td>0.4384843  </td><td>0.3956325  </td><td>0.4220462  </td><td>0.4281388  </td><td>0.3838658  </td></tr>\n",
       "\t<tr><td>PGDX10567P </td><td>0.4455503  </td><td>0.3833871  </td><td>0.3987833  </td><td>0.4042043  </td><td>0.3797833  </td><td>0.3579904  </td><td>0.3832966  </td><td>0.3995835  </td><td>0.4209378  </td><td>...        </td><td>0.3506943  </td><td>0.4044090  </td><td>0.3929927  </td><td>0.3841309  </td><td>0.3876965  </td><td>0.3925403  </td><td>0.4193331  </td><td>0.3967750  </td><td>0.3937814  </td><td>0.3937181  </td></tr>\n",
       "</tbody>\n",
       "</table>\n"
      ],
      "text/markdown": [
       "\n",
       "| sample | chr10_400 | chr10_40 | chr10_4 | chr10_401 | chr10_402 | chr10_403 | chr10_404 | chr10_405 | chr10_406 | ... | chr9_39 | chr9_391 | chr9_392 | chr9_393 | chr9_394 | chr9_395 | chr9_396 | chr9_397 | chr9_398 | chr9_399 |\n",
       "|---|---|---|---|---|---|---|---|---|---|---|---|---|---|---|---|---|---|---|---|---|\n",
       "| PGDX10344P1 | 0.3883758   | 0.3843248   | 0.3977866   | 0.3697629   | 0.4081540   | 0.3953066   | 0.4457056   | 0.4167098   | 0.4115153   | ...         | 0.3812284   | 0.3948858   | 0.3628562   | 0.3707410   | 0.3775750   | 0.3947800   | 0.4572481   | 0.3534653   | 0.4270313   | 0.3744804   |\n",
       "| PGDX10346P1 | 0.4346115   | 0.3782809   | 0.4649704   | 0.3817025   | 0.3592152   | 0.3705625   | 0.4053213   | 0.3939915   | 0.4095885   | ...         | 0.3703051   | 0.3977812   | 0.3689136   | 0.4194060   | 0.3991264   | 0.4243625   | 0.3946968   | 0.4142043   | 0.3876142   | 0.3793279   |\n",
       "| PGDX10349P1 | 0.4295638   | 0.3774432   | 0.4480150   | 0.3578145   | 0.3999786   | 0.3883968   | 0.3913336   | 0.4274321   | 0.4937644   | ...         | 0.3856914   | 0.5010500   | 0.4395882   | 0.4412689   | 0.4324786   | 0.4223528   | 0.4805078   | 0.4429683   | 0.4289354   | 0.4245526   |\n",
       "| PGDX10351P1 | 0.4417902   | 0.3428081   | 0.3829423   | 0.3383605   | 0.3288270   | 0.3489355   | 0.3847480   | 0.3737851   | 0.4051339   | ...         | 0.3682787   | 0.3613192   | 0.4270310   | 0.3596711   | 0.4110839   | 0.3566643   | 0.3838984   | 0.3532726   | 0.3798948   | 0.3278912   |\n",
       "| PGDX10566P  | 0.4021024   | 0.3563863   | 0.4308722   | 0.3655920   | 0.3798644   | 0.3880365   | 0.4050515   | 0.4293173   | 0.3928115   | ...         | 0.3856342   | 0.4077481   | 0.4269527   | 0.3745052   | 0.4457063   | 0.4384843   | 0.3956325   | 0.4220462   | 0.4281388   | 0.3838658   |\n",
       "| PGDX10567P  | 0.4455503   | 0.3833871   | 0.3987833   | 0.4042043   | 0.3797833   | 0.3579904   | 0.3832966   | 0.3995835   | 0.4209378   | ...         | 0.3506943   | 0.4044090   | 0.3929927   | 0.3841309   | 0.3876965   | 0.3925403   | 0.4193331   | 0.3967750   | 0.3937814   | 0.3937181   |\n",
       "\n"
      ],
      "text/plain": [
       "  sample      chr10_400 chr10_40  chr10_4   chr10_401 chr10_402 chr10_403\n",
       "1 PGDX10344P1 0.3883758 0.3843248 0.3977866 0.3697629 0.4081540 0.3953066\n",
       "2 PGDX10346P1 0.4346115 0.3782809 0.4649704 0.3817025 0.3592152 0.3705625\n",
       "3 PGDX10349P1 0.4295638 0.3774432 0.4480150 0.3578145 0.3999786 0.3883968\n",
       "4 PGDX10351P1 0.4417902 0.3428081 0.3829423 0.3383605 0.3288270 0.3489355\n",
       "5 PGDX10566P  0.4021024 0.3563863 0.4308722 0.3655920 0.3798644 0.3880365\n",
       "6 PGDX10567P  0.4455503 0.3833871 0.3987833 0.4042043 0.3797833 0.3579904\n",
       "  chr10_404 chr10_405 chr10_406 ... chr9_39   chr9_391  chr9_392  chr9_393 \n",
       "1 0.4457056 0.4167098 0.4115153 ... 0.3812284 0.3948858 0.3628562 0.3707410\n",
       "2 0.4053213 0.3939915 0.4095885 ... 0.3703051 0.3977812 0.3689136 0.4194060\n",
       "3 0.3913336 0.4274321 0.4937644 ... 0.3856914 0.5010500 0.4395882 0.4412689\n",
       "4 0.3847480 0.3737851 0.4051339 ... 0.3682787 0.3613192 0.4270310 0.3596711\n",
       "5 0.4050515 0.4293173 0.3928115 ... 0.3856342 0.4077481 0.4269527 0.3745052\n",
       "6 0.3832966 0.3995835 0.4209378 ... 0.3506943 0.4044090 0.3929927 0.3841309\n",
       "  chr9_394  chr9_395  chr9_396  chr9_397  chr9_398  chr9_399 \n",
       "1 0.3775750 0.3947800 0.4572481 0.3534653 0.4270313 0.3744804\n",
       "2 0.3991264 0.4243625 0.3946968 0.4142043 0.3876142 0.3793279\n",
       "3 0.4324786 0.4223528 0.4805078 0.4429683 0.4289354 0.4245526\n",
       "4 0.4110839 0.3566643 0.3838984 0.3532726 0.3798948 0.3278912\n",
       "5 0.4457063 0.4384843 0.3956325 0.4220462 0.4281388 0.3838658\n",
       "6 0.3876965 0.3925403 0.4193331 0.3967750 0.3937814 0.3937181"
      ]
     },
     "metadata": {},
     "output_type": "display_data"
    }
   ],
   "source": [
    "pred_ATAC_wide <- pred_ATAC %>% pivot_wider(names_from = bin, values_from = ATAC_prediction)\n",
    "head(pred_ATAC_wide)"
   ]
  },
  {
   "cell_type": "code",
   "execution_count": 6,
   "id": "a0572626-d4d3-45e8-8777-a6f1e370d516",
   "metadata": {},
   "outputs": [
    {
     "data": {
      "text/html": [
       "<ol class=list-inline>\n",
       "\t<li>473</li>\n",
       "\t<li>10304</li>\n",
       "</ol>\n"
      ],
      "text/latex": [
       "\\begin{enumerate*}\n",
       "\\item 473\n",
       "\\item 10304\n",
       "\\end{enumerate*}\n"
      ],
      "text/markdown": [
       "1. 473\n",
       "2. 10304\n",
       "\n",
       "\n"
      ],
      "text/plain": [
       "[1]   473 10304"
      ]
     },
     "metadata": {},
     "output_type": "display_data"
    }
   ],
   "source": [
    "dim(pred_ATAC_wide)"
   ]
  },
  {
   "cell_type": "code",
   "execution_count": 7,
   "id": "e9d8ee4d-b062-4fd7-8bc5-09efa00f2bff",
   "metadata": {},
   "outputs": [],
   "source": [
    "write.csv(pred_ATAC_wide, output_file,  row.names = FALSE)"
   ]
  },
  {
   "cell_type": "code",
   "execution_count": null,
   "id": "bd3a25e9-3654-4454-8595-4d617d9e6ab2",
   "metadata": {},
   "outputs": [],
   "source": []
  }
 ],
 "metadata": {
  "kernelspec": {
   "display_name": "R",
   "language": "R",
   "name": "ir"
  },
  "language_info": {
   "codemirror_mode": "r",
   "file_extension": ".r",
   "mimetype": "text/x-r-source",
   "name": "R",
   "pygments_lexer": "r",
   "version": "3.6.1"
  }
 },
 "nbformat": 4,
 "nbformat_minor": 5
}
