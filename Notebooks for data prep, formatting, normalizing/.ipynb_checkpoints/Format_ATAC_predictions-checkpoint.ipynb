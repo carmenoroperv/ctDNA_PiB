{
 "cells": [
  {
   "cell_type": "markdown",
   "id": "e7d7d882-671e-4f93-a644-d069d6270f2a",
   "metadata": {},
   "source": [
    "# Format ATAC predictions into wider format"
   ]
  },
  {
   "cell_type": "code",
   "execution_count": 10,
   "id": "43eacc69-7ad5-492d-9f48-ab4d498102da",
   "metadata": {},
   "outputs": [],
   "source": [
    "library(tidyverse)"
   ]
  },
  {
   "cell_type": "code",
   "execution_count": 11,
   "id": "af18de5e-72c4-4510-bbb1-0ce86237684b",
   "metadata": {},
   "outputs": [],
   "source": [
    "# inputs and outputs\n",
    "#input_file = \"../data/ATAC_predictions_on_all_samples_NEW/ATAC_pred_lasso_std_TRUE_gaussian.csv\"\n",
    "#output_file = \"../data/ATAC_predictions_on_all_samples_NEW/ATAC_pred_lasso_std_TRUE_gaussian_formatted.csv\"\n",
    "\n",
    "input_file = \"../data/all_samples_train_ATAC_predictions_on_all_samples/all_samples_ATAC_pred_lasso_std_TRUE_gaussian.csv\"\n",
    "output_file = \"../data/all_samples_train_ATAC_predictions_on_all_samples/all_samples_ATAC_pred_lasso_std_TRUE_gaussian_formatted.csv\""
   ]
  },
  {
   "cell_type": "code",
   "execution_count": 12,
   "id": "dbbbca59-3197-41ea-ad08-bffff5af9f3a",
   "metadata": {},
   "outputs": [
    {
     "data": {
      "text/html": [
       "<ol class=list-inline>\n",
       "\t<li>4873319</li>\n",
       "\t<li>3</li>\n",
       "</ol>\n"
      ],
      "text/latex": [
       "\\begin{enumerate*}\n",
       "\\item 4873319\n",
       "\\item 3\n",
       "\\end{enumerate*}\n"
      ],
      "text/markdown": [
       "1. 4873319\n",
       "2. 3\n",
       "\n",
       "\n"
      ],
      "text/plain": [
       "[1] 4873319       3"
      ]
     },
     "metadata": {},
     "output_type": "display_data"
    },
    {
     "data": {
      "text/html": [
       "<ol class=list-inline>\n",
       "\t<li>4873319</li>\n",
       "\t<li>4</li>\n",
       "</ol>\n"
      ],
      "text/latex": [
       "\\begin{enumerate*}\n",
       "\\item 4873319\n",
       "\\item 4\n",
       "\\end{enumerate*}\n"
      ],
      "text/markdown": [
       "1. 4873319\n",
       "2. 4\n",
       "\n",
       "\n"
      ],
      "text/plain": [
       "[1] 4873319       4"
      ]
     },
     "metadata": {},
     "output_type": "display_data"
    }
   ],
   "source": [
    "\n",
    "pred_ATAC = read.csv( \"../data/ATAC_predictions_on_all_samples/ATAC_pred_lasso_std_FALSE.csv\")\n",
    "dim(pred_ATAC)\n",
    "\n",
    "pred_ATAC = read.csv(input_file)\n",
    "dim(pred_ATAC)"
   ]
  },
  {
   "cell_type": "code",
   "execution_count": 13,
   "id": "369a0676-469a-4753-a710-1608682af0c7",
   "metadata": {},
   "outputs": [
    {
     "data": {
      "text/html": [
       "<table>\n",
       "<thead><tr><th scope=col>sample</th><th scope=col>bin</th><th scope=col>ATAC_observed</th><th scope=col>ATAC_predicted</th></tr></thead>\n",
       "<tbody>\n",
       "\t<tr><td>PGDX16568P</td><td>chr10_400 </td><td>0.5866651 </td><td>0.4406777 </td></tr>\n",
       "\t<tr><td>PGDX16568P</td><td>chr10_40  </td><td>0.1996134 </td><td>0.3505540 </td></tr>\n",
       "\t<tr><td>PGDX16568P</td><td>chr10_4   </td><td>0.5968816 </td><td>0.4436043 </td></tr>\n",
       "\t<tr><td>PGDX16568P</td><td>chr10_401 </td><td>0.2905764 </td><td>0.3507151 </td></tr>\n",
       "\t<tr><td>PGDX16568P</td><td>chr10_402 </td><td>0.2319729 </td><td>0.3723988 </td></tr>\n",
       "\t<tr><td>PGDX16568P</td><td>chr10_403 </td><td>0.2262170 </td><td>0.3697593 </td></tr>\n",
       "</tbody>\n",
       "</table>\n"
      ],
      "text/latex": [
       "\\begin{tabular}{r|llll}\n",
       " sample & bin & ATAC\\_observed & ATAC\\_predicted\\\\\n",
       "\\hline\n",
       "\t PGDX16568P  & chr10\\_400 & 0.5866651   & 0.4406777  \\\\\n",
       "\t PGDX16568P  & chr10\\_40  & 0.1996134   & 0.3505540  \\\\\n",
       "\t PGDX16568P  & chr10\\_4   & 0.5968816   & 0.4436043  \\\\\n",
       "\t PGDX16568P  & chr10\\_401 & 0.2905764   & 0.3507151  \\\\\n",
       "\t PGDX16568P  & chr10\\_402 & 0.2319729   & 0.3723988  \\\\\n",
       "\t PGDX16568P  & chr10\\_403 & 0.2262170   & 0.3697593  \\\\\n",
       "\\end{tabular}\n"
      ],
      "text/markdown": [
       "\n",
       "| sample | bin | ATAC_observed | ATAC_predicted |\n",
       "|---|---|---|---|\n",
       "| PGDX16568P | chr10_400  | 0.5866651  | 0.4406777  |\n",
       "| PGDX16568P | chr10_40   | 0.1996134  | 0.3505540  |\n",
       "| PGDX16568P | chr10_4    | 0.5968816  | 0.4436043  |\n",
       "| PGDX16568P | chr10_401  | 0.2905764  | 0.3507151  |\n",
       "| PGDX16568P | chr10_402  | 0.2319729  | 0.3723988  |\n",
       "| PGDX16568P | chr10_403  | 0.2262170  | 0.3697593  |\n",
       "\n"
      ],
      "text/plain": [
       "  sample     bin       ATAC_observed ATAC_predicted\n",
       "1 PGDX16568P chr10_400 0.5866651     0.4406777     \n",
       "2 PGDX16568P chr10_40  0.1996134     0.3505540     \n",
       "3 PGDX16568P chr10_4   0.5968816     0.4436043     \n",
       "4 PGDX16568P chr10_401 0.2905764     0.3507151     \n",
       "5 PGDX16568P chr10_402 0.2319729     0.3723988     \n",
       "6 PGDX16568P chr10_403 0.2262170     0.3697593     "
      ]
     },
     "metadata": {},
     "output_type": "display_data"
    }
   ],
   "source": [
    "head(pred_ATAC)"
   ]
  },
  {
   "cell_type": "code",
   "execution_count": 14,
   "id": "74a4061e-8581-435f-b151-eb20325a5f74",
   "metadata": {},
   "outputs": [
    {
     "name": "stdout",
     "output_type": "stream",
     "text": [
      "'data.frame':\t4873319 obs. of  4 variables:\n",
      " $ sample        : Factor w/ 473 levels \"PGDX10344P1\",..: 46 46 46 46 46 46 46 46 46 46 ...\n",
      " $ bin           : Factor w/ 10303 levels \"chr1_100\",\"chr1_101\",..: 1146 1145 1144 1147 1148 1149 1150 1151 1152 1153 ...\n",
      " $ ATAC_observed : num  0.587 0.2 0.597 0.291 0.232 ...\n",
      " $ ATAC_predicted: num  0.441 0.351 0.444 0.351 0.372 ...\n"
     ]
    }
   ],
   "source": [
    "str(pred_ATAC)"
   ]
  },
  {
   "cell_type": "code",
   "execution_count": 15,
   "id": "62f2964a-1df0-4514-ba57-da5c3241fbb3",
   "metadata": {},
   "outputs": [
    {
     "name": "stdout",
     "output_type": "stream",
     "text": [
      "'data.frame':\t4873319 obs. of  3 variables:\n",
      " $ sample        : chr  \"PGDX16568P\" \"PGDX16568P\" \"PGDX16568P\" \"PGDX16568P\" ...\n",
      " $ bin           : chr  \"chr10_400\" \"chr10_40\" \"chr10_4\" \"chr10_401\" ...\n",
      " $ ATAC_predicted: num  0.441 0.351 0.444 0.351 0.372 ...\n"
     ]
    }
   ],
   "source": [
    "pred_ATAC$sample <- as.character(pred_ATAC$sample)\n",
    "pred_ATAC$bin <- as.character(pred_ATAC$bin)\n",
    "pred_ATAC <- pred_ATAC %>% select(-ATAC_observed)\n",
    "\n",
    "str(pred_ATAC)"
   ]
  },
  {
   "cell_type": "code",
   "execution_count": 16,
   "id": "b4c009cb-ed69-4603-a4e9-b8e1e40ef04f",
   "metadata": {
    "tags": []
   },
   "outputs": [
    {
     "name": "stderr",
     "output_type": "stream",
     "text": [
      "ERROR while rich displaying an object: Error in sprintf(wrap, header, body): 'fmt' length exceeds maximal format length 8192\n",
      "\n",
      "Traceback:\n",
      "1. FUN(X[[i]], ...)\n",
      "2. tryCatch(withCallingHandlers({\n",
      " .     if (!mime %in% names(repr::mime2repr)) \n",
      " .         stop(\"No repr_* for mimetype \", mime, \" in repr::mime2repr\")\n",
      " .     rpr <- repr::mime2repr[[mime]](obj)\n",
      " .     if (is.null(rpr)) \n",
      " .         return(NULL)\n",
      " .     prepare_content(is.raw(rpr), rpr)\n",
      " . }, error = error_handler), error = outer_handler)\n",
      "3. tryCatchList(expr, classes, parentenv, handlers)\n",
      "4. tryCatchOne(expr, names, parentenv, handlers[[1L]])\n",
      "5. doTryCatch(return(expr), name, parentenv, handler)\n",
      "6. withCallingHandlers({\n",
      " .     if (!mime %in% names(repr::mime2repr)) \n",
      " .         stop(\"No repr_* for mimetype \", mime, \" in repr::mime2repr\")\n",
      " .     rpr <- repr::mime2repr[[mime]](obj)\n",
      " .     if (is.null(rpr)) \n",
      " .         return(NULL)\n",
      " .     prepare_content(is.raw(rpr), rpr)\n",
      " . }, error = error_handler)\n",
      "7. repr::mime2repr[[mime]](obj)\n",
      "8. repr_latex.data.frame(obj)\n",
      "9. repr_matrix_generic(obj, sprintf(\"\\\\begin{tabular}{%s}\\n%%s%%s\\\\end{tabular}\\n\", \n",
      " .     cols), \"%s\\\\\\\\\\n\\\\hline\\n\", \"  &\", \" %s &\", \"%s\", \"\\t%s\\\\\\\\\\n\", \n",
      " .     \"%s &\", \" %s &\", escape_fun = latex_escape_vec, ...)\n",
      "10. sprintf(wrap, header, body)\n"
     ]
    },
    {
     "data": {
      "text/html": [
       "<table>\n",
       "<thead><tr><th scope=col>sample</th><th scope=col>chr10_400</th><th scope=col>chr10_40</th><th scope=col>chr10_4</th><th scope=col>chr10_401</th><th scope=col>chr10_402</th><th scope=col>chr10_403</th><th scope=col>chr10_404</th><th scope=col>chr10_405</th><th scope=col>chr10_406</th><th scope=col>...</th><th scope=col>chr9_39</th><th scope=col>chr9_391</th><th scope=col>chr9_392</th><th scope=col>chr9_393</th><th scope=col>chr9_394</th><th scope=col>chr9_395</th><th scope=col>chr9_396</th><th scope=col>chr9_397</th><th scope=col>chr9_398</th><th scope=col>chr9_399</th></tr></thead>\n",
       "<tbody>\n",
       "\t<tr><td>PGDX16568P</td><td>0.4406777 </td><td>0.3505540 </td><td>0.4436043 </td><td>0.3507151 </td><td>0.3723988 </td><td>0.3697593 </td><td>0.4091363 </td><td>0.4456799 </td><td>0.4539824 </td><td>...       </td><td>0.3832311 </td><td>0.4303520 </td><td>0.3838034 </td><td>0.3597662 </td><td>0.4223747 </td><td>0.3997970 </td><td>0.4618066 </td><td>0.4586016 </td><td>0.4545824 </td><td>0.3335946 </td></tr>\n",
       "\t<tr><td>PGDX16569P</td><td>0.4630586 </td><td>0.3759826 </td><td>0.4686111 </td><td>0.3587864 </td><td>0.3675210 </td><td>0.3894216 </td><td>0.4117778 </td><td>0.4698015 </td><td>0.4582070 </td><td>...       </td><td>0.3701868 </td><td>0.4528981 </td><td>0.4110814 </td><td>0.4005176 </td><td>0.4315430 </td><td>0.4163725 </td><td>0.4623784 </td><td>0.4583900 </td><td>0.5453319 </td><td>0.4099267 </td></tr>\n",
       "\t<tr><td>PGDX16570P</td><td>0.4539355 </td><td>0.3591857 </td><td>0.4981551 </td><td>0.3644989 </td><td>0.4109592 </td><td>0.3799449 </td><td>0.4053727 </td><td>0.5088410 </td><td>0.4740764 </td><td>...       </td><td>0.3632817 </td><td>0.4279305 </td><td>0.4121837 </td><td>0.4029383 </td><td>0.3868286 </td><td>0.4355711 </td><td>0.4833550 </td><td>0.4401293 </td><td>0.5181519 </td><td>0.4107457 </td></tr>\n",
       "\t<tr><td>PGDX16571P</td><td>0.4740050 </td><td>0.3586175 </td><td>0.4676518 </td><td>0.3713064 </td><td>0.3811012 </td><td>0.3880503 </td><td>0.4081334 </td><td>0.4793933 </td><td>0.4551210 </td><td>...       </td><td>0.4253855 </td><td>0.4404182 </td><td>0.4466296 </td><td>0.4334374 </td><td>0.4343108 </td><td>0.4499211 </td><td>0.4801863 </td><td>0.4850388 </td><td>0.5155977 </td><td>0.4696379 </td></tr>\n",
       "\t<tr><td>PGDX16579P</td><td>0.4560364 </td><td>0.3401657 </td><td>0.4665287 </td><td>0.3433555 </td><td>0.3223871 </td><td>0.3550349 </td><td>0.4015451 </td><td>0.4387431 </td><td>0.4434835 </td><td>...       </td><td>0.4069710 </td><td>0.4095950 </td><td>0.4017549 </td><td>0.3705576 </td><td>0.3653943 </td><td>0.4153947 </td><td>0.5052724 </td><td>0.4959754 </td><td>0.4802994 </td><td>0.3852905 </td></tr>\n",
       "\t<tr><td>PGDX16580P</td><td>0.4647463 </td><td>0.3600901 </td><td>0.4769993 </td><td>0.3400180 </td><td>0.3705007 </td><td>0.3701729 </td><td>0.4034573 </td><td>0.4782113 </td><td>0.4492506 </td><td>...       </td><td>0.3670704 </td><td>0.4449585 </td><td>0.4401890 </td><td>0.3821471 </td><td>0.4344998 </td><td>0.4595207 </td><td>0.4864243 </td><td>0.4542431 </td><td>0.5406871 </td><td>0.3897303 </td></tr>\n",
       "</tbody>\n",
       "</table>\n"
      ],
      "text/markdown": [
       "\n",
       "| sample | chr10_400 | chr10_40 | chr10_4 | chr10_401 | chr10_402 | chr10_403 | chr10_404 | chr10_405 | chr10_406 | ... | chr9_39 | chr9_391 | chr9_392 | chr9_393 | chr9_394 | chr9_395 | chr9_396 | chr9_397 | chr9_398 | chr9_399 |\n",
       "|---|---|---|---|---|---|---|---|---|---|---|---|---|---|---|---|---|---|---|---|---|\n",
       "| PGDX16568P | 0.4406777  | 0.3505540  | 0.4436043  | 0.3507151  | 0.3723988  | 0.3697593  | 0.4091363  | 0.4456799  | 0.4539824  | ...        | 0.3832311  | 0.4303520  | 0.3838034  | 0.3597662  | 0.4223747  | 0.3997970  | 0.4618066  | 0.4586016  | 0.4545824  | 0.3335946  |\n",
       "| PGDX16569P | 0.4630586  | 0.3759826  | 0.4686111  | 0.3587864  | 0.3675210  | 0.3894216  | 0.4117778  | 0.4698015  | 0.4582070  | ...        | 0.3701868  | 0.4528981  | 0.4110814  | 0.4005176  | 0.4315430  | 0.4163725  | 0.4623784  | 0.4583900  | 0.5453319  | 0.4099267  |\n",
       "| PGDX16570P | 0.4539355  | 0.3591857  | 0.4981551  | 0.3644989  | 0.4109592  | 0.3799449  | 0.4053727  | 0.5088410  | 0.4740764  | ...        | 0.3632817  | 0.4279305  | 0.4121837  | 0.4029383  | 0.3868286  | 0.4355711  | 0.4833550  | 0.4401293  | 0.5181519  | 0.4107457  |\n",
       "| PGDX16571P | 0.4740050  | 0.3586175  | 0.4676518  | 0.3713064  | 0.3811012  | 0.3880503  | 0.4081334  | 0.4793933  | 0.4551210  | ...        | 0.4253855  | 0.4404182  | 0.4466296  | 0.4334374  | 0.4343108  | 0.4499211  | 0.4801863  | 0.4850388  | 0.5155977  | 0.4696379  |\n",
       "| PGDX16579P | 0.4560364  | 0.3401657  | 0.4665287  | 0.3433555  | 0.3223871  | 0.3550349  | 0.4015451  | 0.4387431  | 0.4434835  | ...        | 0.4069710  | 0.4095950  | 0.4017549  | 0.3705576  | 0.3653943  | 0.4153947  | 0.5052724  | 0.4959754  | 0.4802994  | 0.3852905  |\n",
       "| PGDX16580P | 0.4647463  | 0.3600901  | 0.4769993  | 0.3400180  | 0.3705007  | 0.3701729  | 0.4034573  | 0.4782113  | 0.4492506  | ...        | 0.3670704  | 0.4449585  | 0.4401890  | 0.3821471  | 0.4344998  | 0.4595207  | 0.4864243  | 0.4542431  | 0.5406871  | 0.3897303  |\n",
       "\n"
      ],
      "text/plain": [
       "  sample     chr10_400 chr10_40  chr10_4   chr10_401 chr10_402 chr10_403\n",
       "1 PGDX16568P 0.4406777 0.3505540 0.4436043 0.3507151 0.3723988 0.3697593\n",
       "2 PGDX16569P 0.4630586 0.3759826 0.4686111 0.3587864 0.3675210 0.3894216\n",
       "3 PGDX16570P 0.4539355 0.3591857 0.4981551 0.3644989 0.4109592 0.3799449\n",
       "4 PGDX16571P 0.4740050 0.3586175 0.4676518 0.3713064 0.3811012 0.3880503\n",
       "5 PGDX16579P 0.4560364 0.3401657 0.4665287 0.3433555 0.3223871 0.3550349\n",
       "6 PGDX16580P 0.4647463 0.3600901 0.4769993 0.3400180 0.3705007 0.3701729\n",
       "  chr10_404 chr10_405 chr10_406 ... chr9_39   chr9_391  chr9_392  chr9_393 \n",
       "1 0.4091363 0.4456799 0.4539824 ... 0.3832311 0.4303520 0.3838034 0.3597662\n",
       "2 0.4117778 0.4698015 0.4582070 ... 0.3701868 0.4528981 0.4110814 0.4005176\n",
       "3 0.4053727 0.5088410 0.4740764 ... 0.3632817 0.4279305 0.4121837 0.4029383\n",
       "4 0.4081334 0.4793933 0.4551210 ... 0.4253855 0.4404182 0.4466296 0.4334374\n",
       "5 0.4015451 0.4387431 0.4434835 ... 0.4069710 0.4095950 0.4017549 0.3705576\n",
       "6 0.4034573 0.4782113 0.4492506 ... 0.3670704 0.4449585 0.4401890 0.3821471\n",
       "  chr9_394  chr9_395  chr9_396  chr9_397  chr9_398  chr9_399 \n",
       "1 0.4223747 0.3997970 0.4618066 0.4586016 0.4545824 0.3335946\n",
       "2 0.4315430 0.4163725 0.4623784 0.4583900 0.5453319 0.4099267\n",
       "3 0.3868286 0.4355711 0.4833550 0.4401293 0.5181519 0.4107457\n",
       "4 0.4343108 0.4499211 0.4801863 0.4850388 0.5155977 0.4696379\n",
       "5 0.3653943 0.4153947 0.5052724 0.4959754 0.4802994 0.3852905\n",
       "6 0.4344998 0.4595207 0.4864243 0.4542431 0.5406871 0.3897303"
      ]
     },
     "metadata": {},
     "output_type": "display_data"
    }
   ],
   "source": [
    "#pred_ATAC <- pred_ATAC %>% select(-ATAC_observed)\n",
    "pred_ATAC_wide <- pred_ATAC %>% pivot_wider(names_from = bin, values_from = ATAC_predicted)\n",
    "head(pred_ATAC_wide)"
   ]
  },
  {
   "cell_type": "code",
   "execution_count": 17,
   "id": "a0572626-d4d3-45e8-8777-a6f1e370d516",
   "metadata": {},
   "outputs": [
    {
     "data": {
      "text/html": [
       "<ol class=list-inline>\n",
       "\t<li>473</li>\n",
       "\t<li>10304</li>\n",
       "</ol>\n"
      ],
      "text/latex": [
       "\\begin{enumerate*}\n",
       "\\item 473\n",
       "\\item 10304\n",
       "\\end{enumerate*}\n"
      ],
      "text/markdown": [
       "1. 473\n",
       "2. 10304\n",
       "\n",
       "\n"
      ],
      "text/plain": [
       "[1]   473 10304"
      ]
     },
     "metadata": {},
     "output_type": "display_data"
    }
   ],
   "source": [
    "dim(pred_ATAC_wide)"
   ]
  },
  {
   "cell_type": "code",
   "execution_count": 18,
   "id": "e9d8ee4d-b062-4fd7-8bc5-09efa00f2bff",
   "metadata": {},
   "outputs": [],
   "source": [
    "write.csv(pred_ATAC_wide, output_file,  row.names = FALSE)"
   ]
  },
  {
   "cell_type": "code",
   "execution_count": null,
   "id": "7f34d94f-0941-42b9-8ab4-1e095ed1721b",
   "metadata": {},
   "outputs": [],
   "source": []
  }
 ],
 "metadata": {
  "kernelspec": {
   "display_name": "R",
   "language": "R",
   "name": "ir"
  },
  "language_info": {
   "codemirror_mode": "r",
   "file_extension": ".r",
   "mimetype": "text/x-r-source",
   "name": "R",
   "pygments_lexer": "r",
   "version": "3.6.1"
  }
 },
 "nbformat": 4,
 "nbformat_minor": 5
}
