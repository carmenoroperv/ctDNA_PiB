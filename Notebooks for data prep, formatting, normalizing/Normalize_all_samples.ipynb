{
 "cells": [
  {
   "cell_type": "markdown",
   "id": "28423b4f-68fa-4f48-8f4e-fe65af7fe9b8",
   "metadata": {},
   "source": [
    "# Normalize data for all individuals"
   ]
  },
  {
   "cell_type": "code",
   "execution_count": 7,
   "id": "92ff85f2-693a-4fd4-83a3-0e36ad129c75",
   "metadata": {
    "tags": []
   },
   "outputs": [
    {
     "name": "stderr",
     "output_type": "stream",
     "text": [
      "Registered S3 methods overwritten by 'ggplot2':\n",
      "  method         from \n",
      "  [.quosures     rlang\n",
      "  c.quosures     rlang\n",
      "  print.quosures rlang\n",
      "Registered S3 method overwritten by 'rvest':\n",
      "  method            from\n",
      "  read_xml.response xml2\n",
      "── Attaching packages ─────────────────────────────────────── tidyverse 1.2.1 ──\n",
      "✔ ggplot2 3.1.1     ✔ purrr   0.3.2\n",
      "✔ tibble  3.1.4     ✔ dplyr   1.0.7\n",
      "✔ tidyr   1.1.3     ✔ stringr 1.4.0\n",
      "✔ readr   1.3.1     ✔ forcats 0.4.0\n",
      "── Conflicts ────────────────────────────────────────── tidyverse_conflicts() ──\n",
      "✖ dplyr::filter() masks stats::filter()\n",
      "✖ dplyr::lag()    masks stats::lag()\n",
      "\n",
      "Attaching package: ‘scales’\n",
      "\n",
      "The following object is masked from ‘package:purrr’:\n",
      "\n",
      "    discard\n",
      "\n",
      "The following object is masked from ‘package:readr’:\n",
      "\n",
      "    col_factor\n",
      "\n"
     ]
    }
   ],
   "source": [
    "# packages\n",
    "\n",
    "library(tidyverse)\n",
    "library(scales)\n",
    "library(LICORS)"
   ]
  },
  {
   "cell_type": "code",
   "execution_count": 2,
   "id": "4e9be7cb-401f-4bdb-88d5-1cc331c705a4",
   "metadata": {},
   "outputs": [],
   "source": [
    "filename = \"../data/all_samples_250kb_histograms.txt\""
   ]
  },
  {
   "cell_type": "code",
   "execution_count": 3,
   "id": "467f57d0-af6a-4c0d-8e67-a4acdf640062",
   "metadata": {},
   "outputs": [],
   "source": [
    "write.table(NULL, file=\"../data/all_samples_normalized.csv\", \n",
    "             append = F, \n",
    "             sep=',', \n",
    "             row.names=F, \n",
    "             col.names=F)"
   ]
  },
  {
   "cell_type": "code",
   "execution_count": 8,
   "id": "f6f39c23-f226-4f6e-af7e-342b5233dd13",
   "metadata": {
    "tags": []
   },
   "outputs": [
    {
     "name": "stderr",
     "output_type": "stream",
     "text": [
      "Parsed with column specification:\n",
      "cols(\n",
      "  .default = col_double(),\n",
      "  sample = col_character(),\n",
      "  bin = col_character()\n",
      ")\n",
      "See spec(...) for full column specifications.\n"
     ]
    },
    {
     "data": {
      "text/html": [
       "<table>\n",
       "<thead><tr><th scope=col>sample</th><th scope=col>bin</th><th scope=col>30</th><th scope=col>31</th><th scope=col>32</th><th scope=col>33</th><th scope=col>34</th><th scope=col>35</th><th scope=col>36</th><th scope=col>37</th><th scope=col>...</th><th scope=col>691</th><th scope=col>692</th><th scope=col>693</th><th scope=col>694</th><th scope=col>695</th><th scope=col>696</th><th scope=col>697</th><th scope=col>698</th><th scope=col>699</th><th scope=col>700</th></tr></thead>\n",
       "<tbody>\n",
       "\t<tr><td>PGDX10344P1</td><td>chr10_400  </td><td>0          </td><td>0          </td><td>0          </td><td>0          </td><td>0          </td><td>0          </td><td>0          </td><td>0          </td><td>...        </td><td>0          </td><td>0          </td><td>0          </td><td>0          </td><td>0          </td><td>0          </td><td>0          </td><td>0          </td><td>0          </td><td>0          </td></tr>\n",
       "\t<tr><td>PGDX10344P1</td><td>chr10_40   </td><td>0          </td><td>0          </td><td>0          </td><td>0          </td><td>0          </td><td>0          </td><td>0          </td><td>0          </td><td>...        </td><td>0          </td><td>0          </td><td>0          </td><td>0          </td><td>0          </td><td>0          </td><td>0          </td><td>0          </td><td>0          </td><td>0          </td></tr>\n",
       "\t<tr><td>PGDX10344P1</td><td>chr10_4    </td><td>0          </td><td>0          </td><td>0          </td><td>0          </td><td>0          </td><td>0          </td><td>0          </td><td>0          </td><td>...        </td><td>0          </td><td>0          </td><td>0          </td><td>0          </td><td>0          </td><td>0          </td><td>0          </td><td>0          </td><td>0          </td><td>0          </td></tr>\n",
       "\t<tr><td>PGDX10344P1</td><td>chr10_401  </td><td>0          </td><td>0          </td><td>0          </td><td>0          </td><td>0          </td><td>0          </td><td>0          </td><td>0          </td><td>...        </td><td>0          </td><td>0          </td><td>0          </td><td>0          </td><td>0          </td><td>0          </td><td>0          </td><td>0          </td><td>0          </td><td>0          </td></tr>\n",
       "\t<tr><td>PGDX10344P1</td><td>chr10_402  </td><td>0          </td><td>0          </td><td>0          </td><td>0          </td><td>0          </td><td>0          </td><td>0          </td><td>0          </td><td>...        </td><td>0          </td><td>0          </td><td>0          </td><td>0          </td><td>0          </td><td>0          </td><td>0          </td><td>0          </td><td>0          </td><td>0          </td></tr>\n",
       "\t<tr><td>PGDX10344P1</td><td>chr10_403  </td><td>0          </td><td>0          </td><td>0          </td><td>0          </td><td>0          </td><td>0          </td><td>0          </td><td>0          </td><td>...        </td><td>0          </td><td>0          </td><td>0          </td><td>0          </td><td>0          </td><td>0          </td><td>0          </td><td>0          </td><td>0          </td><td>0          </td></tr>\n",
       "</tbody>\n",
       "</table>\n"
      ],
      "text/latex": [
       "\\begin{tabular}{r|lllllllllllllllllllllllllllllllllllllllllllllllllllllllllllllllllllllllllllllllllllllllllllllllllllllllllllllllllllllllllllllllllllllllllllllllllllllllllllllllllllllllllllllllllllllllllllllllllllllllllllllllllllllllllllllllllllllllllllllllllllllllllllllllllllllllllllllllllllllllllllllllllllllllllllllllllllllllllllllllllllllllllllllllllllllllllllllllllllllllllllllllllllllllllllllllllllllllllllllllllllllllllllllllllllllllllllllllllllllllllllllllllllllllllllllllllllllllllllllllllllllllllllllllllllllllllllllllllllllllllllllllllllllllllllllllllllllllllllllllllllllllllllllllllllllllllllllllllllllllllllllllllllllllllllllllllllllllllllllllllllllllllllllllllllllllllllllllll}\n",
       " sample & bin & 30 & 31 & 32 & 33 & 34 & 35 & 36 & 37 & ... & 691 & 692 & 693 & 694 & 695 & 696 & 697 & 698 & 699 & 700\\\\\n",
       "\\hline\n",
       "\t PGDX10344P1 & chr10\\_400 & 0           & 0           & 0           & 0           & 0           & 0           & 0           & 0           & ...         & 0           & 0           & 0           & 0           & 0           & 0           & 0           & 0           & 0           & 0          \\\\\n",
       "\t PGDX10344P1 & chr10\\_40  & 0           & 0           & 0           & 0           & 0           & 0           & 0           & 0           & ...         & 0           & 0           & 0           & 0           & 0           & 0           & 0           & 0           & 0           & 0          \\\\\n",
       "\t PGDX10344P1 & chr10\\_4   & 0           & 0           & 0           & 0           & 0           & 0           & 0           & 0           & ...         & 0           & 0           & 0           & 0           & 0           & 0           & 0           & 0           & 0           & 0          \\\\\n",
       "\t PGDX10344P1 & chr10\\_401 & 0           & 0           & 0           & 0           & 0           & 0           & 0           & 0           & ...         & 0           & 0           & 0           & 0           & 0           & 0           & 0           & 0           & 0           & 0          \\\\\n",
       "\t PGDX10344P1 & chr10\\_402 & 0           & 0           & 0           & 0           & 0           & 0           & 0           & 0           & ...         & 0           & 0           & 0           & 0           & 0           & 0           & 0           & 0           & 0           & 0          \\\\\n",
       "\t PGDX10344P1 & chr10\\_403 & 0           & 0           & 0           & 0           & 0           & 0           & 0           & 0           & ...         & 0           & 0           & 0           & 0           & 0           & 0           & 0           & 0           & 0           & 0          \\\\\n",
       "\\end{tabular}\n"
      ],
      "text/markdown": [
       "\n",
       "| sample | bin | 30 | 31 | 32 | 33 | 34 | 35 | 36 | 37 | ... | 691 | 692 | 693 | 694 | 695 | 696 | 697 | 698 | 699 | 700 |\n",
       "|---|---|---|---|---|---|---|---|---|---|---|---|---|---|---|---|---|---|---|---|---|\n",
       "| PGDX10344P1 | chr10_400   | 0           | 0           | 0           | 0           | 0           | 0           | 0           | 0           | ...         | 0           | 0           | 0           | 0           | 0           | 0           | 0           | 0           | 0           | 0           |\n",
       "| PGDX10344P1 | chr10_40    | 0           | 0           | 0           | 0           | 0           | 0           | 0           | 0           | ...         | 0           | 0           | 0           | 0           | 0           | 0           | 0           | 0           | 0           | 0           |\n",
       "| PGDX10344P1 | chr10_4     | 0           | 0           | 0           | 0           | 0           | 0           | 0           | 0           | ...         | 0           | 0           | 0           | 0           | 0           | 0           | 0           | 0           | 0           | 0           |\n",
       "| PGDX10344P1 | chr10_401   | 0           | 0           | 0           | 0           | 0           | 0           | 0           | 0           | ...         | 0           | 0           | 0           | 0           | 0           | 0           | 0           | 0           | 0           | 0           |\n",
       "| PGDX10344P1 | chr10_402   | 0           | 0           | 0           | 0           | 0           | 0           | 0           | 0           | ...         | 0           | 0           | 0           | 0           | 0           | 0           | 0           | 0           | 0           | 0           |\n",
       "| PGDX10344P1 | chr10_403   | 0           | 0           | 0           | 0           | 0           | 0           | 0           | 0           | ...         | 0           | 0           | 0           | 0           | 0           | 0           | 0           | 0           | 0           | 0           |\n",
       "\n"
      ],
      "text/plain": [
       "  sample      bin       30 31 32 33 34 35 36 37 ... 691 692 693 694 695 696 697\n",
       "1 PGDX10344P1 chr10_400 0  0  0  0  0  0  0  0  ... 0   0   0   0   0   0   0  \n",
       "2 PGDX10344P1 chr10_40  0  0  0  0  0  0  0  0  ... 0   0   0   0   0   0   0  \n",
       "3 PGDX10344P1 chr10_4   0  0  0  0  0  0  0  0  ... 0   0   0   0   0   0   0  \n",
       "4 PGDX10344P1 chr10_401 0  0  0  0  0  0  0  0  ... 0   0   0   0   0   0   0  \n",
       "5 PGDX10344P1 chr10_402 0  0  0  0  0  0  0  0  ... 0   0   0   0   0   0   0  \n",
       "6 PGDX10344P1 chr10_403 0  0  0  0  0  0  0  0  ... 0   0   0   0   0   0   0  \n",
       "  698 699 700\n",
       "1 0   0   0  \n",
       "2 0   0   0  \n",
       "3 0   0   0  \n",
       "4 0   0   0  \n",
       "5 0   0   0  \n",
       "6 0   0   0  "
      ]
     },
     "metadata": {},
     "output_type": "display_data"
    }
   ],
   "source": [
    "small_test <- read_delim(file = filename, col_names = T, delim = \" \", comment = \"#\", skip = 0, n_max = 20)\n",
    "head(small_test)"
   ]
  },
  {
   "cell_type": "code",
   "execution_count": 9,
   "id": "f7e7f0c6-e1d6-4826-9646-523de656b881",
   "metadata": {},
   "outputs": [
    {
     "data": {
      "text/html": [
       "<table>\n",
       "<thead><tr><th scope=col>V1</th><th scope=col>V2</th><th scope=col>V3</th><th scope=col>V4</th><th scope=col>V5</th><th scope=col>V6</th><th scope=col>V7</th><th scope=col>V8</th><th scope=col>V9</th><th scope=col>V10</th><th scope=col>...</th><th scope=col>V664</th><th scope=col>V665</th><th scope=col>V666</th><th scope=col>V667</th><th scope=col>V668</th><th scope=col>V669</th><th scope=col>V670</th><th scope=col>V671</th><th scope=col>V672</th><th scope=col>V673</th></tr></thead>\n",
       "<tbody>\n",
       "\t<tr><td>sample</td><td>bin   </td><td>X30   </td><td>X31   </td><td>X32   </td><td>X33   </td><td>X34   </td><td>X35   </td><td>X36   </td><td>X37   </td><td>...   </td><td>X691  </td><td>X692  </td><td>X693  </td><td>X694  </td><td>X695  </td><td>X696  </td><td>X697  </td><td>X698  </td><td>X699  </td><td>X700  </td></tr>\n",
       "</tbody>\n",
       "</table>\n"
      ],
      "text/latex": [
       "\\begin{tabular}{r|lllllllllllllllllllllllllllllllllllllllllllllllllllllllllllllllllllllllllllllllllllllllllllllllllllllllllllllllllllllllllllllllllllllllllllllllllllllllllllllllllllllllllllllllllllllllllllllllllllllllllllllllllllllllllllllllllllllllllllllllllllllllllllllllllllllllllllllllllllllllllllllllllllllllllllllllllllllllllllllllllllllllllllllllllllllllllllllllllllllllllllllllllllllllllllllllllllllllllllllllllllllllllllllllllllllllllllllllllllllllllllllllllllllllllllllllllllllllllllllllllllllllllllllllllllllllllllllllllllllllllllllllllllllllllllllllllllllllllllllllllllllllllllllllllllllllllllllllllllllllllllllllllllllllllllllllllllllllllllllllllllllllllllllllllllllllllllllllll}\n",
       " V1 & V2 & V3 & V4 & V5 & V6 & V7 & V8 & V9 & V10 & ... & V664 & V665 & V666 & V667 & V668 & V669 & V670 & V671 & V672 & V673\\\\\n",
       "\\hline\n",
       "\t sample & bin    & X30    & X31    & X32    & X33    & X34    & X35    & X36    & X37    & ...    & X691   & X692   & X693   & X694   & X695   & X696   & X697   & X698   & X699   & X700  \\\\\n",
       "\\end{tabular}\n"
      ],
      "text/markdown": [
       "\n",
       "| V1 | V2 | V3 | V4 | V5 | V6 | V7 | V8 | V9 | V10 | ... | V664 | V665 | V666 | V667 | V668 | V669 | V670 | V671 | V672 | V673 |\n",
       "|---|---|---|---|---|---|---|---|---|---|---|---|---|---|---|---|---|---|---|---|---|\n",
       "| sample | bin    | X30    | X31    | X32    | X33    | X34    | X35    | X36    | X37    | ...    | X691   | X692   | X693   | X694   | X695   | X696   | X697   | X698   | X699   | X700   |\n",
       "\n"
      ],
      "text/plain": [
       "  V1     V2  V3  V4  V5  V6  V7  V8  V9  V10 ... V664 V665 V666 V667 V668 V669\n",
       "1 sample bin X30 X31 X32 X33 X34 X35 X36 X37 ... X691 X692 X693 X694 X695 X696\n",
       "  V670 V671 V672 V673\n",
       "1 X697 X698 X699 X700"
      ]
     },
     "metadata": {},
     "output_type": "display_data"
    }
   ],
   "source": [
    "cols_trimmed_first_two <- colnames(small_test)[1:2]\n",
    "cols_trimmed_rest <- colnames(small_test)[3:673]\n",
    "cols_trimmed_rest <- paste(\"X\", cols_trimmed_rest, sep = \"\")\n",
    "\n",
    "cols_normalized = as.data.frame(t(c(cols_trimmed_first_two, cols_trimmed_rest)))\n",
    "cols_normalized\n"
   ]
  },
  {
   "cell_type": "code",
   "execution_count": 10,
   "id": "27bc7a9d-f5b5-4f47-8637-62c73dbb1ce2",
   "metadata": {},
   "outputs": [],
   "source": [
    "# Initiate the empty file and add column names\n",
    "\n",
    "write.table(NULL, file=\"../data/all_samples_normalized.csv\", \n",
    "             append = F, \n",
    "             sep=',', \n",
    "             row.names=F, \n",
    "             col.names=F)\n",
    "\n",
    "write.table(cols_normalized, \"../data/all_samples_normalized.csv\", append = F, sep=',', col.names=F, row.names=F)"
   ]
  },
  {
   "cell_type": "code",
   "execution_count": 11,
   "id": "400de45b-3380-4ff6-bd7e-21a6133be329",
   "metadata": {},
   "outputs": [
    {
     "name": "stderr",
     "output_type": "stream",
     "text": [
      "Parsed with column specification:\n",
      "cols(\n",
      "  .default = col_double(),\n",
      "  sample = col_character(),\n",
      "  bin = col_character()\n",
      ")\n",
      "See spec(...) for full column specifications.\n"
     ]
    }
   ],
   "source": [
    "f <- function(df1, pos) {\n",
    "    df1[3:673] <- lapply(df1[3:673], as.numeric)\n",
    "    df1[3:673] <- normalize(as.matrix(df1[3:673]), byrow = TRUE, tol = 1e-100000)\n",
    "    write.table(df1, \"../data/all_samples_normalized.csv\", append = TRUE, sep=',', col.names=F, row.names=F)\n",
    "\n",
    "}\n",
    "\n",
    "df <- read_delim_chunked(file = filename, \n",
    "                 callback = DataFrameCallback$new(f), \n",
    "                 chunk_size = 10000, col_names = T,\n",
    "                 delim = \" \", \n",
    "                 progress = show_progress())\n"
   ]
  },
  {
   "cell_type": "code",
   "execution_count": null,
   "id": "81d7a602-506c-4e50-be00-d3639a24b266",
   "metadata": {},
   "outputs": [],
   "source": []
  }
 ],
 "metadata": {
  "kernelspec": {
   "display_name": "R",
   "language": "R",
   "name": "ir"
  },
  "language_info": {
   "codemirror_mode": "r",
   "file_extension": ".r",
   "mimetype": "text/x-r-source",
   "name": "R",
   "pygments_lexer": "r",
   "version": "3.6.1"
  }
 },
 "nbformat": 4,
 "nbformat_minor": 5
}
