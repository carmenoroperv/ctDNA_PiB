{
 "cells": [
  {
   "cell_type": "markdown",
   "id": "e7d7d882-671e-4f93-a644-d069d6270f2a",
   "metadata": {},
   "source": [
    "# Format ATAC predictions into wider format"
   ]
  },
  {
   "cell_type": "code",
   "execution_count": 1,
   "id": "43eacc69-7ad5-492d-9f48-ab4d498102da",
   "metadata": {},
   "outputs": [
    {
     "name": "stderr",
     "output_type": "stream",
     "text": [
      "Registered S3 methods overwritten by 'ggplot2':\n",
      "  method         from \n",
      "  [.quosures     rlang\n",
      "  c.quosures     rlang\n",
      "  print.quosures rlang\n",
      "Registered S3 method overwritten by 'rvest':\n",
      "  method            from\n",
      "  read_xml.response xml2\n",
      "── Attaching packages ─────────────────────────────────────── tidyverse 1.2.1 ──\n",
      "✔ ggplot2 3.1.1     ✔ purrr   0.3.2\n",
      "✔ tibble  3.1.4     ✔ dplyr   1.0.7\n",
      "✔ tidyr   1.1.3     ✔ stringr 1.4.0\n",
      "✔ readr   1.3.1     ✔ forcats 0.4.0\n",
      "── Conflicts ────────────────────────────────────────── tidyverse_conflicts() ──\n",
      "✖ dplyr::filter() masks stats::filter()\n",
      "✖ dplyr::lag()    masks stats::lag()\n"
     ]
    }
   ],
   "source": [
    "library(tidyverse)"
   ]
  },
  {
   "cell_type": "code",
   "execution_count": 2,
   "id": "af18de5e-72c4-4510-bbb1-0ce86237684b",
   "metadata": {},
   "outputs": [],
   "source": [
    "# inputs and outputs\n",
    "input_file = \"../data/ATAC_predictions_on_all_samples/ATAC_pred_smooth_gaussian_lasso_smoothed_individuals_std_FALSE.csv\"\n",
    "output_file = \"../data/ATAC_predictions_on_all_samples/ATAC_pred_smooth_gaussian_lasso_smoothed_individuals_std_FALSE_formatted.csv\""
   ]
  },
  {
   "cell_type": "code",
   "execution_count": 3,
   "id": "dbbbca59-3197-41ea-ad08-bffff5af9f3a",
   "metadata": {},
   "outputs": [],
   "source": [
    "pred_ATAC = read.csv(input_file)"
   ]
  },
  {
   "cell_type": "code",
   "execution_count": 4,
   "id": "369a0676-469a-4753-a710-1608682af0c7",
   "metadata": {},
   "outputs": [
    {
     "data": {
      "text/html": [
       "<table>\n",
       "<thead><tr><th scope=col>sample</th><th scope=col>bin</th><th scope=col>ATAC_prediction</th></tr></thead>\n",
       "<tbody>\n",
       "\t<tr><td>PGDX10344P1</td><td>chr10_400  </td><td> 0.21658378</td></tr>\n",
       "\t<tr><td>PGDX10344P1</td><td>chr10_40   </td><td> 0.20455772</td></tr>\n",
       "\t<tr><td>PGDX10344P1</td><td>chr10_4    </td><td> 0.30334150</td></tr>\n",
       "\t<tr><td>PGDX10344P1</td><td>chr10_401  </td><td>-0.04976667</td></tr>\n",
       "\t<tr><td>PGDX10344P1</td><td>chr10_402  </td><td> 0.01037457</td></tr>\n",
       "\t<tr><td>PGDX10344P1</td><td>chr10_403  </td><td>-0.18736297</td></tr>\n",
       "</tbody>\n",
       "</table>\n"
      ],
      "text/latex": [
       "\\begin{tabular}{r|lll}\n",
       " sample & bin & ATAC\\_prediction\\\\\n",
       "\\hline\n",
       "\t PGDX10344P1 & chr10\\_400 &  0.21658378\\\\\n",
       "\t PGDX10344P1 & chr10\\_40  &  0.20455772\\\\\n",
       "\t PGDX10344P1 & chr10\\_4   &  0.30334150\\\\\n",
       "\t PGDX10344P1 & chr10\\_401 & -0.04976667\\\\\n",
       "\t PGDX10344P1 & chr10\\_402 &  0.01037457\\\\\n",
       "\t PGDX10344P1 & chr10\\_403 & -0.18736297\\\\\n",
       "\\end{tabular}\n"
      ],
      "text/markdown": [
       "\n",
       "| sample | bin | ATAC_prediction |\n",
       "|---|---|---|\n",
       "| PGDX10344P1 | chr10_400   |  0.21658378 |\n",
       "| PGDX10344P1 | chr10_40    |  0.20455772 |\n",
       "| PGDX10344P1 | chr10_4     |  0.30334150 |\n",
       "| PGDX10344P1 | chr10_401   | -0.04976667 |\n",
       "| PGDX10344P1 | chr10_402   |  0.01037457 |\n",
       "| PGDX10344P1 | chr10_403   | -0.18736297 |\n",
       "\n"
      ],
      "text/plain": [
       "  sample      bin       ATAC_prediction\n",
       "1 PGDX10344P1 chr10_400  0.21658378    \n",
       "2 PGDX10344P1 chr10_40   0.20455772    \n",
       "3 PGDX10344P1 chr10_4    0.30334150    \n",
       "4 PGDX10344P1 chr10_401 -0.04976667    \n",
       "5 PGDX10344P1 chr10_402  0.01037457    \n",
       "6 PGDX10344P1 chr10_403 -0.18736297    "
      ]
     },
     "metadata": {},
     "output_type": "display_data"
    }
   ],
   "source": [
    "head(pred_ATAC)"
   ]
  },
  {
   "cell_type": "code",
   "execution_count": 5,
   "id": "b4c009cb-ed69-4603-a4e9-b8e1e40ef04f",
   "metadata": {
    "tags": []
   },
   "outputs": [
    {
     "name": "stderr",
     "output_type": "stream",
     "text": [
      "ERROR while rich displaying an object: Error in sprintf(wrap, header, body): 'fmt' length exceeds maximal format length 8192\n",
      "\n",
      "Traceback:\n",
      "1. FUN(X[[i]], ...)\n",
      "2. tryCatch(withCallingHandlers({\n",
      " .     if (!mime %in% names(repr::mime2repr)) \n",
      " .         stop(\"No repr_* for mimetype \", mime, \" in repr::mime2repr\")\n",
      " .     rpr <- repr::mime2repr[[mime]](obj)\n",
      " .     if (is.null(rpr)) \n",
      " .         return(NULL)\n",
      " .     prepare_content(is.raw(rpr), rpr)\n",
      " . }, error = error_handler), error = outer_handler)\n",
      "3. tryCatchList(expr, classes, parentenv, handlers)\n",
      "4. tryCatchOne(expr, names, parentenv, handlers[[1L]])\n",
      "5. doTryCatch(return(expr), name, parentenv, handler)\n",
      "6. withCallingHandlers({\n",
      " .     if (!mime %in% names(repr::mime2repr)) \n",
      " .         stop(\"No repr_* for mimetype \", mime, \" in repr::mime2repr\")\n",
      " .     rpr <- repr::mime2repr[[mime]](obj)\n",
      " .     if (is.null(rpr)) \n",
      " .         return(NULL)\n",
      " .     prepare_content(is.raw(rpr), rpr)\n",
      " . }, error = error_handler)\n",
      "7. repr::mime2repr[[mime]](obj)\n",
      "8. repr_latex.data.frame(obj)\n",
      "9. repr_matrix_generic(obj, sprintf(\"\\\\begin{tabular}{%s}\\n%%s%%s\\\\end{tabular}\\n\", \n",
      " .     cols), \"%s\\\\\\\\\\n\\\\hline\\n\", \"  &\", \" %s &\", \"%s\", \"\\t%s\\\\\\\\\\n\", \n",
      " .     \"%s &\", \" %s &\", escape_fun = latex_escape_vec, ...)\n",
      "10. sprintf(wrap, header, body)\n"
     ]
    },
    {
     "data": {
      "text/html": [
       "<table>\n",
       "<thead><tr><th scope=col>sample</th><th scope=col>chr10_400</th><th scope=col>chr10_40</th><th scope=col>chr10_4</th><th scope=col>chr10_401</th><th scope=col>chr10_402</th><th scope=col>chr10_403</th><th scope=col>chr10_404</th><th scope=col>chr10_405</th><th scope=col>chr10_406</th><th scope=col>...</th><th scope=col>chr9_39</th><th scope=col>chr9_391</th><th scope=col>chr9_392</th><th scope=col>chr9_393</th><th scope=col>chr9_394</th><th scope=col>chr9_395</th><th scope=col>chr9_396</th><th scope=col>chr9_397</th><th scope=col>chr9_398</th><th scope=col>chr9_399</th></tr></thead>\n",
       "<tbody>\n",
       "\t<tr><td>PGDX10344P1 </td><td>0.2165838   </td><td> 0.20455772 </td><td>0.3033415   </td><td>-0.04976667 </td><td>0.01037457  </td><td>-0.18736297 </td><td> 0.43976320 </td><td>0.8461027   </td><td>0.69852731  </td><td>...         </td><td>-0.6289543  </td><td>0.3695895   </td><td>-0.5089256  </td><td>0.80509505  </td><td> 0.11351365 </td><td>0.3269621   </td><td>-0.1688639  </td><td> 0.222516721</td><td>-0.1004238  </td><td>-0.2010245  </td></tr>\n",
       "\t<tr><td>PGDX10346P1 </td><td>0.4615832   </td><td> 0.54171708 </td><td>0.5103622   </td><td> 0.11015144 </td><td>0.09526909  </td><td>-0.02410594 </td><td> 0.43099868 </td><td>0.5720130   </td><td>0.26280121  </td><td>...         </td><td> 0.4701512  </td><td>0.3606655   </td><td>-0.1022854  </td><td>0.41053086  </td><td> 0.38072285 </td><td>0.5230106   </td><td> 0.4768937  </td><td>-0.215558874</td><td> 0.2029605  </td><td> 0.2099457  </td></tr>\n",
       "\t<tr><td>PGDX10349P1 </td><td>0.6387855   </td><td> 0.29850212 </td><td>0.6290774   </td><td>-0.02648360 </td><td>0.67407865  </td><td> 0.19618890 </td><td>-0.03037707 </td><td>0.5352339   </td><td>0.26346514  </td><td>...         </td><td> 0.3959193  </td><td>0.2925465   </td><td> 0.1975364  </td><td>0.28689023  </td><td>-0.01934443 </td><td>0.5380975   </td><td> 0.5574450  </td><td> 0.751483067</td><td> 0.4900318  </td><td> 0.7633972  </td></tr>\n",
       "\t<tr><td>PGDX10351P1 </td><td>1.0069982   </td><td> 0.02768348 </td><td>0.7175730   </td><td> 0.27504883 </td><td>0.26541051  </td><td> 0.78696257 </td><td> 0.53290402 </td><td>0.9664401   </td><td>1.01034004  </td><td>...         </td><td> 0.7371939  </td><td>0.7045769   </td><td> 0.1970576  </td><td>0.88072915  </td><td> 0.81615113 </td><td>1.0690581   </td><td> 1.1306557  </td><td> 1.217221136</td><td> 0.1116806  </td><td> 0.8591004  </td></tr>\n",
       "\t<tr><td>PGDX10566P  </td><td>0.1431406   </td><td>-0.23530059 </td><td>0.6984331   </td><td> 0.31150512 </td><td>1.01791827  </td><td> 0.22680714 </td><td> 0.38500758 </td><td>0.3779330   </td><td>0.56096266  </td><td>...         </td><td> 0.3636435  </td><td>0.2135130   </td><td> 0.3163897  </td><td>0.03345942  </td><td> 0.53478735 </td><td>0.7209004   </td><td> 0.8410864  </td><td> 0.007341191</td><td> 0.3261327  </td><td>-0.0392167  </td></tr>\n",
       "\t<tr><td>PGDX10567P  </td><td>0.7170632   </td><td> 0.34069270 </td><td>0.2909682   </td><td> 0.65445243 </td><td>0.31618937  </td><td> 0.31029593 </td><td> 0.48940099 </td><td>0.2407678   </td><td>0.02833399  </td><td>...         </td><td> 0.1537514  </td><td>0.2151606   </td><td> 0.4980659  </td><td>1.10754450  </td><td> 0.23778722 </td><td>0.9897177   </td><td> 0.3901923  </td><td> 0.012791178</td><td> 0.2989802  </td><td> 0.2207474  </td></tr>\n",
       "</tbody>\n",
       "</table>\n"
      ],
      "text/markdown": [
       "\n",
       "| sample | chr10_400 | chr10_40 | chr10_4 | chr10_401 | chr10_402 | chr10_403 | chr10_404 | chr10_405 | chr10_406 | ... | chr9_39 | chr9_391 | chr9_392 | chr9_393 | chr9_394 | chr9_395 | chr9_396 | chr9_397 | chr9_398 | chr9_399 |\n",
       "|---|---|---|---|---|---|---|---|---|---|---|---|---|---|---|---|---|---|---|---|---|\n",
       "| PGDX10344P1  | 0.2165838    |  0.20455772  | 0.3033415    | -0.04976667  | 0.01037457   | -0.18736297  |  0.43976320  | 0.8461027    | 0.69852731   | ...          | -0.6289543   | 0.3695895    | -0.5089256   | 0.80509505   |  0.11351365  | 0.3269621    | -0.1688639   |  0.222516721 | -0.1004238   | -0.2010245   |\n",
       "| PGDX10346P1  | 0.4615832    |  0.54171708  | 0.5103622    |  0.11015144  | 0.09526909   | -0.02410594  |  0.43099868  | 0.5720130    | 0.26280121   | ...          |  0.4701512   | 0.3606655    | -0.1022854   | 0.41053086   |  0.38072285  | 0.5230106    |  0.4768937   | -0.215558874 |  0.2029605   |  0.2099457   |\n",
       "| PGDX10349P1  | 0.6387855    |  0.29850212  | 0.6290774    | -0.02648360  | 0.67407865   |  0.19618890  | -0.03037707  | 0.5352339    | 0.26346514   | ...          |  0.3959193   | 0.2925465    |  0.1975364   | 0.28689023   | -0.01934443  | 0.5380975    |  0.5574450   |  0.751483067 |  0.4900318   |  0.7633972   |\n",
       "| PGDX10351P1  | 1.0069982    |  0.02768348  | 0.7175730    |  0.27504883  | 0.26541051   |  0.78696257  |  0.53290402  | 0.9664401    | 1.01034004   | ...          |  0.7371939   | 0.7045769    |  0.1970576   | 0.88072915   |  0.81615113  | 1.0690581    |  1.1306557   |  1.217221136 |  0.1116806   |  0.8591004   |\n",
       "| PGDX10566P   | 0.1431406    | -0.23530059  | 0.6984331    |  0.31150512  | 1.01791827   |  0.22680714  |  0.38500758  | 0.3779330    | 0.56096266   | ...          |  0.3636435   | 0.2135130    |  0.3163897   | 0.03345942   |  0.53478735  | 0.7209004    |  0.8410864   |  0.007341191 |  0.3261327   | -0.0392167   |\n",
       "| PGDX10567P   | 0.7170632    |  0.34069270  | 0.2909682    |  0.65445243  | 0.31618937   |  0.31029593  |  0.48940099  | 0.2407678    | 0.02833399   | ...          |  0.1537514   | 0.2151606    |  0.4980659   | 1.10754450   |  0.23778722  | 0.9897177    |  0.3901923   |  0.012791178 |  0.2989802   |  0.2207474   |\n",
       "\n"
      ],
      "text/plain": [
       "  sample      chr10_400 chr10_40    chr10_4   chr10_401   chr10_402 \n",
       "1 PGDX10344P1 0.2165838  0.20455772 0.3033415 -0.04976667 0.01037457\n",
       "2 PGDX10346P1 0.4615832  0.54171708 0.5103622  0.11015144 0.09526909\n",
       "3 PGDX10349P1 0.6387855  0.29850212 0.6290774 -0.02648360 0.67407865\n",
       "4 PGDX10351P1 1.0069982  0.02768348 0.7175730  0.27504883 0.26541051\n",
       "5 PGDX10566P  0.1431406 -0.23530059 0.6984331  0.31150512 1.01791827\n",
       "6 PGDX10567P  0.7170632  0.34069270 0.2909682  0.65445243 0.31618937\n",
       "  chr10_403   chr10_404   chr10_405 chr10_406  ... chr9_39    chr9_391 \n",
       "1 -0.18736297  0.43976320 0.8461027 0.69852731 ... -0.6289543 0.3695895\n",
       "2 -0.02410594  0.43099868 0.5720130 0.26280121 ...  0.4701512 0.3606655\n",
       "3  0.19618890 -0.03037707 0.5352339 0.26346514 ...  0.3959193 0.2925465\n",
       "4  0.78696257  0.53290402 0.9664401 1.01034004 ...  0.7371939 0.7045769\n",
       "5  0.22680714  0.38500758 0.3779330 0.56096266 ...  0.3636435 0.2135130\n",
       "6  0.31029593  0.48940099 0.2407678 0.02833399 ...  0.1537514 0.2151606\n",
       "  chr9_392   chr9_393   chr9_394    chr9_395  chr9_396   chr9_397    \n",
       "1 -0.5089256 0.80509505  0.11351365 0.3269621 -0.1688639  0.222516721\n",
       "2 -0.1022854 0.41053086  0.38072285 0.5230106  0.4768937 -0.215558874\n",
       "3  0.1975364 0.28689023 -0.01934443 0.5380975  0.5574450  0.751483067\n",
       "4  0.1970576 0.88072915  0.81615113 1.0690581  1.1306557  1.217221136\n",
       "5  0.3163897 0.03345942  0.53478735 0.7209004  0.8410864  0.007341191\n",
       "6  0.4980659 1.10754450  0.23778722 0.9897177  0.3901923  0.012791178\n",
       "  chr9_398   chr9_399  \n",
       "1 -0.1004238 -0.2010245\n",
       "2  0.2029605  0.2099457\n",
       "3  0.4900318  0.7633972\n",
       "4  0.1116806  0.8591004\n",
       "5  0.3261327 -0.0392167\n",
       "6  0.2989802  0.2207474"
      ]
     },
     "metadata": {},
     "output_type": "display_data"
    }
   ],
   "source": [
    "pred_ATAC_wide <- pred_ATAC %>% pivot_wider(names_from = bin, values_from = ATAC_prediction)\n",
    "head(pred_ATAC_wide)"
   ]
  },
  {
   "cell_type": "code",
   "execution_count": 6,
   "id": "a0572626-d4d3-45e8-8777-a6f1e370d516",
   "metadata": {},
   "outputs": [
    {
     "data": {
      "text/html": [
       "<ol class=list-inline>\n",
       "\t<li>473</li>\n",
       "\t<li>10304</li>\n",
       "</ol>\n"
      ],
      "text/latex": [
       "\\begin{enumerate*}\n",
       "\\item 473\n",
       "\\item 10304\n",
       "\\end{enumerate*}\n"
      ],
      "text/markdown": [
       "1. 473\n",
       "2. 10304\n",
       "\n",
       "\n"
      ],
      "text/plain": [
       "[1]   473 10304"
      ]
     },
     "metadata": {},
     "output_type": "display_data"
    }
   ],
   "source": [
    "dim(pred_ATAC_wide)"
   ]
  },
  {
   "cell_type": "code",
   "execution_count": 7,
   "id": "e9d8ee4d-b062-4fd7-8bc5-09efa00f2bff",
   "metadata": {},
   "outputs": [],
   "source": [
    "write.csv(pred_ATAC_wide, output_file,  row.names = FALSE)"
   ]
  },
  {
   "cell_type": "code",
   "execution_count": null,
   "id": "bd3a25e9-3654-4454-8595-4d617d9e6ab2",
   "metadata": {},
   "outputs": [],
   "source": []
  }
 ],
 "metadata": {
  "kernelspec": {
   "display_name": "R",
   "language": "R",
   "name": "ir"
  },
  "language_info": {
   "codemirror_mode": "r",
   "file_extension": ".r",
   "mimetype": "text/x-r-source",
   "name": "R",
   "pygments_lexer": "r",
   "version": "3.6.1"
  }
 },
 "nbformat": 4,
 "nbformat_minor": 5
}
