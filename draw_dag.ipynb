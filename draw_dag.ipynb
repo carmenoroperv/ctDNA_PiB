{
 "cells": [
  {
   "cell_type": "code",
   "execution_count": 1,
   "id": "a1724820-469f-4554-aef8-b4fef8828c86",
   "metadata": {},
   "outputs": [],
   "source": [
    "import graphviz\n"
   ]
  },
  {
   "cell_type": "code",
   "execution_count": 2,
   "id": "9f907df9-7f8d-4577-a9c3-b91d01d04902",
   "metadata": {},
   "outputs": [
    {
     "data": {
      "text/plain": [
       "'dot_dag.png'"
      ]
     },
     "execution_count": 2,
     "metadata": {},
     "output_type": "execute_result"
    }
   ],
   "source": [
    "graphviz.render('dot', 'png', 'dot_dag')  "
   ]
  },
  {
   "cell_type": "code",
   "execution_count": null,
   "id": "c82f1bcb-13a5-44de-9ea9-ad7abde0ecd8",
   "metadata": {},
   "outputs": [],
   "source": []
  }
 ],
 "metadata": {
  "kernelspec": {
   "display_name": "Python [conda env:nnPiB]",
   "language": "python",
   "name": "conda-env-nnPiB-py"
  },
  "language_info": {
   "codemirror_mode": {
    "name": "ipython",
    "version": 3
   },
   "file_extension": ".py",
   "mimetype": "text/x-python",
   "name": "python",
   "nbconvert_exporter": "python",
   "pygments_lexer": "ipython3",
   "version": "3.9.6"
  }
 },
 "nbformat": 4,
 "nbformat_minor": 5
}
