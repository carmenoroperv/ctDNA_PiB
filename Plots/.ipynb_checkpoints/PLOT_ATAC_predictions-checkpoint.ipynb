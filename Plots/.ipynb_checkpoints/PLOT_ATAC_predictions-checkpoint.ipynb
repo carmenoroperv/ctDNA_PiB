{
 "cells": [
  {
   "cell_type": "markdown",
   "id": "eee0f19c-d57f-42c7-bdb2-6c7d66ee13ba",
   "metadata": {},
   "source": [
    "## Plotting the ATAC predictions\n",
    "\n",
    "##### ATAC predictions are made with diffent models, trimmed and not trimmed histograms, gaussian smoothed and not gaussian smoothed individuals etc."
   ]
  },
  {
   "cell_type": "code",
   "execution_count": 1,
   "id": "9c64eb9c-bcb0-4fcd-85f6-8a32c748ab6b",
   "metadata": {},
   "outputs": [
    {
     "name": "stderr",
     "output_type": "stream",
     "text": [
      "Registered S3 method overwritten by 'rvest':\n",
      "  method            from\n",
      "  read_xml.response xml2\n",
      "── Attaching packages ─────────────────────────────────────────────────────────────────────────────── tidyverse 1.2.1 ──\n",
      "✔ ggplot2 3.3.5     ✔ purrr   0.3.4\n",
      "✔ tibble  3.1.4     ✔ dplyr   1.0.7\n",
      "✔ tidyr   1.1.3     ✔ stringr 1.4.0\n",
      "✔ readr   1.3.1     ✔ forcats 0.4.0\n",
      "── Conflicts ────────────────────────────────────────────────────────────────────────────────── tidyverse_conflicts() ──\n",
      "✖ dplyr::filter() masks stats::filter()\n",
      "✖ dplyr::lag()    masks stats::lag()\n"
     ]
    }
   ],
   "source": [
    "library(tidyverse)"
   ]
  },
  {
   "cell_type": "markdown",
   "id": "31e3ed43-7152-4e02-9c42-e363967aa063",
   "metadata": {},
   "source": [
    "### Observed ATAC values"
   ]
  },
  {
   "cell_type": "code",
   "execution_count": null,
   "id": "d0647325-8aef-4298-af52-a89aa43102c5",
   "metadata": {},
   "outputs": [],
   "source": [
    "ATAC_obs <- read.csv(\"data/sum_control_normalized_ATAC.csv\") %>% select(bin, ATAC_val)\n",
    "colnames(ATAC_obs) <- c(\"bin\", \"ATAC_observed\")\n",
    "head(ATAC_obs)"
   ]
  },
  {
   "cell_type": "code",
   "execution_count": null,
   "id": "904b7be2-0b3d-47d0-9c1b-5dd294ced97e",
   "metadata": {},
   "outputs": [],
   "source": [
    "# helper function for formatting the input predictions files\n",
    "\n",
    "format_input <- function(input_pred, individual){\n",
    "    ind_pred <- input_pred %>% filter(sample == individual) %>% pivot_longer(!sample, values_to = \"ATAC_prediction\", names_to = \"bin\")\n",
    "    ind_pred <- merge(ind_pred, ATAC_obs, by = \"bin\")\n",
    "    \n",
    "    ind_pred$bin <- sub('...', '', ind_pred$bin)\n",
    "    ind_pred <- ind_pred %>% separate(bin, c(\"chr\", \"bin_number\"), sep = \"_\")\n",
    "\n",
    "    ind_pred$chr <- as.numeric(ind_pred$chr)\n",
    "    ind_pred$bin_number <- as.numeric(ind_pred$bin_number)\n",
    "    ind_pred <- ind_pred %>% mutate(position = bin_number*250000)\n",
    "    ind_pred <- ind_pred %>% arrange(chr, position)\n",
    "    return(ind_pred)\n",
    "}"
   ]
  },
  {
   "cell_type": "markdown",
   "id": "bb42b73e-9c4c-44f8-82b0-e6ebb490d18b",
   "metadata": {},
   "source": [
    "### Lasso predictions"
   ]
  },
  {
   "cell_type": "code",
   "execution_count": null,
   "id": "26389aaa-bf0f-471e-b54f-c998b219d93f",
   "metadata": {},
   "outputs": [],
   "source": [
    "lasso_pred <- read.csv(\"data/ATAC_predictions_on_all_samples/ATAC_pred_lasso_std_FALSE_formatted.csv\")\n",
    "lasso_pred <- format_input(lasso_pred, \"PGDX10344P1\")\n",
    "head(lasso_pred)"
   ]
  },
  {
   "cell_type": "code",
   "execution_count": null,
   "id": "d64d5d00-e6bc-459c-b6de-a9daf287d7f2",
   "metadata": {},
   "outputs": [],
   "source": [
    "ind_pred_chr <- lasso_pred %>% filter(chr == 1)\n",
    "\n",
    "colors <- c(\"ATAC_observed\" = \"firebrick\", \"ATAC_prediction\" = \"darkblue\")\n",
    "\n",
    "p <- ggplot(ind_pred_chr) + \n",
    "        geom_point(aes(x = position, y = ATAC_observed, color = \"ATAC_observed\"), size = 0.5) + \n",
    "        geom_line(aes(x = position, y = ATAC_observed, color = \"ATAC_observed\"), size = 0.3) + \n",
    "        geom_point(aes(x = position, y = ATAC_prediction, color = \"ATAC_prediction\"), size = 0.5) + \n",
    "        geom_line(aes(x = position, y = ATAC_prediction, color = \"ATAC_prediction\"), size = 0.3) +\n",
    "        labs(x = \"Position\",\n",
    "             y = \"ATAC value\",\n",
    "             color = \"Legend\") +\n",
    "        scale_color_manual(values = colors)\n",
    "\n",
    "plotly::ggplotly(p)"
   ]
  },
  {
   "cell_type": "markdown",
   "id": "1b13640d-c29f-4c51-9c78-4220edf29711",
   "metadata": {},
   "source": [
    "### Lasso predictions standardized"
   ]
  },
  {
   "cell_type": "code",
   "execution_count": null,
   "id": "64988fbc-3391-4181-adf2-edd11ed4c358",
   "metadata": {},
   "outputs": [],
   "source": [
    "lasso_pred <- read.csv(\"data/ATAC_predictions_on_all_samples/ATAC_pred_lasso_std_FALSE_formatted_standardized.csv\")\n",
    "lasso_pred <- format_input(lasso_pred, \"PGDX10344P1\")\n",
    "head(lasso_pred)"
   ]
  },
  {
   "cell_type": "code",
   "execution_count": null,
   "id": "0d076851-1e07-4f85-be08-8b0b464c2ea4",
   "metadata": {},
   "outputs": [],
   "source": [
    "ind_pred_chr <- lasso_pred %>% filter(chr == 1)\n",
    "\n",
    "colors <- c(\"ATAC_observed\" = \"firebrick\", \"ATAC_prediction\" = \"darkblue\")\n",
    "\n",
    "p <- ggplot(ind_pred_chr) + \n",
    "        geom_point(aes(x = position, y = ATAC_observed, color = \"ATAC_observed\"), size = 0.5) + \n",
    "        geom_line(aes(x = position, y = ATAC_observed, color = \"ATAC_observed\"), size = 0.3) + \n",
    "        geom_point(aes(x = position, y = ATAC_prediction, color = \"ATAC_prediction\"), size = 0.5) + \n",
    "        geom_line(aes(x = position, y = ATAC_prediction, color = \"ATAC_prediction\"), size = 0.3) +\n",
    "        labs(x = \"Position\",\n",
    "             y = \"ATAC value\",\n",
    "             color = \"Legend\") +\n",
    "        scale_color_manual(values = colors)\n",
    "\n",
    "plotly::ggplotly(p)"
   ]
  },
  {
   "cell_type": "markdown",
   "id": "16013299-6739-4074-895b-71fb9655e65c",
   "metadata": {},
   "source": [
    "### Lasso Gaussian Trimmed predictions"
   ]
  },
  {
   "cell_type": "code",
   "execution_count": null,
   "id": "cbaf6b3e-5587-417a-ae8e-f494738d5a0f",
   "metadata": {},
   "outputs": [],
   "source": [
    "lasso_gaussian_trim_pred <- read.csv(\"data/ATAC_predictions_on_all_samples/ATAC_pred_lasso_gaussian_trimmed_formatted.csv\")\n",
    "lasso_gaussian_trim_pred <- format_input(lasso_gaussian_trim_pred, \"PGDX10344P1\")\n",
    "head(lasso_gaussian_trim_pred)"
   ]
  },
  {
   "cell_type": "code",
   "execution_count": null,
   "id": "fc169772-9326-40ad-8212-72a584835f4f",
   "metadata": {},
   "outputs": [],
   "source": [
    "ind_pred_chr <- lasso_gaussian_trim_pred %>% filter(chr == 1)\n",
    "\n",
    "colors <- c(\"ATAC_observed\" = \"firebrick\", \"ATAC_prediction\" = \"darkblue\")\n",
    "\n",
    "p <- ggplot(ind_pred_chr) + \n",
    "        geom_point(aes(x = position, y = ATAC_observed, color = \"ATAC_observed\"), size = 0.5) + \n",
    "        geom_line(aes(x = position, y = ATAC_observed, color = \"ATAC_observed\"), size = 0.3) + \n",
    "        geom_point(aes(x = position, y = ATAC_prediction, color = \"ATAC_prediction\"), size = 0.5) + \n",
    "        geom_line(aes(x = position, y = ATAC_prediction, color = \"ATAC_prediction\"), size = 0.3) +\n",
    "        labs(x = \"Position\",\n",
    "             y = \"ATAC value\",\n",
    "             color = \"Legend\") +\n",
    "        scale_color_manual(values = colors)\n",
    "\n",
    "plotly::ggplotly(p)"
   ]
  },
  {
   "cell_type": "markdown",
   "id": "49eeb173-dba9-49cd-b69e-58d008502b92",
   "metadata": {},
   "source": [
    "### Lasso Gaussian std FALSE predictions"
   ]
  },
  {
   "cell_type": "code",
   "execution_count": null,
   "id": "3b3817a4-1c76-4582-847e-9f46383a1a03",
   "metadata": {},
   "outputs": [],
   "source": [
    "lasso_gaussian_stdFALSE_pred <- read.csv(\"data/ATAC_predictions_on_all_samples/ATAC_pred_smooth_gaussian_lasso_std_FALSE_formatted.csv\")\n",
    "lasso_gaussian_stdFALSE_pred <- format_input(lasso_gaussian_stdFALSE_pred, \"PGDX10344P1\")\n",
    "head(lasso_gaussian_stdFALSE_pred)"
   ]
  },
  {
   "cell_type": "code",
   "execution_count": null,
   "id": "ad802102-519f-40d3-b561-6a230b76cfe7",
   "metadata": {},
   "outputs": [],
   "source": [
    "ind_pred_chr <- lasso_gaussian_stdFALSE_pred %>% filter(chr == 1)\n",
    "\n",
    "colors <- c(\"ATAC_observed\" = \"firebrick\", \"ATAC_prediction\" = \"darkblue\")\n",
    "\n",
    "p <- ggplot(ind_pred_chr) + \n",
    "        geom_point(aes(x = position, y = ATAC_observed, color = \"ATAC_observed\"), size = 0.5) + \n",
    "        geom_line(aes(x = position, y = ATAC_observed, color = \"ATAC_observed\"), size = 0.3) + \n",
    "        geom_point(aes(x = position, y = ATAC_prediction, color = \"ATAC_prediction\"), size = 0.5) + \n",
    "        geom_line(aes(x = position, y = ATAC_prediction, color = \"ATAC_prediction\"), size = 0.3) +\n",
    "        labs(x = \"Position\",\n",
    "             y = \"ATAC value\",\n",
    "             color = \"Legend\") +\n",
    "        scale_color_manual(values = colors)\n",
    "\n",
    "plotly::ggplotly(p)"
   ]
  },
  {
   "cell_type": "markdown",
   "id": "21891907-59e8-426e-8a16-78abbbdfe8fa",
   "metadata": {},
   "source": [
    "### Lasso Gaussian std TRUE predictions"
   ]
  },
  {
   "cell_type": "code",
   "execution_count": null,
   "id": "abdea800-725d-4f2e-b2d4-cc1baec31f99",
   "metadata": {},
   "outputs": [],
   "source": [
    "lasso_gaussian_stdTRUE_pred <- read.csv(\"data/ATAC_predictions_on_all_samples/ATAC_pred_smooth_gaussian_lasso_std_TRUE_formatted.csv\")\n",
    "lasso_gaussian_stdTRUE_pred <- format_input(lasso_gaussian_stdTRUE_pred, \"PGDX10344P1\")\n",
    "head(lasso_gaussian_stdTRUE_pred)"
   ]
  },
  {
   "cell_type": "code",
   "execution_count": null,
   "id": "fe14f6ea-d5a6-4a2d-ad80-a215356dde3c",
   "metadata": {},
   "outputs": [],
   "source": [
    "ind_pred_chr <- lasso_gaussian_stdTRUE_pred %>% filter(chr == 1)\n",
    "\n",
    "colors <- c(\"ATAC_observed\" = \"firebrick\", \"ATAC_prediction\" = \"darkblue\")\n",
    "\n",
    "p <- ggplot(ind_pred_chr) + \n",
    "        geom_point(aes(x = position, y = ATAC_observed, color = \"ATAC_observed\"), size = 0.5) + \n",
    "        geom_line(aes(x = position, y = ATAC_observed, color = \"ATAC_observed\"), size = 0.3) + \n",
    "        geom_point(aes(x = position, y = ATAC_prediction, color = \"ATAC_prediction\"), size = 0.5) + \n",
    "        geom_line(aes(x = position, y = ATAC_prediction, color = \"ATAC_prediction\"), size = 0.3) +\n",
    "        labs(x = \"Position\",\n",
    "             y = \"ATAC value\",\n",
    "             color = \"Legend\") +\n",
    "        scale_color_manual(values = colors)\n",
    "\n",
    "plotly::ggplotly(p)"
   ]
  },
  {
   "cell_type": "code",
   "execution_count": null,
   "id": "e0d6512d-3033-4db6-8aa1-1867eb94fba6",
   "metadata": {},
   "outputs": [],
   "source": []
  },
  {
   "cell_type": "markdown",
   "id": "228001ca-03e8-452a-9625-4ca158036969",
   "metadata": {},
   "source": [
    "### Random forest predictions"
   ]
  },
  {
   "cell_type": "code",
   "execution_count": null,
   "id": "a6300a2b-ef26-403c-b9c3-2b55a15163f2",
   "metadata": {},
   "outputs": [],
   "source": [
    "random_forest_pred <- read.csv(\"data/ATAC_predictions_on_all_samples/ATAC_pred_random_forest_formatted.csv\")\n",
    "random_forest_pred <- format_input(random_forest_pred, \"PGDX10344P1\")\n",
    "head(random_forest_pred)"
   ]
  },
  {
   "cell_type": "code",
   "execution_count": null,
   "id": "14da8fe2-3f48-46b9-8846-67ce90ac0d9d",
   "metadata": {},
   "outputs": [],
   "source": [
    "ind_pred_chr <- random_forest_pred %>% filter(chr == 1)\n",
    "\n",
    "colors <- c(\"ATAC_observed\" = \"firebrick\", \"ATAC_prediction\" = \"darkblue\")\n",
    "\n",
    "p <- ggplot(ind_pred_chr) + \n",
    "        geom_point(aes(x = position, y = ATAC_observed, color = \"ATAC_observed\"), size = 0.5) + \n",
    "        geom_line(aes(x = position, y = ATAC_observed, color = \"ATAC_observed\"), size = 0.3) + \n",
    "        geom_point(aes(x = position, y = ATAC_prediction, color = \"ATAC_prediction\"), size = 0.5) + \n",
    "        geom_line(aes(x = position, y = ATAC_prediction, color = \"ATAC_prediction\"), size = 0.3) +\n",
    "        labs(x = \"Position\",\n",
    "             y = \"ATAC value\",\n",
    "             color = \"Legend\") +\n",
    "        scale_color_manual(values = colors)\n",
    "\n",
    "plotly::ggplotly(p)"
   ]
  },
  {
   "cell_type": "code",
   "execution_count": null,
   "id": "9673f29b-715e-4e97-99c9-ecbe23139b7e",
   "metadata": {},
   "outputs": [],
   "source": []
  },
  {
   "cell_type": "code",
   "execution_count": null,
   "id": "aad78212-1304-4f6b-93a0-6b17a4884d15",
   "metadata": {},
   "outputs": [],
   "source": []
  },
  {
   "cell_type": "code",
   "execution_count": null,
   "id": "06bad418-a329-4e58-8149-93167f06b428",
   "metadata": {},
   "outputs": [],
   "source": []
  },
  {
   "cell_type": "code",
   "execution_count": null,
   "id": "802eb195-c02d-48f6-b518-bd5c6d49b26f",
   "metadata": {},
   "outputs": [],
   "source": []
  },
  {
   "cell_type": "markdown",
   "id": "1d9c71eb-516a-4592-b22c-e50e83a5b280",
   "metadata": {},
   "source": [
    "## Plots after removing the outlier (PGDX7096P) form the PCA/tSNE"
   ]
  },
  {
   "cell_type": "markdown",
   "id": "85f26e3b-4fe5-4bea-a931-2c2ae4e1bf23",
   "metadata": {},
   "source": [
    "### Lasso"
   ]
  },
  {
   "cell_type": "code",
   "execution_count": null,
   "id": "03dcb16c-f71f-4143-adaa-f45b99f399b4",
   "metadata": {},
   "outputs": [],
   "source": [
    "lasso_pred <- read.csv(\"data/ATAC_predictions_on_all_samples/ATAC_pred_lasso_std_FALSE_formatted.csv\")\n",
    "lasso_pred <- format_input(lasso_pred, \"PGDX7096P\")\n",
    "head(lasso_pred)"
   ]
  },
  {
   "cell_type": "code",
   "execution_count": null,
   "id": "77f7f905-0715-4931-835a-793110dce3fe",
   "metadata": {},
   "outputs": [],
   "source": [
    "ind_pred_chr <- lasso_pred %>% filter(chr == 1)\n",
    "\n",
    "colors <- c(\"ATAC_observed\" = \"firebrick\", \"ATAC_prediction\" = \"darkblue\")\n",
    "\n",
    "p <- ggplot(ind_pred_chr) + \n",
    "        geom_point(aes(x = position, y = ATAC_observed, color = \"ATAC_observed\"), size = 0.5) + \n",
    "        geom_line(aes(x = position, y = ATAC_observed, color = \"ATAC_observed\"), size = 0.3) + \n",
    "        geom_point(aes(x = position, y = ATAC_prediction, color = \"ATAC_prediction\"), size = 0.5) + \n",
    "        geom_line(aes(x = position, y = ATAC_prediction, color = \"ATAC_prediction\"), size = 0.3) +\n",
    "        labs(x = \"Position\",\n",
    "             y = \"ATAC value\",\n",
    "             color = \"Legend\") +\n",
    "        scale_color_manual(values = colors)\n",
    "\n",
    "plotly::ggplotly(p)"
   ]
  },
  {
   "cell_type": "markdown",
   "id": "ebb7ff08-b436-43ce-888f-b88177032411",
   "metadata": {},
   "source": [
    "### Random forest "
   ]
  },
  {
   "cell_type": "code",
   "execution_count": null,
   "id": "94ee852b-32ae-4ce9-a85f-285de06a3074",
   "metadata": {},
   "outputs": [],
   "source": [
    "random_forest_pred <- read.csv(\"data/ATAC_predictions_on_all_samples/ATAC_pred_random_forest_formatted.csv\")\n",
    "random_forest_pred <- format_input(random_forest_pred, \"PGDX7096P\")\n",
    "head(random_forest_pred)"
   ]
  },
  {
   "cell_type": "code",
   "execution_count": null,
   "id": "a29d42e6-5a89-427c-8d68-4abc3852a599",
   "metadata": {},
   "outputs": [],
   "source": [
    "ind_pred_chr <- random_forest_pred %>% filter(chr == 2)\n",
    "\n",
    "colors <- c(\"ATAC_observed\" = \"firebrick\", \"ATAC_prediction\" = \"darkblue\")\n",
    "\n",
    "p <- ggplot(ind_pred_chr) + \n",
    "        geom_point(aes(x = position, y = ATAC_observed, color = \"ATAC_observed\"), size = 0.5) + \n",
    "        geom_line(aes(x = position, y = ATAC_observed, color = \"ATAC_observed\"), size = 0.3) + \n",
    "        geom_point(aes(x = position, y = ATAC_prediction, color = \"ATAC_prediction\"), size = 0.5) + \n",
    "        geom_line(aes(x = position, y = ATAC_prediction, color = \"ATAC_prediction\"), size = 0.3) +\n",
    "        labs(x = \"Position\",\n",
    "             y = \"ATAC value\",\n",
    "             color = \"Legend\") +\n",
    "        scale_color_manual(values = colors)\n",
    "\n",
    "plotly::ggplotly(p)"
   ]
  },
  {
   "cell_type": "code",
   "execution_count": null,
   "id": "29b08c51-60a4-4266-b08a-371442a1d414",
   "metadata": {},
   "outputs": [],
   "source": []
  }
 ],
 "metadata": {
  "kernelspec": {
   "display_name": "R",
   "language": "R",
   "name": "ir"
  },
  "language_info": {
   "codemirror_mode": "r",
   "file_extension": ".r",
   "mimetype": "text/x-r-source",
   "name": "R",
   "pygments_lexer": "r",
   "version": "3.6.1"
  }
 },
 "nbformat": 4,
 "nbformat_minor": 5
}
