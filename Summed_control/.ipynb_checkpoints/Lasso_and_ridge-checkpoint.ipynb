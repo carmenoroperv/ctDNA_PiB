{
 "cells": [
  {
   "cell_type": "code",
   "execution_count": 3,
   "id": "6be25f58-3c02-4487-bb5b-4b068cbf8faa",
   "metadata": {},
   "outputs": [],
   "source": [
    "library(tidyverse)\n",
    "library(tidyr)\n",
    "library(slider)\n",
    "\n",
    "library(glmnet)\n",
    "library(plotly)"
   ]
  },
  {
   "cell_type": "code",
   "execution_count": 4,
   "id": "5722e2a7-e5ef-4333-8388-93ae6765b419",
   "metadata": {},
   "outputs": [],
   "source": [
    "#sum_control_ATAC_bin_rm = readRDS(\"../data/data_rds_format/sum_control_ATAC_bin_rm_CONTROLS.rds\")\n",
    "#standardization = \"TRUE\"\n",
    "#METHOD = \"LASSO\"\n",
    "\n",
    "METHOD = as.character(snakemake@params[[\"METHOD\"]])\n",
    "standardization = as.character(snakemake@params[[\"STD\"]])\n",
    "sum_control_ATAC_bin_rm = readRDS(snakemake@input[[\"input_train\"]])\n",
    "\n",
    "\n",
    "if (METHOD == \"LASSO\"){\n",
    "    alpha_method = 1\n",
    "    } else if (METHOD == \"RIDGE\"){\n",
    "    alpha_method = 0}\n",
    "\n",
    "\n"
   ]
  },
  {
   "cell_type": "code",
   "execution_count": 5,
   "id": "fb1c7c35-d652-4690-92d6-292c800072f9",
   "metadata": {},
   "outputs": [
    {
     "data": {
      "text/html": [
       "<table>\n",
       "<thead><tr><th scope=col>X30</th><th scope=col>X31</th><th scope=col>X32</th><th scope=col>X33</th><th scope=col>X34</th><th scope=col>X35</th><th scope=col>X36</th><th scope=col>X37</th><th scope=col>X38</th><th scope=col>X39</th><th scope=col>...</th><th scope=col>X692</th><th scope=col>X693</th><th scope=col>X694</th><th scope=col>X695</th><th scope=col>X696</th><th scope=col>X697</th><th scope=col>X698</th><th scope=col>X699</th><th scope=col>X700</th><th scope=col>ATAC_val</th></tr></thead>\n",
       "<tbody>\n",
       "\t<tr><td>8.699646e-07</td><td>3.479859e-06</td><td>2.609894e-06</td><td>0.000000e+00</td><td>8.699646e-07</td><td>8.699646e-07</td><td>1.739929e-06</td><td>1.739929e-06</td><td>0.000000e+00</td><td>2.609894e-06</td><td>...         </td><td>0           </td><td>0           </td><td>0           </td><td>0           </td><td>0           </td><td>0           </td><td>0           </td><td>0           </td><td>0.000000e+00</td><td>0.5931657   </td></tr>\n",
       "\t<tr><td>8.313727e-07</td><td>8.313727e-07</td><td>0.000000e+00</td><td>8.313727e-07</td><td>1.662745e-06</td><td>8.313727e-07</td><td>8.313727e-07</td><td>5.819609e-06</td><td>3.325491e-06</td><td>3.325491e-06</td><td>...         </td><td>0           </td><td>0           </td><td>0           </td><td>0           </td><td>0           </td><td>0           </td><td>0           </td><td>0           </td><td>0.000000e+00</td><td>0.4089315   </td></tr>\n",
       "\t<tr><td>8.705774e-07</td><td>1.741155e-06</td><td>8.705774e-07</td><td>8.705774e-07</td><td>0.000000e+00</td><td>0.000000e+00</td><td>2.611732e-06</td><td>3.482309e-06</td><td>0.000000e+00</td><td>8.705774e-07</td><td>...         </td><td>0           </td><td>0           </td><td>0           </td><td>0           </td><td>0           </td><td>0           </td><td>0           </td><td>0           </td><td>8.705774e-07</td><td>0.3058228   </td></tr>\n",
       "\t<tr><td>0.000000e+00</td><td>1.700685e-06</td><td>0.000000e+00</td><td>8.503423e-07</td><td>8.503423e-07</td><td>1.700685e-06</td><td>8.503423e-07</td><td>0.000000e+00</td><td>8.503423e-07</td><td>8.503423e-07</td><td>...         </td><td>0           </td><td>0           </td><td>0           </td><td>0           </td><td>0           </td><td>0           </td><td>0           </td><td>0           </td><td>0.000000e+00</td><td>0.4764137   </td></tr>\n",
       "\t<tr><td>0.000000e+00</td><td>9.416577e-07</td><td>0.000000e+00</td><td>0.000000e+00</td><td>9.416577e-07</td><td>0.000000e+00</td><td>9.416577e-07</td><td>0.000000e+00</td><td>2.824973e-06</td><td>0.000000e+00</td><td>...         </td><td>0           </td><td>0           </td><td>0           </td><td>0           </td><td>0           </td><td>0           </td><td>0           </td><td>0           </td><td>0.000000e+00</td><td>0.2862775   </td></tr>\n",
       "\t<tr><td>0.000000e+00</td><td>0.000000e+00</td><td>0.000000e+00</td><td>4.221123e-06</td><td>1.688449e-06</td><td>1.688449e-06</td><td>8.442245e-07</td><td>0.000000e+00</td><td>2.532674e-06</td><td>0.000000e+00</td><td>...         </td><td>0           </td><td>0           </td><td>0           </td><td>0           </td><td>0           </td><td>0           </td><td>0           </td><td>0           </td><td>0.000000e+00</td><td>0.3169988   </td></tr>\n",
       "</tbody>\n",
       "</table>\n"
      ],
      "text/latex": [
       "\\begin{tabular}{r|llllllllllllllllllllllllllllllllllllllllllllllllllllllllllllllllllllllllllllllllllllllllllllllllllllllllllllllllllllllllllllllllllllllllllllllllllllllllllllllllllllllllllllllllllllllllllllllllllllllllllllllllllllllllllllllllllllllllllllllllllllllllllllllllllllllllllllllllllllllllllllllllllllllllllllllllllllllllllllllllllllllllllllllllllllllllllllllllllllllllllllllllllllllllllllllllllllllllllllllllllllllllllllllllllllllllllllllllllllllllllllllllllllllllllllllllllllllllllllllllllllllllllllllllllllllllllllllllllllllllllllllllllllllllllllllllllllllllllllllllllllllllllllllllllllllllllllllllllllllllllllllllllllllllllllllllllllllllllllllllllllllllllllllllllllllllllllllll}\n",
       " X30 & X31 & X32 & X33 & X34 & X35 & X36 & X37 & X38 & X39 & ... & X692 & X693 & X694 & X695 & X696 & X697 & X698 & X699 & X700 & ATAC\\_val\\\\\n",
       "\\hline\n",
       "\t 8.699646e-07 & 3.479859e-06 & 2.609894e-06 & 0.000000e+00 & 8.699646e-07 & 8.699646e-07 & 1.739929e-06 & 1.739929e-06 & 0.000000e+00 & 2.609894e-06 & ...          & 0            & 0            & 0            & 0            & 0            & 0            & 0            & 0            & 0.000000e+00 & 0.5931657   \\\\\n",
       "\t 8.313727e-07 & 8.313727e-07 & 0.000000e+00 & 8.313727e-07 & 1.662745e-06 & 8.313727e-07 & 8.313727e-07 & 5.819609e-06 & 3.325491e-06 & 3.325491e-06 & ...          & 0            & 0            & 0            & 0            & 0            & 0            & 0            & 0            & 0.000000e+00 & 0.4089315   \\\\\n",
       "\t 8.705774e-07 & 1.741155e-06 & 8.705774e-07 & 8.705774e-07 & 0.000000e+00 & 0.000000e+00 & 2.611732e-06 & 3.482309e-06 & 0.000000e+00 & 8.705774e-07 & ...          & 0            & 0            & 0            & 0            & 0            & 0            & 0            & 0            & 8.705774e-07 & 0.3058228   \\\\\n",
       "\t 0.000000e+00 & 1.700685e-06 & 0.000000e+00 & 8.503423e-07 & 8.503423e-07 & 1.700685e-06 & 8.503423e-07 & 0.000000e+00 & 8.503423e-07 & 8.503423e-07 & ...          & 0            & 0            & 0            & 0            & 0            & 0            & 0            & 0            & 0.000000e+00 & 0.4764137   \\\\\n",
       "\t 0.000000e+00 & 9.416577e-07 & 0.000000e+00 & 0.000000e+00 & 9.416577e-07 & 0.000000e+00 & 9.416577e-07 & 0.000000e+00 & 2.824973e-06 & 0.000000e+00 & ...          & 0            & 0            & 0            & 0            & 0            & 0            & 0            & 0            & 0.000000e+00 & 0.2862775   \\\\\n",
       "\t 0.000000e+00 & 0.000000e+00 & 0.000000e+00 & 4.221123e-06 & 1.688449e-06 & 1.688449e-06 & 8.442245e-07 & 0.000000e+00 & 2.532674e-06 & 0.000000e+00 & ...          & 0            & 0            & 0            & 0            & 0            & 0            & 0            & 0            & 0.000000e+00 & 0.3169988   \\\\\n",
       "\\end{tabular}\n"
      ],
      "text/markdown": [
       "\n",
       "| X30 | X31 | X32 | X33 | X34 | X35 | X36 | X37 | X38 | X39 | ... | X692 | X693 | X694 | X695 | X696 | X697 | X698 | X699 | X700 | ATAC_val |\n",
       "|---|---|---|---|---|---|---|---|---|---|---|---|---|---|---|---|---|---|---|---|---|\n",
       "| 8.699646e-07 | 3.479859e-06 | 2.609894e-06 | 0.000000e+00 | 8.699646e-07 | 8.699646e-07 | 1.739929e-06 | 1.739929e-06 | 0.000000e+00 | 2.609894e-06 | ...          | 0            | 0            | 0            | 0            | 0            | 0            | 0            | 0            | 0.000000e+00 | 0.5931657    |\n",
       "| 8.313727e-07 | 8.313727e-07 | 0.000000e+00 | 8.313727e-07 | 1.662745e-06 | 8.313727e-07 | 8.313727e-07 | 5.819609e-06 | 3.325491e-06 | 3.325491e-06 | ...          | 0            | 0            | 0            | 0            | 0            | 0            | 0            | 0            | 0.000000e+00 | 0.4089315    |\n",
       "| 8.705774e-07 | 1.741155e-06 | 8.705774e-07 | 8.705774e-07 | 0.000000e+00 | 0.000000e+00 | 2.611732e-06 | 3.482309e-06 | 0.000000e+00 | 8.705774e-07 | ...          | 0            | 0            | 0            | 0            | 0            | 0            | 0            | 0            | 8.705774e-07 | 0.3058228    |\n",
       "| 0.000000e+00 | 1.700685e-06 | 0.000000e+00 | 8.503423e-07 | 8.503423e-07 | 1.700685e-06 | 8.503423e-07 | 0.000000e+00 | 8.503423e-07 | 8.503423e-07 | ...          | 0            | 0            | 0            | 0            | 0            | 0            | 0            | 0            | 0.000000e+00 | 0.4764137    |\n",
       "| 0.000000e+00 | 9.416577e-07 | 0.000000e+00 | 0.000000e+00 | 9.416577e-07 | 0.000000e+00 | 9.416577e-07 | 0.000000e+00 | 2.824973e-06 | 0.000000e+00 | ...          | 0            | 0            | 0            | 0            | 0            | 0            | 0            | 0            | 0.000000e+00 | 0.2862775    |\n",
       "| 0.000000e+00 | 0.000000e+00 | 0.000000e+00 | 4.221123e-06 | 1.688449e-06 | 1.688449e-06 | 8.442245e-07 | 0.000000e+00 | 2.532674e-06 | 0.000000e+00 | ...          | 0            | 0            | 0            | 0            | 0            | 0            | 0            | 0            | 0.000000e+00 | 0.3169988    |\n",
       "\n"
      ],
      "text/plain": [
       "  X30          X31          X32          X33          X34          X35         \n",
       "1 8.699646e-07 3.479859e-06 2.609894e-06 0.000000e+00 8.699646e-07 8.699646e-07\n",
       "2 8.313727e-07 8.313727e-07 0.000000e+00 8.313727e-07 1.662745e-06 8.313727e-07\n",
       "3 8.705774e-07 1.741155e-06 8.705774e-07 8.705774e-07 0.000000e+00 0.000000e+00\n",
       "4 0.000000e+00 1.700685e-06 0.000000e+00 8.503423e-07 8.503423e-07 1.700685e-06\n",
       "5 0.000000e+00 9.416577e-07 0.000000e+00 0.000000e+00 9.416577e-07 0.000000e+00\n",
       "6 0.000000e+00 0.000000e+00 0.000000e+00 4.221123e-06 1.688449e-06 1.688449e-06\n",
       "  X36          X37          X38          X39          ... X692 X693 X694 X695\n",
       "1 1.739929e-06 1.739929e-06 0.000000e+00 2.609894e-06 ... 0    0    0    0   \n",
       "2 8.313727e-07 5.819609e-06 3.325491e-06 3.325491e-06 ... 0    0    0    0   \n",
       "3 2.611732e-06 3.482309e-06 0.000000e+00 8.705774e-07 ... 0    0    0    0   \n",
       "4 8.503423e-07 0.000000e+00 8.503423e-07 8.503423e-07 ... 0    0    0    0   \n",
       "5 9.416577e-07 0.000000e+00 2.824973e-06 0.000000e+00 ... 0    0    0    0   \n",
       "6 8.442245e-07 0.000000e+00 2.532674e-06 0.000000e+00 ... 0    0    0    0   \n",
       "  X696 X697 X698 X699 X700         ATAC_val \n",
       "1 0    0    0    0    0.000000e+00 0.5931657\n",
       "2 0    0    0    0    0.000000e+00 0.4089315\n",
       "3 0    0    0    0    8.705774e-07 0.3058228\n",
       "4 0    0    0    0    0.000000e+00 0.4764137\n",
       "5 0    0    0    0    0.000000e+00 0.2862775\n",
       "6 0    0    0    0    0.000000e+00 0.3169988"
      ]
     },
     "metadata": {},
     "output_type": "display_data"
    }
   ],
   "source": [
    "head(sum_control_ATAC_bin_rm)"
   ]
  },
  {
   "cell_type": "code",
   "execution_count": 6,
   "id": "fb81e574-302b-429f-a632-0a56046aa22f",
   "metadata": {},
   "outputs": [
    {
     "name": "stderr",
     "output_type": "stream",
     "text": [
      "Warning message in regularize.values(x, y, ties, missing(ties)):\n",
      "“collapsing to unique 'x' values”Warning message in regularize.values(x, y, ties, missing(ties)):\n",
      "“collapsing to unique 'x' values”Warning message in regularize.values(x, y, ties, missing(ties)):\n",
      "“collapsing to unique 'x' values”Warning message in regularize.values(x, y, ties, missing(ties)):\n",
      "“collapsing to unique 'x' values”Warning message in regularize.values(x, y, ties, missing(ties)):\n",
      "“collapsing to unique 'x' values”Warning message in regularize.values(x, y, ties, missing(ties)):\n",
      "“collapsing to unique 'x' values”Warning message in regularize.values(x, y, ties, missing(ties)):\n",
      "“collapsing to unique 'x' values”Warning message in regularize.values(x, y, ties, missing(ties)):\n",
      "“collapsing to unique 'x' values”Warning message in regularize.values(x, y, ties, missing(ties)):\n",
      "“collapsing to unique 'x' values”Warning message in regularize.values(x, y, ties, missing(ties)):\n",
      "“collapsing to unique 'x' values”"
     ]
    },
    {
     "data": {
      "image/png": "[encoded data removed]",
      "text/plain": [
       "plot without title"
      ]
     },
     "metadata": {},
     "output_type": "display_data"
    }
   ],
   "source": [
    "set.seed(0)\n",
    "#X==predictor\n",
    "#y==response\n",
    "\n",
    "y <- sum_control_ATAC_bin_rm %>% dplyr::select(ATAC_val) %>%  as.matrix()\n",
    "X <- sum_control_ATAC_bin_rm %>% dplyr::select(-ATAC_val) %>% as.matrix()\n",
    "\n",
    "lambdas_to_try <- 10^seq(-20, -1, length.out = 100)\n",
    "#standardize = FALSE -- range -10 to -5\n",
    "#standardize = TRUE -- range -7 to -3\n",
    "\n",
    "\n",
    "if (standardization == \"TRUE\"){ \n",
    "    lasso_cv <- cv.glmnet(X, y, alpha = alpha_method, lambda = lambdas_to_try,\n",
    "                      standardize = TRUE, nfolds = 10)\n",
    "    } else if (standardization == \"FALSE\"){\n",
    "    lasso_cv <- cv.glmnet(X, y, alpha = alpha_method, lambda = lambdas_to_try,\n",
    "                      standardize = FALSE, nfolds = 10)}\n",
    "\n",
    "#Plotting the MSE and log(lambda)\n",
    "\n",
    "plot(lasso_cv)"
   ]
  },
  {
   "cell_type": "code",
   "execution_count": 7,
   "id": "af217794-5f74-47c7-8853-e7fa804e7a5d",
   "metadata": {},
   "outputs": [],
   "source": [
    "lambda_cv <- lasso_cv$lambda.min"
   ]
  },
  {
   "cell_type": "code",
   "execution_count": 8,
   "id": "dbc5c038-8f4e-4575-8f14-1e32d3bf178e",
   "metadata": {},
   "outputs": [],
   "source": [
    "CV_lasso<-function(data, nfolds){\n",
    "    set.seed(0)\n",
    "    cvfolds <- cut(1:nrow(data), breaks = nfolds, labels = F)\n",
    "    cvfolds <- sample(cvfolds)\n",
    "    \n",
    "\n",
    "    predicted <- rep(NA, nrow(data))\n",
    "    #data_as_matrix <- data %>% dplyr::select(-ATAC_val) %>% as.matrix() \n",
    "    \n",
    "    y <- data %>% dplyr::select(ATAC_val) %>%  as.matrix()\n",
    "    X <- data %>% dplyr::select(-ATAC_val) %>% as.matrix() \n",
    "    \n",
    "    for (i in 1:nfolds){\n",
    "        rows      <- which(cvfolds==i)\n",
    "        testdata  <- X[rows,]\n",
    "        traindata <- X[-rows,]\n",
    "        train_y <- y[-rows,]\n",
    "        \n",
    "        if (standardization == \"FALSE\"){ \n",
    "        fit       <- glmnet(traindata, train_y, alpha = alpha_method, lambda = lambda_cv, standardize = FALSE)\n",
    "            } else if (standardization == \"TRUE\"){ \n",
    "        fit       <- glmnet(traindata, train_y, alpha = alpha_method, lambda = lambda_cv, standardize = TRUE)}\n",
    "        \n",
    "        tmp       <- predict(fit, s=lambda_cv, testdata)\n",
    "        predicted[rows] <- tmp\n",
    "    }\n",
    "    \n",
    "    rm(tmp)\n",
    "    observed <- y\n",
    "    head(observed)\n",
    "    mean(observed)\n",
    "    se    <- (observed-predicted)^2\n",
    "    mse   <- mean(se)\n",
    "    (rmse <- sqrt(mse))\n",
    "    \n",
    "    return(tibble(observed = observed, predicted = predicted))\n",
    "}"
   ]
  },
  {
   "cell_type": "code",
   "execution_count": 9,
   "id": "ffc84ce7-cd74-4861-a958-db132dec3b96",
   "metadata": {},
   "outputs": [],
   "source": [
    "res_lasso_pred <- CV_lasso(sum_control_ATAC_bin_rm, 10)\n",
    "#head(res_lasso_pred)"
   ]
  },
  {
   "cell_type": "code",
   "execution_count": 10,
   "id": "d3bb75ab-ad94-4486-9002-7ba1a1a46236",
   "metadata": {},
   "outputs": [],
   "source": [
    "p1 <- ggplot(res_lasso_pred, aes(x = observed, y = predicted)) + \n",
    "    geom_point(size = 0.5) + \n",
    "    geom_smooth(method = \"lm\", formula = y~x)"
   ]
  },
  {
   "cell_type": "code",
   "execution_count": 11,
   "id": "3e9e4b9b-801e-4a74-a1f3-ac74c2a069c9",
   "metadata": {},
   "outputs": [
    {
     "name": "stderr",
     "output_type": "stream",
     "text": [
      "Saving 6.67 x 6.67 in image\n"
     ]
    }
   ],
   "source": [
    "#ggsave(plot = p1, file = \"output.png\")\n",
    "ggsave(plot = p1, file = snakemake@output[[\"lasso_ridge_plot_summed\"]])"
   ]
  },
  {
   "cell_type": "code",
   "execution_count": 12,
   "id": "e82915d5-cce8-424f-bff3-81c969777275",
   "metadata": {},
   "outputs": [],
   "source": [
    "summed_corr = cor(res_lasso_pred$observed, res_lasso_pred$predicted)"
   ]
  },
  {
   "cell_type": "code",
   "execution_count": 13,
   "id": "f0570d07-1357-4c74-8aff-fe011ef5fa64",
   "metadata": {},
   "outputs": [
    {
     "data": {
      "text/html": [
       "<table>\n",
       "<tbody>\n",
       "\t<tr><th scope=row>ATAC_val</th><td>0.6856132</td></tr>\n",
       "</tbody>\n",
       "</table>\n"
      ],
      "text/latex": [
       "\\begin{tabular}{r|l}\n",
       "\tATAC\\_val & 0.6856132\\\\\n",
       "\\end{tabular}\n"
      ],
      "text/markdown": [
       "\n",
       "| ATAC_val | 0.6856132 |\n",
       "\n"
      ],
      "text/plain": [
       "         [,1]     \n",
       "ATAC_val 0.6856132"
      ]
     },
     "metadata": {},
     "output_type": "display_data"
    }
   ],
   "source": [
    "summed_corr"
   ]
  },
  {
   "cell_type": "markdown",
   "id": "d0fbe6c9-478b-440b-a025-8d1ed7d1791b",
   "metadata": {},
   "source": [
    "### Predictions for all individuals"
   ]
  },
  {
   "cell_type": "code",
   "execution_count": 14,
   "id": "fbe050f4-e02d-4dd6-9129-6f6a9675c00c",
   "metadata": {},
   "outputs": [],
   "source": [
    "#all_individuals = readRDS(\"../data/cases_controls/cases_controls_rds_format/all_samples_normalized_CONTROLS.rds\")\n",
    "\n",
    "all_individuals = readRDS(snakemake@input[[\"input_test\"]])"
   ]
  },
  {
   "cell_type": "code",
   "execution_count": 15,
   "id": "88544463-738d-4019-b348-cb6b951c2642",
   "metadata": {},
   "outputs": [
    {
     "data": {
      "text/html": [
       "<table>\n",
       "<thead><tr><th scope=col>sample</th><th scope=col>bin</th><th scope=col>X30</th><th scope=col>X31</th><th scope=col>X32</th><th scope=col>X33</th><th scope=col>X34</th><th scope=col>X35</th><th scope=col>X36</th><th scope=col>X37</th><th scope=col>...</th><th scope=col>X691</th><th scope=col>X692</th><th scope=col>X693</th><th scope=col>X694</th><th scope=col>X695</th><th scope=col>X696</th><th scope=col>X697</th><th scope=col>X698</th><th scope=col>X699</th><th scope=col>X700</th></tr></thead>\n",
       "<tbody>\n",
       "\t<tr><td>PGDX16568P</td><td>chr10_400 </td><td>0         </td><td>0         </td><td>0         </td><td>0         </td><td>0         </td><td>0         </td><td>0         </td><td>0         </td><td>...       </td><td>0         </td><td>0         </td><td>0         </td><td>0         </td><td>0         </td><td>0         </td><td>0         </td><td>0         </td><td>0         </td><td>0         </td></tr>\n",
       "\t<tr><td>PGDX16568P</td><td>chr10_40  </td><td>0         </td><td>0         </td><td>0         </td><td>0         </td><td>0         </td><td>0         </td><td>0         </td><td>0         </td><td>...       </td><td>0         </td><td>0         </td><td>0         </td><td>0         </td><td>0         </td><td>0         </td><td>0         </td><td>0         </td><td>0         </td><td>0         </td></tr>\n",
       "\t<tr><td>PGDX16568P</td><td>chr10_4   </td><td>0         </td><td>0         </td><td>0         </td><td>0         </td><td>0         </td><td>0         </td><td>0         </td><td>0         </td><td>...       </td><td>0         </td><td>0         </td><td>0         </td><td>0         </td><td>0         </td><td>0         </td><td>0         </td><td>0         </td><td>0         </td><td>0         </td></tr>\n",
       "\t<tr><td>PGDX16568P</td><td>chr10_401 </td><td>0         </td><td>0         </td><td>0         </td><td>0         </td><td>0         </td><td>0         </td><td>0         </td><td>0         </td><td>...       </td><td>0         </td><td>0         </td><td>0         </td><td>0         </td><td>0         </td><td>0         </td><td>0         </td><td>0         </td><td>0         </td><td>0         </td></tr>\n",
       "\t<tr><td>PGDX16568P</td><td>chr10_402 </td><td>0         </td><td>0         </td><td>0         </td><td>0         </td><td>0         </td><td>0         </td><td>0         </td><td>0         </td><td>...       </td><td>0         </td><td>0         </td><td>0         </td><td>0         </td><td>0         </td><td>0         </td><td>0         </td><td>0         </td><td>0         </td><td>0         </td></tr>\n",
       "\t<tr><td>PGDX16568P</td><td>chr10_403 </td><td>0         </td><td>0         </td><td>0         </td><td>0         </td><td>0         </td><td>0         </td><td>0         </td><td>0         </td><td>...       </td><td>0         </td><td>0         </td><td>0         </td><td>0         </td><td>0         </td><td>0         </td><td>0         </td><td>0         </td><td>0         </td><td>0         </td></tr>\n",
       "</tbody>\n",
       "</table>\n"
      ],
      "text/latex": [
       "\\begin{tabular}{r|lllllllllllllllllllllllllllllllllllllllllllllllllllllllllllllllllllllllllllllllllllllllllllllllllllllllllllllllllllllllllllllllllllllllllllllllllllllllllllllllllllllllllllllllllllllllllllllllllllllllllllllllllllllllllllllllllllllllllllllllllllllllllllllllllllllllllllllllllllllllllllllllllllllllllllllllllllllllllllllllllllllllllllllllllllllllllllllllllllllllllllllllllllllllllllllllllllllllllllllllllllllllllllllllllllllllllllllllllllllllllllllllllllllllllllllllllllllllllllllllllllllllllllllllllllllllllllllllllllllllllllllllllllllllllllllllllllllllllllllllllllllllllllllllllllllllllllllllllllllllllllllllllllllllllllllllllllllllllllllllllllllllllllllllllllllllllllllllll}\n",
       " sample & bin & X30 & X31 & X32 & X33 & X34 & X35 & X36 & X37 & ... & X691 & X692 & X693 & X694 & X695 & X696 & X697 & X698 & X699 & X700\\\\\n",
       "\\hline\n",
       "\t PGDX16568P  & chr10\\_400 & 0           & 0           & 0           & 0           & 0           & 0           & 0           & 0           & ...         & 0           & 0           & 0           & 0           & 0           & 0           & 0           & 0           & 0           & 0          \\\\\n",
       "\t PGDX16568P  & chr10\\_40  & 0           & 0           & 0           & 0           & 0           & 0           & 0           & 0           & ...         & 0           & 0           & 0           & 0           & 0           & 0           & 0           & 0           & 0           & 0          \\\\\n",
       "\t PGDX16568P  & chr10\\_4   & 0           & 0           & 0           & 0           & 0           & 0           & 0           & 0           & ...         & 0           & 0           & 0           & 0           & 0           & 0           & 0           & 0           & 0           & 0          \\\\\n",
       "\t PGDX16568P  & chr10\\_401 & 0           & 0           & 0           & 0           & 0           & 0           & 0           & 0           & ...         & 0           & 0           & 0           & 0           & 0           & 0           & 0           & 0           & 0           & 0          \\\\\n",
       "\t PGDX16568P  & chr10\\_402 & 0           & 0           & 0           & 0           & 0           & 0           & 0           & 0           & ...         & 0           & 0           & 0           & 0           & 0           & 0           & 0           & 0           & 0           & 0          \\\\\n",
       "\t PGDX16568P  & chr10\\_403 & 0           & 0           & 0           & 0           & 0           & 0           & 0           & 0           & ...         & 0           & 0           & 0           & 0           & 0           & 0           & 0           & 0           & 0           & 0          \\\\\n",
       "\\end{tabular}\n"
      ],
      "text/markdown": [
       "\n",
       "| sample | bin | X30 | X31 | X32 | X33 | X34 | X35 | X36 | X37 | ... | X691 | X692 | X693 | X694 | X695 | X696 | X697 | X698 | X699 | X700 |\n",
       "|---|---|---|---|---|---|---|---|---|---|---|---|---|---|---|---|---|---|---|---|---|\n",
       "| PGDX16568P | chr10_400  | 0          | 0          | 0          | 0          | 0          | 0          | 0          | 0          | ...        | 0          | 0          | 0          | 0          | 0          | 0          | 0          | 0          | 0          | 0          |\n",
       "| PGDX16568P | chr10_40   | 0          | 0          | 0          | 0          | 0          | 0          | 0          | 0          | ...        | 0          | 0          | 0          | 0          | 0          | 0          | 0          | 0          | 0          | 0          |\n",
       "| PGDX16568P | chr10_4    | 0          | 0          | 0          | 0          | 0          | 0          | 0          | 0          | ...        | 0          | 0          | 0          | 0          | 0          | 0          | 0          | 0          | 0          | 0          |\n",
       "| PGDX16568P | chr10_401  | 0          | 0          | 0          | 0          | 0          | 0          | 0          | 0          | ...        | 0          | 0          | 0          | 0          | 0          | 0          | 0          | 0          | 0          | 0          |\n",
       "| PGDX16568P | chr10_402  | 0          | 0          | 0          | 0          | 0          | 0          | 0          | 0          | ...        | 0          | 0          | 0          | 0          | 0          | 0          | 0          | 0          | 0          | 0          |\n",
       "| PGDX16568P | chr10_403  | 0          | 0          | 0          | 0          | 0          | 0          | 0          | 0          | ...        | 0          | 0          | 0          | 0          | 0          | 0          | 0          | 0          | 0          | 0          |\n",
       "\n"
      ],
      "text/plain": [
       "  sample     bin       X30 X31 X32 X33 X34 X35 X36 X37 ... X691 X692 X693 X694\n",
       "1 PGDX16568P chr10_400 0   0   0   0   0   0   0   0   ... 0    0    0    0   \n",
       "2 PGDX16568P chr10_40  0   0   0   0   0   0   0   0   ... 0    0    0    0   \n",
       "3 PGDX16568P chr10_4   0   0   0   0   0   0   0   0   ... 0    0    0    0   \n",
       "4 PGDX16568P chr10_401 0   0   0   0   0   0   0   0   ... 0    0    0    0   \n",
       "5 PGDX16568P chr10_402 0   0   0   0   0   0   0   0   ... 0    0    0    0   \n",
       "6 PGDX16568P chr10_403 0   0   0   0   0   0   0   0   ... 0    0    0    0   \n",
       "  X695 X696 X697 X698 X699 X700\n",
       "1 0    0    0    0    0    0   \n",
       "2 0    0    0    0    0    0   \n",
       "3 0    0    0    0    0    0   \n",
       "4 0    0    0    0    0    0   \n",
       "5 0    0    0    0    0    0   \n",
       "6 0    0    0    0    0    0   "
      ]
     },
     "metadata": {},
     "output_type": "display_data"
    }
   ],
   "source": [
    "head(all_individuals)"
   ]
  },
  {
   "cell_type": "code",
   "execution_count": 16,
   "id": "e7e85c8d-6ff5-484a-aecd-c3be86032b94",
   "metadata": {},
   "outputs": [],
   "source": [
    "#ATAC = read.table(\"../data/ATACseq_250kb_bins.txt\")\n",
    "ATAC = read.table(snakemake@input[[\"ATAC_input\"]])\n",
    "colnames(ATAC) = c(\"bin\", \"ATAC_val\")"
   ]
  },
  {
   "cell_type": "code",
   "execution_count": 17,
   "id": "f09d3e46-e5ad-4b3c-9a84-e23751f777a0",
   "metadata": {},
   "outputs": [
    {
     "data": {
      "text/html": [
       "<table>\n",
       "<thead><tr><th scope=col>bin</th><th scope=col>ATAC_val</th></tr></thead>\n",
       "<tbody>\n",
       "\t<tr><td>chr1_0    </td><td>0.05376791</td></tr>\n",
       "\t<tr><td>chr10_0   </td><td>0.29698782</td></tr>\n",
       "\t<tr><td>chr10_1   </td><td>0.40893151</td></tr>\n",
       "\t<tr><td>chr10_10  </td><td>0.30582283</td></tr>\n",
       "\t<tr><td>chr10_100 </td><td>0.59316570</td></tr>\n",
       "\t<tr><td>chr10_101 </td><td>0.47641373</td></tr>\n",
       "</tbody>\n",
       "</table>\n"
      ],
      "text/latex": [
       "\\begin{tabular}{r|ll}\n",
       " bin & ATAC\\_val\\\\\n",
       "\\hline\n",
       "\t chr1\\_0    & 0.05376791 \\\\\n",
       "\t chr10\\_0   & 0.29698782 \\\\\n",
       "\t chr10\\_1   & 0.40893151 \\\\\n",
       "\t chr10\\_10  & 0.30582283 \\\\\n",
       "\t chr10\\_100 & 0.59316570 \\\\\n",
       "\t chr10\\_101 & 0.47641373 \\\\\n",
       "\\end{tabular}\n"
      ],
      "text/markdown": [
       "\n",
       "| bin | ATAC_val |\n",
       "|---|---|\n",
       "| chr1_0     | 0.05376791 |\n",
       "| chr10_0    | 0.29698782 |\n",
       "| chr10_1    | 0.40893151 |\n",
       "| chr10_10   | 0.30582283 |\n",
       "| chr10_100  | 0.59316570 |\n",
       "| chr10_101  | 0.47641373 |\n",
       "\n"
      ],
      "text/plain": [
       "  bin       ATAC_val  \n",
       "1 chr1_0    0.05376791\n",
       "2 chr10_0   0.29698782\n",
       "3 chr10_1   0.40893151\n",
       "4 chr10_10  0.30582283\n",
       "5 chr10_100 0.59316570\n",
       "6 chr10_101 0.47641373"
      ]
     },
     "metadata": {},
     "output_type": "display_data"
    }
   ],
   "source": [
    "head(ATAC)"
   ]
  },
  {
   "cell_type": "code",
   "execution_count": 18,
   "id": "bf52ea56-0927-4303-868c-0811977372d8",
   "metadata": {},
   "outputs": [],
   "source": [
    "all_individuals_ATAC <- inner_join(all_individuals, ATAC, by =\"bin\") "
   ]
  },
  {
   "cell_type": "code",
   "execution_count": 19,
   "id": "526a00b2-2a3c-4542-a6aa-1f1c2d0c9617",
   "metadata": {},
   "outputs": [
    {
     "data": {
      "text/html": [
       "<table>\n",
       "<thead><tr><th scope=col>sample</th><th scope=col>bin</th><th scope=col>X30</th><th scope=col>X31</th><th scope=col>X32</th><th scope=col>X33</th><th scope=col>X34</th><th scope=col>X35</th><th scope=col>X36</th><th scope=col>X37</th><th scope=col>...</th><th scope=col>X692</th><th scope=col>X693</th><th scope=col>X694</th><th scope=col>X695</th><th scope=col>X696</th><th scope=col>X697</th><th scope=col>X698</th><th scope=col>X699</th><th scope=col>X700</th><th scope=col>ATAC_val</th></tr></thead>\n",
       "<tbody>\n",
       "\t<tr><td>PGDX16568P</td><td>chr10_400 </td><td>0         </td><td>0         </td><td>0         </td><td>0         </td><td>0         </td><td>0         </td><td>0         </td><td>0         </td><td>...       </td><td>0         </td><td>0         </td><td>0         </td><td>0         </td><td>0         </td><td>0         </td><td>0         </td><td>0         </td><td>0         </td><td>0.58666512</td></tr>\n",
       "\t<tr><td>PGDX16568P</td><td>chr10_40  </td><td>0         </td><td>0         </td><td>0         </td><td>0         </td><td>0         </td><td>0         </td><td>0         </td><td>0         </td><td>...       </td><td>0         </td><td>0         </td><td>0         </td><td>0         </td><td>0         </td><td>0         </td><td>0         </td><td>0         </td><td>0         </td><td>0.19961341</td></tr>\n",
       "\t<tr><td>PGDX16568P</td><td>chr10_4   </td><td>0         </td><td>0         </td><td>0         </td><td>0         </td><td>0         </td><td>0         </td><td>0         </td><td>0         </td><td>...       </td><td>0         </td><td>0         </td><td>0         </td><td>0         </td><td>0         </td><td>0         </td><td>0         </td><td>0         </td><td>0         </td><td>0.59688161</td></tr>\n",
       "\t<tr><td>PGDX16568P</td><td>chr10_401 </td><td>0         </td><td>0         </td><td>0         </td><td>0         </td><td>0         </td><td>0         </td><td>0         </td><td>0         </td><td>...       </td><td>0         </td><td>0         </td><td>0         </td><td>0         </td><td>0         </td><td>0         </td><td>0         </td><td>0         </td><td>0         </td><td>0.29057638</td></tr>\n",
       "\t<tr><td>PGDX16568P</td><td>chr10_402 </td><td>0         </td><td>0         </td><td>0         </td><td>0         </td><td>0         </td><td>0         </td><td>0         </td><td>0         </td><td>...       </td><td>0         </td><td>0         </td><td>0         </td><td>0         </td><td>0         </td><td>0         </td><td>0         </td><td>0         </td><td>0         </td><td>0.23197292</td></tr>\n",
       "\t<tr><td>PGDX16568P</td><td>chr10_403 </td><td>0         </td><td>0         </td><td>0         </td><td>0         </td><td>0         </td><td>0         </td><td>0         </td><td>0         </td><td>...       </td><td>0         </td><td>0         </td><td>0         </td><td>0         </td><td>0         </td><td>0         </td><td>0         </td><td>0         </td><td>0         </td><td>0.22621702</td></tr>\n",
       "</tbody>\n",
       "</table>\n"
      ],
      "text/latex": [
       "\\begin{tabular}{r|llllllllllllllllllllllllllllllllllllllllllllllllllllllllllllllllllllllllllllllllllllllllllllllllllllllllllllllllllllllllllllllllllllllllllllllllllllllllllllllllllllllllllllllllllllllllllllllllllllllllllllllllllllllllllllllllllllllllllllllllllllllllllllllllllllllllllllllllllllllllllllllllllllllllllllllllllllllllllllllllllllllllllllllllllllllllllllllllllllllllllllllllllllllllllllllllllllllllllllllllllllllllllllllllllllllllllllllllllllllllllllllllllllllllllllllllllllllllllllllllllllllllllllllllllllllllllllllllllllllllllllllllllllllllllllllllllllllllllllllllllllllllllllllllllllllllllllllllllllllllllllllllllllllllllllllllllllllllllllllllllllllllllllllllllllllllllllllllll}\n",
       " sample & bin & X30 & X31 & X32 & X33 & X34 & X35 & X36 & X37 & ... & X692 & X693 & X694 & X695 & X696 & X697 & X698 & X699 & X700 & ATAC\\_val\\\\\n",
       "\\hline\n",
       "\t PGDX16568P  & chr10\\_400 & 0           & 0           & 0           & 0           & 0           & 0           & 0           & 0           & ...         & 0           & 0           & 0           & 0           & 0           & 0           & 0           & 0           & 0           & 0.58666512 \\\\\n",
       "\t PGDX16568P  & chr10\\_40  & 0           & 0           & 0           & 0           & 0           & 0           & 0           & 0           & ...         & 0           & 0           & 0           & 0           & 0           & 0           & 0           & 0           & 0           & 0.19961341 \\\\\n",
       "\t PGDX16568P  & chr10\\_4   & 0           & 0           & 0           & 0           & 0           & 0           & 0           & 0           & ...         & 0           & 0           & 0           & 0           & 0           & 0           & 0           & 0           & 0           & 0.59688161 \\\\\n",
       "\t PGDX16568P  & chr10\\_401 & 0           & 0           & 0           & 0           & 0           & 0           & 0           & 0           & ...         & 0           & 0           & 0           & 0           & 0           & 0           & 0           & 0           & 0           & 0.29057638 \\\\\n",
       "\t PGDX16568P  & chr10\\_402 & 0           & 0           & 0           & 0           & 0           & 0           & 0           & 0           & ...         & 0           & 0           & 0           & 0           & 0           & 0           & 0           & 0           & 0           & 0.23197292 \\\\\n",
       "\t PGDX16568P  & chr10\\_403 & 0           & 0           & 0           & 0           & 0           & 0           & 0           & 0           & ...         & 0           & 0           & 0           & 0           & 0           & 0           & 0           & 0           & 0           & 0.22621702 \\\\\n",
       "\\end{tabular}\n"
      ],
      "text/markdown": [
       "\n",
       "| sample | bin | X30 | X31 | X32 | X33 | X34 | X35 | X36 | X37 | ... | X692 | X693 | X694 | X695 | X696 | X697 | X698 | X699 | X700 | ATAC_val |\n",
       "|---|---|---|---|---|---|---|---|---|---|---|---|---|---|---|---|---|---|---|---|---|\n",
       "| PGDX16568P | chr10_400  | 0          | 0          | 0          | 0          | 0          | 0          | 0          | 0          | ...        | 0          | 0          | 0          | 0          | 0          | 0          | 0          | 0          | 0          | 0.58666512 |\n",
       "| PGDX16568P | chr10_40   | 0          | 0          | 0          | 0          | 0          | 0          | 0          | 0          | ...        | 0          | 0          | 0          | 0          | 0          | 0          | 0          | 0          | 0          | 0.19961341 |\n",
       "| PGDX16568P | chr10_4    | 0          | 0          | 0          | 0          | 0          | 0          | 0          | 0          | ...        | 0          | 0          | 0          | 0          | 0          | 0          | 0          | 0          | 0          | 0.59688161 |\n",
       "| PGDX16568P | chr10_401  | 0          | 0          | 0          | 0          | 0          | 0          | 0          | 0          | ...        | 0          | 0          | 0          | 0          | 0          | 0          | 0          | 0          | 0          | 0.29057638 |\n",
       "| PGDX16568P | chr10_402  | 0          | 0          | 0          | 0          | 0          | 0          | 0          | 0          | ...        | 0          | 0          | 0          | 0          | 0          | 0          | 0          | 0          | 0          | 0.23197292 |\n",
       "| PGDX16568P | chr10_403  | 0          | 0          | 0          | 0          | 0          | 0          | 0          | 0          | ...        | 0          | 0          | 0          | 0          | 0          | 0          | 0          | 0          | 0          | 0.22621702 |\n",
       "\n"
      ],
      "text/plain": [
       "  sample     bin       X30 X31 X32 X33 X34 X35 X36 X37 ... X692 X693 X694 X695\n",
       "1 PGDX16568P chr10_400 0   0   0   0   0   0   0   0   ... 0    0    0    0   \n",
       "2 PGDX16568P chr10_40  0   0   0   0   0   0   0   0   ... 0    0    0    0   \n",
       "3 PGDX16568P chr10_4   0   0   0   0   0   0   0   0   ... 0    0    0    0   \n",
       "4 PGDX16568P chr10_401 0   0   0   0   0   0   0   0   ... 0    0    0    0   \n",
       "5 PGDX16568P chr10_402 0   0   0   0   0   0   0   0   ... 0    0    0    0   \n",
       "6 PGDX16568P chr10_403 0   0   0   0   0   0   0   0   ... 0    0    0    0   \n",
       "  X696 X697 X698 X699 X700 ATAC_val  \n",
       "1 0    0    0    0    0    0.58666512\n",
       "2 0    0    0    0    0    0.19961341\n",
       "3 0    0    0    0    0    0.59688161\n",
       "4 0    0    0    0    0    0.29057638\n",
       "5 0    0    0    0    0    0.23197292\n",
       "6 0    0    0    0    0    0.22621702"
      ]
     },
     "metadata": {},
     "output_type": "display_data"
    }
   ],
   "source": [
    "head(all_individuals_ATAC)"
   ]
  },
  {
   "cell_type": "code",
   "execution_count": 20,
   "id": "34b8d4ce-7c9b-43c9-ad4b-e9580f272612",
   "metadata": {},
   "outputs": [
    {
     "data": {
      "text/html": [
       "<table>\n",
       "<thead><tr><th scope=col>X30</th><th scope=col>X31</th><th scope=col>X32</th><th scope=col>X33</th><th scope=col>X34</th><th scope=col>X35</th><th scope=col>X36</th><th scope=col>X37</th><th scope=col>X38</th><th scope=col>X39</th><th scope=col>...</th><th scope=col>X691</th><th scope=col>X692</th><th scope=col>X693</th><th scope=col>X694</th><th scope=col>X695</th><th scope=col>X696</th><th scope=col>X697</th><th scope=col>X698</th><th scope=col>X699</th><th scope=col>X700</th></tr></thead>\n",
       "<tbody>\n",
       "\t<tr><td>0  </td><td>0  </td><td>0  </td><td>0  </td><td>0  </td><td>0  </td><td>0  </td><td>0  </td><td>0  </td><td>0  </td><td>...</td><td>0  </td><td>0  </td><td>0  </td><td>0  </td><td>0  </td><td>0  </td><td>0  </td><td>0  </td><td>0  </td><td>0  </td></tr>\n",
       "\t<tr><td>0  </td><td>0  </td><td>0  </td><td>0  </td><td>0  </td><td>0  </td><td>0  </td><td>0  </td><td>0  </td><td>0  </td><td>...</td><td>0  </td><td>0  </td><td>0  </td><td>0  </td><td>0  </td><td>0  </td><td>0  </td><td>0  </td><td>0  </td><td>0  </td></tr>\n",
       "\t<tr><td>0  </td><td>0  </td><td>0  </td><td>0  </td><td>0  </td><td>0  </td><td>0  </td><td>0  </td><td>0  </td><td>0  </td><td>...</td><td>0  </td><td>0  </td><td>0  </td><td>0  </td><td>0  </td><td>0  </td><td>0  </td><td>0  </td><td>0  </td><td>0  </td></tr>\n",
       "\t<tr><td>0  </td><td>0  </td><td>0  </td><td>0  </td><td>0  </td><td>0  </td><td>0  </td><td>0  </td><td>0  </td><td>0  </td><td>...</td><td>0  </td><td>0  </td><td>0  </td><td>0  </td><td>0  </td><td>0  </td><td>0  </td><td>0  </td><td>0  </td><td>0  </td></tr>\n",
       "\t<tr><td>0  </td><td>0  </td><td>0  </td><td>0  </td><td>0  </td><td>0  </td><td>0  </td><td>0  </td><td>0  </td><td>0  </td><td>...</td><td>0  </td><td>0  </td><td>0  </td><td>0  </td><td>0  </td><td>0  </td><td>0  </td><td>0  </td><td>0  </td><td>0  </td></tr>\n",
       "\t<tr><td>0  </td><td>0  </td><td>0  </td><td>0  </td><td>0  </td><td>0  </td><td>0  </td><td>0  </td><td>0  </td><td>0  </td><td>...</td><td>0  </td><td>0  </td><td>0  </td><td>0  </td><td>0  </td><td>0  </td><td>0  </td><td>0  </td><td>0  </td><td>0  </td></tr>\n",
       "</tbody>\n",
       "</table>\n"
      ],
      "text/latex": [
       "\\begin{tabular}{r|lllllllllllllllllllllllllllllllllllllllllllllllllllllllllllllllllllllllllllllllllllllllllllllllllllllllllllllllllllllllllllllllllllllllllllllllllllllllllllllllllllllllllllllllllllllllllllllllllllllllllllllllllllllllllllllllllllllllllllllllllllllllllllllllllllllllllllllllllllllllllllllllllllllllllllllllllllllllllllllllllllllllllllllllllllllllllllllllllllllllllllllllllllllllllllllllllllllllllllllllllllllllllllllllllllllllllllllllllllllllllllllllllllllllllllllllllllllllllllllllllllllllllllllllllllllllllllllllllllllllllllllllllllllllllllllllllllllllllllllllllllllllllllllllllllllllllllllllllllllllllllllllllllllllllllllllllllllllllllllllllllllllllllllllllllllllllllllll}\n",
       " X30 & X31 & X32 & X33 & X34 & X35 & X36 & X37 & X38 & X39 & ... & X691 & X692 & X693 & X694 & X695 & X696 & X697 & X698 & X699 & X700\\\\\n",
       "\\hline\n",
       "\t 0   & 0   & 0   & 0   & 0   & 0   & 0   & 0   & 0   & 0   & ... & 0   & 0   & 0   & 0   & 0   & 0   & 0   & 0   & 0   & 0  \\\\\n",
       "\t 0   & 0   & 0   & 0   & 0   & 0   & 0   & 0   & 0   & 0   & ... & 0   & 0   & 0   & 0   & 0   & 0   & 0   & 0   & 0   & 0  \\\\\n",
       "\t 0   & 0   & 0   & 0   & 0   & 0   & 0   & 0   & 0   & 0   & ... & 0   & 0   & 0   & 0   & 0   & 0   & 0   & 0   & 0   & 0  \\\\\n",
       "\t 0   & 0   & 0   & 0   & 0   & 0   & 0   & 0   & 0   & 0   & ... & 0   & 0   & 0   & 0   & 0   & 0   & 0   & 0   & 0   & 0  \\\\\n",
       "\t 0   & 0   & 0   & 0   & 0   & 0   & 0   & 0   & 0   & 0   & ... & 0   & 0   & 0   & 0   & 0   & 0   & 0   & 0   & 0   & 0  \\\\\n",
       "\t 0   & 0   & 0   & 0   & 0   & 0   & 0   & 0   & 0   & 0   & ... & 0   & 0   & 0   & 0   & 0   & 0   & 0   & 0   & 0   & 0  \\\\\n",
       "\\end{tabular}\n"
      ],
      "text/markdown": [
       "\n",
       "| X30 | X31 | X32 | X33 | X34 | X35 | X36 | X37 | X38 | X39 | ... | X691 | X692 | X693 | X694 | X695 | X696 | X697 | X698 | X699 | X700 |\n",
       "|---|---|---|---|---|---|---|---|---|---|---|---|---|---|---|---|---|---|---|---|---|\n",
       "| 0   | 0   | 0   | 0   | 0   | 0   | 0   | 0   | 0   | 0   | ... | 0   | 0   | 0   | 0   | 0   | 0   | 0   | 0   | 0   | 0   |\n",
       "| 0   | 0   | 0   | 0   | 0   | 0   | 0   | 0   | 0   | 0   | ... | 0   | 0   | 0   | 0   | 0   | 0   | 0   | 0   | 0   | 0   |\n",
       "| 0   | 0   | 0   | 0   | 0   | 0   | 0   | 0   | 0   | 0   | ... | 0   | 0   | 0   | 0   | 0   | 0   | 0   | 0   | 0   | 0   |\n",
       "| 0   | 0   | 0   | 0   | 0   | 0   | 0   | 0   | 0   | 0   | ... | 0   | 0   | 0   | 0   | 0   | 0   | 0   | 0   | 0   | 0   |\n",
       "| 0   | 0   | 0   | 0   | 0   | 0   | 0   | 0   | 0   | 0   | ... | 0   | 0   | 0   | 0   | 0   | 0   | 0   | 0   | 0   | 0   |\n",
       "| 0   | 0   | 0   | 0   | 0   | 0   | 0   | 0   | 0   | 0   | ... | 0   | 0   | 0   | 0   | 0   | 0   | 0   | 0   | 0   | 0   |\n",
       "\n"
      ],
      "text/plain": [
       "  X30 X31 X32 X33 X34 X35 X36 X37 X38 X39 ... X691 X692 X693 X694 X695 X696\n",
       "1 0   0   0   0   0   0   0   0   0   0   ... 0    0    0    0    0    0   \n",
       "2 0   0   0   0   0   0   0   0   0   0   ... 0    0    0    0    0    0   \n",
       "3 0   0   0   0   0   0   0   0   0   0   ... 0    0    0    0    0    0   \n",
       "4 0   0   0   0   0   0   0   0   0   0   ... 0    0    0    0    0    0   \n",
       "5 0   0   0   0   0   0   0   0   0   0   ... 0    0    0    0    0    0   \n",
       "6 0   0   0   0   0   0   0   0   0   0   ... 0    0    0    0    0    0   \n",
       "  X697 X698 X699 X700\n",
       "1 0    0    0    0   \n",
       "2 0    0    0    0   \n",
       "3 0    0    0    0   \n",
       "4 0    0    0    0   \n",
       "5 0    0    0    0   \n",
       "6 0    0    0    0   "
      ]
     },
     "metadata": {},
     "output_type": "display_data"
    }
   ],
   "source": [
    "testdata <- all_individuals %>% select(-sample) %>% select(-bin)\n",
    "head(testdata)"
   ]
  },
  {
   "cell_type": "code",
   "execution_count": 43,
   "id": "a6500094-b89c-48a8-943c-ec64cac1fb8b",
   "metadata": {},
   "outputs": [],
   "source": [
    "y <- sum_control_ATAC_bin_rm %>% dplyr::select(ATAC_val) %>% as.matrix()\n",
    "X <- sum_control_ATAC_bin_rm %>% dplyr::select(-ATAC_val) %>% as.matrix()\n",
    "\n",
    "if (standardization == \"FALSE\"){ \n",
    "        fit       <- glmnet(X, y, alpha = alpha_method, lambda = lambda_cv, standardize = FALSE)\n",
    "            } else if (standardization == \"TRUE\"){ \n",
    "        fit       <- glmnet(X, y, alpha = alpha_method, lambda = lambda_cv, standardize = TRUE)}\n",
    "        \n",
    "tmp       <- predict(fit, s=lambda_cv, testdata)\n"
   ]
  },
  {
   "cell_type": "code",
   "execution_count": 44,
   "id": "eb7f8739-7d87-4b46-9fec-f44e9a76714e",
   "metadata": {},
   "outputs": [],
   "source": [
    "tmp <- as.data.frame(tmp)"
   ]
  },
  {
   "cell_type": "code",
   "execution_count": 46,
   "id": "a1b2837f-abe2-4a2a-9e47-a330572b1776",
   "metadata": {},
   "outputs": [],
   "source": [
    "data<- cbind(tmp, y)\n",
    "colnames(data) <- c(\"predicted\", \"observed\")"
   ]
  },
  {
   "cell_type": "code",
   "execution_count": 47,
   "id": "30377c61-777c-4191-9dfd-0fc65cab13fe",
   "metadata": {},
   "outputs": [
    {
     "data": {
      "text/html": [
       "<table>\n",
       "<thead><tr><th scope=col>predicted</th><th scope=col>observed</th></tr></thead>\n",
       "<tbody>\n",
       "\t<tr><td>0.4917309</td><td>0.5931657</td></tr>\n",
       "\t<tr><td>0.3917154</td><td>0.4089315</td></tr>\n",
       "\t<tr><td>0.4643915</td><td>0.3058228</td></tr>\n",
       "\t<tr><td>0.3309735</td><td>0.4764137</td></tr>\n",
       "\t<tr><td>0.6797007</td><td>0.2862775</td></tr>\n",
       "\t<tr><td>0.9344045</td><td>0.3169988</td></tr>\n",
       "</tbody>\n",
       "</table>\n"
      ],
      "text/latex": [
       "\\begin{tabular}{r|ll}\n",
       " predicted & observed\\\\\n",
       "\\hline\n",
       "\t 0.4917309 & 0.5931657\\\\\n",
       "\t 0.3917154 & 0.4089315\\\\\n",
       "\t 0.4643915 & 0.3058228\\\\\n",
       "\t 0.3309735 & 0.4764137\\\\\n",
       "\t 0.6797007 & 0.2862775\\\\\n",
       "\t 0.9344045 & 0.3169988\\\\\n",
       "\\end{tabular}\n"
      ],
      "text/markdown": [
       "\n",
       "| predicted | observed |\n",
       "|---|---|\n",
       "| 0.4917309 | 0.5931657 |\n",
       "| 0.3917154 | 0.4089315 |\n",
       "| 0.4643915 | 0.3058228 |\n",
       "| 0.3309735 | 0.4764137 |\n",
       "| 0.6797007 | 0.2862775 |\n",
       "| 0.9344045 | 0.3169988 |\n",
       "\n"
      ],
      "text/plain": [
       "  predicted observed \n",
       "1 0.4917309 0.5931657\n",
       "2 0.3917154 0.4089315\n",
       "3 0.4643915 0.3058228\n",
       "4 0.3309735 0.4764137\n",
       "5 0.6797007 0.2862775\n",
       "6 0.9344045 0.3169988"
      ]
     },
     "metadata": {},
     "output_type": "display_data"
    }
   ],
   "source": [
    "head(data)"
   ]
  },
  {
   "cell_type": "code",
   "execution_count": 50,
   "id": "d68c346e-cb7f-4d22-9fff-57494e1cbdf1",
   "metadata": {},
   "outputs": [],
   "source": [
    "individual_corr <- cor(data$predicted, data$observed)"
   ]
  },
  {
   "cell_type": "code",
   "execution_count": 51,
   "id": "de0927bb-5ff8-45f9-bf8c-2890377ccbeb",
   "metadata": {},
   "outputs": [
    {
     "data": {
      "text/html": [
       "0.0025747880215572"
      ],
      "text/latex": [
       "0.0025747880215572"
      ],
      "text/markdown": [
       "0.0025747880215572"
      ],
      "text/plain": [
       "[1] 0.002574788"
      ]
     },
     "metadata": {},
     "output_type": "display_data"
    }
   ],
   "source": [
    "individual_corr"
   ]
  },
  {
   "cell_type": "code",
   "execution_count": 52,
   "id": "d769a856-6555-4b7c-83c3-d93266a4bf0f",
   "metadata": {},
   "outputs": [],
   "source": [
    "p2 <- ggplot(data, aes(x = observed, y = predicted)) + \n",
    "    geom_point(size = 0.5) + \n",
    "    geom_smooth(method = \"lm\", formula = y~x)"
   ]
  },
  {
   "cell_type": "code",
   "execution_count": null,
   "id": "835a9f17-967b-49ea-9b1b-2e3efd556b36",
   "metadata": {},
   "outputs": [],
   "source": [
    "#ggsave(plot = p2, file = \"output.png\")\n",
    "ggsave(plot = p2, file = snakemake@output[[\"lasso_ridge_plot_individual\"]])"
   ]
  },
  {
   "cell_type": "code",
   "execution_count": 59,
   "id": "96207907-cb5e-4753-933a-9c8db3392936",
   "metadata": {},
   "outputs": [],
   "source": [
    "correlations <- rbind(summed_corr, individual_corr) \n",
    "rownames(correlations) <- c(\"summed controls\", \"control individually\")"
   ]
  },
  {
   "cell_type": "code",
   "execution_count": 60,
   "id": "46966bd3-6324-4b5b-af14-71efbc8815d9",
   "metadata": {},
   "outputs": [
    {
     "data": {
      "text/html": [
       "<table>\n",
       "<tbody>\n",
       "\t<tr><th scope=row>summed controls</th><td>0.685613167</td></tr>\n",
       "\t<tr><th scope=row>control individually</th><td>0.002574788</td></tr>\n",
       "</tbody>\n",
       "</table>\n"
      ],
      "text/latex": [
       "\\begin{tabular}{r|l}\n",
       "\tsummed controls & 0.685613167\\\\\n",
       "\tcontrol individually & 0.002574788\\\\\n",
       "\\end{tabular}\n"
      ],
      "text/markdown": [
       "\n",
       "| summed controls | 0.685613167 |\n",
       "| control individually | 0.002574788 |\n",
       "\n"
      ],
      "text/plain": [
       "                     [,1]       \n",
       "summed controls      0.685613167\n",
       "control individually 0.002574788"
      ]
     },
     "metadata": {},
     "output_type": "display_data"
    }
   ],
   "source": [
    "correlations"
   ]
  },
  {
   "cell_type": "code",
   "execution_count": 72,
   "id": "fee84e1b-4ce1-4140-8c40-086bddf447cf",
   "metadata": {},
   "outputs": [],
   "source": [
    "#write.csv(correlations, \"lasso_ridge_corr\")"
   ]
  },
  {
   "cell_type": "code",
   "execution_count": null,
   "id": "84db6acb-06ef-4c93-8dfa-68d977ae9023",
   "metadata": {},
   "outputs": [],
   "source": [
    "write.csv(correlations, snakemake@output[[\"lasso_ridge_corr\"]]"
   ]
  },
  {
   "cell_type": "code",
   "execution_count": null,
   "id": "0f3905e5-f43a-483c-9f9f-728ded280f32",
   "metadata": {},
   "outputs": [],
   "source": []
  }
 ],
 "metadata": {
  "kernelspec": {
   "display_name": "R",
   "language": "R",
   "name": "ir"
  },
  "language_info": {
   "codemirror_mode": "r",
   "file_extension": ".r",
   "mimetype": "text/x-r-source",
   "name": "R",
   "pygments_lexer": "r",
   "version": "3.6.1"
  }
 },
 "nbformat": 4,
 "nbformat_minor": 5
}
