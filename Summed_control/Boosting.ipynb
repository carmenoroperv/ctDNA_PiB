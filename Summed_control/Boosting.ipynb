{
 "cells": [
  {
   "cell_type": "code",
   "execution_count": 3,
   "id": "1756866c-1e33-4ac5-8f23-e64fb104c88d",
   "metadata": {},
   "outputs": [
    {
     "name": "stderr",
     "output_type": "stream",
     "text": [
      "Loading required package: Matrix\n",
      "\n",
      "Attaching package: ‘Matrix’\n",
      "\n",
      "The following objects are masked from ‘package:tidyr’:\n",
      "\n",
      "    expand, pack, unpack\n",
      "\n",
      "Loading required package: foreach\n",
      "\n",
      "Attaching package: ‘foreach’\n",
      "\n",
      "The following objects are masked from ‘package:purrr’:\n",
      "\n",
      "    accumulate, when\n",
      "\n",
      "Loaded glmnet 2.0-16\n",
      "\n",
      "Loaded gbm 2.1.8\n"
     ]
    }
   ],
   "source": [
    "library(tidyverse)\n",
    "library(tidyr)\n",
    "library(scales)\n",
    "library(LICORS)\n",
    "library(slider)\n",
    "library(glmnet)\n",
    "library(gbm)"
   ]
  },
  {
   "cell_type": "code",
   "execution_count": null,
   "id": "2c18a131-506c-4d58-8d58-5fcd0664b664",
   "metadata": {},
   "outputs": [],
   "source": [
    "sum_control_ATAC_bin_rm = readRDS(snakemake@input[[\"input_train\"]])"
   ]
  },
  {
   "cell_type": "code",
   "execution_count": null,
   "id": "241f571e-642b-4942-94f3-5be8fe298906",
   "metadata": {},
   "outputs": [],
   "source": [
    "set.seed(0)\n",
    "\n",
    "fit <- gbm(formula  = ATAC_val ~ ., \n",
    "               data = sum_control_ATAC_bin_rm, \n",
    "            n.trees =600, \n",
    "           cv.folds = 10)"
   ]
  },
  {
   "cell_type": "code",
   "execution_count": null,
   "id": "1d9aa7a9-5ce3-4696-9e40-de6b91949ae9",
   "metadata": {},
   "outputs": [],
   "source": [
    "pd <- tibble(rmse_cv = sqrt(fit$cv.error), \n",
    "             rmse_train = sqrt(fit$train.error)) %>%\n",
    "  mutate(tree = row_number()) %>%\n",
    "  pivot_longer(names_to = \"key\", values_to = \"value\", -tree)\n",
    "\n",
    "ggplot(pd, aes(x=tree, y=value, color=key)) + \n",
    "  geom_line() + \n",
    "  geom_point() + \n",
    "  NULL"
   ]
  },
  {
   "cell_type": "code",
   "execution_count": null,
   "id": "4a979f00-027a-42e3-8144-2d3250085aa4",
   "metadata": {},
   "outputs": [],
   "source": [
    "gbm.perf(fit, method = \"cv\")"
   ]
  },
  {
   "cell_type": "code",
   "execution_count": null,
   "id": "78e31776-edbf-4b91-805c-76756c16b9d3",
   "metadata": {},
   "outputs": [],
   "source": [
    "fit$train.error[which.min(sqrt(fit$train.error))]\n",
    "\n",
    "fit$cv.error[which.min(sqrt(fit$cv.error))]\n"
   ]
  },
  {
   "cell_type": "code",
   "execution_count": null,
   "id": "eede706a-d0d2-4659-93b8-fac60fa841d9",
   "metadata": {},
   "outputs": [],
   "source": [
    "predictions <- fit$cv.fitted\n",
    "observed <- as.data.frame(sum_control_ATAC_bin_rm$ATAC_val)"
   ]
  },
  {
   "cell_type": "code",
   "execution_count": null,
   "id": "a232708d-0e28-46c5-9b84-d72cd66d0f27",
   "metadata": {},
   "outputs": [],
   "source": [
    "combined <- cbind(predictions, observed)\n",
    "colnames(combined) <- c(\"predictions\", \"observed\")\n",
    "head(combined)"
   ]
  },
  {
   "cell_type": "code",
   "execution_count": null,
   "id": "bf63efa6-adbd-41d7-81f8-26faee586a91",
   "metadata": {},
   "outputs": [],
   "source": [
    "p1 <- ggplot(data = combined, aes(x = observed, y = predictions)) + \n",
    "    geom_point(size = 0.5) + \n",
    "    geom_smooth(method = \"lm\", formula = y~x)"
   ]
  },
  {
   "cell_type": "code",
   "execution_count": null,
   "id": "2080ba44-77ad-44a9-bd7a-6d4a9f683d59",
   "metadata": {},
   "outputs": [],
   "source": [
    "ggsave(plot = p1, file = snakemake@output[[\"boosting_plot_summed\"]])"
   ]
  },
  {
   "cell_type": "code",
   "execution_count": null,
   "id": "ef5a8e15-4da2-457a-a0a5-9527ae9090e3",
   "metadata": {},
   "outputs": [],
   "source": [
    "summed_corr <- cor(combined$observed, combined$predictions)"
   ]
  },
  {
   "cell_type": "markdown",
   "id": "c334359b-018f-423f-a700-9e62d4d82569",
   "metadata": {},
   "source": [
    "### Prediction for all individuals"
   ]
  },
  {
   "cell_type": "code",
   "execution_count": null,
   "id": "55675426-6e44-4deb-b25e-5debdaef0f83",
   "metadata": {},
   "outputs": [],
   "source": [
    "all_individuals = readRDS(snakemake@input[[\"input_test\"]])"
   ]
  },
  {
   "cell_type": "code",
   "execution_count": null,
   "id": "ca0d7789-36ef-4041-9b78-a38fbbdd2203",
   "metadata": {},
   "outputs": [],
   "source": [
    "ATAC = read.table(snakemake@input[[\"ATAC_input\"]])\n",
    "colnames(ATAC) = c(\"bin\", \"ATAC_val\")\n",
    "all_individuals_ATAC <- inner_join(all_individuals, ATAC, by =\"bin\") "
   ]
  },
  {
   "cell_type": "code",
   "execution_count": null,
   "id": "be4a5261-2e7b-466c-9b38-52c1f5848572",
   "metadata": {},
   "outputs": [],
   "source": [
    "testdata <- all_individuals %>% select(-sample) %>% select(-bin)"
   ]
  },
  {
   "cell_type": "code",
   "execution_count": null,
   "id": "9c68577f-3cc5-4794-a489-5c95c05795ac",
   "metadata": {},
   "outputs": [],
   "source": [
    "y <- sum_control_ATAC_bin_rm %>% dplyr::select(ATAC_val) %>% as.matrix()\n",
    "tmp <- predict(fit, testdata)\n",
    "data<- cbind(tmp, y)\n",
    "colnames(data) <- c(\"predicted\", \"observed\")"
   ]
  },
  {
   "cell_type": "code",
   "execution_count": null,
   "id": "56cb47fa-f5f6-4654-9a45-7c157c9d049c",
   "metadata": {},
   "outputs": [],
   "source": [
    "individual_corr <- cor(data$predicted, data$observed)\n",
    "p2 <- ggplot(data, aes(x = observed, y = predicted)) + \n",
    "    geom_point(size = 0.5) + \n",
    "    geom_smooth(method = \"lm\", formula = y~x)\n",
    "ggsave(plot = p2, file = snakemake@output[[\"boosting_plot_individual\"]])"
   ]
  },
  {
   "cell_type": "code",
   "execution_count": null,
   "id": "1676b3c7-fd7d-4520-b28d-05d4c9f1e6e0",
   "metadata": {},
   "outputs": [],
   "source": [
    "correlations <- rbind(summed_corr, individual_corr) \n",
    "rownames(correlations) <- c(\"summed controls\", \"control individually\")\n",
    "write.csv(correlations, snakemake@output[[\"lasso_ridge_corr\"]]"
   ]
  }
 ],
 "metadata": {
  "kernelspec": {
   "display_name": "R",
   "language": "R",
   "name": "ir"
  },
  "language_info": {
   "codemirror_mode": "r",
   "file_extension": ".r",
   "mimetype": "text/x-r-source",
   "name": "R",
   "pygments_lexer": "r",
   "version": "3.6.1"
  }
 },
 "nbformat": 4,
 "nbformat_minor": 5
}
