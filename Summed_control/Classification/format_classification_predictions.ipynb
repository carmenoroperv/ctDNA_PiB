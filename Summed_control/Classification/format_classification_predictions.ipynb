{
 "cells": [
  {
   "cell_type": "code",
   "execution_count": 1,
   "id": "678bedec-fc57-4d96-b531-7ba5e0800a46",
   "metadata": {},
   "outputs": [
    {
     "name": "stderr",
     "output_type": "stream",
     "text": [
      "Registered S3 methods overwritten by 'ggplot2':\n",
      "  method         from \n",
      "  [.quosures     rlang\n",
      "  c.quosures     rlang\n",
      "  print.quosures rlang\n",
      "Registered S3 method overwritten by 'rvest':\n",
      "  method            from\n",
      "  read_xml.response xml2\n",
      "── Attaching packages ─────────────────────────────────────── tidyverse 1.2.1 ──\n",
      "✔ ggplot2 3.1.1     ✔ purrr   0.3.4\n",
      "✔ tibble  3.1.4     ✔ dplyr   1.0.7\n",
      "✔ tidyr   1.1.3     ✔ stringr 1.4.0\n",
      "✔ readr   1.3.1     ✔ forcats 0.4.0\n",
      "── Conflicts ────────────────────────────────────────── tidyverse_conflicts() ──\n",
      "✖ dplyr::filter() masks stats::filter()\n",
      "✖ dplyr::lag()    masks stats::lag()\n"
     ]
    }
   ],
   "source": [
    "library(tidyverse)"
   ]
  },
  {
   "cell_type": "code",
   "execution_count": 2,
   "id": "705d3ca1-3f6d-430a-955e-b31e59acad34",
   "metadata": {},
   "outputs": [],
   "source": [
    "gbm_pred <- readRDS(\"RIDGE__TRUE_ATAC_pred_normalized_GBM_CLASSIFICATION_PRED.rds\")"
   ]
  },
  {
   "cell_type": "code",
   "execution_count": 3,
   "id": "ff7fe695-2aed-4cf0-8106-c4bde4e7c06e",
   "metadata": {},
   "outputs": [
    {
     "data": {
      "text/html": [
       "<table>\n",
       "<thead><tr><th scope=col>observed</th><th scope=col>CV_rep</th><th scope=col>class1_prob</th><th scope=col>class2_prob</th><th scope=col>label_pred</th></tr></thead>\n",
       "<tbody>\n",
       "\t<tr><td>Cancer    </td><td>1         </td><td>0.76823158</td><td>0.2317684 </td><td>Cancer    </td></tr>\n",
       "\t<tr><td>Cancer    </td><td>1         </td><td>0.02222466</td><td>0.9777753 </td><td>Healthy   </td></tr>\n",
       "\t<tr><td>Cancer    </td><td>1         </td><td>0.39790869</td><td>0.6020913 </td><td>Healthy   </td></tr>\n",
       "\t<tr><td>Cancer    </td><td>1         </td><td>0.05540983</td><td>0.9445902 </td><td>Healthy   </td></tr>\n",
       "\t<tr><td>Cancer    </td><td>1         </td><td>0.16456642</td><td>0.8354336 </td><td>Healthy   </td></tr>\n",
       "\t<tr><td>Cancer    </td><td>1         </td><td>0.80157716</td><td>0.1984228 </td><td>Cancer    </td></tr>\n",
       "</tbody>\n",
       "</table>\n"
      ],
      "text/latex": [
       "\\begin{tabular}{r|lllll}\n",
       " observed & CV\\_rep & class1\\_prob & class2\\_prob & label\\_pred\\\\\n",
       "\\hline\n",
       "\t Cancer     & 1          & 0.76823158 & 0.2317684  & Cancer    \\\\\n",
       "\t Cancer     & 1          & 0.02222466 & 0.9777753  & Healthy   \\\\\n",
       "\t Cancer     & 1          & 0.39790869 & 0.6020913  & Healthy   \\\\\n",
       "\t Cancer     & 1          & 0.05540983 & 0.9445902  & Healthy   \\\\\n",
       "\t Cancer     & 1          & 0.16456642 & 0.8354336  & Healthy   \\\\\n",
       "\t Cancer     & 1          & 0.80157716 & 0.1984228  & Cancer    \\\\\n",
       "\\end{tabular}\n"
      ],
      "text/markdown": [
       "\n",
       "| observed | CV_rep | class1_prob | class2_prob | label_pred |\n",
       "|---|---|---|---|---|\n",
       "| Cancer     | 1          | 0.76823158 | 0.2317684  | Cancer     |\n",
       "| Cancer     | 1          | 0.02222466 | 0.9777753  | Healthy    |\n",
       "| Cancer     | 1          | 0.39790869 | 0.6020913  | Healthy    |\n",
       "| Cancer     | 1          | 0.05540983 | 0.9445902  | Healthy    |\n",
       "| Cancer     | 1          | 0.16456642 | 0.8354336  | Healthy    |\n",
       "| Cancer     | 1          | 0.80157716 | 0.1984228  | Cancer     |\n",
       "\n"
      ],
      "text/plain": [
       "  observed CV_rep class1_prob class2_prob label_pred\n",
       "1 Cancer   1      0.76823158  0.2317684   Cancer    \n",
       "2 Cancer   1      0.02222466  0.9777753   Healthy   \n",
       "3 Cancer   1      0.39790869  0.6020913   Healthy   \n",
       "4 Cancer   1      0.05540983  0.9445902   Healthy   \n",
       "5 Cancer   1      0.16456642  0.8354336   Healthy   \n",
       "6 Cancer   1      0.80157716  0.1984228   Cancer    "
      ]
     },
     "metadata": {},
     "output_type": "display_data"
    },
    {
     "data": {
      "text/html": [
       "<table>\n",
       "<thead><tr><th scope=col>observed</th><th scope=col>cv_rep</th><th scope=col>Cancer</th><th scope=col>Healthy</th><th scope=col>label_pred</th></tr></thead>\n",
       "<tbody>\n",
       "\t<tr><td>Cancer    </td><td>1         </td><td>0.76823158</td><td>0.2317684 </td><td>Cancer    </td></tr>\n",
       "\t<tr><td>Cancer    </td><td>1         </td><td>0.02222466</td><td>0.9777753 </td><td>Healthy   </td></tr>\n",
       "\t<tr><td>Cancer    </td><td>1         </td><td>0.39790869</td><td>0.6020913 </td><td>Healthy   </td></tr>\n",
       "\t<tr><td>Cancer    </td><td>1         </td><td>0.05540983</td><td>0.9445902 </td><td>Healthy   </td></tr>\n",
       "\t<tr><td>Cancer    </td><td>1         </td><td>0.16456642</td><td>0.8354336 </td><td>Healthy   </td></tr>\n",
       "\t<tr><td>Cancer    </td><td>1         </td><td>0.80157716</td><td>0.1984228 </td><td>Cancer    </td></tr>\n",
       "</tbody>\n",
       "</table>\n"
      ],
      "text/latex": [
       "\\begin{tabular}{r|lllll}\n",
       " observed & cv\\_rep & Cancer & Healthy & label\\_pred\\\\\n",
       "\\hline\n",
       "\t Cancer     & 1          & 0.76823158 & 0.2317684  & Cancer    \\\\\n",
       "\t Cancer     & 1          & 0.02222466 & 0.9777753  & Healthy   \\\\\n",
       "\t Cancer     & 1          & 0.39790869 & 0.6020913  & Healthy   \\\\\n",
       "\t Cancer     & 1          & 0.05540983 & 0.9445902  & Healthy   \\\\\n",
       "\t Cancer     & 1          & 0.16456642 & 0.8354336  & Healthy   \\\\\n",
       "\t Cancer     & 1          & 0.80157716 & 0.1984228  & Cancer    \\\\\n",
       "\\end{tabular}\n"
      ],
      "text/markdown": [
       "\n",
       "| observed | cv_rep | Cancer | Healthy | label_pred |\n",
       "|---|---|---|---|---|\n",
       "| Cancer     | 1          | 0.76823158 | 0.2317684  | Cancer     |\n",
       "| Cancer     | 1          | 0.02222466 | 0.9777753  | Healthy    |\n",
       "| Cancer     | 1          | 0.39790869 | 0.6020913  | Healthy    |\n",
       "| Cancer     | 1          | 0.05540983 | 0.9445902  | Healthy    |\n",
       "| Cancer     | 1          | 0.16456642 | 0.8354336  | Healthy    |\n",
       "| Cancer     | 1          | 0.80157716 | 0.1984228  | Cancer     |\n",
       "\n"
      ],
      "text/plain": [
       "  observed cv_rep Cancer     Healthy   label_pred\n",
       "1 Cancer   1      0.76823158 0.2317684 Cancer    \n",
       "2 Cancer   1      0.02222466 0.9777753 Healthy   \n",
       "3 Cancer   1      0.39790869 0.6020913 Healthy   \n",
       "4 Cancer   1      0.05540983 0.9445902 Healthy   \n",
       "5 Cancer   1      0.16456642 0.8354336 Healthy   \n",
       "6 Cancer   1      0.80157716 0.1984228 Cancer    "
      ]
     },
     "metadata": {},
     "output_type": "display_data"
    }
   ],
   "source": [
    "head(gbm_pred)\n",
    "colnames(gbm_pred) <- c(\"observed\", \"cv_rep\", \"Cancer\", \"Healthy\", \"label_pred\")\n",
    "head(gbm_pred)"
   ]
  },
  {
   "cell_type": "code",
   "execution_count": 4,
   "id": "11ee12d7-2383-4045-a44c-5ea482c4664b",
   "metadata": {},
   "outputs": [
    {
     "data": {
      "text/html": [
       "<table>\n",
       "<thead><tr><th scope=col>cv_rep</th><th scope=col>observed</th><th scope=col>Cancer</th></tr></thead>\n",
       "<tbody>\n",
       "\t<tr><td>1         </td><td>Cancer    </td><td>0.76823158</td></tr>\n",
       "\t<tr><td>1         </td><td>Cancer    </td><td>0.02222466</td></tr>\n",
       "\t<tr><td>1         </td><td>Cancer    </td><td>0.39790869</td></tr>\n",
       "\t<tr><td>1         </td><td>Cancer    </td><td>0.05540983</td></tr>\n",
       "\t<tr><td>1         </td><td>Cancer    </td><td>0.16456642</td></tr>\n",
       "\t<tr><td>1         </td><td>Cancer    </td><td>0.80157716</td></tr>\n",
       "</tbody>\n",
       "</table>\n"
      ],
      "text/latex": [
       "\\begin{tabular}{r|lll}\n",
       " cv\\_rep & observed & Cancer\\\\\n",
       "\\hline\n",
       "\t 1          & Cancer     & 0.76823158\\\\\n",
       "\t 1          & Cancer     & 0.02222466\\\\\n",
       "\t 1          & Cancer     & 0.39790869\\\\\n",
       "\t 1          & Cancer     & 0.05540983\\\\\n",
       "\t 1          & Cancer     & 0.16456642\\\\\n",
       "\t 1          & Cancer     & 0.80157716\\\\\n",
       "\\end{tabular}\n"
      ],
      "text/markdown": [
       "\n",
       "| cv_rep | observed | Cancer |\n",
       "|---|---|---|\n",
       "| 1          | Cancer     | 0.76823158 |\n",
       "| 1          | Cancer     | 0.02222466 |\n",
       "| 1          | Cancer     | 0.39790869 |\n",
       "| 1          | Cancer     | 0.05540983 |\n",
       "| 1          | Cancer     | 0.16456642 |\n",
       "| 1          | Cancer     | 0.80157716 |\n",
       "\n"
      ],
      "text/plain": [
       "  cv_rep observed Cancer    \n",
       "1 1      Cancer   0.76823158\n",
       "2 1      Cancer   0.02222466\n",
       "3 1      Cancer   0.39790869\n",
       "4 1      Cancer   0.05540983\n",
       "5 1      Cancer   0.16456642\n",
       "6 1      Cancer   0.80157716"
      ]
     },
     "metadata": {},
     "output_type": "display_data"
    }
   ],
   "source": [
    "gbm_pred_formatted <- gbm_pred %>% select(cv_rep, observed, Cancer)\n",
    "head(gbm_pred_formatted)"
   ]
  },
  {
   "cell_type": "code",
   "execution_count": 5,
   "id": "abcfeb31-0983-4465-bd27-0e4f3e658a9d",
   "metadata": {},
   "outputs": [
    {
     "data": {
      "text/html": [
       "<table>\n",
       "<thead><tr><th></th><th scope=col>cv_rep</th><th scope=col>observed</th><th scope=col>Cancer</th></tr></thead>\n",
       "<tbody>\n",
       "\t<tr><th scope=row>4725</th><td>10       </td><td>Cancer   </td><td>0.1226436</td></tr>\n",
       "\t<tr><th scope=row>4726</th><td>10       </td><td>Cancer   </td><td>0.8726088</td></tr>\n",
       "\t<tr><th scope=row>4727</th><td>10       </td><td>Cancer   </td><td>0.8705965</td></tr>\n",
       "\t<tr><th scope=row>4728</th><td>10       </td><td>Cancer   </td><td>0.1620614</td></tr>\n",
       "\t<tr><th scope=row>4729</th><td>10       </td><td>Cancer   </td><td>0.6442412</td></tr>\n",
       "\t<tr><th scope=row>4730</th><td>10       </td><td>Cancer   </td><td>0.7923968</td></tr>\n",
       "</tbody>\n",
       "</table>\n"
      ],
      "text/latex": [
       "\\begin{tabular}{r|lll}\n",
       "  & cv\\_rep & observed & Cancer\\\\\n",
       "\\hline\n",
       "\t4725 & 10        & Cancer    & 0.1226436\\\\\n",
       "\t4726 & 10        & Cancer    & 0.8726088\\\\\n",
       "\t4727 & 10        & Cancer    & 0.8705965\\\\\n",
       "\t4728 & 10        & Cancer    & 0.1620614\\\\\n",
       "\t4729 & 10        & Cancer    & 0.6442412\\\\\n",
       "\t4730 & 10        & Cancer    & 0.7923968\\\\\n",
       "\\end{tabular}\n"
      ],
      "text/markdown": [
       "\n",
       "| <!--/--> | cv_rep | observed | Cancer |\n",
       "|---|---|---|---|\n",
       "| 4725 | 10        | Cancer    | 0.1226436 |\n",
       "| 4726 | 10        | Cancer    | 0.8726088 |\n",
       "| 4727 | 10        | Cancer    | 0.8705965 |\n",
       "| 4728 | 10        | Cancer    | 0.1620614 |\n",
       "| 4729 | 10        | Cancer    | 0.6442412 |\n",
       "| 4730 | 10        | Cancer    | 0.7923968 |\n",
       "\n"
      ],
      "text/plain": [
       "     cv_rep observed Cancer   \n",
       "4725 10     Cancer   0.1226436\n",
       "4726 10     Cancer   0.8726088\n",
       "4727 10     Cancer   0.8705965\n",
       "4728 10     Cancer   0.1620614\n",
       "4729 10     Cancer   0.6442412\n",
       "4730 10     Cancer   0.7923968"
      ]
     },
     "metadata": {},
     "output_type": "display_data"
    }
   ],
   "source": [
    "tail(gbm_pred_formatted)"
   ]
  },
  {
   "cell_type": "code",
   "execution_count": 6,
   "id": "a5827741-b136-4639-8140-59636b7a3531",
   "metadata": {},
   "outputs": [],
   "source": [
    "saveRDS(gbm_pred_formatted, \"RIDGE__TRUE_ATAC_pred_normalized_GBM_formatted.rds\")"
   ]
  },
  {
   "cell_type": "code",
   "execution_count": 7,
   "id": "08aa8cda-eb7f-42aa-82e3-89768ae20c76",
   "metadata": {},
   "outputs": [
    {
     "data": {
      "text/html": [
       "<table>\n",
       "<thead><tr><th scope=col>observed</th><th scope=col>CV_rep</th><th scope=col>prob</th><th scope=col>pred_class</th></tr></thead>\n",
       "<tbody>\n",
       "\t<tr><td>Cancer   </td><td>1        </td><td>0.3756790</td><td>Cancer   </td></tr>\n",
       "\t<tr><td>Cancer   </td><td>1        </td><td>0.7106319</td><td>Healthy  </td></tr>\n",
       "\t<tr><td>Cancer   </td><td>1        </td><td>0.6127969</td><td>Healthy  </td></tr>\n",
       "\t<tr><td>Cancer   </td><td>1        </td><td>0.7862749</td><td>Healthy  </td></tr>\n",
       "\t<tr><td>Cancer   </td><td>1        </td><td>0.5622552</td><td>Healthy  </td></tr>\n",
       "\t<tr><td>Cancer   </td><td>1        </td><td>0.2137522</td><td>Cancer   </td></tr>\n",
       "</tbody>\n",
       "</table>\n"
      ],
      "text/latex": [
       "\\begin{tabular}{r|llll}\n",
       " observed & CV\\_rep & prob & pred\\_class\\\\\n",
       "\\hline\n",
       "\t Cancer    & 1         & 0.3756790 & Cancer   \\\\\n",
       "\t Cancer    & 1         & 0.7106319 & Healthy  \\\\\n",
       "\t Cancer    & 1         & 0.6127969 & Healthy  \\\\\n",
       "\t Cancer    & 1         & 0.7862749 & Healthy  \\\\\n",
       "\t Cancer    & 1         & 0.5622552 & Healthy  \\\\\n",
       "\t Cancer    & 1         & 0.2137522 & Cancer   \\\\\n",
       "\\end{tabular}\n"
      ],
      "text/markdown": [
       "\n",
       "| observed | CV_rep | prob | pred_class |\n",
       "|---|---|---|---|\n",
       "| Cancer    | 1         | 0.3756790 | Cancer    |\n",
       "| Cancer    | 1         | 0.7106319 | Healthy   |\n",
       "| Cancer    | 1         | 0.6127969 | Healthy   |\n",
       "| Cancer    | 1         | 0.7862749 | Healthy   |\n",
       "| Cancer    | 1         | 0.5622552 | Healthy   |\n",
       "| Cancer    | 1         | 0.2137522 | Cancer    |\n",
       "\n"
      ],
      "text/plain": [
       "  observed CV_rep prob      pred_class\n",
       "1 Cancer   1      0.3756790 Cancer    \n",
       "2 Cancer   1      0.7106319 Healthy   \n",
       "3 Cancer   1      0.6127969 Healthy   \n",
       "4 Cancer   1      0.7862749 Healthy   \n",
       "5 Cancer   1      0.5622552 Healthy   \n",
       "6 Cancer   1      0.2137522 Cancer    "
      ]
     },
     "metadata": {},
     "output_type": "display_data"
    }
   ],
   "source": [
    "lasso_pred <- readRDS(\"RIDGE__TRUE_ATAC_pred_normalized_lasso_CLASSIFICATION_PRED.rds\")\n",
    "head(lasso_pred)"
   ]
  },
  {
   "cell_type": "code",
   "execution_count": 8,
   "id": "a2f96954-6cdd-41fc-934d-c57842de7fd3",
   "metadata": {},
   "outputs": [
    {
     "data": {
      "text/html": [
       "<table>\n",
       "<thead><tr><th scope=col>observed</th><th scope=col>cv_rep</th><th scope=col>Healthy</th><th scope=col>label_pred</th></tr></thead>\n",
       "<tbody>\n",
       "\t<tr><td>Cancer   </td><td>1        </td><td>0.3756790</td><td>Cancer   </td></tr>\n",
       "\t<tr><td>Cancer   </td><td>1        </td><td>0.7106319</td><td>Healthy  </td></tr>\n",
       "\t<tr><td>Cancer   </td><td>1        </td><td>0.6127969</td><td>Healthy  </td></tr>\n",
       "\t<tr><td>Cancer   </td><td>1        </td><td>0.7862749</td><td>Healthy  </td></tr>\n",
       "\t<tr><td>Cancer   </td><td>1        </td><td>0.5622552</td><td>Healthy  </td></tr>\n",
       "\t<tr><td>Cancer   </td><td>1        </td><td>0.2137522</td><td>Cancer   </td></tr>\n",
       "</tbody>\n",
       "</table>\n"
      ],
      "text/latex": [
       "\\begin{tabular}{r|llll}\n",
       " observed & cv\\_rep & Healthy & label\\_pred\\\\\n",
       "\\hline\n",
       "\t Cancer    & 1         & 0.3756790 & Cancer   \\\\\n",
       "\t Cancer    & 1         & 0.7106319 & Healthy  \\\\\n",
       "\t Cancer    & 1         & 0.6127969 & Healthy  \\\\\n",
       "\t Cancer    & 1         & 0.7862749 & Healthy  \\\\\n",
       "\t Cancer    & 1         & 0.5622552 & Healthy  \\\\\n",
       "\t Cancer    & 1         & 0.2137522 & Cancer   \\\\\n",
       "\\end{tabular}\n"
      ],
      "text/markdown": [
       "\n",
       "| observed | cv_rep | Healthy | label_pred |\n",
       "|---|---|---|---|\n",
       "| Cancer    | 1         | 0.3756790 | Cancer    |\n",
       "| Cancer    | 1         | 0.7106319 | Healthy   |\n",
       "| Cancer    | 1         | 0.6127969 | Healthy   |\n",
       "| Cancer    | 1         | 0.7862749 | Healthy   |\n",
       "| Cancer    | 1         | 0.5622552 | Healthy   |\n",
       "| Cancer    | 1         | 0.2137522 | Cancer    |\n",
       "\n"
      ],
      "text/plain": [
       "  observed cv_rep Healthy   label_pred\n",
       "1 Cancer   1      0.3756790 Cancer    \n",
       "2 Cancer   1      0.7106319 Healthy   \n",
       "3 Cancer   1      0.6127969 Healthy   \n",
       "4 Cancer   1      0.7862749 Healthy   \n",
       "5 Cancer   1      0.5622552 Healthy   \n",
       "6 Cancer   1      0.2137522 Cancer    "
      ]
     },
     "metadata": {},
     "output_type": "display_data"
    }
   ],
   "source": [
    "colnames(lasso_pred) <- c(\"observed\", \"cv_rep\", \"Healthy\", \"label_pred\")\n",
    "head(lasso_pred)"
   ]
  },
  {
   "cell_type": "code",
   "execution_count": 9,
   "id": "b3d4b832-de87-4248-a792-143322d14def",
   "metadata": {},
   "outputs": [
    {
     "data": {
      "text/html": [
       "<table>\n",
       "<thead><tr><th scope=col>observed</th><th scope=col>cv_rep</th><th scope=col>Healthy</th><th scope=col>label_pred</th><th scope=col>Cancer</th></tr></thead>\n",
       "<tbody>\n",
       "\t<tr><td>Cancer   </td><td>1        </td><td>0.3756790</td><td>Cancer   </td><td>0.6243210</td></tr>\n",
       "\t<tr><td>Cancer   </td><td>1        </td><td>0.7106319</td><td>Healthy  </td><td>0.2893681</td></tr>\n",
       "\t<tr><td>Cancer   </td><td>1        </td><td>0.6127969</td><td>Healthy  </td><td>0.3872031</td></tr>\n",
       "\t<tr><td>Cancer   </td><td>1        </td><td>0.7862749</td><td>Healthy  </td><td>0.2137251</td></tr>\n",
       "\t<tr><td>Cancer   </td><td>1        </td><td>0.5622552</td><td>Healthy  </td><td>0.4377448</td></tr>\n",
       "\t<tr><td>Cancer   </td><td>1        </td><td>0.2137522</td><td>Cancer   </td><td>0.7862478</td></tr>\n",
       "</tbody>\n",
       "</table>\n"
      ],
      "text/latex": [
       "\\begin{tabular}{r|lllll}\n",
       " observed & cv\\_rep & Healthy & label\\_pred & Cancer\\\\\n",
       "\\hline\n",
       "\t Cancer    & 1         & 0.3756790 & Cancer    & 0.6243210\\\\\n",
       "\t Cancer    & 1         & 0.7106319 & Healthy   & 0.2893681\\\\\n",
       "\t Cancer    & 1         & 0.6127969 & Healthy   & 0.3872031\\\\\n",
       "\t Cancer    & 1         & 0.7862749 & Healthy   & 0.2137251\\\\\n",
       "\t Cancer    & 1         & 0.5622552 & Healthy   & 0.4377448\\\\\n",
       "\t Cancer    & 1         & 0.2137522 & Cancer    & 0.7862478\\\\\n",
       "\\end{tabular}\n"
      ],
      "text/markdown": [
       "\n",
       "| observed | cv_rep | Healthy | label_pred | Cancer |\n",
       "|---|---|---|---|---|\n",
       "| Cancer    | 1         | 0.3756790 | Cancer    | 0.6243210 |\n",
       "| Cancer    | 1         | 0.7106319 | Healthy   | 0.2893681 |\n",
       "| Cancer    | 1         | 0.6127969 | Healthy   | 0.3872031 |\n",
       "| Cancer    | 1         | 0.7862749 | Healthy   | 0.2137251 |\n",
       "| Cancer    | 1         | 0.5622552 | Healthy   | 0.4377448 |\n",
       "| Cancer    | 1         | 0.2137522 | Cancer    | 0.7862478 |\n",
       "\n"
      ],
      "text/plain": [
       "  observed cv_rep Healthy   label_pred Cancer   \n",
       "1 Cancer   1      0.3756790 Cancer     0.6243210\n",
       "2 Cancer   1      0.7106319 Healthy    0.2893681\n",
       "3 Cancer   1      0.6127969 Healthy    0.3872031\n",
       "4 Cancer   1      0.7862749 Healthy    0.2137251\n",
       "5 Cancer   1      0.5622552 Healthy    0.4377448\n",
       "6 Cancer   1      0.2137522 Cancer     0.7862478"
      ]
     },
     "metadata": {},
     "output_type": "display_data"
    }
   ],
   "source": [
    "lasso_pred <- lasso_pred %>% mutate(Cancer = 1 - Healthy)\n",
    "head(lasso_pred)"
   ]
  },
  {
   "cell_type": "code",
   "execution_count": 10,
   "id": "c29bb856-fda4-4987-90bd-b46ad0d4c97c",
   "metadata": {},
   "outputs": [
    {
     "data": {
      "text/html": [
       "<table>\n",
       "<thead><tr><th scope=col>cv_rep</th><th scope=col>observed</th><th scope=col>Cancer</th></tr></thead>\n",
       "<tbody>\n",
       "\t<tr><td>1        </td><td>Cancer   </td><td>0.6243210</td></tr>\n",
       "\t<tr><td>1        </td><td>Cancer   </td><td>0.2893681</td></tr>\n",
       "\t<tr><td>1        </td><td>Cancer   </td><td>0.3872031</td></tr>\n",
       "\t<tr><td>1        </td><td>Cancer   </td><td>0.2137251</td></tr>\n",
       "\t<tr><td>1        </td><td>Cancer   </td><td>0.4377448</td></tr>\n",
       "\t<tr><td>1        </td><td>Cancer   </td><td>0.7862478</td></tr>\n",
       "</tbody>\n",
       "</table>\n"
      ],
      "text/latex": [
       "\\begin{tabular}{r|lll}\n",
       " cv\\_rep & observed & Cancer\\\\\n",
       "\\hline\n",
       "\t 1         & Cancer    & 0.6243210\\\\\n",
       "\t 1         & Cancer    & 0.2893681\\\\\n",
       "\t 1         & Cancer    & 0.3872031\\\\\n",
       "\t 1         & Cancer    & 0.2137251\\\\\n",
       "\t 1         & Cancer    & 0.4377448\\\\\n",
       "\t 1         & Cancer    & 0.7862478\\\\\n",
       "\\end{tabular}\n"
      ],
      "text/markdown": [
       "\n",
       "| cv_rep | observed | Cancer |\n",
       "|---|---|---|\n",
       "| 1         | Cancer    | 0.6243210 |\n",
       "| 1         | Cancer    | 0.2893681 |\n",
       "| 1         | Cancer    | 0.3872031 |\n",
       "| 1         | Cancer    | 0.2137251 |\n",
       "| 1         | Cancer    | 0.4377448 |\n",
       "| 1         | Cancer    | 0.7862478 |\n",
       "\n"
      ],
      "text/plain": [
       "  cv_rep observed Cancer   \n",
       "1 1      Cancer   0.6243210\n",
       "2 1      Cancer   0.2893681\n",
       "3 1      Cancer   0.3872031\n",
       "4 1      Cancer   0.2137251\n",
       "5 1      Cancer   0.4377448\n",
       "6 1      Cancer   0.7862478"
      ]
     },
     "metadata": {},
     "output_type": "display_data"
    }
   ],
   "source": [
    "lasso_pred_formatted <- lasso_pred %>% select(cv_rep, observed, Cancer)\n",
    "head(lasso_pred_formatted)"
   ]
  },
  {
   "cell_type": "code",
   "execution_count": 11,
   "id": "f0155b1f-103e-4db1-9fb8-3cbc4082db4f",
   "metadata": {},
   "outputs": [],
   "source": [
    "saveRDS(lasso_pred_formatted, \"RIDGE__TRUE_ATAC_pred_normalized_lasso_formatted.rds\")"
   ]
  },
  {
   "cell_type": "code",
   "execution_count": null,
   "id": "424d86f6-b8a7-4954-9e9a-f16b188af602",
   "metadata": {},
   "outputs": [],
   "source": []
  }
 ],
 "metadata": {
  "kernelspec": {
   "display_name": "R",
   "language": "R",
   "name": "ir"
  },
  "language_info": {
   "codemirror_mode": "r",
   "file_extension": ".r",
   "mimetype": "text/x-r-source",
   "name": "R",
   "pygments_lexer": "r",
   "version": "3.6.1"
  }
 },
 "nbformat": 4,
 "nbformat_minor": 5
}
