{
 "cells": [
  {
   "cell_type": "code",
   "execution_count": 7,
   "id": "0bca0c1a-a784-4ba4-a262-fe2e6a700d6a",
   "metadata": {},
   "outputs": [
    {
     "data": {
      "text/html": [
       "<table>\n",
       "<thead><tr><th scope=col>Accuracy</th><th scope=col>AccuracyLower</th><th scope=col>AccuracyUpper</th><th scope=col>AccuracyNull</th><th scope=col>CV_rep</th></tr></thead>\n",
       "<tbody>\n",
       "\t<tr><td>0.6321353</td><td>0.5869018</td><td>0.6757053</td><td>0.5137421</td><td>CVrep1   </td></tr>\n",
       "\t<tr><td>0.6257928</td><td>0.5804476</td><td>0.6695546</td><td>0.5137421</td><td>CVrep2   </td></tr>\n",
       "\t<tr><td>0.6553911</td><td>0.6106368</td><td>0.6981884</td><td>0.5137421</td><td>CVrep3   </td></tr>\n",
       "\t<tr><td>0.6427061</td><td>0.5976768</td><td>0.6859386</td><td>0.5137421</td><td>CVrep4   </td></tr>\n",
       "\t<tr><td>0.6067653</td><td>0.5611321</td><td>0.6510550</td><td>0.5137421</td><td>CVrep5   </td></tr>\n",
       "\t<tr><td>0.6363636</td><td>0.5912091</td><td>0.6798013</td><td>0.5137421</td><td>CVrep6   </td></tr>\n",
       "\t<tr><td>0.6469345</td><td>0.6019931</td><td>0.6900255</td><td>0.5137421</td><td>CVrep7   </td></tr>\n",
       "\t<tr><td>0.6405920</td><td>0.5955200</td><td>0.6838938</td><td>0.5137421</td><td>CVrep8   </td></tr>\n",
       "\t<tr><td>0.6723044</td><td>0.6279691</td><td>0.7144689</td><td>0.5137421</td><td>CVrep9   </td></tr>\n",
       "\t<tr><td>0.6405920</td><td>0.5955200</td><td>0.6838938</td><td>0.5137421</td><td>CVrep10  </td></tr>\n",
       "\t<tr><td>0.6399577</td><td>0.5949006</td><td>0.6832525</td><td>0.5137421</td><td>mean     </td></tr>\n",
       "</tbody>\n",
       "</table>\n"
      ],
      "text/latex": [
       "\\begin{tabular}{r|lllll}\n",
       " Accuracy & AccuracyLower & AccuracyUpper & AccuracyNull & CV\\_rep\\\\\n",
       "\\hline\n",
       "\t 0.6321353 & 0.5869018 & 0.6757053 & 0.5137421 & CVrep1   \\\\\n",
       "\t 0.6257928 & 0.5804476 & 0.6695546 & 0.5137421 & CVrep2   \\\\\n",
       "\t 0.6553911 & 0.6106368 & 0.6981884 & 0.5137421 & CVrep3   \\\\\n",
       "\t 0.6427061 & 0.5976768 & 0.6859386 & 0.5137421 & CVrep4   \\\\\n",
       "\t 0.6067653 & 0.5611321 & 0.6510550 & 0.5137421 & CVrep5   \\\\\n",
       "\t 0.6363636 & 0.5912091 & 0.6798013 & 0.5137421 & CVrep6   \\\\\n",
       "\t 0.6469345 & 0.6019931 & 0.6900255 & 0.5137421 & CVrep7   \\\\\n",
       "\t 0.6405920 & 0.5955200 & 0.6838938 & 0.5137421 & CVrep8   \\\\\n",
       "\t 0.6723044 & 0.6279691 & 0.7144689 & 0.5137421 & CVrep9   \\\\\n",
       "\t 0.6405920 & 0.5955200 & 0.6838938 & 0.5137421 & CVrep10  \\\\\n",
       "\t 0.6399577 & 0.5949006 & 0.6832525 & 0.5137421 & mean     \\\\\n",
       "\\end{tabular}\n"
      ],
      "text/markdown": [
       "\n",
       "| Accuracy | AccuracyLower | AccuracyUpper | AccuracyNull | CV_rep |\n",
       "|---|---|---|---|---|\n",
       "| 0.6321353 | 0.5869018 | 0.6757053 | 0.5137421 | CVrep1    |\n",
       "| 0.6257928 | 0.5804476 | 0.6695546 | 0.5137421 | CVrep2    |\n",
       "| 0.6553911 | 0.6106368 | 0.6981884 | 0.5137421 | CVrep3    |\n",
       "| 0.6427061 | 0.5976768 | 0.6859386 | 0.5137421 | CVrep4    |\n",
       "| 0.6067653 | 0.5611321 | 0.6510550 | 0.5137421 | CVrep5    |\n",
       "| 0.6363636 | 0.5912091 | 0.6798013 | 0.5137421 | CVrep6    |\n",
       "| 0.6469345 | 0.6019931 | 0.6900255 | 0.5137421 | CVrep7    |\n",
       "| 0.6405920 | 0.5955200 | 0.6838938 | 0.5137421 | CVrep8    |\n",
       "| 0.6723044 | 0.6279691 | 0.7144689 | 0.5137421 | CVrep9    |\n",
       "| 0.6405920 | 0.5955200 | 0.6838938 | 0.5137421 | CVrep10   |\n",
       "| 0.6399577 | 0.5949006 | 0.6832525 | 0.5137421 | mean      |\n",
       "\n"
      ],
      "text/plain": [
       "   Accuracy  AccuracyLower AccuracyUpper AccuracyNull CV_rep \n",
       "1  0.6321353 0.5869018     0.6757053     0.5137421    CVrep1 \n",
       "2  0.6257928 0.5804476     0.6695546     0.5137421    CVrep2 \n",
       "3  0.6553911 0.6106368     0.6981884     0.5137421    CVrep3 \n",
       "4  0.6427061 0.5976768     0.6859386     0.5137421    CVrep4 \n",
       "5  0.6067653 0.5611321     0.6510550     0.5137421    CVrep5 \n",
       "6  0.6363636 0.5912091     0.6798013     0.5137421    CVrep6 \n",
       "7  0.6469345 0.6019931     0.6900255     0.5137421    CVrep7 \n",
       "8  0.6405920 0.5955200     0.6838938     0.5137421    CVrep8 \n",
       "9  0.6723044 0.6279691     0.7144689     0.5137421    CVrep9 \n",
       "10 0.6405920 0.5955200     0.6838938     0.5137421    CVrep10\n",
       "11 0.6399577 0.5949006     0.6832525     0.5137421    mean   "
      ]
     },
     "metadata": {},
     "output_type": "display_data"
    }
   ],
   "source": [
    "acc_gbm <- readRDS(\"Evaluation/RIDGE__TRUE_ATAC_pred_normalized_/Accuracy_GBM.rds\")\n",
    "acc_gbm"
   ]
  },
  {
   "cell_type": "code",
   "execution_count": 2,
   "id": "a215b942-98f1-4c2d-bf02-f1b6375f59cd",
   "metadata": {},
   "outputs": [
    {
     "data": {
      "text/html": [
       "<table>\n",
       "<thead><tr><th scope=col>Balanced Accuracy</th><th scope=col>Sensitivity</th><th scope=col>Specificity</th><th scope=col>Precision</th><th scope=col>Recall</th><th scope=col>CV_rep</th></tr></thead>\n",
       "<tbody>\n",
       "\t<tr><td>0.6319735</td><td>0.6260870</td><td>0.6378601</td><td>0.6206897</td><td>0.6260870</td><td>CVrep1   </td></tr>\n",
       "\t<tr><td>0.6254518</td><td>0.6130435</td><td>0.6378601</td><td>0.6157205</td><td>0.6130435</td><td>CVrep2   </td></tr>\n",
       "\t<tr><td>0.6549562</td><td>0.6391304</td><td>0.6707819</td><td>0.6475771</td><td>0.6391304</td><td>CVrep3   </td></tr>\n",
       "\t<tr><td>0.6416801</td><td>0.6043478</td><td>0.6790123</td><td>0.6405530</td><td>0.6043478</td><td>CVrep4   </td></tr>\n",
       "\t<tr><td>0.6053051</td><td>0.5521739</td><td>0.6584362</td><td>0.6047619</td><td>0.5521739</td><td>CVrep5   </td></tr>\n",
       "\t<tr><td>0.6351583</td><td>0.5913043</td><td>0.6790123</td><td>0.6355140</td><td>0.5913043</td><td>CVrep6   </td></tr>\n",
       "\t<tr><td>0.6467257</td><td>0.6391304</td><td>0.6543210</td><td>0.6363636</td><td>0.6391304</td><td>CVrep7   </td></tr>\n",
       "\t<tr><td>0.6393899</td><td>0.5956522</td><td>0.6831276</td><td>0.6401869</td><td>0.5956522</td><td>CVrep8   </td></tr>\n",
       "\t<tr><td>0.6710682</td><td>0.6260870</td><td>0.7160494</td><td>0.6760563</td><td>0.6260870</td><td>CVrep9   </td></tr>\n",
       "\t<tr><td>0.6406692</td><td>0.6434783</td><td>0.6378601</td><td>0.6271186</td><td>0.6434783</td><td>CVrep10  </td></tr>\n",
       "\t<tr><td>0.6392378</td><td>0.6130435</td><td>0.6654321</td><td>0.6344542</td><td>0.6130435</td><td>mean     </td></tr>\n",
       "</tbody>\n",
       "</table>\n"
      ],
      "text/latex": [
       "\\begin{tabular}{r|llllll}\n",
       " Balanced Accuracy & Sensitivity & Specificity & Precision & Recall & CV\\_rep\\\\\n",
       "\\hline\n",
       "\t 0.6319735 & 0.6260870 & 0.6378601 & 0.6206897 & 0.6260870 & CVrep1   \\\\\n",
       "\t 0.6254518 & 0.6130435 & 0.6378601 & 0.6157205 & 0.6130435 & CVrep2   \\\\\n",
       "\t 0.6549562 & 0.6391304 & 0.6707819 & 0.6475771 & 0.6391304 & CVrep3   \\\\\n",
       "\t 0.6416801 & 0.6043478 & 0.6790123 & 0.6405530 & 0.6043478 & CVrep4   \\\\\n",
       "\t 0.6053051 & 0.5521739 & 0.6584362 & 0.6047619 & 0.5521739 & CVrep5   \\\\\n",
       "\t 0.6351583 & 0.5913043 & 0.6790123 & 0.6355140 & 0.5913043 & CVrep6   \\\\\n",
       "\t 0.6467257 & 0.6391304 & 0.6543210 & 0.6363636 & 0.6391304 & CVrep7   \\\\\n",
       "\t 0.6393899 & 0.5956522 & 0.6831276 & 0.6401869 & 0.5956522 & CVrep8   \\\\\n",
       "\t 0.6710682 & 0.6260870 & 0.7160494 & 0.6760563 & 0.6260870 & CVrep9   \\\\\n",
       "\t 0.6406692 & 0.6434783 & 0.6378601 & 0.6271186 & 0.6434783 & CVrep10  \\\\\n",
       "\t 0.6392378 & 0.6130435 & 0.6654321 & 0.6344542 & 0.6130435 & mean     \\\\\n",
       "\\end{tabular}\n"
      ],
      "text/markdown": [
       "\n",
       "| Balanced Accuracy | Sensitivity | Specificity | Precision | Recall | CV_rep |\n",
       "|---|---|---|---|---|---|\n",
       "| 0.6319735 | 0.6260870 | 0.6378601 | 0.6206897 | 0.6260870 | CVrep1    |\n",
       "| 0.6254518 | 0.6130435 | 0.6378601 | 0.6157205 | 0.6130435 | CVrep2    |\n",
       "| 0.6549562 | 0.6391304 | 0.6707819 | 0.6475771 | 0.6391304 | CVrep3    |\n",
       "| 0.6416801 | 0.6043478 | 0.6790123 | 0.6405530 | 0.6043478 | CVrep4    |\n",
       "| 0.6053051 | 0.5521739 | 0.6584362 | 0.6047619 | 0.5521739 | CVrep5    |\n",
       "| 0.6351583 | 0.5913043 | 0.6790123 | 0.6355140 | 0.5913043 | CVrep6    |\n",
       "| 0.6467257 | 0.6391304 | 0.6543210 | 0.6363636 | 0.6391304 | CVrep7    |\n",
       "| 0.6393899 | 0.5956522 | 0.6831276 | 0.6401869 | 0.5956522 | CVrep8    |\n",
       "| 0.6710682 | 0.6260870 | 0.7160494 | 0.6760563 | 0.6260870 | CVrep9    |\n",
       "| 0.6406692 | 0.6434783 | 0.6378601 | 0.6271186 | 0.6434783 | CVrep10   |\n",
       "| 0.6392378 | 0.6130435 | 0.6654321 | 0.6344542 | 0.6130435 | mean      |\n",
       "\n"
      ],
      "text/plain": [
       "   Balanced Accuracy Sensitivity Specificity Precision Recall    CV_rep \n",
       "1  0.6319735         0.6260870   0.6378601   0.6206897 0.6260870 CVrep1 \n",
       "2  0.6254518         0.6130435   0.6378601   0.6157205 0.6130435 CVrep2 \n",
       "3  0.6549562         0.6391304   0.6707819   0.6475771 0.6391304 CVrep3 \n",
       "4  0.6416801         0.6043478   0.6790123   0.6405530 0.6043478 CVrep4 \n",
       "5  0.6053051         0.5521739   0.6584362   0.6047619 0.5521739 CVrep5 \n",
       "6  0.6351583         0.5913043   0.6790123   0.6355140 0.5913043 CVrep6 \n",
       "7  0.6467257         0.6391304   0.6543210   0.6363636 0.6391304 CVrep7 \n",
       "8  0.6393899         0.5956522   0.6831276   0.6401869 0.5956522 CVrep8 \n",
       "9  0.6710682         0.6260870   0.7160494   0.6760563 0.6260870 CVrep9 \n",
       "10 0.6406692         0.6434783   0.6378601   0.6271186 0.6434783 CVrep10\n",
       "11 0.6392378         0.6130435   0.6654321   0.6344542 0.6130435 mean   "
      ]
     },
     "metadata": {},
     "output_type": "display_data"
    }
   ],
   "source": [
    "eval_metrics_gbm <- readRDS(\"Evaluation/RIDGE__TRUE_ATAC_pred_normalized_/Eval_metrics_GBM.rds\")\n",
    "eval_metrics_gbm"
   ]
  },
  {
   "cell_type": "code",
   "execution_count": 3,
   "id": "5007dbe8-fb8f-440a-b026-e194f832ca76",
   "metadata": {},
   "outputs": [
    {
     "data": {
      "text/html": [
       "<table>\n",
       "<thead><tr><th scope=col>cv_rep</th><th scope=col>case_control_auc</th></tr></thead>\n",
       "<tbody>\n",
       "\t<tr><td>1        </td><td>0.6801932</td></tr>\n",
       "\t<tr><td>2        </td><td>0.6578994</td></tr>\n",
       "\t<tr><td>3        </td><td>0.6964931</td></tr>\n",
       "\t<tr><td>4        </td><td>0.6750760</td></tr>\n",
       "\t<tr><td>5        </td><td>0.6604402</td></tr>\n",
       "\t<tr><td>6        </td><td>0.6801038</td></tr>\n",
       "\t<tr><td>7        </td><td>0.6937198</td></tr>\n",
       "\t<tr><td>8        </td><td>0.6951154</td></tr>\n",
       "\t<tr><td>9        </td><td>0.7272500</td></tr>\n",
       "\t<tr><td>10       </td><td>0.6889605</td></tr>\n",
       "\t<tr><td>mean     </td><td>0.6861115</td></tr>\n",
       "</tbody>\n",
       "</table>\n"
      ],
      "text/latex": [
       "\\begin{tabular}{r|ll}\n",
       " cv\\_rep & case\\_control\\_auc\\\\\n",
       "\\hline\n",
       "\t 1         & 0.6801932\\\\\n",
       "\t 2         & 0.6578994\\\\\n",
       "\t 3         & 0.6964931\\\\\n",
       "\t 4         & 0.6750760\\\\\n",
       "\t 5         & 0.6604402\\\\\n",
       "\t 6         & 0.6801038\\\\\n",
       "\t 7         & 0.6937198\\\\\n",
       "\t 8         & 0.6951154\\\\\n",
       "\t 9         & 0.7272500\\\\\n",
       "\t 10        & 0.6889605\\\\\n",
       "\t mean      & 0.6861115\\\\\n",
       "\\end{tabular}\n"
      ],
      "text/markdown": [
       "\n",
       "| cv_rep | case_control_auc |\n",
       "|---|---|\n",
       "| 1         | 0.6801932 |\n",
       "| 2         | 0.6578994 |\n",
       "| 3         | 0.6964931 |\n",
       "| 4         | 0.6750760 |\n",
       "| 5         | 0.6604402 |\n",
       "| 6         | 0.6801038 |\n",
       "| 7         | 0.6937198 |\n",
       "| 8         | 0.6951154 |\n",
       "| 9         | 0.7272500 |\n",
       "| 10        | 0.6889605 |\n",
       "| mean      | 0.6861115 |\n",
       "\n"
      ],
      "text/plain": [
       "   cv_rep case_control_auc\n",
       "1  1      0.6801932       \n",
       "2  2      0.6578994       \n",
       "3  3      0.6964931       \n",
       "4  4      0.6750760       \n",
       "5  5      0.6604402       \n",
       "6  6      0.6801038       \n",
       "7  7      0.6937198       \n",
       "8  8      0.6951154       \n",
       "9  9      0.7272500       \n",
       "10 10     0.6889605       \n",
       "11 mean   0.6861115       "
      ]
     },
     "metadata": {},
     "output_type": "display_data"
    }
   ],
   "source": [
    "aucs_gbm <- readRDS(\"Evaluation/RIDGE__TRUE_ATAC_pred_normalized_/AUCs_GBM.rds\")\n",
    "aucs_gbm"
   ]
  },
  {
   "cell_type": "code",
   "execution_count": 4,
   "id": "9ee4434e-6c56-4092-9a54-0911d55e3243",
   "metadata": {},
   "outputs": [
    {
     "data": {
      "text/html": [
       "<table>\n",
       "<thead><tr><th scope=col>Accuracy</th><th scope=col>AccuracyLower</th><th scope=col>AccuracyUpper</th><th scope=col>AccuracyNull</th><th scope=col>CV_rep</th></tr></thead>\n",
       "<tbody>\n",
       "\t<tr><td>0.6976744</td><td>0.6540843</td><td>0.7387723</td><td>0.5137421</td><td>CVrep1   </td></tr>\n",
       "\t<tr><td>0.6744186</td><td>0.6301399</td><td>0.7164996</td><td>0.5137421</td><td>CVrep2   </td></tr>\n",
       "\t<tr><td>0.6976744</td><td>0.6540843</td><td>0.7387723</td><td>0.5137421</td><td>CVrep3   </td></tr>\n",
       "\t<tr><td>0.6786469</td><td>0.6344845</td><td>0.7205582</td><td>0.5137421</td><td>CVrep4   </td></tr>\n",
       "\t<tr><td>0.6701903</td><td>0.6257992</td><td>0.7124372</td><td>0.5137421</td><td>CVrep5   </td></tr>\n",
       "\t<tr><td>0.6934461</td><td>0.6497217</td><td>0.7347318</td><td>0.5137421</td><td>CVrep6   </td></tr>\n",
       "\t<tr><td>0.6892178</td><td>0.6453632</td><td>0.7306872</td><td>0.5137421</td><td>CVrep7   </td></tr>\n",
       "\t<tr><td>0.6913319</td><td>0.6475419</td><td>0.7327100</td><td>0.5137421</td><td>CVrep8   </td></tr>\n",
       "\t<tr><td>0.6786469</td><td>0.6344845</td><td>0.7205582</td><td>0.5137421</td><td>CVrep9   </td></tr>\n",
       "\t<tr><td>0.6828753</td><td>0.6388330</td><td>0.7246128</td><td>0.5137421</td><td>CVrep10  </td></tr>\n",
       "\t<tr><td>0.6854123</td><td>0.6414536</td><td>0.7270340</td><td>0.5137421</td><td>mean     </td></tr>\n",
       "</tbody>\n",
       "</table>\n"
      ],
      "text/latex": [
       "\\begin{tabular}{r|lllll}\n",
       " Accuracy & AccuracyLower & AccuracyUpper & AccuracyNull & CV\\_rep\\\\\n",
       "\\hline\n",
       "\t 0.6976744 & 0.6540843 & 0.7387723 & 0.5137421 & CVrep1   \\\\\n",
       "\t 0.6744186 & 0.6301399 & 0.7164996 & 0.5137421 & CVrep2   \\\\\n",
       "\t 0.6976744 & 0.6540843 & 0.7387723 & 0.5137421 & CVrep3   \\\\\n",
       "\t 0.6786469 & 0.6344845 & 0.7205582 & 0.5137421 & CVrep4   \\\\\n",
       "\t 0.6701903 & 0.6257992 & 0.7124372 & 0.5137421 & CVrep5   \\\\\n",
       "\t 0.6934461 & 0.6497217 & 0.7347318 & 0.5137421 & CVrep6   \\\\\n",
       "\t 0.6892178 & 0.6453632 & 0.7306872 & 0.5137421 & CVrep7   \\\\\n",
       "\t 0.6913319 & 0.6475419 & 0.7327100 & 0.5137421 & CVrep8   \\\\\n",
       "\t 0.6786469 & 0.6344845 & 0.7205582 & 0.5137421 & CVrep9   \\\\\n",
       "\t 0.6828753 & 0.6388330 & 0.7246128 & 0.5137421 & CVrep10  \\\\\n",
       "\t 0.6854123 & 0.6414536 & 0.7270340 & 0.5137421 & mean     \\\\\n",
       "\\end{tabular}\n"
      ],
      "text/markdown": [
       "\n",
       "| Accuracy | AccuracyLower | AccuracyUpper | AccuracyNull | CV_rep |\n",
       "|---|---|---|---|---|\n",
       "| 0.6976744 | 0.6540843 | 0.7387723 | 0.5137421 | CVrep1    |\n",
       "| 0.6744186 | 0.6301399 | 0.7164996 | 0.5137421 | CVrep2    |\n",
       "| 0.6976744 | 0.6540843 | 0.7387723 | 0.5137421 | CVrep3    |\n",
       "| 0.6786469 | 0.6344845 | 0.7205582 | 0.5137421 | CVrep4    |\n",
       "| 0.6701903 | 0.6257992 | 0.7124372 | 0.5137421 | CVrep5    |\n",
       "| 0.6934461 | 0.6497217 | 0.7347318 | 0.5137421 | CVrep6    |\n",
       "| 0.6892178 | 0.6453632 | 0.7306872 | 0.5137421 | CVrep7    |\n",
       "| 0.6913319 | 0.6475419 | 0.7327100 | 0.5137421 | CVrep8    |\n",
       "| 0.6786469 | 0.6344845 | 0.7205582 | 0.5137421 | CVrep9    |\n",
       "| 0.6828753 | 0.6388330 | 0.7246128 | 0.5137421 | CVrep10   |\n",
       "| 0.6854123 | 0.6414536 | 0.7270340 | 0.5137421 | mean      |\n",
       "\n"
      ],
      "text/plain": [
       "   Accuracy  AccuracyLower AccuracyUpper AccuracyNull CV_rep \n",
       "1  0.6976744 0.6540843     0.7387723     0.5137421    CVrep1 \n",
       "2  0.6744186 0.6301399     0.7164996     0.5137421    CVrep2 \n",
       "3  0.6976744 0.6540843     0.7387723     0.5137421    CVrep3 \n",
       "4  0.6786469 0.6344845     0.7205582     0.5137421    CVrep4 \n",
       "5  0.6701903 0.6257992     0.7124372     0.5137421    CVrep5 \n",
       "6  0.6934461 0.6497217     0.7347318     0.5137421    CVrep6 \n",
       "7  0.6892178 0.6453632     0.7306872     0.5137421    CVrep7 \n",
       "8  0.6913319 0.6475419     0.7327100     0.5137421    CVrep8 \n",
       "9  0.6786469 0.6344845     0.7205582     0.5137421    CVrep9 \n",
       "10 0.6828753 0.6388330     0.7246128     0.5137421    CVrep10\n",
       "11 0.6854123 0.6414536     0.7270340     0.5137421    mean   "
      ]
     },
     "metadata": {},
     "output_type": "display_data"
    }
   ],
   "source": [
    "acc_lasso <- readRDS(\"Evaluation/RIDGE__TRUE_ATAC_pred_normalized_/Accuracy_lasso.rds\")\n",
    "acc_lasso"
   ]
  },
  {
   "cell_type": "code",
   "execution_count": 5,
   "id": "e12b9a97-ad50-4de1-861d-d0f00dc4170f",
   "metadata": {},
   "outputs": [
    {
     "data": {
      "text/html": [
       "<table>\n",
       "<thead><tr><th scope=col>Balanced Accuracy</th><th scope=col>Sensitivity</th><th scope=col>Specificity</th><th scope=col>Precision</th><th scope=col>Recall</th><th scope=col>CV_rep</th></tr></thead>\n",
       "<tbody>\n",
       "\t<tr><td>0.6964573</td><td>0.6521739</td><td>0.7407407</td><td>0.7042254</td><td>0.6521739</td><td>CVrep1   </td></tr>\n",
       "\t<tr><td>0.6733584</td><td>0.6347826</td><td>0.7119342</td><td>0.6759259</td><td>0.6347826</td><td>CVrep2   </td></tr>\n",
       "\t<tr><td>0.6962247</td><td>0.6434783</td><td>0.7489712</td><td>0.7081340</td><td>0.6434783</td><td>CVrep3   </td></tr>\n",
       "\t<tr><td>0.6772410</td><td>0.6260870</td><td>0.7283951</td><td>0.6857143</td><td>0.6260870</td><td>CVrep4   </td></tr>\n",
       "\t<tr><td>0.6690106</td><td>0.6260870</td><td>0.7119342</td><td>0.6728972</td><td>0.6260870</td><td>CVrep5   </td></tr>\n",
       "\t<tr><td>0.6924584</td><td>0.6565217</td><td>0.7283951</td><td>0.6958525</td><td>0.6565217</td><td>CVrep6   </td></tr>\n",
       "\t<tr><td>0.6878780</td><td>0.6391304</td><td>0.7366255</td><td>0.6966825</td><td>0.6391304</td><td>CVrep7   </td></tr>\n",
       "\t<tr><td>0.6901682</td><td>0.6478261</td><td>0.7325103</td><td>0.6962617</td><td>0.6478261</td><td>CVrep8   </td></tr>\n",
       "\t<tr><td>0.6775899</td><td>0.6391304</td><td>0.7160494</td><td>0.6805556</td><td>0.6391304</td><td>CVrep9   </td></tr>\n",
       "\t<tr><td>0.6818214</td><td>0.6434783</td><td>0.7201646</td><td>0.6851852</td><td>0.6434783</td><td>CVrep10  </td></tr>\n",
       "\t<tr><td>0.6842208</td><td>0.6408696</td><td>0.7275720</td><td>0.6901434</td><td>0.6408696</td><td>mean     </td></tr>\n",
       "</tbody>\n",
       "</table>\n"
      ],
      "text/latex": [
       "\\begin{tabular}{r|llllll}\n",
       " Balanced Accuracy & Sensitivity & Specificity & Precision & Recall & CV\\_rep\\\\\n",
       "\\hline\n",
       "\t 0.6964573 & 0.6521739 & 0.7407407 & 0.7042254 & 0.6521739 & CVrep1   \\\\\n",
       "\t 0.6733584 & 0.6347826 & 0.7119342 & 0.6759259 & 0.6347826 & CVrep2   \\\\\n",
       "\t 0.6962247 & 0.6434783 & 0.7489712 & 0.7081340 & 0.6434783 & CVrep3   \\\\\n",
       "\t 0.6772410 & 0.6260870 & 0.7283951 & 0.6857143 & 0.6260870 & CVrep4   \\\\\n",
       "\t 0.6690106 & 0.6260870 & 0.7119342 & 0.6728972 & 0.6260870 & CVrep5   \\\\\n",
       "\t 0.6924584 & 0.6565217 & 0.7283951 & 0.6958525 & 0.6565217 & CVrep6   \\\\\n",
       "\t 0.6878780 & 0.6391304 & 0.7366255 & 0.6966825 & 0.6391304 & CVrep7   \\\\\n",
       "\t 0.6901682 & 0.6478261 & 0.7325103 & 0.6962617 & 0.6478261 & CVrep8   \\\\\n",
       "\t 0.6775899 & 0.6391304 & 0.7160494 & 0.6805556 & 0.6391304 & CVrep9   \\\\\n",
       "\t 0.6818214 & 0.6434783 & 0.7201646 & 0.6851852 & 0.6434783 & CVrep10  \\\\\n",
       "\t 0.6842208 & 0.6408696 & 0.7275720 & 0.6901434 & 0.6408696 & mean     \\\\\n",
       "\\end{tabular}\n"
      ],
      "text/markdown": [
       "\n",
       "| Balanced Accuracy | Sensitivity | Specificity | Precision | Recall | CV_rep |\n",
       "|---|---|---|---|---|---|\n",
       "| 0.6964573 | 0.6521739 | 0.7407407 | 0.7042254 | 0.6521739 | CVrep1    |\n",
       "| 0.6733584 | 0.6347826 | 0.7119342 | 0.6759259 | 0.6347826 | CVrep2    |\n",
       "| 0.6962247 | 0.6434783 | 0.7489712 | 0.7081340 | 0.6434783 | CVrep3    |\n",
       "| 0.6772410 | 0.6260870 | 0.7283951 | 0.6857143 | 0.6260870 | CVrep4    |\n",
       "| 0.6690106 | 0.6260870 | 0.7119342 | 0.6728972 | 0.6260870 | CVrep5    |\n",
       "| 0.6924584 | 0.6565217 | 0.7283951 | 0.6958525 | 0.6565217 | CVrep6    |\n",
       "| 0.6878780 | 0.6391304 | 0.7366255 | 0.6966825 | 0.6391304 | CVrep7    |\n",
       "| 0.6901682 | 0.6478261 | 0.7325103 | 0.6962617 | 0.6478261 | CVrep8    |\n",
       "| 0.6775899 | 0.6391304 | 0.7160494 | 0.6805556 | 0.6391304 | CVrep9    |\n",
       "| 0.6818214 | 0.6434783 | 0.7201646 | 0.6851852 | 0.6434783 | CVrep10   |\n",
       "| 0.6842208 | 0.6408696 | 0.7275720 | 0.6901434 | 0.6408696 | mean      |\n",
       "\n"
      ],
      "text/plain": [
       "   Balanced Accuracy Sensitivity Specificity Precision Recall    CV_rep \n",
       "1  0.6964573         0.6521739   0.7407407   0.7042254 0.6521739 CVrep1 \n",
       "2  0.6733584         0.6347826   0.7119342   0.6759259 0.6347826 CVrep2 \n",
       "3  0.6962247         0.6434783   0.7489712   0.7081340 0.6434783 CVrep3 \n",
       "4  0.6772410         0.6260870   0.7283951   0.6857143 0.6260870 CVrep4 \n",
       "5  0.6690106         0.6260870   0.7119342   0.6728972 0.6260870 CVrep5 \n",
       "6  0.6924584         0.6565217   0.7283951   0.6958525 0.6565217 CVrep6 \n",
       "7  0.6878780         0.6391304   0.7366255   0.6966825 0.6391304 CVrep7 \n",
       "8  0.6901682         0.6478261   0.7325103   0.6962617 0.6478261 CVrep8 \n",
       "9  0.6775899         0.6391304   0.7160494   0.6805556 0.6391304 CVrep9 \n",
       "10 0.6818214         0.6434783   0.7201646   0.6851852 0.6434783 CVrep10\n",
       "11 0.6842208         0.6408696   0.7275720   0.6901434 0.6408696 mean   "
      ]
     },
     "metadata": {},
     "output_type": "display_data"
    }
   ],
   "source": [
    "eval_metrics_lasso <- readRDS(\"Evaluation/RIDGE__TRUE_ATAC_pred_normalized_/Eval_metrics_lasso.rds\")\n",
    "eval_metrics_lasso"
   ]
  },
  {
   "cell_type": "code",
   "execution_count": 6,
   "id": "1e2c23d2-81c4-4a22-abbf-41f268ebfcee",
   "metadata": {},
   "outputs": [
    {
     "data": {
      "text/html": [
       "<table>\n",
       "<thead><tr><th scope=col>cv_rep</th><th scope=col>case_control_auc</th></tr></thead>\n",
       "<tbody>\n",
       "\t<tr><td>1        </td><td>0.7597245</td></tr>\n",
       "\t<tr><td>2        </td><td>0.7514761</td></tr>\n",
       "\t<tr><td>3        </td><td>0.7694400</td></tr>\n",
       "\t<tr><td>4        </td><td>0.7545536</td></tr>\n",
       "\t<tr><td>5        </td><td>0.7530506</td></tr>\n",
       "\t<tr><td>6        </td><td>0.7623009</td></tr>\n",
       "\t<tr><td>7        </td><td>0.7549830</td></tr>\n",
       "\t<tr><td>8        </td><td>0.7608338</td></tr>\n",
       "\t<tr><td>9        </td><td>0.7488102</td></tr>\n",
       "\t<tr><td>10       </td><td>0.7518161</td></tr>\n",
       "\t<tr><td>mean     </td><td>0.7564832</td></tr>\n",
       "</tbody>\n",
       "</table>\n"
      ],
      "text/latex": [
       "\\begin{tabular}{r|ll}\n",
       " cv\\_rep & case\\_control\\_auc\\\\\n",
       "\\hline\n",
       "\t 1         & 0.7597245\\\\\n",
       "\t 2         & 0.7514761\\\\\n",
       "\t 3         & 0.7694400\\\\\n",
       "\t 4         & 0.7545536\\\\\n",
       "\t 5         & 0.7530506\\\\\n",
       "\t 6         & 0.7623009\\\\\n",
       "\t 7         & 0.7549830\\\\\n",
       "\t 8         & 0.7608338\\\\\n",
       "\t 9         & 0.7488102\\\\\n",
       "\t 10        & 0.7518161\\\\\n",
       "\t mean      & 0.7564832\\\\\n",
       "\\end{tabular}\n"
      ],
      "text/markdown": [
       "\n",
       "| cv_rep | case_control_auc |\n",
       "|---|---|\n",
       "| 1         | 0.7597245 |\n",
       "| 2         | 0.7514761 |\n",
       "| 3         | 0.7694400 |\n",
       "| 4         | 0.7545536 |\n",
       "| 5         | 0.7530506 |\n",
       "| 6         | 0.7623009 |\n",
       "| 7         | 0.7549830 |\n",
       "| 8         | 0.7608338 |\n",
       "| 9         | 0.7488102 |\n",
       "| 10        | 0.7518161 |\n",
       "| mean      | 0.7564832 |\n",
       "\n"
      ],
      "text/plain": [
       "   cv_rep case_control_auc\n",
       "1  1      0.7597245       \n",
       "2  2      0.7514761       \n",
       "3  3      0.7694400       \n",
       "4  4      0.7545536       \n",
       "5  5      0.7530506       \n",
       "6  6      0.7623009       \n",
       "7  7      0.7549830       \n",
       "8  8      0.7608338       \n",
       "9  9      0.7488102       \n",
       "10 10     0.7518161       \n",
       "11 mean   0.7564832       "
      ]
     },
     "metadata": {},
     "output_type": "display_data"
    }
   ],
   "source": [
    "aucs_lasso <- readRDS(\"Evaluation/RIDGE__TRUE_ATAC_pred_normalized_/AUCs_lasso.rds\")\n",
    "aucs_lasso"
   ]
  },
  {
   "cell_type": "code",
   "execution_count": null,
   "id": "9d2cd63a-6194-4141-9081-a481aa151d53",
   "metadata": {},
   "outputs": [],
   "source": []
  },
  {
   "cell_type": "code",
   "execution_count": null,
   "id": "9ff42350-c507-46f2-aa45-3ae913ee73a4",
   "metadata": {},
   "outputs": [],
   "source": []
  }
 ],
 "metadata": {
  "kernelspec": {
   "display_name": "R",
   "language": "R",
   "name": "ir"
  },
  "language_info": {
   "codemirror_mode": "r",
   "file_extension": ".r",
   "mimetype": "text/x-r-source",
   "name": "R",
   "pygments_lexer": "r",
   "version": "3.6.1"
  }
 },
 "nbformat": 4,
 "nbformat_minor": 5
}
