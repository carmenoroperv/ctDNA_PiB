{
 "cells": [
  {
   "cell_type": "code",
   "execution_count": 28,
   "id": "678bedec-fc57-4d96-b531-7ba5e0800a46",
   "metadata": {},
   "outputs": [],
   "source": [
    "library(tidyverse)"
   ]
  },
  {
   "cell_type": "code",
   "execution_count": 29,
   "id": "705d3ca1-3f6d-430a-955e-b31e59acad34",
   "metadata": {},
   "outputs": [],
   "source": [
    "gbm_pred <- readRDS(\"GBM.rds\")"
   ]
  },
  {
   "cell_type": "code",
   "execution_count": 30,
   "id": "ff7fe695-2aed-4cf0-8106-c4bde4e7c06e",
   "metadata": {},
   "outputs": [
    {
     "data": {
      "text/html": [
       "<table>\n",
       "<thead><tr><th scope=col>observed</th><th scope=col>CV_rep</th><th scope=col>class1_prob</th><th scope=col>class2_prob</th><th scope=col>label_pred</th></tr></thead>\n",
       "<tbody>\n",
       "\t<tr><td>Cancer     </td><td>1          </td><td>0.1020152  </td><td>0.897984839</td><td>Healthy    </td></tr>\n",
       "\t<tr><td>Cancer     </td><td>1          </td><td>0.8244082  </td><td>0.175591786</td><td>Cancer     </td></tr>\n",
       "\t<tr><td>Cancer     </td><td>1          </td><td>0.9918885  </td><td>0.008111503</td><td>Cancer     </td></tr>\n",
       "\t<tr><td>Cancer     </td><td>1          </td><td>0.2676333  </td><td>0.732366727</td><td>Healthy    </td></tr>\n",
       "\t<tr><td>Cancer     </td><td>1          </td><td>0.5569394  </td><td>0.443060573</td><td>Cancer     </td></tr>\n",
       "\t<tr><td>Cancer     </td><td>1          </td><td>0.5328947  </td><td>0.467105283</td><td>Cancer     </td></tr>\n",
       "</tbody>\n",
       "</table>\n"
      ],
      "text/latex": [
       "\\begin{tabular}{r|lllll}\n",
       " observed & CV\\_rep & class1\\_prob & class2\\_prob & label\\_pred\\\\\n",
       "\\hline\n",
       "\t Cancer      & 1           & 0.1020152   & 0.897984839 & Healthy    \\\\\n",
       "\t Cancer      & 1           & 0.8244082   & 0.175591786 & Cancer     \\\\\n",
       "\t Cancer      & 1           & 0.9918885   & 0.008111503 & Cancer     \\\\\n",
       "\t Cancer      & 1           & 0.2676333   & 0.732366727 & Healthy    \\\\\n",
       "\t Cancer      & 1           & 0.5569394   & 0.443060573 & Cancer     \\\\\n",
       "\t Cancer      & 1           & 0.5328947   & 0.467105283 & Cancer     \\\\\n",
       "\\end{tabular}\n"
      ],
      "text/markdown": [
       "\n",
       "| observed | CV_rep | class1_prob | class2_prob | label_pred |\n",
       "|---|---|---|---|---|\n",
       "| Cancer      | 1           | 0.1020152   | 0.897984839 | Healthy     |\n",
       "| Cancer      | 1           | 0.8244082   | 0.175591786 | Cancer      |\n",
       "| Cancer      | 1           | 0.9918885   | 0.008111503 | Cancer      |\n",
       "| Cancer      | 1           | 0.2676333   | 0.732366727 | Healthy     |\n",
       "| Cancer      | 1           | 0.5569394   | 0.443060573 | Cancer      |\n",
       "| Cancer      | 1           | 0.5328947   | 0.467105283 | Cancer      |\n",
       "\n"
      ],
      "text/plain": [
       "  observed CV_rep class1_prob class2_prob label_pred\n",
       "1 Cancer   1      0.1020152   0.897984839 Healthy   \n",
       "2 Cancer   1      0.8244082   0.175591786 Cancer    \n",
       "3 Cancer   1      0.9918885   0.008111503 Cancer    \n",
       "4 Cancer   1      0.2676333   0.732366727 Healthy   \n",
       "5 Cancer   1      0.5569394   0.443060573 Cancer    \n",
       "6 Cancer   1      0.5328947   0.467105283 Cancer    "
      ]
     },
     "metadata": {},
     "output_type": "display_data"
    },
    {
     "data": {
      "text/html": [
       "<table>\n",
       "<thead><tr><th scope=col>observed</th><th scope=col>cv_rep</th><th scope=col>Cancer</th><th scope=col>Healthy</th><th scope=col>label_pred</th></tr></thead>\n",
       "<tbody>\n",
       "\t<tr><td>Cancer     </td><td>1          </td><td>0.1020152  </td><td>0.897984839</td><td>Healthy    </td></tr>\n",
       "\t<tr><td>Cancer     </td><td>1          </td><td>0.8244082  </td><td>0.175591786</td><td>Cancer     </td></tr>\n",
       "\t<tr><td>Cancer     </td><td>1          </td><td>0.9918885  </td><td>0.008111503</td><td>Cancer     </td></tr>\n",
       "\t<tr><td>Cancer     </td><td>1          </td><td>0.2676333  </td><td>0.732366727</td><td>Healthy    </td></tr>\n",
       "\t<tr><td>Cancer     </td><td>1          </td><td>0.5569394  </td><td>0.443060573</td><td>Cancer     </td></tr>\n",
       "\t<tr><td>Cancer     </td><td>1          </td><td>0.5328947  </td><td>0.467105283</td><td>Cancer     </td></tr>\n",
       "</tbody>\n",
       "</table>\n"
      ],
      "text/latex": [
       "\\begin{tabular}{r|lllll}\n",
       " observed & cv\\_rep & Cancer & Healthy & label\\_pred\\\\\n",
       "\\hline\n",
       "\t Cancer      & 1           & 0.1020152   & 0.897984839 & Healthy    \\\\\n",
       "\t Cancer      & 1           & 0.8244082   & 0.175591786 & Cancer     \\\\\n",
       "\t Cancer      & 1           & 0.9918885   & 0.008111503 & Cancer     \\\\\n",
       "\t Cancer      & 1           & 0.2676333   & 0.732366727 & Healthy    \\\\\n",
       "\t Cancer      & 1           & 0.5569394   & 0.443060573 & Cancer     \\\\\n",
       "\t Cancer      & 1           & 0.5328947   & 0.467105283 & Cancer     \\\\\n",
       "\\end{tabular}\n"
      ],
      "text/markdown": [
       "\n",
       "| observed | cv_rep | Cancer | Healthy | label_pred |\n",
       "|---|---|---|---|---|\n",
       "| Cancer      | 1           | 0.1020152   | 0.897984839 | Healthy     |\n",
       "| Cancer      | 1           | 0.8244082   | 0.175591786 | Cancer      |\n",
       "| Cancer      | 1           | 0.9918885   | 0.008111503 | Cancer      |\n",
       "| Cancer      | 1           | 0.2676333   | 0.732366727 | Healthy     |\n",
       "| Cancer      | 1           | 0.5569394   | 0.443060573 | Cancer      |\n",
       "| Cancer      | 1           | 0.5328947   | 0.467105283 | Cancer      |\n",
       "\n"
      ],
      "text/plain": [
       "  observed cv_rep Cancer    Healthy     label_pred\n",
       "1 Cancer   1      0.1020152 0.897984839 Healthy   \n",
       "2 Cancer   1      0.8244082 0.175591786 Cancer    \n",
       "3 Cancer   1      0.9918885 0.008111503 Cancer    \n",
       "4 Cancer   1      0.2676333 0.732366727 Healthy   \n",
       "5 Cancer   1      0.5569394 0.443060573 Cancer    \n",
       "6 Cancer   1      0.5328947 0.467105283 Cancer    "
      ]
     },
     "metadata": {},
     "output_type": "display_data"
    }
   ],
   "source": [
    "head(gbm_pred)\n",
    "colnames(gbm_pred) <- c(\"observed\", \"cv_rep\", \"Cancer\", \"Healthy\", \"label_pred\")\n",
    "head(gbm_pred)"
   ]
  },
  {
   "cell_type": "code",
   "execution_count": 43,
   "id": "11ee12d7-2383-4045-a44c-5ea482c4664b",
   "metadata": {},
   "outputs": [
    {
     "data": {
      "text/html": [
       "<table>\n",
       "<thead><tr><th scope=col>cv_rep</th><th scope=col>observed</th><th scope=col>Cancer</th></tr></thead>\n",
       "<tbody>\n",
       "\t<tr><td>1        </td><td>Cancer   </td><td>0.1020152</td></tr>\n",
       "\t<tr><td>1        </td><td>Cancer   </td><td>0.8244082</td></tr>\n",
       "\t<tr><td>1        </td><td>Cancer   </td><td>0.9918885</td></tr>\n",
       "\t<tr><td>1        </td><td>Cancer   </td><td>0.2676333</td></tr>\n",
       "\t<tr><td>1        </td><td>Cancer   </td><td>0.5569394</td></tr>\n",
       "\t<tr><td>1        </td><td>Cancer   </td><td>0.5328947</td></tr>\n",
       "</tbody>\n",
       "</table>\n"
      ],
      "text/latex": [
       "\\begin{tabular}{r|lll}\n",
       " cv\\_rep & observed & Cancer\\\\\n",
       "\\hline\n",
       "\t 1         & Cancer    & 0.1020152\\\\\n",
       "\t 1         & Cancer    & 0.8244082\\\\\n",
       "\t 1         & Cancer    & 0.9918885\\\\\n",
       "\t 1         & Cancer    & 0.2676333\\\\\n",
       "\t 1         & Cancer    & 0.5569394\\\\\n",
       "\t 1         & Cancer    & 0.5328947\\\\\n",
       "\\end{tabular}\n"
      ],
      "text/markdown": [
       "\n",
       "| cv_rep | observed | Cancer |\n",
       "|---|---|---|\n",
       "| 1         | Cancer    | 0.1020152 |\n",
       "| 1         | Cancer    | 0.8244082 |\n",
       "| 1         | Cancer    | 0.9918885 |\n",
       "| 1         | Cancer    | 0.2676333 |\n",
       "| 1         | Cancer    | 0.5569394 |\n",
       "| 1         | Cancer    | 0.5328947 |\n",
       "\n"
      ],
      "text/plain": [
       "  cv_rep observed Cancer   \n",
       "1 1      Cancer   0.1020152\n",
       "2 1      Cancer   0.8244082\n",
       "3 1      Cancer   0.9918885\n",
       "4 1      Cancer   0.2676333\n",
       "5 1      Cancer   0.5569394\n",
       "6 1      Cancer   0.5328947"
      ]
     },
     "metadata": {},
     "output_type": "display_data"
    }
   ],
   "source": [
    "gbm_pred_formatted <- gbm_pred %>% select(cv_rep, observed, Cancer)\n",
    "head(gbm_pred_formatted)"
   ]
  },
  {
   "cell_type": "code",
   "execution_count": 44,
   "id": "abcfeb31-0983-4465-bd27-0e4f3e658a9d",
   "metadata": {},
   "outputs": [
    {
     "data": {
      "text/html": [
       "<table>\n",
       "<thead><tr><th></th><th scope=col>cv_rep</th><th scope=col>observed</th><th scope=col>Cancer</th></tr></thead>\n",
       "<tbody>\n",
       "\t<tr><th scope=row>4725</th><td>10       </td><td>Cancer   </td><td>0.2664459</td></tr>\n",
       "\t<tr><th scope=row>4726</th><td>10       </td><td>Cancer   </td><td>0.7778763</td></tr>\n",
       "\t<tr><th scope=row>4727</th><td>10       </td><td>Cancer   </td><td>0.9980554</td></tr>\n",
       "\t<tr><th scope=row>4728</th><td>10       </td><td>Cancer   </td><td>0.9615231</td></tr>\n",
       "\t<tr><th scope=row>4729</th><td>10       </td><td>Cancer   </td><td>0.5587231</td></tr>\n",
       "\t<tr><th scope=row>4730</th><td>10       </td><td>Cancer   </td><td>0.6159528</td></tr>\n",
       "</tbody>\n",
       "</table>\n"
      ],
      "text/latex": [
       "\\begin{tabular}{r|lll}\n",
       "  & cv\\_rep & observed & Cancer\\\\\n",
       "\\hline\n",
       "\t4725 & 10        & Cancer    & 0.2664459\\\\\n",
       "\t4726 & 10        & Cancer    & 0.7778763\\\\\n",
       "\t4727 & 10        & Cancer    & 0.9980554\\\\\n",
       "\t4728 & 10        & Cancer    & 0.9615231\\\\\n",
       "\t4729 & 10        & Cancer    & 0.5587231\\\\\n",
       "\t4730 & 10        & Cancer    & 0.6159528\\\\\n",
       "\\end{tabular}\n"
      ],
      "text/markdown": [
       "\n",
       "| <!--/--> | cv_rep | observed | Cancer |\n",
       "|---|---|---|---|\n",
       "| 4725 | 10        | Cancer    | 0.2664459 |\n",
       "| 4726 | 10        | Cancer    | 0.7778763 |\n",
       "| 4727 | 10        | Cancer    | 0.9980554 |\n",
       "| 4728 | 10        | Cancer    | 0.9615231 |\n",
       "| 4729 | 10        | Cancer    | 0.5587231 |\n",
       "| 4730 | 10        | Cancer    | 0.6159528 |\n",
       "\n"
      ],
      "text/plain": [
       "     cv_rep observed Cancer   \n",
       "4725 10     Cancer   0.2664459\n",
       "4726 10     Cancer   0.7778763\n",
       "4727 10     Cancer   0.9980554\n",
       "4728 10     Cancer   0.9615231\n",
       "4729 10     Cancer   0.5587231\n",
       "4730 10     Cancer   0.6159528"
      ]
     },
     "metadata": {},
     "output_type": "display_data"
    }
   ],
   "source": [
    "tail(gbm_pred_formatted)"
   ]
  },
  {
   "cell_type": "code",
   "execution_count": 26,
   "id": "a5827741-b136-4639-8140-59636b7a3531",
   "metadata": {},
   "outputs": [],
   "source": [
    "saveRDS(gbm_pred_formatted, \"GBM_formatted.rds\")"
   ]
  },
  {
   "cell_type": "code",
   "execution_count": 21,
   "id": "08aa8cda-eb7f-42aa-82e3-89768ae20c76",
   "metadata": {},
   "outputs": [
    {
     "data": {
      "text/html": [
       "<table>\n",
       "<thead><tr><th scope=col>observed</th><th scope=col>CV_rep</th><th scope=col>prob</th><th scope=col>pred_class</th></tr></thead>\n",
       "<tbody>\n",
       "\t<tr><td>Cancer    </td><td>1         </td><td>0.71001733</td><td>Healthy   </td></tr>\n",
       "\t<tr><td>Cancer    </td><td>1         </td><td>0.28267988</td><td>Cancer    </td></tr>\n",
       "\t<tr><td>Cancer    </td><td>1         </td><td>0.05383652</td><td>Cancer    </td></tr>\n",
       "\t<tr><td>Cancer    </td><td>1         </td><td>0.92041682</td><td>Healthy   </td></tr>\n",
       "\t<tr><td>Cancer    </td><td>1         </td><td>0.66061413</td><td>Healthy   </td></tr>\n",
       "\t<tr><td>Cancer    </td><td>1         </td><td>0.58577590</td><td>Healthy   </td></tr>\n",
       "</tbody>\n",
       "</table>\n"
      ],
      "text/latex": [
       "\\begin{tabular}{r|llll}\n",
       " observed & CV\\_rep & prob & pred\\_class\\\\\n",
       "\\hline\n",
       "\t Cancer     & 1          & 0.71001733 & Healthy   \\\\\n",
       "\t Cancer     & 1          & 0.28267988 & Cancer    \\\\\n",
       "\t Cancer     & 1          & 0.05383652 & Cancer    \\\\\n",
       "\t Cancer     & 1          & 0.92041682 & Healthy   \\\\\n",
       "\t Cancer     & 1          & 0.66061413 & Healthy   \\\\\n",
       "\t Cancer     & 1          & 0.58577590 & Healthy   \\\\\n",
       "\\end{tabular}\n"
      ],
      "text/markdown": [
       "\n",
       "| observed | CV_rep | prob | pred_class |\n",
       "|---|---|---|---|\n",
       "| Cancer     | 1          | 0.71001733 | Healthy    |\n",
       "| Cancer     | 1          | 0.28267988 | Cancer     |\n",
       "| Cancer     | 1          | 0.05383652 | Cancer     |\n",
       "| Cancer     | 1          | 0.92041682 | Healthy    |\n",
       "| Cancer     | 1          | 0.66061413 | Healthy    |\n",
       "| Cancer     | 1          | 0.58577590 | Healthy    |\n",
       "\n"
      ],
      "text/plain": [
       "  observed CV_rep prob       pred_class\n",
       "1 Cancer   1      0.71001733 Healthy   \n",
       "2 Cancer   1      0.28267988 Cancer    \n",
       "3 Cancer   1      0.05383652 Cancer    \n",
       "4 Cancer   1      0.92041682 Healthy   \n",
       "5 Cancer   1      0.66061413 Healthy   \n",
       "6 Cancer   1      0.58577590 Healthy   "
      ]
     },
     "metadata": {},
     "output_type": "display_data"
    }
   ],
   "source": [
    "lasso_pred <- readRDS(\"lasso.rds\")\n",
    "head(lasso_pred)"
   ]
  },
  {
   "cell_type": "code",
   "execution_count": 22,
   "id": "a2f96954-6cdd-41fc-934d-c57842de7fd3",
   "metadata": {},
   "outputs": [
    {
     "data": {
      "text/html": [
       "<table>\n",
       "<thead><tr><th scope=col>observed</th><th scope=col>cv_rep</th><th scope=col>Healthy</th><th scope=col>label_pred</th></tr></thead>\n",
       "<tbody>\n",
       "\t<tr><td>Cancer    </td><td>1         </td><td>0.71001733</td><td>Healthy   </td></tr>\n",
       "\t<tr><td>Cancer    </td><td>1         </td><td>0.28267988</td><td>Cancer    </td></tr>\n",
       "\t<tr><td>Cancer    </td><td>1         </td><td>0.05383652</td><td>Cancer    </td></tr>\n",
       "\t<tr><td>Cancer    </td><td>1         </td><td>0.92041682</td><td>Healthy   </td></tr>\n",
       "\t<tr><td>Cancer    </td><td>1         </td><td>0.66061413</td><td>Healthy   </td></tr>\n",
       "\t<tr><td>Cancer    </td><td>1         </td><td>0.58577590</td><td>Healthy   </td></tr>\n",
       "</tbody>\n",
       "</table>\n"
      ],
      "text/latex": [
       "\\begin{tabular}{r|llll}\n",
       " observed & cv\\_rep & Healthy & label\\_pred\\\\\n",
       "\\hline\n",
       "\t Cancer     & 1          & 0.71001733 & Healthy   \\\\\n",
       "\t Cancer     & 1          & 0.28267988 & Cancer    \\\\\n",
       "\t Cancer     & 1          & 0.05383652 & Cancer    \\\\\n",
       "\t Cancer     & 1          & 0.92041682 & Healthy   \\\\\n",
       "\t Cancer     & 1          & 0.66061413 & Healthy   \\\\\n",
       "\t Cancer     & 1          & 0.58577590 & Healthy   \\\\\n",
       "\\end{tabular}\n"
      ],
      "text/markdown": [
       "\n",
       "| observed | cv_rep | Healthy | label_pred |\n",
       "|---|---|---|---|\n",
       "| Cancer     | 1          | 0.71001733 | Healthy    |\n",
       "| Cancer     | 1          | 0.28267988 | Cancer     |\n",
       "| Cancer     | 1          | 0.05383652 | Cancer     |\n",
       "| Cancer     | 1          | 0.92041682 | Healthy    |\n",
       "| Cancer     | 1          | 0.66061413 | Healthy    |\n",
       "| Cancer     | 1          | 0.58577590 | Healthy    |\n",
       "\n"
      ],
      "text/plain": [
       "  observed cv_rep Healthy    label_pred\n",
       "1 Cancer   1      0.71001733 Healthy   \n",
       "2 Cancer   1      0.28267988 Cancer    \n",
       "3 Cancer   1      0.05383652 Cancer    \n",
       "4 Cancer   1      0.92041682 Healthy   \n",
       "5 Cancer   1      0.66061413 Healthy   \n",
       "6 Cancer   1      0.58577590 Healthy   "
      ]
     },
     "metadata": {},
     "output_type": "display_data"
    }
   ],
   "source": [
    "colnames(lasso_pred) <- c(\"observed\", \"cv_rep\", \"Healthy\", \"label_pred\")\n",
    "head(lasso_pred)"
   ]
  },
  {
   "cell_type": "code",
   "execution_count": 23,
   "id": "b3d4b832-de87-4248-a792-143322d14def",
   "metadata": {},
   "outputs": [
    {
     "data": {
      "text/html": [
       "<table>\n",
       "<thead><tr><th scope=col>observed</th><th scope=col>cv_rep</th><th scope=col>Healthy</th><th scope=col>label_pred</th><th scope=col>Cancer</th></tr></thead>\n",
       "<tbody>\n",
       "\t<tr><td>Cancer    </td><td>1         </td><td>0.71001733</td><td>Healthy   </td><td>0.28998267</td></tr>\n",
       "\t<tr><td>Cancer    </td><td>1         </td><td>0.28267988</td><td>Cancer    </td><td>0.71732012</td></tr>\n",
       "\t<tr><td>Cancer    </td><td>1         </td><td>0.05383652</td><td>Cancer    </td><td>0.94616348</td></tr>\n",
       "\t<tr><td>Cancer    </td><td>1         </td><td>0.92041682</td><td>Healthy   </td><td>0.07958318</td></tr>\n",
       "\t<tr><td>Cancer    </td><td>1         </td><td>0.66061413</td><td>Healthy   </td><td>0.33938587</td></tr>\n",
       "\t<tr><td>Cancer    </td><td>1         </td><td>0.58577590</td><td>Healthy   </td><td>0.41422410</td></tr>\n",
       "</tbody>\n",
       "</table>\n"
      ],
      "text/latex": [
       "\\begin{tabular}{r|lllll}\n",
       " observed & cv\\_rep & Healthy & label\\_pred & Cancer\\\\\n",
       "\\hline\n",
       "\t Cancer     & 1          & 0.71001733 & Healthy    & 0.28998267\\\\\n",
       "\t Cancer     & 1          & 0.28267988 & Cancer     & 0.71732012\\\\\n",
       "\t Cancer     & 1          & 0.05383652 & Cancer     & 0.94616348\\\\\n",
       "\t Cancer     & 1          & 0.92041682 & Healthy    & 0.07958318\\\\\n",
       "\t Cancer     & 1          & 0.66061413 & Healthy    & 0.33938587\\\\\n",
       "\t Cancer     & 1          & 0.58577590 & Healthy    & 0.41422410\\\\\n",
       "\\end{tabular}\n"
      ],
      "text/markdown": [
       "\n",
       "| observed | cv_rep | Healthy | label_pred | Cancer |\n",
       "|---|---|---|---|---|\n",
       "| Cancer     | 1          | 0.71001733 | Healthy    | 0.28998267 |\n",
       "| Cancer     | 1          | 0.28267988 | Cancer     | 0.71732012 |\n",
       "| Cancer     | 1          | 0.05383652 | Cancer     | 0.94616348 |\n",
       "| Cancer     | 1          | 0.92041682 | Healthy    | 0.07958318 |\n",
       "| Cancer     | 1          | 0.66061413 | Healthy    | 0.33938587 |\n",
       "| Cancer     | 1          | 0.58577590 | Healthy    | 0.41422410 |\n",
       "\n"
      ],
      "text/plain": [
       "  observed cv_rep Healthy    label_pred Cancer    \n",
       "1 Cancer   1      0.71001733 Healthy    0.28998267\n",
       "2 Cancer   1      0.28267988 Cancer     0.71732012\n",
       "3 Cancer   1      0.05383652 Cancer     0.94616348\n",
       "4 Cancer   1      0.92041682 Healthy    0.07958318\n",
       "5 Cancer   1      0.66061413 Healthy    0.33938587\n",
       "6 Cancer   1      0.58577590 Healthy    0.41422410"
      ]
     },
     "metadata": {},
     "output_type": "display_data"
    }
   ],
   "source": [
    "lasso_pred <- lasso_pred %>% mutate(Cancer = 1 - Healthy)\n",
    "head(lasso_pred)"
   ]
  },
  {
   "cell_type": "code",
   "execution_count": 24,
   "id": "c29bb856-fda4-4987-90bd-b46ad0d4c97c",
   "metadata": {},
   "outputs": [
    {
     "data": {
      "text/html": [
       "<table>\n",
       "<thead><tr><th scope=col>cv_rep</th><th scope=col>observed</th><th scope=col>Cancer</th></tr></thead>\n",
       "<tbody>\n",
       "\t<tr><td>1         </td><td>Cancer    </td><td>0.28998267</td></tr>\n",
       "\t<tr><td>1         </td><td>Cancer    </td><td>0.71732012</td></tr>\n",
       "\t<tr><td>1         </td><td>Cancer    </td><td>0.94616348</td></tr>\n",
       "\t<tr><td>1         </td><td>Cancer    </td><td>0.07958318</td></tr>\n",
       "\t<tr><td>1         </td><td>Cancer    </td><td>0.33938587</td></tr>\n",
       "\t<tr><td>1         </td><td>Cancer    </td><td>0.41422410</td></tr>\n",
       "</tbody>\n",
       "</table>\n"
      ],
      "text/latex": [
       "\\begin{tabular}{r|lll}\n",
       " cv\\_rep & observed & Cancer\\\\\n",
       "\\hline\n",
       "\t 1          & Cancer     & 0.28998267\\\\\n",
       "\t 1          & Cancer     & 0.71732012\\\\\n",
       "\t 1          & Cancer     & 0.94616348\\\\\n",
       "\t 1          & Cancer     & 0.07958318\\\\\n",
       "\t 1          & Cancer     & 0.33938587\\\\\n",
       "\t 1          & Cancer     & 0.41422410\\\\\n",
       "\\end{tabular}\n"
      ],
      "text/markdown": [
       "\n",
       "| cv_rep | observed | Cancer |\n",
       "|---|---|---|\n",
       "| 1          | Cancer     | 0.28998267 |\n",
       "| 1          | Cancer     | 0.71732012 |\n",
       "| 1          | Cancer     | 0.94616348 |\n",
       "| 1          | Cancer     | 0.07958318 |\n",
       "| 1          | Cancer     | 0.33938587 |\n",
       "| 1          | Cancer     | 0.41422410 |\n",
       "\n"
      ],
      "text/plain": [
       "  cv_rep observed Cancer    \n",
       "1 1      Cancer   0.28998267\n",
       "2 1      Cancer   0.71732012\n",
       "3 1      Cancer   0.94616348\n",
       "4 1      Cancer   0.07958318\n",
       "5 1      Cancer   0.33938587\n",
       "6 1      Cancer   0.41422410"
      ]
     },
     "metadata": {},
     "output_type": "display_data"
    }
   ],
   "source": [
    "lasso_pred_formatted <- lasso_pred %>% select(cv_rep, observed, Cancer)\n",
    "head(lasso_pred_formatted)"
   ]
  },
  {
   "cell_type": "code",
   "execution_count": 27,
   "id": "f0155b1f-103e-4db1-9fb8-3cbc4082db4f",
   "metadata": {},
   "outputs": [],
   "source": [
    "saveRDS(lasso_pred_formatted, \"lasso_formatted.rds\")"
   ]
  },
  {
   "cell_type": "code",
   "execution_count": null,
   "id": "424d86f6-b8a7-4954-9e9a-f16b188af602",
   "metadata": {},
   "outputs": [],
   "source": []
  }
 ],
 "metadata": {
  "kernelspec": {
   "display_name": "R",
   "language": "R",
   "name": "ir"
  },
  "language_info": {
   "codemirror_mode": "r",
   "file_extension": ".r",
   "mimetype": "text/x-r-source",
   "name": "R",
   "pygments_lexer": "r",
   "version": "3.6.1"
  }
 },
 "nbformat": 4,
 "nbformat_minor": 5
}
