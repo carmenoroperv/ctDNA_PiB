{
 "cells": [
  {
   "cell_type": "code",
   "execution_count": 2,
   "id": "4128b1f9-8ce6-455a-b428-6c895c978bfc",
   "metadata": {},
   "outputs": [
    {
     "name": "stderr",
     "output_type": "stream",
     "text": [
      "Registered S3 methods overwritten by 'ggplot2':\n",
      "  method         from \n",
      "  [.quosures     rlang\n",
      "  c.quosures     rlang\n",
      "  print.quosures rlang\n",
      "Registered S3 method overwritten by 'rvest':\n",
      "  method            from\n",
      "  read_xml.response xml2\n",
      "── Attaching packages ──────────────────────────────────────────────────────────────────────────────── tidyverse 1.2.1 ──\n",
      "✔ ggplot2 3.1.1     ✔ purrr   0.3.4\n",
      "✔ tibble  3.1.4     ✔ dplyr   1.0.7\n",
      "✔ tidyr   1.1.3     ✔ stringr 1.4.0\n",
      "✔ readr   1.3.1     ✔ forcats 0.4.0\n",
      "── Conflicts ─────────────────────────────────────────────────────────────────────────────────── tidyverse_conflicts() ──\n",
      "✖ dplyr::filter() masks stats::filter()\n",
      "✖ dplyr::lag()    masks stats::lag()\n",
      "\n",
      "Attaching package: ‘MASS’\n",
      "\n",
      "The following object is masked from ‘package:dplyr’:\n",
      "\n",
      "    select\n",
      "\n",
      "Type 'citation(\"pROC\")' for a citation.\n",
      "\n",
      "Attaching package: ‘pROC’\n",
      "\n",
      "The following objects are masked from ‘package:stats’:\n",
      "\n",
      "    cov, smooth, var\n",
      "\n",
      "Warning message:\n",
      "“package ‘dummies’ was built under R version 3.6.3”dummies-1.5.6 provided by Decision Patterns\n",
      "\n",
      "Warning message:\n",
      "“unable to access index for repository http://cran.us.r-project.org/src/contrib/splitTools_0.3.1.tar.gz/src/contrib:\n",
      "  cannot open URL 'http://cran.us.r-project.org/src/contrib/splitTools_0.3.1.tar.gz/src/contrib/PACKAGES'”Warning message:\n",
      "“package ‘splitTools’ is not available (for R version 3.6.1)”Warning message:\n",
      "“package ‘multiROC’ was built under R version 3.6.3”Loading required package: foreach\n",
      "\n",
      "Attaching package: ‘foreach’\n",
      "\n",
      "The following objects are masked from ‘package:purrr’:\n",
      "\n",
      "    accumulate, when\n",
      "\n",
      "Loading required package: iterators\n",
      "Loading required package: parallel\n",
      "Loading required package: rngtools\n",
      "Loading required package: pkgmaker\n",
      "Loading required package: registry\n",
      "\n",
      "Attaching package: ‘pkgmaker’\n",
      "\n",
      "The following object is masked from ‘package:base’:\n",
      "\n",
      "    isFALSE\n",
      "\n"
     ]
    }
   ],
   "source": [
    "library(tidyverse)\n",
    "library(MASS)\n",
    "library(pROC)\n",
    "library(dummies)\n",
    "install.packages(\"splitTools\", repos = \"http://cran.us.r-project.org/src/contrib/splitTools_0.3.1.tar.gz\")\n",
    "#, INSTALL_opts = '--no-lock'\n",
    "library(splitTools)\n",
    "library(multiROC)\n",
    "library(doParallel)\n",
    "library(foreach)\n",
    "library(doRNG)\n",
    "library(rngtools)\n"
   ]
  },
  {
   "cell_type": "code",
   "execution_count": null,
   "id": "a012e51f-9c58-4a65-8965-5e649513bba2",
   "metadata": {},
   "outputs": [
    {
     "name": "stdout",
     "output_type": "stream",
     "text": [
      "[1] \"Sample_type levels\"\n"
     ]
    },
    {
     "data": {
      "text/html": [
       "<ol class=list-inline>\n",
       "\t<li>'Cancer'</li>\n",
       "\t<li>'Other'</li>\n",
       "</ol>\n"
      ],
      "text/latex": [
       "\\begin{enumerate*}\n",
       "\\item 'Cancer'\n",
       "\\item 'Other'\n",
       "\\end{enumerate*}\n"
      ],
      "text/markdown": [
       "1. 'Cancer'\n",
       "2. 'Other'\n",
       "\n",
       "\n"
      ],
      "text/plain": [
       "[1] \"Cancer\" \"Other\" "
      ]
     },
     "metadata": {},
     "output_type": "display_data"
    }
   ],
   "source": [
    "\n",
    "class_type <- \"Bile_Duct_Cancer\"\n",
    "data <- readRDS(\"../../data/ATAC_predictions_train_20_predict_80/Full_data_ATAC_pred_lasso_formatted_standardized.rds\")\n",
    "sample_types <- read.table(\"../../data/sample_types.txt\", header = F, sep = \" \")\n",
    "colnames(sample_types) <- c(\"sample\", \"sample_type\")\n",
    "\n",
    "data <- merge(data, sample_types, by=\"sample\")\n",
    "data <- data %>% dplyr::select(-sample)\n",
    "\n",
    "\n",
    "if (class_type != \"Healthy\"){\n",
    "    data %>% group_by(sample_type) %>% summarize(n = n())\n",
    "    data <-subset(data, sample_type != \"Duodenal_Cancer\")\n",
    "    unique(data$sample_type)\n",
    "    data$sample_type <- as.factor(data$sample_type)\n",
    "    data = data %>% droplevels(\"Duodenal_Cancer\")\n",
    "    }\n",
    "\n",
    "observed  <- data$sample_type\n",
    "\n",
    "if (class_type == \"Healthy\"){\n",
    "    data <- data %>% mutate(sample_type = ifelse(sample_type == class_type, \"Healthy\", \"Cancer\"))\n",
    "} else{\n",
    "    data <- data %>% mutate(sample_type = ifelse(sample_type == class_type, \"Cancer\", \"Other\"))\n",
    "}\n",
    "\n",
    "data$sample_type <- as.factor(data$sample_type)\n",
    "print(\"Sample_type levels\")\n",
    "levels(data$sample_type)\n",
    "\n",
    "cross_validation <- function(dataset, k_inner_cv, k_outer_cv, class_type){\n",
    "    \n",
    "    cl <- makePSOCKcluster(2, outfile=\"\")\n",
    "    registerDoParallel(cl)\n",
    "    return_tibble <- foreach(i = 1:k_outer_cv,\n",
    "                                .inorder = TRUE,\n",
    "                                .options.RNG = 1985,\n",
    "                                .combine = \"rbind\",\n",
    "                                .packages = c(\"splitTools\", \"MASS\", \"tidyverse\")) %dorng% { # repeated Cross-validation loop\n",
    "            \n",
    "        message(class_type)\n",
    "        message(paste(\"CV repetition number: \", i, sep = \"\"))\n",
    "        set.seed(i)\n",
    "        folds <- create_folds(dataset$sample_type, k = k_inner_cv)\n",
    "        message(folds)\n",
    "        predicted <- rep(NA, nrow(dataset))\n",
    "                                \n",
    "        for (fold in folds){\n",
    "            message(paste(\"CV inner loop, CV rep number: \", i, sep = \"\"))\n",
    "            testdata  <- dataset[-fold,]\n",
    "            testdata  <- testdata %>% dplyr::select(-sample_type)\n",
    "            traindata <- dataset[fold,]\n",
    "\n",
    "            fit       <- lda(sample_type ~ ., data=traindata, family = \"binomial\")\n",
    "            tmp <- predict(fit, testdata)\n",
    "            tmp <- as.data.frame(tmp$posterior, row.names = NULL)\n",
    "            predicted[-fold] <- tmp$Cancer\n",
    "            }\n",
    "\n",
    "        predicted = tibble(\"{class_type}_pred\" := predicted)\n",
    "        return(predicted)\n",
    "    }       \n",
    "    \n",
    "    stopCluster(cl)\n",
    "    registerDoSEQ()\n",
    "    \n",
    "    return_tibble <- cbind(tibble(observed = rep(observed, k_outer_cv), \n",
    "                           CV_rep = rep(1:k_outer_cv, each=nrow(dataset))), return_tibble)\n",
    "                        \n",
    "    return(return_tibble)\n",
    "}\n",
    "\n",
    "results <- cross_validation(data, k_inner_cv = 10, k_outer_cv = 2, class_type = class_type)\n",
    "\n",
    "print(\"Results: \")\n",
    "head(results)\n",
    "\n",
    "#saveRDS(results, file = snakemake@output[[\"predictions\"]])"
   ]
  },
  {
   "cell_type": "code",
   "execution_count": 6,
   "id": "c1622ca6-a9f8-4e0f-bcf2-a3b6bbbf63f3",
   "metadata": {},
   "outputs": [
    {
     "data": {
      "text/html": [
       "<table>\n",
       "<thead><tr><th scope=col>observed</th><th scope=col>CV_rep</th><th scope=col>Bile_Duct_Cancer_pred</th></tr></thead>\n",
       "<tbody>\n",
       "\t<tr><td>Gastric_cancer</td><td>1             </td><td>0.0014995081  </td></tr>\n",
       "\t<tr><td>Gastric_cancer</td><td>1             </td><td>0.0120043193  </td></tr>\n",
       "\t<tr><td>Gastric_cancer</td><td>1             </td><td>0.9741233205  </td></tr>\n",
       "\t<tr><td>Gastric_cancer</td><td>1             </td><td>0.0014776515  </td></tr>\n",
       "\t<tr><td>Ovarian_Cancer</td><td>1             </td><td>0.0007374379  </td></tr>\n",
       "\t<tr><td>Ovarian_Cancer</td><td>1             </td><td>0.0161924605  </td></tr>\n",
       "</tbody>\n",
       "</table>\n"
      ],
      "text/latex": [
       "\\begin{tabular}{r|lll}\n",
       " observed & CV\\_rep & Bile\\_Duct\\_Cancer\\_pred\\\\\n",
       "\\hline\n",
       "\t Gastric\\_cancer & 1                & 0.0014995081    \\\\\n",
       "\t Gastric\\_cancer & 1                & 0.0120043193    \\\\\n",
       "\t Gastric\\_cancer & 1                & 0.9741233205    \\\\\n",
       "\t Gastric\\_cancer & 1                & 0.0014776515    \\\\\n",
       "\t Ovarian\\_Cancer & 1                & 0.0007374379    \\\\\n",
       "\t Ovarian\\_Cancer & 1                & 0.0161924605    \\\\\n",
       "\\end{tabular}\n"
      ],
      "text/markdown": [
       "\n",
       "| observed | CV_rep | Bile_Duct_Cancer_pred |\n",
       "|---|---|---|\n",
       "| Gastric_cancer | 1              | 0.0014995081   |\n",
       "| Gastric_cancer | 1              | 0.0120043193   |\n",
       "| Gastric_cancer | 1              | 0.9741233205   |\n",
       "| Gastric_cancer | 1              | 0.0014776515   |\n",
       "| Ovarian_Cancer | 1              | 0.0007374379   |\n",
       "| Ovarian_Cancer | 1              | 0.0161924605   |\n",
       "\n"
      ],
      "text/plain": [
       "  observed       CV_rep Bile_Duct_Cancer_pred\n",
       "1 Gastric_cancer 1      0.0014995081         \n",
       "2 Gastric_cancer 1      0.0120043193         \n",
       "3 Gastric_cancer 1      0.9741233205         \n",
       "4 Gastric_cancer 1      0.0014776515         \n",
       "5 Ovarian_Cancer 1      0.0007374379         \n",
       "6 Ovarian_Cancer 1      0.0161924605         "
      ]
     },
     "metadata": {},
     "output_type": "display_data"
    }
   ],
   "source": [
    "head(results)"
   ]
  },
  {
   "cell_type": "code",
   "execution_count": 7,
   "id": "52190eef-e125-499e-b748-bdc6a58dfaa7",
   "metadata": {},
   "outputs": [
    {
     "data": {
      "text/html": [
       "<table>\n",
       "<thead><tr><th scope=col>observed</th><th scope=col>CV_rep</th><th scope=col>Bile_Duct_Cancer_pred</th></tr></thead>\n",
       "<tbody>\n",
       "\t<tr><td>Gastric_cancer</td><td>2             </td><td>0.0009103280  </td></tr>\n",
       "\t<tr><td>Gastric_cancer</td><td>2             </td><td>0.0155596563  </td></tr>\n",
       "\t<tr><td>Gastric_cancer</td><td>2             </td><td>0.7854492666  </td></tr>\n",
       "\t<tr><td>Gastric_cancer</td><td>2             </td><td>0.0015604988  </td></tr>\n",
       "\t<tr><td>Ovarian_Cancer</td><td>2             </td><td>0.0005565786  </td></tr>\n",
       "\t<tr><td>Ovarian_Cancer</td><td>2             </td><td>0.0307183443  </td></tr>\n",
       "</tbody>\n",
       "</table>\n"
      ],
      "text/latex": [
       "\\begin{tabular}{r|lll}\n",
       " observed & CV\\_rep & Bile\\_Duct\\_Cancer\\_pred\\\\\n",
       "\\hline\n",
       "\t Gastric\\_cancer & 2                & 0.0009103280    \\\\\n",
       "\t Gastric\\_cancer & 2                & 0.0155596563    \\\\\n",
       "\t Gastric\\_cancer & 2                & 0.7854492666    \\\\\n",
       "\t Gastric\\_cancer & 2                & 0.0015604988    \\\\\n",
       "\t Ovarian\\_Cancer & 2                & 0.0005565786    \\\\\n",
       "\t Ovarian\\_Cancer & 2                & 0.0307183443    \\\\\n",
       "\\end{tabular}\n"
      ],
      "text/markdown": [
       "\n",
       "| observed | CV_rep | Bile_Duct_Cancer_pred |\n",
       "|---|---|---|\n",
       "| Gastric_cancer | 2              | 0.0009103280   |\n",
       "| Gastric_cancer | 2              | 0.0155596563   |\n",
       "| Gastric_cancer | 2              | 0.7854492666   |\n",
       "| Gastric_cancer | 2              | 0.0015604988   |\n",
       "| Ovarian_Cancer | 2              | 0.0005565786   |\n",
       "| Ovarian_Cancer | 2              | 0.0307183443   |\n",
       "\n"
      ],
      "text/plain": [
       "  observed       CV_rep Bile_Duct_Cancer_pred\n",
       "1 Gastric_cancer 2      0.0009103280         \n",
       "2 Gastric_cancer 2      0.0155596563         \n",
       "3 Gastric_cancer 2      0.7854492666         \n",
       "4 Gastric_cancer 2      0.0015604988         \n",
       "5 Ovarian_Cancer 2      0.0005565786         \n",
       "6 Ovarian_Cancer 2      0.0307183443         "
      ]
     },
     "metadata": {},
     "output_type": "display_data"
    }
   ],
   "source": [
    "head(results %>% filter(CV_rep == 2)) "
   ]
  },
  {
   "cell_type": "code",
   "execution_count": null,
   "id": "be12b2a9-9b7e-4249-889f-b2172a3e897f",
   "metadata": {},
   "outputs": [],
   "source": []
  }
 ],
 "metadata": {
  "kernelspec": {
   "display_name": "R",
   "language": "R",
   "name": "ir"
  },
  "language_info": {
   "codemirror_mode": "r",
   "file_extension": ".r",
   "mimetype": "text/x-r-source",
   "name": "R",
   "pygments_lexer": "r",
   "version": "3.6.1"
  }
 },
 "nbformat": 4,
 "nbformat_minor": 5
}
