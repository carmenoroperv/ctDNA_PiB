{
 "cells": [
  {
   "cell_type": "code",
   "execution_count": null,
   "id": "1217511d-d17a-4216-89f3-6279e4174b39",
   "metadata": {},
   "outputs": [],
   "source": [
    "library(dplyr)\n",
    "library(class)\n",
    "library(tidyverse)\n",
    "library(pROC)\n",
    "library(glmnet)\n",
    "\n",
    "#install.packages('glmnetUtils')\n",
    "library(glmnetUtils)\n",
    "install.packages(\"kernlab\")\n",
    "library(kernlab)\n",
    "library(gbm)\n",
    "library(caret)"
   ]
  },
  {
   "cell_type": "code",
   "execution_count": null,
   "id": "460449ad-5ee3-4fa8-9b6b-7a17aed2dbd5",
   "metadata": {},
   "outputs": [],
   "source": [
    "#lasso_pred <- readRDS(\"../../data/ATAC_predictions_train_XX_predict_XX/ATAC_pred_lasso_normalized_trimmed_formatted_standardized.rds\")\n",
    "pred <- readRDS(snakemake@input[[\"input_predictions\"]])"
   ]
  },
  {
   "cell_type": "code",
   "execution_count": null,
   "id": "43af413a-8372-4667-9b61-31ab5084f2b4",
   "metadata": {},
   "outputs": [],
   "source": [
    "#sample_types <- read.table(\"../../data/sample_types.txt\", header = F, sep = \" \")\n",
    "sample_types <- readRDS(file = snakemake@input[[\"input_sample_types\"]])\n",
    "\n",
    "colnames(sample_types) <- c(\"sample\", \"sample_type\")\n",
    "head(sample_types)"
   ]
  },
  {
   "cell_type": "code",
   "execution_count": null,
   "id": "24a16d3d-b5c8-4995-a529-f2fe10acaa75",
   "metadata": {},
   "outputs": [],
   "source": [
    "data <- merge(pred, sample_types, by=\"sample\")\n",
    "data <- data %>% mutate(sample_type01 = ifelse(sample_type == \"Healthy\", \"Healthy\", \"Cancer\"))\n",
    "head(data)"
   ]
  },
  {
   "cell_type": "code",
   "execution_count": null,
   "id": "02efe33d-1575-420a-8b7a-458733f88351",
   "metadata": {},
   "outputs": [],
   "source": [
    "data <- data %>% select(-sample_type)"
   ]
  },
  {
   "cell_type": "code",
   "execution_count": null,
   "id": "ca82e76b-1fcf-4fb3-8727-e8888deaf6ad",
   "metadata": {},
   "outputs": [],
   "source": [
    "data <- data %>% select(-sample)\n",
    "head(data)"
   ]
  },
  {
   "cell_type": "code",
   "execution_count": null,
   "id": "13db9040-a59f-4716-808e-4aab8083c699",
   "metadata": {},
   "outputs": [],
   "source": [
    "data$sample_type01 <- as.factor(data$sample_type01)"
   ]
  },
  {
   "cell_type": "code",
   "execution_count": null,
   "id": "5e65e7cf-f846-4d4a-9470-d006a75c9356",
   "metadata": {},
   "outputs": [],
   "source": [
    "cross_validation <- function(dataset, k_inner_cv, k_outer_cv){\n",
    "    \n",
    "    observed  <- dataset$sample_type01\n",
    "   \n",
    "    return_tibble <- tibble(observed = observed)\n",
    "    \n",
    "    for (i in 1:k_outer_cv){ # repeated Cross-validation loop\n",
    "    \n",
    "    set.seed(i)\n",
    "    cvfolds <- cut(seq_len(nrow(dataset)), breaks = k_inner_cv, labels = F)\n",
    "    cvfolds <- sample(cvfolds)\n",
    "\n",
    "    predicted <- rep(NA, nrow(dataset))\n",
    "    \n",
    "        for (n in 1:k_inner_cv){\n",
    "            rows      <- which(cvfolds==n)\n",
    "            testdata  <- dataset[rows,]\n",
    "            testlabels <- testdata$sample_type01\n",
    "            testdata <- testdata %>% select(-sample_type01)\n",
    "            \n",
    "            traindata <- dataset\n",
    "         \n",
    "            traindata <- dataset[-rows,]\n",
    "           \n",
    "            trainlabels <- traindata$sample_type01\n",
    "            #traindata <- traindata %>% select(-sample_type01)\n",
    "\n",
    " \n",
    "            ################# Nested cross validation #######################\n",
    "            set.seed(0)\n",
    "            seeds <- vector(mode = \"list\", length = 11)\n",
    "            for(i in 1:10) seeds[[i]]<- sample.int(n=1000, 20)\n",
    "            #for the last model\n",
    "            seeds[[11]]<-sample.int(1000, 1)\n",
    "\n",
    "            trControl_svm <- trainControl(method = \"repeatedcv\", \n",
    "                                      seeds = seeds,\n",
    "                                      number = 10, \n",
    "                                      repeats = 1, \n",
    "                                      classProbs = TRUE,\n",
    "                                      verboseIter = ifelse(is.null(getOption('knitr.in.progress')), TRUE, FALSE))\n",
    "\n",
    "            #svmGrid <- expand.grid(C = c(0.01, 0.1, 0.5, 1, 2, 3, 4, 5, 6, 7))\n",
    "\n",
    "            fit <- train(sample_type01 ~ .,\n",
    "                         data = traindata, \n",
    "                         method = \"svmRadial\",\n",
    "                         tuneLength = 10,\n",
    "                         trControl = trControl_svm,\n",
    "                         preProc = c(\"center\", \"scale\"),\n",
    "                         verbose=F)\n",
    "            \n",
    "            message(plot(fit))\n",
    "            message(\"besttune\")\n",
    "            message(fit$bestTune)\n",
    "            message(\"fit\")\n",
    "            message(fit)\n",
    "            #################################################################\n",
    "            #message(fit)\n",
    "\n",
    "            fitControl <- trainControl(classProbs = TRUE)\n",
    "            fit <- train(sample_type01 ~ .,\n",
    "                         data = traindata,\n",
    "                         method =  \"svmRadial\",\n",
    "                         trControl = fitControl,\n",
    "                         verbose = FALSE,\n",
    "                         tuneGrid = data.frame(C = fit$bestTune$C, \n",
    "                                               sigma = fit$bestTune$sigma),\n",
    "                        preProc = c(\"center\", \"scale\"))\n",
    "            predicted[rows] <- predict(fit, newdata = testdata, type = \"prob\")[,2]\n",
    "        \n",
    "    }\n",
    "    current_round_tibble <- tibble(predicted = predicted)\n",
    "    return_tibble <- cbind(return_tibble, current_round_tibble)\n",
    "    } # end of outer cv loop\n",
    "    \n",
    "    return(return_tibble)\n",
    "}"
   ]
  },
  {
   "cell_type": "code",
   "execution_count": null,
   "id": "27d7d4c5-285d-4376-ad84-5123ef918a54",
   "metadata": {},
   "outputs": [],
   "source": [
    "results <- cross_validation(data, k_inner_cv = 10, k_outer_cv = 10)"
   ]
  },
  {
   "cell_type": "code",
   "execution_count": null,
   "id": "c5010ad6-9855-4520-9058-bd2b43d2e1f1",
   "metadata": {},
   "outputs": [],
   "source": [
    "results <- tibble(results, .name_repair = \"unique\")\n",
    "head(results)"
   ]
  },
  {
   "cell_type": "code",
   "execution_count": null,
   "id": "c279a911-fa45-4e33-94b9-51870eaf193d",
   "metadata": {},
   "outputs": [],
   "source": [
    "saveRDS(results, file = snakemake@output[[\"SVM_output\"]])"
   ]
  },
  {
   "cell_type": "code",
   "execution_count": null,
   "id": "f778fecf-4f4c-4fe2-8829-062cba39ef69",
   "metadata": {},
   "outputs": [],
   "source": [
    "# Create multiple curves to plot\n",
    "rocs <- roc(observed ~ predicted...2 + \n",
    "                    predicted...3 + \n",
    "                    predicted...4 + \n",
    "                    predicted...5 + \n",
    "                    predicted...6 +\n",
    "                    predicted...7 +\n",
    "                    predicted...8 + \n",
    "                    predicted...9 + \n",
    "                    predicted...10 + \n",
    "                    predicted...11, data = results)\n",
    "ggroc(rocs)"
   ]
  },
  {
   "cell_type": "code",
   "execution_count": null,
   "id": "099a3b44-3b07-444a-aa75-b65136659cb8",
   "metadata": {},
   "outputs": [],
   "source": [
    "roc1 <- roc(results$observed, results$predicted...2)\n",
    "roc2 <- roc(results$observed, results$predicted...3)\n",
    "roc3 <- roc(results$observed, results$predicted...4)\n",
    "roc4 <- roc(results$observed, results$predicted...5)\n",
    "roc5 <- roc(results$observed, results$predicted...6)\n",
    "roc6 <- roc(results$observed, results$predicted...7)\n",
    "roc7 <- roc(results$observed, results$predicted...8)\n",
    "roc8 <- roc(results$observed, results$predicted...9)\n",
    "roc9 <- roc(results$observed, results$predicted...10)\n",
    "roc10 <- roc(results$observed, results$predicted...11)"
   ]
  },
  {
   "cell_type": "code",
   "execution_count": null,
   "id": "3b4457a6-d7e6-483d-9825-b31d893f62ad",
   "metadata": {},
   "outputs": [],
   "source": [
    "paste(\"Mean AUC over 10 repetitions of 10-fold CV: \", mean(c(roc1$auc, roc2$auc, roc3$auc, roc4$auc, roc5$auc, roc6$auc, roc7$auc, roc8$auc, roc9$auc, roc10$auc)), sep = \"\")"
   ]
  },
  {
   "cell_type": "code",
   "execution_count": null,
   "id": "b6e438aa-5293-4962-966b-7f9c44cf4138",
   "metadata": {},
   "outputs": [],
   "source": [
    "results_01 <- results %>% mutate(predicted...2_01 = ifelse(prob...2 > 0.5, 1, 0), \n",
    "                                 predicted...3_01 = ifelse(prob...3 > 0.5, 1, 0), \n",
    "                                 predicted...4_01 = ifelse(prob...4 > 0.5, 1, 0),\n",
    "                                 predicted...5_01 = ifelse(prob...5 > 0.5, 1, 0),\n",
    "                                 predicted...6_01 = ifelse(prob...6 > 0.5, 1, 0),\n",
    "                                 predicted...7_01 = ifelse(prob...7 > 0.5, 1, 0),\n",
    "                                 predicted...8_01 = ifelse(prob...8 > 0.5, 1, 0),\n",
    "                                 predicted...9_01 = ifelse(prob...9 > 0.5, 1, 0),\n",
    "                                 predicted...10_01 = ifelse(prob...10 > 0.5, 1, 0),\n",
    "                                 predicted...11_01 = ifelse(prob...11 > 0.5, 1, 0))"
   ]
  },
  {
   "cell_type": "code",
   "execution_count": null,
   "id": "444f3d91-bbae-4d8b-aaf0-bcb7add1f61f",
   "metadata": {},
   "outputs": [],
   "source": [
    "error_rates <- c(mean(results_01$observed != results_01$predicted...2_01), \n",
    "                mean(results_01$observed != results_01$predicted...3_01),\n",
    "               mean(results_01$observed != results_01$predicted...4_01),\n",
    "               mean(results_01$observed != results_01$predicted...5_01),\n",
    "               mean(results_01$observed != results_01$predicted...6_01),\n",
    "               mean(results_01$observed != results_01$predicted...7_01),\n",
    "               mean(results_01$observed != results_01$predicted...8_01),\n",
    "               mean(results_01$observed != results_01$predicted...9_01), \n",
    "               mean(results_01$observed != results_01$predicted...10_01), \n",
    "               mean(results_01$observed != results_01$predicted...11_01))\n",
    "\n",
    "error_rates\n",
    "\n",
    "paste(\"Mean error rate over 10 repetitions of 10-fold CV: \", mean(error_rates), sep = \"\")"
   ]
  },
  {
   "cell_type": "code",
   "execution_count": null,
   "id": "148ad46a-1f54-4f01-9712-f10a2fb985ad",
   "metadata": {},
   "outputs": [],
   "source": [
    "accuracies <- c(mean(results_01$observed == results_01$predicted...2_01),\n",
    "               mean(results_01$observed == results_01$predicted...3_01), \n",
    "               mean(results_01$observed == results_01$predicted...4_01),\n",
    "               mean(results_01$observed == results_01$predicted...5_01),\n",
    "               mean(results_01$observed == results_01$predicted...6_01),\n",
    "               mean(results_01$observed == results_01$predicted...7_01),\n",
    "               mean(results_01$observed == results_01$predicted...8_01),\n",
    "               mean(results_01$observed == results_01$predicted...9_01), \n",
    "               mean(results_01$observed == results_01$predicted...10_01), \n",
    "               mean(results_01$observed == results_01$predicted...11_01))\n",
    "\n",
    "accuracies\n",
    "paste(\"Mean accuracy over 10 repetitions of 10-fold CV: \", mean(accuracies), sep = \"\")"
   ]
  }
 ],
 "metadata": {
  "kernelspec": {
   "display_name": "R",
   "language": "R",
   "name": "ir"
  },
  "language_info": {
   "codemirror_mode": "r",
   "file_extension": ".r",
   "mimetype": "text/x-r-source",
   "name": "R",
   "pygments_lexer": "r",
   "version": "3.6.1"
  }
 },
 "nbformat": 4,
 "nbformat_minor": 5
}
