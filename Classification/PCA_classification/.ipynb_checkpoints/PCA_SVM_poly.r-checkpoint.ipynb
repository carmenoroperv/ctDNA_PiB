{
 "cells": [
  {
   "cell_type": "code",
   "execution_count": null,
   "id": "6b987280-4d33-42db-93c7-c5343af4133e",
   "metadata": {},
   "outputs": [],
   "source": [
    "library(dplyr)\n",
    "library(class)\n",
    "library(tidyverse)\n",
    "library(pROC)\n",
    "library(glmnet)\n",
    "\n",
    "#install.packages('glmnetUtils')\n",
    "library(glmnetUtils)\n",
    "install.packages(\"kernlab\")\n",
    "library(kernlab)\n",
    "library(gbm)\n",
    "library(caret)\n",
    "\n",
    "install.packages(\"parallel\")\n",
    "library(parallel)\n",
    "\n",
    "install.packages(\"doMC\")\n",
    "library(doMC)"
   ]
  },
  {
   "cell_type": "code",
   "execution_count": null,
   "id": "68cbf3c9-53e3-4a94-a911-8135ebed56bd",
   "metadata": {},
   "outputs": [],
   "source": [
    "#lasso_pred <- readRDS(\"../../data/ATAC_predictions_train_XX_predict_XX/ATAC_pred_lasso_normalized_trimmed_formatted_standardized.rds\")\n",
    "pred <- readRDS(snakemake@input[[\"input_predictions\"]])"
   ]
  },
  {
   "cell_type": "code",
   "execution_count": null,
   "id": "0cf4bdf0-baeb-47cc-b8d1-2f933219cd48",
   "metadata": {},
   "outputs": [],
   "source": [
    "#sample_types <- read.table(\"../../data/sample_types.txt\", header = F, sep = \" \")\n",
    "sample_types <- read.table(snakemake@input[[\"input_sample_types\"]], header = F, sep = \" \")\n",
    "\n",
    "colnames(sample_types) <- c(\"sample\", \"sample_type\")\n",
    "head(sample_types)"
   ]
  },
  {
   "cell_type": "code",
   "execution_count": null,
   "id": "2d016c0f-aad7-46e4-aca0-82869de509d5",
   "metadata": {},
   "outputs": [],
   "source": [
    "data <- merge(pred, sample_types, by=\"sample\")\n",
    "data <- data %>% mutate(sample_type01 = ifelse(sample_type == \"Healthy\", \"Healthy\", \"Cancer\"))\n",
    "head(data)"
   ]
  },
  {
   "cell_type": "code",
   "execution_count": null,
   "id": "fa1be54f-580e-4c25-8739-29fb6f730ada",
   "metadata": {},
   "outputs": [],
   "source": [
    "data <- data %>% select(-sample_type)"
   ]
  },
  {
   "cell_type": "code",
   "execution_count": null,
   "id": "dcf22647-040c-402c-b872-cfc992b08232",
   "metadata": {},
   "outputs": [],
   "source": [
    "data <- data %>% select(-sample)\n",
    "head(data)"
   ]
  },
  {
   "cell_type": "code",
   "execution_count": null,
   "id": "43fe6ba4-bc70-463d-afbb-37449dbaac8f",
   "metadata": {},
   "outputs": [],
   "source": [
    "data$sample_type01 <- as.factor(data$sample_type01)"
   ]
  },
  {
   "cell_type": "code",
   "execution_count": null,
   "id": "760600ea-f1e0-4c81-b3c9-06f72d5d2162",
   "metadata": {},
   "outputs": [],
   "source": [
    "cross_validation <- function(dataset, k_inner_cv, k_outer_cv){\n",
    "    \n",
    "    observed  <- dataset$sample_type01\n",
    "   \n",
    "    return_tibble <- tibble(observed = observed)\n",
    "    \n",
    "    for (i in 1:k_outer_cv){ # repeated Cross-validation loop\n",
    "    \n",
    "    set.seed(i)\n",
    "    cvfolds <- cut(seq_len(nrow(dataset)), breaks = k_inner_cv, labels = F)\n",
    "    cvfolds <- sample(cvfolds)\n",
    "\n",
    "    predicted <- rep(NA, nrow(dataset))\n",
    "    \n",
    "        for (n in 1:k_inner_cv){\n",
    "            rows      <- which(cvfolds==n)\n",
    "            testdata  <- dataset[rows,]\n",
    "            testlabels <- testdata$sample_type01\n",
    "            testdata <- testdata %>% select(-sample_type01)\n",
    "            \n",
    "            traindata <- dataset\n",
    "         \n",
    "            traindata <- dataset[-rows,]\n",
    "           \n",
    "            trainlabels <- traindata$sample_type01\n",
    "            #traindata <- traindata %>% select(-sample_type01)\n",
    "\n",
    " \n",
    "            ################# Nested cross validation #######################\n",
    "            set.seed(0)\n",
    "            seeds <- vector(mode = \"list\", length = 11)\n",
    "            for(i in 1:10) seeds[[i]]<- sample.int(n=2000, 1200)\n",
    "            #for the last model\n",
    "            seeds[[11]]<-sample.int(1000, 1)\n",
    "\n",
    "            trControl_svm <- trainControl(method = \"repeatedcv\", \n",
    "                                      seeds = seeds,\n",
    "                                      number = 10, \n",
    "                                      repeats = 1, \n",
    "                                      classProbs = TRUE,\n",
    "                                      verboseIter = ifelse(is.null(getOption('knitr.in.progress')), TRUE, FALSE))\n",
    "\n",
    "            #svmGrid <- expand.grid(C = c(0,01, 1, 2, 3, 4, 5, 6, 7, 8, 9, 10))\n",
    "\n",
    "            fit <- train(sample_type01 ~ .,\n",
    "                         data = traindata, \n",
    "                         method = \"svmPoly\",\n",
    "                         tuneLength = 10,\n",
    "                         trControl = trControl_svm,\n",
    "                         preProc = c(\"center\", \"scale\"),\n",
    "                         verbose=F)\n",
    "            \n",
    "            message(plot(fit))\n",
    "            message(\"besttune\")\n",
    "            message(fit$bestTune)\n",
    "            message(\"fit\")\n",
    "            message(fit)\n",
    "            #################################################################\n",
    "            #message(fit)\n",
    "\n",
    "            fitControl <- trainControl(classProbs = TRUE)\n",
    "            fit <- train(sample_type01 ~ .,\n",
    "                         data = traindata,\n",
    "                         method =  \"svmPoly\",\n",
    "                         trControl = fitControl,\n",
    "                         verbose = FALSE,\n",
    "                         tuneGrid = data.frame(C = fit$bestTune$C, \n",
    "                                               degree = fit$bestTune$degree, \n",
    "                                               scale = fit$bestTune$scale),\n",
    "                        preProc = c(\"center\", \"scale\"))\n",
    "            predicted[rows] <- predict(fit, newdata = testdata, type = \"prob\")[,2]\n",
    "        \n",
    "    }\n",
    "    current_round_tibble <- tibble(predicted = predicted)\n",
    "    return_tibble <- cbind(return_tibble, current_round_tibble)\n",
    "    } # end of outer cv loop\n",
    "    \n",
    "    return(return_tibble)\n",
    "}"
   ]
  },
  {
   "cell_type": "code",
   "execution_count": null,
   "id": "702ab151-87a2-48ae-aba1-be265f37faa7",
   "metadata": {},
   "outputs": [],
   "source": [
    "numCores <- detectCores()\n",
    "registerDoMc(cores = numCores)\n",
    "results <- cross_validation(data, k_inner_cv = 10, k_outer_cv = 10)"
   ]
  },
  {
   "cell_type": "code",
   "execution_count": null,
   "id": "34eea2cf-3a0d-410a-95e9-f9ccab7b622d",
   "metadata": {},
   "outputs": [],
   "source": [
    "results <- tibble(results, .name_repair = \"unique\")\n",
    "head(results)"
   ]
  },
  {
   "cell_type": "code",
   "execution_count": null,
   "id": "0fbab904-4335-40fa-b13a-f8e7c81d0eb5",
   "metadata": {},
   "outputs": [],
   "source": [
    "saveRDS(results, file = snakemake@output[[\"SVM_output\"]])"
   ]
  },
  {
   "cell_type": "code",
   "execution_count": null,
   "id": "4e094a47-b77f-4b6f-a89a-62b4519325ad",
   "metadata": {},
   "outputs": [],
   "source": [
    "# Create multiple curves to plot\n",
    "rocs <- roc(observed ~ predicted...2 + \n",
    "                    predicted...3 + \n",
    "                    predicted...4 + \n",
    "                    predicted...5 + \n",
    "                    predicted...6 +\n",
    "                    predicted...7 +\n",
    "                    predicted...8 + \n",
    "                    predicted...9 + \n",
    "                    predicted...10 + \n",
    "                    predicted...11, data = results)\n",
    "ggroc(rocs)"
   ]
  },
  {
   "cell_type": "code",
   "execution_count": null,
   "id": "84a594be-df2b-4053-ab90-9c9de77b4da6",
   "metadata": {},
   "outputs": [],
   "source": [
    "roc1 <- roc(results$observed, results$predicted...2)\n",
    "roc2 <- roc(results$observed, results$predicted...3)\n",
    "roc3 <- roc(results$observed, results$predicted...4)\n",
    "roc4 <- roc(results$observed, results$predicted...5)\n",
    "roc5 <- roc(results$observed, results$predicted...6)\n",
    "roc6 <- roc(results$observed, results$predicted...7)\n",
    "roc7 <- roc(results$observed, results$predicted...8)\n",
    "roc8 <- roc(results$observed, results$predicted...9)\n",
    "roc9 <- roc(results$observed, results$predicted...10)\n",
    "roc10 <- roc(results$observed, results$predicted...11)"
   ]
  },
  {
   "cell_type": "code",
   "execution_count": null,
   "id": "94cbdcb6-bd25-42cc-89af-574f143dc26b",
   "metadata": {},
   "outputs": [],
   "source": [
    "paste(\"Mean AUC over 10 repetitions of 10-fold CV: \", mean(c(roc1$auc, roc2$auc, roc3$auc, roc4$auc, roc5$auc, roc6$auc, roc7$auc, roc8$auc, roc9$auc, roc10$auc)), sep = \"\")"
   ]
  },
  {
   "cell_type": "code",
   "execution_count": null,
   "id": "3810beb1-732e-4c60-828a-025001446d13",
   "metadata": {},
   "outputs": [],
   "source": [
    "results_01 <- results %>% mutate(predicted...2_01 = ifelse(predicted...2 > 0.5, 1, 0), \n",
    "                                 predicted...3_01 = ifelse(predicted...3 > 0.5, 1, 0), \n",
    "                                 predicted...4_01 = ifelse(predicted...4 > 0.5, 1, 0),\n",
    "                                 predicted...5_01 = ifelse(predicted...5 > 0.5, 1, 0),\n",
    "                                 predicted...6_01 = ifelse(predicted...6 > 0.5, 1, 0),\n",
    "                                 predicted...7_01 = ifelse(predicted...7 > 0.5, 1, 0),\n",
    "                                 predicted...8_01 = ifelse(predicted...8 > 0.5, 1, 0),\n",
    "                                 predicted...9_01 = ifelse(predicted...9 > 0.5, 1, 0),\n",
    "                                 predicted...10_01 = ifelse(predicted...10 > 0.5, 1, 0),\n",
    "                                 predicted...11_01 = ifelse(predicted...11 > 0.5, 1, 0))"
   ]
  },
  {
   "cell_type": "code",
   "execution_count": null,
   "id": "8daa875f-9fea-4ca8-8405-580e3915430a",
   "metadata": {},
   "outputs": [],
   "source": [
    "error_rates <- c(mean(results_01$observed != results_01$predicted...2_01), \n",
    "                mean(results_01$observed != results_01$predicted...3_01),\n",
    "               mean(results_01$observed != results_01$predicted...4_01),\n",
    "               mean(results_01$observed != results_01$predicted...5_01),\n",
    "               mean(results_01$observed != results_01$predicted...6_01),\n",
    "               mean(results_01$observed != results_01$predicted...7_01),\n",
    "               mean(results_01$observed != results_01$predicted...8_01),\n",
    "               mean(results_01$observed != results_01$predicted...9_01), \n",
    "               mean(results_01$observed != results_01$predicted...10_01), \n",
    "               mean(results_01$observed != results_01$predicted...11_01))\n",
    "\n",
    "error_rates\n",
    "\n",
    "paste(\"Mean error rate over 10 repetitions of 10-fold CV: \", mean(error_rates), sep = \"\")"
   ]
  },
  {
   "cell_type": "code",
   "execution_count": null,
   "id": "145c393a-cedc-43d9-bb0d-4f59dfbce528",
   "metadata": {},
   "outputs": [],
   "source": [
    "accuracies <- c(mean(results_01$observed == results_01$predicted...2_01),\n",
    "               mean(results_01$observed == results_01$predicted...3_01), \n",
    "               mean(results_01$observed == results_01$predicted...4_01),\n",
    "               mean(results_01$observed == results_01$predicted...5_01),\n",
    "               mean(results_01$observed == results_01$predicted...6_01),\n",
    "               mean(results_01$observed == results_01$predicted...7_01),\n",
    "               mean(results_01$observed == results_01$predicted...8_01),\n",
    "               mean(results_01$observed == results_01$predicted...9_01), \n",
    "               mean(results_01$observed == results_01$predicted...10_01), \n",
    "               mean(results_01$observed == results_01$predicted...11_01))\n",
    "\n",
    "accuracies\n",
    "paste(\"Mean accuracy over 10 repetitions of 10-fold CV: \", mean(accuracies), sep = \"\")"
   ]
  }
 ],
 "metadata": {
  "kernelspec": {
   "display_name": "R",
   "language": "R",
   "name": "ir"
  },
  "language_info": {
   "codemirror_mode": "r",
   "file_extension": ".r",
   "mimetype": "text/x-r-source",
   "name": "R",
   "pygments_lexer": "r",
   "version": "3.6.1"
  }
 },
 "nbformat": 4,
 "nbformat_minor": 5
}
