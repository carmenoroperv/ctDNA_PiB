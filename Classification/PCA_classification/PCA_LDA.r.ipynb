{
 "cells": [
  {
   "cell_type": "code",
   "execution_count": 20,
   "id": "2716ac21-4d05-4928-b049-8a448ea93a9b",
   "metadata": {},
   "outputs": [
    {
     "name": "stderr",
     "output_type": "stream",
     "text": [
      "\n",
      "Attaching package: ‘MASS’\n",
      "\n",
      "The following object is masked from ‘package:dplyr’:\n",
      "\n",
      "    select\n",
      "\n"
     ]
    }
   ],
   "source": [
    "library(dplyr)\n",
    "library(class)\n",
    "library(tidyverse)\n",
    "library(pROC)\n",
    "library(glmnet)\n",
    "library(MASS)\n",
    "#install.packages('glmnetUtils')\n",
    "library(glmnetUtils)"
   ]
  },
  {
   "cell_type": "code",
   "execution_count": 21,
   "id": "b76e1a6c-c21e-4262-bccd-789fbd93c858",
   "metadata": {},
   "outputs": [],
   "source": [
    "#lasso_pred <- readRDS(\"../../data/ATAC_predictions_train_XX_predict_XX/ATAC_pred_lasso_normalized_trimmed_formatted_standardized.rds\")\n",
    "pred <- readRDS(snakemake@input[[\"input_predictions\"]])"
   ]
  },
  {
   "cell_type": "code",
   "execution_count": 33,
   "id": "1ac5b564-db27-49bd-b6a5-248cef3e4a21",
   "metadata": {},
   "outputs": [
    {
     "data": {
      "text/html": [
       "<table>\n",
       "<thead><tr><th scope=col>sample</th><th scope=col>sample_type</th></tr></thead>\n",
       "<tbody>\n",
       "\t<tr><td>PGDX10344P1   </td><td>Gastric_cancer</td></tr>\n",
       "\t<tr><td>PGDX10346P1   </td><td>Gastric_cancer</td></tr>\n",
       "\t<tr><td>PGDX10349P1   </td><td>Gastric_cancer</td></tr>\n",
       "\t<tr><td>PGDX10351P1   </td><td>Gastric_cancer</td></tr>\n",
       "\t<tr><td>PGDX10566P    </td><td>Ovarian_Cancer</td></tr>\n",
       "\t<tr><td>PGDX10567P    </td><td>Ovarian_Cancer</td></tr>\n",
       "</tbody>\n",
       "</table>\n"
      ],
      "text/latex": [
       "\\begin{tabular}{r|ll}\n",
       " sample & sample\\_type\\\\\n",
       "\\hline\n",
       "\t PGDX10344P1      & Gastric\\_cancer\\\\\n",
       "\t PGDX10346P1      & Gastric\\_cancer\\\\\n",
       "\t PGDX10349P1      & Gastric\\_cancer\\\\\n",
       "\t PGDX10351P1      & Gastric\\_cancer\\\\\n",
       "\t PGDX10566P       & Ovarian\\_Cancer\\\\\n",
       "\t PGDX10567P       & Ovarian\\_Cancer\\\\\n",
       "\\end{tabular}\n"
      ],
      "text/markdown": [
       "\n",
       "| sample | sample_type |\n",
       "|---|---|\n",
       "| PGDX10344P1    | Gastric_cancer |\n",
       "| PGDX10346P1    | Gastric_cancer |\n",
       "| PGDX10349P1    | Gastric_cancer |\n",
       "| PGDX10351P1    | Gastric_cancer |\n",
       "| PGDX10566P     | Ovarian_Cancer |\n",
       "| PGDX10567P     | Ovarian_Cancer |\n",
       "\n"
      ],
      "text/plain": [
       "  sample      sample_type   \n",
       "1 PGDX10344P1 Gastric_cancer\n",
       "2 PGDX10346P1 Gastric_cancer\n",
       "3 PGDX10349P1 Gastric_cancer\n",
       "4 PGDX10351P1 Gastric_cancer\n",
       "5 PGDX10566P  Ovarian_Cancer\n",
       "6 PGDX10567P  Ovarian_Cancer"
      ]
     },
     "metadata": {},
     "output_type": "display_data"
    }
   ],
   "source": [
    "#sample_types <- read.table(\"../../data/sample_types.txt\", header = F, sep = \" \")\n",
    "sample_types <- readRDS(file = snakemake@input[[\"input_sample_types\"]])\n",
    "colnames(sample_types) <- c(\"sample\", \"sample_type\")\n",
    "head(sample_types)"
   ]
  },
  {
   "cell_type": "code",
   "execution_count": 34,
   "id": "b998b2ed-cad4-4a05-98c6-58d72410d7a9",
   "metadata": {},
   "outputs": [
    {
     "data": {
      "text/html": [
       "<table>\n",
       "<thead><tr><th scope=col>sample</th><th scope=col>PC1</th><th scope=col>PC2</th><th scope=col>PC3</th><th scope=col>PC4</th><th scope=col>PC5</th><th scope=col>PC6</th><th scope=col>PC7</th><th scope=col>PC8</th><th scope=col>PC9</th><th scope=col>...</th><th scope=col>PC43</th><th scope=col>PC44</th><th scope=col>PC45</th><th scope=col>PC46</th><th scope=col>PC47</th><th scope=col>PC48</th><th scope=col>PC49</th><th scope=col>PC50</th><th scope=col>sample_type</th><th scope=col>sample_type01</th></tr></thead>\n",
       "<tbody>\n",
       "\t<tr><td>PGDX10344P1   </td><td> -4.342131    </td><td>  1.953977    </td><td>-13.968322    </td><td>  2.318305    </td><td>  1.685676    </td><td>-3.381066     </td><td> 6.0445212    </td><td>-1.1347791    </td><td> 1.74198197   </td><td>...           </td><td> 0.6274859    </td><td>-2.622078     </td><td> 1.6339641    </td><td> 0.2876357    </td><td> 2.4162404    </td><td> 1.8695959    </td><td> 0.08770358   </td><td>-1.2166196    </td><td>Gastric_cancer</td><td>1             </td></tr>\n",
       "\t<tr><td>PGDX10346P1   </td><td> -6.078536    </td><td>-12.661175    </td><td>-11.678871    </td><td> -1.872324    </td><td>  1.336255    </td><td>-1.996692     </td><td>-6.4118319    </td><td> 7.9706470    </td><td>12.11108040   </td><td>...           </td><td>-2.9572109    </td><td>-2.308502     </td><td> 0.7707140    </td><td>-3.6516509    </td><td>-3.0050707    </td><td>-1.9374279    </td><td>-0.15064911   </td><td>-3.4388000    </td><td>Gastric_cancer</td><td>1             </td></tr>\n",
       "\t<tr><td>PGDX10349P1   </td><td> 48.179628    </td><td>-48.671877    </td><td> 57.672198    </td><td> 10.976267    </td><td>-20.122190    </td><td>-4.259207     </td><td> 3.0733782    </td><td> 0.6075922    </td><td> 1.57203960   </td><td>...           </td><td> 0.6475888    </td><td> 2.037660     </td><td>-1.7877125    </td><td> 2.0789376    </td><td>-1.0851786    </td><td>-0.2287387    </td><td> 0.90575811   </td><td>-0.9010285    </td><td>Gastric_cancer</td><td>1             </td></tr>\n",
       "\t<tr><td>PGDX10351P1   </td><td>-35.928939    </td><td>-11.350262    </td><td>-13.701368    </td><td>-14.147165    </td><td> -4.240782    </td><td>-5.227815     </td><td>-0.1563398    </td><td> 5.1853643    </td><td>-1.26376760   </td><td>...           </td><td> 2.4307994    </td><td> 5.922993     </td><td> 2.1776501    </td><td>-2.6065181    </td><td> 1.8807665    </td><td> 2.5498882    </td><td>-3.57969961   </td><td> 1.5642893    </td><td>Gastric_cancer</td><td>1             </td></tr>\n",
       "\t<tr><td>PGDX10566P    </td><td> -3.645149    </td><td> -8.417624    </td><td>-18.188105    </td><td> -4.633597    </td><td>  1.470311    </td><td>-1.048202     </td><td> 3.6578793    </td><td>-1.3577985    </td><td>-0.59132535   </td><td>...           </td><td> 2.1880247    </td><td>-4.290371     </td><td> 0.5627505    </td><td> 2.3363121    </td><td>-0.2994595    </td><td> 2.8081674    </td><td> 2.42526637   </td><td> 1.0627620    </td><td>Ovarian_Cancer</td><td>1             </td></tr>\n",
       "\t<tr><td>PGDX10567P    </td><td>  9.167948    </td><td> -9.013273    </td><td>  9.812515    </td><td>  4.895645    </td><td> -4.504976    </td><td> 4.545019     </td><td> 1.3597509    </td><td>-2.8620042    </td><td> 0.01220041   </td><td>...           </td><td>-1.0443199    </td><td> 3.607826     </td><td>-2.0018629    </td><td> 3.3426278    </td><td>-1.0511282    </td><td> 0.7924274    </td><td> 0.98886233   </td><td> 6.8472585    </td><td>Ovarian_Cancer</td><td>1             </td></tr>\n",
       "</tbody>\n",
       "</table>\n"
      ],
      "text/latex": [
       "\\begin{tabular}{r|lllllllllllllllllllllllllllllllllllllllllllllllllllll}\n",
       " sample & PC1 & PC2 & PC3 & PC4 & PC5 & PC6 & PC7 & PC8 & PC9 & ... & PC43 & PC44 & PC45 & PC46 & PC47 & PC48 & PC49 & PC50 & sample\\_type & sample\\_type01\\\\\n",
       "\\hline\n",
       "\t PGDX10344P1      &  -4.342131       &   1.953977       & -13.968322       &   2.318305       &   1.685676       & -3.381066        &  6.0445212       & -1.1347791       &  1.74198197      & ...              &  0.6274859       & -2.622078        &  1.6339641       &  0.2876357       &  2.4162404       &  1.8695959       &  0.08770358      & -1.2166196       & Gastric\\_cancer & 1               \\\\\n",
       "\t PGDX10346P1      &  -6.078536       & -12.661175       & -11.678871       &  -1.872324       &   1.336255       & -1.996692        & -6.4118319       &  7.9706470       & 12.11108040      & ...              & -2.9572109       & -2.308502        &  0.7707140       & -3.6516509       & -3.0050707       & -1.9374279       & -0.15064911      & -3.4388000       & Gastric\\_cancer & 1               \\\\\n",
       "\t PGDX10349P1      &  48.179628       & -48.671877       &  57.672198       &  10.976267       & -20.122190       & -4.259207        &  3.0733782       &  0.6075922       &  1.57203960      & ...              &  0.6475888       &  2.037660        & -1.7877125       &  2.0789376       & -1.0851786       & -0.2287387       &  0.90575811      & -0.9010285       & Gastric\\_cancer & 1               \\\\\n",
       "\t PGDX10351P1      & -35.928939       & -11.350262       & -13.701368       & -14.147165       &  -4.240782       & -5.227815        & -0.1563398       &  5.1853643       & -1.26376760      & ...              &  2.4307994       &  5.922993        &  2.1776501       & -2.6065181       &  1.8807665       &  2.5498882       & -3.57969961      &  1.5642893       & Gastric\\_cancer & 1               \\\\\n",
       "\t PGDX10566P       &  -3.645149       &  -8.417624       & -18.188105       &  -4.633597       &   1.470311       & -1.048202        &  3.6578793       & -1.3577985       & -0.59132535      & ...              &  2.1880247       & -4.290371        &  0.5627505       &  2.3363121       & -0.2994595       &  2.8081674       &  2.42526637      &  1.0627620       & Ovarian\\_Cancer & 1               \\\\\n",
       "\t PGDX10567P       &   9.167948       &  -9.013273       &   9.812515       &   4.895645       &  -4.504976       &  4.545019        &  1.3597509       & -2.8620042       &  0.01220041      & ...              & -1.0443199       &  3.607826        & -2.0018629       &  3.3426278       & -1.0511282       &  0.7924274       &  0.98886233      &  6.8472585       & Ovarian\\_Cancer & 1               \\\\\n",
       "\\end{tabular}\n"
      ],
      "text/markdown": [
       "\n",
       "| sample | PC1 | PC2 | PC3 | PC4 | PC5 | PC6 | PC7 | PC8 | PC9 | ... | PC43 | PC44 | PC45 | PC46 | PC47 | PC48 | PC49 | PC50 | sample_type | sample_type01 |\n",
       "|---|---|---|---|---|---|---|---|---|---|---|---|---|---|---|---|---|---|---|---|---|\n",
       "| PGDX10344P1    |  -4.342131     |   1.953977     | -13.968322     |   2.318305     |   1.685676     | -3.381066      |  6.0445212     | -1.1347791     |  1.74198197    | ...            |  0.6274859     | -2.622078      |  1.6339641     |  0.2876357     |  2.4162404     |  1.8695959     |  0.08770358    | -1.2166196     | Gastric_cancer | 1              |\n",
       "| PGDX10346P1    |  -6.078536     | -12.661175     | -11.678871     |  -1.872324     |   1.336255     | -1.996692      | -6.4118319     |  7.9706470     | 12.11108040    | ...            | -2.9572109     | -2.308502      |  0.7707140     | -3.6516509     | -3.0050707     | -1.9374279     | -0.15064911    | -3.4388000     | Gastric_cancer | 1              |\n",
       "| PGDX10349P1    |  48.179628     | -48.671877     |  57.672198     |  10.976267     | -20.122190     | -4.259207      |  3.0733782     |  0.6075922     |  1.57203960    | ...            |  0.6475888     |  2.037660      | -1.7877125     |  2.0789376     | -1.0851786     | -0.2287387     |  0.90575811    | -0.9010285     | Gastric_cancer | 1              |\n",
       "| PGDX10351P1    | -35.928939     | -11.350262     | -13.701368     | -14.147165     |  -4.240782     | -5.227815      | -0.1563398     |  5.1853643     | -1.26376760    | ...            |  2.4307994     |  5.922993      |  2.1776501     | -2.6065181     |  1.8807665     |  2.5498882     | -3.57969961    |  1.5642893     | Gastric_cancer | 1              |\n",
       "| PGDX10566P     |  -3.645149     |  -8.417624     | -18.188105     |  -4.633597     |   1.470311     | -1.048202      |  3.6578793     | -1.3577985     | -0.59132535    | ...            |  2.1880247     | -4.290371      |  0.5627505     |  2.3363121     | -0.2994595     |  2.8081674     |  2.42526637    |  1.0627620     | Ovarian_Cancer | 1              |\n",
       "| PGDX10567P     |   9.167948     |  -9.013273     |   9.812515     |   4.895645     |  -4.504976     |  4.545019      |  1.3597509     | -2.8620042     |  0.01220041    | ...            | -1.0443199     |  3.607826      | -2.0018629     |  3.3426278     | -1.0511282     |  0.7924274     |  0.98886233    |  6.8472585     | Ovarian_Cancer | 1              |\n",
       "\n"
      ],
      "text/plain": [
       "  sample      PC1        PC2        PC3        PC4        PC5        PC6      \n",
       "1 PGDX10344P1  -4.342131   1.953977 -13.968322   2.318305   1.685676 -3.381066\n",
       "2 PGDX10346P1  -6.078536 -12.661175 -11.678871  -1.872324   1.336255 -1.996692\n",
       "3 PGDX10349P1  48.179628 -48.671877  57.672198  10.976267 -20.122190 -4.259207\n",
       "4 PGDX10351P1 -35.928939 -11.350262 -13.701368 -14.147165  -4.240782 -5.227815\n",
       "5 PGDX10566P   -3.645149  -8.417624 -18.188105  -4.633597   1.470311 -1.048202\n",
       "6 PGDX10567P    9.167948  -9.013273   9.812515   4.895645  -4.504976  4.545019\n",
       "  PC7        PC8        PC9         ... PC43       PC44      PC45      \n",
       "1  6.0445212 -1.1347791  1.74198197 ...  0.6274859 -2.622078  1.6339641\n",
       "2 -6.4118319  7.9706470 12.11108040 ... -2.9572109 -2.308502  0.7707140\n",
       "3  3.0733782  0.6075922  1.57203960 ...  0.6475888  2.037660 -1.7877125\n",
       "4 -0.1563398  5.1853643 -1.26376760 ...  2.4307994  5.922993  2.1776501\n",
       "5  3.6578793 -1.3577985 -0.59132535 ...  2.1880247 -4.290371  0.5627505\n",
       "6  1.3597509 -2.8620042  0.01220041 ... -1.0443199  3.607826 -2.0018629\n",
       "  PC46       PC47       PC48       PC49        PC50       sample_type   \n",
       "1  0.2876357  2.4162404  1.8695959  0.08770358 -1.2166196 Gastric_cancer\n",
       "2 -3.6516509 -3.0050707 -1.9374279 -0.15064911 -3.4388000 Gastric_cancer\n",
       "3  2.0789376 -1.0851786 -0.2287387  0.90575811 -0.9010285 Gastric_cancer\n",
       "4 -2.6065181  1.8807665  2.5498882 -3.57969961  1.5642893 Gastric_cancer\n",
       "5  2.3363121 -0.2994595  2.8081674  2.42526637  1.0627620 Ovarian_Cancer\n",
       "6  3.3426278 -1.0511282  0.7924274  0.98886233  6.8472585 Ovarian_Cancer\n",
       "  sample_type01\n",
       "1 1            \n",
       "2 1            \n",
       "3 1            \n",
       "4 1            \n",
       "5 1            \n",
       "6 1            "
      ]
     },
     "metadata": {},
     "output_type": "display_data"
    }
   ],
   "source": [
    "data <- merge(pred, sample_types, by=\"sample\")\n",
    "data <- data %>% mutate(sample_type01 = ifelse(sample_type == \"Healthy\", 0, 1))\n",
    "head(data)"
   ]
  },
  {
   "cell_type": "code",
   "execution_count": 44,
   "id": "bb87f5ae-a854-4b23-996c-e795cdbb70af",
   "metadata": {},
   "outputs": [],
   "source": [
    "data <- data %>% dplyr::select(-sample_type)"
   ]
  },
  {
   "cell_type": "code",
   "execution_count": 45,
   "id": "65c4d00f-37ac-4eef-89e5-a620a3029ff2",
   "metadata": {},
   "outputs": [
    {
     "data": {
      "text/html": [
       "<table>\n",
       "<thead><tr><th scope=col>PC1</th><th scope=col>PC2</th><th scope=col>PC3</th><th scope=col>PC4</th><th scope=col>PC5</th><th scope=col>PC6</th><th scope=col>PC7</th><th scope=col>PC8</th><th scope=col>PC9</th><th scope=col>PC10</th><th scope=col>...</th><th scope=col>PC42</th><th scope=col>PC43</th><th scope=col>PC44</th><th scope=col>PC45</th><th scope=col>PC46</th><th scope=col>PC47</th><th scope=col>PC48</th><th scope=col>PC49</th><th scope=col>PC50</th><th scope=col>sample_type01</th></tr></thead>\n",
       "<tbody>\n",
       "\t<tr><td> -4.342131 </td><td>  1.953977 </td><td>-13.968322 </td><td>  2.318305 </td><td>  1.685676 </td><td>-3.381066  </td><td> 6.0445212 </td><td>-1.1347791 </td><td> 1.74198197</td><td>-0.74881708</td><td>...        </td><td>-2.8077276 </td><td> 0.6274859 </td><td>-2.622078  </td><td> 1.6339641 </td><td> 0.2876357 </td><td> 2.4162404 </td><td> 1.8695959 </td><td> 0.08770358</td><td>-1.2166196 </td><td>1          </td></tr>\n",
       "\t<tr><td> -6.078536 </td><td>-12.661175 </td><td>-11.678871 </td><td> -1.872324 </td><td>  1.336255 </td><td>-1.996692  </td><td>-6.4118319 </td><td> 7.9706470 </td><td>12.11108040</td><td> 5.72266372</td><td>...        </td><td>-1.3210358 </td><td>-2.9572109 </td><td>-2.308502  </td><td> 0.7707140 </td><td>-3.6516509 </td><td>-3.0050707 </td><td>-1.9374279 </td><td>-0.15064911</td><td>-3.4388000 </td><td>1          </td></tr>\n",
       "\t<tr><td> 48.179628 </td><td>-48.671877 </td><td> 57.672198 </td><td> 10.976267 </td><td>-20.122190 </td><td>-4.259207  </td><td> 3.0733782 </td><td> 0.6075922 </td><td> 1.57203960</td><td>-2.84910093</td><td>...        </td><td> 0.7400773 </td><td> 0.6475888 </td><td> 2.037660  </td><td>-1.7877125 </td><td> 2.0789376 </td><td>-1.0851786 </td><td>-0.2287387 </td><td> 0.90575811</td><td>-0.9010285 </td><td>1          </td></tr>\n",
       "\t<tr><td>-35.928939 </td><td>-11.350262 </td><td>-13.701368 </td><td>-14.147165 </td><td> -4.240782 </td><td>-5.227815  </td><td>-0.1563398 </td><td> 5.1853643 </td><td>-1.26376760</td><td> 0.05546772</td><td>...        </td><td> 3.8996607 </td><td> 2.4307994 </td><td> 5.922993  </td><td> 2.1776501 </td><td>-2.6065181 </td><td> 1.8807665 </td><td> 2.5498882 </td><td>-3.57969961</td><td> 1.5642893 </td><td>1          </td></tr>\n",
       "\t<tr><td> -3.645149 </td><td> -8.417624 </td><td>-18.188105 </td><td> -4.633597 </td><td>  1.470311 </td><td>-1.048202  </td><td> 3.6578793 </td><td>-1.3577985 </td><td>-0.59132535</td><td>-2.49310460</td><td>...        </td><td> 1.2274091 </td><td> 2.1880247 </td><td>-4.290371  </td><td> 0.5627505 </td><td> 2.3363121 </td><td>-0.2994595 </td><td> 2.8081674 </td><td> 2.42526637</td><td> 1.0627620 </td><td>1          </td></tr>\n",
       "\t<tr><td>  9.167948 </td><td> -9.013273 </td><td>  9.812515 </td><td>  4.895645 </td><td> -4.504976 </td><td> 4.545019  </td><td> 1.3597509 </td><td>-2.8620042 </td><td> 0.01220041</td><td> 0.19581699</td><td>...        </td><td> 2.7123738 </td><td>-1.0443199 </td><td> 3.607826  </td><td>-2.0018629 </td><td> 3.3426278 </td><td>-1.0511282 </td><td> 0.7924274 </td><td> 0.98886233</td><td> 6.8472585 </td><td>1          </td></tr>\n",
       "</tbody>\n",
       "</table>\n"
      ],
      "text/latex": [
       "\\begin{tabular}{r|lllllllllllllllllllllllllllllllllllllllllllllllllll}\n",
       " PC1 & PC2 & PC3 & PC4 & PC5 & PC6 & PC7 & PC8 & PC9 & PC10 & ... & PC42 & PC43 & PC44 & PC45 & PC46 & PC47 & PC48 & PC49 & PC50 & sample\\_type01\\\\\n",
       "\\hline\n",
       "\t  -4.342131  &   1.953977  & -13.968322  &   2.318305  &   1.685676  & -3.381066   &  6.0445212  & -1.1347791  &  1.74198197 & -0.74881708 & ...         & -2.8077276  &  0.6274859  & -2.622078   &  1.6339641  &  0.2876357  &  2.4162404  &  1.8695959  &  0.08770358 & -1.2166196  & 1          \\\\\n",
       "\t  -6.078536  & -12.661175  & -11.678871  &  -1.872324  &   1.336255  & -1.996692   & -6.4118319  &  7.9706470  & 12.11108040 &  5.72266372 & ...         & -1.3210358  & -2.9572109  & -2.308502   &  0.7707140  & -3.6516509  & -3.0050707  & -1.9374279  & -0.15064911 & -3.4388000  & 1          \\\\\n",
       "\t  48.179628  & -48.671877  &  57.672198  &  10.976267  & -20.122190  & -4.259207   &  3.0733782  &  0.6075922  &  1.57203960 & -2.84910093 & ...         &  0.7400773  &  0.6475888  &  2.037660   & -1.7877125  &  2.0789376  & -1.0851786  & -0.2287387  &  0.90575811 & -0.9010285  & 1          \\\\\n",
       "\t -35.928939  & -11.350262  & -13.701368  & -14.147165  &  -4.240782  & -5.227815   & -0.1563398  &  5.1853643  & -1.26376760 &  0.05546772 & ...         &  3.8996607  &  2.4307994  &  5.922993   &  2.1776501  & -2.6065181  &  1.8807665  &  2.5498882  & -3.57969961 &  1.5642893  & 1          \\\\\n",
       "\t  -3.645149  &  -8.417624  & -18.188105  &  -4.633597  &   1.470311  & -1.048202   &  3.6578793  & -1.3577985  & -0.59132535 & -2.49310460 & ...         &  1.2274091  &  2.1880247  & -4.290371   &  0.5627505  &  2.3363121  & -0.2994595  &  2.8081674  &  2.42526637 &  1.0627620  & 1          \\\\\n",
       "\t   9.167948  &  -9.013273  &   9.812515  &   4.895645  &  -4.504976  &  4.545019   &  1.3597509  & -2.8620042  &  0.01220041 &  0.19581699 & ...         &  2.7123738  & -1.0443199  &  3.607826   & -2.0018629  &  3.3426278  & -1.0511282  &  0.7924274  &  0.98886233 &  6.8472585  & 1          \\\\\n",
       "\\end{tabular}\n"
      ],
      "text/markdown": [
       "\n",
       "| PC1 | PC2 | PC3 | PC4 | PC5 | PC6 | PC7 | PC8 | PC9 | PC10 | ... | PC42 | PC43 | PC44 | PC45 | PC46 | PC47 | PC48 | PC49 | PC50 | sample_type01 |\n",
       "|---|---|---|---|---|---|---|---|---|---|---|---|---|---|---|---|---|---|---|---|---|\n",
       "|  -4.342131  |   1.953977  | -13.968322  |   2.318305  |   1.685676  | -3.381066   |  6.0445212  | -1.1347791  |  1.74198197 | -0.74881708 | ...         | -2.8077276  |  0.6274859  | -2.622078   |  1.6339641  |  0.2876357  |  2.4162404  |  1.8695959  |  0.08770358 | -1.2166196  | 1           |\n",
       "|  -6.078536  | -12.661175  | -11.678871  |  -1.872324  |   1.336255  | -1.996692   | -6.4118319  |  7.9706470  | 12.11108040 |  5.72266372 | ...         | -1.3210358  | -2.9572109  | -2.308502   |  0.7707140  | -3.6516509  | -3.0050707  | -1.9374279  | -0.15064911 | -3.4388000  | 1           |\n",
       "|  48.179628  | -48.671877  |  57.672198  |  10.976267  | -20.122190  | -4.259207   |  3.0733782  |  0.6075922  |  1.57203960 | -2.84910093 | ...         |  0.7400773  |  0.6475888  |  2.037660   | -1.7877125  |  2.0789376  | -1.0851786  | -0.2287387  |  0.90575811 | -0.9010285  | 1           |\n",
       "| -35.928939  | -11.350262  | -13.701368  | -14.147165  |  -4.240782  | -5.227815   | -0.1563398  |  5.1853643  | -1.26376760 |  0.05546772 | ...         |  3.8996607  |  2.4307994  |  5.922993   |  2.1776501  | -2.6065181  |  1.8807665  |  2.5498882  | -3.57969961 |  1.5642893  | 1           |\n",
       "|  -3.645149  |  -8.417624  | -18.188105  |  -4.633597  |   1.470311  | -1.048202   |  3.6578793  | -1.3577985  | -0.59132535 | -2.49310460 | ...         |  1.2274091  |  2.1880247  | -4.290371   |  0.5627505  |  2.3363121  | -0.2994595  |  2.8081674  |  2.42526637 |  1.0627620  | 1           |\n",
       "|   9.167948  |  -9.013273  |   9.812515  |   4.895645  |  -4.504976  |  4.545019   |  1.3597509  | -2.8620042  |  0.01220041 |  0.19581699 | ...         |  2.7123738  | -1.0443199  |  3.607826   | -2.0018629  |  3.3426278  | -1.0511282  |  0.7924274  |  0.98886233 |  6.8472585  | 1           |\n",
       "\n"
      ],
      "text/plain": [
       "  PC1        PC2        PC3        PC4        PC5        PC6       PC7       \n",
       "1  -4.342131   1.953977 -13.968322   2.318305   1.685676 -3.381066  6.0445212\n",
       "2  -6.078536 -12.661175 -11.678871  -1.872324   1.336255 -1.996692 -6.4118319\n",
       "3  48.179628 -48.671877  57.672198  10.976267 -20.122190 -4.259207  3.0733782\n",
       "4 -35.928939 -11.350262 -13.701368 -14.147165  -4.240782 -5.227815 -0.1563398\n",
       "5  -3.645149  -8.417624 -18.188105  -4.633597   1.470311 -1.048202  3.6578793\n",
       "6   9.167948  -9.013273   9.812515   4.895645  -4.504976  4.545019  1.3597509\n",
       "  PC8        PC9         PC10        ... PC42       PC43       PC44     \n",
       "1 -1.1347791  1.74198197 -0.74881708 ... -2.8077276  0.6274859 -2.622078\n",
       "2  7.9706470 12.11108040  5.72266372 ... -1.3210358 -2.9572109 -2.308502\n",
       "3  0.6075922  1.57203960 -2.84910093 ...  0.7400773  0.6475888  2.037660\n",
       "4  5.1853643 -1.26376760  0.05546772 ...  3.8996607  2.4307994  5.922993\n",
       "5 -1.3577985 -0.59132535 -2.49310460 ...  1.2274091  2.1880247 -4.290371\n",
       "6 -2.8620042  0.01220041  0.19581699 ...  2.7123738 -1.0443199  3.607826\n",
       "  PC45       PC46       PC47       PC48       PC49        PC50      \n",
       "1  1.6339641  0.2876357  2.4162404  1.8695959  0.08770358 -1.2166196\n",
       "2  0.7707140 -3.6516509 -3.0050707 -1.9374279 -0.15064911 -3.4388000\n",
       "3 -1.7877125  2.0789376 -1.0851786 -0.2287387  0.90575811 -0.9010285\n",
       "4  2.1776501 -2.6065181  1.8807665  2.5498882 -3.57969961  1.5642893\n",
       "5  0.5627505  2.3363121 -0.2994595  2.8081674  2.42526637  1.0627620\n",
       "6 -2.0018629  3.3426278 -1.0511282  0.7924274  0.98886233  6.8472585\n",
       "  sample_type01\n",
       "1 1            \n",
       "2 1            \n",
       "3 1            \n",
       "4 1            \n",
       "5 1            \n",
       "6 1            "
      ]
     },
     "metadata": {},
     "output_type": "display_data"
    }
   ],
   "source": [
    "data <- data %>% dplyr::select(-sample)\n",
    "head(data)"
   ]
  },
  {
   "cell_type": "code",
   "execution_count": 46,
   "id": "e464b9ea-4c23-421d-9a6a-8ecf746c2f78",
   "metadata": {},
   "outputs": [],
   "source": [
    "cross_validation <- function(dataset, k_inner_cv, k_outer_cv){\n",
    "    \n",
    "    observed  <- dataset$sample_type01\n",
    "    return_tibble <- tibble(observed = observed)\n",
    "    \n",
    "    for (i in 1:k_outer_cv){ # repeated Cross-validation loop\n",
    "        set.seed(i)\n",
    "        cvfolds <- cut(seq_len(nrow(dataset)), breaks = k_inner_cv, labels = F)\n",
    "        cvfolds <- sample(cvfolds)\n",
    "\n",
    "        predicted <- rep(NA, nrow(dataset))\n",
    "\n",
    "        for (n in 1:k_inner_cv){\n",
    "            rows      <- which(cvfolds==n)\n",
    "            testdata  <- dataset[rows,]\n",
    "            testlabels <- testdata$sample_type01\n",
    "            testdata <- testdata %>% dplyr::select(-sample_type01)\n",
    "\n",
    "            traindata <- dataset[-rows,]\n",
    "            trainlabels <- traindata$sample_type01\n",
    "            #traindata <- traindata %>% dplyr::select(-sample_type01)\n",
    "\n",
    "\n",
    "            fit       <- lda(sample_type01 ~ ., data=traindata)\n",
    "            prediction <- predict(fit, testdata)\n",
    "            predicted[rows] <- prediction$posterior[,2]\n",
    "        }\n",
    "        \n",
    "    current_round_tibble <- tibble(predicted = predicted)\n",
    "    return_tibble <- cbind(return_tibble, current_round_tibble)\n",
    "    } # end of outer cv loop\n",
    "\n",
    "    return(return_tibble)\n",
    "}"
   ]
  },
  {
   "cell_type": "code",
   "execution_count": 47,
   "id": "4b3e8535-ed1f-40f6-a389-0481b560eb1d",
   "metadata": {
    "tags": []
   },
   "outputs": [],
   "source": [
    "results <- as.data.frame(cross_validation(data, k_inner_cv = 10, k_outer_cv = 10))"
   ]
  },
  {
   "cell_type": "code",
   "execution_count": 48,
   "id": "42f51e28-e15f-455a-8044-62d47725bc15",
   "metadata": {},
   "outputs": [
    {
     "name": "stderr",
     "output_type": "stream",
     "text": [
      "New names:\n",
      "* predicted -> predicted...2\n",
      "* predicted -> predicted...3\n",
      "* predicted -> predicted...4\n",
      "* predicted -> predicted...5\n",
      "* predicted -> predicted...6\n",
      "* ...\n"
     ]
    },
    {
     "data": {
      "text/html": [
       "<table>\n",
       "<thead><tr><th scope=col>observed</th><th scope=col>predicted...2</th><th scope=col>predicted...3</th><th scope=col>predicted...4</th><th scope=col>predicted...5</th><th scope=col>predicted...6</th><th scope=col>predicted...7</th><th scope=col>predicted...8</th><th scope=col>predicted...9</th><th scope=col>predicted...10</th><th scope=col>predicted...11</th></tr></thead>\n",
       "<tbody>\n",
       "\t<tr><td>1        </td><td>0.3436612</td><td>0.6801321</td><td>0.3410724</td><td>0.4460276</td><td>0.3714559</td><td>0.3395366</td><td>0.6577503</td><td>0.3651524</td><td>0.4175338</td><td>0.4188710</td></tr>\n",
       "\t<tr><td>1        </td><td>0.4314549</td><td>0.2076484</td><td>0.4243601</td><td>0.4769424</td><td>0.4580539</td><td>0.3264093</td><td>0.3089825</td><td>0.3425262</td><td>0.1353414</td><td>0.1367788</td></tr>\n",
       "\t<tr><td>1        </td><td>0.9794671</td><td>0.9869055</td><td>0.9838237</td><td>0.9844531</td><td>0.9782503</td><td>0.9793649</td><td>0.9800792</td><td>0.9733342</td><td>0.9874479</td><td>0.9827637</td></tr>\n",
       "\t<tr><td>1        </td><td>0.2794645</td><td>0.2610130</td><td>0.1865214</td><td>0.1684457</td><td>0.2974522</td><td>0.1473623</td><td>0.2752325</td><td>0.5666697</td><td>0.5591218</td><td>0.1593999</td></tr>\n",
       "\t<tr><td>1        </td><td>0.7125422</td><td>0.7607799</td><td>0.8604535</td><td>0.7266700</td><td>0.8019640</td><td>0.7847162</td><td>0.8056162</td><td>0.6810949</td><td>0.7743292</td><td>0.7469585</td></tr>\n",
       "\t<tr><td>1        </td><td>0.8581353</td><td>0.8693567</td><td>0.9292935</td><td>0.8889015</td><td>0.7587556</td><td>0.8092268</td><td>0.8288329</td><td>0.8452354</td><td>0.8599730</td><td>0.8097178</td></tr>\n",
       "</tbody>\n",
       "</table>\n"
      ],
      "text/latex": [
       "\\begin{tabular}{r|lllllllllll}\n",
       " observed & predicted...2 & predicted...3 & predicted...4 & predicted...5 & predicted...6 & predicted...7 & predicted...8 & predicted...9 & predicted...10 & predicted...11\\\\\n",
       "\\hline\n",
       "\t 1         & 0.3436612 & 0.6801321 & 0.3410724 & 0.4460276 & 0.3714559 & 0.3395366 & 0.6577503 & 0.3651524 & 0.4175338 & 0.4188710\\\\\n",
       "\t 1         & 0.4314549 & 0.2076484 & 0.4243601 & 0.4769424 & 0.4580539 & 0.3264093 & 0.3089825 & 0.3425262 & 0.1353414 & 0.1367788\\\\\n",
       "\t 1         & 0.9794671 & 0.9869055 & 0.9838237 & 0.9844531 & 0.9782503 & 0.9793649 & 0.9800792 & 0.9733342 & 0.9874479 & 0.9827637\\\\\n",
       "\t 1         & 0.2794645 & 0.2610130 & 0.1865214 & 0.1684457 & 0.2974522 & 0.1473623 & 0.2752325 & 0.5666697 & 0.5591218 & 0.1593999\\\\\n",
       "\t 1         & 0.7125422 & 0.7607799 & 0.8604535 & 0.7266700 & 0.8019640 & 0.7847162 & 0.8056162 & 0.6810949 & 0.7743292 & 0.7469585\\\\\n",
       "\t 1         & 0.8581353 & 0.8693567 & 0.9292935 & 0.8889015 & 0.7587556 & 0.8092268 & 0.8288329 & 0.8452354 & 0.8599730 & 0.8097178\\\\\n",
       "\\end{tabular}\n"
      ],
      "text/markdown": [
       "\n",
       "| observed | predicted...2 | predicted...3 | predicted...4 | predicted...5 | predicted...6 | predicted...7 | predicted...8 | predicted...9 | predicted...10 | predicted...11 |\n",
       "|---|---|---|---|---|---|---|---|---|---|---|\n",
       "| 1         | 0.3436612 | 0.6801321 | 0.3410724 | 0.4460276 | 0.3714559 | 0.3395366 | 0.6577503 | 0.3651524 | 0.4175338 | 0.4188710 |\n",
       "| 1         | 0.4314549 | 0.2076484 | 0.4243601 | 0.4769424 | 0.4580539 | 0.3264093 | 0.3089825 | 0.3425262 | 0.1353414 | 0.1367788 |\n",
       "| 1         | 0.9794671 | 0.9869055 | 0.9838237 | 0.9844531 | 0.9782503 | 0.9793649 | 0.9800792 | 0.9733342 | 0.9874479 | 0.9827637 |\n",
       "| 1         | 0.2794645 | 0.2610130 | 0.1865214 | 0.1684457 | 0.2974522 | 0.1473623 | 0.2752325 | 0.5666697 | 0.5591218 | 0.1593999 |\n",
       "| 1         | 0.7125422 | 0.7607799 | 0.8604535 | 0.7266700 | 0.8019640 | 0.7847162 | 0.8056162 | 0.6810949 | 0.7743292 | 0.7469585 |\n",
       "| 1         | 0.8581353 | 0.8693567 | 0.9292935 | 0.8889015 | 0.7587556 | 0.8092268 | 0.8288329 | 0.8452354 | 0.8599730 | 0.8097178 |\n",
       "\n"
      ],
      "text/plain": [
       "  observed predicted...2 predicted...3 predicted...4 predicted...5\n",
       "1 1        0.3436612     0.6801321     0.3410724     0.4460276    \n",
       "2 1        0.4314549     0.2076484     0.4243601     0.4769424    \n",
       "3 1        0.9794671     0.9869055     0.9838237     0.9844531    \n",
       "4 1        0.2794645     0.2610130     0.1865214     0.1684457    \n",
       "5 1        0.7125422     0.7607799     0.8604535     0.7266700    \n",
       "6 1        0.8581353     0.8693567     0.9292935     0.8889015    \n",
       "  predicted...6 predicted...7 predicted...8 predicted...9 predicted...10\n",
       "1 0.3714559     0.3395366     0.6577503     0.3651524     0.4175338     \n",
       "2 0.4580539     0.3264093     0.3089825     0.3425262     0.1353414     \n",
       "3 0.9782503     0.9793649     0.9800792     0.9733342     0.9874479     \n",
       "4 0.2974522     0.1473623     0.2752325     0.5666697     0.5591218     \n",
       "5 0.8019640     0.7847162     0.8056162     0.6810949     0.7743292     \n",
       "6 0.7587556     0.8092268     0.8288329     0.8452354     0.8599730     \n",
       "  predicted...11\n",
       "1 0.4188710     \n",
       "2 0.1367788     \n",
       "3 0.9827637     \n",
       "4 0.1593999     \n",
       "5 0.7469585     \n",
       "6 0.8097178     "
      ]
     },
     "metadata": {},
     "output_type": "display_data"
    }
   ],
   "source": [
    "results <- tibble(results, .name_repair = \"unique\")\n",
    "head(results)"
   ]
  },
  {
   "cell_type": "code",
   "execution_count": 49,
   "id": "7f4b2cc0-448d-4306-b063-f8b2e30b7f61",
   "metadata": {},
   "outputs": [],
   "source": [
    "saveRDS(results, file = snakemake@output[[\"LDA_output\"]])"
   ]
  },
  {
   "cell_type": "code",
   "execution_count": 51,
   "id": "3ba22c8a-88dd-409d-8808-bbacd72c63eb",
   "metadata": {},
   "outputs": [
    {
     "data": {
      "image/png": "[encoded data removed]",
      "text/plain": [
       "plot without title"
      ]
     },
     "metadata": {},
     "output_type": "display_data"
    }
   ],
   "source": [
    "# Create multiple curves to plot\n",
    "rocs <- roc(observed ~ predicted...2 + \n",
    "                    predicted...3 + \n",
    "                    predicted...4 + \n",
    "                    predicted...5 + \n",
    "                    predicted...6 +\n",
    "                    predicted...7 +\n",
    "                    predicted...8 + \n",
    "                    predicted...9 + \n",
    "                    predicted...10 + \n",
    "                    predicted...11, data = results)\n",
    "ggroc(rocs)"
   ]
  },
  {
   "cell_type": "code",
   "execution_count": 52,
   "id": "c70dfd35-58b7-4695-b97d-90c19180a4b4",
   "metadata": {},
   "outputs": [
    {
     "data": {
      "text/plain": [
       "NULL"
      ]
     },
     "metadata": {},
     "output_type": "display_data"
    }
   ],
   "source": [
    "\n",
    "dim(results$observed)"
   ]
  },
  {
   "cell_type": "code",
   "execution_count": null,
   "id": "d656dfd4-b2b5-4f1b-b560-25af1f706007",
   "metadata": {},
   "outputs": [],
   "source": []
  },
  {
   "cell_type": "code",
   "execution_count": 54,
   "id": "8fc27694-efbe-42ce-ba7f-252c3ef12344",
   "metadata": {},
   "outputs": [],
   "source": [
    "roc1 <- roc(results$observed, results$predicted...2)\n",
    "roc2 <- roc(results$observed, results$predicted...3)\n",
    "roc3 <- roc(results$observed, results$predicted...4)\n",
    "roc4 <- roc(results$observed, results$predicted...5)\n",
    "roc5 <- roc(results$observed, results$predicted...6)\n",
    "roc6 <- roc(results$observed, results$predicted...7)\n",
    "roc7 <- roc(results$observed, results$predicted...8)\n",
    "roc8 <- roc(results$observed, results$predicted...9)\n",
    "roc9 <- roc(results$observed, results$predicted...10)\n",
    "roc10 <- roc(results$observed, results$predicted...11)"
   ]
  },
  {
   "cell_type": "code",
   "execution_count": null,
   "id": "dd213c44-3499-4e56-89cd-da8093c3044e",
   "metadata": {},
   "outputs": [],
   "source": []
  },
  {
   "cell_type": "code",
   "execution_count": 57,
   "id": "63b777e5-556a-4912-9a35-fef3b1284292",
   "metadata": {},
   "outputs": [
    {
     "data": {
      "text/html": [
       "'Mean AUC over 10 repetitions of 10-fold CV: 0.847187359928283'"
      ],
      "text/latex": [
       "'Mean AUC over 10 repetitions of 10-fold CV: 0.847187359928283'"
      ],
      "text/markdown": [
       "'Mean AUC over 10 repetitions of 10-fold CV: 0.847187359928283'"
      ],
      "text/plain": [
       "[1] \"Mean AUC over 10 repetitions of 10-fold CV: 0.847187359928283\""
      ]
     },
     "metadata": {},
     "output_type": "display_data"
    }
   ],
   "source": [
    "paste(\"Mean AUC over 10 repetitions of 10-fold CV: \", mean(c(roc1$auc, roc2$auc, roc3$auc, roc4$auc, roc5$auc, roc6$auc, roc7$auc, roc8$auc, roc9$auc, roc10$auc)), sep = \"\")"
   ]
  },
  {
   "cell_type": "code",
   "execution_count": 59,
   "id": "49f159fe-7ecc-4e80-8851-65e78c8a4f0e",
   "metadata": {},
   "outputs": [],
   "source": [
    "results_01 <- results %>% mutate(predicted...2_01 = ifelse(predicted...2 > 0.5, 1, 0), \n",
    "                                 predicted...3_01 = ifelse(predicted...3 > 0.5, 1, 0), \n",
    "                                 predicted...4_01 = ifelse(predicted...4 > 0.5, 1, 0),\n",
    "                                 predicted...5_01 = ifelse(predicted...5 > 0.5, 1, 0),\n",
    "                                 predicted...6_01 = ifelse(predicted...6 > 0.5, 1, 0),\n",
    "                                 predicted...7_01 = ifelse(predicted...7 > 0.5, 1, 0),\n",
    "                                 predicted...8_01 = ifelse(predicted...8 > 0.5, 1, 0),\n",
    "                                 predicted...9_01 = ifelse(predicted...9 > 0.5, 1, 0),\n",
    "                                 predicted...10_01 = ifelse(predicted...10 > 0.5, 1, 0),\n",
    "                                 predicted...11_01 = ifelse(predicted...11 > 0.5, 1, 0))"
   ]
  },
  {
   "cell_type": "code",
   "execution_count": 60,
   "id": "05bb2d6a-bbf1-4152-877d-a3710aff5961",
   "metadata": {},
   "outputs": [
    {
     "data": {
      "text/html": [
       "<ol class=list-inline>\n",
       "\t<li>0.205188679245283</li>\n",
       "\t<li>0.19811320754717</li>\n",
       "\t<li>0.224056603773585</li>\n",
       "\t<li>0.226415094339623</li>\n",
       "\t<li>0.214622641509434</li>\n",
       "\t<li>0.212264150943396</li>\n",
       "\t<li>0.214622641509434</li>\n",
       "\t<li>0.195754716981132</li>\n",
       "\t<li>0.216981132075472</li>\n",
       "\t<li>0.216981132075472</li>\n",
       "</ol>\n"
      ],
      "text/latex": [
       "\\begin{enumerate*}\n",
       "\\item 0.205188679245283\n",
       "\\item 0.19811320754717\n",
       "\\item 0.224056603773585\n",
       "\\item 0.226415094339623\n",
       "\\item 0.214622641509434\n",
       "\\item 0.212264150943396\n",
       "\\item 0.214622641509434\n",
       "\\item 0.195754716981132\n",
       "\\item 0.216981132075472\n",
       "\\item 0.216981132075472\n",
       "\\end{enumerate*}\n"
      ],
      "text/markdown": [
       "1. 0.205188679245283\n",
       "2. 0.19811320754717\n",
       "3. 0.224056603773585\n",
       "4. 0.226415094339623\n",
       "5. 0.214622641509434\n",
       "6. 0.212264150943396\n",
       "7. 0.214622641509434\n",
       "8. 0.195754716981132\n",
       "9. 0.216981132075472\n",
       "10. 0.216981132075472\n",
       "\n",
       "\n"
      ],
      "text/plain": [
       " [1] 0.2051887 0.1981132 0.2240566 0.2264151 0.2146226 0.2122642 0.2146226\n",
       " [8] 0.1957547 0.2169811 0.2169811"
      ]
     },
     "metadata": {},
     "output_type": "display_data"
    },
    {
     "data": {
      "text/html": [
       "'Mean error rate over 10 repetitions of 10-fold CV: 0.2125'"
      ],
      "text/latex": [
       "'Mean error rate over 10 repetitions of 10-fold CV: 0.2125'"
      ],
      "text/markdown": [
       "'Mean error rate over 10 repetitions of 10-fold CV: 0.2125'"
      ],
      "text/plain": [
       "[1] \"Mean error rate over 10 repetitions of 10-fold CV: 0.2125\""
      ]
     },
     "metadata": {},
     "output_type": "display_data"
    }
   ],
   "source": [
    "error_rates <- c(mean(results_01$observed != results_01$predicted...2_01), \n",
    "                mean(results_01$observed != results_01$predicted...3_01),\n",
    "               mean(results_01$observed != results_01$predicted...4_01),\n",
    "               mean(results_01$observed != results_01$predicted...5_01),\n",
    "               mean(results_01$observed != results_01$predicted...6_01),\n",
    "               mean(results_01$observed != results_01$predicted...7_01),\n",
    "               mean(results_01$observed != results_01$predicted...8_01),\n",
    "               mean(results_01$observed != results_01$predicted...9_01), \n",
    "               mean(results_01$observed != results_01$predicted...10_01), \n",
    "               mean(results_01$observed != results_01$predicted...11_01))\n",
    "\n",
    "error_rates\n",
    "\n",
    "paste(\"Mean error rate over 10 repetitions of 10-fold CV: \", mean(error_rates), sep = \"\")"
   ]
  },
  {
   "cell_type": "code",
   "execution_count": 61,
   "id": "c76a3931-a7e2-48a0-97c2-78e5906a16d8",
   "metadata": {},
   "outputs": [
    {
     "data": {
      "text/html": [
       "<ol class=list-inline>\n",
       "\t<li>0.794811320754717</li>\n",
       "\t<li>0.80188679245283</li>\n",
       "\t<li>0.775943396226415</li>\n",
       "\t<li>0.773584905660377</li>\n",
       "\t<li>0.785377358490566</li>\n",
       "\t<li>0.787735849056604</li>\n",
       "\t<li>0.785377358490566</li>\n",
       "\t<li>0.804245283018868</li>\n",
       "\t<li>0.783018867924528</li>\n",
       "\t<li>0.783018867924528</li>\n",
       "</ol>\n"
      ],
      "text/latex": [
       "\\begin{enumerate*}\n",
       "\\item 0.794811320754717\n",
       "\\item 0.80188679245283\n",
       "\\item 0.775943396226415\n",
       "\\item 0.773584905660377\n",
       "\\item 0.785377358490566\n",
       "\\item 0.787735849056604\n",
       "\\item 0.785377358490566\n",
       "\\item 0.804245283018868\n",
       "\\item 0.783018867924528\n",
       "\\item 0.783018867924528\n",
       "\\end{enumerate*}\n"
      ],
      "text/markdown": [
       "1. 0.794811320754717\n",
       "2. 0.80188679245283\n",
       "3. 0.775943396226415\n",
       "4. 0.773584905660377\n",
       "5. 0.785377358490566\n",
       "6. 0.787735849056604\n",
       "7. 0.785377358490566\n",
       "8. 0.804245283018868\n",
       "9. 0.783018867924528\n",
       "10. 0.783018867924528\n",
       "\n",
       "\n"
      ],
      "text/plain": [
       " [1] 0.7948113 0.8018868 0.7759434 0.7735849 0.7853774 0.7877358 0.7853774\n",
       " [8] 0.8042453 0.7830189 0.7830189"
      ]
     },
     "metadata": {},
     "output_type": "display_data"
    },
    {
     "data": {
      "text/html": [
       "'Mean accuracy over 10 repetitions of 10-fold CV: 0.7875'"
      ],
      "text/latex": [
       "'Mean accuracy over 10 repetitions of 10-fold CV: 0.7875'"
      ],
      "text/markdown": [
       "'Mean accuracy over 10 repetitions of 10-fold CV: 0.7875'"
      ],
      "text/plain": [
       "[1] \"Mean accuracy over 10 repetitions of 10-fold CV: 0.7875\""
      ]
     },
     "metadata": {},
     "output_type": "display_data"
    }
   ],
   "source": [
    "accuracies <- c(mean(results_01$observed == results_01$predicted...2_01),\n",
    "               mean(results_01$observed == results_01$predicted...3_01), \n",
    "               mean(results_01$observed == results_01$predicted...4_01),\n",
    "               mean(results_01$observed == results_01$predicted...5_01),\n",
    "               mean(results_01$observed == results_01$predicted...6_01),\n",
    "               mean(results_01$observed == results_01$predicted...7_01),\n",
    "               mean(results_01$observed == results_01$predicted...8_01),\n",
    "               mean(results_01$observed == results_01$predicted...9_01), \n",
    "               mean(results_01$observed == results_01$predicted...10_01), \n",
    "               mean(results_01$observed == results_01$predicted...11_01))\n",
    "\n",
    "accuracies\n",
    "paste(\"Mean accuracy over 10 repetitions of 10-fold CV: \", mean(accuracies), sep = \"\")"
   ]
  },
  {
   "cell_type": "code",
   "execution_count": null,
   "id": "014f8ea9-7a72-4dfb-9159-0ef352c732d7",
   "metadata": {},
   "outputs": [],
   "source": []
  }
 ],
 "metadata": {
  "kernelspec": {
   "display_name": "R",
   "language": "R",
   "name": "ir"
  },
  "language_info": {
   "codemirror_mode": "r",
   "file_extension": ".r",
   "mimetype": "text/x-r-source",
   "name": "R",
   "pygments_lexer": "r",
   "version": "3.6.1"
  }
 },
 "nbformat": 4,
 "nbformat_minor": 5
}
