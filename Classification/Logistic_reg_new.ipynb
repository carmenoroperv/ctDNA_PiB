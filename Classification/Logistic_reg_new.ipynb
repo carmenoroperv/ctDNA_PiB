{
 "cells": [
  {
   "cell_type": "code",
   "execution_count": 12,
   "id": "0a7212e1-146e-4107-a2a6-8429debcabc8",
   "metadata": {},
   "outputs": [],
   "source": [
    "library(tidyverse)"
   ]
  },
  {
   "cell_type": "code",
   "execution_count": 13,
   "id": "75946acb-7935-42ab-a8cc-1574f3396e19",
   "metadata": {},
   "outputs": [
    {
     "name": "stderr",
     "output_type": "stream",
     "text": [
      "ERROR while rich displaying an object: Error in sprintf(wrap, header, body): 'fmt' length exceeds maximal format length 8192\n",
      "\n",
      "Traceback:\n",
      "1. FUN(X[[i]], ...)\n",
      "2. tryCatch(withCallingHandlers({\n",
      " .     if (!mime %in% names(repr::mime2repr)) \n",
      " .         stop(\"No repr_* for mimetype \", mime, \" in repr::mime2repr\")\n",
      " .     rpr <- repr::mime2repr[[mime]](obj)\n",
      " .     if (is.null(rpr)) \n",
      " .         return(NULL)\n",
      " .     prepare_content(is.raw(rpr), rpr)\n",
      " . }, error = error_handler), error = outer_handler)\n",
      "3. tryCatchList(expr, classes, parentenv, handlers)\n",
      "4. tryCatchOne(expr, names, parentenv, handlers[[1L]])\n",
      "5. doTryCatch(return(expr), name, parentenv, handler)\n",
      "6. withCallingHandlers({\n",
      " .     if (!mime %in% names(repr::mime2repr)) \n",
      " .         stop(\"No repr_* for mimetype \", mime, \" in repr::mime2repr\")\n",
      " .     rpr <- repr::mime2repr[[mime]](obj)\n",
      " .     if (is.null(rpr)) \n",
      " .         return(NULL)\n",
      " .     prepare_content(is.raw(rpr), rpr)\n",
      " . }, error = error_handler)\n",
      "7. repr::mime2repr[[mime]](obj)\n",
      "8. repr_latex.data.frame(obj)\n",
      "9. repr_matrix_generic(obj, sprintf(\"\\\\begin{tabular}{%s}\\n%%s%%s\\\\end{tabular}\\n\", \n",
      " .     cols), \"%s\\\\\\\\\\n\\\\hline\\n\", \"  &\", \" %s &\", \"%s\", \"\\t%s\\\\\\\\\\n\", \n",
      " .     \"%s &\", \" %s &\", escape_fun = latex_escape_vec, ...)\n",
      "10. sprintf(wrap, header, body)\n"
     ]
    },
    {
     "data": {
      "text/html": [
       "<table>\n",
       "<thead><tr><th scope=col>sample</th><th scope=col>chr10_400</th><th scope=col>chr10_40</th><th scope=col>chr10_4</th><th scope=col>chr10_401</th><th scope=col>chr10_402</th><th scope=col>chr10_403</th><th scope=col>chr10_404</th><th scope=col>chr10_405</th><th scope=col>chr10_406</th><th scope=col>...</th><th scope=col>chr9_39</th><th scope=col>chr9_391</th><th scope=col>chr9_392</th><th scope=col>chr9_393</th><th scope=col>chr9_394</th><th scope=col>chr9_395</th><th scope=col>chr9_396</th><th scope=col>chr9_397</th><th scope=col>chr9_398</th><th scope=col>chr9_399</th></tr></thead>\n",
       "<tbody>\n",
       "\t<tr><td>PGDX10344P1 </td><td>0.08427648  </td><td> 0.2914859  </td><td>0.503882507 </td><td>0.34464717  </td><td> 0.03408323 </td><td>-0.54284331 </td><td> 0.53519960 </td><td>0.9745729   </td><td>0.6048278   </td><td>...         </td><td>-0.2700817  </td><td>0.3766711   </td><td>-0.63063641 </td><td> 0.33659526 </td><td> 0.12752990 </td><td>0.2084073   </td><td>-0.37651160 </td><td> 0.403003567</td><td>-0.10853903 </td><td>-0.01829979 </td></tr>\n",
       "\t<tr><td>PGDX10346P1 </td><td>0.61292318  </td><td> 0.7452392  </td><td>0.413790766 </td><td>0.43378568  </td><td>-0.13801722 </td><td> 0.06545494 </td><td> 0.45860461 </td><td>0.8203058   </td><td>0.1162204   </td><td>...         </td><td> 0.6093270  </td><td>0.4899332   </td><td> 0.05968031 </td><td> 0.59291900 </td><td> 0.07023711 </td><td>0.6085105   </td><td> 0.98506423 </td><td>-0.005759999</td><td> 0.01104761 </td><td> 0.28993687 </td></tr>\n",
       "\t<tr><td>PGDX10349P1 </td><td>0.61305494  </td><td> 0.5148369  </td><td>0.799571747 </td><td>0.06067023  </td><td> 0.75141821 </td><td> 0.60690576 </td><td>-0.02692026 </td><td>0.3386473   </td><td>0.7105827   </td><td>...         </td><td> 0.3823360  </td><td>0.2675127   </td><td>-0.10112769 </td><td> 0.58347543 </td><td> 0.02472904 </td><td>0.7211271   </td><td> 0.80769843 </td><td> 0.761955796</td><td> 0.51281518 </td><td> 0.73932700 </td></tr>\n",
       "\t<tr><td>PGDX10351P1 </td><td>1.17170931  </td><td>-0.3053220  </td><td>0.427357622 </td><td>0.39145678  </td><td> 0.44054111 </td><td> 0.57584482 </td><td> 0.29342942 </td><td>0.7537365   </td><td>0.6718554   </td><td>...         </td><td> 0.9206978  </td><td>0.9802743   </td><td> 0.07633972 </td><td> 0.69291243 </td><td> 0.78780844 </td><td>1.1123355   </td><td> 1.50036730 </td><td> 1.040823890</td><td>-0.05172627 </td><td> 1.15761310 </td></tr>\n",
       "\t<tr><td>PGDX10566P  </td><td>0.19061377  </td><td>-0.4074954  </td><td>0.995783893 </td><td>0.36575793  </td><td> 1.03628839 </td><td> 0.50729400 </td><td> 0.43265392 </td><td>0.1117235   </td><td>0.3555016   </td><td>...         </td><td> 0.6517154  </td><td>0.1816927   </td><td> 0.26159702 </td><td>-0.05974572 </td><td> 0.94452430 </td><td>0.6961362   </td><td> 1.26232219 </td><td>-0.164976948</td><td> 0.34642457 </td><td>-0.31897805 </td></tr>\n",
       "\t<tr><td>PGDX10567P  </td><td>0.72094729  </td><td> 0.2472231  </td><td>0.002962365 </td><td>0.46051753  </td><td> 0.16798755 </td><td> 0.52130927 </td><td> 0.52202255 </td><td>0.3690321   </td><td>0.7646320   </td><td>...         </td><td> 0.8807153  </td><td>0.5695374   </td><td> 0.38266367 </td><td> 1.22879115 </td><td>-0.18732814 </td><td>0.9083466   </td><td> 0.03563657 </td><td> 0.053529393</td><td> 0.13682474 </td><td> 0.58407125 </td></tr>\n",
       "</tbody>\n",
       "</table>\n"
      ],
      "text/markdown": [
       "\n",
       "| sample | chr10_400 | chr10_40 | chr10_4 | chr10_401 | chr10_402 | chr10_403 | chr10_404 | chr10_405 | chr10_406 | ... | chr9_39 | chr9_391 | chr9_392 | chr9_393 | chr9_394 | chr9_395 | chr9_396 | chr9_397 | chr9_398 | chr9_399 |\n",
       "|---|---|---|---|---|---|---|---|---|---|---|---|---|---|---|---|---|---|---|---|---|\n",
       "| PGDX10344P1  | 0.08427648   |  0.2914859   | 0.503882507  | 0.34464717   |  0.03408323  | -0.54284331  |  0.53519960  | 0.9745729    | 0.6048278    | ...          | -0.2700817   | 0.3766711    | -0.63063641  |  0.33659526  |  0.12752990  | 0.2084073    | -0.37651160  |  0.403003567 | -0.10853903  | -0.01829979  |\n",
       "| PGDX10346P1  | 0.61292318   |  0.7452392   | 0.413790766  | 0.43378568   | -0.13801722  |  0.06545494  |  0.45860461  | 0.8203058    | 0.1162204    | ...          |  0.6093270   | 0.4899332    |  0.05968031  |  0.59291900  |  0.07023711  | 0.6085105    |  0.98506423  | -0.005759999 |  0.01104761  |  0.28993687  |\n",
       "| PGDX10349P1  | 0.61305494   |  0.5148369   | 0.799571747  | 0.06067023   |  0.75141821  |  0.60690576  | -0.02692026  | 0.3386473    | 0.7105827    | ...          |  0.3823360   | 0.2675127    | -0.10112769  |  0.58347543  |  0.02472904  | 0.7211271    |  0.80769843  |  0.761955796 |  0.51281518  |  0.73932700  |\n",
       "| PGDX10351P1  | 1.17170931   | -0.3053220   | 0.427357622  | 0.39145678   |  0.44054111  |  0.57584482  |  0.29342942  | 0.7537365    | 0.6718554    | ...          |  0.9206978   | 0.9802743    |  0.07633972  |  0.69291243  |  0.78780844  | 1.1123355    |  1.50036730  |  1.040823890 | -0.05172627  |  1.15761310  |\n",
       "| PGDX10566P   | 0.19061377   | -0.4074954   | 0.995783893  | 0.36575793   |  1.03628839  |  0.50729400  |  0.43265392  | 0.1117235    | 0.3555016    | ...          |  0.6517154   | 0.1816927    |  0.26159702  | -0.05974572  |  0.94452430  | 0.6961362    |  1.26232219  | -0.164976948 |  0.34642457  | -0.31897805  |\n",
       "| PGDX10567P   | 0.72094729   |  0.2472231   | 0.002962365  | 0.46051753   |  0.16798755  |  0.52130927  |  0.52202255  | 0.3690321    | 0.7646320    | ...          |  0.8807153   | 0.5695374    |  0.38266367  |  1.22879115  | -0.18732814  | 0.9083466    |  0.03563657  |  0.053529393 |  0.13682474  |  0.58407125  |\n",
       "\n"
      ],
      "text/plain": [
       "  sample      chr10_400  chr10_40   chr10_4     chr10_401  chr10_402  \n",
       "1 PGDX10344P1 0.08427648  0.2914859 0.503882507 0.34464717  0.03408323\n",
       "2 PGDX10346P1 0.61292318  0.7452392 0.413790766 0.43378568 -0.13801722\n",
       "3 PGDX10349P1 0.61305494  0.5148369 0.799571747 0.06067023  0.75141821\n",
       "4 PGDX10351P1 1.17170931 -0.3053220 0.427357622 0.39145678  0.44054111\n",
       "5 PGDX10566P  0.19061377 -0.4074954 0.995783893 0.36575793  1.03628839\n",
       "6 PGDX10567P  0.72094729  0.2472231 0.002962365 0.46051753  0.16798755\n",
       "  chr10_403   chr10_404   chr10_405 chr10_406 ... chr9_39    chr9_391 \n",
       "1 -0.54284331  0.53519960 0.9745729 0.6048278 ... -0.2700817 0.3766711\n",
       "2  0.06545494  0.45860461 0.8203058 0.1162204 ...  0.6093270 0.4899332\n",
       "3  0.60690576 -0.02692026 0.3386473 0.7105827 ...  0.3823360 0.2675127\n",
       "4  0.57584482  0.29342942 0.7537365 0.6718554 ...  0.9206978 0.9802743\n",
       "5  0.50729400  0.43265392 0.1117235 0.3555016 ...  0.6517154 0.1816927\n",
       "6  0.52130927  0.52202255 0.3690321 0.7646320 ...  0.8807153 0.5695374\n",
       "  chr9_392    chr9_393    chr9_394    chr9_395  chr9_396    chr9_397    \n",
       "1 -0.63063641  0.33659526  0.12752990 0.2084073 -0.37651160  0.403003567\n",
       "2  0.05968031  0.59291900  0.07023711 0.6085105  0.98506423 -0.005759999\n",
       "3 -0.10112769  0.58347543  0.02472904 0.7211271  0.80769843  0.761955796\n",
       "4  0.07633972  0.69291243  0.78780844 1.1123355  1.50036730  1.040823890\n",
       "5  0.26159702 -0.05974572  0.94452430 0.6961362  1.26232219 -0.164976948\n",
       "6  0.38266367  1.22879115 -0.18732814 0.9083466  0.03563657  0.053529393\n",
       "  chr9_398    chr9_399   \n",
       "1 -0.10853903 -0.01829979\n",
       "2  0.01104761  0.28993687\n",
       "3  0.51281518  0.73932700\n",
       "4 -0.05172627  1.15761310\n",
       "5  0.34642457 -0.31897805\n",
       "6  0.13682474  0.58407125"
      ]
     },
     "metadata": {},
     "output_type": "display_data"
    }
   ],
   "source": [
    "lasso_pred <- read.csv(\"../data/ATAC_predictions_on_all_samples/ATAC_pred_lasso_std_FALSE_formatted.csv\")\n",
    "head(lasso_pred)"
   ]
  },
  {
   "cell_type": "code",
   "execution_count": 14,
   "id": "9e1a69c5-3ac6-4648-9f68-7454768f07f3",
   "metadata": {},
   "outputs": [
    {
     "data": {
      "text/html": [
       "<table>\n",
       "<thead><tr><th scope=col>sample</th><th scope=col>sample_type</th></tr></thead>\n",
       "<tbody>\n",
       "\t<tr><td>PGDX10344P1   </td><td>Gastric_cancer</td></tr>\n",
       "\t<tr><td>PGDX10346P1   </td><td>Gastric_cancer</td></tr>\n",
       "\t<tr><td>PGDX10349P1   </td><td>Gastric_cancer</td></tr>\n",
       "\t<tr><td>PGDX10351P1   </td><td>Gastric_cancer</td></tr>\n",
       "\t<tr><td>PGDX10566P    </td><td>Ovarian_Cancer</td></tr>\n",
       "\t<tr><td>PGDX10567P    </td><td>Ovarian_Cancer</td></tr>\n",
       "</tbody>\n",
       "</table>\n"
      ],
      "text/latex": [
       "\\begin{tabular}{r|ll}\n",
       " sample & sample\\_type\\\\\n",
       "\\hline\n",
       "\t PGDX10344P1      & Gastric\\_cancer\\\\\n",
       "\t PGDX10346P1      & Gastric\\_cancer\\\\\n",
       "\t PGDX10349P1      & Gastric\\_cancer\\\\\n",
       "\t PGDX10351P1      & Gastric\\_cancer\\\\\n",
       "\t PGDX10566P       & Ovarian\\_Cancer\\\\\n",
       "\t PGDX10567P       & Ovarian\\_Cancer\\\\\n",
       "\\end{tabular}\n"
      ],
      "text/markdown": [
       "\n",
       "| sample | sample_type |\n",
       "|---|---|\n",
       "| PGDX10344P1    | Gastric_cancer |\n",
       "| PGDX10346P1    | Gastric_cancer |\n",
       "| PGDX10349P1    | Gastric_cancer |\n",
       "| PGDX10351P1    | Gastric_cancer |\n",
       "| PGDX10566P     | Ovarian_Cancer |\n",
       "| PGDX10567P     | Ovarian_Cancer |\n",
       "\n"
      ],
      "text/plain": [
       "  sample      sample_type   \n",
       "1 PGDX10344P1 Gastric_cancer\n",
       "2 PGDX10346P1 Gastric_cancer\n",
       "3 PGDX10349P1 Gastric_cancer\n",
       "4 PGDX10351P1 Gastric_cancer\n",
       "5 PGDX10566P  Ovarian_Cancer\n",
       "6 PGDX10567P  Ovarian_Cancer"
      ]
     },
     "metadata": {},
     "output_type": "display_data"
    }
   ],
   "source": [
    "sample_types <- read.table(\"../data/sample_types.txt\", header = F, sep = \" \")\n",
    "colnames(sample_types) <- c(\"sample\", \"sample_type\")\n",
    "head(sample_types)"
   ]
  },
  {
   "cell_type": "code",
   "execution_count": 15,
   "id": "38db9102-93f3-4e24-ac17-211444533bb9",
   "metadata": {},
   "outputs": [
    {
     "name": "stderr",
     "output_type": "stream",
     "text": [
      "ERROR while rich displaying an object: Error in sprintf(wrap, header, body): 'fmt' length exceeds maximal format length 8192\n",
      "\n",
      "Traceback:\n",
      "1. FUN(X[[i]], ...)\n",
      "2. tryCatch(withCallingHandlers({\n",
      " .     if (!mime %in% names(repr::mime2repr)) \n",
      " .         stop(\"No repr_* for mimetype \", mime, \" in repr::mime2repr\")\n",
      " .     rpr <- repr::mime2repr[[mime]](obj)\n",
      " .     if (is.null(rpr)) \n",
      " .         return(NULL)\n",
      " .     prepare_content(is.raw(rpr), rpr)\n",
      " . }, error = error_handler), error = outer_handler)\n",
      "3. tryCatchList(expr, classes, parentenv, handlers)\n",
      "4. tryCatchOne(expr, names, parentenv, handlers[[1L]])\n",
      "5. doTryCatch(return(expr), name, parentenv, handler)\n",
      "6. withCallingHandlers({\n",
      " .     if (!mime %in% names(repr::mime2repr)) \n",
      " .         stop(\"No repr_* for mimetype \", mime, \" in repr::mime2repr\")\n",
      " .     rpr <- repr::mime2repr[[mime]](obj)\n",
      " .     if (is.null(rpr)) \n",
      " .         return(NULL)\n",
      " .     prepare_content(is.raw(rpr), rpr)\n",
      " . }, error = error_handler)\n",
      "7. repr::mime2repr[[mime]](obj)\n",
      "8. repr_latex.data.frame(obj)\n",
      "9. repr_matrix_generic(obj, sprintf(\"\\\\begin{tabular}{%s}\\n%%s%%s\\\\end{tabular}\\n\", \n",
      " .     cols), \"%s\\\\\\\\\\n\\\\hline\\n\", \"  &\", \" %s &\", \"%s\", \"\\t%s\\\\\\\\\\n\", \n",
      " .     \"%s &\", \" %s &\", escape_fun = latex_escape_vec, ...)\n",
      "10. sprintf(wrap, header, body)\n"
     ]
    },
    {
     "data": {
      "text/html": [
       "<table>\n",
       "<thead><tr><th scope=col>sample</th><th scope=col>chr10_400</th><th scope=col>chr10_40</th><th scope=col>chr10_4</th><th scope=col>chr10_401</th><th scope=col>chr10_402</th><th scope=col>chr10_403</th><th scope=col>chr10_404</th><th scope=col>chr10_405</th><th scope=col>chr10_406</th><th scope=col>...</th><th scope=col>chr9_392</th><th scope=col>chr9_393</th><th scope=col>chr9_394</th><th scope=col>chr9_395</th><th scope=col>chr9_396</th><th scope=col>chr9_397</th><th scope=col>chr9_398</th><th scope=col>chr9_399</th><th scope=col>sample_type</th><th scope=col>sample_type01</th></tr></thead>\n",
       "<tbody>\n",
       "\t<tr><td>PGDX10344P1   </td><td>0.08427648    </td><td> 0.2914859    </td><td>0.503882507   </td><td>0.34464717    </td><td> 0.03408323   </td><td>-0.54284331   </td><td> 0.53519960   </td><td>0.9745729     </td><td>0.6048278     </td><td>...           </td><td>-0.63063641   </td><td> 0.33659526   </td><td> 0.12752990   </td><td>0.2084073     </td><td>-0.37651160   </td><td> 0.403003567  </td><td>-0.10853903   </td><td>-0.01829979   </td><td>Gastric_cancer</td><td>1             </td></tr>\n",
       "\t<tr><td>PGDX10346P1   </td><td>0.61292318    </td><td> 0.7452392    </td><td>0.413790766   </td><td>0.43378568    </td><td>-0.13801722   </td><td> 0.06545494   </td><td> 0.45860461   </td><td>0.8203058     </td><td>0.1162204     </td><td>...           </td><td> 0.05968031   </td><td> 0.59291900   </td><td> 0.07023711   </td><td>0.6085105     </td><td> 0.98506423   </td><td>-0.005759999  </td><td> 0.01104761   </td><td> 0.28993687   </td><td>Gastric_cancer</td><td>1             </td></tr>\n",
       "\t<tr><td>PGDX10349P1   </td><td>0.61305494    </td><td> 0.5148369    </td><td>0.799571747   </td><td>0.06067023    </td><td> 0.75141821   </td><td> 0.60690576   </td><td>-0.02692026   </td><td>0.3386473     </td><td>0.7105827     </td><td>...           </td><td>-0.10112769   </td><td> 0.58347543   </td><td> 0.02472904   </td><td>0.7211271     </td><td> 0.80769843   </td><td> 0.761955796  </td><td> 0.51281518   </td><td> 0.73932700   </td><td>Gastric_cancer</td><td>1             </td></tr>\n",
       "\t<tr><td>PGDX10351P1   </td><td>1.17170931    </td><td>-0.3053220    </td><td>0.427357622   </td><td>0.39145678    </td><td> 0.44054111   </td><td> 0.57584482   </td><td> 0.29342942   </td><td>0.7537365     </td><td>0.6718554     </td><td>...           </td><td> 0.07633972   </td><td> 0.69291243   </td><td> 0.78780844   </td><td>1.1123355     </td><td> 1.50036730   </td><td> 1.040823890  </td><td>-0.05172627   </td><td> 1.15761310   </td><td>Gastric_cancer</td><td>1             </td></tr>\n",
       "\t<tr><td>PGDX10566P    </td><td>0.19061377    </td><td>-0.4074954    </td><td>0.995783893   </td><td>0.36575793    </td><td> 1.03628839   </td><td> 0.50729400   </td><td> 0.43265392   </td><td>0.1117235     </td><td>0.3555016     </td><td>...           </td><td> 0.26159702   </td><td>-0.05974572   </td><td> 0.94452430   </td><td>0.6961362     </td><td> 1.26232219   </td><td>-0.164976948  </td><td> 0.34642457   </td><td>-0.31897805   </td><td>Ovarian_Cancer</td><td>1             </td></tr>\n",
       "\t<tr><td>PGDX10567P    </td><td>0.72094729    </td><td> 0.2472231    </td><td>0.002962365   </td><td>0.46051753    </td><td> 0.16798755   </td><td> 0.52130927   </td><td> 0.52202255   </td><td>0.3690321     </td><td>0.7646320     </td><td>...           </td><td> 0.38266367   </td><td> 1.22879115   </td><td>-0.18732814   </td><td>0.9083466     </td><td> 0.03563657   </td><td> 0.053529393  </td><td> 0.13682474   </td><td> 0.58407125   </td><td>Ovarian_Cancer</td><td>1             </td></tr>\n",
       "</tbody>\n",
       "</table>\n"
      ],
      "text/markdown": [
       "\n",
       "| sample | chr10_400 | chr10_40 | chr10_4 | chr10_401 | chr10_402 | chr10_403 | chr10_404 | chr10_405 | chr10_406 | ... | chr9_392 | chr9_393 | chr9_394 | chr9_395 | chr9_396 | chr9_397 | chr9_398 | chr9_399 | sample_type | sample_type01 |\n",
       "|---|---|---|---|---|---|---|---|---|---|---|---|---|---|---|---|---|---|---|---|---|\n",
       "| PGDX10344P1    | 0.08427648     |  0.2914859     | 0.503882507    | 0.34464717     |  0.03408323    | -0.54284331    |  0.53519960    | 0.9745729      | 0.6048278      | ...            | -0.63063641    |  0.33659526    |  0.12752990    | 0.2084073      | -0.37651160    |  0.403003567   | -0.10853903    | -0.01829979    | Gastric_cancer | 1              |\n",
       "| PGDX10346P1    | 0.61292318     |  0.7452392     | 0.413790766    | 0.43378568     | -0.13801722    |  0.06545494    |  0.45860461    | 0.8203058      | 0.1162204      | ...            |  0.05968031    |  0.59291900    |  0.07023711    | 0.6085105      |  0.98506423    | -0.005759999   |  0.01104761    |  0.28993687    | Gastric_cancer | 1              |\n",
       "| PGDX10349P1    | 0.61305494     |  0.5148369     | 0.799571747    | 0.06067023     |  0.75141821    |  0.60690576    | -0.02692026    | 0.3386473      | 0.7105827      | ...            | -0.10112769    |  0.58347543    |  0.02472904    | 0.7211271      |  0.80769843    |  0.761955796   |  0.51281518    |  0.73932700    | Gastric_cancer | 1              |\n",
       "| PGDX10351P1    | 1.17170931     | -0.3053220     | 0.427357622    | 0.39145678     |  0.44054111    |  0.57584482    |  0.29342942    | 0.7537365      | 0.6718554      | ...            |  0.07633972    |  0.69291243    |  0.78780844    | 1.1123355      |  1.50036730    |  1.040823890   | -0.05172627    |  1.15761310    | Gastric_cancer | 1              |\n",
       "| PGDX10566P     | 0.19061377     | -0.4074954     | 0.995783893    | 0.36575793     |  1.03628839    |  0.50729400    |  0.43265392    | 0.1117235      | 0.3555016      | ...            |  0.26159702    | -0.05974572    |  0.94452430    | 0.6961362      |  1.26232219    | -0.164976948   |  0.34642457    | -0.31897805    | Ovarian_Cancer | 1              |\n",
       "| PGDX10567P     | 0.72094729     |  0.2472231     | 0.002962365    | 0.46051753     |  0.16798755    |  0.52130927    |  0.52202255    | 0.3690321      | 0.7646320      | ...            |  0.38266367    |  1.22879115    | -0.18732814    | 0.9083466      |  0.03563657    |  0.053529393   |  0.13682474    |  0.58407125    | Ovarian_Cancer | 1              |\n",
       "\n"
      ],
      "text/plain": [
       "  sample      chr10_400  chr10_40   chr10_4     chr10_401  chr10_402  \n",
       "1 PGDX10344P1 0.08427648  0.2914859 0.503882507 0.34464717  0.03408323\n",
       "2 PGDX10346P1 0.61292318  0.7452392 0.413790766 0.43378568 -0.13801722\n",
       "3 PGDX10349P1 0.61305494  0.5148369 0.799571747 0.06067023  0.75141821\n",
       "4 PGDX10351P1 1.17170931 -0.3053220 0.427357622 0.39145678  0.44054111\n",
       "5 PGDX10566P  0.19061377 -0.4074954 0.995783893 0.36575793  1.03628839\n",
       "6 PGDX10567P  0.72094729  0.2472231 0.002962365 0.46051753  0.16798755\n",
       "  chr10_403   chr10_404   chr10_405 chr10_406 ... chr9_392    chr9_393   \n",
       "1 -0.54284331  0.53519960 0.9745729 0.6048278 ... -0.63063641  0.33659526\n",
       "2  0.06545494  0.45860461 0.8203058 0.1162204 ...  0.05968031  0.59291900\n",
       "3  0.60690576 -0.02692026 0.3386473 0.7105827 ... -0.10112769  0.58347543\n",
       "4  0.57584482  0.29342942 0.7537365 0.6718554 ...  0.07633972  0.69291243\n",
       "5  0.50729400  0.43265392 0.1117235 0.3555016 ...  0.26159702 -0.05974572\n",
       "6  0.52130927  0.52202255 0.3690321 0.7646320 ...  0.38266367  1.22879115\n",
       "  chr9_394    chr9_395  chr9_396    chr9_397     chr9_398    chr9_399   \n",
       "1  0.12752990 0.2084073 -0.37651160  0.403003567 -0.10853903 -0.01829979\n",
       "2  0.07023711 0.6085105  0.98506423 -0.005759999  0.01104761  0.28993687\n",
       "3  0.02472904 0.7211271  0.80769843  0.761955796  0.51281518  0.73932700\n",
       "4  0.78780844 1.1123355  1.50036730  1.040823890 -0.05172627  1.15761310\n",
       "5  0.94452430 0.6961362  1.26232219 -0.164976948  0.34642457 -0.31897805\n",
       "6 -0.18732814 0.9083466  0.03563657  0.053529393  0.13682474  0.58407125\n",
       "  sample_type    sample_type01\n",
       "1 Gastric_cancer 1            \n",
       "2 Gastric_cancer 1            \n",
       "3 Gastric_cancer 1            \n",
       "4 Gastric_cancer 1            \n",
       "5 Ovarian_Cancer 1            \n",
       "6 Ovarian_Cancer 1            "
      ]
     },
     "metadata": {},
     "output_type": "display_data"
    }
   ],
   "source": [
    "data <- merge(lasso_pred, sample_types, by=\"sample\")\n",
    "data <- data %>% mutate(sample_type01 = ifelse(sample_type == \"Healthy\", 0, 1))\n",
    "head(data)"
   ]
  },
  {
   "cell_type": "code",
   "execution_count": 16,
   "id": "afe2403e-8519-4079-beaa-7b716d0f1640",
   "metadata": {},
   "outputs": [],
   "source": [
    "data <- data %>% select(-sample_type)"
   ]
  },
  {
   "cell_type": "code",
   "execution_count": 17,
   "id": "394c167b-c24b-4708-aad4-061ee371d9c4",
   "metadata": {},
   "outputs": [
    {
     "name": "stderr",
     "output_type": "stream",
     "text": [
      "ERROR while rich displaying an object: Error in sprintf(wrap, header, body): 'fmt' length exceeds maximal format length 8192\n",
      "\n",
      "Traceback:\n",
      "1. FUN(X[[i]], ...)\n",
      "2. tryCatch(withCallingHandlers({\n",
      " .     if (!mime %in% names(repr::mime2repr)) \n",
      " .         stop(\"No repr_* for mimetype \", mime, \" in repr::mime2repr\")\n",
      " .     rpr <- repr::mime2repr[[mime]](obj)\n",
      " .     if (is.null(rpr)) \n",
      " .         return(NULL)\n",
      " .     prepare_content(is.raw(rpr), rpr)\n",
      " . }, error = error_handler), error = outer_handler)\n",
      "3. tryCatchList(expr, classes, parentenv, handlers)\n",
      "4. tryCatchOne(expr, names, parentenv, handlers[[1L]])\n",
      "5. doTryCatch(return(expr), name, parentenv, handler)\n",
      "6. withCallingHandlers({\n",
      " .     if (!mime %in% names(repr::mime2repr)) \n",
      " .         stop(\"No repr_* for mimetype \", mime, \" in repr::mime2repr\")\n",
      " .     rpr <- repr::mime2repr[[mime]](obj)\n",
      " .     if (is.null(rpr)) \n",
      " .         return(NULL)\n",
      " .     prepare_content(is.raw(rpr), rpr)\n",
      " . }, error = error_handler)\n",
      "7. repr::mime2repr[[mime]](obj)\n",
      "8. repr_latex.data.frame(obj)\n",
      "9. repr_matrix_generic(obj, sprintf(\"\\\\begin{tabular}{%s}\\n%%s%%s\\\\end{tabular}\\n\", \n",
      " .     cols), \"%s\\\\\\\\\\n\\\\hline\\n\", \"  &\", \" %s &\", \"%s\", \"\\t%s\\\\\\\\\\n\", \n",
      " .     \"%s &\", \" %s &\", escape_fun = latex_escape_vec, ...)\n",
      "10. sprintf(wrap, header, body)\n"
     ]
    },
    {
     "data": {
      "text/html": [
       "<table>\n",
       "<thead><tr><th scope=col>chr10_400</th><th scope=col>chr10_40</th><th scope=col>chr10_4</th><th scope=col>chr10_401</th><th scope=col>chr10_402</th><th scope=col>chr10_403</th><th scope=col>chr10_404</th><th scope=col>chr10_405</th><th scope=col>chr10_406</th><th scope=col>chr10_407</th><th scope=col>...</th><th scope=col>chr9_391</th><th scope=col>chr9_392</th><th scope=col>chr9_393</th><th scope=col>chr9_394</th><th scope=col>chr9_395</th><th scope=col>chr9_396</th><th scope=col>chr9_397</th><th scope=col>chr9_398</th><th scope=col>chr9_399</th><th scope=col>sample_type01</th></tr></thead>\n",
       "<tbody>\n",
       "\t<tr><td>0.08427648  </td><td> 0.2914859  </td><td>0.503882507 </td><td>0.34464717  </td><td> 0.03408323 </td><td>-0.54284331 </td><td> 0.53519960 </td><td>0.9745729   </td><td>0.6048278   </td><td>0.9146510   </td><td>...         </td><td>0.3766711   </td><td>-0.63063641 </td><td> 0.33659526 </td><td> 0.12752990 </td><td>0.2084073   </td><td>-0.37651160 </td><td> 0.403003567</td><td>-0.10853903 </td><td>-0.01829979 </td><td>1           </td></tr>\n",
       "\t<tr><td>0.61292318  </td><td> 0.7452392  </td><td>0.413790766 </td><td>0.43378568  </td><td>-0.13801722 </td><td> 0.06545494 </td><td> 0.45860461 </td><td>0.8203058   </td><td>0.1162204   </td><td>0.5124758   </td><td>...         </td><td>0.4899332   </td><td> 0.05968031 </td><td> 0.59291900 </td><td> 0.07023711 </td><td>0.6085105   </td><td> 0.98506423 </td><td>-0.005759999</td><td> 0.01104761 </td><td> 0.28993687 </td><td>1           </td></tr>\n",
       "\t<tr><td>0.61305494  </td><td> 0.5148369  </td><td>0.799571747 </td><td>0.06067023  </td><td> 0.75141821 </td><td> 0.60690576 </td><td>-0.02692026 </td><td>0.3386473   </td><td>0.7105827   </td><td>0.3708262   </td><td>...         </td><td>0.2675127   </td><td>-0.10112769 </td><td> 0.58347543 </td><td> 0.02472904 </td><td>0.7211271   </td><td> 0.80769843 </td><td> 0.761955796</td><td> 0.51281518 </td><td> 0.73932700 </td><td>1           </td></tr>\n",
       "\t<tr><td>1.17170931  </td><td>-0.3053220  </td><td>0.427357622 </td><td>0.39145678  </td><td> 0.44054111 </td><td> 0.57584482 </td><td> 0.29342942 </td><td>0.7537365   </td><td>0.6718554   </td><td>0.3964282   </td><td>...         </td><td>0.9802743   </td><td> 0.07633972 </td><td> 0.69291243 </td><td> 0.78780844 </td><td>1.1123355   </td><td> 1.50036730 </td><td> 1.040823890</td><td>-0.05172627 </td><td> 1.15761310 </td><td>1           </td></tr>\n",
       "\t<tr><td>0.19061377  </td><td>-0.4074954  </td><td>0.995783893 </td><td>0.36575793  </td><td> 1.03628839 </td><td> 0.50729400 </td><td> 0.43265392 </td><td>0.1117235   </td><td>0.3555016   </td><td>0.4477153   </td><td>...         </td><td>0.1816927   </td><td> 0.26159702 </td><td>-0.05974572 </td><td> 0.94452430 </td><td>0.6961362   </td><td> 1.26232219 </td><td>-0.164976948</td><td> 0.34642457 </td><td>-0.31897805 </td><td>1           </td></tr>\n",
       "\t<tr><td>0.72094729  </td><td> 0.2472231  </td><td>0.002962365 </td><td>0.46051753  </td><td> 0.16798755 </td><td> 0.52130927 </td><td> 0.52202255 </td><td>0.3690321   </td><td>0.7646320   </td><td>0.4401800   </td><td>...         </td><td>0.5695374   </td><td> 0.38266367 </td><td> 1.22879115 </td><td>-0.18732814 </td><td>0.9083466   </td><td> 0.03563657 </td><td> 0.053529393</td><td> 0.13682474 </td><td> 0.58407125 </td><td>1           </td></tr>\n",
       "</tbody>\n",
       "</table>\n"
      ],
      "text/markdown": [
       "\n",
       "| chr10_400 | chr10_40 | chr10_4 | chr10_401 | chr10_402 | chr10_403 | chr10_404 | chr10_405 | chr10_406 | chr10_407 | ... | chr9_391 | chr9_392 | chr9_393 | chr9_394 | chr9_395 | chr9_396 | chr9_397 | chr9_398 | chr9_399 | sample_type01 |\n",
       "|---|---|---|---|---|---|---|---|---|---|---|---|---|---|---|---|---|---|---|---|---|\n",
       "| 0.08427648   |  0.2914859   | 0.503882507  | 0.34464717   |  0.03408323  | -0.54284331  |  0.53519960  | 0.9745729    | 0.6048278    | 0.9146510    | ...          | 0.3766711    | -0.63063641  |  0.33659526  |  0.12752990  | 0.2084073    | -0.37651160  |  0.403003567 | -0.10853903  | -0.01829979  | 1            |\n",
       "| 0.61292318   |  0.7452392   | 0.413790766  | 0.43378568   | -0.13801722  |  0.06545494  |  0.45860461  | 0.8203058    | 0.1162204    | 0.5124758    | ...          | 0.4899332    |  0.05968031  |  0.59291900  |  0.07023711  | 0.6085105    |  0.98506423  | -0.005759999 |  0.01104761  |  0.28993687  | 1            |\n",
       "| 0.61305494   |  0.5148369   | 0.799571747  | 0.06067023   |  0.75141821  |  0.60690576  | -0.02692026  | 0.3386473    | 0.7105827    | 0.3708262    | ...          | 0.2675127    | -0.10112769  |  0.58347543  |  0.02472904  | 0.7211271    |  0.80769843  |  0.761955796 |  0.51281518  |  0.73932700  | 1            |\n",
       "| 1.17170931   | -0.3053220   | 0.427357622  | 0.39145678   |  0.44054111  |  0.57584482  |  0.29342942  | 0.7537365    | 0.6718554    | 0.3964282    | ...          | 0.9802743    |  0.07633972  |  0.69291243  |  0.78780844  | 1.1123355    |  1.50036730  |  1.040823890 | -0.05172627  |  1.15761310  | 1            |\n",
       "| 0.19061377   | -0.4074954   | 0.995783893  | 0.36575793   |  1.03628839  |  0.50729400  |  0.43265392  | 0.1117235    | 0.3555016    | 0.4477153    | ...          | 0.1816927    |  0.26159702  | -0.05974572  |  0.94452430  | 0.6961362    |  1.26232219  | -0.164976948 |  0.34642457  | -0.31897805  | 1            |\n",
       "| 0.72094729   |  0.2472231   | 0.002962365  | 0.46051753   |  0.16798755  |  0.52130927  |  0.52202255  | 0.3690321    | 0.7646320    | 0.4401800    | ...          | 0.5695374    |  0.38266367  |  1.22879115  | -0.18732814  | 0.9083466    |  0.03563657  |  0.053529393 |  0.13682474  |  0.58407125  | 1            |\n",
       "\n"
      ],
      "text/plain": [
       "  chr10_400  chr10_40   chr10_4     chr10_401  chr10_402   chr10_403  \n",
       "1 0.08427648  0.2914859 0.503882507 0.34464717  0.03408323 -0.54284331\n",
       "2 0.61292318  0.7452392 0.413790766 0.43378568 -0.13801722  0.06545494\n",
       "3 0.61305494  0.5148369 0.799571747 0.06067023  0.75141821  0.60690576\n",
       "4 1.17170931 -0.3053220 0.427357622 0.39145678  0.44054111  0.57584482\n",
       "5 0.19061377 -0.4074954 0.995783893 0.36575793  1.03628839  0.50729400\n",
       "6 0.72094729  0.2472231 0.002962365 0.46051753  0.16798755  0.52130927\n",
       "  chr10_404   chr10_405 chr10_406 chr10_407 ... chr9_391  chr9_392   \n",
       "1  0.53519960 0.9745729 0.6048278 0.9146510 ... 0.3766711 -0.63063641\n",
       "2  0.45860461 0.8203058 0.1162204 0.5124758 ... 0.4899332  0.05968031\n",
       "3 -0.02692026 0.3386473 0.7105827 0.3708262 ... 0.2675127 -0.10112769\n",
       "4  0.29342942 0.7537365 0.6718554 0.3964282 ... 0.9802743  0.07633972\n",
       "5  0.43265392 0.1117235 0.3555016 0.4477153 ... 0.1816927  0.26159702\n",
       "6  0.52202255 0.3690321 0.7646320 0.4401800 ... 0.5695374  0.38266367\n",
       "  chr9_393    chr9_394    chr9_395  chr9_396    chr9_397     chr9_398   \n",
       "1  0.33659526  0.12752990 0.2084073 -0.37651160  0.403003567 -0.10853903\n",
       "2  0.59291900  0.07023711 0.6085105  0.98506423 -0.005759999  0.01104761\n",
       "3  0.58347543  0.02472904 0.7211271  0.80769843  0.761955796  0.51281518\n",
       "4  0.69291243  0.78780844 1.1123355  1.50036730  1.040823890 -0.05172627\n",
       "5 -0.05974572  0.94452430 0.6961362  1.26232219 -0.164976948  0.34642457\n",
       "6  1.22879115 -0.18732814 0.9083466  0.03563657  0.053529393  0.13682474\n",
       "  chr9_399    sample_type01\n",
       "1 -0.01829979 1            \n",
       "2  0.28993687 1            \n",
       "3  0.73932700 1            \n",
       "4  1.15761310 1            \n",
       "5 -0.31897805 1            \n",
       "6  0.58407125 1            "
      ]
     },
     "metadata": {},
     "output_type": "display_data"
    }
   ],
   "source": [
    "data <- data %>% select(-sample)\n",
    "head(data)"
   ]
  },
  {
   "cell_type": "code",
   "execution_count": 18,
   "id": "ebcb5e90-3400-48c9-a2fe-de0b9a87153b",
   "metadata": {},
   "outputs": [],
   "source": [
    "cross_validation <- function(dataset, k=10){\n",
    "  \n",
    "  cvfolds <- cut(seq_len(nrow(dataset)), breaks = k, labels = F)\n",
    "  cvfolds <- sample(cvfolds)\n",
    "  \n",
    "  observed  <- dataset$sample_type01\n",
    "  predicted <- rep(NA, nrow(dataset))\n",
    "\n",
    "  \n",
    "  for (i in 1:k){\n",
    "    rows      <- which(cvfolds==i)\n",
    "    testdata  <- dataset[rows,]\n",
    "    testdata <- testdata %>% select(-sample_type01)\n",
    "    traindata <- dataset[-rows,]\n",
    "    fit       <- glm(sample_type01 ~ . , data = traindata, family=binomial(link='logit')) \n",
    "    tmp       <- predict(fit, newdata = testdata, type = \"response\")\n",
    "    \n",
    "    predicted[rows] <- tmp\n",
    "  }\n",
    "  \n",
    "  test_error <- mean(observed != predicted)\n",
    "\n",
    "  return(test_error)\n",
    "}"
   ]
  },
  {
   "cell_type": "code",
   "execution_count": 19,
   "id": "1fd852d7-f03b-412e-9e51-28bc81789dcb",
   "metadata": {},
   "outputs": [
    {
     "name": "stderr",
     "output_type": "stream",
     "text": [
      "Warning message:\n",
      "“glm.fit: algorithm did not converge”Warning message in predict.lm(object, newdata, se.fit, scale = 1, type = if (type == :\n",
      "“prediction from a rank-deficient fit may be misleading”Warning message:\n",
      "“glm.fit: algorithm did not converge”Warning message in predict.lm(object, newdata, se.fit, scale = 1, type = if (type == :\n",
      "“prediction from a rank-deficient fit may be misleading”Warning message:\n",
      "“glm.fit: algorithm did not converge”Warning message in predict.lm(object, newdata, se.fit, scale = 1, type = if (type == :\n",
      "“prediction from a rank-deficient fit may be misleading”Warning message:\n",
      "“glm.fit: algorithm did not converge”Warning message in predict.lm(object, newdata, se.fit, scale = 1, type = if (type == :\n",
      "“prediction from a rank-deficient fit may be misleading”Warning message:\n",
      "“glm.fit: algorithm did not converge”Warning message in predict.lm(object, newdata, se.fit, scale = 1, type = if (type == :\n",
      "“prediction from a rank-deficient fit may be misleading”Warning message:\n",
      "“glm.fit: algorithm did not converge”Warning message in predict.lm(object, newdata, se.fit, scale = 1, type = if (type == :\n",
      "“prediction from a rank-deficient fit may be misleading”Warning message:\n",
      "“glm.fit: algorithm did not converge”Warning message in predict.lm(object, newdata, se.fit, scale = 1, type = if (type == :\n",
      "“prediction from a rank-deficient fit may be misleading”Warning message:\n",
      "“glm.fit: algorithm did not converge”Warning message in predict.lm(object, newdata, se.fit, scale = 1, type = if (type == :\n",
      "“prediction from a rank-deficient fit may be misleading”Warning message:\n",
      "“glm.fit: algorithm did not converge”Warning message in predict.lm(object, newdata, se.fit, scale = 1, type = if (type == :\n",
      "“prediction from a rank-deficient fit may be misleading”Warning message:\n",
      "“glm.fit: algorithm did not converge”Warning message in predict.lm(object, newdata, se.fit, scale = 1, type = if (type == :\n",
      "“prediction from a rank-deficient fit may be misleading”"
     ]
    },
    {
     "data": {
      "text/html": [
       "1"
      ],
      "text/latex": [
       "1"
      ],
      "text/markdown": [
       "1"
      ],
      "text/plain": [
       "[1] 1"
      ]
     },
     "metadata": {},
     "output_type": "display_data"
    }
   ],
   "source": [
    "test_error <- cross_validation(data, 10)\n",
    "test_error"
   ]
  },
  {
   "cell_type": "code",
   "execution_count": null,
   "id": "0b2b5529-6113-4dd8-b76a-78e7a279e188",
   "metadata": {},
   "outputs": [],
   "source": []
  }
 ],
 "metadata": {
  "kernelspec": {
   "display_name": "R",
   "language": "R",
   "name": "ir"
  },
  "language_info": {
   "codemirror_mode": "r",
   "file_extension": ".r",
   "mimetype": "text/x-r-source",
   "name": "R",
   "pygments_lexer": "r",
   "version": "3.6.1"
  }
 },
 "nbformat": 4,
 "nbformat_minor": 5
}
