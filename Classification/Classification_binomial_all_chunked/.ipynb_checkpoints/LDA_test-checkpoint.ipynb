{
 "cells": [
  {
   "cell_type": "code",
   "execution_count": 1,
   "id": "aea3cc80-1c4f-4193-ae20-15f0833676e6",
   "metadata": {},
   "outputs": [
    {
     "name": "stderr",
     "output_type": "stream",
     "text": [
      "Registered S3 methods overwritten by 'ggplot2':\n",
      "  method         from \n",
      "  [.quosures     rlang\n",
      "  c.quosures     rlang\n",
      "  print.quosures rlang\n",
      "Registered S3 method overwritten by 'rvest':\n",
      "  method            from\n",
      "  read_xml.response xml2\n",
      "── Attaching packages ─────────────────────────────────── tidyverse 1.2.1 ──\n",
      "✔ ggplot2 3.1.1     ✔ purrr   0.3.4\n",
      "✔ tibble  3.1.4     ✔ dplyr   1.0.7\n",
      "✔ tidyr   1.1.3     ✔ stringr 1.4.0\n",
      "✔ readr   1.3.1     ✔ forcats 0.4.0\n",
      "── Conflicts ────────────────────────────────────── tidyverse_conflicts() ──\n",
      "✖ dplyr::filter() masks stats::filter()\n",
      "✖ dplyr::lag()    masks stats::lag()\n",
      "Loading required package: lattice\n",
      "\n",
      "Attaching package: ‘caret’\n",
      "\n",
      "The following object is masked from ‘package:purrr’:\n",
      "\n",
      "    lift\n",
      "\n"
     ]
    }
   ],
   "source": [
    "library(tidyverse)\n",
    "library(caret)\n",
    "library(splitTools)\n"
   ]
  },
  {
   "cell_type": "code",
   "execution_count": 3,
   "id": "5362ded6-7f0a-4c94-9d82-58953bdee005",
   "metadata": {},
   "outputs": [],
   "source": [
    "class_type <- \"Healthy\"\n",
    "data <- readRDS(\"../../data/ATAC_predictions_train_20_predict_80/Full_data_ATAC_pred_lasso_formatted_standardized.rds\")\n",
    "sample_types <- read.table(\"../../data/sample_types.txt\", header = F, sep = \" \")\n",
    "colnames(sample_types) <- c(\"sample\", \"sample_type\")"
   ]
  },
  {
   "cell_type": "code",
   "execution_count": 4,
   "id": "688b7316-da7e-4a4b-821e-c82f061ad6da",
   "metadata": {},
   "outputs": [
    {
     "name": "stderr",
     "output_type": "stream",
     "text": [
      "ERROR while rich displaying an object: Error in sprintf(wrap, header, body): 'fmt' length exceeds maximal format length 8192\n",
      "\n",
      "Traceback:\n",
      "1. FUN(X[[i]], ...)\n",
      "2. tryCatch(withCallingHandlers({\n",
      " .     if (!mime %in% names(repr::mime2repr)) \n",
      " .         stop(\"No repr_* for mimetype \", mime, \" in repr::mime2repr\")\n",
      " .     rpr <- repr::mime2repr[[mime]](obj)\n",
      " .     if (is.null(rpr)) \n",
      " .         return(NULL)\n",
      " .     prepare_content(is.raw(rpr), rpr)\n",
      " . }, error = error_handler), error = outer_handler)\n",
      "3. tryCatchList(expr, classes, parentenv, handlers)\n",
      "4. tryCatchOne(expr, names, parentenv, handlers[[1L]])\n",
      "5. doTryCatch(return(expr), name, parentenv, handler)\n",
      "6. withCallingHandlers({\n",
      " .     if (!mime %in% names(repr::mime2repr)) \n",
      " .         stop(\"No repr_* for mimetype \", mime, \" in repr::mime2repr\")\n",
      " .     rpr <- repr::mime2repr[[mime]](obj)\n",
      " .     if (is.null(rpr)) \n",
      " .         return(NULL)\n",
      " .     prepare_content(is.raw(rpr), rpr)\n",
      " . }, error = error_handler)\n",
      "7. repr::mime2repr[[mime]](obj)\n",
      "8. repr_latex.data.frame(obj)\n",
      "9. repr_matrix_generic(obj, sprintf(\"\\\\begin{tabular}{%s}\\n%%s%%s\\\\end{tabular}\\n\", \n",
      " .     cols), \"%s\\\\\\\\\\n\\\\hline\\n\", \"  &\", \" %s &\", \"%s\", \"\\t%s\\\\\\\\\\n\", \n",
      " .     \"%s &\", \" %s &\", escape_fun = latex_escape_vec, ...)\n",
      "10. sprintf(wrap, header, body)\n"
     ]
    },
    {
     "data": {
      "text/html": [
       "<table>\n",
       "<thead><tr><th></th><th scope=col>sample</th><th scope=col>chr10_400</th><th scope=col>chr10_40</th><th scope=col>chr10_4</th><th scope=col>chr10_401</th><th scope=col>chr10_402</th><th scope=col>chr10_403</th><th scope=col>chr10_404</th><th scope=col>chr10_405</th><th scope=col>chr10_406</th><th scope=col>...</th><th scope=col>chr9_39</th><th scope=col>chr9_391</th><th scope=col>chr9_392</th><th scope=col>chr9_393</th><th scope=col>chr9_394</th><th scope=col>chr9_395</th><th scope=col>chr9_396</th><th scope=col>chr9_397</th><th scope=col>chr9_398</th><th scope=col>chr9_399</th></tr></thead>\n",
       "<tbody>\n",
       "\t<tr><th scope=row>V1</th><td>PGDX16568P  </td><td>0.7621097   </td><td>-0.8032188  </td><td>0.6402487   </td><td>-0.8688929  </td><td>-0.4792134  </td><td>-0.5096581  </td><td> 0.02594817 </td><td>0.7295906   </td><td>0.7738027   </td><td>...         </td><td>-0.405123632</td><td> 0.59187320 </td><td>-0.29125018 </td><td>-0.58276010 </td><td> 0.3792968  </td><td>-0.04366948 </td><td>0.9183014   </td><td>0.7664238   </td><td>0.9980457   </td><td>-1.0572778  </td></tr>\n",
       "\t<tr><th scope=row>V2</th><td>PGDX16569P  </td><td>0.7057109   </td><td>-0.8227554  </td><td>0.7868749   </td><td>-1.0407754  </td><td>-0.9284673  </td><td>-0.4139074  </td><td>-0.16594560 </td><td>0.7765621   </td><td>0.5761691   </td><td>...         </td><td>-0.849313481</td><td> 0.39431325 </td><td> 0.05197526 </td><td>-0.36318168 </td><td> 0.1744439  </td><td>-0.13785162 </td><td>0.5392077   </td><td>0.3942941   </td><td>1.7972449   </td><td>-0.3619464  </td></tr>\n",
       "\t<tr><th scope=row>V3</th><td>PGDX16570P  </td><td>0.4891340   </td><td>-1.1448217  </td><td>0.9478602   </td><td>-1.0930696  </td><td>-0.5115270  </td><td>-0.7552269  </td><td>-0.48824613 </td><td>0.9537215   </td><td>0.6624865   </td><td>...         </td><td>-0.871941533</td><td>-0.06389996 </td><td>-0.22907645 </td><td>-0.32470631 </td><td>-0.6251958  </td><td> 0.17051719 </td><td>0.6882020   </td><td>0.1744819   </td><td>1.4357406   </td><td>-0.2330366  </td></tr>\n",
       "\t<tr><th scope=row>V4</th><td>PGDX16571P  </td><td>0.6882727   </td><td>-0.8585679  </td><td>0.6248431   </td><td>-0.8310281  </td><td>-0.5335804  </td><td>-0.5125528  </td><td>-0.34185944 </td><td>0.9281618   </td><td>0.4768828   </td><td>...         </td><td>-0.005893625</td><td> 0.18185487 </td><td> 0.32387927 </td><td> 0.04577069 </td><td> 0.2752394  </td><td> 0.22750427 </td><td>0.6333635   </td><td>0.8413436   </td><td>1.2819797   </td><td> 0.5629469  </td></tr>\n",
       "\t<tr><th scope=row>V5</th><td>PGDX16579P  </td><td>0.5801896   </td><td>-1.1674832  </td><td>0.7883376   </td><td>-1.0498406  </td><td>-1.2475692  </td><td>-0.7345196  </td><td>-0.18778863 </td><td>0.2546093   </td><td>0.2920616   </td><td>...         </td><td>-0.067895629</td><td>-0.05197828 </td><td>-0.18308631 </td><td>-0.70242368 </td><td>-0.4281903  </td><td>-0.06235782 </td><td>1.0764914   </td><td>1.1411410   </td><td>0.8795170   </td><td>-0.4910720  </td></tr>\n",
       "\t<tr><th scope=row>V6</th><td>PGDX16580P  </td><td>0.6831409   </td><td>-0.8712906  </td><td>0.7199476   </td><td>-1.1853489  </td><td>-0.8520159  </td><td>-0.6829992  </td><td>-0.35499242 </td><td>0.8598551   </td><td>0.3870744   </td><td>...         </td><td>-0.735310376</td><td> 0.36325245 </td><td> 0.20814984 </td><td>-0.50307962 </td><td> 0.2609116  </td><td> 0.53933999 </td><td>1.0772367   </td><td>0.6906960   </td><td>1.7696570   </td><td>-0.4181884  </td></tr>\n",
       "</tbody>\n",
       "</table>\n"
      ],
      "text/markdown": [
       "\n",
       "| <!--/--> | sample | chr10_400 | chr10_40 | chr10_4 | chr10_401 | chr10_402 | chr10_403 | chr10_404 | chr10_405 | chr10_406 | ... | chr9_39 | chr9_391 | chr9_392 | chr9_393 | chr9_394 | chr9_395 | chr9_396 | chr9_397 | chr9_398 | chr9_399 |\n",
       "|---|---|---|---|---|---|---|---|---|---|---|---|---|---|---|---|---|---|---|---|---|---|\n",
       "| V1 | PGDX16568P   | 0.7621097    | -0.8032188   | 0.6402487    | -0.8688929   | -0.4792134   | -0.5096581   |  0.02594817  | 0.7295906    | 0.7738027    | ...          | -0.405123632 |  0.59187320  | -0.29125018  | -0.58276010  |  0.3792968   | -0.04366948  | 0.9183014    | 0.7664238    | 0.9980457    | -1.0572778   |\n",
       "| V2 | PGDX16569P   | 0.7057109    | -0.8227554   | 0.7868749    | -1.0407754   | -0.9284673   | -0.4139074   | -0.16594560  | 0.7765621    | 0.5761691    | ...          | -0.849313481 |  0.39431325  |  0.05197526  | -0.36318168  |  0.1744439   | -0.13785162  | 0.5392077    | 0.3942941    | 1.7972449    | -0.3619464   |\n",
       "| V3 | PGDX16570P   | 0.4891340    | -1.1448217   | 0.9478602    | -1.0930696   | -0.5115270   | -0.7552269   | -0.48824613  | 0.9537215    | 0.6624865    | ...          | -0.871941533 | -0.06389996  | -0.22907645  | -0.32470631  | -0.6251958   |  0.17051719  | 0.6882020    | 0.1744819    | 1.4357406    | -0.2330366   |\n",
       "| V4 | PGDX16571P   | 0.6882727    | -0.8585679   | 0.6248431    | -0.8310281   | -0.5335804   | -0.5125528   | -0.34185944  | 0.9281618    | 0.4768828    | ...          | -0.005893625 |  0.18185487  |  0.32387927  |  0.04577069  |  0.2752394   |  0.22750427  | 0.6333635    | 0.8413436    | 1.2819797    |  0.5629469   |\n",
       "| V5 | PGDX16579P   | 0.5801896    | -1.1674832   | 0.7883376    | -1.0498406   | -1.2475692   | -0.7345196   | -0.18778863  | 0.2546093    | 0.2920616    | ...          | -0.067895629 | -0.05197828  | -0.18308631  | -0.70242368  | -0.4281903   | -0.06235782  | 1.0764914    | 1.1411410    | 0.8795170    | -0.4910720   |\n",
       "| V6 | PGDX16580P   | 0.6831409    | -0.8712906   | 0.7199476    | -1.1853489   | -0.8520159   | -0.6829992   | -0.35499242  | 0.8598551    | 0.3870744    | ...          | -0.735310376 |  0.36325245  |  0.20814984  | -0.50307962  |  0.2609116   |  0.53933999  | 1.0772367    | 0.6906960    | 1.7696570    | -0.4181884   |\n",
       "\n"
      ],
      "text/plain": [
       "   sample     chr10_400 chr10_40   chr10_4   chr10_401  chr10_402  chr10_403 \n",
       "V1 PGDX16568P 0.7621097 -0.8032188 0.6402487 -0.8688929 -0.4792134 -0.5096581\n",
       "V2 PGDX16569P 0.7057109 -0.8227554 0.7868749 -1.0407754 -0.9284673 -0.4139074\n",
       "V3 PGDX16570P 0.4891340 -1.1448217 0.9478602 -1.0930696 -0.5115270 -0.7552269\n",
       "V4 PGDX16571P 0.6882727 -0.8585679 0.6248431 -0.8310281 -0.5335804 -0.5125528\n",
       "V5 PGDX16579P 0.5801896 -1.1674832 0.7883376 -1.0498406 -1.2475692 -0.7345196\n",
       "V6 PGDX16580P 0.6831409 -0.8712906 0.7199476 -1.1853489 -0.8520159 -0.6829992\n",
       "   chr10_404   chr10_405 chr10_406 ... chr9_39      chr9_391    chr9_392   \n",
       "V1  0.02594817 0.7295906 0.7738027 ... -0.405123632  0.59187320 -0.29125018\n",
       "V2 -0.16594560 0.7765621 0.5761691 ... -0.849313481  0.39431325  0.05197526\n",
       "V3 -0.48824613 0.9537215 0.6624865 ... -0.871941533 -0.06389996 -0.22907645\n",
       "V4 -0.34185944 0.9281618 0.4768828 ... -0.005893625  0.18185487  0.32387927\n",
       "V5 -0.18778863 0.2546093 0.2920616 ... -0.067895629 -0.05197828 -0.18308631\n",
       "V6 -0.35499242 0.8598551 0.3870744 ... -0.735310376  0.36325245  0.20814984\n",
       "   chr9_393    chr9_394   chr9_395    chr9_396  chr9_397  chr9_398  chr9_399  \n",
       "V1 -0.58276010  0.3792968 -0.04366948 0.9183014 0.7664238 0.9980457 -1.0572778\n",
       "V2 -0.36318168  0.1744439 -0.13785162 0.5392077 0.3942941 1.7972449 -0.3619464\n",
       "V3 -0.32470631 -0.6251958  0.17051719 0.6882020 0.1744819 1.4357406 -0.2330366\n",
       "V4  0.04577069  0.2752394  0.22750427 0.6333635 0.8413436 1.2819797  0.5629469\n",
       "V5 -0.70242368 -0.4281903 -0.06235782 1.0764914 1.1411410 0.8795170 -0.4910720\n",
       "V6 -0.50307962  0.2609116  0.53933999 1.0772367 0.6906960 1.7696570 -0.4181884"
      ]
     },
     "metadata": {},
     "output_type": "display_data"
    },
    {
     "data": {
      "text/html": [
       "<table>\n",
       "<thead><tr><th scope=col>sample</th><th scope=col>sample_type</th></tr></thead>\n",
       "<tbody>\n",
       "\t<tr><td>PGDX10344P1   </td><td>Gastric_cancer</td></tr>\n",
       "\t<tr><td>PGDX10346P1   </td><td>Gastric_cancer</td></tr>\n",
       "\t<tr><td>PGDX10349P1   </td><td>Gastric_cancer</td></tr>\n",
       "\t<tr><td>PGDX10351P1   </td><td>Gastric_cancer</td></tr>\n",
       "\t<tr><td>PGDX10566P    </td><td>Ovarian_Cancer</td></tr>\n",
       "\t<tr><td>PGDX10567P    </td><td>Ovarian_Cancer</td></tr>\n",
       "</tbody>\n",
       "</table>\n"
      ],
      "text/latex": [
       "\\begin{tabular}{r|ll}\n",
       " sample & sample\\_type\\\\\n",
       "\\hline\n",
       "\t PGDX10344P1      & Gastric\\_cancer\\\\\n",
       "\t PGDX10346P1      & Gastric\\_cancer\\\\\n",
       "\t PGDX10349P1      & Gastric\\_cancer\\\\\n",
       "\t PGDX10351P1      & Gastric\\_cancer\\\\\n",
       "\t PGDX10566P       & Ovarian\\_Cancer\\\\\n",
       "\t PGDX10567P       & Ovarian\\_Cancer\\\\\n",
       "\\end{tabular}\n"
      ],
      "text/markdown": [
       "\n",
       "| sample | sample_type |\n",
       "|---|---|\n",
       "| PGDX10344P1    | Gastric_cancer |\n",
       "| PGDX10346P1    | Gastric_cancer |\n",
       "| PGDX10349P1    | Gastric_cancer |\n",
       "| PGDX10351P1    | Gastric_cancer |\n",
       "| PGDX10566P     | Ovarian_Cancer |\n",
       "| PGDX10567P     | Ovarian_Cancer |\n",
       "\n"
      ],
      "text/plain": [
       "  sample      sample_type   \n",
       "1 PGDX10344P1 Gastric_cancer\n",
       "2 PGDX10346P1 Gastric_cancer\n",
       "3 PGDX10349P1 Gastric_cancer\n",
       "4 PGDX10351P1 Gastric_cancer\n",
       "5 PGDX10566P  Ovarian_Cancer\n",
       "6 PGDX10567P  Ovarian_Cancer"
      ]
     },
     "metadata": {},
     "output_type": "display_data"
    }
   ],
   "source": [
    "head(data)\n",
    "head(sample_types)"
   ]
  },
  {
   "cell_type": "code",
   "execution_count": 5,
   "id": "5fb80454-c18d-4d65-892a-020bbef39129",
   "metadata": {},
   "outputs": [
    {
     "name": "stderr",
     "output_type": "stream",
     "text": [
      "ERROR while rich displaying an object: Error in sprintf(wrap, header, body): 'fmt' length exceeds maximal format length 8192\n",
      "\n",
      "Traceback:\n",
      "1. FUN(X[[i]], ...)\n",
      "2. tryCatch(withCallingHandlers({\n",
      " .     if (!mime %in% names(repr::mime2repr)) \n",
      " .         stop(\"No repr_* for mimetype \", mime, \" in repr::mime2repr\")\n",
      " .     rpr <- repr::mime2repr[[mime]](obj)\n",
      " .     if (is.null(rpr)) \n",
      " .         return(NULL)\n",
      " .     prepare_content(is.raw(rpr), rpr)\n",
      " . }, error = error_handler), error = outer_handler)\n",
      "3. tryCatchList(expr, classes, parentenv, handlers)\n",
      "4. tryCatchOne(expr, names, parentenv, handlers[[1L]])\n",
      "5. doTryCatch(return(expr), name, parentenv, handler)\n",
      "6. withCallingHandlers({\n",
      " .     if (!mime %in% names(repr::mime2repr)) \n",
      " .         stop(\"No repr_* for mimetype \", mime, \" in repr::mime2repr\")\n",
      " .     rpr <- repr::mime2repr[[mime]](obj)\n",
      " .     if (is.null(rpr)) \n",
      " .         return(NULL)\n",
      " .     prepare_content(is.raw(rpr), rpr)\n",
      " . }, error = error_handler)\n",
      "7. repr::mime2repr[[mime]](obj)\n",
      "8. repr_latex.data.frame(obj)\n",
      "9. repr_matrix_generic(obj, sprintf(\"\\\\begin{tabular}{%s}\\n%%s%%s\\\\end{tabular}\\n\", \n",
      " .     cols), \"%s\\\\\\\\\\n\\\\hline\\n\", \"  &\", \" %s &\", \"%s\", \"\\t%s\\\\\\\\\\n\", \n",
      " .     \"%s &\", \" %s &\", escape_fun = latex_escape_vec, ...)\n",
      "10. sprintf(wrap, header, body)\n"
     ]
    },
    {
     "data": {
      "text/html": [
       "<table>\n",
       "<thead><tr><th scope=col>chr10_400</th><th scope=col>chr10_40</th><th scope=col>chr10_4</th><th scope=col>chr10_401</th><th scope=col>chr10_402</th><th scope=col>chr10_403</th><th scope=col>chr10_404</th><th scope=col>chr10_405</th><th scope=col>chr10_406</th><th scope=col>chr10_407</th><th scope=col>...</th><th scope=col>chr9_391</th><th scope=col>chr9_392</th><th scope=col>chr9_393</th><th scope=col>chr9_394</th><th scope=col>chr9_395</th><th scope=col>chr9_396</th><th scope=col>chr9_397</th><th scope=col>chr9_398</th><th scope=col>chr9_399</th><th scope=col>sample_type</th></tr></thead>\n",
       "<tbody>\n",
       "\t<tr><td>0.28476325    </td><td>-0.8212573    </td><td>1.0277500     </td><td>-0.7094983    </td><td>-0.2327985    </td><td>-0.7836319    </td><td> 0.01979819   </td><td>0.2624251     </td><td>0.3128992     </td><td>1.45146500    </td><td>...           </td><td>-0.34089350   </td><td> 0.006860094  </td><td>-0.5010935    </td><td>-0.2043651    </td><td> 0.02437101   </td><td> 0.57938365   </td><td>-0.4136060    </td><td>1.3160044     </td><td>-0.26256223   </td><td>Gastric_cancer</td></tr>\n",
       "\t<tr><td>1.28471727    </td><td>-0.8295661    </td><td>1.0145149     </td><td>-0.6213053    </td><td>-0.8143027    </td><td>-0.6479755    </td><td>-0.06975614   </td><td>0.9264024     </td><td>0.4895216     </td><td>0.04814456    </td><td>...           </td><td>-0.17629217   </td><td>-0.421600296  </td><td>-0.5810840    </td><td> 0.1408379    </td><td> 0.21122926   </td><td> 1.13429106   </td><td> 0.8116547    </td><td>0.3187471     </td><td>-0.48265821   </td><td>Gastric_cancer</td></tr>\n",
       "\t<tr><td>0.07110482    </td><td>-1.0079115    </td><td>0.3347017     </td><td>-1.1303365    </td><td>-0.8177276    </td><td>-0.9202015    </td><td>-0.08484151   </td><td>0.5183954     </td><td>2.2808829     </td><td>1.33462998    </td><td>...           </td><td> 1.22409122   </td><td> 0.527804492  </td><td>-0.1435833    </td><td> 0.4967880    </td><td> 0.15991730   </td><td> 0.89522351   </td><td> 0.5305742    </td><td>1.6767953     </td><td>-0.02839009   </td><td>Gastric_cancer</td></tr>\n",
       "\t<tr><td>1.36298501    </td><td>-1.4848879    </td><td>0.4225454     </td><td>-1.3192129    </td><td>-0.7097136    </td><td>-0.4653093    </td><td>-0.42147744   </td><td>0.9729417     </td><td>0.5944980     </td><td>0.97671516    </td><td>...           </td><td> 0.43571295   </td><td> 0.872833915  </td><td>-0.0670184    </td><td> 0.7394425    </td><td> 0.13690205   </td><td> 1.29732717   </td><td> 0.4739056    </td><td>1.4153912     </td><td>-0.12217374   </td><td>Gastric_cancer</td></tr>\n",
       "\t<tr><td>0.40245603    </td><td>-1.0782760    </td><td>1.2759516     </td><td>-0.8646247    </td><td>-0.5192562    </td><td>-0.8555661    </td><td>-0.22999396   </td><td>0.7699482     </td><td>0.4825674     </td><td>0.76308429    </td><td>...           </td><td> 0.04951928   </td><td> 0.173364771  </td><td>-0.8705736    </td><td> 0.4935296    </td><td>-0.17648798   </td><td>-0.02395699   </td><td> 0.3182328    </td><td>1.3930824     </td><td>-0.47078676   </td><td>Ovarian_Cancer</td></tr>\n",
       "\t<tr><td>0.97825189    </td><td>-0.6787169    </td><td>1.0934262     </td><td>-0.1749540    </td><td>-0.6319351    </td><td>-0.7585842    </td><td> 0.22653017   </td><td>0.5994301     </td><td>0.6407291     </td><td>0.64706533    </td><td>...           </td><td> 0.50968208   </td><td>-0.241967372  </td><td>-0.6951369    </td><td> 0.2412607    </td><td> 0.11914801   </td><td> 0.07982386   </td><td> 0.2854560    </td><td>1.7946488     </td><td>-0.69550001   </td><td>Ovarian_Cancer</td></tr>\n",
       "</tbody>\n",
       "</table>\n"
      ],
      "text/markdown": [
       "\n",
       "| chr10_400 | chr10_40 | chr10_4 | chr10_401 | chr10_402 | chr10_403 | chr10_404 | chr10_405 | chr10_406 | chr10_407 | ... | chr9_391 | chr9_392 | chr9_393 | chr9_394 | chr9_395 | chr9_396 | chr9_397 | chr9_398 | chr9_399 | sample_type |\n",
       "|---|---|---|---|---|---|---|---|---|---|---|---|---|---|---|---|---|---|---|---|---|\n",
       "| 0.28476325     | -0.8212573     | 1.0277500      | -0.7094983     | -0.2327985     | -0.7836319     |  0.01979819    | 0.2624251      | 0.3128992      | 1.45146500     | ...            | -0.34089350    |  0.006860094   | -0.5010935     | -0.2043651     |  0.02437101    |  0.57938365    | -0.4136060     | 1.3160044      | -0.26256223    | Gastric_cancer |\n",
       "| 1.28471727     | -0.8295661     | 1.0145149      | -0.6213053     | -0.8143027     | -0.6479755     | -0.06975614    | 0.9264024      | 0.4895216      | 0.04814456     | ...            | -0.17629217    | -0.421600296   | -0.5810840     |  0.1408379     |  0.21122926    |  1.13429106    |  0.8116547     | 0.3187471      | -0.48265821    | Gastric_cancer |\n",
       "| 0.07110482     | -1.0079115     | 0.3347017      | -1.1303365     | -0.8177276     | -0.9202015     | -0.08484151    | 0.5183954      | 2.2808829      | 1.33462998     | ...            |  1.22409122    |  0.527804492   | -0.1435833     |  0.4967880     |  0.15991730    |  0.89522351    |  0.5305742     | 1.6767953      | -0.02839009    | Gastric_cancer |\n",
       "| 1.36298501     | -1.4848879     | 0.4225454      | -1.3192129     | -0.7097136     | -0.4653093     | -0.42147744    | 0.9729417      | 0.5944980      | 0.97671516     | ...            |  0.43571295    |  0.872833915   | -0.0670184     |  0.7394425     |  0.13690205    |  1.29732717    |  0.4739056     | 1.4153912      | -0.12217374    | Gastric_cancer |\n",
       "| 0.40245603     | -1.0782760     | 1.2759516      | -0.8646247     | -0.5192562     | -0.8555661     | -0.22999396    | 0.7699482      | 0.4825674      | 0.76308429     | ...            |  0.04951928    |  0.173364771   | -0.8705736     |  0.4935296     | -0.17648798    | -0.02395699    |  0.3182328     | 1.3930824      | -0.47078676    | Ovarian_Cancer |\n",
       "| 0.97825189     | -0.6787169     | 1.0934262      | -0.1749540     | -0.6319351     | -0.7585842     |  0.22653017    | 0.5994301      | 0.6407291      | 0.64706533     | ...            |  0.50968208    | -0.241967372   | -0.6951369     |  0.2412607     |  0.11914801    |  0.07982386    |  0.2854560     | 1.7946488      | -0.69550001    | Ovarian_Cancer |\n",
       "\n"
      ],
      "text/plain": [
       "  chr10_400  chr10_40   chr10_4   chr10_401  chr10_402  chr10_403  chr10_404  \n",
       "1 0.28476325 -0.8212573 1.0277500 -0.7094983 -0.2327985 -0.7836319  0.01979819\n",
       "2 1.28471727 -0.8295661 1.0145149 -0.6213053 -0.8143027 -0.6479755 -0.06975614\n",
       "3 0.07110482 -1.0079115 0.3347017 -1.1303365 -0.8177276 -0.9202015 -0.08484151\n",
       "4 1.36298501 -1.4848879 0.4225454 -1.3192129 -0.7097136 -0.4653093 -0.42147744\n",
       "5 0.40245603 -1.0782760 1.2759516 -0.8646247 -0.5192562 -0.8555661 -0.22999396\n",
       "6 0.97825189 -0.6787169 1.0934262 -0.1749540 -0.6319351 -0.7585842  0.22653017\n",
       "  chr10_405 chr10_406 chr10_407  ... chr9_391    chr9_392     chr9_393  \n",
       "1 0.2624251 0.3128992 1.45146500 ... -0.34089350  0.006860094 -0.5010935\n",
       "2 0.9264024 0.4895216 0.04814456 ... -0.17629217 -0.421600296 -0.5810840\n",
       "3 0.5183954 2.2808829 1.33462998 ...  1.22409122  0.527804492 -0.1435833\n",
       "4 0.9729417 0.5944980 0.97671516 ...  0.43571295  0.872833915 -0.0670184\n",
       "5 0.7699482 0.4825674 0.76308429 ...  0.04951928  0.173364771 -0.8705736\n",
       "6 0.5994301 0.6407291 0.64706533 ...  0.50968208 -0.241967372 -0.6951369\n",
       "  chr9_394   chr9_395    chr9_396    chr9_397   chr9_398  chr9_399   \n",
       "1 -0.2043651  0.02437101  0.57938365 -0.4136060 1.3160044 -0.26256223\n",
       "2  0.1408379  0.21122926  1.13429106  0.8116547 0.3187471 -0.48265821\n",
       "3  0.4967880  0.15991730  0.89522351  0.5305742 1.6767953 -0.02839009\n",
       "4  0.7394425  0.13690205  1.29732717  0.4739056 1.4153912 -0.12217374\n",
       "5  0.4935296 -0.17648798 -0.02395699  0.3182328 1.3930824 -0.47078676\n",
       "6  0.2412607  0.11914801  0.07982386  0.2854560 1.7946488 -0.69550001\n",
       "  sample_type   \n",
       "1 Gastric_cancer\n",
       "2 Gastric_cancer\n",
       "3 Gastric_cancer\n",
       "4 Gastric_cancer\n",
       "5 Ovarian_Cancer\n",
       "6 Ovarian_Cancer"
      ]
     },
     "metadata": {},
     "output_type": "display_data"
    }
   ],
   "source": [
    "data <- merge(data, sample_types, by=\"sample\")\n",
    "data <- data %>% dplyr::select(-sample)\n",
    "head(data)"
   ]
  },
  {
   "cell_type": "code",
   "execution_count": 17,
   "id": "9600a524-1f72-4214-b48d-d6e34a954d08",
   "metadata": {},
   "outputs": [
    {
     "name": "stdout",
     "output_type": "stream",
     "text": [
      "[1] \"Sample_type levels\"\n"
     ]
    },
    {
     "data": {
      "text/html": [
       "<ol class=list-inline>\n",
       "\t<li>'Cancer'</li>\n",
       "\t<li>'Healthy'</li>\n",
       "</ol>\n"
      ],
      "text/latex": [
       "\\begin{enumerate*}\n",
       "\\item 'Cancer'\n",
       "\\item 'Healthy'\n",
       "\\end{enumerate*}\n"
      ],
      "text/markdown": [
       "1. 'Cancer'\n",
       "2. 'Healthy'\n",
       "\n",
       "\n"
      ],
      "text/plain": [
       "[1] \"Cancer\"  \"Healthy\""
      ]
     },
     "metadata": {},
     "output_type": "display_data"
    },
    {
     "name": "stderr",
     "output_type": "stream",
     "text": [
      "Healthy\n",
      "CV repetition number: 1\n"
     ]
    },
    {
     "ename": "ERROR",
     "evalue": "Error in saveRDS(folds[[fold_nr]], snakemake@output[[\"folds\"]][fold_nr]): object 'snakemake' not found\n",
     "output_type": "error",
     "traceback": [
      "Error in saveRDS(folds[[fold_nr]], snakemake@output[[\"folds\"]][fold_nr]): object 'snakemake' not found\nTraceback:\n",
      "1. saveRDS(folds[[fold_nr]], snakemake@output[[\"folds\"]][fold_nr])"
     ]
    }
   ],
   "source": [
    "if (class_type != \"Healthy\"){\n",
    "    data <- data %>% filter(sample_type != \"Healthy\")\n",
    "    message(unique(data$sample_type))\n",
    "    data %>% group_by(sample_type) %>% summarize(n = n())\n",
    "    data <-subset(data, sample_type != \"Duodenal_Cancer\")\n",
    "    data$sample_type <- as.factor(data$sample_type)\n",
    "    data = data %>% droplevels(\"Duodenal_Cancer\")\n",
    "    data <- data %>% mutate(sample_type = ifelse(sample_type == class_type, class_type, \"Other\"))\n",
    "    } else {\n",
    "    data <- data %>% mutate(sample_type = ifelse(sample_type == class_type, class_type, \"Cancer\"))\n",
    "}\n",
    "\n",
    "observed  <- data$sample_type\n",
    "\n",
    "\n",
    "data$sample_type <- as.factor(data$sample_type)\n",
    "print(\"Sample_type levels\")\n",
    "levels(data$sample_type)\n",
    "\n",
    "message(class_type)\n",
    "\n",
    "for (cv_rep in 1:10){\n",
    "    message(paste(\"CV repetition number: \", cv_rep, sep = \"\"))\n",
    "    set.seed(cv_rep)\n",
    "    folds <- create_folds(data$sample_type, k = 10)\n",
    "    for (fold_nr in 1:length(folds)) {\n",
    "        saveRDS(folds[[fold_nr]], paste(\"Fold_\", fold_nr, \"_for_CV_rep_\", cv_rep, \"_\", class_type, \".rds\"))\n",
    "    }\n",
    "    }"
   ]
  },
  {
   "cell_type": "code",
   "execution_count": null,
   "id": "b30e9204-e859-42ff-822e-e7da86fc1fa9",
   "metadata": {},
   "outputs": [],
   "source": []
  }
 ],
 "metadata": {
  "kernelspec": {
   "display_name": "R",
   "language": "R",
   "name": "ir"
  },
  "language_info": {
   "codemirror_mode": "r",
   "file_extension": ".r",
   "mimetype": "text/x-r-source",
   "name": "R",
   "pygments_lexer": "r",
   "version": "3.6.1"
  }
 },
 "nbformat": 4,
 "nbformat_minor": 5
}
