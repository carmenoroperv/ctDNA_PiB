{
 "cells": [
  {
   "cell_type": "code",
   "execution_count": 7,
   "id": "2716ac21-4d05-4928-b049-8a448ea93a9b",
   "metadata": {},
   "outputs": [
    {
     "name": "stderr",
     "output_type": "stream",
     "text": [
      "also installing the dependencies ‘htmlwidgets’, ‘crosstalk’\n",
      "\n",
      "Updating HTML index of packages in '.Library'\n",
      "Making 'packages.html' ... done\n",
      "\n",
      "Attaching package: ‘plotly’\n",
      "\n",
      "The following object is masked from ‘package:MASS’:\n",
      "\n",
      "    select\n",
      "\n",
      "The following object is masked from ‘package:ggplot2’:\n",
      "\n",
      "    last_plot\n",
      "\n",
      "The following object is masked from ‘package:stats’:\n",
      "\n",
      "    filter\n",
      "\n",
      "The following object is masked from ‘package:graphics’:\n",
      "\n",
      "    layout\n",
      "\n"
     ]
    }
   ],
   "source": [
    "library(dplyr)\n",
    "library(class)\n",
    "library(tidyverse)\n",
    "library(pROC)\n",
    "library(glmnet)\n",
    "library(MASS)\n",
    "#install.packages('glmnetUtils')\n",
    "library(glmnetUtils)\n",
    "\n",
    "#install.packages(\"Rtsne\")\n",
    "library(Rtsne)\n",
    "#install.packages(\"plotly\")\n",
    "library(plotly)"
   ]
  },
  {
   "cell_type": "code",
   "execution_count": 2,
   "id": "b76e1a6c-c21e-4262-bccd-789fbd93c858",
   "metadata": {},
   "outputs": [],
   "source": [
    "lasso_pred <- readRDS(\"../../data/ATAC_predictions_train_XX_predict_XX/ATAC_pred_lasso_normalized_trimmed_formatted_standardized.rds\")"
   ]
  },
  {
   "cell_type": "code",
   "execution_count": 3,
   "id": "60f43372-ad78-48a0-9dc7-8347d86e6516",
   "metadata": {},
   "outputs": [
    {
     "name": "stderr",
     "output_type": "stream",
     "text": [
      "ERROR while rich displaying an object: Error in sprintf(wrap, header, body): 'fmt' length exceeds maximal format length 8192\n",
      "\n",
      "Traceback:\n",
      "1. FUN(X[[i]], ...)\n",
      "2. tryCatch(withCallingHandlers({\n",
      " .     if (!mime %in% names(repr::mime2repr)) \n",
      " .         stop(\"No repr_* for mimetype \", mime, \" in repr::mime2repr\")\n",
      " .     rpr <- repr::mime2repr[[mime]](obj)\n",
      " .     if (is.null(rpr)) \n",
      " .         return(NULL)\n",
      " .     prepare_content(is.raw(rpr), rpr)\n",
      " . }, error = error_handler), error = outer_handler)\n",
      "3. tryCatchList(expr, classes, parentenv, handlers)\n",
      "4. tryCatchOne(expr, names, parentenv, handlers[[1L]])\n",
      "5. doTryCatch(return(expr), name, parentenv, handler)\n",
      "6. withCallingHandlers({\n",
      " .     if (!mime %in% names(repr::mime2repr)) \n",
      " .         stop(\"No repr_* for mimetype \", mime, \" in repr::mime2repr\")\n",
      " .     rpr <- repr::mime2repr[[mime]](obj)\n",
      " .     if (is.null(rpr)) \n",
      " .         return(NULL)\n",
      " .     prepare_content(is.raw(rpr), rpr)\n",
      " . }, error = error_handler)\n",
      "7. repr::mime2repr[[mime]](obj)\n",
      "8. repr_latex.data.frame(obj)\n",
      "9. repr_matrix_generic(obj, sprintf(\"\\\\begin{tabular}{%s}\\n%%s%%s\\\\end{tabular}\\n\", \n",
      " .     cols), \"%s\\\\\\\\\\n\\\\hline\\n\", \"  &\", \" %s &\", \"%s\", \"\\t%s\\\\\\\\\\n\", \n",
      " .     \"%s &\", \" %s &\", escape_fun = latex_escape_vec, ...)\n",
      "10. sprintf(wrap, header, body)\n"
     ]
    },
    {
     "data": {
      "text/html": [
       "<table>\n",
       "<thead><tr><th></th><th scope=col>sample</th><th scope=col>chr10_400</th><th scope=col>chr10_40</th><th scope=col>chr10_4</th><th scope=col>chr10_401</th><th scope=col>chr10_402</th><th scope=col>chr10_403</th><th scope=col>chr10_404</th><th scope=col>chr10_405</th><th scope=col>chr10_406</th><th scope=col>...</th><th scope=col>chr9_39</th><th scope=col>chr9_391</th><th scope=col>chr9_392</th><th scope=col>chr9_393</th><th scope=col>chr9_394</th><th scope=col>chr9_395</th><th scope=col>chr9_396</th><th scope=col>chr9_397</th><th scope=col>chr9_398</th><th scope=col>chr9_399</th></tr></thead>\n",
       "<tbody>\n",
       "\t<tr><th scope=row>V1</th><td>PGDX16568P  </td><td>0.7621097   </td><td>-0.8032188  </td><td>0.6402487   </td><td>-0.8688929  </td><td>-0.4792134  </td><td>-0.5096581  </td><td> 0.02594817 </td><td>0.7295906   </td><td>0.7738027   </td><td>...         </td><td>-0.405123632</td><td> 0.59187320 </td><td>-0.29125018 </td><td>-0.58276010 </td><td> 0.3792968  </td><td>-0.04366948 </td><td>0.9183014   </td><td>0.7664238   </td><td>0.9980457   </td><td>-1.0572778  </td></tr>\n",
       "\t<tr><th scope=row>V2</th><td>PGDX16569P  </td><td>0.7057109   </td><td>-0.8227554  </td><td>0.7868749   </td><td>-1.0407754  </td><td>-0.9284673  </td><td>-0.4139074  </td><td>-0.16594560 </td><td>0.7765621   </td><td>0.5761691   </td><td>...         </td><td>-0.849313481</td><td> 0.39431325 </td><td> 0.05197526 </td><td>-0.36318168 </td><td> 0.1744439  </td><td>-0.13785162 </td><td>0.5392077   </td><td>0.3942941   </td><td>1.7972449   </td><td>-0.3619464  </td></tr>\n",
       "\t<tr><th scope=row>V3</th><td>PGDX16570P  </td><td>0.4891340   </td><td>-1.1448217  </td><td>0.9478602   </td><td>-1.0930696  </td><td>-0.5115270  </td><td>-0.7552269  </td><td>-0.48824613 </td><td>0.9537215   </td><td>0.6624865   </td><td>...         </td><td>-0.871941533</td><td>-0.06389996 </td><td>-0.22907645 </td><td>-0.32470631 </td><td>-0.6251958  </td><td> 0.17051719 </td><td>0.6882020   </td><td>0.1744819   </td><td>1.4357406   </td><td>-0.2330366  </td></tr>\n",
       "\t<tr><th scope=row>V4</th><td>PGDX16571P  </td><td>0.6882727   </td><td>-0.8585679  </td><td>0.6248431   </td><td>-0.8310281  </td><td>-0.5335804  </td><td>-0.5125528  </td><td>-0.34185944 </td><td>0.9281618   </td><td>0.4768828   </td><td>...         </td><td>-0.005893625</td><td> 0.18185487 </td><td> 0.32387927 </td><td> 0.04577069 </td><td> 0.2752394  </td><td> 0.22750427 </td><td>0.6333635   </td><td>0.8413436   </td><td>1.2819797   </td><td> 0.5629469  </td></tr>\n",
       "\t<tr><th scope=row>V5</th><td>PGDX16579P  </td><td>0.5801896   </td><td>-1.1674832  </td><td>0.7883376   </td><td>-1.0498406  </td><td>-1.2475692  </td><td>-0.7345196  </td><td>-0.18778863 </td><td>0.2546093   </td><td>0.2920616   </td><td>...         </td><td>-0.067895629</td><td>-0.05197828 </td><td>-0.18308631 </td><td>-0.70242368 </td><td>-0.4281903  </td><td>-0.06235782 </td><td>1.0764914   </td><td>1.1411410   </td><td>0.8795170   </td><td>-0.4910720  </td></tr>\n",
       "\t<tr><th scope=row>V6</th><td>PGDX16580P  </td><td>0.6831409   </td><td>-0.8712906  </td><td>0.7199476   </td><td>-1.1853489  </td><td>-0.8520159  </td><td>-0.6829992  </td><td>-0.35499242 </td><td>0.8598551   </td><td>0.3870744   </td><td>...         </td><td>-0.735310376</td><td> 0.36325245 </td><td> 0.20814984 </td><td>-0.50307962 </td><td> 0.2609116  </td><td> 0.53933999 </td><td>1.0772367   </td><td>0.6906960   </td><td>1.7696570   </td><td>-0.4181884  </td></tr>\n",
       "</tbody>\n",
       "</table>\n"
      ],
      "text/markdown": [
       "\n",
       "| <!--/--> | sample | chr10_400 | chr10_40 | chr10_4 | chr10_401 | chr10_402 | chr10_403 | chr10_404 | chr10_405 | chr10_406 | ... | chr9_39 | chr9_391 | chr9_392 | chr9_393 | chr9_394 | chr9_395 | chr9_396 | chr9_397 | chr9_398 | chr9_399 |\n",
       "|---|---|---|---|---|---|---|---|---|---|---|---|---|---|---|---|---|---|---|---|---|---|\n",
       "| V1 | PGDX16568P   | 0.7621097    | -0.8032188   | 0.6402487    | -0.8688929   | -0.4792134   | -0.5096581   |  0.02594817  | 0.7295906    | 0.7738027    | ...          | -0.405123632 |  0.59187320  | -0.29125018  | -0.58276010  |  0.3792968   | -0.04366948  | 0.9183014    | 0.7664238    | 0.9980457    | -1.0572778   |\n",
       "| V2 | PGDX16569P   | 0.7057109    | -0.8227554   | 0.7868749    | -1.0407754   | -0.9284673   | -0.4139074   | -0.16594560  | 0.7765621    | 0.5761691    | ...          | -0.849313481 |  0.39431325  |  0.05197526  | -0.36318168  |  0.1744439   | -0.13785162  | 0.5392077    | 0.3942941    | 1.7972449    | -0.3619464   |\n",
       "| V3 | PGDX16570P   | 0.4891340    | -1.1448217   | 0.9478602    | -1.0930696   | -0.5115270   | -0.7552269   | -0.48824613  | 0.9537215    | 0.6624865    | ...          | -0.871941533 | -0.06389996  | -0.22907645  | -0.32470631  | -0.6251958   |  0.17051719  | 0.6882020    | 0.1744819    | 1.4357406    | -0.2330366   |\n",
       "| V4 | PGDX16571P   | 0.6882727    | -0.8585679   | 0.6248431    | -0.8310281   | -0.5335804   | -0.5125528   | -0.34185944  | 0.9281618    | 0.4768828    | ...          | -0.005893625 |  0.18185487  |  0.32387927  |  0.04577069  |  0.2752394   |  0.22750427  | 0.6333635    | 0.8413436    | 1.2819797    |  0.5629469   |\n",
       "| V5 | PGDX16579P   | 0.5801896    | -1.1674832   | 0.7883376    | -1.0498406   | -1.2475692   | -0.7345196   | -0.18778863  | 0.2546093    | 0.2920616    | ...          | -0.067895629 | -0.05197828  | -0.18308631  | -0.70242368  | -0.4281903   | -0.06235782  | 1.0764914    | 1.1411410    | 0.8795170    | -0.4910720   |\n",
       "| V6 | PGDX16580P   | 0.6831409    | -0.8712906   | 0.7199476    | -1.1853489   | -0.8520159   | -0.6829992   | -0.35499242  | 0.8598551    | 0.3870744    | ...          | -0.735310376 |  0.36325245  |  0.20814984  | -0.50307962  |  0.2609116   |  0.53933999  | 1.0772367    | 0.6906960    | 1.7696570    | -0.4181884   |\n",
       "\n"
      ],
      "text/plain": [
       "   sample     chr10_400 chr10_40   chr10_4   chr10_401  chr10_402  chr10_403 \n",
       "V1 PGDX16568P 0.7621097 -0.8032188 0.6402487 -0.8688929 -0.4792134 -0.5096581\n",
       "V2 PGDX16569P 0.7057109 -0.8227554 0.7868749 -1.0407754 -0.9284673 -0.4139074\n",
       "V3 PGDX16570P 0.4891340 -1.1448217 0.9478602 -1.0930696 -0.5115270 -0.7552269\n",
       "V4 PGDX16571P 0.6882727 -0.8585679 0.6248431 -0.8310281 -0.5335804 -0.5125528\n",
       "V5 PGDX16579P 0.5801896 -1.1674832 0.7883376 -1.0498406 -1.2475692 -0.7345196\n",
       "V6 PGDX16580P 0.6831409 -0.8712906 0.7199476 -1.1853489 -0.8520159 -0.6829992\n",
       "   chr10_404   chr10_405 chr10_406 ... chr9_39      chr9_391    chr9_392   \n",
       "V1  0.02594817 0.7295906 0.7738027 ... -0.405123632  0.59187320 -0.29125018\n",
       "V2 -0.16594560 0.7765621 0.5761691 ... -0.849313481  0.39431325  0.05197526\n",
       "V3 -0.48824613 0.9537215 0.6624865 ... -0.871941533 -0.06389996 -0.22907645\n",
       "V4 -0.34185944 0.9281618 0.4768828 ... -0.005893625  0.18185487  0.32387927\n",
       "V5 -0.18778863 0.2546093 0.2920616 ... -0.067895629 -0.05197828 -0.18308631\n",
       "V6 -0.35499242 0.8598551 0.3870744 ... -0.735310376  0.36325245  0.20814984\n",
       "   chr9_393    chr9_394   chr9_395    chr9_396  chr9_397  chr9_398  chr9_399  \n",
       "V1 -0.58276010  0.3792968 -0.04366948 0.9183014 0.7664238 0.9980457 -1.0572778\n",
       "V2 -0.36318168  0.1744439 -0.13785162 0.5392077 0.3942941 1.7972449 -0.3619464\n",
       "V3 -0.32470631 -0.6251958  0.17051719 0.6882020 0.1744819 1.4357406 -0.2330366\n",
       "V4  0.04577069  0.2752394  0.22750427 0.6333635 0.8413436 1.2819797  0.5629469\n",
       "V5 -0.70242368 -0.4281903 -0.06235782 1.0764914 1.1411410 0.8795170 -0.4910720\n",
       "V6 -0.50307962  0.2609116  0.53933999 1.0772367 0.6906960 1.7696570 -0.4181884"
      ]
     },
     "metadata": {},
     "output_type": "display_data"
    }
   ],
   "source": [
    "head(lasso_pred)"
   ]
  },
  {
   "cell_type": "code",
   "execution_count": 4,
   "id": "fbaac04a-134f-4e5c-b949-ec26f016c098",
   "metadata": {},
   "outputs": [],
   "source": [
    "#tSNE"
   ]
  },
  {
   "cell_type": "code",
   "execution_count": 8,
   "id": "4a06e809-3d28-4b9d-9341-7d85450874a0",
   "metadata": {},
   "outputs": [],
   "source": [
    "#Try different perplexities and plot\n",
    "sne_results <- tibble(perplexity = numeric(),\n",
    "                      x = numeric(),\n",
    "                      y = numeric())\n",
    "\n",
    "for (per in c(1, 2, 3, 4, 5, 7, 10, 20, 40)) {\n",
    "  sne <- Rtsne(lasso_pred, perplexity=per, check_duplicates = FALSE)$Y\n",
    "  sne_results <- bind_rows(sne_results, tibble(perplexity = per,\n",
    "                                  x = sne[,1],\n",
    "                                  y = sne[,2]))\n",
    "}"
   ]
  },
  {
   "cell_type": "code",
   "execution_count": 9,
   "id": "800113fd-16e8-4e20-801c-45b5f6682e41",
   "metadata": {},
   "outputs": [
    {
     "data": {
      "image/png": "[encoded data removed]",
      "text/plain": [
       "plot without title"
      ]
     },
     "metadata": {},
     "output_type": "display_data"
    }
   ],
   "source": [
    "sne_results %>% ggplot() +\n",
    "  geom_point(aes(x, y)) +\n",
    "  facet_wrap(~perplexity, scales = 'free') +\n",
    "  theme_minimal()"
   ]
  },
  {
   "cell_type": "code",
   "execution_count": null,
   "id": "e686671b-a4e6-4f6c-8ab7-70656a327688",
   "metadata": {},
   "outputs": [],
   "source": []
  },
  {
   "cell_type": "code",
   "execution_count": null,
   "id": "12192425-e718-4123-9189-b82f32582c1a",
   "metadata": {},
   "outputs": [],
   "source": []
  },
  {
   "cell_type": "code",
   "execution_count": 49,
   "id": "3249f7e0-c9c9-4b2c-b373-c9b07e18b498",
   "metadata": {},
   "outputs": [],
   "source": [
    "sne <- Rtsne(lasso_pred, per=2, check_duplicates = FALSE)$Y"
   ]
  },
  {
   "cell_type": "code",
   "execution_count": 50,
   "id": "d0bfc314-77dd-4257-9010-a7474cfd2572",
   "metadata": {
    "tags": []
   },
   "outputs": [
    {
     "data": {
      "text/html": [
       "<table>\n",
       "<tbody>\n",
       "\t<tr><td>  6.568331 </td><td> 17.3253827</td></tr>\n",
       "\t<tr><td>-45.503459 </td><td>  5.1515166</td></tr>\n",
       "\t<tr><td>-16.475363 </td><td> 15.0334071</td></tr>\n",
       "\t<tr><td>  1.724912 </td><td>-21.6896464</td></tr>\n",
       "\t<tr><td> -2.681796 </td><td>-53.0785914</td></tr>\n",
       "\t<tr><td> -4.059485 </td><td>-18.7537845</td></tr>\n",
       "\t<tr><td>-35.676381 </td><td> -9.9842200</td></tr>\n",
       "\t<tr><td>-17.736615 </td><td> 15.6369936</td></tr>\n",
       "\t<tr><td>  1.916046 </td><td> 46.6388309</td></tr>\n",
       "\t<tr><td>-18.602278 </td><td>-17.3580956</td></tr>\n",
       "\t<tr><td>-10.607669 </td><td> 13.1253708</td></tr>\n",
       "\t<tr><td>-36.911573 </td><td>  0.4579879</td></tr>\n",
       "\t<tr><td>-23.454634 </td><td> 31.4133711</td></tr>\n",
       "\t<tr><td> 13.852201 </td><td> 32.5693161</td></tr>\n",
       "\t<tr><td> 14.608201 </td><td> -7.9379546</td></tr>\n",
       "\t<tr><td> 38.095263 </td><td>-21.5014995</td></tr>\n",
       "\t<tr><td> -3.684900 </td><td> 40.0185757</td></tr>\n",
       "\t<tr><td>  1.967780 </td><td>-20.7098772</td></tr>\n",
       "\t<tr><td> 32.156673 </td><td> -2.9465488</td></tr>\n",
       "\t<tr><td> 17.326690 </td><td>  1.9295077</td></tr>\n",
       "\t<tr><td> -2.241112 </td><td>-50.5606017</td></tr>\n",
       "\t<tr><td> 17.849693 </td><td>-12.3946641</td></tr>\n",
       "\t<tr><td> 17.630523 </td><td> 21.3063673</td></tr>\n",
       "\t<tr><td> -9.611406 </td><td>-52.6206319</td></tr>\n",
       "\t<tr><td> 16.240838 </td><td>-36.3991424</td></tr>\n",
       "\t<tr><td> 18.565286 </td><td>-20.2780770</td></tr>\n",
       "\t<tr><td>  5.967656 </td><td> 49.3879131</td></tr>\n",
       "\t<tr><td>  9.314942 </td><td> 45.9492489</td></tr>\n",
       "\t<tr><td> -3.793135 </td><td>-16.9145179</td></tr>\n",
       "\t<tr><td> -8.606857 </td><td>-22.9396673</td></tr>\n",
       "\t<tr><td>...</td><td>...</td></tr>\n",
       "\t<tr><td> 18.67389086</td><td>-12.0723793 </td></tr>\n",
       "\t<tr><td> -0.02192817</td><td> 15.8801494 </td></tr>\n",
       "\t<tr><td>  5.66405666</td><td> 54.8891433 </td></tr>\n",
       "\t<tr><td>-19.77347790</td><td>-20.1586545 </td></tr>\n",
       "\t<tr><td> 19.66833921</td><td> 50.0670675 </td></tr>\n",
       "\t<tr><td> 15.92776910</td><td> -3.5273676 </td></tr>\n",
       "\t<tr><td> 19.58873581</td><td> 51.1042610 </td></tr>\n",
       "\t<tr><td>  4.47276249</td><td>-54.4439599 </td></tr>\n",
       "\t<tr><td> 47.16025313</td><td>  7.9146973 </td></tr>\n",
       "\t<tr><td>-34.38442601</td><td>-28.2981911 </td></tr>\n",
       "\t<tr><td>  5.23158003</td><td> 26.3877565 </td></tr>\n",
       "\t<tr><td> 14.70931943</td><td> 29.3917293 </td></tr>\n",
       "\t<tr><td>-32.06929858</td><td>-29.4699123 </td></tr>\n",
       "\t<tr><td> -6.71335890</td><td>-28.3531022 </td></tr>\n",
       "\t<tr><td>-46.48305200</td><td>  5.3124492 </td></tr>\n",
       "\t<tr><td>-44.00247940</td><td> 24.0896708 </td></tr>\n",
       "\t<tr><td>-40.18754958</td><td> 11.1569139 </td></tr>\n",
       "\t<tr><td>-38.58497022</td><td> 11.1146806 </td></tr>\n",
       "\t<tr><td>-26.10454903</td><td> -0.8314907 </td></tr>\n",
       "\t<tr><td>-26.28635339</td><td> -0.8060358 </td></tr>\n",
       "\t<tr><td>-40.73482950</td><td>  9.6543230 </td></tr>\n",
       "\t<tr><td> 14.73088664</td><td> 33.8173438 </td></tr>\n",
       "\t<tr><td>-13.78107538</td><td>-38.2133139 </td></tr>\n",
       "\t<tr><td> -1.27566154</td><td>-41.5196758 </td></tr>\n",
       "\t<tr><td>-37.21419986</td><td>  1.2278234 </td></tr>\n",
       "\t<tr><td>-54.68640663</td><td> -3.0237982 </td></tr>\n",
       "\t<tr><td>-57.60566120</td><td> -7.6655451 </td></tr>\n",
       "\t<tr><td>-53.65325076</td><td> -2.9079282 </td></tr>\n",
       "\t<tr><td>-37.82421642</td><td>  2.1230350 </td></tr>\n",
       "\t<tr><td>-58.63253453</td><td> -8.1332167 </td></tr>\n",
       "</tbody>\n",
       "</table>\n"
      ],
      "text/latex": [
       "\\begin{tabular}{ll}\n",
       "\t   6.568331  &  17.3253827\\\\\n",
       "\t -45.503459  &   5.1515166\\\\\n",
       "\t -16.475363  &  15.0334071\\\\\n",
       "\t   1.724912  & -21.6896464\\\\\n",
       "\t  -2.681796  & -53.0785914\\\\\n",
       "\t  -4.059485  & -18.7537845\\\\\n",
       "\t -35.676381  &  -9.9842200\\\\\n",
       "\t -17.736615  &  15.6369936\\\\\n",
       "\t   1.916046  &  46.6388309\\\\\n",
       "\t -18.602278  & -17.3580956\\\\\n",
       "\t -10.607669  &  13.1253708\\\\\n",
       "\t -36.911573  &   0.4579879\\\\\n",
       "\t -23.454634  &  31.4133711\\\\\n",
       "\t  13.852201  &  32.5693161\\\\\n",
       "\t  14.608201  &  -7.9379546\\\\\n",
       "\t  38.095263  & -21.5014995\\\\\n",
       "\t  -3.684900  &  40.0185757\\\\\n",
       "\t   1.967780  & -20.7098772\\\\\n",
       "\t  32.156673  &  -2.9465488\\\\\n",
       "\t  17.326690  &   1.9295077\\\\\n",
       "\t  -2.241112  & -50.5606017\\\\\n",
       "\t  17.849693  & -12.3946641\\\\\n",
       "\t  17.630523  &  21.3063673\\\\\n",
       "\t  -9.611406  & -52.6206319\\\\\n",
       "\t  16.240838  & -36.3991424\\\\\n",
       "\t  18.565286  & -20.2780770\\\\\n",
       "\t   5.967656  &  49.3879131\\\\\n",
       "\t   9.314942  &  45.9492489\\\\\n",
       "\t  -3.793135  & -16.9145179\\\\\n",
       "\t  -8.606857  & -22.9396673\\\\\n",
       "\t ... & ...\\\\\n",
       "\t  18.67389086 & -12.0723793 \\\\\n",
       "\t  -0.02192817 &  15.8801494 \\\\\n",
       "\t   5.66405666 &  54.8891433 \\\\\n",
       "\t -19.77347790 & -20.1586545 \\\\\n",
       "\t  19.66833921 &  50.0670675 \\\\\n",
       "\t  15.92776910 &  -3.5273676 \\\\\n",
       "\t  19.58873581 &  51.1042610 \\\\\n",
       "\t   4.47276249 & -54.4439599 \\\\\n",
       "\t  47.16025313 &   7.9146973 \\\\\n",
       "\t -34.38442601 & -28.2981911 \\\\\n",
       "\t   5.23158003 &  26.3877565 \\\\\n",
       "\t  14.70931943 &  29.3917293 \\\\\n",
       "\t -32.06929858 & -29.4699123 \\\\\n",
       "\t  -6.71335890 & -28.3531022 \\\\\n",
       "\t -46.48305200 &   5.3124492 \\\\\n",
       "\t -44.00247940 &  24.0896708 \\\\\n",
       "\t -40.18754958 &  11.1569139 \\\\\n",
       "\t -38.58497022 &  11.1146806 \\\\\n",
       "\t -26.10454903 &  -0.8314907 \\\\\n",
       "\t -26.28635339 &  -0.8060358 \\\\\n",
       "\t -40.73482950 &   9.6543230 \\\\\n",
       "\t  14.73088664 &  33.8173438 \\\\\n",
       "\t -13.78107538 & -38.2133139 \\\\\n",
       "\t  -1.27566154 & -41.5196758 \\\\\n",
       "\t -37.21419986 &   1.2278234 \\\\\n",
       "\t -54.68640663 &  -3.0237982 \\\\\n",
       "\t -57.60566120 &  -7.6655451 \\\\\n",
       "\t -53.65325076 &  -2.9079282 \\\\\n",
       "\t -37.82421642 &   2.1230350 \\\\\n",
       "\t -58.63253453 &  -8.1332167 \\\\\n",
       "\\end{tabular}\n"
      ],
      "text/markdown": [
       "\n",
       "|   6.568331  |  17.3253827 |\n",
       "| -45.503459  |   5.1515166 |\n",
       "| -16.475363  |  15.0334071 |\n",
       "|   1.724912  | -21.6896464 |\n",
       "|  -2.681796  | -53.0785914 |\n",
       "|  -4.059485  | -18.7537845 |\n",
       "| -35.676381  |  -9.9842200 |\n",
       "| -17.736615  |  15.6369936 |\n",
       "|   1.916046  |  46.6388309 |\n",
       "| -18.602278  | -17.3580956 |\n",
       "| -10.607669  |  13.1253708 |\n",
       "| -36.911573  |   0.4579879 |\n",
       "| -23.454634  |  31.4133711 |\n",
       "|  13.852201  |  32.5693161 |\n",
       "|  14.608201  |  -7.9379546 |\n",
       "|  38.095263  | -21.5014995 |\n",
       "|  -3.684900  |  40.0185757 |\n",
       "|   1.967780  | -20.7098772 |\n",
       "|  32.156673  |  -2.9465488 |\n",
       "|  17.326690  |   1.9295077 |\n",
       "|  -2.241112  | -50.5606017 |\n",
       "|  17.849693  | -12.3946641 |\n",
       "|  17.630523  |  21.3063673 |\n",
       "|  -9.611406  | -52.6206319 |\n",
       "|  16.240838  | -36.3991424 |\n",
       "|  18.565286  | -20.2780770 |\n",
       "|   5.967656  |  49.3879131 |\n",
       "|   9.314942  |  45.9492489 |\n",
       "|  -3.793135  | -16.9145179 |\n",
       "|  -8.606857  | -22.9396673 |\n",
       "| ... | ... |\n",
       "|  18.67389086 | -12.0723793  |\n",
       "|  -0.02192817 |  15.8801494  |\n",
       "|   5.66405666 |  54.8891433  |\n",
       "| -19.77347790 | -20.1586545  |\n",
       "|  19.66833921 |  50.0670675  |\n",
       "|  15.92776910 |  -3.5273676  |\n",
       "|  19.58873581 |  51.1042610  |\n",
       "|   4.47276249 | -54.4439599  |\n",
       "|  47.16025313 |   7.9146973  |\n",
       "| -34.38442601 | -28.2981911  |\n",
       "|   5.23158003 |  26.3877565  |\n",
       "|  14.70931943 |  29.3917293  |\n",
       "| -32.06929858 | -29.4699123  |\n",
       "|  -6.71335890 | -28.3531022  |\n",
       "| -46.48305200 |   5.3124492  |\n",
       "| -44.00247940 |  24.0896708  |\n",
       "| -40.18754958 |  11.1569139  |\n",
       "| -38.58497022 |  11.1146806  |\n",
       "| -26.10454903 |  -0.8314907  |\n",
       "| -26.28635339 |  -0.8060358  |\n",
       "| -40.73482950 |   9.6543230  |\n",
       "|  14.73088664 |  33.8173438  |\n",
       "| -13.78107538 | -38.2133139  |\n",
       "|  -1.27566154 | -41.5196758  |\n",
       "| -37.21419986 |   1.2278234  |\n",
       "| -54.68640663 |  -3.0237982  |\n",
       "| -57.60566120 |  -7.6655451  |\n",
       "| -53.65325076 |  -2.9079282  |\n",
       "| -37.82421642 |   2.1230350  |\n",
       "| -58.63253453 |  -8.1332167  |\n",
       "\n"
      ],
      "text/plain": [
       "      [,1]         [,2]       \n",
       " [1,]   6.568331    17.3253827\n",
       " [2,] -45.503459     5.1515166\n",
       " [3,] -16.475363    15.0334071\n",
       " [4,]   1.724912   -21.6896464\n",
       " [5,]  -2.681796   -53.0785914\n",
       " [6,]  -4.059485   -18.7537845\n",
       " [7,] -35.676381    -9.9842200\n",
       " [8,] -17.736615    15.6369936\n",
       " [9,]   1.916046    46.6388309\n",
       "[10,] -18.602278   -17.3580956\n",
       "[11,] -10.607669    13.1253708\n",
       "[12,] -36.911573     0.4579879\n",
       "[13,] -23.454634    31.4133711\n",
       "[14,]  13.852201    32.5693161\n",
       "[15,]  14.608201    -7.9379546\n",
       "[16,]  38.095263   -21.5014995\n",
       "[17,]  -3.684900    40.0185757\n",
       "[18,]   1.967780   -20.7098772\n",
       "[19,]  32.156673    -2.9465488\n",
       "[20,]  17.326690     1.9295077\n",
       "[21,]  -2.241112   -50.5606017\n",
       "[22,]  17.849693   -12.3946641\n",
       "[23,]  17.630523    21.3063673\n",
       "[24,]  -9.611406   -52.6206319\n",
       "[25,]  16.240838   -36.3991424\n",
       "[26,]  18.565286   -20.2780770\n",
       "[27,]   5.967656    49.3879131\n",
       "[28,]   9.314942    45.9492489\n",
       "[29,]  -3.793135   -16.9145179\n",
       "[30,]  -8.606857   -22.9396673\n",
       "[31,] ...          ...        \n",
       "[32,]  18.67389086 -12.0723793\n",
       "[33,]  -0.02192817  15.8801494\n",
       "[34,]   5.66405666  54.8891433\n",
       "[35,] -19.77347790 -20.1586545\n",
       "[36,]  19.66833921  50.0670675\n",
       "[37,]  15.92776910  -3.5273676\n",
       "[38,]  19.58873581  51.1042610\n",
       "[39,]   4.47276249 -54.4439599\n",
       "[40,]  47.16025313   7.9146973\n",
       "[41,] -34.38442601 -28.2981911\n",
       "[42,]   5.23158003  26.3877565\n",
       "[43,]  14.70931943  29.3917293\n",
       "[44,] -32.06929858 -29.4699123\n",
       "[45,]  -6.71335890 -28.3531022\n",
       "[46,] -46.48305200   5.3124492\n",
       "[47,] -44.00247940  24.0896708\n",
       "[48,] -40.18754958  11.1569139\n",
       "[49,] -38.58497022  11.1146806\n",
       "[50,] -26.10454903  -0.8314907\n",
       "[51,] -26.28635339  -0.8060358\n",
       "[52,] -40.73482950   9.6543230\n",
       "[53,]  14.73088664  33.8173438\n",
       "[54,] -13.78107538 -38.2133139\n",
       "[55,]  -1.27566154 -41.5196758\n",
       "[56,] -37.21419986   1.2278234\n",
       "[57,] -54.68640663  -3.0237982\n",
       "[58,] -57.60566120  -7.6655451\n",
       "[59,] -53.65325076  -2.9079282\n",
       "[60,] -37.82421642   2.1230350\n",
       "[61,] -58.63253453  -8.1332167"
      ]
     },
     "metadata": {},
     "output_type": "display_data"
    }
   ],
   "source": [
    "sne"
   ]
  },
  {
   "cell_type": "code",
   "execution_count": null,
   "id": "c0c5e44a-26aa-478a-9151-91e77ffc1eaf",
   "metadata": {},
   "outputs": [],
   "source": []
  },
  {
   "cell_type": "code",
   "execution_count": 51,
   "id": "188bdb13-553b-40ab-85ef-96c6b6907b7e",
   "metadata": {},
   "outputs": [],
   "source": [
    "sample_names <- as.data.frame(lasso_pred$sample)\n",
    "colnames(sample_names) <- c(\"sample\")"
   ]
  },
  {
   "cell_type": "code",
   "execution_count": 52,
   "id": "dfce178e-6696-4c8b-99df-706d6aeea655",
   "metadata": {},
   "outputs": [
    {
     "data": {
      "text/html": [
       "<table>\n",
       "<thead><tr><th scope=col>sample</th></tr></thead>\n",
       "<tbody>\n",
       "\t<tr><td>PGDX16568P</td></tr>\n",
       "\t<tr><td>PGDX16569P</td></tr>\n",
       "\t<tr><td>PGDX16570P</td></tr>\n",
       "\t<tr><td>PGDX16571P</td></tr>\n",
       "\t<tr><td>PGDX16579P</td></tr>\n",
       "\t<tr><td>PGDX16580P</td></tr>\n",
       "</tbody>\n",
       "</table>\n"
      ],
      "text/latex": [
       "\\begin{tabular}{r|l}\n",
       " sample\\\\\n",
       "\\hline\n",
       "\t PGDX16568P\\\\\n",
       "\t PGDX16569P\\\\\n",
       "\t PGDX16570P\\\\\n",
       "\t PGDX16571P\\\\\n",
       "\t PGDX16579P\\\\\n",
       "\t PGDX16580P\\\\\n",
       "\\end{tabular}\n"
      ],
      "text/markdown": [
       "\n",
       "| sample |\n",
       "|---|\n",
       "| PGDX16568P |\n",
       "| PGDX16569P |\n",
       "| PGDX16570P |\n",
       "| PGDX16571P |\n",
       "| PGDX16579P |\n",
       "| PGDX16580P |\n",
       "\n"
      ],
      "text/plain": [
       "  sample    \n",
       "1 PGDX16568P\n",
       "2 PGDX16569P\n",
       "3 PGDX16570P\n",
       "4 PGDX16571P\n",
       "5 PGDX16579P\n",
       "6 PGDX16580P"
      ]
     },
     "metadata": {},
     "output_type": "display_data"
    }
   ],
   "source": [
    "head(sample_names)"
   ]
  },
  {
   "cell_type": "code",
   "execution_count": 53,
   "id": "5934cb0a-0dd4-4c4a-b1cb-80ec20c70feb",
   "metadata": {},
   "outputs": [],
   "source": [
    "ATAC_pred <- cbind(sample_names, sne)"
   ]
  },
  {
   "cell_type": "code",
   "execution_count": 54,
   "id": "abab0866-26dd-4d33-9d12-e1cce5af8f7c",
   "metadata": {},
   "outputs": [
    {
     "data": {
      "text/html": [
       "<table>\n",
       "<thead><tr><th scope=col>sample</th><th scope=col>1</th><th scope=col>2</th></tr></thead>\n",
       "<tbody>\n",
       "\t<tr><td>PGDX16568P</td><td>  6.568331</td><td> 17.325383</td></tr>\n",
       "\t<tr><td>PGDX16569P</td><td>-45.503459</td><td>  5.151517</td></tr>\n",
       "\t<tr><td>PGDX16570P</td><td>-16.475363</td><td> 15.033407</td></tr>\n",
       "\t<tr><td>PGDX16571P</td><td>  1.724912</td><td>-21.689646</td></tr>\n",
       "\t<tr><td>PGDX16579P</td><td> -2.681796</td><td>-53.078591</td></tr>\n",
       "\t<tr><td>PGDX16580P</td><td> -4.059485</td><td>-18.753785</td></tr>\n",
       "</tbody>\n",
       "</table>\n"
      ],
      "text/latex": [
       "\\begin{tabular}{r|lll}\n",
       " sample & 1 & 2\\\\\n",
       "\\hline\n",
       "\t PGDX16568P &   6.568331 &  17.325383\\\\\n",
       "\t PGDX16569P & -45.503459 &   5.151517\\\\\n",
       "\t PGDX16570P & -16.475363 &  15.033407\\\\\n",
       "\t PGDX16571P &   1.724912 & -21.689646\\\\\n",
       "\t PGDX16579P &  -2.681796 & -53.078591\\\\\n",
       "\t PGDX16580P &  -4.059485 & -18.753785\\\\\n",
       "\\end{tabular}\n"
      ],
      "text/markdown": [
       "\n",
       "| sample | 1 | 2 |\n",
       "|---|---|---|\n",
       "| PGDX16568P |   6.568331 |  17.325383 |\n",
       "| PGDX16569P | -45.503459 |   5.151517 |\n",
       "| PGDX16570P | -16.475363 |  15.033407 |\n",
       "| PGDX16571P |   1.724912 | -21.689646 |\n",
       "| PGDX16579P |  -2.681796 | -53.078591 |\n",
       "| PGDX16580P |  -4.059485 | -18.753785 |\n",
       "\n"
      ],
      "text/plain": [
       "  sample     1          2         \n",
       "1 PGDX16568P   6.568331  17.325383\n",
       "2 PGDX16569P -45.503459   5.151517\n",
       "3 PGDX16570P -16.475363  15.033407\n",
       "4 PGDX16571P   1.724912 -21.689646\n",
       "5 PGDX16579P  -2.681796 -53.078591\n",
       "6 PGDX16580P  -4.059485 -18.753785"
      ]
     },
     "metadata": {},
     "output_type": "display_data"
    }
   ],
   "source": [
    "head(ATAC_pred)"
   ]
  },
  {
   "cell_type": "code",
   "execution_count": 55,
   "id": "f084d772-2187-4b4a-bdc9-3d83abbaf887",
   "metadata": {},
   "outputs": [],
   "source": [
    "#ATAC_pred <- lasso_pred"
   ]
  },
  {
   "cell_type": "code",
   "execution_count": 56,
   "id": "1ac5b564-db27-49bd-b6a5-248cef3e4a21",
   "metadata": {},
   "outputs": [
    {
     "data": {
      "text/html": [
       "<table>\n",
       "<thead><tr><th scope=col>sample</th><th scope=col>sample_type</th></tr></thead>\n",
       "<tbody>\n",
       "\t<tr><td>PGDX10344P1   </td><td>Gastric_cancer</td></tr>\n",
       "\t<tr><td>PGDX10346P1   </td><td>Gastric_cancer</td></tr>\n",
       "\t<tr><td>PGDX10349P1   </td><td>Gastric_cancer</td></tr>\n",
       "\t<tr><td>PGDX10351P1   </td><td>Gastric_cancer</td></tr>\n",
       "\t<tr><td>PGDX10566P    </td><td>Ovarian_Cancer</td></tr>\n",
       "\t<tr><td>PGDX10567P    </td><td>Ovarian_Cancer</td></tr>\n",
       "</tbody>\n",
       "</table>\n"
      ],
      "text/latex": [
       "\\begin{tabular}{r|ll}\n",
       " sample & sample\\_type\\\\\n",
       "\\hline\n",
       "\t PGDX10344P1      & Gastric\\_cancer\\\\\n",
       "\t PGDX10346P1      & Gastric\\_cancer\\\\\n",
       "\t PGDX10349P1      & Gastric\\_cancer\\\\\n",
       "\t PGDX10351P1      & Gastric\\_cancer\\\\\n",
       "\t PGDX10566P       & Ovarian\\_Cancer\\\\\n",
       "\t PGDX10567P       & Ovarian\\_Cancer\\\\\n",
       "\\end{tabular}\n"
      ],
      "text/markdown": [
       "\n",
       "| sample | sample_type |\n",
       "|---|---|\n",
       "| PGDX10344P1    | Gastric_cancer |\n",
       "| PGDX10346P1    | Gastric_cancer |\n",
       "| PGDX10349P1    | Gastric_cancer |\n",
       "| PGDX10351P1    | Gastric_cancer |\n",
       "| PGDX10566P     | Ovarian_Cancer |\n",
       "| PGDX10567P     | Ovarian_Cancer |\n",
       "\n"
      ],
      "text/plain": [
       "  sample      sample_type   \n",
       "1 PGDX10344P1 Gastric_cancer\n",
       "2 PGDX10346P1 Gastric_cancer\n",
       "3 PGDX10349P1 Gastric_cancer\n",
       "4 PGDX10351P1 Gastric_cancer\n",
       "5 PGDX10566P  Ovarian_Cancer\n",
       "6 PGDX10567P  Ovarian_Cancer"
      ]
     },
     "metadata": {},
     "output_type": "display_data"
    }
   ],
   "source": [
    "sample_types <- read.table(\"../../data/sample_types.txt\", header = F, sep = \" \")\n",
    "colnames(sample_types) <- c(\"sample\", \"sample_type\")\n",
    "head(sample_types)"
   ]
  },
  {
   "cell_type": "code",
   "execution_count": 57,
   "id": "b998b2ed-cad4-4a05-98c6-58d72410d7a9",
   "metadata": {},
   "outputs": [
    {
     "data": {
      "text/html": [
       "<table>\n",
       "<thead><tr><th scope=col>sample</th><th scope=col>1</th><th scope=col>2</th><th scope=col>sample_type</th><th scope=col>sample_type01</th></tr></thead>\n",
       "<tbody>\n",
       "\t<tr><td>PGDX10344P1   </td><td>-19.560875    </td><td>-16.796604    </td><td>Gastric_cancer</td><td>1             </td></tr>\n",
       "\t<tr><td>PGDX10346P1   </td><td> 30.803999    </td><td>-21.999839    </td><td>Gastric_cancer</td><td>1             </td></tr>\n",
       "\t<tr><td>PGDX10349P1   </td><td>-43.210275    </td><td> 25.226655    </td><td>Gastric_cancer</td><td>1             </td></tr>\n",
       "\t<tr><td>PGDX10351P1   </td><td> 19.321007    </td><td>-22.177992    </td><td>Gastric_cancer</td><td>1             </td></tr>\n",
       "\t<tr><td>PGDX10566P    </td><td>  8.428967    </td><td>-34.846454    </td><td>Ovarian_Cancer</td><td>1             </td></tr>\n",
       "\t<tr><td>PGDX10567P    </td><td>-42.356292    </td><td>  3.369043    </td><td>Ovarian_Cancer</td><td>1             </td></tr>\n",
       "</tbody>\n",
       "</table>\n"
      ],
      "text/latex": [
       "\\begin{tabular}{r|lllll}\n",
       " sample & 1 & 2 & sample\\_type & sample\\_type01\\\\\n",
       "\\hline\n",
       "\t PGDX10344P1      & -19.560875       & -16.796604       & Gastric\\_cancer & 1               \\\\\n",
       "\t PGDX10346P1      &  30.803999       & -21.999839       & Gastric\\_cancer & 1               \\\\\n",
       "\t PGDX10349P1      & -43.210275       &  25.226655       & Gastric\\_cancer & 1               \\\\\n",
       "\t PGDX10351P1      &  19.321007       & -22.177992       & Gastric\\_cancer & 1               \\\\\n",
       "\t PGDX10566P       &   8.428967       & -34.846454       & Ovarian\\_Cancer & 1               \\\\\n",
       "\t PGDX10567P       & -42.356292       &   3.369043       & Ovarian\\_Cancer & 1               \\\\\n",
       "\\end{tabular}\n"
      ],
      "text/markdown": [
       "\n",
       "| sample | 1 | 2 | sample_type | sample_type01 |\n",
       "|---|---|---|---|---|\n",
       "| PGDX10344P1    | -19.560875     | -16.796604     | Gastric_cancer | 1              |\n",
       "| PGDX10346P1    |  30.803999     | -21.999839     | Gastric_cancer | 1              |\n",
       "| PGDX10349P1    | -43.210275     |  25.226655     | Gastric_cancer | 1              |\n",
       "| PGDX10351P1    |  19.321007     | -22.177992     | Gastric_cancer | 1              |\n",
       "| PGDX10566P     |   8.428967     | -34.846454     | Ovarian_Cancer | 1              |\n",
       "| PGDX10567P     | -42.356292     |   3.369043     | Ovarian_Cancer | 1              |\n",
       "\n"
      ],
      "text/plain": [
       "  sample      1          2          sample_type    sample_type01\n",
       "1 PGDX10344P1 -19.560875 -16.796604 Gastric_cancer 1            \n",
       "2 PGDX10346P1  30.803999 -21.999839 Gastric_cancer 1            \n",
       "3 PGDX10349P1 -43.210275  25.226655 Gastric_cancer 1            \n",
       "4 PGDX10351P1  19.321007 -22.177992 Gastric_cancer 1            \n",
       "5 PGDX10566P    8.428967 -34.846454 Ovarian_Cancer 1            \n",
       "6 PGDX10567P  -42.356292   3.369043 Ovarian_Cancer 1            "
      ]
     },
     "metadata": {},
     "output_type": "display_data"
    }
   ],
   "source": [
    "data <- merge(ATAC_pred, sample_types, by=\"sample\")\n",
    "data <- data %>% mutate(sample_type01 = ifelse(sample_type == \"Healthy\", 0, 1))\n",
    "head(data)"
   ]
  },
  {
   "cell_type": "code",
   "execution_count": 58,
   "id": "bb87f5ae-a854-4b23-996c-e795cdbb70af",
   "metadata": {},
   "outputs": [],
   "source": [
    "data <- data %>% dplyr::select(-sample_type)"
   ]
  },
  {
   "cell_type": "code",
   "execution_count": 59,
   "id": "65c4d00f-37ac-4eef-89e5-a620a3029ff2",
   "metadata": {},
   "outputs": [
    {
     "data": {
      "text/html": [
       "<table>\n",
       "<thead><tr><th scope=col>1</th><th scope=col>2</th><th scope=col>sample_type01</th></tr></thead>\n",
       "<tbody>\n",
       "\t<tr><td>-19.560875</td><td>-16.796604</td><td>1         </td></tr>\n",
       "\t<tr><td> 30.803999</td><td>-21.999839</td><td>1         </td></tr>\n",
       "\t<tr><td>-43.210275</td><td> 25.226655</td><td>1         </td></tr>\n",
       "\t<tr><td> 19.321007</td><td>-22.177992</td><td>1         </td></tr>\n",
       "\t<tr><td>  8.428967</td><td>-34.846454</td><td>1         </td></tr>\n",
       "\t<tr><td>-42.356292</td><td>  3.369043</td><td>1         </td></tr>\n",
       "</tbody>\n",
       "</table>\n"
      ],
      "text/latex": [
       "\\begin{tabular}{r|lll}\n",
       " 1 & 2 & sample\\_type01\\\\\n",
       "\\hline\n",
       "\t -19.560875 & -16.796604 & 1         \\\\\n",
       "\t  30.803999 & -21.999839 & 1         \\\\\n",
       "\t -43.210275 &  25.226655 & 1         \\\\\n",
       "\t  19.321007 & -22.177992 & 1         \\\\\n",
       "\t   8.428967 & -34.846454 & 1         \\\\\n",
       "\t -42.356292 &   3.369043 & 1         \\\\\n",
       "\\end{tabular}\n"
      ],
      "text/markdown": [
       "\n",
       "| 1 | 2 | sample_type01 |\n",
       "|---|---|---|\n",
       "| -19.560875 | -16.796604 | 1          |\n",
       "|  30.803999 | -21.999839 | 1          |\n",
       "| -43.210275 |  25.226655 | 1          |\n",
       "|  19.321007 | -22.177992 | 1          |\n",
       "|   8.428967 | -34.846454 | 1          |\n",
       "| -42.356292 |   3.369043 | 1          |\n",
       "\n"
      ],
      "text/plain": [
       "  1          2          sample_type01\n",
       "1 -19.560875 -16.796604 1            \n",
       "2  30.803999 -21.999839 1            \n",
       "3 -43.210275  25.226655 1            \n",
       "4  19.321007 -22.177992 1            \n",
       "5   8.428967 -34.846454 1            \n",
       "6 -42.356292   3.369043 1            "
      ]
     },
     "metadata": {},
     "output_type": "display_data"
    }
   ],
   "source": [
    "data <- data %>% dplyr::select(-sample)\n",
    "head(data)"
   ]
  },
  {
   "cell_type": "code",
   "execution_count": 60,
   "id": "894e24f7-dfab-45f2-bfd5-3fe25e6f42ec",
   "metadata": {},
   "outputs": [],
   "source": [
    "#Try different perplexities and plot\n",
    "#sne_results <- tibble(perplexity = numeric(),\n",
    "#                      x = numeric(),\n",
    "#                      y = numeric(),\n",
    "#                     sample_type01 = character())\n",
    "\n",
    "#for (per in c(1, 2, 3, 4, 5, 7, 10, 20, 40)) {\n",
    "#  sne <- Rtsne(data, perplexity=per, check_duplicates = FALSE)$Y\n",
    "#  sne_results <- bind_rows(sne_results, tibble(perplexity = per,\n",
    "#                                  x = sne[,1],\n",
    "#                                  y = sne[,2],\n",
    "#                                  sample_type01 = as.character(data$sample_type01)))}"
   ]
  },
  {
   "cell_type": "code",
   "execution_count": 61,
   "id": "f84ae9bd-f6cb-417d-9cd0-e876ade98fb7",
   "metadata": {},
   "outputs": [],
   "source": [
    "#sne_results %>% ggplot() +\n",
    "#  geom_point(aes(x, y, color = sample_type01)) +\n",
    "#  facet_wrap(~perplexity, scales = 'free') +\n",
    "#  theme_minimal()"
   ]
  },
  {
   "cell_type": "code",
   "execution_count": null,
   "id": "8fea7dd7-3695-4d28-88bd-8cab40f9e845",
   "metadata": {},
   "outputs": [],
   "source": []
  },
  {
   "cell_type": "code",
   "execution_count": null,
   "id": "09ebfe61-06ca-4234-814f-ca816a55668d",
   "metadata": {},
   "outputs": [],
   "source": []
  },
  {
   "cell_type": "code",
   "execution_count": 62,
   "id": "e464b9ea-4c23-421d-9a6a-8ecf746c2f78",
   "metadata": {},
   "outputs": [],
   "source": [
    "cross_validation <- function(dataset, k_inner_cv, k_outer_cv){\n",
    "    \n",
    "    observed  <- dataset$sample_type01\n",
    "    return_tibble <- tibble(observed = observed)\n",
    "    \n",
    "    for (i in 1:k_outer_cv){ # repeated Cross-validation loop\n",
    "        set.seed(i)\n",
    "        cvfolds <- cut(seq_len(nrow(dataset)), breaks = k_inner_cv, labels = F)\n",
    "        cvfolds <- sample(cvfolds)\n",
    "\n",
    "        predicted <- rep(NA, nrow(dataset))\n",
    "\n",
    "        for (n in 1:k_inner_cv){\n",
    "            rows      <- which(cvfolds==n)\n",
    "            testdata  <- dataset[rows,]\n",
    "            testlabels <- testdata$sample_type01\n",
    "            testdata <- testdata %>% dplyr::select(-sample_type01)\n",
    "\n",
    "            traindata <- dataset[-rows,]\n",
    "            trainlabels <- traindata$sample_type01\n",
    "            #traindata <- traindata %>% dplyr::select(-sample_type01)\n",
    "\n",
    "\n",
    "            fit       <- lda(sample_type01 ~ ., data=traindata)\n",
    "            prediction <- predict(fit, testdata)\n",
    "            predicted[rows] <- prediction$posterior[,2]\n",
    "        }\n",
    "        \n",
    "    current_round_tibble <- tibble(predicted = predicted)\n",
    "    return_tibble <- cbind(return_tibble, current_round_tibble)\n",
    "    } # end of outer cv loop\n",
    "\n",
    "    return(return_tibble)\n",
    "}"
   ]
  },
  {
   "cell_type": "code",
   "execution_count": 63,
   "id": "4b3e8535-ed1f-40f6-a389-0481b560eb1d",
   "metadata": {
    "tags": []
   },
   "outputs": [],
   "source": [
    "results <- as.data.frame(cross_validation(data, k_inner_cv = 10, k_outer_cv = 10))"
   ]
  },
  {
   "cell_type": "code",
   "execution_count": 64,
   "id": "42f51e28-e15f-455a-8044-62d47725bc15",
   "metadata": {},
   "outputs": [
    {
     "name": "stderr",
     "output_type": "stream",
     "text": [
      "New names:\n",
      "* predicted -> predicted...2\n",
      "* predicted -> predicted...3\n",
      "* predicted -> predicted...4\n",
      "* predicted -> predicted...5\n",
      "* predicted -> predicted...6\n",
      "* ...\n"
     ]
    },
    {
     "data": {
      "text/html": [
       "<table>\n",
       "<thead><tr><th scope=col>observed</th><th scope=col>predicted...2</th><th scope=col>predicted...3</th><th scope=col>predicted...4</th><th scope=col>predicted...5</th><th scope=col>predicted...6</th><th scope=col>predicted...7</th><th scope=col>predicted...8</th><th scope=col>predicted...9</th><th scope=col>predicted...10</th><th scope=col>predicted...11</th></tr></thead>\n",
       "<tbody>\n",
       "\t<tr><td>1        </td><td>0.6523304</td><td>0.6733441</td><td>0.6723033</td><td>0.6464101</td><td>0.6716326</td><td>0.6631503</td><td>0.6580038</td><td>0.6569081</td><td>0.6803192</td><td>0.6658040</td></tr>\n",
       "\t<tr><td>1        </td><td>0.4094843</td><td>0.3850503</td><td>0.3813644</td><td>0.3924455</td><td>0.3999664</td><td>0.3793733</td><td>0.3745364</td><td>0.4029100</td><td>0.4104253</td><td>0.4226997</td></tr>\n",
       "\t<tr><td>1        </td><td>0.7243904</td><td>0.7440997</td><td>0.7455510</td><td>0.7187234</td><td>0.7239636</td><td>0.7234051</td><td>0.7328710</td><td>0.7460589</td><td>0.7574976</td><td>0.7429312</td></tr>\n",
       "\t<tr><td>1        </td><td>0.4770758</td><td>0.4636955</td><td>0.4552021</td><td>0.4434338</td><td>0.4661828</td><td>0.4814327</td><td>0.4586945</td><td>0.4568310</td><td>0.4463254</td><td>0.4709122</td></tr>\n",
       "\t<tr><td>1        </td><td>0.5266263</td><td>0.5311976</td><td>0.5319937</td><td>0.5332517</td><td>0.5306688</td><td>0.5127901</td><td>0.5307300</td><td>0.5401738</td><td>0.5431544</td><td>0.5888030</td></tr>\n",
       "\t<tr><td>1        </td><td>0.7468022</td><td>0.7591735</td><td>0.7488909</td><td>0.7626724</td><td>0.7460583</td><td>0.7435328</td><td>0.7536522</td><td>0.7632466</td><td>0.7449700</td><td>0.7511181</td></tr>\n",
       "</tbody>\n",
       "</table>\n"
      ],
      "text/latex": [
       "\\begin{tabular}{r|lllllllllll}\n",
       " observed & predicted...2 & predicted...3 & predicted...4 & predicted...5 & predicted...6 & predicted...7 & predicted...8 & predicted...9 & predicted...10 & predicted...11\\\\\n",
       "\\hline\n",
       "\t 1         & 0.6523304 & 0.6733441 & 0.6723033 & 0.6464101 & 0.6716326 & 0.6631503 & 0.6580038 & 0.6569081 & 0.6803192 & 0.6658040\\\\\n",
       "\t 1         & 0.4094843 & 0.3850503 & 0.3813644 & 0.3924455 & 0.3999664 & 0.3793733 & 0.3745364 & 0.4029100 & 0.4104253 & 0.4226997\\\\\n",
       "\t 1         & 0.7243904 & 0.7440997 & 0.7455510 & 0.7187234 & 0.7239636 & 0.7234051 & 0.7328710 & 0.7460589 & 0.7574976 & 0.7429312\\\\\n",
       "\t 1         & 0.4770758 & 0.4636955 & 0.4552021 & 0.4434338 & 0.4661828 & 0.4814327 & 0.4586945 & 0.4568310 & 0.4463254 & 0.4709122\\\\\n",
       "\t 1         & 0.5266263 & 0.5311976 & 0.5319937 & 0.5332517 & 0.5306688 & 0.5127901 & 0.5307300 & 0.5401738 & 0.5431544 & 0.5888030\\\\\n",
       "\t 1         & 0.7468022 & 0.7591735 & 0.7488909 & 0.7626724 & 0.7460583 & 0.7435328 & 0.7536522 & 0.7632466 & 0.7449700 & 0.7511181\\\\\n",
       "\\end{tabular}\n"
      ],
      "text/markdown": [
       "\n",
       "| observed | predicted...2 | predicted...3 | predicted...4 | predicted...5 | predicted...6 | predicted...7 | predicted...8 | predicted...9 | predicted...10 | predicted...11 |\n",
       "|---|---|---|---|---|---|---|---|---|---|---|\n",
       "| 1         | 0.6523304 | 0.6733441 | 0.6723033 | 0.6464101 | 0.6716326 | 0.6631503 | 0.6580038 | 0.6569081 | 0.6803192 | 0.6658040 |\n",
       "| 1         | 0.4094843 | 0.3850503 | 0.3813644 | 0.3924455 | 0.3999664 | 0.3793733 | 0.3745364 | 0.4029100 | 0.4104253 | 0.4226997 |\n",
       "| 1         | 0.7243904 | 0.7440997 | 0.7455510 | 0.7187234 | 0.7239636 | 0.7234051 | 0.7328710 | 0.7460589 | 0.7574976 | 0.7429312 |\n",
       "| 1         | 0.4770758 | 0.4636955 | 0.4552021 | 0.4434338 | 0.4661828 | 0.4814327 | 0.4586945 | 0.4568310 | 0.4463254 | 0.4709122 |\n",
       "| 1         | 0.5266263 | 0.5311976 | 0.5319937 | 0.5332517 | 0.5306688 | 0.5127901 | 0.5307300 | 0.5401738 | 0.5431544 | 0.5888030 |\n",
       "| 1         | 0.7468022 | 0.7591735 | 0.7488909 | 0.7626724 | 0.7460583 | 0.7435328 | 0.7536522 | 0.7632466 | 0.7449700 | 0.7511181 |\n",
       "\n"
      ],
      "text/plain": [
       "  observed predicted...2 predicted...3 predicted...4 predicted...5\n",
       "1 1        0.6523304     0.6733441     0.6723033     0.6464101    \n",
       "2 1        0.4094843     0.3850503     0.3813644     0.3924455    \n",
       "3 1        0.7243904     0.7440997     0.7455510     0.7187234    \n",
       "4 1        0.4770758     0.4636955     0.4552021     0.4434338    \n",
       "5 1        0.5266263     0.5311976     0.5319937     0.5332517    \n",
       "6 1        0.7468022     0.7591735     0.7488909     0.7626724    \n",
       "  predicted...6 predicted...7 predicted...8 predicted...9 predicted...10\n",
       "1 0.6716326     0.6631503     0.6580038     0.6569081     0.6803192     \n",
       "2 0.3999664     0.3793733     0.3745364     0.4029100     0.4104253     \n",
       "3 0.7239636     0.7234051     0.7328710     0.7460589     0.7574976     \n",
       "4 0.4661828     0.4814327     0.4586945     0.4568310     0.4463254     \n",
       "5 0.5306688     0.5127901     0.5307300     0.5401738     0.5431544     \n",
       "6 0.7460583     0.7435328     0.7536522     0.7632466     0.7449700     \n",
       "  predicted...11\n",
       "1 0.6658040     \n",
       "2 0.4226997     \n",
       "3 0.7429312     \n",
       "4 0.4709122     \n",
       "5 0.5888030     \n",
       "6 0.7511181     "
      ]
     },
     "metadata": {},
     "output_type": "display_data"
    }
   ],
   "source": [
    "results <- tibble(results, .name_repair = \"unique\")\n",
    "head(results)"
   ]
  },
  {
   "cell_type": "code",
   "execution_count": 65,
   "id": "7f4b2cc0-448d-4306-b063-f8b2e30b7f61",
   "metadata": {},
   "outputs": [],
   "source": [
    " saveRDS(results, file = \"PCA_Lasso\")"
   ]
  },
  {
   "cell_type": "code",
   "execution_count": 66,
   "id": "3ba22c8a-88dd-409d-8808-bbacd72c63eb",
   "metadata": {},
   "outputs": [
    {
     "data": {
      "image/png": "[encoded data removed]",
      "text/plain": [
       "plot without title"
      ]
     },
     "metadata": {},
     "output_type": "display_data"
    }
   ],
   "source": [
    "# Create multiple curves to plot\n",
    "rocs <- roc(observed ~ predicted...2 + \n",
    "                    predicted...3 + \n",
    "                    predicted...4 + \n",
    "                    predicted...5 + \n",
    "                    predicted...6 +\n",
    "                    predicted...7 +\n",
    "                    predicted...8 + \n",
    "                    predicted...9 + \n",
    "                    predicted...10 + \n",
    "                    predicted...11, data = results)\n",
    "ggroc(rocs)"
   ]
  },
  {
   "cell_type": "code",
   "execution_count": 67,
   "id": "c70dfd35-58b7-4695-b97d-90c19180a4b4",
   "metadata": {},
   "outputs": [
    {
     "data": {
      "text/plain": [
       "NULL"
      ]
     },
     "metadata": {},
     "output_type": "display_data"
    }
   ],
   "source": [
    "\n",
    "dim(results$observed)"
   ]
  },
  {
   "cell_type": "code",
   "execution_count": null,
   "id": "d656dfd4-b2b5-4f1b-b560-25af1f706007",
   "metadata": {},
   "outputs": [],
   "source": []
  },
  {
   "cell_type": "code",
   "execution_count": 68,
   "id": "8fc27694-efbe-42ce-ba7f-252c3ef12344",
   "metadata": {},
   "outputs": [],
   "source": [
    "roc1 <- roc(results$observed, results$predicted...2)\n",
    "roc2 <- roc(results$observed, results$predicted...3)\n",
    "roc3 <- roc(results$observed, results$predicted...4)\n",
    "roc4 <- roc(results$observed, results$predicted...5)\n",
    "roc5 <- roc(results$observed, results$predicted...6)\n",
    "roc6 <- roc(results$observed, results$predicted...7)\n",
    "roc7 <- roc(results$observed, results$predicted...8)\n",
    "roc8 <- roc(results$observed, results$predicted...9)\n",
    "roc9 <- roc(results$observed, results$predicted...10)\n",
    "roc10 <- roc(results$observed, results$predicted...11)"
   ]
  },
  {
   "cell_type": "code",
   "execution_count": null,
   "id": "dd213c44-3499-4e56-89cd-da8093c3044e",
   "metadata": {},
   "outputs": [],
   "source": []
  },
  {
   "cell_type": "code",
   "execution_count": 69,
   "id": "63b777e5-556a-4912-9a35-fef3b1284292",
   "metadata": {},
   "outputs": [
    {
     "data": {
      "text/html": [
       "'Mean AUC over 10 repetitions of 10-fold CV: 0.654878978036755'"
      ],
      "text/latex": [
       "'Mean AUC over 10 repetitions of 10-fold CV: 0.654878978036755'"
      ],
      "text/markdown": [
       "'Mean AUC over 10 repetitions of 10-fold CV: 0.654878978036755'"
      ],
      "text/plain": [
       "[1] \"Mean AUC over 10 repetitions of 10-fold CV: 0.654878978036755\""
      ]
     },
     "metadata": {},
     "output_type": "display_data"
    }
   ],
   "source": [
    "paste(\"Mean AUC over 10 repetitions of 10-fold CV: \", mean(c(roc1$auc, roc2$auc, roc3$auc, roc4$auc, roc5$auc, roc6$auc, roc7$auc, roc8$auc, roc9$auc, roc10$auc)), sep = \"\")"
   ]
  },
  {
   "cell_type": "code",
   "execution_count": 70,
   "id": "49f159fe-7ecc-4e80-8851-65e78c8a4f0e",
   "metadata": {},
   "outputs": [],
   "source": [
    "results_01 <- results %>% mutate(predicted...2_01 = ifelse(predicted...2 > 0.5, 1, 0), \n",
    "                                 predicted...3_01 = ifelse(predicted...3 > 0.5, 1, 0), \n",
    "                                 predicted...4_01 = ifelse(predicted...4 > 0.5, 1, 0),\n",
    "                                 predicted...5_01 = ifelse(predicted...5 > 0.5, 1, 0),\n",
    "                                 predicted...6_01 = ifelse(predicted...6 > 0.5, 1, 0),\n",
    "                                 predicted...7_01 = ifelse(predicted...7 > 0.5, 1, 0),\n",
    "                                 predicted...8_01 = ifelse(predicted...8 > 0.5, 1, 0),\n",
    "                                 predicted...9_01 = ifelse(predicted...9 > 0.5, 1, 0),\n",
    "                                 predicted...10_01 = ifelse(predicted...10 > 0.5, 1, 0),\n",
    "                                 predicted...11_01 = ifelse(predicted...11 > 0.5, 1, 0))"
   ]
  },
  {
   "cell_type": "code",
   "execution_count": 71,
   "id": "05bb2d6a-bbf1-4152-877d-a3710aff5961",
   "metadata": {},
   "outputs": [
    {
     "data": {
      "text/html": [
       "<ol class=list-inline>\n",
       "\t<li>0.384433962264151</li>\n",
       "\t<li>0.386792452830189</li>\n",
       "\t<li>0.379716981132075</li>\n",
       "\t<li>0.382075471698113</li>\n",
       "\t<li>0.377358490566038</li>\n",
       "\t<li>0.384433962264151</li>\n",
       "\t<li>0.375</li>\n",
       "\t<li>0.386792452830189</li>\n",
       "\t<li>0.372641509433962</li>\n",
       "\t<li>0.375</li>\n",
       "</ol>\n"
      ],
      "text/latex": [
       "\\begin{enumerate*}\n",
       "\\item 0.384433962264151\n",
       "\\item 0.386792452830189\n",
       "\\item 0.379716981132075\n",
       "\\item 0.382075471698113\n",
       "\\item 0.377358490566038\n",
       "\\item 0.384433962264151\n",
       "\\item 0.375\n",
       "\\item 0.386792452830189\n",
       "\\item 0.372641509433962\n",
       "\\item 0.375\n",
       "\\end{enumerate*}\n"
      ],
      "text/markdown": [
       "1. 0.384433962264151\n",
       "2. 0.386792452830189\n",
       "3. 0.379716981132075\n",
       "4. 0.382075471698113\n",
       "5. 0.377358490566038\n",
       "6. 0.384433962264151\n",
       "7. 0.375\n",
       "8. 0.386792452830189\n",
       "9. 0.372641509433962\n",
       "10. 0.375\n",
       "\n",
       "\n"
      ],
      "text/plain": [
       " [1] 0.3844340 0.3867925 0.3797170 0.3820755 0.3773585 0.3844340 0.3750000\n",
       " [8] 0.3867925 0.3726415 0.3750000"
      ]
     },
     "metadata": {},
     "output_type": "display_data"
    },
    {
     "data": {
      "text/html": [
       "'Mean error rate over 10 repetitions of 10-fold CV: 0.380424528301887'"
      ],
      "text/latex": [
       "'Mean error rate over 10 repetitions of 10-fold CV: 0.380424528301887'"
      ],
      "text/markdown": [
       "'Mean error rate over 10 repetitions of 10-fold CV: 0.380424528301887'"
      ],
      "text/plain": [
       "[1] \"Mean error rate over 10 repetitions of 10-fold CV: 0.380424528301887\""
      ]
     },
     "metadata": {},
     "output_type": "display_data"
    }
   ],
   "source": [
    "error_rates <- c(mean(results_01$observed != results_01$predicted...2_01), \n",
    "                mean(results_01$observed != results_01$predicted...3_01),\n",
    "               mean(results_01$observed != results_01$predicted...4_01),\n",
    "               mean(results_01$observed != results_01$predicted...5_01),\n",
    "               mean(results_01$observed != results_01$predicted...6_01),\n",
    "               mean(results_01$observed != results_01$predicted...7_01),\n",
    "               mean(results_01$observed != results_01$predicted...8_01),\n",
    "               mean(results_01$observed != results_01$predicted...9_01), \n",
    "               mean(results_01$observed != results_01$predicted...10_01), \n",
    "               mean(results_01$observed != results_01$predicted...11_01))\n",
    "\n",
    "error_rates\n",
    "\n",
    "paste(\"Mean error rate over 10 repetitions of 10-fold CV: \", mean(error_rates), sep = \"\")"
   ]
  },
  {
   "cell_type": "code",
   "execution_count": 48,
   "id": "c76a3931-a7e2-48a0-97c2-78e5906a16d8",
   "metadata": {},
   "outputs": [
    {
     "data": {
      "text/html": [
       "<ol class=list-inline>\n",
       "\t<li>0.613207547169811</li>\n",
       "\t<li>0.596698113207547</li>\n",
       "\t<li>0.613207547169811</li>\n",
       "\t<li>0.606132075471698</li>\n",
       "\t<li>0.615566037735849</li>\n",
       "\t<li>0.610849056603774</li>\n",
       "\t<li>0.620283018867924</li>\n",
       "\t<li>0.608490566037736</li>\n",
       "\t<li>0.606132075471698</li>\n",
       "\t<li>0.613207547169811</li>\n",
       "</ol>\n"
      ],
      "text/latex": [
       "\\begin{enumerate*}\n",
       "\\item 0.613207547169811\n",
       "\\item 0.596698113207547\n",
       "\\item 0.613207547169811\n",
       "\\item 0.606132075471698\n",
       "\\item 0.615566037735849\n",
       "\\item 0.610849056603774\n",
       "\\item 0.620283018867924\n",
       "\\item 0.608490566037736\n",
       "\\item 0.606132075471698\n",
       "\\item 0.613207547169811\n",
       "\\end{enumerate*}\n"
      ],
      "text/markdown": [
       "1. 0.613207547169811\n",
       "2. 0.596698113207547\n",
       "3. 0.613207547169811\n",
       "4. 0.606132075471698\n",
       "5. 0.615566037735849\n",
       "6. 0.610849056603774\n",
       "7. 0.620283018867924\n",
       "8. 0.608490566037736\n",
       "9. 0.606132075471698\n",
       "10. 0.613207547169811\n",
       "\n",
       "\n"
      ],
      "text/plain": [
       " [1] 0.6132075 0.5966981 0.6132075 0.6061321 0.6155660 0.6108491 0.6202830\n",
       " [8] 0.6084906 0.6061321 0.6132075"
      ]
     },
     "metadata": {},
     "output_type": "display_data"
    },
    {
     "data": {
      "text/html": [
       "'Mean accuracy over 10 repetitions of 10-fold CV: 0.610377358490566'"
      ],
      "text/latex": [
       "'Mean accuracy over 10 repetitions of 10-fold CV: 0.610377358490566'"
      ],
      "text/markdown": [
       "'Mean accuracy over 10 repetitions of 10-fold CV: 0.610377358490566'"
      ],
      "text/plain": [
       "[1] \"Mean accuracy over 10 repetitions of 10-fold CV: 0.610377358490566\""
      ]
     },
     "metadata": {},
     "output_type": "display_data"
    }
   ],
   "source": [
    "accuracies <- c(mean(results_01$observed == results_01$predicted...2_01),\n",
    "               mean(results_01$observed == results_01$predicted...3_01), \n",
    "               mean(results_01$observed == results_01$predicted...4_01),\n",
    "               mean(results_01$observed == results_01$predicted...5_01),\n",
    "               mean(results_01$observed == results_01$predicted...6_01),\n",
    "               mean(results_01$observed == results_01$predicted...7_01),\n",
    "               mean(results_01$observed == results_01$predicted...8_01),\n",
    "               mean(results_01$observed == results_01$predicted...9_01), \n",
    "               mean(results_01$observed == results_01$predicted...10_01), \n",
    "               mean(results_01$observed == results_01$predicted...11_01))\n",
    "\n",
    "accuracies\n",
    "paste(\"Mean accuracy over 10 repetitions of 10-fold CV: \", mean(accuracies), sep = \"\")"
   ]
  },
  {
   "cell_type": "code",
   "execution_count": null,
   "id": "014f8ea9-7a72-4dfb-9159-0ef352c732d7",
   "metadata": {},
   "outputs": [],
   "source": []
  },
  {
   "cell_type": "code",
   "execution_count": null,
   "id": "30149b2e-c4e4-4b26-86c9-3d80d5261d56",
   "metadata": {},
   "outputs": [],
   "source": []
  },
  {
   "cell_type": "code",
   "execution_count": null,
   "id": "86832fac-3645-4529-ae9e-4796388091d2",
   "metadata": {},
   "outputs": [],
   "source": []
  },
  {
   "cell_type": "code",
   "execution_count": null,
   "id": "59e3e557-cb10-41b3-a232-861af08b6890",
   "metadata": {},
   "outputs": [],
   "source": []
  },
  {
   "cell_type": "code",
   "execution_count": null,
   "id": "6a574442-d1b8-4463-902b-7e146c5d098c",
   "metadata": {},
   "outputs": [],
   "source": []
  },
  {
   "cell_type": "code",
   "execution_count": null,
   "id": "5a61ef34-bed3-4580-aa76-419e765b3d01",
   "metadata": {},
   "outputs": [],
   "source": []
  },
  {
   "cell_type": "code",
   "execution_count": null,
   "id": "69d1eb88-d9a9-4eb1-b960-33caad70e9d2",
   "metadata": {},
   "outputs": [],
   "source": []
  }
 ],
 "metadata": {
  "kernelspec": {
   "display_name": "R",
   "language": "R",
   "name": "ir"
  },
  "language_info": {
   "codemirror_mode": "r",
   "file_extension": ".r",
   "mimetype": "text/x-r-source",
   "name": "R",
   "pygments_lexer": "r",
   "version": "3.6.1"
  }
 },
 "nbformat": 4,
 "nbformat_minor": 5
}
