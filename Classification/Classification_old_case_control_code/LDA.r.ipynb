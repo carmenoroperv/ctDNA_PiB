{
 "cells": [
  {
   "cell_type": "markdown",
   "id": "6a50e390-f439-4961-898a-286685966e17",
   "metadata": {},
   "source": [
    "### LDA"
   ]
  },
  {
   "cell_type": "code",
   "execution_count": 1,
   "id": "e5084794-5ca4-4966-9dc6-c874934234d4",
   "metadata": {},
   "outputs": [
    {
     "name": "stderr",
     "output_type": "stream",
     "text": [
      "Registered S3 methods overwritten by 'ggplot2':\n",
      "  method         from \n",
      "  [.quosures     rlang\n",
      "  c.quosures     rlang\n",
      "  print.quosures rlang\n",
      "Registered S3 method overwritten by 'rvest':\n",
      "  method            from\n",
      "  read_xml.response xml2\n",
      "── Attaching packages ────────────────────────────────────────────────── tidyverse 1.2.1 ──\n",
      "✔ ggplot2 3.1.1     ✔ purrr   0.3.4\n",
      "✔ tibble  3.1.4     ✔ dplyr   1.0.7\n",
      "✔ tidyr   1.1.3     ✔ stringr 1.4.0\n",
      "✔ readr   1.3.1     ✔ forcats 0.4.0\n",
      "── Conflicts ───────────────────────────────────────────────────── tidyverse_conflicts() ──\n",
      "✖ dplyr::filter() masks stats::filter()\n",
      "✖ dplyr::lag()    masks stats::lag()\n",
      "\n",
      "Attaching package: ‘MASS’\n",
      "\n",
      "The following object is masked from ‘package:dplyr’:\n",
      "\n",
      "    select\n",
      "\n",
      "Type 'citation(\"pROC\")' for a citation.\n",
      "\n",
      "Attaching package: ‘pROC’\n",
      "\n",
      "The following objects are masked from ‘package:stats’:\n",
      "\n",
      "    cov, smooth, var\n",
      "\n"
     ]
    }
   ],
   "source": [
    "library(tidyverse)\n",
    "library(MASS)\n",
    "library(pROC)"
   ]
  },
  {
   "cell_type": "code",
   "execution_count": 2,
   "id": "e352eacf-4293-4148-ae30-d47869fa552d",
   "metadata": {},
   "outputs": [
    {
     "name": "stderr",
     "output_type": "stream",
     "text": [
      "ERROR while rich displaying an object: Error in sprintf(wrap, header, body): 'fmt' length exceeds maximal format length 8192\n",
      "\n",
      "Traceback:\n",
      "1. FUN(X[[i]], ...)\n",
      "2. tryCatch(withCallingHandlers({\n",
      " .     if (!mime %in% names(repr::mime2repr)) \n",
      " .         stop(\"No repr_* for mimetype \", mime, \" in repr::mime2repr\")\n",
      " .     rpr <- repr::mime2repr[[mime]](obj)\n",
      " .     if (is.null(rpr)) \n",
      " .         return(NULL)\n",
      " .     prepare_content(is.raw(rpr), rpr)\n",
      " . }, error = error_handler), error = outer_handler)\n",
      "3. tryCatchList(expr, classes, parentenv, handlers)\n",
      "4. tryCatchOne(expr, names, parentenv, handlers[[1L]])\n",
      "5. doTryCatch(return(expr), name, parentenv, handler)\n",
      "6. withCallingHandlers({\n",
      " .     if (!mime %in% names(repr::mime2repr)) \n",
      " .         stop(\"No repr_* for mimetype \", mime, \" in repr::mime2repr\")\n",
      " .     rpr <- repr::mime2repr[[mime]](obj)\n",
      " .     if (is.null(rpr)) \n",
      " .         return(NULL)\n",
      " .     prepare_content(is.raw(rpr), rpr)\n",
      " . }, error = error_handler)\n",
      "7. repr::mime2repr[[mime]](obj)\n",
      "8. repr_latex.data.frame(obj)\n",
      "9. repr_matrix_generic(obj, sprintf(\"\\\\begin{tabular}{%s}\\n%%s%%s\\\\end{tabular}\\n\", \n",
      " .     cols), \"%s\\\\\\\\\\n\\\\hline\\n\", \"  &\", \" %s &\", \"%s\", \"\\t%s\\\\\\\\\\n\", \n",
      " .     \"%s &\", \" %s &\", escape_fun = latex_escape_vec, ...)\n",
      "10. sprintf(wrap, header, body)\n"
     ]
    },
    {
     "data": {
      "text/html": [
       "<table>\n",
       "<thead><tr><th></th><th scope=col>sample</th><th scope=col>chr10_400</th><th scope=col>chr10_40</th><th scope=col>chr10_4</th><th scope=col>chr10_401</th><th scope=col>chr10_402</th><th scope=col>chr10_403</th><th scope=col>chr10_404</th><th scope=col>chr10_405</th><th scope=col>chr10_406</th><th scope=col>...</th><th scope=col>chr9_39</th><th scope=col>chr9_391</th><th scope=col>chr9_392</th><th scope=col>chr9_393</th><th scope=col>chr9_394</th><th scope=col>chr9_395</th><th scope=col>chr9_396</th><th scope=col>chr9_397</th><th scope=col>chr9_398</th><th scope=col>chr9_399</th></tr></thead>\n",
       "<tbody>\n",
       "\t<tr><th scope=row>V1</th><td>PGDX16568P  </td><td>0.7621097   </td><td>-0.8032188  </td><td>0.6402487   </td><td>-0.8688929  </td><td>-0.4792134  </td><td>-0.5096581  </td><td> 0.02594817 </td><td>0.7295906   </td><td>0.7738027   </td><td>...         </td><td>-0.405123632</td><td> 0.59187320 </td><td>-0.29125018 </td><td>-0.58276010 </td><td> 0.3792968  </td><td>-0.04366948 </td><td>0.9183014   </td><td>0.7664238   </td><td>0.9980457   </td><td>-1.0572778  </td></tr>\n",
       "\t<tr><th scope=row>V2</th><td>PGDX16569P  </td><td>0.7057109   </td><td>-0.8227554  </td><td>0.7868749   </td><td>-1.0407754  </td><td>-0.9284673  </td><td>-0.4139074  </td><td>-0.16594560 </td><td>0.7765621   </td><td>0.5761691   </td><td>...         </td><td>-0.849313481</td><td> 0.39431325 </td><td> 0.05197526 </td><td>-0.36318168 </td><td> 0.1744439  </td><td>-0.13785162 </td><td>0.5392077   </td><td>0.3942941   </td><td>1.7972449   </td><td>-0.3619464  </td></tr>\n",
       "\t<tr><th scope=row>V3</th><td>PGDX16570P  </td><td>0.4891340   </td><td>-1.1448217  </td><td>0.9478602   </td><td>-1.0930696  </td><td>-0.5115270  </td><td>-0.7552269  </td><td>-0.48824613 </td><td>0.9537215   </td><td>0.6624865   </td><td>...         </td><td>-0.871941533</td><td>-0.06389996 </td><td>-0.22907645 </td><td>-0.32470631 </td><td>-0.6251958  </td><td> 0.17051719 </td><td>0.6882020   </td><td>0.1744819   </td><td>1.4357406   </td><td>-0.2330366  </td></tr>\n",
       "\t<tr><th scope=row>V4</th><td>PGDX16571P  </td><td>0.6882727   </td><td>-0.8585679  </td><td>0.6248431   </td><td>-0.8310281  </td><td>-0.5335804  </td><td>-0.5125528  </td><td>-0.34185944 </td><td>0.9281618   </td><td>0.4768828   </td><td>...         </td><td>-0.005893625</td><td> 0.18185487 </td><td> 0.32387927 </td><td> 0.04577069 </td><td> 0.2752394  </td><td> 0.22750427 </td><td>0.6333635   </td><td>0.8413436   </td><td>1.2819797   </td><td> 0.5629469  </td></tr>\n",
       "\t<tr><th scope=row>V5</th><td>PGDX16579P  </td><td>0.5801896   </td><td>-1.1674832  </td><td>0.7883376   </td><td>-1.0498406  </td><td>-1.2475692  </td><td>-0.7345196  </td><td>-0.18778863 </td><td>0.2546093   </td><td>0.2920616   </td><td>...         </td><td>-0.067895629</td><td>-0.05197828 </td><td>-0.18308631 </td><td>-0.70242368 </td><td>-0.4281903  </td><td>-0.06235782 </td><td>1.0764914   </td><td>1.1411410   </td><td>0.8795170   </td><td>-0.4910720  </td></tr>\n",
       "\t<tr><th scope=row>V6</th><td>PGDX16580P  </td><td>0.6831409   </td><td>-0.8712906  </td><td>0.7199476   </td><td>-1.1853489  </td><td>-0.8520159  </td><td>-0.6829992  </td><td>-0.35499242 </td><td>0.8598551   </td><td>0.3870744   </td><td>...         </td><td>-0.735310376</td><td> 0.36325245 </td><td> 0.20814984 </td><td>-0.50307962 </td><td> 0.2609116  </td><td> 0.53933999 </td><td>1.0772367   </td><td>0.6906960   </td><td>1.7696570   </td><td>-0.4181884  </td></tr>\n",
       "</tbody>\n",
       "</table>\n"
      ],
      "text/markdown": [
       "\n",
       "| <!--/--> | sample | chr10_400 | chr10_40 | chr10_4 | chr10_401 | chr10_402 | chr10_403 | chr10_404 | chr10_405 | chr10_406 | ... | chr9_39 | chr9_391 | chr9_392 | chr9_393 | chr9_394 | chr9_395 | chr9_396 | chr9_397 | chr9_398 | chr9_399 |\n",
       "|---|---|---|---|---|---|---|---|---|---|---|---|---|---|---|---|---|---|---|---|---|---|\n",
       "| V1 | PGDX16568P   | 0.7621097    | -0.8032188   | 0.6402487    | -0.8688929   | -0.4792134   | -0.5096581   |  0.02594817  | 0.7295906    | 0.7738027    | ...          | -0.405123632 |  0.59187320  | -0.29125018  | -0.58276010  |  0.3792968   | -0.04366948  | 0.9183014    | 0.7664238    | 0.9980457    | -1.0572778   |\n",
       "| V2 | PGDX16569P   | 0.7057109    | -0.8227554   | 0.7868749    | -1.0407754   | -0.9284673   | -0.4139074   | -0.16594560  | 0.7765621    | 0.5761691    | ...          | -0.849313481 |  0.39431325  |  0.05197526  | -0.36318168  |  0.1744439   | -0.13785162  | 0.5392077    | 0.3942941    | 1.7972449    | -0.3619464   |\n",
       "| V3 | PGDX16570P   | 0.4891340    | -1.1448217   | 0.9478602    | -1.0930696   | -0.5115270   | -0.7552269   | -0.48824613  | 0.9537215    | 0.6624865    | ...          | -0.871941533 | -0.06389996  | -0.22907645  | -0.32470631  | -0.6251958   |  0.17051719  | 0.6882020    | 0.1744819    | 1.4357406    | -0.2330366   |\n",
       "| V4 | PGDX16571P   | 0.6882727    | -0.8585679   | 0.6248431    | -0.8310281   | -0.5335804   | -0.5125528   | -0.34185944  | 0.9281618    | 0.4768828    | ...          | -0.005893625 |  0.18185487  |  0.32387927  |  0.04577069  |  0.2752394   |  0.22750427  | 0.6333635    | 0.8413436    | 1.2819797    |  0.5629469   |\n",
       "| V5 | PGDX16579P   | 0.5801896    | -1.1674832   | 0.7883376    | -1.0498406   | -1.2475692   | -0.7345196   | -0.18778863  | 0.2546093    | 0.2920616    | ...          | -0.067895629 | -0.05197828  | -0.18308631  | -0.70242368  | -0.4281903   | -0.06235782  | 1.0764914    | 1.1411410    | 0.8795170    | -0.4910720   |\n",
       "| V6 | PGDX16580P   | 0.6831409    | -0.8712906   | 0.7199476    | -1.1853489   | -0.8520159   | -0.6829992   | -0.35499242  | 0.8598551    | 0.3870744    | ...          | -0.735310376 |  0.36325245  |  0.20814984  | -0.50307962  |  0.2609116   |  0.53933999  | 1.0772367    | 0.6906960    | 1.7696570    | -0.4181884   |\n",
       "\n"
      ],
      "text/plain": [
       "   sample     chr10_400 chr10_40   chr10_4   chr10_401  chr10_402  chr10_403 \n",
       "V1 PGDX16568P 0.7621097 -0.8032188 0.6402487 -0.8688929 -0.4792134 -0.5096581\n",
       "V2 PGDX16569P 0.7057109 -0.8227554 0.7868749 -1.0407754 -0.9284673 -0.4139074\n",
       "V3 PGDX16570P 0.4891340 -1.1448217 0.9478602 -1.0930696 -0.5115270 -0.7552269\n",
       "V4 PGDX16571P 0.6882727 -0.8585679 0.6248431 -0.8310281 -0.5335804 -0.5125528\n",
       "V5 PGDX16579P 0.5801896 -1.1674832 0.7883376 -1.0498406 -1.2475692 -0.7345196\n",
       "V6 PGDX16580P 0.6831409 -0.8712906 0.7199476 -1.1853489 -0.8520159 -0.6829992\n",
       "   chr10_404   chr10_405 chr10_406 ... chr9_39      chr9_391    chr9_392   \n",
       "V1  0.02594817 0.7295906 0.7738027 ... -0.405123632  0.59187320 -0.29125018\n",
       "V2 -0.16594560 0.7765621 0.5761691 ... -0.849313481  0.39431325  0.05197526\n",
       "V3 -0.48824613 0.9537215 0.6624865 ... -0.871941533 -0.06389996 -0.22907645\n",
       "V4 -0.34185944 0.9281618 0.4768828 ... -0.005893625  0.18185487  0.32387927\n",
       "V5 -0.18778863 0.2546093 0.2920616 ... -0.067895629 -0.05197828 -0.18308631\n",
       "V6 -0.35499242 0.8598551 0.3870744 ... -0.735310376  0.36325245  0.20814984\n",
       "   chr9_393    chr9_394   chr9_395    chr9_396  chr9_397  chr9_398  chr9_399  \n",
       "V1 -0.58276010  0.3792968 -0.04366948 0.9183014 0.7664238 0.9980457 -1.0572778\n",
       "V2 -0.36318168  0.1744439 -0.13785162 0.5392077 0.3942941 1.7972449 -0.3619464\n",
       "V3 -0.32470631 -0.6251958  0.17051719 0.6882020 0.1744819 1.4357406 -0.2330366\n",
       "V4  0.04577069  0.2752394  0.22750427 0.6333635 0.8413436 1.2819797  0.5629469\n",
       "V5 -0.70242368 -0.4281903 -0.06235782 1.0764914 1.1411410 0.8795170 -0.4910720\n",
       "V6 -0.50307962  0.2609116  0.53933999 1.0772367 0.6906960 1.7696570 -0.4181884"
      ]
     },
     "metadata": {},
     "output_type": "display_data"
    }
   ],
   "source": [
    "#data <- readRDS(\"../data/ATAC_predictions_train_XX_predict_XX/ATAC_pred_lasso_normalized_trimmed_formatted_standardized.rds\")\n",
    "data <- readRDS(snakemake@input[[\"input_predictions\"]])\n",
    "\n",
    "#data <- data[1:100, 1:50]\n",
    "head(data)"
   ]
  },
  {
   "cell_type": "code",
   "execution_count": 3,
   "id": "3d6bcac6-83e3-4f5c-8ca8-44a6c0abfb71",
   "metadata": {},
   "outputs": [
    {
     "data": {
      "text/html": [
       "<table>\n",
       "<thead><tr><th scope=col>sample</th><th scope=col>sample_type</th></tr></thead>\n",
       "<tbody>\n",
       "\t<tr><td>PGDX10344P1   </td><td>Gastric_cancer</td></tr>\n",
       "\t<tr><td>PGDX10346P1   </td><td>Gastric_cancer</td></tr>\n",
       "\t<tr><td>PGDX10349P1   </td><td>Gastric_cancer</td></tr>\n",
       "\t<tr><td>PGDX10351P1   </td><td>Gastric_cancer</td></tr>\n",
       "\t<tr><td>PGDX10566P    </td><td>Ovarian_Cancer</td></tr>\n",
       "\t<tr><td>PGDX10567P    </td><td>Ovarian_Cancer</td></tr>\n",
       "</tbody>\n",
       "</table>\n"
      ],
      "text/latex": [
       "\\begin{tabular}{r|ll}\n",
       " sample & sample\\_type\\\\\n",
       "\\hline\n",
       "\t PGDX10344P1      & Gastric\\_cancer\\\\\n",
       "\t PGDX10346P1      & Gastric\\_cancer\\\\\n",
       "\t PGDX10349P1      & Gastric\\_cancer\\\\\n",
       "\t PGDX10351P1      & Gastric\\_cancer\\\\\n",
       "\t PGDX10566P       & Ovarian\\_Cancer\\\\\n",
       "\t PGDX10567P       & Ovarian\\_Cancer\\\\\n",
       "\\end{tabular}\n"
      ],
      "text/markdown": [
       "\n",
       "| sample | sample_type |\n",
       "|---|---|\n",
       "| PGDX10344P1    | Gastric_cancer |\n",
       "| PGDX10346P1    | Gastric_cancer |\n",
       "| PGDX10349P1    | Gastric_cancer |\n",
       "| PGDX10351P1    | Gastric_cancer |\n",
       "| PGDX10566P     | Ovarian_Cancer |\n",
       "| PGDX10567P     | Ovarian_Cancer |\n",
       "\n"
      ],
      "text/plain": [
       "  sample      sample_type   \n",
       "1 PGDX10344P1 Gastric_cancer\n",
       "2 PGDX10346P1 Gastric_cancer\n",
       "3 PGDX10349P1 Gastric_cancer\n",
       "4 PGDX10351P1 Gastric_cancer\n",
       "5 PGDX10566P  Ovarian_Cancer\n",
       "6 PGDX10567P  Ovarian_Cancer"
      ]
     },
     "metadata": {},
     "output_type": "display_data"
    }
   ],
   "source": [
    "sample_types <- read.table(snakemake@input[[\"input_sample_types\"]], header = F, sep = \" \")\n",
    "#sample_types <- read.table(\"../data/sample_types.txt\", header = F, sep = \" \")\n",
    "\n",
    "colnames(sample_types) <- c(\"sample\", \"sample_type\")\n",
    "head(sample_types)"
   ]
  },
  {
   "cell_type": "code",
   "execution_count": 4,
   "id": "1d634c6e-6618-4baf-ad6c-ac79cf9f470d",
   "metadata": {},
   "outputs": [
    {
     "name": "stderr",
     "output_type": "stream",
     "text": [
      "ERROR while rich displaying an object: Error in sprintf(wrap, header, body): 'fmt' length exceeds maximal format length 8192\n",
      "\n",
      "Traceback:\n",
      "1. FUN(X[[i]], ...)\n",
      "2. tryCatch(withCallingHandlers({\n",
      " .     if (!mime %in% names(repr::mime2repr)) \n",
      " .         stop(\"No repr_* for mimetype \", mime, \" in repr::mime2repr\")\n",
      " .     rpr <- repr::mime2repr[[mime]](obj)\n",
      " .     if (is.null(rpr)) \n",
      " .         return(NULL)\n",
      " .     prepare_content(is.raw(rpr), rpr)\n",
      " . }, error = error_handler), error = outer_handler)\n",
      "3. tryCatchList(expr, classes, parentenv, handlers)\n",
      "4. tryCatchOne(expr, names, parentenv, handlers[[1L]])\n",
      "5. doTryCatch(return(expr), name, parentenv, handler)\n",
      "6. withCallingHandlers({\n",
      " .     if (!mime %in% names(repr::mime2repr)) \n",
      " .         stop(\"No repr_* for mimetype \", mime, \" in repr::mime2repr\")\n",
      " .     rpr <- repr::mime2repr[[mime]](obj)\n",
      " .     if (is.null(rpr)) \n",
      " .         return(NULL)\n",
      " .     prepare_content(is.raw(rpr), rpr)\n",
      " . }, error = error_handler)\n",
      "7. repr::mime2repr[[mime]](obj)\n",
      "8. repr_latex.data.frame(obj)\n",
      "9. repr_matrix_generic(obj, sprintf(\"\\\\begin{tabular}{%s}\\n%%s%%s\\\\end{tabular}\\n\", \n",
      " .     cols), \"%s\\\\\\\\\\n\\\\hline\\n\", \"  &\", \" %s &\", \"%s\", \"\\t%s\\\\\\\\\\n\", \n",
      " .     \"%s &\", \" %s &\", escape_fun = latex_escape_vec, ...)\n",
      "10. sprintf(wrap, header, body)\n"
     ]
    },
    {
     "data": {
      "text/html": [
       "<table>\n",
       "<thead><tr><th scope=col>sample</th><th scope=col>chr10_400</th><th scope=col>chr10_40</th><th scope=col>chr10_4</th><th scope=col>chr10_401</th><th scope=col>chr10_402</th><th scope=col>chr10_403</th><th scope=col>chr10_404</th><th scope=col>chr10_405</th><th scope=col>chr10_406</th><th scope=col>...</th><th scope=col>chr9_391</th><th scope=col>chr9_392</th><th scope=col>chr9_393</th><th scope=col>chr9_394</th><th scope=col>chr9_395</th><th scope=col>chr9_396</th><th scope=col>chr9_397</th><th scope=col>chr9_398</th><th scope=col>chr9_399</th><th scope=col>sample_type</th></tr></thead>\n",
       "<tbody>\n",
       "\t<tr><td>PGDX10344P1   </td><td>0.28476325    </td><td>-0.8212573    </td><td>1.0277500     </td><td>-0.7094983    </td><td>-0.2327985    </td><td>-0.7836319    </td><td> 0.01979819   </td><td>0.2624251     </td><td>0.3128992     </td><td>...           </td><td>-0.34089350   </td><td> 0.006860094  </td><td>-0.5010935    </td><td>-0.2043651    </td><td> 0.02437101   </td><td> 0.57938365   </td><td>-0.4136060    </td><td>1.3160044     </td><td>-0.26256223   </td><td>Gastric_cancer</td></tr>\n",
       "\t<tr><td>PGDX10346P1   </td><td>1.28471727    </td><td>-0.8295661    </td><td>1.0145149     </td><td>-0.6213053    </td><td>-0.8143027    </td><td>-0.6479755    </td><td>-0.06975614   </td><td>0.9264024     </td><td>0.4895216     </td><td>...           </td><td>-0.17629217   </td><td>-0.421600296  </td><td>-0.5810840    </td><td> 0.1408379    </td><td> 0.21122926   </td><td> 1.13429106   </td><td> 0.8116547    </td><td>0.3187471     </td><td>-0.48265821   </td><td>Gastric_cancer</td></tr>\n",
       "\t<tr><td>PGDX10349P1   </td><td>0.07110482    </td><td>-1.0079115    </td><td>0.3347017     </td><td>-1.1303365    </td><td>-0.8177276    </td><td>-0.9202015    </td><td>-0.08484151   </td><td>0.5183954     </td><td>2.2808829     </td><td>...           </td><td> 1.22409122   </td><td> 0.527804492  </td><td>-0.1435833    </td><td> 0.4967880    </td><td> 0.15991730   </td><td> 0.89522351   </td><td> 0.5305742    </td><td>1.6767953     </td><td>-0.02839009   </td><td>Gastric_cancer</td></tr>\n",
       "\t<tr><td>PGDX10351P1   </td><td>1.36298501    </td><td>-1.4848879    </td><td>0.4225454     </td><td>-1.3192129    </td><td>-0.7097136    </td><td>-0.4653093    </td><td>-0.42147744   </td><td>0.9729417     </td><td>0.5944980     </td><td>...           </td><td> 0.43571295   </td><td> 0.872833915  </td><td>-0.0670184    </td><td> 0.7394425    </td><td> 0.13690205   </td><td> 1.29732717   </td><td> 0.4739056    </td><td>1.4153912     </td><td>-0.12217374   </td><td>Gastric_cancer</td></tr>\n",
       "\t<tr><td>PGDX10566P    </td><td>0.40245603    </td><td>-1.0782760    </td><td>1.2759516     </td><td>-0.8646247    </td><td>-0.5192562    </td><td>-0.8555661    </td><td>-0.22999396   </td><td>0.7699482     </td><td>0.4825674     </td><td>...           </td><td> 0.04951928   </td><td> 0.173364771  </td><td>-0.8705736    </td><td> 0.4935296    </td><td>-0.17648798   </td><td>-0.02395699   </td><td> 0.3182328    </td><td>1.3930824     </td><td>-0.47078676   </td><td>Ovarian_Cancer</td></tr>\n",
       "\t<tr><td>PGDX10567P    </td><td>0.97825189    </td><td>-0.6787169    </td><td>1.0934262     </td><td>-0.1749540    </td><td>-0.6319351    </td><td>-0.7585842    </td><td> 0.22653017   </td><td>0.5994301     </td><td>0.6407291     </td><td>...           </td><td> 0.50968208   </td><td>-0.241967372  </td><td>-0.6951369    </td><td> 0.2412607    </td><td> 0.11914801   </td><td> 0.07982386   </td><td> 0.2854560    </td><td>1.7946488     </td><td>-0.69550001   </td><td>Ovarian_Cancer</td></tr>\n",
       "</tbody>\n",
       "</table>\n"
      ],
      "text/markdown": [
       "\n",
       "| sample | chr10_400 | chr10_40 | chr10_4 | chr10_401 | chr10_402 | chr10_403 | chr10_404 | chr10_405 | chr10_406 | ... | chr9_391 | chr9_392 | chr9_393 | chr9_394 | chr9_395 | chr9_396 | chr9_397 | chr9_398 | chr9_399 | sample_type |\n",
       "|---|---|---|---|---|---|---|---|---|---|---|---|---|---|---|---|---|---|---|---|---|\n",
       "| PGDX10344P1    | 0.28476325     | -0.8212573     | 1.0277500      | -0.7094983     | -0.2327985     | -0.7836319     |  0.01979819    | 0.2624251      | 0.3128992      | ...            | -0.34089350    |  0.006860094   | -0.5010935     | -0.2043651     |  0.02437101    |  0.57938365    | -0.4136060     | 1.3160044      | -0.26256223    | Gastric_cancer |\n",
       "| PGDX10346P1    | 1.28471727     | -0.8295661     | 1.0145149      | -0.6213053     | -0.8143027     | -0.6479755     | -0.06975614    | 0.9264024      | 0.4895216      | ...            | -0.17629217    | -0.421600296   | -0.5810840     |  0.1408379     |  0.21122926    |  1.13429106    |  0.8116547     | 0.3187471      | -0.48265821    | Gastric_cancer |\n",
       "| PGDX10349P1    | 0.07110482     | -1.0079115     | 0.3347017      | -1.1303365     | -0.8177276     | -0.9202015     | -0.08484151    | 0.5183954      | 2.2808829      | ...            |  1.22409122    |  0.527804492   | -0.1435833     |  0.4967880     |  0.15991730    |  0.89522351    |  0.5305742     | 1.6767953      | -0.02839009    | Gastric_cancer |\n",
       "| PGDX10351P1    | 1.36298501     | -1.4848879     | 0.4225454      | -1.3192129     | -0.7097136     | -0.4653093     | -0.42147744    | 0.9729417      | 0.5944980      | ...            |  0.43571295    |  0.872833915   | -0.0670184     |  0.7394425     |  0.13690205    |  1.29732717    |  0.4739056     | 1.4153912      | -0.12217374    | Gastric_cancer |\n",
       "| PGDX10566P     | 0.40245603     | -1.0782760     | 1.2759516      | -0.8646247     | -0.5192562     | -0.8555661     | -0.22999396    | 0.7699482      | 0.4825674      | ...            |  0.04951928    |  0.173364771   | -0.8705736     |  0.4935296     | -0.17648798    | -0.02395699    |  0.3182328     | 1.3930824      | -0.47078676    | Ovarian_Cancer |\n",
       "| PGDX10567P     | 0.97825189     | -0.6787169     | 1.0934262      | -0.1749540     | -0.6319351     | -0.7585842     |  0.22653017    | 0.5994301      | 0.6407291      | ...            |  0.50968208    | -0.241967372   | -0.6951369     |  0.2412607     |  0.11914801    |  0.07982386    |  0.2854560     | 1.7946488      | -0.69550001    | Ovarian_Cancer |\n",
       "\n"
      ],
      "text/plain": [
       "  sample      chr10_400  chr10_40   chr10_4   chr10_401  chr10_402  chr10_403 \n",
       "1 PGDX10344P1 0.28476325 -0.8212573 1.0277500 -0.7094983 -0.2327985 -0.7836319\n",
       "2 PGDX10346P1 1.28471727 -0.8295661 1.0145149 -0.6213053 -0.8143027 -0.6479755\n",
       "3 PGDX10349P1 0.07110482 -1.0079115 0.3347017 -1.1303365 -0.8177276 -0.9202015\n",
       "4 PGDX10351P1 1.36298501 -1.4848879 0.4225454 -1.3192129 -0.7097136 -0.4653093\n",
       "5 PGDX10566P  0.40245603 -1.0782760 1.2759516 -0.8646247 -0.5192562 -0.8555661\n",
       "6 PGDX10567P  0.97825189 -0.6787169 1.0934262 -0.1749540 -0.6319351 -0.7585842\n",
       "  chr10_404   chr10_405 chr10_406 ... chr9_391    chr9_392     chr9_393  \n",
       "1  0.01979819 0.2624251 0.3128992 ... -0.34089350  0.006860094 -0.5010935\n",
       "2 -0.06975614 0.9264024 0.4895216 ... -0.17629217 -0.421600296 -0.5810840\n",
       "3 -0.08484151 0.5183954 2.2808829 ...  1.22409122  0.527804492 -0.1435833\n",
       "4 -0.42147744 0.9729417 0.5944980 ...  0.43571295  0.872833915 -0.0670184\n",
       "5 -0.22999396 0.7699482 0.4825674 ...  0.04951928  0.173364771 -0.8705736\n",
       "6  0.22653017 0.5994301 0.6407291 ...  0.50968208 -0.241967372 -0.6951369\n",
       "  chr9_394   chr9_395    chr9_396    chr9_397   chr9_398  chr9_399   \n",
       "1 -0.2043651  0.02437101  0.57938365 -0.4136060 1.3160044 -0.26256223\n",
       "2  0.1408379  0.21122926  1.13429106  0.8116547 0.3187471 -0.48265821\n",
       "3  0.4967880  0.15991730  0.89522351  0.5305742 1.6767953 -0.02839009\n",
       "4  0.7394425  0.13690205  1.29732717  0.4739056 1.4153912 -0.12217374\n",
       "5  0.4935296 -0.17648798 -0.02395699  0.3182328 1.3930824 -0.47078676\n",
       "6  0.2412607  0.11914801  0.07982386  0.2854560 1.7946488 -0.69550001\n",
       "  sample_type   \n",
       "1 Gastric_cancer\n",
       "2 Gastric_cancer\n",
       "3 Gastric_cancer\n",
       "4 Gastric_cancer\n",
       "5 Ovarian_Cancer\n",
       "6 Ovarian_Cancer"
      ]
     },
     "metadata": {},
     "output_type": "display_data"
    }
   ],
   "source": [
    "data <- merge(data, sample_types, by=\"sample\")\n",
    "head(data)\n",
    "data <- data %>% mutate(sample_type01 = ifelse(sample_type == \"Healthy\", 0, 1))"
   ]
  },
  {
   "cell_type": "code",
   "execution_count": 5,
   "id": "a631656c-49dd-4b23-b885-fb8a9b219b7c",
   "metadata": {},
   "outputs": [
    {
     "name": "stderr",
     "output_type": "stream",
     "text": [
      "ERROR while rich displaying an object: Error in sprintf(wrap, header, body): 'fmt' length exceeds maximal format length 8192\n",
      "\n",
      "Traceback:\n",
      "1. FUN(X[[i]], ...)\n",
      "2. tryCatch(withCallingHandlers({\n",
      " .     if (!mime %in% names(repr::mime2repr)) \n",
      " .         stop(\"No repr_* for mimetype \", mime, \" in repr::mime2repr\")\n",
      " .     rpr <- repr::mime2repr[[mime]](obj)\n",
      " .     if (is.null(rpr)) \n",
      " .         return(NULL)\n",
      " .     prepare_content(is.raw(rpr), rpr)\n",
      " . }, error = error_handler), error = outer_handler)\n",
      "3. tryCatchList(expr, classes, parentenv, handlers)\n",
      "4. tryCatchOne(expr, names, parentenv, handlers[[1L]])\n",
      "5. doTryCatch(return(expr), name, parentenv, handler)\n",
      "6. withCallingHandlers({\n",
      " .     if (!mime %in% names(repr::mime2repr)) \n",
      " .         stop(\"No repr_* for mimetype \", mime, \" in repr::mime2repr\")\n",
      " .     rpr <- repr::mime2repr[[mime]](obj)\n",
      " .     if (is.null(rpr)) \n",
      " .         return(NULL)\n",
      " .     prepare_content(is.raw(rpr), rpr)\n",
      " . }, error = error_handler)\n",
      "7. repr::mime2repr[[mime]](obj)\n",
      "8. repr_latex.data.frame(obj)\n",
      "9. repr_matrix_generic(obj, sprintf(\"\\\\begin{tabular}{%s}\\n%%s%%s\\\\end{tabular}\\n\", \n",
      " .     cols), \"%s\\\\\\\\\\n\\\\hline\\n\", \"  &\", \" %s &\", \"%s\", \"\\t%s\\\\\\\\\\n\", \n",
      " .     \"%s &\", \" %s &\", escape_fun = latex_escape_vec, ...)\n",
      "10. sprintf(wrap, header, body)\n"
     ]
    },
    {
     "data": {
      "text/html": [
       "<table>\n",
       "<thead><tr><th scope=col>sample</th><th scope=col>chr10_400</th><th scope=col>chr10_40</th><th scope=col>chr10_4</th><th scope=col>chr10_401</th><th scope=col>chr10_402</th><th scope=col>chr10_403</th><th scope=col>chr10_404</th><th scope=col>chr10_405</th><th scope=col>chr10_406</th><th scope=col>...</th><th scope=col>chr9_392</th><th scope=col>chr9_393</th><th scope=col>chr9_394</th><th scope=col>chr9_395</th><th scope=col>chr9_396</th><th scope=col>chr9_397</th><th scope=col>chr9_398</th><th scope=col>chr9_399</th><th scope=col>sample_type</th><th scope=col>sample_type01</th></tr></thead>\n",
       "<tbody>\n",
       "\t<tr><td>PGDX10344P1   </td><td>0.28476325    </td><td>-0.8212573    </td><td>1.0277500     </td><td>-0.7094983    </td><td>-0.2327985    </td><td>-0.7836319    </td><td> 0.01979819   </td><td>0.2624251     </td><td>0.3128992     </td><td>...           </td><td> 0.006860094  </td><td>-0.5010935    </td><td>-0.2043651    </td><td> 0.02437101   </td><td> 0.57938365   </td><td>-0.4136060    </td><td>1.3160044     </td><td>-0.26256223   </td><td>Gastric_cancer</td><td>1             </td></tr>\n",
       "\t<tr><td>PGDX10346P1   </td><td>1.28471727    </td><td>-0.8295661    </td><td>1.0145149     </td><td>-0.6213053    </td><td>-0.8143027    </td><td>-0.6479755    </td><td>-0.06975614   </td><td>0.9264024     </td><td>0.4895216     </td><td>...           </td><td>-0.421600296  </td><td>-0.5810840    </td><td> 0.1408379    </td><td> 0.21122926   </td><td> 1.13429106   </td><td> 0.8116547    </td><td>0.3187471     </td><td>-0.48265821   </td><td>Gastric_cancer</td><td>1             </td></tr>\n",
       "\t<tr><td>PGDX10349P1   </td><td>0.07110482    </td><td>-1.0079115    </td><td>0.3347017     </td><td>-1.1303365    </td><td>-0.8177276    </td><td>-0.9202015    </td><td>-0.08484151   </td><td>0.5183954     </td><td>2.2808829     </td><td>...           </td><td> 0.527804492  </td><td>-0.1435833    </td><td> 0.4967880    </td><td> 0.15991730   </td><td> 0.89522351   </td><td> 0.5305742    </td><td>1.6767953     </td><td>-0.02839009   </td><td>Gastric_cancer</td><td>1             </td></tr>\n",
       "\t<tr><td>PGDX10351P1   </td><td>1.36298501    </td><td>-1.4848879    </td><td>0.4225454     </td><td>-1.3192129    </td><td>-0.7097136    </td><td>-0.4653093    </td><td>-0.42147744   </td><td>0.9729417     </td><td>0.5944980     </td><td>...           </td><td> 0.872833915  </td><td>-0.0670184    </td><td> 0.7394425    </td><td> 0.13690205   </td><td> 1.29732717   </td><td> 0.4739056    </td><td>1.4153912     </td><td>-0.12217374   </td><td>Gastric_cancer</td><td>1             </td></tr>\n",
       "\t<tr><td>PGDX10566P    </td><td>0.40245603    </td><td>-1.0782760    </td><td>1.2759516     </td><td>-0.8646247    </td><td>-0.5192562    </td><td>-0.8555661    </td><td>-0.22999396   </td><td>0.7699482     </td><td>0.4825674     </td><td>...           </td><td> 0.173364771  </td><td>-0.8705736    </td><td> 0.4935296    </td><td>-0.17648798   </td><td>-0.02395699   </td><td> 0.3182328    </td><td>1.3930824     </td><td>-0.47078676   </td><td>Ovarian_Cancer</td><td>1             </td></tr>\n",
       "\t<tr><td>PGDX10567P    </td><td>0.97825189    </td><td>-0.6787169    </td><td>1.0934262     </td><td>-0.1749540    </td><td>-0.6319351    </td><td>-0.7585842    </td><td> 0.22653017   </td><td>0.5994301     </td><td>0.6407291     </td><td>...           </td><td>-0.241967372  </td><td>-0.6951369    </td><td> 0.2412607    </td><td> 0.11914801   </td><td> 0.07982386   </td><td> 0.2854560    </td><td>1.7946488     </td><td>-0.69550001   </td><td>Ovarian_Cancer</td><td>1             </td></tr>\n",
       "</tbody>\n",
       "</table>\n"
      ],
      "text/markdown": [
       "\n",
       "| sample | chr10_400 | chr10_40 | chr10_4 | chr10_401 | chr10_402 | chr10_403 | chr10_404 | chr10_405 | chr10_406 | ... | chr9_392 | chr9_393 | chr9_394 | chr9_395 | chr9_396 | chr9_397 | chr9_398 | chr9_399 | sample_type | sample_type01 |\n",
       "|---|---|---|---|---|---|---|---|---|---|---|---|---|---|---|---|---|---|---|---|---|\n",
       "| PGDX10344P1    | 0.28476325     | -0.8212573     | 1.0277500      | -0.7094983     | -0.2327985     | -0.7836319     |  0.01979819    | 0.2624251      | 0.3128992      | ...            |  0.006860094   | -0.5010935     | -0.2043651     |  0.02437101    |  0.57938365    | -0.4136060     | 1.3160044      | -0.26256223    | Gastric_cancer | 1              |\n",
       "| PGDX10346P1    | 1.28471727     | -0.8295661     | 1.0145149      | -0.6213053     | -0.8143027     | -0.6479755     | -0.06975614    | 0.9264024      | 0.4895216      | ...            | -0.421600296   | -0.5810840     |  0.1408379     |  0.21122926    |  1.13429106    |  0.8116547     | 0.3187471      | -0.48265821    | Gastric_cancer | 1              |\n",
       "| PGDX10349P1    | 0.07110482     | -1.0079115     | 0.3347017      | -1.1303365     | -0.8177276     | -0.9202015     | -0.08484151    | 0.5183954      | 2.2808829      | ...            |  0.527804492   | -0.1435833     |  0.4967880     |  0.15991730    |  0.89522351    |  0.5305742     | 1.6767953      | -0.02839009    | Gastric_cancer | 1              |\n",
       "| PGDX10351P1    | 1.36298501     | -1.4848879     | 0.4225454      | -1.3192129     | -0.7097136     | -0.4653093     | -0.42147744    | 0.9729417      | 0.5944980      | ...            |  0.872833915   | -0.0670184     |  0.7394425     |  0.13690205    |  1.29732717    |  0.4739056     | 1.4153912      | -0.12217374    | Gastric_cancer | 1              |\n",
       "| PGDX10566P     | 0.40245603     | -1.0782760     | 1.2759516      | -0.8646247     | -0.5192562     | -0.8555661     | -0.22999396    | 0.7699482      | 0.4825674      | ...            |  0.173364771   | -0.8705736     |  0.4935296     | -0.17648798    | -0.02395699    |  0.3182328     | 1.3930824      | -0.47078676    | Ovarian_Cancer | 1              |\n",
       "| PGDX10567P     | 0.97825189     | -0.6787169     | 1.0934262      | -0.1749540     | -0.6319351     | -0.7585842     |  0.22653017    | 0.5994301      | 0.6407291      | ...            | -0.241967372   | -0.6951369     |  0.2412607     |  0.11914801    |  0.07982386    |  0.2854560     | 1.7946488      | -0.69550001    | Ovarian_Cancer | 1              |\n",
       "\n"
      ],
      "text/plain": [
       "  sample      chr10_400  chr10_40   chr10_4   chr10_401  chr10_402  chr10_403 \n",
       "1 PGDX10344P1 0.28476325 -0.8212573 1.0277500 -0.7094983 -0.2327985 -0.7836319\n",
       "2 PGDX10346P1 1.28471727 -0.8295661 1.0145149 -0.6213053 -0.8143027 -0.6479755\n",
       "3 PGDX10349P1 0.07110482 -1.0079115 0.3347017 -1.1303365 -0.8177276 -0.9202015\n",
       "4 PGDX10351P1 1.36298501 -1.4848879 0.4225454 -1.3192129 -0.7097136 -0.4653093\n",
       "5 PGDX10566P  0.40245603 -1.0782760 1.2759516 -0.8646247 -0.5192562 -0.8555661\n",
       "6 PGDX10567P  0.97825189 -0.6787169 1.0934262 -0.1749540 -0.6319351 -0.7585842\n",
       "  chr10_404   chr10_405 chr10_406 ... chr9_392     chr9_393   chr9_394  \n",
       "1  0.01979819 0.2624251 0.3128992 ...  0.006860094 -0.5010935 -0.2043651\n",
       "2 -0.06975614 0.9264024 0.4895216 ... -0.421600296 -0.5810840  0.1408379\n",
       "3 -0.08484151 0.5183954 2.2808829 ...  0.527804492 -0.1435833  0.4967880\n",
       "4 -0.42147744 0.9729417 0.5944980 ...  0.872833915 -0.0670184  0.7394425\n",
       "5 -0.22999396 0.7699482 0.4825674 ...  0.173364771 -0.8705736  0.4935296\n",
       "6  0.22653017 0.5994301 0.6407291 ... -0.241967372 -0.6951369  0.2412607\n",
       "  chr9_395    chr9_396    chr9_397   chr9_398  chr9_399    sample_type   \n",
       "1  0.02437101  0.57938365 -0.4136060 1.3160044 -0.26256223 Gastric_cancer\n",
       "2  0.21122926  1.13429106  0.8116547 0.3187471 -0.48265821 Gastric_cancer\n",
       "3  0.15991730  0.89522351  0.5305742 1.6767953 -0.02839009 Gastric_cancer\n",
       "4  0.13690205  1.29732717  0.4739056 1.4153912 -0.12217374 Gastric_cancer\n",
       "5 -0.17648798 -0.02395699  0.3182328 1.3930824 -0.47078676 Ovarian_Cancer\n",
       "6  0.11914801  0.07982386  0.2854560 1.7946488 -0.69550001 Ovarian_Cancer\n",
       "  sample_type01\n",
       "1 1            \n",
       "2 1            \n",
       "3 1            \n",
       "4 1            \n",
       "5 1            \n",
       "6 1            "
      ]
     },
     "metadata": {},
     "output_type": "display_data"
    }
   ],
   "source": [
    "head(data)"
   ]
  },
  {
   "cell_type": "code",
   "execution_count": 6,
   "id": "5570b6c7-9349-4885-a69d-3609c752efe6",
   "metadata": {},
   "outputs": [],
   "source": [
    "data <- data %>% dplyr::select(-sample_type)\n",
    "data <- data %>% dplyr::select(-sample)"
   ]
  },
  {
   "cell_type": "code",
   "execution_count": 7,
   "id": "b81686d6-4df1-4403-ae94-6d4c20b4fc61",
   "metadata": {},
   "outputs": [
    {
     "name": "stderr",
     "output_type": "stream",
     "text": [
      "ERROR while rich displaying an object: Error in sprintf(wrap, header, body): 'fmt' length exceeds maximal format length 8192\n",
      "\n",
      "Traceback:\n",
      "1. FUN(X[[i]], ...)\n",
      "2. tryCatch(withCallingHandlers({\n",
      " .     if (!mime %in% names(repr::mime2repr)) \n",
      " .         stop(\"No repr_* for mimetype \", mime, \" in repr::mime2repr\")\n",
      " .     rpr <- repr::mime2repr[[mime]](obj)\n",
      " .     if (is.null(rpr)) \n",
      " .         return(NULL)\n",
      " .     prepare_content(is.raw(rpr), rpr)\n",
      " . }, error = error_handler), error = outer_handler)\n",
      "3. tryCatchList(expr, classes, parentenv, handlers)\n",
      "4. tryCatchOne(expr, names, parentenv, handlers[[1L]])\n",
      "5. doTryCatch(return(expr), name, parentenv, handler)\n",
      "6. withCallingHandlers({\n",
      " .     if (!mime %in% names(repr::mime2repr)) \n",
      " .         stop(\"No repr_* for mimetype \", mime, \" in repr::mime2repr\")\n",
      " .     rpr <- repr::mime2repr[[mime]](obj)\n",
      " .     if (is.null(rpr)) \n",
      " .         return(NULL)\n",
      " .     prepare_content(is.raw(rpr), rpr)\n",
      " . }, error = error_handler)\n",
      "7. repr::mime2repr[[mime]](obj)\n",
      "8. repr_latex.data.frame(obj)\n",
      "9. repr_matrix_generic(obj, sprintf(\"\\\\begin{tabular}{%s}\\n%%s%%s\\\\end{tabular}\\n\", \n",
      " .     cols), \"%s\\\\\\\\\\n\\\\hline\\n\", \"  &\", \" %s &\", \"%s\", \"\\t%s\\\\\\\\\\n\", \n",
      " .     \"%s &\", \" %s &\", escape_fun = latex_escape_vec, ...)\n",
      "10. sprintf(wrap, header, body)\n"
     ]
    },
    {
     "data": {
      "text/html": [
       "<table>\n",
       "<thead><tr><th scope=col>chr10_400</th><th scope=col>chr10_40</th><th scope=col>chr10_4</th><th scope=col>chr10_401</th><th scope=col>chr10_402</th><th scope=col>chr10_403</th><th scope=col>chr10_404</th><th scope=col>chr10_405</th><th scope=col>chr10_406</th><th scope=col>chr10_407</th><th scope=col>...</th><th scope=col>chr9_391</th><th scope=col>chr9_392</th><th scope=col>chr9_393</th><th scope=col>chr9_394</th><th scope=col>chr9_395</th><th scope=col>chr9_396</th><th scope=col>chr9_397</th><th scope=col>chr9_398</th><th scope=col>chr9_399</th><th scope=col>sample_type01</th></tr></thead>\n",
       "<tbody>\n",
       "\t<tr><td>0.28476325  </td><td>-0.8212573  </td><td>1.0277500   </td><td>-0.7094983  </td><td>-0.2327985  </td><td>-0.7836319  </td><td> 0.01979819 </td><td>0.2624251   </td><td>0.3128992   </td><td>1.45146500  </td><td>...         </td><td>-0.34089350 </td><td> 0.006860094</td><td>-0.5010935  </td><td>-0.2043651  </td><td> 0.02437101 </td><td> 0.57938365 </td><td>-0.4136060  </td><td>1.3160044   </td><td>-0.26256223 </td><td>1           </td></tr>\n",
       "\t<tr><td>1.28471727  </td><td>-0.8295661  </td><td>1.0145149   </td><td>-0.6213053  </td><td>-0.8143027  </td><td>-0.6479755  </td><td>-0.06975614 </td><td>0.9264024   </td><td>0.4895216   </td><td>0.04814456  </td><td>...         </td><td>-0.17629217 </td><td>-0.421600296</td><td>-0.5810840  </td><td> 0.1408379  </td><td> 0.21122926 </td><td> 1.13429106 </td><td> 0.8116547  </td><td>0.3187471   </td><td>-0.48265821 </td><td>1           </td></tr>\n",
       "\t<tr><td>0.07110482  </td><td>-1.0079115  </td><td>0.3347017   </td><td>-1.1303365  </td><td>-0.8177276  </td><td>-0.9202015  </td><td>-0.08484151 </td><td>0.5183954   </td><td>2.2808829   </td><td>1.33462998  </td><td>...         </td><td> 1.22409122 </td><td> 0.527804492</td><td>-0.1435833  </td><td> 0.4967880  </td><td> 0.15991730 </td><td> 0.89522351 </td><td> 0.5305742  </td><td>1.6767953   </td><td>-0.02839009 </td><td>1           </td></tr>\n",
       "\t<tr><td>1.36298501  </td><td>-1.4848879  </td><td>0.4225454   </td><td>-1.3192129  </td><td>-0.7097136  </td><td>-0.4653093  </td><td>-0.42147744 </td><td>0.9729417   </td><td>0.5944980   </td><td>0.97671516  </td><td>...         </td><td> 0.43571295 </td><td> 0.872833915</td><td>-0.0670184  </td><td> 0.7394425  </td><td> 0.13690205 </td><td> 1.29732717 </td><td> 0.4739056  </td><td>1.4153912   </td><td>-0.12217374 </td><td>1           </td></tr>\n",
       "\t<tr><td>0.40245603  </td><td>-1.0782760  </td><td>1.2759516   </td><td>-0.8646247  </td><td>-0.5192562  </td><td>-0.8555661  </td><td>-0.22999396 </td><td>0.7699482   </td><td>0.4825674   </td><td>0.76308429  </td><td>...         </td><td> 0.04951928 </td><td> 0.173364771</td><td>-0.8705736  </td><td> 0.4935296  </td><td>-0.17648798 </td><td>-0.02395699 </td><td> 0.3182328  </td><td>1.3930824   </td><td>-0.47078676 </td><td>1           </td></tr>\n",
       "\t<tr><td>0.97825189  </td><td>-0.6787169  </td><td>1.0934262   </td><td>-0.1749540  </td><td>-0.6319351  </td><td>-0.7585842  </td><td> 0.22653017 </td><td>0.5994301   </td><td>0.6407291   </td><td>0.64706533  </td><td>...         </td><td> 0.50968208 </td><td>-0.241967372</td><td>-0.6951369  </td><td> 0.2412607  </td><td> 0.11914801 </td><td> 0.07982386 </td><td> 0.2854560  </td><td>1.7946488   </td><td>-0.69550001 </td><td>1           </td></tr>\n",
       "</tbody>\n",
       "</table>\n"
      ],
      "text/markdown": [
       "\n",
       "| chr10_400 | chr10_40 | chr10_4 | chr10_401 | chr10_402 | chr10_403 | chr10_404 | chr10_405 | chr10_406 | chr10_407 | ... | chr9_391 | chr9_392 | chr9_393 | chr9_394 | chr9_395 | chr9_396 | chr9_397 | chr9_398 | chr9_399 | sample_type01 |\n",
       "|---|---|---|---|---|---|---|---|---|---|---|---|---|---|---|---|---|---|---|---|---|\n",
       "| 0.28476325   | -0.8212573   | 1.0277500    | -0.7094983   | -0.2327985   | -0.7836319   |  0.01979819  | 0.2624251    | 0.3128992    | 1.45146500   | ...          | -0.34089350  |  0.006860094 | -0.5010935   | -0.2043651   |  0.02437101  |  0.57938365  | -0.4136060   | 1.3160044    | -0.26256223  | 1            |\n",
       "| 1.28471727   | -0.8295661   | 1.0145149    | -0.6213053   | -0.8143027   | -0.6479755   | -0.06975614  | 0.9264024    | 0.4895216    | 0.04814456   | ...          | -0.17629217  | -0.421600296 | -0.5810840   |  0.1408379   |  0.21122926  |  1.13429106  |  0.8116547   | 0.3187471    | -0.48265821  | 1            |\n",
       "| 0.07110482   | -1.0079115   | 0.3347017    | -1.1303365   | -0.8177276   | -0.9202015   | -0.08484151  | 0.5183954    | 2.2808829    | 1.33462998   | ...          |  1.22409122  |  0.527804492 | -0.1435833   |  0.4967880   |  0.15991730  |  0.89522351  |  0.5305742   | 1.6767953    | -0.02839009  | 1            |\n",
       "| 1.36298501   | -1.4848879   | 0.4225454    | -1.3192129   | -0.7097136   | -0.4653093   | -0.42147744  | 0.9729417    | 0.5944980    | 0.97671516   | ...          |  0.43571295  |  0.872833915 | -0.0670184   |  0.7394425   |  0.13690205  |  1.29732717  |  0.4739056   | 1.4153912    | -0.12217374  | 1            |\n",
       "| 0.40245603   | -1.0782760   | 1.2759516    | -0.8646247   | -0.5192562   | -0.8555661   | -0.22999396  | 0.7699482    | 0.4825674    | 0.76308429   | ...          |  0.04951928  |  0.173364771 | -0.8705736   |  0.4935296   | -0.17648798  | -0.02395699  |  0.3182328   | 1.3930824    | -0.47078676  | 1            |\n",
       "| 0.97825189   | -0.6787169   | 1.0934262    | -0.1749540   | -0.6319351   | -0.7585842   |  0.22653017  | 0.5994301    | 0.6407291    | 0.64706533   | ...          |  0.50968208  | -0.241967372 | -0.6951369   |  0.2412607   |  0.11914801  |  0.07982386  |  0.2854560   | 1.7946488    | -0.69550001  | 1            |\n",
       "\n"
      ],
      "text/plain": [
       "  chr10_400  chr10_40   chr10_4   chr10_401  chr10_402  chr10_403  chr10_404  \n",
       "1 0.28476325 -0.8212573 1.0277500 -0.7094983 -0.2327985 -0.7836319  0.01979819\n",
       "2 1.28471727 -0.8295661 1.0145149 -0.6213053 -0.8143027 -0.6479755 -0.06975614\n",
       "3 0.07110482 -1.0079115 0.3347017 -1.1303365 -0.8177276 -0.9202015 -0.08484151\n",
       "4 1.36298501 -1.4848879 0.4225454 -1.3192129 -0.7097136 -0.4653093 -0.42147744\n",
       "5 0.40245603 -1.0782760 1.2759516 -0.8646247 -0.5192562 -0.8555661 -0.22999396\n",
       "6 0.97825189 -0.6787169 1.0934262 -0.1749540 -0.6319351 -0.7585842  0.22653017\n",
       "  chr10_405 chr10_406 chr10_407  ... chr9_391    chr9_392     chr9_393  \n",
       "1 0.2624251 0.3128992 1.45146500 ... -0.34089350  0.006860094 -0.5010935\n",
       "2 0.9264024 0.4895216 0.04814456 ... -0.17629217 -0.421600296 -0.5810840\n",
       "3 0.5183954 2.2808829 1.33462998 ...  1.22409122  0.527804492 -0.1435833\n",
       "4 0.9729417 0.5944980 0.97671516 ...  0.43571295  0.872833915 -0.0670184\n",
       "5 0.7699482 0.4825674 0.76308429 ...  0.04951928  0.173364771 -0.8705736\n",
       "6 0.5994301 0.6407291 0.64706533 ...  0.50968208 -0.241967372 -0.6951369\n",
       "  chr9_394   chr9_395    chr9_396    chr9_397   chr9_398  chr9_399   \n",
       "1 -0.2043651  0.02437101  0.57938365 -0.4136060 1.3160044 -0.26256223\n",
       "2  0.1408379  0.21122926  1.13429106  0.8116547 0.3187471 -0.48265821\n",
       "3  0.4967880  0.15991730  0.89522351  0.5305742 1.6767953 -0.02839009\n",
       "4  0.7394425  0.13690205  1.29732717  0.4739056 1.4153912 -0.12217374\n",
       "5  0.4935296 -0.17648798 -0.02395699  0.3182328 1.3930824 -0.47078676\n",
       "6  0.2412607  0.11914801  0.07982386  0.2854560 1.7946488 -0.69550001\n",
       "  sample_type01\n",
       "1 1            \n",
       "2 1            \n",
       "3 1            \n",
       "4 1            \n",
       "5 1            \n",
       "6 1            "
      ]
     },
     "metadata": {},
     "output_type": "display_data"
    }
   ],
   "source": [
    "head(data)"
   ]
  },
  {
   "cell_type": "code",
   "execution_count": 8,
   "id": "f4539dcf-2074-4957-9a04-6985cfc2ab92",
   "metadata": {},
   "outputs": [
    {
     "data": {
      "text/html": [
       "<ol class=list-inline>\n",
       "\t<li>424</li>\n",
       "\t<li>10303</li>\n",
       "</ol>\n"
      ],
      "text/latex": [
       "\\begin{enumerate*}\n",
       "\\item 424\n",
       "\\item 10303\n",
       "\\end{enumerate*}\n"
      ],
      "text/markdown": [
       "1. 424\n",
       "2. 10303\n",
       "\n",
       "\n"
      ],
      "text/plain": [
       "[1]   424 10303"
      ]
     },
     "metadata": {},
     "output_type": "display_data"
    }
   ],
   "source": [
    "##################### CODE FOR REMOVING COLLINEAR FEATURES ###########################\n",
    "\n",
    "#sample_type01 <- data %>% dplyr::select(sample_type01)\n",
    "#data_clean <- data %>% dplyr::select(-sample_type01)\n",
    "#dim(data_clean)\n",
    "#tmp <- cor(data_clean)\n",
    "\n",
    "######################################################################################"
   ]
  },
  {
   "cell_type": "code",
   "execution_count": 31,
   "id": "1b251e4c-61a9-4c6a-aded-b7a7949891e3",
   "metadata": {},
   "outputs": [
    {
     "name": "stderr",
     "output_type": "stream",
     "text": [
      "ERROR while rich displaying an object: Error in sprintf(wrap, header, body): 'fmt' length exceeds maximal format length 8192\n",
      "\n",
      "Traceback:\n",
      "1. FUN(X[[i]], ...)\n",
      "2. tryCatch(withCallingHandlers({\n",
      " .     if (!mime %in% names(repr::mime2repr)) \n",
      " .         stop(\"No repr_* for mimetype \", mime, \" in repr::mime2repr\")\n",
      " .     rpr <- repr::mime2repr[[mime]](obj)\n",
      " .     if (is.null(rpr)) \n",
      " .         return(NULL)\n",
      " .     prepare_content(is.raw(rpr), rpr)\n",
      " . }, error = error_handler), error = outer_handler)\n",
      "3. tryCatchList(expr, classes, parentenv, handlers)\n",
      "4. tryCatchOne(expr, names, parentenv, handlers[[1L]])\n",
      "5. doTryCatch(return(expr), name, parentenv, handler)\n",
      "6. withCallingHandlers({\n",
      " .     if (!mime %in% names(repr::mime2repr)) \n",
      " .         stop(\"No repr_* for mimetype \", mime, \" in repr::mime2repr\")\n",
      " .     rpr <- repr::mime2repr[[mime]](obj)\n",
      " .     if (is.null(rpr)) \n",
      " .         return(NULL)\n",
      " .     prepare_content(is.raw(rpr), rpr)\n",
      " . }, error = error_handler)\n",
      "7. repr::mime2repr[[mime]](obj)\n",
      "8. repr_latex.data.frame(obj)\n",
      "9. repr_matrix_generic(obj, sprintf(\"\\\\begin{tabular}{%s}\\n%%s%%s\\\\end{tabular}\\n\", \n",
      " .     cols), \"%s\\\\\\\\\\n\\\\hline\\n\", \"  &\", \" %s &\", \"%s\", \"\\t%s\\\\\\\\\\n\", \n",
      " .     \"%s &\", \" %s &\", escape_fun = latex_escape_vec, ...)\n",
      "10. sprintf(wrap, header, body)\n"
     ]
    },
    {
     "data": {
      "text/html": [
       "<table>\n",
       "<thead><tr><th scope=col>chr10_400</th><th scope=col>chr10_40</th><th scope=col>chr10_4</th><th scope=col>chr10_401</th><th scope=col>chr10_402</th><th scope=col>chr10_403</th><th scope=col>chr10_404</th><th scope=col>chr10_405</th><th scope=col>chr10_406</th><th scope=col>chr10_407</th><th scope=col>...</th><th scope=col>chr9_39</th><th scope=col>chr9_391</th><th scope=col>chr9_392</th><th scope=col>chr9_393</th><th scope=col>chr9_394</th><th scope=col>chr9_395</th><th scope=col>chr9_396</th><th scope=col>chr9_397</th><th scope=col>chr9_398</th><th scope=col>chr9_399</th></tr></thead>\n",
       "<tbody>\n",
       "\t<tr><td>0.28476325  </td><td>-0.8212573  </td><td>1.0277500   </td><td>-0.7094983  </td><td>-0.2327985  </td><td>-0.7836319  </td><td> 0.01979819 </td><td>0.2624251   </td><td>0.3128992   </td><td>1.45146500  </td><td>...         </td><td>-0.5293199  </td><td>-0.34089350 </td><td> 0.006860094</td><td>-0.5010935  </td><td>-0.2043651  </td><td> 0.02437101 </td><td> 0.57938365 </td><td>-0.4136060  </td><td>1.3160044   </td><td>-0.26256223 </td></tr>\n",
       "\t<tr><td>1.28471727  </td><td>-0.8295661  </td><td>1.0145149   </td><td>-0.6213053  </td><td>-0.8143027  </td><td>-0.6479755  </td><td>-0.06975614 </td><td>0.9264024   </td><td>0.4895216   </td><td>0.04814456  </td><td>...         </td><td>-0.2817592  </td><td>-0.17629217 </td><td>-0.421600296</td><td>-0.5810840  </td><td> 0.1408379  </td><td> 0.21122926 </td><td> 1.13429106 </td><td> 0.8116547  </td><td>0.3187471   </td><td>-0.48265821 </td></tr>\n",
       "\t<tr><td>0.07110482  </td><td>-1.0079115  </td><td>0.3347017   </td><td>-1.1303365  </td><td>-0.8177276  </td><td>-0.9202015  </td><td>-0.08484151 </td><td>0.5183954   </td><td>2.2808829   </td><td>1.33462998  </td><td>...         </td><td>-0.9149197  </td><td> 1.22409122 </td><td> 0.527804492</td><td>-0.1435833  </td><td> 0.4967880  </td><td> 0.15991730 </td><td> 0.89522351 </td><td> 0.5305742  </td><td>1.6767953   </td><td>-0.02839009 </td></tr>\n",
       "\t<tr><td>1.36298501  </td><td>-1.4848879  </td><td>0.4225454   </td><td>-1.3192129  </td><td>-0.7097136  </td><td>-0.4653093  </td><td>-0.42147744 </td><td>0.9729417   </td><td>0.5944980   </td><td>0.97671516  </td><td>...         </td><td>-0.2566461  </td><td> 0.43571295 </td><td> 0.872833915</td><td>-0.0670184  </td><td> 0.7394425  </td><td> 0.13690205 </td><td> 1.29732717 </td><td> 0.4739056  </td><td>1.4153912   </td><td>-0.12217374 </td></tr>\n",
       "\t<tr><td>0.40245603  </td><td>-1.0782760  </td><td>1.2759516   </td><td>-0.8646247  </td><td>-0.5192562  </td><td>-0.8555661  </td><td>-0.22999396 </td><td>0.7699482   </td><td>0.4825674   </td><td>0.76308429  </td><td>...         </td><td>-0.6614162  </td><td> 0.04951928 </td><td> 0.173364771</td><td>-0.8705736  </td><td> 0.4935296  </td><td>-0.17648798 </td><td>-0.02395699 </td><td> 0.3182328  </td><td>1.3930824   </td><td>-0.47078676 </td></tr>\n",
       "\t<tr><td>0.97825189  </td><td>-0.6787169  </td><td>1.0934262   </td><td>-0.1749540  </td><td>-0.6319351  </td><td>-0.7585842  </td><td> 0.22653017 </td><td>0.5994301   </td><td>0.6407291   </td><td>0.64706533  </td><td>...         </td><td>-0.6670171  </td><td> 0.50968208 </td><td>-0.241967372</td><td>-0.6951369  </td><td> 0.2412607  </td><td> 0.11914801 </td><td> 0.07982386 </td><td> 0.2854560  </td><td>1.7946488   </td><td>-0.69550001 </td></tr>\n",
       "</tbody>\n",
       "</table>\n"
      ],
      "text/markdown": [
       "\n",
       "| chr10_400 | chr10_40 | chr10_4 | chr10_401 | chr10_402 | chr10_403 | chr10_404 | chr10_405 | chr10_406 | chr10_407 | ... | chr9_39 | chr9_391 | chr9_392 | chr9_393 | chr9_394 | chr9_395 | chr9_396 | chr9_397 | chr9_398 | chr9_399 |\n",
       "|---|---|---|---|---|---|---|---|---|---|---|---|---|---|---|---|---|---|---|---|---|\n",
       "| 0.28476325   | -0.8212573   | 1.0277500    | -0.7094983   | -0.2327985   | -0.7836319   |  0.01979819  | 0.2624251    | 0.3128992    | 1.45146500   | ...          | -0.5293199   | -0.34089350  |  0.006860094 | -0.5010935   | -0.2043651   |  0.02437101  |  0.57938365  | -0.4136060   | 1.3160044    | -0.26256223  |\n",
       "| 1.28471727   | -0.8295661   | 1.0145149    | -0.6213053   | -0.8143027   | -0.6479755   | -0.06975614  | 0.9264024    | 0.4895216    | 0.04814456   | ...          | -0.2817592   | -0.17629217  | -0.421600296 | -0.5810840   |  0.1408379   |  0.21122926  |  1.13429106  |  0.8116547   | 0.3187471    | -0.48265821  |\n",
       "| 0.07110482   | -1.0079115   | 0.3347017    | -1.1303365   | -0.8177276   | -0.9202015   | -0.08484151  | 0.5183954    | 2.2808829    | 1.33462998   | ...          | -0.9149197   |  1.22409122  |  0.527804492 | -0.1435833   |  0.4967880   |  0.15991730  |  0.89522351  |  0.5305742   | 1.6767953    | -0.02839009  |\n",
       "| 1.36298501   | -1.4848879   | 0.4225454    | -1.3192129   | -0.7097136   | -0.4653093   | -0.42147744  | 0.9729417    | 0.5944980    | 0.97671516   | ...          | -0.2566461   |  0.43571295  |  0.872833915 | -0.0670184   |  0.7394425   |  0.13690205  |  1.29732717  |  0.4739056   | 1.4153912    | -0.12217374  |\n",
       "| 0.40245603   | -1.0782760   | 1.2759516    | -0.8646247   | -0.5192562   | -0.8555661   | -0.22999396  | 0.7699482    | 0.4825674    | 0.76308429   | ...          | -0.6614162   |  0.04951928  |  0.173364771 | -0.8705736   |  0.4935296   | -0.17648798  | -0.02395699  |  0.3182328   | 1.3930824    | -0.47078676  |\n",
       "| 0.97825189   | -0.6787169   | 1.0934262    | -0.1749540   | -0.6319351   | -0.7585842   |  0.22653017  | 0.5994301    | 0.6407291    | 0.64706533   | ...          | -0.6670171   |  0.50968208  | -0.241967372 | -0.6951369   |  0.2412607   |  0.11914801  |  0.07982386  |  0.2854560   | 1.7946488    | -0.69550001  |\n",
       "\n"
      ],
      "text/plain": [
       "  chr10_400  chr10_40   chr10_4   chr10_401  chr10_402  chr10_403  chr10_404  \n",
       "1 0.28476325 -0.8212573 1.0277500 -0.7094983 -0.2327985 -0.7836319  0.01979819\n",
       "2 1.28471727 -0.8295661 1.0145149 -0.6213053 -0.8143027 -0.6479755 -0.06975614\n",
       "3 0.07110482 -1.0079115 0.3347017 -1.1303365 -0.8177276 -0.9202015 -0.08484151\n",
       "4 1.36298501 -1.4848879 0.4225454 -1.3192129 -0.7097136 -0.4653093 -0.42147744\n",
       "5 0.40245603 -1.0782760 1.2759516 -0.8646247 -0.5192562 -0.8555661 -0.22999396\n",
       "6 0.97825189 -0.6787169 1.0934262 -0.1749540 -0.6319351 -0.7585842  0.22653017\n",
       "  chr10_405 chr10_406 chr10_407  ... chr9_39    chr9_391    chr9_392    \n",
       "1 0.2624251 0.3128992 1.45146500 ... -0.5293199 -0.34089350  0.006860094\n",
       "2 0.9264024 0.4895216 0.04814456 ... -0.2817592 -0.17629217 -0.421600296\n",
       "3 0.5183954 2.2808829 1.33462998 ... -0.9149197  1.22409122  0.527804492\n",
       "4 0.9729417 0.5944980 0.97671516 ... -0.2566461  0.43571295  0.872833915\n",
       "5 0.7699482 0.4825674 0.76308429 ... -0.6614162  0.04951928  0.173364771\n",
       "6 0.5994301 0.6407291 0.64706533 ... -0.6670171  0.50968208 -0.241967372\n",
       "  chr9_393   chr9_394   chr9_395    chr9_396    chr9_397   chr9_398 \n",
       "1 -0.5010935 -0.2043651  0.02437101  0.57938365 -0.4136060 1.3160044\n",
       "2 -0.5810840  0.1408379  0.21122926  1.13429106  0.8116547 0.3187471\n",
       "3 -0.1435833  0.4967880  0.15991730  0.89522351  0.5305742 1.6767953\n",
       "4 -0.0670184  0.7394425  0.13690205  1.29732717  0.4739056 1.4153912\n",
       "5 -0.8705736  0.4935296 -0.17648798 -0.02395699  0.3182328 1.3930824\n",
       "6 -0.6951369  0.2412607  0.11914801  0.07982386  0.2854560 1.7946488\n",
       "  chr9_399   \n",
       "1 -0.26256223\n",
       "2 -0.48265821\n",
       "3 -0.02839009\n",
       "4 -0.12217374\n",
       "5 -0.47078676\n",
       "6 -0.69550001"
      ]
     },
     "metadata": {},
     "output_type": "display_data"
    },
    {
     "data": {
      "text/html": [
       "<ol class=list-inline>\n",
       "\t<li>424</li>\n",
       "\t<li>10303</li>\n",
       "</ol>\n"
      ],
      "text/latex": [
       "\\begin{enumerate*}\n",
       "\\item 424\n",
       "\\item 10303\n",
       "\\end{enumerate*}\n"
      ],
      "text/markdown": [
       "1. 424\n",
       "2. 10303\n",
       "\n",
       "\n"
      ],
      "text/plain": [
       "[1]   424 10303"
      ]
     },
     "metadata": {},
     "output_type": "display_data"
    },
    {
     "name": "stderr",
     "output_type": "stream",
     "text": [
      "ERROR while rich displaying an object: Error in sprintf(wrap, header, body): 'fmt' length exceeds maximal format length 8192\n",
      "\n",
      "Traceback:\n",
      "1. FUN(X[[i]], ...)\n",
      "2. tryCatch(withCallingHandlers({\n",
      " .     if (!mime %in% names(repr::mime2repr)) \n",
      " .         stop(\"No repr_* for mimetype \", mime, \" in repr::mime2repr\")\n",
      " .     rpr <- repr::mime2repr[[mime]](obj)\n",
      " .     if (is.null(rpr)) \n",
      " .         return(NULL)\n",
      " .     prepare_content(is.raw(rpr), rpr)\n",
      " . }, error = error_handler), error = outer_handler)\n",
      "3. tryCatchList(expr, classes, parentenv, handlers)\n",
      "4. tryCatchOne(expr, names, parentenv, handlers[[1L]])\n",
      "5. doTryCatch(return(expr), name, parentenv, handler)\n",
      "6. withCallingHandlers({\n",
      " .     if (!mime %in% names(repr::mime2repr)) \n",
      " .         stop(\"No repr_* for mimetype \", mime, \" in repr::mime2repr\")\n",
      " .     rpr <- repr::mime2repr[[mime]](obj)\n",
      " .     if (is.null(rpr)) \n",
      " .         return(NULL)\n",
      " .     prepare_content(is.raw(rpr), rpr)\n",
      " . }, error = error_handler)\n",
      "7. repr::mime2repr[[mime]](obj)\n",
      "8. repr_latex.data.frame(obj)\n",
      "9. repr_matrix_generic(obj, sprintf(\"\\\\begin{tabular}{%s}\\n%%s%%s\\\\end{tabular}\\n\", \n",
      " .     cols), \"%s\\\\\\\\\\n\\\\hline\\n\", \"  &\", \" %s &\", \"%s\", \"\\t%s\\\\\\\\\\n\", \n",
      " .     \"%s &\", \" %s &\", escape_fun = latex_escape_vec, ...)\n",
      "10. sprintf(wrap, header, body)\n"
     ]
    },
    {
     "data": {
      "text/html": [
       "<table>\n",
       "<thead><tr><th scope=col>chr10_400</th><th scope=col>chr10_40</th><th scope=col>chr10_4</th><th scope=col>chr10_401</th><th scope=col>chr10_402</th><th scope=col>chr10_403</th><th scope=col>chr10_404</th><th scope=col>chr10_405</th><th scope=col>chr10_406</th><th scope=col>chr10_407</th><th scope=col>...</th><th scope=col>chr9_391</th><th scope=col>chr9_392</th><th scope=col>chr9_393</th><th scope=col>chr9_394</th><th scope=col>chr9_395</th><th scope=col>chr9_396</th><th scope=col>chr9_397</th><th scope=col>chr9_398</th><th scope=col>chr9_399</th><th scope=col>sample_type01</th></tr></thead>\n",
       "<tbody>\n",
       "\t<tr><td>0.28476325  </td><td>-0.8212573  </td><td>1.0277500   </td><td>-0.7094983  </td><td>-0.2327985  </td><td>-0.7836319  </td><td> 0.01979819 </td><td>0.2624251   </td><td>0.3128992   </td><td>1.45146500  </td><td>...         </td><td>-0.34089350 </td><td> 0.006860094</td><td>-0.5010935  </td><td>-0.2043651  </td><td> 0.02437101 </td><td> 0.57938365 </td><td>-0.4136060  </td><td>1.3160044   </td><td>-0.26256223 </td><td>1           </td></tr>\n",
       "\t<tr><td>1.28471727  </td><td>-0.8295661  </td><td>1.0145149   </td><td>-0.6213053  </td><td>-0.8143027  </td><td>-0.6479755  </td><td>-0.06975614 </td><td>0.9264024   </td><td>0.4895216   </td><td>0.04814456  </td><td>...         </td><td>-0.17629217 </td><td>-0.421600296</td><td>-0.5810840  </td><td> 0.1408379  </td><td> 0.21122926 </td><td> 1.13429106 </td><td> 0.8116547  </td><td>0.3187471   </td><td>-0.48265821 </td><td>1           </td></tr>\n",
       "\t<tr><td>0.07110482  </td><td>-1.0079115  </td><td>0.3347017   </td><td>-1.1303365  </td><td>-0.8177276  </td><td>-0.9202015  </td><td>-0.08484151 </td><td>0.5183954   </td><td>2.2808829   </td><td>1.33462998  </td><td>...         </td><td> 1.22409122 </td><td> 0.527804492</td><td>-0.1435833  </td><td> 0.4967880  </td><td> 0.15991730 </td><td> 0.89522351 </td><td> 0.5305742  </td><td>1.6767953   </td><td>-0.02839009 </td><td>1           </td></tr>\n",
       "\t<tr><td>1.36298501  </td><td>-1.4848879  </td><td>0.4225454   </td><td>-1.3192129  </td><td>-0.7097136  </td><td>-0.4653093  </td><td>-0.42147744 </td><td>0.9729417   </td><td>0.5944980   </td><td>0.97671516  </td><td>...         </td><td> 0.43571295 </td><td> 0.872833915</td><td>-0.0670184  </td><td> 0.7394425  </td><td> 0.13690205 </td><td> 1.29732717 </td><td> 0.4739056  </td><td>1.4153912   </td><td>-0.12217374 </td><td>1           </td></tr>\n",
       "\t<tr><td>0.40245603  </td><td>-1.0782760  </td><td>1.2759516   </td><td>-0.8646247  </td><td>-0.5192562  </td><td>-0.8555661  </td><td>-0.22999396 </td><td>0.7699482   </td><td>0.4825674   </td><td>0.76308429  </td><td>...         </td><td> 0.04951928 </td><td> 0.173364771</td><td>-0.8705736  </td><td> 0.4935296  </td><td>-0.17648798 </td><td>-0.02395699 </td><td> 0.3182328  </td><td>1.3930824   </td><td>-0.47078676 </td><td>1           </td></tr>\n",
       "\t<tr><td>0.97825189  </td><td>-0.6787169  </td><td>1.0934262   </td><td>-0.1749540  </td><td>-0.6319351  </td><td>-0.7585842  </td><td> 0.22653017 </td><td>0.5994301   </td><td>0.6407291   </td><td>0.64706533  </td><td>...         </td><td> 0.50968208 </td><td>-0.241967372</td><td>-0.6951369  </td><td> 0.2412607  </td><td> 0.11914801 </td><td> 0.07982386 </td><td> 0.2854560  </td><td>1.7946488   </td><td>-0.69550001 </td><td>1           </td></tr>\n",
       "</tbody>\n",
       "</table>\n"
      ],
      "text/markdown": [
       "\n",
       "| chr10_400 | chr10_40 | chr10_4 | chr10_401 | chr10_402 | chr10_403 | chr10_404 | chr10_405 | chr10_406 | chr10_407 | ... | chr9_391 | chr9_392 | chr9_393 | chr9_394 | chr9_395 | chr9_396 | chr9_397 | chr9_398 | chr9_399 | sample_type01 |\n",
       "|---|---|---|---|---|---|---|---|---|---|---|---|---|---|---|---|---|---|---|---|---|\n",
       "| 0.28476325   | -0.8212573   | 1.0277500    | -0.7094983   | -0.2327985   | -0.7836319   |  0.01979819  | 0.2624251    | 0.3128992    | 1.45146500   | ...          | -0.34089350  |  0.006860094 | -0.5010935   | -0.2043651   |  0.02437101  |  0.57938365  | -0.4136060   | 1.3160044    | -0.26256223  | 1            |\n",
       "| 1.28471727   | -0.8295661   | 1.0145149    | -0.6213053   | -0.8143027   | -0.6479755   | -0.06975614  | 0.9264024    | 0.4895216    | 0.04814456   | ...          | -0.17629217  | -0.421600296 | -0.5810840   |  0.1408379   |  0.21122926  |  1.13429106  |  0.8116547   | 0.3187471    | -0.48265821  | 1            |\n",
       "| 0.07110482   | -1.0079115   | 0.3347017    | -1.1303365   | -0.8177276   | -0.9202015   | -0.08484151  | 0.5183954    | 2.2808829    | 1.33462998   | ...          |  1.22409122  |  0.527804492 | -0.1435833   |  0.4967880   |  0.15991730  |  0.89522351  |  0.5305742   | 1.6767953    | -0.02839009  | 1            |\n",
       "| 1.36298501   | -1.4848879   | 0.4225454    | -1.3192129   | -0.7097136   | -0.4653093   | -0.42147744  | 0.9729417    | 0.5944980    | 0.97671516   | ...          |  0.43571295  |  0.872833915 | -0.0670184   |  0.7394425   |  0.13690205  |  1.29732717  |  0.4739056   | 1.4153912    | -0.12217374  | 1            |\n",
       "| 0.40245603   | -1.0782760   | 1.2759516    | -0.8646247   | -0.5192562   | -0.8555661   | -0.22999396  | 0.7699482    | 0.4825674    | 0.76308429   | ...          |  0.04951928  |  0.173364771 | -0.8705736   |  0.4935296   | -0.17648798  | -0.02395699  |  0.3182328   | 1.3930824    | -0.47078676  | 1            |\n",
       "| 0.97825189   | -0.6787169   | 1.0934262    | -0.1749540   | -0.6319351   | -0.7585842   |  0.22653017  | 0.5994301    | 0.6407291    | 0.64706533   | ...          |  0.50968208  | -0.241967372 | -0.6951369   |  0.2412607   |  0.11914801  |  0.07982386  |  0.2854560   | 1.7946488    | -0.69550001  | 1            |\n",
       "\n"
      ],
      "text/plain": [
       "  chr10_400  chr10_40   chr10_4   chr10_401  chr10_402  chr10_403  chr10_404  \n",
       "1 0.28476325 -0.8212573 1.0277500 -0.7094983 -0.2327985 -0.7836319  0.01979819\n",
       "2 1.28471727 -0.8295661 1.0145149 -0.6213053 -0.8143027 -0.6479755 -0.06975614\n",
       "3 0.07110482 -1.0079115 0.3347017 -1.1303365 -0.8177276 -0.9202015 -0.08484151\n",
       "4 1.36298501 -1.4848879 0.4225454 -1.3192129 -0.7097136 -0.4653093 -0.42147744\n",
       "5 0.40245603 -1.0782760 1.2759516 -0.8646247 -0.5192562 -0.8555661 -0.22999396\n",
       "6 0.97825189 -0.6787169 1.0934262 -0.1749540 -0.6319351 -0.7585842  0.22653017\n",
       "  chr10_405 chr10_406 chr10_407  ... chr9_391    chr9_392     chr9_393  \n",
       "1 0.2624251 0.3128992 1.45146500 ... -0.34089350  0.006860094 -0.5010935\n",
       "2 0.9264024 0.4895216 0.04814456 ... -0.17629217 -0.421600296 -0.5810840\n",
       "3 0.5183954 2.2808829 1.33462998 ...  1.22409122  0.527804492 -0.1435833\n",
       "4 0.9729417 0.5944980 0.97671516 ...  0.43571295  0.872833915 -0.0670184\n",
       "5 0.7699482 0.4825674 0.76308429 ...  0.04951928  0.173364771 -0.8705736\n",
       "6 0.5994301 0.6407291 0.64706533 ...  0.50968208 -0.241967372 -0.6951369\n",
       "  chr9_394   chr9_395    chr9_396    chr9_397   chr9_398  chr9_399   \n",
       "1 -0.2043651  0.02437101  0.57938365 -0.4136060 1.3160044 -0.26256223\n",
       "2  0.1408379  0.21122926  1.13429106  0.8116547 0.3187471 -0.48265821\n",
       "3  0.4967880  0.15991730  0.89522351  0.5305742 1.6767953 -0.02839009\n",
       "4  0.7394425  0.13690205  1.29732717  0.4739056 1.4153912 -0.12217374\n",
       "5  0.4935296 -0.17648798 -0.02395699  0.3182328 1.3930824 -0.47078676\n",
       "6  0.2412607  0.11914801  0.07982386  0.2854560 1.7946488 -0.69550001\n",
       "  sample_type01\n",
       "1 1            \n",
       "2 1            \n",
       "3 1            \n",
       "4 1            \n",
       "5 1            \n",
       "6 1            "
      ]
     },
     "metadata": {},
     "output_type": "display_data"
    }
   ],
   "source": [
    "##################### CODE FOR REMOVING COLLINEAR FEATURES ###########################\n",
    "\n",
    "#tmp[upper.tri(tmp)] <- 0\n",
    "#diag(tmp) <- 0\n",
    "#data_new_clean <- data_clean[, !apply(tmp, 2, function(x) any(abs(x) > 0.9, na.rm = TRUE))]\n",
    "#head(data_new_clean)\n",
    "#dim(data_new_clean)\n",
    "\n",
    "#data <- data_new_clean %>% mutate(sample_type01 = sample_type01$sample_type01)\n",
    "#head(data)\n",
    "\n",
    "######################################################################################"
   ]
  },
  {
   "cell_type": "code",
   "execution_count": 32,
   "id": "6a846559-09f2-47b2-b4c4-747064566813",
   "metadata": {},
   "outputs": [],
   "source": [
    "cross_validation <- function(dataset, k_inner_cv, k_outer_cv){\n",
    "    \n",
    "    observed  <- dataset$sample_type01\n",
    "    return_tibble <- tibble(observed = observed)\n",
    "    \n",
    "    for (i in 1:k_outer_cv){ # repeated Cross-validation loop\n",
    "        set.seed(i)\n",
    "        cvfolds <- cut(seq_len(nrow(dataset)), breaks = k_inner_cv, labels = F)\n",
    "        cvfolds <- sample(cvfolds)\n",
    "\n",
    "        predicted <- rep(NA, nrow(dataset))\n",
    "\n",
    "        for (n in 1:k_inner_cv){\n",
    "            rows      <- which(cvfolds==n)\n",
    "            testdata  <- dataset[rows,]\n",
    "            testlabels <- testdata$sample_type01\n",
    "            testdata <- testdata %>% dplyr::select(-sample_type01)\n",
    "\n",
    "            traindata <- dataset[-rows,]\n",
    "            trainlabels <- traindata$sample_type01\n",
    "            #traindata <- traindata %>% dplyr::select(-sample_type01)\n",
    "\n",
    "\n",
    "            fit       <- lda(sample_type01 ~ ., data=traindata)\n",
    "            prediction <- predict(fit, testdata)\n",
    "            predicted[rows] <- prediction$posterior[,2]\n",
    "        }\n",
    "        \n",
    "    current_round_tibble <- tibble(predicted = predicted)\n",
    "    return_tibble <- cbind(return_tibble, current_round_tibble)\n",
    "    } # end of outer cv loop\n",
    "\n",
    "    return(return_tibble)\n",
    "}"
   ]
  },
  {
   "cell_type": "code",
   "execution_count": 33,
   "id": "d96b040e-4dfa-45e9-908a-f1c0beded45d",
   "metadata": {},
   "outputs": [
    {
     "name": "stderr",
     "output_type": "stream",
     "text": [
      "Warning message in lda.default(x, grouping, ...):\n",
      "“variables are collinear”Warning message in lda.default(x, grouping, ...):\n",
      "“variables are collinear”Warning message in lda.default(x, grouping, ...):\n",
      "“variables are collinear”Warning message in lda.default(x, grouping, ...):\n",
      "“variables are collinear”Warning message in lda.default(x, grouping, ...):\n",
      "“variables are collinear”Warning message in lda.default(x, grouping, ...):\n",
      "“variables are collinear”Warning message in lda.default(x, grouping, ...):\n",
      "“variables are collinear”Warning message in lda.default(x, grouping, ...):\n",
      "“variables are collinear”Warning message in lda.default(x, grouping, ...):\n",
      "“variables are collinear”Warning message in lda.default(x, grouping, ...):\n",
      "“variables are collinear”Warning message in lda.default(x, grouping, ...):\n",
      "“variables are collinear”Warning message in lda.default(x, grouping, ...):\n",
      "“variables are collinear”Warning message in lda.default(x, grouping, ...):\n",
      "“variables are collinear”Warning message in lda.default(x, grouping, ...):\n",
      "“variables are collinear”Warning message in lda.default(x, grouping, ...):\n",
      "“variables are collinear”Warning message in lda.default(x, grouping, ...):\n",
      "“variables are collinear”Warning message in lda.default(x, grouping, ...):\n",
      "“variables are collinear”Warning message in lda.default(x, grouping, ...):\n",
      "“variables are collinear”Warning message in lda.default(x, grouping, ...):\n",
      "“variables are collinear”Warning message in lda.default(x, grouping, ...):\n",
      "“variables are collinear”"
     ]
    }
   ],
   "source": [
    "results <- as.data.frame(cross_validation(data, k_inner_cv = 10, k_outer_cv = 10))"
   ]
  },
  {
   "cell_type": "code",
   "execution_count": 36,
   "id": "5b5427b4-502f-44f1-9160-81f5943b4c93",
   "metadata": {},
   "outputs": [
    {
     "data": {
      "text/html": [
       "<table>\n",
       "<thead><tr><th scope=col>observed</th><th scope=col>predicted...2</th><th scope=col>predicted...3</th><th scope=col>predicted...4</th><th scope=col>predicted...5</th><th scope=col>predicted...6</th><th scope=col>predicted...7</th><th scope=col>predicted...8</th><th scope=col>predicted...9</th><th scope=col>predicted...10</th><th scope=col>predicted...11</th></tr></thead>\n",
       "<tbody>\n",
       "\t<tr><td>1        </td><td>0.4216284</td><td>0.4303608</td><td>0.5229680</td><td>0.4778253</td><td>0.4883282</td><td>0.4792518</td><td>0.4164396</td><td>0.4502622</td><td>0.4865892</td><td>0.5046238</td></tr>\n",
       "\t<tr><td>1        </td><td>0.5138122</td><td>0.4248620</td><td>0.3736069</td><td>0.5088205</td><td>0.4132665</td><td>0.4766404</td><td>0.3168903</td><td>0.3623501</td><td>0.5398622</td><td>0.4151746</td></tr>\n",
       "\t<tr><td>1        </td><td>0.9267515</td><td>0.9801199</td><td>0.9883753</td><td>0.9641190</td><td>0.9460850</td><td>0.9593758</td><td>0.9394459</td><td>0.9550725</td><td>0.9610330</td><td>0.9689480</td></tr>\n",
       "\t<tr><td>1        </td><td>0.3242271</td><td>0.3960291</td><td>0.2384717</td><td>0.2915880</td><td>0.3629526</td><td>0.3849317</td><td>0.4882074</td><td>0.1873562</td><td>0.2541888</td><td>0.3721650</td></tr>\n",
       "\t<tr><td>1        </td><td>0.4792821</td><td>0.6148203</td><td>0.7006601</td><td>0.5536040</td><td>0.5930939</td><td>0.6315004</td><td>0.4491076</td><td>0.6724077</td><td>0.5982298</td><td>0.6034464</td></tr>\n",
       "\t<tr><td>1        </td><td>0.7040724</td><td>0.7796770</td><td>0.7279999</td><td>0.7938407</td><td>0.7517647</td><td>0.7109629</td><td>0.6859007</td><td>0.7537655</td><td>0.7451668</td><td>0.6513140</td></tr>\n",
       "</tbody>\n",
       "</table>\n"
      ],
      "text/latex": [
       "\\begin{tabular}{r|lllllllllll}\n",
       " observed & predicted...2 & predicted...3 & predicted...4 & predicted...5 & predicted...6 & predicted...7 & predicted...8 & predicted...9 & predicted...10 & predicted...11\\\\\n",
       "\\hline\n",
       "\t 1         & 0.4216284 & 0.4303608 & 0.5229680 & 0.4778253 & 0.4883282 & 0.4792518 & 0.4164396 & 0.4502622 & 0.4865892 & 0.5046238\\\\\n",
       "\t 1         & 0.5138122 & 0.4248620 & 0.3736069 & 0.5088205 & 0.4132665 & 0.4766404 & 0.3168903 & 0.3623501 & 0.5398622 & 0.4151746\\\\\n",
       "\t 1         & 0.9267515 & 0.9801199 & 0.9883753 & 0.9641190 & 0.9460850 & 0.9593758 & 0.9394459 & 0.9550725 & 0.9610330 & 0.9689480\\\\\n",
       "\t 1         & 0.3242271 & 0.3960291 & 0.2384717 & 0.2915880 & 0.3629526 & 0.3849317 & 0.4882074 & 0.1873562 & 0.2541888 & 0.3721650\\\\\n",
       "\t 1         & 0.4792821 & 0.6148203 & 0.7006601 & 0.5536040 & 0.5930939 & 0.6315004 & 0.4491076 & 0.6724077 & 0.5982298 & 0.6034464\\\\\n",
       "\t 1         & 0.7040724 & 0.7796770 & 0.7279999 & 0.7938407 & 0.7517647 & 0.7109629 & 0.6859007 & 0.7537655 & 0.7451668 & 0.6513140\\\\\n",
       "\\end{tabular}\n"
      ],
      "text/markdown": [
       "\n",
       "| observed | predicted...2 | predicted...3 | predicted...4 | predicted...5 | predicted...6 | predicted...7 | predicted...8 | predicted...9 | predicted...10 | predicted...11 |\n",
       "|---|---|---|---|---|---|---|---|---|---|---|\n",
       "| 1         | 0.4216284 | 0.4303608 | 0.5229680 | 0.4778253 | 0.4883282 | 0.4792518 | 0.4164396 | 0.4502622 | 0.4865892 | 0.5046238 |\n",
       "| 1         | 0.5138122 | 0.4248620 | 0.3736069 | 0.5088205 | 0.4132665 | 0.4766404 | 0.3168903 | 0.3623501 | 0.5398622 | 0.4151746 |\n",
       "| 1         | 0.9267515 | 0.9801199 | 0.9883753 | 0.9641190 | 0.9460850 | 0.9593758 | 0.9394459 | 0.9550725 | 0.9610330 | 0.9689480 |\n",
       "| 1         | 0.3242271 | 0.3960291 | 0.2384717 | 0.2915880 | 0.3629526 | 0.3849317 | 0.4882074 | 0.1873562 | 0.2541888 | 0.3721650 |\n",
       "| 1         | 0.4792821 | 0.6148203 | 0.7006601 | 0.5536040 | 0.5930939 | 0.6315004 | 0.4491076 | 0.6724077 | 0.5982298 | 0.6034464 |\n",
       "| 1         | 0.7040724 | 0.7796770 | 0.7279999 | 0.7938407 | 0.7517647 | 0.7109629 | 0.6859007 | 0.7537655 | 0.7451668 | 0.6513140 |\n",
       "\n"
      ],
      "text/plain": [
       "  observed predicted...2 predicted...3 predicted...4 predicted...5\n",
       "1 1        0.4216284     0.4303608     0.5229680     0.4778253    \n",
       "2 1        0.5138122     0.4248620     0.3736069     0.5088205    \n",
       "3 1        0.9267515     0.9801199     0.9883753     0.9641190    \n",
       "4 1        0.3242271     0.3960291     0.2384717     0.2915880    \n",
       "5 1        0.4792821     0.6148203     0.7006601     0.5536040    \n",
       "6 1        0.7040724     0.7796770     0.7279999     0.7938407    \n",
       "  predicted...6 predicted...7 predicted...8 predicted...9 predicted...10\n",
       "1 0.4883282     0.4792518     0.4164396     0.4502622     0.4865892     \n",
       "2 0.4132665     0.4766404     0.3168903     0.3623501     0.5398622     \n",
       "3 0.9460850     0.9593758     0.9394459     0.9550725     0.9610330     \n",
       "4 0.3629526     0.3849317     0.4882074     0.1873562     0.2541888     \n",
       "5 0.5930939     0.6315004     0.4491076     0.6724077     0.5982298     \n",
       "6 0.7517647     0.7109629     0.6859007     0.7537655     0.7451668     \n",
       "  predicted...11\n",
       "1 0.5046238     \n",
       "2 0.4151746     \n",
       "3 0.9689480     \n",
       "4 0.3721650     \n",
       "5 0.6034464     \n",
       "6 0.6513140     "
      ]
     },
     "metadata": {},
     "output_type": "display_data"
    }
   ],
   "source": [
    "results <- tibble(results, .name_repair = \"unique\")\n",
    "head(results)"
   ]
  },
  {
   "cell_type": "code",
   "execution_count": 35,
   "id": "b96fd55d-9fc0-42d3-b613-5522cda286fd",
   "metadata": {},
   "outputs": [
    {
     "ename": "ERROR",
     "evalue": "Error in saveRDS(results, file = snakemake@output[[\"LDA_output\"]]): object 'snakemake' not found\n",
     "output_type": "error",
     "traceback": [
      "Error in saveRDS(results, file = snakemake@output[[\"LDA_output\"]]): object 'snakemake' not found\nTraceback:\n",
      "1. saveRDS(results, file = snakemake@output[[\"LDA_output\"]])"
     ]
    }
   ],
   "source": [
    "saveRDS(results, file = snakemake@output[[\"LDA_output\"]])"
   ]
  },
  {
   "cell_type": "code",
   "execution_count": 37,
   "id": "053c5577-cc80-47b6-980a-27bd6cbe2abf",
   "metadata": {},
   "outputs": [
    {
     "data": {
      "image/png": "[encoded data removed]",
      "text/plain": [
       "plot without title"
      ]
     },
     "metadata": {},
     "output_type": "display_data"
    }
   ],
   "source": [
    "# Create multiple curves to plot\n",
    "rocs <- roc(observed ~ predicted...2 + \n",
    "                    predicted...3 + \n",
    "                    predicted...4 + \n",
    "                    predicted...5 + \n",
    "                    predicted...6 +\n",
    "                    predicted...7 +\n",
    "                    predicted...8 + \n",
    "                    predicted...9 + \n",
    "                    predicted...10 + \n",
    "                    predicted...11, data = results)\n",
    "ggroc(rocs)"
   ]
  },
  {
   "cell_type": "code",
   "execution_count": 38,
   "id": "6107e30a-78fd-4edf-8742-6595c5960955",
   "metadata": {},
   "outputs": [],
   "source": [
    "roc1 <- roc(results$observed, results$predicted...2)\n",
    "roc2 <- roc(results$observed, results$predicted...3)\n",
    "roc3 <- roc(results$observed, results$predicted...4)\n",
    "roc4 <- roc(results$observed, results$predicted...5)\n",
    "roc5 <- roc(results$observed, results$predicted...6)\n",
    "roc6 <- roc(results$observed, results$predicted...7)\n",
    "roc7 <- roc(results$observed, results$predicted...8)\n",
    "roc8 <- roc(results$observed, results$predicted...9)\n",
    "roc9 <- roc(results$observed, results$predicted...10)\n",
    "roc10 <- roc(results$observed, results$predicted...11)"
   ]
  },
  {
   "cell_type": "code",
   "execution_count": 39,
   "id": "0fcbe140-0abb-4e96-848f-771f4a0742f5",
   "metadata": {},
   "outputs": [
    {
     "data": {
      "text/html": [
       "'Mean AUC over 10 repetitions of 10-fold CV: 0.772052891080233'"
      ],
      "text/latex": [
       "'Mean AUC over 10 repetitions of 10-fold CV: 0.772052891080233'"
      ],
      "text/markdown": [
       "'Mean AUC over 10 repetitions of 10-fold CV: 0.772052891080233'"
      ],
      "text/plain": [
       "[1] \"Mean AUC over 10 repetitions of 10-fold CV: 0.772052891080233\""
      ]
     },
     "metadata": {},
     "output_type": "display_data"
    }
   ],
   "source": [
    "paste(\"Mean AUC over 10 repetitions of 10-fold CV: \", mean(c(auc(roc1), auc(roc2), auc(roc3), auc(roc4), auc(roc5), auc(roc6), auc(roc7), auc(roc8), auc(roc9), auc(roc10))), sep = \"\")"
   ]
  },
  {
   "cell_type": "code",
   "execution_count": 28,
   "id": "fc596d04-ea30-4b05-807a-2ce93510524a",
   "metadata": {},
   "outputs": [],
   "source": [
    "results_01 <- results %>% mutate(predicted...2_01 = ifelse(predicted...2 > 0.5, 1, 0), \n",
    "                                 predicted...3_01 = ifelse(predicted...3 > 0.5, 1, 0), \n",
    "                                 predicted...4_01 = ifelse(predicted...4 > 0.5, 1, 0),\n",
    "                                 predicted...5_01 = ifelse(predicted...5 > 0.5, 1, 0),\n",
    "                                 predicted...6_01 = ifelse(predicted...6 > 0.5, 1, 0),\n",
    "                                 predicted...7_01 = ifelse(predicted...7 > 0.5, 1, 0),\n",
    "                                 predicted...8_01 = ifelse(predicted...8 > 0.5, 1, 0),\n",
    "                                 predicted...9_01 = ifelse(predicted...9 > 0.5, 1, 0),\n",
    "                                 predicted...10_01 = ifelse(predicted...10 > 0.5, 1, 0),\n",
    "                                 predicted...11_01 = ifelse(predicted...11 > 0.5, 1, 0))"
   ]
  },
  {
   "cell_type": "code",
   "execution_count": 29,
   "id": "54242558-d709-4159-b025-25a2ea2f4948",
   "metadata": {},
   "outputs": [
    {
     "data": {
      "text/html": [
       "<ol class=list-inline>\n",
       "\t<li>0.464622641509434</li>\n",
       "\t<li>0.433962264150943</li>\n",
       "\t<li>0.419811320754717</li>\n",
       "\t<li>0.382075471698113</li>\n",
       "\t<li>0.481132075471698</li>\n",
       "\t<li>0.441037735849057</li>\n",
       "\t<li>0.485849056603774</li>\n",
       "\t<li>0.429245283018868</li>\n",
       "\t<li>0.410377358490566</li>\n",
       "\t<li>0.422169811320755</li>\n",
       "</ol>\n"
      ],
      "text/latex": [
       "\\begin{enumerate*}\n",
       "\\item 0.464622641509434\n",
       "\\item 0.433962264150943\n",
       "\\item 0.419811320754717\n",
       "\\item 0.382075471698113\n",
       "\\item 0.481132075471698\n",
       "\\item 0.441037735849057\n",
       "\\item 0.485849056603774\n",
       "\\item 0.429245283018868\n",
       "\\item 0.410377358490566\n",
       "\\item 0.422169811320755\n",
       "\\end{enumerate*}\n"
      ],
      "text/markdown": [
       "1. 0.464622641509434\n",
       "2. 0.433962264150943\n",
       "3. 0.419811320754717\n",
       "4. 0.382075471698113\n",
       "5. 0.481132075471698\n",
       "6. 0.441037735849057\n",
       "7. 0.485849056603774\n",
       "8. 0.429245283018868\n",
       "9. 0.410377358490566\n",
       "10. 0.422169811320755\n",
       "\n",
       "\n"
      ],
      "text/plain": [
       " [1] 0.4646226 0.4339623 0.4198113 0.3820755 0.4811321 0.4410377 0.4858491\n",
       " [8] 0.4292453 0.4103774 0.4221698"
      ]
     },
     "metadata": {},
     "output_type": "display_data"
    },
    {
     "data": {
      "text/html": [
       "'Mean error rate over 10 repetitions of 10-fold CV: 0.437028301886792'"
      ],
      "text/latex": [
       "'Mean error rate over 10 repetitions of 10-fold CV: 0.437028301886792'"
      ],
      "text/markdown": [
       "'Mean error rate over 10 repetitions of 10-fold CV: 0.437028301886792'"
      ],
      "text/plain": [
       "[1] \"Mean error rate over 10 repetitions of 10-fold CV: 0.437028301886792\""
      ]
     },
     "metadata": {},
     "output_type": "display_data"
    }
   ],
   "source": [
    "error_rates <- c(mean(results_01$observed != results_01$predicted...2_01),\n",
    "               mean(results_01$observed != results_01$predicted...3_01), \n",
    "               mean(results_01$observed != results_01$predicted...4_01),\n",
    "               mean(results_01$observed != results_01$predicted...5_01),\n",
    "               mean(results_01$observed != results_01$predicted...6_01),\n",
    "               mean(results_01$observed != results_01$predicted...7_01),\n",
    "               mean(results_01$observed != results_01$predicted...8_01),\n",
    "               mean(results_01$observed != results_01$predicted...9_01), \n",
    "               mean(results_01$observed != results_01$predicted...10_01), \n",
    "               mean(results_01$observed != results_01$predicted...11_01))\n",
    "\n",
    "error_rates\n",
    "\n",
    "paste(\"Mean error rate over 10 repetitions of 10-fold CV: \", mean(error_rates), sep = \"\")"
   ]
  },
  {
   "cell_type": "code",
   "execution_count": 30,
   "id": "ed53aefb-39fb-453d-8365-7b9fe5c06533",
   "metadata": {},
   "outputs": [
    {
     "data": {
      "text/html": [
       "<ol class=list-inline>\n",
       "\t<li>0.535377358490566</li>\n",
       "\t<li>0.566037735849057</li>\n",
       "\t<li>0.580188679245283</li>\n",
       "\t<li>0.617924528301887</li>\n",
       "\t<li>0.518867924528302</li>\n",
       "\t<li>0.558962264150943</li>\n",
       "\t<li>0.514150943396226</li>\n",
       "\t<li>0.570754716981132</li>\n",
       "\t<li>0.589622641509434</li>\n",
       "\t<li>0.577830188679245</li>\n",
       "</ol>\n"
      ],
      "text/latex": [
       "\\begin{enumerate*}\n",
       "\\item 0.535377358490566\n",
       "\\item 0.566037735849057\n",
       "\\item 0.580188679245283\n",
       "\\item 0.617924528301887\n",
       "\\item 0.518867924528302\n",
       "\\item 0.558962264150943\n",
       "\\item 0.514150943396226\n",
       "\\item 0.570754716981132\n",
       "\\item 0.589622641509434\n",
       "\\item 0.577830188679245\n",
       "\\end{enumerate*}\n"
      ],
      "text/markdown": [
       "1. 0.535377358490566\n",
       "2. 0.566037735849057\n",
       "3. 0.580188679245283\n",
       "4. 0.617924528301887\n",
       "5. 0.518867924528302\n",
       "6. 0.558962264150943\n",
       "7. 0.514150943396226\n",
       "8. 0.570754716981132\n",
       "9. 0.589622641509434\n",
       "10. 0.577830188679245\n",
       "\n",
       "\n"
      ],
      "text/plain": [
       " [1] 0.5353774 0.5660377 0.5801887 0.6179245 0.5188679 0.5589623 0.5141509\n",
       " [8] 0.5707547 0.5896226 0.5778302"
      ]
     },
     "metadata": {},
     "output_type": "display_data"
    },
    {
     "data": {
      "text/html": [
       "'Mean accuracy over 10 repetitions of 10-fold CV: 0.562971698113208'"
      ],
      "text/latex": [
       "'Mean accuracy over 10 repetitions of 10-fold CV: 0.562971698113208'"
      ],
      "text/markdown": [
       "'Mean accuracy over 10 repetitions of 10-fold CV: 0.562971698113208'"
      ],
      "text/plain": [
       "[1] \"Mean accuracy over 10 repetitions of 10-fold CV: 0.562971698113208\""
      ]
     },
     "metadata": {},
     "output_type": "display_data"
    }
   ],
   "source": [
    "accuracies <- c(mean(results_01$observed == results_01$predicted...2_01),\n",
    "               mean(results_01$observed == results_01$predicted...3_01), \n",
    "               mean(results_01$observed == results_01$predicted...4_01),\n",
    "               mean(results_01$observed == results_01$predicted...5_01),\n",
    "               mean(results_01$observed == results_01$predicted...6_01),\n",
    "               mean(results_01$observed == results_01$predicted...7_01),\n",
    "               mean(results_01$observed == results_01$predicted...8_01),\n",
    "               mean(results_01$observed == results_01$predicted...9_01), \n",
    "               mean(results_01$observed == results_01$predicted...10_01), \n",
    "               mean(results_01$observed == results_01$predicted...11_01))\n",
    "\n",
    "accuracies\n",
    "paste(\"Mean accuracy over 10 repetitions of 10-fold CV: \", mean(accuracies), sep = \"\")"
   ]
  },
  {
   "cell_type": "code",
   "execution_count": null,
   "id": "35cdb724-c57c-41be-9bd0-f8fc4ac0be63",
   "metadata": {},
   "outputs": [],
   "source": []
  }
 ],
 "metadata": {
  "kernelspec": {
   "display_name": "R",
   "language": "R",
   "name": "ir"
  },
  "language_info": {
   "codemirror_mode": "r",
   "file_extension": ".r",
   "mimetype": "text/x-r-source",
   "name": "R",
   "pygments_lexer": "r",
   "version": "3.6.1"
  }
 },
 "nbformat": 4,
 "nbformat_minor": 5
}
