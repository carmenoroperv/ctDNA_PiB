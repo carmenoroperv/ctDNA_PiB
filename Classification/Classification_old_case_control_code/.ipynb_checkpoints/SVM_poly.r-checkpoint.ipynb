{
 "cells": [
  {
   "cell_type": "code",
   "execution_count": null,
   "id": "99fb5823-865d-4c34-80f5-42a82e1408a8",
   "metadata": {},
   "outputs": [],
   "source": [
    "library(tidyverse)\n",
    "library(gbm)\n",
    "install.packages(\"caret\")\n",
    "library(caret)\n",
    "library(pROC)\n",
    "install.packages(\"kernlab\")\n",
    "library(kernlab)"
   ]
  },
  {
   "cell_type": "code",
   "execution_count": null,
   "id": "e7362b7f-280a-4b93-b831-c0e0c14e738f",
   "metadata": {},
   "outputs": [],
   "source": [
    "ATAC_pred <-  readRDS(snakemake@input[[\"input_predictions\"]])\n",
    "head(ATAC_pred)"
   ]
  },
  {
   "cell_type": "code",
   "execution_count": null,
   "id": "ead925c5-7c13-49cb-8280-421d58e96120",
   "metadata": {},
   "outputs": [],
   "source": [
    "sample_types <- read.table(snakemake@input[[\"input_sample_types\"]], header = F, sep = \" \")\n",
    "#sample_types <- read.table(\"../data/sample_types.txt\", header = F, sep = \" \")\n",
    "\n",
    "colnames(sample_types) <- c(\"sample\", \"sample_type\")\n",
    "head(sample_types)"
   ]
  },
  {
   "cell_type": "code",
   "execution_count": null,
   "id": "b1668148-8939-4d5a-a3d5-cdac3f0fe04a",
   "metadata": {},
   "outputs": [],
   "source": [
    "data <- merge(ATAC_pred, sample_types, by=\"sample\")\n",
    "data <- data %>% mutate(sample_type01 = ifelse(sample_type == \"Healthy\", \"Healthy\", \"Cancer\"))\n",
    "head(data)"
   ]
  },
  {
   "cell_type": "code",
   "execution_count": null,
   "id": "a30bbedb-2952-4b34-92d1-e92b90d0cde7",
   "metadata": {},
   "outputs": [],
   "source": [
    "data <- data %>% select(-sample_type)"
   ]
  },
  {
   "cell_type": "code",
   "execution_count": null,
   "id": "40e3e831-dc64-47e9-b99a-54ae086ee17c",
   "metadata": {},
   "outputs": [],
   "source": [
    "data <- data %>% select(-sample)\n",
    "head(data)"
   ]
  },
  {
   "cell_type": "code",
   "execution_count": null,
   "id": "783ad8b8-1a81-4725-9b17-67dbcdaecc93",
   "metadata": {},
   "outputs": [],
   "source": [
    "str(data$sample_type01)"
   ]
  },
  {
   "cell_type": "code",
   "execution_count": null,
   "id": "65f231b2-f570-4dbd-90d8-44ad5cb0d2cc",
   "metadata": {},
   "outputs": [],
   "source": [
    "data$sample_type01 <- as.factor(data$sample_type01)"
   ]
  },
  {
   "cell_type": "code",
   "execution_count": null,
   "id": "8dbc78f8-e704-4be7-b8b2-e9307589fe66",
   "metadata": {},
   "outputs": [],
   "source": [
    "levels(data$sample_type01)"
   ]
  },
  {
   "cell_type": "code",
   "execution_count": null,
   "id": "c50cee85-0fe5-4e01-b18c-da39c7479b85",
   "metadata": {},
   "outputs": [],
   "source": [
    "cross_validation <- function(dataset, k_inner_cv, k_outer_cv){\n",
    "    \n",
    "    observed  <- dataset$sample_type01\n",
    "   \n",
    "    return_tibble <- tibble(observed = observed)\n",
    "    \n",
    "    for (i in 1:k_outer_cv){ # repeated Cross-validation loop\n",
    "    \n",
    "    set.seed(i)\n",
    "    cvfolds <- cut(seq_len(nrow(dataset)), breaks = k_inner_cv, labels = F)\n",
    "    cvfolds <- sample(cvfolds)\n",
    "\n",
    "    predicted <- rep(NA, nrow(dataset))\n",
    "    \n",
    "        for (n in 1:k_inner_cv){\n",
    "            rows      <- which(cvfolds==n)\n",
    "            testdata  <- dataset[rows,]\n",
    "            testlabels <- testdata$sample_type01\n",
    "            testdata <- testdata %>% select(-sample_type01)\n",
    "            \n",
    "            traindata <- dataset\n",
    "         \n",
    "            traindata <- dataset[-rows,]\n",
    "           \n",
    "            trainlabels <- traindata$sample_type01\n",
    "            #traindata <- traindata %>% select(-sample_type01)\n",
    "\n",
    " \n",
    "            ################# Nested cross validation #######################\n",
    "            set.seed(0)\n",
    "            seeds <- vector(mode = \"list\", length = 11)\n",
    "            for(i in 1:10) seeds[[i]]<- sample.int(n=2000, 1200)\n",
    "            #for the last model\n",
    "            seeds[[11]]<-sample.int(1000, 1)\n",
    "\n",
    "            trControl_svm <- trainControl(method = \"repeatedcv\", \n",
    "                                          seeds = seeds,\n",
    "                                          number = 10, \n",
    "                                          repeats = 1, \n",
    "                                          classProbs = TRUE,\n",
    "                                          verboseIter = ifelse(is.null(getOption('knitr.in.progress')), TRUE, FALSE))\n",
    "\n",
    "            #svmGrid <- expand.grid(C = c(0.01, 0.1, 0.5, 1, 2, 3, 4, 5, 6, 7))\n",
    "\n",
    "            fit <- train(sample_type01 ~ .,\n",
    "                         data = traindata, \n",
    "                         method = \"svmPoly\",\n",
    "                         tuneLength = 10,\n",
    "                         trControl = trControl_svm,\n",
    "                         preProc = c(\"center\", \"scale\"),\n",
    "                         verbose=F)\n",
    "            \n",
    "            message(plot(fit))\n",
    "            message(\"besttune\")\n",
    "            message(fit$bestTune)\n",
    "            message(\"fit\")\n",
    "            message(fit)\n",
    "            #################################################################\n",
    "            #message(fit)\n",
    "\n",
    "            fitControl <- trainControl(classProbs = TRUE)\n",
    "            fit2 <- train(sample_type01 ~ .,\n",
    "                         data = traindata,\n",
    "                         method =  \"svmPoly\",\n",
    "                         trControl = fitControl,\n",
    "                         verbose = FALSE,\n",
    "                         tuneGrid = data.frame(C = fit$bestTune$C, \n",
    "                                               degree = fit$bestTune$degree, \n",
    "                                               scale = fit$bestTune$scale),\n",
    "                         preProc = c(\"center\", \"scale\"))\n",
    "            predicted[rows] <- predict(fit2, newdata = testdata, type = \"prob\")[,2]\n",
    "        \n",
    "    }\n",
    "    current_round_tibble <- tibble(predicted = predicted)\n",
    "    return_tibble <- cbind(return_tibble, current_round_tibble)\n",
    "    } # end of outer cv loop\n",
    "    \n",
    "    return(return_tibble)\n",
    "}"
   ]
  },
  {
   "cell_type": "code",
   "execution_count": null,
   "id": "852041f7-2016-4d33-9220-7d586bf20c7d",
   "metadata": {},
   "outputs": [],
   "source": [
    "results <- cross_validation(data, k_inner_cv = 10, k_outer_cv = 10)"
   ]
  },
  {
   "cell_type": "code",
   "execution_count": null,
   "id": "92cf405a-d129-418b-9d4e-d3b9306c15c7",
   "metadata": {},
   "outputs": [],
   "source": [
    "head(results)"
   ]
  },
  {
   "cell_type": "code",
   "execution_count": null,
   "id": "758d1bd1-e172-41f8-8c55-b96953dc103e",
   "metadata": {},
   "outputs": [],
   "source": [
    "results <- tibble(results, .name_repair = \"unique\")\n",
    "head(results)"
   ]
  },
  {
   "cell_type": "code",
   "execution_count": null,
   "id": "0469dbd3-9c9c-48a4-8a7e-4a4b718f1906",
   "metadata": {},
   "outputs": [],
   "source": [
    "saveRDS(results, file = snakemake@output[[\"SVM_output\"]])"
   ]
  },
  {
   "cell_type": "code",
   "execution_count": null,
   "id": "9587b195-860f-4b5b-a7a0-8871b7270231",
   "metadata": {},
   "outputs": [],
   "source": [
    "# Create multiple curves to plot\n",
    "rocs <- roc(observed ~ predicted...2 + \n",
    "                    predicted...3 + \n",
    "                    predicted...4 + \n",
    "                    predicted...5 + \n",
    "                    predicted...6 +\n",
    "                    predicted...7 +\n",
    "                    predicted...8 + \n",
    "                    predicted...9 + \n",
    "                    predicted...10 + \n",
    "                    predicted...11, data = results)\n",
    "ggroc(rocs)"
   ]
  },
  {
   "cell_type": "code",
   "execution_count": null,
   "id": "a10806e2-6f64-4ff7-93b5-89cb660049df",
   "metadata": {},
   "outputs": [],
   "source": [
    "roc1 <- roc(results$observed, results$predicted...2)\n",
    "roc2 <- roc(results$observed, results$predicted...3)\n",
    "roc3 <- roc(results$observed, results$predicted...4)\n",
    "roc4 <- roc(results$observed, results$predicted...5)\n",
    "roc5 <- roc(results$observed, results$predicted...6)\n",
    "roc6 <- roc(results$observed, results$predicted...7)\n",
    "roc7 <- roc(results$observed, results$predicted...8)\n",
    "roc8 <- roc(results$observed, results$predicted...9)\n",
    "roc9 <- roc(results$observed, results$predicted...10)\n",
    "roc10 <- roc(results$observed, results$predicted...11)"
   ]
  },
  {
   "cell_type": "code",
   "execution_count": null,
   "id": "b2b9c28c-8382-4199-a4e7-b6cb59338914",
   "metadata": {},
   "outputs": [],
   "source": [
    "paste(\"Mean AUC over 10 repetitions of 10-fold CV: \", mean(c(auc(roc1), auc(roc2), auc(roc3), auc(roc4), auc(roc5), auc(roc6), auc(roc7), auc(roc8), auc(roc9), auc(roc10))), sep = \"\")"
   ]
  },
  {
   "cell_type": "code",
   "execution_count": null,
   "id": "fe5389ae-bcd0-4569-8d25-3c11a7fefd28",
   "metadata": {},
   "outputs": [],
   "source": [
    "results_01 <- results %>% mutate(predicted...2_01 = ifelse(predicted...2 > 0.5, 1, 0), \n",
    "                                 predicted...3_01 = ifelse(predicted...3 > 0.5, 1, 0), \n",
    "                                 predicted...4_01 = ifelse(predicted...4 > 0.5, 1, 0),\n",
    "                                 predicted...5_01 = ifelse(predicted...5 > 0.5, 1, 0),\n",
    "                                 predicted...6_01 = ifelse(predicted...6 > 0.5, 1, 0),\n",
    "                                 predicted...7_01 = ifelse(predicted...7 > 0.5, 1, 0),\n",
    "                                 predicted...8_01 = ifelse(predicted...8 > 0.5, 1, 0),\n",
    "                                 predicted...9_01 = ifelse(predicted...9 > 0.5, 1, 0),\n",
    "                                 predicted...10_01 = ifelse(predicted...10 > 0.5, 1, 0),\n",
    "                                 predicted...11_01 = ifelse(predicted...11 > 0.5, 1, 0))"
   ]
  },
  {
   "cell_type": "code",
   "execution_count": null,
   "id": "7d60d177-982e-495c-8003-1d19d1504a85",
   "metadata": {},
   "outputs": [],
   "source": [
    "error_rates <- c(mean(results_01$observed != results_01$predicted...2_01),\n",
    "               mean(results_01$observed != results_01$predicted...3_01), \n",
    "               mean(results_01$observed != results_01$predicted...4_01),\n",
    "               mean(results_01$observed != results_01$predicted...5_01),\n",
    "               mean(results_01$observed != results_01$predicted...6_01),\n",
    "               mean(results_01$observed != results_01$predicted...7_01),\n",
    "               mean(results_01$observed != results_01$predicted...8_01),\n",
    "               mean(results_01$observed != results_01$predicted...9_01), \n",
    "               mean(results_01$observed != results_01$predicted...10_01), \n",
    "               mean(results_01$observed != results_01$predicted...11_01))\n",
    "\n",
    "error_rates\n",
    "\n",
    "paste(\"Mean error rate over 10 repetitions of 10-fold CV: \", mean(error_rates), sep = \"\")"
   ]
  },
  {
   "cell_type": "code",
   "execution_count": null,
   "id": "1567c0eb-0948-412b-ab7a-f7f64e0a6850",
   "metadata": {},
   "outputs": [],
   "source": [
    "accuracies <- c(mean(results_01$observed == results_01$predicted...2_01),\n",
    "               mean(results_01$observed == results_01$predicted...3_01), \n",
    "               mean(results_01$observed == results_01$predicted...4_01),\n",
    "               mean(results_01$observed == results_01$predicted...5_01),\n",
    "               mean(results_01$observed == results_01$predicted...6_01),\n",
    "               mean(results_01$observed == results_01$predicted...7_01),\n",
    "               mean(results_01$observed == results_01$predicted...8_01),\n",
    "               mean(results_01$observed == results_01$predicted...9_01), \n",
    "               mean(results_01$observed == results_01$predicted...10_01), \n",
    "               mean(results_01$observed == results_01$predicted...11_01))\n",
    "\n",
    "accuracies\n",
    "paste(\"Mean accuracy over 10 repetitions of 10-fold CV: \", mean(accuracies), sep = \"\")"
   ]
  }
 ],
 "metadata": {
  "kernelspec": {
   "display_name": "R",
   "language": "R",
   "name": "ir"
  },
  "language_info": {
   "codemirror_mode": "r",
   "file_extension": ".r",
   "mimetype": "text/x-r-source",
   "name": "R",
   "pygments_lexer": "r",
   "version": "3.6.1"
  }
 },
 "nbformat": 4,
 "nbformat_minor": 5
}
