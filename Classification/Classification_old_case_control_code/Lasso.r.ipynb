{
 "cells": [
  {
   "cell_type": "code",
   "execution_count": 1,
   "id": "4e9c907a-fd62-468e-93a1-87333b0d2c4a",
   "metadata": {
    "tags": []
   },
   "outputs": [
    {
     "name": "stderr",
     "output_type": "stream",
     "text": [
      "\n",
      "Attaching package: ‘dplyr’\n",
      "\n",
      "The following objects are masked from ‘package:stats’:\n",
      "\n",
      "    filter, lag\n",
      "\n",
      "The following objects are masked from ‘package:base’:\n",
      "\n",
      "    intersect, setdiff, setequal, union\n",
      "\n",
      "Registered S3 methods overwritten by 'ggplot2':\n",
      "  method         from \n",
      "  [.quosures     rlang\n",
      "  c.quosures     rlang\n",
      "  print.quosures rlang\n",
      "Registered S3 method overwritten by 'rvest':\n",
      "  method            from\n",
      "  read_xml.response xml2\n",
      "── Attaching packages ──────────────────────────────────── tidyverse 1.2.1 ──\n",
      "✔ ggplot2 3.1.1     ✔ readr   1.3.1\n",
      "✔ tibble  3.1.4     ✔ purrr   0.3.4\n",
      "✔ tidyr   1.1.3     ✔ stringr 1.4.0\n",
      "✔ ggplot2 3.1.1     ✔ forcats 0.4.0\n",
      "── Conflicts ─────────────────────────────────────── tidyverse_conflicts() ──\n",
      "✖ dplyr::filter() masks stats::filter()\n",
      "✖ dplyr::lag()    masks stats::lag()\n",
      "Type 'citation(\"pROC\")' for a citation.\n",
      "\n",
      "Attaching package: ‘pROC’\n",
      "\n",
      "The following objects are masked from ‘package:stats’:\n",
      "\n",
      "    cov, smooth, var\n",
      "\n",
      "Loading required package: Matrix\n",
      "\n",
      "Attaching package: ‘Matrix’\n",
      "\n",
      "The following objects are masked from ‘package:tidyr’:\n",
      "\n",
      "    expand, pack, unpack\n",
      "\n",
      "Loading required package: foreach\n",
      "\n",
      "Attaching package: ‘foreach’\n",
      "\n",
      "The following objects are masked from ‘package:purrr’:\n",
      "\n",
      "    accumulate, when\n",
      "\n",
      "Loaded glmnet 2.0-16\n",
      "\n",
      "\n",
      "Attaching package: ‘glmnet’\n",
      "\n",
      "The following object is masked from ‘package:pROC’:\n",
      "\n",
      "    auc\n",
      "\n",
      "\n",
      "Attaching package: ‘glmnetUtils’\n",
      "\n",
      "The following objects are masked from ‘package:glmnet’:\n",
      "\n",
      "    cv.glmnet, glmnet\n",
      "\n"
     ]
    }
   ],
   "source": [
    "library(dplyr)\n",
    "library(class)\n",
    "library(tidyverse)\n",
    "library(pROC)\n",
    "library(glmnet)\n",
    "\n",
    "#install.packages('glmnetUtils')\n",
    "library(glmnetUtils)"
   ]
  },
  {
   "cell_type": "code",
   "execution_count": 3,
   "id": "7a75a56d-7f2a-4b6c-95f9-9cd829baf962",
   "metadata": {},
   "outputs": [
    {
     "name": "stderr",
     "output_type": "stream",
     "text": [
      "ERROR while rich displaying an object: Error in sprintf(wrap, header, body): 'fmt' length exceeds maximal format length 8192\n",
      "\n",
      "Traceback:\n",
      "1. FUN(X[[i]], ...)\n",
      "2. tryCatch(withCallingHandlers({\n",
      " .     if (!mime %in% names(repr::mime2repr)) \n",
      " .         stop(\"No repr_* for mimetype \", mime, \" in repr::mime2repr\")\n",
      " .     rpr <- repr::mime2repr[[mime]](obj)\n",
      " .     if (is.null(rpr)) \n",
      " .         return(NULL)\n",
      " .     prepare_content(is.raw(rpr), rpr)\n",
      " . }, error = error_handler), error = outer_handler)\n",
      "3. tryCatchList(expr, classes, parentenv, handlers)\n",
      "4. tryCatchOne(expr, names, parentenv, handlers[[1L]])\n",
      "5. doTryCatch(return(expr), name, parentenv, handler)\n",
      "6. withCallingHandlers({\n",
      " .     if (!mime %in% names(repr::mime2repr)) \n",
      " .         stop(\"No repr_* for mimetype \", mime, \" in repr::mime2repr\")\n",
      " .     rpr <- repr::mime2repr[[mime]](obj)\n",
      " .     if (is.null(rpr)) \n",
      " .         return(NULL)\n",
      " .     prepare_content(is.raw(rpr), rpr)\n",
      " . }, error = error_handler)\n",
      "7. repr::mime2repr[[mime]](obj)\n",
      "8. repr_latex.data.frame(obj)\n",
      "9. repr_matrix_generic(obj, sprintf(\"\\\\begin{tabular}{%s}\\n%%s%%s\\\\end{tabular}\\n\", \n",
      " .     cols), \"%s\\\\\\\\\\n\\\\hline\\n\", \"  &\", \" %s &\", \"%s\", \"\\t%s\\\\\\\\\\n\", \n",
      " .     \"%s &\", \" %s &\", escape_fun = latex_escape_vec, ...)\n",
      "10. sprintf(wrap, header, body)\n"
     ]
    },
    {
     "data": {
      "text/html": [
       "<table>\n",
       "<thead><tr><th></th><th scope=col>sample</th><th scope=col>chr10_400</th><th scope=col>chr10_40</th><th scope=col>chr10_4</th><th scope=col>chr10_401</th><th scope=col>chr10_402</th><th scope=col>chr10_403</th><th scope=col>chr10_404</th><th scope=col>chr10_405</th><th scope=col>chr10_406</th><th scope=col>...</th><th scope=col>chr9_39</th><th scope=col>chr9_391</th><th scope=col>chr9_392</th><th scope=col>chr9_393</th><th scope=col>chr9_394</th><th scope=col>chr9_395</th><th scope=col>chr9_396</th><th scope=col>chr9_397</th><th scope=col>chr9_398</th><th scope=col>chr9_399</th></tr></thead>\n",
       "<tbody>\n",
       "\t<tr><th scope=row>V1</th><td>PGDX16568P  </td><td>0.7621097   </td><td>-0.8032188  </td><td>0.6402487   </td><td>-0.8688929  </td><td>-0.4792134  </td><td>-0.5096581  </td><td> 0.02594817 </td><td>0.7295906   </td><td>0.7738027   </td><td>...         </td><td>-0.405123632</td><td> 0.59187320 </td><td>-0.29125018 </td><td>-0.58276010 </td><td> 0.3792968  </td><td>-0.04366948 </td><td>0.9183014   </td><td>0.7664238   </td><td>0.9980457   </td><td>-1.0572778  </td></tr>\n",
       "\t<tr><th scope=row>V2</th><td>PGDX16569P  </td><td>0.7057109   </td><td>-0.8227554  </td><td>0.7868749   </td><td>-1.0407754  </td><td>-0.9284673  </td><td>-0.4139074  </td><td>-0.16594560 </td><td>0.7765621   </td><td>0.5761691   </td><td>...         </td><td>-0.849313481</td><td> 0.39431325 </td><td> 0.05197526 </td><td>-0.36318168 </td><td> 0.1744439  </td><td>-0.13785162 </td><td>0.5392077   </td><td>0.3942941   </td><td>1.7972449   </td><td>-0.3619464  </td></tr>\n",
       "\t<tr><th scope=row>V3</th><td>PGDX16570P  </td><td>0.4891340   </td><td>-1.1448217  </td><td>0.9478602   </td><td>-1.0930696  </td><td>-0.5115270  </td><td>-0.7552269  </td><td>-0.48824613 </td><td>0.9537215   </td><td>0.6624865   </td><td>...         </td><td>-0.871941533</td><td>-0.06389996 </td><td>-0.22907645 </td><td>-0.32470631 </td><td>-0.6251958  </td><td> 0.17051719 </td><td>0.6882020   </td><td>0.1744819   </td><td>1.4357406   </td><td>-0.2330366  </td></tr>\n",
       "\t<tr><th scope=row>V4</th><td>PGDX16571P  </td><td>0.6882727   </td><td>-0.8585679  </td><td>0.6248431   </td><td>-0.8310281  </td><td>-0.5335804  </td><td>-0.5125528  </td><td>-0.34185944 </td><td>0.9281618   </td><td>0.4768828   </td><td>...         </td><td>-0.005893625</td><td> 0.18185487 </td><td> 0.32387927 </td><td> 0.04577069 </td><td> 0.2752394  </td><td> 0.22750427 </td><td>0.6333635   </td><td>0.8413436   </td><td>1.2819797   </td><td> 0.5629469  </td></tr>\n",
       "\t<tr><th scope=row>V5</th><td>PGDX16579P  </td><td>0.5801896   </td><td>-1.1674832  </td><td>0.7883376   </td><td>-1.0498406  </td><td>-1.2475692  </td><td>-0.7345196  </td><td>-0.18778863 </td><td>0.2546093   </td><td>0.2920616   </td><td>...         </td><td>-0.067895629</td><td>-0.05197828 </td><td>-0.18308631 </td><td>-0.70242368 </td><td>-0.4281903  </td><td>-0.06235782 </td><td>1.0764914   </td><td>1.1411410   </td><td>0.8795170   </td><td>-0.4910720  </td></tr>\n",
       "\t<tr><th scope=row>V6</th><td>PGDX16580P  </td><td>0.6831409   </td><td>-0.8712906  </td><td>0.7199476   </td><td>-1.1853489  </td><td>-0.8520159  </td><td>-0.6829992  </td><td>-0.35499242 </td><td>0.8598551   </td><td>0.3870744   </td><td>...         </td><td>-0.735310376</td><td> 0.36325245 </td><td> 0.20814984 </td><td>-0.50307962 </td><td> 0.2609116  </td><td> 0.53933999 </td><td>1.0772367   </td><td>0.6906960   </td><td>1.7696570   </td><td>-0.4181884  </td></tr>\n",
       "</tbody>\n",
       "</table>\n"
      ],
      "text/markdown": [
       "\n",
       "| <!--/--> | sample | chr10_400 | chr10_40 | chr10_4 | chr10_401 | chr10_402 | chr10_403 | chr10_404 | chr10_405 | chr10_406 | ... | chr9_39 | chr9_391 | chr9_392 | chr9_393 | chr9_394 | chr9_395 | chr9_396 | chr9_397 | chr9_398 | chr9_399 |\n",
       "|---|---|---|---|---|---|---|---|---|---|---|---|---|---|---|---|---|---|---|---|---|---|\n",
       "| V1 | PGDX16568P   | 0.7621097    | -0.8032188   | 0.6402487    | -0.8688929   | -0.4792134   | -0.5096581   |  0.02594817  | 0.7295906    | 0.7738027    | ...          | -0.405123632 |  0.59187320  | -0.29125018  | -0.58276010  |  0.3792968   | -0.04366948  | 0.9183014    | 0.7664238    | 0.9980457    | -1.0572778   |\n",
       "| V2 | PGDX16569P   | 0.7057109    | -0.8227554   | 0.7868749    | -1.0407754   | -0.9284673   | -0.4139074   | -0.16594560  | 0.7765621    | 0.5761691    | ...          | -0.849313481 |  0.39431325  |  0.05197526  | -0.36318168  |  0.1744439   | -0.13785162  | 0.5392077    | 0.3942941    | 1.7972449    | -0.3619464   |\n",
       "| V3 | PGDX16570P   | 0.4891340    | -1.1448217   | 0.9478602    | -1.0930696   | -0.5115270   | -0.7552269   | -0.48824613  | 0.9537215    | 0.6624865    | ...          | -0.871941533 | -0.06389996  | -0.22907645  | -0.32470631  | -0.6251958   |  0.17051719  | 0.6882020    | 0.1744819    | 1.4357406    | -0.2330366   |\n",
       "| V4 | PGDX16571P   | 0.6882727    | -0.8585679   | 0.6248431    | -0.8310281   | -0.5335804   | -0.5125528   | -0.34185944  | 0.9281618    | 0.4768828    | ...          | -0.005893625 |  0.18185487  |  0.32387927  |  0.04577069  |  0.2752394   |  0.22750427  | 0.6333635    | 0.8413436    | 1.2819797    |  0.5629469   |\n",
       "| V5 | PGDX16579P   | 0.5801896    | -1.1674832   | 0.7883376    | -1.0498406   | -1.2475692   | -0.7345196   | -0.18778863  | 0.2546093    | 0.2920616    | ...          | -0.067895629 | -0.05197828  | -0.18308631  | -0.70242368  | -0.4281903   | -0.06235782  | 1.0764914    | 1.1411410    | 0.8795170    | -0.4910720   |\n",
       "| V6 | PGDX16580P   | 0.6831409    | -0.8712906   | 0.7199476    | -1.1853489   | -0.8520159   | -0.6829992   | -0.35499242  | 0.8598551    | 0.3870744    | ...          | -0.735310376 |  0.36325245  |  0.20814984  | -0.50307962  |  0.2609116   |  0.53933999  | 1.0772367    | 0.6906960    | 1.7696570    | -0.4181884   |\n",
       "\n"
      ],
      "text/plain": [
       "   sample     chr10_400 chr10_40   chr10_4   chr10_401  chr10_402  chr10_403 \n",
       "V1 PGDX16568P 0.7621097 -0.8032188 0.6402487 -0.8688929 -0.4792134 -0.5096581\n",
       "V2 PGDX16569P 0.7057109 -0.8227554 0.7868749 -1.0407754 -0.9284673 -0.4139074\n",
       "V3 PGDX16570P 0.4891340 -1.1448217 0.9478602 -1.0930696 -0.5115270 -0.7552269\n",
       "V4 PGDX16571P 0.6882727 -0.8585679 0.6248431 -0.8310281 -0.5335804 -0.5125528\n",
       "V5 PGDX16579P 0.5801896 -1.1674832 0.7883376 -1.0498406 -1.2475692 -0.7345196\n",
       "V6 PGDX16580P 0.6831409 -0.8712906 0.7199476 -1.1853489 -0.8520159 -0.6829992\n",
       "   chr10_404   chr10_405 chr10_406 ... chr9_39      chr9_391    chr9_392   \n",
       "V1  0.02594817 0.7295906 0.7738027 ... -0.405123632  0.59187320 -0.29125018\n",
       "V2 -0.16594560 0.7765621 0.5761691 ... -0.849313481  0.39431325  0.05197526\n",
       "V3 -0.48824613 0.9537215 0.6624865 ... -0.871941533 -0.06389996 -0.22907645\n",
       "V4 -0.34185944 0.9281618 0.4768828 ... -0.005893625  0.18185487  0.32387927\n",
       "V5 -0.18778863 0.2546093 0.2920616 ... -0.067895629 -0.05197828 -0.18308631\n",
       "V6 -0.35499242 0.8598551 0.3870744 ... -0.735310376  0.36325245  0.20814984\n",
       "   chr9_393    chr9_394   chr9_395    chr9_396  chr9_397  chr9_398  chr9_399  \n",
       "V1 -0.58276010  0.3792968 -0.04366948 0.9183014 0.7664238 0.9980457 -1.0572778\n",
       "V2 -0.36318168  0.1744439 -0.13785162 0.5392077 0.3942941 1.7972449 -0.3619464\n",
       "V3 -0.32470631 -0.6251958  0.17051719 0.6882020 0.1744819 1.4357406 -0.2330366\n",
       "V4  0.04577069  0.2752394  0.22750427 0.6333635 0.8413436 1.2819797  0.5629469\n",
       "V5 -0.70242368 -0.4281903 -0.06235782 1.0764914 1.1411410 0.8795170 -0.4910720\n",
       "V6 -0.50307962  0.2609116  0.53933999 1.0772367 0.6906960 1.7696570 -0.4181884"
      ]
     },
     "metadata": {},
     "output_type": "display_data"
    }
   ],
   "source": [
    "data <- readRDS(\"../data/ATAC_predictions_train_20_predict_80/ATAC_pred_lasso_normalized_trimmed_formatted_standardized.rds\")\n",
    "head(data)"
   ]
  },
  {
   "cell_type": "code",
   "execution_count": 4,
   "id": "d4cb6628-b95e-48a2-a4d1-fdcc96ef0991",
   "metadata": {},
   "outputs": [
    {
     "data": {
      "text/html": [
       "<table>\n",
       "<thead><tr><th scope=col>sample</th><th scope=col>sample_type</th></tr></thead>\n",
       "<tbody>\n",
       "\t<tr><td>PGDX10344P1   </td><td>Gastric_cancer</td></tr>\n",
       "\t<tr><td>PGDX10346P1   </td><td>Gastric_cancer</td></tr>\n",
       "\t<tr><td>PGDX10349P1   </td><td>Gastric_cancer</td></tr>\n",
       "\t<tr><td>PGDX10351P1   </td><td>Gastric_cancer</td></tr>\n",
       "\t<tr><td>PGDX10566P    </td><td>Ovarian_Cancer</td></tr>\n",
       "\t<tr><td>PGDX10567P    </td><td>Ovarian_Cancer</td></tr>\n",
       "</tbody>\n",
       "</table>\n"
      ],
      "text/latex": [
       "\\begin{tabular}{r|ll}\n",
       " sample & sample\\_type\\\\\n",
       "\\hline\n",
       "\t PGDX10344P1      & Gastric\\_cancer\\\\\n",
       "\t PGDX10346P1      & Gastric\\_cancer\\\\\n",
       "\t PGDX10349P1      & Gastric\\_cancer\\\\\n",
       "\t PGDX10351P1      & Gastric\\_cancer\\\\\n",
       "\t PGDX10566P       & Ovarian\\_Cancer\\\\\n",
       "\t PGDX10567P       & Ovarian\\_Cancer\\\\\n",
       "\\end{tabular}\n"
      ],
      "text/markdown": [
       "\n",
       "| sample | sample_type |\n",
       "|---|---|\n",
       "| PGDX10344P1    | Gastric_cancer |\n",
       "| PGDX10346P1    | Gastric_cancer |\n",
       "| PGDX10349P1    | Gastric_cancer |\n",
       "| PGDX10351P1    | Gastric_cancer |\n",
       "| PGDX10566P     | Ovarian_Cancer |\n",
       "| PGDX10567P     | Ovarian_Cancer |\n",
       "\n"
      ],
      "text/plain": [
       "  sample      sample_type   \n",
       "1 PGDX10344P1 Gastric_cancer\n",
       "2 PGDX10346P1 Gastric_cancer\n",
       "3 PGDX10349P1 Gastric_cancer\n",
       "4 PGDX10351P1 Gastric_cancer\n",
       "5 PGDX10566P  Ovarian_Cancer\n",
       "6 PGDX10567P  Ovarian_Cancer"
      ]
     },
     "metadata": {},
     "output_type": "display_data"
    }
   ],
   "source": [
    "#sample_types <- read.table(snakemake@input[[\"input_sample_types\"]], header = F, sep = \" \")\n",
    "sample_types <- read.table(\"../data/sample_types.txt\", header = F, sep = \" \")\n",
    "\n",
    "colnames(sample_types) <- c(\"sample\", \"sample_type\")\n",
    "head(sample_types)"
   ]
  },
  {
   "cell_type": "code",
   "execution_count": 7,
   "id": "8d28d9e8-45a1-4ccf-bef4-0bfd41aae885",
   "metadata": {},
   "outputs": [
    {
     "name": "stderr",
     "output_type": "stream",
     "text": [
      "ERROR while rich displaying an object: Error in sprintf(wrap, header, body): 'fmt' length exceeds maximal format length 8192\n",
      "\n",
      "Traceback:\n",
      "1. FUN(X[[i]], ...)\n",
      "2. tryCatch(withCallingHandlers({\n",
      " .     if (!mime %in% names(repr::mime2repr)) \n",
      " .         stop(\"No repr_* for mimetype \", mime, \" in repr::mime2repr\")\n",
      " .     rpr <- repr::mime2repr[[mime]](obj)\n",
      " .     if (is.null(rpr)) \n",
      " .         return(NULL)\n",
      " .     prepare_content(is.raw(rpr), rpr)\n",
      " . }, error = error_handler), error = outer_handler)\n",
      "3. tryCatchList(expr, classes, parentenv, handlers)\n",
      "4. tryCatchOne(expr, names, parentenv, handlers[[1L]])\n",
      "5. doTryCatch(return(expr), name, parentenv, handler)\n",
      "6. withCallingHandlers({\n",
      " .     if (!mime %in% names(repr::mime2repr)) \n",
      " .         stop(\"No repr_* for mimetype \", mime, \" in repr::mime2repr\")\n",
      " .     rpr <- repr::mime2repr[[mime]](obj)\n",
      " .     if (is.null(rpr)) \n",
      " .         return(NULL)\n",
      " .     prepare_content(is.raw(rpr), rpr)\n",
      " . }, error = error_handler)\n",
      "7. repr::mime2repr[[mime]](obj)\n",
      "8. repr_latex.data.frame(obj)\n",
      "9. repr_matrix_generic(obj, sprintf(\"\\\\begin{tabular}{%s}\\n%%s%%s\\\\end{tabular}\\n\", \n",
      " .     cols), \"%s\\\\\\\\\\n\\\\hline\\n\", \"  &\", \" %s &\", \"%s\", \"\\t%s\\\\\\\\\\n\", \n",
      " .     \"%s &\", \" %s &\", escape_fun = latex_escape_vec, ...)\n",
      "10. sprintf(wrap, header, body)\n"
     ]
    },
    {
     "data": {
      "text/html": [
       "<table>\n",
       "<thead><tr><th scope=col>sample</th><th scope=col>chr10_400</th><th scope=col>chr10_40</th><th scope=col>chr10_4</th><th scope=col>chr10_401</th><th scope=col>chr10_402</th><th scope=col>chr10_403</th><th scope=col>chr10_404</th><th scope=col>chr10_405</th><th scope=col>chr10_406</th><th scope=col>...</th><th scope=col>chr9_392</th><th scope=col>chr9_393</th><th scope=col>chr9_394</th><th scope=col>chr9_395</th><th scope=col>chr9_396</th><th scope=col>chr9_397</th><th scope=col>chr9_398</th><th scope=col>chr9_399</th><th scope=col>sample_type</th><th scope=col>sample_type01</th></tr></thead>\n",
       "<tbody>\n",
       "\t<tr><td>PGDX10344P1   </td><td>0.28476325    </td><td>-0.8212573    </td><td>1.0277500     </td><td>-0.7094983    </td><td>-0.2327985    </td><td>-0.7836319    </td><td> 0.01979819   </td><td>0.2624251     </td><td>0.3128992     </td><td>...           </td><td> 0.006860094  </td><td>-0.5010935    </td><td>-0.2043651    </td><td> 0.02437101   </td><td> 0.57938365   </td><td>-0.4136060    </td><td>1.3160044     </td><td>-0.26256223   </td><td>Gastric_cancer</td><td>1             </td></tr>\n",
       "\t<tr><td>PGDX10346P1   </td><td>1.28471727    </td><td>-0.8295661    </td><td>1.0145149     </td><td>-0.6213053    </td><td>-0.8143027    </td><td>-0.6479755    </td><td>-0.06975614   </td><td>0.9264024     </td><td>0.4895216     </td><td>...           </td><td>-0.421600296  </td><td>-0.5810840    </td><td> 0.1408379    </td><td> 0.21122926   </td><td> 1.13429106   </td><td> 0.8116547    </td><td>0.3187471     </td><td>-0.48265821   </td><td>Gastric_cancer</td><td>1             </td></tr>\n",
       "\t<tr><td>PGDX10349P1   </td><td>0.07110482    </td><td>-1.0079115    </td><td>0.3347017     </td><td>-1.1303365    </td><td>-0.8177276    </td><td>-0.9202015    </td><td>-0.08484151   </td><td>0.5183954     </td><td>2.2808829     </td><td>...           </td><td> 0.527804492  </td><td>-0.1435833    </td><td> 0.4967880    </td><td> 0.15991730   </td><td> 0.89522351   </td><td> 0.5305742    </td><td>1.6767953     </td><td>-0.02839009   </td><td>Gastric_cancer</td><td>1             </td></tr>\n",
       "\t<tr><td>PGDX10351P1   </td><td>1.36298501    </td><td>-1.4848879    </td><td>0.4225454     </td><td>-1.3192129    </td><td>-0.7097136    </td><td>-0.4653093    </td><td>-0.42147744   </td><td>0.9729417     </td><td>0.5944980     </td><td>...           </td><td> 0.872833915  </td><td>-0.0670184    </td><td> 0.7394425    </td><td> 0.13690205   </td><td> 1.29732717   </td><td> 0.4739056    </td><td>1.4153912     </td><td>-0.12217374   </td><td>Gastric_cancer</td><td>1             </td></tr>\n",
       "\t<tr><td>PGDX10566P    </td><td>0.40245603    </td><td>-1.0782760    </td><td>1.2759516     </td><td>-0.8646247    </td><td>-0.5192562    </td><td>-0.8555661    </td><td>-0.22999396   </td><td>0.7699482     </td><td>0.4825674     </td><td>...           </td><td> 0.173364771  </td><td>-0.8705736    </td><td> 0.4935296    </td><td>-0.17648798   </td><td>-0.02395699   </td><td> 0.3182328    </td><td>1.3930824     </td><td>-0.47078676   </td><td>Ovarian_Cancer</td><td>1             </td></tr>\n",
       "\t<tr><td>PGDX10567P    </td><td>0.97825189    </td><td>-0.6787169    </td><td>1.0934262     </td><td>-0.1749540    </td><td>-0.6319351    </td><td>-0.7585842    </td><td> 0.22653017   </td><td>0.5994301     </td><td>0.6407291     </td><td>...           </td><td>-0.241967372  </td><td>-0.6951369    </td><td> 0.2412607    </td><td> 0.11914801   </td><td> 0.07982386   </td><td> 0.2854560    </td><td>1.7946488     </td><td>-0.69550001   </td><td>Ovarian_Cancer</td><td>1             </td></tr>\n",
       "</tbody>\n",
       "</table>\n"
      ],
      "text/markdown": [
       "\n",
       "| sample | chr10_400 | chr10_40 | chr10_4 | chr10_401 | chr10_402 | chr10_403 | chr10_404 | chr10_405 | chr10_406 | ... | chr9_392 | chr9_393 | chr9_394 | chr9_395 | chr9_396 | chr9_397 | chr9_398 | chr9_399 | sample_type | sample_type01 |\n",
       "|---|---|---|---|---|---|---|---|---|---|---|---|---|---|---|---|---|---|---|---|---|\n",
       "| PGDX10344P1    | 0.28476325     | -0.8212573     | 1.0277500      | -0.7094983     | -0.2327985     | -0.7836319     |  0.01979819    | 0.2624251      | 0.3128992      | ...            |  0.006860094   | -0.5010935     | -0.2043651     |  0.02437101    |  0.57938365    | -0.4136060     | 1.3160044      | -0.26256223    | Gastric_cancer | 1              |\n",
       "| PGDX10346P1    | 1.28471727     | -0.8295661     | 1.0145149      | -0.6213053     | -0.8143027     | -0.6479755     | -0.06975614    | 0.9264024      | 0.4895216      | ...            | -0.421600296   | -0.5810840     |  0.1408379     |  0.21122926    |  1.13429106    |  0.8116547     | 0.3187471      | -0.48265821    | Gastric_cancer | 1              |\n",
       "| PGDX10349P1    | 0.07110482     | -1.0079115     | 0.3347017      | -1.1303365     | -0.8177276     | -0.9202015     | -0.08484151    | 0.5183954      | 2.2808829      | ...            |  0.527804492   | -0.1435833     |  0.4967880     |  0.15991730    |  0.89522351    |  0.5305742     | 1.6767953      | -0.02839009    | Gastric_cancer | 1              |\n",
       "| PGDX10351P1    | 1.36298501     | -1.4848879     | 0.4225454      | -1.3192129     | -0.7097136     | -0.4653093     | -0.42147744    | 0.9729417      | 0.5944980      | ...            |  0.872833915   | -0.0670184     |  0.7394425     |  0.13690205    |  1.29732717    |  0.4739056     | 1.4153912      | -0.12217374    | Gastric_cancer | 1              |\n",
       "| PGDX10566P     | 0.40245603     | -1.0782760     | 1.2759516      | -0.8646247     | -0.5192562     | -0.8555661     | -0.22999396    | 0.7699482      | 0.4825674      | ...            |  0.173364771   | -0.8705736     |  0.4935296     | -0.17648798    | -0.02395699    |  0.3182328     | 1.3930824      | -0.47078676    | Ovarian_Cancer | 1              |\n",
       "| PGDX10567P     | 0.97825189     | -0.6787169     | 1.0934262      | -0.1749540     | -0.6319351     | -0.7585842     |  0.22653017    | 0.5994301      | 0.6407291      | ...            | -0.241967372   | -0.6951369     |  0.2412607     |  0.11914801    |  0.07982386    |  0.2854560     | 1.7946488      | -0.69550001    | Ovarian_Cancer | 1              |\n",
       "\n"
      ],
      "text/plain": [
       "  sample      chr10_400  chr10_40   chr10_4   chr10_401  chr10_402  chr10_403 \n",
       "1 PGDX10344P1 0.28476325 -0.8212573 1.0277500 -0.7094983 -0.2327985 -0.7836319\n",
       "2 PGDX10346P1 1.28471727 -0.8295661 1.0145149 -0.6213053 -0.8143027 -0.6479755\n",
       "3 PGDX10349P1 0.07110482 -1.0079115 0.3347017 -1.1303365 -0.8177276 -0.9202015\n",
       "4 PGDX10351P1 1.36298501 -1.4848879 0.4225454 -1.3192129 -0.7097136 -0.4653093\n",
       "5 PGDX10566P  0.40245603 -1.0782760 1.2759516 -0.8646247 -0.5192562 -0.8555661\n",
       "6 PGDX10567P  0.97825189 -0.6787169 1.0934262 -0.1749540 -0.6319351 -0.7585842\n",
       "  chr10_404   chr10_405 chr10_406 ... chr9_392     chr9_393   chr9_394  \n",
       "1  0.01979819 0.2624251 0.3128992 ...  0.006860094 -0.5010935 -0.2043651\n",
       "2 -0.06975614 0.9264024 0.4895216 ... -0.421600296 -0.5810840  0.1408379\n",
       "3 -0.08484151 0.5183954 2.2808829 ...  0.527804492 -0.1435833  0.4967880\n",
       "4 -0.42147744 0.9729417 0.5944980 ...  0.872833915 -0.0670184  0.7394425\n",
       "5 -0.22999396 0.7699482 0.4825674 ...  0.173364771 -0.8705736  0.4935296\n",
       "6  0.22653017 0.5994301 0.6407291 ... -0.241967372 -0.6951369  0.2412607\n",
       "  chr9_395    chr9_396    chr9_397   chr9_398  chr9_399    sample_type   \n",
       "1  0.02437101  0.57938365 -0.4136060 1.3160044 -0.26256223 Gastric_cancer\n",
       "2  0.21122926  1.13429106  0.8116547 0.3187471 -0.48265821 Gastric_cancer\n",
       "3  0.15991730  0.89522351  0.5305742 1.6767953 -0.02839009 Gastric_cancer\n",
       "4  0.13690205  1.29732717  0.4739056 1.4153912 -0.12217374 Gastric_cancer\n",
       "5 -0.17648798 -0.02395699  0.3182328 1.3930824 -0.47078676 Ovarian_Cancer\n",
       "6  0.11914801  0.07982386  0.2854560 1.7946488 -0.69550001 Ovarian_Cancer\n",
       "  sample_type01\n",
       "1 1            \n",
       "2 1            \n",
       "3 1            \n",
       "4 1            \n",
       "5 1            \n",
       "6 1            "
      ]
     },
     "metadata": {},
     "output_type": "display_data"
    }
   ],
   "source": [
    "data <- merge(data, sample_types, by=\"sample\")\n",
    "data <- data %>% mutate(sample_type01 = ifelse(sample_type == \"Healthy\", 0, 1))\n",
    "head(data)"
   ]
  },
  {
   "cell_type": "code",
   "execution_count": 8,
   "id": "77abe99c-84df-47b6-a9e3-2045ecd7cf97",
   "metadata": {},
   "outputs": [],
   "source": [
    "data <- data %>% select(-sample_type)"
   ]
  },
  {
   "cell_type": "code",
   "execution_count": 9,
   "id": "6a400e57-eada-4be2-a8c5-a99c04025572",
   "metadata": {},
   "outputs": [
    {
     "name": "stderr",
     "output_type": "stream",
     "text": [
      "ERROR while rich displaying an object: Error in sprintf(wrap, header, body): 'fmt' length exceeds maximal format length 8192\n",
      "\n",
      "Traceback:\n",
      "1. FUN(X[[i]], ...)\n",
      "2. tryCatch(withCallingHandlers({\n",
      " .     if (!mime %in% names(repr::mime2repr)) \n",
      " .         stop(\"No repr_* for mimetype \", mime, \" in repr::mime2repr\")\n",
      " .     rpr <- repr::mime2repr[[mime]](obj)\n",
      " .     if (is.null(rpr)) \n",
      " .         return(NULL)\n",
      " .     prepare_content(is.raw(rpr), rpr)\n",
      " . }, error = error_handler), error = outer_handler)\n",
      "3. tryCatchList(expr, classes, parentenv, handlers)\n",
      "4. tryCatchOne(expr, names, parentenv, handlers[[1L]])\n",
      "5. doTryCatch(return(expr), name, parentenv, handler)\n",
      "6. withCallingHandlers({\n",
      " .     if (!mime %in% names(repr::mime2repr)) \n",
      " .         stop(\"No repr_* for mimetype \", mime, \" in repr::mime2repr\")\n",
      " .     rpr <- repr::mime2repr[[mime]](obj)\n",
      " .     if (is.null(rpr)) \n",
      " .         return(NULL)\n",
      " .     prepare_content(is.raw(rpr), rpr)\n",
      " . }, error = error_handler)\n",
      "7. repr::mime2repr[[mime]](obj)\n",
      "8. repr_latex.data.frame(obj)\n",
      "9. repr_matrix_generic(obj, sprintf(\"\\\\begin{tabular}{%s}\\n%%s%%s\\\\end{tabular}\\n\", \n",
      " .     cols), \"%s\\\\\\\\\\n\\\\hline\\n\", \"  &\", \" %s &\", \"%s\", \"\\t%s\\\\\\\\\\n\", \n",
      " .     \"%s &\", \" %s &\", escape_fun = latex_escape_vec, ...)\n",
      "10. sprintf(wrap, header, body)\n"
     ]
    },
    {
     "data": {
      "text/html": [
       "<table>\n",
       "<thead><tr><th scope=col>chr10_400</th><th scope=col>chr10_40</th><th scope=col>chr10_4</th><th scope=col>chr10_401</th><th scope=col>chr10_402</th><th scope=col>chr10_403</th><th scope=col>chr10_404</th><th scope=col>chr10_405</th><th scope=col>chr10_406</th><th scope=col>chr10_407</th><th scope=col>...</th><th scope=col>chr9_391</th><th scope=col>chr9_392</th><th scope=col>chr9_393</th><th scope=col>chr9_394</th><th scope=col>chr9_395</th><th scope=col>chr9_396</th><th scope=col>chr9_397</th><th scope=col>chr9_398</th><th scope=col>chr9_399</th><th scope=col>sample_type01</th></tr></thead>\n",
       "<tbody>\n",
       "\t<tr><td>0.28476325  </td><td>-0.8212573  </td><td>1.0277500   </td><td>-0.7094983  </td><td>-0.2327985  </td><td>-0.7836319  </td><td> 0.01979819 </td><td>0.2624251   </td><td>0.3128992   </td><td>1.45146500  </td><td>...         </td><td>-0.34089350 </td><td> 0.006860094</td><td>-0.5010935  </td><td>-0.2043651  </td><td> 0.02437101 </td><td> 0.57938365 </td><td>-0.4136060  </td><td>1.3160044   </td><td>-0.26256223 </td><td>1           </td></tr>\n",
       "\t<tr><td>1.28471727  </td><td>-0.8295661  </td><td>1.0145149   </td><td>-0.6213053  </td><td>-0.8143027  </td><td>-0.6479755  </td><td>-0.06975614 </td><td>0.9264024   </td><td>0.4895216   </td><td>0.04814456  </td><td>...         </td><td>-0.17629217 </td><td>-0.421600296</td><td>-0.5810840  </td><td> 0.1408379  </td><td> 0.21122926 </td><td> 1.13429106 </td><td> 0.8116547  </td><td>0.3187471   </td><td>-0.48265821 </td><td>1           </td></tr>\n",
       "\t<tr><td>0.07110482  </td><td>-1.0079115  </td><td>0.3347017   </td><td>-1.1303365  </td><td>-0.8177276  </td><td>-0.9202015  </td><td>-0.08484151 </td><td>0.5183954   </td><td>2.2808829   </td><td>1.33462998  </td><td>...         </td><td> 1.22409122 </td><td> 0.527804492</td><td>-0.1435833  </td><td> 0.4967880  </td><td> 0.15991730 </td><td> 0.89522351 </td><td> 0.5305742  </td><td>1.6767953   </td><td>-0.02839009 </td><td>1           </td></tr>\n",
       "\t<tr><td>1.36298501  </td><td>-1.4848879  </td><td>0.4225454   </td><td>-1.3192129  </td><td>-0.7097136  </td><td>-0.4653093  </td><td>-0.42147744 </td><td>0.9729417   </td><td>0.5944980   </td><td>0.97671516  </td><td>...         </td><td> 0.43571295 </td><td> 0.872833915</td><td>-0.0670184  </td><td> 0.7394425  </td><td> 0.13690205 </td><td> 1.29732717 </td><td> 0.4739056  </td><td>1.4153912   </td><td>-0.12217374 </td><td>1           </td></tr>\n",
       "\t<tr><td>0.40245603  </td><td>-1.0782760  </td><td>1.2759516   </td><td>-0.8646247  </td><td>-0.5192562  </td><td>-0.8555661  </td><td>-0.22999396 </td><td>0.7699482   </td><td>0.4825674   </td><td>0.76308429  </td><td>...         </td><td> 0.04951928 </td><td> 0.173364771</td><td>-0.8705736  </td><td> 0.4935296  </td><td>-0.17648798 </td><td>-0.02395699 </td><td> 0.3182328  </td><td>1.3930824   </td><td>-0.47078676 </td><td>1           </td></tr>\n",
       "\t<tr><td>0.97825189  </td><td>-0.6787169  </td><td>1.0934262   </td><td>-0.1749540  </td><td>-0.6319351  </td><td>-0.7585842  </td><td> 0.22653017 </td><td>0.5994301   </td><td>0.6407291   </td><td>0.64706533  </td><td>...         </td><td> 0.50968208 </td><td>-0.241967372</td><td>-0.6951369  </td><td> 0.2412607  </td><td> 0.11914801 </td><td> 0.07982386 </td><td> 0.2854560  </td><td>1.7946488   </td><td>-0.69550001 </td><td>1           </td></tr>\n",
       "</tbody>\n",
       "</table>\n"
      ],
      "text/markdown": [
       "\n",
       "| chr10_400 | chr10_40 | chr10_4 | chr10_401 | chr10_402 | chr10_403 | chr10_404 | chr10_405 | chr10_406 | chr10_407 | ... | chr9_391 | chr9_392 | chr9_393 | chr9_394 | chr9_395 | chr9_396 | chr9_397 | chr9_398 | chr9_399 | sample_type01 |\n",
       "|---|---|---|---|---|---|---|---|---|---|---|---|---|---|---|---|---|---|---|---|---|\n",
       "| 0.28476325   | -0.8212573   | 1.0277500    | -0.7094983   | -0.2327985   | -0.7836319   |  0.01979819  | 0.2624251    | 0.3128992    | 1.45146500   | ...          | -0.34089350  |  0.006860094 | -0.5010935   | -0.2043651   |  0.02437101  |  0.57938365  | -0.4136060   | 1.3160044    | -0.26256223  | 1            |\n",
       "| 1.28471727   | -0.8295661   | 1.0145149    | -0.6213053   | -0.8143027   | -0.6479755   | -0.06975614  | 0.9264024    | 0.4895216    | 0.04814456   | ...          | -0.17629217  | -0.421600296 | -0.5810840   |  0.1408379   |  0.21122926  |  1.13429106  |  0.8116547   | 0.3187471    | -0.48265821  | 1            |\n",
       "| 0.07110482   | -1.0079115   | 0.3347017    | -1.1303365   | -0.8177276   | -0.9202015   | -0.08484151  | 0.5183954    | 2.2808829    | 1.33462998   | ...          |  1.22409122  |  0.527804492 | -0.1435833   |  0.4967880   |  0.15991730  |  0.89522351  |  0.5305742   | 1.6767953    | -0.02839009  | 1            |\n",
       "| 1.36298501   | -1.4848879   | 0.4225454    | -1.3192129   | -0.7097136   | -0.4653093   | -0.42147744  | 0.9729417    | 0.5944980    | 0.97671516   | ...          |  0.43571295  |  0.872833915 | -0.0670184   |  0.7394425   |  0.13690205  |  1.29732717  |  0.4739056   | 1.4153912    | -0.12217374  | 1            |\n",
       "| 0.40245603   | -1.0782760   | 1.2759516    | -0.8646247   | -0.5192562   | -0.8555661   | -0.22999396  | 0.7699482    | 0.4825674    | 0.76308429   | ...          |  0.04951928  |  0.173364771 | -0.8705736   |  0.4935296   | -0.17648798  | -0.02395699  |  0.3182328   | 1.3930824    | -0.47078676  | 1            |\n",
       "| 0.97825189   | -0.6787169   | 1.0934262    | -0.1749540   | -0.6319351   | -0.7585842   |  0.22653017  | 0.5994301    | 0.6407291    | 0.64706533   | ...          |  0.50968208  | -0.241967372 | -0.6951369   |  0.2412607   |  0.11914801  |  0.07982386  |  0.2854560   | 1.7946488    | -0.69550001  | 1            |\n",
       "\n"
      ],
      "text/plain": [
       "  chr10_400  chr10_40   chr10_4   chr10_401  chr10_402  chr10_403  chr10_404  \n",
       "1 0.28476325 -0.8212573 1.0277500 -0.7094983 -0.2327985 -0.7836319  0.01979819\n",
       "2 1.28471727 -0.8295661 1.0145149 -0.6213053 -0.8143027 -0.6479755 -0.06975614\n",
       "3 0.07110482 -1.0079115 0.3347017 -1.1303365 -0.8177276 -0.9202015 -0.08484151\n",
       "4 1.36298501 -1.4848879 0.4225454 -1.3192129 -0.7097136 -0.4653093 -0.42147744\n",
       "5 0.40245603 -1.0782760 1.2759516 -0.8646247 -0.5192562 -0.8555661 -0.22999396\n",
       "6 0.97825189 -0.6787169 1.0934262 -0.1749540 -0.6319351 -0.7585842  0.22653017\n",
       "  chr10_405 chr10_406 chr10_407  ... chr9_391    chr9_392     chr9_393  \n",
       "1 0.2624251 0.3128992 1.45146500 ... -0.34089350  0.006860094 -0.5010935\n",
       "2 0.9264024 0.4895216 0.04814456 ... -0.17629217 -0.421600296 -0.5810840\n",
       "3 0.5183954 2.2808829 1.33462998 ...  1.22409122  0.527804492 -0.1435833\n",
       "4 0.9729417 0.5944980 0.97671516 ...  0.43571295  0.872833915 -0.0670184\n",
       "5 0.7699482 0.4825674 0.76308429 ...  0.04951928  0.173364771 -0.8705736\n",
       "6 0.5994301 0.6407291 0.64706533 ...  0.50968208 -0.241967372 -0.6951369\n",
       "  chr9_394   chr9_395    chr9_396    chr9_397   chr9_398  chr9_399   \n",
       "1 -0.2043651  0.02437101  0.57938365 -0.4136060 1.3160044 -0.26256223\n",
       "2  0.1408379  0.21122926  1.13429106  0.8116547 0.3187471 -0.48265821\n",
       "3  0.4967880  0.15991730  0.89522351  0.5305742 1.6767953 -0.02839009\n",
       "4  0.7394425  0.13690205  1.29732717  0.4739056 1.4153912 -0.12217374\n",
       "5  0.4935296 -0.17648798 -0.02395699  0.3182328 1.3930824 -0.47078676\n",
       "6  0.2412607  0.11914801  0.07982386  0.2854560 1.7946488 -0.69550001\n",
       "  sample_type01\n",
       "1 1            \n",
       "2 1            \n",
       "3 1            \n",
       "4 1            \n",
       "5 1            \n",
       "6 1            "
      ]
     },
     "metadata": {},
     "output_type": "display_data"
    }
   ],
   "source": [
    "data <- data %>% select(-sample)\n",
    "head(data)"
   ]
  },
  {
   "cell_type": "code",
   "execution_count": 18,
   "id": "7335beba-3116-41d7-8379-72a6a08d68a4",
   "metadata": {},
   "outputs": [],
   "source": [
    "get_model_params <- function(fit) {\n",
    "  alpha <- fit$alpha\n",
    "  lambdaMin <- sapply(fit$modlist, `[[`, \"lambda.min\")\n",
    "  lambdaSE <- sapply(fit$modlist, `[[`, \"lambda.1se\")\n",
    "  error <- sapply(fit$modlist, function(mod) {min(mod$cvm)})\n",
    "  best <- which.min(error)\n",
    "  data.frame(alpha = alpha[best], lambdaMin = lambdaMin[best],\n",
    "             lambdaSE = lambdaSE[best], error = error[best])\n",
    "}\n",
    "\n",
    "nested_CV_lasso <- function(data, k_inner_cv, k_outer_cv){\n",
    "    \n",
    "    y <- data %>% dplyr::select(sample_type01) %>%  as.matrix()\n",
    "    X <- data %>% dplyr::select(-sample_type01) %>% as.matrix() \n",
    "    observed <- y\n",
    "    return_tibble <- tibble(observed = observed)\n",
    "    \n",
    "    for (i in 1:k_outer_cv){ # repeated Cross-validation loop\n",
    "    \n",
    "        set.seed(i)\n",
    "        cvfolds <- cut(1:nrow(data), breaks = k_inner_cv, labels = F)\n",
    "        cvfolds <- sample(cvfolds)\n",
    "\n",
    "        predicted <- rep(NA, nrow(data))\n",
    "\n",
    "        for (n in 1:k_inner_cv){\n",
    "            rows      <- which(cvfolds==n)\n",
    "            testdata  <- X[rows,]\n",
    "            traindata <- X[-rows,]\n",
    "            train_y <- y[-rows,]\n",
    "\n",
    "            ########### nested CV to find best alpha and lambda on train folds ###########\n",
    "            set.seed(0) # alpha\n",
    "            lasso_cva <- cva.glmnet(traindata, train_y, nfolds = 10)\n",
    "            best_params <- get_model_params(lasso_cva)\n",
    "            best_alpha <- best_params$alpha\n",
    "            best_lambda_min <- best_params$lambdaMin \n",
    "            best_lambda_se <- best_params$lambdaSE \n",
    "            \n",
    "            message(\"best_alpha\")\n",
    "            message(best_alpha)\n",
    "            message(\"best_lambda_min\")\n",
    "            message(best_lambda_min)\n",
    "            ####################################################################\n",
    "\n",
    "            fit       <- glmnet(traindata, train_y, family = \"binomial\", alpha = best_alpha, lambda = best_lambda_min)\n",
    "            tmp       <- predict(fit, s=best_lambda_min, testdata, type = \"response\")\n",
    "            message(head(tmp))\n",
    "            predicted[rows] <- tmp\n",
    "        }\n",
    "        \n",
    "    current_round_tibble <- tibble(predicted = predicted)\n",
    "    return_tibble <- cbind(return_tibble, current_round_tibble)\n",
    "    } # end of outer cv loop\n",
    "    \n",
    "    return(return_tibble)\n",
    "}"
   ]
  },
  {
   "cell_type": "code",
   "execution_count": 19,
   "id": "653f5f85-fd99-4d3f-b278-94e25de97a90",
   "metadata": {},
   "outputs": [
    {
     "name": "stderr",
     "output_type": "stream",
     "text": [
      "best_alpha\n",
      "0.125\n",
      "best_lambda_min\n",
      "0.125197679096208\n",
      "0.5324278232021130.9784821200714340.6909981254349720.9992103754788090.8977068787206180.622848753474451\n",
      "best_alpha\n",
      "0.001\n",
      "best_lambda_min\n",
      "2.07598155691582\n",
      "0.379910446798250.2210196367434260.3937940136662060.7491147924527090.9016026293989040.994895990361702\n",
      "best_alpha\n",
      "0\n",
      "best_lambda_min\n",
      "2.04351436859641\n",
      "0.441409121453690.9064246265972650.5386104717358620.7086742230695620.5073855226097520.477994879553823\n",
      "best_alpha\n",
      "0\n",
      "best_lambda_min\n",
      "1.96416769462768\n",
      "0.378812975378620.9950715891786680.2308787558953020.4423027597524190.8252513391384460.60868791172475\n"
     ]
    }
   ],
   "source": [
    "results <- nested_CV_lasso(data, k_inner_cv = 2, k_outer_cv = 2)"
   ]
  },
  {
   "cell_type": "code",
   "execution_count": 16,
   "id": "c74c85f7-63ae-44ac-b97c-98fcf5f7964a",
   "metadata": {},
   "outputs": [
    {
     "data": {
      "text/html": [
       "<table>\n",
       "<thead><tr><th scope=col>observed</th><th scope=col>prob</th></tr></thead>\n",
       "<tbody>\n",
       "\t<tr><td>1        </td><td>0.4788580</td></tr>\n",
       "\t<tr><td>1        </td><td>0.3887053</td></tr>\n",
       "\t<tr><td>1        </td><td>0.9726746</td></tr>\n",
       "\t<tr><td>1        </td><td>0.2415177</td></tr>\n",
       "\t<tr><td>1        </td><td>0.5473564</td></tr>\n",
       "\t<tr><td>1        </td><td>0.8391385</td></tr>\n",
       "</tbody>\n",
       "</table>\n"
      ],
      "text/latex": [
       "\\begin{tabular}{r|ll}\n",
       " observed & prob\\\\\n",
       "\\hline\n",
       "\t 1         & 0.4788580\\\\\n",
       "\t 1         & 0.3887053\\\\\n",
       "\t 1         & 0.9726746\\\\\n",
       "\t 1         & 0.2415177\\\\\n",
       "\t 1         & 0.5473564\\\\\n",
       "\t 1         & 0.8391385\\\\\n",
       "\\end{tabular}\n"
      ],
      "text/markdown": [
       "\n",
       "| observed | prob |\n",
       "|---|---|\n",
       "| 1         | 0.4788580 |\n",
       "| 1         | 0.3887053 |\n",
       "| 1         | 0.9726746 |\n",
       "| 1         | 0.2415177 |\n",
       "| 1         | 0.5473564 |\n",
       "| 1         | 0.8391385 |\n",
       "\n"
      ],
      "text/plain": [
       "  observed prob     \n",
       "1 1        0.4788580\n",
       "2 1        0.3887053\n",
       "3 1        0.9726746\n",
       "4 1        0.2415177\n",
       "5 1        0.5473564\n",
       "6 1        0.8391385"
      ]
     },
     "metadata": {},
     "output_type": "display_data"
    }
   ],
   "source": [
    "results <- tibble(results, .name_repair = \"unique\")\n",
    "head(results)"
   ]
  },
  {
   "cell_type": "code",
   "execution_count": null,
   "id": "91030e96-0ffd-4375-b715-f3ea2684bf47",
   "metadata": {},
   "outputs": [],
   "source": [
    "saveRDS(results, file = snakemake@output[[\"lasso_output\"]])"
   ]
  },
  {
   "cell_type": "code",
   "execution_count": 18,
   "id": "7a21734f-f15a-4792-a7c1-e0d9f0483315",
   "metadata": {},
   "outputs": [
    {
     "data": {
      "text/html": [
       "0.877857463021067"
      ],
      "text/latex": [
       "0.877857463021067"
      ],
      "text/markdown": [
       "0.877857463021067"
      ],
      "text/plain": [
       "[1] 0.8778575"
      ]
     },
     "metadata": {},
     "output_type": "display_data"
    }
   ],
   "source": [
    "rocs <- roc(observed ~ predicted...2 + \n",
    "                    predicted...3 + \n",
    "                    predicted...4 + \n",
    "                    predicted...5 + \n",
    "                    predicted...6 +\n",
    "                    predicted...7 +\n",
    "                    predicted...8 + \n",
    "                    predicted...9 + \n",
    "                    predicted...10 + \n",
    "                    predicted...11, data = results)\n",
    "ggroc(rocs)"
   ]
  },
  {
   "cell_type": "code",
   "execution_count": 24,
   "id": "f855270f-a87b-4cf8-a689-730a59219a7b",
   "metadata": {},
   "outputs": [
    {
     "data": {
      "image/png": "[encoded data removed]",
      "text/plain": [
       "plot without title"
      ]
     },
     "metadata": {},
     "output_type": "display_data"
    }
   ],
   "source": [
    "roc1 <- roc(results$observed, results$predicted...2)\n",
    "roc2 <- roc(results$observed, results$predicted...3)\n",
    "roc3 <- roc(results$observed, results$predicted...4)\n",
    "roc4 <- roc(results$observed, results$predicted...5)\n",
    "roc5 <- roc(results$observed, results$predicted...6)\n",
    "roc6 <- roc(results$observed, results$predicted...7)\n",
    "roc7 <- roc(results$observed, results$predicted...8)\n",
    "roc8 <- roc(results$observed, results$predicted...9)\n",
    "roc9 <- roc(results$observed, results$predicted...10)\n",
    "roc10 <- roc(results$observed, results$predicted...11)"
   ]
  },
  {
   "cell_type": "code",
   "execution_count": null,
   "id": "1a1b5e34-2677-4b61-9574-d3d6bf6b7837",
   "metadata": {},
   "outputs": [],
   "source": [
    "paste(\"Mean AUC over 10 repetitions of 10-fold CV: \", mean(c(roc1$auc, roc2$auc, roc3$auc, roc4$auc, roc5$auc, roc6$auc, roc7$auc, roc8$auc, roc9$auc, roc10$auc)), sep = \"\")"
   ]
  },
  {
   "cell_type": "code",
   "execution_count": 98,
   "id": "ad047012-5b5c-4c3a-848c-0fd56ac278a9",
   "metadata": {},
   "outputs": [],
   "source": [
    "results_01 <- results %>% mutate(predicted...2_01 = ifelse(predicted...2 > 0.5, 1, 0), \n",
    "                                 predicted...3_01 = ifelse(predicted...3 > 0.5, 1, 0), \n",
    "                                 predicted...4_01 = ifelse(predicted...4 > 0.5, 1, 0),\n",
    "                                 predicted...5_01 = ifelse(predicted...5 > 0.5, 1, 0),\n",
    "                                 predicted...6_01 = ifelse(predicted...6 > 0.5, 1, 0),\n",
    "                                 predicted...7_01 = ifelse(predicted...7 > 0.5, 1, 0),\n",
    "                                 predicted...8_01 = ifelse(predicted...8 > 0.5, 1, 0),\n",
    "                                 predicted...9_01 = ifelse(predicted...9 > 0.5, 1, 0),\n",
    "                                 predicted...10_01 = ifelse(predicted...10 > 0.5, 1, 0),\n",
    "                                 predicted...11_01 = ifelse(predicted...11 > 0.5, 1, 0))"
   ]
  },
  {
   "cell_type": "code",
   "execution_count": 99,
   "id": "a83bc184-59c7-4035-ba39-b199dbb92d71",
   "metadata": {},
   "outputs": [
    {
     "data": {
      "text/html": [
       "0.285377358490566"
      ],
      "text/latex": [
       "0.285377358490566"
      ],
      "text/markdown": [
       "0.285377358490566"
      ],
      "text/plain": [
       "[1] 0.2853774"
      ]
     },
     "metadata": {},
     "output_type": "display_data"
    }
   ],
   "source": [
    "error_rates <- c(mean(results_01$observed != results_01$predicted...2_01),\n",
    "               mean(results_01$observed != results_01$predicted...3_01), \n",
    "               mean(results_01$observed != results_01$predicted...4_01),\n",
    "               mean(results_01$observed != results_01$predicted...5_01),\n",
    "               mean(results_01$observed != results_01$predicted...6_01),\n",
    "               mean(results_01$observed != results_01$predicted...7_01),\n",
    "               mean(results_01$observed != results_01$predicted...8_01),\n",
    "               mean(results_01$observed != results_01$predicted...9_01), \n",
    "               mean(results_01$observed != results_01$predicted...10_01), \n",
    "               mean(results_01$observed != results_01$predicted...11_01))\n",
    "\n",
    "error_rates\n",
    "\n",
    "paste(\"Mean error rate over 10 repetitions of 10-fold CV: \", mean(error_rates), sep = \"\")"
   ]
  },
  {
   "cell_type": "code",
   "execution_count": 100,
   "id": "92739a14-79a3-482a-8bb9-3b2deb286f96",
   "metadata": {},
   "outputs": [
    {
     "data": {
      "text/html": [
       "0.714622641509434"
      ],
      "text/latex": [
       "0.714622641509434"
      ],
      "text/markdown": [
       "0.714622641509434"
      ],
      "text/plain": [
       "[1] 0.7146226"
      ]
     },
     "metadata": {},
     "output_type": "display_data"
    }
   ],
   "source": [
    "accuracies <- c(mean(results_01$observed == results_01$predicted...2_01),\n",
    "               mean(results_01$observed == results_01$predicted...3_01), \n",
    "               mean(results_01$observed == results_01$predicted...4_01),\n",
    "               mean(results_01$observed == results_01$predicted...5_01),\n",
    "               mean(results_01$observed == results_01$predicted...6_01),\n",
    "               mean(results_01$observed == results_01$predicted...7_01),\n",
    "               mean(results_01$observed == results_01$predicted...8_01),\n",
    "               mean(results_01$observed == results_01$predicted...9_01), \n",
    "               mean(results_01$observed == results_01$predicted...10_01), \n",
    "               mean(results_01$observed == results_01$predicted...11_01))\n",
    "\n",
    "accuracies\n",
    "paste(\"Mean accuracy over 10 repetitions of 10-fold CV: \", mean(accuracies), sep = \"\")"
   ]
  },
  {
   "cell_type": "code",
   "execution_count": null,
   "id": "f1922fd9-867a-46e8-b423-61980a7f59e2",
   "metadata": {},
   "outputs": [],
   "source": []
  }
 ],
 "metadata": {
  "kernelspec": {
   "display_name": "R",
   "language": "R",
   "name": "ir"
  },
  "language_info": {
   "codemirror_mode": "r",
   "file_extension": ".r",
   "mimetype": "text/x-r-source",
   "name": "R",
   "pygments_lexer": "r",
   "version": "3.6.1"
  }
 },
 "nbformat": 4,
 "nbformat_minor": 5
}
