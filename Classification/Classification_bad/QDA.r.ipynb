{
 "cells": [
  {
   "cell_type": "markdown",
   "id": "6a50e390-f439-4961-898a-286685966e17",
   "metadata": {},
   "source": [
    "### QDA"
   ]
  },
  {
   "cell_type": "code",
   "execution_count": 1,
   "id": "e5084794-5ca4-4966-9dc6-c874934234d4",
   "metadata": {},
   "outputs": [
    {
     "name": "stderr",
     "output_type": "stream",
     "text": [
      "Registered S3 method overwritten by 'rvest':\n",
      "  method            from\n",
      "  read_xml.response xml2\n",
      "── Attaching packages ─────────────────────────────────────────────────────────────────────────────── tidyverse 1.2.1 ──\n",
      "✔ ggplot2 3.3.5     ✔ purrr   0.3.4\n",
      "✔ tibble  3.1.4     ✔ dplyr   1.0.7\n",
      "✔ tidyr   1.1.3     ✔ stringr 1.4.0\n",
      "✔ readr   1.3.1     ✔ forcats 0.4.0\n",
      "── Conflicts ────────────────────────────────────────────────────────────────────────────────── tidyverse_conflicts() ──\n",
      "✖ dplyr::filter() masks stats::filter()\n",
      "✖ dplyr::lag()    masks stats::lag()\n",
      "\n",
      "Attaching package: ‘MASS’\n",
      "\n",
      "The following object is masked from ‘package:dplyr’:\n",
      "\n",
      "    select\n",
      "\n",
      "Type 'citation(\"pROC\")' for a citation.\n",
      "\n",
      "Attaching package: ‘pROC’\n",
      "\n",
      "The following objects are masked from ‘package:stats’:\n",
      "\n",
      "    cov, smooth, var\n",
      "\n"
     ]
    }
   ],
   "source": [
    "library(tidyverse)\n",
    "library(MASS)\n",
    "library(pROC)"
   ]
  },
  {
   "cell_type": "code",
   "execution_count": 2,
   "id": "e352eacf-4293-4148-ae30-d47869fa552d",
   "metadata": {},
   "outputs": [
    {
     "name": "stderr",
     "output_type": "stream",
     "text": [
      "ERROR while rich displaying an object: Error in sprintf(wrap, header, body): 'fmt' length exceeds maximal format length 8192\n",
      "\n",
      "Traceback:\n",
      "1. FUN(X[[i]], ...)\n",
      "2. tryCatch(withCallingHandlers({\n",
      " .     if (!mime %in% names(repr::mime2repr)) \n",
      " .         stop(\"No repr_* for mimetype \", mime, \" in repr::mime2repr\")\n",
      " .     rpr <- repr::mime2repr[[mime]](obj)\n",
      " .     if (is.null(rpr)) \n",
      " .         return(NULL)\n",
      " .     prepare_content(is.raw(rpr), rpr)\n",
      " . }, error = error_handler), error = outer_handler)\n",
      "3. tryCatchList(expr, classes, parentenv, handlers)\n",
      "4. tryCatchOne(expr, names, parentenv, handlers[[1L]])\n",
      "5. doTryCatch(return(expr), name, parentenv, handler)\n",
      "6. withCallingHandlers({\n",
      " .     if (!mime %in% names(repr::mime2repr)) \n",
      " .         stop(\"No repr_* for mimetype \", mime, \" in repr::mime2repr\")\n",
      " .     rpr <- repr::mime2repr[[mime]](obj)\n",
      " .     if (is.null(rpr)) \n",
      " .         return(NULL)\n",
      " .     prepare_content(is.raw(rpr), rpr)\n",
      " . }, error = error_handler)\n",
      "7. repr::mime2repr[[mime]](obj)\n",
      "8. repr_latex.data.frame(obj)\n",
      "9. repr_matrix_generic(obj, sprintf(\"\\\\begin{tabular}{%s}\\n%%s%%s\\\\end{tabular}\\n\", \n",
      " .     cols), \"%s\\\\\\\\\\n\\\\hline\\n\", \"  &\", \" %s &\", \"%s\", \"\\t%s\\\\\\\\\\n\", \n",
      " .     \"%s &\", \" %s &\", escape_fun = latex_escape_vec, ...)\n",
      "10. sprintf(wrap, header, body)\n"
     ]
    },
    {
     "data": {
      "text/html": [
       "<table>\n",
       "<thead><tr><th></th><th scope=col>sample</th><th scope=col>chr10_400</th><th scope=col>chr10_40</th><th scope=col>chr10_4</th><th scope=col>chr10_401</th><th scope=col>chr10_402</th><th scope=col>chr10_403</th><th scope=col>chr10_404</th><th scope=col>chr10_405</th><th scope=col>chr10_406</th><th scope=col>...</th><th scope=col>chr9_39</th><th scope=col>chr9_391</th><th scope=col>chr9_392</th><th scope=col>chr9_393</th><th scope=col>chr9_394</th><th scope=col>chr9_395</th><th scope=col>chr9_396</th><th scope=col>chr9_397</th><th scope=col>chr9_398</th><th scope=col>chr9_399</th></tr></thead>\n",
       "<tbody>\n",
       "\t<tr><th scope=row>V1</th><td>PGDX16568P  </td><td>0.7384158   </td><td>-0.8056722  </td><td>0.6390487   </td><td>-0.8985149  </td><td>-0.4953916  </td><td>-0.3241811  </td><td> 0.1041488  </td><td>0.8329909   </td><td>0.7424178   </td><td>...         </td><td>-0.313957917</td><td> 0.63150859 </td><td>-0.07895748 </td><td>-0.6959348  </td><td> 0.3282421  </td><td>-0.06574867 </td><td>1.0425342   </td><td>0.86872274  </td><td>0.9724866   </td><td>-1.0712799  </td></tr>\n",
       "\t<tr><th scope=row>V2</th><td>PGDX16569P  </td><td>0.6625254   </td><td>-0.8741453  </td><td>0.7765665   </td><td>-1.1988164  </td><td>-0.8354591  </td><td>-0.4988171  </td><td>-0.3283077  </td><td>0.7640395   </td><td>0.6334283   </td><td>...         </td><td>-0.752875825</td><td> 0.51766873 </td><td>-0.08726342 </td><td>-0.4136999  </td><td> 0.1019480  </td><td>-0.19411927 </td><td>0.5180526   </td><td>0.56511036  </td><td>1.9604320   </td><td>-0.4493138  </td></tr>\n",
       "\t<tr><th scope=row>V3</th><td>PGDX16570P  </td><td>0.3857611   </td><td>-0.9628727  </td><td>0.8915373   </td><td>-0.9955061  </td><td>-0.4230742  </td><td>-0.7763890  </td><td>-0.3731460  </td><td>1.0335064   </td><td>0.6371296   </td><td>...         </td><td>-0.949917897</td><td> 0.03382672 </td><td>-0.33096199 </td><td>-0.2544070  </td><td>-0.7030619  </td><td> 0.11269917 </td><td>0.8034414   </td><td>0.07286307  </td><td>1.4407227   </td><td>-0.1822000  </td></tr>\n",
       "\t<tr><th scope=row>V4</th><td>PGDX16571P  </td><td>0.7517641   </td><td>-1.0829291  </td><td>0.7057104   </td><td>-0.7732682  </td><td>-0.4899441  </td><td>-0.4288467  </td><td>-0.3100476  </td><td>0.7132819   </td><td>0.3474689   </td><td>...         </td><td> 0.018396243</td><td> 0.19769481 </td><td> 0.29380805 </td><td> 0.1870260  </td><td> 0.1585977  </td><td> 0.28563072 </td><td>0.7425123   </td><td>0.66937600  </td><td>1.4299103   </td><td> 0.6321310  </td></tr>\n",
       "\t<tr><th scope=row>V5</th><td>PGDX16579P  </td><td>0.6788690   </td><td>-1.0408928  </td><td>0.8311217   </td><td>-0.9623741  </td><td>-1.2931478  </td><td>-0.5956232  </td><td>-0.2359559  </td><td>0.3395272   </td><td>0.2934176   </td><td>...         </td><td> 0.005225193</td><td>-0.04072313 </td><td>-0.20770367 </td><td>-0.7557699  </td><td>-0.6321563  </td><td>-0.02763831 </td><td>1.0871931   </td><td>1.26443027  </td><td>1.0946152   </td><td>-0.5575385  </td></tr>\n",
       "\t<tr><th scope=row>V6</th><td>PGDX16580P  </td><td>0.6295501   </td><td>-0.8169236  </td><td>0.7086020   </td><td>-1.1560383  </td><td>-0.7778377  </td><td>-0.7474290  </td><td>-0.2509807  </td><td>0.8273938   </td><td>0.3555049   </td><td>...         </td><td>-0.869640818</td><td> 0.44933124 </td><td> 0.20607861 </td><td>-0.5433236  </td><td> 0.1654365  </td><td> 0.57378259 </td><td>1.0340383   </td><td>0.61690830  </td><td>1.9233695   </td><td>-0.4584637  </td></tr>\n",
       "</tbody>\n",
       "</table>\n"
      ],
      "text/markdown": [
       "\n",
       "| <!--/--> | sample | chr10_400 | chr10_40 | chr10_4 | chr10_401 | chr10_402 | chr10_403 | chr10_404 | chr10_405 | chr10_406 | ... | chr9_39 | chr9_391 | chr9_392 | chr9_393 | chr9_394 | chr9_395 | chr9_396 | chr9_397 | chr9_398 | chr9_399 |\n",
       "|---|---|---|---|---|---|---|---|---|---|---|---|---|---|---|---|---|---|---|---|---|---|\n",
       "| V1 | PGDX16568P   | 0.7384158    | -0.8056722   | 0.6390487    | -0.8985149   | -0.4953916   | -0.3241811   |  0.1041488   | 0.8329909    | 0.7424178    | ...          | -0.313957917 |  0.63150859  | -0.07895748  | -0.6959348   |  0.3282421   | -0.06574867  | 1.0425342    | 0.86872274   | 0.9724866    | -1.0712799   |\n",
       "| V2 | PGDX16569P   | 0.6625254    | -0.8741453   | 0.7765665    | -1.1988164   | -0.8354591   | -0.4988171   | -0.3283077   | 0.7640395    | 0.6334283    | ...          | -0.752875825 |  0.51766873  | -0.08726342  | -0.4136999   |  0.1019480   | -0.19411927  | 0.5180526    | 0.56511036   | 1.9604320    | -0.4493138   |\n",
       "| V3 | PGDX16570P   | 0.3857611    | -0.9628727   | 0.8915373    | -0.9955061   | -0.4230742   | -0.7763890   | -0.3731460   | 1.0335064    | 0.6371296    | ...          | -0.949917897 |  0.03382672  | -0.33096199  | -0.2544070   | -0.7030619   |  0.11269917  | 0.8034414    | 0.07286307   | 1.4407227    | -0.1822000   |\n",
       "| V4 | PGDX16571P   | 0.7517641    | -1.0829291   | 0.7057104    | -0.7732682   | -0.4899441   | -0.4288467   | -0.3100476   | 0.7132819    | 0.3474689    | ...          |  0.018396243 |  0.19769481  |  0.29380805  |  0.1870260   |  0.1585977   |  0.28563072  | 0.7425123    | 0.66937600   | 1.4299103    |  0.6321310   |\n",
       "| V5 | PGDX16579P   | 0.6788690    | -1.0408928   | 0.8311217    | -0.9623741   | -1.2931478   | -0.5956232   | -0.2359559   | 0.3395272    | 0.2934176    | ...          |  0.005225193 | -0.04072313  | -0.20770367  | -0.7557699   | -0.6321563   | -0.02763831  | 1.0871931    | 1.26443027   | 1.0946152    | -0.5575385   |\n",
       "| V6 | PGDX16580P   | 0.6295501    | -0.8169236   | 0.7086020    | -1.1560383   | -0.7778377   | -0.7474290   | -0.2509807   | 0.8273938    | 0.3555049    | ...          | -0.869640818 |  0.44933124  |  0.20607861  | -0.5433236   |  0.1654365   |  0.57378259  | 1.0340383    | 0.61690830   | 1.9233695    | -0.4584637   |\n",
       "\n"
      ],
      "text/plain": [
       "   sample     chr10_400 chr10_40   chr10_4   chr10_401  chr10_402  chr10_403 \n",
       "V1 PGDX16568P 0.7384158 -0.8056722 0.6390487 -0.8985149 -0.4953916 -0.3241811\n",
       "V2 PGDX16569P 0.6625254 -0.8741453 0.7765665 -1.1988164 -0.8354591 -0.4988171\n",
       "V3 PGDX16570P 0.3857611 -0.9628727 0.8915373 -0.9955061 -0.4230742 -0.7763890\n",
       "V4 PGDX16571P 0.7517641 -1.0829291 0.7057104 -0.7732682 -0.4899441 -0.4288467\n",
       "V5 PGDX16579P 0.6788690 -1.0408928 0.8311217 -0.9623741 -1.2931478 -0.5956232\n",
       "V6 PGDX16580P 0.6295501 -0.8169236 0.7086020 -1.1560383 -0.7778377 -0.7474290\n",
       "   chr10_404  chr10_405 chr10_406 ... chr9_39      chr9_391    chr9_392   \n",
       "V1  0.1041488 0.8329909 0.7424178 ... -0.313957917  0.63150859 -0.07895748\n",
       "V2 -0.3283077 0.7640395 0.6334283 ... -0.752875825  0.51766873 -0.08726342\n",
       "V3 -0.3731460 1.0335064 0.6371296 ... -0.949917897  0.03382672 -0.33096199\n",
       "V4 -0.3100476 0.7132819 0.3474689 ...  0.018396243  0.19769481  0.29380805\n",
       "V5 -0.2359559 0.3395272 0.2934176 ...  0.005225193 -0.04072313 -0.20770367\n",
       "V6 -0.2509807 0.8273938 0.3555049 ... -0.869640818  0.44933124  0.20607861\n",
       "   chr9_393   chr9_394   chr9_395    chr9_396  chr9_397   chr9_398  chr9_399  \n",
       "V1 -0.6959348  0.3282421 -0.06574867 1.0425342 0.86872274 0.9724866 -1.0712799\n",
       "V2 -0.4136999  0.1019480 -0.19411927 0.5180526 0.56511036 1.9604320 -0.4493138\n",
       "V3 -0.2544070 -0.7030619  0.11269917 0.8034414 0.07286307 1.4407227 -0.1822000\n",
       "V4  0.1870260  0.1585977  0.28563072 0.7425123 0.66937600 1.4299103  0.6321310\n",
       "V5 -0.7557699 -0.6321563 -0.02763831 1.0871931 1.26443027 1.0946152 -0.5575385\n",
       "V6 -0.5433236  0.1654365  0.57378259 1.0340383 0.61690830 1.9233695 -0.4584637"
      ]
     },
     "metadata": {},
     "output_type": "display_data"
    }
   ],
   "source": [
    "data <- readRDS(\"../data/ATAC_predictions_train_20_predict_80_and_cases/ATAC_pred_lasso_std_TRUE_gaussian_trimmed_formatted_standardized.rds\")\n",
    "#data <- data[1:100, 1:50]\n",
    "head(data)"
   ]
  },
  {
   "cell_type": "code",
   "execution_count": 3,
   "id": "3d6bcac6-83e3-4f5c-8ca8-44a6c0abfb71",
   "metadata": {},
   "outputs": [],
   "source": [
    "sample_types <- read.table(\"../data/sample_types.txt\", header = F, sep = \" \")\n",
    "colnames(sample_types) <- c(\"sample\", \"sample_type\")\n",
    "#head(sample_types)"
   ]
  },
  {
   "cell_type": "code",
   "execution_count": 4,
   "id": "1d634c6e-6618-4baf-ad6c-ac79cf9f470d",
   "metadata": {},
   "outputs": [],
   "source": [
    "data <- merge(data, sample_types, by=\"sample\")\n",
    "data <- data %>% mutate(sample_type01 = ifelse(sample_type == \"Healthy\", 0, 1))"
   ]
  },
  {
   "cell_type": "code",
   "execution_count": 5,
   "id": "5570b6c7-9349-4885-a69d-3609c752efe6",
   "metadata": {},
   "outputs": [],
   "source": [
    "data <- data %>% dplyr::select(-sample_type)\n",
    "data <- data %>% dplyr::select(-sample)"
   ]
  },
  {
   "cell_type": "code",
   "execution_count": 6,
   "id": "6a846559-09f2-47b2-b4c4-747064566813",
   "metadata": {},
   "outputs": [],
   "source": [
    "cross_validation <- function(dataset, k){\n",
    "  set.seed(0)\n",
    "  cvfolds <- cut(seq_len(nrow(dataset)), breaks = k, labels = F)\n",
    "  cvfolds <- sample(cvfolds)\n",
    "  \n",
    "  observed  <- dataset$sample_type01\n",
    "  predicted <- rep(NA, nrow(dataset))\n",
    "  \n",
    "  for (i in 1:k){\n",
    "    rows      <- which(cvfolds==i)\n",
    "    testdata  <- dataset[rows,]\n",
    "    testlabels <- testdata$sample_type01\n",
    "    testdata <- testdata %>% dplyr::select(-sample_type01)\n",
    "    \n",
    "    traindata <- dataset[-rows,]\n",
    "    trainlabels <- traindata$sample_type01\n",
    "\n",
    "      \n",
    "    fit       <- qda(sample_type01 ~ ., data=traindata)\n",
    "    prediction <- predict(fit, testdata)\n",
    "    predicted[rows] <- prediction$posterior\n",
    "  }\n",
    "  \n",
    "    results <- cbind(observed, predicted)\n",
    "\n",
    "  return(results)\n",
    "}"
   ]
  },
  {
   "cell_type": "code",
   "execution_count": 7,
   "id": "8519abb9-31cd-484e-905e-be87f7b2521a",
   "metadata": {},
   "outputs": [
    {
     "data": {
      "text/html": [
       "<ol class=list-inline>\n",
       "\t<li>424</li>\n",
       "\t<li>10304</li>\n",
       "</ol>\n"
      ],
      "text/latex": [
       "\\begin{enumerate*}\n",
       "\\item 424\n",
       "\\item 10304\n",
       "\\end{enumerate*}\n"
      ],
      "text/markdown": [
       "1. 424\n",
       "2. 10304\n",
       "\n",
       "\n"
      ],
      "text/plain": [
       "[1]   424 10304"
      ]
     },
     "metadata": {},
     "output_type": "display_data"
    }
   ],
   "source": [
    "dim(data)"
   ]
  },
  {
   "cell_type": "code",
   "execution_count": 8,
   "id": "9494b295-8281-4c6b-9229-c5091207dd44",
   "metadata": {},
   "outputs": [],
   "source": [
    "data$sample_type01 <- as.factor(data$sample_type01)"
   ]
  },
  {
   "cell_type": "code",
   "execution_count": 9,
   "id": "4d3ffd8e-91e6-466f-95aa-ea04d5a3f8b5",
   "metadata": {
    "tags": []
   },
   "outputs": [
    {
     "data": {
      "text/html": [
       "194"
      ],
      "text/latex": [
       "194"
      ],
      "text/markdown": [
       "194"
      ],
      "text/plain": [
       "[1] 194"
      ]
     },
     "metadata": {},
     "output_type": "display_data"
    }
   ],
   "source": [
    "sum(data$sample_type01 == 0)"
   ]
  },
  {
   "cell_type": "code",
   "execution_count": 10,
   "id": "d96b040e-4dfa-45e9-908a-f1c0beded45d",
   "metadata": {},
   "outputs": [
    {
     "ename": "ERROR",
     "evalue": "Error in qda.default(x, grouping, ...): some group is too small for 'qda'\n",
     "output_type": "error",
     "traceback": [
      "Error in qda.default(x, grouping, ...): some group is too small for 'qda'\nTraceback:\n",
      "1. as.data.frame(cross_validation(data, 10))",
      "2. cross_validation(data, 10)",
      "3. qda(sample_type01 ~ ., data = traindata)   # at line 19 of file <text>",
      "4. qda.formula(sample_type01 ~ ., data = traindata)",
      "5. qda.default(x, grouping, ...)",
      "6. stop(\"some group is too small for 'qda'\")"
     ]
    }
   ],
   "source": [
    "results <- as.data.frame(cross_validation(data, 10))"
   ]
  },
  {
   "cell_type": "code",
   "execution_count": null,
   "id": "6107e30a-78fd-4edf-8742-6595c5960955",
   "metadata": {},
   "outputs": [],
   "source": [
    "roc.plot <- roc(results$observed, results$predicted)"
   ]
  },
  {
   "cell_type": "code",
   "execution_count": null,
   "id": "0fcbe140-0abb-4e96-848f-771f4a0742f5",
   "metadata": {},
   "outputs": [],
   "source": [
    "plot(roc.plot)"
   ]
  },
  {
   "cell_type": "code",
   "execution_count": null,
   "id": "7bd92e2e-98c0-41bb-8cf0-a1f8279ec1b9",
   "metadata": {},
   "outputs": [],
   "source": [
    "auc(roc.plot)"
   ]
  }
 ],
 "metadata": {
  "kernelspec": {
   "display_name": "R [conda env:ctDNA] *",
   "language": "R",
   "name": "conda-env-ctDNA-r"
  },
  "language_info": {
   "codemirror_mode": "r",
   "file_extension": ".r",
   "mimetype": "text/x-r-source",
   "name": "R",
   "pygments_lexer": "r",
   "version": "3.6.1"
  }
 },
 "nbformat": 4,
 "nbformat_minor": 5
}
