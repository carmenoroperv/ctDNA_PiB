{
 "cells": [
  {
   "cell_type": "markdown",
   "id": "ca5d8938-6941-4ed6-a2c4-b938a348078f",
   "metadata": {},
   "source": [
    "# KNN"
   ]
  },
  {
   "cell_type": "code",
   "execution_count": 19,
   "id": "81286412-ff1a-4a22-bacb-92984948b518",
   "metadata": {},
   "outputs": [],
   "source": [
    "library(dplyr)\n",
    "library(class)\n",
    "library(tidyverse)\n",
    "library(pROC)"
   ]
  },
  {
   "cell_type": "markdown",
   "id": "029da33d-fbd8-4c65-89bc-b7680e36ec85",
   "metadata": {},
   "source": [
    "Reading in the data"
   ]
  },
  {
   "cell_type": "code",
   "execution_count": 20,
   "id": "a548ebed-cd6e-445f-bda4-193e72b6ed0b",
   "metadata": {},
   "outputs": [],
   "source": [
    "#bin1 = rnorm(10, 0.5, 0.2)\n",
    "#bin2 = rnorm(10, 0.5, 0.2)\n",
    "#bin3 = rnorm(10, 0.5, 0.2)\n",
    "#bin4 = rnorm(10, 0.5, 0.2)\n",
    "#bin5 = rnorm(10, 0.5, 0.2)\n",
    "#bin6 = rnorm(10, 0.5, 0.2)\n",
    "#bin7 = rnorm(10, 0.5, 0.2)\n",
    "#bin8 = rnorm(10, 0.5, 0.2)\n",
    "#bin9 = rnorm(10, 0.5, 0.2)\n",
    "#bin10 = rnorm(10, 0.5, 0.2)\n",
    "\n",
    "#lasso_pred <- as.data.frame(cbind(bin1, bin2, bin3, bin4, bin5, bin6, bin7, bin8, bin9, bin10))\n",
    "#lasso_pred <- lasso_pred %>% mutate(sample_type = c(0, 1,  0, 1, 1, 0, 1, 1, 1, 0))"
   ]
  },
  {
   "cell_type": "code",
   "execution_count": 21,
   "id": "a1e1afc9-aaeb-4dba-8289-b94cfcc5b446",
   "metadata": {},
   "outputs": [],
   "source": [
    "#lasso_pred <- read.csv(\"../data/ATAC_predictions_on_all_samples/ATAC_pred_lasso_std_FALSE_formatted.csv\")\n",
    "#lasso_pred <- read.csv(\"../data/all_samples_train_ATAC_predictions_on_all_samples/all_samples_ATAC_pred_lasso_std_TRUE_formatted_standardized.csv\")\n",
    "lasso_pred <- readRDS(\"../data/ATAC_predictions_train_20_predict_80_and_cases/ATAC_pred_lasso_std_TRUE_gaussian_trimmed_formatted_standardized.rds\")"
   ]
  },
  {
   "cell_type": "code",
   "execution_count": 22,
   "id": "8c6e9c46-6f56-431d-9148-260b7ef4fa86",
   "metadata": {},
   "outputs": [
    {
     "name": "stderr",
     "output_type": "stream",
     "text": [
      "ERROR while rich displaying an object: Error in sprintf(wrap, header, body): 'fmt' length exceeds maximal format length 8192\n",
      "\n",
      "Traceback:\n",
      "1. FUN(X[[i]], ...)\n",
      "2. tryCatch(withCallingHandlers({\n",
      " .     if (!mime %in% names(repr::mime2repr)) \n",
      " .         stop(\"No repr_* for mimetype \", mime, \" in repr::mime2repr\")\n",
      " .     rpr <- repr::mime2repr[[mime]](obj)\n",
      " .     if (is.null(rpr)) \n",
      " .         return(NULL)\n",
      " .     prepare_content(is.raw(rpr), rpr)\n",
      " . }, error = error_handler), error = outer_handler)\n",
      "3. tryCatchList(expr, classes, parentenv, handlers)\n",
      "4. tryCatchOne(expr, names, parentenv, handlers[[1L]])\n",
      "5. doTryCatch(return(expr), name, parentenv, handler)\n",
      "6. withCallingHandlers({\n",
      " .     if (!mime %in% names(repr::mime2repr)) \n",
      " .         stop(\"No repr_* for mimetype \", mime, \" in repr::mime2repr\")\n",
      " .     rpr <- repr::mime2repr[[mime]](obj)\n",
      " .     if (is.null(rpr)) \n",
      " .         return(NULL)\n",
      " .     prepare_content(is.raw(rpr), rpr)\n",
      " . }, error = error_handler)\n",
      "7. repr::mime2repr[[mime]](obj)\n",
      "8. repr_latex.data.frame(obj)\n",
      "9. repr_matrix_generic(obj, sprintf(\"\\\\begin{tabular}{%s}\\n%%s%%s\\\\end{tabular}\\n\", \n",
      " .     cols), \"%s\\\\\\\\\\n\\\\hline\\n\", \"  &\", \" %s &\", \"%s\", \"\\t%s\\\\\\\\\\n\", \n",
      " .     \"%s &\", \" %s &\", escape_fun = latex_escape_vec, ...)\n",
      "10. sprintf(wrap, header, body)\n"
     ]
    },
    {
     "data": {
      "text/html": [
       "<table>\n",
       "<thead><tr><th></th><th scope=col>sample</th><th scope=col>chr10_400</th><th scope=col>chr10_40</th><th scope=col>chr10_4</th><th scope=col>chr10_401</th><th scope=col>chr10_402</th><th scope=col>chr10_403</th><th scope=col>chr10_404</th><th scope=col>chr10_405</th><th scope=col>chr10_406</th><th scope=col>...</th><th scope=col>chr9_39</th><th scope=col>chr9_391</th><th scope=col>chr9_392</th><th scope=col>chr9_393</th><th scope=col>chr9_394</th><th scope=col>chr9_395</th><th scope=col>chr9_396</th><th scope=col>chr9_397</th><th scope=col>chr9_398</th><th scope=col>chr9_399</th></tr></thead>\n",
       "<tbody>\n",
       "\t<tr><th scope=row>V1</th><td>PGDX16568P  </td><td>0.7384158   </td><td>-0.8056722  </td><td>0.6390487   </td><td>-0.8985149  </td><td>-0.4953916  </td><td>-0.3241811  </td><td> 0.1041488  </td><td>0.8329909   </td><td>0.7424178   </td><td>...         </td><td>-0.313957917</td><td> 0.63150859 </td><td>-0.07895748 </td><td>-0.6959348  </td><td> 0.3282421  </td><td>-0.06574867 </td><td>1.0425342   </td><td>0.86872274  </td><td>0.9724866   </td><td>-1.0712799  </td></tr>\n",
       "\t<tr><th scope=row>V2</th><td>PGDX16569P  </td><td>0.6625254   </td><td>-0.8741453  </td><td>0.7765665   </td><td>-1.1988164  </td><td>-0.8354591  </td><td>-0.4988171  </td><td>-0.3283077  </td><td>0.7640395   </td><td>0.6334283   </td><td>...         </td><td>-0.752875825</td><td> 0.51766873 </td><td>-0.08726342 </td><td>-0.4136999  </td><td> 0.1019480  </td><td>-0.19411927 </td><td>0.5180526   </td><td>0.56511036  </td><td>1.9604320   </td><td>-0.4493138  </td></tr>\n",
       "\t<tr><th scope=row>V3</th><td>PGDX16570P  </td><td>0.3857611   </td><td>-0.9628727  </td><td>0.8915373   </td><td>-0.9955061  </td><td>-0.4230742  </td><td>-0.7763890  </td><td>-0.3731460  </td><td>1.0335064   </td><td>0.6371296   </td><td>...         </td><td>-0.949917897</td><td> 0.03382672 </td><td>-0.33096199 </td><td>-0.2544070  </td><td>-0.7030619  </td><td> 0.11269917 </td><td>0.8034414   </td><td>0.07286307  </td><td>1.4407227   </td><td>-0.1822000  </td></tr>\n",
       "\t<tr><th scope=row>V4</th><td>PGDX16571P  </td><td>0.7517641   </td><td>-1.0829291  </td><td>0.7057104   </td><td>-0.7732682  </td><td>-0.4899441  </td><td>-0.4288467  </td><td>-0.3100476  </td><td>0.7132819   </td><td>0.3474689   </td><td>...         </td><td> 0.018396243</td><td> 0.19769481 </td><td> 0.29380805 </td><td> 0.1870260  </td><td> 0.1585977  </td><td> 0.28563072 </td><td>0.7425123   </td><td>0.66937600  </td><td>1.4299103   </td><td> 0.6321310  </td></tr>\n",
       "\t<tr><th scope=row>V5</th><td>PGDX16579P  </td><td>0.6788690   </td><td>-1.0408928  </td><td>0.8311217   </td><td>-0.9623741  </td><td>-1.2931478  </td><td>-0.5956232  </td><td>-0.2359559  </td><td>0.3395272   </td><td>0.2934176   </td><td>...         </td><td> 0.005225193</td><td>-0.04072313 </td><td>-0.20770367 </td><td>-0.7557699  </td><td>-0.6321563  </td><td>-0.02763831 </td><td>1.0871931   </td><td>1.26443027  </td><td>1.0946152   </td><td>-0.5575385  </td></tr>\n",
       "\t<tr><th scope=row>V6</th><td>PGDX16580P  </td><td>0.6295501   </td><td>-0.8169236  </td><td>0.7086020   </td><td>-1.1560383  </td><td>-0.7778377  </td><td>-0.7474290  </td><td>-0.2509807  </td><td>0.8273938   </td><td>0.3555049   </td><td>...         </td><td>-0.869640818</td><td> 0.44933124 </td><td> 0.20607861 </td><td>-0.5433236  </td><td> 0.1654365  </td><td> 0.57378259 </td><td>1.0340383   </td><td>0.61690830  </td><td>1.9233695   </td><td>-0.4584637  </td></tr>\n",
       "</tbody>\n",
       "</table>\n"
      ],
      "text/markdown": [
       "\n",
       "| <!--/--> | sample | chr10_400 | chr10_40 | chr10_4 | chr10_401 | chr10_402 | chr10_403 | chr10_404 | chr10_405 | chr10_406 | ... | chr9_39 | chr9_391 | chr9_392 | chr9_393 | chr9_394 | chr9_395 | chr9_396 | chr9_397 | chr9_398 | chr9_399 |\n",
       "|---|---|---|---|---|---|---|---|---|---|---|---|---|---|---|---|---|---|---|---|---|---|\n",
       "| V1 | PGDX16568P   | 0.7384158    | -0.8056722   | 0.6390487    | -0.8985149   | -0.4953916   | -0.3241811   |  0.1041488   | 0.8329909    | 0.7424178    | ...          | -0.313957917 |  0.63150859  | -0.07895748  | -0.6959348   |  0.3282421   | -0.06574867  | 1.0425342    | 0.86872274   | 0.9724866    | -1.0712799   |\n",
       "| V2 | PGDX16569P   | 0.6625254    | -0.8741453   | 0.7765665    | -1.1988164   | -0.8354591   | -0.4988171   | -0.3283077   | 0.7640395    | 0.6334283    | ...          | -0.752875825 |  0.51766873  | -0.08726342  | -0.4136999   |  0.1019480   | -0.19411927  | 0.5180526    | 0.56511036   | 1.9604320    | -0.4493138   |\n",
       "| V3 | PGDX16570P   | 0.3857611    | -0.9628727   | 0.8915373    | -0.9955061   | -0.4230742   | -0.7763890   | -0.3731460   | 1.0335064    | 0.6371296    | ...          | -0.949917897 |  0.03382672  | -0.33096199  | -0.2544070   | -0.7030619   |  0.11269917  | 0.8034414    | 0.07286307   | 1.4407227    | -0.1822000   |\n",
       "| V4 | PGDX16571P   | 0.7517641    | -1.0829291   | 0.7057104    | -0.7732682   | -0.4899441   | -0.4288467   | -0.3100476   | 0.7132819    | 0.3474689    | ...          |  0.018396243 |  0.19769481  |  0.29380805  |  0.1870260   |  0.1585977   |  0.28563072  | 0.7425123    | 0.66937600   | 1.4299103    |  0.6321310   |\n",
       "| V5 | PGDX16579P   | 0.6788690    | -1.0408928   | 0.8311217    | -0.9623741   | -1.2931478   | -0.5956232   | -0.2359559   | 0.3395272    | 0.2934176    | ...          |  0.005225193 | -0.04072313  | -0.20770367  | -0.7557699   | -0.6321563   | -0.02763831  | 1.0871931    | 1.26443027   | 1.0946152    | -0.5575385   |\n",
       "| V6 | PGDX16580P   | 0.6295501    | -0.8169236   | 0.7086020    | -1.1560383   | -0.7778377   | -0.7474290   | -0.2509807   | 0.8273938    | 0.3555049    | ...          | -0.869640818 |  0.44933124  |  0.20607861  | -0.5433236   |  0.1654365   |  0.57378259  | 1.0340383    | 0.61690830   | 1.9233695    | -0.4584637   |\n",
       "\n"
      ],
      "text/plain": [
       "   sample     chr10_400 chr10_40   chr10_4   chr10_401  chr10_402  chr10_403 \n",
       "V1 PGDX16568P 0.7384158 -0.8056722 0.6390487 -0.8985149 -0.4953916 -0.3241811\n",
       "V2 PGDX16569P 0.6625254 -0.8741453 0.7765665 -1.1988164 -0.8354591 -0.4988171\n",
       "V3 PGDX16570P 0.3857611 -0.9628727 0.8915373 -0.9955061 -0.4230742 -0.7763890\n",
       "V4 PGDX16571P 0.7517641 -1.0829291 0.7057104 -0.7732682 -0.4899441 -0.4288467\n",
       "V5 PGDX16579P 0.6788690 -1.0408928 0.8311217 -0.9623741 -1.2931478 -0.5956232\n",
       "V6 PGDX16580P 0.6295501 -0.8169236 0.7086020 -1.1560383 -0.7778377 -0.7474290\n",
       "   chr10_404  chr10_405 chr10_406 ... chr9_39      chr9_391    chr9_392   \n",
       "V1  0.1041488 0.8329909 0.7424178 ... -0.313957917  0.63150859 -0.07895748\n",
       "V2 -0.3283077 0.7640395 0.6334283 ... -0.752875825  0.51766873 -0.08726342\n",
       "V3 -0.3731460 1.0335064 0.6371296 ... -0.949917897  0.03382672 -0.33096199\n",
       "V4 -0.3100476 0.7132819 0.3474689 ...  0.018396243  0.19769481  0.29380805\n",
       "V5 -0.2359559 0.3395272 0.2934176 ...  0.005225193 -0.04072313 -0.20770367\n",
       "V6 -0.2509807 0.8273938 0.3555049 ... -0.869640818  0.44933124  0.20607861\n",
       "   chr9_393   chr9_394   chr9_395    chr9_396  chr9_397   chr9_398  chr9_399  \n",
       "V1 -0.6959348  0.3282421 -0.06574867 1.0425342 0.86872274 0.9724866 -1.0712799\n",
       "V2 -0.4136999  0.1019480 -0.19411927 0.5180526 0.56511036 1.9604320 -0.4493138\n",
       "V3 -0.2544070 -0.7030619  0.11269917 0.8034414 0.07286307 1.4407227 -0.1822000\n",
       "V4  0.1870260  0.1585977  0.28563072 0.7425123 0.66937600 1.4299103  0.6321310\n",
       "V5 -0.7557699 -0.6321563 -0.02763831 1.0871931 1.26443027 1.0946152 -0.5575385\n",
       "V6 -0.5433236  0.1654365  0.57378259 1.0340383 0.61690830 1.9233695 -0.4584637"
      ]
     },
     "metadata": {},
     "output_type": "display_data"
    }
   ],
   "source": [
    "head(lasso_pred)"
   ]
  },
  {
   "cell_type": "code",
   "execution_count": 23,
   "id": "afd15a55-0386-4983-89b8-6e5fbf250b1f",
   "metadata": {},
   "outputs": [
    {
     "data": {
      "text/html": [
       "<table>\n",
       "<thead><tr><th scope=col>sample</th><th scope=col>sample_type</th></tr></thead>\n",
       "<tbody>\n",
       "\t<tr><td>PGDX10344P1   </td><td>Gastric_cancer</td></tr>\n",
       "\t<tr><td>PGDX10346P1   </td><td>Gastric_cancer</td></tr>\n",
       "\t<tr><td>PGDX10349P1   </td><td>Gastric_cancer</td></tr>\n",
       "\t<tr><td>PGDX10351P1   </td><td>Gastric_cancer</td></tr>\n",
       "\t<tr><td>PGDX10566P    </td><td>Ovarian_Cancer</td></tr>\n",
       "\t<tr><td>PGDX10567P    </td><td>Ovarian_Cancer</td></tr>\n",
       "</tbody>\n",
       "</table>\n"
      ],
      "text/latex": [
       "\\begin{tabular}{r|ll}\n",
       " sample & sample\\_type\\\\\n",
       "\\hline\n",
       "\t PGDX10344P1      & Gastric\\_cancer\\\\\n",
       "\t PGDX10346P1      & Gastric\\_cancer\\\\\n",
       "\t PGDX10349P1      & Gastric\\_cancer\\\\\n",
       "\t PGDX10351P1      & Gastric\\_cancer\\\\\n",
       "\t PGDX10566P       & Ovarian\\_Cancer\\\\\n",
       "\t PGDX10567P       & Ovarian\\_Cancer\\\\\n",
       "\\end{tabular}\n"
      ],
      "text/markdown": [
       "\n",
       "| sample | sample_type |\n",
       "|---|---|\n",
       "| PGDX10344P1    | Gastric_cancer |\n",
       "| PGDX10346P1    | Gastric_cancer |\n",
       "| PGDX10349P1    | Gastric_cancer |\n",
       "| PGDX10351P1    | Gastric_cancer |\n",
       "| PGDX10566P     | Ovarian_Cancer |\n",
       "| PGDX10567P     | Ovarian_Cancer |\n",
       "\n"
      ],
      "text/plain": [
       "  sample      sample_type   \n",
       "1 PGDX10344P1 Gastric_cancer\n",
       "2 PGDX10346P1 Gastric_cancer\n",
       "3 PGDX10349P1 Gastric_cancer\n",
       "4 PGDX10351P1 Gastric_cancer\n",
       "5 PGDX10566P  Ovarian_Cancer\n",
       "6 PGDX10567P  Ovarian_Cancer"
      ]
     },
     "metadata": {},
     "output_type": "display_data"
    }
   ],
   "source": [
    "sample_types <- read.table(\"../data/sample_types.txt\", header = F, sep = \" \")\n",
    "colnames(sample_types) <- c(\"sample\", \"sample_type\")\n",
    "head(sample_types)"
   ]
  },
  {
   "cell_type": "code",
   "execution_count": 24,
   "id": "39c40ae9-bcbd-43d0-ac21-689d96ea31ae",
   "metadata": {},
   "outputs": [
    {
     "name": "stderr",
     "output_type": "stream",
     "text": [
      "ERROR while rich displaying an object: Error in sprintf(wrap, header, body): 'fmt' length exceeds maximal format length 8192\n",
      "\n",
      "Traceback:\n",
      "1. FUN(X[[i]], ...)\n",
      "2. tryCatch(withCallingHandlers({\n",
      " .     if (!mime %in% names(repr::mime2repr)) \n",
      " .         stop(\"No repr_* for mimetype \", mime, \" in repr::mime2repr\")\n",
      " .     rpr <- repr::mime2repr[[mime]](obj)\n",
      " .     if (is.null(rpr)) \n",
      " .         return(NULL)\n",
      " .     prepare_content(is.raw(rpr), rpr)\n",
      " . }, error = error_handler), error = outer_handler)\n",
      "3. tryCatchList(expr, classes, parentenv, handlers)\n",
      "4. tryCatchOne(expr, names, parentenv, handlers[[1L]])\n",
      "5. doTryCatch(return(expr), name, parentenv, handler)\n",
      "6. withCallingHandlers({\n",
      " .     if (!mime %in% names(repr::mime2repr)) \n",
      " .         stop(\"No repr_* for mimetype \", mime, \" in repr::mime2repr\")\n",
      " .     rpr <- repr::mime2repr[[mime]](obj)\n",
      " .     if (is.null(rpr)) \n",
      " .         return(NULL)\n",
      " .     prepare_content(is.raw(rpr), rpr)\n",
      " . }, error = error_handler)\n",
      "7. repr::mime2repr[[mime]](obj)\n",
      "8. repr_latex.data.frame(obj)\n",
      "9. repr_matrix_generic(obj, sprintf(\"\\\\begin{tabular}{%s}\\n%%s%%s\\\\end{tabular}\\n\", \n",
      " .     cols), \"%s\\\\\\\\\\n\\\\hline\\n\", \"  &\", \" %s &\", \"%s\", \"\\t%s\\\\\\\\\\n\", \n",
      " .     \"%s &\", \" %s &\", escape_fun = latex_escape_vec, ...)\n",
      "10. sprintf(wrap, header, body)\n"
     ]
    },
    {
     "data": {
      "text/html": [
       "<table>\n",
       "<thead><tr><th scope=col>sample</th><th scope=col>chr10_400</th><th scope=col>chr10_40</th><th scope=col>chr10_4</th><th scope=col>chr10_401</th><th scope=col>chr10_402</th><th scope=col>chr10_403</th><th scope=col>chr10_404</th><th scope=col>chr10_405</th><th scope=col>chr10_406</th><th scope=col>...</th><th scope=col>chr9_392</th><th scope=col>chr9_393</th><th scope=col>chr9_394</th><th scope=col>chr9_395</th><th scope=col>chr9_396</th><th scope=col>chr9_397</th><th scope=col>chr9_398</th><th scope=col>chr9_399</th><th scope=col>sample_type</th><th scope=col>sample_type01</th></tr></thead>\n",
       "<tbody>\n",
       "\t<tr><td>PGDX10344P1   </td><td>0.34490540    </td><td>-0.8000112    </td><td>1.1127233     </td><td>-0.72348445   </td><td>-0.1344115    </td><td>-0.7265351    </td><td> 0.085121036  </td><td>0.3619022     </td><td>0.2068427     </td><td>...           </td><td> 0.1010144    </td><td>-0.27919274   </td><td>-0.2239249    </td><td> 0.09255929   </td><td> 0.36379019   </td><td>-0.5499372    </td><td>1.3082289     </td><td>-0.17460427   </td><td>Gastric_cancer</td><td>1             </td></tr>\n",
       "\t<tr><td>PGDX10346P1   </td><td>1.28633538    </td><td>-0.7918092    </td><td>0.9359498     </td><td>-0.62758859   </td><td>-0.8147757    </td><td>-0.5206750    </td><td>-0.003911045  </td><td>0.7023168     </td><td>0.4172394     </td><td>...           </td><td>-0.5222445    </td><td>-0.64344748   </td><td> 0.1442350    </td><td> 0.25037786   </td><td> 0.99758231   </td><td> 0.6318570    </td><td>0.3211187     </td><td>-0.50021935   </td><td>Gastric_cancer</td><td>1             </td></tr>\n",
       "\t<tr><td>PGDX10349P1   </td><td>0.07358182    </td><td>-1.0182200    </td><td>0.3571508     </td><td>-1.10485839   </td><td>-0.7703527    </td><td>-0.9071947    </td><td>-0.037952891  </td><td>0.4907300     </td><td>2.2597325     </td><td>...           </td><td> 0.5798163    </td><td>-0.16387313   </td><td> 0.4303686    </td><td> 0.07509440   </td><td> 0.85058196   </td><td> 0.6682630    </td><td>1.6965330     </td><td> 0.05138936   </td><td>Gastric_cancer</td><td>1             </td></tr>\n",
       "\t<tr><td>PGDX10351P1   </td><td>1.35764667    </td><td>-1.4175205    </td><td>0.5032006     </td><td>-1.20173705   </td><td>-0.6208763    </td><td>-0.2471645    </td><td>-0.407286969  </td><td>0.9077979     </td><td>0.6310652     </td><td>...           </td><td> 0.8455761    </td><td>-0.08321324   </td><td> 0.6249067    </td><td> 0.03829825   </td><td> 1.13985585   </td><td> 0.4691683    </td><td>1.3016002     </td><td>-0.23100938   </td><td>Gastric_cancer</td><td>1             </td></tr>\n",
       "\t<tr><td>PGDX10566P    </td><td>0.37564894    </td><td>-1.0425695    </td><td>1.0316814     </td><td>-0.91694916   </td><td>-0.3979850    </td><td>-0.8132378    </td><td>-0.185403607  </td><td>0.7225772     </td><td>0.6183614     </td><td>...           </td><td> 0.1451600    </td><td>-0.84351793   </td><td> 0.4433583    </td><td>-0.19290323   </td><td>-0.01570560   </td><td> 0.3458563    </td><td>1.3245092     </td><td>-0.32679657   </td><td>Ovarian_Cancer</td><td>1             </td></tr>\n",
       "\t<tr><td>PGDX10567P    </td><td>1.11594208    </td><td>-0.7729504    </td><td>1.0216299     </td><td>-0.09896146   </td><td>-0.6291048    </td><td>-0.8533494    </td><td> 0.169204614  </td><td>0.6894213     </td><td>0.7569859     </td><td>...           </td><td>-0.1820934    </td><td>-0.75133477   </td><td> 0.3449105    </td><td> 0.22138226   </td><td> 0.09369653   </td><td> 0.2058531    </td><td>1.8417184     </td><td>-0.54676384   </td><td>Ovarian_Cancer</td><td>1             </td></tr>\n",
       "</tbody>\n",
       "</table>\n"
      ],
      "text/markdown": [
       "\n",
       "| sample | chr10_400 | chr10_40 | chr10_4 | chr10_401 | chr10_402 | chr10_403 | chr10_404 | chr10_405 | chr10_406 | ... | chr9_392 | chr9_393 | chr9_394 | chr9_395 | chr9_396 | chr9_397 | chr9_398 | chr9_399 | sample_type | sample_type01 |\n",
       "|---|---|---|---|---|---|---|---|---|---|---|---|---|---|---|---|---|---|---|---|---|\n",
       "| PGDX10344P1    | 0.34490540     | -0.8000112     | 1.1127233      | -0.72348445    | -0.1344115     | -0.7265351     |  0.085121036   | 0.3619022      | 0.2068427      | ...            |  0.1010144     | -0.27919274    | -0.2239249     |  0.09255929    |  0.36379019    | -0.5499372     | 1.3082289      | -0.17460427    | Gastric_cancer | 1              |\n",
       "| PGDX10346P1    | 1.28633538     | -0.7918092     | 0.9359498      | -0.62758859    | -0.8147757     | -0.5206750     | -0.003911045   | 0.7023168      | 0.4172394      | ...            | -0.5222445     | -0.64344748    |  0.1442350     |  0.25037786    |  0.99758231    |  0.6318570     | 0.3211187      | -0.50021935    | Gastric_cancer | 1              |\n",
       "| PGDX10349P1    | 0.07358182     | -1.0182200     | 0.3571508      | -1.10485839    | -0.7703527     | -0.9071947     | -0.037952891   | 0.4907300      | 2.2597325      | ...            |  0.5798163     | -0.16387313    |  0.4303686     |  0.07509440    |  0.85058196    |  0.6682630     | 1.6965330      |  0.05138936    | Gastric_cancer | 1              |\n",
       "| PGDX10351P1    | 1.35764667     | -1.4175205     | 0.5032006      | -1.20173705    | -0.6208763     | -0.2471645     | -0.407286969   | 0.9077979      | 0.6310652      | ...            |  0.8455761     | -0.08321324    |  0.6249067     |  0.03829825    |  1.13985585    |  0.4691683     | 1.3016002      | -0.23100938    | Gastric_cancer | 1              |\n",
       "| PGDX10566P     | 0.37564894     | -1.0425695     | 1.0316814      | -0.91694916    | -0.3979850     | -0.8132378     | -0.185403607   | 0.7225772      | 0.6183614      | ...            |  0.1451600     | -0.84351793    |  0.4433583     | -0.19290323    | -0.01570560    |  0.3458563     | 1.3245092      | -0.32679657    | Ovarian_Cancer | 1              |\n",
       "| PGDX10567P     | 1.11594208     | -0.7729504     | 1.0216299      | -0.09896146    | -0.6291048     | -0.8533494     |  0.169204614   | 0.6894213      | 0.7569859      | ...            | -0.1820934     | -0.75133477    |  0.3449105     |  0.22138226    |  0.09369653    |  0.2058531     | 1.8417184      | -0.54676384    | Ovarian_Cancer | 1              |\n",
       "\n"
      ],
      "text/plain": [
       "  sample      chr10_400  chr10_40   chr10_4   chr10_401   chr10_402  chr10_403 \n",
       "1 PGDX10344P1 0.34490540 -0.8000112 1.1127233 -0.72348445 -0.1344115 -0.7265351\n",
       "2 PGDX10346P1 1.28633538 -0.7918092 0.9359498 -0.62758859 -0.8147757 -0.5206750\n",
       "3 PGDX10349P1 0.07358182 -1.0182200 0.3571508 -1.10485839 -0.7703527 -0.9071947\n",
       "4 PGDX10351P1 1.35764667 -1.4175205 0.5032006 -1.20173705 -0.6208763 -0.2471645\n",
       "5 PGDX10566P  0.37564894 -1.0425695 1.0316814 -0.91694916 -0.3979850 -0.8132378\n",
       "6 PGDX10567P  1.11594208 -0.7729504 1.0216299 -0.09896146 -0.6291048 -0.8533494\n",
       "  chr10_404    chr10_405 chr10_406 ... chr9_392   chr9_393    chr9_394  \n",
       "1  0.085121036 0.3619022 0.2068427 ...  0.1010144 -0.27919274 -0.2239249\n",
       "2 -0.003911045 0.7023168 0.4172394 ... -0.5222445 -0.64344748  0.1442350\n",
       "3 -0.037952891 0.4907300 2.2597325 ...  0.5798163 -0.16387313  0.4303686\n",
       "4 -0.407286969 0.9077979 0.6310652 ...  0.8455761 -0.08321324  0.6249067\n",
       "5 -0.185403607 0.7225772 0.6183614 ...  0.1451600 -0.84351793  0.4433583\n",
       "6  0.169204614 0.6894213 0.7569859 ... -0.1820934 -0.75133477  0.3449105\n",
       "  chr9_395    chr9_396    chr9_397   chr9_398  chr9_399    sample_type   \n",
       "1  0.09255929  0.36379019 -0.5499372 1.3082289 -0.17460427 Gastric_cancer\n",
       "2  0.25037786  0.99758231  0.6318570 0.3211187 -0.50021935 Gastric_cancer\n",
       "3  0.07509440  0.85058196  0.6682630 1.6965330  0.05138936 Gastric_cancer\n",
       "4  0.03829825  1.13985585  0.4691683 1.3016002 -0.23100938 Gastric_cancer\n",
       "5 -0.19290323 -0.01570560  0.3458563 1.3245092 -0.32679657 Ovarian_Cancer\n",
       "6  0.22138226  0.09369653  0.2058531 1.8417184 -0.54676384 Ovarian_Cancer\n",
       "  sample_type01\n",
       "1 1            \n",
       "2 1            \n",
       "3 1            \n",
       "4 1            \n",
       "5 1            \n",
       "6 1            "
      ]
     },
     "metadata": {},
     "output_type": "display_data"
    }
   ],
   "source": [
    "data <- merge(lasso_pred, sample_types, by=\"sample\")\n",
    "data <- data %>% mutate(sample_type01 = ifelse(sample_type == \"Healthy\", 0, 1))\n",
    "head(data)"
   ]
  },
  {
   "cell_type": "code",
   "execution_count": 25,
   "id": "c5217763-2292-49be-b4d4-ad54daee2af9",
   "metadata": {},
   "outputs": [],
   "source": [
    "data <- data %>% select(-sample_type)"
   ]
  },
  {
   "cell_type": "code",
   "execution_count": 26,
   "id": "ec836f9e-4902-4d8c-a641-5692b29e8944",
   "metadata": {},
   "outputs": [
    {
     "name": "stderr",
     "output_type": "stream",
     "text": [
      "ERROR while rich displaying an object: Error in sprintf(wrap, header, body): 'fmt' length exceeds maximal format length 8192\n",
      "\n",
      "Traceback:\n",
      "1. FUN(X[[i]], ...)\n",
      "2. tryCatch(withCallingHandlers({\n",
      " .     if (!mime %in% names(repr::mime2repr)) \n",
      " .         stop(\"No repr_* for mimetype \", mime, \" in repr::mime2repr\")\n",
      " .     rpr <- repr::mime2repr[[mime]](obj)\n",
      " .     if (is.null(rpr)) \n",
      " .         return(NULL)\n",
      " .     prepare_content(is.raw(rpr), rpr)\n",
      " . }, error = error_handler), error = outer_handler)\n",
      "3. tryCatchList(expr, classes, parentenv, handlers)\n",
      "4. tryCatchOne(expr, names, parentenv, handlers[[1L]])\n",
      "5. doTryCatch(return(expr), name, parentenv, handler)\n",
      "6. withCallingHandlers({\n",
      " .     if (!mime %in% names(repr::mime2repr)) \n",
      " .         stop(\"No repr_* for mimetype \", mime, \" in repr::mime2repr\")\n",
      " .     rpr <- repr::mime2repr[[mime]](obj)\n",
      " .     if (is.null(rpr)) \n",
      " .         return(NULL)\n",
      " .     prepare_content(is.raw(rpr), rpr)\n",
      " . }, error = error_handler)\n",
      "7. repr::mime2repr[[mime]](obj)\n",
      "8. repr_latex.data.frame(obj)\n",
      "9. repr_matrix_generic(obj, sprintf(\"\\\\begin{tabular}{%s}\\n%%s%%s\\\\end{tabular}\\n\", \n",
      " .     cols), \"%s\\\\\\\\\\n\\\\hline\\n\", \"  &\", \" %s &\", \"%s\", \"\\t%s\\\\\\\\\\n\", \n",
      " .     \"%s &\", \" %s &\", escape_fun = latex_escape_vec, ...)\n",
      "10. sprintf(wrap, header, body)\n"
     ]
    },
    {
     "data": {
      "text/html": [
       "<table>\n",
       "<thead><tr><th scope=col>chr10_400</th><th scope=col>chr10_40</th><th scope=col>chr10_4</th><th scope=col>chr10_401</th><th scope=col>chr10_402</th><th scope=col>chr10_403</th><th scope=col>chr10_404</th><th scope=col>chr10_405</th><th scope=col>chr10_406</th><th scope=col>chr10_407</th><th scope=col>...</th><th scope=col>chr9_391</th><th scope=col>chr9_392</th><th scope=col>chr9_393</th><th scope=col>chr9_394</th><th scope=col>chr9_395</th><th scope=col>chr9_396</th><th scope=col>chr9_397</th><th scope=col>chr9_398</th><th scope=col>chr9_399</th><th scope=col>sample_type01</th></tr></thead>\n",
       "<tbody>\n",
       "\t<tr><td>0.34490540  </td><td>-0.8000112  </td><td>1.1127233   </td><td>-0.72348445 </td><td>-0.1344115  </td><td>-0.7265351  </td><td> 0.085121036</td><td>0.3619022   </td><td>0.2068427   </td><td>1.51435796  </td><td>...         </td><td>-0.316591486</td><td> 0.1010144  </td><td>-0.27919274 </td><td>-0.2239249  </td><td> 0.09255929 </td><td> 0.36379019 </td><td>-0.5499372  </td><td>1.3082289   </td><td>-0.17460427 </td><td>1           </td></tr>\n",
       "\t<tr><td>1.28633538  </td><td>-0.7918092  </td><td>0.9359498   </td><td>-0.62758859 </td><td>-0.8147757  </td><td>-0.5206750  </td><td>-0.003911045</td><td>0.7023168   </td><td>0.4172394   </td><td>0.04422949  </td><td>...         </td><td>-0.215973896</td><td>-0.5222445  </td><td>-0.64344748 </td><td> 0.1442350  </td><td> 0.25037786 </td><td> 0.99758231 </td><td> 0.6318570  </td><td>0.3211187   </td><td>-0.50021935 </td><td>1           </td></tr>\n",
       "\t<tr><td>0.07358182  </td><td>-1.0182200  </td><td>0.3571508   </td><td>-1.10485839 </td><td>-0.7703527  </td><td>-0.9071947  </td><td>-0.037952891</td><td>0.4907300   </td><td>2.2597325   </td><td>1.27638664  </td><td>...         </td><td> 1.369948817</td><td> 0.5798163  </td><td>-0.16387313 </td><td> 0.4303686  </td><td> 0.07509440 </td><td> 0.85058196 </td><td> 0.6682630  </td><td>1.6965330   </td><td> 0.05138936 </td><td>1           </td></tr>\n",
       "\t<tr><td>1.35764667  </td><td>-1.4175205  </td><td>0.5032006   </td><td>-1.20173705 </td><td>-0.6208763  </td><td>-0.2471645  </td><td>-0.407286969</td><td>0.9077979   </td><td>0.6310652   </td><td>0.86066992  </td><td>...         </td><td> 0.469652698</td><td> 0.8455761  </td><td>-0.08321324 </td><td> 0.6249067  </td><td> 0.03829825 </td><td> 1.13985585 </td><td> 0.4691683  </td><td>1.3016002   </td><td>-0.23100938 </td><td>1           </td></tr>\n",
       "\t<tr><td>0.37564894  </td><td>-1.0425695  </td><td>1.0316814   </td><td>-0.91694916 </td><td>-0.3979850  </td><td>-0.8132378  </td><td>-0.185403607</td><td>0.7225772   </td><td>0.6183614   </td><td>0.80879438  </td><td>...         </td><td>-0.000843265</td><td> 0.1451600  </td><td>-0.84351793 </td><td> 0.4433583  </td><td>-0.19290323 </td><td>-0.01570560 </td><td> 0.3458563  </td><td>1.3245092   </td><td>-0.32679657 </td><td>1           </td></tr>\n",
       "\t<tr><td>1.11594208  </td><td>-0.7729504  </td><td>1.0216299   </td><td>-0.09896146 </td><td>-0.6291048  </td><td>-0.8533494  </td><td> 0.169204614</td><td>0.6894213   </td><td>0.7569859   </td><td>0.53877625  </td><td>...         </td><td> 0.660910598</td><td>-0.1820934  </td><td>-0.75133477 </td><td> 0.3449105  </td><td> 0.22138226 </td><td> 0.09369653 </td><td> 0.2058531  </td><td>1.8417184   </td><td>-0.54676384 </td><td>1           </td></tr>\n",
       "</tbody>\n",
       "</table>\n"
      ],
      "text/markdown": [
       "\n",
       "| chr10_400 | chr10_40 | chr10_4 | chr10_401 | chr10_402 | chr10_403 | chr10_404 | chr10_405 | chr10_406 | chr10_407 | ... | chr9_391 | chr9_392 | chr9_393 | chr9_394 | chr9_395 | chr9_396 | chr9_397 | chr9_398 | chr9_399 | sample_type01 |\n",
       "|---|---|---|---|---|---|---|---|---|---|---|---|---|---|---|---|---|---|---|---|---|\n",
       "| 0.34490540   | -0.8000112   | 1.1127233    | -0.72348445  | -0.1344115   | -0.7265351   |  0.085121036 | 0.3619022    | 0.2068427    | 1.51435796   | ...          | -0.316591486 |  0.1010144   | -0.27919274  | -0.2239249   |  0.09255929  |  0.36379019  | -0.5499372   | 1.3082289    | -0.17460427  | 1            |\n",
       "| 1.28633538   | -0.7918092   | 0.9359498    | -0.62758859  | -0.8147757   | -0.5206750   | -0.003911045 | 0.7023168    | 0.4172394    | 0.04422949   | ...          | -0.215973896 | -0.5222445   | -0.64344748  |  0.1442350   |  0.25037786  |  0.99758231  |  0.6318570   | 0.3211187    | -0.50021935  | 1            |\n",
       "| 0.07358182   | -1.0182200   | 0.3571508    | -1.10485839  | -0.7703527   | -0.9071947   | -0.037952891 | 0.4907300    | 2.2597325    | 1.27638664   | ...          |  1.369948817 |  0.5798163   | -0.16387313  |  0.4303686   |  0.07509440  |  0.85058196  |  0.6682630   | 1.6965330    |  0.05138936  | 1            |\n",
       "| 1.35764667   | -1.4175205   | 0.5032006    | -1.20173705  | -0.6208763   | -0.2471645   | -0.407286969 | 0.9077979    | 0.6310652    | 0.86066992   | ...          |  0.469652698 |  0.8455761   | -0.08321324  |  0.6249067   |  0.03829825  |  1.13985585  |  0.4691683   | 1.3016002    | -0.23100938  | 1            |\n",
       "| 0.37564894   | -1.0425695   | 1.0316814    | -0.91694916  | -0.3979850   | -0.8132378   | -0.185403607 | 0.7225772    | 0.6183614    | 0.80879438   | ...          | -0.000843265 |  0.1451600   | -0.84351793  |  0.4433583   | -0.19290323  | -0.01570560  |  0.3458563   | 1.3245092    | -0.32679657  | 1            |\n",
       "| 1.11594208   | -0.7729504   | 1.0216299    | -0.09896146  | -0.6291048   | -0.8533494   |  0.169204614 | 0.6894213    | 0.7569859    | 0.53877625   | ...          |  0.660910598 | -0.1820934   | -0.75133477  |  0.3449105   |  0.22138226  |  0.09369653  |  0.2058531   | 1.8417184    | -0.54676384  | 1            |\n",
       "\n"
      ],
      "text/plain": [
       "  chr10_400  chr10_40   chr10_4   chr10_401   chr10_402  chr10_403 \n",
       "1 0.34490540 -0.8000112 1.1127233 -0.72348445 -0.1344115 -0.7265351\n",
       "2 1.28633538 -0.7918092 0.9359498 -0.62758859 -0.8147757 -0.5206750\n",
       "3 0.07358182 -1.0182200 0.3571508 -1.10485839 -0.7703527 -0.9071947\n",
       "4 1.35764667 -1.4175205 0.5032006 -1.20173705 -0.6208763 -0.2471645\n",
       "5 0.37564894 -1.0425695 1.0316814 -0.91694916 -0.3979850 -0.8132378\n",
       "6 1.11594208 -0.7729504 1.0216299 -0.09896146 -0.6291048 -0.8533494\n",
       "  chr10_404    chr10_405 chr10_406 chr10_407  ... chr9_391     chr9_392  \n",
       "1  0.085121036 0.3619022 0.2068427 1.51435796 ... -0.316591486  0.1010144\n",
       "2 -0.003911045 0.7023168 0.4172394 0.04422949 ... -0.215973896 -0.5222445\n",
       "3 -0.037952891 0.4907300 2.2597325 1.27638664 ...  1.369948817  0.5798163\n",
       "4 -0.407286969 0.9077979 0.6310652 0.86066992 ...  0.469652698  0.8455761\n",
       "5 -0.185403607 0.7225772 0.6183614 0.80879438 ... -0.000843265  0.1451600\n",
       "6  0.169204614 0.6894213 0.7569859 0.53877625 ...  0.660910598 -0.1820934\n",
       "  chr9_393    chr9_394   chr9_395    chr9_396    chr9_397   chr9_398 \n",
       "1 -0.27919274 -0.2239249  0.09255929  0.36379019 -0.5499372 1.3082289\n",
       "2 -0.64344748  0.1442350  0.25037786  0.99758231  0.6318570 0.3211187\n",
       "3 -0.16387313  0.4303686  0.07509440  0.85058196  0.6682630 1.6965330\n",
       "4 -0.08321324  0.6249067  0.03829825  1.13985585  0.4691683 1.3016002\n",
       "5 -0.84351793  0.4433583 -0.19290323 -0.01570560  0.3458563 1.3245092\n",
       "6 -0.75133477  0.3449105  0.22138226  0.09369653  0.2058531 1.8417184\n",
       "  chr9_399    sample_type01\n",
       "1 -0.17460427 1            \n",
       "2 -0.50021935 1            \n",
       "3  0.05138936 1            \n",
       "4 -0.23100938 1            \n",
       "5 -0.32679657 1            \n",
       "6 -0.54676384 1            "
      ]
     },
     "metadata": {},
     "output_type": "display_data"
    }
   ],
   "source": [
    "data <- data %>% select(-sample)\n",
    "head(data)"
   ]
  },
  {
   "cell_type": "markdown",
   "id": "b77873f4-60ca-4543-9e7d-cf9cdf8e6e40",
   "metadata": {},
   "source": [
    "Finding a good k with all of the data. For that we split the data in test and training."
   ]
  },
  {
   "cell_type": "code",
   "execution_count": 27,
   "id": "5e9427f5-5201-41f3-bb6c-87077bfd02f1",
   "metadata": {},
   "outputs": [
    {
     "data": {
      "text/html": [
       "<ol class=list-inline>\n",
       "\t<li>381</li>\n",
       "\t<li>10304</li>\n",
       "</ol>\n"
      ],
      "text/latex": [
       "\\begin{enumerate*}\n",
       "\\item 381\n",
       "\\item 10304\n",
       "\\end{enumerate*}\n"
      ],
      "text/markdown": [
       "1. 381\n",
       "2. 10304\n",
       "\n",
       "\n"
      ],
      "text/plain": [
       "[1]   381 10304"
      ]
     },
     "metadata": {},
     "output_type": "display_data"
    },
    {
     "data": {
      "text/html": [
       "<ol class=list-inline>\n",
       "\t<li>43</li>\n",
       "\t<li>10304</li>\n",
       "</ol>\n"
      ],
      "text/latex": [
       "\\begin{enumerate*}\n",
       "\\item 43\n",
       "\\item 10304\n",
       "\\end{enumerate*}\n"
      ],
      "text/markdown": [
       "1. 43\n",
       "2. 10304\n",
       "\n",
       "\n"
      ],
      "text/plain": [
       "[1]    43 10304"
      ]
     },
     "metadata": {},
     "output_type": "display_data"
    }
   ],
   "source": [
    "#cvfolds <- cut(seq_len(nrow(data)), breaks = 2, labels = F)\n",
    "#cvfolds <- sample(cvfolds)\n",
    "\n",
    "#test  <- data[-rows,]\n",
    "#test_labels <- test$sample_type01\n",
    "#train <- data[rows,]\n",
    "#train_labels <- train$sample_type01\n",
    "\n",
    "smp_size <- floor(0.9 * nrow(data))\n",
    "\n",
    "## set the seed to make your partition reproducible\n",
    "set.seed(0)\n",
    "train_ind <- sample(seq_len(nrow(data)), size = smp_size)\n",
    "\n",
    "train <- data[train_ind, ]\n",
    "test <- data[-train_ind, ]\n",
    "test_labels <- test$sample_type01\n",
    "train_labels <- train$sample_type01\n",
    "\n",
    "dim(train)\n",
    "dim(test)"
   ]
  },
  {
   "cell_type": "code",
   "execution_count": 28,
   "id": "9e336fd6-4d84-47cc-b3bd-aa9a46c3a5fb",
   "metadata": {},
   "outputs": [],
   "source": [
    "#A function that performs the KNN method on a range of k's\n",
    "test_k <- function(train, test, train_labels, test_labels, k) {\n",
    "  err <- c()\n",
    "  for (i in k) {\n",
    "    pred = knn(train = train, \n",
    "               test  = test, \n",
    "               cl    = train_labels, \n",
    "               k     = k[i], \n",
    "              prob = TRUE, \n",
    "              use.all = TRUE)\n",
    "    err[i] <- mean(test_labels != pred)\n",
    "  }\n",
    "  df <- data.frame(k = k, x = 1/k, err_rate = err)\n",
    "  return(df)\n",
    "}"
   ]
  },
  {
   "cell_type": "code",
   "execution_count": 29,
   "id": "487466aa-e9d8-4ed6-97f8-dca137972e69",
   "metadata": {},
   "outputs": [],
   "source": [
    "#best_k <- test_k(train, test, train_labels, test_labels, 1:25)"
   ]
  },
  {
   "cell_type": "code",
   "execution_count": 30,
   "id": "28bda832-83d7-4a95-b1d5-12d48a9767ff",
   "metadata": {
    "tags": []
   },
   "outputs": [],
   "source": [
    "#best_k"
   ]
  },
  {
   "cell_type": "code",
   "execution_count": 31,
   "id": "e6050852-df4f-4760-b984-b89036d7dabc",
   "metadata": {},
   "outputs": [],
   "source": [
    "#best_k[which.min(best_k$err_rate), ]\n",
    "#knn_k <- as.numeric(best_k[which.min(best_k$err_rate), ]$k)\n",
    "#knn_k"
   ]
  },
  {
   "cell_type": "code",
   "execution_count": null,
   "id": "37edd039-d135-46af-8835-6fa0aef1a613",
   "metadata": {},
   "outputs": [],
   "source": [
    "    ###Nested CV to determine the best number of k's####\n",
    "    \n",
    "    ##################################################\n",
    "      \n",
    "    fit       <- knn(train = traindata, \n",
    "                test = testdata, \n",
    "                cl = trainlabels,\n",
    "                k = knn_k,\n",
    "                prob = TRUE)"
   ]
  },
  {
   "cell_type": "markdown",
   "id": "a107b334-4fcd-4de8-a29b-016d27286da8",
   "metadata": {},
   "source": [
    "KNN predictions"
   ]
  },
  {
   "cell_type": "code",
   "execution_count": 49,
   "id": "ace9b9d2-5451-49e6-8576-1bff9e2c4793",
   "metadata": {},
   "outputs": [],
   "source": [
    "cross_validation <- function(dataset, k){\n",
    "  set.seed(0)\n",
    "  cvfolds <- cut(seq_len(nrow(dataset)), breaks = k, labels = F)\n",
    "  cvfolds <- sample(cvfolds)\n",
    "  \n",
    "  observed  <- dataset$sample_type01\n",
    "  predicted <- rep(NA, nrow(dataset))\n",
    "  \n",
    "  for (i in 1:k){\n",
    "    rows      <- which(cvfolds==i)\n",
    "    testdata  <- dataset[rows,]\n",
    "    testlabels <- testdata$sample_type01\n",
    "    testdata <- testdata %>% select(-sample_type01)\n",
    "    \n",
    "    traindata <- dataset[-rows,]\n",
    "    trainlabels <- traindata$sample_type01\n",
    "    traindata <- traindata %>% select(-sample_type01)\n",
    "    \n",
    "    ###Nested CV to determine the best number of k's####\n",
    "    best_k <- test_k(traindata, testdata, trainlabels, testlabels, 1:25)\n",
    "    best_k[which.min(best_k$err_rate), ]\n",
    "    knn_k <- as.numeric(best_k[which.min(best_k$err_rate), ]$k)\n",
    "    ##################################################\n",
    "      \n",
    "    fit       <- knn(train = traindata, \n",
    "                test = testdata, \n",
    "                cl = trainlabels,\n",
    "                k = knn_k,\n",
    "                prob = TRUE)\n",
    "      #message(fit)\n",
    "      #message(attributes(fit)$prob)\n",
    "    fit <- attributes(fit)$prob\n",
    "    #fit <- as.numeric(fit) - 1 \n",
    "    predicted[rows] <- fit\n",
    "  }\n",
    "  \n",
    "    #message(observed)\n",
    "    #message(predicted)  \n",
    "    #auc_result <- auc(observed, predicted)\n",
    "\n",
    "    results <- cbind(observed, predicted)\n",
    "\n",
    "  return(results)\n",
    "}"
   ]
  },
  {
   "cell_type": "code",
   "execution_count": null,
   "id": "d8a7d6c5-f877-40af-8f16-7d2e05c6b794",
   "metadata": {},
   "outputs": [],
   "source": []
  },
  {
   "cell_type": "code",
   "execution_count": 54,
   "id": "045b6f1e-f676-49b9-b1c2-f3ce746c304e",
   "metadata": {},
   "outputs": [],
   "source": [
    "results <- as.data.frame(cross_validation(data, 10))"
   ]
  },
  {
   "cell_type": "code",
   "execution_count": 56,
   "id": "a4f0da9f-cd13-41ec-a541-d9e8999eb310",
   "metadata": {
    "collapsed": true,
    "jupyter": {
     "outputs_hidden": true
    },
    "tags": []
   },
   "outputs": [
    {
     "data": {
      "text/html": [
       "<table>\n",
       "<thead><tr><th scope=col>observed</th><th scope=col>predicted</th></tr></thead>\n",
       "<tbody>\n",
       "\t<tr><td>1        </td><td>1.0000000</td></tr>\n",
       "\t<tr><td>1        </td><td>1.0000000</td></tr>\n",
       "\t<tr><td>1        </td><td>1.0000000</td></tr>\n",
       "\t<tr><td>1        </td><td>1.0000000</td></tr>\n",
       "\t<tr><td>1        </td><td>1.0000000</td></tr>\n",
       "\t<tr><td>1        </td><td>1.0000000</td></tr>\n",
       "\t<tr><td>1        </td><td>1.0000000</td></tr>\n",
       "\t<tr><td>1        </td><td>1.0000000</td></tr>\n",
       "\t<tr><td>1        </td><td>1.0000000</td></tr>\n",
       "\t<tr><td>1        </td><td>1.0000000</td></tr>\n",
       "\t<tr><td>1        </td><td>1.0000000</td></tr>\n",
       "\t<tr><td>1        </td><td>1.0000000</td></tr>\n",
       "\t<tr><td>1        </td><td>1.0000000</td></tr>\n",
       "\t<tr><td>1        </td><td>1.0000000</td></tr>\n",
       "\t<tr><td>1        </td><td>0.8333333</td></tr>\n",
       "\t<tr><td>1        </td><td>1.0000000</td></tr>\n",
       "\t<tr><td>1        </td><td>1.0000000</td></tr>\n",
       "\t<tr><td>1        </td><td>1.0000000</td></tr>\n",
       "\t<tr><td>1        </td><td>0.8333333</td></tr>\n",
       "\t<tr><td>1        </td><td>1.0000000</td></tr>\n",
       "\t<tr><td>1        </td><td>1.0000000</td></tr>\n",
       "\t<tr><td>1        </td><td>1.0000000</td></tr>\n",
       "\t<tr><td>1        </td><td>0.6666667</td></tr>\n",
       "\t<tr><td>1        </td><td>1.0000000</td></tr>\n",
       "\t<tr><td>1        </td><td>0.5000000</td></tr>\n",
       "\t<tr><td>1        </td><td>1.0000000</td></tr>\n",
       "\t<tr><td>1        </td><td>1.0000000</td></tr>\n",
       "\t<tr><td>1        </td><td>1.0000000</td></tr>\n",
       "\t<tr><td>1        </td><td>1.0000000</td></tr>\n",
       "\t<tr><td>1        </td><td>1.0000000</td></tr>\n",
       "\t<tr><td>...</td><td>...</td></tr>\n",
       "\t<tr><td>1        </td><td>1.0000000</td></tr>\n",
       "\t<tr><td>1        </td><td>1.0000000</td></tr>\n",
       "\t<tr><td>1        </td><td>1.0000000</td></tr>\n",
       "\t<tr><td>1        </td><td>1.0000000</td></tr>\n",
       "\t<tr><td>1        </td><td>1.0000000</td></tr>\n",
       "\t<tr><td>1        </td><td>1.0000000</td></tr>\n",
       "\t<tr><td>1        </td><td>1.0000000</td></tr>\n",
       "\t<tr><td>1        </td><td>1.0000000</td></tr>\n",
       "\t<tr><td>1        </td><td>0.5000000</td></tr>\n",
       "\t<tr><td>1        </td><td>1.0000000</td></tr>\n",
       "\t<tr><td>1        </td><td>1.0000000</td></tr>\n",
       "\t<tr><td>1        </td><td>1.0000000</td></tr>\n",
       "\t<tr><td>1        </td><td>1.0000000</td></tr>\n",
       "\t<tr><td>1        </td><td>1.0000000</td></tr>\n",
       "\t<tr><td>1        </td><td>0.6000000</td></tr>\n",
       "\t<tr><td>1        </td><td>1.0000000</td></tr>\n",
       "\t<tr><td>1        </td><td>1.0000000</td></tr>\n",
       "\t<tr><td>1        </td><td>1.0000000</td></tr>\n",
       "\t<tr><td>1        </td><td>1.0000000</td></tr>\n",
       "\t<tr><td>1        </td><td>1.0000000</td></tr>\n",
       "\t<tr><td>1        </td><td>1.0000000</td></tr>\n",
       "\t<tr><td>1        </td><td>1.0000000</td></tr>\n",
       "\t<tr><td>1        </td><td>1.0000000</td></tr>\n",
       "\t<tr><td>1        </td><td>1.0000000</td></tr>\n",
       "\t<tr><td>1        </td><td>1.0000000</td></tr>\n",
       "\t<tr><td>1        </td><td>0.6000000</td></tr>\n",
       "\t<tr><td>1        </td><td>1.0000000</td></tr>\n",
       "\t<tr><td>1        </td><td>0.5000000</td></tr>\n",
       "\t<tr><td>1        </td><td>1.0000000</td></tr>\n",
       "\t<tr><td>1        </td><td>0.6666667</td></tr>\n",
       "</tbody>\n",
       "</table>\n"
      ],
      "text/latex": [
       "\\begin{tabular}{r|ll}\n",
       " observed & predicted\\\\\n",
       "\\hline\n",
       "\t 1         & 1.0000000\\\\\n",
       "\t 1         & 1.0000000\\\\\n",
       "\t 1         & 1.0000000\\\\\n",
       "\t 1         & 1.0000000\\\\\n",
       "\t 1         & 1.0000000\\\\\n",
       "\t 1         & 1.0000000\\\\\n",
       "\t 1         & 1.0000000\\\\\n",
       "\t 1         & 1.0000000\\\\\n",
       "\t 1         & 1.0000000\\\\\n",
       "\t 1         & 1.0000000\\\\\n",
       "\t 1         & 1.0000000\\\\\n",
       "\t 1         & 1.0000000\\\\\n",
       "\t 1         & 1.0000000\\\\\n",
       "\t 1         & 1.0000000\\\\\n",
       "\t 1         & 0.8333333\\\\\n",
       "\t 1         & 1.0000000\\\\\n",
       "\t 1         & 1.0000000\\\\\n",
       "\t 1         & 1.0000000\\\\\n",
       "\t 1         & 0.8333333\\\\\n",
       "\t 1         & 1.0000000\\\\\n",
       "\t 1         & 1.0000000\\\\\n",
       "\t 1         & 1.0000000\\\\\n",
       "\t 1         & 0.6666667\\\\\n",
       "\t 1         & 1.0000000\\\\\n",
       "\t 1         & 0.5000000\\\\\n",
       "\t 1         & 1.0000000\\\\\n",
       "\t 1         & 1.0000000\\\\\n",
       "\t 1         & 1.0000000\\\\\n",
       "\t 1         & 1.0000000\\\\\n",
       "\t 1         & 1.0000000\\\\\n",
       "\t ... & ...\\\\\n",
       "\t 1         & 1.0000000\\\\\n",
       "\t 1         & 1.0000000\\\\\n",
       "\t 1         & 1.0000000\\\\\n",
       "\t 1         & 1.0000000\\\\\n",
       "\t 1         & 1.0000000\\\\\n",
       "\t 1         & 1.0000000\\\\\n",
       "\t 1         & 1.0000000\\\\\n",
       "\t 1         & 1.0000000\\\\\n",
       "\t 1         & 0.5000000\\\\\n",
       "\t 1         & 1.0000000\\\\\n",
       "\t 1         & 1.0000000\\\\\n",
       "\t 1         & 1.0000000\\\\\n",
       "\t 1         & 1.0000000\\\\\n",
       "\t 1         & 1.0000000\\\\\n",
       "\t 1         & 0.6000000\\\\\n",
       "\t 1         & 1.0000000\\\\\n",
       "\t 1         & 1.0000000\\\\\n",
       "\t 1         & 1.0000000\\\\\n",
       "\t 1         & 1.0000000\\\\\n",
       "\t 1         & 1.0000000\\\\\n",
       "\t 1         & 1.0000000\\\\\n",
       "\t 1         & 1.0000000\\\\\n",
       "\t 1         & 1.0000000\\\\\n",
       "\t 1         & 1.0000000\\\\\n",
       "\t 1         & 1.0000000\\\\\n",
       "\t 1         & 0.6000000\\\\\n",
       "\t 1         & 1.0000000\\\\\n",
       "\t 1         & 0.5000000\\\\\n",
       "\t 1         & 1.0000000\\\\\n",
       "\t 1         & 0.6666667\\\\\n",
       "\\end{tabular}\n"
      ],
      "text/markdown": [
       "\n",
       "| observed | predicted |\n",
       "|---|---|\n",
       "| 1         | 1.0000000 |\n",
       "| 1         | 1.0000000 |\n",
       "| 1         | 1.0000000 |\n",
       "| 1         | 1.0000000 |\n",
       "| 1         | 1.0000000 |\n",
       "| 1         | 1.0000000 |\n",
       "| 1         | 1.0000000 |\n",
       "| 1         | 1.0000000 |\n",
       "| 1         | 1.0000000 |\n",
       "| 1         | 1.0000000 |\n",
       "| 1         | 1.0000000 |\n",
       "| 1         | 1.0000000 |\n",
       "| 1         | 1.0000000 |\n",
       "| 1         | 1.0000000 |\n",
       "| 1         | 0.8333333 |\n",
       "| 1         | 1.0000000 |\n",
       "| 1         | 1.0000000 |\n",
       "| 1         | 1.0000000 |\n",
       "| 1         | 0.8333333 |\n",
       "| 1         | 1.0000000 |\n",
       "| 1         | 1.0000000 |\n",
       "| 1         | 1.0000000 |\n",
       "| 1         | 0.6666667 |\n",
       "| 1         | 1.0000000 |\n",
       "| 1         | 0.5000000 |\n",
       "| 1         | 1.0000000 |\n",
       "| 1         | 1.0000000 |\n",
       "| 1         | 1.0000000 |\n",
       "| 1         | 1.0000000 |\n",
       "| 1         | 1.0000000 |\n",
       "| ... | ... |\n",
       "| 1         | 1.0000000 |\n",
       "| 1         | 1.0000000 |\n",
       "| 1         | 1.0000000 |\n",
       "| 1         | 1.0000000 |\n",
       "| 1         | 1.0000000 |\n",
       "| 1         | 1.0000000 |\n",
       "| 1         | 1.0000000 |\n",
       "| 1         | 1.0000000 |\n",
       "| 1         | 0.5000000 |\n",
       "| 1         | 1.0000000 |\n",
       "| 1         | 1.0000000 |\n",
       "| 1         | 1.0000000 |\n",
       "| 1         | 1.0000000 |\n",
       "| 1         | 1.0000000 |\n",
       "| 1         | 0.6000000 |\n",
       "| 1         | 1.0000000 |\n",
       "| 1         | 1.0000000 |\n",
       "| 1         | 1.0000000 |\n",
       "| 1         | 1.0000000 |\n",
       "| 1         | 1.0000000 |\n",
       "| 1         | 1.0000000 |\n",
       "| 1         | 1.0000000 |\n",
       "| 1         | 1.0000000 |\n",
       "| 1         | 1.0000000 |\n",
       "| 1         | 1.0000000 |\n",
       "| 1         | 0.6000000 |\n",
       "| 1         | 1.0000000 |\n",
       "| 1         | 0.5000000 |\n",
       "| 1         | 1.0000000 |\n",
       "| 1         | 0.6666667 |\n",
       "\n"
      ],
      "text/plain": [
       "    observed predicted\n",
       "1   1        1.0000000\n",
       "2   1        1.0000000\n",
       "3   1        1.0000000\n",
       "4   1        1.0000000\n",
       "5   1        1.0000000\n",
       "6   1        1.0000000\n",
       "7   1        1.0000000\n",
       "8   1        1.0000000\n",
       "9   1        1.0000000\n",
       "10  1        1.0000000\n",
       "11  1        1.0000000\n",
       "12  1        1.0000000\n",
       "13  1        1.0000000\n",
       "14  1        1.0000000\n",
       "15  1        0.8333333\n",
       "16  1        1.0000000\n",
       "17  1        1.0000000\n",
       "18  1        1.0000000\n",
       "19  1        0.8333333\n",
       "20  1        1.0000000\n",
       "21  1        1.0000000\n",
       "22  1        1.0000000\n",
       "23  1        0.6666667\n",
       "24  1        1.0000000\n",
       "25  1        0.5000000\n",
       "26  1        1.0000000\n",
       "27  1        1.0000000\n",
       "28  1        1.0000000\n",
       "29  1        1.0000000\n",
       "30  1        1.0000000\n",
       "... ...      ...      \n",
       "395 1        1.0000000\n",
       "396 1        1.0000000\n",
       "397 1        1.0000000\n",
       "398 1        1.0000000\n",
       "399 1        1.0000000\n",
       "400 1        1.0000000\n",
       "401 1        1.0000000\n",
       "402 1        1.0000000\n",
       "403 1        0.5000000\n",
       "404 1        1.0000000\n",
       "405 1        1.0000000\n",
       "406 1        1.0000000\n",
       "407 1        1.0000000\n",
       "408 1        1.0000000\n",
       "409 1        0.6000000\n",
       "410 1        1.0000000\n",
       "411 1        1.0000000\n",
       "412 1        1.0000000\n",
       "413 1        1.0000000\n",
       "414 1        1.0000000\n",
       "415 1        1.0000000\n",
       "416 1        1.0000000\n",
       "417 1        1.0000000\n",
       "418 1        1.0000000\n",
       "419 1        1.0000000\n",
       "420 1        0.6000000\n",
       "421 1        1.0000000\n",
       "422 1        0.5000000\n",
       "423 1        1.0000000\n",
       "424 1        0.6666667"
      ]
     },
     "metadata": {},
     "output_type": "display_data"
    }
   ],
   "source": [
    "(results)"
   ]
  },
  {
   "cell_type": "markdown",
   "id": "d116b1d6-1a83-41c7-b076-f392dfe67400",
   "metadata": {},
   "source": [
    "Plot the roc curve"
   ]
  },
  {
   "cell_type": "code",
   "execution_count": null,
   "id": "c3b1b3e2-7a30-4b24-8eb8-7dbea81c92bf",
   "metadata": {},
   "outputs": [],
   "source": []
  },
  {
   "cell_type": "code",
   "execution_count": null,
   "id": "6483db5e-b481-4f0c-8dad-9978ee60a2d4",
   "metadata": {},
   "outputs": [],
   "source": []
  },
  {
   "cell_type": "code",
   "execution_count": null,
   "id": "4f16e195-2140-4b12-9589-4f1464329429",
   "metadata": {},
   "outputs": [],
   "source": []
  },
  {
   "cell_type": "code",
   "execution_count": 51,
   "id": "3985304f-ba78-4498-8f47-9d9460320169",
   "metadata": {},
   "outputs": [
    {
     "name": "stderr",
     "output_type": "stream",
     "text": [
      "Setting levels: control = 0, case = 1\n",
      "Setting direction: controls < cases\n",
      "Setting levels: control = 0, case = 1\n",
      "Setting direction: controls < cases\n"
     ]
    },
    {
     "data": {
      "text/html": [
       "0.443848050201703"
      ],
      "text/latex": [
       "0.443848050201703"
      ],
      "text/markdown": [
       "0.443848050201703"
      ],
      "text/plain": [
       "Area under the curve: 0.4438"
      ]
     },
     "metadata": {},
     "output_type": "display_data"
    }
   ],
   "source": [
    "roc.plot <- roc(results$observed, results$predicted)\n",
    "\n",
    "auc(results$observed, results$predicted)"
   ]
  },
  {
   "cell_type": "code",
   "execution_count": 52,
   "id": "0d481be6-990d-4978-89b6-588cf71d25f9",
   "metadata": {},
   "outputs": [
    {
     "data": {
      "image/png": "[encoded data removed]",
      "text/plain": [
       "plot without title"
      ]
     },
     "metadata": {},
     "output_type": "display_data"
    }
   ],
   "source": [
    "plot(roc.plot)"
   ]
  },
  {
   "cell_type": "code",
   "execution_count": 53,
   "id": "52b60560-4d40-4f37-9e30-d3f0c0ba42ec",
   "metadata": {},
   "outputs": [
    {
     "data": {
      "text/html": [
       "0.443848050201703"
      ],
      "text/latex": [
       "0.443848050201703"
      ],
      "text/markdown": [
       "0.443848050201703"
      ],
      "text/plain": [
       "Area under the curve: 0.4438"
      ]
     },
     "metadata": {},
     "output_type": "display_data"
    }
   ],
   "source": [
    "auc(roc.plot)"
   ]
  },
  {
   "cell_type": "code",
   "execution_count": null,
   "id": "f72fe7dd-ff61-4e22-8260-90518009850c",
   "metadata": {},
   "outputs": [],
   "source": []
  }
 ],
 "metadata": {
  "kernelspec": {
   "display_name": "R [conda env:NNPiB]",
   "language": "R",
   "name": "conda-env-NNPiB-r"
  },
  "language_info": {
   "codemirror_mode": "r",
   "file_extension": ".r",
   "mimetype": "text/x-r-source",
   "name": "R",
   "pygments_lexer": "r",
   "version": "3.6.1"
  }
 },
 "nbformat": 4,
 "nbformat_minor": 5
}
