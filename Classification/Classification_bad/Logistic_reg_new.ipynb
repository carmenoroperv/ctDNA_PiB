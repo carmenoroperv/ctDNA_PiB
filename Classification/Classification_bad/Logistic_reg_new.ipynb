{
 "cells": [
  {
   "cell_type": "code",
   "execution_count": 1,
   "id": "0a7212e1-146e-4107-a2a6-8429debcabc8",
   "metadata": {},
   "outputs": [
    {
     "name": "stderr",
     "output_type": "stream",
     "text": [
      "── Attaching packages ─────────────────────────────────────────────────────────────────────────────── tidyverse 1.3.1 ──\n",
      "✔ ggplot2 3.3.5     ✔ purrr   0.3.4\n",
      "✔ tibble  3.1.5     ✔ dplyr   1.0.7\n",
      "✔ tidyr   1.1.4     ✔ stringr 1.4.0\n",
      "✔ readr   2.0.2     ✔ forcats 0.5.1\n",
      "── Conflicts ────────────────────────────────────────────────────────────────────────────────── tidyverse_conflicts() ──\n",
      "✖ dplyr::filter() masks stats::filter()\n",
      "✖ dplyr::lag()    masks stats::lag()\n",
      "Type 'citation(\"pROC\")' for a citation.\n",
      "\n",
      "Attaching package: ‘pROC’\n",
      "\n",
      "The following objects are masked from ‘package:stats’:\n",
      "\n",
      "    cov, smooth, var\n",
      "\n"
     ]
    }
   ],
   "source": [
    "library(tidyverse)\n",
    "library(pROC)"
   ]
  },
  {
   "cell_type": "code",
   "execution_count": 2,
   "id": "75946acb-7935-42ab-a8cc-1574f3396e19",
   "metadata": {},
   "outputs": [
    {
     "name": "stderr",
     "output_type": "stream",
     "text": [
      "ERROR while rich displaying an object: Error in sprintf(wrap, header, body): 'fmt' length exceeds maximal format length 8192\n",
      "\n",
      "Traceback:\n",
      "1. FUN(X[[i]], ...)\n",
      "2. tryCatch(withCallingHandlers({\n",
      " .     if (!mime %in% names(repr::mime2repr)) \n",
      " .         stop(\"No repr_* for mimetype \", mime, \" in repr::mime2repr\")\n",
      " .     rpr <- repr::mime2repr[[mime]](obj)\n",
      " .     if (is.null(rpr)) \n",
      " .         return(NULL)\n",
      " .     prepare_content(is.raw(rpr), rpr)\n",
      " . }, error = error_handler), error = outer_handler)\n",
      "3. tryCatchList(expr, classes, parentenv, handlers)\n",
      "4. tryCatchOne(expr, names, parentenv, handlers[[1L]])\n",
      "5. doTryCatch(return(expr), name, parentenv, handler)\n",
      "6. withCallingHandlers({\n",
      " .     if (!mime %in% names(repr::mime2repr)) \n",
      " .         stop(\"No repr_* for mimetype \", mime, \" in repr::mime2repr\")\n",
      " .     rpr <- repr::mime2repr[[mime]](obj)\n",
      " .     if (is.null(rpr)) \n",
      " .         return(NULL)\n",
      " .     prepare_content(is.raw(rpr), rpr)\n",
      " . }, error = error_handler)\n",
      "7. repr::mime2repr[[mime]](obj)\n",
      "8. repr_latex.data.frame(obj)\n",
      "9. repr_matrix_generic(obj, sprintf(\"\\\\begin{tabular}{%s}\\n%%s%%s\\\\end{tabular}\\n\", \n",
      " .     cols), \"%s\\\\\\\\\\n\\\\hline\\n\", \"  &\", \" %s &\", \"%s\", \"\\t%s\\\\\\\\\\n\", \n",
      " .     \"%s &\", \" %s &\", escape_fun = latex_escape_vec, ...)\n",
      "10. sprintf(wrap, header, body)\n"
     ]
    },
    {
     "data": {
      "text/html": [
       "<table>\n",
       "<thead><tr><th scope=col>sample</th><th scope=col>chr10_400</th><th scope=col>chr10_40</th><th scope=col>chr10_4</th><th scope=col>chr10_401</th><th scope=col>chr10_402</th><th scope=col>chr10_403</th><th scope=col>chr10_404</th><th scope=col>chr10_405</th><th scope=col>chr10_406</th><th scope=col>...</th><th scope=col>chr9_39</th><th scope=col>chr9_391</th><th scope=col>chr9_392</th><th scope=col>chr9_393</th><th scope=col>chr9_394</th><th scope=col>chr9_395</th><th scope=col>chr9_396</th><th scope=col>chr9_397</th><th scope=col>chr9_398</th><th scope=col>chr9_399</th></tr></thead>\n",
       "<tbody>\n",
       "\t<tr><td>PGDX16568P </td><td>0.6953389  </td><td>-0.7879755 </td><td>0.6283735  </td><td>-0.8076604 </td><td>-0.4762342 </td><td>-0.4843784 </td><td> 0.1574588 </td><td>0.7738185  </td><td>0.9266950  </td><td>...        </td><td>-0.26104774</td><td> 0.53456169</td><td>-0.2882270 </td><td>-0.7376411 </td><td> 0.3459933 </td><td>-0.05068006</td><td>1.0490274  </td><td>1.0220016  </td><td>0.8971134  </td><td>-1.1239397 </td></tr>\n",
       "\t<tr><td>PGDX16569P </td><td>0.6685276  </td><td>-0.7808352 </td><td>0.8278703  </td><td>-1.0433986 </td><td>-0.8732558 </td><td>-0.5425936 </td><td>-0.1108301 </td><td>0.8073165  </td><td>0.6771145  </td><td>...        </td><td>-0.86931628</td><td> 0.54407024</td><td>-0.1319621 </td><td>-0.3830047 </td><td> 0.1672065 </td><td>-0.07010265</td><td>0.7165734  </td><td>0.5450365  </td><td>2.1032045  </td><td>-0.1894466 </td></tr>\n",
       "\t<tr><td>PGDX16570P </td><td>0.3257788  </td><td>-1.0488984 </td><td>1.0016914  </td><td>-0.9862307 </td><td>-0.3133380 </td><td>-0.7717212 </td><td>-0.4113402 </td><td>1.1532543  </td><td>0.6261248  </td><td>...        </td><td>-1.02908360</td><td>-0.05235085</td><td>-0.2826165 </td><td>-0.4314783 </td><td>-0.6612242 </td><td> 0.03558009</td><td>0.7921805  </td><td>0.1177460  </td><td>1.2677444  </td><td>-0.3231751 </td></tr>\n",
       "\t<tr><td>PGDX16571P </td><td>0.6735824  </td><td>-1.0051706 </td><td>0.5946802  </td><td>-0.8331926 </td><td>-0.6285969 </td><td>-0.5744275 </td><td>-0.3082262 </td><td>0.7438386  </td><td>0.4048773  </td><td>...        </td><td>-0.03035763</td><td> 0.21872785</td><td> 0.2970003 </td><td> 0.1060122 </td><td> 0.1146019 </td><td> 0.37187560</td><td>0.7845285  </td><td>0.8089346  </td><td>1.2953379  </td><td> 0.6134834 </td></tr>\n",
       "\t<tr><td>PGDX16579P </td><td>0.5463358  </td><td>-1.0278642 </td><td>0.7856385  </td><td>-1.0208457 </td><td>-1.3634272 </td><td>-0.6691807 </td><td>-0.1297193 </td><td>0.2580991  </td><td>0.3741107  </td><td>...        </td><td>-0.11768120</td><td> 0.01472267</td><td>-0.1548552 </td><td>-0.6424580 </td><td>-0.6951410 </td><td> 0.02006348</td><td>1.2604557  </td><td>1.1036514  </td><td>0.8842823  </td><td>-0.4777681 </td></tr>\n",
       "\t<tr><td>PGDX16580P </td><td>0.6874442  </td><td>-0.9024875 </td><td>0.8600207  </td><td>-1.2188743 </td><td>-0.7686111 </td><td>-0.7730980 </td><td>-0.2695628 </td><td>0.8137366  </td><td>0.4154834  </td><td>...        </td><td>-0.84386310</td><td> 0.32829360</td><td> 0.2397903 </td><td>-0.5690418 </td><td> 0.1624912 </td><td> 0.55272815</td><td>1.0007847  </td><td>0.5013539  </td><td>1.8067929  </td><td>-0.4536265 </td></tr>\n",
       "</tbody>\n",
       "</table>\n"
      ],
      "text/markdown": [
       "\n",
       "| sample | chr10_400 | chr10_40 | chr10_4 | chr10_401 | chr10_402 | chr10_403 | chr10_404 | chr10_405 | chr10_406 | ... | chr9_39 | chr9_391 | chr9_392 | chr9_393 | chr9_394 | chr9_395 | chr9_396 | chr9_397 | chr9_398 | chr9_399 |\n",
       "|---|---|---|---|---|---|---|---|---|---|---|---|---|---|---|---|---|---|---|---|---|\n",
       "| PGDX16568P  | 0.6953389   | -0.7879755  | 0.6283735   | -0.8076604  | -0.4762342  | -0.4843784  |  0.1574588  | 0.7738185   | 0.9266950   | ...         | -0.26104774 |  0.53456169 | -0.2882270  | -0.7376411  |  0.3459933  | -0.05068006 | 1.0490274   | 1.0220016   | 0.8971134   | -1.1239397  |\n",
       "| PGDX16569P  | 0.6685276   | -0.7808352  | 0.8278703   | -1.0433986  | -0.8732558  | -0.5425936  | -0.1108301  | 0.8073165   | 0.6771145   | ...         | -0.86931628 |  0.54407024 | -0.1319621  | -0.3830047  |  0.1672065  | -0.07010265 | 0.7165734   | 0.5450365   | 2.1032045   | -0.1894466  |\n",
       "| PGDX16570P  | 0.3257788   | -1.0488984  | 1.0016914   | -0.9862307  | -0.3133380  | -0.7717212  | -0.4113402  | 1.1532543   | 0.6261248   | ...         | -1.02908360 | -0.05235085 | -0.2826165  | -0.4314783  | -0.6612242  |  0.03558009 | 0.7921805   | 0.1177460   | 1.2677444   | -0.3231751  |\n",
       "| PGDX16571P  | 0.6735824   | -1.0051706  | 0.5946802   | -0.8331926  | -0.6285969  | -0.5744275  | -0.3082262  | 0.7438386   | 0.4048773   | ...         | -0.03035763 |  0.21872785 |  0.2970003  |  0.1060122  |  0.1146019  |  0.37187560 | 0.7845285   | 0.8089346   | 1.2953379   |  0.6134834  |\n",
       "| PGDX16579P  | 0.5463358   | -1.0278642  | 0.7856385   | -1.0208457  | -1.3634272  | -0.6691807  | -0.1297193  | 0.2580991   | 0.3741107   | ...         | -0.11768120 |  0.01472267 | -0.1548552  | -0.6424580  | -0.6951410  |  0.02006348 | 1.2604557   | 1.1036514   | 0.8842823   | -0.4777681  |\n",
       "| PGDX16580P  | 0.6874442   | -0.9024875  | 0.8600207   | -1.2188743  | -0.7686111  | -0.7730980  | -0.2695628  | 0.8137366   | 0.4154834   | ...         | -0.84386310 |  0.32829360 |  0.2397903  | -0.5690418  |  0.1624912  |  0.55272815 | 1.0007847   | 0.5013539   | 1.8067929   | -0.4536265  |\n",
       "\n"
      ],
      "text/plain": [
       "  sample     chr10_400 chr10_40   chr10_4   chr10_401  chr10_402  chr10_403 \n",
       "1 PGDX16568P 0.6953389 -0.7879755 0.6283735 -0.8076604 -0.4762342 -0.4843784\n",
       "2 PGDX16569P 0.6685276 -0.7808352 0.8278703 -1.0433986 -0.8732558 -0.5425936\n",
       "3 PGDX16570P 0.3257788 -1.0488984 1.0016914 -0.9862307 -0.3133380 -0.7717212\n",
       "4 PGDX16571P 0.6735824 -1.0051706 0.5946802 -0.8331926 -0.6285969 -0.5744275\n",
       "5 PGDX16579P 0.5463358 -1.0278642 0.7856385 -1.0208457 -1.3634272 -0.6691807\n",
       "6 PGDX16580P 0.6874442 -0.9024875 0.8600207 -1.2188743 -0.7686111 -0.7730980\n",
       "  chr10_404  chr10_405 chr10_406 ... chr9_39     chr9_391    chr9_392  \n",
       "1  0.1574588 0.7738185 0.9266950 ... -0.26104774  0.53456169 -0.2882270\n",
       "2 -0.1108301 0.8073165 0.6771145 ... -0.86931628  0.54407024 -0.1319621\n",
       "3 -0.4113402 1.1532543 0.6261248 ... -1.02908360 -0.05235085 -0.2826165\n",
       "4 -0.3082262 0.7438386 0.4048773 ... -0.03035763  0.21872785  0.2970003\n",
       "5 -0.1297193 0.2580991 0.3741107 ... -0.11768120  0.01472267 -0.1548552\n",
       "6 -0.2695628 0.8137366 0.4154834 ... -0.84386310  0.32829360  0.2397903\n",
       "  chr9_393   chr9_394   chr9_395    chr9_396  chr9_397  chr9_398  chr9_399  \n",
       "1 -0.7376411  0.3459933 -0.05068006 1.0490274 1.0220016 0.8971134 -1.1239397\n",
       "2 -0.3830047  0.1672065 -0.07010265 0.7165734 0.5450365 2.1032045 -0.1894466\n",
       "3 -0.4314783 -0.6612242  0.03558009 0.7921805 0.1177460 1.2677444 -0.3231751\n",
       "4  0.1060122  0.1146019  0.37187560 0.7845285 0.8089346 1.2953379  0.6134834\n",
       "5 -0.6424580 -0.6951410  0.02006348 1.2604557 1.1036514 0.8842823 -0.4777681\n",
       "6 -0.5690418  0.1624912  0.55272815 1.0007847 0.5013539 1.8067929 -0.4536265"
      ]
     },
     "metadata": {},
     "output_type": "display_data"
    }
   ],
   "source": [
    "#lasso_pred <- read.csv(\"../data/ATAC_predictions_on_all_samples_NEW/ATAC_pred_lasso_std_TRUE_gaussian_formatted_standardized.csv\")\n",
    "#lasso_pred <-  read.csv(\"../data/all_samples_train_ATAC_predictions_on_all_samples/all_samples_ATAC_pred_lasso_std_TRUE_formatted_standardized.csv\")\n",
    "lasso_pred <- read.csv(\"../data/all_samples_train_ATAC_predictions_on_all_samples/all_samples_ATAC_pred_lasso_std_TRUE_gaussian_trimmed_formatted_standardized.csv\")\n",
    "head(lasso_pred)"
   ]
  },
  {
   "cell_type": "code",
   "execution_count": 3,
   "id": "9e1a69c5-3ac6-4648-9f68-7454768f07f3",
   "metadata": {},
   "outputs": [
    {
     "data": {
      "text/html": [
       "<table>\n",
       "<thead><tr><th scope=col>sample</th><th scope=col>sample_type</th></tr></thead>\n",
       "<tbody>\n",
       "\t<tr><td>PGDX10344P1   </td><td>Gastric_cancer</td></tr>\n",
       "\t<tr><td>PGDX10346P1   </td><td>Gastric_cancer</td></tr>\n",
       "\t<tr><td>PGDX10349P1   </td><td>Gastric_cancer</td></tr>\n",
       "\t<tr><td>PGDX10351P1   </td><td>Gastric_cancer</td></tr>\n",
       "\t<tr><td>PGDX10566P    </td><td>Ovarian_Cancer</td></tr>\n",
       "\t<tr><td>PGDX10567P    </td><td>Ovarian_Cancer</td></tr>\n",
       "</tbody>\n",
       "</table>\n"
      ],
      "text/latex": [
       "\\begin{tabular}{r|ll}\n",
       " sample & sample\\_type\\\\\n",
       "\\hline\n",
       "\t PGDX10344P1      & Gastric\\_cancer\\\\\n",
       "\t PGDX10346P1      & Gastric\\_cancer\\\\\n",
       "\t PGDX10349P1      & Gastric\\_cancer\\\\\n",
       "\t PGDX10351P1      & Gastric\\_cancer\\\\\n",
       "\t PGDX10566P       & Ovarian\\_Cancer\\\\\n",
       "\t PGDX10567P       & Ovarian\\_Cancer\\\\\n",
       "\\end{tabular}\n"
      ],
      "text/markdown": [
       "\n",
       "| sample | sample_type |\n",
       "|---|---|\n",
       "| PGDX10344P1    | Gastric_cancer |\n",
       "| PGDX10346P1    | Gastric_cancer |\n",
       "| PGDX10349P1    | Gastric_cancer |\n",
       "| PGDX10351P1    | Gastric_cancer |\n",
       "| PGDX10566P     | Ovarian_Cancer |\n",
       "| PGDX10567P     | Ovarian_Cancer |\n",
       "\n"
      ],
      "text/plain": [
       "  sample      sample_type   \n",
       "1 PGDX10344P1 Gastric_cancer\n",
       "2 PGDX10346P1 Gastric_cancer\n",
       "3 PGDX10349P1 Gastric_cancer\n",
       "4 PGDX10351P1 Gastric_cancer\n",
       "5 PGDX10566P  Ovarian_Cancer\n",
       "6 PGDX10567P  Ovarian_Cancer"
      ]
     },
     "metadata": {},
     "output_type": "display_data"
    }
   ],
   "source": [
    "sample_types <- read.table(\"../data/sample_types.txt\", header = F, sep = \" \")\n",
    "colnames(sample_types) <- c(\"sample\", \"sample_type\")\n",
    "head(sample_types)"
   ]
  },
  {
   "cell_type": "code",
   "execution_count": 4,
   "id": "38db9102-93f3-4e24-ac17-211444533bb9",
   "metadata": {},
   "outputs": [
    {
     "name": "stderr",
     "output_type": "stream",
     "text": [
      "ERROR while rich displaying an object: Error in sprintf(wrap, header, body): 'fmt' length exceeds maximal format length 8192\n",
      "\n",
      "Traceback:\n",
      "1. FUN(X[[i]], ...)\n",
      "2. tryCatch(withCallingHandlers({\n",
      " .     if (!mime %in% names(repr::mime2repr)) \n",
      " .         stop(\"No repr_* for mimetype \", mime, \" in repr::mime2repr\")\n",
      " .     rpr <- repr::mime2repr[[mime]](obj)\n",
      " .     if (is.null(rpr)) \n",
      " .         return(NULL)\n",
      " .     prepare_content(is.raw(rpr), rpr)\n",
      " . }, error = error_handler), error = outer_handler)\n",
      "3. tryCatchList(expr, classes, parentenv, handlers)\n",
      "4. tryCatchOne(expr, names, parentenv, handlers[[1L]])\n",
      "5. doTryCatch(return(expr), name, parentenv, handler)\n",
      "6. withCallingHandlers({\n",
      " .     if (!mime %in% names(repr::mime2repr)) \n",
      " .         stop(\"No repr_* for mimetype \", mime, \" in repr::mime2repr\")\n",
      " .     rpr <- repr::mime2repr[[mime]](obj)\n",
      " .     if (is.null(rpr)) \n",
      " .         return(NULL)\n",
      " .     prepare_content(is.raw(rpr), rpr)\n",
      " . }, error = error_handler)\n",
      "7. repr::mime2repr[[mime]](obj)\n",
      "8. repr_latex.data.frame(obj)\n",
      "9. repr_matrix_generic(obj, sprintf(\"\\\\begin{tabular}{%s}\\n%%s%%s\\\\end{tabular}\\n\", \n",
      " .     cols), \"%s\\\\\\\\\\n\\\\hline\\n\", \"  &\", \" %s &\", \"%s\", \"\\t%s\\\\\\\\\\n\", \n",
      " .     \"%s &\", \" %s &\", escape_fun = latex_escape_vec, ...)\n",
      "10. sprintf(wrap, header, body)\n"
     ]
    },
    {
     "data": {
      "text/html": [
       "<table>\n",
       "<thead><tr><th scope=col>sample</th><th scope=col>chr10_400</th><th scope=col>chr10_40</th><th scope=col>chr10_4</th><th scope=col>chr10_401</th><th scope=col>chr10_402</th><th scope=col>chr10_403</th><th scope=col>chr10_404</th><th scope=col>chr10_405</th><th scope=col>chr10_406</th><th scope=col>...</th><th scope=col>chr9_392</th><th scope=col>chr9_393</th><th scope=col>chr9_394</th><th scope=col>chr9_395</th><th scope=col>chr9_396</th><th scope=col>chr9_397</th><th scope=col>chr9_398</th><th scope=col>chr9_399</th><th scope=col>sample_type</th><th scope=col>sample_type01</th></tr></thead>\n",
       "<tbody>\n",
       "\t<tr><td>PGDX10344P1   </td><td>0.30947556    </td><td>-0.7539309    </td><td>1.1516740     </td><td>-0.73103587   </td><td>-0.2853468    </td><td>-0.7798561    </td><td> 0.06051166   </td><td>0.2748797     </td><td>0.1194668     </td><td>...           </td><td> 0.1650859    </td><td>-0.42256897   </td><td>-0.2957827    </td><td> 0.01479394   </td><td>0.50865533    </td><td>-0.6555403    </td><td>1.3079180     </td><td>-0.16053665   </td><td>Gastric_cancer</td><td>1             </td></tr>\n",
       "\t<tr><td>PGDX10346P1   </td><td>1.31264238    </td><td>-0.8638002    </td><td>1.0312299     </td><td>-0.65368812   </td><td>-0.7419347    </td><td>-0.4319792    </td><td>-0.05947708   </td><td>0.7711896     </td><td>0.3962822     </td><td>...           </td><td>-0.5444958    </td><td>-0.64879239   </td><td> 0.2428516    </td><td> 0.19974982   </td><td>1.12004644    </td><td> 0.7947682    </td><td>0.3184796     </td><td>-0.51734387   </td><td>Gastric_cancer</td><td>1             </td></tr>\n",
       "\t<tr><td>PGDX10349P1   </td><td>0.03454358    </td><td>-1.0286147    </td><td>0.3685958     </td><td>-1.12662266   </td><td>-0.8042189    </td><td>-0.9181945    </td><td>-0.15124313   </td><td>0.5120651     </td><td>2.2926807     </td><td>...           </td><td> 0.5371412    </td><td>-0.12744117   </td><td> 0.4225526    </td><td> 0.15168523   </td><td>0.94030365    </td><td> 0.5442199    </td><td>1.6525958     </td><td> 0.01383398   </td><td>Gastric_cancer</td><td>1             </td></tr>\n",
       "\t<tr><td>PGDX10351P1   </td><td>1.25220761    </td><td>-1.3596647    </td><td>0.4615063     </td><td>-1.20750208   </td><td>-0.7935835    </td><td>-0.2823848    </td><td>-0.37592036   </td><td>0.9370712     </td><td>0.5484292     </td><td>...           </td><td> 0.8356236    </td><td> 0.02982247   </td><td> 0.6091440    </td><td> 0.02092330   </td><td>1.02896111    </td><td> 0.3744232    </td><td>1.3586522     </td><td>-0.20452260   </td><td>Gastric_cancer</td><td>1             </td></tr>\n",
       "\t<tr><td>PGDX10566P    </td><td>0.42060193    </td><td>-1.0139996    </td><td>1.1073594     </td><td>-0.97364296   </td><td>-0.5256145    </td><td>-0.7092296    </td><td>-0.23406615   </td><td>0.8072512     </td><td>0.6548251     </td><td>...           </td><td> 0.2332540    </td><td>-0.79614677   </td><td> 0.3238098    </td><td>-0.20121012   </td><td>0.03054838    </td><td> 0.4624885    </td><td>1.2128934     </td><td>-0.41948429   </td><td>Ovarian_Cancer</td><td>1             </td></tr>\n",
       "\t<tr><td>PGDX10567P    </td><td>0.94804965    </td><td>-0.7293273    </td><td>1.1532942     </td><td>-0.05731926   </td><td>-0.7344479    </td><td>-0.8104326    </td><td> 0.10587807   </td><td>0.6343644     </td><td>0.7289408     </td><td>...           </td><td>-0.2284586    </td><td>-0.88340246   </td><td> 0.3731070    </td><td> 0.16567934   </td><td>0.18048909    </td><td> 0.2987154    </td><td>1.8230905     </td><td>-0.66497791   </td><td>Ovarian_Cancer</td><td>1             </td></tr>\n",
       "</tbody>\n",
       "</table>\n"
      ],
      "text/markdown": [
       "\n",
       "| sample | chr10_400 | chr10_40 | chr10_4 | chr10_401 | chr10_402 | chr10_403 | chr10_404 | chr10_405 | chr10_406 | ... | chr9_392 | chr9_393 | chr9_394 | chr9_395 | chr9_396 | chr9_397 | chr9_398 | chr9_399 | sample_type | sample_type01 |\n",
       "|---|---|---|---|---|---|---|---|---|---|---|---|---|---|---|---|---|---|---|---|---|\n",
       "| PGDX10344P1    | 0.30947556     | -0.7539309     | 1.1516740      | -0.73103587    | -0.2853468     | -0.7798561     |  0.06051166    | 0.2748797      | 0.1194668      | ...            |  0.1650859     | -0.42256897    | -0.2957827     |  0.01479394    | 0.50865533     | -0.6555403     | 1.3079180      | -0.16053665    | Gastric_cancer | 1              |\n",
       "| PGDX10346P1    | 1.31264238     | -0.8638002     | 1.0312299      | -0.65368812    | -0.7419347     | -0.4319792     | -0.05947708    | 0.7711896      | 0.3962822      | ...            | -0.5444958     | -0.64879239    |  0.2428516     |  0.19974982    | 1.12004644     |  0.7947682     | 0.3184796      | -0.51734387    | Gastric_cancer | 1              |\n",
       "| PGDX10349P1    | 0.03454358     | -1.0286147     | 0.3685958      | -1.12662266    | -0.8042189     | -0.9181945     | -0.15124313    | 0.5120651      | 2.2926807      | ...            |  0.5371412     | -0.12744117    |  0.4225526     |  0.15168523    | 0.94030365     |  0.5442199     | 1.6525958      |  0.01383398    | Gastric_cancer | 1              |\n",
       "| PGDX10351P1    | 1.25220761     | -1.3596647     | 0.4615063      | -1.20750208    | -0.7935835     | -0.2823848     | -0.37592036    | 0.9370712      | 0.5484292      | ...            |  0.8356236     |  0.02982247    |  0.6091440     |  0.02092330    | 1.02896111     |  0.3744232     | 1.3586522      | -0.20452260    | Gastric_cancer | 1              |\n",
       "| PGDX10566P     | 0.42060193     | -1.0139996     | 1.1073594      | -0.97364296    | -0.5256145     | -0.7092296     | -0.23406615    | 0.8072512      | 0.6548251      | ...            |  0.2332540     | -0.79614677    |  0.3238098     | -0.20121012    | 0.03054838     |  0.4624885     | 1.2128934      | -0.41948429    | Ovarian_Cancer | 1              |\n",
       "| PGDX10567P     | 0.94804965     | -0.7293273     | 1.1532942      | -0.05731926    | -0.7344479     | -0.8104326     |  0.10587807    | 0.6343644      | 0.7289408      | ...            | -0.2284586     | -0.88340246    |  0.3731070     |  0.16567934    | 0.18048909     |  0.2987154     | 1.8230905      | -0.66497791    | Ovarian_Cancer | 1              |\n",
       "\n"
      ],
      "text/plain": [
       "  sample      chr10_400  chr10_40   chr10_4   chr10_401   chr10_402  chr10_403 \n",
       "1 PGDX10344P1 0.30947556 -0.7539309 1.1516740 -0.73103587 -0.2853468 -0.7798561\n",
       "2 PGDX10346P1 1.31264238 -0.8638002 1.0312299 -0.65368812 -0.7419347 -0.4319792\n",
       "3 PGDX10349P1 0.03454358 -1.0286147 0.3685958 -1.12662266 -0.8042189 -0.9181945\n",
       "4 PGDX10351P1 1.25220761 -1.3596647 0.4615063 -1.20750208 -0.7935835 -0.2823848\n",
       "5 PGDX10566P  0.42060193 -1.0139996 1.1073594 -0.97364296 -0.5256145 -0.7092296\n",
       "6 PGDX10567P  0.94804965 -0.7293273 1.1532942 -0.05731926 -0.7344479 -0.8104326\n",
       "  chr10_404   chr10_405 chr10_406 ... chr9_392   chr9_393    chr9_394  \n",
       "1  0.06051166 0.2748797 0.1194668 ...  0.1650859 -0.42256897 -0.2957827\n",
       "2 -0.05947708 0.7711896 0.3962822 ... -0.5444958 -0.64879239  0.2428516\n",
       "3 -0.15124313 0.5120651 2.2926807 ...  0.5371412 -0.12744117  0.4225526\n",
       "4 -0.37592036 0.9370712 0.5484292 ...  0.8356236  0.02982247  0.6091440\n",
       "5 -0.23406615 0.8072512 0.6548251 ...  0.2332540 -0.79614677  0.3238098\n",
       "6  0.10587807 0.6343644 0.7289408 ... -0.2284586 -0.88340246  0.3731070\n",
       "  chr9_395    chr9_396   chr9_397   chr9_398  chr9_399    sample_type   \n",
       "1  0.01479394 0.50865533 -0.6555403 1.3079180 -0.16053665 Gastric_cancer\n",
       "2  0.19974982 1.12004644  0.7947682 0.3184796 -0.51734387 Gastric_cancer\n",
       "3  0.15168523 0.94030365  0.5442199 1.6525958  0.01383398 Gastric_cancer\n",
       "4  0.02092330 1.02896111  0.3744232 1.3586522 -0.20452260 Gastric_cancer\n",
       "5 -0.20121012 0.03054838  0.4624885 1.2128934 -0.41948429 Ovarian_Cancer\n",
       "6  0.16567934 0.18048909  0.2987154 1.8230905 -0.66497791 Ovarian_Cancer\n",
       "  sample_type01\n",
       "1 1            \n",
       "2 1            \n",
       "3 1            \n",
       "4 1            \n",
       "5 1            \n",
       "6 1            "
      ]
     },
     "metadata": {},
     "output_type": "display_data"
    }
   ],
   "source": [
    "data <- merge(lasso_pred, sample_types, by=\"sample\")\n",
    "data <- data %>% mutate(sample_type01 = ifelse(sample_type == \"Healthy\", 0, 1))\n",
    "head(data)"
   ]
  },
  {
   "cell_type": "code",
   "execution_count": 5,
   "id": "afe2403e-8519-4079-beaa-7b716d0f1640",
   "metadata": {},
   "outputs": [],
   "source": [
    "data <- data %>% select(-sample_type)"
   ]
  },
  {
   "cell_type": "code",
   "execution_count": 6,
   "id": "394c167b-c24b-4708-aad4-061ee371d9c4",
   "metadata": {},
   "outputs": [
    {
     "name": "stderr",
     "output_type": "stream",
     "text": [
      "ERROR while rich displaying an object: Error in sprintf(wrap, header, body): 'fmt' length exceeds maximal format length 8192\n",
      "\n",
      "Traceback:\n",
      "1. FUN(X[[i]], ...)\n",
      "2. tryCatch(withCallingHandlers({\n",
      " .     if (!mime %in% names(repr::mime2repr)) \n",
      " .         stop(\"No repr_* for mimetype \", mime, \" in repr::mime2repr\")\n",
      " .     rpr <- repr::mime2repr[[mime]](obj)\n",
      " .     if (is.null(rpr)) \n",
      " .         return(NULL)\n",
      " .     prepare_content(is.raw(rpr), rpr)\n",
      " . }, error = error_handler), error = outer_handler)\n",
      "3. tryCatchList(expr, classes, parentenv, handlers)\n",
      "4. tryCatchOne(expr, names, parentenv, handlers[[1L]])\n",
      "5. doTryCatch(return(expr), name, parentenv, handler)\n",
      "6. withCallingHandlers({\n",
      " .     if (!mime %in% names(repr::mime2repr)) \n",
      " .         stop(\"No repr_* for mimetype \", mime, \" in repr::mime2repr\")\n",
      " .     rpr <- repr::mime2repr[[mime]](obj)\n",
      " .     if (is.null(rpr)) \n",
      " .         return(NULL)\n",
      " .     prepare_content(is.raw(rpr), rpr)\n",
      " . }, error = error_handler)\n",
      "7. repr::mime2repr[[mime]](obj)\n",
      "8. repr_latex.data.frame(obj)\n",
      "9. repr_matrix_generic(obj, sprintf(\"\\\\begin{tabular}{%s}\\n%%s%%s\\\\end{tabular}\\n\", \n",
      " .     cols), \"%s\\\\\\\\\\n\\\\hline\\n\", \"  &\", \" %s &\", \"%s\", \"\\t%s\\\\\\\\\\n\", \n",
      " .     \"%s &\", \" %s &\", escape_fun = latex_escape_vec, ...)\n",
      "10. sprintf(wrap, header, body)\n"
     ]
    },
    {
     "data": {
      "text/html": [
       "<table>\n",
       "<thead><tr><th scope=col>chr10_400</th><th scope=col>chr10_40</th><th scope=col>chr10_4</th><th scope=col>chr10_401</th><th scope=col>chr10_402</th><th scope=col>chr10_403</th><th scope=col>chr10_404</th><th scope=col>chr10_405</th><th scope=col>chr10_406</th><th scope=col>chr10_407</th><th scope=col>...</th><th scope=col>chr9_391</th><th scope=col>chr9_392</th><th scope=col>chr9_393</th><th scope=col>chr9_394</th><th scope=col>chr9_395</th><th scope=col>chr9_396</th><th scope=col>chr9_397</th><th scope=col>chr9_398</th><th scope=col>chr9_399</th><th scope=col>sample_type01</th></tr></thead>\n",
       "<tbody>\n",
       "\t<tr><td>0.30947556 </td><td>-0.7539309 </td><td>1.1516740  </td><td>-0.73103587</td><td>-0.2853468 </td><td>-0.7798561 </td><td> 0.06051166</td><td>0.2748797  </td><td>0.1194668  </td><td> 1.58616357</td><td>...        </td><td>-0.37970698</td><td> 0.1650859 </td><td>-0.42256897</td><td>-0.2957827 </td><td> 0.01479394</td><td>0.50865533 </td><td>-0.6555403 </td><td>1.3079180  </td><td>-0.16053665</td><td>1          </td></tr>\n",
       "\t<tr><td>1.31264238 </td><td>-0.8638002 </td><td>1.0312299  </td><td>-0.65368812</td><td>-0.7419347 </td><td>-0.4319792 </td><td>-0.05947708</td><td>0.7711896  </td><td>0.3962822  </td><td>-0.01456208</td><td>...        </td><td>-0.25048611</td><td>-0.5444958 </td><td>-0.64879239</td><td> 0.2428516 </td><td> 0.19974982</td><td>1.12004644 </td><td> 0.7947682 </td><td>0.3184796  </td><td>-0.51734387</td><td>1          </td></tr>\n",
       "\t<tr><td>0.03454358 </td><td>-1.0286147 </td><td>0.3685958  </td><td>-1.12662266</td><td>-0.8042189 </td><td>-0.9181945 </td><td>-0.15124313</td><td>0.5120651  </td><td>2.2926807  </td><td> 1.33510514</td><td>...        </td><td> 1.32998993</td><td> 0.5371412 </td><td>-0.12744117</td><td> 0.4225526 </td><td> 0.15168523</td><td>0.94030365 </td><td> 0.5442199 </td><td>1.6525958  </td><td> 0.01383398</td><td>1          </td></tr>\n",
       "\t<tr><td>1.25220761 </td><td>-1.3596647 </td><td>0.4615063  </td><td>-1.20750208</td><td>-0.7935835 </td><td>-0.2823848 </td><td>-0.37592036</td><td>0.9370712  </td><td>0.5484292  </td><td> 0.93190924</td><td>...        </td><td> 0.51918961</td><td> 0.8356236 </td><td> 0.02982247</td><td> 0.6091440 </td><td> 0.02092330</td><td>1.02896111 </td><td> 0.3744232 </td><td>1.3586522  </td><td>-0.20452260</td><td>1          </td></tr>\n",
       "\t<tr><td>0.42060193 </td><td>-1.0139996 </td><td>1.1073594  </td><td>-0.97364296</td><td>-0.5256145 </td><td>-0.7092296 </td><td>-0.23406615</td><td>0.8072512  </td><td>0.6548251  </td><td> 0.87415924</td><td>...        </td><td> 0.03396167</td><td> 0.2332540 </td><td>-0.79614677</td><td> 0.3238098 </td><td>-0.20121012</td><td>0.03054838 </td><td> 0.4624885 </td><td>1.2128934  </td><td>-0.41948429</td><td>1          </td></tr>\n",
       "\t<tr><td>0.94804965 </td><td>-0.7293273 </td><td>1.1532942  </td><td>-0.05731926</td><td>-0.7344479 </td><td>-0.8104326 </td><td> 0.10587807</td><td>0.6343644  </td><td>0.7289408  </td><td> 0.45120878</td><td>...        </td><td> 0.61736424</td><td>-0.2284586 </td><td>-0.88340246</td><td> 0.3731070 </td><td> 0.16567934</td><td>0.18048909 </td><td> 0.2987154 </td><td>1.8230905  </td><td>-0.66497791</td><td>1          </td></tr>\n",
       "</tbody>\n",
       "</table>\n"
      ],
      "text/markdown": [
       "\n",
       "| chr10_400 | chr10_40 | chr10_4 | chr10_401 | chr10_402 | chr10_403 | chr10_404 | chr10_405 | chr10_406 | chr10_407 | ... | chr9_391 | chr9_392 | chr9_393 | chr9_394 | chr9_395 | chr9_396 | chr9_397 | chr9_398 | chr9_399 | sample_type01 |\n",
       "|---|---|---|---|---|---|---|---|---|---|---|---|---|---|---|---|---|---|---|---|---|\n",
       "| 0.30947556  | -0.7539309  | 1.1516740   | -0.73103587 | -0.2853468  | -0.7798561  |  0.06051166 | 0.2748797   | 0.1194668   |  1.58616357 | ...         | -0.37970698 |  0.1650859  | -0.42256897 | -0.2957827  |  0.01479394 | 0.50865533  | -0.6555403  | 1.3079180   | -0.16053665 | 1           |\n",
       "| 1.31264238  | -0.8638002  | 1.0312299   | -0.65368812 | -0.7419347  | -0.4319792  | -0.05947708 | 0.7711896   | 0.3962822   | -0.01456208 | ...         | -0.25048611 | -0.5444958  | -0.64879239 |  0.2428516  |  0.19974982 | 1.12004644  |  0.7947682  | 0.3184796   | -0.51734387 | 1           |\n",
       "| 0.03454358  | -1.0286147  | 0.3685958   | -1.12662266 | -0.8042189  | -0.9181945  | -0.15124313 | 0.5120651   | 2.2926807   |  1.33510514 | ...         |  1.32998993 |  0.5371412  | -0.12744117 |  0.4225526  |  0.15168523 | 0.94030365  |  0.5442199  | 1.6525958   |  0.01383398 | 1           |\n",
       "| 1.25220761  | -1.3596647  | 0.4615063   | -1.20750208 | -0.7935835  | -0.2823848  | -0.37592036 | 0.9370712   | 0.5484292   |  0.93190924 | ...         |  0.51918961 |  0.8356236  |  0.02982247 |  0.6091440  |  0.02092330 | 1.02896111  |  0.3744232  | 1.3586522   | -0.20452260 | 1           |\n",
       "| 0.42060193  | -1.0139996  | 1.1073594   | -0.97364296 | -0.5256145  | -0.7092296  | -0.23406615 | 0.8072512   | 0.6548251   |  0.87415924 | ...         |  0.03396167 |  0.2332540  | -0.79614677 |  0.3238098  | -0.20121012 | 0.03054838  |  0.4624885  | 1.2128934   | -0.41948429 | 1           |\n",
       "| 0.94804965  | -0.7293273  | 1.1532942   | -0.05731926 | -0.7344479  | -0.8104326  |  0.10587807 | 0.6343644   | 0.7289408   |  0.45120878 | ...         |  0.61736424 | -0.2284586  | -0.88340246 |  0.3731070  |  0.16567934 | 0.18048909  |  0.2987154  | 1.8230905   | -0.66497791 | 1           |\n",
       "\n"
      ],
      "text/plain": [
       "  chr10_400  chr10_40   chr10_4   chr10_401   chr10_402  chr10_403  chr10_404  \n",
       "1 0.30947556 -0.7539309 1.1516740 -0.73103587 -0.2853468 -0.7798561  0.06051166\n",
       "2 1.31264238 -0.8638002 1.0312299 -0.65368812 -0.7419347 -0.4319792 -0.05947708\n",
       "3 0.03454358 -1.0286147 0.3685958 -1.12662266 -0.8042189 -0.9181945 -0.15124313\n",
       "4 1.25220761 -1.3596647 0.4615063 -1.20750208 -0.7935835 -0.2823848 -0.37592036\n",
       "5 0.42060193 -1.0139996 1.1073594 -0.97364296 -0.5256145 -0.7092296 -0.23406615\n",
       "6 0.94804965 -0.7293273 1.1532942 -0.05731926 -0.7344479 -0.8104326  0.10587807\n",
       "  chr10_405 chr10_406 chr10_407   ... chr9_391    chr9_392   chr9_393   \n",
       "1 0.2748797 0.1194668  1.58616357 ... -0.37970698  0.1650859 -0.42256897\n",
       "2 0.7711896 0.3962822 -0.01456208 ... -0.25048611 -0.5444958 -0.64879239\n",
       "3 0.5120651 2.2926807  1.33510514 ...  1.32998993  0.5371412 -0.12744117\n",
       "4 0.9370712 0.5484292  0.93190924 ...  0.51918961  0.8356236  0.02982247\n",
       "5 0.8072512 0.6548251  0.87415924 ...  0.03396167  0.2332540 -0.79614677\n",
       "6 0.6343644 0.7289408  0.45120878 ...  0.61736424 -0.2284586 -0.88340246\n",
       "  chr9_394   chr9_395    chr9_396   chr9_397   chr9_398  chr9_399   \n",
       "1 -0.2957827  0.01479394 0.50865533 -0.6555403 1.3079180 -0.16053665\n",
       "2  0.2428516  0.19974982 1.12004644  0.7947682 0.3184796 -0.51734387\n",
       "3  0.4225526  0.15168523 0.94030365  0.5442199 1.6525958  0.01383398\n",
       "4  0.6091440  0.02092330 1.02896111  0.3744232 1.3586522 -0.20452260\n",
       "5  0.3238098 -0.20121012 0.03054838  0.4624885 1.2128934 -0.41948429\n",
       "6  0.3731070  0.16567934 0.18048909  0.2987154 1.8230905 -0.66497791\n",
       "  sample_type01\n",
       "1 1            \n",
       "2 1            \n",
       "3 1            \n",
       "4 1            \n",
       "5 1            \n",
       "6 1            "
      ]
     },
     "metadata": {},
     "output_type": "display_data"
    }
   ],
   "source": [
    "data <- data %>% select(-sample)\n",
    "head(data)"
   ]
  },
  {
   "cell_type": "code",
   "execution_count": 7,
   "id": "ebcb5e90-3400-48c9-a2fe-de0b9a87153b",
   "metadata": {},
   "outputs": [],
   "source": [
    "cross_validation <- function(dataset, k=10){\n",
    "  set.seed(0)\n",
    "  cvfolds <- cut(seq_len(nrow(dataset)), breaks = k, labels = F)\n",
    "  cvfolds <- sample(cvfolds)\n",
    "  \n",
    "  observed  <- dataset$sample_type01\n",
    "  predicted <- rep(NA, nrow(dataset))\n",
    "\n",
    "  \n",
    "  for (i in 1:k){\n",
    "    rows      <- which(cvfolds==i)\n",
    "    testdata  <- dataset[rows,]\n",
    "    testdata <- testdata %>% select(-sample_type01)\n",
    "    traindata <- dataset[-rows,]\n",
    "    fit       <- glm(sample_type01 ~ . , data = traindata, family=binomial(link='logit')) \n",
    "    tmp       <- as.data.frame(predict(fit, newdata = testdata, type = \"response\"))\n",
    "    colnames(tmp) <- c(\"probability\")\n",
    "    #tmp <- tmp %>% mutate(response = ifelse(probability > 0.5,1, 0))\n",
    "    \n",
    "    predicted[rows] <- tmp$probability\n",
    "  }\n",
    "  \n",
    "  #auc_result <- auc(observed, predicted)\n",
    "\n",
    "    results <- cbind(observed, predicted)\n",
    "\n",
    "  return(results)\n",
    "}"
   ]
  },
  {
   "cell_type": "code",
   "execution_count": 8,
   "id": "1fd852d7-f03b-412e-9e51-28bc81789dcb",
   "metadata": {},
   "outputs": [
    {
     "name": "stderr",
     "output_type": "stream",
     "text": [
      "Warning message:\n",
      "“glm.fit: algorithm did not converge”Warning message in predict.lm(object, newdata, se.fit, scale = 1, type = if (type == :\n",
      "“prediction from a rank-deficient fit may be misleading”Warning message:\n",
      "“glm.fit: algorithm did not converge”Warning message in predict.lm(object, newdata, se.fit, scale = 1, type = if (type == :\n",
      "“prediction from a rank-deficient fit may be misleading”Warning message:\n",
      "“glm.fit: algorithm did not converge”Warning message in predict.lm(object, newdata, se.fit, scale = 1, type = if (type == :\n",
      "“prediction from a rank-deficient fit may be misleading”Warning message:\n",
      "“glm.fit: algorithm did not converge”Warning message in predict.lm(object, newdata, se.fit, scale = 1, type = if (type == :\n",
      "“prediction from a rank-deficient fit may be misleading”Warning message:\n",
      "“glm.fit: algorithm did not converge”Warning message in predict.lm(object, newdata, se.fit, scale = 1, type = if (type == :\n",
      "“prediction from a rank-deficient fit may be misleading”Warning message:\n",
      "“glm.fit: algorithm did not converge”Warning message in predict.lm(object, newdata, se.fit, scale = 1, type = if (type == :\n",
      "“prediction from a rank-deficient fit may be misleading”Warning message:\n",
      "“glm.fit: algorithm did not converge”Warning message in predict.lm(object, newdata, se.fit, scale = 1, type = if (type == :\n",
      "“prediction from a rank-deficient fit may be misleading”Warning message:\n",
      "“glm.fit: algorithm did not converge”Warning message in predict.lm(object, newdata, se.fit, scale = 1, type = if (type == :\n",
      "“prediction from a rank-deficient fit may be misleading”Warning message:\n",
      "“glm.fit: algorithm did not converge”Warning message in predict.lm(object, newdata, se.fit, scale = 1, type = if (type == :\n",
      "“prediction from a rank-deficient fit may be misleading”Warning message:\n",
      "“glm.fit: algorithm did not converge”Warning message in predict.lm(object, newdata, se.fit, scale = 1, type = if (type == :\n",
      "“prediction from a rank-deficient fit may be misleading”"
     ]
    }
   ],
   "source": [
    "results <- as.data.frame(cross_validation(data, 10))\n"
   ]
  },
  {
   "cell_type": "code",
   "execution_count": 9,
   "id": "217a2c94-314a-48c9-acb6-a5741fd77538",
   "metadata": {},
   "outputs": [
    {
     "name": "stderr",
     "output_type": "stream",
     "text": [
      "`stat_bin()` using `bins = 30`. Pick better value with `binwidth`.\n"
     ]
    },
    {
     "data": {
      "image/png": "[encoded data removed]",
      "text/plain": [
       "plot without title"
      ]
     },
     "metadata": {},
     "output_type": "display_data"
    }
   ],
   "source": [
    "ggplot(data = results)+\n",
    "geom_histogram(aes(x = predicted))"
   ]
  },
  {
   "cell_type": "code",
   "execution_count": 10,
   "id": "3ab8cd2f-63c0-43e7-900f-5addf8983803",
   "metadata": {},
   "outputs": [
    {
     "data": {
      "text/html": [
       "<table>\n",
       "<thead><tr><th scope=col>observed</th><th scope=col>predicted</th></tr></thead>\n",
       "<tbody>\n",
       "\t<tr><td>1           </td><td>2.220446e-16</td></tr>\n",
       "\t<tr><td>1           </td><td>1.000000e+00</td></tr>\n",
       "\t<tr><td>1           </td><td>1.000000e+00</td></tr>\n",
       "\t<tr><td>1           </td><td>1.000000e+00</td></tr>\n",
       "\t<tr><td>1           </td><td>1.000000e+00</td></tr>\n",
       "\t<tr><td>1           </td><td>2.220446e-16</td></tr>\n",
       "\t<tr><td>1           </td><td>2.220446e-16</td></tr>\n",
       "\t<tr><td>1           </td><td>1.000000e+00</td></tr>\n",
       "\t<tr><td>1           </td><td>1.000000e+00</td></tr>\n",
       "\t<tr><td>1           </td><td>1.000000e+00</td></tr>\n",
       "\t<tr><td>1           </td><td>7.643981e-11</td></tr>\n",
       "\t<tr><td>1           </td><td>1.000000e+00</td></tr>\n",
       "\t<tr><td>1           </td><td>2.220446e-16</td></tr>\n",
       "\t<tr><td>1           </td><td>2.220446e-16</td></tr>\n",
       "\t<tr><td>1           </td><td>2.220446e-16</td></tr>\n",
       "\t<tr><td>1           </td><td>1.000000e+00</td></tr>\n",
       "\t<tr><td>1           </td><td>2.220446e-16</td></tr>\n",
       "\t<tr><td>1           </td><td>1.000000e+00</td></tr>\n",
       "\t<tr><td>1           </td><td>2.220446e-16</td></tr>\n",
       "\t<tr><td>1           </td><td>1.000000e+00</td></tr>\n",
       "\t<tr><td>1           </td><td>2.220446e-16</td></tr>\n",
       "\t<tr><td>1           </td><td>9.999999e-01</td></tr>\n",
       "\t<tr><td>1           </td><td>1.000000e+00</td></tr>\n",
       "\t<tr><td>1           </td><td>1.000000e+00</td></tr>\n",
       "\t<tr><td>1           </td><td>2.220446e-16</td></tr>\n",
       "\t<tr><td>1           </td><td>2.220446e-16</td></tr>\n",
       "\t<tr><td>1           </td><td>1.000000e+00</td></tr>\n",
       "\t<tr><td>1           </td><td>1.000000e+00</td></tr>\n",
       "\t<tr><td>1           </td><td>2.220446e-16</td></tr>\n",
       "\t<tr><td>1           </td><td>1.000000e+00</td></tr>\n",
       "\t<tr><td>...</td><td>...</td></tr>\n",
       "\t<tr><td>1           </td><td>1.000000e+00</td></tr>\n",
       "\t<tr><td>1           </td><td>1.000000e+00</td></tr>\n",
       "\t<tr><td>1           </td><td>2.220446e-16</td></tr>\n",
       "\t<tr><td>1           </td><td>2.220446e-16</td></tr>\n",
       "\t<tr><td>1           </td><td>2.220446e-16</td></tr>\n",
       "\t<tr><td>1           </td><td>2.220446e-16</td></tr>\n",
       "\t<tr><td>1           </td><td>2.220446e-16</td></tr>\n",
       "\t<tr><td>1           </td><td>1.000000e+00</td></tr>\n",
       "\t<tr><td>1           </td><td>2.220446e-16</td></tr>\n",
       "\t<tr><td>1           </td><td>2.220446e-16</td></tr>\n",
       "\t<tr><td>1           </td><td>1.000000e+00</td></tr>\n",
       "\t<tr><td>1           </td><td>1.000000e+00</td></tr>\n",
       "\t<tr><td>1           </td><td>1.000000e+00</td></tr>\n",
       "\t<tr><td>1           </td><td>2.220446e-16</td></tr>\n",
       "\t<tr><td>1           </td><td>2.220446e-16</td></tr>\n",
       "\t<tr><td>1           </td><td>2.220446e-16</td></tr>\n",
       "\t<tr><td>1           </td><td>5.342819e-07</td></tr>\n",
       "\t<tr><td>1           </td><td>1.000000e+00</td></tr>\n",
       "\t<tr><td>1           </td><td>2.220446e-16</td></tr>\n",
       "\t<tr><td>1           </td><td>1.000000e+00</td></tr>\n",
       "\t<tr><td>1           </td><td>1.000000e+00</td></tr>\n",
       "\t<tr><td>1           </td><td>1.000000e+00</td></tr>\n",
       "\t<tr><td>1           </td><td>1.000000e+00</td></tr>\n",
       "\t<tr><td>1           </td><td>1.000000e+00</td></tr>\n",
       "\t<tr><td>1           </td><td>2.220446e-16</td></tr>\n",
       "\t<tr><td>1           </td><td>2.220446e-16</td></tr>\n",
       "\t<tr><td>1           </td><td>2.220446e-16</td></tr>\n",
       "\t<tr><td>1           </td><td>2.220446e-16</td></tr>\n",
       "\t<tr><td>1           </td><td>1.000000e+00</td></tr>\n",
       "\t<tr><td>1           </td><td>1.000000e+00</td></tr>\n",
       "</tbody>\n",
       "</table>\n"
      ],
      "text/latex": [
       "\\begin{tabular}{r|ll}\n",
       " observed & predicted\\\\\n",
       "\\hline\n",
       "\t 1            & 2.220446e-16\\\\\n",
       "\t 1            & 1.000000e+00\\\\\n",
       "\t 1            & 1.000000e+00\\\\\n",
       "\t 1            & 1.000000e+00\\\\\n",
       "\t 1            & 1.000000e+00\\\\\n",
       "\t 1            & 2.220446e-16\\\\\n",
       "\t 1            & 2.220446e-16\\\\\n",
       "\t 1            & 1.000000e+00\\\\\n",
       "\t 1            & 1.000000e+00\\\\\n",
       "\t 1            & 1.000000e+00\\\\\n",
       "\t 1            & 7.643981e-11\\\\\n",
       "\t 1            & 1.000000e+00\\\\\n",
       "\t 1            & 2.220446e-16\\\\\n",
       "\t 1            & 2.220446e-16\\\\\n",
       "\t 1            & 2.220446e-16\\\\\n",
       "\t 1            & 1.000000e+00\\\\\n",
       "\t 1            & 2.220446e-16\\\\\n",
       "\t 1            & 1.000000e+00\\\\\n",
       "\t 1            & 2.220446e-16\\\\\n",
       "\t 1            & 1.000000e+00\\\\\n",
       "\t 1            & 2.220446e-16\\\\\n",
       "\t 1            & 9.999999e-01\\\\\n",
       "\t 1            & 1.000000e+00\\\\\n",
       "\t 1            & 1.000000e+00\\\\\n",
       "\t 1            & 2.220446e-16\\\\\n",
       "\t 1            & 2.220446e-16\\\\\n",
       "\t 1            & 1.000000e+00\\\\\n",
       "\t 1            & 1.000000e+00\\\\\n",
       "\t 1            & 2.220446e-16\\\\\n",
       "\t 1            & 1.000000e+00\\\\\n",
       "\t ... & ...\\\\\n",
       "\t 1            & 1.000000e+00\\\\\n",
       "\t 1            & 1.000000e+00\\\\\n",
       "\t 1            & 2.220446e-16\\\\\n",
       "\t 1            & 2.220446e-16\\\\\n",
       "\t 1            & 2.220446e-16\\\\\n",
       "\t 1            & 2.220446e-16\\\\\n",
       "\t 1            & 2.220446e-16\\\\\n",
       "\t 1            & 1.000000e+00\\\\\n",
       "\t 1            & 2.220446e-16\\\\\n",
       "\t 1            & 2.220446e-16\\\\\n",
       "\t 1            & 1.000000e+00\\\\\n",
       "\t 1            & 1.000000e+00\\\\\n",
       "\t 1            & 1.000000e+00\\\\\n",
       "\t 1            & 2.220446e-16\\\\\n",
       "\t 1            & 2.220446e-16\\\\\n",
       "\t 1            & 2.220446e-16\\\\\n",
       "\t 1            & 5.342819e-07\\\\\n",
       "\t 1            & 1.000000e+00\\\\\n",
       "\t 1            & 2.220446e-16\\\\\n",
       "\t 1            & 1.000000e+00\\\\\n",
       "\t 1            & 1.000000e+00\\\\\n",
       "\t 1            & 1.000000e+00\\\\\n",
       "\t 1            & 1.000000e+00\\\\\n",
       "\t 1            & 1.000000e+00\\\\\n",
       "\t 1            & 2.220446e-16\\\\\n",
       "\t 1            & 2.220446e-16\\\\\n",
       "\t 1            & 2.220446e-16\\\\\n",
       "\t 1            & 2.220446e-16\\\\\n",
       "\t 1            & 1.000000e+00\\\\\n",
       "\t 1            & 1.000000e+00\\\\\n",
       "\\end{tabular}\n"
      ],
      "text/markdown": [
       "\n",
       "| observed | predicted |\n",
       "|---|---|\n",
       "| 1            | 2.220446e-16 |\n",
       "| 1            | 1.000000e+00 |\n",
       "| 1            | 1.000000e+00 |\n",
       "| 1            | 1.000000e+00 |\n",
       "| 1            | 1.000000e+00 |\n",
       "| 1            | 2.220446e-16 |\n",
       "| 1            | 2.220446e-16 |\n",
       "| 1            | 1.000000e+00 |\n",
       "| 1            | 1.000000e+00 |\n",
       "| 1            | 1.000000e+00 |\n",
       "| 1            | 7.643981e-11 |\n",
       "| 1            | 1.000000e+00 |\n",
       "| 1            | 2.220446e-16 |\n",
       "| 1            | 2.220446e-16 |\n",
       "| 1            | 2.220446e-16 |\n",
       "| 1            | 1.000000e+00 |\n",
       "| 1            | 2.220446e-16 |\n",
       "| 1            | 1.000000e+00 |\n",
       "| 1            | 2.220446e-16 |\n",
       "| 1            | 1.000000e+00 |\n",
       "| 1            | 2.220446e-16 |\n",
       "| 1            | 9.999999e-01 |\n",
       "| 1            | 1.000000e+00 |\n",
       "| 1            | 1.000000e+00 |\n",
       "| 1            | 2.220446e-16 |\n",
       "| 1            | 2.220446e-16 |\n",
       "| 1            | 1.000000e+00 |\n",
       "| 1            | 1.000000e+00 |\n",
       "| 1            | 2.220446e-16 |\n",
       "| 1            | 1.000000e+00 |\n",
       "| ... | ... |\n",
       "| 1            | 1.000000e+00 |\n",
       "| 1            | 1.000000e+00 |\n",
       "| 1            | 2.220446e-16 |\n",
       "| 1            | 2.220446e-16 |\n",
       "| 1            | 2.220446e-16 |\n",
       "| 1            | 2.220446e-16 |\n",
       "| 1            | 2.220446e-16 |\n",
       "| 1            | 1.000000e+00 |\n",
       "| 1            | 2.220446e-16 |\n",
       "| 1            | 2.220446e-16 |\n",
       "| 1            | 1.000000e+00 |\n",
       "| 1            | 1.000000e+00 |\n",
       "| 1            | 1.000000e+00 |\n",
       "| 1            | 2.220446e-16 |\n",
       "| 1            | 2.220446e-16 |\n",
       "| 1            | 2.220446e-16 |\n",
       "| 1            | 5.342819e-07 |\n",
       "| 1            | 1.000000e+00 |\n",
       "| 1            | 2.220446e-16 |\n",
       "| 1            | 1.000000e+00 |\n",
       "| 1            | 1.000000e+00 |\n",
       "| 1            | 1.000000e+00 |\n",
       "| 1            | 1.000000e+00 |\n",
       "| 1            | 1.000000e+00 |\n",
       "| 1            | 2.220446e-16 |\n",
       "| 1            | 2.220446e-16 |\n",
       "| 1            | 2.220446e-16 |\n",
       "| 1            | 2.220446e-16 |\n",
       "| 1            | 1.000000e+00 |\n",
       "| 1            | 1.000000e+00 |\n",
       "\n"
      ],
      "text/plain": [
       "    observed predicted   \n",
       "1   1        2.220446e-16\n",
       "2   1        1.000000e+00\n",
       "3   1        1.000000e+00\n",
       "4   1        1.000000e+00\n",
       "5   1        1.000000e+00\n",
       "6   1        2.220446e-16\n",
       "7   1        2.220446e-16\n",
       "8   1        1.000000e+00\n",
       "9   1        1.000000e+00\n",
       "10  1        1.000000e+00\n",
       "11  1        7.643981e-11\n",
       "12  1        1.000000e+00\n",
       "13  1        2.220446e-16\n",
       "14  1        2.220446e-16\n",
       "15  1        2.220446e-16\n",
       "16  1        1.000000e+00\n",
       "17  1        2.220446e-16\n",
       "18  1        1.000000e+00\n",
       "19  1        2.220446e-16\n",
       "20  1        1.000000e+00\n",
       "21  1        2.220446e-16\n",
       "22  1        9.999999e-01\n",
       "23  1        1.000000e+00\n",
       "24  1        1.000000e+00\n",
       "25  1        2.220446e-16\n",
       "26  1        2.220446e-16\n",
       "27  1        1.000000e+00\n",
       "28  1        1.000000e+00\n",
       "29  1        2.220446e-16\n",
       "30  1        1.000000e+00\n",
       "... ...      ...         \n",
       "444 1        1.000000e+00\n",
       "445 1        1.000000e+00\n",
       "446 1        2.220446e-16\n",
       "447 1        2.220446e-16\n",
       "448 1        2.220446e-16\n",
       "449 1        2.220446e-16\n",
       "450 1        2.220446e-16\n",
       "451 1        1.000000e+00\n",
       "452 1        2.220446e-16\n",
       "453 1        2.220446e-16\n",
       "454 1        1.000000e+00\n",
       "455 1        1.000000e+00\n",
       "456 1        1.000000e+00\n",
       "457 1        2.220446e-16\n",
       "458 1        2.220446e-16\n",
       "459 1        2.220446e-16\n",
       "460 1        5.342819e-07\n",
       "461 1        1.000000e+00\n",
       "462 1        2.220446e-16\n",
       "463 1        1.000000e+00\n",
       "464 1        1.000000e+00\n",
       "465 1        1.000000e+00\n",
       "466 1        1.000000e+00\n",
       "467 1        1.000000e+00\n",
       "468 1        2.220446e-16\n",
       "469 1        2.220446e-16\n",
       "470 1        2.220446e-16\n",
       "471 1        2.220446e-16\n",
       "472 1        1.000000e+00\n",
       "473 1        1.000000e+00"
      ]
     },
     "metadata": {},
     "output_type": "display_data"
    }
   ],
   "source": [
    "(results)"
   ]
  },
  {
   "cell_type": "code",
   "execution_count": 11,
   "id": "0b2b5529-6113-4dd8-b76a-78e7a279e188",
   "metadata": {},
   "outputs": [
    {
     "name": "stderr",
     "output_type": "stream",
     "text": [
      "Setting levels: control = 0, case = 1\n",
      "Setting direction: controls < cases\n"
     ]
    }
   ],
   "source": [
    "roc.plot <- roc(results$observed, results$predicted)"
   ]
  },
  {
   "cell_type": "code",
   "execution_count": 12,
   "id": "610eeeba-7890-4fb6-ba80-5addd8dabf56",
   "metadata": {},
   "outputs": [
    {
     "data": {
      "image/png": "[encoded data removed]",
      "text/plain": [
       "plot without title"
      ]
     },
     "metadata": {},
     "output_type": "display_data"
    }
   ],
   "source": [
    "plot(roc.plot)"
   ]
  },
  {
   "cell_type": "code",
   "execution_count": 13,
   "id": "0e8702ff-5a55-439c-8fda-f36528f7edab",
   "metadata": {},
   "outputs": [
    {
     "data": {
      "text/html": [
       "0.522973698336017"
      ],
      "text/latex": [
       "0.522973698336017"
      ],
      "text/markdown": [
       "0.522973698336017"
      ],
      "text/plain": [
       "Area under the curve: 0.523"
      ]
     },
     "metadata": {},
     "output_type": "display_data"
    }
   ],
   "source": [
    "auc(roc.plot)"
   ]
  },
  {
   "cell_type": "code",
   "execution_count": null,
   "id": "088a3623-99fe-4916-aa66-f94522158cd7",
   "metadata": {},
   "outputs": [],
   "source": []
  },
  {
   "cell_type": "code",
   "execution_count": null,
   "id": "2a587d8c-370d-4a6d-b420-45065189f62e",
   "metadata": {},
   "outputs": [],
   "source": []
  }
 ],
 "metadata": {
  "kernelspec": {
   "display_name": "R",
   "language": "R",
   "name": "ir"
  },
  "language_info": {
   "codemirror_mode": "r",
   "file_extension": ".r",
   "mimetype": "text/x-r-source",
   "name": "R",
   "pygments_lexer": "r",
   "version": "3.6.1"
  }
 },
 "nbformat": 4,
 "nbformat_minor": 5
}
