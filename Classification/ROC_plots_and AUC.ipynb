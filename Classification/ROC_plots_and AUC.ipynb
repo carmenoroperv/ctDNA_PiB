{
 "cells": [
  {
   "cell_type": "code",
   "execution_count": null,
   "id": "c9152e35-42ad-44c0-b856-8b3f94c9c061",
   "metadata": {},
   "outputs": [],
   "source": []
  }
 ],
 "metadata": {
  "kernelspec": {
   "display_name": "R",
   "language": "R",
   "name": "ir"
  },
  "language_info": {
   "codemirror_mode": "r",
   "file_extension": ".r",
   "mimetype": "text/x-r-source",
   "name": "R",
   "pygments_lexer": "r",
   "version": "3.6.1"
  }
 },
 "nbformat": 4,
 "nbformat_minor": 5
}
