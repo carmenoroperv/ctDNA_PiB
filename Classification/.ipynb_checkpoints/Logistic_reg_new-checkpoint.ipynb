{
 "cells": [
  {
   "cell_type": "code",
   "execution_count": null,
   "id": "0a7212e1-146e-4107-a2a6-8429debcabc8",
   "metadata": {},
   "outputs": [],
   "source": [
    "library(tidyverse)\n",
    "library(pROC)"
   ]
  },
  {
   "cell_type": "code",
   "execution_count": null,
   "id": "75946acb-7935-42ab-a8cc-1574f3396e19",
   "metadata": {},
   "outputs": [],
   "source": [
    "lasso_pred <- read.csv(\"../data/ATAC_predictions_on_all_samples_NEW/ATAC_pred_lasso_std_TRUE_gaussian_formatted_standardized.csv\")\n",
    "#lasso_pred <-  read.csv(\"../data/all_samples_train_ATAC_predictions_on_all_samples/all_samples_ATAC_pred_lasso_std_TRUE_formatted_standardized.csv\")\n",
    "head(lasso_pred)"
   ]
  },
  {
   "cell_type": "code",
   "execution_count": 87,
   "id": "9e1a69c5-3ac6-4648-9f68-7454768f07f3",
   "metadata": {},
   "outputs": [
    {
     "data": {
      "text/html": [
       "<table>\n",
       "<thead><tr><th scope=col>sample</th><th scope=col>sample_type</th></tr></thead>\n",
       "<tbody>\n",
       "\t<tr><td>PGDX10344P1   </td><td>Gastric_cancer</td></tr>\n",
       "\t<tr><td>PGDX10346P1   </td><td>Gastric_cancer</td></tr>\n",
       "\t<tr><td>PGDX10349P1   </td><td>Gastric_cancer</td></tr>\n",
       "\t<tr><td>PGDX10351P1   </td><td>Gastric_cancer</td></tr>\n",
       "\t<tr><td>PGDX10566P    </td><td>Ovarian_Cancer</td></tr>\n",
       "\t<tr><td>PGDX10567P    </td><td>Ovarian_Cancer</td></tr>\n",
       "</tbody>\n",
       "</table>\n"
      ],
      "text/latex": [
       "\\begin{tabular}{r|ll}\n",
       " sample & sample\\_type\\\\\n",
       "\\hline\n",
       "\t PGDX10344P1      & Gastric\\_cancer\\\\\n",
       "\t PGDX10346P1      & Gastric\\_cancer\\\\\n",
       "\t PGDX10349P1      & Gastric\\_cancer\\\\\n",
       "\t PGDX10351P1      & Gastric\\_cancer\\\\\n",
       "\t PGDX10566P       & Ovarian\\_Cancer\\\\\n",
       "\t PGDX10567P       & Ovarian\\_Cancer\\\\\n",
       "\\end{tabular}\n"
      ],
      "text/markdown": [
       "\n",
       "| sample | sample_type |\n",
       "|---|---|\n",
       "| PGDX10344P1    | Gastric_cancer |\n",
       "| PGDX10346P1    | Gastric_cancer |\n",
       "| PGDX10349P1    | Gastric_cancer |\n",
       "| PGDX10351P1    | Gastric_cancer |\n",
       "| PGDX10566P     | Ovarian_Cancer |\n",
       "| PGDX10567P     | Ovarian_Cancer |\n",
       "\n"
      ],
      "text/plain": [
       "  sample      sample_type   \n",
       "1 PGDX10344P1 Gastric_cancer\n",
       "2 PGDX10346P1 Gastric_cancer\n",
       "3 PGDX10349P1 Gastric_cancer\n",
       "4 PGDX10351P1 Gastric_cancer\n",
       "5 PGDX10566P  Ovarian_Cancer\n",
       "6 PGDX10567P  Ovarian_Cancer"
      ]
     },
     "metadata": {},
     "output_type": "display_data"
    }
   ],
   "source": [
    "sample_types <- read.table(\"../data/sample_types.txt\", header = F, sep = \" \")\n",
    "colnames(sample_types) <- c(\"sample\", \"sample_type\")\n",
    "head(sample_types)"
   ]
  },
  {
   "cell_type": "code",
   "execution_count": 88,
   "id": "38db9102-93f3-4e24-ac17-211444533bb9",
   "metadata": {},
   "outputs": [
    {
     "name": "stderr",
     "output_type": "stream",
     "text": [
      "ERROR while rich displaying an object: Error in sprintf(wrap, header, body): 'fmt' length exceeds maximal format length 8192\n",
      "\n",
      "Traceback:\n",
      "1. FUN(X[[i]], ...)\n",
      "2. tryCatch(withCallingHandlers({\n",
      " .     if (!mime %in% names(repr::mime2repr)) \n",
      " .         stop(\"No repr_* for mimetype \", mime, \" in repr::mime2repr\")\n",
      " .     rpr <- repr::mime2repr[[mime]](obj)\n",
      " .     if (is.null(rpr)) \n",
      " .         return(NULL)\n",
      " .     prepare_content(is.raw(rpr), rpr)\n",
      " . }, error = error_handler), error = outer_handler)\n",
      "3. tryCatchList(expr, classes, parentenv, handlers)\n",
      "4. tryCatchOne(expr, names, parentenv, handlers[[1L]])\n",
      "5. doTryCatch(return(expr), name, parentenv, handler)\n",
      "6. withCallingHandlers({\n",
      " .     if (!mime %in% names(repr::mime2repr)) \n",
      " .         stop(\"No repr_* for mimetype \", mime, \" in repr::mime2repr\")\n",
      " .     rpr <- repr::mime2repr[[mime]](obj)\n",
      " .     if (is.null(rpr)) \n",
      " .         return(NULL)\n",
      " .     prepare_content(is.raw(rpr), rpr)\n",
      " . }, error = error_handler)\n",
      "7. repr::mime2repr[[mime]](obj)\n",
      "8. repr_latex.data.frame(obj)\n",
      "9. repr_matrix_generic(obj, sprintf(\"\\\\begin{tabular}{%s}\\n%%s%%s\\\\end{tabular}\\n\", \n",
      " .     cols), \"%s\\\\\\\\\\n\\\\hline\\n\", \"  &\", \" %s &\", \"%s\", \"\\t%s\\\\\\\\\\n\", \n",
      " .     \"%s &\", \" %s &\", escape_fun = latex_escape_vec, ...)\n",
      "10. sprintf(wrap, header, body)\n"
     ]
    },
    {
     "data": {
      "text/html": [
       "<table>\n",
       "<thead><tr><th scope=col>sample</th><th scope=col>chr10_400</th><th scope=col>chr10_40</th><th scope=col>chr10_4</th><th scope=col>chr10_401</th><th scope=col>chr10_402</th><th scope=col>chr10_403</th><th scope=col>chr10_404</th><th scope=col>chr10_405</th><th scope=col>chr10_406</th><th scope=col>...</th><th scope=col>chr9_392</th><th scope=col>chr9_393</th><th scope=col>chr9_394</th><th scope=col>chr9_395</th><th scope=col>chr9_396</th><th scope=col>chr9_397</th><th scope=col>chr9_398</th><th scope=col>chr9_399</th><th scope=col>sample_type</th><th scope=col>sample_type01</th></tr></thead>\n",
       "<tbody>\n",
       "\t<tr><td>PGDX10344P1   </td><td>0.27223754    </td><td>-0.6366902    </td><td>1.2137473     </td><td>-0.6654708    </td><td>-0.5183008    </td><td>-0.7078976    </td><td> 0.1641698    </td><td>0.2293660     </td><td>0.2003228     </td><td>...           </td><td> 0.1290058    </td><td>-0.359563150  </td><td>-0.2602449    </td><td>-0.17352024   </td><td>0.5408253     </td><td>-0.7039782    </td><td>1.1861327     </td><td>-0.056643117  </td><td>Gastric_cancer</td><td>1             </td></tr>\n",
       "\t<tr><td>PGDX10346P1   </td><td>1.24631716    </td><td>-0.9075229    </td><td>1.0278792     </td><td>-0.5839138    </td><td>-0.8435046    </td><td>-0.5449494    </td><td>-0.0728679    </td><td>0.9166099     </td><td>0.3220394     </td><td>...           </td><td>-0.3680952    </td><td>-0.556208900  </td><td> 0.1444838    </td><td> 0.18327001   </td><td>1.1914820     </td><td> 0.8236504    </td><td>0.3193643     </td><td>-0.593516082  </td><td>Gastric_cancer</td><td>1             </td></tr>\n",
       "\t<tr><td>PGDX10349P1   </td><td>0.03297522    </td><td>-1.0322496    </td><td>0.3571271     </td><td>-1.0992597    </td><td>-0.7967363    </td><td>-0.8963148    </td><td>-0.1357113    </td><td>0.5090801     </td><td>2.3844655     </td><td>...           </td><td> 0.4867497    </td><td>-0.127469497  </td><td> 0.4264480    </td><td> 0.20684282   </td><td>0.9346272     </td><td> 0.5358488    </td><td>1.6885913     </td><td>-0.006215963  </td><td>Gastric_cancer</td><td>1             </td></tr>\n",
       "\t<tr><td>PGDX10351P1   </td><td>1.31702796    </td><td>-1.3349392    </td><td>0.4140159     </td><td>-1.1753077    </td><td>-0.7531061    </td><td>-0.3032332    </td><td>-0.4108947    </td><td>0.9613984     </td><td>0.4711191     </td><td>...           </td><td> 0.8274764    </td><td> 0.004663712  </td><td> 0.5770993    </td><td> 0.03634866   </td><td>1.1552715     </td><td> 0.3505144    </td><td>1.3919281     </td><td>-0.192099665  </td><td>Gastric_cancer</td><td>1             </td></tr>\n",
       "\t<tr><td>PGDX10566P    </td><td>0.40465273    </td><td>-1.0539605    </td><td>1.0855996     </td><td>-1.0025979    </td><td>-0.3988881    </td><td>-0.7227251    </td><td>-0.2766151    </td><td>0.8097108     </td><td>0.5689624     </td><td>...           </td><td> 0.2858847    </td><td>-0.852019999  </td><td> 0.4067949    </td><td>-0.16572872   </td><td>0.1759031     </td><td> 0.4305257    </td><td>1.2834310     </td><td>-0.521888896  </td><td>Ovarian_Cancer</td><td>1             </td></tr>\n",
       "\t<tr><td>PGDX10567P    </td><td>1.02529233    </td><td>-0.6434845    </td><td>1.1473184     </td><td>-0.1283228    </td><td>-0.6914708    </td><td>-0.7259852    </td><td> 0.1594445    </td><td>0.6330330     </td><td>0.7070717     </td><td>...           </td><td>-0.2560465    </td><td>-0.796117825  </td><td> 0.2689579    </td><td> 0.14144504   </td><td>0.2245403     </td><td> 0.2716472    </td><td>1.7694574     </td><td>-0.638358491  </td><td>Ovarian_Cancer</td><td>1             </td></tr>\n",
       "</tbody>\n",
       "</table>\n"
      ],
      "text/markdown": [
       "\n",
       "| sample | chr10_400 | chr10_40 | chr10_4 | chr10_401 | chr10_402 | chr10_403 | chr10_404 | chr10_405 | chr10_406 | ... | chr9_392 | chr9_393 | chr9_394 | chr9_395 | chr9_396 | chr9_397 | chr9_398 | chr9_399 | sample_type | sample_type01 |\n",
       "|---|---|---|---|---|---|---|---|---|---|---|---|---|---|---|---|---|---|---|---|---|\n",
       "| PGDX10344P1    | 0.27223754     | -0.6366902     | 1.2137473      | -0.6654708     | -0.5183008     | -0.7078976     |  0.1641698     | 0.2293660      | 0.2003228      | ...            |  0.1290058     | -0.359563150   | -0.2602449     | -0.17352024    | 0.5408253      | -0.7039782     | 1.1861327      | -0.056643117   | Gastric_cancer | 1              |\n",
       "| PGDX10346P1    | 1.24631716     | -0.9075229     | 1.0278792      | -0.5839138     | -0.8435046     | -0.5449494     | -0.0728679     | 0.9166099      | 0.3220394      | ...            | -0.3680952     | -0.556208900   |  0.1444838     |  0.18327001    | 1.1914820      |  0.8236504     | 0.3193643      | -0.593516082   | Gastric_cancer | 1              |\n",
       "| PGDX10349P1    | 0.03297522     | -1.0322496     | 0.3571271      | -1.0992597     | -0.7967363     | -0.8963148     | -0.1357113     | 0.5090801      | 2.3844655      | ...            |  0.4867497     | -0.127469497   |  0.4264480     |  0.20684282    | 0.9346272      |  0.5358488     | 1.6885913      | -0.006215963   | Gastric_cancer | 1              |\n",
       "| PGDX10351P1    | 1.31702796     | -1.3349392     | 0.4140159      | -1.1753077     | -0.7531061     | -0.3032332     | -0.4108947     | 0.9613984      | 0.4711191      | ...            |  0.8274764     |  0.004663712   |  0.5770993     |  0.03634866    | 1.1552715      |  0.3505144     | 1.3919281      | -0.192099665   | Gastric_cancer | 1              |\n",
       "| PGDX10566P     | 0.40465273     | -1.0539605     | 1.0855996      | -1.0025979     | -0.3988881     | -0.7227251     | -0.2766151     | 0.8097108      | 0.5689624      | ...            |  0.2858847     | -0.852019999   |  0.4067949     | -0.16572872    | 0.1759031      |  0.4305257     | 1.2834310      | -0.521888896   | Ovarian_Cancer | 1              |\n",
       "| PGDX10567P     | 1.02529233     | -0.6434845     | 1.1473184      | -0.1283228     | -0.6914708     | -0.7259852     |  0.1594445     | 0.6330330      | 0.7070717      | ...            | -0.2560465     | -0.796117825   |  0.2689579     |  0.14144504    | 0.2245403      |  0.2716472     | 1.7694574      | -0.638358491   | Ovarian_Cancer | 1              |\n",
       "\n"
      ],
      "text/plain": [
       "  sample      chr10_400  chr10_40   chr10_4   chr10_401  chr10_402  chr10_403 \n",
       "1 PGDX10344P1 0.27223754 -0.6366902 1.2137473 -0.6654708 -0.5183008 -0.7078976\n",
       "2 PGDX10346P1 1.24631716 -0.9075229 1.0278792 -0.5839138 -0.8435046 -0.5449494\n",
       "3 PGDX10349P1 0.03297522 -1.0322496 0.3571271 -1.0992597 -0.7967363 -0.8963148\n",
       "4 PGDX10351P1 1.31702796 -1.3349392 0.4140159 -1.1753077 -0.7531061 -0.3032332\n",
       "5 PGDX10566P  0.40465273 -1.0539605 1.0855996 -1.0025979 -0.3988881 -0.7227251\n",
       "6 PGDX10567P  1.02529233 -0.6434845 1.1473184 -0.1283228 -0.6914708 -0.7259852\n",
       "  chr10_404  chr10_405 chr10_406 ... chr9_392   chr9_393     chr9_394  \n",
       "1  0.1641698 0.2293660 0.2003228 ...  0.1290058 -0.359563150 -0.2602449\n",
       "2 -0.0728679 0.9166099 0.3220394 ... -0.3680952 -0.556208900  0.1444838\n",
       "3 -0.1357113 0.5090801 2.3844655 ...  0.4867497 -0.127469497  0.4264480\n",
       "4 -0.4108947 0.9613984 0.4711191 ...  0.8274764  0.004663712  0.5770993\n",
       "5 -0.2766151 0.8097108 0.5689624 ...  0.2858847 -0.852019999  0.4067949\n",
       "6  0.1594445 0.6330330 0.7070717 ... -0.2560465 -0.796117825  0.2689579\n",
       "  chr9_395    chr9_396  chr9_397   chr9_398  chr9_399     sample_type   \n",
       "1 -0.17352024 0.5408253 -0.7039782 1.1861327 -0.056643117 Gastric_cancer\n",
       "2  0.18327001 1.1914820  0.8236504 0.3193643 -0.593516082 Gastric_cancer\n",
       "3  0.20684282 0.9346272  0.5358488 1.6885913 -0.006215963 Gastric_cancer\n",
       "4  0.03634866 1.1552715  0.3505144 1.3919281 -0.192099665 Gastric_cancer\n",
       "5 -0.16572872 0.1759031  0.4305257 1.2834310 -0.521888896 Ovarian_Cancer\n",
       "6  0.14144504 0.2245403  0.2716472 1.7694574 -0.638358491 Ovarian_Cancer\n",
       "  sample_type01\n",
       "1 1            \n",
       "2 1            \n",
       "3 1            \n",
       "4 1            \n",
       "5 1            \n",
       "6 1            "
      ]
     },
     "metadata": {},
     "output_type": "display_data"
    }
   ],
   "source": [
    "data <- merge(lasso_pred, sample_types, by=\"sample\")\n",
    "data <- data %>% mutate(sample_type01 = ifelse(sample_type == \"Healthy\", 0, 1))\n",
    "head(data)"
   ]
  },
  {
   "cell_type": "code",
   "execution_count": 89,
   "id": "afe2403e-8519-4079-beaa-7b716d0f1640",
   "metadata": {},
   "outputs": [],
   "source": [
    "data <- data %>% select(-sample_type)"
   ]
  },
  {
   "cell_type": "code",
   "execution_count": 90,
   "id": "394c167b-c24b-4708-aad4-061ee371d9c4",
   "metadata": {},
   "outputs": [
    {
     "name": "stderr",
     "output_type": "stream",
     "text": [
      "ERROR while rich displaying an object: Error in sprintf(wrap, header, body): 'fmt' length exceeds maximal format length 8192\n",
      "\n",
      "Traceback:\n",
      "1. FUN(X[[i]], ...)\n",
      "2. tryCatch(withCallingHandlers({\n",
      " .     if (!mime %in% names(repr::mime2repr)) \n",
      " .         stop(\"No repr_* for mimetype \", mime, \" in repr::mime2repr\")\n",
      " .     rpr <- repr::mime2repr[[mime]](obj)\n",
      " .     if (is.null(rpr)) \n",
      " .         return(NULL)\n",
      " .     prepare_content(is.raw(rpr), rpr)\n",
      " . }, error = error_handler), error = outer_handler)\n",
      "3. tryCatchList(expr, classes, parentenv, handlers)\n",
      "4. tryCatchOne(expr, names, parentenv, handlers[[1L]])\n",
      "5. doTryCatch(return(expr), name, parentenv, handler)\n",
      "6. withCallingHandlers({\n",
      " .     if (!mime %in% names(repr::mime2repr)) \n",
      " .         stop(\"No repr_* for mimetype \", mime, \" in repr::mime2repr\")\n",
      " .     rpr <- repr::mime2repr[[mime]](obj)\n",
      " .     if (is.null(rpr)) \n",
      " .         return(NULL)\n",
      " .     prepare_content(is.raw(rpr), rpr)\n",
      " . }, error = error_handler)\n",
      "7. repr::mime2repr[[mime]](obj)\n",
      "8. repr_latex.data.frame(obj)\n",
      "9. repr_matrix_generic(obj, sprintf(\"\\\\begin{tabular}{%s}\\n%%s%%s\\\\end{tabular}\\n\", \n",
      " .     cols), \"%s\\\\\\\\\\n\\\\hline\\n\", \"  &\", \" %s &\", \"%s\", \"\\t%s\\\\\\\\\\n\", \n",
      " .     \"%s &\", \" %s &\", escape_fun = latex_escape_vec, ...)\n",
      "10. sprintf(wrap, header, body)\n"
     ]
    },
    {
     "data": {
      "text/html": [
       "<table>\n",
       "<thead><tr><th scope=col>chr10_400</th><th scope=col>chr10_40</th><th scope=col>chr10_4</th><th scope=col>chr10_401</th><th scope=col>chr10_402</th><th scope=col>chr10_403</th><th scope=col>chr10_404</th><th scope=col>chr10_405</th><th scope=col>chr10_406</th><th scope=col>chr10_407</th><th scope=col>...</th><th scope=col>chr9_391</th><th scope=col>chr9_392</th><th scope=col>chr9_393</th><th scope=col>chr9_394</th><th scope=col>chr9_395</th><th scope=col>chr9_396</th><th scope=col>chr9_397</th><th scope=col>chr9_398</th><th scope=col>chr9_399</th><th scope=col>sample_type01</th></tr></thead>\n",
       "<tbody>\n",
       "\t<tr><td>0.27223754  </td><td>-0.6366902  </td><td>1.2137473   </td><td>-0.6654708  </td><td>-0.5183008  </td><td>-0.7078976  </td><td> 0.1641698  </td><td>0.2293660   </td><td>0.2003228   </td><td>1.73708998  </td><td>...         </td><td>-0.3854629  </td><td> 0.1290058  </td><td>-0.359563150</td><td>-0.2602449  </td><td>-0.17352024 </td><td>0.5408253   </td><td>-0.7039782  </td><td>1.1861327   </td><td>-0.056643117</td><td>1           </td></tr>\n",
       "\t<tr><td>1.24631716  </td><td>-0.9075229  </td><td>1.0278792   </td><td>-0.5839138  </td><td>-0.8435046  </td><td>-0.5449494  </td><td>-0.0728679  </td><td>0.9166099   </td><td>0.3220394   </td><td>0.01790555  </td><td>...         </td><td>-0.1160405  </td><td>-0.3680952  </td><td>-0.556208900</td><td> 0.1444838  </td><td> 0.18327001 </td><td>1.1914820   </td><td> 0.8236504  </td><td>0.3193643   </td><td>-0.593516082</td><td>1           </td></tr>\n",
       "\t<tr><td>0.03297522  </td><td>-1.0322496  </td><td>0.3571271   </td><td>-1.0992597  </td><td>-0.7967363  </td><td>-0.8963148  </td><td>-0.1357113  </td><td>0.5090801   </td><td>2.3844655   </td><td>1.29893839  </td><td>...         </td><td> 1.2998441  </td><td> 0.4867497  </td><td>-0.127469497</td><td> 0.4264480  </td><td> 0.20684282 </td><td>0.9346272   </td><td> 0.5358488  </td><td>1.6885913   </td><td>-0.006215963</td><td>1           </td></tr>\n",
       "\t<tr><td>1.31702796  </td><td>-1.3349392  </td><td>0.4140159   </td><td>-1.1753077  </td><td>-0.7531061  </td><td>-0.3032332  </td><td>-0.4108947  </td><td>0.9613984   </td><td>0.4711191   </td><td>0.94208835  </td><td>...         </td><td> 0.4885932  </td><td> 0.8274764  </td><td> 0.004663712</td><td> 0.5770993  </td><td> 0.03634866 </td><td>1.1552715   </td><td> 0.3505144  </td><td>1.3919281   </td><td>-0.192099665</td><td>1           </td></tr>\n",
       "\t<tr><td>0.40465273  </td><td>-1.0539605  </td><td>1.0855996   </td><td>-1.0025979  </td><td>-0.3988881  </td><td>-0.7227251  </td><td>-0.2766151  </td><td>0.8097108   </td><td>0.5689624   </td><td>0.80554943  </td><td>...         </td><td> 0.0229283  </td><td> 0.2858847  </td><td>-0.852019999</td><td> 0.4067949  </td><td>-0.16572872 </td><td>0.1759031   </td><td> 0.4305257  </td><td>1.2834310   </td><td>-0.521888896</td><td>1           </td></tr>\n",
       "\t<tr><td>1.02529233  </td><td>-0.6434845  </td><td>1.1473184   </td><td>-0.1283228  </td><td>-0.6914708  </td><td>-0.7259852  </td><td> 0.1594445  </td><td>0.6330330   </td><td>0.7070717   </td><td>0.41826788  </td><td>...         </td><td> 0.6388329  </td><td>-0.2560465  </td><td>-0.796117825</td><td> 0.2689579  </td><td> 0.14144504 </td><td>0.2245403   </td><td> 0.2716472  </td><td>1.7694574   </td><td>-0.638358491</td><td>1           </td></tr>\n",
       "</tbody>\n",
       "</table>\n"
      ],
      "text/markdown": [
       "\n",
       "| chr10_400 | chr10_40 | chr10_4 | chr10_401 | chr10_402 | chr10_403 | chr10_404 | chr10_405 | chr10_406 | chr10_407 | ... | chr9_391 | chr9_392 | chr9_393 | chr9_394 | chr9_395 | chr9_396 | chr9_397 | chr9_398 | chr9_399 | sample_type01 |\n",
       "|---|---|---|---|---|---|---|---|---|---|---|---|---|---|---|---|---|---|---|---|---|\n",
       "| 0.27223754   | -0.6366902   | 1.2137473    | -0.6654708   | -0.5183008   | -0.7078976   |  0.1641698   | 0.2293660    | 0.2003228    | 1.73708998   | ...          | -0.3854629   |  0.1290058   | -0.359563150 | -0.2602449   | -0.17352024  | 0.5408253    | -0.7039782   | 1.1861327    | -0.056643117 | 1            |\n",
       "| 1.24631716   | -0.9075229   | 1.0278792    | -0.5839138   | -0.8435046   | -0.5449494   | -0.0728679   | 0.9166099    | 0.3220394    | 0.01790555   | ...          | -0.1160405   | -0.3680952   | -0.556208900 |  0.1444838   |  0.18327001  | 1.1914820    |  0.8236504   | 0.3193643    | -0.593516082 | 1            |\n",
       "| 0.03297522   | -1.0322496   | 0.3571271    | -1.0992597   | -0.7967363   | -0.8963148   | -0.1357113   | 0.5090801    | 2.3844655    | 1.29893839   | ...          |  1.2998441   |  0.4867497   | -0.127469497 |  0.4264480   |  0.20684282  | 0.9346272    |  0.5358488   | 1.6885913    | -0.006215963 | 1            |\n",
       "| 1.31702796   | -1.3349392   | 0.4140159    | -1.1753077   | -0.7531061   | -0.3032332   | -0.4108947   | 0.9613984    | 0.4711191    | 0.94208835   | ...          |  0.4885932   |  0.8274764   |  0.004663712 |  0.5770993   |  0.03634866  | 1.1552715    |  0.3505144   | 1.3919281    | -0.192099665 | 1            |\n",
       "| 0.40465273   | -1.0539605   | 1.0855996    | -1.0025979   | -0.3988881   | -0.7227251   | -0.2766151   | 0.8097108    | 0.5689624    | 0.80554943   | ...          |  0.0229283   |  0.2858847   | -0.852019999 |  0.4067949   | -0.16572872  | 0.1759031    |  0.4305257   | 1.2834310    | -0.521888896 | 1            |\n",
       "| 1.02529233   | -0.6434845   | 1.1473184    | -0.1283228   | -0.6914708   | -0.7259852   |  0.1594445   | 0.6330330    | 0.7070717    | 0.41826788   | ...          |  0.6388329   | -0.2560465   | -0.796117825 |  0.2689579   |  0.14144504  | 0.2245403    |  0.2716472   | 1.7694574    | -0.638358491 | 1            |\n",
       "\n"
      ],
      "text/plain": [
       "  chr10_400  chr10_40   chr10_4   chr10_401  chr10_402  chr10_403  chr10_404 \n",
       "1 0.27223754 -0.6366902 1.2137473 -0.6654708 -0.5183008 -0.7078976  0.1641698\n",
       "2 1.24631716 -0.9075229 1.0278792 -0.5839138 -0.8435046 -0.5449494 -0.0728679\n",
       "3 0.03297522 -1.0322496 0.3571271 -1.0992597 -0.7967363 -0.8963148 -0.1357113\n",
       "4 1.31702796 -1.3349392 0.4140159 -1.1753077 -0.7531061 -0.3032332 -0.4108947\n",
       "5 0.40465273 -1.0539605 1.0855996 -1.0025979 -0.3988881 -0.7227251 -0.2766151\n",
       "6 1.02529233 -0.6434845 1.1473184 -0.1283228 -0.6914708 -0.7259852  0.1594445\n",
       "  chr10_405 chr10_406 chr10_407  ... chr9_391   chr9_392   chr9_393    \n",
       "1 0.2293660 0.2003228 1.73708998 ... -0.3854629  0.1290058 -0.359563150\n",
       "2 0.9166099 0.3220394 0.01790555 ... -0.1160405 -0.3680952 -0.556208900\n",
       "3 0.5090801 2.3844655 1.29893839 ...  1.2998441  0.4867497 -0.127469497\n",
       "4 0.9613984 0.4711191 0.94208835 ...  0.4885932  0.8274764  0.004663712\n",
       "5 0.8097108 0.5689624 0.80554943 ...  0.0229283  0.2858847 -0.852019999\n",
       "6 0.6330330 0.7070717 0.41826788 ...  0.6388329 -0.2560465 -0.796117825\n",
       "  chr9_394   chr9_395    chr9_396  chr9_397   chr9_398  chr9_399    \n",
       "1 -0.2602449 -0.17352024 0.5408253 -0.7039782 1.1861327 -0.056643117\n",
       "2  0.1444838  0.18327001 1.1914820  0.8236504 0.3193643 -0.593516082\n",
       "3  0.4264480  0.20684282 0.9346272  0.5358488 1.6885913 -0.006215963\n",
       "4  0.5770993  0.03634866 1.1552715  0.3505144 1.3919281 -0.192099665\n",
       "5  0.4067949 -0.16572872 0.1759031  0.4305257 1.2834310 -0.521888896\n",
       "6  0.2689579  0.14144504 0.2245403  0.2716472 1.7694574 -0.638358491\n",
       "  sample_type01\n",
       "1 1            \n",
       "2 1            \n",
       "3 1            \n",
       "4 1            \n",
       "5 1            \n",
       "6 1            "
      ]
     },
     "metadata": {},
     "output_type": "display_data"
    }
   ],
   "source": [
    "data <- data %>% select(-sample)\n",
    "head(data)"
   ]
  },
  {
   "cell_type": "code",
   "execution_count": 91,
   "id": "ebcb5e90-3400-48c9-a2fe-de0b9a87153b",
   "metadata": {},
   "outputs": [],
   "source": [
    "cross_validation <- function(dataset, k=10){\n",
    "  \n",
    "  cvfolds <- cut(seq_len(nrow(dataset)), breaks = k, labels = F)\n",
    "  cvfolds <- sample(cvfolds)\n",
    "  \n",
    "  observed  <- dataset$sample_type01\n",
    "  predicted <- rep(NA, nrow(dataset))\n",
    "\n",
    "  \n",
    "  for (i in 1:k){\n",
    "    rows      <- which(cvfolds==i)\n",
    "    testdata  <- dataset[rows,]\n",
    "    testdata <- testdata %>% select(-sample_type01)\n",
    "    traindata <- dataset[-rows,]\n",
    "    fit       <- glm(sample_type01 ~ . , data = traindata, family=binomial(link='logit')) \n",
    "    tmp       <- as.data.frame(predict(fit, newdata = testdata, type = \"response\"))\n",
    "    colnames(tmp) <- c(\"probability\")\n",
    "    tmp <- tmp %>% mutate(response = ifelse(probability > 0.5,1, 0))\n",
    "    \n",
    "    predicted[rows] <- tmp$response\n",
    "  }\n",
    "  \n",
    "  #auc_result <- auc(observed, predicted)\n",
    "\n",
    "    results <- cbind(observed, predicted)\n",
    "\n",
    "  return(results)\n",
    "}"
   ]
  },
  {
   "cell_type": "code",
   "execution_count": 92,
   "id": "1fd852d7-f03b-412e-9e51-28bc81789dcb",
   "metadata": {},
   "outputs": [
    {
     "name": "stderr",
     "output_type": "stream",
     "text": [
      "Warning message:\n",
      "“glm.fit: algorithm did not converge”Warning message in predict.lm(object, newdata, se.fit, scale = 1, type = if (type == :\n",
      "“prediction from a rank-deficient fit may be misleading”Warning message:\n",
      "“glm.fit: algorithm did not converge”Warning message in predict.lm(object, newdata, se.fit, scale = 1, type = if (type == :\n",
      "“prediction from a rank-deficient fit may be misleading”Warning message:\n",
      "“glm.fit: algorithm did not converge”Warning message in predict.lm(object, newdata, se.fit, scale = 1, type = if (type == :\n",
      "“prediction from a rank-deficient fit may be misleading”Warning message:\n",
      "“glm.fit: algorithm did not converge”Warning message in predict.lm(object, newdata, se.fit, scale = 1, type = if (type == :\n",
      "“prediction from a rank-deficient fit may be misleading”Warning message:\n",
      "“glm.fit: algorithm did not converge”Warning message in predict.lm(object, newdata, se.fit, scale = 1, type = if (type == :\n",
      "“prediction from a rank-deficient fit may be misleading”Warning message:\n",
      "“glm.fit: algorithm did not converge”Warning message in predict.lm(object, newdata, se.fit, scale = 1, type = if (type == :\n",
      "“prediction from a rank-deficient fit may be misleading”Warning message:\n",
      "“glm.fit: algorithm did not converge”Warning message in predict.lm(object, newdata, se.fit, scale = 1, type = if (type == :\n",
      "“prediction from a rank-deficient fit may be misleading”Warning message:\n",
      "“glm.fit: algorithm did not converge”Warning message in predict.lm(object, newdata, se.fit, scale = 1, type = if (type == :\n",
      "“prediction from a rank-deficient fit may be misleading”Warning message:\n",
      "“glm.fit: algorithm did not converge”Warning message in predict.lm(object, newdata, se.fit, scale = 1, type = if (type == :\n",
      "“prediction from a rank-deficient fit may be misleading”Warning message:\n",
      "“glm.fit: algorithm did not converge”Warning message in predict.lm(object, newdata, se.fit, scale = 1, type = if (type == :\n",
      "“prediction from a rank-deficient fit may be misleading”"
     ]
    },
    {
     "data": {
      "text/html": [
       "<table>\n",
       "<thead><tr><th scope=col>observed</th><th scope=col>predicted</th></tr></thead>\n",
       "<tbody>\n",
       "\t<tr><td>1</td><td>0</td></tr>\n",
       "\t<tr><td>1</td><td>1</td></tr>\n",
       "\t<tr><td>1</td><td>1</td></tr>\n",
       "\t<tr><td>1</td><td>0</td></tr>\n",
       "\t<tr><td>1</td><td>1</td></tr>\n",
       "\t<tr><td>1</td><td>0</td></tr>\n",
       "</tbody>\n",
       "</table>\n"
      ],
      "text/latex": [
       "\\begin{tabular}{r|ll}\n",
       " observed & predicted\\\\\n",
       "\\hline\n",
       "\t 1 & 0\\\\\n",
       "\t 1 & 1\\\\\n",
       "\t 1 & 1\\\\\n",
       "\t 1 & 0\\\\\n",
       "\t 1 & 1\\\\\n",
       "\t 1 & 0\\\\\n",
       "\\end{tabular}\n"
      ],
      "text/markdown": [
       "\n",
       "| observed | predicted |\n",
       "|---|---|\n",
       "| 1 | 0 |\n",
       "| 1 | 1 |\n",
       "| 1 | 1 |\n",
       "| 1 | 0 |\n",
       "| 1 | 1 |\n",
       "| 1 | 0 |\n",
       "\n"
      ],
      "text/plain": [
       "  observed predicted\n",
       "1 1        0        \n",
       "2 1        1        \n",
       "3 1        1        \n",
       "4 1        0        \n",
       "5 1        1        \n",
       "6 1        0        "
      ]
     },
     "metadata": {},
     "output_type": "display_data"
    }
   ],
   "source": [
    "results <- as.data.frame(cross_validation(data, 10))\n",
    "head(results)"
   ]
  },
  {
   "cell_type": "code",
   "execution_count": 93,
   "id": "0b2b5529-6113-4dd8-b76a-78e7a279e188",
   "metadata": {},
   "outputs": [
    {
     "name": "stderr",
     "output_type": "stream",
     "text": [
      "Setting levels: control = 0, case = 1\n",
      "Setting direction: controls < cases\n"
     ]
    }
   ],
   "source": [
    "roc.plot <- roc(results$observed, results$predicted)"
   ]
  },
  {
   "cell_type": "code",
   "execution_count": 94,
   "id": "610eeeba-7890-4fb6-ba80-5addd8dabf56",
   "metadata": {},
   "outputs": [
    {
     "data": {
      "image/png": "[encoded data removed]",
      "text/plain": [
       "plot without title"
      ]
     },
     "metadata": {},
     "output_type": "display_data"
    }
   ],
   "source": [
    "plot(roc.plot)"
   ]
  },
  {
   "cell_type": "code",
   "execution_count": 95,
   "id": "0e8702ff-5a55-439c-8fda-f36528f7edab",
   "metadata": {},
   "outputs": [
    {
     "data": {
      "text/html": [
       "0.511084272678476"
      ],
      "text/latex": [
       "0.511084272678476"
      ],
      "text/markdown": [
       "0.511084272678476"
      ],
      "text/plain": [
       "Area under the curve: 0.5111"
      ]
     },
     "metadata": {},
     "output_type": "display_data"
    }
   ],
   "source": [
    "auc(roc.plot)"
   ]
  },
  {
   "cell_type": "code",
   "execution_count": null,
   "id": "088a3623-99fe-4916-aa66-f94522158cd7",
   "metadata": {},
   "outputs": [],
   "source": []
  }
 ],
 "metadata": {
  "kernelspec": {
   "display_name": "R",
   "language": "R",
   "name": "ir"
  },
  "language_info": {
   "codemirror_mode": "r",
   "file_extension": ".r",
   "mimetype": "text/x-r-source",
   "name": "R",
   "pygments_lexer": "r",
   "version": "3.6.1"
  }
 },
 "nbformat": 4,
 "nbformat_minor": 5
}
