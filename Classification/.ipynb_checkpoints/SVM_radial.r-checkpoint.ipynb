{
 "cells": [
  {
   "cell_type": "code",
   "execution_count": null,
   "id": "99fb5823-865d-4c34-80f5-42a82e1408a8",
   "metadata": {},
   "outputs": [],
   "source": [
    "library(tidyverse)\n",
    "library(gbm)\n",
    "install.packages(\"caret\")\n",
    "library(caret)\n",
    "library(pROC)\n",
    "install.packages(\"kernlab\")\n",
    "library(kernlab)"
   ]
  },
  {
   "cell_type": "code",
   "execution_count": null,
   "id": "455de727-bda0-44ad-a126-ed428a3af24c",
   "metadata": {},
   "outputs": [],
   "source": [
    "ATAC_pred <-  readRDS(snakemake@input[[\"input_predictions\"]])\n",
    "head(ATAC_pred)"
   ]
  },
  {
   "cell_type": "code",
   "execution_count": null,
   "id": "7de4b2ce-6c1c-49bb-a855-975d8a22a08c",
   "metadata": {},
   "outputs": [],
   "source": [
    "#input_sample_type <- as.character(snakemake@input[[\"input_sample_type\"]])\n",
    "sample_types <- readRDS(file = snakemake@input[[\"input_sample_types\"]])\n",
    "colnames(sample_types) <- c(\"sample\", \"sample_type\")\n",
    "head(sample_types)"
   ]
  },
  {
   "cell_type": "code",
   "execution_count": null,
   "id": "f7efb286-12dd-4df8-bcb7-88138bd2ddde",
   "metadata": {},
   "outputs": [],
   "source": [
    "data <- merge(ATAC_pred, sample_types, by=\"sample\")\n",
    "data <- data %>% mutate(sample_type01 = ifelse(sample_type == \"Healthy\", \"Healthy\", \"Cancer\"))\n",
    "head(data)"
   ]
  },
  {
   "cell_type": "code",
   "execution_count": null,
   "id": "71fe8c5b-33f4-45fc-9d31-db42c3cda648",
   "metadata": {},
   "outputs": [],
   "source": [
    "data <- data %>% select(-sample_type)"
   ]
  },
  {
   "cell_type": "code",
   "execution_count": null,
   "id": "958e8466-d2e0-4e24-9371-cb95aacacca3",
   "metadata": {},
   "outputs": [],
   "source": [
    "data <- data %>% select(-sample)\n",
    "head(data)"
   ]
  },
  {
   "cell_type": "code",
   "execution_count": null,
   "id": "878936fe-95e9-4b1b-836d-e9132c0a50bb",
   "metadata": {},
   "outputs": [],
   "source": [
    "str(data$sample_type01)"
   ]
  },
  {
   "cell_type": "code",
   "execution_count": null,
   "id": "e8a55c41-fbc1-45f7-ba24-e6dedb3c66e1",
   "metadata": {},
   "outputs": [],
   "source": [
    "data$sample_type01 <- as.factor(data$sample_type01)"
   ]
  },
  {
   "cell_type": "code",
   "execution_count": null,
   "id": "67070f68-f648-4bfc-ba58-89ae7948079a",
   "metadata": {},
   "outputs": [],
   "source": [
    "levels(data$sample_type01)"
   ]
  },
  {
   "cell_type": "code",
   "execution_count": null,
   "id": "67f96597-7562-48b7-9484-4d1f194844b4",
   "metadata": {},
   "outputs": [],
   "source": [
    "cross_validation <- function(dataset, k_inner_cv, k_outer_cv){\n",
    "    \n",
    "    observed  <- dataset$sample_type01\n",
    "   \n",
    "    return_tibble <- tibble(observed = observed)\n",
    "    \n",
    "    for (i in 1:k_outer_cv){ # repeated Cross-validation loop\n",
    "    \n",
    "    set.seed(i)\n",
    "    cvfolds <- cut(seq_len(nrow(dataset)), breaks = k_inner_cv, labels = F)\n",
    "    cvfolds <- sample(cvfolds)\n",
    "\n",
    "    predicted <- rep(NA, nrow(dataset))\n",
    "    \n",
    "        for (n in 1:k_inner_cv){\n",
    "            rows      <- which(cvfolds==n)\n",
    "            testdata  <- dataset[rows,]\n",
    "            testlabels <- testdata$sample_type01\n",
    "            testdata <- testdata %>% select(-sample_type01)\n",
    "            \n",
    "            traindata <- dataset\n",
    "         \n",
    "            traindata <- dataset[-rows,]\n",
    "           \n",
    "            trainlabels <- traindata$sample_type01\n",
    "            #traindata <- traindata %>% select(-sample_type01)\n",
    "\n",
    " \n",
    "            ################# Nested cross validation #######################\n",
    "            set.seed(0)\n",
    "            seeds <- vector(mode = \"list\", length = 11)\n",
    "            for(i in 1:10) seeds[[i]]<- sample.int(n=1000, 20)\n",
    "            #for the last model\n",
    "            seeds[[11]]<-sample.int(1000, 1)\n",
    "\n",
    "            trControl_svm <- trainControl(method = \"repeatedcv\", \n",
    "                                          seeds = seeds,\n",
    "                                          number = 10, \n",
    "                                          repeats = 1, \n",
    "                                          classProbs = TRUE,\n",
    "                                          verboseIter = ifelse(is.null(getOption('knitr.in.progress')), TRUE, FALSE))\n",
    "\n",
    "            #svmGrid <- expand.grid(C = c(0.01, 0.1, 0.5, 1, 2, 3, 4, 5, 6, 7))\n",
    "\n",
    "            fit <- train(sample_type01 ~ .,\n",
    "                         data = traindata, \n",
    "                         method = \"svmRadial\",\n",
    "                         tuneLength = 10,\n",
    "                         trControl = trControl_svm,\n",
    "                         preProc = c(\"center\", \"scale\"),\n",
    "                         verbose=F)\n",
    "            \n",
    "            message(plot(fit))\n",
    "            message(\"besttune\")\n",
    "            message(fit$bestTune)\n",
    "            message(\"fit\")\n",
    "            message(fit)\n",
    "            #################################################################\n",
    "            #message(fit)\n",
    "\n",
    "            fitControl <- trainControl(classProbs = TRUE)\n",
    "            fit2 <- train(sample_type01 ~ .,\n",
    "                         data = traindata,\n",
    "                         method =  \"svmRadial\",\n",
    "                         trControl = fitControl,\n",
    "                         verbose = FALSE,\n",
    "                         tuneGrid = data.frame(C = fit$bestTune$C, \n",
    "                                               sigma = fit$bestTune$sigma),\n",
    "                         preProc = c(\"center\", \"scale\"))\n",
    "            predicted[rows] <- predict(fit2, newdata = testdata, type = \"prob\")[,2]\n",
    "        \n",
    "    }\n",
    "    current_round_tibble <- tibble(predicted = predicted)\n",
    "    return_tibble <- cbind(return_tibble, current_round_tibble)\n",
    "    } # end of outer cv loop\n",
    "    \n",
    "    return(return_tibble)\n",
    "}"
   ]
  },
  {
   "cell_type": "code",
   "execution_count": null,
   "id": "d30e056b-2530-429b-be5b-deaf52439ac1",
   "metadata": {},
   "outputs": [],
   "source": [
    "results <- cross_validation(data, k_inner_cv = 10, k_outer_cv = 10)"
   ]
  },
  {
   "cell_type": "code",
   "execution_count": null,
   "id": "e8d336f5-70fe-41ca-adfc-0d966a0382ae",
   "metadata": {},
   "outputs": [],
   "source": [
    "head(results)"
   ]
  },
  {
   "cell_type": "code",
   "execution_count": null,
   "id": "561679cd-4821-4b9f-a481-e91e855eef9e",
   "metadata": {},
   "outputs": [],
   "source": [
    "results <- tibble(results, .name_repair = \"unique\")\n",
    "head(results)"
   ]
  },
  {
   "cell_type": "code",
   "execution_count": null,
   "id": "f90e6107-74cb-4293-aaa0-adf9ea84b266",
   "metadata": {},
   "outputs": [],
   "source": [
    "saveRDS(results, file = snakemake@output[[\"SVM_output\"]])"
   ]
  },
  {
   "cell_type": "code",
   "execution_count": null,
   "id": "081ebfa7-bf49-4a36-b3c5-f78b26d1b8ee",
   "metadata": {},
   "outputs": [],
   "source": [
    "# Create multiple curves to plot\n",
    "rocs <- roc(observed ~ predicted...2 + \n",
    "                    predicted...3 + \n",
    "                    predicted...4 + \n",
    "                    predicted...5 + \n",
    "                    predicted...6 +\n",
    "                    predicted...7 +\n",
    "                    predicted...8 + \n",
    "                    predicted...9 + \n",
    "                    predicted...10 + \n",
    "                    predicted...11, data = results)\n",
    "ggroc(rocs)"
   ]
  },
  {
   "cell_type": "code",
   "execution_count": null,
   "id": "d803ca2f-e9ea-41d2-88f1-4cb7fdfccafb",
   "metadata": {},
   "outputs": [],
   "source": [
    "roc1 <- roc(results$observed, results$predicted...2)\n",
    "roc2 <- roc(results$observed, results$predicted...3)\n",
    "roc3 <- roc(results$observed, results$predicted...4)\n",
    "roc4 <- roc(results$observed, results$predicted...5)\n",
    "roc5 <- roc(results$observed, results$predicted...6)\n",
    "roc6 <- roc(results$observed, results$predicted...7)\n",
    "roc7 <- roc(results$observed, results$predicted...8)\n",
    "roc8 <- roc(results$observed, results$predicted...9)\n",
    "roc9 <- roc(results$observed, results$predicted...10)\n",
    "roc10 <- roc(results$observed, results$predicted...11)"
   ]
  },
  {
   "cell_type": "code",
   "execution_count": null,
   "id": "a5044a81-1609-4850-9d57-13d60f935f2c",
   "metadata": {},
   "outputs": [],
   "source": [
    "paste(\"Mean AUC over 10 repetitions of 10-fold CV: \", mean(c(auc(roc1), auc(roc2), auc(roc3), auc(roc4), auc(roc5), auc(roc6), auc(roc7), auc(roc8), auc(roc9), auc(roc10))), sep = \"\")"
   ]
  },
  {
   "cell_type": "code",
   "execution_count": null,
   "id": "c22bf4b3-3534-4dc6-b2c5-3ee3a1c6dc3f",
   "metadata": {},
   "outputs": [],
   "source": [
    "results_01 <- results %>% mutate(predicted...2_01 = ifelse(predicted...2 > 0.5, 1, 0), \n",
    "                                 predicted...3_01 = ifelse(predicted...3 > 0.5, 1, 0), \n",
    "                                 predicted...4_01 = ifelse(predicted...4 > 0.5, 1, 0),\n",
    "                                 predicted...5_01 = ifelse(predicted...5 > 0.5, 1, 0),\n",
    "                                 predicted...6_01 = ifelse(predicted...6 > 0.5, 1, 0),\n",
    "                                 predicted...7_01 = ifelse(predicted...7 > 0.5, 1, 0),\n",
    "                                 predicted...8_01 = ifelse(predicted...8 > 0.5, 1, 0),\n",
    "                                 predicted...9_01 = ifelse(predicted...9 > 0.5, 1, 0),\n",
    "                                 predicted...10_01 = ifelse(predicted...10 > 0.5, 1, 0),\n",
    "                                 predicted...11_01 = ifelse(predicted...11 > 0.5, 1, 0))"
   ]
  },
  {
   "cell_type": "code",
   "execution_count": null,
   "id": "7e11aa07-e7c7-4737-a678-970f08069d3a",
   "metadata": {},
   "outputs": [],
   "source": [
    "error_rates <- c(mean(results_01$observed != results_01$predicted...2_01),\n",
    "               mean(results_01$observed != results_01$predicted...3_01), \n",
    "               mean(results_01$observed != results_01$predicted...4_01),\n",
    "               mean(results_01$observed != results_01$predicted...5_01),\n",
    "               mean(results_01$observed != results_01$predicted...6_01),\n",
    "               mean(results_01$observed != results_01$predicted...7_01),\n",
    "               mean(results_01$observed != results_01$predicted...8_01),\n",
    "               mean(results_01$observed != results_01$predicted...9_01), \n",
    "               mean(results_01$observed != results_01$predicted...10_01), \n",
    "               mean(results_01$observed != results_01$predicted...11_01))\n",
    "\n",
    "error_rates\n",
    "\n",
    "paste(\"Mean error rate over 10 repetitions of 10-fold CV: \", mean(error_rates), sep = \"\")"
   ]
  },
  {
   "cell_type": "code",
   "execution_count": null,
   "id": "7b57ca0e-d72b-4d51-b63e-3982388c1926",
   "metadata": {},
   "outputs": [],
   "source": [
    "accuracies <- c(mean(results_01$observed == results_01$predicted...2_01),\n",
    "               mean(results_01$observed == results_01$predicted...3_01), \n",
    "               mean(results_01$observed == results_01$predicted...4_01),\n",
    "               mean(results_01$observed == results_01$predicted...5_01),\n",
    "               mean(results_01$observed == results_01$predicted...6_01),\n",
    "               mean(results_01$observed == results_01$predicted...7_01),\n",
    "               mean(results_01$observed == results_01$predicted...8_01),\n",
    "               mean(results_01$observed == results_01$predicted...9_01), \n",
    "               mean(results_01$observed == results_01$predicted...10_01), \n",
    "               mean(results_01$observed == results_01$predicted...11_01))\n",
    "\n",
    "accuracies\n",
    "paste(\"Mean accuracy over 10 repetitions of 10-fold CV: \", mean(accuracies), sep = \"\")"
   ]
  }
 ],
 "metadata": {
  "kernelspec": {
   "display_name": "R",
   "language": "R",
   "name": "ir"
  },
  "language_info": {
   "codemirror_mode": "r",
   "file_extension": ".r",
   "mimetype": "text/x-r-source",
   "name": "R",
   "pygments_lexer": "r",
   "version": "3.6.1"
  }
 },
 "nbformat": 4,
 "nbformat_minor": 5
}
                            