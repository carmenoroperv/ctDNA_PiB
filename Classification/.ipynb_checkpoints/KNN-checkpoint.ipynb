{
 "cells": [
  {
   "cell_type": "markdown",
   "id": "ca5d8938-6941-4ed6-a2c4-b938a348078f",
   "metadata": {},
   "source": [
    "# KNN"
   ]
  },
  {
   "cell_type": "code",
   "execution_count": 7,
   "id": "81286412-ff1a-4a22-bacb-92984948b518",
   "metadata": {},
   "outputs": [],
   "source": [
    "library(dplyr)\n",
    "library(class)"
   ]
  },
  {
   "cell_type": "markdown",
   "id": "029da33d-fbd8-4c65-89bc-b7680e36ec85",
   "metadata": {},
   "source": [
    "Reading in the data"
   ]
  },
  {
   "cell_type": "code",
   "execution_count": 4,
   "id": "a548ebed-cd6e-445f-bda4-193e72b6ed0b",
   "metadata": {},
   "outputs": [],
   "source": [
    "bin1 = rnorm(10, 0.5, 0.2)\n",
    "bin2 = rnorm(10, 0.5, 0.2)\n",
    "bin3 = rnorm(10, 0.5, 0.2)\n",
    "bin4 = rnorm(10, 0.5, 0.2)\n",
    "bin5 = rnorm(10, 0.5, 0.2)\n",
    "bin6 = rnorm(10, 0.5, 0.2)\n",
    "bin7 = rnorm(10, 0.5, 0.2)\n",
    "bin8 = rnorm(10, 0.5, 0.2)\n",
    "bin9 = rnorm(10, 0.5, 0.2)\n",
    "bin10 = rnorm(10, 0.5, 0.2)\n",
    "\n",
    "lasso_pred <- as.data.frame(cbind(bin1, bin2, bin3, bin4, bin5, bin6, bin7, bin8, bin9, bin10))\n",
    "lasso_pred <- lasso_pred %>% mutate(sample_type = c(0, 1,  0, 1, 1, 0, 1, 1, 1, 0))"
   ]
  },
  {
   "cell_type": "code",
   "execution_count": 15,
   "id": "a1e1afc9-aaeb-4dba-8289-b94cfcc5b446",
   "metadata": {},
   "outputs": [],
   "source": [
    "#lasso_pred <- read.csv(\"./data/\")"
   ]
  },
  {
   "cell_type": "markdown",
   "id": "b77873f4-60ca-4543-9e7d-cf9cdf8e6e40",
   "metadata": {},
   "source": [
    "Finding a good k with all of the data. For that we split the data in test and training."
   ]
  },
  {
   "cell_type": "code",
   "execution_count": 27,
   "id": "5e9427f5-5201-41f3-bb6c-87077bfd02f1",
   "metadata": {},
   "outputs": [],
   "source": [
    "train <- lasso_pred[4:10,]\n",
    "train_labels <- train$sample_type\n",
    "test <- lasso_pred[1:3,]\n",
    "test_labels <- test$sample_type"
   ]
  },
  {
   "cell_type": "code",
   "execution_count": 42,
   "id": "9e336fd6-4d84-47cc-b3bd-aa9a46c3a5fb",
   "metadata": {},
   "outputs": [],
   "source": [
    "#A function that performs the KNN method on a range of k's\n",
    "test_k <- function(train, test, train_labels, test_labels, k) {\n",
    "  err <- c()\n",
    "  for (i in k) {\n",
    "    pred = knn(train = train, \n",
    "               test  = test, \n",
    "               cl    = train_labels, \n",
    "               k     = k[i])\n",
    "    err[i] <- mean(test_labels != pred)\n",
    "  }\n",
    "  df <- data.frame(k = k, x = 1/k, err_rate = err)\n",
    "  return(df)\n",
    "}"
   ]
  },
  {
   "cell_type": "code",
   "execution_count": 43,
   "id": "487466aa-e9d8-4ed6-97f8-dca137972e69",
   "metadata": {},
   "outputs": [],
   "source": [
    "best_k <- test_k(train, test, train_labels, test_labels, 1:3)"
   ]
  },
  {
   "cell_type": "code",
   "execution_count": 44,
   "id": "28bda832-83d7-4a95-b1d5-12d48a9767ff",
   "metadata": {},
   "outputs": [
    {
     "data": {
      "text/html": [
       "<table>\n",
       "<thead><tr><th scope=col>k</th><th scope=col>x</th><th scope=col>err_rate</th></tr></thead>\n",
       "<tbody>\n",
       "\t<tr><td>1        </td><td>1.0000000</td><td>0        </td></tr>\n",
       "\t<tr><td>2        </td><td>0.5000000</td><td>0        </td></tr>\n",
       "\t<tr><td>3        </td><td>0.3333333</td><td>0        </td></tr>\n",
       "</tbody>\n",
       "</table>\n"
      ],
      "text/latex": [
       "\\begin{tabular}{r|lll}\n",
       " k & x & err\\_rate\\\\\n",
       "\\hline\n",
       "\t 1         & 1.0000000 & 0        \\\\\n",
       "\t 2         & 0.5000000 & 0        \\\\\n",
       "\t 3         & 0.3333333 & 0        \\\\\n",
       "\\end{tabular}\n"
      ],
      "text/markdown": [
       "\n",
       "| k | x | err_rate |\n",
       "|---|---|---|\n",
       "| 1         | 1.0000000 | 0         |\n",
       "| 2         | 0.5000000 | 0         |\n",
       "| 3         | 0.3333333 | 0         |\n",
       "\n"
      ],
      "text/plain": [
       "  k x         err_rate\n",
       "1 1 1.0000000 0       \n",
       "2 2 0.5000000 0       \n",
       "3 3 0.3333333 0       "
      ]
     },
     "metadata": {},
     "output_type": "display_data"
    }
   ],
   "source": [
    "best_k"
   ]
  },
  {
   "cell_type": "code",
   "execution_count": 69,
   "id": "e6050852-df4f-4760-b984-b89036d7dabc",
   "metadata": {},
   "outputs": [
    {
     "data": {
      "text/html": [
       "<table>\n",
       "<thead><tr><th scope=col>k</th><th scope=col>x</th><th scope=col>err_rate</th></tr></thead>\n",
       "<tbody>\n",
       "\t<tr><td>1</td><td>1</td><td>0</td></tr>\n",
       "</tbody>\n",
       "</table>\n"
      ],
      "text/latex": [
       "\\begin{tabular}{r|lll}\n",
       " k & x & err\\_rate\\\\\n",
       "\\hline\n",
       "\t 1 & 1 & 0\\\\\n",
       "\\end{tabular}\n"
      ],
      "text/markdown": [
       "\n",
       "| k | x | err_rate |\n",
       "|---|---|---|\n",
       "| 1 | 1 | 0 |\n",
       "\n"
      ],
      "text/plain": [
       "  k x err_rate\n",
       "1 1 1 0       "
      ]
     },
     "metadata": {},
     "output_type": "display_data"
    },
    {
     "data": {
      "text/html": [
       "1"
      ],
      "text/latex": [
       "1"
      ],
      "text/markdown": [
       "1"
      ],
      "text/plain": [
       "[1] 1"
      ]
     },
     "metadata": {},
     "output_type": "display_data"
    }
   ],
   "source": [
    "best_k[which.min(best_k$err_rate), ]\n",
    "k <- as.numeric(best_k[which.min(best_k$err_rate), ]$k)\n",
    "k"
   ]
  },
  {
   "cell_type": "markdown",
   "id": "a107b334-4fcd-4de8-a29b-016d27286da8",
   "metadata": {},
   "source": [
    "KNN predictions"
   ]
  },
  {
   "cell_type": "code",
   "execution_count": 65,
   "id": "ace9b9d2-5451-49e6-8576-1bff9e2c4793",
   "metadata": {},
   "outputs": [],
   "source": [
    "cross_validation <- function(dataset, k){\n",
    "  \n",
    "  cvfolds <- cut(seq_len(nrow(dataset)), breaks = k, labels = F)\n",
    "  cvfolds <- sample(cvfolds)\n",
    "  \n",
    "  observed  <- dataset$sample_type\n",
    "  predicted <- rep(NA, nrow(dataset))\n",
    "  \n",
    "  for (i in 1:k){\n",
    "    rows      <- which(cvfolds==i)\n",
    "    testdata  <- dataset[rows,]\n",
    "    testlabels <- testdata$sample_type\n",
    "    traindata <- dataset[-rows,]\n",
    "    trainlabels <- testdata$sample_type\n",
    "    fit       <- knn(train = traindata, \n",
    "                test = testdata, \n",
    "                cl = trainlabels,\n",
    "                k = k) \n",
    "    predicted[rows] <- fit\n",
    "  }\n",
    "  \n",
    "  err <- mean(testlabels != predicted)\n",
    "\n",
    "  return(err)\n",
    "}"
   ]
  },
  {
   "cell_type": "code",
   "execution_count": 71,
   "id": "045b6f1e-f676-49b9-b1c2-f3ce746c304e",
   "metadata": {},
   "outputs": [
    {
     "ename": "ERROR",
     "evalue": "Error in cut.default(seq_len(nrow(dataset)), breaks = k, labels = F): invalid number of intervals\n",
     "output_type": "error",
     "traceback": [
      "Error in cut.default(seq_len(nrow(dataset)), breaks = k, labels = F): invalid number of intervals\nTraceback:\n",
      "1. cross_validation(lasso_pred, k)",
      "2. cut(seq_len(nrow(dataset)), breaks = k, labels = F)   # at line 3 of file <text>",
      "3. cut.default(seq_len(nrow(dataset)), breaks = k, labels = F)",
      "4. stop(\"invalid number of intervals\")"
     ]
    }
   ],
   "source": [
    "cross_validation(lasso_pred, k)"
   ]
  },
  {
   "cell_type": "code",
   "execution_count": null,
   "id": "2c8495c4-9046-48e9-9358-0f31f8631a8d",
   "metadata": {},
   "outputs": [],
   "source": []
  }
 ],
 "metadata": {
  "kernelspec": {
   "display_name": "R [conda env:ctDNA] *",
   "language": "R",
   "name": "conda-env-ctDNA-r"
  },
  "language_info": {
   "codemirror_mode": "r",
   "file_extension": ".r",
   "mimetype": "text/x-r-source",
   "name": "R",
   "pygments_lexer": "r",
   "version": "3.6.1"
  }
 },
 "nbformat": 4,
 "nbformat_minor": 5
}
