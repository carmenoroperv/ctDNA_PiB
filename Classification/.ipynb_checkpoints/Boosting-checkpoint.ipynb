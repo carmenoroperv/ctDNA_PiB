{
 "cells": [
  {
   "cell_type": "markdown",
   "id": "aae39974-7dd6-48ac-976a-33ed7ab12d62",
   "metadata": {},
   "source": [
    "### Boosting for classifying individuals"
   ]
  },
  {
   "cell_type": "code",
   "execution_count": 7,
   "id": "073664f0-106f-4667-ab7f-666cbde5bdf2",
   "metadata": {},
   "outputs": [
    {
     "name": "stderr",
     "output_type": "stream",
     "text": [
      "Loaded gbm 2.1.8\n"
     ]
    }
   ],
   "source": [
    "library(tidyverse)\n",
    "library(gbm)"
   ]
  },
  {
   "cell_type": "markdown",
   "id": "f99d2d11-baef-4779-bd7a-e123265a4107",
   "metadata": {},
   "source": [
    "#####  Example data"
   ]
  },
  {
   "cell_type": "code",
   "execution_count": 4,
   "id": "2d4b4555-3e26-4601-bbe9-32717029b12f",
   "metadata": {},
   "outputs": [],
   "source": [
    "bin1 = rnorm(10, 0.5, 0.2)\n",
    "bin2 = rnorm(10, 0.5, 0.2)\n",
    "bin3 = rnorm(10, 0.5, 0.2)\n",
    "bin4 = rnorm(10, 0.5, 0.2)\n",
    "bin5 = rnorm(10, 0.5, 0.2)\n",
    "bin6 = rnorm(10, 0.5, 0.2)\n",
    "bin7 = rnorm(10, 0.5, 0.2)\n",
    "bin8 = rnorm(10, 0.5, 0.2)\n",
    "bin9 = rnorm(10, 0.5, 0.2)\n",
    "bin10 = rnorm(10, 0.5, 0.2)\n",
    "\n",
    "lasso_pred <- as.data.frame(cbind(bin1, bin2, bin3, bin4, bin5, bin6, bin7, bin8, bin9, bin10))\n",
    "lasso_pred <- lasso_pred %>% mutate(sample_type = c(0, 1,  0, 1, 1, 0, 1, 1, 1, 0))"
   ]
  },
  {
   "cell_type": "code",
   "execution_count": 5,
   "id": "4e2677ca-d077-42c3-9cf9-3f68129c0f06",
   "metadata": {},
   "outputs": [
    {
     "data": {
      "text/html": [
       "<table>\n",
       "<thead><tr><th></th><th scope=col>bin1</th><th scope=col>bin2</th><th scope=col>bin3</th><th scope=col>bin4</th><th scope=col>bin5</th><th scope=col>bin6</th><th scope=col>bin7</th><th scope=col>bin8</th><th scope=col>bin9</th><th scope=col>bin10</th><th scope=col>sample_type</th></tr></thead>\n",
       "<tbody>\n",
       "\t<tr><th scope=row>4</th><td>0.7232664 </td><td>0.4295846 </td><td>0.4195756 </td><td>0.6507364 </td><td>0.5252786 </td><td>0.5186563 </td><td>0.80571459</td><td>0.2457662 </td><td>0.7854366 </td><td>0.3259624 </td><td>1         </td></tr>\n",
       "\t<tr><th scope=row>5</th><td>0.7664818 </td><td>0.6399132 </td><td>0.7317666 </td><td>0.8508896 </td><td>0.1455236 </td><td>0.1328424 </td><td>0.65242085</td><td>0.4369618 </td><td>0.5290755 </td><td>0.5425333 </td><td>1         </td></tr>\n",
       "\t<tr><th scope=row>6</th><td>0.5651737 </td><td>0.4152438 </td><td>0.5122353 </td><td>1.0683878 </td><td>0.7512600 </td><td>0.7772268 </td><td>0.65550535</td><td>0.4352554 </td><td>0.4584733 </td><td>0.1771359 </td><td>0         </td></tr>\n",
       "\t<tr><th scope=row>7</th><td>0.2317486 </td><td>0.7906244 </td><td>0.7492204 </td><td>0.4946654 </td><td>0.5182569 </td><td>0.3646634 </td><td>0.06499639</td><td>0.5323659 </td><td>0.4620127 </td><td>0.2113709 </td><td>1         </td></tr>\n",
       "\t<tr><th scope=row>8</th><td>0.7089967 </td><td>0.6535531 </td><td>0.3976453 </td><td>0.2611162 </td><td>0.5451755 </td><td>0.5603305 </td><td>0.76683269</td><td>0.4324506 </td><td>0.4628484 </td><td>0.1363577 </td><td>1         </td></tr>\n",
       "\t<tr><th scope=row>9</th><td>0.3913627 </td><td>0.3721689 </td><td>0.5742647 </td><td>0.5814328 </td><td>0.4550296 </td><td>0.8269588 </td><td>0.61171763</td><td>0.2542707 </td><td>0.4674569 </td><td>0.5695376 </td><td>1         </td></tr>\n",
       "</tbody>\n",
       "</table>\n"
      ],
      "text/latex": [
       "\\begin{tabular}{r|lllllllllll}\n",
       "  & bin1 & bin2 & bin3 & bin4 & bin5 & bin6 & bin7 & bin8 & bin9 & bin10 & sample\\_type\\\\\n",
       "\\hline\n",
       "\t4 & 0.7232664  & 0.4295846  & 0.4195756  & 0.6507364  & 0.5252786  & 0.5186563  & 0.80571459 & 0.2457662  & 0.7854366  & 0.3259624  & 1         \\\\\n",
       "\t5 & 0.7664818  & 0.6399132  & 0.7317666  & 0.8508896  & 0.1455236  & 0.1328424  & 0.65242085 & 0.4369618  & 0.5290755  & 0.5425333  & 1         \\\\\n",
       "\t6 & 0.5651737  & 0.4152438  & 0.5122353  & 1.0683878  & 0.7512600  & 0.7772268  & 0.65550535 & 0.4352554  & 0.4584733  & 0.1771359  & 0         \\\\\n",
       "\t7 & 0.2317486  & 0.7906244  & 0.7492204  & 0.4946654  & 0.5182569  & 0.3646634  & 0.06499639 & 0.5323659  & 0.4620127  & 0.2113709  & 1         \\\\\n",
       "\t8 & 0.7089967  & 0.6535531  & 0.3976453  & 0.2611162  & 0.5451755  & 0.5603305  & 0.76683269 & 0.4324506  & 0.4628484  & 0.1363577  & 1         \\\\\n",
       "\t9 & 0.3913627  & 0.3721689  & 0.5742647  & 0.5814328  & 0.4550296  & 0.8269588  & 0.61171763 & 0.2542707  & 0.4674569  & 0.5695376  & 1         \\\\\n",
       "\\end{tabular}\n"
      ],
      "text/markdown": [
       "\n",
       "| <!--/--> | bin1 | bin2 | bin3 | bin4 | bin5 | bin6 | bin7 | bin8 | bin9 | bin10 | sample_type |\n",
       "|---|---|---|---|---|---|---|---|---|---|---|---|\n",
       "| 4 | 0.7232664  | 0.4295846  | 0.4195756  | 0.6507364  | 0.5252786  | 0.5186563  | 0.80571459 | 0.2457662  | 0.7854366  | 0.3259624  | 1          |\n",
       "| 5 | 0.7664818  | 0.6399132  | 0.7317666  | 0.8508896  | 0.1455236  | 0.1328424  | 0.65242085 | 0.4369618  | 0.5290755  | 0.5425333  | 1          |\n",
       "| 6 | 0.5651737  | 0.4152438  | 0.5122353  | 1.0683878  | 0.7512600  | 0.7772268  | 0.65550535 | 0.4352554  | 0.4584733  | 0.1771359  | 0          |\n",
       "| 7 | 0.2317486  | 0.7906244  | 0.7492204  | 0.4946654  | 0.5182569  | 0.3646634  | 0.06499639 | 0.5323659  | 0.4620127  | 0.2113709  | 1          |\n",
       "| 8 | 0.7089967  | 0.6535531  | 0.3976453  | 0.2611162  | 0.5451755  | 0.5603305  | 0.76683269 | 0.4324506  | 0.4628484  | 0.1363577  | 1          |\n",
       "| 9 | 0.3913627  | 0.3721689  | 0.5742647  | 0.5814328  | 0.4550296  | 0.8269588  | 0.61171763 | 0.2542707  | 0.4674569  | 0.5695376  | 1          |\n",
       "\n"
      ],
      "text/plain": [
       "  bin1      bin2      bin3      bin4      bin5      bin6      bin7      \n",
       "4 0.7232664 0.4295846 0.4195756 0.6507364 0.5252786 0.5186563 0.80571459\n",
       "5 0.7664818 0.6399132 0.7317666 0.8508896 0.1455236 0.1328424 0.65242085\n",
       "6 0.5651737 0.4152438 0.5122353 1.0683878 0.7512600 0.7772268 0.65550535\n",
       "7 0.2317486 0.7906244 0.7492204 0.4946654 0.5182569 0.3646634 0.06499639\n",
       "8 0.7089967 0.6535531 0.3976453 0.2611162 0.5451755 0.5603305 0.76683269\n",
       "9 0.3913627 0.3721689 0.5742647 0.5814328 0.4550296 0.8269588 0.61171763\n",
       "  bin8      bin9      bin10     sample_type\n",
       "4 0.2457662 0.7854366 0.3259624 1          \n",
       "5 0.4369618 0.5290755 0.5425333 1          \n",
       "6 0.4352554 0.4584733 0.1771359 0          \n",
       "7 0.5323659 0.4620127 0.2113709 1          \n",
       "8 0.4324506 0.4628484 0.1363577 1          \n",
       "9 0.2542707 0.4674569 0.5695376 1          "
      ]
     },
     "metadata": {},
     "output_type": "display_data"
    },
    {
     "data": {
      "text/html": [
       "<table>\n",
       "<thead><tr><th scope=col>bin1</th><th scope=col>bin2</th><th scope=col>bin3</th><th scope=col>bin4</th><th scope=col>bin5</th><th scope=col>bin6</th><th scope=col>bin7</th><th scope=col>bin8</th><th scope=col>bin9</th><th scope=col>bin10</th><th scope=col>sample_type</th></tr></thead>\n",
       "<tbody>\n",
       "\t<tr><td>0.7665229</td><td>0.6385653</td><td>0.4879168</td><td>0.6188179</td><td>0.4234914</td><td>0.4208686</td><td>0.6580480</td><td>0.2010985</td><td>0.6249473</td><td>0.5947752</td><td>0        </td></tr>\n",
       "\t<tr><td>0.4286005</td><td>0.5482213</td><td>0.7530753</td><td>0.4552347</td><td>0.4632779</td><td>0.7915774</td><td>0.8951123</td><td>0.2770068</td><td>0.3407857</td><td>0.5086283</td><td>1        </td></tr>\n",
       "\t<tr><td>0.7632532</td><td>0.3382247</td><td>0.4039937</td><td>0.8215092</td><td>0.3721285</td><td>0.2767149</td><td>0.4279608</td><td>0.3987148</td><td>0.2723368</td><td>0.2754201</td><td>0        </td></tr>\n",
       "</tbody>\n",
       "</table>\n"
      ],
      "text/latex": [
       "\\begin{tabular}{r|lllllllllll}\n",
       " bin1 & bin2 & bin3 & bin4 & bin5 & bin6 & bin7 & bin8 & bin9 & bin10 & sample\\_type\\\\\n",
       "\\hline\n",
       "\t 0.7665229 & 0.6385653 & 0.4879168 & 0.6188179 & 0.4234914 & 0.4208686 & 0.6580480 & 0.2010985 & 0.6249473 & 0.5947752 & 0        \\\\\n",
       "\t 0.4286005 & 0.5482213 & 0.7530753 & 0.4552347 & 0.4632779 & 0.7915774 & 0.8951123 & 0.2770068 & 0.3407857 & 0.5086283 & 1        \\\\\n",
       "\t 0.7632532 & 0.3382247 & 0.4039937 & 0.8215092 & 0.3721285 & 0.2767149 & 0.4279608 & 0.3987148 & 0.2723368 & 0.2754201 & 0        \\\\\n",
       "\\end{tabular}\n"
      ],
      "text/markdown": [
       "\n",
       "| bin1 | bin2 | bin3 | bin4 | bin5 | bin6 | bin7 | bin8 | bin9 | bin10 | sample_type |\n",
       "|---|---|---|---|---|---|---|---|---|---|---|\n",
       "| 0.7665229 | 0.6385653 | 0.4879168 | 0.6188179 | 0.4234914 | 0.4208686 | 0.6580480 | 0.2010985 | 0.6249473 | 0.5947752 | 0         |\n",
       "| 0.4286005 | 0.5482213 | 0.7530753 | 0.4552347 | 0.4632779 | 0.7915774 | 0.8951123 | 0.2770068 | 0.3407857 | 0.5086283 | 1         |\n",
       "| 0.7632532 | 0.3382247 | 0.4039937 | 0.8215092 | 0.3721285 | 0.2767149 | 0.4279608 | 0.3987148 | 0.2723368 | 0.2754201 | 0         |\n",
       "\n"
      ],
      "text/plain": [
       "  bin1      bin2      bin3      bin4      bin5      bin6      bin7     \n",
       "1 0.7665229 0.6385653 0.4879168 0.6188179 0.4234914 0.4208686 0.6580480\n",
       "2 0.4286005 0.5482213 0.7530753 0.4552347 0.4632779 0.7915774 0.8951123\n",
       "3 0.7632532 0.3382247 0.4039937 0.8215092 0.3721285 0.2767149 0.4279608\n",
       "  bin8      bin9      bin10     sample_type\n",
       "1 0.2010985 0.6249473 0.5947752 0          \n",
       "2 0.2770068 0.3407857 0.5086283 1          \n",
       "3 0.3987148 0.2723368 0.2754201 0          "
      ]
     },
     "metadata": {},
     "output_type": "display_data"
    }
   ],
   "source": [
    "#training <- lasso_pred[4:10,]\n",
    "#head(training)\n",
    "#test <- lasso_pred[1:3,]\n",
    "#head(test)"
   ]
  },
  {
   "cell_type": "code",
   "execution_count": null,
   "id": "fca925c0-77be-4526-8361-e3d08af04432",
   "metadata": {},
   "outputs": [],
   "source": [
    "training_x <- lasso_pred %>% dplyr::select(-sample_type) %>% as.data.frame()\n",
    "training_y <- lasso_pred$sample_type\n",
    "\n",
    "#___________________________________________________________________________________\n",
    "\n",
    "# seeds lengths = number of models*number of repeats *number of folds + 1\n",
    "set.seed(1)\n",
    "seeds_gbm <- vector(mode = \"list\", length = 101)\n",
    "# each seed list is a length of the tuning\n",
    "for(i in 1:100) seeds_gbm[[i]] <- sample.int(1000, 12)\n",
    "## For the last model:\n",
    "seeds_gbm[[101]] <- sample.int(1000, 1)\n",
    "\n",
    "trControl_gbm <- trainControl(method = \"repeatedcv\", \n",
    "                              number = 10, \n",
    "                              repeats = 10, \n",
    "                              verboseIter = ifelse(is.null(getOption('knitr.in.progress')), TRUE, FALSE), \n",
    "                              seeds = seeds_gbm)\n",
    "\n",
    "gbmGrid <- expand.grid(interaction.depth = c(1, 2, 3, 4, 5, 6),\n",
    "                       n.trees = seq(300, 600, 50),\n",
    "                       shrinkage = c(0.1, 0.2, 0.01),\n",
    "                        n.minobsinnode = c(10))\n",
    "\n",
    "\n",
    "  \n",
    "trControl <- trControl_gbm\n",
    "method <- \"gbm\"\n",
    "\n",
    "set.seed(1)\n",
    "fit <- train(x = training_x_, \n",
    "             y = training_y, \n",
    "             method = method,\n",
    "             tuneGrid = gbmGrid,\n",
    "             trControl = trControl, \n",
    "             verbose=F)\n",
    "  \n",
    "  \n",
    "print(fit)\n",
    "ggplot(fit)\n",
    "\n",
    "print(mean(fit$resample$Accuracy))"
   ]
  },
  {
   "cell_type": "code",
   "execution_count": 16,
   "id": "e86d5a01-49a7-4035-be62-c7367aaaec8b",
   "metadata": {},
   "outputs": [],
   "source": [
    "set.seed(0)\n",
    "\n",
    "fit <- gbm(formula  = sample_type ~ ., \n",
    "           data = lasso_pred, \n",
    "           n.trees = 5, \n",
    "           cv.folds = 2, \n",
    "           distribution=\"bernoulli\", \n",
    "           n.minobsinnode = 1, \n",
    "           bag.fraction = 1)"
   ]
  },
  {
   "cell_type": "code",
   "execution_count": 17,
   "id": "46f55a3f-23ea-43e8-b97d-cc09e1fc73e6",
   "metadata": {},
   "outputs": [
    {
     "data": {
      "text/plain": [
       "gbm(formula = sample_type ~ ., distribution = \"bernoulli\", data = lasso_pred, \n",
       "    n.trees = 5, n.minobsinnode = 1, bag.fraction = 1, cv.folds = 2)\n",
       "A gradient boosted model with bernoulli loss function.\n",
       "5 iterations were performed.\n",
       "The best cross-validation iteration was 1.\n",
       "There were 10 predictors of which 1 had non-zero influence."
      ]
     },
     "metadata": {},
     "output_type": "display_data"
    }
   ],
   "source": [
    "fit"
   ]
  },
  {
   "cell_type": "code",
   "execution_count": 18,
   "id": "39132dfe-3139-41fb-8125-30c90fbe977c",
   "metadata": {},
   "outputs": [
    {
     "data": {
      "text/html": [
       "<table>\n",
       "<thead><tr><th></th><th scope=col>var</th><th scope=col>rel.inf</th></tr></thead>\n",
       "<tbody>\n",
       "\t<tr><th scope=row>bin7</th><td>bin7    </td><td>40.70995</td></tr>\n",
       "\t<tr><th scope=row>bin3</th><td>bin3    </td><td>36.47764</td></tr>\n",
       "\t<tr><th scope=row>bin2</th><td>bin2    </td><td>22.81241</td></tr>\n",
       "\t<tr><th scope=row>bin1</th><td>bin1    </td><td> 0.00000</td></tr>\n",
       "\t<tr><th scope=row>bin4</th><td>bin4    </td><td> 0.00000</td></tr>\n",
       "\t<tr><th scope=row>bin5</th><td>bin5    </td><td> 0.00000</td></tr>\n",
       "\t<tr><th scope=row>bin6</th><td>bin6    </td><td> 0.00000</td></tr>\n",
       "\t<tr><th scope=row>bin8</th><td>bin8    </td><td> 0.00000</td></tr>\n",
       "\t<tr><th scope=row>bin9</th><td>bin9    </td><td> 0.00000</td></tr>\n",
       "\t<tr><th scope=row>bin10</th><td>bin10   </td><td> 0.00000</td></tr>\n",
       "</tbody>\n",
       "</table>\n"
      ],
      "text/latex": [
       "\\begin{tabular}{r|ll}\n",
       "  & var & rel.inf\\\\\n",
       "\\hline\n",
       "\tbin7 & bin7     & 40.70995\\\\\n",
       "\tbin3 & bin3     & 36.47764\\\\\n",
       "\tbin2 & bin2     & 22.81241\\\\\n",
       "\tbin1 & bin1     &  0.00000\\\\\n",
       "\tbin4 & bin4     &  0.00000\\\\\n",
       "\tbin5 & bin5     &  0.00000\\\\\n",
       "\tbin6 & bin6     &  0.00000\\\\\n",
       "\tbin8 & bin8     &  0.00000\\\\\n",
       "\tbin9 & bin9     &  0.00000\\\\\n",
       "\tbin10 & bin10    &  0.00000\\\\\n",
       "\\end{tabular}\n"
      ],
      "text/markdown": [
       "\n",
       "| <!--/--> | var | rel.inf |\n",
       "|---|---|---|\n",
       "| bin7 | bin7     | 40.70995 |\n",
       "| bin3 | bin3     | 36.47764 |\n",
       "| bin2 | bin2     | 22.81241 |\n",
       "| bin1 | bin1     |  0.00000 |\n",
       "| bin4 | bin4     |  0.00000 |\n",
       "| bin5 | bin5     |  0.00000 |\n",
       "| bin6 | bin6     |  0.00000 |\n",
       "| bin8 | bin8     |  0.00000 |\n",
       "| bin9 | bin9     |  0.00000 |\n",
       "| bin10 | bin10    |  0.00000 |\n",
       "\n"
      ],
      "text/plain": [
       "      var   rel.inf \n",
       "bin7  bin7  40.70995\n",
       "bin3  bin3  36.47764\n",
       "bin2  bin2  22.81241\n",
       "bin1  bin1   0.00000\n",
       "bin4  bin4   0.00000\n",
       "bin5  bin5   0.00000\n",
       "bin6  bin6   0.00000\n",
       "bin8  bin8   0.00000\n",
       "bin9  bin9   0.00000\n",
       "bin10 bin10  0.00000"
      ]
     },
     "metadata": {},
     "output_type": "display_data"
    },
    {
     "data": {
      "image/png": "[encoded data removed]",
      "text/plain": [
       "plot without title"
      ]
     },
     "metadata": {},
     "output_type": "display_data"
    }
   ],
   "source": [
    "summary(fit)"
   ]
  },
  {
   "cell_type": "code",
   "execution_count": 28,
   "id": "83e35d55-5a51-495f-ad7d-2d9e6f7d86ff",
   "metadata": {},
   "outputs": [
    {
     "data": {
      "text/html": [
       "<ol class=list-inline>\n",
       "\t<li>1.29171734076675</li>\n",
       "\t<li>1.23773007233062</li>\n",
       "\t<li>1.18884433877346</li>\n",
       "\t<li>1.14431387189943</li>\n",
       "\t<li>1.10365739489178</li>\n",
       "</ol>\n"
      ],
      "text/latex": [
       "\\begin{enumerate*}\n",
       "\\item 1.29171734076675\n",
       "\\item 1.23773007233062\n",
       "\\item 1.18884433877346\n",
       "\\item 1.14431387189943\n",
       "\\item 1.10365739489178\n",
       "\\end{enumerate*}\n"
      ],
      "text/markdown": [
       "1. 1.29171734076675\n",
       "2. 1.23773007233062\n",
       "3. 1.18884433877346\n",
       "4. 1.14431387189943\n",
       "5. 1.10365739489178\n",
       "\n",
       "\n"
      ],
      "text/plain": [
       "[1] 1.291717 1.237730 1.188844 1.144314 1.103657"
      ]
     },
     "metadata": {},
     "output_type": "display_data"
    },
    {
     "data": {
      "text/html": [
       "<ol class=list-inline>\n",
       "\t<li>1.96123211191613</li>\n",
       "\t<li>2.0313913609338</li>\n",
       "\t<li>2.10645380089279</li>\n",
       "\t<li>2.18170550788488</li>\n",
       "\t<li>2.26101196096265</li>\n",
       "</ol>\n"
      ],
      "text/latex": [
       "\\begin{enumerate*}\n",
       "\\item 1.96123211191613\n",
       "\\item 2.0313913609338\n",
       "\\item 2.10645380089279\n",
       "\\item 2.18170550788488\n",
       "\\item 2.26101196096265\n",
       "\\end{enumerate*}\n"
      ],
      "text/markdown": [
       "1. 1.96123211191613\n",
       "2. 2.0313913609338\n",
       "3. 2.10645380089279\n",
       "4. 2.18170550788488\n",
       "5. 2.26101196096265\n",
       "\n",
       "\n"
      ],
      "text/plain": [
       "[1] 1.961232 2.031391 2.106454 2.181706 2.261012"
      ]
     },
     "metadata": {},
     "output_type": "display_data"
    },
    {
     "data": {
      "text/html": [
       "5"
      ],
      "text/latex": [
       "5"
      ],
      "text/markdown": [
       "5"
      ],
      "text/plain": [
       "[1] 5"
      ]
     },
     "metadata": {},
     "output_type": "display_data"
    },
    {
     "data": {
      "image/png": "[encoded data removed]",
      "text/plain": [
       "plot without title"
      ]
     },
     "metadata": {},
     "output_type": "display_data"
    }
   ],
   "source": [
    "head(fit$train.error)  # These values are squared error, MSE\n",
    "\n",
    "head(fit$cv.error)     # These values are squared error, MSE\n",
    "\n",
    "length(fit$cv.error)\n",
    "\n",
    "\n",
    "\n",
    "errors <- tibble(training_error = fit$train.error, \n",
    "             cv_error = fit$cv.error) %>%\n",
    "  mutate(tree = row_number()) %>%\n",
    "  pivot_longer(names_to = \"key\", values_to = \"value\", -tree)\n",
    "\n",
    "ggplot(errors, aes(x=tree, y=value, color=key)) + \n",
    "  geom_line() + \n",
    "  geom_point() + \n",
    "  NULL\n"
   ]
  },
  {
   "cell_type": "code",
   "execution_count": null,
   "id": "c1878238-e4f4-4bf7-b727-37d1cbabae5c",
   "metadata": {},
   "outputs": [],
   "source": []
  }
 ],
 "metadata": {
  "kernelspec": {
   "display_name": "R",
   "language": "R",
   "name": "ir"
  },
  "language_info": {
   "codemirror_mode": "r",
   "file_extension": ".r",
   "mimetype": "text/x-r-source",
   "name": "R",
   "pygments_lexer": "r",
   "version": "3.6.1"
  }
 },
 "nbformat": 4,
 "nbformat_minor": 5
}
