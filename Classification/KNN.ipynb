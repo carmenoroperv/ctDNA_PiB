{
 "cells": [
  {
   "cell_type": "markdown",
   "id": "ca5d8938-6941-4ed6-a2c4-b938a348078f",
   "metadata": {},
   "source": [
    "# KNN"
   ]
  },
  {
   "cell_type": "code",
   "execution_count": 54,
   "id": "81286412-ff1a-4a22-bacb-92984948b518",
   "metadata": {},
   "outputs": [],
   "source": [
    "library(dplyr)\n",
    "library(class)\n",
    "library(tidyverse)\n",
    "library(pROC)"
   ]
  },
  {
   "cell_type": "markdown",
   "id": "029da33d-fbd8-4c65-89bc-b7680e36ec85",
   "metadata": {},
   "source": [
    "Reading in the data"
   ]
  },
  {
   "cell_type": "code",
   "execution_count": 55,
   "id": "a548ebed-cd6e-445f-bda4-193e72b6ed0b",
   "metadata": {},
   "outputs": [],
   "source": [
    "#bin1 = rnorm(10, 0.5, 0.2)\n",
    "#bin2 = rnorm(10, 0.5, 0.2)\n",
    "#bin3 = rnorm(10, 0.5, 0.2)\n",
    "#bin4 = rnorm(10, 0.5, 0.2)\n",
    "#bin5 = rnorm(10, 0.5, 0.2)\n",
    "#bin6 = rnorm(10, 0.5, 0.2)\n",
    "#bin7 = rnorm(10, 0.5, 0.2)\n",
    "#bin8 = rnorm(10, 0.5, 0.2)\n",
    "#bin9 = rnorm(10, 0.5, 0.2)\n",
    "#bin10 = rnorm(10, 0.5, 0.2)\n",
    "\n",
    "#lasso_pred <- as.data.frame(cbind(bin1, bin2, bin3, bin4, bin5, bin6, bin7, bin8, bin9, bin10))\n",
    "#lasso_pred <- lasso_pred %>% mutate(sample_type = c(0, 1,  0, 1, 1, 0, 1, 1, 1, 0))"
   ]
  },
  {
   "cell_type": "code",
   "execution_count": 56,
   "id": "a1e1afc9-aaeb-4dba-8289-b94cfcc5b446",
   "metadata": {},
   "outputs": [],
   "source": [
    "#lasso_pred <- read.csv(\"../data/ATAC_predictions_on_all_samples/ATAC_pred_lasso_std_FALSE_formatted.csv\")\n",
    "#lasso_pred <- read.csv(\"../data/all_samples_train_ATAC_predictions_on_all_samples/all_samples_ATAC_pred_lasso_std_TRUE_formatted_standardized.csv\")\n",
    "lasso_pred <- read.csv(\"../data/all_samples_train_ATAC_predictions_on_all_samples/all_samples_ATAC_pred_lasso_std_TRUE_gaussian_trimmed_formatted_standardized.csv\")"
   ]
  },
  {
   "cell_type": "code",
   "execution_count": 57,
   "id": "8c6e9c46-6f56-431d-9148-260b7ef4fa86",
   "metadata": {},
   "outputs": [
    {
     "name": "stderr",
     "output_type": "stream",
     "text": [
      "ERROR while rich displaying an object: Error in sprintf(wrap, header, body): 'fmt' length exceeds maximal format length 8192\n",
      "\n",
      "Traceback:\n",
      "1. FUN(X[[i]], ...)\n",
      "2. tryCatch(withCallingHandlers({\n",
      " .     if (!mime %in% names(repr::mime2repr)) \n",
      " .         stop(\"No repr_* for mimetype \", mime, \" in repr::mime2repr\")\n",
      " .     rpr <- repr::mime2repr[[mime]](obj)\n",
      " .     if (is.null(rpr)) \n",
      " .         return(NULL)\n",
      " .     prepare_content(is.raw(rpr), rpr)\n",
      " . }, error = error_handler), error = outer_handler)\n",
      "3. tryCatchList(expr, classes, parentenv, handlers)\n",
      "4. tryCatchOne(expr, names, parentenv, handlers[[1L]])\n",
      "5. doTryCatch(return(expr), name, parentenv, handler)\n",
      "6. withCallingHandlers({\n",
      " .     if (!mime %in% names(repr::mime2repr)) \n",
      " .         stop(\"No repr_* for mimetype \", mime, \" in repr::mime2repr\")\n",
      " .     rpr <- repr::mime2repr[[mime]](obj)\n",
      " .     if (is.null(rpr)) \n",
      " .         return(NULL)\n",
      " .     prepare_content(is.raw(rpr), rpr)\n",
      " . }, error = error_handler)\n",
      "7. repr::mime2repr[[mime]](obj)\n",
      "8. repr_latex.data.frame(obj)\n",
      "9. repr_matrix_generic(obj, sprintf(\"\\\\begin{tabular}{%s}\\n%%s%%s\\\\end{tabular}\\n\", \n",
      " .     cols), \"%s\\\\\\\\\\n\\\\hline\\n\", \"  &\", \" %s &\", \"%s\", \"\\t%s\\\\\\\\\\n\", \n",
      " .     \"%s &\", \" %s &\", escape_fun = latex_escape_vec, ...)\n",
      "10. sprintf(wrap, header, body)\n"
     ]
    },
    {
     "data": {
      "text/html": [
       "<table>\n",
       "<thead><tr><th scope=col>sample</th><th scope=col>chr10_400</th><th scope=col>chr10_40</th><th scope=col>chr10_4</th><th scope=col>chr10_401</th><th scope=col>chr10_402</th><th scope=col>chr10_403</th><th scope=col>chr10_404</th><th scope=col>chr10_405</th><th scope=col>chr10_406</th><th scope=col>...</th><th scope=col>chr9_39</th><th scope=col>chr9_391</th><th scope=col>chr9_392</th><th scope=col>chr9_393</th><th scope=col>chr9_394</th><th scope=col>chr9_395</th><th scope=col>chr9_396</th><th scope=col>chr9_397</th><th scope=col>chr9_398</th><th scope=col>chr9_399</th></tr></thead>\n",
       "<tbody>\n",
       "\t<tr><td>PGDX16568P </td><td>0.6953389  </td><td>-0.7879755 </td><td>0.6283735  </td><td>-0.8076604 </td><td>-0.4762342 </td><td>-0.4843784 </td><td> 0.1574588 </td><td>0.7738185  </td><td>0.9266950  </td><td>...        </td><td>-0.26104774</td><td> 0.53456169</td><td>-0.2882270 </td><td>-0.7376411 </td><td> 0.3459933 </td><td>-0.05068006</td><td>1.0490274  </td><td>1.0220016  </td><td>0.8971134  </td><td>-1.1239397 </td></tr>\n",
       "\t<tr><td>PGDX16569P </td><td>0.6685276  </td><td>-0.7808352 </td><td>0.8278703  </td><td>-1.0433986 </td><td>-0.8732558 </td><td>-0.5425936 </td><td>-0.1108301 </td><td>0.8073165  </td><td>0.6771145  </td><td>...        </td><td>-0.86931628</td><td> 0.54407024</td><td>-0.1319621 </td><td>-0.3830047 </td><td> 0.1672065 </td><td>-0.07010265</td><td>0.7165734  </td><td>0.5450365  </td><td>2.1032045  </td><td>-0.1894466 </td></tr>\n",
       "\t<tr><td>PGDX16570P </td><td>0.3257788  </td><td>-1.0488984 </td><td>1.0016914  </td><td>-0.9862307 </td><td>-0.3133380 </td><td>-0.7717212 </td><td>-0.4113402 </td><td>1.1532543  </td><td>0.6261248  </td><td>...        </td><td>-1.02908360</td><td>-0.05235085</td><td>-0.2826165 </td><td>-0.4314783 </td><td>-0.6612242 </td><td> 0.03558009</td><td>0.7921805  </td><td>0.1177460  </td><td>1.2677444  </td><td>-0.3231751 </td></tr>\n",
       "\t<tr><td>PGDX16571P </td><td>0.6735824  </td><td>-1.0051706 </td><td>0.5946802  </td><td>-0.8331926 </td><td>-0.6285969 </td><td>-0.5744275 </td><td>-0.3082262 </td><td>0.7438386  </td><td>0.4048773  </td><td>...        </td><td>-0.03035763</td><td> 0.21872785</td><td> 0.2970003 </td><td> 0.1060122 </td><td> 0.1146019 </td><td> 0.37187560</td><td>0.7845285  </td><td>0.8089346  </td><td>1.2953379  </td><td> 0.6134834 </td></tr>\n",
       "\t<tr><td>PGDX16579P </td><td>0.5463358  </td><td>-1.0278642 </td><td>0.7856385  </td><td>-1.0208457 </td><td>-1.3634272 </td><td>-0.6691807 </td><td>-0.1297193 </td><td>0.2580991  </td><td>0.3741107  </td><td>...        </td><td>-0.11768120</td><td> 0.01472267</td><td>-0.1548552 </td><td>-0.6424580 </td><td>-0.6951410 </td><td> 0.02006348</td><td>1.2604557  </td><td>1.1036514  </td><td>0.8842823  </td><td>-0.4777681 </td></tr>\n",
       "\t<tr><td>PGDX16580P </td><td>0.6874442  </td><td>-0.9024875 </td><td>0.8600207  </td><td>-1.2188743 </td><td>-0.7686111 </td><td>-0.7730980 </td><td>-0.2695628 </td><td>0.8137366  </td><td>0.4154834  </td><td>...        </td><td>-0.84386310</td><td> 0.32829360</td><td> 0.2397903 </td><td>-0.5690418 </td><td> 0.1624912 </td><td> 0.55272815</td><td>1.0007847  </td><td>0.5013539  </td><td>1.8067929  </td><td>-0.4536265 </td></tr>\n",
       "</tbody>\n",
       "</table>\n"
      ],
      "text/markdown": [
       "\n",
       "| sample | chr10_400 | chr10_40 | chr10_4 | chr10_401 | chr10_402 | chr10_403 | chr10_404 | chr10_405 | chr10_406 | ... | chr9_39 | chr9_391 | chr9_392 | chr9_393 | chr9_394 | chr9_395 | chr9_396 | chr9_397 | chr9_398 | chr9_399 |\n",
       "|---|---|---|---|---|---|---|---|---|---|---|---|---|---|---|---|---|---|---|---|---|\n",
       "| PGDX16568P  | 0.6953389   | -0.7879755  | 0.6283735   | -0.8076604  | -0.4762342  | -0.4843784  |  0.1574588  | 0.7738185   | 0.9266950   | ...         | -0.26104774 |  0.53456169 | -0.2882270  | -0.7376411  |  0.3459933  | -0.05068006 | 1.0490274   | 1.0220016   | 0.8971134   | -1.1239397  |\n",
       "| PGDX16569P  | 0.6685276   | -0.7808352  | 0.8278703   | -1.0433986  | -0.8732558  | -0.5425936  | -0.1108301  | 0.8073165   | 0.6771145   | ...         | -0.86931628 |  0.54407024 | -0.1319621  | -0.3830047  |  0.1672065  | -0.07010265 | 0.7165734   | 0.5450365   | 2.1032045   | -0.1894466  |\n",
       "| PGDX16570P  | 0.3257788   | -1.0488984  | 1.0016914   | -0.9862307  | -0.3133380  | -0.7717212  | -0.4113402  | 1.1532543   | 0.6261248   | ...         | -1.02908360 | -0.05235085 | -0.2826165  | -0.4314783  | -0.6612242  |  0.03558009 | 0.7921805   | 0.1177460   | 1.2677444   | -0.3231751  |\n",
       "| PGDX16571P  | 0.6735824   | -1.0051706  | 0.5946802   | -0.8331926  | -0.6285969  | -0.5744275  | -0.3082262  | 0.7438386   | 0.4048773   | ...         | -0.03035763 |  0.21872785 |  0.2970003  |  0.1060122  |  0.1146019  |  0.37187560 | 0.7845285   | 0.8089346   | 1.2953379   |  0.6134834  |\n",
       "| PGDX16579P  | 0.5463358   | -1.0278642  | 0.7856385   | -1.0208457  | -1.3634272  | -0.6691807  | -0.1297193  | 0.2580991   | 0.3741107   | ...         | -0.11768120 |  0.01472267 | -0.1548552  | -0.6424580  | -0.6951410  |  0.02006348 | 1.2604557   | 1.1036514   | 0.8842823   | -0.4777681  |\n",
       "| PGDX16580P  | 0.6874442   | -0.9024875  | 0.8600207   | -1.2188743  | -0.7686111  | -0.7730980  | -0.2695628  | 0.8137366   | 0.4154834   | ...         | -0.84386310 |  0.32829360 |  0.2397903  | -0.5690418  |  0.1624912  |  0.55272815 | 1.0007847   | 0.5013539   | 1.8067929   | -0.4536265  |\n",
       "\n"
      ],
      "text/plain": [
       "  sample     chr10_400 chr10_40   chr10_4   chr10_401  chr10_402  chr10_403 \n",
       "1 PGDX16568P 0.6953389 -0.7879755 0.6283735 -0.8076604 -0.4762342 -0.4843784\n",
       "2 PGDX16569P 0.6685276 -0.7808352 0.8278703 -1.0433986 -0.8732558 -0.5425936\n",
       "3 PGDX16570P 0.3257788 -1.0488984 1.0016914 -0.9862307 -0.3133380 -0.7717212\n",
       "4 PGDX16571P 0.6735824 -1.0051706 0.5946802 -0.8331926 -0.6285969 -0.5744275\n",
       "5 PGDX16579P 0.5463358 -1.0278642 0.7856385 -1.0208457 -1.3634272 -0.6691807\n",
       "6 PGDX16580P 0.6874442 -0.9024875 0.8600207 -1.2188743 -0.7686111 -0.7730980\n",
       "  chr10_404  chr10_405 chr10_406 ... chr9_39     chr9_391    chr9_392  \n",
       "1  0.1574588 0.7738185 0.9266950 ... -0.26104774  0.53456169 -0.2882270\n",
       "2 -0.1108301 0.8073165 0.6771145 ... -0.86931628  0.54407024 -0.1319621\n",
       "3 -0.4113402 1.1532543 0.6261248 ... -1.02908360 -0.05235085 -0.2826165\n",
       "4 -0.3082262 0.7438386 0.4048773 ... -0.03035763  0.21872785  0.2970003\n",
       "5 -0.1297193 0.2580991 0.3741107 ... -0.11768120  0.01472267 -0.1548552\n",
       "6 -0.2695628 0.8137366 0.4154834 ... -0.84386310  0.32829360  0.2397903\n",
       "  chr9_393   chr9_394   chr9_395    chr9_396  chr9_397  chr9_398  chr9_399  \n",
       "1 -0.7376411  0.3459933 -0.05068006 1.0490274 1.0220016 0.8971134 -1.1239397\n",
       "2 -0.3830047  0.1672065 -0.07010265 0.7165734 0.5450365 2.1032045 -0.1894466\n",
       "3 -0.4314783 -0.6612242  0.03558009 0.7921805 0.1177460 1.2677444 -0.3231751\n",
       "4  0.1060122  0.1146019  0.37187560 0.7845285 0.8089346 1.2953379  0.6134834\n",
       "5 -0.6424580 -0.6951410  0.02006348 1.2604557 1.1036514 0.8842823 -0.4777681\n",
       "6 -0.5690418  0.1624912  0.55272815 1.0007847 0.5013539 1.8067929 -0.4536265"
      ]
     },
     "metadata": {},
     "output_type": "display_data"
    }
   ],
   "source": [
    "head(lasso_pred)"
   ]
  },
  {
   "cell_type": "code",
   "execution_count": 58,
   "id": "afd15a55-0386-4983-89b8-6e5fbf250b1f",
   "metadata": {},
   "outputs": [
    {
     "data": {
      "text/html": [
       "<table>\n",
       "<thead><tr><th scope=col>sample</th><th scope=col>sample_type</th></tr></thead>\n",
       "<tbody>\n",
       "\t<tr><td>PGDX10344P1   </td><td>Gastric_cancer</td></tr>\n",
       "\t<tr><td>PGDX10346P1   </td><td>Gastric_cancer</td></tr>\n",
       "\t<tr><td>PGDX10349P1   </td><td>Gastric_cancer</td></tr>\n",
       "\t<tr><td>PGDX10351P1   </td><td>Gastric_cancer</td></tr>\n",
       "\t<tr><td>PGDX10566P    </td><td>Ovarian_Cancer</td></tr>\n",
       "\t<tr><td>PGDX10567P    </td><td>Ovarian_Cancer</td></tr>\n",
       "</tbody>\n",
       "</table>\n"
      ],
      "text/latex": [
       "\\begin{tabular}{r|ll}\n",
       " sample & sample\\_type\\\\\n",
       "\\hline\n",
       "\t PGDX10344P1      & Gastric\\_cancer\\\\\n",
       "\t PGDX10346P1      & Gastric\\_cancer\\\\\n",
       "\t PGDX10349P1      & Gastric\\_cancer\\\\\n",
       "\t PGDX10351P1      & Gastric\\_cancer\\\\\n",
       "\t PGDX10566P       & Ovarian\\_Cancer\\\\\n",
       "\t PGDX10567P       & Ovarian\\_Cancer\\\\\n",
       "\\end{tabular}\n"
      ],
      "text/markdown": [
       "\n",
       "| sample | sample_type |\n",
       "|---|---|\n",
       "| PGDX10344P1    | Gastric_cancer |\n",
       "| PGDX10346P1    | Gastric_cancer |\n",
       "| PGDX10349P1    | Gastric_cancer |\n",
       "| PGDX10351P1    | Gastric_cancer |\n",
       "| PGDX10566P     | Ovarian_Cancer |\n",
       "| PGDX10567P     | Ovarian_Cancer |\n",
       "\n"
      ],
      "text/plain": [
       "  sample      sample_type   \n",
       "1 PGDX10344P1 Gastric_cancer\n",
       "2 PGDX10346P1 Gastric_cancer\n",
       "3 PGDX10349P1 Gastric_cancer\n",
       "4 PGDX10351P1 Gastric_cancer\n",
       "5 PGDX10566P  Ovarian_Cancer\n",
       "6 PGDX10567P  Ovarian_Cancer"
      ]
     },
     "metadata": {},
     "output_type": "display_data"
    }
   ],
   "source": [
    "sample_types <- read.table(\"../data/sample_types.txt\", header = F, sep = \" \")\n",
    "colnames(sample_types) <- c(\"sample\", \"sample_type\")\n",
    "head(sample_types)"
   ]
  },
  {
   "cell_type": "code",
   "execution_count": 59,
   "id": "39c40ae9-bcbd-43d0-ac21-689d96ea31ae",
   "metadata": {},
   "outputs": [
    {
     "name": "stderr",
     "output_type": "stream",
     "text": [
      "ERROR while rich displaying an object: Error in sprintf(wrap, header, body): 'fmt' length exceeds maximal format length 8192\n",
      "\n",
      "Traceback:\n",
      "1. FUN(X[[i]], ...)\n",
      "2. tryCatch(withCallingHandlers({\n",
      " .     if (!mime %in% names(repr::mime2repr)) \n",
      " .         stop(\"No repr_* for mimetype \", mime, \" in repr::mime2repr\")\n",
      " .     rpr <- repr::mime2repr[[mime]](obj)\n",
      " .     if (is.null(rpr)) \n",
      " .         return(NULL)\n",
      " .     prepare_content(is.raw(rpr), rpr)\n",
      " . }, error = error_handler), error = outer_handler)\n",
      "3. tryCatchList(expr, classes, parentenv, handlers)\n",
      "4. tryCatchOne(expr, names, parentenv, handlers[[1L]])\n",
      "5. doTryCatch(return(expr), name, parentenv, handler)\n",
      "6. withCallingHandlers({\n",
      " .     if (!mime %in% names(repr::mime2repr)) \n",
      " .         stop(\"No repr_* for mimetype \", mime, \" in repr::mime2repr\")\n",
      " .     rpr <- repr::mime2repr[[mime]](obj)\n",
      " .     if (is.null(rpr)) \n",
      " .         return(NULL)\n",
      " .     prepare_content(is.raw(rpr), rpr)\n",
      " . }, error = error_handler)\n",
      "7. repr::mime2repr[[mime]](obj)\n",
      "8. repr_latex.data.frame(obj)\n",
      "9. repr_matrix_generic(obj, sprintf(\"\\\\begin{tabular}{%s}\\n%%s%%s\\\\end{tabular}\\n\", \n",
      " .     cols), \"%s\\\\\\\\\\n\\\\hline\\n\", \"  &\", \" %s &\", \"%s\", \"\\t%s\\\\\\\\\\n\", \n",
      " .     \"%s &\", \" %s &\", escape_fun = latex_escape_vec, ...)\n",
      "10. sprintf(wrap, header, body)\n"
     ]
    },
    {
     "data": {
      "text/html": [
       "<table>\n",
       "<thead><tr><th scope=col>sample</th><th scope=col>chr10_400</th><th scope=col>chr10_40</th><th scope=col>chr10_4</th><th scope=col>chr10_401</th><th scope=col>chr10_402</th><th scope=col>chr10_403</th><th scope=col>chr10_404</th><th scope=col>chr10_405</th><th scope=col>chr10_406</th><th scope=col>...</th><th scope=col>chr9_392</th><th scope=col>chr9_393</th><th scope=col>chr9_394</th><th scope=col>chr9_395</th><th scope=col>chr9_396</th><th scope=col>chr9_397</th><th scope=col>chr9_398</th><th scope=col>chr9_399</th><th scope=col>sample_type</th><th scope=col>sample_type01</th></tr></thead>\n",
       "<tbody>\n",
       "\t<tr><td>PGDX10344P1   </td><td>0.30947556    </td><td>-0.7539309    </td><td>1.1516740     </td><td>-0.73103587   </td><td>-0.2853468    </td><td>-0.7798561    </td><td> 0.06051166   </td><td>0.2748797     </td><td>0.1194668     </td><td>...           </td><td> 0.1650859    </td><td>-0.42256897   </td><td>-0.2957827    </td><td> 0.01479394   </td><td>0.50865533    </td><td>-0.6555403    </td><td>1.3079180     </td><td>-0.16053665   </td><td>Gastric_cancer</td><td>1             </td></tr>\n",
       "\t<tr><td>PGDX10346P1   </td><td>1.31264238    </td><td>-0.8638002    </td><td>1.0312299     </td><td>-0.65368812   </td><td>-0.7419347    </td><td>-0.4319792    </td><td>-0.05947708   </td><td>0.7711896     </td><td>0.3962822     </td><td>...           </td><td>-0.5444958    </td><td>-0.64879239   </td><td> 0.2428516    </td><td> 0.19974982   </td><td>1.12004644    </td><td> 0.7947682    </td><td>0.3184796     </td><td>-0.51734387   </td><td>Gastric_cancer</td><td>1             </td></tr>\n",
       "\t<tr><td>PGDX10349P1   </td><td>0.03454358    </td><td>-1.0286147    </td><td>0.3685958     </td><td>-1.12662266   </td><td>-0.8042189    </td><td>-0.9181945    </td><td>-0.15124313   </td><td>0.5120651     </td><td>2.2926807     </td><td>...           </td><td> 0.5371412    </td><td>-0.12744117   </td><td> 0.4225526    </td><td> 0.15168523   </td><td>0.94030365    </td><td> 0.5442199    </td><td>1.6525958     </td><td> 0.01383398   </td><td>Gastric_cancer</td><td>1             </td></tr>\n",
       "\t<tr><td>PGDX10351P1   </td><td>1.25220761    </td><td>-1.3596647    </td><td>0.4615063     </td><td>-1.20750208   </td><td>-0.7935835    </td><td>-0.2823848    </td><td>-0.37592036   </td><td>0.9370712     </td><td>0.5484292     </td><td>...           </td><td> 0.8356236    </td><td> 0.02982247   </td><td> 0.6091440    </td><td> 0.02092330   </td><td>1.02896111    </td><td> 0.3744232    </td><td>1.3586522     </td><td>-0.20452260   </td><td>Gastric_cancer</td><td>1             </td></tr>\n",
       "\t<tr><td>PGDX10566P    </td><td>0.42060193    </td><td>-1.0139996    </td><td>1.1073594     </td><td>-0.97364296   </td><td>-0.5256145    </td><td>-0.7092296    </td><td>-0.23406615   </td><td>0.8072512     </td><td>0.6548251     </td><td>...           </td><td> 0.2332540    </td><td>-0.79614677   </td><td> 0.3238098    </td><td>-0.20121012   </td><td>0.03054838    </td><td> 0.4624885    </td><td>1.2128934     </td><td>-0.41948429   </td><td>Ovarian_Cancer</td><td>1             </td></tr>\n",
       "\t<tr><td>PGDX10567P    </td><td>0.94804965    </td><td>-0.7293273    </td><td>1.1532942     </td><td>-0.05731926   </td><td>-0.7344479    </td><td>-0.8104326    </td><td> 0.10587807   </td><td>0.6343644     </td><td>0.7289408     </td><td>...           </td><td>-0.2284586    </td><td>-0.88340246   </td><td> 0.3731070    </td><td> 0.16567934   </td><td>0.18048909    </td><td> 0.2987154    </td><td>1.8230905     </td><td>-0.66497791   </td><td>Ovarian_Cancer</td><td>1             </td></tr>\n",
       "</tbody>\n",
       "</table>\n"
      ],
      "text/markdown": [
       "\n",
       "| sample | chr10_400 | chr10_40 | chr10_4 | chr10_401 | chr10_402 | chr10_403 | chr10_404 | chr10_405 | chr10_406 | ... | chr9_392 | chr9_393 | chr9_394 | chr9_395 | chr9_396 | chr9_397 | chr9_398 | chr9_399 | sample_type | sample_type01 |\n",
       "|---|---|---|---|---|---|---|---|---|---|---|---|---|---|---|---|---|---|---|---|---|\n",
       "| PGDX10344P1    | 0.30947556     | -0.7539309     | 1.1516740      | -0.73103587    | -0.2853468     | -0.7798561     |  0.06051166    | 0.2748797      | 0.1194668      | ...            |  0.1650859     | -0.42256897    | -0.2957827     |  0.01479394    | 0.50865533     | -0.6555403     | 1.3079180      | -0.16053665    | Gastric_cancer | 1              |\n",
       "| PGDX10346P1    | 1.31264238     | -0.8638002     | 1.0312299      | -0.65368812    | -0.7419347     | -0.4319792     | -0.05947708    | 0.7711896      | 0.3962822      | ...            | -0.5444958     | -0.64879239    |  0.2428516     |  0.19974982    | 1.12004644     |  0.7947682     | 0.3184796      | -0.51734387    | Gastric_cancer | 1              |\n",
       "| PGDX10349P1    | 0.03454358     | -1.0286147     | 0.3685958      | -1.12662266    | -0.8042189     | -0.9181945     | -0.15124313    | 0.5120651      | 2.2926807      | ...            |  0.5371412     | -0.12744117    |  0.4225526     |  0.15168523    | 0.94030365     |  0.5442199     | 1.6525958      |  0.01383398    | Gastric_cancer | 1              |\n",
       "| PGDX10351P1    | 1.25220761     | -1.3596647     | 0.4615063      | -1.20750208    | -0.7935835     | -0.2823848     | -0.37592036    | 0.9370712      | 0.5484292      | ...            |  0.8356236     |  0.02982247    |  0.6091440     |  0.02092330    | 1.02896111     |  0.3744232     | 1.3586522      | -0.20452260    | Gastric_cancer | 1              |\n",
       "| PGDX10566P     | 0.42060193     | -1.0139996     | 1.1073594      | -0.97364296    | -0.5256145     | -0.7092296     | -0.23406615    | 0.8072512      | 0.6548251      | ...            |  0.2332540     | -0.79614677    |  0.3238098     | -0.20121012    | 0.03054838     |  0.4624885     | 1.2128934      | -0.41948429    | Ovarian_Cancer | 1              |\n",
       "| PGDX10567P     | 0.94804965     | -0.7293273     | 1.1532942      | -0.05731926    | -0.7344479     | -0.8104326     |  0.10587807    | 0.6343644      | 0.7289408      | ...            | -0.2284586     | -0.88340246    |  0.3731070     |  0.16567934    | 0.18048909     |  0.2987154     | 1.8230905      | -0.66497791    | Ovarian_Cancer | 1              |\n",
       "\n"
      ],
      "text/plain": [
       "  sample      chr10_400  chr10_40   chr10_4   chr10_401   chr10_402  chr10_403 \n",
       "1 PGDX10344P1 0.30947556 -0.7539309 1.1516740 -0.73103587 -0.2853468 -0.7798561\n",
       "2 PGDX10346P1 1.31264238 -0.8638002 1.0312299 -0.65368812 -0.7419347 -0.4319792\n",
       "3 PGDX10349P1 0.03454358 -1.0286147 0.3685958 -1.12662266 -0.8042189 -0.9181945\n",
       "4 PGDX10351P1 1.25220761 -1.3596647 0.4615063 -1.20750208 -0.7935835 -0.2823848\n",
       "5 PGDX10566P  0.42060193 -1.0139996 1.1073594 -0.97364296 -0.5256145 -0.7092296\n",
       "6 PGDX10567P  0.94804965 -0.7293273 1.1532942 -0.05731926 -0.7344479 -0.8104326\n",
       "  chr10_404   chr10_405 chr10_406 ... chr9_392   chr9_393    chr9_394  \n",
       "1  0.06051166 0.2748797 0.1194668 ...  0.1650859 -0.42256897 -0.2957827\n",
       "2 -0.05947708 0.7711896 0.3962822 ... -0.5444958 -0.64879239  0.2428516\n",
       "3 -0.15124313 0.5120651 2.2926807 ...  0.5371412 -0.12744117  0.4225526\n",
       "4 -0.37592036 0.9370712 0.5484292 ...  0.8356236  0.02982247  0.6091440\n",
       "5 -0.23406615 0.8072512 0.6548251 ...  0.2332540 -0.79614677  0.3238098\n",
       "6  0.10587807 0.6343644 0.7289408 ... -0.2284586 -0.88340246  0.3731070\n",
       "  chr9_395    chr9_396   chr9_397   chr9_398  chr9_399    sample_type   \n",
       "1  0.01479394 0.50865533 -0.6555403 1.3079180 -0.16053665 Gastric_cancer\n",
       "2  0.19974982 1.12004644  0.7947682 0.3184796 -0.51734387 Gastric_cancer\n",
       "3  0.15168523 0.94030365  0.5442199 1.6525958  0.01383398 Gastric_cancer\n",
       "4  0.02092330 1.02896111  0.3744232 1.3586522 -0.20452260 Gastric_cancer\n",
       "5 -0.20121012 0.03054838  0.4624885 1.2128934 -0.41948429 Ovarian_Cancer\n",
       "6  0.16567934 0.18048909  0.2987154 1.8230905 -0.66497791 Ovarian_Cancer\n",
       "  sample_type01\n",
       "1 1            \n",
       "2 1            \n",
       "3 1            \n",
       "4 1            \n",
       "5 1            \n",
       "6 1            "
      ]
     },
     "metadata": {},
     "output_type": "display_data"
    }
   ],
   "source": [
    "data <- merge(lasso_pred, sample_types, by=\"sample\")\n",
    "data <- data %>% mutate(sample_type01 = ifelse(sample_type == \"Healthy\", 0, 1))\n",
    "head(data)"
   ]
  },
  {
   "cell_type": "code",
   "execution_count": 60,
   "id": "c5217763-2292-49be-b4d4-ad54daee2af9",
   "metadata": {},
   "outputs": [],
   "source": [
    "data <- data %>% select(-sample_type)"
   ]
  },
  {
   "cell_type": "code",
   "execution_count": 61,
   "id": "ec836f9e-4902-4d8c-a641-5692b29e8944",
   "metadata": {},
   "outputs": [
    {
     "name": "stderr",
     "output_type": "stream",
     "text": [
      "ERROR while rich displaying an object: Error in sprintf(wrap, header, body): 'fmt' length exceeds maximal format length 8192\n",
      "\n",
      "Traceback:\n",
      "1. FUN(X[[i]], ...)\n",
      "2. tryCatch(withCallingHandlers({\n",
      " .     if (!mime %in% names(repr::mime2repr)) \n",
      " .         stop(\"No repr_* for mimetype \", mime, \" in repr::mime2repr\")\n",
      " .     rpr <- repr::mime2repr[[mime]](obj)\n",
      " .     if (is.null(rpr)) \n",
      " .         return(NULL)\n",
      " .     prepare_content(is.raw(rpr), rpr)\n",
      " . }, error = error_handler), error = outer_handler)\n",
      "3. tryCatchList(expr, classes, parentenv, handlers)\n",
      "4. tryCatchOne(expr, names, parentenv, handlers[[1L]])\n",
      "5. doTryCatch(return(expr), name, parentenv, handler)\n",
      "6. withCallingHandlers({\n",
      " .     if (!mime %in% names(repr::mime2repr)) \n",
      " .         stop(\"No repr_* for mimetype \", mime, \" in repr::mime2repr\")\n",
      " .     rpr <- repr::mime2repr[[mime]](obj)\n",
      " .     if (is.null(rpr)) \n",
      " .         return(NULL)\n",
      " .     prepare_content(is.raw(rpr), rpr)\n",
      " . }, error = error_handler)\n",
      "7. repr::mime2repr[[mime]](obj)\n",
      "8. repr_latex.data.frame(obj)\n",
      "9. repr_matrix_generic(obj, sprintf(\"\\\\begin{tabular}{%s}\\n%%s%%s\\\\end{tabular}\\n\", \n",
      " .     cols), \"%s\\\\\\\\\\n\\\\hline\\n\", \"  &\", \" %s &\", \"%s\", \"\\t%s\\\\\\\\\\n\", \n",
      " .     \"%s &\", \" %s &\", escape_fun = latex_escape_vec, ...)\n",
      "10. sprintf(wrap, header, body)\n"
     ]
    },
    {
     "data": {
      "text/html": [
       "<table>\n",
       "<thead><tr><th scope=col>chr10_400</th><th scope=col>chr10_40</th><th scope=col>chr10_4</th><th scope=col>chr10_401</th><th scope=col>chr10_402</th><th scope=col>chr10_403</th><th scope=col>chr10_404</th><th scope=col>chr10_405</th><th scope=col>chr10_406</th><th scope=col>chr10_407</th><th scope=col>...</th><th scope=col>chr9_391</th><th scope=col>chr9_392</th><th scope=col>chr9_393</th><th scope=col>chr9_394</th><th scope=col>chr9_395</th><th scope=col>chr9_396</th><th scope=col>chr9_397</th><th scope=col>chr9_398</th><th scope=col>chr9_399</th><th scope=col>sample_type01</th></tr></thead>\n",
       "<tbody>\n",
       "\t<tr><td>0.30947556 </td><td>-0.7539309 </td><td>1.1516740  </td><td>-0.73103587</td><td>-0.2853468 </td><td>-0.7798561 </td><td> 0.06051166</td><td>0.2748797  </td><td>0.1194668  </td><td> 1.58616357</td><td>...        </td><td>-0.37970698</td><td> 0.1650859 </td><td>-0.42256897</td><td>-0.2957827 </td><td> 0.01479394</td><td>0.50865533 </td><td>-0.6555403 </td><td>1.3079180  </td><td>-0.16053665</td><td>1          </td></tr>\n",
       "\t<tr><td>1.31264238 </td><td>-0.8638002 </td><td>1.0312299  </td><td>-0.65368812</td><td>-0.7419347 </td><td>-0.4319792 </td><td>-0.05947708</td><td>0.7711896  </td><td>0.3962822  </td><td>-0.01456208</td><td>...        </td><td>-0.25048611</td><td>-0.5444958 </td><td>-0.64879239</td><td> 0.2428516 </td><td> 0.19974982</td><td>1.12004644 </td><td> 0.7947682 </td><td>0.3184796  </td><td>-0.51734387</td><td>1          </td></tr>\n",
       "\t<tr><td>0.03454358 </td><td>-1.0286147 </td><td>0.3685958  </td><td>-1.12662266</td><td>-0.8042189 </td><td>-0.9181945 </td><td>-0.15124313</td><td>0.5120651  </td><td>2.2926807  </td><td> 1.33510514</td><td>...        </td><td> 1.32998993</td><td> 0.5371412 </td><td>-0.12744117</td><td> 0.4225526 </td><td> 0.15168523</td><td>0.94030365 </td><td> 0.5442199 </td><td>1.6525958  </td><td> 0.01383398</td><td>1          </td></tr>\n",
       "\t<tr><td>1.25220761 </td><td>-1.3596647 </td><td>0.4615063  </td><td>-1.20750208</td><td>-0.7935835 </td><td>-0.2823848 </td><td>-0.37592036</td><td>0.9370712  </td><td>0.5484292  </td><td> 0.93190924</td><td>...        </td><td> 0.51918961</td><td> 0.8356236 </td><td> 0.02982247</td><td> 0.6091440 </td><td> 0.02092330</td><td>1.02896111 </td><td> 0.3744232 </td><td>1.3586522  </td><td>-0.20452260</td><td>1          </td></tr>\n",
       "\t<tr><td>0.42060193 </td><td>-1.0139996 </td><td>1.1073594  </td><td>-0.97364296</td><td>-0.5256145 </td><td>-0.7092296 </td><td>-0.23406615</td><td>0.8072512  </td><td>0.6548251  </td><td> 0.87415924</td><td>...        </td><td> 0.03396167</td><td> 0.2332540 </td><td>-0.79614677</td><td> 0.3238098 </td><td>-0.20121012</td><td>0.03054838 </td><td> 0.4624885 </td><td>1.2128934  </td><td>-0.41948429</td><td>1          </td></tr>\n",
       "\t<tr><td>0.94804965 </td><td>-0.7293273 </td><td>1.1532942  </td><td>-0.05731926</td><td>-0.7344479 </td><td>-0.8104326 </td><td> 0.10587807</td><td>0.6343644  </td><td>0.7289408  </td><td> 0.45120878</td><td>...        </td><td> 0.61736424</td><td>-0.2284586 </td><td>-0.88340246</td><td> 0.3731070 </td><td> 0.16567934</td><td>0.18048909 </td><td> 0.2987154 </td><td>1.8230905  </td><td>-0.66497791</td><td>1          </td></tr>\n",
       "</tbody>\n",
       "</table>\n"
      ],
      "text/markdown": [
       "\n",
       "| chr10_400 | chr10_40 | chr10_4 | chr10_401 | chr10_402 | chr10_403 | chr10_404 | chr10_405 | chr10_406 | chr10_407 | ... | chr9_391 | chr9_392 | chr9_393 | chr9_394 | chr9_395 | chr9_396 | chr9_397 | chr9_398 | chr9_399 | sample_type01 |\n",
       "|---|---|---|---|---|---|---|---|---|---|---|---|---|---|---|---|---|---|---|---|---|\n",
       "| 0.30947556  | -0.7539309  | 1.1516740   | -0.73103587 | -0.2853468  | -0.7798561  |  0.06051166 | 0.2748797   | 0.1194668   |  1.58616357 | ...         | -0.37970698 |  0.1650859  | -0.42256897 | -0.2957827  |  0.01479394 | 0.50865533  | -0.6555403  | 1.3079180   | -0.16053665 | 1           |\n",
       "| 1.31264238  | -0.8638002  | 1.0312299   | -0.65368812 | -0.7419347  | -0.4319792  | -0.05947708 | 0.7711896   | 0.3962822   | -0.01456208 | ...         | -0.25048611 | -0.5444958  | -0.64879239 |  0.2428516  |  0.19974982 | 1.12004644  |  0.7947682  | 0.3184796   | -0.51734387 | 1           |\n",
       "| 0.03454358  | -1.0286147  | 0.3685958   | -1.12662266 | -0.8042189  | -0.9181945  | -0.15124313 | 0.5120651   | 2.2926807   |  1.33510514 | ...         |  1.32998993 |  0.5371412  | -0.12744117 |  0.4225526  |  0.15168523 | 0.94030365  |  0.5442199  | 1.6525958   |  0.01383398 | 1           |\n",
       "| 1.25220761  | -1.3596647  | 0.4615063   | -1.20750208 | -0.7935835  | -0.2823848  | -0.37592036 | 0.9370712   | 0.5484292   |  0.93190924 | ...         |  0.51918961 |  0.8356236  |  0.02982247 |  0.6091440  |  0.02092330 | 1.02896111  |  0.3744232  | 1.3586522   | -0.20452260 | 1           |\n",
       "| 0.42060193  | -1.0139996  | 1.1073594   | -0.97364296 | -0.5256145  | -0.7092296  | -0.23406615 | 0.8072512   | 0.6548251   |  0.87415924 | ...         |  0.03396167 |  0.2332540  | -0.79614677 |  0.3238098  | -0.20121012 | 0.03054838  |  0.4624885  | 1.2128934   | -0.41948429 | 1           |\n",
       "| 0.94804965  | -0.7293273  | 1.1532942   | -0.05731926 | -0.7344479  | -0.8104326  |  0.10587807 | 0.6343644   | 0.7289408   |  0.45120878 | ...         |  0.61736424 | -0.2284586  | -0.88340246 |  0.3731070  |  0.16567934 | 0.18048909  |  0.2987154  | 1.8230905   | -0.66497791 | 1           |\n",
       "\n"
      ],
      "text/plain": [
       "  chr10_400  chr10_40   chr10_4   chr10_401   chr10_402  chr10_403  chr10_404  \n",
       "1 0.30947556 -0.7539309 1.1516740 -0.73103587 -0.2853468 -0.7798561  0.06051166\n",
       "2 1.31264238 -0.8638002 1.0312299 -0.65368812 -0.7419347 -0.4319792 -0.05947708\n",
       "3 0.03454358 -1.0286147 0.3685958 -1.12662266 -0.8042189 -0.9181945 -0.15124313\n",
       "4 1.25220761 -1.3596647 0.4615063 -1.20750208 -0.7935835 -0.2823848 -0.37592036\n",
       "5 0.42060193 -1.0139996 1.1073594 -0.97364296 -0.5256145 -0.7092296 -0.23406615\n",
       "6 0.94804965 -0.7293273 1.1532942 -0.05731926 -0.7344479 -0.8104326  0.10587807\n",
       "  chr10_405 chr10_406 chr10_407   ... chr9_391    chr9_392   chr9_393   \n",
       "1 0.2748797 0.1194668  1.58616357 ... -0.37970698  0.1650859 -0.42256897\n",
       "2 0.7711896 0.3962822 -0.01456208 ... -0.25048611 -0.5444958 -0.64879239\n",
       "3 0.5120651 2.2926807  1.33510514 ...  1.32998993  0.5371412 -0.12744117\n",
       "4 0.9370712 0.5484292  0.93190924 ...  0.51918961  0.8356236  0.02982247\n",
       "5 0.8072512 0.6548251  0.87415924 ...  0.03396167  0.2332540 -0.79614677\n",
       "6 0.6343644 0.7289408  0.45120878 ...  0.61736424 -0.2284586 -0.88340246\n",
       "  chr9_394   chr9_395    chr9_396   chr9_397   chr9_398  chr9_399   \n",
       "1 -0.2957827  0.01479394 0.50865533 -0.6555403 1.3079180 -0.16053665\n",
       "2  0.2428516  0.19974982 1.12004644  0.7947682 0.3184796 -0.51734387\n",
       "3  0.4225526  0.15168523 0.94030365  0.5442199 1.6525958  0.01383398\n",
       "4  0.6091440  0.02092330 1.02896111  0.3744232 1.3586522 -0.20452260\n",
       "5  0.3238098 -0.20121012 0.03054838  0.4624885 1.2128934 -0.41948429\n",
       "6  0.3731070  0.16567934 0.18048909  0.2987154 1.8230905 -0.66497791\n",
       "  sample_type01\n",
       "1 1            \n",
       "2 1            \n",
       "3 1            \n",
       "4 1            \n",
       "5 1            \n",
       "6 1            "
      ]
     },
     "metadata": {},
     "output_type": "display_data"
    }
   ],
   "source": [
    "data <- data %>% select(-sample)\n",
    "head(data)"
   ]
  },
  {
   "cell_type": "markdown",
   "id": "b77873f4-60ca-4543-9e7d-cf9cdf8e6e40",
   "metadata": {},
   "source": [
    "Finding a good k with all of the data. For that we split the data in test and training."
   ]
  },
  {
   "cell_type": "code",
   "execution_count": 62,
   "id": "5e9427f5-5201-41f3-bb6c-87077bfd02f1",
   "metadata": {},
   "outputs": [
    {
     "data": {
      "text/html": [
       "<ol class=list-inline>\n",
       "\t<li>425</li>\n",
       "\t<li>10304</li>\n",
       "</ol>\n"
      ],
      "text/latex": [
       "\\begin{enumerate*}\n",
       "\\item 425\n",
       "\\item 10304\n",
       "\\end{enumerate*}\n"
      ],
      "text/markdown": [
       "1. 425\n",
       "2. 10304\n",
       "\n",
       "\n"
      ],
      "text/plain": [
       "[1]   425 10304"
      ]
     },
     "metadata": {},
     "output_type": "display_data"
    },
    {
     "data": {
      "text/html": [
       "<ol class=list-inline>\n",
       "\t<li>48</li>\n",
       "\t<li>10304</li>\n",
       "</ol>\n"
      ],
      "text/latex": [
       "\\begin{enumerate*}\n",
       "\\item 48\n",
       "\\item 10304\n",
       "\\end{enumerate*}\n"
      ],
      "text/markdown": [
       "1. 48\n",
       "2. 10304\n",
       "\n",
       "\n"
      ],
      "text/plain": [
       "[1]    48 10304"
      ]
     },
     "metadata": {},
     "output_type": "display_data"
    }
   ],
   "source": [
    "#cvfolds <- cut(seq_len(nrow(data)), breaks = 2, labels = F)\n",
    "#cvfolds <- sample(cvfolds)\n",
    "\n",
    "#test  <- data[-rows,]\n",
    "#test_labels <- test$sample_type01\n",
    "#train <- data[rows,]\n",
    "#train_labels <- train$sample_type01\n",
    "\n",
    "smp_size <- floor(0.9 * nrow(data))\n",
    "\n",
    "## set the seed to make your partition reproducible\n",
    "set.seed(123)\n",
    "train_ind <- sample(seq_len(nrow(data)), size = smp_size)\n",
    "\n",
    "train <- data[train_ind, ]\n",
    "test <- data[-train_ind, ]\n",
    "test_labels <- test$sample_type01\n",
    "train_labels <- train$sample_type01\n",
    "\n",
    "dim(train)\n",
    "dim(test)"
   ]
  },
  {
   "cell_type": "code",
   "execution_count": 63,
   "id": "9e336fd6-4d84-47cc-b3bd-aa9a46c3a5fb",
   "metadata": {},
   "outputs": [],
   "source": [
    "#A function that performs the KNN method on a range of k's\n",
    "test_k <- function(train, test, train_labels, test_labels, k) {\n",
    "  err <- c()\n",
    "  for (i in k) {\n",
    "    pred = knn(train = train, \n",
    "               test  = test, \n",
    "               cl    = train_labels, \n",
    "               k     = k[i], \n",
    "              prob = TRUE, \n",
    "              use.all = TRUE)\n",
    "    err[i] <- mean(test_labels != pred)\n",
    "  }\n",
    "  df <- data.frame(k = k, x = 1/k, err_rate = err)\n",
    "  return(df)\n",
    "}"
   ]
  },
  {
   "cell_type": "code",
   "execution_count": 64,
   "id": "487466aa-e9d8-4ed6-97f8-dca137972e69",
   "metadata": {},
   "outputs": [],
   "source": [
    "best_k <- test_k(train, test, train_labels, test_labels, 1:25)"
   ]
  },
  {
   "cell_type": "code",
   "execution_count": 65,
   "id": "28bda832-83d7-4a95-b1d5-12d48a9767ff",
   "metadata": {
    "tags": []
   },
   "outputs": [
    {
     "data": {
      "text/html": [
       "<table>\n",
       "<thead><tr><th scope=col>k</th><th scope=col>x</th><th scope=col>err_rate</th></tr></thead>\n",
       "<tbody>\n",
       "\t<tr><td> 1        </td><td>1.00000000</td><td>0.4791667 </td></tr>\n",
       "\t<tr><td> 2        </td><td>0.50000000</td><td>0.4583333 </td></tr>\n",
       "\t<tr><td> 3        </td><td>0.33333333</td><td>0.4375000 </td></tr>\n",
       "\t<tr><td> 4        </td><td>0.25000000</td><td>0.4375000 </td></tr>\n",
       "\t<tr><td> 5        </td><td>0.20000000</td><td>0.4375000 </td></tr>\n",
       "\t<tr><td> 6        </td><td>0.16666667</td><td>0.4583333 </td></tr>\n",
       "\t<tr><td> 7        </td><td>0.14285714</td><td>0.4583333 </td></tr>\n",
       "\t<tr><td> 8        </td><td>0.12500000</td><td>0.4583333 </td></tr>\n",
       "\t<tr><td> 9        </td><td>0.11111111</td><td>0.4583333 </td></tr>\n",
       "\t<tr><td>10        </td><td>0.10000000</td><td>0.4583333 </td></tr>\n",
       "\t<tr><td>11        </td><td>0.09090909</td><td>0.4583333 </td></tr>\n",
       "\t<tr><td>12        </td><td>0.08333333</td><td>0.4583333 </td></tr>\n",
       "\t<tr><td>13        </td><td>0.07692308</td><td>0.4583333 </td></tr>\n",
       "\t<tr><td>14        </td><td>0.07142857</td><td>0.4583333 </td></tr>\n",
       "\t<tr><td>15        </td><td>0.06666667</td><td>0.4583333 </td></tr>\n",
       "\t<tr><td>16        </td><td>0.06250000</td><td>0.4583333 </td></tr>\n",
       "\t<tr><td>17        </td><td>0.05882353</td><td>0.4583333 </td></tr>\n",
       "\t<tr><td>18        </td><td>0.05555556</td><td>0.4583333 </td></tr>\n",
       "\t<tr><td>19        </td><td>0.05263158</td><td>0.4583333 </td></tr>\n",
       "\t<tr><td>20        </td><td>0.05000000</td><td>0.4583333 </td></tr>\n",
       "\t<tr><td>21        </td><td>0.04761905</td><td>0.4583333 </td></tr>\n",
       "\t<tr><td>22        </td><td>0.04545455</td><td>0.4583333 </td></tr>\n",
       "\t<tr><td>23        </td><td>0.04347826</td><td>0.4583333 </td></tr>\n",
       "\t<tr><td>24        </td><td>0.04166667</td><td>0.4583333 </td></tr>\n",
       "\t<tr><td>25        </td><td>0.04000000</td><td>0.4583333 </td></tr>\n",
       "</tbody>\n",
       "</table>\n"
      ],
      "text/latex": [
       "\\begin{tabular}{r|lll}\n",
       " k & x & err\\_rate\\\\\n",
       "\\hline\n",
       "\t  1         & 1.00000000 & 0.4791667 \\\\\n",
       "\t  2         & 0.50000000 & 0.4583333 \\\\\n",
       "\t  3         & 0.33333333 & 0.4375000 \\\\\n",
       "\t  4         & 0.25000000 & 0.4375000 \\\\\n",
       "\t  5         & 0.20000000 & 0.4375000 \\\\\n",
       "\t  6         & 0.16666667 & 0.4583333 \\\\\n",
       "\t  7         & 0.14285714 & 0.4583333 \\\\\n",
       "\t  8         & 0.12500000 & 0.4583333 \\\\\n",
       "\t  9         & 0.11111111 & 0.4583333 \\\\\n",
       "\t 10         & 0.10000000 & 0.4583333 \\\\\n",
       "\t 11         & 0.09090909 & 0.4583333 \\\\\n",
       "\t 12         & 0.08333333 & 0.4583333 \\\\\n",
       "\t 13         & 0.07692308 & 0.4583333 \\\\\n",
       "\t 14         & 0.07142857 & 0.4583333 \\\\\n",
       "\t 15         & 0.06666667 & 0.4583333 \\\\\n",
       "\t 16         & 0.06250000 & 0.4583333 \\\\\n",
       "\t 17         & 0.05882353 & 0.4583333 \\\\\n",
       "\t 18         & 0.05555556 & 0.4583333 \\\\\n",
       "\t 19         & 0.05263158 & 0.4583333 \\\\\n",
       "\t 20         & 0.05000000 & 0.4583333 \\\\\n",
       "\t 21         & 0.04761905 & 0.4583333 \\\\\n",
       "\t 22         & 0.04545455 & 0.4583333 \\\\\n",
       "\t 23         & 0.04347826 & 0.4583333 \\\\\n",
       "\t 24         & 0.04166667 & 0.4583333 \\\\\n",
       "\t 25         & 0.04000000 & 0.4583333 \\\\\n",
       "\\end{tabular}\n"
      ],
      "text/markdown": [
       "\n",
       "| k | x | err_rate |\n",
       "|---|---|---|\n",
       "|  1         | 1.00000000 | 0.4791667  |\n",
       "|  2         | 0.50000000 | 0.4583333  |\n",
       "|  3         | 0.33333333 | 0.4375000  |\n",
       "|  4         | 0.25000000 | 0.4375000  |\n",
       "|  5         | 0.20000000 | 0.4375000  |\n",
       "|  6         | 0.16666667 | 0.4583333  |\n",
       "|  7         | 0.14285714 | 0.4583333  |\n",
       "|  8         | 0.12500000 | 0.4583333  |\n",
       "|  9         | 0.11111111 | 0.4583333  |\n",
       "| 10         | 0.10000000 | 0.4583333  |\n",
       "| 11         | 0.09090909 | 0.4583333  |\n",
       "| 12         | 0.08333333 | 0.4583333  |\n",
       "| 13         | 0.07692308 | 0.4583333  |\n",
       "| 14         | 0.07142857 | 0.4583333  |\n",
       "| 15         | 0.06666667 | 0.4583333  |\n",
       "| 16         | 0.06250000 | 0.4583333  |\n",
       "| 17         | 0.05882353 | 0.4583333  |\n",
       "| 18         | 0.05555556 | 0.4583333  |\n",
       "| 19         | 0.05263158 | 0.4583333  |\n",
       "| 20         | 0.05000000 | 0.4583333  |\n",
       "| 21         | 0.04761905 | 0.4583333  |\n",
       "| 22         | 0.04545455 | 0.4583333  |\n",
       "| 23         | 0.04347826 | 0.4583333  |\n",
       "| 24         | 0.04166667 | 0.4583333  |\n",
       "| 25         | 0.04000000 | 0.4583333  |\n",
       "\n"
      ],
      "text/plain": [
       "   k  x          err_rate \n",
       "1   1 1.00000000 0.4791667\n",
       "2   2 0.50000000 0.4583333\n",
       "3   3 0.33333333 0.4375000\n",
       "4   4 0.25000000 0.4375000\n",
       "5   5 0.20000000 0.4375000\n",
       "6   6 0.16666667 0.4583333\n",
       "7   7 0.14285714 0.4583333\n",
       "8   8 0.12500000 0.4583333\n",
       "9   9 0.11111111 0.4583333\n",
       "10 10 0.10000000 0.4583333\n",
       "11 11 0.09090909 0.4583333\n",
       "12 12 0.08333333 0.4583333\n",
       "13 13 0.07692308 0.4583333\n",
       "14 14 0.07142857 0.4583333\n",
       "15 15 0.06666667 0.4583333\n",
       "16 16 0.06250000 0.4583333\n",
       "17 17 0.05882353 0.4583333\n",
       "18 18 0.05555556 0.4583333\n",
       "19 19 0.05263158 0.4583333\n",
       "20 20 0.05000000 0.4583333\n",
       "21 21 0.04761905 0.4583333\n",
       "22 22 0.04545455 0.4583333\n",
       "23 23 0.04347826 0.4583333\n",
       "24 24 0.04166667 0.4583333\n",
       "25 25 0.04000000 0.4583333"
      ]
     },
     "metadata": {},
     "output_type": "display_data"
    }
   ],
   "source": [
    "best_k"
   ]
  },
  {
   "cell_type": "code",
   "execution_count": 66,
   "id": "e6050852-df4f-4760-b984-b89036d7dabc",
   "metadata": {},
   "outputs": [
    {
     "data": {
      "text/html": [
       "<table>\n",
       "<thead><tr><th></th><th scope=col>k</th><th scope=col>x</th><th scope=col>err_rate</th></tr></thead>\n",
       "<tbody>\n",
       "\t<tr><th scope=row>3</th><td>3        </td><td>0.3333333</td><td>0.4375   </td></tr>\n",
       "</tbody>\n",
       "</table>\n"
      ],
      "text/latex": [
       "\\begin{tabular}{r|lll}\n",
       "  & k & x & err\\_rate\\\\\n",
       "\\hline\n",
       "\t3 & 3         & 0.3333333 & 0.4375   \\\\\n",
       "\\end{tabular}\n"
      ],
      "text/markdown": [
       "\n",
       "| <!--/--> | k | x | err_rate |\n",
       "|---|---|---|---|\n",
       "| 3 | 3         | 0.3333333 | 0.4375    |\n",
       "\n"
      ],
      "text/plain": [
       "  k x         err_rate\n",
       "3 3 0.3333333 0.4375  "
      ]
     },
     "metadata": {},
     "output_type": "display_data"
    },
    {
     "data": {
      "text/html": [
       "3"
      ],
      "text/latex": [
       "3"
      ],
      "text/markdown": [
       "3"
      ],
      "text/plain": [
       "[1] 3"
      ]
     },
     "metadata": {},
     "output_type": "display_data"
    }
   ],
   "source": [
    "best_k[which.min(best_k$err_rate), ]\n",
    "knn_k <- as.numeric(best_k[which.min(best_k$err_rate), ]$k)\n",
    "knn_k"
   ]
  },
  {
   "cell_type": "code",
   "execution_count": 78,
   "id": "c7533d18-673d-4dbe-85d9-bd2afddb41f8",
   "metadata": {},
   "outputs": [
    {
     "name": "stderr",
     "output_type": "stream",
     "text": [
      "also installing the dependency ‘minerva’\n",
      "\n",
      "Updating HTML index of packages in '.Library'\n",
      "Making 'packages.html' ... done\n"
     ]
    }
   ],
   "source": [
    "install.packages(\"KODAMA\")"
   ]
  },
  {
   "cell_type": "code",
   "execution_count": 84,
   "id": "a229aff2-20af-45c2-ae57-9e019b26fbd9",
   "metadata": {},
   "outputs": [],
   "source": [
    "library(class)"
   ]
  },
  {
   "cell_type": "markdown",
   "id": "a107b334-4fcd-4de8-a29b-016d27286da8",
   "metadata": {},
   "source": [
    "KNN predictions"
   ]
  },
  {
   "cell_type": "code",
   "execution_count": 93,
   "id": "ace9b9d2-5451-49e6-8576-1bff9e2c4793",
   "metadata": {},
   "outputs": [],
   "source": [
    "cross_validation <- function(dataset, k, knn_k){\n",
    "  \n",
    "  cvfolds <- cut(seq_len(nrow(dataset)), breaks = k, labels = F)\n",
    "  cvfolds <- sample(cvfolds)\n",
    "  \n",
    "  observed  <- dataset$sample_type01\n",
    "  predicted <- rep(NA, nrow(dataset))\n",
    "  \n",
    "  for (i in 1:k){\n",
    "    rows      <- which(cvfolds==i)\n",
    "    testdata  <- dataset[rows,]\n",
    "    testdata <- testdata %>% select(-sample_type01)\n",
    "    testlabels <- testdata$sample_type01\n",
    "    \n",
    "    traindata <- dataset[-rows,]\n",
    "    trainlabels <- traindata$sample_type01\n",
    "    traindata <- traindata %>% select(-sample_type01)\n",
    "    fit       <- knn(train = traindata, \n",
    "                test = testdata, \n",
    "                cl = trainlabels,\n",
    "                k = knn_k,\n",
    "                prob = TRUE)\n",
    "      #message(fit)\n",
    "      #message(attributes(fit)$prob)\n",
    "    fit <- attributes(fit)$prob\n",
    "    #fit <- as.numeric(fit) - 1 \n",
    "    predicted[rows] <- fit\n",
    "  }\n",
    "  \n",
    "    #message(observed)\n",
    "    #message(predicted)  \n",
    "    #auc_result <- auc(observed, predicted)\n",
    "\n",
    "    results <- cbind(observed, predicted)\n",
    "\n",
    "  return(results)\n",
    "}"
   ]
  },
  {
   "cell_type": "code",
   "execution_count": 94,
   "id": "045b6f1e-f676-49b9-b1c2-f3ce746c304e",
   "metadata": {},
   "outputs": [
    {
     "data": {
      "text/html": [
       "<table>\n",
       "<thead><tr><th scope=col>observed</th><th scope=col>predicted</th></tr></thead>\n",
       "<tbody>\n",
       "\t<tr><td>1</td><td>1</td></tr>\n",
       "\t<tr><td>1</td><td>1</td></tr>\n",
       "\t<tr><td>1</td><td>1</td></tr>\n",
       "\t<tr><td>1</td><td>1</td></tr>\n",
       "\t<tr><td>1</td><td>1</td></tr>\n",
       "\t<tr><td>1</td><td>1</td></tr>\n",
       "</tbody>\n",
       "</table>\n"
      ],
      "text/latex": [
       "\\begin{tabular}{r|ll}\n",
       " observed & predicted\\\\\n",
       "\\hline\n",
       "\t 1 & 1\\\\\n",
       "\t 1 & 1\\\\\n",
       "\t 1 & 1\\\\\n",
       "\t 1 & 1\\\\\n",
       "\t 1 & 1\\\\\n",
       "\t 1 & 1\\\\\n",
       "\\end{tabular}\n"
      ],
      "text/markdown": [
       "\n",
       "| observed | predicted |\n",
       "|---|---|\n",
       "| 1 | 1 |\n",
       "| 1 | 1 |\n",
       "| 1 | 1 |\n",
       "| 1 | 1 |\n",
       "| 1 | 1 |\n",
       "| 1 | 1 |\n",
       "\n"
      ],
      "text/plain": [
       "  observed predicted\n",
       "1 1        1        \n",
       "2 1        1        \n",
       "3 1        1        \n",
       "4 1        1        \n",
       "5 1        1        \n",
       "6 1        1        "
      ]
     },
     "metadata": {},
     "output_type": "display_data"
    }
   ],
   "source": [
    "results <- as.data.frame(cross_validation(data, 10, knn_k))\n",
    "head(results)"
   ]
  },
  {
   "cell_type": "markdown",
   "id": "d116b1d6-1a83-41c7-b076-f392dfe67400",
   "metadata": {},
   "source": [
    "Plot the roc curve"
   ]
  },
  {
   "cell_type": "code",
   "execution_count": 97,
   "id": "b804f7db-9553-4fa9-a3ee-8ac8dddf8bf8",
   "metadata": {
    "tags": []
   },
   "outputs": [
    {
     "data": {
      "text/html": [
       "<table>\n",
       "<thead><tr><th scope=col>observed</th><th scope=col>predicted</th></tr></thead>\n",
       "<tbody>\n",
       "\t<tr><td>1        </td><td>1.0000000</td></tr>\n",
       "\t<tr><td>1        </td><td>1.0000000</td></tr>\n",
       "\t<tr><td>1        </td><td>1.0000000</td></tr>\n",
       "\t<tr><td>1        </td><td>1.0000000</td></tr>\n",
       "\t<tr><td>1        </td><td>1.0000000</td></tr>\n",
       "\t<tr><td>1        </td><td>1.0000000</td></tr>\n",
       "\t<tr><td>1        </td><td>1.0000000</td></tr>\n",
       "\t<tr><td>1        </td><td>1.0000000</td></tr>\n",
       "\t<tr><td>1        </td><td>1.0000000</td></tr>\n",
       "\t<tr><td>1        </td><td>1.0000000</td></tr>\n",
       "\t<tr><td>1        </td><td>1.0000000</td></tr>\n",
       "\t<tr><td>1        </td><td>1.0000000</td></tr>\n",
       "\t<tr><td>1        </td><td>1.0000000</td></tr>\n",
       "\t<tr><td>1        </td><td>1.0000000</td></tr>\n",
       "\t<tr><td>1        </td><td>1.0000000</td></tr>\n",
       "\t<tr><td>1        </td><td>1.0000000</td></tr>\n",
       "\t<tr><td>1        </td><td>1.0000000</td></tr>\n",
       "\t<tr><td>1        </td><td>1.0000000</td></tr>\n",
       "\t<tr><td>1        </td><td>1.0000000</td></tr>\n",
       "\t<tr><td>1        </td><td>1.0000000</td></tr>\n",
       "\t<tr><td>1        </td><td>1.0000000</td></tr>\n",
       "\t<tr><td>1        </td><td>1.0000000</td></tr>\n",
       "\t<tr><td>1        </td><td>0.6666667</td></tr>\n",
       "\t<tr><td>1        </td><td>1.0000000</td></tr>\n",
       "\t<tr><td>1        </td><td>0.6666667</td></tr>\n",
       "\t<tr><td>1        </td><td>1.0000000</td></tr>\n",
       "\t<tr><td>1        </td><td>1.0000000</td></tr>\n",
       "\t<tr><td>1        </td><td>1.0000000</td></tr>\n",
       "\t<tr><td>1        </td><td>1.0000000</td></tr>\n",
       "\t<tr><td>1        </td><td>1.0000000</td></tr>\n",
       "\t<tr><td>...</td><td>...</td></tr>\n",
       "\t<tr><td>1        </td><td>1.0000000</td></tr>\n",
       "\t<tr><td>1        </td><td>1.0000000</td></tr>\n",
       "\t<tr><td>1        </td><td>1.0000000</td></tr>\n",
       "\t<tr><td>1        </td><td>1.0000000</td></tr>\n",
       "\t<tr><td>1        </td><td>1.0000000</td></tr>\n",
       "\t<tr><td>1        </td><td>1.0000000</td></tr>\n",
       "\t<tr><td>1        </td><td>1.0000000</td></tr>\n",
       "\t<tr><td>1        </td><td>1.0000000</td></tr>\n",
       "\t<tr><td>1        </td><td>1.0000000</td></tr>\n",
       "\t<tr><td>1        </td><td>0.6666667</td></tr>\n",
       "\t<tr><td>1        </td><td>1.0000000</td></tr>\n",
       "\t<tr><td>1        </td><td>1.0000000</td></tr>\n",
       "\t<tr><td>1        </td><td>1.0000000</td></tr>\n",
       "\t<tr><td>1        </td><td>1.0000000</td></tr>\n",
       "\t<tr><td>1        </td><td>0.6666667</td></tr>\n",
       "\t<tr><td>1        </td><td>1.0000000</td></tr>\n",
       "\t<tr><td>1        </td><td>1.0000000</td></tr>\n",
       "\t<tr><td>1        </td><td>0.6666667</td></tr>\n",
       "\t<tr><td>1        </td><td>1.0000000</td></tr>\n",
       "\t<tr><td>1        </td><td>0.6666667</td></tr>\n",
       "\t<tr><td>1        </td><td>1.0000000</td></tr>\n",
       "\t<tr><td>1        </td><td>1.0000000</td></tr>\n",
       "\t<tr><td>1        </td><td>1.0000000</td></tr>\n",
       "\t<tr><td>1        </td><td>1.0000000</td></tr>\n",
       "\t<tr><td>1        </td><td>1.0000000</td></tr>\n",
       "\t<tr><td>1        </td><td>0.6666667</td></tr>\n",
       "\t<tr><td>1        </td><td>0.6666667</td></tr>\n",
       "\t<tr><td>1        </td><td>0.6666667</td></tr>\n",
       "\t<tr><td>1        </td><td>1.0000000</td></tr>\n",
       "\t<tr><td>1        </td><td>1.0000000</td></tr>\n",
       "</tbody>\n",
       "</table>\n"
      ],
      "text/latex": [
       "\\begin{tabular}{r|ll}\n",
       " observed & predicted\\\\\n",
       "\\hline\n",
       "\t 1         & 1.0000000\\\\\n",
       "\t 1         & 1.0000000\\\\\n",
       "\t 1         & 1.0000000\\\\\n",
       "\t 1         & 1.0000000\\\\\n",
       "\t 1         & 1.0000000\\\\\n",
       "\t 1         & 1.0000000\\\\\n",
       "\t 1         & 1.0000000\\\\\n",
       "\t 1         & 1.0000000\\\\\n",
       "\t 1         & 1.0000000\\\\\n",
       "\t 1         & 1.0000000\\\\\n",
       "\t 1         & 1.0000000\\\\\n",
       "\t 1         & 1.0000000\\\\\n",
       "\t 1         & 1.0000000\\\\\n",
       "\t 1         & 1.0000000\\\\\n",
       "\t 1         & 1.0000000\\\\\n",
       "\t 1         & 1.0000000\\\\\n",
       "\t 1         & 1.0000000\\\\\n",
       "\t 1         & 1.0000000\\\\\n",
       "\t 1         & 1.0000000\\\\\n",
       "\t 1         & 1.0000000\\\\\n",
       "\t 1         & 1.0000000\\\\\n",
       "\t 1         & 1.0000000\\\\\n",
       "\t 1         & 0.6666667\\\\\n",
       "\t 1         & 1.0000000\\\\\n",
       "\t 1         & 0.6666667\\\\\n",
       "\t 1         & 1.0000000\\\\\n",
       "\t 1         & 1.0000000\\\\\n",
       "\t 1         & 1.0000000\\\\\n",
       "\t 1         & 1.0000000\\\\\n",
       "\t 1         & 1.0000000\\\\\n",
       "\t ... & ...\\\\\n",
       "\t 1         & 1.0000000\\\\\n",
       "\t 1         & 1.0000000\\\\\n",
       "\t 1         & 1.0000000\\\\\n",
       "\t 1         & 1.0000000\\\\\n",
       "\t 1         & 1.0000000\\\\\n",
       "\t 1         & 1.0000000\\\\\n",
       "\t 1         & 1.0000000\\\\\n",
       "\t 1         & 1.0000000\\\\\n",
       "\t 1         & 1.0000000\\\\\n",
       "\t 1         & 0.6666667\\\\\n",
       "\t 1         & 1.0000000\\\\\n",
       "\t 1         & 1.0000000\\\\\n",
       "\t 1         & 1.0000000\\\\\n",
       "\t 1         & 1.0000000\\\\\n",
       "\t 1         & 0.6666667\\\\\n",
       "\t 1         & 1.0000000\\\\\n",
       "\t 1         & 1.0000000\\\\\n",
       "\t 1         & 0.6666667\\\\\n",
       "\t 1         & 1.0000000\\\\\n",
       "\t 1         & 0.6666667\\\\\n",
       "\t 1         & 1.0000000\\\\\n",
       "\t 1         & 1.0000000\\\\\n",
       "\t 1         & 1.0000000\\\\\n",
       "\t 1         & 1.0000000\\\\\n",
       "\t 1         & 1.0000000\\\\\n",
       "\t 1         & 0.6666667\\\\\n",
       "\t 1         & 0.6666667\\\\\n",
       "\t 1         & 0.6666667\\\\\n",
       "\t 1         & 1.0000000\\\\\n",
       "\t 1         & 1.0000000\\\\\n",
       "\\end{tabular}\n"
      ],
      "text/markdown": [
       "\n",
       "| observed | predicted |\n",
       "|---|---|\n",
       "| 1         | 1.0000000 |\n",
       "| 1         | 1.0000000 |\n",
       "| 1         | 1.0000000 |\n",
       "| 1         | 1.0000000 |\n",
       "| 1         | 1.0000000 |\n",
       "| 1         | 1.0000000 |\n",
       "| 1         | 1.0000000 |\n",
       "| 1         | 1.0000000 |\n",
       "| 1         | 1.0000000 |\n",
       "| 1         | 1.0000000 |\n",
       "| 1         | 1.0000000 |\n",
       "| 1         | 1.0000000 |\n",
       "| 1         | 1.0000000 |\n",
       "| 1         | 1.0000000 |\n",
       "| 1         | 1.0000000 |\n",
       "| 1         | 1.0000000 |\n",
       "| 1         | 1.0000000 |\n",
       "| 1         | 1.0000000 |\n",
       "| 1         | 1.0000000 |\n",
       "| 1         | 1.0000000 |\n",
       "| 1         | 1.0000000 |\n",
       "| 1         | 1.0000000 |\n",
       "| 1         | 0.6666667 |\n",
       "| 1         | 1.0000000 |\n",
       "| 1         | 0.6666667 |\n",
       "| 1         | 1.0000000 |\n",
       "| 1         | 1.0000000 |\n",
       "| 1         | 1.0000000 |\n",
       "| 1         | 1.0000000 |\n",
       "| 1         | 1.0000000 |\n",
       "| ... | ... |\n",
       "| 1         | 1.0000000 |\n",
       "| 1         | 1.0000000 |\n",
       "| 1         | 1.0000000 |\n",
       "| 1         | 1.0000000 |\n",
       "| 1         | 1.0000000 |\n",
       "| 1         | 1.0000000 |\n",
       "| 1         | 1.0000000 |\n",
       "| 1         | 1.0000000 |\n",
       "| 1         | 1.0000000 |\n",
       "| 1         | 0.6666667 |\n",
       "| 1         | 1.0000000 |\n",
       "| 1         | 1.0000000 |\n",
       "| 1         | 1.0000000 |\n",
       "| 1         | 1.0000000 |\n",
       "| 1         | 0.6666667 |\n",
       "| 1         | 1.0000000 |\n",
       "| 1         | 1.0000000 |\n",
       "| 1         | 0.6666667 |\n",
       "| 1         | 1.0000000 |\n",
       "| 1         | 0.6666667 |\n",
       "| 1         | 1.0000000 |\n",
       "| 1         | 1.0000000 |\n",
       "| 1         | 1.0000000 |\n",
       "| 1         | 1.0000000 |\n",
       "| 1         | 1.0000000 |\n",
       "| 1         | 0.6666667 |\n",
       "| 1         | 0.6666667 |\n",
       "| 1         | 0.6666667 |\n",
       "| 1         | 1.0000000 |\n",
       "| 1         | 1.0000000 |\n",
       "\n"
      ],
      "text/plain": [
       "    observed predicted\n",
       "1   1        1.0000000\n",
       "2   1        1.0000000\n",
       "3   1        1.0000000\n",
       "4   1        1.0000000\n",
       "5   1        1.0000000\n",
       "6   1        1.0000000\n",
       "7   1        1.0000000\n",
       "8   1        1.0000000\n",
       "9   1        1.0000000\n",
       "10  1        1.0000000\n",
       "11  1        1.0000000\n",
       "12  1        1.0000000\n",
       "13  1        1.0000000\n",
       "14  1        1.0000000\n",
       "15  1        1.0000000\n",
       "16  1        1.0000000\n",
       "17  1        1.0000000\n",
       "18  1        1.0000000\n",
       "19  1        1.0000000\n",
       "20  1        1.0000000\n",
       "21  1        1.0000000\n",
       "22  1        1.0000000\n",
       "23  1        0.6666667\n",
       "24  1        1.0000000\n",
       "25  1        0.6666667\n",
       "26  1        1.0000000\n",
       "27  1        1.0000000\n",
       "28  1        1.0000000\n",
       "29  1        1.0000000\n",
       "30  1        1.0000000\n",
       "... ...      ...      \n",
       "444 1        1.0000000\n",
       "445 1        1.0000000\n",
       "446 1        1.0000000\n",
       "447 1        1.0000000\n",
       "448 1        1.0000000\n",
       "449 1        1.0000000\n",
       "450 1        1.0000000\n",
       "451 1        1.0000000\n",
       "452 1        1.0000000\n",
       "453 1        0.6666667\n",
       "454 1        1.0000000\n",
       "455 1        1.0000000\n",
       "456 1        1.0000000\n",
       "457 1        1.0000000\n",
       "458 1        0.6666667\n",
       "459 1        1.0000000\n",
       "460 1        1.0000000\n",
       "461 1        0.6666667\n",
       "462 1        1.0000000\n",
       "463 1        0.6666667\n",
       "464 1        1.0000000\n",
       "465 1        1.0000000\n",
       "466 1        1.0000000\n",
       "467 1        1.0000000\n",
       "468 1        1.0000000\n",
       "469 1        0.6666667\n",
       "470 1        0.6666667\n",
       "471 1        0.6666667\n",
       "472 1        1.0000000\n",
       "473 1        1.0000000"
      ]
     },
     "metadata": {},
     "output_type": "display_data"
    }
   ],
   "source": [
    "(results)"
   ]
  },
  {
   "cell_type": "code",
   "execution_count": null,
   "id": "c3b1b3e2-7a30-4b24-8eb8-7dbea81c92bf",
   "metadata": {},
   "outputs": [],
   "source": []
  },
  {
   "cell_type": "code",
   "execution_count": null,
   "id": "6483db5e-b481-4f0c-8dad-9978ee60a2d4",
   "metadata": {},
   "outputs": [],
   "source": []
  },
  {
   "cell_type": "code",
   "execution_count": null,
   "id": "4f16e195-2140-4b12-9589-4f1464329429",
   "metadata": {},
   "outputs": [],
   "source": []
  },
  {
   "cell_type": "code",
   "execution_count": 100,
   "id": "3985304f-ba78-4498-8f47-9d9460320169",
   "metadata": {},
   "outputs": [
    {
     "name": "stderr",
     "output_type": "stream",
     "text": [
      "Setting levels: control = 0.666666666666667, case = 1\n",
      "Setting direction: controls > cases\n",
      "Setting levels: control = 0.666666666666667, case = 1\n",
      "Setting direction: controls > cases\n"
     ]
    },
    {
     "data": {
      "text/html": [
       "0.700178626902765"
      ],
      "text/latex": [
       "0.700178626902765"
      ],
      "text/markdown": [
       "0.700178626902765"
      ],
      "text/plain": [
       "Area under the curve: 0.7002"
      ]
     },
     "metadata": {},
     "output_type": "display_data"
    }
   ],
   "source": [
    "roc.plot <- roc(results$predicted, results$observed)\n",
    "\n",
    "auc(results$predicted, results$observed)"
   ]
  },
  {
   "cell_type": "code",
   "execution_count": 99,
   "id": "0d481be6-990d-4978-89b6-588cf71d25f9",
   "metadata": {},
   "outputs": [
    {
     "data": {
      "image/png": "[encoded data removed]",
      "text/plain": [
       "plot without title"
      ]
     },
     "metadata": {},
     "output_type": "display_data"
    }
   ],
   "source": [
    "plot(roc.plot)"
   ]
  },
  {
   "cell_type": "code",
   "execution_count": 72,
   "id": "52b60560-4d40-4f37-9e30-d3f0c0ba42ec",
   "metadata": {},
   "outputs": [
    {
     "data": {
      "text/html": [
       "0.453658972982644"
      ],
      "text/latex": [
       "0.453658972982644"
      ],
      "text/markdown": [
       "0.453658972982644"
      ],
      "text/plain": [
       "Area under the curve: 0.4537"
      ]
     },
     "metadata": {},
     "output_type": "display_data"
    }
   ],
   "source": [
    "auc(roc.plot)"
   ]
  },
  {
   "cell_type": "code",
   "execution_count": null,
   "id": "f72fe7dd-ff61-4e22-8260-90518009850c",
   "metadata": {},
   "outputs": [],
   "source": []
  }
 ],
 "metadata": {
  "kernelspec": {
   "display_name": "R",
   "language": "R",
   "name": "ir"
  },
  "language_info": {
   "codemirror_mode": "r",
   "file_extension": ".r",
   "mimetype": "text/x-r-source",
   "name": "R",
   "pygments_lexer": "r",
   "version": "3.6.1"
  }
 },
 "nbformat": 4,
 "nbformat_minor": 5
}
