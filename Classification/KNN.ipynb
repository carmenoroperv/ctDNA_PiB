{
 "cells": [
  {
   "cell_type": "markdown",
   "id": "ca5d8938-6941-4ed6-a2c4-b938a348078f",
   "metadata": {},
   "source": [
    "# KNN"
   ]
  },
  {
   "cell_type": "code",
   "execution_count": 46,
   "id": "81286412-ff1a-4a22-bacb-92984948b518",
   "metadata": {},
   "outputs": [],
   "source": [
    "library(dplyr)\n",
    "library(class)\n",
    "library(tidyverse)"
   ]
  },
  {
   "cell_type": "markdown",
   "id": "029da33d-fbd8-4c65-89bc-b7680e36ec85",
   "metadata": {},
   "source": [
    "Reading in the data"
   ]
  },
  {
   "cell_type": "code",
   "execution_count": 47,
   "id": "a548ebed-cd6e-445f-bda4-193e72b6ed0b",
   "metadata": {},
   "outputs": [],
   "source": [
    "bin1 = rnorm(10, 0.5, 0.2)\n",
    "bin2 = rnorm(10, 0.5, 0.2)\n",
    "bin3 = rnorm(10, 0.5, 0.2)\n",
    "bin4 = rnorm(10, 0.5, 0.2)\n",
    "bin5 = rnorm(10, 0.5, 0.2)\n",
    "bin6 = rnorm(10, 0.5, 0.2)\n",
    "bin7 = rnorm(10, 0.5, 0.2)\n",
    "bin8 = rnorm(10, 0.5, 0.2)\n",
    "bin9 = rnorm(10, 0.5, 0.2)\n",
    "bin10 = rnorm(10, 0.5, 0.2)\n",
    "\n",
    "lasso_pred <- as.data.frame(cbind(bin1, bin2, bin3, bin4, bin5, bin6, bin7, bin8, bin9, bin10))\n",
    "lasso_pred <- lasso_pred %>% mutate(sample_type = c(0, 1,  0, 1, 1, 0, 1, 1, 1, 0))"
   ]
  },
  {
   "cell_type": "code",
   "execution_count": 69,
   "id": "a1e1afc9-aaeb-4dba-8289-b94cfcc5b446",
   "metadata": {},
   "outputs": [],
   "source": [
    "#lasso_pred <- read.csv(\"../data/ATAC_predictions_on_all_samples/ATAC_pred_lasso_std_FALSE_formatted.csv\")\n",
    "lasso_pred <- read.csv(\"../data/ATAC_predictions_on_all_samples/ATAC_pred_smooth_gaussian_lasso_smoothed_individuals_std_FALSE_formatted.csv\")\n",
    "#lasso_pred <- read.csv(\"../data/ATAC_predictions_on_all_samples/ATAC_pred_random_forest_formatted.csv\")"
   ]
  },
  {
   "cell_type": "code",
   "execution_count": 70,
   "id": "8c6e9c46-6f56-431d-9148-260b7ef4fa86",
   "metadata": {},
   "outputs": [
    {
     "name": "stderr",
     "output_type": "stream",
     "text": [
      "ERROR while rich displaying an object: Error in sprintf(wrap, header, body): 'fmt' length exceeds maximal format length 8192\n",
      "\n",
      "Traceback:\n",
      "1. FUN(X[[i]], ...)\n",
      "2. tryCatch(withCallingHandlers({\n",
      " .     if (!mime %in% names(repr::mime2repr)) \n",
      " .         stop(\"No repr_* for mimetype \", mime, \" in repr::mime2repr\")\n",
      " .     rpr <- repr::mime2repr[[mime]](obj)\n",
      " .     if (is.null(rpr)) \n",
      " .         return(NULL)\n",
      " .     prepare_content(is.raw(rpr), rpr)\n",
      " . }, error = error_handler), error = outer_handler)\n",
      "3. tryCatchList(expr, classes, parentenv, handlers)\n",
      "4. tryCatchOne(expr, names, parentenv, handlers[[1L]])\n",
      "5. doTryCatch(return(expr), name, parentenv, handler)\n",
      "6. withCallingHandlers({\n",
      " .     if (!mime %in% names(repr::mime2repr)) \n",
      " .         stop(\"No repr_* for mimetype \", mime, \" in repr::mime2repr\")\n",
      " .     rpr <- repr::mime2repr[[mime]](obj)\n",
      " .     if (is.null(rpr)) \n",
      " .         return(NULL)\n",
      " .     prepare_content(is.raw(rpr), rpr)\n",
      " . }, error = error_handler)\n",
      "7. repr::mime2repr[[mime]](obj)\n",
      "8. repr_latex.data.frame(obj)\n",
      "9. repr_matrix_generic(obj, sprintf(\"\\\\begin{tabular}{%s}\\n%%s%%s\\\\end{tabular}\\n\", \n",
      " .     cols), \"%s\\\\\\\\\\n\\\\hline\\n\", \"  &\", \" %s &\", \"%s\", \"\\t%s\\\\\\\\\\n\", \n",
      " .     \"%s &\", \" %s &\", escape_fun = latex_escape_vec, ...)\n",
      "10. sprintf(wrap, header, body)\n"
     ]
    },
    {
     "data": {
      "text/html": [
       "<table>\n",
       "<thead><tr><th scope=col>sample</th><th scope=col>chr10_400</th><th scope=col>chr10_40</th><th scope=col>chr10_4</th><th scope=col>chr10_401</th><th scope=col>chr10_402</th><th scope=col>chr10_403</th><th scope=col>chr10_404</th><th scope=col>chr10_405</th><th scope=col>chr10_406</th><th scope=col>...</th><th scope=col>chr9_39</th><th scope=col>chr9_391</th><th scope=col>chr9_392</th><th scope=col>chr9_393</th><th scope=col>chr9_394</th><th scope=col>chr9_395</th><th scope=col>chr9_396</th><th scope=col>chr9_397</th><th scope=col>chr9_398</th><th scope=col>chr9_399</th></tr></thead>\n",
       "<tbody>\n",
       "\t<tr><td>PGDX10344P1 </td><td>0.2165838   </td><td> 0.20455772 </td><td>0.3033415   </td><td>-0.04976667 </td><td>0.01037457  </td><td>-0.18736297 </td><td> 0.43976320 </td><td>0.8461027   </td><td>0.69852731  </td><td>...         </td><td>-0.6289543  </td><td>0.3695895   </td><td>-0.5089256  </td><td>0.80509505  </td><td> 0.11351365 </td><td>0.3269621   </td><td>-0.1688639  </td><td> 0.222516721</td><td>-0.1004238  </td><td>-0.2010245  </td></tr>\n",
       "\t<tr><td>PGDX10346P1 </td><td>0.4615832   </td><td> 0.54171708 </td><td>0.5103622   </td><td> 0.11015144 </td><td>0.09526909  </td><td>-0.02410594 </td><td> 0.43099868 </td><td>0.5720130   </td><td>0.26280121  </td><td>...         </td><td> 0.4701512  </td><td>0.3606655   </td><td>-0.1022854  </td><td>0.41053086  </td><td> 0.38072285 </td><td>0.5230106   </td><td> 0.4768937  </td><td>-0.215558874</td><td> 0.2029605  </td><td> 0.2099457  </td></tr>\n",
       "\t<tr><td>PGDX10349P1 </td><td>0.6387855   </td><td> 0.29850212 </td><td>0.6290774   </td><td>-0.02648360 </td><td>0.67407865  </td><td> 0.19618890 </td><td>-0.03037707 </td><td>0.5352339   </td><td>0.26346514  </td><td>...         </td><td> 0.3959193  </td><td>0.2925465   </td><td> 0.1975364  </td><td>0.28689023  </td><td>-0.01934443 </td><td>0.5380975   </td><td> 0.5574450  </td><td> 0.751483067</td><td> 0.4900318  </td><td> 0.7633972  </td></tr>\n",
       "\t<tr><td>PGDX10351P1 </td><td>1.0069982   </td><td> 0.02768348 </td><td>0.7175730   </td><td> 0.27504883 </td><td>0.26541051  </td><td> 0.78696257 </td><td> 0.53290402 </td><td>0.9664401   </td><td>1.01034004  </td><td>...         </td><td> 0.7371939  </td><td>0.7045769   </td><td> 0.1970576  </td><td>0.88072915  </td><td> 0.81615113 </td><td>1.0690581   </td><td> 1.1306557  </td><td> 1.217221136</td><td> 0.1116806  </td><td> 0.8591004  </td></tr>\n",
       "\t<tr><td>PGDX10566P  </td><td>0.1431406   </td><td>-0.23530059 </td><td>0.6984331   </td><td> 0.31150512 </td><td>1.01791827  </td><td> 0.22680714 </td><td> 0.38500758 </td><td>0.3779330   </td><td>0.56096266  </td><td>...         </td><td> 0.3636435  </td><td>0.2135130   </td><td> 0.3163897  </td><td>0.03345942  </td><td> 0.53478735 </td><td>0.7209004   </td><td> 0.8410864  </td><td> 0.007341191</td><td> 0.3261327  </td><td>-0.0392167  </td></tr>\n",
       "\t<tr><td>PGDX10567P  </td><td>0.7170632   </td><td> 0.34069270 </td><td>0.2909682   </td><td> 0.65445243 </td><td>0.31618937  </td><td> 0.31029593 </td><td> 0.48940099 </td><td>0.2407678   </td><td>0.02833399  </td><td>...         </td><td> 0.1537514  </td><td>0.2151606   </td><td> 0.4980659  </td><td>1.10754450  </td><td> 0.23778722 </td><td>0.9897177   </td><td> 0.3901923  </td><td> 0.012791178</td><td> 0.2989802  </td><td> 0.2207474  </td></tr>\n",
       "</tbody>\n",
       "</table>\n"
      ],
      "text/markdown": [
       "\n",
       "| sample | chr10_400 | chr10_40 | chr10_4 | chr10_401 | chr10_402 | chr10_403 | chr10_404 | chr10_405 | chr10_406 | ... | chr9_39 | chr9_391 | chr9_392 | chr9_393 | chr9_394 | chr9_395 | chr9_396 | chr9_397 | chr9_398 | chr9_399 |\n",
       "|---|---|---|---|---|---|---|---|---|---|---|---|---|---|---|---|---|---|---|---|---|\n",
       "| PGDX10344P1  | 0.2165838    |  0.20455772  | 0.3033415    | -0.04976667  | 0.01037457   | -0.18736297  |  0.43976320  | 0.8461027    | 0.69852731   | ...          | -0.6289543   | 0.3695895    | -0.5089256   | 0.80509505   |  0.11351365  | 0.3269621    | -0.1688639   |  0.222516721 | -0.1004238   | -0.2010245   |\n",
       "| PGDX10346P1  | 0.4615832    |  0.54171708  | 0.5103622    |  0.11015144  | 0.09526909   | -0.02410594  |  0.43099868  | 0.5720130    | 0.26280121   | ...          |  0.4701512   | 0.3606655    | -0.1022854   | 0.41053086   |  0.38072285  | 0.5230106    |  0.4768937   | -0.215558874 |  0.2029605   |  0.2099457   |\n",
       "| PGDX10349P1  | 0.6387855    |  0.29850212  | 0.6290774    | -0.02648360  | 0.67407865   |  0.19618890  | -0.03037707  | 0.5352339    | 0.26346514   | ...          |  0.3959193   | 0.2925465    |  0.1975364   | 0.28689023   | -0.01934443  | 0.5380975    |  0.5574450   |  0.751483067 |  0.4900318   |  0.7633972   |\n",
       "| PGDX10351P1  | 1.0069982    |  0.02768348  | 0.7175730    |  0.27504883  | 0.26541051   |  0.78696257  |  0.53290402  | 0.9664401    | 1.01034004   | ...          |  0.7371939   | 0.7045769    |  0.1970576   | 0.88072915   |  0.81615113  | 1.0690581    |  1.1306557   |  1.217221136 |  0.1116806   |  0.8591004   |\n",
       "| PGDX10566P   | 0.1431406    | -0.23530059  | 0.6984331    |  0.31150512  | 1.01791827   |  0.22680714  |  0.38500758  | 0.3779330    | 0.56096266   | ...          |  0.3636435   | 0.2135130    |  0.3163897   | 0.03345942   |  0.53478735  | 0.7209004    |  0.8410864   |  0.007341191 |  0.3261327   | -0.0392167   |\n",
       "| PGDX10567P   | 0.7170632    |  0.34069270  | 0.2909682    |  0.65445243  | 0.31618937   |  0.31029593  |  0.48940099  | 0.2407678    | 0.02833399   | ...          |  0.1537514   | 0.2151606    |  0.4980659   | 1.10754450   |  0.23778722  | 0.9897177    |  0.3901923   |  0.012791178 |  0.2989802   |  0.2207474   |\n",
       "\n"
      ],
      "text/plain": [
       "  sample      chr10_400 chr10_40    chr10_4   chr10_401   chr10_402 \n",
       "1 PGDX10344P1 0.2165838  0.20455772 0.3033415 -0.04976667 0.01037457\n",
       "2 PGDX10346P1 0.4615832  0.54171708 0.5103622  0.11015144 0.09526909\n",
       "3 PGDX10349P1 0.6387855  0.29850212 0.6290774 -0.02648360 0.67407865\n",
       "4 PGDX10351P1 1.0069982  0.02768348 0.7175730  0.27504883 0.26541051\n",
       "5 PGDX10566P  0.1431406 -0.23530059 0.6984331  0.31150512 1.01791827\n",
       "6 PGDX10567P  0.7170632  0.34069270 0.2909682  0.65445243 0.31618937\n",
       "  chr10_403   chr10_404   chr10_405 chr10_406  ... chr9_39    chr9_391 \n",
       "1 -0.18736297  0.43976320 0.8461027 0.69852731 ... -0.6289543 0.3695895\n",
       "2 -0.02410594  0.43099868 0.5720130 0.26280121 ...  0.4701512 0.3606655\n",
       "3  0.19618890 -0.03037707 0.5352339 0.26346514 ...  0.3959193 0.2925465\n",
       "4  0.78696257  0.53290402 0.9664401 1.01034004 ...  0.7371939 0.7045769\n",
       "5  0.22680714  0.38500758 0.3779330 0.56096266 ...  0.3636435 0.2135130\n",
       "6  0.31029593  0.48940099 0.2407678 0.02833399 ...  0.1537514 0.2151606\n",
       "  chr9_392   chr9_393   chr9_394    chr9_395  chr9_396   chr9_397    \n",
       "1 -0.5089256 0.80509505  0.11351365 0.3269621 -0.1688639  0.222516721\n",
       "2 -0.1022854 0.41053086  0.38072285 0.5230106  0.4768937 -0.215558874\n",
       "3  0.1975364 0.28689023 -0.01934443 0.5380975  0.5574450  0.751483067\n",
       "4  0.1970576 0.88072915  0.81615113 1.0690581  1.1306557  1.217221136\n",
       "5  0.3163897 0.03345942  0.53478735 0.7209004  0.8410864  0.007341191\n",
       "6  0.4980659 1.10754450  0.23778722 0.9897177  0.3901923  0.012791178\n",
       "  chr9_398   chr9_399  \n",
       "1 -0.1004238 -0.2010245\n",
       "2  0.2029605  0.2099457\n",
       "3  0.4900318  0.7633972\n",
       "4  0.1116806  0.8591004\n",
       "5  0.3261327 -0.0392167\n",
       "6  0.2989802  0.2207474"
      ]
     },
     "metadata": {},
     "output_type": "display_data"
    }
   ],
   "source": [
    "head(lasso_pred)"
   ]
  },
  {
   "cell_type": "code",
   "execution_count": 71,
   "id": "afd15a55-0386-4983-89b8-6e5fbf250b1f",
   "metadata": {},
   "outputs": [
    {
     "data": {
      "text/html": [
       "<table>\n",
       "<thead><tr><th scope=col>sample</th><th scope=col>sample_type</th></tr></thead>\n",
       "<tbody>\n",
       "\t<tr><td>PGDX10344P1   </td><td>Gastric_cancer</td></tr>\n",
       "\t<tr><td>PGDX10346P1   </td><td>Gastric_cancer</td></tr>\n",
       "\t<tr><td>PGDX10349P1   </td><td>Gastric_cancer</td></tr>\n",
       "\t<tr><td>PGDX10351P1   </td><td>Gastric_cancer</td></tr>\n",
       "\t<tr><td>PGDX10566P    </td><td>Ovarian_Cancer</td></tr>\n",
       "\t<tr><td>PGDX10567P    </td><td>Ovarian_Cancer</td></tr>\n",
       "</tbody>\n",
       "</table>\n"
      ],
      "text/latex": [
       "\\begin{tabular}{r|ll}\n",
       " sample & sample\\_type\\\\\n",
       "\\hline\n",
       "\t PGDX10344P1      & Gastric\\_cancer\\\\\n",
       "\t PGDX10346P1      & Gastric\\_cancer\\\\\n",
       "\t PGDX10349P1      & Gastric\\_cancer\\\\\n",
       "\t PGDX10351P1      & Gastric\\_cancer\\\\\n",
       "\t PGDX10566P       & Ovarian\\_Cancer\\\\\n",
       "\t PGDX10567P       & Ovarian\\_Cancer\\\\\n",
       "\\end{tabular}\n"
      ],
      "text/markdown": [
       "\n",
       "| sample | sample_type |\n",
       "|---|---|\n",
       "| PGDX10344P1    | Gastric_cancer |\n",
       "| PGDX10346P1    | Gastric_cancer |\n",
       "| PGDX10349P1    | Gastric_cancer |\n",
       "| PGDX10351P1    | Gastric_cancer |\n",
       "| PGDX10566P     | Ovarian_Cancer |\n",
       "| PGDX10567P     | Ovarian_Cancer |\n",
       "\n"
      ],
      "text/plain": [
       "  sample      sample_type   \n",
       "1 PGDX10344P1 Gastric_cancer\n",
       "2 PGDX10346P1 Gastric_cancer\n",
       "3 PGDX10349P1 Gastric_cancer\n",
       "4 PGDX10351P1 Gastric_cancer\n",
       "5 PGDX10566P  Ovarian_Cancer\n",
       "6 PGDX10567P  Ovarian_Cancer"
      ]
     },
     "metadata": {},
     "output_type": "display_data"
    }
   ],
   "source": [
    "sample_types <- read.table(\"../data/sample_types.txt\", header = F, sep = \" \")\n",
    "colnames(sample_types) <- c(\"sample\", \"sample_type\")\n",
    "head(sample_types)"
   ]
  },
  {
   "cell_type": "code",
   "execution_count": 72,
   "id": "39c40ae9-bcbd-43d0-ac21-689d96ea31ae",
   "metadata": {},
   "outputs": [
    {
     "name": "stderr",
     "output_type": "stream",
     "text": [
      "ERROR while rich displaying an object: Error in sprintf(wrap, header, body): 'fmt' length exceeds maximal format length 8192\n",
      "\n",
      "Traceback:\n",
      "1. FUN(X[[i]], ...)\n",
      "2. tryCatch(withCallingHandlers({\n",
      " .     if (!mime %in% names(repr::mime2repr)) \n",
      " .         stop(\"No repr_* for mimetype \", mime, \" in repr::mime2repr\")\n",
      " .     rpr <- repr::mime2repr[[mime]](obj)\n",
      " .     if (is.null(rpr)) \n",
      " .         return(NULL)\n",
      " .     prepare_content(is.raw(rpr), rpr)\n",
      " . }, error = error_handler), error = outer_handler)\n",
      "3. tryCatchList(expr, classes, parentenv, handlers)\n",
      "4. tryCatchOne(expr, names, parentenv, handlers[[1L]])\n",
      "5. doTryCatch(return(expr), name, parentenv, handler)\n",
      "6. withCallingHandlers({\n",
      " .     if (!mime %in% names(repr::mime2repr)) \n",
      " .         stop(\"No repr_* for mimetype \", mime, \" in repr::mime2repr\")\n",
      " .     rpr <- repr::mime2repr[[mime]](obj)\n",
      " .     if (is.null(rpr)) \n",
      " .         return(NULL)\n",
      " .     prepare_content(is.raw(rpr), rpr)\n",
      " . }, error = error_handler)\n",
      "7. repr::mime2repr[[mime]](obj)\n",
      "8. repr_latex.data.frame(obj)\n",
      "9. repr_matrix_generic(obj, sprintf(\"\\\\begin{tabular}{%s}\\n%%s%%s\\\\end{tabular}\\n\", \n",
      " .     cols), \"%s\\\\\\\\\\n\\\\hline\\n\", \"  &\", \" %s &\", \"%s\", \"\\t%s\\\\\\\\\\n\", \n",
      " .     \"%s &\", \" %s &\", escape_fun = latex_escape_vec, ...)\n",
      "10. sprintf(wrap, header, body)\n"
     ]
    },
    {
     "data": {
      "text/html": [
       "<table>\n",
       "<thead><tr><th scope=col>sample</th><th scope=col>chr10_400</th><th scope=col>chr10_40</th><th scope=col>chr10_4</th><th scope=col>chr10_401</th><th scope=col>chr10_402</th><th scope=col>chr10_403</th><th scope=col>chr10_404</th><th scope=col>chr10_405</th><th scope=col>chr10_406</th><th scope=col>...</th><th scope=col>chr9_392</th><th scope=col>chr9_393</th><th scope=col>chr9_394</th><th scope=col>chr9_395</th><th scope=col>chr9_396</th><th scope=col>chr9_397</th><th scope=col>chr9_398</th><th scope=col>chr9_399</th><th scope=col>sample_type</th><th scope=col>sample_type01</th></tr></thead>\n",
       "<tbody>\n",
       "\t<tr><td>PGDX10344P1   </td><td>0.2165838     </td><td> 0.20455772   </td><td>0.3033415     </td><td>-0.04976667   </td><td>0.01037457    </td><td>-0.18736297   </td><td> 0.43976320   </td><td>0.8461027     </td><td>0.69852731    </td><td>...           </td><td>-0.5089256    </td><td>0.80509505    </td><td> 0.11351365   </td><td>0.3269621     </td><td>-0.1688639    </td><td> 0.222516721  </td><td>-0.1004238    </td><td>-0.2010245    </td><td>Gastric_cancer</td><td>1             </td></tr>\n",
       "\t<tr><td>PGDX10346P1   </td><td>0.4615832     </td><td> 0.54171708   </td><td>0.5103622     </td><td> 0.11015144   </td><td>0.09526909    </td><td>-0.02410594   </td><td> 0.43099868   </td><td>0.5720130     </td><td>0.26280121    </td><td>...           </td><td>-0.1022854    </td><td>0.41053086    </td><td> 0.38072285   </td><td>0.5230106     </td><td> 0.4768937    </td><td>-0.215558874  </td><td> 0.2029605    </td><td> 0.2099457    </td><td>Gastric_cancer</td><td>1             </td></tr>\n",
       "\t<tr><td>PGDX10349P1   </td><td>0.6387855     </td><td> 0.29850212   </td><td>0.6290774     </td><td>-0.02648360   </td><td>0.67407865    </td><td> 0.19618890   </td><td>-0.03037707   </td><td>0.5352339     </td><td>0.26346514    </td><td>...           </td><td> 0.1975364    </td><td>0.28689023    </td><td>-0.01934443   </td><td>0.5380975     </td><td> 0.5574450    </td><td> 0.751483067  </td><td> 0.4900318    </td><td> 0.7633972    </td><td>Gastric_cancer</td><td>1             </td></tr>\n",
       "\t<tr><td>PGDX10351P1   </td><td>1.0069982     </td><td> 0.02768348   </td><td>0.7175730     </td><td> 0.27504883   </td><td>0.26541051    </td><td> 0.78696257   </td><td> 0.53290402   </td><td>0.9664401     </td><td>1.01034004    </td><td>...           </td><td> 0.1970576    </td><td>0.88072915    </td><td> 0.81615113   </td><td>1.0690581     </td><td> 1.1306557    </td><td> 1.217221136  </td><td> 0.1116806    </td><td> 0.8591004    </td><td>Gastric_cancer</td><td>1             </td></tr>\n",
       "\t<tr><td>PGDX10566P    </td><td>0.1431406     </td><td>-0.23530059   </td><td>0.6984331     </td><td> 0.31150512   </td><td>1.01791827    </td><td> 0.22680714   </td><td> 0.38500758   </td><td>0.3779330     </td><td>0.56096266    </td><td>...           </td><td> 0.3163897    </td><td>0.03345942    </td><td> 0.53478735   </td><td>0.7209004     </td><td> 0.8410864    </td><td> 0.007341191  </td><td> 0.3261327    </td><td>-0.0392167    </td><td>Ovarian_Cancer</td><td>1             </td></tr>\n",
       "\t<tr><td>PGDX10567P    </td><td>0.7170632     </td><td> 0.34069270   </td><td>0.2909682     </td><td> 0.65445243   </td><td>0.31618937    </td><td> 0.31029593   </td><td> 0.48940099   </td><td>0.2407678     </td><td>0.02833399    </td><td>...           </td><td> 0.4980659    </td><td>1.10754450    </td><td> 0.23778722   </td><td>0.9897177     </td><td> 0.3901923    </td><td> 0.012791178  </td><td> 0.2989802    </td><td> 0.2207474    </td><td>Ovarian_Cancer</td><td>1             </td></tr>\n",
       "</tbody>\n",
       "</table>\n"
      ],
      "text/markdown": [
       "\n",
       "| sample | chr10_400 | chr10_40 | chr10_4 | chr10_401 | chr10_402 | chr10_403 | chr10_404 | chr10_405 | chr10_406 | ... | chr9_392 | chr9_393 | chr9_394 | chr9_395 | chr9_396 | chr9_397 | chr9_398 | chr9_399 | sample_type | sample_type01 |\n",
       "|---|---|---|---|---|---|---|---|---|---|---|---|---|---|---|---|---|---|---|---|---|\n",
       "| PGDX10344P1    | 0.2165838      |  0.20455772    | 0.3033415      | -0.04976667    | 0.01037457     | -0.18736297    |  0.43976320    | 0.8461027      | 0.69852731     | ...            | -0.5089256     | 0.80509505     |  0.11351365    | 0.3269621      | -0.1688639     |  0.222516721   | -0.1004238     | -0.2010245     | Gastric_cancer | 1              |\n",
       "| PGDX10346P1    | 0.4615832      |  0.54171708    | 0.5103622      |  0.11015144    | 0.09526909     | -0.02410594    |  0.43099868    | 0.5720130      | 0.26280121     | ...            | -0.1022854     | 0.41053086     |  0.38072285    | 0.5230106      |  0.4768937     | -0.215558874   |  0.2029605     |  0.2099457     | Gastric_cancer | 1              |\n",
       "| PGDX10349P1    | 0.6387855      |  0.29850212    | 0.6290774      | -0.02648360    | 0.67407865     |  0.19618890    | -0.03037707    | 0.5352339      | 0.26346514     | ...            |  0.1975364     | 0.28689023     | -0.01934443    | 0.5380975      |  0.5574450     |  0.751483067   |  0.4900318     |  0.7633972     | Gastric_cancer | 1              |\n",
       "| PGDX10351P1    | 1.0069982      |  0.02768348    | 0.7175730      |  0.27504883    | 0.26541051     |  0.78696257    |  0.53290402    | 0.9664401      | 1.01034004     | ...            |  0.1970576     | 0.88072915     |  0.81615113    | 1.0690581      |  1.1306557     |  1.217221136   |  0.1116806     |  0.8591004     | Gastric_cancer | 1              |\n",
       "| PGDX10566P     | 0.1431406      | -0.23530059    | 0.6984331      |  0.31150512    | 1.01791827     |  0.22680714    |  0.38500758    | 0.3779330      | 0.56096266     | ...            |  0.3163897     | 0.03345942     |  0.53478735    | 0.7209004      |  0.8410864     |  0.007341191   |  0.3261327     | -0.0392167     | Ovarian_Cancer | 1              |\n",
       "| PGDX10567P     | 0.7170632      |  0.34069270    | 0.2909682      |  0.65445243    | 0.31618937     |  0.31029593    |  0.48940099    | 0.2407678      | 0.02833399     | ...            |  0.4980659     | 1.10754450     |  0.23778722    | 0.9897177      |  0.3901923     |  0.012791178   |  0.2989802     |  0.2207474     | Ovarian_Cancer | 1              |\n",
       "\n"
      ],
      "text/plain": [
       "  sample      chr10_400 chr10_40    chr10_4   chr10_401   chr10_402 \n",
       "1 PGDX10344P1 0.2165838  0.20455772 0.3033415 -0.04976667 0.01037457\n",
       "2 PGDX10346P1 0.4615832  0.54171708 0.5103622  0.11015144 0.09526909\n",
       "3 PGDX10349P1 0.6387855  0.29850212 0.6290774 -0.02648360 0.67407865\n",
       "4 PGDX10351P1 1.0069982  0.02768348 0.7175730  0.27504883 0.26541051\n",
       "5 PGDX10566P  0.1431406 -0.23530059 0.6984331  0.31150512 1.01791827\n",
       "6 PGDX10567P  0.7170632  0.34069270 0.2909682  0.65445243 0.31618937\n",
       "  chr10_403   chr10_404   chr10_405 chr10_406  ... chr9_392   chr9_393  \n",
       "1 -0.18736297  0.43976320 0.8461027 0.69852731 ... -0.5089256 0.80509505\n",
       "2 -0.02410594  0.43099868 0.5720130 0.26280121 ... -0.1022854 0.41053086\n",
       "3  0.19618890 -0.03037707 0.5352339 0.26346514 ...  0.1975364 0.28689023\n",
       "4  0.78696257  0.53290402 0.9664401 1.01034004 ...  0.1970576 0.88072915\n",
       "5  0.22680714  0.38500758 0.3779330 0.56096266 ...  0.3163897 0.03345942\n",
       "6  0.31029593  0.48940099 0.2407678 0.02833399 ...  0.4980659 1.10754450\n",
       "  chr9_394    chr9_395  chr9_396   chr9_397     chr9_398   chr9_399  \n",
       "1  0.11351365 0.3269621 -0.1688639  0.222516721 -0.1004238 -0.2010245\n",
       "2  0.38072285 0.5230106  0.4768937 -0.215558874  0.2029605  0.2099457\n",
       "3 -0.01934443 0.5380975  0.5574450  0.751483067  0.4900318  0.7633972\n",
       "4  0.81615113 1.0690581  1.1306557  1.217221136  0.1116806  0.8591004\n",
       "5  0.53478735 0.7209004  0.8410864  0.007341191  0.3261327 -0.0392167\n",
       "6  0.23778722 0.9897177  0.3901923  0.012791178  0.2989802  0.2207474\n",
       "  sample_type    sample_type01\n",
       "1 Gastric_cancer 1            \n",
       "2 Gastric_cancer 1            \n",
       "3 Gastric_cancer 1            \n",
       "4 Gastric_cancer 1            \n",
       "5 Ovarian_Cancer 1            \n",
       "6 Ovarian_Cancer 1            "
      ]
     },
     "metadata": {},
     "output_type": "display_data"
    }
   ],
   "source": [
    "data <- merge(lasso_pred, sample_types, by=\"sample\")\n",
    "data <- data %>% mutate(sample_type01 = ifelse(sample_type == \"Healthy\", 0, 1))\n",
    "head(data)"
   ]
  },
  {
   "cell_type": "code",
   "execution_count": 73,
   "id": "c5217763-2292-49be-b4d4-ad54daee2af9",
   "metadata": {},
   "outputs": [],
   "source": [
    "data <- data %>% select(-sample_type)"
   ]
  },
  {
   "cell_type": "code",
   "execution_count": 74,
   "id": "ec836f9e-4902-4d8c-a641-5692b29e8944",
   "metadata": {},
   "outputs": [
    {
     "name": "stderr",
     "output_type": "stream",
     "text": [
      "ERROR while rich displaying an object: Error in sprintf(wrap, header, body): 'fmt' length exceeds maximal format length 8192\n",
      "\n",
      "Traceback:\n",
      "1. FUN(X[[i]], ...)\n",
      "2. tryCatch(withCallingHandlers({\n",
      " .     if (!mime %in% names(repr::mime2repr)) \n",
      " .         stop(\"No repr_* for mimetype \", mime, \" in repr::mime2repr\")\n",
      " .     rpr <- repr::mime2repr[[mime]](obj)\n",
      " .     if (is.null(rpr)) \n",
      " .         return(NULL)\n",
      " .     prepare_content(is.raw(rpr), rpr)\n",
      " . }, error = error_handler), error = outer_handler)\n",
      "3. tryCatchList(expr, classes, parentenv, handlers)\n",
      "4. tryCatchOne(expr, names, parentenv, handlers[[1L]])\n",
      "5. doTryCatch(return(expr), name, parentenv, handler)\n",
      "6. withCallingHandlers({\n",
      " .     if (!mime %in% names(repr::mime2repr)) \n",
      " .         stop(\"No repr_* for mimetype \", mime, \" in repr::mime2repr\")\n",
      " .     rpr <- repr::mime2repr[[mime]](obj)\n",
      " .     if (is.null(rpr)) \n",
      " .         return(NULL)\n",
      " .     prepare_content(is.raw(rpr), rpr)\n",
      " . }, error = error_handler)\n",
      "7. repr::mime2repr[[mime]](obj)\n",
      "8. repr_latex.data.frame(obj)\n",
      "9. repr_matrix_generic(obj, sprintf(\"\\\\begin{tabular}{%s}\\n%%s%%s\\\\end{tabular}\\n\", \n",
      " .     cols), \"%s\\\\\\\\\\n\\\\hline\\n\", \"  &\", \" %s &\", \"%s\", \"\\t%s\\\\\\\\\\n\", \n",
      " .     \"%s &\", \" %s &\", escape_fun = latex_escape_vec, ...)\n",
      "10. sprintf(wrap, header, body)\n"
     ]
    },
    {
     "data": {
      "text/html": [
       "<table>\n",
       "<thead><tr><th scope=col>chr10_400</th><th scope=col>chr10_40</th><th scope=col>chr10_4</th><th scope=col>chr10_401</th><th scope=col>chr10_402</th><th scope=col>chr10_403</th><th scope=col>chr10_404</th><th scope=col>chr10_405</th><th scope=col>chr10_406</th><th scope=col>chr10_407</th><th scope=col>...</th><th scope=col>chr9_391</th><th scope=col>chr9_392</th><th scope=col>chr9_393</th><th scope=col>chr9_394</th><th scope=col>chr9_395</th><th scope=col>chr9_396</th><th scope=col>chr9_397</th><th scope=col>chr9_398</th><th scope=col>chr9_399</th><th scope=col>sample_type01</th></tr></thead>\n",
       "<tbody>\n",
       "\t<tr><td>0.2165838   </td><td> 0.20455772 </td><td>0.3033415   </td><td>-0.04976667 </td><td>0.01037457  </td><td>-0.18736297 </td><td> 0.43976320 </td><td>0.8461027   </td><td>0.69852731  </td><td>1.1418496   </td><td>...         </td><td>0.3695895   </td><td>-0.5089256  </td><td>0.80509505  </td><td> 0.11351365 </td><td>0.3269621   </td><td>-0.1688639  </td><td> 0.222516721</td><td>-0.1004238  </td><td>-0.2010245  </td><td>1           </td></tr>\n",
       "\t<tr><td>0.4615832   </td><td> 0.54171708 </td><td>0.5103622   </td><td> 0.11015144 </td><td>0.09526909  </td><td>-0.02410594 </td><td> 0.43099868 </td><td>0.5720130   </td><td>0.26280121  </td><td>0.4459877   </td><td>...         </td><td>0.3606655   </td><td>-0.1022854  </td><td>0.41053086  </td><td> 0.38072285 </td><td>0.5230106   </td><td> 0.4768937  </td><td>-0.215558874</td><td> 0.2029605  </td><td> 0.2099457  </td><td>1           </td></tr>\n",
       "\t<tr><td>0.6387855   </td><td> 0.29850212 </td><td>0.6290774   </td><td>-0.02648360 </td><td>0.67407865  </td><td> 0.19618890 </td><td>-0.03037707 </td><td>0.5352339   </td><td>0.26346514  </td><td>0.5774311   </td><td>...         </td><td>0.2925465   </td><td> 0.1975364  </td><td>0.28689023  </td><td>-0.01934443 </td><td>0.5380975   </td><td> 0.5574450  </td><td> 0.751483067</td><td> 0.4900318  </td><td> 0.7633972  </td><td>1           </td></tr>\n",
       "\t<tr><td>1.0069982   </td><td> 0.02768348 </td><td>0.7175730   </td><td> 0.27504883 </td><td>0.26541051  </td><td> 0.78696257 </td><td> 0.53290402 </td><td>0.9664401   </td><td>1.01034004  </td><td>0.6009210   </td><td>...         </td><td>0.7045769   </td><td> 0.1970576  </td><td>0.88072915  </td><td> 0.81615113 </td><td>1.0690581   </td><td> 1.1306557  </td><td> 1.217221136</td><td> 0.1116806  </td><td> 0.8591004  </td><td>1           </td></tr>\n",
       "\t<tr><td>0.1431406   </td><td>-0.23530059 </td><td>0.6984331   </td><td> 0.31150512 </td><td>1.01791827  </td><td> 0.22680714 </td><td> 0.38500758 </td><td>0.3779330   </td><td>0.56096266  </td><td>0.6494789   </td><td>...         </td><td>0.2135130   </td><td> 0.3163897  </td><td>0.03345942  </td><td> 0.53478735 </td><td>0.7209004   </td><td> 0.8410864  </td><td> 0.007341191</td><td> 0.3261327  </td><td>-0.0392167  </td><td>1           </td></tr>\n",
       "\t<tr><td>0.7170632   </td><td> 0.34069270 </td><td>0.2909682   </td><td> 0.65445243 </td><td>0.31618937  </td><td> 0.31029593 </td><td> 0.48940099 </td><td>0.2407678   </td><td>0.02833399  </td><td>0.3909723   </td><td>...         </td><td>0.2151606   </td><td> 0.4980659  </td><td>1.10754450  </td><td> 0.23778722 </td><td>0.9897177   </td><td> 0.3901923  </td><td> 0.012791178</td><td> 0.2989802  </td><td> 0.2207474  </td><td>1           </td></tr>\n",
       "</tbody>\n",
       "</table>\n"
      ],
      "text/markdown": [
       "\n",
       "| chr10_400 | chr10_40 | chr10_4 | chr10_401 | chr10_402 | chr10_403 | chr10_404 | chr10_405 | chr10_406 | chr10_407 | ... | chr9_391 | chr9_392 | chr9_393 | chr9_394 | chr9_395 | chr9_396 | chr9_397 | chr9_398 | chr9_399 | sample_type01 |\n",
       "|---|---|---|---|---|---|---|---|---|---|---|---|---|---|---|---|---|---|---|---|---|\n",
       "| 0.2165838    |  0.20455772  | 0.3033415    | -0.04976667  | 0.01037457   | -0.18736297  |  0.43976320  | 0.8461027    | 0.69852731   | 1.1418496    | ...          | 0.3695895    | -0.5089256   | 0.80509505   |  0.11351365  | 0.3269621    | -0.1688639   |  0.222516721 | -0.1004238   | -0.2010245   | 1            |\n",
       "| 0.4615832    |  0.54171708  | 0.5103622    |  0.11015144  | 0.09526909   | -0.02410594  |  0.43099868  | 0.5720130    | 0.26280121   | 0.4459877    | ...          | 0.3606655    | -0.1022854   | 0.41053086   |  0.38072285  | 0.5230106    |  0.4768937   | -0.215558874 |  0.2029605   |  0.2099457   | 1            |\n",
       "| 0.6387855    |  0.29850212  | 0.6290774    | -0.02648360  | 0.67407865   |  0.19618890  | -0.03037707  | 0.5352339    | 0.26346514   | 0.5774311    | ...          | 0.2925465    |  0.1975364   | 0.28689023   | -0.01934443  | 0.5380975    |  0.5574450   |  0.751483067 |  0.4900318   |  0.7633972   | 1            |\n",
       "| 1.0069982    |  0.02768348  | 0.7175730    |  0.27504883  | 0.26541051   |  0.78696257  |  0.53290402  | 0.9664401    | 1.01034004   | 0.6009210    | ...          | 0.7045769    |  0.1970576   | 0.88072915   |  0.81615113  | 1.0690581    |  1.1306557   |  1.217221136 |  0.1116806   |  0.8591004   | 1            |\n",
       "| 0.1431406    | -0.23530059  | 0.6984331    |  0.31150512  | 1.01791827   |  0.22680714  |  0.38500758  | 0.3779330    | 0.56096266   | 0.6494789    | ...          | 0.2135130    |  0.3163897   | 0.03345942   |  0.53478735  | 0.7209004    |  0.8410864   |  0.007341191 |  0.3261327   | -0.0392167   | 1            |\n",
       "| 0.7170632    |  0.34069270  | 0.2909682    |  0.65445243  | 0.31618937   |  0.31029593  |  0.48940099  | 0.2407678    | 0.02833399   | 0.3909723    | ...          | 0.2151606    |  0.4980659   | 1.10754450   |  0.23778722  | 0.9897177    |  0.3901923   |  0.012791178 |  0.2989802   |  0.2207474   | 1            |\n",
       "\n"
      ],
      "text/plain": [
       "  chr10_400 chr10_40    chr10_4   chr10_401   chr10_402  chr10_403  \n",
       "1 0.2165838  0.20455772 0.3033415 -0.04976667 0.01037457 -0.18736297\n",
       "2 0.4615832  0.54171708 0.5103622  0.11015144 0.09526909 -0.02410594\n",
       "3 0.6387855  0.29850212 0.6290774 -0.02648360 0.67407865  0.19618890\n",
       "4 1.0069982  0.02768348 0.7175730  0.27504883 0.26541051  0.78696257\n",
       "5 0.1431406 -0.23530059 0.6984331  0.31150512 1.01791827  0.22680714\n",
       "6 0.7170632  0.34069270 0.2909682  0.65445243 0.31618937  0.31029593\n",
       "  chr10_404   chr10_405 chr10_406  chr10_407 ... chr9_391  chr9_392  \n",
       "1  0.43976320 0.8461027 0.69852731 1.1418496 ... 0.3695895 -0.5089256\n",
       "2  0.43099868 0.5720130 0.26280121 0.4459877 ... 0.3606655 -0.1022854\n",
       "3 -0.03037707 0.5352339 0.26346514 0.5774311 ... 0.2925465  0.1975364\n",
       "4  0.53290402 0.9664401 1.01034004 0.6009210 ... 0.7045769  0.1970576\n",
       "5  0.38500758 0.3779330 0.56096266 0.6494789 ... 0.2135130  0.3163897\n",
       "6  0.48940099 0.2407678 0.02833399 0.3909723 ... 0.2151606  0.4980659\n",
       "  chr9_393   chr9_394    chr9_395  chr9_396   chr9_397     chr9_398  \n",
       "1 0.80509505  0.11351365 0.3269621 -0.1688639  0.222516721 -0.1004238\n",
       "2 0.41053086  0.38072285 0.5230106  0.4768937 -0.215558874  0.2029605\n",
       "3 0.28689023 -0.01934443 0.5380975  0.5574450  0.751483067  0.4900318\n",
       "4 0.88072915  0.81615113 1.0690581  1.1306557  1.217221136  0.1116806\n",
       "5 0.03345942  0.53478735 0.7209004  0.8410864  0.007341191  0.3261327\n",
       "6 1.10754450  0.23778722 0.9897177  0.3901923  0.012791178  0.2989802\n",
       "  chr9_399   sample_type01\n",
       "1 -0.2010245 1            \n",
       "2  0.2099457 1            \n",
       "3  0.7633972 1            \n",
       "4  0.8591004 1            \n",
       "5 -0.0392167 1            \n",
       "6  0.2207474 1            "
      ]
     },
     "metadata": {},
     "output_type": "display_data"
    }
   ],
   "source": [
    "data <- data %>% select(-sample)\n",
    "head(data)"
   ]
  },
  {
   "cell_type": "markdown",
   "id": "b77873f4-60ca-4543-9e7d-cf9cdf8e6e40",
   "metadata": {},
   "source": [
    "Finding a good k with all of the data. For that we split the data in test and training."
   ]
  },
  {
   "cell_type": "code",
   "execution_count": 75,
   "id": "5e9427f5-5201-41f3-bb6c-87077bfd02f1",
   "metadata": {},
   "outputs": [
    {
     "data": {
      "text/html": [
       "<ol class=list-inline>\n",
       "\t<li>425</li>\n",
       "\t<li>10304</li>\n",
       "</ol>\n"
      ],
      "text/latex": [
       "\\begin{enumerate*}\n",
       "\\item 425\n",
       "\\item 10304\n",
       "\\end{enumerate*}\n"
      ],
      "text/markdown": [
       "1. 425\n",
       "2. 10304\n",
       "\n",
       "\n"
      ],
      "text/plain": [
       "[1]   425 10304"
      ]
     },
     "metadata": {},
     "output_type": "display_data"
    },
    {
     "data": {
      "text/html": [
       "<ol class=list-inline>\n",
       "\t<li>48</li>\n",
       "\t<li>10304</li>\n",
       "</ol>\n"
      ],
      "text/latex": [
       "\\begin{enumerate*}\n",
       "\\item 48\n",
       "\\item 10304\n",
       "\\end{enumerate*}\n"
      ],
      "text/markdown": [
       "1. 48\n",
       "2. 10304\n",
       "\n",
       "\n"
      ],
      "text/plain": [
       "[1]    48 10304"
      ]
     },
     "metadata": {},
     "output_type": "display_data"
    }
   ],
   "source": [
    "#cvfolds <- cut(seq_len(nrow(data)), breaks = 2, labels = F)\n",
    "#cvfolds <- sample(cvfolds)\n",
    "\n",
    "#test  <- data[-rows,]\n",
    "#test_labels <- test$sample_type01\n",
    "#train <- data[rows,]\n",
    "#train_labels <- train$sample_type01\n",
    "\n",
    "smp_size <- floor(0.9 * nrow(data))\n",
    "\n",
    "## set the seed to make your partition reproducible\n",
    "set.seed(123)\n",
    "train_ind <- sample(seq_len(nrow(data)), size = smp_size)\n",
    "\n",
    "train <- data[train_ind, ]\n",
    "test <- data[-train_ind, ]\n",
    "test_labels <- test$sample_type01\n",
    "train_labels <- train$sample_type01\n",
    "\n",
    "dim(train)\n",
    "dim(test)"
   ]
  },
  {
   "cell_type": "code",
   "execution_count": 76,
   "id": "9e336fd6-4d84-47cc-b3bd-aa9a46c3a5fb",
   "metadata": {},
   "outputs": [],
   "source": [
    "#A function that performs the KNN method on a range of k's\n",
    "test_k <- function(train, test, train_labels, test_labels, k) {\n",
    "  err <- c()\n",
    "  for (i in k) {\n",
    "    pred = knn(train = train, \n",
    "               test  = test, \n",
    "               cl    = train_labels, \n",
    "               k     = k[i], \n",
    "              prob = FALSE, \n",
    "              use.all = TRUE)\n",
    "    err[i] <- mean(test_labels != pred)\n",
    "  }\n",
    "  df <- data.frame(k = k, x = 1/k, err_rate = err)\n",
    "  return(df)\n",
    "}"
   ]
  },
  {
   "cell_type": "code",
   "execution_count": 77,
   "id": "487466aa-e9d8-4ed6-97f8-dca137972e69",
   "metadata": {},
   "outputs": [],
   "source": [
    "best_k <- test_k(train, test, train_labels, test_labels, 1:25)"
   ]
  },
  {
   "cell_type": "code",
   "execution_count": 78,
   "id": "28bda832-83d7-4a95-b1d5-12d48a9767ff",
   "metadata": {
    "tags": []
   },
   "outputs": [
    {
     "data": {
      "text/html": [
       "<table>\n",
       "<thead><tr><th scope=col>k</th><th scope=col>x</th><th scope=col>err_rate</th></tr></thead>\n",
       "<tbody>\n",
       "\t<tr><td> 1        </td><td>1.00000000</td><td>0.4166667 </td></tr>\n",
       "\t<tr><td> 2        </td><td>0.50000000</td><td>0.4166667 </td></tr>\n",
       "\t<tr><td> 3        </td><td>0.33333333</td><td>0.4166667 </td></tr>\n",
       "\t<tr><td> 4        </td><td>0.25000000</td><td>0.4166667 </td></tr>\n",
       "\t<tr><td> 5        </td><td>0.20000000</td><td>0.4166667 </td></tr>\n",
       "\t<tr><td> 6        </td><td>0.16666667</td><td>0.4166667 </td></tr>\n",
       "\t<tr><td> 7        </td><td>0.14285714</td><td>0.4166667 </td></tr>\n",
       "\t<tr><td> 8        </td><td>0.12500000</td><td>0.4166667 </td></tr>\n",
       "\t<tr><td> 9        </td><td>0.11111111</td><td>0.4166667 </td></tr>\n",
       "\t<tr><td>10        </td><td>0.10000000</td><td>0.4166667 </td></tr>\n",
       "\t<tr><td>11        </td><td>0.09090909</td><td>0.4166667 </td></tr>\n",
       "\t<tr><td>12        </td><td>0.08333333</td><td>0.4166667 </td></tr>\n",
       "\t<tr><td>13        </td><td>0.07692308</td><td>0.4166667 </td></tr>\n",
       "\t<tr><td>14        </td><td>0.07142857</td><td>0.4166667 </td></tr>\n",
       "\t<tr><td>15        </td><td>0.06666667</td><td>0.3958333 </td></tr>\n",
       "\t<tr><td>16        </td><td>0.06250000</td><td>0.3958333 </td></tr>\n",
       "\t<tr><td>17        </td><td>0.05882353</td><td>0.3958333 </td></tr>\n",
       "\t<tr><td>18        </td><td>0.05555556</td><td>0.3958333 </td></tr>\n",
       "\t<tr><td>19        </td><td>0.05263158</td><td>0.3958333 </td></tr>\n",
       "\t<tr><td>20        </td><td>0.05000000</td><td>0.4166667 </td></tr>\n",
       "\t<tr><td>21        </td><td>0.04761905</td><td>0.3958333 </td></tr>\n",
       "\t<tr><td>22        </td><td>0.04545455</td><td>0.3958333 </td></tr>\n",
       "\t<tr><td>23        </td><td>0.04347826</td><td>0.3958333 </td></tr>\n",
       "\t<tr><td>24        </td><td>0.04166667</td><td>0.3958333 </td></tr>\n",
       "\t<tr><td>25        </td><td>0.04000000</td><td>0.3958333 </td></tr>\n",
       "</tbody>\n",
       "</table>\n"
      ],
      "text/latex": [
       "\\begin{tabular}{r|lll}\n",
       " k & x & err\\_rate\\\\\n",
       "\\hline\n",
       "\t  1         & 1.00000000 & 0.4166667 \\\\\n",
       "\t  2         & 0.50000000 & 0.4166667 \\\\\n",
       "\t  3         & 0.33333333 & 0.4166667 \\\\\n",
       "\t  4         & 0.25000000 & 0.4166667 \\\\\n",
       "\t  5         & 0.20000000 & 0.4166667 \\\\\n",
       "\t  6         & 0.16666667 & 0.4166667 \\\\\n",
       "\t  7         & 0.14285714 & 0.4166667 \\\\\n",
       "\t  8         & 0.12500000 & 0.4166667 \\\\\n",
       "\t  9         & 0.11111111 & 0.4166667 \\\\\n",
       "\t 10         & 0.10000000 & 0.4166667 \\\\\n",
       "\t 11         & 0.09090909 & 0.4166667 \\\\\n",
       "\t 12         & 0.08333333 & 0.4166667 \\\\\n",
       "\t 13         & 0.07692308 & 0.4166667 \\\\\n",
       "\t 14         & 0.07142857 & 0.4166667 \\\\\n",
       "\t 15         & 0.06666667 & 0.3958333 \\\\\n",
       "\t 16         & 0.06250000 & 0.3958333 \\\\\n",
       "\t 17         & 0.05882353 & 0.3958333 \\\\\n",
       "\t 18         & 0.05555556 & 0.3958333 \\\\\n",
       "\t 19         & 0.05263158 & 0.3958333 \\\\\n",
       "\t 20         & 0.05000000 & 0.4166667 \\\\\n",
       "\t 21         & 0.04761905 & 0.3958333 \\\\\n",
       "\t 22         & 0.04545455 & 0.3958333 \\\\\n",
       "\t 23         & 0.04347826 & 0.3958333 \\\\\n",
       "\t 24         & 0.04166667 & 0.3958333 \\\\\n",
       "\t 25         & 0.04000000 & 0.3958333 \\\\\n",
       "\\end{tabular}\n"
      ],
      "text/markdown": [
       "\n",
       "| k | x | err_rate |\n",
       "|---|---|---|\n",
       "|  1         | 1.00000000 | 0.4166667  |\n",
       "|  2         | 0.50000000 | 0.4166667  |\n",
       "|  3         | 0.33333333 | 0.4166667  |\n",
       "|  4         | 0.25000000 | 0.4166667  |\n",
       "|  5         | 0.20000000 | 0.4166667  |\n",
       "|  6         | 0.16666667 | 0.4166667  |\n",
       "|  7         | 0.14285714 | 0.4166667  |\n",
       "|  8         | 0.12500000 | 0.4166667  |\n",
       "|  9         | 0.11111111 | 0.4166667  |\n",
       "| 10         | 0.10000000 | 0.4166667  |\n",
       "| 11         | 0.09090909 | 0.4166667  |\n",
       "| 12         | 0.08333333 | 0.4166667  |\n",
       "| 13         | 0.07692308 | 0.4166667  |\n",
       "| 14         | 0.07142857 | 0.4166667  |\n",
       "| 15         | 0.06666667 | 0.3958333  |\n",
       "| 16         | 0.06250000 | 0.3958333  |\n",
       "| 17         | 0.05882353 | 0.3958333  |\n",
       "| 18         | 0.05555556 | 0.3958333  |\n",
       "| 19         | 0.05263158 | 0.3958333  |\n",
       "| 20         | 0.05000000 | 0.4166667  |\n",
       "| 21         | 0.04761905 | 0.3958333  |\n",
       "| 22         | 0.04545455 | 0.3958333  |\n",
       "| 23         | 0.04347826 | 0.3958333  |\n",
       "| 24         | 0.04166667 | 0.3958333  |\n",
       "| 25         | 0.04000000 | 0.3958333  |\n",
       "\n"
      ],
      "text/plain": [
       "   k  x          err_rate \n",
       "1   1 1.00000000 0.4166667\n",
       "2   2 0.50000000 0.4166667\n",
       "3   3 0.33333333 0.4166667\n",
       "4   4 0.25000000 0.4166667\n",
       "5   5 0.20000000 0.4166667\n",
       "6   6 0.16666667 0.4166667\n",
       "7   7 0.14285714 0.4166667\n",
       "8   8 0.12500000 0.4166667\n",
       "9   9 0.11111111 0.4166667\n",
       "10 10 0.10000000 0.4166667\n",
       "11 11 0.09090909 0.4166667\n",
       "12 12 0.08333333 0.4166667\n",
       "13 13 0.07692308 0.4166667\n",
       "14 14 0.07142857 0.4166667\n",
       "15 15 0.06666667 0.3958333\n",
       "16 16 0.06250000 0.3958333\n",
       "17 17 0.05882353 0.3958333\n",
       "18 18 0.05555556 0.3958333\n",
       "19 19 0.05263158 0.3958333\n",
       "20 20 0.05000000 0.4166667\n",
       "21 21 0.04761905 0.3958333\n",
       "22 22 0.04545455 0.3958333\n",
       "23 23 0.04347826 0.3958333\n",
       "24 24 0.04166667 0.3958333\n",
       "25 25 0.04000000 0.3958333"
      ]
     },
     "metadata": {},
     "output_type": "display_data"
    }
   ],
   "source": [
    "best_k"
   ]
  },
  {
   "cell_type": "code",
   "execution_count": 79,
   "id": "e6050852-df4f-4760-b984-b89036d7dabc",
   "metadata": {},
   "outputs": [
    {
     "data": {
      "text/html": [
       "<table>\n",
       "<thead><tr><th></th><th scope=col>k</th><th scope=col>x</th><th scope=col>err_rate</th></tr></thead>\n",
       "<tbody>\n",
       "\t<tr><th scope=row>15</th><td>15        </td><td>0.06666667</td><td>0.3958333 </td></tr>\n",
       "</tbody>\n",
       "</table>\n"
      ],
      "text/latex": [
       "\\begin{tabular}{r|lll}\n",
       "  & k & x & err\\_rate\\\\\n",
       "\\hline\n",
       "\t15 & 15         & 0.06666667 & 0.3958333 \\\\\n",
       "\\end{tabular}\n"
      ],
      "text/markdown": [
       "\n",
       "| <!--/--> | k | x | err_rate |\n",
       "|---|---|---|---|\n",
       "| 15 | 15         | 0.06666667 | 0.3958333  |\n",
       "\n"
      ],
      "text/plain": [
       "   k  x          err_rate \n",
       "15 15 0.06666667 0.3958333"
      ]
     },
     "metadata": {},
     "output_type": "display_data"
    },
    {
     "data": {
      "text/html": [
       "15"
      ],
      "text/latex": [
       "15"
      ],
      "text/markdown": [
       "15"
      ],
      "text/plain": [
       "[1] 15"
      ]
     },
     "metadata": {},
     "output_type": "display_data"
    }
   ],
   "source": [
    "best_k[which.min(best_k$err_rate), ]\n",
    "knn_k <- as.numeric(best_k[which.min(best_k$err_rate), ]$k)\n",
    "knn_k"
   ]
  },
  {
   "cell_type": "markdown",
   "id": "a107b334-4fcd-4de8-a29b-016d27286da8",
   "metadata": {},
   "source": [
    "KNN predictions"
   ]
  },
  {
   "cell_type": "code",
   "execution_count": 80,
   "id": "ace9b9d2-5451-49e6-8576-1bff9e2c4793",
   "metadata": {},
   "outputs": [],
   "source": [
    "cross_validation <- function(dataset, k, knn_k){\n",
    "  \n",
    "  cvfolds <- cut(seq_len(nrow(dataset)), breaks = k, labels = F)\n",
    "  cvfolds <- sample(cvfolds)\n",
    "  \n",
    "  observed  <- dataset$sample_type01\n",
    "  predicted <- rep(NA, nrow(dataset))\n",
    "  \n",
    "  for (i in 1:k){\n",
    "    rows      <- which(cvfolds==i)\n",
    "    testdata  <- dataset[rows,]\n",
    "    testdata <- testdata %>% select(-sample_type01)\n",
    "    testlabels <- testdata$sample_type01\n",
    "    \n",
    "    traindata <- dataset[-rows,]\n",
    "    trainlabels <- traindata$sample_type01\n",
    "    traindata <- traindata %>% select(-sample_type01)\n",
    "    fit       <- knn(train = traindata, \n",
    "                test = testdata, \n",
    "                cl = trainlabels,\n",
    "                k = knn_k) \n",
    "    \n",
    "    fit <- as.numeric(fit) - 1 \n",
    "    predicted[rows] <- fit\n",
    "  }\n",
    "  \n",
    "    message(observed)\n",
    "    message(predicted)\n",
    "  err <- mean(observed != predicted)\n",
    "\n",
    "  return(err)\n",
    "}"
   ]
  },
  {
   "cell_type": "code",
   "execution_count": 81,
   "id": "045b6f1e-f676-49b9-b1c2-f3ce746c304e",
   "metadata": {},
   "outputs": [
    {
     "name": "stderr",
     "output_type": "stream",
     "text": [
      "11111111111111111111111111111111111111111111100000000000000000111111111111111111111111111111111111111111111111111111100000000000000000000000000000000000000000000000000000000000000000000000000000000000000000000000000000000000000000000000000000000000000000000000000000000000000000000000000000000000000000000000000001111111111111111000000000000000000001111111111111111111111111111111110001111111111111111111111110011110000111111111111111111101111111111111111111111111111111111\n",
      "00000000000000000000101110000100001000101100000000001000000000000000010000000010000000100000110000000010000000000100000000000000000000000000000000000000000000000000000000000000000000000000001001000000000000000000000000000000000000000000000000010000000000000000000000000000000000000000000000000000000000000000000000101000000000000000000000000001000000001111010000110100110000000010000001000000000010100000000010001010000000110000010000001101100000000001100000000000011011101\n"
     ]
    },
    {
     "data": {
      "text/html": [
       "0.391120507399577"
      ],
      "text/latex": [
       "0.391120507399577"
      ],
      "text/markdown": [
       "0.391120507399577"
      ],
      "text/plain": [
       "[1] 0.3911205"
      ]
     },
     "metadata": {},
     "output_type": "display_data"
    }
   ],
   "source": [
    "error_rate <- cross_validation(data, 10, knn_k)\n",
    "error_rate"
   ]
  },
  {
   "cell_type": "code",
   "execution_count": null,
   "id": "2c8495c4-9046-48e9-9358-0f31f8631a8d",
   "metadata": {},
   "outputs": [],
   "source": []
  }
 ],
 "metadata": {
  "kernelspec": {
   "display_name": "R [conda env:ctDNA] *",
   "language": "R",
   "name": "conda-env-ctDNA-r"
  },
  "language_info": {
   "codemirror_mode": "r",
   "file_extension": ".r",
   "mimetype": "text/x-r-source",
   "name": "R",
   "pygments_lexer": "r",
   "version": "3.6.1"
  }
 },
 "nbformat": 4,
 "nbformat_minor": 5
}
