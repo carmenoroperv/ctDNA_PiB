{
 "cells": [
  {
   "cell_type": "code",
   "execution_count": 10,
   "id": "82bfbbf1-38e1-4a93-930a-c3a7516e3572",
   "metadata": {},
   "outputs": [
    {
     "name": "stderr",
     "output_type": "stream",
     "text": [
      "Registered S3 methods overwritten by 'ggplot2':\n",
      "  method         from \n",
      "  [.quosures     rlang\n",
      "  c.quosures     rlang\n",
      "  print.quosures rlang\n",
      "Registered S3 method overwritten by 'rvest':\n",
      "  method            from\n",
      "  read_xml.response xml2\n",
      "── Attaching packages ───────────────────────────────────── tidyverse 1.2.1 ──\n",
      "✔ ggplot2 3.1.1     ✔ purrr   0.3.4\n",
      "✔ tibble  3.1.4     ✔ dplyr   1.0.7\n",
      "✔ tidyr   1.1.3     ✔ stringr 1.4.0\n",
      "✔ readr   1.3.1     ✔ forcats 0.4.0\n",
      "── Conflicts ──────────────────────────────────────── tidyverse_conflicts() ──\n",
      "✖ dplyr::filter() masks stats::filter()\n",
      "✖ dplyr::lag()    masks stats::lag()\n"
     ]
    }
   ],
   "source": [
    "library(tidyverse)"
   ]
  },
  {
   "cell_type": "code",
   "execution_count": 1,
   "id": "8e5d39d5-e043-4ed5-8b2b-dd5d678f3e5c",
   "metadata": {},
   "outputs": [
    {
     "data": {
      "text/html": [
       "<table>\n",
       "<thead><tr><th scope=col>sample</th><th scope=col>bin</th><th scope=col>X30</th><th scope=col>X31</th><th scope=col>X32</th><th scope=col>X33</th><th scope=col>X34</th><th scope=col>X35</th><th scope=col>X36</th><th scope=col>X37</th><th scope=col>...</th><th scope=col>X691</th><th scope=col>X692</th><th scope=col>X693</th><th scope=col>X694</th><th scope=col>X695</th><th scope=col>X696</th><th scope=col>X697</th><th scope=col>X698</th><th scope=col>X699</th><th scope=col>X700</th></tr></thead>\n",
       "<tbody>\n",
       "\t<tr><td>PGDX10344P1</td><td>chr10_400  </td><td>0          </td><td>0          </td><td>0          </td><td>0          </td><td>0          </td><td>0          </td><td>0          </td><td>0          </td><td>...        </td><td>0          </td><td>0          </td><td>0          </td><td>0          </td><td>0          </td><td>0          </td><td>0          </td><td>0          </td><td>0          </td><td>0          </td></tr>\n",
       "\t<tr><td>PGDX10344P1</td><td>chr10_40   </td><td>0          </td><td>0          </td><td>0          </td><td>0          </td><td>0          </td><td>0          </td><td>0          </td><td>0          </td><td>...        </td><td>0          </td><td>0          </td><td>0          </td><td>0          </td><td>0          </td><td>0          </td><td>0          </td><td>0          </td><td>0          </td><td>0          </td></tr>\n",
       "\t<tr><td>PGDX10344P1</td><td>chr10_4    </td><td>0          </td><td>0          </td><td>0          </td><td>0          </td><td>0          </td><td>0          </td><td>0          </td><td>0          </td><td>...        </td><td>0          </td><td>0          </td><td>0          </td><td>0          </td><td>0          </td><td>0          </td><td>0          </td><td>0          </td><td>0          </td><td>0          </td></tr>\n",
       "\t<tr><td>PGDX10344P1</td><td>chr10_401  </td><td>0          </td><td>0          </td><td>0          </td><td>0          </td><td>0          </td><td>0          </td><td>0          </td><td>0          </td><td>...        </td><td>0          </td><td>0          </td><td>0          </td><td>0          </td><td>0          </td><td>0          </td><td>0          </td><td>0          </td><td>0          </td><td>0          </td></tr>\n",
       "\t<tr><td>PGDX10344P1</td><td>chr10_402  </td><td>0          </td><td>0          </td><td>0          </td><td>0          </td><td>0          </td><td>0          </td><td>0          </td><td>0          </td><td>...        </td><td>0          </td><td>0          </td><td>0          </td><td>0          </td><td>0          </td><td>0          </td><td>0          </td><td>0          </td><td>0          </td><td>0          </td></tr>\n",
       "\t<tr><td>PGDX10344P1</td><td>chr10_403  </td><td>0          </td><td>0          </td><td>0          </td><td>0          </td><td>0          </td><td>0          </td><td>0          </td><td>0          </td><td>...        </td><td>0          </td><td>0          </td><td>0          </td><td>0          </td><td>0          </td><td>0          </td><td>0          </td><td>0          </td><td>0          </td><td>0          </td></tr>\n",
       "</tbody>\n",
       "</table>\n"
      ],
      "text/latex": [
       "\\begin{tabular}{r|lllllllllllllllllllllllllllllllllllllllllllllllllllllllllllllllllllllllllllllllllllllllllllllllllllllllllllllllllllllllllllllllllllllllllllllllllllllllllllllllllllllllllllllllllllllllllllllllllllllllllllllllllllllllllllllllllllllllllllllllllllllllllllllllllllllllllllllllllllllllllllllllllllllllllllllllllllllllllllllllllllllllllllllllllllllllllllllllllllllllllllllllllllllllllllllllllllllllllllllllllllllllllllllllllllllllllllllllllllllllllllllllllllllllllllllllllllllllllllllllllllllllllllllllllllllllllllllllllllllllllllllllllllllllllllllllllllllllllllllllllllllllllllllllllllllllllllllllllllllllllllllllllllllllllllllllllllllllllllllllllllllllllllllllllllllllllllllllll}\n",
       " sample & bin & X30 & X31 & X32 & X33 & X34 & X35 & X36 & X37 & ... & X691 & X692 & X693 & X694 & X695 & X696 & X697 & X698 & X699 & X700\\\\\n",
       "\\hline\n",
       "\t PGDX10344P1 & chr10\\_400 & 0           & 0           & 0           & 0           & 0           & 0           & 0           & 0           & ...         & 0           & 0           & 0           & 0           & 0           & 0           & 0           & 0           & 0           & 0          \\\\\n",
       "\t PGDX10344P1 & chr10\\_40  & 0           & 0           & 0           & 0           & 0           & 0           & 0           & 0           & ...         & 0           & 0           & 0           & 0           & 0           & 0           & 0           & 0           & 0           & 0          \\\\\n",
       "\t PGDX10344P1 & chr10\\_4   & 0           & 0           & 0           & 0           & 0           & 0           & 0           & 0           & ...         & 0           & 0           & 0           & 0           & 0           & 0           & 0           & 0           & 0           & 0          \\\\\n",
       "\t PGDX10344P1 & chr10\\_401 & 0           & 0           & 0           & 0           & 0           & 0           & 0           & 0           & ...         & 0           & 0           & 0           & 0           & 0           & 0           & 0           & 0           & 0           & 0          \\\\\n",
       "\t PGDX10344P1 & chr10\\_402 & 0           & 0           & 0           & 0           & 0           & 0           & 0           & 0           & ...         & 0           & 0           & 0           & 0           & 0           & 0           & 0           & 0           & 0           & 0          \\\\\n",
       "\t PGDX10344P1 & chr10\\_403 & 0           & 0           & 0           & 0           & 0           & 0           & 0           & 0           & ...         & 0           & 0           & 0           & 0           & 0           & 0           & 0           & 0           & 0           & 0          \\\\\n",
       "\\end{tabular}\n"
      ],
      "text/markdown": [
       "\n",
       "| sample | bin | X30 | X31 | X32 | X33 | X34 | X35 | X36 | X37 | ... | X691 | X692 | X693 | X694 | X695 | X696 | X697 | X698 | X699 | X700 |\n",
       "|---|---|---|---|---|---|---|---|---|---|---|---|---|---|---|---|---|---|---|---|---|\n",
       "| PGDX10344P1 | chr10_400   | 0           | 0           | 0           | 0           | 0           | 0           | 0           | 0           | ...         | 0           | 0           | 0           | 0           | 0           | 0           | 0           | 0           | 0           | 0           |\n",
       "| PGDX10344P1 | chr10_40    | 0           | 0           | 0           | 0           | 0           | 0           | 0           | 0           | ...         | 0           | 0           | 0           | 0           | 0           | 0           | 0           | 0           | 0           | 0           |\n",
       "| PGDX10344P1 | chr10_4     | 0           | 0           | 0           | 0           | 0           | 0           | 0           | 0           | ...         | 0           | 0           | 0           | 0           | 0           | 0           | 0           | 0           | 0           | 0           |\n",
       "| PGDX10344P1 | chr10_401   | 0           | 0           | 0           | 0           | 0           | 0           | 0           | 0           | ...         | 0           | 0           | 0           | 0           | 0           | 0           | 0           | 0           | 0           | 0           |\n",
       "| PGDX10344P1 | chr10_402   | 0           | 0           | 0           | 0           | 0           | 0           | 0           | 0           | ...         | 0           | 0           | 0           | 0           | 0           | 0           | 0           | 0           | 0           | 0           |\n",
       "| PGDX10344P1 | chr10_403   | 0           | 0           | 0           | 0           | 0           | 0           | 0           | 0           | ...         | 0           | 0           | 0           | 0           | 0           | 0           | 0           | 0           | 0           | 0           |\n",
       "\n"
      ],
      "text/plain": [
       "  sample      bin       X30 X31 X32 X33 X34 X35 X36 X37 ... X691 X692 X693 X694\n",
       "1 PGDX10344P1 chr10_400 0   0   0   0   0   0   0   0   ... 0    0    0    0   \n",
       "2 PGDX10344P1 chr10_40  0   0   0   0   0   0   0   0   ... 0    0    0    0   \n",
       "3 PGDX10344P1 chr10_4   0   0   0   0   0   0   0   0   ... 0    0    0    0   \n",
       "4 PGDX10344P1 chr10_401 0   0   0   0   0   0   0   0   ... 0    0    0    0   \n",
       "5 PGDX10344P1 chr10_402 0   0   0   0   0   0   0   0   ... 0    0    0    0   \n",
       "6 PGDX10344P1 chr10_403 0   0   0   0   0   0   0   0   ... 0    0    0    0   \n",
       "  X695 X696 X697 X698 X699 X700\n",
       "1 0    0    0    0    0    0   \n",
       "2 0    0    0    0    0    0   \n",
       "3 0    0    0    0    0    0   \n",
       "4 0    0    0    0    0    0   \n",
       "5 0    0    0    0    0    0   \n",
       "6 0    0    0    0    0    0   "
      ]
     },
     "metadata": {},
     "output_type": "display_data"
    }
   ],
   "source": [
    "cases <- readRDS(\"../data/cases_controls/cases_controls_rds_format/all_samples_normalized_CASES.rds\")\n",
    "controls <- readRDS(\"../data/cases_controls/cases_controls_rds_format/all_samples_normalized_CONTROLS.rds\")\n",
    "head(cases)\n",
    "\n",
    "cases <- cases[1:1000, ]\n",
    "controls <- controls[1:10000, ]"
   ]
  },
  {
   "cell_type": "code",
   "execution_count": 2,
   "id": "392df75e-2fa3-45aa-b68a-36f97d6f0e0f",
   "metadata": {},
   "outputs": [
    {
     "data": {
      "text/html": [
       "<table>\n",
       "<thead><tr><th scope=col>sample</th><th scope=col>sample_type</th></tr></thead>\n",
       "<tbody>\n",
       "\t<tr><td>PGDX10344P1   </td><td>Gastric_cancer</td></tr>\n",
       "\t<tr><td>PGDX10346P1   </td><td>Gastric_cancer</td></tr>\n",
       "\t<tr><td>PGDX10349P1   </td><td>Gastric_cancer</td></tr>\n",
       "\t<tr><td>PGDX10351P1   </td><td>Gastric_cancer</td></tr>\n",
       "\t<tr><td>PGDX10566P    </td><td>Ovarian_Cancer</td></tr>\n",
       "\t<tr><td>PGDX10567P    </td><td>Ovarian_Cancer</td></tr>\n",
       "</tbody>\n",
       "</table>\n"
      ],
      "text/latex": [
       "\\begin{tabular}{r|ll}\n",
       " sample & sample\\_type\\\\\n",
       "\\hline\n",
       "\t PGDX10344P1      & Gastric\\_cancer\\\\\n",
       "\t PGDX10346P1      & Gastric\\_cancer\\\\\n",
       "\t PGDX10349P1      & Gastric\\_cancer\\\\\n",
       "\t PGDX10351P1      & Gastric\\_cancer\\\\\n",
       "\t PGDX10566P       & Ovarian\\_Cancer\\\\\n",
       "\t PGDX10567P       & Ovarian\\_Cancer\\\\\n",
       "\\end{tabular}\n"
      ],
      "text/markdown": [
       "\n",
       "| sample | sample_type |\n",
       "|---|---|\n",
       "| PGDX10344P1    | Gastric_cancer |\n",
       "| PGDX10346P1    | Gastric_cancer |\n",
       "| PGDX10349P1    | Gastric_cancer |\n",
       "| PGDX10351P1    | Gastric_cancer |\n",
       "| PGDX10566P     | Ovarian_Cancer |\n",
       "| PGDX10567P     | Ovarian_Cancer |\n",
       "\n"
      ],
      "text/plain": [
       "  sample      sample_type   \n",
       "1 PGDX10344P1 Gastric_cancer\n",
       "2 PGDX10346P1 Gastric_cancer\n",
       "3 PGDX10349P1 Gastric_cancer\n",
       "4 PGDX10351P1 Gastric_cancer\n",
       "5 PGDX10566P  Ovarian_Cancer\n",
       "6 PGDX10567P  Ovarian_Cancer"
      ]
     },
     "metadata": {},
     "output_type": "display_data"
    },
    {
     "data": {
      "text/html": [
       "<ol class=list-inline>\n",
       "\t<li>473</li>\n",
       "\t<li>2</li>\n",
       "</ol>\n"
      ],
      "text/latex": [
       "\\begin{enumerate*}\n",
       "\\item 473\n",
       "\\item 2\n",
       "\\end{enumerate*}\n"
      ],
      "text/markdown": [
       "1. 473\n",
       "2. 2\n",
       "\n",
       "\n"
      ],
      "text/plain": [
       "[1] 473   2"
      ]
     },
     "metadata": {},
     "output_type": "display_data"
    }
   ],
   "source": [
    "sample_types <- read.table(\"../data/sample_types.txt\", header = F, sep = \" \")\n",
    "colnames(sample_types) <- c(\"sample\", \"sample_type\")\n",
    "head(sample_types)\n",
    "dim(sample_types)"
   ]
  },
  {
   "cell_type": "code",
   "execution_count": 4,
   "id": "c03e7ba4-79e8-4d63-a14d-f8dc599c8d20",
   "metadata": {},
   "outputs": [
    {
     "data": {
      "text/html": [
       "<ol class=list-inline>\n",
       "\t<li>10000</li>\n",
       "\t<li>673</li>\n",
       "</ol>\n"
      ],
      "text/latex": [
       "\\begin{enumerate*}\n",
       "\\item 10000\n",
       "\\item 673\n",
       "\\end{enumerate*}\n"
      ],
      "text/markdown": [
       "1. 10000\n",
       "2. 673\n",
       "\n",
       "\n"
      ],
      "text/plain": [
       "[1] 10000   673"
      ]
     },
     "metadata": {},
     "output_type": "display_data"
    }
   ],
   "source": [
    "dim(controls)"
   ]
  },
  {
   "cell_type": "code",
   "execution_count": 5,
   "id": "56d9b65d-97f0-4abf-a422-f64110a1a1c9",
   "metadata": {},
   "outputs": [
    {
     "data": {
      "text/html": [
       "<dl class=dl-horizontal>\n",
       "\t<dt>X30</dt>\n",
       "\t\t<dd>1.04486035822806e-06</dd>\n",
       "\t<dt>X31</dt>\n",
       "\t\t<dd>1.30947813754789e-06</dd>\n",
       "\t<dt>X32</dt>\n",
       "\t\t<dd>1.10430102630152e-06</dd>\n",
       "\t<dt>X33</dt>\n",
       "\t\t<dd>1.13850306552574e-06</dd>\n",
       "\t<dt>X34</dt>\n",
       "\t\t<dd>1.14947787732775e-06</dd>\n",
       "\t<dt>X35</dt>\n",
       "\t\t<dd>1.32261449831228e-06</dd>\n",
       "</dl>\n"
      ],
      "text/latex": [
       "\\begin{description*}\n",
       "\\item[X30] 1.04486035822806e-06\n",
       "\\item[X31] 1.30947813754789e-06\n",
       "\\item[X32] 1.10430102630152e-06\n",
       "\\item[X33] 1.13850306552574e-06\n",
       "\\item[X34] 1.14947787732775e-06\n",
       "\\item[X35] 1.32261449831228e-06\n",
       "\\end{description*}\n"
      ],
      "text/markdown": [
       "X30\n",
       ":   1.04486035822806e-06X31\n",
       ":   1.30947813754789e-06X32\n",
       ":   1.10430102630152e-06X33\n",
       ":   1.13850306552574e-06X34\n",
       ":   1.14947787732775e-06X35\n",
       ":   1.32261449831228e-06\n",
       "\n"
      ],
      "text/plain": [
       "         X30          X31          X32          X33          X34          X35 \n",
       "1.044860e-06 1.309478e-06 1.104301e-06 1.138503e-06 1.149478e-06 1.322614e-06 "
      ]
     },
     "metadata": {},
     "output_type": "display_data"
    }
   ],
   "source": [
    "controls_mean <- colMeans(controls[3:673])\n",
    "head(controls_mean)"
   ]
  },
  {
   "cell_type": "code",
   "execution_count": 18,
   "id": "2ac5b070-05f7-4fe9-9877-e1959b353fb7",
   "metadata": {},
   "outputs": [
    {
     "data": {
      "text/html": [
       "<table>\n",
       "<thead><tr><th scope=col>healthy</th></tr></thead>\n",
       "<tbody>\n",
       "\t<tr><td>1.044860e-06</td></tr>\n",
       "\t<tr><td>1.309478e-06</td></tr>\n",
       "\t<tr><td>1.104301e-06</td></tr>\n",
       "\t<tr><td>1.138503e-06</td></tr>\n",
       "\t<tr><td>1.149478e-06</td></tr>\n",
       "\t<tr><td>1.322614e-06</td></tr>\n",
       "</tbody>\n",
       "</table>\n"
      ],
      "text/latex": [
       "\\begin{tabular}{r|l}\n",
       " healthy\\\\\n",
       "\\hline\n",
       "\t 1.044860e-06\\\\\n",
       "\t 1.309478e-06\\\\\n",
       "\t 1.104301e-06\\\\\n",
       "\t 1.138503e-06\\\\\n",
       "\t 1.149478e-06\\\\\n",
       "\t 1.322614e-06\\\\\n",
       "\\end{tabular}\n"
      ],
      "text/markdown": [
       "\n",
       "| healthy |\n",
       "|---|\n",
       "| 1.044860e-06 |\n",
       "| 1.309478e-06 |\n",
       "| 1.104301e-06 |\n",
       "| 1.138503e-06 |\n",
       "| 1.149478e-06 |\n",
       "| 1.322614e-06 |\n",
       "\n"
      ],
      "text/plain": [
       "  healthy     \n",
       "1 1.044860e-06\n",
       "2 1.309478e-06\n",
       "3 1.104301e-06\n",
       "4 1.138503e-06\n",
       "5 1.149478e-06\n",
       "6 1.322614e-06"
      ]
     },
     "metadata": {},
     "output_type": "display_data"
    }
   ],
   "source": [
    "counts_mean_tibble <- tibble(healthy = controls_mean)\n",
    "head(counts_mean_tibble)"
   ]
  },
  {
   "cell_type": "code",
   "execution_count": 19,
   "id": "1a535f0c-7f1b-455d-a27c-f1c53d8563b3",
   "metadata": {},
   "outputs": [
    {
     "data": {
      "text/html": [
       "<table>\n",
       "<thead><tr><th scope=col>sample</th><th scope=col>sample_type</th><th scope=col>bin</th><th scope=col>X30</th><th scope=col>X31</th><th scope=col>X32</th><th scope=col>X33</th><th scope=col>X34</th><th scope=col>X35</th><th scope=col>X36</th><th scope=col>...</th><th scope=col>X691</th><th scope=col>X692</th><th scope=col>X693</th><th scope=col>X694</th><th scope=col>X695</th><th scope=col>X696</th><th scope=col>X697</th><th scope=col>X698</th><th scope=col>X699</th><th scope=col>X700</th></tr></thead>\n",
       "<tbody>\n",
       "\t<tr><td>PGDX10344P1   </td><td>Gastric_cancer</td><td>chr10_400     </td><td>0             </td><td>0             </td><td>0             </td><td>0             </td><td>0             </td><td>0             </td><td>0             </td><td>...           </td><td>0             </td><td>0             </td><td>0             </td><td>0             </td><td>0             </td><td>0             </td><td>0             </td><td>0             </td><td>0             </td><td>0             </td></tr>\n",
       "\t<tr><td>PGDX10344P1   </td><td>Gastric_cancer</td><td>chr10_40      </td><td>0             </td><td>0             </td><td>0             </td><td>0             </td><td>0             </td><td>0             </td><td>0             </td><td>...           </td><td>0             </td><td>0             </td><td>0             </td><td>0             </td><td>0             </td><td>0             </td><td>0             </td><td>0             </td><td>0             </td><td>0             </td></tr>\n",
       "\t<tr><td>PGDX10344P1   </td><td>Gastric_cancer</td><td>chr10_4       </td><td>0             </td><td>0             </td><td>0             </td><td>0             </td><td>0             </td><td>0             </td><td>0             </td><td>...           </td><td>0             </td><td>0             </td><td>0             </td><td>0             </td><td>0             </td><td>0             </td><td>0             </td><td>0             </td><td>0             </td><td>0             </td></tr>\n",
       "\t<tr><td>PGDX10344P1   </td><td>Gastric_cancer</td><td>chr10_401     </td><td>0             </td><td>0             </td><td>0             </td><td>0             </td><td>0             </td><td>0             </td><td>0             </td><td>...           </td><td>0             </td><td>0             </td><td>0             </td><td>0             </td><td>0             </td><td>0             </td><td>0             </td><td>0             </td><td>0             </td><td>0             </td></tr>\n",
       "\t<tr><td>PGDX10344P1   </td><td>Gastric_cancer</td><td>chr10_402     </td><td>0             </td><td>0             </td><td>0             </td><td>0             </td><td>0             </td><td>0             </td><td>0             </td><td>...           </td><td>0             </td><td>0             </td><td>0             </td><td>0             </td><td>0             </td><td>0             </td><td>0             </td><td>0             </td><td>0             </td><td>0             </td></tr>\n",
       "\t<tr><td>PGDX10344P1   </td><td>Gastric_cancer</td><td>chr10_403     </td><td>0             </td><td>0             </td><td>0             </td><td>0             </td><td>0             </td><td>0             </td><td>0             </td><td>...           </td><td>0             </td><td>0             </td><td>0             </td><td>0             </td><td>0             </td><td>0             </td><td>0             </td><td>0             </td><td>0             </td><td>0             </td></tr>\n",
       "</tbody>\n",
       "</table>\n"
      ],
      "text/latex": [
       "\\begin{tabular}{r|llllllllllllllllllllllllllllllllllllllllllllllllllllllllllllllllllllllllllllllllllllllllllllllllllllllllllllllllllllllllllllllllllllllllllllllllllllllllllllllllllllllllllllllllllllllllllllllllllllllllllllllllllllllllllllllllllllllllllllllllllllllllllllllllllllllllllllllllllllllllllllllllllllllllllllllllllllllllllllllllllllllllllllllllllllllllllllllllllllllllllllllllllllllllllllllllllllllllllllllllllllllllllllllllllllllllllllllllllllllllllllllllllllllllllllllllllllllllllllllllllllllllllllllllllllllllllllllllllllllllllllllllllllllllllllllllllllllllllllllllllllllllllllllllllllllllllllllllllllllllllllllllllllllllllllllllllllllllllllllllllllllllllllllllllllllllllllllllll}\n",
       " sample & sample\\_type & bin & X30 & X31 & X32 & X33 & X34 & X35 & X36 & ... & X691 & X692 & X693 & X694 & X695 & X696 & X697 & X698 & X699 & X700\\\\\n",
       "\\hline\n",
       "\t PGDX10344P1      & Gastric\\_cancer & chr10\\_400      & 0                & 0                & 0                & 0                & 0                & 0                & 0                & ...              & 0                & 0                & 0                & 0                & 0                & 0                & 0                & 0                & 0                & 0               \\\\\n",
       "\t PGDX10344P1      & Gastric\\_cancer & chr10\\_40       & 0                & 0                & 0                & 0                & 0                & 0                & 0                & ...              & 0                & 0                & 0                & 0                & 0                & 0                & 0                & 0                & 0                & 0               \\\\\n",
       "\t PGDX10344P1      & Gastric\\_cancer & chr10\\_4        & 0                & 0                & 0                & 0                & 0                & 0                & 0                & ...              & 0                & 0                & 0                & 0                & 0                & 0                & 0                & 0                & 0                & 0               \\\\\n",
       "\t PGDX10344P1      & Gastric\\_cancer & chr10\\_401      & 0                & 0                & 0                & 0                & 0                & 0                & 0                & ...              & 0                & 0                & 0                & 0                & 0                & 0                & 0                & 0                & 0                & 0               \\\\\n",
       "\t PGDX10344P1      & Gastric\\_cancer & chr10\\_402      & 0                & 0                & 0                & 0                & 0                & 0                & 0                & ...              & 0                & 0                & 0                & 0                & 0                & 0                & 0                & 0                & 0                & 0               \\\\\n",
       "\t PGDX10344P1      & Gastric\\_cancer & chr10\\_403      & 0                & 0                & 0                & 0                & 0                & 0                & 0                & ...              & 0                & 0                & 0                & 0                & 0                & 0                & 0                & 0                & 0                & 0               \\\\\n",
       "\\end{tabular}\n"
      ],
      "text/markdown": [
       "\n",
       "| sample | sample_type | bin | X30 | X31 | X32 | X33 | X34 | X35 | X36 | ... | X691 | X692 | X693 | X694 | X695 | X696 | X697 | X698 | X699 | X700 |\n",
       "|---|---|---|---|---|---|---|---|---|---|---|---|---|---|---|---|---|---|---|---|---|\n",
       "| PGDX10344P1    | Gastric_cancer | chr10_400      | 0              | 0              | 0              | 0              | 0              | 0              | 0              | ...            | 0              | 0              | 0              | 0              | 0              | 0              | 0              | 0              | 0              | 0              |\n",
       "| PGDX10344P1    | Gastric_cancer | chr10_40       | 0              | 0              | 0              | 0              | 0              | 0              | 0              | ...            | 0              | 0              | 0              | 0              | 0              | 0              | 0              | 0              | 0              | 0              |\n",
       "| PGDX10344P1    | Gastric_cancer | chr10_4        | 0              | 0              | 0              | 0              | 0              | 0              | 0              | ...            | 0              | 0              | 0              | 0              | 0              | 0              | 0              | 0              | 0              | 0              |\n",
       "| PGDX10344P1    | Gastric_cancer | chr10_401      | 0              | 0              | 0              | 0              | 0              | 0              | 0              | ...            | 0              | 0              | 0              | 0              | 0              | 0              | 0              | 0              | 0              | 0              |\n",
       "| PGDX10344P1    | Gastric_cancer | chr10_402      | 0              | 0              | 0              | 0              | 0              | 0              | 0              | ...            | 0              | 0              | 0              | 0              | 0              | 0              | 0              | 0              | 0              | 0              |\n",
       "| PGDX10344P1    | Gastric_cancer | chr10_403      | 0              | 0              | 0              | 0              | 0              | 0              | 0              | ...            | 0              | 0              | 0              | 0              | 0              | 0              | 0              | 0              | 0              | 0              |\n",
       "\n"
      ],
      "text/plain": [
       "  sample      sample_type    bin       X30 X31 X32 X33 X34 X35 X36 ... X691\n",
       "1 PGDX10344P1 Gastric_cancer chr10_400 0   0   0   0   0   0   0   ... 0   \n",
       "2 PGDX10344P1 Gastric_cancer chr10_40  0   0   0   0   0   0   0   ... 0   \n",
       "3 PGDX10344P1 Gastric_cancer chr10_4   0   0   0   0   0   0   0   ... 0   \n",
       "4 PGDX10344P1 Gastric_cancer chr10_401 0   0   0   0   0   0   0   ... 0   \n",
       "5 PGDX10344P1 Gastric_cancer chr10_402 0   0   0   0   0   0   0   ... 0   \n",
       "6 PGDX10344P1 Gastric_cancer chr10_403 0   0   0   0   0   0   0   ... 0   \n",
       "  X692 X693 X694 X695 X696 X697 X698 X699 X700\n",
       "1 0    0    0    0    0    0    0    0    0   \n",
       "2 0    0    0    0    0    0    0    0    0   \n",
       "3 0    0    0    0    0    0    0    0    0   \n",
       "4 0    0    0    0    0    0    0    0    0   \n",
       "5 0    0    0    0    0    0    0    0    0   \n",
       "6 0    0    0    0    0    0    0    0    0   "
      ]
     },
     "metadata": {},
     "output_type": "display_data"
    }
   ],
   "source": [
    "data <- merge(sample_types,cases, by=\"sample\")\n",
    "head(data)"
   ]
  },
  {
   "cell_type": "code",
   "execution_count": 20,
   "id": "57b3a7a7-59ab-4f34-ac41-10ba17b9415b",
   "metadata": {},
   "outputs": [],
   "source": [
    "classes <- unique(data$sample_type)\n",
    "for (i in 1:length(classes)){\n",
    "    data_1_type <- data %>% filter(sample_type == classes[i]) %>% select(-c(sample, sample_type, bin))\n",
    "    colmean_1_type <- colMeans(data_1_type)\n",
    "    counts_mean_tibble <- cbind(counts_mean_tibble, tibble(\"{classes[i]}\" := colmean_1_type))\n",
    "}"
   ]
  },
  {
   "cell_type": "code",
   "execution_count": 21,
   "id": "f35a1cda-1b6f-41b7-a5fd-fe9b5f3a9617",
   "metadata": {},
   "outputs": [
    {
     "data": {
      "text/html": [
       "<table>\n",
       "<thead><tr><th scope=col>healthy</th><th scope=col>Gastric_cancer</th></tr></thead>\n",
       "<tbody>\n",
       "\t<tr><td>1.044860e-06</td><td>5.051623e-07</td></tr>\n",
       "\t<tr><td>1.309478e-06</td><td>2.396358e-07</td></tr>\n",
       "\t<tr><td>1.104301e-06</td><td>1.956613e-06</td></tr>\n",
       "\t<tr><td>1.138503e-06</td><td>6.647066e-07</td></tr>\n",
       "\t<tr><td>1.149478e-06</td><td>1.327573e-06</td></tr>\n",
       "\t<tr><td>1.322614e-06</td><td>1.252558e-06</td></tr>\n",
       "</tbody>\n",
       "</table>\n"
      ],
      "text/latex": [
       "\\begin{tabular}{r|ll}\n",
       " healthy & Gastric\\_cancer\\\\\n",
       "\\hline\n",
       "\t 1.044860e-06 & 5.051623e-07\\\\\n",
       "\t 1.309478e-06 & 2.396358e-07\\\\\n",
       "\t 1.104301e-06 & 1.956613e-06\\\\\n",
       "\t 1.138503e-06 & 6.647066e-07\\\\\n",
       "\t 1.149478e-06 & 1.327573e-06\\\\\n",
       "\t 1.322614e-06 & 1.252558e-06\\\\\n",
       "\\end{tabular}\n"
      ],
      "text/markdown": [
       "\n",
       "| healthy | Gastric_cancer |\n",
       "|---|---|\n",
       "| 1.044860e-06 | 5.051623e-07 |\n",
       "| 1.309478e-06 | 2.396358e-07 |\n",
       "| 1.104301e-06 | 1.956613e-06 |\n",
       "| 1.138503e-06 | 6.647066e-07 |\n",
       "| 1.149478e-06 | 1.327573e-06 |\n",
       "| 1.322614e-06 | 1.252558e-06 |\n",
       "\n"
      ],
      "text/plain": [
       "  healthy      Gastric_cancer\n",
       "1 1.044860e-06 5.051623e-07  \n",
       "2 1.309478e-06 2.396358e-07  \n",
       "3 1.104301e-06 1.956613e-06  \n",
       "4 1.138503e-06 6.647066e-07  \n",
       "5 1.149478e-06 1.327573e-06  \n",
       "6 1.322614e-06 1.252558e-06  "
      ]
     },
     "metadata": {},
     "output_type": "display_data"
    }
   ],
   "source": [
    "head(counts_mean_tibble)"
   ]
  },
  {
   "cell_type": "code",
   "execution_count": 26,
   "id": "ce6315ed-ca91-4698-a8c6-cb161c6fad20",
   "metadata": {},
   "outputs": [],
   "source": [
    "\n",
    "p1 <- ggplot() + geom_col(aes(x = colnames(controls)[3:673], y = counts_mean_tibble$healthy))"
   ]
  },
  {
   "cell_type": "code",
   "execution_count": 27,
   "id": "4e0b8ab3-bf82-4034-9039-f98409affc7f",
   "metadata": {},
   "outputs": [],
   "source": [
    "p2 <- ggplot() + geom_col(aes(x = colnames(controls)[3:673], y = counts_mean_tibble$Gastric_cancer))"
   ]
  },
  {
   "cell_type": "code",
   "execution_count": 29,
   "id": "67008bf3-a42c-4f4e-98d7-32bcde8d03d5",
   "metadata": {},
   "outputs": [
    {
     "name": "stderr",
     "output_type": "stream",
     "text": [
      "Updating HTML index of packages in '.Library'\n",
      "Making 'packages.html' ... done\n"
     ]
    },
    {
     "data": {
      "image/png": "[encoded data removed]",
      "text/plain": [
       "plot without title"
      ]
     },
     "metadata": {},
     "output_type": "display_data"
    }
   ],
   "source": [
    "install.packages(\"cowplot\")\n",
    "library(cowplot)\n",
    "\n",
    "plot_grid(p1, p2, ncol = 2, align = \"v\")"
   ]
  },
  {
   "cell_type": "code",
   "execution_count": null,
   "id": "a396ddb8-561b-43c4-87fc-e57a384b74d6",
   "metadata": {},
   "outputs": [],
   "source": []
  }
 ],
 "metadata": {
  "kernelspec": {
   "display_name": "R",
   "language": "R",
   "name": "ir"
  },
  "language_info": {
   "codemirror_mode": "r",
   "file_extension": ".r",
   "mimetype": "text/x-r-source",
   "name": "R",
   "pygments_lexer": "r",
   "version": "3.6.1"
  }
 },
 "nbformat": 4,
 "nbformat_minor": 5
}
