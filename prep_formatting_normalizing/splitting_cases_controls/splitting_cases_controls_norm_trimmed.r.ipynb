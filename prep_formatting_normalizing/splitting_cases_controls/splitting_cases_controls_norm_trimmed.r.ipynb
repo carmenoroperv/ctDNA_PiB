{
 "cells": [
  {
   "cell_type": "code",
   "execution_count": null,
   "id": "e1d5fa62-0996-456b-895a-bcb6825d21a0",
   "metadata": {},
   "outputs": [],
   "source": [
    "library(tidyverse)"
   ]
  },
  {
   "cell_type": "code",
   "execution_count": null,
   "id": "2c02bf1a-8fe0-4567-97fa-2d1fb0bec103",
   "metadata": {},
   "outputs": [],
   "source": [
    "filename = snakemake@input[[\"input_data\"]]"
   ]
  },
  {
   "cell_type": "code",
   "execution_count": null,
   "id": "f9527aeb-7edb-4338-8a01-f820241c197d",
   "metadata": {},
   "outputs": [],
   "source": [
    "data <- readRDS(filename)"
   ]
  },
  {
   "cell_type": "markdown",
   "id": "b9f46c29-0700-40c1-a5c7-5aa3239f1e12",
   "metadata": {},
   "source": [
    "## Sample types"
   ]
  },
  {
   "cell_type": "code",
   "execution_count": null,
   "id": "55de7dc2-51ff-4513-b1dd-2e778579857a",
   "metadata": {},
   "outputs": [],
   "source": [
    "sample_types <- read.table(snakemake@input[[\"input_samples\"]])\n",
    "head(sample_types)"
   ]
  },
  {
   "cell_type": "code",
   "execution_count": null,
   "id": "313a7014-3be0-4037-b1fd-85877c687958",
   "metadata": {},
   "outputs": [],
   "source": [
    "healthy_individuals <- sample_types %>% filter(V2 == \"Healthy\") %>% select(V1)\n",
    "head(healthy_individuals)"
   ]
  },
  {
   "cell_type": "code",
   "execution_count": null,
   "id": "8704b8d8-6658-4e2d-b39a-b5851dad1cb3",
   "metadata": {},
   "outputs": [],
   "source": [
    "cancer_individuals <- sample_types %>% filter(V2 != \"Healthy\") %>% select(V1)\n",
    "head(cancer_individuals)"
   ]
  },
  {
   "cell_type": "markdown",
   "id": "2589b568-7453-42b5-8ea9-2fcc6e0e9c04",
   "metadata": {},
   "source": [
    "## Controls"
   ]
  },
  {
   "cell_type": "code",
   "execution_count": null,
   "id": "a0133672-f541-4862-beca-6440dd0f65aa",
   "metadata": {},
   "outputs": [],
   "source": [
    "data_controls <- data %>% filter(sample %in% healthy_individuals$V1)\n",
    "\n",
    "head(data_controls)"
   ]
  },
  {
   "cell_type": "code",
   "execution_count": null,
   "id": "9a2fc7f2-b9fa-48fd-8779-1e43b16c965a",
   "metadata": {},
   "outputs": [],
   "source": [
    "dim(data_controls)"
   ]
  },
  {
   "cell_type": "code",
   "execution_count": null,
   "id": "41d146ec-dd79-42c9-996d-4ef5b9e21878",
   "metadata": {},
   "outputs": [],
   "source": [
    "saveRDS(data_controls, file = snakemake@output[[\"output_controls_normalized_trimmed\"]])"
   ]
  },
  {
   "cell_type": "markdown",
   "id": "97ee341e-0816-458c-9cac-d357d225e56d",
   "metadata": {},
   "source": [
    "## Cases"
   ]
  },
  {
   "cell_type": "code",
   "execution_count": null,
   "id": "ea26edc1-5b34-4ef0-8e6f-a073d33d0e49",
   "metadata": {},
   "outputs": [],
   "source": [
    "data_cases <- data %>% filter(sample %in% cancer_individuals$V1)\n",
    "\n",
    "head(data_cases)"
   ]
  },
  {
   "cell_type": "code",
   "execution_count": null,
   "id": "3aaf579f-cacf-4c62-b55c-0cc91390bbfe",
   "metadata": {},
   "outputs": [],
   "source": [
    "dim(data_cases)"
   ]
  },
  {
   "cell_type": "code",
   "execution_count": null,
   "id": "76b11989-a910-4066-81be-60e4c5fc126f",
   "metadata": {},
   "outputs": [],
   "source": [
    "saveRDS(data_cases, file = snakemake@output[[\"output_cases_normalized_trimmed\"]])"
   ]
  }
 ],
 "metadata": {
  "kernelspec": {
   "display_name": "R",
   "language": "R",
   "name": "ir"
  },
  "language_info": {
   "codemirror_mode": "r",
   "file_extension": ".r",
   "mimetype": "text/x-r-source",
   "name": "R",
   "pygments_lexer": "r",
   "version": "3.6.1"
  }
 },
 "nbformat": 4,
 "nbformat_minor": 5
}
