{
 "cells": [
  {
   "cell_type": "code",
   "execution_count": 1,
   "id": "6ae2ba2e-becb-435b-9775-628770f47b80",
   "metadata": {},
   "outputs": [
    {
     "name": "stderr",
     "output_type": "stream",
     "text": [
      "Registered S3 methods overwritten by 'ggplot2':\n",
      "  method         from \n",
      "  [.quosures     rlang\n",
      "  c.quosures     rlang\n",
      "  print.quosures rlang\n",
      "Registered S3 method overwritten by 'rvest':\n",
      "  method            from\n",
      "  read_xml.response xml2\n",
      "── Attaching packages ─────────────────────────────────────── tidyverse 1.2.1 ──\n",
      "✔ ggplot2 3.1.1     ✔ purrr   0.3.2\n",
      "✔ tibble  3.1.4     ✔ dplyr   1.0.7\n",
      "✔ tidyr   1.1.3     ✔ stringr 1.4.0\n",
      "✔ readr   1.3.1     ✔ forcats 0.4.0\n",
      "── Conflicts ────────────────────────────────────────── tidyverse_conflicts() ──\n",
      "✖ dplyr::filter() masks stats::filter()\n",
      "✖ dplyr::lag()    masks stats::lag()\n"
     ]
    }
   ],
   "source": [
    "library(tidyverse)\n"
   ]
  },
  {
   "cell_type": "markdown",
   "id": "94e1af29-b095-4c84-868d-77c5056e9283",
   "metadata": {},
   "source": [
    "## Sample types "
   ]
  },
  {
   "cell_type": "code",
   "execution_count": 2,
   "id": "16dda027-3458-4842-85da-2298bb7f41af",
   "metadata": {},
   "outputs": [
    {
     "data": {
      "text/html": [
       "<table>\n",
       "<thead><tr><th scope=col>V1</th><th scope=col>V2</th></tr></thead>\n",
       "<tbody>\n",
       "\t<tr><td>PGDX10344P1   </td><td>Gastric_cancer</td></tr>\n",
       "\t<tr><td>PGDX10346P1   </td><td>Gastric_cancer</td></tr>\n",
       "\t<tr><td>PGDX10349P1   </td><td>Gastric_cancer</td></tr>\n",
       "\t<tr><td>PGDX10351P1   </td><td>Gastric_cancer</td></tr>\n",
       "\t<tr><td>PGDX10566P    </td><td>Ovarian_Cancer</td></tr>\n",
       "\t<tr><td>PGDX10567P    </td><td>Ovarian_Cancer</td></tr>\n",
       "</tbody>\n",
       "</table>\n"
      ],
      "text/latex": [
       "\\begin{tabular}{r|ll}\n",
       " V1 & V2\\\\\n",
       "\\hline\n",
       "\t PGDX10344P1      & Gastric\\_cancer\\\\\n",
       "\t PGDX10346P1      & Gastric\\_cancer\\\\\n",
       "\t PGDX10349P1      & Gastric\\_cancer\\\\\n",
       "\t PGDX10351P1      & Gastric\\_cancer\\\\\n",
       "\t PGDX10566P       & Ovarian\\_Cancer\\\\\n",
       "\t PGDX10567P       & Ovarian\\_Cancer\\\\\n",
       "\\end{tabular}\n"
      ],
      "text/markdown": [
       "\n",
       "| V1 | V2 |\n",
       "|---|---|\n",
       "| PGDX10344P1    | Gastric_cancer |\n",
       "| PGDX10346P1    | Gastric_cancer |\n",
       "| PGDX10349P1    | Gastric_cancer |\n",
       "| PGDX10351P1    | Gastric_cancer |\n",
       "| PGDX10566P     | Ovarian_Cancer |\n",
       "| PGDX10567P     | Ovarian_Cancer |\n",
       "\n"
      ],
      "text/plain": [
       "  V1          V2            \n",
       "1 PGDX10344P1 Gastric_cancer\n",
       "2 PGDX10346P1 Gastric_cancer\n",
       "3 PGDX10349P1 Gastric_cancer\n",
       "4 PGDX10351P1 Gastric_cancer\n",
       "5 PGDX10566P  Ovarian_Cancer\n",
       "6 PGDX10567P  Ovarian_Cancer"
      ]
     },
     "metadata": {},
     "output_type": "display_data"
    }
   ],
   "source": [
    "sample_types <- read.table(\"../data/sample_types.txt\")\n",
    "head(sample_types)"
   ]
  },
  {
   "cell_type": "code",
   "execution_count": 3,
   "id": "b20e4322-5ba5-4768-a2aa-c549fc318410",
   "metadata": {},
   "outputs": [
    {
     "data": {
      "text/html": [
       "<table>\n",
       "<thead><tr><th scope=col>V1</th></tr></thead>\n",
       "<tbody>\n",
       "\t<tr><td>PGDX16568P</td></tr>\n",
       "\t<tr><td>PGDX16569P</td></tr>\n",
       "\t<tr><td>PGDX16570P</td></tr>\n",
       "\t<tr><td>PGDX16571P</td></tr>\n",
       "\t<tr><td>PGDX16579P</td></tr>\n",
       "\t<tr><td>PGDX16580P</td></tr>\n",
       "</tbody>\n",
       "</table>\n"
      ],
      "text/latex": [
       "\\begin{tabular}{r|l}\n",
       " V1\\\\\n",
       "\\hline\n",
       "\t PGDX16568P\\\\\n",
       "\t PGDX16569P\\\\\n",
       "\t PGDX16570P\\\\\n",
       "\t PGDX16571P\\\\\n",
       "\t PGDX16579P\\\\\n",
       "\t PGDX16580P\\\\\n",
       "\\end{tabular}\n"
      ],
      "text/markdown": [
       "\n",
       "| V1 |\n",
       "|---|\n",
       "| PGDX16568P |\n",
       "| PGDX16569P |\n",
       "| PGDX16570P |\n",
       "| PGDX16571P |\n",
       "| PGDX16579P |\n",
       "| PGDX16580P |\n",
       "\n"
      ],
      "text/plain": [
       "  V1        \n",
       "1 PGDX16568P\n",
       "2 PGDX16569P\n",
       "3 PGDX16570P\n",
       "4 PGDX16571P\n",
       "5 PGDX16579P\n",
       "6 PGDX16580P"
      ]
     },
     "metadata": {},
     "output_type": "display_data"
    }
   ],
   "source": [
    "healthy_individuals <- sample_types %>% filter(V2 == \"Healthy\") %>% select(V1)\n",
    "head(healthy_individuals)"
   ]
  },
  {
   "cell_type": "markdown",
   "id": "23d278aa-adfd-4449-a5a1-a164a3dacb78",
   "metadata": {},
   "source": [
    "## all_samples_normalized_gaussian_smooth"
   ]
  },
  {
   "cell_type": "code",
   "execution_count": 4,
   "id": "9f33b235-675b-4ae9-bb1b-781867500278",
   "metadata": {},
   "outputs": [],
   "source": [
    "filename = \"../data/all_samples_normalized_gaussian_smooth_trimmed.csv\""
   ]
  },
  {
   "cell_type": "code",
   "execution_count": 5,
   "id": "0bddf496-887e-4e83-b1c6-543c56338148",
   "metadata": {},
   "outputs": [
    {
     "name": "stderr",
     "output_type": "stream",
     "text": [
      "Parsed with column specification:\n",
      "cols(\n",
      "  .default = col_double(),\n",
      "  sample = col_character(),\n",
      "  bin = col_character()\n",
      ")\n",
      "See spec(...) for full column specifications.\n"
     ]
    },
    {
     "data": {
      "text/html": [
       "<table>\n",
       "<thead><tr><th scope=col>sample</th><th scope=col>bin</th><th scope=col>X80</th><th scope=col>X81</th><th scope=col>X82</th><th scope=col>X83</th><th scope=col>X84</th><th scope=col>X85</th><th scope=col>X86</th><th scope=col>X87</th><th scope=col>...</th><th scope=col>X391</th><th scope=col>X392</th><th scope=col>X393</th><th scope=col>X394</th><th scope=col>X395</th><th scope=col>X396</th><th scope=col>X397</th><th scope=col>X398</th><th scope=col>X399</th><th scope=col>X400</th></tr></thead>\n",
       "<tbody>\n",
       "\t<tr><td>PGDX10344P1 </td><td>chr10_400   </td><td>2.635648e-05</td><td>2.551240e-05</td><td>3.041764e-05</td><td>3.743369e-05</td><td>4.529382e-05</td><td>7.822038e-05</td><td>1.088130e-04</td><td>1.352074e-04</td><td>...         </td><td>0.0002692328</td><td>0.0002645551</td><td>0.0002411552</td><td>0.0002046561</td><td>0.0001627598</td><td>1.337986e-04</td><td>0.0001030308</td><td>9.631365e-05</td><td>9.505189e-05</td><td>1.074471e-04</td></tr>\n",
       "\t<tr><td>PGDX10344P1 </td><td>chr10_40    </td><td>0.000000e+00</td><td>0.000000e+00</td><td>0.000000e+00</td><td>0.000000e+00</td><td>8.063345e-06</td><td>1.461970e-05</td><td>3.128720e-05</td><td>5.500537e-05</td><td>...         </td><td>0.0001944052</td><td>0.0001867330</td><td>0.0001802170</td><td>0.0001743696</td><td>0.0001920661</td><td>1.991633e-04</td><td>0.0002152961</td><td>2.191585e-04</td><td>2.233594e-04</td><td>2.137830e-04</td></tr>\n",
       "\t<tr><td>PGDX10344P1 </td><td>chr10_4     </td><td>5.872179e-05</td><td>5.289260e-05</td><td>5.340677e-05</td><td>5.454810e-05</td><td>6.798495e-05</td><td>7.621979e-05</td><td>8.256314e-05</td><td>9.338255e-05</td><td>...         </td><td>0.0002578428</td><td>0.0002614286</td><td>0.0002683933</td><td>0.0002580492</td><td>0.0002405518</td><td>2.035011e-04</td><td>0.0001702625</td><td>1.276962e-04</td><td>9.172705e-05</td><td>7.422905e-05</td></tr>\n",
       "\t<tr><td>PGDX10344P1 </td><td>chr10_401   </td><td>8.180537e-05</td><td>8.398114e-05</td><td>8.175570e-05</td><td>8.748995e-05</td><td>9.207371e-05</td><td>9.639651e-05</td><td>1.133106e-04</td><td>1.224668e-04</td><td>...         </td><td>0.0002087284</td><td>0.0001672440</td><td>0.0001206191</td><td>0.0000962458</td><td>0.0000869615</td><td>9.938756e-05</td><td>0.0001326077</td><td>1.601019e-04</td><td>1.795923e-04</td><td>1.772339e-04</td></tr>\n",
       "\t<tr><td>PGDX10344P1 </td><td>chr10_402   </td><td>1.476717e-05</td><td>2.345811e-05</td><td>4.079304e-05</td><td>5.457810e-05</td><td>6.599014e-05</td><td>7.245930e-05</td><td>8.060398e-05</td><td>8.075730e-05</td><td>...         </td><td>0.0004394529</td><td>0.0004394405</td><td>0.0004194749</td><td>0.0003816848</td><td>0.0003506651</td><td>3.193917e-04</td><td>0.0002856203</td><td>2.735742e-04</td><td>2.720397e-04</td><td>2.660698e-04</td></tr>\n",
       "\t<tr><td>PGDX10344P1 </td><td>chr10_403   </td><td>6.067274e-05</td><td>8.155138e-05</td><td>9.276169e-05</td><td>9.578039e-05</td><td>1.061449e-04</td><td>1.155964e-04</td><td>1.242783e-04</td><td>1.345972e-04</td><td>...         </td><td>0.0001596542</td><td>0.0001474896</td><td>0.0001478111</td><td>0.0001549740</td><td>0.0001742598</td><td>2.056872e-04</td><td>0.0002243287</td><td>2.385956e-04</td><td>2.456770e-04</td><td>2.395614e-04</td></tr>\n",
       "</tbody>\n",
       "</table>\n"
      ],
      "text/latex": [
       "\\begin{tabular}{r|lllllllllllllllllllllllllllllllllllllllllllllllllllllllllllllllllllllllllllllllllllllllllllllllllllllllllllllllllllllllllllllllllllllllllllllllllllllllllllllllllllllllllllllllllllllllllllllllllllllllllllllllllllllllllllllllllllllllllllllllllllllllllllllllllllllllllllllllllllllllllllllllllllllllllllllllllllllllllllllllllll}\n",
       " sample & bin & X80 & X81 & X82 & X83 & X84 & X85 & X86 & X87 & ... & X391 & X392 & X393 & X394 & X395 & X396 & X397 & X398 & X399 & X400\\\\\n",
       "\\hline\n",
       "\t PGDX10344P1  & chr10\\_400  & 2.635648e-05 & 2.551240e-05 & 3.041764e-05 & 3.743369e-05 & 4.529382e-05 & 7.822038e-05 & 1.088130e-04 & 1.352074e-04 & ...          & 0.0002692328 & 0.0002645551 & 0.0002411552 & 0.0002046561 & 0.0001627598 & 1.337986e-04 & 0.0001030308 & 9.631365e-05 & 9.505189e-05 & 1.074471e-04\\\\\n",
       "\t PGDX10344P1  & chr10\\_40   & 0.000000e+00 & 0.000000e+00 & 0.000000e+00 & 0.000000e+00 & 8.063345e-06 & 1.461970e-05 & 3.128720e-05 & 5.500537e-05 & ...          & 0.0001944052 & 0.0001867330 & 0.0001802170 & 0.0001743696 & 0.0001920661 & 1.991633e-04 & 0.0002152961 & 2.191585e-04 & 2.233594e-04 & 2.137830e-04\\\\\n",
       "\t PGDX10344P1  & chr10\\_4    & 5.872179e-05 & 5.289260e-05 & 5.340677e-05 & 5.454810e-05 & 6.798495e-05 & 7.621979e-05 & 8.256314e-05 & 9.338255e-05 & ...          & 0.0002578428 & 0.0002614286 & 0.0002683933 & 0.0002580492 & 0.0002405518 & 2.035011e-04 & 0.0001702625 & 1.276962e-04 & 9.172705e-05 & 7.422905e-05\\\\\n",
       "\t PGDX10344P1  & chr10\\_401  & 8.180537e-05 & 8.398114e-05 & 8.175570e-05 & 8.748995e-05 & 9.207371e-05 & 9.639651e-05 & 1.133106e-04 & 1.224668e-04 & ...          & 0.0002087284 & 0.0001672440 & 0.0001206191 & 0.0000962458 & 0.0000869615 & 9.938756e-05 & 0.0001326077 & 1.601019e-04 & 1.795923e-04 & 1.772339e-04\\\\\n",
       "\t PGDX10344P1  & chr10\\_402  & 1.476717e-05 & 2.345811e-05 & 4.079304e-05 & 5.457810e-05 & 6.599014e-05 & 7.245930e-05 & 8.060398e-05 & 8.075730e-05 & ...          & 0.0004394529 & 0.0004394405 & 0.0004194749 & 0.0003816848 & 0.0003506651 & 3.193917e-04 & 0.0002856203 & 2.735742e-04 & 2.720397e-04 & 2.660698e-04\\\\\n",
       "\t PGDX10344P1  & chr10\\_403  & 6.067274e-05 & 8.155138e-05 & 9.276169e-05 & 9.578039e-05 & 1.061449e-04 & 1.155964e-04 & 1.242783e-04 & 1.345972e-04 & ...          & 0.0001596542 & 0.0001474896 & 0.0001478111 & 0.0001549740 & 0.0001742598 & 2.056872e-04 & 0.0002243287 & 2.385956e-04 & 2.456770e-04 & 2.395614e-04\\\\\n",
       "\\end{tabular}\n"
      ],
      "text/markdown": [
       "\n",
       "| sample | bin | X80 | X81 | X82 | X83 | X84 | X85 | X86 | X87 | ... | X391 | X392 | X393 | X394 | X395 | X396 | X397 | X398 | X399 | X400 |\n",
       "|---|---|---|---|---|---|---|---|---|---|---|---|---|---|---|---|---|---|---|---|---|\n",
       "| PGDX10344P1  | chr10_400    | 2.635648e-05 | 2.551240e-05 | 3.041764e-05 | 3.743369e-05 | 4.529382e-05 | 7.822038e-05 | 1.088130e-04 | 1.352074e-04 | ...          | 0.0002692328 | 0.0002645551 | 0.0002411552 | 0.0002046561 | 0.0001627598 | 1.337986e-04 | 0.0001030308 | 9.631365e-05 | 9.505189e-05 | 1.074471e-04 |\n",
       "| PGDX10344P1  | chr10_40     | 0.000000e+00 | 0.000000e+00 | 0.000000e+00 | 0.000000e+00 | 8.063345e-06 | 1.461970e-05 | 3.128720e-05 | 5.500537e-05 | ...          | 0.0001944052 | 0.0001867330 | 0.0001802170 | 0.0001743696 | 0.0001920661 | 1.991633e-04 | 0.0002152961 | 2.191585e-04 | 2.233594e-04 | 2.137830e-04 |\n",
       "| PGDX10344P1  | chr10_4      | 5.872179e-05 | 5.289260e-05 | 5.340677e-05 | 5.454810e-05 | 6.798495e-05 | 7.621979e-05 | 8.256314e-05 | 9.338255e-05 | ...          | 0.0002578428 | 0.0002614286 | 0.0002683933 | 0.0002580492 | 0.0002405518 | 2.035011e-04 | 0.0001702625 | 1.276962e-04 | 9.172705e-05 | 7.422905e-05 |\n",
       "| PGDX10344P1  | chr10_401    | 8.180537e-05 | 8.398114e-05 | 8.175570e-05 | 8.748995e-05 | 9.207371e-05 | 9.639651e-05 | 1.133106e-04 | 1.224668e-04 | ...          | 0.0002087284 | 0.0001672440 | 0.0001206191 | 0.0000962458 | 0.0000869615 | 9.938756e-05 | 0.0001326077 | 1.601019e-04 | 1.795923e-04 | 1.772339e-04 |\n",
       "| PGDX10344P1  | chr10_402    | 1.476717e-05 | 2.345811e-05 | 4.079304e-05 | 5.457810e-05 | 6.599014e-05 | 7.245930e-05 | 8.060398e-05 | 8.075730e-05 | ...          | 0.0004394529 | 0.0004394405 | 0.0004194749 | 0.0003816848 | 0.0003506651 | 3.193917e-04 | 0.0002856203 | 2.735742e-04 | 2.720397e-04 | 2.660698e-04 |\n",
       "| PGDX10344P1  | chr10_403    | 6.067274e-05 | 8.155138e-05 | 9.276169e-05 | 9.578039e-05 | 1.061449e-04 | 1.155964e-04 | 1.242783e-04 | 1.345972e-04 | ...          | 0.0001596542 | 0.0001474896 | 0.0001478111 | 0.0001549740 | 0.0001742598 | 2.056872e-04 | 0.0002243287 | 2.385956e-04 | 2.456770e-04 | 2.395614e-04 |\n",
       "\n"
      ],
      "text/plain": [
       "  sample      bin       X80          X81          X82          X83         \n",
       "1 PGDX10344P1 chr10_400 2.635648e-05 2.551240e-05 3.041764e-05 3.743369e-05\n",
       "2 PGDX10344P1 chr10_40  0.000000e+00 0.000000e+00 0.000000e+00 0.000000e+00\n",
       "3 PGDX10344P1 chr10_4   5.872179e-05 5.289260e-05 5.340677e-05 5.454810e-05\n",
       "4 PGDX10344P1 chr10_401 8.180537e-05 8.398114e-05 8.175570e-05 8.748995e-05\n",
       "5 PGDX10344P1 chr10_402 1.476717e-05 2.345811e-05 4.079304e-05 5.457810e-05\n",
       "6 PGDX10344P1 chr10_403 6.067274e-05 8.155138e-05 9.276169e-05 9.578039e-05\n",
       "  X84          X85          X86          X87          ... X391        \n",
       "1 4.529382e-05 7.822038e-05 1.088130e-04 1.352074e-04 ... 0.0002692328\n",
       "2 8.063345e-06 1.461970e-05 3.128720e-05 5.500537e-05 ... 0.0001944052\n",
       "3 6.798495e-05 7.621979e-05 8.256314e-05 9.338255e-05 ... 0.0002578428\n",
       "4 9.207371e-05 9.639651e-05 1.133106e-04 1.224668e-04 ... 0.0002087284\n",
       "5 6.599014e-05 7.245930e-05 8.060398e-05 8.075730e-05 ... 0.0004394529\n",
       "6 1.061449e-04 1.155964e-04 1.242783e-04 1.345972e-04 ... 0.0001596542\n",
       "  X392         X393         X394         X395         X396         X397        \n",
       "1 0.0002645551 0.0002411552 0.0002046561 0.0001627598 1.337986e-04 0.0001030308\n",
       "2 0.0001867330 0.0001802170 0.0001743696 0.0001920661 1.991633e-04 0.0002152961\n",
       "3 0.0002614286 0.0002683933 0.0002580492 0.0002405518 2.035011e-04 0.0001702625\n",
       "4 0.0001672440 0.0001206191 0.0000962458 0.0000869615 9.938756e-05 0.0001326077\n",
       "5 0.0004394405 0.0004194749 0.0003816848 0.0003506651 3.193917e-04 0.0002856203\n",
       "6 0.0001474896 0.0001478111 0.0001549740 0.0001742598 2.056872e-04 0.0002243287\n",
       "  X398         X399         X400        \n",
       "1 9.631365e-05 9.505189e-05 1.074471e-04\n",
       "2 2.191585e-04 2.233594e-04 2.137830e-04\n",
       "3 1.276962e-04 9.172705e-05 7.422905e-05\n",
       "4 1.601019e-04 1.795923e-04 1.772339e-04\n",
       "5 2.735742e-04 2.720397e-04 2.660698e-04\n",
       "6 2.385956e-04 2.456770e-04 2.395614e-04"
      ]
     },
     "metadata": {},
     "output_type": "display_data"
    }
   ],
   "source": [
    "small_test <- read_csv(file = filename, col_names = T, comment = \"#\", skip = 0, n_max = 20)\n",
    "head(small_test)"
   ]
  },
  {
   "cell_type": "code",
   "execution_count": 6,
   "id": "bf5f013e-527d-42c2-b896-36717765b15e",
   "metadata": {},
   "outputs": [
    {
     "data": {
      "text/html": [
       "<table>\n",
       "<thead><tr><th scope=col>V1</th><th scope=col>V2</th><th scope=col>V3</th><th scope=col>V4</th><th scope=col>V5</th><th scope=col>V6</th><th scope=col>V7</th><th scope=col>V8</th><th scope=col>V9</th><th scope=col>V10</th><th scope=col>...</th><th scope=col>V314</th><th scope=col>V315</th><th scope=col>V316</th><th scope=col>V317</th><th scope=col>V318</th><th scope=col>V319</th><th scope=col>V320</th><th scope=col>V321</th><th scope=col>V322</th><th scope=col>V323</th></tr></thead>\n",
       "<tbody>\n",
       "\t<tr><td>sample</td><td>bin   </td><td>X80   </td><td>X81   </td><td>X82   </td><td>X83   </td><td>X84   </td><td>X85   </td><td>X86   </td><td>X87   </td><td>...   </td><td>X391  </td><td>X392  </td><td>X393  </td><td>X394  </td><td>X395  </td><td>X396  </td><td>X397  </td><td>X398  </td><td>X399  </td><td>X400  </td></tr>\n",
       "</tbody>\n",
       "</table>\n"
      ],
      "text/latex": [
       "\\begin{tabular}{r|lllllllllllllllllllllllllllllllllllllllllllllllllllllllllllllllllllllllllllllllllllllllllllllllllllllllllllllllllllllllllllllllllllllllllllllllllllllllllllllllllllllllllllllllllllllllllllllllllllllllllllllllllllllllllllllllllllllllllllllllllllllllllllllllllllllllllllllllllllllllllllllllllllllllllllllllllllllllllllllllllll}\n",
       " V1 & V2 & V3 & V4 & V5 & V6 & V7 & V8 & V9 & V10 & ... & V314 & V315 & V316 & V317 & V318 & V319 & V320 & V321 & V322 & V323\\\\\n",
       "\\hline\n",
       "\t sample & bin    & X80    & X81    & X82    & X83    & X84    & X85    & X86    & X87    & ...    & X391   & X392   & X393   & X394   & X395   & X396   & X397   & X398   & X399   & X400  \\\\\n",
       "\\end{tabular}\n"
      ],
      "text/markdown": [
       "\n",
       "| V1 | V2 | V3 | V4 | V5 | V6 | V7 | V8 | V9 | V10 | ... | V314 | V315 | V316 | V317 | V318 | V319 | V320 | V321 | V322 | V323 |\n",
       "|---|---|---|---|---|---|---|---|---|---|---|---|---|---|---|---|---|---|---|---|---|\n",
       "| sample | bin    | X80    | X81    | X82    | X83    | X84    | X85    | X86    | X87    | ...    | X391   | X392   | X393   | X394   | X395   | X396   | X397   | X398   | X399   | X400   |\n",
       "\n"
      ],
      "text/plain": [
       "  V1     V2  V3  V4  V5  V6  V7  V8  V9  V10 ... V314 V315 V316 V317 V318 V319\n",
       "1 sample bin X80 X81 X82 X83 X84 X85 X86 X87 ... X391 X392 X393 X394 X395 X396\n",
       "  V320 V321 V322 V323\n",
       "1 X397 X398 X399 X400"
      ]
     },
     "metadata": {},
     "output_type": "display_data"
    }
   ],
   "source": [
    "control_samples <- colnames(small_test)\n",
    "control_samples = as.data.frame(t(control_samples))\n",
    "control_samples"
   ]
  },
  {
   "cell_type": "code",
   "execution_count": 7,
   "id": "f93d231a-fe8d-454a-886b-3b1c9f55f6a2",
   "metadata": {},
   "outputs": [],
   "source": [
    "write.table(NULL, file=\"../data/all_samples_normalized_gaussian_smooth_trimmed_CONTROLS.csv\", \n",
    "             append = F, \n",
    "             sep=',', \n",
    "             row.names=F, \n",
    "             col.names=F)\n",
    "\n",
    "write.table(control_samples, \"../data/all_samples_normalized_gaussian_smooth_trimmed_CONTROLS.csv\", append = F, sep=',', col.names=F, row.names=F)"
   ]
  },
  {
   "cell_type": "code",
   "execution_count": 8,
   "id": "6f349f0a-40c7-4aea-aa6a-b59d2b551b8b",
   "metadata": {},
   "outputs": [
    {
     "name": "stderr",
     "output_type": "stream",
     "text": [
      "Parsed with column specification:\n",
      "cols(\n",
      "  .default = col_double(),\n",
      "  sample = col_character(),\n",
      "  bin = col_character()\n",
      ")\n",
      "See spec(...) for full column specifications.\n"
     ]
    }
   ],
   "source": [
    "f <- function(df1, pos) {\n",
    "\n",
    "\n",
    "    for (row in 1:nrow(df1)){\n",
    "        row_cur <- df1[row, ]\n",
    "        sample_name = row_cur$sample\n",
    "        if (sample_name %in% healthy_individuals$V1){\n",
    "            write.table(row_cur, \"../data/all_samples_normalized_gaussian_smooth_trimmed_CONTROLS.csv\", append = TRUE, sep=',', col.names=F, row.names=F)\n",
    "    }}}\n",
    "    \n",
    "\n",
    "\n",
    "df <- read_delim_chunked(file = filename, \n",
    "                 callback = DataFrameCallback$new(f), \n",
    "                 chunk_size = 10000, col_names = T,\n",
    "                 delim = \",\", \n",
    "                 progress = show_progress())"
   ]
  },
  {
   "cell_type": "code",
   "execution_count": null,
   "id": "27336937-5765-4b7d-8811-62c1a3f05786",
   "metadata": {},
   "outputs": [],
   "source": []
  }
 ],
 "metadata": {
  "kernelspec": {
   "display_name": "R",
   "language": "R",
   "name": "ir"
  },
  "language_info": {
   "codemirror_mode": "r",
   "file_extension": ".r",
   "mimetype": "text/x-r-source",
   "name": "R",
   "pygments_lexer": "r",
   "version": "3.6.1"
  }
 },
 "nbformat": 4,
 "nbformat_minor": 5
}
