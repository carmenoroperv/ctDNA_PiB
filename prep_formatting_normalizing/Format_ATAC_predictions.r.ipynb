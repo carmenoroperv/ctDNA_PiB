{
 "cells": [
  {
   "cell_type": "markdown",
   "id": "e7d7d882-671e-4f93-a644-d069d6270f2a",
   "metadata": {},
   "source": [
    "# Format ATAC predictions into wider format"
   ]
  },
  {
   "cell_type": "code",
   "execution_count": 12,
   "id": "bc2485f9-c91e-42f8-9f0c-99238ff78754",
   "metadata": {},
   "outputs": [
    {
     "name": "stderr",
     "output_type": "stream",
     "text": [
      "Warning message in install.packages(\"tidyr\", repos = \"http://cran.us.r-project.org\"):\n",
      "“installation of package ‘tidyr’ had non-zero exit status”Updating HTML index of packages in '.Library'\n",
      "Making 'packages.html' ... done\n"
     ]
    }
   ],
   "source": [
    "library(tidyverse)\n",
    "install.packages(\"tidyr\", repos='http://cran.us.r-project.org')\n",
    "library(tidyr)"
   ]
  },
  {
   "cell_type": "code",
   "execution_count": 21,
   "id": "af18de5e-72c4-4510-bbb1-0ce86237684b",
   "metadata": {},
   "outputs": [],
   "source": [
    "#input_file = snakemake@input[[\"input\"]]\n",
    "#output_file = snakemake@output[[\"output_formatted_pred\"]]\n",
    "\n",
    "input_file = \"../Summed_control/ATAC_Predictions_on_all_individuals/RIDGE__TRUE_ATAC_pred_normalized.rds\"\n",
    "output_file = \"../Summed_control/ATAC_Predictions_on_all_individuals/RIDGE__TRUE_ATAC_pred_normalized_formatted.rds\"\n",
    "\n",
    "\n",
    "#input_file = \"../Summed_control/Summed_control_CV_predictions/RIDGE__TRUE_ATAC_pred_normalized.rds\"\n",
    "#output_file = \"../Summed_control/Summed_control_CV_predictions/RIDGE__TRUE_ATAC_pred_normalized_formatted.rds\""
   ]
  },
  {
   "cell_type": "code",
   "execution_count": 22,
   "id": "dbbbca59-3197-41ea-ad08-bffff5af9f3a",
   "metadata": {},
   "outputs": [
    {
     "data": {
      "text/html": [
       "<ol class=list-inline>\n",
       "\t<li>4873319</li>\n",
       "\t<li>4</li>\n",
       "</ol>\n"
      ],
      "text/latex": [
       "\\begin{enumerate*}\n",
       "\\item 4873319\n",
       "\\item 4\n",
       "\\end{enumerate*}\n"
      ],
      "text/markdown": [
       "1. 4873319\n",
       "2. 4\n",
       "\n",
       "\n"
      ],
      "text/plain": [
       "[1] 4873319       4"
      ]
     },
     "metadata": {},
     "output_type": "display_data"
    }
   ],
   "source": [
    "\n",
    "#pred_ATAC = read.csv( \"../data/ATAC_predictions_on_all_samples/ATAC_pred_lasso_std_FALSE.csv\")\n",
    "#dim(pred_ATAC)\n",
    "\n",
    "pred_ATAC = readRDS(input_file)\n",
    "dim(pred_ATAC)"
   ]
  },
  {
   "cell_type": "code",
   "execution_count": 23,
   "id": "369a0676-469a-4753-a710-1608682af0c7",
   "metadata": {},
   "outputs": [
    {
     "data": {
      "text/html": [
       "<table>\n",
       "<thead><tr><th scope=col>sample</th><th scope=col>bin</th><th scope=col>ATAC_observed</th><th scope=col>ATAC_predicted</th></tr></thead>\n",
       "<tbody>\n",
       "\t<tr><td>PGDX10344P1</td><td>chr10_400  </td><td>0.5866651  </td><td>-0.39045648</td></tr>\n",
       "\t<tr><td>PGDX10344P1</td><td>chr10_40   </td><td>0.1996134  </td><td> 1.04511083</td></tr>\n",
       "\t<tr><td>PGDX10344P1</td><td>chr10_4    </td><td>0.5968816  </td><td> 0.71092991</td></tr>\n",
       "\t<tr><td>PGDX10344P1</td><td>chr10_401  </td><td>0.2905764  </td><td>-0.83190462</td></tr>\n",
       "\t<tr><td>PGDX10344P1</td><td>chr10_402  </td><td>0.2319729  </td><td>-0.82564668</td></tr>\n",
       "\t<tr><td>PGDX10344P1</td><td>chr10_403  </td><td>0.2262170  </td><td> 0.03513166</td></tr>\n",
       "</tbody>\n",
       "</table>\n"
      ],
      "text/latex": [
       "\\begin{tabular}{r|llll}\n",
       " sample & bin & ATAC\\_observed & ATAC\\_predicted\\\\\n",
       "\\hline\n",
       "\t PGDX10344P1 & chr10\\_400 & 0.5866651   & -0.39045648\\\\\n",
       "\t PGDX10344P1 & chr10\\_40  & 0.1996134   &  1.04511083\\\\\n",
       "\t PGDX10344P1 & chr10\\_4   & 0.5968816   &  0.71092991\\\\\n",
       "\t PGDX10344P1 & chr10\\_401 & 0.2905764   & -0.83190462\\\\\n",
       "\t PGDX10344P1 & chr10\\_402 & 0.2319729   & -0.82564668\\\\\n",
       "\t PGDX10344P1 & chr10\\_403 & 0.2262170   &  0.03513166\\\\\n",
       "\\end{tabular}\n"
      ],
      "text/markdown": [
       "\n",
       "| sample | bin | ATAC_observed | ATAC_predicted |\n",
       "|---|---|---|---|\n",
       "| PGDX10344P1 | chr10_400   | 0.5866651   | -0.39045648 |\n",
       "| PGDX10344P1 | chr10_40    | 0.1996134   |  1.04511083 |\n",
       "| PGDX10344P1 | chr10_4     | 0.5968816   |  0.71092991 |\n",
       "| PGDX10344P1 | chr10_401   | 0.2905764   | -0.83190462 |\n",
       "| PGDX10344P1 | chr10_402   | 0.2319729   | -0.82564668 |\n",
       "| PGDX10344P1 | chr10_403   | 0.2262170   |  0.03513166 |\n",
       "\n"
      ],
      "text/plain": [
       "  sample      bin       ATAC_observed ATAC_predicted\n",
       "1 PGDX10344P1 chr10_400 0.5866651     -0.39045648   \n",
       "2 PGDX10344P1 chr10_40  0.1996134      1.04511083   \n",
       "3 PGDX10344P1 chr10_4   0.5968816      0.71092991   \n",
       "4 PGDX10344P1 chr10_401 0.2905764     -0.83190462   \n",
       "5 PGDX10344P1 chr10_402 0.2319729     -0.82564668   \n",
       "6 PGDX10344P1 chr10_403 0.2262170      0.03513166   "
      ]
     },
     "metadata": {},
     "output_type": "display_data"
    }
   ],
   "source": [
    "head(pred_ATAC)"
   ]
  },
  {
   "cell_type": "code",
   "execution_count": 24,
   "id": "74a4061e-8581-435f-b151-eb20325a5f74",
   "metadata": {},
   "outputs": [
    {
     "name": "stdout",
     "output_type": "stream",
     "text": [
      "tibble [4,873,319 × 4] (S3: tbl_df/tbl/data.frame)\n",
      " $ sample        : Factor w/ 473 levels \"PGDX10344P1\",..: 1 1 1 1 1 1 1 1 1 1 ...\n",
      " $ bin           : chr [1:4873319] \"chr10_400\" \"chr10_40\" \"chr10_4\" \"chr10_401\" ...\n",
      " $ ATAC_observed : num [1:4873319] 0.587 0.2 0.597 0.291 0.232 ...\n",
      " $ ATAC_predicted: num [1:4873319] -0.39 1.045 0.711 -0.832 -0.826 ...\n"
     ]
    }
   ],
   "source": [
    "str(pred_ATAC)"
   ]
  },
  {
   "cell_type": "code",
   "execution_count": 25,
   "id": "62f2964a-1df0-4514-ba57-da5c3241fbb3",
   "metadata": {},
   "outputs": [
    {
     "name": "stdout",
     "output_type": "stream",
     "text": [
      "tibble [4,873,319 × 3] (S3: tbl_df/tbl/data.frame)\n",
      " $ sample        : chr [1:4873319] \"PGDX10344P1\" \"PGDX10344P1\" \"PGDX10344P1\" \"PGDX10344P1\" ...\n",
      " $ bin           : chr [1:4873319] \"chr10_400\" \"chr10_40\" \"chr10_4\" \"chr10_401\" ...\n",
      " $ ATAC_predicted: num [1:4873319] -0.39 1.045 0.711 -0.832 -0.826 ...\n"
     ]
    }
   ],
   "source": [
    "pred_ATAC$sample <- as.character(pred_ATAC$sample)\n",
    "pred_ATAC$bin <- as.character(pred_ATAC$bin)\n",
    "pred_ATAC <- pred_ATAC %>% select(-ATAC_observed)\n",
    "#pred_ATAC <- pred_ATAC %>% select(-observed)\n",
    "\n",
    "str(pred_ATAC)"
   ]
  },
  {
   "cell_type": "code",
   "execution_count": 27,
   "id": "b4c009cb-ed69-4603-a4e9-b8e1e40ef04f",
   "metadata": {
    "tags": []
   },
   "outputs": [
    {
     "name": "stderr",
     "output_type": "stream",
     "text": [
      "ERROR while rich displaying an object: Error in sprintf(wrap, header, body): 'fmt' length exceeds maximal format length 8192\n",
      "\n",
      "Traceback:\n",
      "1. FUN(X[[i]], ...)\n",
      "2. tryCatch(withCallingHandlers({\n",
      " .     if (!mime %in% names(repr::mime2repr)) \n",
      " .         stop(\"No repr_* for mimetype \", mime, \" in repr::mime2repr\")\n",
      " .     rpr <- repr::mime2repr[[mime]](obj)\n",
      " .     if (is.null(rpr)) \n",
      " .         return(NULL)\n",
      " .     prepare_content(is.raw(rpr), rpr)\n",
      " . }, error = error_handler), error = outer_handler)\n",
      "3. tryCatchList(expr, classes, parentenv, handlers)\n",
      "4. tryCatchOne(expr, names, parentenv, handlers[[1L]])\n",
      "5. doTryCatch(return(expr), name, parentenv, handler)\n",
      "6. withCallingHandlers({\n",
      " .     if (!mime %in% names(repr::mime2repr)) \n",
      " .         stop(\"No repr_* for mimetype \", mime, \" in repr::mime2repr\")\n",
      " .     rpr <- repr::mime2repr[[mime]](obj)\n",
      " .     if (is.null(rpr)) \n",
      " .         return(NULL)\n",
      " .     prepare_content(is.raw(rpr), rpr)\n",
      " . }, error = error_handler)\n",
      "7. repr::mime2repr[[mime]](obj)\n",
      "8. repr_latex.data.frame(obj)\n",
      "9. repr_matrix_generic(obj, sprintf(\"\\\\begin{tabular}{%s}\\n%%s%%s\\\\end{tabular}\\n\", \n",
      " .     cols), \"%s\\\\\\\\\\n\\\\hline\\n\", \"  &\", \" %s &\", \"%s\", \"\\t%s\\\\\\\\\\n\", \n",
      " .     \"%s &\", \" %s &\", escape_fun = latex_escape_vec, ...)\n",
      "10. sprintf(wrap, header, body)\n"
     ]
    },
    {
     "data": {
      "text/html": [
       "<table>\n",
       "<thead><tr><th scope=col>sample</th><th scope=col>chr10_400</th><th scope=col>chr10_40</th><th scope=col>chr10_4</th><th scope=col>chr10_401</th><th scope=col>chr10_402</th><th scope=col>chr10_403</th><th scope=col>chr10_404</th><th scope=col>chr10_405</th><th scope=col>chr10_406</th><th scope=col>...</th><th scope=col>chr9_39</th><th scope=col>chr9_391</th><th scope=col>chr9_392</th><th scope=col>chr9_393</th><th scope=col>chr9_394</th><th scope=col>chr9_395</th><th scope=col>chr9_396</th><th scope=col>chr9_397</th><th scope=col>chr9_398</th><th scope=col>chr9_399</th></tr></thead>\n",
       "<tbody>\n",
       "\t<tr><td>PGDX10344P1 </td><td>-0.3904565  </td><td> 1.04511083 </td><td>0.71092991  </td><td>-0.83190462 </td><td>-0.82564668 </td><td>0.03513166  </td><td>1.1103995   </td><td>0.8939743   </td><td>-0.091285510</td><td>...         </td><td>-0.03828469 </td><td>-0.01633879 </td><td>-0.7867904  </td><td>0.35413063  </td><td>-0.6458927  </td><td>-1.3640098  </td><td>-0.5072232  </td><td> 0.33751338 </td><td> 1.21004643 </td><td>0.921025956 </td></tr>\n",
       "\t<tr><td>PGDX10346P1 </td><td> 0.4429743  </td><td> 0.43070855 </td><td>0.73228210  </td><td>-0.02093788 </td><td> 0.06466686 </td><td>0.32844026  </td><td>0.4998543   </td><td>0.8431927   </td><td> 0.001086059</td><td>...         </td><td> 0.64963772 </td><td> 0.34297703 </td><td> 0.1961905  </td><td>0.37994277  </td><td> 0.1107401  </td><td> 0.7548602  </td><td> 0.8783254  </td><td> 0.29750837 </td><td> 0.33875782 </td><td>0.306535515 </td></tr>\n",
       "\t<tr><td>PGDX10349P1 </td><td> 0.3492689  </td><td> 0.55403613 </td><td>0.71732345  </td><td> 0.32318413 </td><td> 0.70317321 </td><td>0.23092469  </td><td>0.1154668   </td><td>0.5200586   </td><td> 1.049577420</td><td>...         </td><td> 0.24241721 </td><td> 0.42599276 </td><td> 0.1833771  </td><td>0.73809833  </td><td> 0.2757884  </td><td> 0.5205815  </td><td> 0.8746049  </td><td> 0.68780631 </td><td> 0.75799416 </td><td>0.728420694 </td></tr>\n",
       "\t<tr><td>PGDX10351P1 </td><td> 1.3886831  </td><td>-0.01903995 </td><td>0.85073842  </td><td> 0.25455318 </td><td> 0.07466641 </td><td>0.74347107  </td><td>0.7921435   </td><td>0.6664989   </td><td> 0.693963596</td><td>...         </td><td> 0.68129276 </td><td> 0.72211140 </td><td> 0.4901458  </td><td>0.78394532  </td><td> 0.6230095  </td><td> 0.9962163  </td><td> 1.0172260  </td><td> 1.21092918 </td><td>-0.21192198 </td><td>0.635793862 </td></tr>\n",
       "\t<tr><td>PGDX10566P  </td><td> 0.3380893  </td><td> 0.01480683 </td><td>0.63629731  </td><td>-0.24846092 </td><td> 1.10665553 </td><td>0.74440001  </td><td>0.1444654   </td><td>0.6551505   </td><td> 0.619700327</td><td>...         </td><td> 0.38609990 </td><td> 0.19674956 </td><td> 0.4839304  </td><td>0.01571806  </td><td> 0.3245708  </td><td> 0.6715153  </td><td> 1.4033240  </td><td>-0.02434432 </td><td> 0.03543908 </td><td>0.001790786 </td></tr>\n",
       "\t<tr><td>PGDX10567P  </td><td> 0.3674606  </td><td> 0.07974968 </td><td>0.03140721  </td><td> 0.38493728 </td><td> 0.34698365 </td><td>0.08882711  </td><td>0.3143795   </td><td>0.1689935   </td><td> 0.321675782</td><td>...         </td><td> 0.45729569 </td><td> 0.78707967 </td><td> 0.2516212  </td><td>0.98948068  </td><td>-0.2868929  </td><td> 0.8167968  </td><td> 0.2284726  </td><td> 0.13160963 </td><td> 0.05274571 </td><td>0.393794946 </td></tr>\n",
       "</tbody>\n",
       "</table>\n"
      ],
      "text/markdown": [
       "\n",
       "| sample | chr10_400 | chr10_40 | chr10_4 | chr10_401 | chr10_402 | chr10_403 | chr10_404 | chr10_405 | chr10_406 | ... | chr9_39 | chr9_391 | chr9_392 | chr9_393 | chr9_394 | chr9_395 | chr9_396 | chr9_397 | chr9_398 | chr9_399 |\n",
       "|---|---|---|---|---|---|---|---|---|---|---|---|---|---|---|---|---|---|---|---|---|\n",
       "| PGDX10344P1  | -0.3904565   |  1.04511083  | 0.71092991   | -0.83190462  | -0.82564668  | 0.03513166   | 1.1103995    | 0.8939743    | -0.091285510 | ...          | -0.03828469  | -0.01633879  | -0.7867904   | 0.35413063   | -0.6458927   | -1.3640098   | -0.5072232   |  0.33751338  |  1.21004643  | 0.921025956  |\n",
       "| PGDX10346P1  |  0.4429743   |  0.43070855  | 0.73228210   | -0.02093788  |  0.06466686  | 0.32844026   | 0.4998543    | 0.8431927    |  0.001086059 | ...          |  0.64963772  |  0.34297703  |  0.1961905   | 0.37994277   |  0.1107401   |  0.7548602   |  0.8783254   |  0.29750837  |  0.33875782  | 0.306535515  |\n",
       "| PGDX10349P1  |  0.3492689   |  0.55403613  | 0.71732345   |  0.32318413  |  0.70317321  | 0.23092469   | 0.1154668    | 0.5200586    |  1.049577420 | ...          |  0.24241721  |  0.42599276  |  0.1833771   | 0.73809833   |  0.2757884   |  0.5205815   |  0.8746049   |  0.68780631  |  0.75799416  | 0.728420694  |\n",
       "| PGDX10351P1  |  1.3886831   | -0.01903995  | 0.85073842   |  0.25455318  |  0.07466641  | 0.74347107   | 0.7921435    | 0.6664989    |  0.693963596 | ...          |  0.68129276  |  0.72211140  |  0.4901458   | 0.78394532   |  0.6230095   |  0.9962163   |  1.0172260   |  1.21092918  | -0.21192198  | 0.635793862  |\n",
       "| PGDX10566P   |  0.3380893   |  0.01480683  | 0.63629731   | -0.24846092  |  1.10665553  | 0.74440001   | 0.1444654    | 0.6551505    |  0.619700327 | ...          |  0.38609990  |  0.19674956  |  0.4839304   | 0.01571806   |  0.3245708   |  0.6715153   |  1.4033240   | -0.02434432  |  0.03543908  | 0.001790786  |\n",
       "| PGDX10567P   |  0.3674606   |  0.07974968  | 0.03140721   |  0.38493728  |  0.34698365  | 0.08882711   | 0.3143795    | 0.1689935    |  0.321675782 | ...          |  0.45729569  |  0.78707967  |  0.2516212   | 0.98948068   | -0.2868929   |  0.8167968   |  0.2284726   |  0.13160963  |  0.05274571  | 0.393794946  |\n",
       "\n"
      ],
      "text/plain": [
       "  sample      chr10_400  chr10_40    chr10_4    chr10_401   chr10_402  \n",
       "1 PGDX10344P1 -0.3904565  1.04511083 0.71092991 -0.83190462 -0.82564668\n",
       "2 PGDX10346P1  0.4429743  0.43070855 0.73228210 -0.02093788  0.06466686\n",
       "3 PGDX10349P1  0.3492689  0.55403613 0.71732345  0.32318413  0.70317321\n",
       "4 PGDX10351P1  1.3886831 -0.01903995 0.85073842  0.25455318  0.07466641\n",
       "5 PGDX10566P   0.3380893  0.01480683 0.63629731 -0.24846092  1.10665553\n",
       "6 PGDX10567P   0.3674606  0.07974968 0.03140721  0.38493728  0.34698365\n",
       "  chr10_403  chr10_404 chr10_405 chr10_406    ... chr9_39     chr9_391   \n",
       "1 0.03513166 1.1103995 0.8939743 -0.091285510 ... -0.03828469 -0.01633879\n",
       "2 0.32844026 0.4998543 0.8431927  0.001086059 ...  0.64963772  0.34297703\n",
       "3 0.23092469 0.1154668 0.5200586  1.049577420 ...  0.24241721  0.42599276\n",
       "4 0.74347107 0.7921435 0.6664989  0.693963596 ...  0.68129276  0.72211140\n",
       "5 0.74440001 0.1444654 0.6551505  0.619700327 ...  0.38609990  0.19674956\n",
       "6 0.08882711 0.3143795 0.1689935  0.321675782 ...  0.45729569  0.78707967\n",
       "  chr9_392   chr9_393   chr9_394   chr9_395   chr9_396   chr9_397   \n",
       "1 -0.7867904 0.35413063 -0.6458927 -1.3640098 -0.5072232  0.33751338\n",
       "2  0.1961905 0.37994277  0.1107401  0.7548602  0.8783254  0.29750837\n",
       "3  0.1833771 0.73809833  0.2757884  0.5205815  0.8746049  0.68780631\n",
       "4  0.4901458 0.78394532  0.6230095  0.9962163  1.0172260  1.21092918\n",
       "5  0.4839304 0.01571806  0.3245708  0.6715153  1.4033240 -0.02434432\n",
       "6  0.2516212 0.98948068 -0.2868929  0.8167968  0.2284726  0.13160963\n",
       "  chr9_398    chr9_399   \n",
       "1  1.21004643 0.921025956\n",
       "2  0.33875782 0.306535515\n",
       "3  0.75799416 0.728420694\n",
       "4 -0.21192198 0.635793862\n",
       "5  0.03543908 0.001790786\n",
       "6  0.05274571 0.393794946"
      ]
     },
     "metadata": {},
     "output_type": "display_data"
    }
   ],
   "source": [
    "#pred_ATAC <- pred_ATAC %>% select(-ATAC_observed)\n",
    "pred_ATAC_wide <- pred_ATAC %>% tidyr::pivot_wider(names_from = bin, values_from = ATAC_predicted)\n",
    "#pred_ATAC_wide <- pred_ATAC %>% tidyr::pivot_wider(names_from = bin, values_from = predicted)\n",
    "head(pred_ATAC_wide)"
   ]
  },
  {
   "cell_type": "code",
   "execution_count": 28,
   "id": "a0572626-d4d3-45e8-8777-a6f1e370d516",
   "metadata": {},
   "outputs": [
    {
     "data": {
      "text/html": [
       "<ol class=list-inline>\n",
       "\t<li>473</li>\n",
       "\t<li>10304</li>\n",
       "</ol>\n"
      ],
      "text/latex": [
       "\\begin{enumerate*}\n",
       "\\item 473\n",
       "\\item 10304\n",
       "\\end{enumerate*}\n"
      ],
      "text/markdown": [
       "1. 473\n",
       "2. 10304\n",
       "\n",
       "\n"
      ],
      "text/plain": [
       "[1]   473 10304"
      ]
     },
     "metadata": {},
     "output_type": "display_data"
    }
   ],
   "source": [
    "dim(pred_ATAC_wide)"
   ]
  },
  {
   "cell_type": "code",
   "execution_count": 29,
   "id": "e9d8ee4d-b062-4fd7-8bc5-09efa00f2bff",
   "metadata": {},
   "outputs": [],
   "source": [
    "saveRDS(pred_ATAC_wide, file = output_file)"
   ]
  },
  {
   "cell_type": "code",
   "execution_count": null,
   "id": "7f34d94f-0941-42b9-8ab4-1e095ed1721b",
   "metadata": {},
   "outputs": [],
   "source": []
  }
 ],
 "metadata": {
  "kernelspec": {
   "display_name": "R",
   "language": "R",
   "name": "ir"
  },
  "language_info": {
   "codemirror_mode": "r",
   "file_extension": ".r",
   "mimetype": "text/x-r-source",
   "name": "R",
   "pygments_lexer": "r",
   "version": "3.6.1"
  }
 },
 "nbformat": 4,
 "nbformat_minor": 5
}
