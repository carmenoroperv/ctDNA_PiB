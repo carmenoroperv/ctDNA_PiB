{
 "cells": [
  {
   "cell_type": "code",
   "execution_count": 17,
   "id": "0ff53b4c-c124-4bf5-9b87-86fe6f860bb4",
   "metadata": {},
   "outputs": [],
   "source": [
    "library(tidyverse)"
   ]
  },
  {
   "cell_type": "code",
   "execution_count": 18,
   "id": "a5045ef3-5034-4ed3-82bf-4862a78f3d16",
   "metadata": {},
   "outputs": [
    {
     "data": {
      "text/html": [
       "229"
      ],
      "text/latex": [
       "229"
      ],
      "text/markdown": [
       "229"
      ],
      "text/plain": [
       "[1] 229"
      ]
     },
     "metadata": {},
     "output_type": "display_data"
    }
   ],
   "source": [
    "observed <- readRDS(\"../Classification_output/ATAC/Observed_cancer_types.rds\")\n",
    "length(observed)"
   ]
  },
  {
   "cell_type": "code",
   "execution_count": 19,
   "id": "84a45284-49d1-40a1-8b28-899f544c4e47",
   "metadata": {},
   "outputs": [],
   "source": [
    "\n",
    "MODELS = c(\"Lasso\")\n",
    "datasets = c(\"Full_data\", \"PCA\", \"Collinear_features_removed\")\n",
    "\n",
    "CV_REPS = c(\"1\", \"2\", \"3\", \"4\", \"5\", \"6\", \"7\", \"8\", \"9\", \"10\")\n",
    "FOLDS = c(\"1\", \"2\", \"3\", \"4\", \"5\", \"6\", \"7\", \"8\", \"9\", \"10\")"
   ]
  },
  {
   "cell_type": "code",
   "execution_count": 20,
   "id": "0b095f9d-7c00-41de-a575-6aca0a4d3ec4",
   "metadata": {},
   "outputs": [
    {
     "name": "stdout",
     "output_type": "stream",
     "text": [
      "# A tibble: 229 × 8\n",
      "   row_predicted Bile_Duct_Cancer Breast_Cancer Colorectal_Cancer Gastric_cancer\n",
      "           <int>            <dbl>         <dbl>             <dbl>          <dbl>\n",
      " 1             3           0.221         0.0439            0.0562         0.0246\n",
      " 2            16           0.0592        0.345             0.0925         0.119 \n",
      " 3            17           0.0629        0.306             0.102          0.131 \n",
      " 4            18           0.0687        0.571             0.0252         0.0467\n",
      " 5            24           0.146         0.383             0.0596         0.148 \n",
      " 6            43           0.158         0.153             0.118          0.106 \n",
      " 7            49           0.0841        0.130             0.175          0.192 \n",
      " 8            50           0.229         0.100             0.121          0.156 \n",
      " 9            56           0.123         0.341             0.107          0.140 \n",
      "10            64           0.0954        0.123             0.181          0.140 \n",
      "# … with 219 more rows, and 3 more variables: Lung_Cancer <dbl>,\n",
      "#   Ovarian_Cancer <dbl>, Pancreatic_Cancer <dbl>\n",
      "# A tibble: 229 × 8\n",
      "   row_predicted Bile_Duct_Cancer Breast_Cancer Colorectal_Cancer Gastric_cancer\n",
      "           <int>            <dbl>         <dbl>             <dbl>          <dbl>\n",
      " 1             8           0.0720        0.324             0.0341         0.0376\n",
      " 2            13           0.0778        0.347             0.0683         0.0631\n",
      " 3            20           0.177         0.0987            0.0462         0.0415\n",
      " 4            34           0.128         0.0318            0.0599         0.559 \n",
      " 5            36           0.162         0.201             0.0801         0.270 \n",
      " 6            65           0.160         0.0706            0.110          0.0665\n",
      " 7            66           0.138         0.287             0.0993         0.104 \n",
      " 8            69           0.179         0.208             0.0795         0.103 \n",
      " 9            87           0.299         0.122             0.0581         0.141 \n",
      "10            88           0.144         0.198             0.0973         0.127 \n",
      "# … with 219 more rows, and 3 more variables: Lung_Cancer <dbl>,\n",
      "#   Ovarian_Cancer <dbl>, Pancreatic_Cancer <dbl>\n",
      "# A tibble: 229 × 8\n",
      "   row_predicted Bile_Duct_Cancer Breast_Cancer Colorectal_Cancer Gastric_cancer\n",
      "           <int>            <dbl>         <dbl>             <dbl>          <dbl>\n",
      " 1             7           0.0682        0.310             0.182          0.0694\n",
      " 2             8           0.0561        0.358             0.0291         0.0299\n",
      " 3            16           0.0692        0.390             0.0821         0.117 \n",
      " 4            22           0.140         0.0966            0.188          0.106 \n",
      " 5            33           0.170         0.307             0.0723         0.242 \n",
      " 6            37           0.139         0.297             0.0615         0.298 \n",
      " 7            38           0.0666        0.236             0.204          0.168 \n",
      " 8            73           0.267         0.0455            0.0850         0.123 \n",
      " 9            75           0.166         0.161             0.167          0.184 \n",
      "10            86           0.398         0.0781            0.0331         0.0983\n",
      "# … with 219 more rows, and 3 more variables: Lung_Cancer <dbl>,\n",
      "#   Ovarian_Cancer <dbl>, Pancreatic_Cancer <dbl>\n",
      "# A tibble: 229 × 8\n",
      "   row_predicted Bile_Duct_Cancer Breast_Cancer Colorectal_Cancer Gastric_cancer\n",
      "           <int>            <dbl>         <dbl>             <dbl>          <dbl>\n",
      " 1             5           0.0506        0.281             0.107          0.0913\n",
      " 2             9           0.313         0.0719            0.0116         0.0823\n",
      " 3            27           0.0944        0.327             0.0555         0.134 \n",
      " 4            34           0.0691        0.0146            0.0565         0.642 \n",
      " 5            49           0.0844        0.144             0.151          0.179 \n",
      " 6            56           0.115         0.365             0.104          0.154 \n",
      " 7            69           0.231         0.216             0.0632         0.0994\n",
      " 8            75           0.145         0.153             0.140          0.210 \n",
      " 9            87           0.476         0.0825            0.0270         0.120 \n",
      "10            88           0.146         0.212             0.0873         0.120 \n",
      "# … with 219 more rows, and 3 more variables: Lung_Cancer <dbl>,\n",
      "#   Ovarian_Cancer <dbl>, Pancreatic_Cancer <dbl>\n",
      "# A tibble: 229 × 8\n",
      "   row_predicted Bile_Duct_Cancer Breast_Cancer Colorectal_Cancer Gastric_cancer\n",
      "           <int>            <dbl>         <dbl>             <dbl>          <dbl>\n",
      " 1             9           0.337         0.121             0.0227         0.144 \n",
      " 2            13           0.0615        0.325             0.0737         0.0588\n",
      " 3            18           0.0728        0.558             0.0272         0.0621\n",
      " 4            20           0.115         0.0755            0.0458         0.0412\n",
      " 5            31           0.248         0.111             0.0406         0.452 \n",
      " 6            32           0.138         0.175             0.100          0.205 \n",
      " 7            46           0.145         0.332             0.0911         0.130 \n",
      " 8            57           0.136         0.305             0.0971         0.0802\n",
      " 9            58           0.0522        0.205             0.177          0.0289\n",
      "10            62           0.0973        0.308             0.0787         0.132 \n",
      "# … with 219 more rows, and 3 more variables: Lung_Cancer <dbl>,\n",
      "#   Ovarian_Cancer <dbl>, Pancreatic_Cancer <dbl>\n",
      "# A tibble: 229 × 8\n",
      "   row_predicted Bile_Duct_Cancer Breast_Cancer Colorectal_Cancer Gastric_cancer\n",
      "           <int>            <dbl>         <dbl>             <dbl>          <dbl>\n",
      " 1             3           0.162         0.0525            0.0621         0.0292\n",
      " 2             4           0.0869        0.362             0.113          0.145 \n",
      " 3             8           0.0557        0.363             0.0210         0.0234\n",
      " 4            20           0.0771        0.0724            0.0443         0.0378\n",
      " 5            27           0.0752        0.329             0.0517         0.132 \n",
      " 6            52           0.131         0.0707            0.0599         0.125 \n",
      " 7            53           0.288         0.0249            0.0162         0.235 \n",
      " 8            71           0.209         0.0474            0.0932         0.0247\n",
      " 9            82           0.111         0.392             0.0517         0.125 \n",
      "10            84           0.148         0.236             0.0751         0.106 \n",
      "# … with 219 more rows, and 3 more variables: Lung_Cancer <dbl>,\n",
      "#   Ovarian_Cancer <dbl>, Pancreatic_Cancer <dbl>\n",
      "# A tibble: 229 × 8\n",
      "   row_predicted Bile_Duct_Cancer Breast_Cancer Colorectal_Cancer Gastric_cancer\n",
      "           <int>            <dbl>         <dbl>             <dbl>          <dbl>\n",
      " 1             7           0.0683        0.291             0.153          0.0731\n",
      " 2            32           0.142         0.166             0.0995         0.215 \n",
      " 3            34           0.0674        0.0114            0.0569         0.720 \n",
      " 4            43           0.153         0.186             0.119          0.106 \n",
      " 5            50           0.195         0.120             0.120          0.173 \n",
      " 6            54           0.148         0.118             0.120          0.167 \n",
      " 7            60           0.0729        0.288             0.129          0.108 \n",
      " 8            79           0.0620        0.0283            0.134          0.0126\n",
      " 9            95           0.0355        0.368             0.0238         0.0557\n",
      "10           108           0.0462        0.489             0.0552         0.0444\n",
      "# … with 219 more rows, and 3 more variables: Lung_Cancer <dbl>,\n",
      "#   Ovarian_Cancer <dbl>, Pancreatic_Cancer <dbl>\n",
      "# A tibble: 229 × 8\n",
      "   row_predicted Bile_Duct_Cancer Breast_Cancer Colorectal_Cancer Gastric_cancer\n",
      "           <int>            <dbl>         <dbl>             <dbl>          <dbl>\n",
      " 1            32           0.132        0.151              0.0991        0.235  \n",
      " 2            34           0.0391       0.00408            0.0374        0.852  \n",
      " 3            48           0.209        0.0382             0.128         0.328  \n",
      " 4            54           0.154        0.0934             0.130         0.174  \n",
      " 5            56           0.0962       0.340              0.0999        0.167  \n",
      " 6            57           0.138        0.304              0.0771        0.0816 \n",
      " 7            61           0.258        0.00326            0.144         0.00176\n",
      " 8            65           0.173        0.0447             0.116         0.0471 \n",
      " 9            93           0.0862       0.169              0.161         0.0848 \n",
      "10           117           0.0442       0.608              0.0197        0.0855 \n",
      "# … with 219 more rows, and 3 more variables: Lung_Cancer <dbl>,\n",
      "#   Ovarian_Cancer <dbl>, Pancreatic_Cancer <dbl>\n",
      "# A tibble: 229 × 8\n",
      "   row_predicted Bile_Duct_Cancer Breast_Cancer Colorectal_Cancer Gastric_cancer\n",
      "           <int>            <dbl>         <dbl>             <dbl>          <dbl>\n",
      " 1            10           0.229         0.0858            0.0498         0.0530\n",
      " 2            16           0.0628        0.371             0.0879         0.126 \n",
      " 3            20           0.105         0.0517            0.0545         0.0253\n",
      " 4            27           0.0847        0.359             0.0481         0.130 \n",
      " 5            29           0.100         0.246             0.0940         0.263 \n",
      " 6            30           0.174         0.198             0.0443         0.136 \n",
      " 7            52           0.169         0.0631            0.0484         0.202 \n",
      " 8            56           0.129         0.334             0.0986         0.146 \n",
      " 9            59           0.135         0.256             0.102          0.103 \n",
      "10            82           0.118         0.402             0.0546         0.132 \n",
      "# … with 219 more rows, and 3 more variables: Lung_Cancer <dbl>,\n",
      "#   Ovarian_Cancer <dbl>, Pancreatic_Cancer <dbl>\n",
      "# A tibble: 229 × 8\n",
      "   row_predicted Bile_Duct_Cancer Breast_Cancer Colorectal_Cancer Gastric_cancer\n",
      "           <int>            <dbl>         <dbl>             <dbl>          <dbl>\n",
      " 1            15           0.102         0.475            0.0236          0.107 \n",
      " 2            31           0.126         0.148            0.0343          0.542 \n",
      " 3            38           0.0638        0.179            0.152           0.211 \n",
      " 4            58           0.0658        0.211            0.186           0.0278\n",
      " 5            70           0.0641        0.262            0.114           0.118 \n",
      " 6            77           0.223         0.0637           0.148           0.0525\n",
      " 7            92           0.104         0.559            0.00953         0.0540\n",
      " 8            94           0.161         0.189            0.178           0.0859\n",
      " 9            95           0.0455        0.317            0.0264          0.0749\n",
      "10           116           0.145         0.185            0.131           0.139 \n",
      "# … with 219 more rows, and 3 more variables: Lung_Cancer <dbl>,\n",
      "#   Ovarian_Cancer <dbl>, Pancreatic_Cancer <dbl>\n"
     ]
    }
   ],
   "source": [
    "target_data <- \"ATAC\"\n",
    "data_type <- \"PCA\"\n",
    "\n",
    "for (model in MODELS){\n",
    "    model_res <- tibble(cv_rep = rep((1:10), each = 229), \n",
    "                        observed = rep(observed, 10))\n",
    "    \n",
    "    all_cv_reps <- tibble()\n",
    "    for (cv_rep in CV_REPS) {\n",
    "        cv_rep_res <- tibble()\n",
    "        for (fold in FOLDS) {\n",
    "            filename <- paste(\"../Classification_output/\", target_data, \"/NEW_CORRECT_PRED/Multinomial_models_output/\", model, \"/\", model, \"_CVrep_\", cv_rep, \"_fold_\", fold, \"_Predictions_\", data_type, \".rds\", sep = \"\")\n",
    "            pred <- readRDS(filename)\n",
    "            #if (model_binomial == \"SVM_radial\"){\n",
    "            #    print(colnames(pred))\n",
    "            #    print(head(pred))\n",
    "            #    colnames(pred) <- c(\"dataset_row_no\", class_type, \"Other\", \"label_pred\")\n",
    "            #}\n",
    "            cv_rep_res <- rbind(cv_rep_res, pred)\n",
    "\n",
    "        }\n",
    "        print(cv_rep_res)\n",
    "        cv_rep_res <- cv_rep_res %>% arrange(row_predicted)\n",
    "        cv_rep_res <- cv_rep_res %>% select(-row_predicted)\n",
    "        all_cv_reps  <- rbind(all_cv_reps, cv_rep_res)\n",
    "    }\n",
    "    model_res <- cbind(model_res, all_cv_reps)\n",
    "\n",
    "    #print(head(model_res))\n",
    "    saveRDS(model_res, paste(\"../Classification_output/\", target_data, \"/NEW_CORRECT_PRED/Multinomial_models_output/\", model, \"_Predictions_\", data_type, \".rds\", sep = \"\"))\n",
    "}"
   ]
  },
  {
   "cell_type": "code",
   "execution_count": 21,
   "id": "845fdb05-f1b6-4da2-bdeb-930f269ecc16",
   "metadata": {},
   "outputs": [
    {
     "data": {
      "text/html": [
       "<table>\n",
       "<thead><tr><th scope=col>cv_rep</th><th scope=col>observed</th><th scope=col>Bile_Duct_Cancer</th><th scope=col>Breast_Cancer</th><th scope=col>Colorectal_Cancer</th><th scope=col>Gastric_cancer</th><th scope=col>Lung_Cancer</th><th scope=col>Ovarian_Cancer</th><th scope=col>Pancreatic_Cancer</th></tr></thead>\n",
       "<tbody>\n",
       "\t<tr><td>1             </td><td>Gastric_cancer</td><td>0.08280562    </td><td>0.3143654     </td><td>0.11162807    </td><td>0.12517623    </td><td>0.13779359    </td><td>0.08992555    </td><td>0.13830554    </td></tr>\n",
       "\t<tr><td>1             </td><td>Gastric_cancer</td><td>0.16562105    </td><td>0.2011065     </td><td>0.08195532    </td><td>0.18148342    </td><td>0.13786665    </td><td>0.09206400    </td><td>0.13990310    </td></tr>\n",
       "\t<tr><td>1             </td><td>Gastric_cancer</td><td>0.22091043    </td><td>0.0438944     </td><td>0.05618789    </td><td>0.02458858    </td><td>0.02081027    </td><td>0.06578472    </td><td>0.56782371    </td></tr>\n",
       "\t<tr><td>1             </td><td>Gastric_cancer</td><td>0.08634301    </td><td>0.4026155     </td><td>0.08975418    </td><td>0.11867838    </td><td>0.11277433    </td><td>0.09656611    </td><td>0.09326854    </td></tr>\n",
       "\t<tr><td>1             </td><td>Ovarian_Cancer</td><td>0.04947831    </td><td>0.2698963     </td><td>0.11324765    </td><td>0.09927877    </td><td>0.17361702    </td><td>0.17509578    </td><td>0.11938618    </td></tr>\n",
       "\t<tr><td>1             </td><td>Ovarian_Cancer</td><td>0.08220855    </td><td>0.2454853     </td><td>0.06856496    </td><td>0.06450663    </td><td>0.10791513    </td><td>0.26244530    </td><td>0.16887413    </td></tr>\n",
       "</tbody>\n",
       "</table>\n"
      ],
      "text/latex": [
       "\\begin{tabular}{r|lllllllll}\n",
       " cv\\_rep & observed & Bile\\_Duct\\_Cancer & Breast\\_Cancer & Colorectal\\_Cancer & Gastric\\_cancer & Lung\\_Cancer & Ovarian\\_Cancer & Pancreatic\\_Cancer\\\\\n",
       "\\hline\n",
       "\t 1                & Gastric\\_cancer & 0.08280562       & 0.3143654        & 0.11162807       & 0.12517623       & 0.13779359       & 0.08992555       & 0.13830554      \\\\\n",
       "\t 1                & Gastric\\_cancer & 0.16562105       & 0.2011065        & 0.08195532       & 0.18148342       & 0.13786665       & 0.09206400       & 0.13990310      \\\\\n",
       "\t 1                & Gastric\\_cancer & 0.22091043       & 0.0438944        & 0.05618789       & 0.02458858       & 0.02081027       & 0.06578472       & 0.56782371      \\\\\n",
       "\t 1                & Gastric\\_cancer & 0.08634301       & 0.4026155        & 0.08975418       & 0.11867838       & 0.11277433       & 0.09656611       & 0.09326854      \\\\\n",
       "\t 1                & Ovarian\\_Cancer & 0.04947831       & 0.2698963        & 0.11324765       & 0.09927877       & 0.17361702       & 0.17509578       & 0.11938618      \\\\\n",
       "\t 1                & Ovarian\\_Cancer & 0.08220855       & 0.2454853        & 0.06856496       & 0.06450663       & 0.10791513       & 0.26244530       & 0.16887413      \\\\\n",
       "\\end{tabular}\n"
      ],
      "text/markdown": [
       "\n",
       "| cv_rep | observed | Bile_Duct_Cancer | Breast_Cancer | Colorectal_Cancer | Gastric_cancer | Lung_Cancer | Ovarian_Cancer | Pancreatic_Cancer |\n",
       "|---|---|---|---|---|---|---|---|---|\n",
       "| 1              | Gastric_cancer | 0.08280562     | 0.3143654      | 0.11162807     | 0.12517623     | 0.13779359     | 0.08992555     | 0.13830554     |\n",
       "| 1              | Gastric_cancer | 0.16562105     | 0.2011065      | 0.08195532     | 0.18148342     | 0.13786665     | 0.09206400     | 0.13990310     |\n",
       "| 1              | Gastric_cancer | 0.22091043     | 0.0438944      | 0.05618789     | 0.02458858     | 0.02081027     | 0.06578472     | 0.56782371     |\n",
       "| 1              | Gastric_cancer | 0.08634301     | 0.4026155      | 0.08975418     | 0.11867838     | 0.11277433     | 0.09656611     | 0.09326854     |\n",
       "| 1              | Ovarian_Cancer | 0.04947831     | 0.2698963      | 0.11324765     | 0.09927877     | 0.17361702     | 0.17509578     | 0.11938618     |\n",
       "| 1              | Ovarian_Cancer | 0.08220855     | 0.2454853      | 0.06856496     | 0.06450663     | 0.10791513     | 0.26244530     | 0.16887413     |\n",
       "\n"
      ],
      "text/plain": [
       "  cv_rep observed       Bile_Duct_Cancer Breast_Cancer Colorectal_Cancer\n",
       "1 1      Gastric_cancer 0.08280562       0.3143654     0.11162807       \n",
       "2 1      Gastric_cancer 0.16562105       0.2011065     0.08195532       \n",
       "3 1      Gastric_cancer 0.22091043       0.0438944     0.05618789       \n",
       "4 1      Gastric_cancer 0.08634301       0.4026155     0.08975418       \n",
       "5 1      Ovarian_Cancer 0.04947831       0.2698963     0.11324765       \n",
       "6 1      Ovarian_Cancer 0.08220855       0.2454853     0.06856496       \n",
       "  Gastric_cancer Lung_Cancer Ovarian_Cancer Pancreatic_Cancer\n",
       "1 0.12517623     0.13779359  0.08992555     0.13830554       \n",
       "2 0.18148342     0.13786665  0.09206400     0.13990310       \n",
       "3 0.02458858     0.02081027  0.06578472     0.56782371       \n",
       "4 0.11867838     0.11277433  0.09656611     0.09326854       \n",
       "5 0.09927877     0.17361702  0.17509578     0.11938618       \n",
       "6 0.06450663     0.10791513  0.26244530     0.16887413       "
      ]
     },
     "metadata": {},
     "output_type": "display_data"
    }
   ],
   "source": [
    "head(model_res)"
   ]
  },
  {
   "cell_type": "code",
   "execution_count": 22,
   "id": "9831b3e4-57c7-4b51-a50a-f4681755d6ec",
   "metadata": {},
   "outputs": [
    {
     "data": {
      "text/html": [
       "<ol class=list-inline>\n",
       "\t<li>2290</li>\n",
       "\t<li>9</li>\n",
       "</ol>\n"
      ],
      "text/latex": [
       "\\begin{enumerate*}\n",
       "\\item 2290\n",
       "\\item 9\n",
       "\\end{enumerate*}\n"
      ],
      "text/markdown": [
       "1. 2290\n",
       "2. 9\n",
       "\n",
       "\n"
      ],
      "text/plain": [
       "[1] 2290    9"
      ]
     },
     "metadata": {},
     "output_type": "display_data"
    }
   ],
   "source": [
    "dim(model_res)"
   ]
  },
  {
   "cell_type": "code",
   "execution_count": 1,
   "id": "5a72fcec-b996-4979-9607-9e33d8a6dfca",
   "metadata": {},
   "outputs": [
    {
     "ename": "ERROR",
     "evalue": "Error in parse(text = x, srcfile = src): <text>:1:9: unexpected symbol\n1: medians ATAC\n            ^\n",
     "output_type": "error",
     "traceback": [
      "Error in parse(text = x, srcfile = src): <text>:1:9: unexpected symbol\n1: medians ATAC\n            ^\nTraceback:\n"
     ]
    }
   ],
   "source": [
    "#medians ATAC full\n",
    "Table with AUCs for ATAC type predictions.\n",
    "Lasso LDA Boosting SVM linear SVM radial SVM poly \n",
    "Bile duct cancer  0.7792706 0.7810739 0.5297710 0.7946142 0.7981756 0.7864384\n",
    "Breast cancer     0.8185933 0.7700460 0.6800275 0.8270303 0.8083323 0.8235739\n",
    "Colorectal cancer 0.7753673 0.7320883 0.6329846 0.8543216 0.8194017 0.8483495\n",
    "Gastric cancer    0.7262157 0.7773805 0.6071429 0.8029631 0.8267688 0.7946020\n",
    "Lung cancer       0.7432007 0.7921566 0.6825770 0.8415316 0.7953858 0.8396320\n",
    "Ovarian cancer    0.6314748 0.6818753 0.4862131 0.7420877 0.7391853 0.7363861\n",
    "Pancreatic cancer 0.7525674 0.7490846 0.5659129 0.7903830 0.7846060 0.7882419\n",
    "\n",
    "\n",
    "Table A.5\n",
    "Elastic net LDA GBM\n",
    "Bile duct cancer  0.8289196 0.7614901 0.6217415\n",
    "Breast cancer     0.8218855 0.7815817 0.7417268\n",
    "Colorectal cancer 0.8376468 0.7259995 0.6641543\n",
    "Gastric cancer    0.7613886 0.7148111 0.6501859\n",
    "Lung cancer       0.8521086 0.7997341 0.6922377\n",
    "Ovarian cancer    0.7044582 0.6114155 0.5072098\n",
    "Pancreatic cancer 0.8133751 0.7308818 0.7002588"
   ]
  },
  {
   "cell_type": "code",
   "execution_count": 2,
   "id": "f7d1d445-0122-43dd-9475-1eaac4a49280",
   "metadata": {},
   "outputs": [
    {
     "ename": "ERROR",
     "evalue": "Error in parse(text = x, srcfile = src): <text>:1:9: unexpected symbol\n1: medians ATAC\n            ^\n",
     "output_type": "error",
     "traceback": [
      "Error in parse(text = x, srcfile = src): <text>:1:9: unexpected symbol\n1: medians ATAC\n            ^\nTraceback:\n"
     ]
    }
   ],
   "source": [
    "medians ATAC PCA"
   ]
  },
  {
   "cell_type": "code",
   "execution_count": 3,
   "id": "c3124e13-b6af-409a-a8ca-20acd5dd5778",
   "metadata": {},
   "outputs": [
    {
     "ename": "ERROR",
     "evalue": "Error in parse(text = x, srcfile = src): <text>:1:9: unexpected symbol\n1: medians meth\n            ^\n",
     "output_type": "error",
     "traceback": [
      "Error in parse(text = x, srcfile = src): <text>:1:9: unexpected symbol\n1: medians meth\n            ^\nTraceback:\n"
     ]
    }
   ],
   "source": [
    "medians meth full"
   ]
  },
  {
   "cell_type": "code",
   "execution_count": 4,
   "id": "8b977957-83e0-4948-af52-de12f5f91543",
   "metadata": {},
   "outputs": [
    {
     "ename": "ERROR",
     "evalue": "Error in parse(text = x, srcfile = src): <text>:1:9: unexpected symbol\n1: medians meth\n            ^\n",
     "output_type": "error",
     "traceback": [
      "Error in parse(text = x, srcfile = src): <text>:1:9: unexpected symbol\n1: medians meth\n            ^\nTraceback:\n"
     ]
    }
   ],
   "source": [
    "medians meth PCA"
   ]
  },
  {
   "cell_type": "code",
   "execution_count": null,
   "id": "92982039-c222-4b81-83a0-fd928baca8e9",
   "metadata": {},
   "outputs": [],
   "source": []
  }
 ],
 "metadata": {
  "kernelspec": {
   "display_name": "R",
   "language": "R",
   "name": "ir"
  },
  "language_info": {
   "codemirror_mode": "r",
   "file_extension": ".r",
   "mimetype": "text/x-r-source",
   "name": "R",
   "pygments_lexer": "r",
   "version": "3.6.1"
  }
 },
 "nbformat": 4,
 "nbformat_minor": 5
}
