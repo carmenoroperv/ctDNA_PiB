{
 "cells": [
  {
   "cell_type": "code",
   "execution_count": 1,
   "id": "ada05bca-9e5d-49ce-a010-0255cf1a66e1",
   "metadata": {},
   "outputs": [
    {
     "name": "stderr",
     "output_type": "stream",
     "text": [
      "── Attaching packages ─────────────────────────────────────────────────────────────────────────────── tidyverse 1.3.1 ──\n",
      "✔ ggplot2 3.3.5     ✔ purrr   0.3.4\n",
      "✔ tibble  3.1.5     ✔ dplyr   1.0.7\n",
      "✔ tidyr   1.1.4     ✔ stringr 1.4.0\n",
      "✔ readr   2.0.2     ✔ forcats 0.5.1\n",
      "── Conflicts ────────────────────────────────────────────────────────────────────────────────── tidyverse_conflicts() ──\n",
      "✖ dplyr::filter() masks stats::filter()\n",
      "✖ dplyr::lag()    masks stats::lag()\n",
      "\n",
      "Attaching package: ‘scales’\n",
      "\n",
      "The following object is masked from ‘package:purrr’:\n",
      "\n",
      "    discard\n",
      "\n",
      "The following object is masked from ‘package:readr’:\n",
      "\n",
      "    col_factor\n",
      "\n"
     ]
    }
   ],
   "source": [
    "library(tidyverse)\n",
    "\n",
    "#install.packages(\"tidyr\")\n",
    "library(tidyr)\n",
    "\n",
    "#install.packages('scales')\n",
    "library(scales)\n",
    "\n",
    "#install.packages(\"slider\")\n",
    "library(slider)\n"
   ]
  },
  {
   "cell_type": "code",
   "execution_count": 2,
   "id": "26c78c74-4bd8-47f9-b6f1-06fe4829f708",
   "metadata": {},
   "outputs": [],
   "source": [
    "filename = snakemake@input[[\"all_samples\"]]"
   ]
  },
  {
   "cell_type": "code",
   "execution_count": 3,
   "id": "8ad39f7b-50cf-4fc5-8b83-141668fc6d95",
   "metadata": {},
   "outputs": [
    {
     "data": {
      "text/html": [
       "<table>\n",
       "<thead><tr><th scope=col>sample</th><th scope=col>bin</th><th scope=col>X30</th><th scope=col>X31</th><th scope=col>X32</th><th scope=col>X33</th><th scope=col>X34</th><th scope=col>X35</th><th scope=col>X36</th><th scope=col>X37</th><th scope=col>...</th><th scope=col>X691</th><th scope=col>X692</th><th scope=col>X693</th><th scope=col>X694</th><th scope=col>X695</th><th scope=col>X696</th><th scope=col>X697</th><th scope=col>X698</th><th scope=col>X699</th><th scope=col>X700</th></tr></thead>\n",
       "<tbody>\n",
       "\t<tr><td>PGDX10344P1</td><td>chr10_400  </td><td>0          </td><td>0          </td><td>0          </td><td>0          </td><td>0          </td><td>0          </td><td>0          </td><td>0          </td><td>...        </td><td>0          </td><td>0          </td><td>0          </td><td>0          </td><td>0          </td><td>0          </td><td>0          </td><td>0          </td><td>0          </td><td>0          </td></tr>\n",
       "\t<tr><td>PGDX10344P1</td><td>chr10_40   </td><td>0          </td><td>0          </td><td>0          </td><td>0          </td><td>0          </td><td>0          </td><td>0          </td><td>0          </td><td>...        </td><td>0          </td><td>0          </td><td>0          </td><td>0          </td><td>0          </td><td>0          </td><td>0          </td><td>0          </td><td>0          </td><td>0          </td></tr>\n",
       "\t<tr><td>PGDX10344P1</td><td>chr10_4    </td><td>0          </td><td>0          </td><td>0          </td><td>0          </td><td>0          </td><td>0          </td><td>0          </td><td>0          </td><td>...        </td><td>0          </td><td>0          </td><td>0          </td><td>0          </td><td>0          </td><td>0          </td><td>0          </td><td>0          </td><td>0          </td><td>0          </td></tr>\n",
       "\t<tr><td>PGDX10344P1</td><td>chr10_401  </td><td>0          </td><td>0          </td><td>0          </td><td>0          </td><td>0          </td><td>0          </td><td>0          </td><td>0          </td><td>...        </td><td>0          </td><td>0          </td><td>0          </td><td>0          </td><td>0          </td><td>0          </td><td>0          </td><td>0          </td><td>0          </td><td>0          </td></tr>\n",
       "\t<tr><td>PGDX10344P1</td><td>chr10_402  </td><td>0          </td><td>0          </td><td>0          </td><td>0          </td><td>0          </td><td>0          </td><td>0          </td><td>0          </td><td>...        </td><td>0          </td><td>0          </td><td>0          </td><td>0          </td><td>0          </td><td>0          </td><td>0          </td><td>0          </td><td>0          </td><td>0          </td></tr>\n",
       "\t<tr><td>PGDX10344P1</td><td>chr10_403  </td><td>0          </td><td>0          </td><td>0          </td><td>0          </td><td>0          </td><td>0          </td><td>0          </td><td>0          </td><td>...        </td><td>0          </td><td>0          </td><td>0          </td><td>0          </td><td>0          </td><td>0          </td><td>0          </td><td>0          </td><td>0          </td><td>0          </td></tr>\n",
       "</tbody>\n",
       "</table>\n"
      ],
      "text/latex": [
       "\\begin{tabular}{r|lllllllllllllllllllllllllllllllllllllllllllllllllllllllllllllllllllllllllllllllllllllllllllllllllllllllllllllllllllllllllllllllllllllllllllllllllllllllllllllllllllllllllllllllllllllllllllllllllllllllllllllllllllllllllllllllllllllllllllllllllllllllllllllllllllllllllllllllllllllllllllllllllllllllllllllllllllllllllllllllllllllllllllllllllllllllllllllllllllllllllllllllllllllllllllllllllllllllllllllllllllllllllllllllllllllllllllllllllllllllllllllllllllllllllllllllllllllllllllllllllllllllllllllllllllllllllllllllllllllllllllllllllllllllllllllllllllllllllllllllllllllllllllllllllllllllllllllllllllllllllllllllllllllllllllllllllllllllllllllllllllllllllllllllllllllllllllllllll}\n",
       " sample & bin & X30 & X31 & X32 & X33 & X34 & X35 & X36 & X37 & ... & X691 & X692 & X693 & X694 & X695 & X696 & X697 & X698 & X699 & X700\\\\\n",
       "\\hline\n",
       "\t PGDX10344P1 & chr10\\_400 & 0           & 0           & 0           & 0           & 0           & 0           & 0           & 0           & ...         & 0           & 0           & 0           & 0           & 0           & 0           & 0           & 0           & 0           & 0          \\\\\n",
       "\t PGDX10344P1 & chr10\\_40  & 0           & 0           & 0           & 0           & 0           & 0           & 0           & 0           & ...         & 0           & 0           & 0           & 0           & 0           & 0           & 0           & 0           & 0           & 0          \\\\\n",
       "\t PGDX10344P1 & chr10\\_4   & 0           & 0           & 0           & 0           & 0           & 0           & 0           & 0           & ...         & 0           & 0           & 0           & 0           & 0           & 0           & 0           & 0           & 0           & 0          \\\\\n",
       "\t PGDX10344P1 & chr10\\_401 & 0           & 0           & 0           & 0           & 0           & 0           & 0           & 0           & ...         & 0           & 0           & 0           & 0           & 0           & 0           & 0           & 0           & 0           & 0          \\\\\n",
       "\t PGDX10344P1 & chr10\\_402 & 0           & 0           & 0           & 0           & 0           & 0           & 0           & 0           & ...         & 0           & 0           & 0           & 0           & 0           & 0           & 0           & 0           & 0           & 0          \\\\\n",
       "\t PGDX10344P1 & chr10\\_403 & 0           & 0           & 0           & 0           & 0           & 0           & 0           & 0           & ...         & 0           & 0           & 0           & 0           & 0           & 0           & 0           & 0           & 0           & 0          \\\\\n",
       "\\end{tabular}\n"
      ],
      "text/markdown": [
       "\n",
       "| sample | bin | X30 | X31 | X32 | X33 | X34 | X35 | X36 | X37 | ... | X691 | X692 | X693 | X694 | X695 | X696 | X697 | X698 | X699 | X700 |\n",
       "|---|---|---|---|---|---|---|---|---|---|---|---|---|---|---|---|---|---|---|---|---|\n",
       "| PGDX10344P1 | chr10_400   | 0           | 0           | 0           | 0           | 0           | 0           | 0           | 0           | ...         | 0           | 0           | 0           | 0           | 0           | 0           | 0           | 0           | 0           | 0           |\n",
       "| PGDX10344P1 | chr10_40    | 0           | 0           | 0           | 0           | 0           | 0           | 0           | 0           | ...         | 0           | 0           | 0           | 0           | 0           | 0           | 0           | 0           | 0           | 0           |\n",
       "| PGDX10344P1 | chr10_4     | 0           | 0           | 0           | 0           | 0           | 0           | 0           | 0           | ...         | 0           | 0           | 0           | 0           | 0           | 0           | 0           | 0           | 0           | 0           |\n",
       "| PGDX10344P1 | chr10_401   | 0           | 0           | 0           | 0           | 0           | 0           | 0           | 0           | ...         | 0           | 0           | 0           | 0           | 0           | 0           | 0           | 0           | 0           | 0           |\n",
       "| PGDX10344P1 | chr10_402   | 0           | 0           | 0           | 0           | 0           | 0           | 0           | 0           | ...         | 0           | 0           | 0           | 0           | 0           | 0           | 0           | 0           | 0           | 0           |\n",
       "| PGDX10344P1 | chr10_403   | 0           | 0           | 0           | 0           | 0           | 0           | 0           | 0           | ...         | 0           | 0           | 0           | 0           | 0           | 0           | 0           | 0           | 0           | 0           |\n",
       "\n"
      ],
      "text/plain": [
       "  sample      bin       X30 X31 X32 X33 X34 X35 X36 X37 ... X691 X692 X693 X694\n",
       "1 PGDX10344P1 chr10_400 0   0   0   0   0   0   0   0   ... 0    0    0    0   \n",
       "2 PGDX10344P1 chr10_40  0   0   0   0   0   0   0   0   ... 0    0    0    0   \n",
       "3 PGDX10344P1 chr10_4   0   0   0   0   0   0   0   0   ... 0    0    0    0   \n",
       "4 PGDX10344P1 chr10_401 0   0   0   0   0   0   0   0   ... 0    0    0    0   \n",
       "5 PGDX10344P1 chr10_402 0   0   0   0   0   0   0   0   ... 0    0    0    0   \n",
       "6 PGDX10344P1 chr10_403 0   0   0   0   0   0   0   0   ... 0    0    0    0   \n",
       "  X695 X696 X697 X698 X699 X700\n",
       "1 0    0    0    0    0    0   \n",
       "2 0    0    0    0    0    0   \n",
       "3 0    0    0    0    0    0   \n",
       "4 0    0    0    0    0    0   \n",
       "5 0    0    0    0    0    0   \n",
       "6 0    0    0    0    0    0   "
      ]
     },
     "metadata": {},
     "output_type": "display_data"
    }
   ],
   "source": [
    "small_test <- read_csv(file = filename, col_names = T, comment = \"#\", skip = 0, n_max = 10)\n",
    "head(small_test)"
   ]
  },
  {
   "cell_type": "code",
   "execution_count": 4,
   "id": "6a9a113f-ef43-4d29-be9a-5a5f221632ce",
   "metadata": {},
   "outputs": [],
   "source": [
    "cols_smoothed = as.data.frame(t(c(colnames(small_test))))\n",
    "cols_smoothed"
   ]
  },
  {
   "cell_type": "code",
   "execution_count": 5,
   "id": "24740c55-615f-4854-804f-9f5e24b113f7",
   "metadata": {},
   "outputs": [],
   "source": [
    "write.table(NULL, file=snakemake@output[[\"csv_output\"]], \n",
    "             append = F, \n",
    "             sep=',', \n",
    "             row.names=F, \n",
    "             col.names=F)\n",
    "\n",
    "write.table(cols_smoothed, snakemake@output[[\"csv_output\"]], append = F, sep=',', col.names=F, row.names=F)"
   ]
  },
  {
   "cell_type": "code",
   "execution_count": null,
   "id": "67fe3f01-038d-40b7-b95a-58ad3626e977",
   "metadata": {},
   "outputs": [],
   "source": [
    "f2 <- function(df1, pos) {\n",
    "    df1[3:673] <- lapply(df1[3:673], as.numeric)\n",
    "    df <- df1 %>% select(-c(\"sample\", \"bin\")) %>% as.matrix()\n",
    "    output <- matrix(ncol = 671, nrow = 0)\n",
    "\n",
    "    for (row in 1:nrow(df)){\n",
    "        row_cur <- df[row, ]\n",
    "        row_cur <- as.vector(t(row_cur))\n",
    "        roll_m <- slide_dbl(row_cur, mean, .before = 5, .after = 5)\n",
    "        output <- rbind(output, roll_m)\n",
    "    }\n",
    "\n",
    "    output <- data.frame(df1$sample, df1$bin, output)\n",
    "\n",
    "    write.table(output, snakemake@output[[\"csv_output\"]], append = TRUE, sep=',', col.names=F, row.names=F)\n",
    "    }\n",
    "\n",
    "\n",
    "df <- read_delim_chunked(file = filename, \n",
    "                         callback = DataFrameCallback$new(f2), \n",
    "                         chunk_size = 10000, col_names = T,\n",
    "                         delim = \",\", \n",
    "                         progress = show_progress())"
   ]
  }
 ],
 "metadata": {
  "kernelspec": {
   "display_name": "R",
   "language": "R",
   "name": "ir"
  },
  "language_info": {
   "codemirror_mode": "r",
   "file_extension": ".r",
   "mimetype": "text/x-r-source",
   "name": "R",
   "pygments_lexer": "r",
   "version": "3.6.1"
  }
 },
 "nbformat": 4,
 "nbformat_minor": 5
}
