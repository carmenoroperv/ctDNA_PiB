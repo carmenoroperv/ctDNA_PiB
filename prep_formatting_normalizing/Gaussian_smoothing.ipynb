{
 "cells": [
  {
   "cell_type": "markdown",
   "id": "6d0ded4d-97b5-41d3-93a7-fb9cfc93e623",
   "metadata": {},
   "source": [
    "# Gaussian smoothing"
   ]
  },
  {
   "cell_type": "markdown",
   "id": "fa81514b-732a-4ba3-a99b-cdc307dc5573",
   "metadata": {},
   "source": [
    "__This notebook calculates the Gaussian smoothed histograms for 1) all summed controls and 2) all individuals. The input file contains the already normalized histograms. The input file is read in in chunks, histograms smoothed and then written into the output file.__"
   ]
  },
  {
   "cell_type": "code",
   "execution_count": 4,
   "id": "b4556e66-fbca-4234-80bd-188b5f0da80f",
   "metadata": {
    "tags": []
   },
   "outputs": [
    {
     "name": "stderr",
     "output_type": "stream",
     "text": [
      "Registered S3 methods overwritten by 'ggplot2':\n",
      "  method         from \n",
      "  [.quosures     rlang\n",
      "  c.quosures     rlang\n",
      "  print.quosures rlang\n",
      "Registered S3 method overwritten by 'rvest':\n",
      "  method            from\n",
      "  read_xml.response xml2\n",
      "── Attaching packages ─────────────────────────────────────── tidyverse 1.2.1 ──\n",
      "✔ ggplot2 3.1.1     ✔ purrr   0.3.2\n",
      "✔ tibble  3.1.4     ✔ dplyr   1.0.7\n",
      "✔ tidyr   1.1.3     ✔ stringr 1.4.0\n",
      "✔ readr   1.3.1     ✔ forcats 0.4.0\n",
      "── Conflicts ────────────────────────────────────────── tidyverse_conflicts() ──\n",
      "✖ dplyr::filter() masks stats::filter()\n",
      "✖ dplyr::lag()    masks stats::lag()\n"
     ]
    }
   ],
   "source": [
    "# packages\n",
    "\n",
    "library(tidyverse)"
   ]
  },
  {
   "cell_type": "code",
   "execution_count": 10,
   "id": "0a00e2b9-72d6-444b-aff7-e6af19e628aa",
   "metadata": {},
   "outputs": [],
   "source": [
    "#################################################################\n",
    "gaussian_smoothing <- function(bin, sd_percentage = 25) {\n",
    "  bin_size <- length(bin)\n",
    "  if (bin_size %% 2 == 0) {\n",
    "    stop(\"`bin` should have an odd number of elements\")\n",
    "  }\n",
    "\n",
    "  # Create density for normal distribution\n",
    "  bin_indices <- seq_len(bin_size)\n",
    "  sd <- bin_size * (sd_percentage / 100)\n",
    "  weights <- dnorm(\n",
    "    bin_indices,\n",
    "    mean = ceiling(bin_size / 2),\n",
    "    sd = sd\n",
    "  )\n",
    "\n",
    "  # Ensure the weights sum to 1 (they should already, I think)\n",
    "  weights <- weights / sum(weights)\n",
    "\n",
    "  # Weighted sum\n",
    "  sum(bin * weights)\n",
    "}\n",
    "#################################################################"
   ]
  },
  {
   "cell_type": "markdown",
   "id": "def8be4e-5971-4b9b-840e-833b1038d6df",
   "metadata": {},
   "source": [
    "### 1) Gaussian smoothing of the summed controls"
   ]
  },
  {
   "cell_type": "code",
   "execution_count": null,
   "id": "cac8daa1-9aeb-4a5d-9507-6d6ccd4d6ca6",
   "metadata": {},
   "outputs": [],
   "source": [
    "#inputs\n",
    "bin_size <- 11\n",
    "signal_size <- 671\n",
    "filename = \"../data/sum_control_normalized_ATAC_bin_rm.csv\""
   ]
  },
  {
   "cell_type": "code",
   "execution_count": 4,
   "id": "7207a1d4-abbc-495d-b4ce-5a5d50b27d58",
   "metadata": {
    "tags": []
   },
   "outputs": [
    {
     "name": "stderr",
     "output_type": "stream",
     "text": [
      "Parsed with column specification:\n",
      "cols(\n",
      "  .default = col_double()\n",
      ")\n",
      "See spec(...) for full column specifications.\n"
     ]
    },
    {
     "data": {
      "text/html": [
       "<table>\n",
       "<thead><tr><th scope=col>X30</th><th scope=col>X31</th><th scope=col>X32</th><th scope=col>X33</th><th scope=col>X34</th><th scope=col>X35</th><th scope=col>X36</th><th scope=col>X37</th><th scope=col>X38</th><th scope=col>X39</th><th scope=col>...</th><th scope=col>X692</th><th scope=col>X693</th><th scope=col>X694</th><th scope=col>X695</th><th scope=col>X696</th><th scope=col>X697</th><th scope=col>X698</th><th scope=col>X699</th><th scope=col>X700</th><th scope=col>ATAC_val</th></tr></thead>\n",
       "<tbody>\n",
       "\t<tr><td>8.699646e-07</td><td>3.479859e-06</td><td>2.609894e-06</td><td>0.000000e+00</td><td>8.699646e-07</td><td>8.699646e-07</td><td>1.739929e-06</td><td>1.739929e-06</td><td>0.000000e+00</td><td>2.609894e-06</td><td>...         </td><td>0           </td><td>0           </td><td>0           </td><td>0           </td><td>0           </td><td>0           </td><td>0           </td><td>0           </td><td>0.000000e+00</td><td>0.5931657   </td></tr>\n",
       "\t<tr><td>8.313727e-07</td><td>8.313727e-07</td><td>0.000000e+00</td><td>8.313727e-07</td><td>1.662745e-06</td><td>8.313727e-07</td><td>8.313727e-07</td><td>5.819609e-06</td><td>3.325491e-06</td><td>3.325491e-06</td><td>...         </td><td>0           </td><td>0           </td><td>0           </td><td>0           </td><td>0           </td><td>0           </td><td>0           </td><td>0           </td><td>0.000000e+00</td><td>0.4089315   </td></tr>\n",
       "\t<tr><td>8.705774e-07</td><td>1.741155e-06</td><td>8.705774e-07</td><td>8.705774e-07</td><td>0.000000e+00</td><td>0.000000e+00</td><td>2.611732e-06</td><td>3.482309e-06</td><td>0.000000e+00</td><td>8.705774e-07</td><td>...         </td><td>0           </td><td>0           </td><td>0           </td><td>0           </td><td>0           </td><td>0           </td><td>0           </td><td>0           </td><td>8.705774e-07</td><td>0.3058228   </td></tr>\n",
       "\t<tr><td>0.000000e+00</td><td>1.700685e-06</td><td>0.000000e+00</td><td>8.503423e-07</td><td>8.503423e-07</td><td>1.700685e-06</td><td>8.503423e-07</td><td>0.000000e+00</td><td>8.503423e-07</td><td>8.503423e-07</td><td>...         </td><td>0           </td><td>0           </td><td>0           </td><td>0           </td><td>0           </td><td>0           </td><td>0           </td><td>0           </td><td>0.000000e+00</td><td>0.4764137   </td></tr>\n",
       "\t<tr><td>0.000000e+00</td><td>9.416577e-07</td><td>0.000000e+00</td><td>0.000000e+00</td><td>9.416577e-07</td><td>0.000000e+00</td><td>9.416577e-07</td><td>0.000000e+00</td><td>2.824973e-06</td><td>0.000000e+00</td><td>...         </td><td>0           </td><td>0           </td><td>0           </td><td>0           </td><td>0           </td><td>0           </td><td>0           </td><td>0           </td><td>0.000000e+00</td><td>0.2862775   </td></tr>\n",
       "\t<tr><td>0.000000e+00</td><td>0.000000e+00</td><td>0.000000e+00</td><td>4.221123e-06</td><td>1.688449e-06</td><td>1.688449e-06</td><td>8.442245e-07</td><td>0.000000e+00</td><td>2.532674e-06</td><td>0.000000e+00</td><td>...         </td><td>0           </td><td>0           </td><td>0           </td><td>0           </td><td>0           </td><td>0           </td><td>0           </td><td>0           </td><td>0.000000e+00</td><td>0.3169988   </td></tr>\n",
       "</tbody>\n",
       "</table>\n"
      ],
      "text/latex": [
       "\\begin{tabular}{r|llllllllllllllllllllllllllllllllllllllllllllllllllllllllllllllllllllllllllllllllllllllllllllllllllllllllllllllllllllllllllllllllllllllllllllllllllllllllllllllllllllllllllllllllllllllllllllllllllllllllllllllllllllllllllllllllllllllllllllllllllllllllllllllllllllllllllllllllllllllllllllllllllllllllllllllllllllllllllllllllllllllllllllllllllllllllllllllllllllllllllllllllllllllllllllllllllllllllllllllllllllllllllllllllllllllllllllllllllllllllllllllllllllllllllllllllllllllllllllllllllllllllllllllllllllllllllllllllllllllllllllllllllllllllllllllllllllllllllllllllllllllllllllllllllllllllllllllllllllllllllllllllllllllllllllllllllllllllllllllllllllllllllllllllllllllllllllllll}\n",
       " X30 & X31 & X32 & X33 & X34 & X35 & X36 & X37 & X38 & X39 & ... & X692 & X693 & X694 & X695 & X696 & X697 & X698 & X699 & X700 & ATAC\\_val\\\\\n",
       "\\hline\n",
       "\t 8.699646e-07 & 3.479859e-06 & 2.609894e-06 & 0.000000e+00 & 8.699646e-07 & 8.699646e-07 & 1.739929e-06 & 1.739929e-06 & 0.000000e+00 & 2.609894e-06 & ...          & 0            & 0            & 0            & 0            & 0            & 0            & 0            & 0            & 0.000000e+00 & 0.5931657   \\\\\n",
       "\t 8.313727e-07 & 8.313727e-07 & 0.000000e+00 & 8.313727e-07 & 1.662745e-06 & 8.313727e-07 & 8.313727e-07 & 5.819609e-06 & 3.325491e-06 & 3.325491e-06 & ...          & 0            & 0            & 0            & 0            & 0            & 0            & 0            & 0            & 0.000000e+00 & 0.4089315   \\\\\n",
       "\t 8.705774e-07 & 1.741155e-06 & 8.705774e-07 & 8.705774e-07 & 0.000000e+00 & 0.000000e+00 & 2.611732e-06 & 3.482309e-06 & 0.000000e+00 & 8.705774e-07 & ...          & 0            & 0            & 0            & 0            & 0            & 0            & 0            & 0            & 8.705774e-07 & 0.3058228   \\\\\n",
       "\t 0.000000e+00 & 1.700685e-06 & 0.000000e+00 & 8.503423e-07 & 8.503423e-07 & 1.700685e-06 & 8.503423e-07 & 0.000000e+00 & 8.503423e-07 & 8.503423e-07 & ...          & 0            & 0            & 0            & 0            & 0            & 0            & 0            & 0            & 0.000000e+00 & 0.4764137   \\\\\n",
       "\t 0.000000e+00 & 9.416577e-07 & 0.000000e+00 & 0.000000e+00 & 9.416577e-07 & 0.000000e+00 & 9.416577e-07 & 0.000000e+00 & 2.824973e-06 & 0.000000e+00 & ...          & 0            & 0            & 0            & 0            & 0            & 0            & 0            & 0            & 0.000000e+00 & 0.2862775   \\\\\n",
       "\t 0.000000e+00 & 0.000000e+00 & 0.000000e+00 & 4.221123e-06 & 1.688449e-06 & 1.688449e-06 & 8.442245e-07 & 0.000000e+00 & 2.532674e-06 & 0.000000e+00 & ...          & 0            & 0            & 0            & 0            & 0            & 0            & 0            & 0            & 0.000000e+00 & 0.3169988   \\\\\n",
       "\\end{tabular}\n"
      ],
      "text/markdown": [
       "\n",
       "| X30 | X31 | X32 | X33 | X34 | X35 | X36 | X37 | X38 | X39 | ... | X692 | X693 | X694 | X695 | X696 | X697 | X698 | X699 | X700 | ATAC_val |\n",
       "|---|---|---|---|---|---|---|---|---|---|---|---|---|---|---|---|---|---|---|---|---|\n",
       "| 8.699646e-07 | 3.479859e-06 | 2.609894e-06 | 0.000000e+00 | 8.699646e-07 | 8.699646e-07 | 1.739929e-06 | 1.739929e-06 | 0.000000e+00 | 2.609894e-06 | ...          | 0            | 0            | 0            | 0            | 0            | 0            | 0            | 0            | 0.000000e+00 | 0.5931657    |\n",
       "| 8.313727e-07 | 8.313727e-07 | 0.000000e+00 | 8.313727e-07 | 1.662745e-06 | 8.313727e-07 | 8.313727e-07 | 5.819609e-06 | 3.325491e-06 | 3.325491e-06 | ...          | 0            | 0            | 0            | 0            | 0            | 0            | 0            | 0            | 0.000000e+00 | 0.4089315    |\n",
       "| 8.705774e-07 | 1.741155e-06 | 8.705774e-07 | 8.705774e-07 | 0.000000e+00 | 0.000000e+00 | 2.611732e-06 | 3.482309e-06 | 0.000000e+00 | 8.705774e-07 | ...          | 0            | 0            | 0            | 0            | 0            | 0            | 0            | 0            | 8.705774e-07 | 0.3058228    |\n",
       "| 0.000000e+00 | 1.700685e-06 | 0.000000e+00 | 8.503423e-07 | 8.503423e-07 | 1.700685e-06 | 8.503423e-07 | 0.000000e+00 | 8.503423e-07 | 8.503423e-07 | ...          | 0            | 0            | 0            | 0            | 0            | 0            | 0            | 0            | 0.000000e+00 | 0.4764137    |\n",
       "| 0.000000e+00 | 9.416577e-07 | 0.000000e+00 | 0.000000e+00 | 9.416577e-07 | 0.000000e+00 | 9.416577e-07 | 0.000000e+00 | 2.824973e-06 | 0.000000e+00 | ...          | 0            | 0            | 0            | 0            | 0            | 0            | 0            | 0            | 0.000000e+00 | 0.2862775    |\n",
       "| 0.000000e+00 | 0.000000e+00 | 0.000000e+00 | 4.221123e-06 | 1.688449e-06 | 1.688449e-06 | 8.442245e-07 | 0.000000e+00 | 2.532674e-06 | 0.000000e+00 | ...          | 0            | 0            | 0            | 0            | 0            | 0            | 0            | 0            | 0.000000e+00 | 0.3169988    |\n",
       "\n"
      ],
      "text/plain": [
       "  X30          X31          X32          X33          X34          X35         \n",
       "1 8.699646e-07 3.479859e-06 2.609894e-06 0.000000e+00 8.699646e-07 8.699646e-07\n",
       "2 8.313727e-07 8.313727e-07 0.000000e+00 8.313727e-07 1.662745e-06 8.313727e-07\n",
       "3 8.705774e-07 1.741155e-06 8.705774e-07 8.705774e-07 0.000000e+00 0.000000e+00\n",
       "4 0.000000e+00 1.700685e-06 0.000000e+00 8.503423e-07 8.503423e-07 1.700685e-06\n",
       "5 0.000000e+00 9.416577e-07 0.000000e+00 0.000000e+00 9.416577e-07 0.000000e+00\n",
       "6 0.000000e+00 0.000000e+00 0.000000e+00 4.221123e-06 1.688449e-06 1.688449e-06\n",
       "  X36          X37          X38          X39          ... X692 X693 X694 X695\n",
       "1 1.739929e-06 1.739929e-06 0.000000e+00 2.609894e-06 ... 0    0    0    0   \n",
       "2 8.313727e-07 5.819609e-06 3.325491e-06 3.325491e-06 ... 0    0    0    0   \n",
       "3 2.611732e-06 3.482309e-06 0.000000e+00 8.705774e-07 ... 0    0    0    0   \n",
       "4 8.503423e-07 0.000000e+00 8.503423e-07 8.503423e-07 ... 0    0    0    0   \n",
       "5 9.416577e-07 0.000000e+00 2.824973e-06 0.000000e+00 ... 0    0    0    0   \n",
       "6 8.442245e-07 0.000000e+00 2.532674e-06 0.000000e+00 ... 0    0    0    0   \n",
       "  X696 X697 X698 X699 X700         ATAC_val \n",
       "1 0    0    0    0    0.000000e+00 0.5931657\n",
       "2 0    0    0    0    0.000000e+00 0.4089315\n",
       "3 0    0    0    0    8.705774e-07 0.3058228\n",
       "4 0    0    0    0    0.000000e+00 0.4764137\n",
       "5 0    0    0    0    0.000000e+00 0.2862775\n",
       "6 0    0    0    0    0.000000e+00 0.3169988"
      ]
     },
     "metadata": {},
     "output_type": "display_data"
    }
   ],
   "source": [
    "small_test <- read_csv(file = filename, col_names = T, comment = \"#\", skip = 0, n_max = 20)\n",
    "head(small_test)"
   ]
  },
  {
   "cell_type": "code",
   "execution_count": 5,
   "id": "f92c015a-01df-40fa-9bdb-0b4300e93f12",
   "metadata": {},
   "outputs": [
    {
     "data": {
      "text/html": [
       "<table>\n",
       "<thead><tr><th scope=col>V1</th><th scope=col>V2</th><th scope=col>V3</th><th scope=col>V4</th><th scope=col>V5</th><th scope=col>V6</th><th scope=col>V7</th><th scope=col>V8</th><th scope=col>V9</th><th scope=col>V10</th><th scope=col>...</th><th scope=col>V663</th><th scope=col>V664</th><th scope=col>V665</th><th scope=col>V666</th><th scope=col>V667</th><th scope=col>V668</th><th scope=col>V669</th><th scope=col>V670</th><th scope=col>V671</th><th scope=col>V672</th></tr></thead>\n",
       "<tbody>\n",
       "\t<tr><td>X30     </td><td>X31     </td><td>X32     </td><td>X33     </td><td>X34     </td><td>X35     </td><td>X36     </td><td>X37     </td><td>X38     </td><td>X39     </td><td>...     </td><td>X692    </td><td>X693    </td><td>X694    </td><td>X695    </td><td>X696    </td><td>X697    </td><td>X698    </td><td>X699    </td><td>X700    </td><td>ATAC_val</td></tr>\n",
       "</tbody>\n",
       "</table>\n"
      ],
      "text/latex": [
       "\\begin{tabular}{r|llllllllllllllllllllllllllllllllllllllllllllllllllllllllllllllllllllllllllllllllllllllllllllllllllllllllllllllllllllllllllllllllllllllllllllllllllllllllllllllllllllllllllllllllllllllllllllllllllllllllllllllllllllllllllllllllllllllllllllllllllllllllllllllllllllllllllllllllllllllllllllllllllllllllllllllllllllllllllllllllllllllllllllllllllllllllllllllllllllllllllllllllllllllllllllllllllllllllllllllllllllllllllllllllllllllllllllllllllllllllllllllllllllllllllllllllllllllllllllllllllllllllllllllllllllllllllllllllllllllllllllllllllllllllllllllllllllllllllllllllllllllllllllllllllllllllllllllllllllllllllllllllllllllllllllllllllllllllllllllllllllllllllllllllllllllllllllllll}\n",
       " V1 & V2 & V3 & V4 & V5 & V6 & V7 & V8 & V9 & V10 & ... & V663 & V664 & V665 & V666 & V667 & V668 & V669 & V670 & V671 & V672\\\\\n",
       "\\hline\n",
       "\t X30        & X31        & X32        & X33        & X34        & X35        & X36        & X37        & X38        & X39        & ...        & X692       & X693       & X694       & X695       & X696       & X697       & X698       & X699       & X700       & ATAC\\_val\\\\\n",
       "\\end{tabular}\n"
      ],
      "text/markdown": [
       "\n",
       "| V1 | V2 | V3 | V4 | V5 | V6 | V7 | V8 | V9 | V10 | ... | V663 | V664 | V665 | V666 | V667 | V668 | V669 | V670 | V671 | V672 |\n",
       "|---|---|---|---|---|---|---|---|---|---|---|---|---|---|---|---|---|---|---|---|---|\n",
       "| X30      | X31      | X32      | X33      | X34      | X35      | X36      | X37      | X38      | X39      | ...      | X692     | X693     | X694     | X695     | X696     | X697     | X698     | X699     | X700     | ATAC_val |\n",
       "\n"
      ],
      "text/plain": [
       "  V1  V2  V3  V4  V5  V6  V7  V8  V9  V10 ... V663 V664 V665 V666 V667 V668\n",
       "1 X30 X31 X32 X33 X34 X35 X36 X37 X38 X39 ... X692 X693 X694 X695 X696 X697\n",
       "  V669 V670 V671 V672    \n",
       "1 X698 X699 X700 ATAC_val"
      ]
     },
     "metadata": {},
     "output_type": "display_data"
    }
   ],
   "source": [
    "cols_smoothed <- colnames(small_test)\n",
    "cols_smoothed = as.data.frame(t(cols_smoothed))\n",
    "cols_smoothed"
   ]
  },
  {
   "cell_type": "code",
   "execution_count": 6,
   "id": "a5b50156-e221-48ed-8925-41cfd855b7e1",
   "metadata": {},
   "outputs": [],
   "source": [
    "write.table(NULL, file=\"../data/sum_control_normalized_gaussian_smooth_ATAC_bin_rm.csv\", \n",
    "             append = F, \n",
    "             sep=',', \n",
    "             row.names=F, \n",
    "             col.names=F)\n",
    "\n",
    "write.table(cols_smoothed, \"../data/sum_control_normalized_gaussian_smooth_ATAC_bin_rm.csv\", append = F, sep=',', col.names=F, row.names=F)"
   ]
  },
  {
   "cell_type": "code",
   "execution_count": 7,
   "id": "b96b5bf4-b586-4933-99b6-5962ef0fe63c",
   "metadata": {},
   "outputs": [
    {
     "name": "stderr",
     "output_type": "stream",
     "text": [
      "Parsed with column specification:\n",
      "cols(\n",
      "  .default = col_double()\n",
      ")\n",
      "See spec(...) for full column specifications.\n"
     ]
    }
   ],
   "source": [
    "f <- function(df1, pos) {\n",
    "    ATAC  <- pull(df1, ATAC_val)\n",
    "    #message(ATAC)\n",
    "    df1 <- df1 %>% select(-ATAC_val)\n",
    "    df1[1:671] <- lapply(df1[1:671], as.numeric)\n",
    "    output <- matrix(ncol = 671, nrow = 0)\n",
    "\n",
    "    for (row in 1:nrow(df1)){\n",
    "        row_cur <- df1[row, ]\n",
    "        row_cur <- as.vector(t(row_cur))\n",
    "\n",
    "        smoothed <- rep(0, ceiling(bin_size / 2))\n",
    "        for (i in seq_len(signal_size - bin_size)) {\n",
    "          smoothed <- c(smoothed, gaussian_smoothing(row_cur[i:(i+bin_size-1)]))\n",
    "        }\n",
    "        smoothed <- c(smoothed, rep(0, floor(bin_size / 2)))\n",
    "        output <- rbind(output, smoothed)\n",
    "        }\n",
    "\n",
    "    output <- as.data.frame(output, index = FALSE)\n",
    "    output$ATAC_val <- ATAC\n",
    "    colnames(output) <- NULL\n",
    "    rownames(output) <- NULL\n",
    "    \n",
    "    write.table(output, \"../data/sum_control_normalized_gaussian_smooth_ATAC_bin_rm.csv\", append = TRUE, sep=',', col.names=F, row.names=F)\n",
    "    }\n",
    "    \n",
    "\n",
    "\n",
    "df <- read_delim_chunked(file = filename, \n",
    "                 callback = DataFrameCallback$new(f), \n",
    "                 chunk_size = 10000, col_names = T,\n",
    "                 delim = \",\", \n",
    "                 progress = show_progress())"
   ]
  },
  {
   "cell_type": "markdown",
   "id": "a4639df4-0670-4ab8-983a-e59b98a230b7",
   "metadata": {},
   "source": [
    "### 2) Gaussian smoothing of all individuals"
   ]
  },
  {
   "cell_type": "code",
   "execution_count": 7,
   "id": "45ce0f59-29ad-45fe-8891-67f21fe5b7e7",
   "metadata": {},
   "outputs": [],
   "source": [
    "#inputs\n",
    "bin_size <- 11\n",
    "signal_size <- 671\n",
    "filename = \"../data/all_samples_normalized.csv\""
   ]
  },
  {
   "cell_type": "code",
   "execution_count": 4,
   "id": "a0ac299c-3df3-4ec0-af00-04cd8bacc2d1",
   "metadata": {},
   "outputs": [
    {
     "name": "stderr",
     "output_type": "stream",
     "text": [
      "Parsed with column specification:\n",
      "cols(\n",
      "  .default = col_double(),\n",
      "  sample = col_character(),\n",
      "  bin = col_character()\n",
      ")\n",
      "See spec(...) for full column specifications.\n"
     ]
    },
    {
     "data": {
      "text/html": [
       "<table>\n",
       "<thead><tr><th scope=col>sample</th><th scope=col>bin</th><th scope=col>X30</th><th scope=col>X31</th><th scope=col>X32</th><th scope=col>X33</th><th scope=col>X34</th><th scope=col>X35</th><th scope=col>X36</th><th scope=col>X37</th><th scope=col>...</th><th scope=col>X691</th><th scope=col>X692</th><th scope=col>X693</th><th scope=col>X694</th><th scope=col>X695</th><th scope=col>X696</th><th scope=col>X697</th><th scope=col>X698</th><th scope=col>X699</th><th scope=col>X700</th></tr></thead>\n",
       "<tbody>\n",
       "\t<tr><td>PGDX10344P1</td><td>chr10_400  </td><td>0          </td><td>0          </td><td>0          </td><td>0          </td><td>0          </td><td>0          </td><td>0          </td><td>0          </td><td>...        </td><td>0          </td><td>0          </td><td>0          </td><td>0          </td><td>0          </td><td>0          </td><td>0          </td><td>0          </td><td>0          </td><td>0          </td></tr>\n",
       "\t<tr><td>PGDX10344P1</td><td>chr10_40   </td><td>0          </td><td>0          </td><td>0          </td><td>0          </td><td>0          </td><td>0          </td><td>0          </td><td>0          </td><td>...        </td><td>0          </td><td>0          </td><td>0          </td><td>0          </td><td>0          </td><td>0          </td><td>0          </td><td>0          </td><td>0          </td><td>0          </td></tr>\n",
       "\t<tr><td>PGDX10344P1</td><td>chr10_4    </td><td>0          </td><td>0          </td><td>0          </td><td>0          </td><td>0          </td><td>0          </td><td>0          </td><td>0          </td><td>...        </td><td>0          </td><td>0          </td><td>0          </td><td>0          </td><td>0          </td><td>0          </td><td>0          </td><td>0          </td><td>0          </td><td>0          </td></tr>\n",
       "\t<tr><td>PGDX10344P1</td><td>chr10_401  </td><td>0          </td><td>0          </td><td>0          </td><td>0          </td><td>0          </td><td>0          </td><td>0          </td><td>0          </td><td>...        </td><td>0          </td><td>0          </td><td>0          </td><td>0          </td><td>0          </td><td>0          </td><td>0          </td><td>0          </td><td>0          </td><td>0          </td></tr>\n",
       "\t<tr><td>PGDX10344P1</td><td>chr10_402  </td><td>0          </td><td>0          </td><td>0          </td><td>0          </td><td>0          </td><td>0          </td><td>0          </td><td>0          </td><td>...        </td><td>0          </td><td>0          </td><td>0          </td><td>0          </td><td>0          </td><td>0          </td><td>0          </td><td>0          </td><td>0          </td><td>0          </td></tr>\n",
       "\t<tr><td>PGDX10344P1</td><td>chr10_403  </td><td>0          </td><td>0          </td><td>0          </td><td>0          </td><td>0          </td><td>0          </td><td>0          </td><td>0          </td><td>...        </td><td>0          </td><td>0          </td><td>0          </td><td>0          </td><td>0          </td><td>0          </td><td>0          </td><td>0          </td><td>0          </td><td>0          </td></tr>\n",
       "</tbody>\n",
       "</table>\n"
      ],
      "text/latex": [
       "\\begin{tabular}{r|lllllllllllllllllllllllllllllllllllllllllllllllllllllllllllllllllllllllllllllllllllllllllllllllllllllllllllllllllllllllllllllllllllllllllllllllllllllllllllllllllllllllllllllllllllllllllllllllllllllllllllllllllllllllllllllllllllllllllllllllllllllllllllllllllllllllllllllllllllllllllllllllllllllllllllllllllllllllllllllllllllllllllllllllllllllllllllllllllllllllllllllllllllllllllllllllllllllllllllllllllllllllllllllllllllllllllllllllllllllllllllllllllllllllllllllllllllllllllllllllllllllllllllllllllllllllllllllllllllllllllllllllllllllllllllllllllllllllllllllllllllllllllllllllllllllllllllllllllllllllllllllllllllllllllllllllllllllllllllllllllllllllllllllllllllllllllllllllll}\n",
       " sample & bin & X30 & X31 & X32 & X33 & X34 & X35 & X36 & X37 & ... & X691 & X692 & X693 & X694 & X695 & X696 & X697 & X698 & X699 & X700\\\\\n",
       "\\hline\n",
       "\t PGDX10344P1 & chr10\\_400 & 0           & 0           & 0           & 0           & 0           & 0           & 0           & 0           & ...         & 0           & 0           & 0           & 0           & 0           & 0           & 0           & 0           & 0           & 0          \\\\\n",
       "\t PGDX10344P1 & chr10\\_40  & 0           & 0           & 0           & 0           & 0           & 0           & 0           & 0           & ...         & 0           & 0           & 0           & 0           & 0           & 0           & 0           & 0           & 0           & 0          \\\\\n",
       "\t PGDX10344P1 & chr10\\_4   & 0           & 0           & 0           & 0           & 0           & 0           & 0           & 0           & ...         & 0           & 0           & 0           & 0           & 0           & 0           & 0           & 0           & 0           & 0          \\\\\n",
       "\t PGDX10344P1 & chr10\\_401 & 0           & 0           & 0           & 0           & 0           & 0           & 0           & 0           & ...         & 0           & 0           & 0           & 0           & 0           & 0           & 0           & 0           & 0           & 0          \\\\\n",
       "\t PGDX10344P1 & chr10\\_402 & 0           & 0           & 0           & 0           & 0           & 0           & 0           & 0           & ...         & 0           & 0           & 0           & 0           & 0           & 0           & 0           & 0           & 0           & 0          \\\\\n",
       "\t PGDX10344P1 & chr10\\_403 & 0           & 0           & 0           & 0           & 0           & 0           & 0           & 0           & ...         & 0           & 0           & 0           & 0           & 0           & 0           & 0           & 0           & 0           & 0          \\\\\n",
       "\\end{tabular}\n"
      ],
      "text/markdown": [
       "\n",
       "| sample | bin | X30 | X31 | X32 | X33 | X34 | X35 | X36 | X37 | ... | X691 | X692 | X693 | X694 | X695 | X696 | X697 | X698 | X699 | X700 |\n",
       "|---|---|---|---|---|---|---|---|---|---|---|---|---|---|---|---|---|---|---|---|---|\n",
       "| PGDX10344P1 | chr10_400   | 0           | 0           | 0           | 0           | 0           | 0           | 0           | 0           | ...         | 0           | 0           | 0           | 0           | 0           | 0           | 0           | 0           | 0           | 0           |\n",
       "| PGDX10344P1 | chr10_40    | 0           | 0           | 0           | 0           | 0           | 0           | 0           | 0           | ...         | 0           | 0           | 0           | 0           | 0           | 0           | 0           | 0           | 0           | 0           |\n",
       "| PGDX10344P1 | chr10_4     | 0           | 0           | 0           | 0           | 0           | 0           | 0           | 0           | ...         | 0           | 0           | 0           | 0           | 0           | 0           | 0           | 0           | 0           | 0           |\n",
       "| PGDX10344P1 | chr10_401   | 0           | 0           | 0           | 0           | 0           | 0           | 0           | 0           | ...         | 0           | 0           | 0           | 0           | 0           | 0           | 0           | 0           | 0           | 0           |\n",
       "| PGDX10344P1 | chr10_402   | 0           | 0           | 0           | 0           | 0           | 0           | 0           | 0           | ...         | 0           | 0           | 0           | 0           | 0           | 0           | 0           | 0           | 0           | 0           |\n",
       "| PGDX10344P1 | chr10_403   | 0           | 0           | 0           | 0           | 0           | 0           | 0           | 0           | ...         | 0           | 0           | 0           | 0           | 0           | 0           | 0           | 0           | 0           | 0           |\n",
       "\n"
      ],
      "text/plain": [
       "  sample      bin       X30 X31 X32 X33 X34 X35 X36 X37 ... X691 X692 X693 X694\n",
       "1 PGDX10344P1 chr10_400 0   0   0   0   0   0   0   0   ... 0    0    0    0   \n",
       "2 PGDX10344P1 chr10_40  0   0   0   0   0   0   0   0   ... 0    0    0    0   \n",
       "3 PGDX10344P1 chr10_4   0   0   0   0   0   0   0   0   ... 0    0    0    0   \n",
       "4 PGDX10344P1 chr10_401 0   0   0   0   0   0   0   0   ... 0    0    0    0   \n",
       "5 PGDX10344P1 chr10_402 0   0   0   0   0   0   0   0   ... 0    0    0    0   \n",
       "6 PGDX10344P1 chr10_403 0   0   0   0   0   0   0   0   ... 0    0    0    0   \n",
       "  X695 X696 X697 X698 X699 X700\n",
       "1 0    0    0    0    0    0   \n",
       "2 0    0    0    0    0    0   \n",
       "3 0    0    0    0    0    0   \n",
       "4 0    0    0    0    0    0   \n",
       "5 0    0    0    0    0    0   \n",
       "6 0    0    0    0    0    0   "
      ]
     },
     "metadata": {},
     "output_type": "display_data"
    }
   ],
   "source": [
    "small_test <- read_csv(file = filename, col_names = T, comment = \"#\", skip = 0, n_max = 10)\n",
    "head(small_test)"
   ]
  },
  {
   "cell_type": "code",
   "execution_count": 5,
   "id": "36901b0b-3a0b-49d7-b84b-74fc0131d1e7",
   "metadata": {},
   "outputs": [
    {
     "data": {
      "text/html": [
       "<table>\n",
       "<thead><tr><th scope=col>V1</th><th scope=col>V2</th><th scope=col>V3</th><th scope=col>V4</th><th scope=col>V5</th><th scope=col>V6</th><th scope=col>V7</th><th scope=col>V8</th><th scope=col>V9</th><th scope=col>V10</th><th scope=col>...</th><th scope=col>V664</th><th scope=col>V665</th><th scope=col>V666</th><th scope=col>V667</th><th scope=col>V668</th><th scope=col>V669</th><th scope=col>V670</th><th scope=col>V671</th><th scope=col>V672</th><th scope=col>V673</th></tr></thead>\n",
       "<tbody>\n",
       "\t<tr><td>sample</td><td>bin   </td><td>X30   </td><td>X31   </td><td>X32   </td><td>X33   </td><td>X34   </td><td>X35   </td><td>X36   </td><td>X37   </td><td>...   </td><td>X691  </td><td>X692  </td><td>X693  </td><td>X694  </td><td>X695  </td><td>X696  </td><td>X697  </td><td>X698  </td><td>X699  </td><td>X700  </td></tr>\n",
       "</tbody>\n",
       "</table>\n"
      ],
      "text/latex": [
       "\\begin{tabular}{r|lllllllllllllllllllllllllllllllllllllllllllllllllllllllllllllllllllllllllllllllllllllllllllllllllllllllllllllllllllllllllllllllllllllllllllllllllllllllllllllllllllllllllllllllllllllllllllllllllllllllllllllllllllllllllllllllllllllllllllllllllllllllllllllllllllllllllllllllllllllllllllllllllllllllllllllllllllllllllllllllllllllllllllllllllllllllllllllllllllllllllllllllllllllllllllllllllllllllllllllllllllllllllllllllllllllllllllllllllllllllllllllllllllllllllllllllllllllllllllllllllllllllllllllllllllllllllllllllllllllllllllllllllllllllllllllllllllllllllllllllllllllllllllllllllllllllllllllllllllllllllllllllllllllllllllllllllllllllllllllllllllllllllllllllllllllllllllllllll}\n",
       " V1 & V2 & V3 & V4 & V5 & V6 & V7 & V8 & V9 & V10 & ... & V664 & V665 & V666 & V667 & V668 & V669 & V670 & V671 & V672 & V673\\\\\n",
       "\\hline\n",
       "\t sample & bin    & X30    & X31    & X32    & X33    & X34    & X35    & X36    & X37    & ...    & X691   & X692   & X693   & X694   & X695   & X696   & X697   & X698   & X699   & X700  \\\\\n",
       "\\end{tabular}\n"
      ],
      "text/markdown": [
       "\n",
       "| V1 | V2 | V3 | V4 | V5 | V6 | V7 | V8 | V9 | V10 | ... | V664 | V665 | V666 | V667 | V668 | V669 | V670 | V671 | V672 | V673 |\n",
       "|---|---|---|---|---|---|---|---|---|---|---|---|---|---|---|---|---|---|---|---|---|\n",
       "| sample | bin    | X30    | X31    | X32    | X33    | X34    | X35    | X36    | X37    | ...    | X691   | X692   | X693   | X694   | X695   | X696   | X697   | X698   | X699   | X700   |\n",
       "\n"
      ],
      "text/plain": [
       "  V1     V2  V3  V4  V5  V6  V7  V8  V9  V10 ... V664 V665 V666 V667 V668 V669\n",
       "1 sample bin X30 X31 X32 X33 X34 X35 X36 X37 ... X691 X692 X693 X694 X695 X696\n",
       "  V670 V671 V672 V673\n",
       "1 X697 X698 X699 X700"
      ]
     },
     "metadata": {},
     "output_type": "display_data"
    }
   ],
   "source": [
    "cols_smoothed = as.data.frame(t(c(colnames(small_test))))\n",
    "cols_smoothed"
   ]
  },
  {
   "cell_type": "code",
   "execution_count": 6,
   "id": "0f5daaf4-70bc-422e-b05e-3a418a4c6b83",
   "metadata": {},
   "outputs": [],
   "source": [
    "write.table(NULL, file=\"../data/all_samples_normalized_gaussian_smooth.csv\", \n",
    "             append = F, \n",
    "             sep=',', \n",
    "             row.names=F, \n",
    "             col.names=F)\n",
    "\n",
    "write.table(cols_smoothed, \"../data/all_samples_normalized_gaussian_smooth.csv\", append = F, sep=',', col.names=F, row.names=F)"
   ]
  },
  {
   "cell_type": "code",
   "execution_count": null,
   "id": "16306b4b-b46d-4c55-af93-be81c62f83c1",
   "metadata": {},
   "outputs": [
    {
     "name": "stderr",
     "output_type": "stream",
     "text": [
      "Parsed with column specification:\n",
      "cols(\n",
      "  .default = col_double(),\n",
      "  sample = col_character(),\n",
      "  bin = col_character()\n",
      ")\n",
      "See spec(...) for full column specifications.\n"
     ]
    }
   ],
   "source": [
    "f2 <- function(df1, pos) {\n",
    "    df1[3:673] <- lapply(df1[3:673], as.numeric)\n",
    "    df <- df1 %>% select(-c(\"sample\", \"bin\")) %>% as.matrix()\n",
    "    output <- matrix(ncol = 671, nrow = 0)\n",
    "\n",
    "    for (row in 1:nrow(df)){\n",
    "        row_cur <- df[row, ]\n",
    "        row_cur <- as.vector(t(row_cur))\n",
    "\n",
    "        smoothed <- rep(0, ceiling(bin_size / 2))\n",
    "        for (i in seq_len(signal_size - bin_size)) {\n",
    "          smoothed <- c(smoothed, gaussian_smoothing(row_cur[i:(i+bin_size-1)]))\n",
    "        }\n",
    "        smoothed <- c(smoothed, rep(0, floor(bin_size / 2)))\n",
    "        output <- rbind(output, smoothed)\n",
    "        }\n",
    "\n",
    "    output <- data.frame(df1$sample, df1$bin, output)\n",
    "\n",
    "    write.table(output, \"../data/all_samples_normalized_gaussian_smooth.csv\", append = TRUE, sep=',', col.names=F, row.names=F)\n",
    "    }\n",
    "\n",
    "\n",
    "df <- read_delim_chunked(file = filename, \n",
    "                 callback = DataFrameCallback$new(f2), \n",
    "                 chunk_size = 10000, col_names = T,\n",
    "                 delim = \",\", \n",
    "                 progress = show_progress())"
   ]
  },
  {
   "cell_type": "markdown",
   "id": "1395d44a-bd4a-49e3-b555-e02e62a1dba6",
   "metadata": {},
   "source": [
    "##### The smoothing  of all individuals stopped with an error before it could finish - we try to fix it here"
   ]
  },
  {
   "cell_type": "code",
   "execution_count": 7,
   "id": "3980e11b-033e-44c5-b334-3d4aa9f0cc9e",
   "metadata": {},
   "outputs": [
    {
     "name": "stderr",
     "output_type": "stream",
     "text": [
      "Parsed with column specification:\n",
      "cols(\n",
      "  .default = col_character()\n",
      ")\n",
      "See spec(...) for full column specifications.\n"
     ]
    },
    {
     "data": {
      "text/html": [
       "<table>\n",
       "<thead><tr><th scope=col>X1</th><th scope=col>X2</th><th scope=col>X3</th><th scope=col>X4</th><th scope=col>X5</th><th scope=col>X6</th><th scope=col>X7</th><th scope=col>X8</th><th scope=col>X9</th><th scope=col>X10</th><th scope=col>...</th><th scope=col>X664</th><th scope=col>X665</th><th scope=col>X666</th><th scope=col>X667</th><th scope=col>X668</th><th scope=col>X669</th><th scope=col>X670</th><th scope=col>X671</th><th scope=col>X672</th><th scope=col>X673</th></tr></thead>\n",
       "<tbody>\n",
       "\t<tr><td>sample     </td><td>bin        </td><td>X30        </td><td>X31        </td><td>X32        </td><td>X33        </td><td>X34        </td><td>X35        </td><td>X36        </td><td>X37        </td><td>...        </td><td>X691       </td><td>X692       </td><td>X693       </td><td>X694       </td><td>X695       </td><td>X696       </td><td>X697       </td><td>X698       </td><td>X699       </td><td>X700       </td></tr>\n",
       "\t<tr><td>PGDX10344P1</td><td>chr10_400  </td><td>0          </td><td>0          </td><td>0          </td><td>0          </td><td>0          </td><td>0          </td><td>0          </td><td>0          </td><td>...        </td><td>0          </td><td>0          </td><td>0          </td><td>0          </td><td>0          </td><td>0          </td><td>0          </td><td>0          </td><td>0          </td><td>0          </td></tr>\n",
       "\t<tr><td>PGDX10344P1</td><td>chr10_40   </td><td>0          </td><td>0          </td><td>0          </td><td>0          </td><td>0          </td><td>0          </td><td>0          </td><td>0          </td><td>...        </td><td>0          </td><td>0          </td><td>0          </td><td>0          </td><td>0          </td><td>0          </td><td>0          </td><td>0          </td><td>0          </td><td>0          </td></tr>\n",
       "\t<tr><td>PGDX10344P1</td><td>chr10_4    </td><td>0          </td><td>0          </td><td>0          </td><td>0          </td><td>0          </td><td>0          </td><td>0          </td><td>0          </td><td>...        </td><td>0          </td><td>0          </td><td>0          </td><td>0          </td><td>0          </td><td>0          </td><td>0          </td><td>0          </td><td>0          </td><td>0          </td></tr>\n",
       "\t<tr><td>PGDX10344P1</td><td>chr10_401  </td><td>0          </td><td>0          </td><td>0          </td><td>0          </td><td>0          </td><td>0          </td><td>0          </td><td>0          </td><td>...        </td><td>0          </td><td>0          </td><td>0          </td><td>0          </td><td>0          </td><td>0          </td><td>0          </td><td>0          </td><td>0          </td><td>0          </td></tr>\n",
       "\t<tr><td>PGDX10344P1</td><td>chr10_402  </td><td>0          </td><td>0          </td><td>0          </td><td>0          </td><td>0          </td><td>0          </td><td>0          </td><td>0          </td><td>...        </td><td>0          </td><td>0          </td><td>0          </td><td>0          </td><td>0          </td><td>0          </td><td>0          </td><td>0          </td><td>0          </td><td>0          </td></tr>\n",
       "</tbody>\n",
       "</table>\n"
      ],
      "text/latex": [
       "\\begin{tabular}{r|lllllllllllllllllllllllllllllllllllllllllllllllllllllllllllllllllllllllllllllllllllllllllllllllllllllllllllllllllllllllllllllllllllllllllllllllllllllllllllllllllllllllllllllllllllllllllllllllllllllllllllllllllllllllllllllllllllllllllllllllllllllllllllllllllllllllllllllllllllllllllllllllllllllllllllllllllllllllllllllllllllllllllllllllllllllllllllllllllllllllllllllllllllllllllllllllllllllllllllllllllllllllllllllllllllllllllllllllllllllllllllllllllllllllllllllllllllllllllllllllllllllllllllllllllllllllllllllllllllllllllllllllllllllllllllllllllllllllllllllllllllllllllllllllllllllllllllllllllllllllllllllllllllllllllllllllllllllllllllllllllllllllllllllllllllllllllllllllll}\n",
       " X1 & X2 & X3 & X4 & X5 & X6 & X7 & X8 & X9 & X10 & ... & X664 & X665 & X666 & X667 & X668 & X669 & X670 & X671 & X672 & X673\\\\\n",
       "\\hline\n",
       "\t sample      & bin         & X30         & X31         & X32         & X33         & X34         & X35         & X36         & X37         & ...         & X691        & X692        & X693        & X694        & X695        & X696        & X697        & X698        & X699        & X700       \\\\\n",
       "\t PGDX10344P1 & chr10\\_400 & 0           & 0           & 0           & 0           & 0           & 0           & 0           & 0           & ...         & 0           & 0           & 0           & 0           & 0           & 0           & 0           & 0           & 0           & 0          \\\\\n",
       "\t PGDX10344P1 & chr10\\_40  & 0           & 0           & 0           & 0           & 0           & 0           & 0           & 0           & ...         & 0           & 0           & 0           & 0           & 0           & 0           & 0           & 0           & 0           & 0          \\\\\n",
       "\t PGDX10344P1 & chr10\\_4   & 0           & 0           & 0           & 0           & 0           & 0           & 0           & 0           & ...         & 0           & 0           & 0           & 0           & 0           & 0           & 0           & 0           & 0           & 0          \\\\\n",
       "\t PGDX10344P1 & chr10\\_401 & 0           & 0           & 0           & 0           & 0           & 0           & 0           & 0           & ...         & 0           & 0           & 0           & 0           & 0           & 0           & 0           & 0           & 0           & 0          \\\\\n",
       "\t PGDX10344P1 & chr10\\_402 & 0           & 0           & 0           & 0           & 0           & 0           & 0           & 0           & ...         & 0           & 0           & 0           & 0           & 0           & 0           & 0           & 0           & 0           & 0          \\\\\n",
       "\\end{tabular}\n"
      ],
      "text/markdown": [
       "\n",
       "| X1 | X2 | X3 | X4 | X5 | X6 | X7 | X8 | X9 | X10 | ... | X664 | X665 | X666 | X667 | X668 | X669 | X670 | X671 | X672 | X673 |\n",
       "|---|---|---|---|---|---|---|---|---|---|---|---|---|---|---|---|---|---|---|---|---|\n",
       "| sample      | bin         | X30         | X31         | X32         | X33         | X34         | X35         | X36         | X37         | ...         | X691        | X692        | X693        | X694        | X695        | X696        | X697        | X698        | X699        | X700        |\n",
       "| PGDX10344P1 | chr10_400   | 0           | 0           | 0           | 0           | 0           | 0           | 0           | 0           | ...         | 0           | 0           | 0           | 0           | 0           | 0           | 0           | 0           | 0           | 0           |\n",
       "| PGDX10344P1 | chr10_40    | 0           | 0           | 0           | 0           | 0           | 0           | 0           | 0           | ...         | 0           | 0           | 0           | 0           | 0           | 0           | 0           | 0           | 0           | 0           |\n",
       "| PGDX10344P1 | chr10_4     | 0           | 0           | 0           | 0           | 0           | 0           | 0           | 0           | ...         | 0           | 0           | 0           | 0           | 0           | 0           | 0           | 0           | 0           | 0           |\n",
       "| PGDX10344P1 | chr10_401   | 0           | 0           | 0           | 0           | 0           | 0           | 0           | 0           | ...         | 0           | 0           | 0           | 0           | 0           | 0           | 0           | 0           | 0           | 0           |\n",
       "| PGDX10344P1 | chr10_402   | 0           | 0           | 0           | 0           | 0           | 0           | 0           | 0           | ...         | 0           | 0           | 0           | 0           | 0           | 0           | 0           | 0           | 0           | 0           |\n",
       "\n"
      ],
      "text/plain": [
       "  X1          X2        X3  X4  X5  X6  X7  X8  X9  X10 ... X664 X665 X666 X667\n",
       "1 sample      bin       X30 X31 X32 X33 X34 X35 X36 X37 ... X691 X692 X693 X694\n",
       "2 PGDX10344P1 chr10_400 0   0   0   0   0   0   0   0   ... 0    0    0    0   \n",
       "3 PGDX10344P1 chr10_40  0   0   0   0   0   0   0   0   ... 0    0    0    0   \n",
       "4 PGDX10344P1 chr10_4   0   0   0   0   0   0   0   0   ... 0    0    0    0   \n",
       "5 PGDX10344P1 chr10_401 0   0   0   0   0   0   0   0   ... 0    0    0    0   \n",
       "6 PGDX10344P1 chr10_402 0   0   0   0   0   0   0   0   ... 0    0    0    0   \n",
       "  X668 X669 X670 X671 X672 X673\n",
       "1 X695 X696 X697 X698 X699 X700\n",
       "2 0    0    0    0    0    0   \n",
       "3 0    0    0    0    0    0   \n",
       "4 0    0    0    0    0    0   \n",
       "5 0    0    0    0    0    0   \n",
       "6 0    0    0    0    0    0   "
      ]
     },
     "metadata": {},
     "output_type": "display_data"
    }
   ],
   "source": [
    "filename = \"../data/all_samples_normalized.csv\"\n",
    "small_test <- read_csv(file = filename, col_names = F, comment = \"#\", skip = 0, n_max = 10)\n",
    "head(small_test)"
   ]
  },
  {
   "cell_type": "code",
   "execution_count": 11,
   "id": "ae3387dd-5823-420c-b010-cfb8c2cf5c17",
   "metadata": {},
   "outputs": [],
   "source": [
    "bin_size <- 11\n",
    "signal_size <- 671\n",
    "filename = \"../data/all_samples_normalized_tail_copy.csv\""
   ]
  },
  {
   "cell_type": "code",
   "execution_count": 12,
   "id": "39407bc8-4922-43c1-893c-dee467c5f6a8",
   "metadata": {
    "tags": []
   },
   "outputs": [
    {
     "name": "stderr",
     "output_type": "stream",
     "text": [
      "Parsed with column specification:\n",
      "cols(\n",
      "  .default = col_double(),\n",
      "  X1 = col_character(),\n",
      "  X2 = col_character()\n",
      ")\n",
      "See spec(...) for full column specifications.\n"
     ]
    }
   ],
   "source": [
    "f3 <- function(df1, pos) {\n",
    "    df1[3:673] <- lapply(df1[3:673], as.numeric)\n",
    "    df <- df1[3:673]\n",
    "    #df <- df1 %>% select(-c(\"sample\", \"bin\")) %>% as.matrix()\n",
    "    output <- matrix(ncol = 671, nrow = dim(df1)[1])\n",
    "\n",
    "    for (row in 1:nrow(df)){\n",
    "        row_cur <- df[row, ]\n",
    "        row_cur <- as.vector(t(row_cur))\n",
    "\n",
    "        smoothed <- rep(0, ceiling(bin_size / 2))\n",
    "        for (i in seq_len(signal_size - bin_size)) {\n",
    "          smoothed <- c(smoothed, gaussian_smoothing(row_cur[i:(i+bin_size-1)]))\n",
    "        }\n",
    "        smoothed <- c(smoothed, rep(0, floor(bin_size / 2)))\n",
    "        output[row, ] <- smoothed\n",
    "        }\n",
    "\n",
    "    output <- data.frame(df1[1], df1[2], output)\n",
    "    write.table(output, \"../data/all_samples_normalized_gaussian_smooth.csv\", append = TRUE, sep=',', col.names=F, row.names=F)\n",
    "    }\n",
    "\n",
    "\n",
    "df <- read_delim_chunked(file = filename, \n",
    "                 callback = DataFrameCallback$new(f3), \n",
    "                 chunk_size = 10000, col_names = F,\n",
    "                 delim = \",\", \n",
    "                 progress = show_progress())"
   ]
  },
  {
   "cell_type": "code",
   "execution_count": null,
   "id": "1d229e68-504c-4690-bb1c-72152b8ee0c3",
   "metadata": {},
   "outputs": [],
   "source": []
  }
 ],
 "metadata": {
  "kernelspec": {
   "display_name": "R",
   "language": "R",
   "name": "ir"
  },
  "language_info": {
   "codemirror_mode": "r",
   "file_extension": ".r",
   "mimetype": "text/x-r-source",
   "name": "R",
   "pygments_lexer": "r",
   "version": "3.6.1"
  }
 },
 "nbformat": 4,
 "nbformat_minor": 5
}
