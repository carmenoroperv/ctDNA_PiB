{
 "cells": [
  {
   "cell_type": "code",
   "execution_count": 1,
   "id": "1512181c-5693-4303-b307-3bedfd6ad147",
   "metadata": {},
   "outputs": [
    {
     "name": "stderr",
     "output_type": "stream",
     "text": [
      "── Attaching packages ─────────────────────────────────────────────────────────────────────────────── tidyverse 1.3.1 ──\n",
      "✔ ggplot2 3.3.5     ✔ purrr   0.3.4\n",
      "✔ tibble  3.1.5     ✔ dplyr   1.0.7\n",
      "✔ tidyr   1.1.4     ✔ stringr 1.4.0\n",
      "✔ readr   2.0.2     ✔ forcats 0.5.1\n",
      "── Conflicts ────────────────────────────────────────────────────────────────────────────────── tidyverse_conflicts() ──\n",
      "✖ dplyr::filter() masks stats::filter()\n",
      "✖ dplyr::lag()    masks stats::lag()\n"
     ]
    }
   ],
   "source": [
    "library(tidyverse)"
   ]
  },
  {
   "cell_type": "markdown",
   "id": "4ab45ea6-139f-4831-b4b1-87edc247d7da",
   "metadata": {},
   "source": [
    "### Read in the methylation file"
   ]
  },
  {
   "cell_type": "code",
   "execution_count": 2,
   "id": "0edd38e0-f51c-4600-9451-6384ee03b526",
   "metadata": {},
   "outputs": [
    {
     "data": {
      "text/html": [
       "<table>\n",
       "<thead><tr><th scope=col>V1</th><th scope=col>V2</th><th scope=col>V3</th><th scope=col>V4</th></tr></thead>\n",
       "<tbody>\n",
       "\t<tr><td>chr1    </td><td>10468   </td><td>10469   </td><td> 75.0000</td></tr>\n",
       "\t<tr><td>chr1    </td><td>10469   </td><td>10470   </td><td> 66.6667</td></tr>\n",
       "\t<tr><td>chr1    </td><td>10470   </td><td>10471   </td><td> 83.3333</td></tr>\n",
       "\t<tr><td>chr1    </td><td>10471   </td><td>10472   </td><td>100.0000</td></tr>\n",
       "\t<tr><td>chr1    </td><td>10483   </td><td>10485   </td><td>100.0000</td></tr>\n",
       "\t<tr><td>chr1    </td><td>10488   </td><td>10489   </td><td> 75.0000</td></tr>\n",
       "</tbody>\n",
       "</table>\n"
      ],
      "text/latex": [
       "\\begin{tabular}{r|llll}\n",
       " V1 & V2 & V3 & V4\\\\\n",
       "\\hline\n",
       "\t chr1     & 10468    & 10469    &  75.0000\\\\\n",
       "\t chr1     & 10469    & 10470    &  66.6667\\\\\n",
       "\t chr1     & 10470    & 10471    &  83.3333\\\\\n",
       "\t chr1     & 10471    & 10472    & 100.0000\\\\\n",
       "\t chr1     & 10483    & 10485    & 100.0000\\\\\n",
       "\t chr1     & 10488    & 10489    &  75.0000\\\\\n",
       "\\end{tabular}\n"
      ],
      "text/markdown": [
       "\n",
       "| V1 | V2 | V3 | V4 |\n",
       "|---|---|---|---|\n",
       "| chr1     | 10468    | 10469    |  75.0000 |\n",
       "| chr1     | 10469    | 10470    |  66.6667 |\n",
       "| chr1     | 10470    | 10471    |  83.3333 |\n",
       "| chr1     | 10471    | 10472    | 100.0000 |\n",
       "| chr1     | 10483    | 10485    | 100.0000 |\n",
       "| chr1     | 10488    | 10489    |  75.0000 |\n",
       "\n"
      ],
      "text/plain": [
       "  V1   V2    V3    V4      \n",
       "1 chr1 10468 10469  75.0000\n",
       "2 chr1 10469 10470  66.6667\n",
       "3 chr1 10470 10471  83.3333\n",
       "4 chr1 10471 10472 100.0000\n",
       "5 chr1 10483 10485 100.0000\n",
       "6 chr1 10488 10489  75.0000"
      ]
     },
     "metadata": {},
     "output_type": "display_data"
    }
   ],
   "source": [
    "met_df <- read.table(file = '../data/methylation/GM12878_WGBS_CpG_mean_hg19.bedgraph', sep = '\\t', header = FALSE)\n",
    "head(met_df)"
   ]
  },
  {
   "cell_type": "code",
   "execution_count": 3,
   "id": "2f2f1595-85ea-4961-862d-45d324c2d208",
   "metadata": {},
   "outputs": [
    {
     "data": {
      "text/html": [
       "<table>\n",
       "<thead><tr><th scope=col>chr</th><th scope=col>start</th><th scope=col>end</th><th scope=col>methylation</th></tr></thead>\n",
       "<tbody>\n",
       "\t<tr><td>chr1    </td><td>10468   </td><td>10469   </td><td> 75.0000</td></tr>\n",
       "\t<tr><td>chr1    </td><td>10469   </td><td>10470   </td><td> 66.6667</td></tr>\n",
       "\t<tr><td>chr1    </td><td>10470   </td><td>10471   </td><td> 83.3333</td></tr>\n",
       "\t<tr><td>chr1    </td><td>10471   </td><td>10472   </td><td>100.0000</td></tr>\n",
       "\t<tr><td>chr1    </td><td>10483   </td><td>10485   </td><td>100.0000</td></tr>\n",
       "\t<tr><td>chr1    </td><td>10488   </td><td>10489   </td><td> 75.0000</td></tr>\n",
       "</tbody>\n",
       "</table>\n"
      ],
      "text/latex": [
       "\\begin{tabular}{r|llll}\n",
       " chr & start & end & methylation\\\\\n",
       "\\hline\n",
       "\t chr1     & 10468    & 10469    &  75.0000\\\\\n",
       "\t chr1     & 10469    & 10470    &  66.6667\\\\\n",
       "\t chr1     & 10470    & 10471    &  83.3333\\\\\n",
       "\t chr1     & 10471    & 10472    & 100.0000\\\\\n",
       "\t chr1     & 10483    & 10485    & 100.0000\\\\\n",
       "\t chr1     & 10488    & 10489    &  75.0000\\\\\n",
       "\\end{tabular}\n"
      ],
      "text/markdown": [
       "\n",
       "| chr | start | end | methylation |\n",
       "|---|---|---|---|\n",
       "| chr1     | 10468    | 10469    |  75.0000 |\n",
       "| chr1     | 10469    | 10470    |  66.6667 |\n",
       "| chr1     | 10470    | 10471    |  83.3333 |\n",
       "| chr1     | 10471    | 10472    | 100.0000 |\n",
       "| chr1     | 10483    | 10485    | 100.0000 |\n",
       "| chr1     | 10488    | 10489    |  75.0000 |\n",
       "\n"
      ],
      "text/plain": [
       "  chr  start end   methylation\n",
       "1 chr1 10468 10469  75.0000   \n",
       "2 chr1 10469 10470  66.6667   \n",
       "3 chr1 10470 10471  83.3333   \n",
       "4 chr1 10471 10472 100.0000   \n",
       "5 chr1 10483 10485 100.0000   \n",
       "6 chr1 10488 10489  75.0000   "
      ]
     },
     "metadata": {},
     "output_type": "display_data"
    },
    {
     "data": {
      "text/html": [
       "<ol class=list-inline>\n",
       "\t<li>46267976</li>\n",
       "\t<li>4</li>\n",
       "</ol>\n"
      ],
      "text/latex": [
       "\\begin{enumerate*}\n",
       "\\item 46267976\n",
       "\\item 4\n",
       "\\end{enumerate*}\n"
      ],
      "text/markdown": [
       "1. 46267976\n",
       "2. 4\n",
       "\n",
       "\n"
      ],
      "text/plain": [
       "[1] 46267976        4"
      ]
     },
     "metadata": {},
     "output_type": "display_data"
    }
   ],
   "source": [
    "colnames(met_df) <- c(\"chr\", \"start\", \"end\", \"methylation\")\n",
    "met_df$chr <- as.character(met_df$chr)\n",
    "head(met_df)\n",
    "dim(met_df)"
   ]
  },
  {
   "cell_type": "code",
   "execution_count": 4,
   "id": "eec3d8ce-2967-4c96-95d4-35accd7d98e4",
   "metadata": {},
   "outputs": [],
   "source": [
    "met_df <- met_df %>% arrange(chr, start)"
   ]
  },
  {
   "cell_type": "markdown",
   "id": "c411c2c4-ef52-49ec-91ff-4d975318bf55",
   "metadata": {},
   "source": [
    "### Read in the file with the ATAC values"
   ]
  },
  {
   "cell_type": "code",
   "execution_count": 5,
   "id": "ef6b912e-2914-4b4e-8392-05a343be1e45",
   "metadata": {},
   "outputs": [
    {
     "name": "stdout",
     "output_type": "stream",
     "text": [
      "'data.frame':\t10303 obs. of  3 variables:\n",
      " $ bin     : Factor w/ 10303 levels \"chr1_100\",\"chr1_101\",..: 851 849 850 852 853 854 855 856 857 858 ...\n",
      " $ ATAC_val: num  0.593 0.409 0.306 0.476 0.286 ...\n",
      " $ bin_id  : Factor w/ 10303 levels \"chr1_100\",\"chr1_101\",..: 851 849 850 852 853 854 855 856 857 858 ...\n"
     ]
    },
    {
     "data": {
      "text/html": [
       "<table>\n",
       "<thead><tr><th scope=col>bin</th><th scope=col>ATAC_val</th><th scope=col>bin_id</th></tr></thead>\n",
       "<tbody>\n",
       "\t<tr><td>chr10_100</td><td>0.5931657</td><td>chr10_100</td></tr>\n",
       "\t<tr><td>chr10_1  </td><td>0.4089315</td><td>chr10_1  </td></tr>\n",
       "\t<tr><td>chr10_10 </td><td>0.3058228</td><td>chr10_10 </td></tr>\n",
       "\t<tr><td>chr10_101</td><td>0.4764137</td><td>chr10_101</td></tr>\n",
       "\t<tr><td>chr10_102</td><td>0.2862775</td><td>chr10_102</td></tr>\n",
       "\t<tr><td>chr10_103</td><td>0.3169988</td><td>chr10_103</td></tr>\n",
       "</tbody>\n",
       "</table>\n"
      ],
      "text/latex": [
       "\\begin{tabular}{r|lll}\n",
       " bin & ATAC\\_val & bin\\_id\\\\\n",
       "\\hline\n",
       "\t chr10\\_100 & 0.5931657   & chr10\\_100\\\\\n",
       "\t chr10\\_1   & 0.4089315   & chr10\\_1  \\\\\n",
       "\t chr10\\_10  & 0.3058228   & chr10\\_10 \\\\\n",
       "\t chr10\\_101 & 0.4764137   & chr10\\_101\\\\\n",
       "\t chr10\\_102 & 0.2862775   & chr10\\_102\\\\\n",
       "\t chr10\\_103 & 0.3169988   & chr10\\_103\\\\\n",
       "\\end{tabular}\n"
      ],
      "text/markdown": [
       "\n",
       "| bin | ATAC_val | bin_id |\n",
       "|---|---|---|\n",
       "| chr10_100 | 0.5931657 | chr10_100 |\n",
       "| chr10_1   | 0.4089315 | chr10_1   |\n",
       "| chr10_10  | 0.3058228 | chr10_10  |\n",
       "| chr10_101 | 0.4764137 | chr10_101 |\n",
       "| chr10_102 | 0.2862775 | chr10_102 |\n",
       "| chr10_103 | 0.3169988 | chr10_103 |\n",
       "\n"
      ],
      "text/plain": [
       "  bin       ATAC_val  bin_id   \n",
       "1 chr10_100 0.5931657 chr10_100\n",
       "2 chr10_1   0.4089315 chr10_1  \n",
       "3 chr10_10  0.3058228 chr10_10 \n",
       "4 chr10_101 0.4764137 chr10_101\n",
       "5 chr10_102 0.2862775 chr10_102\n",
       "6 chr10_103 0.3169988 chr10_103"
      ]
     },
     "metadata": {},
     "output_type": "display_data"
    }
   ],
   "source": [
    "sum_control_ATAC_bin_rm = read.csv(\"../data/sum_control_normalized_ATAC.csv\")\n",
    "ATAC <- sum_control_ATAC_bin_rm %>% select(bin, ATAC_val)\n",
    "\n",
    "ATAC <- ATAC %>% mutate(bin_id = ATAC$bin)\n",
    "str(ATAC)\n",
    "head(ATAC)"
   ]
  },
  {
   "cell_type": "code",
   "execution_count": 6,
   "id": "d5c966ff-b856-4b97-9eda-c70f7ed8b657",
   "metadata": {},
   "outputs": [],
   "source": [
    "#ATAC$ATAC_val <- as.character(ATAC$ATAC_val)\n",
    "#ATAC$ATAC_val <- as.numeric(ATAC$ATAC_val)\n",
    "ATAC$bin <- as.character(ATAC$bin)"
   ]
  },
  {
   "cell_type": "code",
   "execution_count": 7,
   "id": "fec5e9b8-b319-456c-a1d7-c3c054b82b93",
   "metadata": {},
   "outputs": [
    {
     "name": "stdout",
     "output_type": "stream",
     "text": [
      "'data.frame':\t10303 obs. of  3 variables:\n",
      " $ bin     : chr  \"chr10_100\" \"chr10_1\" \"chr10_10\" \"chr10_101\" ...\n",
      " $ ATAC_val: num  0.593 0.409 0.306 0.476 0.286 ...\n",
      " $ bin_id  : Factor w/ 10303 levels \"chr1_100\",\"chr1_101\",..: 851 849 850 852 853 854 855 856 857 858 ...\n"
     ]
    },
    {
     "data": {
      "text/html": [
       "<ol class=list-inline>\n",
       "\t<li>10303</li>\n",
       "\t<li>3</li>\n",
       "</ol>\n"
      ],
      "text/latex": [
       "\\begin{enumerate*}\n",
       "\\item 10303\n",
       "\\item 3\n",
       "\\end{enumerate*}\n"
      ],
      "text/markdown": [
       "1. 10303\n",
       "2. 3\n",
       "\n",
       "\n"
      ],
      "text/plain": [
       "[1] 10303     3"
      ]
     },
     "metadata": {},
     "output_type": "display_data"
    }
   ],
   "source": [
    "str(ATAC)\n",
    "dim(ATAC)"
   ]
  },
  {
   "cell_type": "code",
   "execution_count": 8,
   "id": "4468ddd0-0f56-4f44-9e58-d7fd53e3a5f7",
   "metadata": {},
   "outputs": [
    {
     "data": {
      "text/html": [
       "<table>\n",
       "<thead><tr><th scope=col>chr</th><th scope=col>start_pos</th><th scope=col>end_pos</th><th scope=col>bin_number</th><th scope=col>bin_id</th><th scope=col>ATAC_val</th></tr></thead>\n",
       "<tbody>\n",
       "\t<tr><td>chr1     </td><td> 750000  </td><td>1000000  </td><td>3        </td><td>chr1_3   </td><td>0.5496224</td></tr>\n",
       "\t<tr><td>chr1     </td><td>1000000  </td><td>1250000  </td><td>4        </td><td>chr1_4   </td><td>0.5760086</td></tr>\n",
       "\t<tr><td>chr1     </td><td>1250000  </td><td>1500000  </td><td>5        </td><td>chr1_5   </td><td>0.7151874</td></tr>\n",
       "\t<tr><td>chr1     </td><td>1750000  </td><td>2000000  </td><td>7        </td><td>chr1_7   </td><td>0.4912511</td></tr>\n",
       "\t<tr><td>chr1     </td><td>2000000  </td><td>2250000  </td><td>8        </td><td>chr1_8   </td><td>0.4561390</td></tr>\n",
       "\t<tr><td>chr1     </td><td>2250000  </td><td>2500000  </td><td>9        </td><td>chr1_9   </td><td>0.6980095</td></tr>\n",
       "</tbody>\n",
       "</table>\n"
      ],
      "text/latex": [
       "\\begin{tabular}{r|llllll}\n",
       " chr & start\\_pos & end\\_pos & bin\\_number & bin\\_id & ATAC\\_val\\\\\n",
       "\\hline\n",
       "\t chr1      &  750000   & 1000000   & 3         & chr1\\_3  & 0.5496224\\\\\n",
       "\t chr1      & 1000000   & 1250000   & 4         & chr1\\_4  & 0.5760086\\\\\n",
       "\t chr1      & 1250000   & 1500000   & 5         & chr1\\_5  & 0.7151874\\\\\n",
       "\t chr1      & 1750000   & 2000000   & 7         & chr1\\_7  & 0.4912511\\\\\n",
       "\t chr1      & 2000000   & 2250000   & 8         & chr1\\_8  & 0.4561390\\\\\n",
       "\t chr1      & 2250000   & 2500000   & 9         & chr1\\_9  & 0.6980095\\\\\n",
       "\\end{tabular}\n"
      ],
      "text/markdown": [
       "\n",
       "| chr | start_pos | end_pos | bin_number | bin_id | ATAC_val |\n",
       "|---|---|---|---|---|---|\n",
       "| chr1      |  750000   | 1000000   | 3         | chr1_3    | 0.5496224 |\n",
       "| chr1      | 1000000   | 1250000   | 4         | chr1_4    | 0.5760086 |\n",
       "| chr1      | 1250000   | 1500000   | 5         | chr1_5    | 0.7151874 |\n",
       "| chr1      | 1750000   | 2000000   | 7         | chr1_7    | 0.4912511 |\n",
       "| chr1      | 2000000   | 2250000   | 8         | chr1_8    | 0.4561390 |\n",
       "| chr1      | 2250000   | 2500000   | 9         | chr1_9    | 0.6980095 |\n",
       "\n"
      ],
      "text/plain": [
       "  chr  start_pos end_pos bin_number bin_id ATAC_val \n",
       "1 chr1  750000   1000000 3          chr1_3 0.5496224\n",
       "2 chr1 1000000   1250000 4          chr1_4 0.5760086\n",
       "3 chr1 1250000   1500000 5          chr1_5 0.7151874\n",
       "4 chr1 1750000   2000000 7          chr1_7 0.4912511\n",
       "5 chr1 2000000   2250000 8          chr1_8 0.4561390\n",
       "6 chr1 2250000   2500000 9          chr1_9 0.6980095"
      ]
     },
     "metadata": {},
     "output_type": "display_data"
    }
   ],
   "source": [
    "#ATAC$bin <- sub('...', '', ATAC$bin)\n",
    "ATAC <- ATAC %>% separate(bin, c(\"chr\", \"bin_number\"), sep = \"_\")\n",
    "\n",
    "ATAC$chr <- as.character(ATAC$chr)\n",
    "ATAC$bin_number <- as.numeric(ATAC$bin_number)\n",
    "ATAC <- ATAC %>% mutate(start_pos = bin_number*250000)\n",
    "ATAC <- ATAC %>% mutate(end_pos = start_pos + 250000)\n",
    "ATAC <- ATAC %>% arrange(chr, start_pos)\n",
    "\n",
    "ATAC <- ATAC %>% select(chr, start_pos, end_pos, bin_number, bin_id, ATAC_val)\n",
    "head(ATAC)"
   ]
  },
  {
   "cell_type": "code",
   "execution_count": 9,
   "id": "fc5f6d7b-ff57-4147-b986-0a3e994bb605",
   "metadata": {},
   "outputs": [
    {
     "data": {
      "text/html": [
       "<ol class=list-inline>\n",
       "\t<li>10303</li>\n",
       "\t<li>6</li>\n",
       "</ol>\n"
      ],
      "text/latex": [
       "\\begin{enumerate*}\n",
       "\\item 10303\n",
       "\\item 6\n",
       "\\end{enumerate*}\n"
      ],
      "text/markdown": [
       "1. 10303\n",
       "2. 6\n",
       "\n",
       "\n"
      ],
      "text/plain": [
       "[1] 10303     6"
      ]
     },
     "metadata": {},
     "output_type": "display_data"
    }
   ],
   "source": [
    "dim(ATAC)"
   ]
  },
  {
   "cell_type": "code",
   "execution_count": 10,
   "id": "2666207f-9d1c-4086-a76f-19bfc53416f7",
   "metadata": {},
   "outputs": [],
   "source": [
    "ATAC <- ATAC %>% filter(!is.na(ATAC_val))"
   ]
  },
  {
   "cell_type": "code",
   "execution_count": 11,
   "id": "7ae38d79-517c-4f0d-a926-e6eb8f7bced2",
   "metadata": {},
   "outputs": [
    {
     "data": {
      "text/html": [
       "<ol class=list-inline>\n",
       "\t<li>10303</li>\n",
       "\t<li>6</li>\n",
       "</ol>\n"
      ],
      "text/latex": [
       "\\begin{enumerate*}\n",
       "\\item 10303\n",
       "\\item 6\n",
       "\\end{enumerate*}\n"
      ],
      "text/markdown": [
       "1. 10303\n",
       "2. 6\n",
       "\n",
       "\n"
      ],
      "text/plain": [
       "[1] 10303     6"
      ]
     },
     "metadata": {},
     "output_type": "display_data"
    }
   ],
   "source": [
    "dim(ATAC)"
   ]
  },
  {
   "cell_type": "code",
   "execution_count": 12,
   "id": "b466a79f-32c9-46cd-897b-74a23c1493d9",
   "metadata": {},
   "outputs": [
    {
     "data": {
      "text/html": [
       "<table>\n",
       "<thead><tr><th scope=col>chr</th><th scope=col>start</th><th scope=col>end</th><th scope=col>bin_number</th><th scope=col>methylation</th><th scope=col>n_meth_values_in_bin</th><th scope=col>n_na_meth_values_in_bin</th></tr></thead>\n",
       "<tbody>\n",
       "</tbody>\n",
       "</table>\n"
      ],
      "text/latex": [
       "\\begin{tabular}{r|lllllll}\n",
       " chr & start & end & bin\\_number & methylation & n\\_meth\\_values\\_in\\_bin & n\\_na\\_meth\\_values\\_in\\_bin\\\\\n",
       "\\hline\n",
       "\\end{tabular}\n"
      ],
      "text/markdown": [
       "\n",
       "| chr | start | end | bin_number | methylation | n_meth_values_in_bin | n_na_meth_values_in_bin |\n",
       "|---|---|---|---|---|---|---|\n",
       "\n"
      ],
      "text/plain": [
       "     chr start end bin_number methylation n_meth_values_in_bin\n",
       "     n_na_meth_values_in_bin"
      ]
     },
     "metadata": {},
     "output_type": "display_data"
    },
    {
     "name": "stdout",
     "output_type": "stream",
     "text": [
      "tibble [0 × 7] (S3: tbl_df/tbl/data.frame)\n",
      " $ chr                    : chr(0) \n",
      " $ start                  : num(0) \n",
      " $ end                    : num(0) \n",
      " $ bin_number             : num(0) \n",
      " $ methylation            : num(0) \n",
      " $ n_meth_values_in_bin   : num(0) \n",
      " $ n_na_meth_values_in_bin: num(0) \n"
     ]
    }
   ],
   "source": [
    "FINAL_meth_df <- tibble(chr = character(), \n",
    "                        start = numeric(), \n",
    "                        end = numeric(),\n",
    "                        bin_number = numeric(),\n",
    "                        methylation = numeric(), \n",
    "                        n_meth_values_in_bin = numeric(), \n",
    "                        n_na_meth_values_in_bin = numeric())\n",
    "FINAL_meth_df\n",
    "str(FINAL_meth_df)"
   ]
  },
  {
   "cell_type": "code",
   "execution_count": 13,
   "id": "eddadd13-c787-4bd9-bd7d-9b4e29dd1dbd",
   "metadata": {},
   "outputs": [
    {
     "name": "stdout",
     "output_type": "stream",
     "text": [
      "  |==================================================| 100%\n"
     ]
    }
   ],
   "source": [
    "n_iter <- dim(ATAC)[1] # Number of iterations of the loop\n",
    "\n",
    "# Initializes the progress bar\n",
    "pb <- txtProgressBar(min = 0,      # Minimum value of the progress bar\n",
    "                     max = n_iter, # Maximum value of the progress bar\n",
    "                     style = 3,    # Progress bar style (also available style = 1 and style = 2)\n",
    "                     width = 50,   # Progress bar width. Defaults to getOption(\"width\")\n",
    "                     char = \"=\")   # Character used to create the bar\n",
    "\n",
    "mean_meth_vector <- c()\n",
    "for (row_index in (1:n_iter)){\n",
    "    chrom <- ATAC[row_index, \"chr\"]\n",
    "    start_pos <- ATAC[row_index, \"start_pos\"]\n",
    "    end_pos <- ATAC[row_index, \"end_pos\"]\n",
    "    bin_nr <- ATAC[row_index, \"bin_number\"]\n",
    "    meth_values <- met_df %>% filter(chr == chrom, between(start, start_pos, end_pos - 1))\n",
    "    \n",
    "    n_meth_values = dim(meth_values)[1]\n",
    "    n_na_meth_values = sum(is.na(meth_values$methylation))\n",
    "    \n",
    "    if (dim(meth_values)[1] == 0){\n",
    "        print(\"zero values found\")\n",
    "        print(chrom)\n",
    "        print(start_pos)\n",
    "        print(end_pos)\n",
    "    }\n",
    "    \n",
    "    mean_meth <- mean(meth_values$methylation)\n",
    "    \n",
    "    FINAL_meth_df <- FINAL_meth_df %>% add_row(chr = chrom, \n",
    "                                               start = start_pos, \n",
    "                                               end = end_pos, \n",
    "                                               bin_number = bin_nr,\n",
    "                                               methylation = mean_meth, \n",
    "                                               n_meth_values_in_bin = n_meth_values, \n",
    "                                               n_na_meth_values_in_bin = n_na_meth_values\n",
    "                                               )\n",
    "\n",
    "    setTxtProgressBar(pb, row_index)\n",
    "                                     \n",
    "}\n",
    "close(pb)"
   ]
  },
  {
   "cell_type": "code",
   "execution_count": 14,
   "id": "7390408d-7490-42a2-b01b-d07449d6a2c6",
   "metadata": {},
   "outputs": [
    {
     "data": {
      "text/html": [
       "<table>\n",
       "<thead><tr><th scope=col>chr</th><th scope=col>start</th><th scope=col>end</th><th scope=col>bin_number</th><th scope=col>methylation</th><th scope=col>n_meth_values_in_bin</th><th scope=col>n_na_meth_values_in_bin</th></tr></thead>\n",
       "<tbody>\n",
       "\t<tr><td>chr1    </td><td> 750000 </td><td>1000000 </td><td>3       </td><td>50.85448</td><td>12359   </td><td>0       </td></tr>\n",
       "\t<tr><td>chr1    </td><td>1000000 </td><td>1250000 </td><td>4       </td><td>59.94958</td><td>15136   </td><td>0       </td></tr>\n",
       "\t<tr><td>chr1    </td><td>1250000 </td><td>1500000 </td><td>5       </td><td>66.37292</td><td>13548   </td><td>0       </td></tr>\n",
       "\t<tr><td>chr1    </td><td>1750000 </td><td>2000000 </td><td>7       </td><td>54.63748</td><td>12281   </td><td>0       </td></tr>\n",
       "\t<tr><td>chr1    </td><td>2000000 </td><td>2250000 </td><td>8       </td><td>67.25908</td><td>13879   </td><td>0       </td></tr>\n",
       "\t<tr><td>chr1    </td><td>2250000 </td><td>2500000 </td><td>9       </td><td>52.50686</td><td>13306   </td><td>0       </td></tr>\n",
       "</tbody>\n",
       "</table>\n"
      ],
      "text/latex": [
       "\\begin{tabular}{r|lllllll}\n",
       " chr & start & end & bin\\_number & methylation & n\\_meth\\_values\\_in\\_bin & n\\_na\\_meth\\_values\\_in\\_bin\\\\\n",
       "\\hline\n",
       "\t chr1     &  750000  & 1000000  & 3        & 50.85448 & 12359    & 0       \\\\\n",
       "\t chr1     & 1000000  & 1250000  & 4        & 59.94958 & 15136    & 0       \\\\\n",
       "\t chr1     & 1250000  & 1500000  & 5        & 66.37292 & 13548    & 0       \\\\\n",
       "\t chr1     & 1750000  & 2000000  & 7        & 54.63748 & 12281    & 0       \\\\\n",
       "\t chr1     & 2000000  & 2250000  & 8        & 67.25908 & 13879    & 0       \\\\\n",
       "\t chr1     & 2250000  & 2500000  & 9        & 52.50686 & 13306    & 0       \\\\\n",
       "\\end{tabular}\n"
      ],
      "text/markdown": [
       "\n",
       "| chr | start | end | bin_number | methylation | n_meth_values_in_bin | n_na_meth_values_in_bin |\n",
       "|---|---|---|---|---|---|---|\n",
       "| chr1     |  750000  | 1000000  | 3        | 50.85448 | 12359    | 0        |\n",
       "| chr1     | 1000000  | 1250000  | 4        | 59.94958 | 15136    | 0        |\n",
       "| chr1     | 1250000  | 1500000  | 5        | 66.37292 | 13548    | 0        |\n",
       "| chr1     | 1750000  | 2000000  | 7        | 54.63748 | 12281    | 0        |\n",
       "| chr1     | 2000000  | 2250000  | 8        | 67.25908 | 13879    | 0        |\n",
       "| chr1     | 2250000  | 2500000  | 9        | 52.50686 | 13306    | 0        |\n",
       "\n"
      ],
      "text/plain": [
       "  chr  start   end     bin_number methylation n_meth_values_in_bin\n",
       "1 chr1  750000 1000000 3          50.85448    12359               \n",
       "2 chr1 1000000 1250000 4          59.94958    15136               \n",
       "3 chr1 1250000 1500000 5          66.37292    13548               \n",
       "4 chr1 1750000 2000000 7          54.63748    12281               \n",
       "5 chr1 2000000 2250000 8          67.25908    13879               \n",
       "6 chr1 2250000 2500000 9          52.50686    13306               \n",
       "  n_na_meth_values_in_bin\n",
       "1 0                      \n",
       "2 0                      \n",
       "3 0                      \n",
       "4 0                      \n",
       "5 0                      \n",
       "6 0                      "
      ]
     },
     "metadata": {},
     "output_type": "display_data"
    },
    {
     "data": {
      "text/html": [
       "<ol class=list-inline>\n",
       "\t<li>10303</li>\n",
       "\t<li>7</li>\n",
       "</ol>\n"
      ],
      "text/latex": [
       "\\begin{enumerate*}\n",
       "\\item 10303\n",
       "\\item 7\n",
       "\\end{enumerate*}\n"
      ],
      "text/markdown": [
       "1. 10303\n",
       "2. 7\n",
       "\n",
       "\n"
      ],
      "text/plain": [
       "[1] 10303     7"
      ]
     },
     "metadata": {},
     "output_type": "display_data"
    }
   ],
   "source": [
    "head(FINAL_meth_df)\n",
    "dim(FINAL_meth_df)"
   ]
  },
  {
   "cell_type": "code",
   "execution_count": 16,
   "id": "96290bd3-bc97-4191-b291-31e4218ad2a2",
   "metadata": {},
   "outputs": [],
   "source": [
    "saveRDS(FINAL_meth_df, file = '../data/methylation/Methylation_files_with_counts/mean_methylation_with_counts.rds')"
   ]
  },
  {
   "cell_type": "markdown",
   "id": "c51ef134-8b1f-4ac4-8d9f-cde282a76aeb",
   "metadata": {},
   "source": [
    "### Removing NA's"
   ]
  },
  {
   "cell_type": "code",
   "execution_count": 17,
   "id": "5a397581-748d-4136-a3f1-98c1a2ab8b6f",
   "metadata": {},
   "outputs": [
    {
     "data": {
      "text/html": [
       "<table>\n",
       "<thead><tr><th scope=col>chr</th><th scope=col>start</th><th scope=col>end</th><th scope=col>bin_number</th><th scope=col>methylation</th><th scope=col>n_meth_values_in_bin</th><th scope=col>n_na_meth_values_in_bin</th></tr></thead>\n",
       "<tbody>\n",
       "\t<tr><td>chr1    </td><td> 750000 </td><td>1000000 </td><td>3       </td><td>50.85448</td><td>12359   </td><td>0       </td></tr>\n",
       "\t<tr><td>chr1    </td><td>1000000 </td><td>1250000 </td><td>4       </td><td>59.94958</td><td>15136   </td><td>0       </td></tr>\n",
       "\t<tr><td>chr1    </td><td>1250000 </td><td>1500000 </td><td>5       </td><td>66.37292</td><td>13548   </td><td>0       </td></tr>\n",
       "\t<tr><td>chr1    </td><td>1750000 </td><td>2000000 </td><td>7       </td><td>54.63748</td><td>12281   </td><td>0       </td></tr>\n",
       "\t<tr><td>chr1    </td><td>2000000 </td><td>2250000 </td><td>8       </td><td>67.25908</td><td>13879   </td><td>0       </td></tr>\n",
       "\t<tr><td>chr1    </td><td>2250000 </td><td>2500000 </td><td>9       </td><td>52.50686</td><td>13306   </td><td>0       </td></tr>\n",
       "</tbody>\n",
       "</table>\n"
      ],
      "text/latex": [
       "\\begin{tabular}{r|lllllll}\n",
       " chr & start & end & bin\\_number & methylation & n\\_meth\\_values\\_in\\_bin & n\\_na\\_meth\\_values\\_in\\_bin\\\\\n",
       "\\hline\n",
       "\t chr1     &  750000  & 1000000  & 3        & 50.85448 & 12359    & 0       \\\\\n",
       "\t chr1     & 1000000  & 1250000  & 4        & 59.94958 & 15136    & 0       \\\\\n",
       "\t chr1     & 1250000  & 1500000  & 5        & 66.37292 & 13548    & 0       \\\\\n",
       "\t chr1     & 1750000  & 2000000  & 7        & 54.63748 & 12281    & 0       \\\\\n",
       "\t chr1     & 2000000  & 2250000  & 8        & 67.25908 & 13879    & 0       \\\\\n",
       "\t chr1     & 2250000  & 2500000  & 9        & 52.50686 & 13306    & 0       \\\\\n",
       "\\end{tabular}\n"
      ],
      "text/markdown": [
       "\n",
       "| chr | start | end | bin_number | methylation | n_meth_values_in_bin | n_na_meth_values_in_bin |\n",
       "|---|---|---|---|---|---|---|\n",
       "| chr1     |  750000  | 1000000  | 3        | 50.85448 | 12359    | 0        |\n",
       "| chr1     | 1000000  | 1250000  | 4        | 59.94958 | 15136    | 0        |\n",
       "| chr1     | 1250000  | 1500000  | 5        | 66.37292 | 13548    | 0        |\n",
       "| chr1     | 1750000  | 2000000  | 7        | 54.63748 | 12281    | 0        |\n",
       "| chr1     | 2000000  | 2250000  | 8        | 67.25908 | 13879    | 0        |\n",
       "| chr1     | 2250000  | 2500000  | 9        | 52.50686 | 13306    | 0        |\n",
       "\n"
      ],
      "text/plain": [
       "  chr  start   end     bin_number methylation n_meth_values_in_bin\n",
       "1 chr1  750000 1000000 3          50.85448    12359               \n",
       "2 chr1 1000000 1250000 4          59.94958    15136               \n",
       "3 chr1 1250000 1500000 5          66.37292    13548               \n",
       "4 chr1 1750000 2000000 7          54.63748    12281               \n",
       "5 chr1 2000000 2250000 8          67.25908    13879               \n",
       "6 chr1 2250000 2500000 9          52.50686    13306               \n",
       "  n_na_meth_values_in_bin\n",
       "1 0                      \n",
       "2 0                      \n",
       "3 0                      \n",
       "4 0                      \n",
       "5 0                      \n",
       "6 0                      "
      ]
     },
     "metadata": {},
     "output_type": "display_data"
    },
    {
     "data": {
      "text/html": [
       "<ol class=list-inline>\n",
       "\t<li>10303</li>\n",
       "\t<li>7</li>\n",
       "</ol>\n"
      ],
      "text/latex": [
       "\\begin{enumerate*}\n",
       "\\item 10303\n",
       "\\item 7\n",
       "\\end{enumerate*}\n"
      ],
      "text/markdown": [
       "1. 10303\n",
       "2. 7\n",
       "\n",
       "\n"
      ],
      "text/plain": [
       "[1] 10303     7"
      ]
     },
     "metadata": {},
     "output_type": "display_data"
    }
   ],
   "source": [
    "new_meth_df <- readRDS('../data/methylation/Methylation_files_with_counts/mean_methylation_with_counts.rds')\n",
    "head(new_meth_df)\n",
    "dim(new_meth_df)"
   ]
  },
  {
   "cell_type": "code",
   "execution_count": 18,
   "id": "ec2425b8-0400-4be8-9867-b57a84fff2a6",
   "metadata": {},
   "outputs": [
    {
     "data": {
      "text/html": [
       "0"
      ],
      "text/latex": [
       "0"
      ],
      "text/markdown": [
       "0"
      ],
      "text/plain": [
       "[1] 0"
      ]
     },
     "metadata": {},
     "output_type": "display_data"
    }
   ],
   "source": [
    "sum(is.na(new_meth_df))"
   ]
  },
  {
   "cell_type": "code",
   "execution_count": 19,
   "id": "8524c4a0-ca08-4911-8279-192877a9b94d",
   "metadata": {},
   "outputs": [
    {
     "data": {
      "text/html": [
       "<ol class=list-inline>\n",
       "\t<li>10303</li>\n",
       "\t<li>7</li>\n",
       "</ol>\n"
      ],
      "text/latex": [
       "\\begin{enumerate*}\n",
       "\\item 10303\n",
       "\\item 7\n",
       "\\end{enumerate*}\n"
      ],
      "text/markdown": [
       "1. 10303\n",
       "2. 7\n",
       "\n",
       "\n"
      ],
      "text/plain": [
       "[1] 10303     7"
      ]
     },
     "metadata": {},
     "output_type": "display_data"
    }
   ],
   "source": [
    "new_meth_df_na_rm <- new_meth_df %>% filter(!is.na(methylation))\n",
    "dim(new_meth_df_na_rm)"
   ]
  },
  {
   "cell_type": "code",
   "execution_count": 20,
   "id": "8d1c18d2-f665-4342-9931-7c1655ad4e27",
   "metadata": {},
   "outputs": [],
   "source": [
    "saveRDS(new_meth_df_na_rm, file = '../data/methylation/Methylation_files_with_counts/mean_methylation_with_counts_NAs_removed.rds')"
   ]
  },
  {
   "cell_type": "markdown",
   "id": "d971dda9-0650-495e-aedb-1888c3668a10",
   "metadata": {},
   "source": [
    "### Converting to bin id's"
   ]
  },
  {
   "cell_type": "code",
   "execution_count": 21,
   "id": "bed363e1-6114-411b-bd9a-287bcf38ab76",
   "metadata": {},
   "outputs": [
    {
     "data": {
      "text/html": [
       "<table>\n",
       "<thead><tr><th scope=col>chr</th><th scope=col>start</th><th scope=col>end</th><th scope=col>bin_number</th><th scope=col>methylation</th><th scope=col>n_meth_values_in_bin</th><th scope=col>n_na_meth_values_in_bin</th><th scope=col>bin_id</th></tr></thead>\n",
       "<tbody>\n",
       "\t<tr><td>chr1    </td><td> 750000 </td><td>1000000 </td><td>3       </td><td>50.85448</td><td>12359   </td><td>0       </td><td>chr1_3  </td></tr>\n",
       "\t<tr><td>chr1    </td><td>1000000 </td><td>1250000 </td><td>4       </td><td>59.94958</td><td>15136   </td><td>0       </td><td>chr1_4  </td></tr>\n",
       "\t<tr><td>chr1    </td><td>1250000 </td><td>1500000 </td><td>5       </td><td>66.37292</td><td>13548   </td><td>0       </td><td>chr1_5  </td></tr>\n",
       "\t<tr><td>chr1    </td><td>1750000 </td><td>2000000 </td><td>7       </td><td>54.63748</td><td>12281   </td><td>0       </td><td>chr1_7  </td></tr>\n",
       "\t<tr><td>chr1    </td><td>2000000 </td><td>2250000 </td><td>8       </td><td>67.25908</td><td>13879   </td><td>0       </td><td>chr1_8  </td></tr>\n",
       "\t<tr><td>chr1    </td><td>2250000 </td><td>2500000 </td><td>9       </td><td>52.50686</td><td>13306   </td><td>0       </td><td>chr1_9  </td></tr>\n",
       "</tbody>\n",
       "</table>\n"
      ],
      "text/latex": [
       "\\begin{tabular}{r|llllllll}\n",
       " chr & start & end & bin\\_number & methylation & n\\_meth\\_values\\_in\\_bin & n\\_na\\_meth\\_values\\_in\\_bin & bin\\_id\\\\\n",
       "\\hline\n",
       "\t chr1     &  750000  & 1000000  & 3        & 50.85448 & 12359    & 0        & chr1\\_3\\\\\n",
       "\t chr1     & 1000000  & 1250000  & 4        & 59.94958 & 15136    & 0        & chr1\\_4\\\\\n",
       "\t chr1     & 1250000  & 1500000  & 5        & 66.37292 & 13548    & 0        & chr1\\_5\\\\\n",
       "\t chr1     & 1750000  & 2000000  & 7        & 54.63748 & 12281    & 0        & chr1\\_7\\\\\n",
       "\t chr1     & 2000000  & 2250000  & 8        & 67.25908 & 13879    & 0        & chr1\\_8\\\\\n",
       "\t chr1     & 2250000  & 2500000  & 9        & 52.50686 & 13306    & 0        & chr1\\_9\\\\\n",
       "\\end{tabular}\n"
      ],
      "text/markdown": [
       "\n",
       "| chr | start | end | bin_number | methylation | n_meth_values_in_bin | n_na_meth_values_in_bin | bin_id |\n",
       "|---|---|---|---|---|---|---|---|\n",
       "| chr1     |  750000  | 1000000  | 3        | 50.85448 | 12359    | 0        | chr1_3   |\n",
       "| chr1     | 1000000  | 1250000  | 4        | 59.94958 | 15136    | 0        | chr1_4   |\n",
       "| chr1     | 1250000  | 1500000  | 5        | 66.37292 | 13548    | 0        | chr1_5   |\n",
       "| chr1     | 1750000  | 2000000  | 7        | 54.63748 | 12281    | 0        | chr1_7   |\n",
       "| chr1     | 2000000  | 2250000  | 8        | 67.25908 | 13879    | 0        | chr1_8   |\n",
       "| chr1     | 2250000  | 2500000  | 9        | 52.50686 | 13306    | 0        | chr1_9   |\n",
       "\n"
      ],
      "text/plain": [
       "  chr  start   end     bin_number methylation n_meth_values_in_bin\n",
       "1 chr1  750000 1000000 3          50.85448    12359               \n",
       "2 chr1 1000000 1250000 4          59.94958    15136               \n",
       "3 chr1 1250000 1500000 5          66.37292    13548               \n",
       "4 chr1 1750000 2000000 7          54.63748    12281               \n",
       "5 chr1 2000000 2250000 8          67.25908    13879               \n",
       "6 chr1 2250000 2500000 9          52.50686    13306               \n",
       "  n_na_meth_values_in_bin bin_id\n",
       "1 0                       chr1_3\n",
       "2 0                       chr1_4\n",
       "3 0                       chr1_5\n",
       "4 0                       chr1_7\n",
       "5 0                       chr1_8\n",
       "6 0                       chr1_9"
      ]
     },
     "metadata": {},
     "output_type": "display_data"
    }
   ],
   "source": [
    "new_meth_df_na_rm$bin_id <- paste(new_meth_df_na_rm$chr, new_meth_df_na_rm$bin_number, sep = \"_\")\n",
    "head(new_meth_df_na_rm)"
   ]
  },
  {
   "cell_type": "code",
   "execution_count": 22,
   "id": "f8abfffa-cf69-43b8-9d17-5f890f5398dd",
   "metadata": {},
   "outputs": [
    {
     "data": {
      "text/html": [
       "<ol class=list-inline>\n",
       "\t<li>10303</li>\n",
       "\t<li>8</li>\n",
       "</ol>\n"
      ],
      "text/latex": [
       "\\begin{enumerate*}\n",
       "\\item 10303\n",
       "\\item 8\n",
       "\\end{enumerate*}\n"
      ],
      "text/markdown": [
       "1. 10303\n",
       "2. 8\n",
       "\n",
       "\n"
      ],
      "text/plain": [
       "[1] 10303     8"
      ]
     },
     "metadata": {},
     "output_type": "display_data"
    },
    {
     "data": {
      "text/html": [
       "<table>\n",
       "<thead><tr><th scope=col>chr</th><th scope=col>start</th><th scope=col>end</th><th scope=col>bin_number</th><th scope=col>bin_id</th><th scope=col>methylation</th><th scope=col>n_meth_values_in_bin</th><th scope=col>n_na_meth_values_in_bin</th></tr></thead>\n",
       "<tbody>\n",
       "\t<tr><td>chr1    </td><td> 750000 </td><td>1000000 </td><td>3       </td><td>chr1_3  </td><td>50.85448</td><td>12359   </td><td>0       </td></tr>\n",
       "\t<tr><td>chr1    </td><td>1000000 </td><td>1250000 </td><td>4       </td><td>chr1_4  </td><td>59.94958</td><td>15136   </td><td>0       </td></tr>\n",
       "\t<tr><td>chr1    </td><td>1250000 </td><td>1500000 </td><td>5       </td><td>chr1_5  </td><td>66.37292</td><td>13548   </td><td>0       </td></tr>\n",
       "\t<tr><td>chr1    </td><td>1750000 </td><td>2000000 </td><td>7       </td><td>chr1_7  </td><td>54.63748</td><td>12281   </td><td>0       </td></tr>\n",
       "\t<tr><td>chr1    </td><td>2000000 </td><td>2250000 </td><td>8       </td><td>chr1_8  </td><td>67.25908</td><td>13879   </td><td>0       </td></tr>\n",
       "\t<tr><td>chr1    </td><td>2250000 </td><td>2500000 </td><td>9       </td><td>chr1_9  </td><td>52.50686</td><td>13306   </td><td>0       </td></tr>\n",
       "</tbody>\n",
       "</table>\n"
      ],
      "text/latex": [
       "\\begin{tabular}{r|llllllll}\n",
       " chr & start & end & bin\\_number & bin\\_id & methylation & n\\_meth\\_values\\_in\\_bin & n\\_na\\_meth\\_values\\_in\\_bin\\\\\n",
       "\\hline\n",
       "\t chr1     &  750000  & 1000000  & 3        & chr1\\_3 & 50.85448 & 12359    & 0       \\\\\n",
       "\t chr1     & 1000000  & 1250000  & 4        & chr1\\_4 & 59.94958 & 15136    & 0       \\\\\n",
       "\t chr1     & 1250000  & 1500000  & 5        & chr1\\_5 & 66.37292 & 13548    & 0       \\\\\n",
       "\t chr1     & 1750000  & 2000000  & 7        & chr1\\_7 & 54.63748 & 12281    & 0       \\\\\n",
       "\t chr1     & 2000000  & 2250000  & 8        & chr1\\_8 & 67.25908 & 13879    & 0       \\\\\n",
       "\t chr1     & 2250000  & 2500000  & 9        & chr1\\_9 & 52.50686 & 13306    & 0       \\\\\n",
       "\\end{tabular}\n"
      ],
      "text/markdown": [
       "\n",
       "| chr | start | end | bin_number | bin_id | methylation | n_meth_values_in_bin | n_na_meth_values_in_bin |\n",
       "|---|---|---|---|---|---|---|---|\n",
       "| chr1     |  750000  | 1000000  | 3        | chr1_3   | 50.85448 | 12359    | 0        |\n",
       "| chr1     | 1000000  | 1250000  | 4        | chr1_4   | 59.94958 | 15136    | 0        |\n",
       "| chr1     | 1250000  | 1500000  | 5        | chr1_5   | 66.37292 | 13548    | 0        |\n",
       "| chr1     | 1750000  | 2000000  | 7        | chr1_7   | 54.63748 | 12281    | 0        |\n",
       "| chr1     | 2000000  | 2250000  | 8        | chr1_8   | 67.25908 | 13879    | 0        |\n",
       "| chr1     | 2250000  | 2500000  | 9        | chr1_9   | 52.50686 | 13306    | 0        |\n",
       "\n"
      ],
      "text/plain": [
       "  chr  start   end     bin_number bin_id methylation n_meth_values_in_bin\n",
       "1 chr1  750000 1000000 3          chr1_3 50.85448    12359               \n",
       "2 chr1 1000000 1250000 4          chr1_4 59.94958    15136               \n",
       "3 chr1 1250000 1500000 5          chr1_5 66.37292    13548               \n",
       "4 chr1 1750000 2000000 7          chr1_7 54.63748    12281               \n",
       "5 chr1 2000000 2250000 8          chr1_8 67.25908    13879               \n",
       "6 chr1 2250000 2500000 9          chr1_9 52.50686    13306               \n",
       "  n_na_meth_values_in_bin\n",
       "1 0                      \n",
       "2 0                      \n",
       "3 0                      \n",
       "4 0                      \n",
       "5 0                      \n",
       "6 0                      "
      ]
     },
     "metadata": {},
     "output_type": "display_data"
    }
   ],
   "source": [
    "dim(new_meth_df_na_rm)\n",
    "new_meth_df_na_rm <- new_meth_df_na_rm %>% select(chr, start, end, bin_number, bin_id, methylation, n_meth_values_in_bin, n_na_meth_values_in_bin)\n",
    "head(new_meth_df_na_rm)"
   ]
  },
  {
   "cell_type": "code",
   "execution_count": 23,
   "id": "6efd7ca0-8dea-4143-aeee-4dd0b4fd62b3",
   "metadata": {},
   "outputs": [],
   "source": [
    "saveRDS(new_meth_df_na_rm, file = '../data/methylation/Methylation_files_with_counts/mean_methylation_with_counts_NAs_removed_with_binID.rds')"
   ]
  },
  {
   "cell_type": "code",
   "execution_count": null,
   "id": "0f72b0c5-5b9b-4006-9e1a-e4aee6e705e3",
   "metadata": {},
   "outputs": [],
   "source": []
  }
 ],
 "metadata": {
  "kernelspec": {
   "display_name": "R",
   "language": "R",
   "name": "ir"
  },
  "language_info": {
   "codemirror_mode": "r",
   "file_extension": ".r",
   "mimetype": "text/x-r-source",
   "name": "R",
   "pygments_lexer": "r",
   "version": "3.6.1"
  }
 },
 "nbformat": 4,
 "nbformat_minor": 5
}
