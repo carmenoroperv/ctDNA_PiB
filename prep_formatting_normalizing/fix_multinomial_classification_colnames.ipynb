{
 "cells": [
  {
   "cell_type": "code",
   "execution_count": 2,
   "id": "a2573ff9-5730-48cf-8a71-4b82b777227a",
   "metadata": {},
   "outputs": [
    {
     "name": "stderr",
     "output_type": "stream",
     "text": [
      "Registered S3 methods overwritten by 'ggplot2':\n",
      "  method         from \n",
      "  [.quosures     rlang\n",
      "  c.quosures     rlang\n",
      "  print.quosures rlang\n",
      "Registered S3 method overwritten by 'rvest':\n",
      "  method            from\n",
      "  read_xml.response xml2\n",
      "── Attaching packages ─────────────────────────────────────── tidyverse 1.2.1 ──\n",
      "✔ ggplot2 3.1.1     ✔ purrr   0.3.4\n",
      "✔ tibble  3.1.4     ✔ dplyr   1.0.7\n",
      "✔ tidyr   1.1.3     ✔ stringr 1.4.0\n",
      "✔ readr   1.3.1     ✔ forcats 0.4.0\n",
      "── Conflicts ────────────────────────────────────────── tidyverse_conflicts() ──\n",
      "✖ dplyr::filter() masks stats::filter()\n",
      "✖ dplyr::lag()    masks stats::lag()\n"
     ]
    }
   ],
   "source": [
    "library(tidyverse)"
   ]
  },
  {
   "cell_type": "code",
   "execution_count": 22,
   "id": "4bfc72c4-cace-47c4-a8fe-b41235231b5c",
   "metadata": {},
   "outputs": [],
   "source": [
    "input_file <- \"../Classification_output/ATAC/NEW_CORRECT_PRED/Multinomial_models_output/Lasso_Predictions_PCA.rds\""
   ]
  },
  {
   "cell_type": "code",
   "execution_count": 23,
   "id": "2584b738-932c-4d71-9cb3-efa8f7629d77",
   "metadata": {},
   "outputs": [
    {
     "data": {
      "text/html": [
       "<table>\n",
       "<thead><tr><th scope=col>cv_rep</th><th scope=col>observed</th><th scope=col>Bile_Duct_Cancer</th><th scope=col>Breast_Cancer</th><th scope=col>Colorectal_Cancer</th><th scope=col>Gastric_cancer</th><th scope=col>Lung_Cancer</th><th scope=col>Ovarian_Cancer</th><th scope=col>Pancreatic_Cancer</th></tr></thead>\n",
       "<tbody>\n",
       "\t<tr><td>1             </td><td>Gastric_cancer</td><td>0.08280562    </td><td>0.3143654     </td><td>0.11162807    </td><td>0.12517623    </td><td>0.13779359    </td><td>0.08992555    </td><td>0.13830554    </td></tr>\n",
       "\t<tr><td>1             </td><td>Gastric_cancer</td><td>0.16562105    </td><td>0.2011065     </td><td>0.08195532    </td><td>0.18148342    </td><td>0.13786665    </td><td>0.09206400    </td><td>0.13990310    </td></tr>\n",
       "\t<tr><td>1             </td><td>Gastric_cancer</td><td>0.22091043    </td><td>0.0438944     </td><td>0.05618789    </td><td>0.02458858    </td><td>0.02081027    </td><td>0.06578472    </td><td>0.56782371    </td></tr>\n",
       "\t<tr><td>1             </td><td>Gastric_cancer</td><td>0.08634301    </td><td>0.4026155     </td><td>0.08975418    </td><td>0.11867838    </td><td>0.11277433    </td><td>0.09656611    </td><td>0.09326854    </td></tr>\n",
       "\t<tr><td>1             </td><td>Ovarian_Cancer</td><td>0.04947831    </td><td>0.2698963     </td><td>0.11324765    </td><td>0.09927877    </td><td>0.17361702    </td><td>0.17509578    </td><td>0.11938618    </td></tr>\n",
       "\t<tr><td>1             </td><td>Ovarian_Cancer</td><td>0.08220855    </td><td>0.2454853     </td><td>0.06856496    </td><td>0.06450663    </td><td>0.10791513    </td><td>0.26244530    </td><td>0.16887413    </td></tr>\n",
       "</tbody>\n",
       "</table>\n"
      ],
      "text/latex": [
       "\\begin{tabular}{r|lllllllll}\n",
       " cv\\_rep & observed & Bile\\_Duct\\_Cancer & Breast\\_Cancer & Colorectal\\_Cancer & Gastric\\_cancer & Lung\\_Cancer & Ovarian\\_Cancer & Pancreatic\\_Cancer\\\\\n",
       "\\hline\n",
       "\t 1                & Gastric\\_cancer & 0.08280562       & 0.3143654        & 0.11162807       & 0.12517623       & 0.13779359       & 0.08992555       & 0.13830554      \\\\\n",
       "\t 1                & Gastric\\_cancer & 0.16562105       & 0.2011065        & 0.08195532       & 0.18148342       & 0.13786665       & 0.09206400       & 0.13990310      \\\\\n",
       "\t 1                & Gastric\\_cancer & 0.22091043       & 0.0438944        & 0.05618789       & 0.02458858       & 0.02081027       & 0.06578472       & 0.56782371      \\\\\n",
       "\t 1                & Gastric\\_cancer & 0.08634301       & 0.4026155        & 0.08975418       & 0.11867838       & 0.11277433       & 0.09656611       & 0.09326854      \\\\\n",
       "\t 1                & Ovarian\\_Cancer & 0.04947831       & 0.2698963        & 0.11324765       & 0.09927877       & 0.17361702       & 0.17509578       & 0.11938618      \\\\\n",
       "\t 1                & Ovarian\\_Cancer & 0.08220855       & 0.2454853        & 0.06856496       & 0.06450663       & 0.10791513       & 0.26244530       & 0.16887413      \\\\\n",
       "\\end{tabular}\n"
      ],
      "text/markdown": [
       "\n",
       "| cv_rep | observed | Bile_Duct_Cancer | Breast_Cancer | Colorectal_Cancer | Gastric_cancer | Lung_Cancer | Ovarian_Cancer | Pancreatic_Cancer |\n",
       "|---|---|---|---|---|---|---|---|---|\n",
       "| 1              | Gastric_cancer | 0.08280562     | 0.3143654      | 0.11162807     | 0.12517623     | 0.13779359     | 0.08992555     | 0.13830554     |\n",
       "| 1              | Gastric_cancer | 0.16562105     | 0.2011065      | 0.08195532     | 0.18148342     | 0.13786665     | 0.09206400     | 0.13990310     |\n",
       "| 1              | Gastric_cancer | 0.22091043     | 0.0438944      | 0.05618789     | 0.02458858     | 0.02081027     | 0.06578472     | 0.56782371     |\n",
       "| 1              | Gastric_cancer | 0.08634301     | 0.4026155      | 0.08975418     | 0.11867838     | 0.11277433     | 0.09656611     | 0.09326854     |\n",
       "| 1              | Ovarian_Cancer | 0.04947831     | 0.2698963      | 0.11324765     | 0.09927877     | 0.17361702     | 0.17509578     | 0.11938618     |\n",
       "| 1              | Ovarian_Cancer | 0.08220855     | 0.2454853      | 0.06856496     | 0.06450663     | 0.10791513     | 0.26244530     | 0.16887413     |\n",
       "\n"
      ],
      "text/plain": [
       "  cv_rep observed       Bile_Duct_Cancer Breast_Cancer Colorectal_Cancer\n",
       "1 1      Gastric_cancer 0.08280562       0.3143654     0.11162807       \n",
       "2 1      Gastric_cancer 0.16562105       0.2011065     0.08195532       \n",
       "3 1      Gastric_cancer 0.22091043       0.0438944     0.05618789       \n",
       "4 1      Gastric_cancer 0.08634301       0.4026155     0.08975418       \n",
       "5 1      Ovarian_Cancer 0.04947831       0.2698963     0.11324765       \n",
       "6 1      Ovarian_Cancer 0.08220855       0.2454853     0.06856496       \n",
       "  Gastric_cancer Lung_Cancer Ovarian_Cancer Pancreatic_Cancer\n",
       "1 0.12517623     0.13779359  0.08992555     0.13830554       \n",
       "2 0.18148342     0.13786665  0.09206400     0.13990310       \n",
       "3 0.02458858     0.02081027  0.06578472     0.56782371       \n",
       "4 0.11867838     0.11277433  0.09656611     0.09326854       \n",
       "5 0.09927877     0.17361702  0.17509578     0.11938618       \n",
       "6 0.06450663     0.10791513  0.26244530     0.16887413       "
      ]
     },
     "metadata": {},
     "output_type": "display_data"
    }
   ],
   "source": [
    "pred <- readRDS(input_file)\n",
    "head(pred)"
   ]
  },
  {
   "cell_type": "code",
   "execution_count": 19,
   "id": "7a3dfbd2-c148-4b82-8615-323cbe8ba927",
   "metadata": {},
   "outputs": [
    {
     "data": {
      "text/html": [
       "<table>\n",
       "<thead><tr><th scope=col>observed</th><th scope=col>CV_rep</th><th scope=col>Bile_Duct_Cancer</th><th scope=col>Breast_Cancer</th><th scope=col>Colorectal_Cancer</th><th scope=col>Gastric_cancer</th><th scope=col>Lung_Cancer</th><th scope=col>Ovarian_Cancer</th><th scope=col>Pancreatic_Cancer</th><th scope=col>cv_rep</th></tr></thead>\n",
       "<tbody>\n",
       "\t<tr><td>Gastric_cancer</td><td>1             </td><td>0.0181242329  </td><td>0.7532022469  </td><td>5.911681e-03  </td><td>2.733132e-02  </td><td>3.469526e-03  </td><td>0.0654451577  </td><td>0.126515831   </td><td>1             </td></tr>\n",
       "\t<tr><td>Gastric_cancer</td><td>1             </td><td>0.6823752204  </td><td>0.2043147016  </td><td>6.231425e-04  </td><td>3.069139e-02  </td><td>3.009130e-03  </td><td>0.0068617130  </td><td>0.072124700   </td><td>1             </td></tr>\n",
       "\t<tr><td>Gastric_cancer</td><td>1             </td><td>0.0144668132  </td><td>0.0009849164  </td><td>1.170322e-05  </td><td>3.620725e-05  </td><td>1.545743e-06  </td><td>0.0005275488  </td><td>0.983971265   </td><td>1             </td></tr>\n",
       "\t<tr><td>Gastric_cancer</td><td>1             </td><td>0.0233818823  </td><td>0.7144640148  </td><td>5.905470e-03  </td><td>1.283481e-01  </td><td>2.095959e-03  </td><td>0.0107105978  </td><td>0.115093929   </td><td>1             </td></tr>\n",
       "\t<tr><td>Ovarian_Cancer</td><td>1             </td><td>0.0005403081  </td><td>0.6759633754  </td><td>7.050777e-04  </td><td>1.424732e-03  </td><td>7.213787e-02  </td><td>0.2408488303  </td><td>0.008379811   </td><td>1             </td></tr>\n",
       "\t<tr><td>Ovarian_Cancer</td><td>1             </td><td>0.0201910643  </td><td>0.4312527285  </td><td>4.128640e-04  </td><td>5.402848e-03  </td><td>2.411843e-03  </td><td>0.1846823064  </td><td>0.355646345   </td><td>1             </td></tr>\n",
       "</tbody>\n",
       "</table>\n"
      ],
      "text/latex": [
       "\\begin{tabular}{r|llllllllll}\n",
       " observed & CV\\_rep & Bile\\_Duct\\_Cancer & Breast\\_Cancer & Colorectal\\_Cancer & Gastric\\_cancer & Lung\\_Cancer & Ovarian\\_Cancer & Pancreatic\\_Cancer & cv\\_rep\\\\\n",
       "\\hline\n",
       "\t Gastric\\_cancer & 1                & 0.0181242329     & 0.7532022469     & 5.911681e-03     & 2.733132e-02     & 3.469526e-03     & 0.0654451577     & 0.126515831      & 1               \\\\\n",
       "\t Gastric\\_cancer & 1                & 0.6823752204     & 0.2043147016     & 6.231425e-04     & 3.069139e-02     & 3.009130e-03     & 0.0068617130     & 0.072124700      & 1               \\\\\n",
       "\t Gastric\\_cancer & 1                & 0.0144668132     & 0.0009849164     & 1.170322e-05     & 3.620725e-05     & 1.545743e-06     & 0.0005275488     & 0.983971265      & 1               \\\\\n",
       "\t Gastric\\_cancer & 1                & 0.0233818823     & 0.7144640148     & 5.905470e-03     & 1.283481e-01     & 2.095959e-03     & 0.0107105978     & 0.115093929      & 1               \\\\\n",
       "\t Ovarian\\_Cancer & 1                & 0.0005403081     & 0.6759633754     & 7.050777e-04     & 1.424732e-03     & 7.213787e-02     & 0.2408488303     & 0.008379811      & 1               \\\\\n",
       "\t Ovarian\\_Cancer & 1                & 0.0201910643     & 0.4312527285     & 4.128640e-04     & 5.402848e-03     & 2.411843e-03     & 0.1846823064     & 0.355646345      & 1               \\\\\n",
       "\\end{tabular}\n"
      ],
      "text/markdown": [
       "\n",
       "| observed | CV_rep | Bile_Duct_Cancer | Breast_Cancer | Colorectal_Cancer | Gastric_cancer | Lung_Cancer | Ovarian_Cancer | Pancreatic_Cancer | cv_rep |\n",
       "|---|---|---|---|---|---|---|---|---|---|\n",
       "| Gastric_cancer | 1              | 0.0181242329   | 0.7532022469   | 5.911681e-03   | 2.733132e-02   | 3.469526e-03   | 0.0654451577   | 0.126515831    | 1              |\n",
       "| Gastric_cancer | 1              | 0.6823752204   | 0.2043147016   | 6.231425e-04   | 3.069139e-02   | 3.009130e-03   | 0.0068617130   | 0.072124700    | 1              |\n",
       "| Gastric_cancer | 1              | 0.0144668132   | 0.0009849164   | 1.170322e-05   | 3.620725e-05   | 1.545743e-06   | 0.0005275488   | 0.983971265    | 1              |\n",
       "| Gastric_cancer | 1              | 0.0233818823   | 0.7144640148   | 5.905470e-03   | 1.283481e-01   | 2.095959e-03   | 0.0107105978   | 0.115093929    | 1              |\n",
       "| Ovarian_Cancer | 1              | 0.0005403081   | 0.6759633754   | 7.050777e-04   | 1.424732e-03   | 7.213787e-02   | 0.2408488303   | 0.008379811    | 1              |\n",
       "| Ovarian_Cancer | 1              | 0.0201910643   | 0.4312527285   | 4.128640e-04   | 5.402848e-03   | 2.411843e-03   | 0.1846823064   | 0.355646345    | 1              |\n",
       "\n"
      ],
      "text/plain": [
       "  observed       CV_rep Bile_Duct_Cancer Breast_Cancer Colorectal_Cancer\n",
       "1 Gastric_cancer 1      0.0181242329     0.7532022469  5.911681e-03     \n",
       "2 Gastric_cancer 1      0.6823752204     0.2043147016  6.231425e-04     \n",
       "3 Gastric_cancer 1      0.0144668132     0.0009849164  1.170322e-05     \n",
       "4 Gastric_cancer 1      0.0233818823     0.7144640148  5.905470e-03     \n",
       "5 Ovarian_Cancer 1      0.0005403081     0.6759633754  7.050777e-04     \n",
       "6 Ovarian_Cancer 1      0.0201910643     0.4312527285  4.128640e-04     \n",
       "  Gastric_cancer Lung_Cancer  Ovarian_Cancer Pancreatic_Cancer cv_rep\n",
       "1 2.733132e-02   3.469526e-03 0.0654451577   0.126515831       1     \n",
       "2 3.069139e-02   3.009130e-03 0.0068617130   0.072124700       1     \n",
       "3 3.620725e-05   1.545743e-06 0.0005275488   0.983971265       1     \n",
       "4 1.283481e-01   2.095959e-03 0.0107105978   0.115093929       1     \n",
       "5 1.424732e-03   7.213787e-02 0.2408488303   0.008379811       1     \n",
       "6 5.402848e-03   2.411843e-03 0.1846823064   0.355646345       1     "
      ]
     },
     "metadata": {},
     "output_type": "display_data"
    }
   ],
   "source": [
    "pred$cv_rep <- pred$CV_rep\n",
    "head(pred)"
   ]
  },
  {
   "cell_type": "code",
   "execution_count": 20,
   "id": "d5ec8131-3553-4bd6-9f3f-778d742edf02",
   "metadata": {},
   "outputs": [
    {
     "data": {
      "text/html": [
       "<table>\n",
       "<thead><tr><th scope=col>observed</th><th scope=col>Bile_Duct_Cancer</th><th scope=col>Breast_Cancer</th><th scope=col>Colorectal_Cancer</th><th scope=col>Gastric_cancer</th><th scope=col>Lung_Cancer</th><th scope=col>Ovarian_Cancer</th><th scope=col>Pancreatic_Cancer</th><th scope=col>cv_rep</th></tr></thead>\n",
       "<tbody>\n",
       "\t<tr><td>Gastric_cancer</td><td>0.0181242329  </td><td>0.7532022469  </td><td>5.911681e-03  </td><td>2.733132e-02  </td><td>3.469526e-03  </td><td>0.0654451577  </td><td>0.126515831   </td><td>1             </td></tr>\n",
       "\t<tr><td>Gastric_cancer</td><td>0.6823752204  </td><td>0.2043147016  </td><td>6.231425e-04  </td><td>3.069139e-02  </td><td>3.009130e-03  </td><td>0.0068617130  </td><td>0.072124700   </td><td>1             </td></tr>\n",
       "\t<tr><td>Gastric_cancer</td><td>0.0144668132  </td><td>0.0009849164  </td><td>1.170322e-05  </td><td>3.620725e-05  </td><td>1.545743e-06  </td><td>0.0005275488  </td><td>0.983971265   </td><td>1             </td></tr>\n",
       "\t<tr><td>Gastric_cancer</td><td>0.0233818823  </td><td>0.7144640148  </td><td>5.905470e-03  </td><td>1.283481e-01  </td><td>2.095959e-03  </td><td>0.0107105978  </td><td>0.115093929   </td><td>1             </td></tr>\n",
       "\t<tr><td>Ovarian_Cancer</td><td>0.0005403081  </td><td>0.6759633754  </td><td>7.050777e-04  </td><td>1.424732e-03  </td><td>7.213787e-02  </td><td>0.2408488303  </td><td>0.008379811   </td><td>1             </td></tr>\n",
       "\t<tr><td>Ovarian_Cancer</td><td>0.0201910643  </td><td>0.4312527285  </td><td>4.128640e-04  </td><td>5.402848e-03  </td><td>2.411843e-03  </td><td>0.1846823064  </td><td>0.355646345   </td><td>1             </td></tr>\n",
       "</tbody>\n",
       "</table>\n"
      ],
      "text/latex": [
       "\\begin{tabular}{r|lllllllll}\n",
       " observed & Bile\\_Duct\\_Cancer & Breast\\_Cancer & Colorectal\\_Cancer & Gastric\\_cancer & Lung\\_Cancer & Ovarian\\_Cancer & Pancreatic\\_Cancer & cv\\_rep\\\\\n",
       "\\hline\n",
       "\t Gastric\\_cancer & 0.0181242329     & 0.7532022469     & 5.911681e-03     & 2.733132e-02     & 3.469526e-03     & 0.0654451577     & 0.126515831      & 1               \\\\\n",
       "\t Gastric\\_cancer & 0.6823752204     & 0.2043147016     & 6.231425e-04     & 3.069139e-02     & 3.009130e-03     & 0.0068617130     & 0.072124700      & 1               \\\\\n",
       "\t Gastric\\_cancer & 0.0144668132     & 0.0009849164     & 1.170322e-05     & 3.620725e-05     & 1.545743e-06     & 0.0005275488     & 0.983971265      & 1               \\\\\n",
       "\t Gastric\\_cancer & 0.0233818823     & 0.7144640148     & 5.905470e-03     & 1.283481e-01     & 2.095959e-03     & 0.0107105978     & 0.115093929      & 1               \\\\\n",
       "\t Ovarian\\_Cancer & 0.0005403081     & 0.6759633754     & 7.050777e-04     & 1.424732e-03     & 7.213787e-02     & 0.2408488303     & 0.008379811      & 1               \\\\\n",
       "\t Ovarian\\_Cancer & 0.0201910643     & 0.4312527285     & 4.128640e-04     & 5.402848e-03     & 2.411843e-03     & 0.1846823064     & 0.355646345      & 1               \\\\\n",
       "\\end{tabular}\n"
      ],
      "text/markdown": [
       "\n",
       "| observed | Bile_Duct_Cancer | Breast_Cancer | Colorectal_Cancer | Gastric_cancer | Lung_Cancer | Ovarian_Cancer | Pancreatic_Cancer | cv_rep |\n",
       "|---|---|---|---|---|---|---|---|---|\n",
       "| Gastric_cancer | 0.0181242329   | 0.7532022469   | 5.911681e-03   | 2.733132e-02   | 3.469526e-03   | 0.0654451577   | 0.126515831    | 1              |\n",
       "| Gastric_cancer | 0.6823752204   | 0.2043147016   | 6.231425e-04   | 3.069139e-02   | 3.009130e-03   | 0.0068617130   | 0.072124700    | 1              |\n",
       "| Gastric_cancer | 0.0144668132   | 0.0009849164   | 1.170322e-05   | 3.620725e-05   | 1.545743e-06   | 0.0005275488   | 0.983971265    | 1              |\n",
       "| Gastric_cancer | 0.0233818823   | 0.7144640148   | 5.905470e-03   | 1.283481e-01   | 2.095959e-03   | 0.0107105978   | 0.115093929    | 1              |\n",
       "| Ovarian_Cancer | 0.0005403081   | 0.6759633754   | 7.050777e-04   | 1.424732e-03   | 7.213787e-02   | 0.2408488303   | 0.008379811    | 1              |\n",
       "| Ovarian_Cancer | 0.0201910643   | 0.4312527285   | 4.128640e-04   | 5.402848e-03   | 2.411843e-03   | 0.1846823064   | 0.355646345    | 1              |\n",
       "\n"
      ],
      "text/plain": [
       "  observed       Bile_Duct_Cancer Breast_Cancer Colorectal_Cancer\n",
       "1 Gastric_cancer 0.0181242329     0.7532022469  5.911681e-03     \n",
       "2 Gastric_cancer 0.6823752204     0.2043147016  6.231425e-04     \n",
       "3 Gastric_cancer 0.0144668132     0.0009849164  1.170322e-05     \n",
       "4 Gastric_cancer 0.0233818823     0.7144640148  5.905470e-03     \n",
       "5 Ovarian_Cancer 0.0005403081     0.6759633754  7.050777e-04     \n",
       "6 Ovarian_Cancer 0.0201910643     0.4312527285  4.128640e-04     \n",
       "  Gastric_cancer Lung_Cancer  Ovarian_Cancer Pancreatic_Cancer cv_rep\n",
       "1 2.733132e-02   3.469526e-03 0.0654451577   0.126515831       1     \n",
       "2 3.069139e-02   3.009130e-03 0.0068617130   0.072124700       1     \n",
       "3 3.620725e-05   1.545743e-06 0.0005275488   0.983971265       1     \n",
       "4 1.283481e-01   2.095959e-03 0.0107105978   0.115093929       1     \n",
       "5 1.424732e-03   7.213787e-02 0.2408488303   0.008379811       1     \n",
       "6 5.402848e-03   2.411843e-03 0.1846823064   0.355646345       1     "
      ]
     },
     "metadata": {},
     "output_type": "display_data"
    }
   ],
   "source": [
    "pred <- pred %>% select(-CV_rep)\n",
    "head(pred)"
   ]
  },
  {
   "cell_type": "code",
   "execution_count": 21,
   "id": "07b1340b-041d-4f05-98eb-144a7e594fc4",
   "metadata": {},
   "outputs": [],
   "source": [
    "saveRDS(pred, input_file)"
   ]
  },
  {
   "cell_type": "code",
   "execution_count": null,
   "id": "3bbc14d4-fd18-4bfc-8fc8-24888caffad5",
   "metadata": {},
   "outputs": [],
   "source": []
  }
 ],
 "metadata": {
  "kernelspec": {
   "display_name": "R",
   "language": "R",
   "name": "ir"
  },
  "language_info": {
   "codemirror_mode": "r",
   "file_extension": ".r",
   "mimetype": "text/x-r-source",
   "name": "R",
   "pygments_lexer": "r",
   "version": "3.6.1"
  }
 },
 "nbformat": 4,
 "nbformat_minor": 5
}
