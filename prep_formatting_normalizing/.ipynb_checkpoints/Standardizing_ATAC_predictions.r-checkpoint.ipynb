{
 "cells": [
  {
   "cell_type": "markdown",
   "id": "9615cfaa-ecbe-48a9-9e81-22772412385f",
   "metadata": {},
   "source": [
    "## Standardizing the ATAC predictions "
   ]
  },
  {
   "cell_type": "markdown",
   "id": "a3cd36ae-7fa8-4124-b942-6a548d987edc",
   "metadata": {},
   "source": [
    "__This notebook takes an input file name (ATAC predictions made for all individudals) and an output file name. The input file is read in, predictions are standardized row by row and the standardized predictions are written to the output file.__"
   ]
  },
  {
   "cell_type": "code",
   "execution_count": 2,
   "id": "7d2e3117-144d-4952-80a3-65e9bb0bcc23",
   "metadata": {
    "tags": []
   },
   "outputs": [
    {
     "name": "stderr",
     "output_type": "stream",
     "text": [
      "Registered S3 methods overwritten by 'ggplot2':\n",
      "  method         from \n",
      "  [.quosures     rlang\n",
      "  c.quosures     rlang\n",
      "  print.quosures rlang\n",
      "Registered S3 method overwritten by 'rvest':\n",
      "  method            from\n",
      "  read_xml.response xml2\n",
      "── Attaching packages ─────────────────────────────────────── tidyverse 1.2.1 ──\n",
      "✔ ggplot2 3.1.1     ✔ purrr   0.3.4\n",
      "✔ tibble  3.1.4     ✔ dplyr   1.0.7\n",
      "✔ tidyr   1.1.3     ✔ stringr 1.4.0\n",
      "✔ readr   1.3.1     ✔ forcats 0.4.0\n",
      "── Conflicts ────────────────────────────────────────── tidyverse_conflicts() ──\n",
      "✖ dplyr::filter() masks stats::filter()\n",
      "✖ dplyr::lag()    masks stats::lag()\n"
     ]
    }
   ],
   "source": [
    "# packages\n",
    "\n",
    "library(tidyverse)"
   ]
  },
  {
   "cell_type": "code",
   "execution_count": 3,
   "id": "82dcb579-c6b1-4a1f-bb8f-3adb6ea960f5",
   "metadata": {},
   "outputs": [],
   "source": [
    "#input_filename <- \"../data/ATAC_predictions_on_all_samples_NEW/ATAC_pred_lasso_std_TRUE_gaussian_formatted.csv\"\n",
    "#output_filename <- \"../data/ATAC_predictions_on_all_samples_NEW/ATAC_pred_lasso_std_TRUE_gaussian_formatted_standardized.csv\"\n",
    "\n",
    "input_filename <- snakemake@input[[\"input_file\"]]\n",
    "output_filename <-  snakemake@output[[\"output_formatted_pred\"]]\n",
    "\n",
    "#input_filename = \"../Summed_control/ATAC_Predictions_on_all_individuals/RIDGE__TRUE_ATAC_pred_normalized_formatted.rds\"\n",
    "#output_filename = \"../Summed_control/ATAC_Predictions_on_all_individuals/RIDGE__TRUE_ATAC_pred_normalized_formatted_standardized.rds\"\n",
    "\n",
    "#input_filename = \"../Summed_control/Summed_control_CV_predictions/RIDGE__TRUE_ATAC_pred_normalized_formatted.rds\"\n",
    "#output_filename = \"../Summed_control/Summed_control_CV_predictions/RIDGE__TRUE_ATAC_pred_normalized_standardized.rds\""
   ]
  },
  {
   "cell_type": "code",
   "execution_count": 4,
   "id": "5ef58ed7-d2af-4852-b40c-c0f3e083e684",
   "metadata": {
    "tags": []
   },
   "outputs": [
    {
     "name": "stderr",
     "output_type": "stream",
     "text": [
      "ERROR while rich displaying an object: Error in sprintf(wrap, header, body): 'fmt' length exceeds maximal format length 8192\n",
      "\n",
      "Traceback:\n",
      "1. FUN(X[[i]], ...)\n",
      "2. tryCatch(withCallingHandlers({\n",
      " .     if (!mime %in% names(repr::mime2repr)) \n",
      " .         stop(\"No repr_* for mimetype \", mime, \" in repr::mime2repr\")\n",
      " .     rpr <- repr::mime2repr[[mime]](obj)\n",
      " .     if (is.null(rpr)) \n",
      " .         return(NULL)\n",
      " .     prepare_content(is.raw(rpr), rpr)\n",
      " . }, error = error_handler), error = outer_handler)\n",
      "3. tryCatchList(expr, classes, parentenv, handlers)\n",
      "4. tryCatchOne(expr, names, parentenv, handlers[[1L]])\n",
      "5. doTryCatch(return(expr), name, parentenv, handler)\n",
      "6. withCallingHandlers({\n",
      " .     if (!mime %in% names(repr::mime2repr)) \n",
      " .         stop(\"No repr_* for mimetype \", mime, \" in repr::mime2repr\")\n",
      " .     rpr <- repr::mime2repr[[mime]](obj)\n",
      " .     if (is.null(rpr)) \n",
      " .         return(NULL)\n",
      " .     prepare_content(is.raw(rpr), rpr)\n",
      " . }, error = error_handler)\n",
      "7. repr::mime2repr[[mime]](obj)\n",
      "8. repr_latex.data.frame(obj)\n",
      "9. repr_matrix_generic(obj, sprintf(\"\\\\begin{tabular}{%s}\\n%%s%%s\\\\end{tabular}\\n\", \n",
      " .     cols), \"%s\\\\\\\\\\n\\\\hline\\n\", \"  &\", \" %s &\", \"%s\", \"\\t%s\\\\\\\\\\n\", \n",
      " .     \"%s &\", \" %s &\", escape_fun = latex_escape_vec, ...)\n",
      "10. sprintf(wrap, header, body)\n"
     ]
    },
    {
     "data": {
      "text/html": [
       "<table>\n",
       "<thead><tr><th scope=col>chr10_100</th><th scope=col>chr10_1</th><th scope=col>chr10_10</th><th scope=col>chr10_101</th><th scope=col>chr10_102</th><th scope=col>chr10_103</th><th scope=col>chr10_104</th><th scope=col>chr10_105</th><th scope=col>chr10_106</th><th scope=col>chr10_107</th><th scope=col>...</th><th scope=col>chr9_9</th><th scope=col>chr9_91</th><th scope=col>chr9_92</th><th scope=col>chr9_93</th><th scope=col>chr9_94</th><th scope=col>chr9_95</th><th scope=col>chr9_96</th><th scope=col>chr9_97</th><th scope=col>chr9_98</th><th scope=col>chr9_99</th></tr></thead>\n",
       "<tbody>\n",
       "\t<tr><td>0.5032232</td><td>0.3242849</td><td>0.3683311</td><td>0.41354  </td><td>0.2977828</td><td>0.3292435</td><td>0.361345 </td><td>0.3849921</td><td>0.4457963</td><td>0.5272806</td><td>...      </td><td>0.3928752</td><td>0.344818 </td><td>0.3305538</td><td>0.349598 </td><td>0.3432239</td><td>0.3618531</td><td>0.3530372</td><td>0.3422454</td><td>0.3496346</td><td>0.3134222</td></tr>\n",
       "</tbody>\n",
       "</table>\n"
      ],
      "text/markdown": [
       "\n",
       "| chr10_100 | chr10_1 | chr10_10 | chr10_101 | chr10_102 | chr10_103 | chr10_104 | chr10_105 | chr10_106 | chr10_107 | ... | chr9_9 | chr9_91 | chr9_92 | chr9_93 | chr9_94 | chr9_95 | chr9_96 | chr9_97 | chr9_98 | chr9_99 |\n",
       "|---|---|---|---|---|---|---|---|---|---|---|---|---|---|---|---|---|---|---|---|---|\n",
       "| 0.5032232 | 0.3242849 | 0.3683311 | 0.41354   | 0.2977828 | 0.3292435 | 0.361345  | 0.3849921 | 0.4457963 | 0.5272806 | ...       | 0.3928752 | 0.344818  | 0.3305538 | 0.349598  | 0.3432239 | 0.3618531 | 0.3530372 | 0.3422454 | 0.3496346 | 0.3134222 |\n",
       "\n"
      ],
      "text/plain": [
       "  chr10_100 chr10_1   chr10_10  chr10_101 chr10_102 chr10_103 chr10_104\n",
       "1 0.5032232 0.3242849 0.3683311 0.41354   0.2977828 0.3292435 0.361345 \n",
       "  chr10_105 chr10_106 chr10_107 ... chr9_9    chr9_91  chr9_92   chr9_93 \n",
       "1 0.3849921 0.4457963 0.5272806 ... 0.3928752 0.344818 0.3305538 0.349598\n",
       "  chr9_94   chr9_95   chr9_96   chr9_97   chr9_98   chr9_99  \n",
       "1 0.3432239 0.3618531 0.3530372 0.3422454 0.3496346 0.3134222"
      ]
     },
     "metadata": {},
     "output_type": "display_data"
    },
    {
     "data": {
      "text/html": [
       "<ol class=list-inline>\n",
       "\t<li>1</li>\n",
       "\t<li>10303</li>\n",
       "</ol>\n"
      ],
      "text/latex": [
       "\\begin{enumerate*}\n",
       "\\item 1\n",
       "\\item 10303\n",
       "\\end{enumerate*}\n"
      ],
      "text/markdown": [
       "1. 1\n",
       "2. 10303\n",
       "\n",
       "\n"
      ],
      "text/plain": [
       "[1]     1 10303"
      ]
     },
     "metadata": {},
     "output_type": "display_data"
    }
   ],
   "source": [
    "#df <- read.csv(input_filename)\n",
    "df <- readRDS(input_filename)\n",
    "head(df)\n",
    "dim(df)"
   ]
  },
  {
   "cell_type": "code",
   "execution_count": 5,
   "id": "cbb820a2-8975-486f-83c5-e6ec0dd516fb",
   "metadata": {},
   "outputs": [
    {
     "data": {
      "text/html": [
       "<table>\n",
       "<thead><tr><th></th><th scope=col>V1</th></tr></thead>\n",
       "<tbody>\n",
       "\t<tr><th scope=row>chr10_100</th><td>0.5032232</td></tr>\n",
       "\t<tr><th scope=row>chr10_1</th><td>0.3242849</td></tr>\n",
       "\t<tr><th scope=row>chr10_10</th><td>0.3683311</td></tr>\n",
       "\t<tr><th scope=row>chr10_101</th><td>0.4135400</td></tr>\n",
       "\t<tr><th scope=row>chr10_102</th><td>0.2977828</td></tr>\n",
       "\t<tr><th scope=row>chr10_103</th><td>0.3292435</td></tr>\n",
       "</tbody>\n",
       "</table>\n"
      ],
      "text/latex": [
       "\\begin{tabular}{r|l}\n",
       "  & V1\\\\\n",
       "\\hline\n",
       "\tchr10\\_100 & 0.5032232\\\\\n",
       "\tchr10\\_1 & 0.3242849\\\\\n",
       "\tchr10\\_10 & 0.3683311\\\\\n",
       "\tchr10\\_101 & 0.4135400\\\\\n",
       "\tchr10\\_102 & 0.2977828\\\\\n",
       "\tchr10\\_103 & 0.3292435\\\\\n",
       "\\end{tabular}\n"
      ],
      "text/markdown": [
       "\n",
       "| <!--/--> | V1 |\n",
       "|---|---|\n",
       "| chr10_100 | 0.5032232 |\n",
       "| chr10_1 | 0.3242849 |\n",
       "| chr10_10 | 0.3683311 |\n",
       "| chr10_101 | 0.4135400 |\n",
       "| chr10_102 | 0.2977828 |\n",
       "| chr10_103 | 0.3292435 |\n",
       "\n"
      ],
      "text/plain": [
       "          V1       \n",
       "chr10_100 0.5032232\n",
       "chr10_1   0.3242849\n",
       "chr10_10  0.3683311\n",
       "chr10_101 0.4135400\n",
       "chr10_102 0.2977828\n",
       "chr10_103 0.3292435"
      ]
     },
     "metadata": {},
     "output_type": "display_data"
    },
    {
     "data": {
      "text/html": [
       "<ol class=list-inline>\n",
       "\t<li>10303</li>\n",
       "\t<li>1</li>\n",
       "</ol>\n"
      ],
      "text/latex": [
       "\\begin{enumerate*}\n",
       "\\item 10303\n",
       "\\item 1\n",
       "\\end{enumerate*}\n"
      ],
      "text/markdown": [
       "1. 10303\n",
       "2. 1\n",
       "\n",
       "\n"
      ],
      "text/plain": [
       "[1] 10303     1"
      ]
     },
     "metadata": {},
     "output_type": "display_data"
    }
   ],
   "source": [
    "df_samples <- df %>% select(sample)\n",
    "head(df_samples)\n",
    "\n",
    "df <- df %>% select(-sample)\n",
    "df_transposed <- as.data.frame(t(df))\n",
    "head(df_transposed)\n",
    "dim(df_transposed)\n"
   ]
  },
  {
   "cell_type": "code",
   "execution_count": 6,
   "id": "b3ef5949-6c26-4d94-adae-41eb8c5a5526",
   "metadata": {},
   "outputs": [
    {
     "data": {
      "text/html": [
       "<table>\n",
       "<thead><tr><th></th><th scope=col>V1</th></tr></thead>\n",
       "<tbody>\n",
       "\t<tr><th scope=row>chr10_100</th><td> 0.8167760</td></tr>\n",
       "\t<tr><th scope=row>chr10_1</th><td>-1.2347549</td></tr>\n",
       "\t<tr><th scope=row>chr10_10</th><td>-0.7297644</td></tr>\n",
       "\t<tr><th scope=row>chr10_101</th><td>-0.2114440</td></tr>\n",
       "\t<tr><th scope=row>chr10_102</th><td>-1.5386015</td></tr>\n",
       "\t<tr><th scope=row>chr10_103</th><td>-1.1779042</td></tr>\n",
       "</tbody>\n",
       "</table>\n"
      ],
      "text/latex": [
       "\\begin{tabular}{r|l}\n",
       "  & V1\\\\\n",
       "\\hline\n",
       "\tchr10\\_100 &  0.8167760\\\\\n",
       "\tchr10\\_1 & -1.2347549\\\\\n",
       "\tchr10\\_10 & -0.7297644\\\\\n",
       "\tchr10\\_101 & -0.2114440\\\\\n",
       "\tchr10\\_102 & -1.5386015\\\\\n",
       "\tchr10\\_103 & -1.1779042\\\\\n",
       "\\end{tabular}\n"
      ],
      "text/markdown": [
       "\n",
       "| <!--/--> | V1 |\n",
       "|---|---|\n",
       "| chr10_100 |  0.8167760 |\n",
       "| chr10_1 | -1.2347549 |\n",
       "| chr10_10 | -0.7297644 |\n",
       "| chr10_101 | -0.2114440 |\n",
       "| chr10_102 | -1.5386015 |\n",
       "| chr10_103 | -1.1779042 |\n",
       "\n"
      ],
      "text/plain": [
       "          V1        \n",
       "chr10_100  0.8167760\n",
       "chr10_1   -1.2347549\n",
       "chr10_10  -0.7297644\n",
       "chr10_101 -0.2114440\n",
       "chr10_102 -1.5386015\n",
       "chr10_103 -1.1779042"
      ]
     },
     "metadata": {},
     "output_type": "display_data"
    }
   ],
   "source": [
    "df_transposed_scaled <- scale(df_transposed)\n",
    "head(df_transposed_scaled)"
   ]
  },
  {
   "cell_type": "code",
   "execution_count": 7,
   "id": "bd9d6855-73da-4841-9e36-ed09ad39b569",
   "metadata": {
    "tags": []
   },
   "outputs": [
    {
     "data": {
      "text/html": [
       "<strong>V1:</strong> 2.2719895866768e-16"
      ],
      "text/latex": [
       "\\textbf{V1:} 2.2719895866768e-16"
      ],
      "text/markdown": [
       "**V1:** 2.2719895866768e-16"
      ],
      "text/plain": [
       "         V1 \n",
       "2.27199e-16 "
      ]
     },
     "metadata": {},
     "output_type": "display_data"
    }
   ],
   "source": [
    "apply(df_transposed_scaled, 2, mean)"
   ]
  },
  {
   "cell_type": "code",
   "execution_count": 8,
   "id": "5d67745d-cabe-46b3-849c-1b259d9b5307",
   "metadata": {
    "tags": []
   },
   "outputs": [
    {
     "data": {
      "text/html": [
       "<strong>V1:</strong> 1"
      ],
      "text/latex": [
       "\\textbf{V1:} 1"
      ],
      "text/markdown": [
       "**V1:** 1"
      ],
      "text/plain": [
       "V1 \n",
       " 1 "
      ]
     },
     "metadata": {},
     "output_type": "display_data"
    }
   ],
   "source": [
    "apply(df_transposed_scaled, 2, sd)"
   ]
  },
  {
   "cell_type": "code",
   "execution_count": 9,
   "id": "4ce8c233-4af7-4207-8b54-103f31b71726",
   "metadata": {},
   "outputs": [
    {
     "name": "stderr",
     "output_type": "stream",
     "text": [
      "ERROR while rich displaying an object: Error in sprintf(wrap, header, body): 'fmt' length exceeds maximal format length 8192\n",
      "\n",
      "Traceback:\n",
      "1. FUN(X[[i]], ...)\n",
      "2. tryCatch(withCallingHandlers({\n",
      " .     if (!mime %in% names(repr::mime2repr)) \n",
      " .         stop(\"No repr_* for mimetype \", mime, \" in repr::mime2repr\")\n",
      " .     rpr <- repr::mime2repr[[mime]](obj)\n",
      " .     if (is.null(rpr)) \n",
      " .         return(NULL)\n",
      " .     prepare_content(is.raw(rpr), rpr)\n",
      " . }, error = error_handler), error = outer_handler)\n",
      "3. tryCatchList(expr, classes, parentenv, handlers)\n",
      "4. tryCatchOne(expr, names, parentenv, handlers[[1L]])\n",
      "5. doTryCatch(return(expr), name, parentenv, handler)\n",
      "6. withCallingHandlers({\n",
      " .     if (!mime %in% names(repr::mime2repr)) \n",
      " .         stop(\"No repr_* for mimetype \", mime, \" in repr::mime2repr\")\n",
      " .     rpr <- repr::mime2repr[[mime]](obj)\n",
      " .     if (is.null(rpr)) \n",
      " .         return(NULL)\n",
      " .     prepare_content(is.raw(rpr), rpr)\n",
      " . }, error = error_handler)\n",
      "7. repr::mime2repr[[mime]](obj)\n",
      "8. repr_latex.data.frame(obj)\n",
      "9. repr_matrix_generic(obj, sprintf(\"\\\\begin{tabular}{%s}\\n%%s%%s\\\\end{tabular}\\n\", \n",
      " .     cols), \"%s\\\\\\\\\\n\\\\hline\\n\", \"  &\", \" %s &\", \"%s\", \"\\t%s\\\\\\\\\\n\", \n",
      " .     \"%s &\", \" %s &\", escape_fun = latex_escape_vec, ...)\n",
      "10. sprintf(wrap, header, body)\n"
     ]
    },
    {
     "data": {
      "text/html": [
       "<table>\n",
       "<thead><tr><th></th><th scope=col>chr10_100</th><th scope=col>chr10_1</th><th scope=col>chr10_10</th><th scope=col>chr10_101</th><th scope=col>chr10_102</th><th scope=col>chr10_103</th><th scope=col>chr10_104</th><th scope=col>chr10_105</th><th scope=col>chr10_106</th><th scope=col>chr10_107</th><th scope=col>...</th><th scope=col>chr9_9</th><th scope=col>chr9_91</th><th scope=col>chr9_92</th><th scope=col>chr9_93</th><th scope=col>chr9_94</th><th scope=col>chr9_95</th><th scope=col>chr9_96</th><th scope=col>chr9_97</th><th scope=col>chr9_98</th><th scope=col>chr9_99</th></tr></thead>\n",
       "<tbody>\n",
       "\t<tr><th scope=row>V1</th><td>0.816776  </td><td>-1.234755 </td><td>-0.7297644</td><td>-0.211444 </td><td>-1.538601 </td><td>-1.177904 </td><td>-0.8098599</td><td>-0.5387456</td><td>0.1583756 </td><td>1.092595  </td><td>...       </td><td>-0.4483661</td><td>-0.9993428</td><td>-1.162881 </td><td>-0.9445397</td><td>-1.017619 </td><td>-0.8040346</td><td>-0.9051092</td><td>-1.028838 </td><td>-0.9441207</td><td>-1.359295 </td></tr>\n",
       "</tbody>\n",
       "</table>\n"
      ],
      "text/markdown": [
       "\n",
       "| <!--/--> | chr10_100 | chr10_1 | chr10_10 | chr10_101 | chr10_102 | chr10_103 | chr10_104 | chr10_105 | chr10_106 | chr10_107 | ... | chr9_9 | chr9_91 | chr9_92 | chr9_93 | chr9_94 | chr9_95 | chr9_96 | chr9_97 | chr9_98 | chr9_99 |\n",
       "|---|---|---|---|---|---|---|---|---|---|---|---|---|---|---|---|---|---|---|---|---|---|\n",
       "| V1 | 0.816776   | -1.234755  | -0.7297644 | -0.211444  | -1.538601  | -1.177904  | -0.8098599 | -0.5387456 | 0.1583756  | 1.092595   | ...        | -0.4483661 | -0.9993428 | -1.162881  | -0.9445397 | -1.017619  | -0.8040346 | -0.9051092 | -1.028838  | -0.9441207 | -1.359295  |\n",
       "\n"
      ],
      "text/plain": [
       "   chr10_100 chr10_1   chr10_10   chr10_101 chr10_102 chr10_103 chr10_104 \n",
       "V1 0.816776  -1.234755 -0.7297644 -0.211444 -1.538601 -1.177904 -0.8098599\n",
       "   chr10_105  chr10_106 chr10_107 ... chr9_9     chr9_91    chr9_92  \n",
       "V1 -0.5387456 0.1583756 1.092595  ... -0.4483661 -0.9993428 -1.162881\n",
       "   chr9_93    chr9_94   chr9_95    chr9_96    chr9_97   chr9_98    chr9_99  \n",
       "V1 -0.9445397 -1.017619 -0.8040346 -0.9051092 -1.028838 -0.9441207 -1.359295"
      ]
     },
     "metadata": {},
     "output_type": "display_data"
    },
    {
     "data": {
      "text/html": [
       "<ol class=list-inline>\n",
       "\t<li>1</li>\n",
       "\t<li>10303</li>\n",
       "</ol>\n"
      ],
      "text/latex": [
       "\\begin{enumerate*}\n",
       "\\item 1\n",
       "\\item 10303\n",
       "\\end{enumerate*}\n"
      ],
      "text/markdown": [
       "1. 1\n",
       "2. 10303\n",
       "\n",
       "\n"
      ],
      "text/plain": [
       "[1]     1 10303"
      ]
     },
     "metadata": {},
     "output_type": "display_data"
    }
   ],
   "source": [
    "df_scaled <-  as.data.frame(t(df_transposed_scaled))\n",
    "head(df_scaled)\n",
    "dim(df_scaled)"
   ]
  },
  {
   "cell_type": "code",
   "execution_count": 10,
   "id": "4ecad30b-7cc8-43b3-b826-fd0f63e6f37e",
   "metadata": {},
   "outputs": [
    {
     "name": "stderr",
     "output_type": "stream",
     "text": [
      "ERROR while rich displaying an object: Error in sprintf(wrap, header, body): 'fmt' length exceeds maximal format length 8192\n",
      "\n",
      "Traceback:\n",
      "1. FUN(X[[i]], ...)\n",
      "2. tryCatch(withCallingHandlers({\n",
      " .     if (!mime %in% names(repr::mime2repr)) \n",
      " .         stop(\"No repr_* for mimetype \", mime, \" in repr::mime2repr\")\n",
      " .     rpr <- repr::mime2repr[[mime]](obj)\n",
      " .     if (is.null(rpr)) \n",
      " .         return(NULL)\n",
      " .     prepare_content(is.raw(rpr), rpr)\n",
      " . }, error = error_handler), error = outer_handler)\n",
      "3. tryCatchList(expr, classes, parentenv, handlers)\n",
      "4. tryCatchOne(expr, names, parentenv, handlers[[1L]])\n",
      "5. doTryCatch(return(expr), name, parentenv, handler)\n",
      "6. withCallingHandlers({\n",
      " .     if (!mime %in% names(repr::mime2repr)) \n",
      " .         stop(\"No repr_* for mimetype \", mime, \" in repr::mime2repr\")\n",
      " .     rpr <- repr::mime2repr[[mime]](obj)\n",
      " .     if (is.null(rpr)) \n",
      " .         return(NULL)\n",
      " .     prepare_content(is.raw(rpr), rpr)\n",
      " . }, error = error_handler)\n",
      "7. repr::mime2repr[[mime]](obj)\n",
      "8. repr_latex.data.frame(obj)\n",
      "9. repr_matrix_generic(obj, sprintf(\"\\\\begin{tabular}{%s}\\n%%s%%s\\\\end{tabular}\\n\", \n",
      " .     cols), \"%s\\\\\\\\\\n\\\\hline\\n\", \"  &\", \" %s &\", \"%s\", \"\\t%s\\\\\\\\\\n\", \n",
      " .     \"%s &\", \" %s &\", escape_fun = latex_escape_vec, ...)\n",
      "10. sprintf(wrap, header, body)\n"
     ]
    },
    {
     "data": {
      "text/html": [
       "<table>\n",
       "<thead><tr><th></th><th scope=col>chr10_100</th><th scope=col>chr10_1</th><th scope=col>chr10_10</th><th scope=col>chr10_101</th><th scope=col>chr10_102</th><th scope=col>chr10_103</th><th scope=col>chr10_104</th><th scope=col>chr10_105</th><th scope=col>chr10_106</th><th scope=col>chr10_107</th><th scope=col>...</th><th scope=col>chr9_9</th><th scope=col>chr9_91</th><th scope=col>chr9_92</th><th scope=col>chr9_93</th><th scope=col>chr9_94</th><th scope=col>chr9_95</th><th scope=col>chr9_96</th><th scope=col>chr9_97</th><th scope=col>chr9_98</th><th scope=col>chr9_99</th></tr></thead>\n",
       "<tbody>\n",
       "\t<tr><th scope=row>V1</th><td>0.816776  </td><td>-1.234755 </td><td>-0.7297644</td><td>-0.211444 </td><td>-1.538601 </td><td>-1.177904 </td><td>-0.8098599</td><td>-0.5387456</td><td>0.1583756 </td><td>1.092595  </td><td>...       </td><td>-0.4483661</td><td>-0.9993428</td><td>-1.162881 </td><td>-0.9445397</td><td>-1.017619 </td><td>-0.8040346</td><td>-0.9051092</td><td>-1.028838 </td><td>-0.9441207</td><td>-1.359295 </td></tr>\n",
       "</tbody>\n",
       "</table>\n"
      ],
      "text/markdown": [
       "\n",
       "| <!--/--> | chr10_100 | chr10_1 | chr10_10 | chr10_101 | chr10_102 | chr10_103 | chr10_104 | chr10_105 | chr10_106 | chr10_107 | ... | chr9_9 | chr9_91 | chr9_92 | chr9_93 | chr9_94 | chr9_95 | chr9_96 | chr9_97 | chr9_98 | chr9_99 |\n",
       "|---|---|---|---|---|---|---|---|---|---|---|---|---|---|---|---|---|---|---|---|---|---|\n",
       "| V1 | 0.816776   | -1.234755  | -0.7297644 | -0.211444  | -1.538601  | -1.177904  | -0.8098599 | -0.5387456 | 0.1583756  | 1.092595   | ...        | -0.4483661 | -0.9993428 | -1.162881  | -0.9445397 | -1.017619  | -0.8040346 | -0.9051092 | -1.028838  | -0.9441207 | -1.359295  |\n",
       "\n"
      ],
      "text/plain": [
       "   chr10_100 chr10_1   chr10_10   chr10_101 chr10_102 chr10_103 chr10_104 \n",
       "V1 0.816776  -1.234755 -0.7297644 -0.211444 -1.538601 -1.177904 -0.8098599\n",
       "   chr10_105  chr10_106 chr10_107 ... chr9_9     chr9_91    chr9_92  \n",
       "V1 -0.5387456 0.1583756 1.092595  ... -0.4483661 -0.9993428 -1.162881\n",
       "   chr9_93    chr9_94   chr9_95    chr9_96    chr9_97   chr9_98    chr9_99  \n",
       "V1 -0.9445397 -1.017619 -0.8040346 -0.9051092 -1.028838 -0.9441207 -1.359295"
      ]
     },
     "metadata": {},
     "output_type": "display_data"
    },
    {
     "data": {
      "text/html": [
       "<ol class=list-inline>\n",
       "\t<li>1</li>\n",
       "\t<li>10303</li>\n",
       "</ol>\n"
      ],
      "text/latex": [
       "\\begin{enumerate*}\n",
       "\\item 1\n",
       "\\item 10303\n",
       "\\end{enumerate*}\n"
      ],
      "text/markdown": [
       "1. 1\n",
       "2. 10303\n",
       "\n",
       "\n"
      ],
      "text/plain": [
       "[1]     1 10303"
      ]
     },
     "metadata": {},
     "output_type": "display_data"
    }
   ],
   "source": [
    "df_scaled <- cbind(df_samples, df_scaled)\n",
    "head(df_scaled)\n",
    "dim(df_scaled)"
   ]
  },
  {
   "cell_type": "code",
   "execution_count": 11,
   "id": "ce7ce20f-d140-4728-8a7c-d19989091e73",
   "metadata": {},
   "outputs": [],
   "source": [
    "#write.csv(df_scaled, output_filename,  row.names = FALSE)\n",
    "saveRDS(df_scaled, file = output_filename)"
   ]
  },
  {
   "cell_type": "code",
   "execution_count": null,
   "id": "dfc61a07-55dc-4f71-b45d-e31782d599b8",
   "metadata": {},
   "outputs": [],
   "source": []
  }
 ],
 "metadata": {
  "kernelspec": {
   "display_name": "R",
   "language": "R",
   "name": "ir"
  },
  "language_info": {
   "codemirror_mode": "r",
   "file_extension": ".r",
   "mimetype": "text/x-r-source",
   "name": "R",
   "pygments_lexer": "r",
   "version": "3.6.1"
  }
 },
 "nbformat": 4,
 "nbformat_minor": 5
}
