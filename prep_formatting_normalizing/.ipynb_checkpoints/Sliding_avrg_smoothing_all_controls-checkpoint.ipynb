{
 "cells": [
  {
   "cell_type": "code",
   "execution_count": 1,
   "id": "ada05bca-9e5d-49ce-a010-0255cf1a66e1",
   "metadata": {},
   "outputs": [
    {
     "name": "stderr",
     "output_type": "stream",
     "text": [
      "── Attaching packages ─────────────────────────────────────────────────────────────────────────────── tidyverse 1.3.1 ──\n",
      "✔ ggplot2 3.3.5     ✔ purrr   0.3.4\n",
      "✔ tibble  3.1.5     ✔ dplyr   1.0.7\n",
      "✔ tidyr   1.1.4     ✔ stringr 1.4.0\n",
      "✔ readr   2.0.2     ✔ forcats 0.5.1\n",
      "── Conflicts ────────────────────────────────────────────────────────────────────────────────── tidyverse_conflicts() ──\n",
      "✖ dplyr::filter() masks stats::filter()\n",
      "✖ dplyr::lag()    masks stats::lag()\n",
      "\n",
      "Attaching package: ‘scales’\n",
      "\n",
      "The following object is masked from ‘package:purrr’:\n",
      "\n",
      "    discard\n",
      "\n",
      "The following object is masked from ‘package:readr’:\n",
      "\n",
      "    col_factor\n",
      "\n"
     ]
    }
   ],
   "source": [
    "library(tidyverse)\n",
    "\n",
    "#install.packages(\"tidyr\")\n",
    "library(tidyr)\n",
    "\n",
    "#install.packages('scales')\n",
    "library(scales)\n",
    "\n",
    "#install.packages(\"slider\")\n",
    "library(slider)\n"
   ]
  },
  {
   "cell_type": "code",
   "execution_count": 22,
   "id": "26c78c74-4bd8-47f9-b6f1-06fe4829f708",
   "metadata": {},
   "outputs": [],
   "source": [
    "sum_control_ATAC_bin_rm = readRDS(\"../data/data_rds_format/all_samples_normalized.rds\")"
   ]
  },
  {
   "cell_type": "code",
   "execution_count": 23,
   "id": "8ad39f7b-50cf-4fc5-8b83-141668fc6d95",
   "metadata": {},
   "outputs": [
    {
     "data": {
      "text/html": [
       "<table>\n",
       "<thead><tr><th scope=col>sample</th><th scope=col>bin</th><th scope=col>X30</th><th scope=col>X31</th><th scope=col>X32</th><th scope=col>X33</th><th scope=col>X34</th><th scope=col>X35</th><th scope=col>X36</th><th scope=col>X37</th><th scope=col>...</th><th scope=col>X691</th><th scope=col>X692</th><th scope=col>X693</th><th scope=col>X694</th><th scope=col>X695</th><th scope=col>X696</th><th scope=col>X697</th><th scope=col>X698</th><th scope=col>X699</th><th scope=col>X700</th></tr></thead>\n",
       "<tbody>\n",
       "\t<tr><td>PGDX10344P1</td><td>chr10_400  </td><td>0          </td><td>0          </td><td>0          </td><td>0          </td><td>0          </td><td>0          </td><td>0          </td><td>0          </td><td>...        </td><td>0          </td><td>0          </td><td>0          </td><td>0          </td><td>0          </td><td>0          </td><td>0          </td><td>0          </td><td>0          </td><td>0          </td></tr>\n",
       "\t<tr><td>PGDX10344P1</td><td>chr10_40   </td><td>0          </td><td>0          </td><td>0          </td><td>0          </td><td>0          </td><td>0          </td><td>0          </td><td>0          </td><td>...        </td><td>0          </td><td>0          </td><td>0          </td><td>0          </td><td>0          </td><td>0          </td><td>0          </td><td>0          </td><td>0          </td><td>0          </td></tr>\n",
       "\t<tr><td>PGDX10344P1</td><td>chr10_4    </td><td>0          </td><td>0          </td><td>0          </td><td>0          </td><td>0          </td><td>0          </td><td>0          </td><td>0          </td><td>...        </td><td>0          </td><td>0          </td><td>0          </td><td>0          </td><td>0          </td><td>0          </td><td>0          </td><td>0          </td><td>0          </td><td>0          </td></tr>\n",
       "\t<tr><td>PGDX10344P1</td><td>chr10_401  </td><td>0          </td><td>0          </td><td>0          </td><td>0          </td><td>0          </td><td>0          </td><td>0          </td><td>0          </td><td>...        </td><td>0          </td><td>0          </td><td>0          </td><td>0          </td><td>0          </td><td>0          </td><td>0          </td><td>0          </td><td>0          </td><td>0          </td></tr>\n",
       "\t<tr><td>PGDX10344P1</td><td>chr10_402  </td><td>0          </td><td>0          </td><td>0          </td><td>0          </td><td>0          </td><td>0          </td><td>0          </td><td>0          </td><td>...        </td><td>0          </td><td>0          </td><td>0          </td><td>0          </td><td>0          </td><td>0          </td><td>0          </td><td>0          </td><td>0          </td><td>0          </td></tr>\n",
       "\t<tr><td>PGDX10344P1</td><td>chr10_403  </td><td>0          </td><td>0          </td><td>0          </td><td>0          </td><td>0          </td><td>0          </td><td>0          </td><td>0          </td><td>...        </td><td>0          </td><td>0          </td><td>0          </td><td>0          </td><td>0          </td><td>0          </td><td>0          </td><td>0          </td><td>0          </td><td>0          </td></tr>\n",
       "</tbody>\n",
       "</table>\n"
      ],
      "text/latex": [
       "\\begin{tabular}{r|lllllllllllllllllllllllllllllllllllllllllllllllllllllllllllllllllllllllllllllllllllllllllllllllllllllllllllllllllllllllllllllllllllllllllllllllllllllllllllllllllllllllllllllllllllllllllllllllllllllllllllllllllllllllllllllllllllllllllllllllllllllllllllllllllllllllllllllllllllllllllllllllllllllllllllllllllllllllllllllllllllllllllllllllllllllllllllllllllllllllllllllllllllllllllllllllllllllllllllllllllllllllllllllllllllllllllllllllllllllllllllllllllllllllllllllllllllllllllllllllllllllllllllllllllllllllllllllllllllllllllllllllllllllllllllllllllllllllllllllllllllllllllllllllllllllllllllllllllllllllllllllllllllllllllllllllllllllllllllllllllllllllllllllllllllllllllllllllll}\n",
       " sample & bin & X30 & X31 & X32 & X33 & X34 & X35 & X36 & X37 & ... & X691 & X692 & X693 & X694 & X695 & X696 & X697 & X698 & X699 & X700\\\\\n",
       "\\hline\n",
       "\t PGDX10344P1 & chr10\\_400 & 0           & 0           & 0           & 0           & 0           & 0           & 0           & 0           & ...         & 0           & 0           & 0           & 0           & 0           & 0           & 0           & 0           & 0           & 0          \\\\\n",
       "\t PGDX10344P1 & chr10\\_40  & 0           & 0           & 0           & 0           & 0           & 0           & 0           & 0           & ...         & 0           & 0           & 0           & 0           & 0           & 0           & 0           & 0           & 0           & 0          \\\\\n",
       "\t PGDX10344P1 & chr10\\_4   & 0           & 0           & 0           & 0           & 0           & 0           & 0           & 0           & ...         & 0           & 0           & 0           & 0           & 0           & 0           & 0           & 0           & 0           & 0          \\\\\n",
       "\t PGDX10344P1 & chr10\\_401 & 0           & 0           & 0           & 0           & 0           & 0           & 0           & 0           & ...         & 0           & 0           & 0           & 0           & 0           & 0           & 0           & 0           & 0           & 0          \\\\\n",
       "\t PGDX10344P1 & chr10\\_402 & 0           & 0           & 0           & 0           & 0           & 0           & 0           & 0           & ...         & 0           & 0           & 0           & 0           & 0           & 0           & 0           & 0           & 0           & 0          \\\\\n",
       "\t PGDX10344P1 & chr10\\_403 & 0           & 0           & 0           & 0           & 0           & 0           & 0           & 0           & ...         & 0           & 0           & 0           & 0           & 0           & 0           & 0           & 0           & 0           & 0          \\\\\n",
       "\\end{tabular}\n"
      ],
      "text/markdown": [
       "\n",
       "| sample | bin | X30 | X31 | X32 | X33 | X34 | X35 | X36 | X37 | ... | X691 | X692 | X693 | X694 | X695 | X696 | X697 | X698 | X699 | X700 |\n",
       "|---|---|---|---|---|---|---|---|---|---|---|---|---|---|---|---|---|---|---|---|---|\n",
       "| PGDX10344P1 | chr10_400   | 0           | 0           | 0           | 0           | 0           | 0           | 0           | 0           | ...         | 0           | 0           | 0           | 0           | 0           | 0           | 0           | 0           | 0           | 0           |\n",
       "| PGDX10344P1 | chr10_40    | 0           | 0           | 0           | 0           | 0           | 0           | 0           | 0           | ...         | 0           | 0           | 0           | 0           | 0           | 0           | 0           | 0           | 0           | 0           |\n",
       "| PGDX10344P1 | chr10_4     | 0           | 0           | 0           | 0           | 0           | 0           | 0           | 0           | ...         | 0           | 0           | 0           | 0           | 0           | 0           | 0           | 0           | 0           | 0           |\n",
       "| PGDX10344P1 | chr10_401   | 0           | 0           | 0           | 0           | 0           | 0           | 0           | 0           | ...         | 0           | 0           | 0           | 0           | 0           | 0           | 0           | 0           | 0           | 0           |\n",
       "| PGDX10344P1 | chr10_402   | 0           | 0           | 0           | 0           | 0           | 0           | 0           | 0           | ...         | 0           | 0           | 0           | 0           | 0           | 0           | 0           | 0           | 0           | 0           |\n",
       "| PGDX10344P1 | chr10_403   | 0           | 0           | 0           | 0           | 0           | 0           | 0           | 0           | ...         | 0           | 0           | 0           | 0           | 0           | 0           | 0           | 0           | 0           | 0           |\n",
       "\n"
      ],
      "text/plain": [
       "  sample      bin       X30 X31 X32 X33 X34 X35 X36 X37 ... X691 X692 X693 X694\n",
       "1 PGDX10344P1 chr10_400 0   0   0   0   0   0   0   0   ... 0    0    0    0   \n",
       "2 PGDX10344P1 chr10_40  0   0   0   0   0   0   0   0   ... 0    0    0    0   \n",
       "3 PGDX10344P1 chr10_4   0   0   0   0   0   0   0   0   ... 0    0    0    0   \n",
       "4 PGDX10344P1 chr10_401 0   0   0   0   0   0   0   0   ... 0    0    0    0   \n",
       "5 PGDX10344P1 chr10_402 0   0   0   0   0   0   0   0   ... 0    0    0    0   \n",
       "6 PGDX10344P1 chr10_403 0   0   0   0   0   0   0   0   ... 0    0    0    0   \n",
       "  X695 X696 X697 X698 X699 X700\n",
       "1 0    0    0    0    0    0   \n",
       "2 0    0    0    0    0    0   \n",
       "3 0    0    0    0    0    0   \n",
       "4 0    0    0    0    0    0   \n",
       "5 0    0    0    0    0    0   \n",
       "6 0    0    0    0    0    0   "
      ]
     },
     "metadata": {},
     "output_type": "display_data"
    }
   ],
   "source": [
    "head(sum_control_ATAC_bin_rm)"
   ]
  },
  {
   "cell_type": "code",
   "execution_count": 24,
   "id": "6a9a113f-ef43-4d29-be9a-5a5f221632ce",
   "metadata": {},
   "outputs": [],
   "source": [
    "ATAC_val <- read.table(\"../data/ATACseq_250kb_bins.txt\")\n",
    "colnames(ATAC_val) <- c(\"bin\", \"ATAC_val\")"
   ]
  },
  {
   "cell_type": "code",
   "execution_count": 25,
   "id": "24740c55-615f-4854-804f-9f5e24b113f7",
   "metadata": {},
   "outputs": [],
   "source": [
    "bin <- sum_control_ATAC_bin_rm %>% select(bin)"
   ]
  },
  {
   "cell_type": "code",
   "execution_count": 26,
   "id": "36f4317f-8aa5-4300-bcf3-bb2187c8d45f",
   "metadata": {},
   "outputs": [
    {
     "data": {
      "text/html": [
       "<table>\n",
       "<thead><tr><th scope=col>bin</th><th scope=col>ATAC_val</th></tr></thead>\n",
       "<tbody>\n",
       "\t<tr><td>chr1_0    </td><td>0.05376791</td></tr>\n",
       "\t<tr><td>chr10_0   </td><td>0.29698782</td></tr>\n",
       "\t<tr><td>chr10_1   </td><td>0.40893151</td></tr>\n",
       "\t<tr><td>chr10_10  </td><td>0.30582283</td></tr>\n",
       "\t<tr><td>chr10_100 </td><td>0.59316570</td></tr>\n",
       "\t<tr><td>chr10_101 </td><td>0.47641373</td></tr>\n",
       "</tbody>\n",
       "</table>\n"
      ],
      "text/latex": [
       "\\begin{tabular}{r|ll}\n",
       " bin & ATAC\\_val\\\\\n",
       "\\hline\n",
       "\t chr1\\_0    & 0.05376791 \\\\\n",
       "\t chr10\\_0   & 0.29698782 \\\\\n",
       "\t chr10\\_1   & 0.40893151 \\\\\n",
       "\t chr10\\_10  & 0.30582283 \\\\\n",
       "\t chr10\\_100 & 0.59316570 \\\\\n",
       "\t chr10\\_101 & 0.47641373 \\\\\n",
       "\\end{tabular}\n"
      ],
      "text/markdown": [
       "\n",
       "| bin | ATAC_val |\n",
       "|---|---|\n",
       "| chr1_0     | 0.05376791 |\n",
       "| chr10_0    | 0.29698782 |\n",
       "| chr10_1    | 0.40893151 |\n",
       "| chr10_10   | 0.30582283 |\n",
       "| chr10_100  | 0.59316570 |\n",
       "| chr10_101  | 0.47641373 |\n",
       "\n"
      ],
      "text/plain": [
       "  bin       ATAC_val  \n",
       "1 chr1_0    0.05376791\n",
       "2 chr10_0   0.29698782\n",
       "3 chr10_1   0.40893151\n",
       "4 chr10_10  0.30582283\n",
       "5 chr10_100 0.59316570\n",
       "6 chr10_101 0.47641373"
      ]
     },
     "metadata": {},
     "output_type": "display_data"
    }
   ],
   "source": [
    "head(ATAC_val)"
   ]
  },
  {
   "cell_type": "code",
   "execution_count": 27,
   "id": "aeab51bf-4391-4cd3-9e52-626bb1b2a490",
   "metadata": {},
   "outputs": [],
   "source": [
    "sum_control_ATAC_bin_rm <- sum_control_ATAC_bin_rm %>% select(-bin) %>% select(-sample)\n"
   ]
  },
  {
   "cell_type": "code",
   "execution_count": 28,
   "id": "f6e9c394-c23f-47f1-92c6-fe9d9e702c01",
   "metadata": {},
   "outputs": [
    {
     "data": {
      "text/html": [
       "<table>\n",
       "<thead><tr><th scope=col>X30</th><th scope=col>X31</th><th scope=col>X32</th><th scope=col>X33</th><th scope=col>X34</th><th scope=col>X35</th><th scope=col>X36</th><th scope=col>X37</th><th scope=col>X38</th><th scope=col>X39</th><th scope=col>...</th><th scope=col>X691</th><th scope=col>X692</th><th scope=col>X693</th><th scope=col>X694</th><th scope=col>X695</th><th scope=col>X696</th><th scope=col>X697</th><th scope=col>X698</th><th scope=col>X699</th><th scope=col>X700</th></tr></thead>\n",
       "<tbody>\n",
       "\t<tr><td>0  </td><td>0  </td><td>0  </td><td>0  </td><td>0  </td><td>0  </td><td>0  </td><td>0  </td><td>0  </td><td>0  </td><td>...</td><td>0  </td><td>0  </td><td>0  </td><td>0  </td><td>0  </td><td>0  </td><td>0  </td><td>0  </td><td>0  </td><td>0  </td></tr>\n",
       "\t<tr><td>0  </td><td>0  </td><td>0  </td><td>0  </td><td>0  </td><td>0  </td><td>0  </td><td>0  </td><td>0  </td><td>0  </td><td>...</td><td>0  </td><td>0  </td><td>0  </td><td>0  </td><td>0  </td><td>0  </td><td>0  </td><td>0  </td><td>0  </td><td>0  </td></tr>\n",
       "\t<tr><td>0  </td><td>0  </td><td>0  </td><td>0  </td><td>0  </td><td>0  </td><td>0  </td><td>0  </td><td>0  </td><td>0  </td><td>...</td><td>0  </td><td>0  </td><td>0  </td><td>0  </td><td>0  </td><td>0  </td><td>0  </td><td>0  </td><td>0  </td><td>0  </td></tr>\n",
       "\t<tr><td>0  </td><td>0  </td><td>0  </td><td>0  </td><td>0  </td><td>0  </td><td>0  </td><td>0  </td><td>0  </td><td>0  </td><td>...</td><td>0  </td><td>0  </td><td>0  </td><td>0  </td><td>0  </td><td>0  </td><td>0  </td><td>0  </td><td>0  </td><td>0  </td></tr>\n",
       "\t<tr><td>0  </td><td>0  </td><td>0  </td><td>0  </td><td>0  </td><td>0  </td><td>0  </td><td>0  </td><td>0  </td><td>0  </td><td>...</td><td>0  </td><td>0  </td><td>0  </td><td>0  </td><td>0  </td><td>0  </td><td>0  </td><td>0  </td><td>0  </td><td>0  </td></tr>\n",
       "\t<tr><td>0  </td><td>0  </td><td>0  </td><td>0  </td><td>0  </td><td>0  </td><td>0  </td><td>0  </td><td>0  </td><td>0  </td><td>...</td><td>0  </td><td>0  </td><td>0  </td><td>0  </td><td>0  </td><td>0  </td><td>0  </td><td>0  </td><td>0  </td><td>0  </td></tr>\n",
       "</tbody>\n",
       "</table>\n"
      ],
      "text/latex": [
       "\\begin{tabular}{r|lllllllllllllllllllllllllllllllllllllllllllllllllllllllllllllllllllllllllllllllllllllllllllllllllllllllllllllllllllllllllllllllllllllllllllllllllllllllllllllllllllllllllllllllllllllllllllllllllllllllllllllllllllllllllllllllllllllllllllllllllllllllllllllllllllllllllllllllllllllllllllllllllllllllllllllllllllllllllllllllllllllllllllllllllllllllllllllllllllllllllllllllllllllllllllllllllllllllllllllllllllllllllllllllllllllllllllllllllllllllllllllllllllllllllllllllllllllllllllllllllllllllllllllllllllllllllllllllllllllllllllllllllllllllllllllllllllllllllllllllllllllllllllllllllllllllllllllllllllllllllllllllllllllllllllllllllllllllllllllllllllllllllllllllllllllllllllllll}\n",
       " X30 & X31 & X32 & X33 & X34 & X35 & X36 & X37 & X38 & X39 & ... & X691 & X692 & X693 & X694 & X695 & X696 & X697 & X698 & X699 & X700\\\\\n",
       "\\hline\n",
       "\t 0   & 0   & 0   & 0   & 0   & 0   & 0   & 0   & 0   & 0   & ... & 0   & 0   & 0   & 0   & 0   & 0   & 0   & 0   & 0   & 0  \\\\\n",
       "\t 0   & 0   & 0   & 0   & 0   & 0   & 0   & 0   & 0   & 0   & ... & 0   & 0   & 0   & 0   & 0   & 0   & 0   & 0   & 0   & 0  \\\\\n",
       "\t 0   & 0   & 0   & 0   & 0   & 0   & 0   & 0   & 0   & 0   & ... & 0   & 0   & 0   & 0   & 0   & 0   & 0   & 0   & 0   & 0  \\\\\n",
       "\t 0   & 0   & 0   & 0   & 0   & 0   & 0   & 0   & 0   & 0   & ... & 0   & 0   & 0   & 0   & 0   & 0   & 0   & 0   & 0   & 0  \\\\\n",
       "\t 0   & 0   & 0   & 0   & 0   & 0   & 0   & 0   & 0   & 0   & ... & 0   & 0   & 0   & 0   & 0   & 0   & 0   & 0   & 0   & 0  \\\\\n",
       "\t 0   & 0   & 0   & 0   & 0   & 0   & 0   & 0   & 0   & 0   & ... & 0   & 0   & 0   & 0   & 0   & 0   & 0   & 0   & 0   & 0  \\\\\n",
       "\\end{tabular}\n"
      ],
      "text/markdown": [
       "\n",
       "| X30 | X31 | X32 | X33 | X34 | X35 | X36 | X37 | X38 | X39 | ... | X691 | X692 | X693 | X694 | X695 | X696 | X697 | X698 | X699 | X700 |\n",
       "|---|---|---|---|---|---|---|---|---|---|---|---|---|---|---|---|---|---|---|---|---|\n",
       "| 0   | 0   | 0   | 0   | 0   | 0   | 0   | 0   | 0   | 0   | ... | 0   | 0   | 0   | 0   | 0   | 0   | 0   | 0   | 0   | 0   |\n",
       "| 0   | 0   | 0   | 0   | 0   | 0   | 0   | 0   | 0   | 0   | ... | 0   | 0   | 0   | 0   | 0   | 0   | 0   | 0   | 0   | 0   |\n",
       "| 0   | 0   | 0   | 0   | 0   | 0   | 0   | 0   | 0   | 0   | ... | 0   | 0   | 0   | 0   | 0   | 0   | 0   | 0   | 0   | 0   |\n",
       "| 0   | 0   | 0   | 0   | 0   | 0   | 0   | 0   | 0   | 0   | ... | 0   | 0   | 0   | 0   | 0   | 0   | 0   | 0   | 0   | 0   |\n",
       "| 0   | 0   | 0   | 0   | 0   | 0   | 0   | 0   | 0   | 0   | ... | 0   | 0   | 0   | 0   | 0   | 0   | 0   | 0   | 0   | 0   |\n",
       "| 0   | 0   | 0   | 0   | 0   | 0   | 0   | 0   | 0   | 0   | ... | 0   | 0   | 0   | 0   | 0   | 0   | 0   | 0   | 0   | 0   |\n",
       "\n"
      ],
      "text/plain": [
       "  X30 X31 X32 X33 X34 X35 X36 X37 X38 X39 ... X691 X692 X693 X694 X695 X696\n",
       "1 0   0   0   0   0   0   0   0   0   0   ... 0    0    0    0    0    0   \n",
       "2 0   0   0   0   0   0   0   0   0   0   ... 0    0    0    0    0    0   \n",
       "3 0   0   0   0   0   0   0   0   0   0   ... 0    0    0    0    0    0   \n",
       "4 0   0   0   0   0   0   0   0   0   0   ... 0    0    0    0    0    0   \n",
       "5 0   0   0   0   0   0   0   0   0   0   ... 0    0    0    0    0    0   \n",
       "6 0   0   0   0   0   0   0   0   0   0   ... 0    0    0    0    0    0   \n",
       "  X697 X698 X699 X700\n",
       "1 0    0    0    0   \n",
       "2 0    0    0    0   \n",
       "3 0    0    0    0   \n",
       "4 0    0    0    0   \n",
       "5 0    0    0    0   \n",
       "6 0    0    0    0   "
      ]
     },
     "metadata": {},
     "output_type": "display_data"
    }
   ],
   "source": [
    "head(sum_control_ATAC_bin_rm)"
   ]
  },
  {
   "cell_type": "code",
   "execution_count": null,
   "id": "7eab87f3-d3e2-4d30-99cb-329c7def7a33",
   "metadata": {},
   "outputs": [],
   "source": [
    "sum_control_ATAC_bin_rm_sliding_mean <- matrix(ncol = 671, nrow = 0)\n",
    "\n",
    "for (row in 1:nrow(sum_control_ATAC_bin_rm)){\n",
    "    row_cur <- sum_control_ATAC_bin_rm[row, ]\n",
    "    row_cur <- as.vector(t(row_cur))\n",
    "    roll_m <- slide_dbl(row_cur, mean, .before = 5, .after = 5)\n",
    "    sum_control_ATAC_bin_rm_sliding_mean <- rbind(sum_control_ATAC_bin_rm_sliding_mean, roll_m)\n",
    "}\n",
    "sum_control_ATAC_bin_rm_sliding_mean <- as.data.frame(sum_control_ATAC_bin_rm_sliding_mean, index = FALSE)\n",
    "colnames(sum_control_ATAC_bin_rm_sliding_mean) <- colnames(sum_control_ATAC_bin_rm)\n",
    "rownames(sum_control_ATAC_bin_rm_sliding_mean) <- NULL\n",
    "\n",
    "head(sum_control_ATAC_bin_rm_sliding_mean)\n"
   ]
  },
  {
   "cell_type": "code",
   "execution_count": null,
   "id": "50092bfb-1da6-4c88-8adc-43b27c47a3e9",
   "metadata": {},
   "outputs": [],
   "source": [
    "ATAC <- ATAC_val %>% select(ATAC_val)"
   ]
  },
  {
   "cell_type": "code",
   "execution_count": 15,
   "id": "b4fbd504-5d78-4be4-b4b5-8c1906389dab",
   "metadata": {},
   "outputs": [
    {
     "data": {
      "text/html": [
       "<table>\n",
       "<thead><tr><th scope=col>X30</th><th scope=col>X31</th><th scope=col>X32</th><th scope=col>X33</th><th scope=col>X34</th><th scope=col>X35</th><th scope=col>X36</th><th scope=col>X37</th><th scope=col>X38</th><th scope=col>X39</th><th scope=col>...</th><th scope=col>X692</th><th scope=col>X693</th><th scope=col>X694</th><th scope=col>X695</th><th scope=col>X696</th><th scope=col>X697</th><th scope=col>X698</th><th scope=col>X699</th><th scope=col>X700</th><th scope=col>ATAC_val</th></tr></thead>\n",
       "<tbody>\n",
       "\t<tr><td>1.449941e-06</td><td>1.491368e-06</td><td>1.522438e-06</td><td>1.353278e-06</td><td>1.478940e-06</td><td>1.423579e-06</td><td>1.581754e-06</td><td>1.581754e-06</td><td>1.502666e-06</td><td>1.581754e-06</td><td>...         </td><td>0.000000e+00</td><td>0.000000e+00</td><td>0.000000e+00</td><td>0.000000e+00</td><td>0.000000e+00</td><td>0.000000e+00</td><td>0.000000e+00</td><td>0.000000e+00</td><td>0.000000e+00</td><td>0.5931657   </td></tr>\n",
       "\t<tr><td>8.313727e-07</td><td>8.313727e-07</td><td>1.454902e-06</td><td>1.662745e-06</td><td>1.829020e-06</td><td>2.040642e-06</td><td>2.116221e-06</td><td>2.342959e-06</td><td>2.494118e-06</td><td>2.645277e-06</td><td>...         </td><td>0.000000e+00</td><td>0.000000e+00</td><td>0.000000e+00</td><td>0.000000e+00</td><td>0.000000e+00</td><td>0.000000e+00</td><td>0.000000e+00</td><td>0.000000e+00</td><td>0.000000e+00</td><td>0.4089315   </td></tr>\n",
       "\t<tr><td>7.254811e-07</td><td>9.949456e-07</td><td>1.305866e-06</td><td>1.160770e-06</td><td>1.131751e-06</td><td>1.028864e-06</td><td>1.028864e-06</td><td>9.497208e-07</td><td>1.108008e-06</td><td>1.108008e-06</td><td>...         </td><td>0.000000e+00</td><td>0.000000e+00</td><td>0.000000e+00</td><td>7.914340e-08</td><td>8.705774e-08</td><td>9.673082e-08</td><td>1.088222e-07</td><td>1.243682e-07</td><td>1.450962e-07</td><td>0.3058228   </td></tr>\n",
       "\t<tr><td>8.503423e-07</td><td>8.503423e-07</td><td>7.440495e-07</td><td>7.558598e-07</td><td>7.653081e-07</td><td>7.730385e-07</td><td>8.503423e-07</td><td>8.503423e-07</td><td>9.276462e-07</td><td>8.503423e-07</td><td>...         </td><td>0.000000e+00</td><td>0.000000e+00</td><td>0.000000e+00</td><td>0.000000e+00</td><td>0.000000e+00</td><td>0.000000e+00</td><td>0.000000e+00</td><td>0.000000e+00</td><td>0.000000e+00</td><td>0.4764137   </td></tr>\n",
       "\t<tr><td>3.138859e-07</td><td>4.035676e-07</td><td>3.531216e-07</td><td>6.277718e-07</td><td>5.649946e-07</td><td>7.704472e-07</td><td>8.560525e-07</td><td>1.198473e-06</td><td>1.369684e-06</td><td>1.455289e-06</td><td>...         </td><td>8.560525e-08</td><td>8.560525e-08</td><td>8.560525e-08</td><td>8.560525e-08</td><td>0.000000e+00</td><td>0.000000e+00</td><td>0.000000e+00</td><td>0.000000e+00</td><td>0.000000e+00</td><td>0.2862775   </td></tr>\n",
       "\t<tr><td>1.266337e-06</td><td>1.206035e-06</td><td>1.055281e-06</td><td>1.219435e-06</td><td>1.097492e-06</td><td>1.151215e-06</td><td>1.151215e-06</td><td>1.151215e-06</td><td>1.227963e-06</td><td>9.977199e-07</td><td>...         </td><td>0.000000e+00</td><td>0.000000e+00</td><td>0.000000e+00</td><td>0.000000e+00</td><td>0.000000e+00</td><td>0.000000e+00</td><td>0.000000e+00</td><td>0.000000e+00</td><td>0.000000e+00</td><td>0.3169988   </td></tr>\n",
       "</tbody>\n",
       "</table>\n"
      ],
      "text/latex": [
       "\\begin{tabular}{r|llllllllllllllllllllllllllllllllllllllllllllllllllllllllllllllllllllllllllllllllllllllllllllllllllllllllllllllllllllllllllllllllllllllllllllllllllllllllllllllllllllllllllllllllllllllllllllllllllllllllllllllllllllllllllllllllllllllllllllllllllllllllllllllllllllllllllllllllllllllllllllllllllllllllllllllllllllllllllllllllllllllllllllllllllllllllllllllllllllllllllllllllllllllllllllllllllllllllllllllllllllllllllllllllllllllllllllllllllllllllllllllllllllllllllllllllllllllllllllllllllllllllllllllllllllllllllllllllllllllllllllllllllllllllllllllllllllllllllllllllllllllllllllllllllllllllllllllllllllllllllllllllllllllllllllllllllllllllllllllllllllllllllllllllllllllllllllllll}\n",
       " X30 & X31 & X32 & X33 & X34 & X35 & X36 & X37 & X38 & X39 & ... & X692 & X693 & X694 & X695 & X696 & X697 & X698 & X699 & X700 & ATAC\\_val\\\\\n",
       "\\hline\n",
       "\t 1.449941e-06 & 1.491368e-06 & 1.522438e-06 & 1.353278e-06 & 1.478940e-06 & 1.423579e-06 & 1.581754e-06 & 1.581754e-06 & 1.502666e-06 & 1.581754e-06 & ...          & 0.000000e+00 & 0.000000e+00 & 0.000000e+00 & 0.000000e+00 & 0.000000e+00 & 0.000000e+00 & 0.000000e+00 & 0.000000e+00 & 0.000000e+00 & 0.5931657   \\\\\n",
       "\t 8.313727e-07 & 8.313727e-07 & 1.454902e-06 & 1.662745e-06 & 1.829020e-06 & 2.040642e-06 & 2.116221e-06 & 2.342959e-06 & 2.494118e-06 & 2.645277e-06 & ...          & 0.000000e+00 & 0.000000e+00 & 0.000000e+00 & 0.000000e+00 & 0.000000e+00 & 0.000000e+00 & 0.000000e+00 & 0.000000e+00 & 0.000000e+00 & 0.4089315   \\\\\n",
       "\t 7.254811e-07 & 9.949456e-07 & 1.305866e-06 & 1.160770e-06 & 1.131751e-06 & 1.028864e-06 & 1.028864e-06 & 9.497208e-07 & 1.108008e-06 & 1.108008e-06 & ...          & 0.000000e+00 & 0.000000e+00 & 0.000000e+00 & 7.914340e-08 & 8.705774e-08 & 9.673082e-08 & 1.088222e-07 & 1.243682e-07 & 1.450962e-07 & 0.3058228   \\\\\n",
       "\t 8.503423e-07 & 8.503423e-07 & 7.440495e-07 & 7.558598e-07 & 7.653081e-07 & 7.730385e-07 & 8.503423e-07 & 8.503423e-07 & 9.276462e-07 & 8.503423e-07 & ...          & 0.000000e+00 & 0.000000e+00 & 0.000000e+00 & 0.000000e+00 & 0.000000e+00 & 0.000000e+00 & 0.000000e+00 & 0.000000e+00 & 0.000000e+00 & 0.4764137   \\\\\n",
       "\t 3.138859e-07 & 4.035676e-07 & 3.531216e-07 & 6.277718e-07 & 5.649946e-07 & 7.704472e-07 & 8.560525e-07 & 1.198473e-06 & 1.369684e-06 & 1.455289e-06 & ...          & 8.560525e-08 & 8.560525e-08 & 8.560525e-08 & 8.560525e-08 & 0.000000e+00 & 0.000000e+00 & 0.000000e+00 & 0.000000e+00 & 0.000000e+00 & 0.2862775   \\\\\n",
       "\t 1.266337e-06 & 1.206035e-06 & 1.055281e-06 & 1.219435e-06 & 1.097492e-06 & 1.151215e-06 & 1.151215e-06 & 1.151215e-06 & 1.227963e-06 & 9.977199e-07 & ...          & 0.000000e+00 & 0.000000e+00 & 0.000000e+00 & 0.000000e+00 & 0.000000e+00 & 0.000000e+00 & 0.000000e+00 & 0.000000e+00 & 0.000000e+00 & 0.3169988   \\\\\n",
       "\\end{tabular}\n"
      ],
      "text/markdown": [
       "\n",
       "| X30 | X31 | X32 | X33 | X34 | X35 | X36 | X37 | X38 | X39 | ... | X692 | X693 | X694 | X695 | X696 | X697 | X698 | X699 | X700 | ATAC_val |\n",
       "|---|---|---|---|---|---|---|---|---|---|---|---|---|---|---|---|---|---|---|---|---|\n",
       "| 1.449941e-06 | 1.491368e-06 | 1.522438e-06 | 1.353278e-06 | 1.478940e-06 | 1.423579e-06 | 1.581754e-06 | 1.581754e-06 | 1.502666e-06 | 1.581754e-06 | ...          | 0.000000e+00 | 0.000000e+00 | 0.000000e+00 | 0.000000e+00 | 0.000000e+00 | 0.000000e+00 | 0.000000e+00 | 0.000000e+00 | 0.000000e+00 | 0.5931657    |\n",
       "| 8.313727e-07 | 8.313727e-07 | 1.454902e-06 | 1.662745e-06 | 1.829020e-06 | 2.040642e-06 | 2.116221e-06 | 2.342959e-06 | 2.494118e-06 | 2.645277e-06 | ...          | 0.000000e+00 | 0.000000e+00 | 0.000000e+00 | 0.000000e+00 | 0.000000e+00 | 0.000000e+00 | 0.000000e+00 | 0.000000e+00 | 0.000000e+00 | 0.4089315    |\n",
       "| 7.254811e-07 | 9.949456e-07 | 1.305866e-06 | 1.160770e-06 | 1.131751e-06 | 1.028864e-06 | 1.028864e-06 | 9.497208e-07 | 1.108008e-06 | 1.108008e-06 | ...          | 0.000000e+00 | 0.000000e+00 | 0.000000e+00 | 7.914340e-08 | 8.705774e-08 | 9.673082e-08 | 1.088222e-07 | 1.243682e-07 | 1.450962e-07 | 0.3058228    |\n",
       "| 8.503423e-07 | 8.503423e-07 | 7.440495e-07 | 7.558598e-07 | 7.653081e-07 | 7.730385e-07 | 8.503423e-07 | 8.503423e-07 | 9.276462e-07 | 8.503423e-07 | ...          | 0.000000e+00 | 0.000000e+00 | 0.000000e+00 | 0.000000e+00 | 0.000000e+00 | 0.000000e+00 | 0.000000e+00 | 0.000000e+00 | 0.000000e+00 | 0.4764137    |\n",
       "| 3.138859e-07 | 4.035676e-07 | 3.531216e-07 | 6.277718e-07 | 5.649946e-07 | 7.704472e-07 | 8.560525e-07 | 1.198473e-06 | 1.369684e-06 | 1.455289e-06 | ...          | 8.560525e-08 | 8.560525e-08 | 8.560525e-08 | 8.560525e-08 | 0.000000e+00 | 0.000000e+00 | 0.000000e+00 | 0.000000e+00 | 0.000000e+00 | 0.2862775    |\n",
       "| 1.266337e-06 | 1.206035e-06 | 1.055281e-06 | 1.219435e-06 | 1.097492e-06 | 1.151215e-06 | 1.151215e-06 | 1.151215e-06 | 1.227963e-06 | 9.977199e-07 | ...          | 0.000000e+00 | 0.000000e+00 | 0.000000e+00 | 0.000000e+00 | 0.000000e+00 | 0.000000e+00 | 0.000000e+00 | 0.000000e+00 | 0.000000e+00 | 0.3169988    |\n",
       "\n"
      ],
      "text/plain": [
       "  X30          X31          X32          X33          X34          X35         \n",
       "1 1.449941e-06 1.491368e-06 1.522438e-06 1.353278e-06 1.478940e-06 1.423579e-06\n",
       "2 8.313727e-07 8.313727e-07 1.454902e-06 1.662745e-06 1.829020e-06 2.040642e-06\n",
       "3 7.254811e-07 9.949456e-07 1.305866e-06 1.160770e-06 1.131751e-06 1.028864e-06\n",
       "4 8.503423e-07 8.503423e-07 7.440495e-07 7.558598e-07 7.653081e-07 7.730385e-07\n",
       "5 3.138859e-07 4.035676e-07 3.531216e-07 6.277718e-07 5.649946e-07 7.704472e-07\n",
       "6 1.266337e-06 1.206035e-06 1.055281e-06 1.219435e-06 1.097492e-06 1.151215e-06\n",
       "  X36          X37          X38          X39          ... X692        \n",
       "1 1.581754e-06 1.581754e-06 1.502666e-06 1.581754e-06 ... 0.000000e+00\n",
       "2 2.116221e-06 2.342959e-06 2.494118e-06 2.645277e-06 ... 0.000000e+00\n",
       "3 1.028864e-06 9.497208e-07 1.108008e-06 1.108008e-06 ... 0.000000e+00\n",
       "4 8.503423e-07 8.503423e-07 9.276462e-07 8.503423e-07 ... 0.000000e+00\n",
       "5 8.560525e-07 1.198473e-06 1.369684e-06 1.455289e-06 ... 8.560525e-08\n",
       "6 1.151215e-06 1.151215e-06 1.227963e-06 9.977199e-07 ... 0.000000e+00\n",
       "  X693         X694         X695         X696         X697         X698        \n",
       "1 0.000000e+00 0.000000e+00 0.000000e+00 0.000000e+00 0.000000e+00 0.000000e+00\n",
       "2 0.000000e+00 0.000000e+00 0.000000e+00 0.000000e+00 0.000000e+00 0.000000e+00\n",
       "3 0.000000e+00 0.000000e+00 7.914340e-08 8.705774e-08 9.673082e-08 1.088222e-07\n",
       "4 0.000000e+00 0.000000e+00 0.000000e+00 0.000000e+00 0.000000e+00 0.000000e+00\n",
       "5 8.560525e-08 8.560525e-08 8.560525e-08 0.000000e+00 0.000000e+00 0.000000e+00\n",
       "6 0.000000e+00 0.000000e+00 0.000000e+00 0.000000e+00 0.000000e+00 0.000000e+00\n",
       "  X699         X700         ATAC_val \n",
       "1 0.000000e+00 0.000000e+00 0.5931657\n",
       "2 0.000000e+00 0.000000e+00 0.4089315\n",
       "3 1.243682e-07 1.450962e-07 0.3058228\n",
       "4 0.000000e+00 0.000000e+00 0.4764137\n",
       "5 0.000000e+00 0.000000e+00 0.2862775\n",
       "6 0.000000e+00 0.000000e+00 0.3169988"
      ]
     },
     "metadata": {},
     "output_type": "display_data"
    }
   ],
   "source": [
    "data <- cbind(sum_control_ATAC_bin_rm_sliding_mean, ATAC)\n",
    "head(data)"
   ]
  },
  {
   "cell_type": "code",
   "execution_count": 16,
   "id": "c66ef3bb-5726-49c1-a7f7-467be0c971ea",
   "metadata": {},
   "outputs": [],
   "source": [
    "write.csv(data, \"../data/cases_controls/all_samples_normalized_sliding_mean_CONTROLS.csv\",  row.names = FALSE)"
   ]
  },
  {
   "cell_type": "code",
   "execution_count": 21,
   "id": "e193ccd9-66ef-43a3-ad20-f51e282e5cd3",
   "metadata": {},
   "outputs": [],
   "source": [
    "saveRDS(data, file = \"../data/cases_controls/cases_controls_rds_format/all_samples_normalized_sliding_mean_CONTROLS.rds\")"
   ]
  },
  {
   "cell_type": "code",
   "execution_count": null,
   "id": "2052ab71-59c6-4a51-9ff6-8eae231c1546",
   "metadata": {},
   "outputs": [],
   "source": []
  }
 ],
 "metadata": {
  "kernelspec": {
   "display_name": "R",
   "language": "R",
   "name": "ir"
  },
  "language_info": {
   "codemirror_mode": "r",
   "file_extension": ".r",
   "mimetype": "text/x-r-source",
   "name": "R",
   "pygments_lexer": "r",
   "version": "3.6.1"
  }
 },
 "nbformat": 4,
 "nbformat_minor": 5
}
