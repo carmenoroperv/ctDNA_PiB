{
 "cells": [
  {
   "cell_type": "code",
   "execution_count": 3,
   "id": "effe65a3-5ed4-4d57-b2a3-a02ee45c97d7",
   "metadata": {},
   "outputs": [],
   "source": [
    "library(tidyverse)"
   ]
  },
  {
   "cell_type": "code",
   "execution_count": 4,
   "id": "a501ea03-e0b9-4cd2-9836-addcd660eda8",
   "metadata": {},
   "outputs": [
    {
     "data": {
      "text/html": [
       "<table>\n",
       "<thead><tr><th scope=col>chr</th><th scope=col>start</th><th scope=col>end</th><th scope=col>bin_number</th><th scope=col>bin_id</th><th scope=col>methylation</th><th scope=col>n_meth_values_in_bin</th><th scope=col>n_na_meth_values_in_bin</th></tr></thead>\n",
       "<tbody>\n",
       "\t<tr><td>chr1    </td><td> 750000 </td><td>1000000 </td><td>3       </td><td>chr1_3  </td><td>48.69058</td><td>11554   </td><td>0       </td></tr>\n",
       "\t<tr><td>chr1    </td><td>1000000 </td><td>1250000 </td><td>4       </td><td>chr1_4  </td><td>55.44770</td><td>20073   </td><td>0       </td></tr>\n",
       "\t<tr><td>chr1    </td><td>1250000 </td><td>1500000 </td><td>5       </td><td>chr1_5  </td><td>63.11780</td><td>18631   </td><td>0       </td></tr>\n",
       "\t<tr><td>chr1    </td><td>1750000 </td><td>2000000 </td><td>7       </td><td>chr1_7  </td><td>62.01188</td><td>13403   </td><td>0       </td></tr>\n",
       "\t<tr><td>chr1    </td><td>2000000 </td><td>2250000 </td><td>8       </td><td>chr1_8  </td><td>60.11379</td><td>16934   </td><td>0       </td></tr>\n",
       "\t<tr><td>chr1    </td><td>2250000 </td><td>2500000 </td><td>9       </td><td>chr1_9  </td><td>57.19907</td><td>16015   </td><td>0       </td></tr>\n",
       "</tbody>\n",
       "</table>\n"
      ],
      "text/latex": [
       "\\begin{tabular}{r|llllllll}\n",
       " chr & start & end & bin\\_number & bin\\_id & methylation & n\\_meth\\_values\\_in\\_bin & n\\_na\\_meth\\_values\\_in\\_bin\\\\\n",
       "\\hline\n",
       "\t chr1     &  750000  & 1000000  & 3        & chr1\\_3 & 48.69058 & 11554    & 0       \\\\\n",
       "\t chr1     & 1000000  & 1250000  & 4        & chr1\\_4 & 55.44770 & 20073    & 0       \\\\\n",
       "\t chr1     & 1250000  & 1500000  & 5        & chr1\\_5 & 63.11780 & 18631    & 0       \\\\\n",
       "\t chr1     & 1750000  & 2000000  & 7        & chr1\\_7 & 62.01188 & 13403    & 0       \\\\\n",
       "\t chr1     & 2000000  & 2250000  & 8        & chr1\\_8 & 60.11379 & 16934    & 0       \\\\\n",
       "\t chr1     & 2250000  & 2500000  & 9        & chr1\\_9 & 57.19907 & 16015    & 0       \\\\\n",
       "\\end{tabular}\n"
      ],
      "text/markdown": [
       "\n",
       "| chr | start | end | bin_number | bin_id | methylation | n_meth_values_in_bin | n_na_meth_values_in_bin |\n",
       "|---|---|---|---|---|---|---|---|\n",
       "| chr1     |  750000  | 1000000  | 3        | chr1_3   | 48.69058 | 11554    | 0        |\n",
       "| chr1     | 1000000  | 1250000  | 4        | chr1_4   | 55.44770 | 20073    | 0        |\n",
       "| chr1     | 1250000  | 1500000  | 5        | chr1_5   | 63.11780 | 18631    | 0        |\n",
       "| chr1     | 1750000  | 2000000  | 7        | chr1_7   | 62.01188 | 13403    | 0        |\n",
       "| chr1     | 2000000  | 2250000  | 8        | chr1_8   | 60.11379 | 16934    | 0        |\n",
       "| chr1     | 2250000  | 2500000  | 9        | chr1_9   | 57.19907 | 16015    | 0        |\n",
       "\n"
      ],
      "text/plain": [
       "  chr  start   end     bin_number bin_id methylation n_meth_values_in_bin\n",
       "1 chr1  750000 1000000 3          chr1_3 48.69058    11554               \n",
       "2 chr1 1000000 1250000 4          chr1_4 55.44770    20073               \n",
       "3 chr1 1250000 1500000 5          chr1_5 63.11780    18631               \n",
       "4 chr1 1750000 2000000 7          chr1_7 62.01188    13403               \n",
       "5 chr1 2000000 2250000 8          chr1_8 60.11379    16934               \n",
       "6 chr1 2250000 2500000 9          chr1_9 57.19907    16015               \n",
       "  n_na_meth_values_in_bin\n",
       "1 0                      \n",
       "2 0                      \n",
       "3 0                      \n",
       "4 0                      \n",
       "5 0                      \n",
       "6 0                      "
      ]
     },
     "metadata": {},
     "output_type": "display_data"
    }
   ],
   "source": [
    "meth_df <- readRDS('../data/methylation/Methylation_files_with_counts/mean_methylation_with_counts_NAs_removed_with_binID.rds')\n",
    "head(meth_df)"
   ]
  },
  {
   "cell_type": "code",
   "execution_count": 22,
   "id": "3de6764c-97f5-4981-b7d9-42155f87fd6b",
   "metadata": {},
   "outputs": [
    {
     "data": {
      "text/html": [
       "<ol class=list-inline>\n",
       "\t<li>10269</li>\n",
       "\t<li>8</li>\n",
       "</ol>\n"
      ],
      "text/latex": [
       "\\begin{enumerate*}\n",
       "\\item 10269\n",
       "\\item 8\n",
       "\\end{enumerate*}\n"
      ],
      "text/markdown": [
       "1. 10269\n",
       "2. 8\n",
       "\n",
       "\n"
      ],
      "text/plain": [
       "[1] 10269     8"
      ]
     },
     "metadata": {},
     "output_type": "display_data"
    }
   ],
   "source": [
    "dim(meth_df)"
   ]
  },
  {
   "cell_type": "code",
   "execution_count": 5,
   "id": "60a9abb8-95d7-42fb-a138-0c3d7c6a4b57",
   "metadata": {},
   "outputs": [
    {
     "data": {
      "text/html": [
       "0"
      ],
      "text/latex": [
       "0"
      ],
      "text/markdown": [
       "0"
      ],
      "text/plain": [
       "[1] 0"
      ]
     },
     "metadata": {},
     "output_type": "display_data"
    }
   ],
   "source": [
    "# check the sum of NA values of all windows\n",
    "\n",
    "sum(meth_df$n_na_meth_values_in_bin)"
   ]
  },
  {
   "cell_type": "code",
   "execution_count": 21,
   "id": "9886053c-2089-426b-934b-d455ba400989",
   "metadata": {},
   "outputs": [
    {
     "data": {
      "image/png": "[encoded data removed]",
      "text/plain": [
       "plot without title"
      ]
     },
     "metadata": {},
     "output_type": "display_data"
    }
   ],
   "source": [
    "# plot the histogram of number of methylation values in the windows\n",
    "\n",
    "ggplot(meth_df) + geom_histogram(aes(x = n_meth_values_in_bin), bins = 100, fill = \"lightgrey\", color = \"black\") + \n",
    "    scale_x_continuous(breaks = seq(0, 22500, by = 2000)) + geom_vline(aes(xintercept = 2400), color = \"firebrick\")"
   ]
  },
  {
   "cell_type": "code",
   "execution_count": 23,
   "id": "45c3d93e-032a-4554-bd1e-dde27976e8b5",
   "metadata": {},
   "outputs": [
    {
     "data": {
      "text/html": [
       "<table>\n",
       "<thead><tr><th scope=col>n</th></tr></thead>\n",
       "<tbody>\n",
       "\t<tr><td>46</td></tr>\n",
       "</tbody>\n",
       "</table>\n"
      ],
      "text/latex": [
       "\\begin{tabular}{r|l}\n",
       " n\\\\\n",
       "\\hline\n",
       "\t 46\\\\\n",
       "\\end{tabular}\n"
      ],
      "text/markdown": [
       "\n",
       "| n |\n",
       "|---|\n",
       "| 46 |\n",
       "\n"
      ],
      "text/plain": [
       "  n \n",
       "1 46"
      ]
     },
     "metadata": {},
     "output_type": "display_data"
    },
    {
     "data": {
      "text/html": [
       "<table>\n",
       "<thead><tr><th scope=col>n</th></tr></thead>\n",
       "<tbody>\n",
       "\t<tr><td>62</td></tr>\n",
       "</tbody>\n",
       "</table>\n"
      ],
      "text/latex": [
       "\\begin{tabular}{r|l}\n",
       " n\\\\\n",
       "\\hline\n",
       "\t 62\\\\\n",
       "\\end{tabular}\n"
      ],
      "text/markdown": [
       "\n",
       "| n |\n",
       "|---|\n",
       "| 62 |\n",
       "\n"
      ],
      "text/plain": [
       "  n \n",
       "1 62"
      ]
     },
     "metadata": {},
     "output_type": "display_data"
    },
    {
     "data": {
      "text/html": [
       "<table>\n",
       "<thead><tr><th scope=col>n</th></tr></thead>\n",
       "<tbody>\n",
       "\t<tr><td>107</td></tr>\n",
       "</tbody>\n",
       "</table>\n"
      ],
      "text/latex": [
       "\\begin{tabular}{r|l}\n",
       " n\\\\\n",
       "\\hline\n",
       "\t 107\\\\\n",
       "\\end{tabular}\n"
      ],
      "text/markdown": [
       "\n",
       "| n |\n",
       "|---|\n",
       "| 107 |\n",
       "\n"
      ],
      "text/plain": [
       "  n  \n",
       "1 107"
      ]
     },
     "metadata": {},
     "output_type": "display_data"
    },
    {
     "data": {
      "text/html": [
       "<table>\n",
       "<thead><tr><th scope=col>n</th></tr></thead>\n",
       "<tbody>\n",
       "\t<tr><td>211</td></tr>\n",
       "</tbody>\n",
       "</table>\n"
      ],
      "text/latex": [
       "\\begin{tabular}{r|l}\n",
       " n\\\\\n",
       "\\hline\n",
       "\t 211\\\\\n",
       "\\end{tabular}\n"
      ],
      "text/markdown": [
       "\n",
       "| n |\n",
       "|---|\n",
       "| 211 |\n",
       "\n"
      ],
      "text/plain": [
       "  n  \n",
       "1 211"
      ]
     },
     "metadata": {},
     "output_type": "display_data"
    },
    {
     "data": {
      "text/html": [
       "<table>\n",
       "<thead><tr><th scope=col>n</th></tr></thead>\n",
       "<tbody>\n",
       "\t<tr><td>427</td></tr>\n",
       "</tbody>\n",
       "</table>\n"
      ],
      "text/latex": [
       "\\begin{tabular}{r|l}\n",
       " n\\\\\n",
       "\\hline\n",
       "\t 427\\\\\n",
       "\\end{tabular}\n"
      ],
      "text/markdown": [
       "\n",
       "| n |\n",
       "|---|\n",
       "| 427 |\n",
       "\n"
      ],
      "text/plain": [
       "  n  \n",
       "1 427"
      ]
     },
     "metadata": {},
     "output_type": "display_data"
    },
    {
     "data": {
      "text/html": [
       "<table>\n",
       "<thead><tr><th scope=col>n</th></tr></thead>\n",
       "<tbody>\n",
       "\t<tr><td>2412</td></tr>\n",
       "</tbody>\n",
       "</table>\n"
      ],
      "text/latex": [
       "\\begin{tabular}{r|l}\n",
       " n\\\\\n",
       "\\hline\n",
       "\t 2412\\\\\n",
       "\\end{tabular}\n"
      ],
      "text/markdown": [
       "\n",
       "| n |\n",
       "|---|\n",
       "| 2412 |\n",
       "\n"
      ],
      "text/plain": [
       "  n   \n",
       "1 2412"
      ]
     },
     "metadata": {},
     "output_type": "display_data"
    },
    {
     "data": {
      "text/html": [
       "2.05472782159899"
      ],
      "text/latex": [
       "2.05472782159899"
      ],
      "text/markdown": [
       "2.05472782159899"
      ],
      "text/plain": [
       "[1] 2.054728"
      ]
     },
     "metadata": {},
     "output_type": "display_data"
    }
   ],
   "source": [
    "meth_df %>% filter(n_meth_values_in_bin < 2000) %>% summarize(n = n())\n",
    "meth_df %>% filter(n_meth_values_in_bin < 2200) %>% summarize(n = n())\n",
    "meth_df %>% filter(n_meth_values_in_bin < 2300) %>% summarize(n = n())\n",
    "meth_df %>% filter(n_meth_values_in_bin < 2400) %>% summarize(n = n())\n",
    "meth_df %>% filter(n_meth_values_in_bin < 2500) %>% summarize(n = n())\n",
    "meth_df %>% filter(n_meth_values_in_bin < 3000) %>% summarize(n = n())\n",
    "\n",
    "211*100/10269"
   ]
  },
  {
   "cell_type": "markdown",
   "id": "f3a52cab-7e17-4416-9cde-851107250285",
   "metadata": {},
   "source": [
    "## Conclusion\n",
    "\n",
    "There are same windows where we have very few methylation values. Therefore, we do not trust the mean methylation value in these windows and we will leave these windows out of the further analyzes. \n",
    "The threshold was set to 2400. This means that all the bins that have less than 2400 methylation values, are not used in further analyzes. With this threshold, we drop 211 bins, which is 2.055% out of the total number of bins."
   ]
  },
  {
   "cell_type": "code",
   "execution_count": 26,
   "id": "08410c3e-6419-428f-a7da-78ca15be9401",
   "metadata": {},
   "outputs": [
    {
     "data": {
      "text/html": [
       "<ol class=list-inline>\n",
       "\t<li>10269</li>\n",
       "\t<li>8</li>\n",
       "</ol>\n"
      ],
      "text/latex": [
       "\\begin{enumerate*}\n",
       "\\item 10269\n",
       "\\item 8\n",
       "\\end{enumerate*}\n"
      ],
      "text/markdown": [
       "1. 10269\n",
       "2. 8\n",
       "\n",
       "\n"
      ],
      "text/plain": [
       "[1] 10269     8"
      ]
     },
     "metadata": {},
     "output_type": "display_data"
    },
    {
     "data": {
      "text/html": [
       "<ol class=list-inline>\n",
       "\t<li>10058</li>\n",
       "\t<li>8</li>\n",
       "</ol>\n"
      ],
      "text/latex": [
       "\\begin{enumerate*}\n",
       "\\item 10058\n",
       "\\item 8\n",
       "\\end{enumerate*}\n"
      ],
      "text/markdown": [
       "1. 10058\n",
       "2. 8\n",
       "\n",
       "\n"
      ],
      "text/plain": [
       "[1] 10058     8"
      ]
     },
     "metadata": {},
     "output_type": "display_data"
    }
   ],
   "source": [
    "dim(meth_df)\n",
    "new_meth_df <- meth_df %>% filter(n_meth_values_in_bin >= 2400)\n",
    "dim(new_meth_df)"
   ]
  },
  {
   "cell_type": "code",
   "execution_count": 28,
   "id": "caac7186-bb17-4771-bc2f-be644c2dcbd9",
   "metadata": {},
   "outputs": [],
   "source": [
    "saveRDS(new_meth_df, file = '../data/methylation/Methylation_files_with_counts/mean_methylation_with_counts_NAs_removed_with_binID_FILTERED.rds')"
   ]
  },
  {
   "cell_type": "code",
   "execution_count": null,
   "id": "eaa8e80b-621c-4088-be1c-8b98d867cfe1",
   "metadata": {},
   "outputs": [],
   "source": []
  }
 ],
 "metadata": {
  "kernelspec": {
   "display_name": "R",
   "language": "R",
   "name": "ir"
  },
  "language_info": {
   "codemirror_mode": "r",
   "file_extension": ".r",
   "mimetype": "text/x-r-source",
   "name": "R",
   "pygments_lexer": "r",
   "version": "3.6.1"
  }
 },
 "nbformat": 4,
 "nbformat_minor": 5
}
