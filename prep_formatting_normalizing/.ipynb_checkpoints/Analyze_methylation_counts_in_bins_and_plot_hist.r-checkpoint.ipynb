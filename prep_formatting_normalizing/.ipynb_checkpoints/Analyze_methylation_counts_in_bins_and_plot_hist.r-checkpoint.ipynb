{
 "cells": [
  {
   "cell_type": "code",
   "execution_count": 1,
   "id": "effe65a3-5ed4-4d57-b2a3-a02ee45c97d7",
   "metadata": {},
   "outputs": [
    {
     "name": "stderr",
     "output_type": "stream",
     "text": [
      "── Attaching packages ─────────────────────────────────────────────────────────────────────────────── tidyverse 1.3.1 ──\n",
      "✔ ggplot2 3.3.5     ✔ purrr   0.3.4\n",
      "✔ tibble  3.1.5     ✔ dplyr   1.0.7\n",
      "✔ tidyr   1.1.4     ✔ stringr 1.4.0\n",
      "✔ readr   2.0.2     ✔ forcats 0.5.1\n",
      "── Conflicts ────────────────────────────────────────────────────────────────────────────────── tidyverse_conflicts() ──\n",
      "✖ dplyr::filter() masks stats::filter()\n",
      "✖ dplyr::lag()    masks stats::lag()\n"
     ]
    }
   ],
   "source": [
    "library(tidyverse)"
   ]
  },
  {
   "cell_type": "code",
   "execution_count": 24,
   "id": "a501ea03-e0b9-4cd2-9836-addcd660eda8",
   "metadata": {},
   "outputs": [
    {
     "data": {
      "text/html": [
       "<table>\n",
       "<thead><tr><th scope=col>chr</th><th scope=col>start</th><th scope=col>end</th><th scope=col>bin_number</th><th scope=col>bin_id</th><th scope=col>methylation</th><th scope=col>n_meth_values_in_bin</th><th scope=col>n_na_meth_values_in_bin</th></tr></thead>\n",
       "<tbody>\n",
       "\t<tr><td>chr1    </td><td> 750000 </td><td>1000000 </td><td>3       </td><td>chr1_3  </td><td>50.85448</td><td>12359   </td><td>0       </td></tr>\n",
       "\t<tr><td>chr1    </td><td>1000000 </td><td>1250000 </td><td>4       </td><td>chr1_4  </td><td>59.94958</td><td>15136   </td><td>0       </td></tr>\n",
       "\t<tr><td>chr1    </td><td>1250000 </td><td>1500000 </td><td>5       </td><td>chr1_5  </td><td>66.37292</td><td>13548   </td><td>0       </td></tr>\n",
       "\t<tr><td>chr1    </td><td>1750000 </td><td>2000000 </td><td>7       </td><td>chr1_7  </td><td>54.63748</td><td>12281   </td><td>0       </td></tr>\n",
       "\t<tr><td>chr1    </td><td>2000000 </td><td>2250000 </td><td>8       </td><td>chr1_8  </td><td>67.25908</td><td>13879   </td><td>0       </td></tr>\n",
       "\t<tr><td>chr1    </td><td>2250000 </td><td>2500000 </td><td>9       </td><td>chr1_9  </td><td>52.50686</td><td>13306   </td><td>0       </td></tr>\n",
       "</tbody>\n",
       "</table>\n"
      ],
      "text/latex": [
       "\\begin{tabular}{r|llllllll}\n",
       " chr & start & end & bin\\_number & bin\\_id & methylation & n\\_meth\\_values\\_in\\_bin & n\\_na\\_meth\\_values\\_in\\_bin\\\\\n",
       "\\hline\n",
       "\t chr1     &  750000  & 1000000  & 3        & chr1\\_3 & 50.85448 & 12359    & 0       \\\\\n",
       "\t chr1     & 1000000  & 1250000  & 4        & chr1\\_4 & 59.94958 & 15136    & 0       \\\\\n",
       "\t chr1     & 1250000  & 1500000  & 5        & chr1\\_5 & 66.37292 & 13548    & 0       \\\\\n",
       "\t chr1     & 1750000  & 2000000  & 7        & chr1\\_7 & 54.63748 & 12281    & 0       \\\\\n",
       "\t chr1     & 2000000  & 2250000  & 8        & chr1\\_8 & 67.25908 & 13879    & 0       \\\\\n",
       "\t chr1     & 2250000  & 2500000  & 9        & chr1\\_9 & 52.50686 & 13306    & 0       \\\\\n",
       "\\end{tabular}\n"
      ],
      "text/markdown": [
       "\n",
       "| chr | start | end | bin_number | bin_id | methylation | n_meth_values_in_bin | n_na_meth_values_in_bin |\n",
       "|---|---|---|---|---|---|---|---|\n",
       "| chr1     |  750000  | 1000000  | 3        | chr1_3   | 50.85448 | 12359    | 0        |\n",
       "| chr1     | 1000000  | 1250000  | 4        | chr1_4   | 59.94958 | 15136    | 0        |\n",
       "| chr1     | 1250000  | 1500000  | 5        | chr1_5   | 66.37292 | 13548    | 0        |\n",
       "| chr1     | 1750000  | 2000000  | 7        | chr1_7   | 54.63748 | 12281    | 0        |\n",
       "| chr1     | 2000000  | 2250000  | 8        | chr1_8   | 67.25908 | 13879    | 0        |\n",
       "| chr1     | 2250000  | 2500000  | 9        | chr1_9   | 52.50686 | 13306    | 0        |\n",
       "\n"
      ],
      "text/plain": [
       "  chr  start   end     bin_number bin_id methylation n_meth_values_in_bin\n",
       "1 chr1  750000 1000000 3          chr1_3 50.85448    12359               \n",
       "2 chr1 1000000 1250000 4          chr1_4 59.94958    15136               \n",
       "3 chr1 1250000 1500000 5          chr1_5 66.37292    13548               \n",
       "4 chr1 1750000 2000000 7          chr1_7 54.63748    12281               \n",
       "5 chr1 2000000 2250000 8          chr1_8 67.25908    13879               \n",
       "6 chr1 2250000 2500000 9          chr1_9 52.50686    13306               \n",
       "  n_na_meth_values_in_bin\n",
       "1 0                      \n",
       "2 0                      \n",
       "3 0                      \n",
       "4 0                      \n",
       "5 0                      \n",
       "6 0                      "
      ]
     },
     "metadata": {},
     "output_type": "display_data"
    }
   ],
   "source": [
    "meth_df <- readRDS('../data/methylation/Methylation_files_with_counts/mean_methylation_with_counts_NAs_removed_with_binID.rds')\n",
    "head(meth_df)"
   ]
  },
  {
   "cell_type": "code",
   "execution_count": 25,
   "id": "3de6764c-97f5-4981-b7d9-42155f87fd6b",
   "metadata": {},
   "outputs": [
    {
     "data": {
      "text/html": [
       "<ol class=list-inline>\n",
       "\t<li>10303</li>\n",
       "\t<li>8</li>\n",
       "</ol>\n"
      ],
      "text/latex": [
       "\\begin{enumerate*}\n",
       "\\item 10303\n",
       "\\item 8\n",
       "\\end{enumerate*}\n"
      ],
      "text/markdown": [
       "1. 10303\n",
       "2. 8\n",
       "\n",
       "\n"
      ],
      "text/plain": [
       "[1] 10303     8"
      ]
     },
     "metadata": {},
     "output_type": "display_data"
    }
   ],
   "source": [
    "dim(meth_df)"
   ]
  },
  {
   "cell_type": "code",
   "execution_count": 26,
   "id": "60a9abb8-95d7-42fb-a138-0c3d7c6a4b57",
   "metadata": {},
   "outputs": [
    {
     "data": {
      "text/html": [
       "0"
      ],
      "text/latex": [
       "0"
      ],
      "text/markdown": [
       "0"
      ],
      "text/plain": [
       "[1] 0"
      ]
     },
     "metadata": {},
     "output_type": "display_data"
    }
   ],
   "source": [
    "# check the sum of NA values of all windows\n",
    "\n",
    "sum(meth_df$n_na_meth_values_in_bin)"
   ]
  },
  {
   "cell_type": "code",
   "execution_count": 29,
   "id": "9886053c-2089-426b-934b-d455ba400989",
   "metadata": {},
   "outputs": [
    {
     "data": {
      "image/png": "[encoded data removed]",
      "text/plain": [
       "plot without title"
      ]
     },
     "metadata": {},
     "output_type": "display_data"
    }
   ],
   "source": [
    "# plot the histogram of number of methylation values in the windows\n",
    "\n",
    "p <- ggplot(meth_df) + geom_histogram(aes(x = n_meth_values_in_bin), bins = 100, fill = \"lightgrey\", color = \"black\") + \n",
    "    scale_x_continuous(breaks = seq(0, 22500, by = 2000)) + geom_vline(aes(xintercept = 2150), color = \"firebrick\") + \n",
    "    theme_minimal() + \n",
    "    xlab(\"\\nNumber of methylation values in window\") + ylab(\"Count\")\n",
    "\n",
    "print(p)"
   ]
  },
  {
   "cell_type": "code",
   "execution_count": 30,
   "id": "42ee92b8-171d-4bbb-921f-28638eb4ffc7",
   "metadata": {},
   "outputs": [
    {
     "data": {
      "text/html": [
       "<strong>png:</strong> 2"
      ],
      "text/latex": [
       "\\textbf{png:} 2"
      ],
      "text/markdown": [
       "**png:** 2"
      ],
      "text/plain": [
       "png \n",
       "  2 "
      ]
     },
     "metadata": {},
     "output_type": "display_data"
    }
   ],
   "source": [
    "png(\"../Plots_for_the_project_report/n_meth_values_in_windows_HISTOGRAM_with_threshold_hg19.png\")\n",
    "print(p)\n",
    "dev.off()"
   ]
  },
  {
   "cell_type": "code",
   "execution_count": 46,
   "id": "45c3d93e-032a-4554-bd1e-dde27976e8b5",
   "metadata": {},
   "outputs": [
    {
     "data": {
      "text/html": [
       "<table>\n",
       "<thead><tr><th scope=col>n</th></tr></thead>\n",
       "<tbody>\n",
       "\t<tr><td>0</td></tr>\n",
       "</tbody>\n",
       "</table>\n"
      ],
      "text/latex": [
       "\\begin{tabular}{r|l}\n",
       " n\\\\\n",
       "\\hline\n",
       "\t 0\\\\\n",
       "\\end{tabular}\n"
      ],
      "text/markdown": [
       "\n",
       "| n |\n",
       "|---|\n",
       "| 0 |\n",
       "\n"
      ],
      "text/plain": [
       "  n\n",
       "1 0"
      ]
     },
     "metadata": {},
     "output_type": "display_data"
    },
    {
     "data": {
      "text/html": [
       "<table>\n",
       "<thead><tr><th scope=col>n</th></tr></thead>\n",
       "<tbody>\n",
       "\t<tr><td>0</td></tr>\n",
       "</tbody>\n",
       "</table>\n"
      ],
      "text/latex": [
       "\\begin{tabular}{r|l}\n",
       " n\\\\\n",
       "\\hline\n",
       "\t 0\\\\\n",
       "\\end{tabular}\n"
      ],
      "text/markdown": [
       "\n",
       "| n |\n",
       "|---|\n",
       "| 0 |\n",
       "\n"
      ],
      "text/plain": [
       "  n\n",
       "1 0"
      ]
     },
     "metadata": {},
     "output_type": "display_data"
    },
    {
     "data": {
      "text/html": [
       "<table>\n",
       "<thead><tr><th scope=col>n</th></tr></thead>\n",
       "<tbody>\n",
       "\t<tr><td>279</td></tr>\n",
       "</tbody>\n",
       "</table>\n"
      ],
      "text/latex": [
       "\\begin{tabular}{r|l}\n",
       " n\\\\\n",
       "\\hline\n",
       "\t 279\\\\\n",
       "\\end{tabular}\n"
      ],
      "text/markdown": [
       "\n",
       "| n |\n",
       "|---|\n",
       "| 279 |\n",
       "\n"
      ],
      "text/plain": [
       "  n  \n",
       "1 279"
      ]
     },
     "metadata": {},
     "output_type": "display_data"
    },
    {
     "data": {
      "text/html": [
       "<table>\n",
       "<thead><tr><th scope=col>n</th></tr></thead>\n",
       "<tbody>\n",
       "\t<tr><td>670</td></tr>\n",
       "</tbody>\n",
       "</table>\n"
      ],
      "text/latex": [
       "\\begin{tabular}{r|l}\n",
       " n\\\\\n",
       "\\hline\n",
       "\t 670\\\\\n",
       "\\end{tabular}\n"
      ],
      "text/markdown": [
       "\n",
       "| n |\n",
       "|---|\n",
       "| 670 |\n",
       "\n"
      ],
      "text/plain": [
       "  n  \n",
       "1 670"
      ]
     },
     "metadata": {},
     "output_type": "display_data"
    },
    {
     "data": {
      "text/html": [
       "<table>\n",
       "<thead><tr><th scope=col>n</th></tr></thead>\n",
       "<tbody>\n",
       "\t<tr><td>1127</td></tr>\n",
       "</tbody>\n",
       "</table>\n"
      ],
      "text/latex": [
       "\\begin{tabular}{r|l}\n",
       " n\\\\\n",
       "\\hline\n",
       "\t 1127\\\\\n",
       "\\end{tabular}\n"
      ],
      "text/markdown": [
       "\n",
       "| n |\n",
       "|---|\n",
       "| 1127 |\n",
       "\n"
      ],
      "text/plain": [
       "  n   \n",
       "1 1127"
      ]
     },
     "metadata": {},
     "output_type": "display_data"
    },
    {
     "data": {
      "text/html": [
       "<table>\n",
       "<thead><tr><th scope=col>n</th></tr></thead>\n",
       "<tbody>\n",
       "\t<tr><td>3305</td></tr>\n",
       "</tbody>\n",
       "</table>\n"
      ],
      "text/latex": [
       "\\begin{tabular}{r|l}\n",
       " n\\\\\n",
       "\\hline\n",
       "\t 3305\\\\\n",
       "\\end{tabular}\n"
      ],
      "text/markdown": [
       "\n",
       "| n |\n",
       "|---|\n",
       "| 3305 |\n",
       "\n"
      ],
      "text/plain": [
       "  n   \n",
       "1 3305"
      ]
     },
     "metadata": {},
     "output_type": "display_data"
    },
    {
     "data": {
      "text/html": [
       "2.76560521959295"
      ],
      "text/latex": [
       "2.76560521959295"
      ],
      "text/markdown": [
       "2.76560521959295"
      ],
      "text/plain": [
       "[1] 2.765605"
      ]
     },
     "metadata": {},
     "output_type": "display_data"
    }
   ],
   "source": [
    "meth_df %>% filter(n_meth_values_in_bin < 2000) %>% summarize(n = n())\n",
    "meth_df %>% filter(n_meth_values_in_bin < 2200) %>% summarize(n = n())\n",
    "meth_df %>% filter(n_meth_values_in_bin < 2300) %>% summarize(n = n())\n",
    "meth_df %>% filter(n_meth_values_in_bin < 2400) %>% summarize(n = n())\n",
    "meth_df %>% filter(n_meth_values_in_bin < 2500) %>% summarize(n = n())\n",
    "meth_df %>% filter(n_meth_values_in_bin < 3000) %>% summarize(n = n())\n",
    "\n",
    "284*100/10269"
   ]
  },
  {
   "cell_type": "markdown",
   "id": "f3a52cab-7e17-4416-9cde-851107250285",
   "metadata": {},
   "source": [
    "## Conclusion\n",
    "\n",
    "There are same windows where we have very few methylation values. Therefore, we do not trust the mean methylation value in these windows and we will leave these windows out of the further analyzes. \n",
    "The threshold was set to 2200. This means that all the bins that have less than 22200 methylation values, are not used in further analyzes. With this threshold, we drop 284 bins, which is 2.765% out of the total number of bins."
   ]
  },
  {
   "cell_type": "code",
   "execution_count": 32,
   "id": "08410c3e-6419-428f-a7da-78ca15be9401",
   "metadata": {},
   "outputs": [
    {
     "data": {
      "text/html": [
       "<ol class=list-inline>\n",
       "\t<li>10303</li>\n",
       "\t<li>8</li>\n",
       "</ol>\n"
      ],
      "text/latex": [
       "\\begin{enumerate*}\n",
       "\\item 10303\n",
       "\\item 8\n",
       "\\end{enumerate*}\n"
      ],
      "text/markdown": [
       "1. 10303\n",
       "2. 8\n",
       "\n",
       "\n"
      ],
      "text/plain": [
       "[1] 10303     8"
      ]
     },
     "metadata": {},
     "output_type": "display_data"
    },
    {
     "data": {
      "text/html": [
       "<ol class=list-inline>\n",
       "\t<li>10019</li>\n",
       "\t<li>8</li>\n",
       "</ol>\n"
      ],
      "text/latex": [
       "\\begin{enumerate*}\n",
       "\\item 10019\n",
       "\\item 8\n",
       "\\end{enumerate*}\n"
      ],
      "text/markdown": [
       "1. 10019\n",
       "2. 8\n",
       "\n",
       "\n"
      ],
      "text/plain": [
       "[1] 10019     8"
      ]
     },
     "metadata": {},
     "output_type": "display_data"
    }
   ],
   "source": [
    "dim(meth_df)\n",
    "new_meth_df <- meth_df %>% filter(n_meth_values_in_bin >= 2200)\n",
    "dim(new_meth_df)"
   ]
  },
  {
   "cell_type": "code",
   "execution_count": 33,
   "id": "caac7186-bb17-4771-bc2f-be644c2dcbd9",
   "metadata": {},
   "outputs": [],
   "source": [
    "saveRDS(new_meth_df, file = '../data/methylation/Methylation_files_with_counts/mean_methylation_with_counts_NAs_removed_with_binID_FILTERED.rds')"
   ]
  },
  {
   "cell_type": "markdown",
   "id": "51bab08d-3b2f-449e-9324-a10716f3b912",
   "metadata": {},
   "source": [
    "## Plotting the histogram"
   ]
  },
  {
   "cell_type": "code",
   "execution_count": 34,
   "id": "37dfb37c-96cb-4600-9234-32b1258c4ae2",
   "metadata": {},
   "outputs": [],
   "source": [
    "meth_df <- readRDS(file = '../data/methylation/Methylation_files_with_counts/mean_methylation_with_counts_NAs_removed_with_binID_FILTERED.rds')"
   ]
  },
  {
   "cell_type": "code",
   "execution_count": 35,
   "id": "b20e0f01-770b-4089-a3f4-157fc904a99a",
   "metadata": {},
   "outputs": [
    {
     "data": {
      "text/html": [
       "<table>\n",
       "<thead><tr><th scope=col>chr</th><th scope=col>start</th><th scope=col>end</th><th scope=col>bin_number</th><th scope=col>bin_id</th><th scope=col>methylation</th><th scope=col>n_meth_values_in_bin</th><th scope=col>n_na_meth_values_in_bin</th></tr></thead>\n",
       "<tbody>\n",
       "\t<tr><td>chr1    </td><td> 750000 </td><td>1000000 </td><td>3       </td><td>chr1_3  </td><td>50.85448</td><td>12359   </td><td>0       </td></tr>\n",
       "\t<tr><td>chr1    </td><td>1000000 </td><td>1250000 </td><td>4       </td><td>chr1_4  </td><td>59.94958</td><td>15136   </td><td>0       </td></tr>\n",
       "\t<tr><td>chr1    </td><td>1250000 </td><td>1500000 </td><td>5       </td><td>chr1_5  </td><td>66.37292</td><td>13548   </td><td>0       </td></tr>\n",
       "\t<tr><td>chr1    </td><td>1750000 </td><td>2000000 </td><td>7       </td><td>chr1_7  </td><td>54.63748</td><td>12281   </td><td>0       </td></tr>\n",
       "\t<tr><td>chr1    </td><td>2000000 </td><td>2250000 </td><td>8       </td><td>chr1_8  </td><td>67.25908</td><td>13879   </td><td>0       </td></tr>\n",
       "\t<tr><td>chr1    </td><td>2250000 </td><td>2500000 </td><td>9       </td><td>chr1_9  </td><td>52.50686</td><td>13306   </td><td>0       </td></tr>\n",
       "</tbody>\n",
       "</table>\n"
      ],
      "text/latex": [
       "\\begin{tabular}{r|llllllll}\n",
       " chr & start & end & bin\\_number & bin\\_id & methylation & n\\_meth\\_values\\_in\\_bin & n\\_na\\_meth\\_values\\_in\\_bin\\\\\n",
       "\\hline\n",
       "\t chr1     &  750000  & 1000000  & 3        & chr1\\_3 & 50.85448 & 12359    & 0       \\\\\n",
       "\t chr1     & 1000000  & 1250000  & 4        & chr1\\_4 & 59.94958 & 15136    & 0       \\\\\n",
       "\t chr1     & 1250000  & 1500000  & 5        & chr1\\_5 & 66.37292 & 13548    & 0       \\\\\n",
       "\t chr1     & 1750000  & 2000000  & 7        & chr1\\_7 & 54.63748 & 12281    & 0       \\\\\n",
       "\t chr1     & 2000000  & 2250000  & 8        & chr1\\_8 & 67.25908 & 13879    & 0       \\\\\n",
       "\t chr1     & 2250000  & 2500000  & 9        & chr1\\_9 & 52.50686 & 13306    & 0       \\\\\n",
       "\\end{tabular}\n"
      ],
      "text/markdown": [
       "\n",
       "| chr | start | end | bin_number | bin_id | methylation | n_meth_values_in_bin | n_na_meth_values_in_bin |\n",
       "|---|---|---|---|---|---|---|---|\n",
       "| chr1     |  750000  | 1000000  | 3        | chr1_3   | 50.85448 | 12359    | 0        |\n",
       "| chr1     | 1000000  | 1250000  | 4        | chr1_4   | 59.94958 | 15136    | 0        |\n",
       "| chr1     | 1250000  | 1500000  | 5        | chr1_5   | 66.37292 | 13548    | 0        |\n",
       "| chr1     | 1750000  | 2000000  | 7        | chr1_7   | 54.63748 | 12281    | 0        |\n",
       "| chr1     | 2000000  | 2250000  | 8        | chr1_8   | 67.25908 | 13879    | 0        |\n",
       "| chr1     | 2250000  | 2500000  | 9        | chr1_9   | 52.50686 | 13306    | 0        |\n",
       "\n"
      ],
      "text/plain": [
       "  chr  start   end     bin_number bin_id methylation n_meth_values_in_bin\n",
       "1 chr1  750000 1000000 3          chr1_3 50.85448    12359               \n",
       "2 chr1 1000000 1250000 4          chr1_4 59.94958    15136               \n",
       "3 chr1 1250000 1500000 5          chr1_5 66.37292    13548               \n",
       "4 chr1 1750000 2000000 7          chr1_7 54.63748    12281               \n",
       "5 chr1 2000000 2250000 8          chr1_8 67.25908    13879               \n",
       "6 chr1 2250000 2500000 9          chr1_9 52.50686    13306               \n",
       "  n_na_meth_values_in_bin\n",
       "1 0                      \n",
       "2 0                      \n",
       "3 0                      \n",
       "4 0                      \n",
       "5 0                      \n",
       "6 0                      "
      ]
     },
     "metadata": {},
     "output_type": "display_data"
    }
   ],
   "source": [
    "head(meth_df)"
   ]
  },
  {
   "cell_type": "code",
   "execution_count": 36,
   "id": "7912f77c-6122-4629-8114-7a1f21e7ae7d",
   "metadata": {},
   "outputs": [
    {
     "name": "stdout",
     "output_type": "stream",
     "text": [
      "tibble [10,019 × 8] (S3: tbl_df/tbl/data.frame)\n",
      " $ chr                    : chr [1:10019] \"chr1\" \"chr1\" \"chr1\" \"chr1\" ...\n",
      " $ start                  : num [1:10019] 750000 1000000 1250000 1750000 2000000 2250000 2750000 3000000 3250000 3500000 ...\n",
      " $ end                    : num [1:10019] 1000000 1250000 1500000 2000000 2250000 2500000 3000000 3250000 3500000 3750000 ...\n",
      " $ bin_number             : num [1:10019] 3 4 5 7 8 9 11 12 13 14 ...\n",
      " $ bin_id                 : chr [1:10019] \"chr1_3\" \"chr1_4\" \"chr1_5\" \"chr1_7\" ...\n",
      " $ methylation            : num [1:10019] 50.9 59.9 66.4 54.6 67.3 ...\n",
      " $ n_meth_values_in_bin   : num [1:10019] 12359 15136 13548 12281 13879 ...\n",
      " $ n_na_meth_values_in_bin: num [1:10019] 0 0 0 0 0 0 0 0 0 0 ...\n"
     ]
    }
   ],
   "source": [
    "str(meth_df)"
   ]
  },
  {
   "cell_type": "code",
   "execution_count": 37,
   "id": "0b6fbff6-495f-4be1-a51b-4331eb2c7083",
   "metadata": {},
   "outputs": [
    {
     "name": "stderr",
     "output_type": "stream",
     "text": [
      "Warning message in eval(expr, envir, enclos):\n",
      "“NAs introduced by coercion”"
     ]
    },
    {
     "data": {
      "text/html": [
       "<table>\n",
       "<thead><tr><th scope=col>bin</th><th scope=col>ATAC</th></tr></thead>\n",
       "<tbody>\n",
       "\t<tr><td>chr1_0    </td><td>0.05376791</td></tr>\n",
       "\t<tr><td>chr10_0   </td><td>0.29698782</td></tr>\n",
       "\t<tr><td>chr10_1   </td><td>0.40893151</td></tr>\n",
       "\t<tr><td>chr10_10  </td><td>0.30582283</td></tr>\n",
       "\t<tr><td>chr10_100 </td><td>0.59316570</td></tr>\n",
       "\t<tr><td>chr10_101 </td><td>0.47641373</td></tr>\n",
       "</tbody>\n",
       "</table>\n"
      ],
      "text/latex": [
       "\\begin{tabular}{r|ll}\n",
       " bin & ATAC\\\\\n",
       "\\hline\n",
       "\t chr1\\_0    & 0.05376791 \\\\\n",
       "\t chr10\\_0   & 0.29698782 \\\\\n",
       "\t chr10\\_1   & 0.40893151 \\\\\n",
       "\t chr10\\_10  & 0.30582283 \\\\\n",
       "\t chr10\\_100 & 0.59316570 \\\\\n",
       "\t chr10\\_101 & 0.47641373 \\\\\n",
       "\\end{tabular}\n"
      ],
      "text/markdown": [
       "\n",
       "| bin | ATAC |\n",
       "|---|---|\n",
       "| chr1_0     | 0.05376791 |\n",
       "| chr10_0    | 0.29698782 |\n",
       "| chr10_1    | 0.40893151 |\n",
       "| chr10_10   | 0.30582283 |\n",
       "| chr10_100  | 0.59316570 |\n",
       "| chr10_101  | 0.47641373 |\n",
       "\n"
      ],
      "text/plain": [
       "  bin       ATAC      \n",
       "1 chr1_0    0.05376791\n",
       "2 chr10_0   0.29698782\n",
       "3 chr10_1   0.40893151\n",
       "4 chr10_10  0.30582283\n",
       "5 chr10_100 0.59316570\n",
       "6 chr10_101 0.47641373"
      ]
     },
     "metadata": {},
     "output_type": "display_data"
    },
    {
     "name": "stdout",
     "output_type": "stream",
     "text": [
      "'data.frame':\t11515 obs. of  2 variables:\n",
      " $ bin : Factor w/ 11515 levels \"chr1_0\",\"chr1_1\",..: 1 998 999 1000 1001 1002 1003 1004 1005 1006 ...\n",
      " $ ATAC: num  0.0538 0.297 0.4089 0.3058 0.5932 ...\n"
     ]
    }
   ],
   "source": [
    "ATAC_data <- read.table(\"../data/ATACseq_250kb_bins.txt\")\n",
    "colnames(ATAC_data) = c(\"bin\", \"ATAC\")\n",
    "ATAC_data$ATAC = as.character(ATAC_data$ATAC)\n",
    "ATAC_data$ATAC = as.numeric(ATAC_data$ATAC)\n",
    "head(ATAC_data)\n",
    "str(ATAC_data)"
   ]
  },
  {
   "cell_type": "code",
   "execution_count": 38,
   "id": "f5cd7d6d-88db-4f31-a952-de5e4606b241",
   "metadata": {},
   "outputs": [
    {
     "name": "stderr",
     "output_type": "stream",
     "text": [
      "Updating HTML index of packages in '.Library'\n",
      "Making 'packages.html' ... done\n"
     ]
    }
   ],
   "source": [
    "install.packages(\"cowplot\")\n",
    "library(cowplot)"
   ]
  },
  {
   "cell_type": "code",
   "execution_count": 39,
   "id": "e101e4fb-3016-49cf-b7d2-2b8bd829f0fc",
   "metadata": {},
   "outputs": [
    {
     "name": "stderr",
     "output_type": "stream",
     "text": [
      "Warning message:\n",
      "“Removed 704 rows containing non-finite values (stat_bin).”"
     ]
    },
    {
     "data": {
      "image/png": "[encoded data removed]",
      "text/plain": [
       "plot without title"
      ]
     },
     "metadata": {},
     "output_type": "display_data"
    }
   ],
   "source": [
    "p1 <- ggplot(data = ATAC_data) +\n",
    "    geom_histogram(aes(x=ATAC), bins = 50, fill = \"lightgrey\", color = \"black\") + \n",
    "theme_minimal() + xlab(\"ATAC value\")\n",
    "\n",
    "p2 <- ggplot(data = meth_df) +\n",
    "    geom_histogram(aes(x=methylation), bins = 50, fill = \"lightgrey\", color = \"black\") + \n",
    "theme_minimal() + xlab(\"Methylation value\")\n",
    "\n",
    "plot_grid(p1, p2, labels = \"auto\")\n"
   ]
  },
  {
   "cell_type": "code",
   "execution_count": 41,
   "id": "faa275a5-c3d9-46d7-ba26-67d4b09c9f27",
   "metadata": {},
   "outputs": [
    {
     "name": "stderr",
     "output_type": "stream",
     "text": [
      "Warning message:\n",
      "“Removed 704 rows containing non-finite values (stat_bin).”"
     ]
    },
    {
     "data": {
      "image/png": "[encoded data removed]",
      "text/plain": [
       "plot without title"
      ]
     },
     "metadata": {},
     "output_type": "display_data"
    }
   ],
   "source": [
    "ggplot(data = ATAC_data) +\n",
    "    geom_histogram(aes(x=ATAC), bins = 50, fill = \"lightgrey\", color = \"black\") + \n",
    "theme_classic() + xlab(\"ATAC value\")"
   ]
  },
  {
   "cell_type": "code",
   "execution_count": 42,
   "id": "2bfc6b59-5bdf-427f-a052-4d1946d5bb0f",
   "metadata": {},
   "outputs": [
    {
     "data": {
      "image/png": "[encoded data removed]",
      "text/plain": [
       "plot without title"
      ]
     },
     "metadata": {},
     "output_type": "display_data"
    }
   ],
   "source": [
    "ggplot(data = meth_df) +\n",
    "    geom_histogram(aes(x=methylation), bins = 50, fill = \"lightgrey\", color = \"black\") + \n",
    "theme_classic() + xlab(\"Methylation value\")"
   ]
  },
  {
   "cell_type": "code",
   "execution_count": 43,
   "id": "a8690bd1-e89a-4bf8-acf6-9f4b77118a16",
   "metadata": {},
   "outputs": [
    {
     "data": {
      "image/png": "[encoded data removed]",
      "text/plain": [
       "plot without title"
      ]
     },
     "metadata": {},
     "output_type": "display_data"
    }
   ],
   "source": [
    "ggplot(data = meth_df) +\n",
    "    geom_histogram(aes(x=log(methylation)), bins = 50, fill = \"lightgrey\", color = \"black\") + \n",
    "theme_classic() + xlab(\"Methylation value\")"
   ]
  },
  {
   "cell_type": "code",
   "execution_count": 44,
   "id": "c14a69e9-8e94-4c43-9d98-49066ec114bb",
   "metadata": {},
   "outputs": [
    {
     "data": {
      "image/png": "[encoded data removed]",
      "text/plain": [
       "plot without title"
      ]
     },
     "metadata": {},
     "output_type": "display_data"
    }
   ],
   "source": [
    "ggplot(data = meth_df) +\n",
    "    geom_histogram(aes(x=sqrt(methylation)), bins = 50, fill = \"lightgrey\", color = \"black\") + \n",
    "theme_classic() + xlab(\"Methylation value\")"
   ]
  },
  {
   "cell_type": "code",
   "execution_count": 45,
   "id": "1d43268c-42b5-4332-a6e5-5ebf8ecaed2a",
   "metadata": {},
   "outputs": [
    {
     "data": {
      "image/png": "[encoded data removed]",
      "text/plain": [
       "plot without title"
      ]
     },
     "metadata": {},
     "output_type": "display_data"
    }
   ],
   "source": [
    "ggplot(meth_df) +\n",
    "    geom_histogram(aes(x=abs(methylation - mean(methylation))), bins = 50, fill = \"lightgrey\", color = \"black\") + \n",
    "                   theme_classic() + xlab(\"Methylation value\")"
   ]
  },
  {
   "cell_type": "code",
   "execution_count": null,
   "id": "b70c3816-746c-4e40-8ddd-3c94f58847d1",
   "metadata": {},
   "outputs": [],
   "source": []
  }
 ],
 "metadata": {
  "kernelspec": {
   "display_name": "R",
   "language": "R",
   "name": "ir"
  },
  "language_info": {
   "codemirror_mode": "r",
   "file_extension": ".r",
   "mimetype": "text/x-r-source",
   "name": "R",
   "pygments_lexer": "r",
   "version": "3.6.1"
  }
 },
 "nbformat": 4,
 "nbformat_minor": 5
}
