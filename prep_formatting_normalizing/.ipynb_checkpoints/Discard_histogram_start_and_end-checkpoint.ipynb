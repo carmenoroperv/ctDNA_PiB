{
 "cells": [
  {
   "cell_type": "markdown",
   "id": "b07dc4e6-3145-4e23-983e-2a336ed6bea5",
   "metadata": {},
   "source": [
    "## Discarding start and end of histograms"
   ]
  },
  {
   "cell_type": "markdown",
   "id": "cc6841d1-66bb-4713-94c4-8bc375803fda",
   "metadata": {},
   "source": [
    "__This notebook discards the starts and ends of histograms for all individuals and the summed controls. The input file contains the already normalized (and smoothed in some cases) histograms. The input file is read in in chunks, histograms trimmed and then written into the output file.__"
   ]
  },
  {
   "cell_type": "code",
   "execution_count": 2,
   "id": "c10311db-55a7-4298-9aa8-8888190d3c40",
   "metadata": {},
   "outputs": [
    {
     "name": "stderr",
     "output_type": "stream",
     "text": [
      "── Attaching packages ─────────────────────────────────────────────────────────────────────────────── tidyverse 1.3.1 ──\n",
      "✔ ggplot2 3.3.5     ✔ purrr   0.3.4\n",
      "✔ tibble  3.1.5     ✔ dplyr   1.0.7\n",
      "✔ tidyr   1.1.4     ✔ stringr 1.4.0\n",
      "✔ readr   2.0.2     ✔ forcats 0.5.1\n",
      "── Conflicts ────────────────────────────────────────────────────────────────────────────────── tidyverse_conflicts() ──\n",
      "✖ dplyr::filter() masks stats::filter()\n",
      "✖ dplyr::lag()    masks stats::lag()\n"
     ]
    }
   ],
   "source": [
    "# packages\n",
    "\n",
    "library(tidyverse)"
   ]
  },
  {
   "cell_type": "markdown",
   "id": "2038be3d-5c4d-4744-af3c-1f8d42e9b3f8",
   "metadata": {},
   "source": [
    "### 1) Discarding start and end of histograms for all normalized individuals"
   ]
  },
  {
   "cell_type": "code",
   "execution_count": 2,
   "id": "40444177-4443-4766-9c3c-1a9f647628ce",
   "metadata": {},
   "outputs": [],
   "source": [
    "#inputs\n",
    "filename = \"../data/all_samples_normalized.csv\""
   ]
  },
  {
   "cell_type": "code",
   "execution_count": 3,
   "id": "1db0671c-996c-439a-8465-5143bc35197a",
   "metadata": {},
   "outputs": [
    {
     "name": "stderr",
     "output_type": "stream",
     "text": [
      "Parsed with column specification:\n",
      "cols(\n",
      "  .default = col_double(),\n",
      "  sample = col_character(),\n",
      "  bin = col_character()\n",
      ")\n",
      "See spec(...) for full column specifications.\n"
     ]
    },
    {
     "data": {
      "text/html": [
       "<table>\n",
       "<thead><tr><th scope=col>sample</th><th scope=col>bin</th><th scope=col>30</th><th scope=col>31</th><th scope=col>32</th><th scope=col>33</th><th scope=col>34</th><th scope=col>35</th><th scope=col>36</th><th scope=col>37</th><th scope=col>...</th><th scope=col>691</th><th scope=col>692</th><th scope=col>693</th><th scope=col>694</th><th scope=col>695</th><th scope=col>696</th><th scope=col>697</th><th scope=col>698</th><th scope=col>699</th><th scope=col>700</th></tr></thead>\n",
       "<tbody>\n",
       "\t<tr><td>PGDX10344P1</td><td>chr10_400  </td><td>0          </td><td>0          </td><td>0          </td><td>0          </td><td>0          </td><td>0          </td><td>0          </td><td>0          </td><td>...        </td><td>0          </td><td>0          </td><td>0          </td><td>0          </td><td>0          </td><td>0          </td><td>0          </td><td>0          </td><td>0          </td><td>0          </td></tr>\n",
       "\t<tr><td>PGDX10344P1</td><td>chr10_40   </td><td>0          </td><td>0          </td><td>0          </td><td>0          </td><td>0          </td><td>0          </td><td>0          </td><td>0          </td><td>...        </td><td>0          </td><td>0          </td><td>0          </td><td>0          </td><td>0          </td><td>0          </td><td>0          </td><td>0          </td><td>0          </td><td>0          </td></tr>\n",
       "\t<tr><td>PGDX10344P1</td><td>chr10_4    </td><td>0          </td><td>0          </td><td>0          </td><td>0          </td><td>0          </td><td>0          </td><td>0          </td><td>0          </td><td>...        </td><td>0          </td><td>0          </td><td>0          </td><td>0          </td><td>0          </td><td>0          </td><td>0          </td><td>0          </td><td>0          </td><td>0          </td></tr>\n",
       "\t<tr><td>PGDX10344P1</td><td>chr10_401  </td><td>0          </td><td>0          </td><td>0          </td><td>0          </td><td>0          </td><td>0          </td><td>0          </td><td>0          </td><td>...        </td><td>0          </td><td>0          </td><td>0          </td><td>0          </td><td>0          </td><td>0          </td><td>0          </td><td>0          </td><td>0          </td><td>0          </td></tr>\n",
       "\t<tr><td>PGDX10344P1</td><td>chr10_402  </td><td>0          </td><td>0          </td><td>0          </td><td>0          </td><td>0          </td><td>0          </td><td>0          </td><td>0          </td><td>...        </td><td>0          </td><td>0          </td><td>0          </td><td>0          </td><td>0          </td><td>0          </td><td>0          </td><td>0          </td><td>0          </td><td>0          </td></tr>\n",
       "\t<tr><td>PGDX10344P1</td><td>chr10_403  </td><td>0          </td><td>0          </td><td>0          </td><td>0          </td><td>0          </td><td>0          </td><td>0          </td><td>0          </td><td>...        </td><td>0          </td><td>0          </td><td>0          </td><td>0          </td><td>0          </td><td>0          </td><td>0          </td><td>0          </td><td>0          </td><td>0          </td></tr>\n",
       "</tbody>\n",
       "</table>\n"
      ],
      "text/latex": [
       "\\begin{tabular}{r|lllllllllllllllllllllllllllllllllllllllllllllllllllllllllllllllllllllllllllllllllllllllllllllllllllllllllllllllllllllllllllllllllllllllllllllllllllllllllllllllllllllllllllllllllllllllllllllllllllllllllllllllllllllllllllllllllllllllllllllllllllllllllllllllllllllllllllllllllllllllllllllllllllllllllllllllllllllllllllllllllllllllllllllllllllllllllllllllllllllllllllllllllllllllllllllllllllllllllllllllllllllllllllllllllllllllllllllllllllllllllllllllllllllllllllllllllllllllllllllllllllllllllllllllllllllllllllllllllllllllllllllllllllllllllllllllllllllllllllllllllllllllllllllllllllllllllllllllllllllllllllllllllllllllllllllllllllllllllllllllllllllllllllllllllllllllllllllllll}\n",
       " sample & bin & 30 & 31 & 32 & 33 & 34 & 35 & 36 & 37 & ... & 691 & 692 & 693 & 694 & 695 & 696 & 697 & 698 & 699 & 700\\\\\n",
       "\\hline\n",
       "\t PGDX10344P1 & chr10\\_400 & 0           & 0           & 0           & 0           & 0           & 0           & 0           & 0           & ...         & 0           & 0           & 0           & 0           & 0           & 0           & 0           & 0           & 0           & 0          \\\\\n",
       "\t PGDX10344P1 & chr10\\_40  & 0           & 0           & 0           & 0           & 0           & 0           & 0           & 0           & ...         & 0           & 0           & 0           & 0           & 0           & 0           & 0           & 0           & 0           & 0          \\\\\n",
       "\t PGDX10344P1 & chr10\\_4   & 0           & 0           & 0           & 0           & 0           & 0           & 0           & 0           & ...         & 0           & 0           & 0           & 0           & 0           & 0           & 0           & 0           & 0           & 0          \\\\\n",
       "\t PGDX10344P1 & chr10\\_401 & 0           & 0           & 0           & 0           & 0           & 0           & 0           & 0           & ...         & 0           & 0           & 0           & 0           & 0           & 0           & 0           & 0           & 0           & 0          \\\\\n",
       "\t PGDX10344P1 & chr10\\_402 & 0           & 0           & 0           & 0           & 0           & 0           & 0           & 0           & ...         & 0           & 0           & 0           & 0           & 0           & 0           & 0           & 0           & 0           & 0          \\\\\n",
       "\t PGDX10344P1 & chr10\\_403 & 0           & 0           & 0           & 0           & 0           & 0           & 0           & 0           & ...         & 0           & 0           & 0           & 0           & 0           & 0           & 0           & 0           & 0           & 0          \\\\\n",
       "\\end{tabular}\n"
      ],
      "text/markdown": [
       "\n",
       "| sample | bin | 30 | 31 | 32 | 33 | 34 | 35 | 36 | 37 | ... | 691 | 692 | 693 | 694 | 695 | 696 | 697 | 698 | 699 | 700 |\n",
       "|---|---|---|---|---|---|---|---|---|---|---|---|---|---|---|---|---|---|---|---|---|\n",
       "| PGDX10344P1 | chr10_400   | 0           | 0           | 0           | 0           | 0           | 0           | 0           | 0           | ...         | 0           | 0           | 0           | 0           | 0           | 0           | 0           | 0           | 0           | 0           |\n",
       "| PGDX10344P1 | chr10_40    | 0           | 0           | 0           | 0           | 0           | 0           | 0           | 0           | ...         | 0           | 0           | 0           | 0           | 0           | 0           | 0           | 0           | 0           | 0           |\n",
       "| PGDX10344P1 | chr10_4     | 0           | 0           | 0           | 0           | 0           | 0           | 0           | 0           | ...         | 0           | 0           | 0           | 0           | 0           | 0           | 0           | 0           | 0           | 0           |\n",
       "| PGDX10344P1 | chr10_401   | 0           | 0           | 0           | 0           | 0           | 0           | 0           | 0           | ...         | 0           | 0           | 0           | 0           | 0           | 0           | 0           | 0           | 0           | 0           |\n",
       "| PGDX10344P1 | chr10_402   | 0           | 0           | 0           | 0           | 0           | 0           | 0           | 0           | ...         | 0           | 0           | 0           | 0           | 0           | 0           | 0           | 0           | 0           | 0           |\n",
       "| PGDX10344P1 | chr10_403   | 0           | 0           | 0           | 0           | 0           | 0           | 0           | 0           | ...         | 0           | 0           | 0           | 0           | 0           | 0           | 0           | 0           | 0           | 0           |\n",
       "\n"
      ],
      "text/plain": [
       "  sample      bin       30 31 32 33 34 35 36 37 ... 691 692 693 694 695 696 697\n",
       "1 PGDX10344P1 chr10_400 0  0  0  0  0  0  0  0  ... 0   0   0   0   0   0   0  \n",
       "2 PGDX10344P1 chr10_40  0  0  0  0  0  0  0  0  ... 0   0   0   0   0   0   0  \n",
       "3 PGDX10344P1 chr10_4   0  0  0  0  0  0  0  0  ... 0   0   0   0   0   0   0  \n",
       "4 PGDX10344P1 chr10_401 0  0  0  0  0  0  0  0  ... 0   0   0   0   0   0   0  \n",
       "5 PGDX10344P1 chr10_402 0  0  0  0  0  0  0  0  ... 0   0   0   0   0   0   0  \n",
       "6 PGDX10344P1 chr10_403 0  0  0  0  0  0  0  0  ... 0   0   0   0   0   0   0  \n",
       "  698 699 700\n",
       "1 0   0   0  \n",
       "2 0   0   0  \n",
       "3 0   0   0  \n",
       "4 0   0   0  \n",
       "5 0   0   0  \n",
       "6 0   0   0  "
      ]
     },
     "metadata": {},
     "output_type": "display_data"
    }
   ],
   "source": [
    "small_test <- read_csv(file = filename, col_names = T, comment = \"#\", skip = 0, n_max = 10)\n",
    "head(small_test)"
   ]
  },
  {
   "cell_type": "code",
   "execution_count": 8,
   "id": "d255894f-5ab7-4fa8-be98-c325071847cd",
   "metadata": {},
   "outputs": [
    {
     "data": {
      "text/html": [
       "<table>\n",
       "<thead><tr><th scope=col>V1</th><th scope=col>V2</th><th scope=col>V3</th><th scope=col>V4</th><th scope=col>V5</th><th scope=col>V6</th><th scope=col>V7</th><th scope=col>V8</th><th scope=col>V9</th><th scope=col>V10</th><th scope=col>...</th><th scope=col>V314</th><th scope=col>V315</th><th scope=col>V316</th><th scope=col>V317</th><th scope=col>V318</th><th scope=col>V319</th><th scope=col>V320</th><th scope=col>V321</th><th scope=col>V322</th><th scope=col>V323</th></tr></thead>\n",
       "<tbody>\n",
       "\t<tr><td>sample</td><td>bin   </td><td>X80   </td><td>X81   </td><td>X82   </td><td>X83   </td><td>X84   </td><td>X85   </td><td>X86   </td><td>X87   </td><td>...   </td><td>X391  </td><td>X392  </td><td>X393  </td><td>X394  </td><td>X395  </td><td>X396  </td><td>X397  </td><td>X398  </td><td>X399  </td><td>X400  </td></tr>\n",
       "</tbody>\n",
       "</table>\n"
      ],
      "text/latex": [
       "\\begin{tabular}{r|lllllllllllllllllllllllllllllllllllllllllllllllllllllllllllllllllllllllllllllllllllllllllllllllllllllllllllllllllllllllllllllllllllllllllllllllllllllllllllllllllllllllllllllllllllllllllllllllllllllllllllllllllllllllllllllllllllllllllllllllllllllllllllllllllllllllllllllllllllllllllllllllllllllllllllllllllllllllllllllllllll}\n",
       " V1 & V2 & V3 & V4 & V5 & V6 & V7 & V8 & V9 & V10 & ... & V314 & V315 & V316 & V317 & V318 & V319 & V320 & V321 & V322 & V323\\\\\n",
       "\\hline\n",
       "\t sample & bin    & X80    & X81    & X82    & X83    & X84    & X85    & X86    & X87    & ...    & X391   & X392   & X393   & X394   & X395   & X396   & X397   & X398   & X399   & X400  \\\\\n",
       "\\end{tabular}\n"
      ],
      "text/markdown": [
       "\n",
       "| V1 | V2 | V3 | V4 | V5 | V6 | V7 | V8 | V9 | V10 | ... | V314 | V315 | V316 | V317 | V318 | V319 | V320 | V321 | V322 | V323 |\n",
       "|---|---|---|---|---|---|---|---|---|---|---|---|---|---|---|---|---|---|---|---|---|\n",
       "| sample | bin    | X80    | X81    | X82    | X83    | X84    | X85    | X86    | X87    | ...    | X391   | X392   | X393   | X394   | X395   | X396   | X397   | X398   | X399   | X400   |\n",
       "\n"
      ],
      "text/plain": [
       "  V1     V2  V3  V4  V5  V6  V7  V8  V9  V10 ... V314 V315 V316 V317 V318 V319\n",
       "1 sample bin X80 X81 X82 X83 X84 X85 X86 X87 ... X391 X392 X393 X394 X395 X396\n",
       "  V320 V321 V322 V323\n",
       "1 X397 X398 X399 X400"
      ]
     },
     "metadata": {},
     "output_type": "display_data"
    }
   ],
   "source": [
    "cols_trimmed_first_two <- colnames(small_test)[1:2]\n",
    "cols_trimmed_rest <- colnames(small_test)[53:373]\n",
    "cols_trimmed_rest <- paste(\"X\", cols_trimmed_rest, sep = \"\")\n",
    "\n",
    "cols_trimmed = as.data.frame(t(c(cols_trimmed_first_two, cols_trimmed_rest)))\n",
    "cols_trimmed"
   ]
  },
  {
   "cell_type": "code",
   "execution_count": 9,
   "id": "3aad833f-76a7-4fd2-b235-a9fe00ee6e5b",
   "metadata": {},
   "outputs": [],
   "source": [
    "write.table(NULL, file=\"../data/all_samples_normalized_trimmed.csv\", \n",
    "             append = F, \n",
    "             sep=',', \n",
    "             row.names=F, \n",
    "             col.names=F)\n",
    "\n",
    "write.table(cols_trimmed, \"../data/all_samples_normalized_trimmed.csv\", append = F, sep=',', col.names=F, row.names=F)"
   ]
  },
  {
   "cell_type": "code",
   "execution_count": 10,
   "id": "5d5f5397-72bc-45ea-bae2-5e78f1c11979",
   "metadata": {},
   "outputs": [
    {
     "name": "stderr",
     "output_type": "stream",
     "text": [
      "Parsed with column specification:\n",
      "cols(\n",
      "  .default = col_double(),\n",
      "  sample = col_character(),\n",
      "  bin = col_character()\n",
      ")\n",
      "See spec(...) for full column specifications.\n"
     ]
    }
   ],
   "source": [
    "f <- function(df1, pos) {\n",
    "    trimmed_first_two <- df1[,1:2]\n",
    "    trimmed_rest <- df1[,53:373]\n",
    "    \n",
    "    output <- cbind(trimmed_first_two, trimmed_rest)\n",
    "\n",
    "    write.table(output, \"../data/all_samples_normalized_trimmed.csv\", append = TRUE, sep=',', col.names=F, row.names=F)\n",
    "    }\n",
    "\n",
    "\n",
    "df <- read_delim_chunked(file = filename, \n",
    "                 callback = DataFrameCallback$new(f), \n",
    "                 chunk_size = 10000, col_names = T,\n",
    "                 delim = \",\", \n",
    "                 progress = show_progress())"
   ]
  },
  {
   "cell_type": "markdown",
   "id": "c595af21-9f75-4520-a90e-6afd57459d84",
   "metadata": {},
   "source": [
    "### 2) Discarding start and end of histograms for all the normalized and smoothed individuals"
   ]
  },
  {
   "cell_type": "code",
   "execution_count": 3,
   "id": "88c006b5-d598-4924-97c1-5b42e0118f4a",
   "metadata": {},
   "outputs": [],
   "source": [
    "#inputs\n",
    "filename = \"../data/all_samples_normalized_gaussian_smooth.csv\""
   ]
  },
  {
   "cell_type": "code",
   "execution_count": 4,
   "id": "e26ee573-953f-4d2b-9afb-10e98f109d87",
   "metadata": {},
   "outputs": [
    {
     "name": "stderr",
     "output_type": "stream",
     "text": [
      "Parsed with column specification:\n",
      "cols(\n",
      "  .default = col_double(),\n",
      "  sample = col_character(),\n",
      "  bin = col_character()\n",
      ")\n",
      "See spec(...) for full column specifications.\n"
     ]
    },
    {
     "data": {
      "text/html": [
       "<table>\n",
       "<thead><tr><th scope=col>sample</th><th scope=col>bin</th><th scope=col>30</th><th scope=col>31</th><th scope=col>32</th><th scope=col>33</th><th scope=col>34</th><th scope=col>35</th><th scope=col>36</th><th scope=col>37</th><th scope=col>...</th><th scope=col>691</th><th scope=col>692</th><th scope=col>693</th><th scope=col>694</th><th scope=col>695</th><th scope=col>696</th><th scope=col>697</th><th scope=col>698</th><th scope=col>699</th><th scope=col>700</th></tr></thead>\n",
       "<tbody>\n",
       "\t<tr><td>PGDX10344P1</td><td>chr10_400  </td><td>0          </td><td>0          </td><td>0          </td><td>0          </td><td>0          </td><td>0          </td><td>0          </td><td>0          </td><td>...        </td><td>0          </td><td>0          </td><td>0          </td><td>0          </td><td>0          </td><td>0          </td><td>0          </td><td>0          </td><td>0          </td><td>0          </td></tr>\n",
       "\t<tr><td>PGDX10344P1</td><td>chr10_40   </td><td>0          </td><td>0          </td><td>0          </td><td>0          </td><td>0          </td><td>0          </td><td>0          </td><td>0          </td><td>...        </td><td>0          </td><td>0          </td><td>0          </td><td>0          </td><td>0          </td><td>0          </td><td>0          </td><td>0          </td><td>0          </td><td>0          </td></tr>\n",
       "\t<tr><td>PGDX10344P1</td><td>chr10_4    </td><td>0          </td><td>0          </td><td>0          </td><td>0          </td><td>0          </td><td>0          </td><td>0          </td><td>0          </td><td>...        </td><td>0          </td><td>0          </td><td>0          </td><td>0          </td><td>0          </td><td>0          </td><td>0          </td><td>0          </td><td>0          </td><td>0          </td></tr>\n",
       "\t<tr><td>PGDX10344P1</td><td>chr10_401  </td><td>0          </td><td>0          </td><td>0          </td><td>0          </td><td>0          </td><td>0          </td><td>0          </td><td>0          </td><td>...        </td><td>0          </td><td>0          </td><td>0          </td><td>0          </td><td>0          </td><td>0          </td><td>0          </td><td>0          </td><td>0          </td><td>0          </td></tr>\n",
       "\t<tr><td>PGDX10344P1</td><td>chr10_402  </td><td>0          </td><td>0          </td><td>0          </td><td>0          </td><td>0          </td><td>0          </td><td>0          </td><td>0          </td><td>...        </td><td>0          </td><td>0          </td><td>0          </td><td>0          </td><td>0          </td><td>0          </td><td>0          </td><td>0          </td><td>0          </td><td>0          </td></tr>\n",
       "\t<tr><td>PGDX10344P1</td><td>chr10_403  </td><td>0          </td><td>0          </td><td>0          </td><td>0          </td><td>0          </td><td>0          </td><td>0          </td><td>0          </td><td>...        </td><td>0          </td><td>0          </td><td>0          </td><td>0          </td><td>0          </td><td>0          </td><td>0          </td><td>0          </td><td>0          </td><td>0          </td></tr>\n",
       "</tbody>\n",
       "</table>\n"
      ],
      "text/latex": [
       "\\begin{tabular}{r|lllllllllllllllllllllllllllllllllllllllllllllllllllllllllllllllllllllllllllllllllllllllllllllllllllllllllllllllllllllllllllllllllllllllllllllllllllllllllllllllllllllllllllllllllllllllllllllllllllllllllllllllllllllllllllllllllllllllllllllllllllllllllllllllllllllllllllllllllllllllllllllllllllllllllllllllllllllllllllllllllllllllllllllllllllllllllllllllllllllllllllllllllllllllllllllllllllllllllllllllllllllllllllllllllllllllllllllllllllllllllllllllllllllllllllllllllllllllllllllllllllllllllllllllllllllllllllllllllllllllllllllllllllllllllllllllllllllllllllllllllllllllllllllllllllllllllllllllllllllllllllllllllllllllllllllllllllllllllllllllllllllllllllllllllllllllllllllllll}\n",
       " sample & bin & 30 & 31 & 32 & 33 & 34 & 35 & 36 & 37 & ... & 691 & 692 & 693 & 694 & 695 & 696 & 697 & 698 & 699 & 700\\\\\n",
       "\\hline\n",
       "\t PGDX10344P1 & chr10\\_400 & 0           & 0           & 0           & 0           & 0           & 0           & 0           & 0           & ...         & 0           & 0           & 0           & 0           & 0           & 0           & 0           & 0           & 0           & 0          \\\\\n",
       "\t PGDX10344P1 & chr10\\_40  & 0           & 0           & 0           & 0           & 0           & 0           & 0           & 0           & ...         & 0           & 0           & 0           & 0           & 0           & 0           & 0           & 0           & 0           & 0          \\\\\n",
       "\t PGDX10344P1 & chr10\\_4   & 0           & 0           & 0           & 0           & 0           & 0           & 0           & 0           & ...         & 0           & 0           & 0           & 0           & 0           & 0           & 0           & 0           & 0           & 0          \\\\\n",
       "\t PGDX10344P1 & chr10\\_401 & 0           & 0           & 0           & 0           & 0           & 0           & 0           & 0           & ...         & 0           & 0           & 0           & 0           & 0           & 0           & 0           & 0           & 0           & 0          \\\\\n",
       "\t PGDX10344P1 & chr10\\_402 & 0           & 0           & 0           & 0           & 0           & 0           & 0           & 0           & ...         & 0           & 0           & 0           & 0           & 0           & 0           & 0           & 0           & 0           & 0          \\\\\n",
       "\t PGDX10344P1 & chr10\\_403 & 0           & 0           & 0           & 0           & 0           & 0           & 0           & 0           & ...         & 0           & 0           & 0           & 0           & 0           & 0           & 0           & 0           & 0           & 0          \\\\\n",
       "\\end{tabular}\n"
      ],
      "text/markdown": [
       "\n",
       "| sample | bin | 30 | 31 | 32 | 33 | 34 | 35 | 36 | 37 | ... | 691 | 692 | 693 | 694 | 695 | 696 | 697 | 698 | 699 | 700 |\n",
       "|---|---|---|---|---|---|---|---|---|---|---|---|---|---|---|---|---|---|---|---|---|\n",
       "| PGDX10344P1 | chr10_400   | 0           | 0           | 0           | 0           | 0           | 0           | 0           | 0           | ...         | 0           | 0           | 0           | 0           | 0           | 0           | 0           | 0           | 0           | 0           |\n",
       "| PGDX10344P1 | chr10_40    | 0           | 0           | 0           | 0           | 0           | 0           | 0           | 0           | ...         | 0           | 0           | 0           | 0           | 0           | 0           | 0           | 0           | 0           | 0           |\n",
       "| PGDX10344P1 | chr10_4     | 0           | 0           | 0           | 0           | 0           | 0           | 0           | 0           | ...         | 0           | 0           | 0           | 0           | 0           | 0           | 0           | 0           | 0           | 0           |\n",
       "| PGDX10344P1 | chr10_401   | 0           | 0           | 0           | 0           | 0           | 0           | 0           | 0           | ...         | 0           | 0           | 0           | 0           | 0           | 0           | 0           | 0           | 0           | 0           |\n",
       "| PGDX10344P1 | chr10_402   | 0           | 0           | 0           | 0           | 0           | 0           | 0           | 0           | ...         | 0           | 0           | 0           | 0           | 0           | 0           | 0           | 0           | 0           | 0           |\n",
       "| PGDX10344P1 | chr10_403   | 0           | 0           | 0           | 0           | 0           | 0           | 0           | 0           | ...         | 0           | 0           | 0           | 0           | 0           | 0           | 0           | 0           | 0           | 0           |\n",
       "\n"
      ],
      "text/plain": [
       "  sample      bin       30 31 32 33 34 35 36 37 ... 691 692 693 694 695 696 697\n",
       "1 PGDX10344P1 chr10_400 0  0  0  0  0  0  0  0  ... 0   0   0   0   0   0   0  \n",
       "2 PGDX10344P1 chr10_40  0  0  0  0  0  0  0  0  ... 0   0   0   0   0   0   0  \n",
       "3 PGDX10344P1 chr10_4   0  0  0  0  0  0  0  0  ... 0   0   0   0   0   0   0  \n",
       "4 PGDX10344P1 chr10_401 0  0  0  0  0  0  0  0  ... 0   0   0   0   0   0   0  \n",
       "5 PGDX10344P1 chr10_402 0  0  0  0  0  0  0  0  ... 0   0   0   0   0   0   0  \n",
       "6 PGDX10344P1 chr10_403 0  0  0  0  0  0  0  0  ... 0   0   0   0   0   0   0  \n",
       "  698 699 700\n",
       "1 0   0   0  \n",
       "2 0   0   0  \n",
       "3 0   0   0  \n",
       "4 0   0   0  \n",
       "5 0   0   0  \n",
       "6 0   0   0  "
      ]
     },
     "metadata": {},
     "output_type": "display_data"
    }
   ],
   "source": [
    "small_test <- read_csv(file = filename, col_names = T, comment = \"#\", skip = 0, n_max = 10)\n",
    "head(small_test)"
   ]
  },
  {
   "cell_type": "code",
   "execution_count": 5,
   "id": "77212fd8-b3e5-4fc3-8ce2-a942fb0688d7",
   "metadata": {},
   "outputs": [
    {
     "data": {
      "text/html": [
       "<table>\n",
       "<thead><tr><th scope=col>V1</th><th scope=col>V2</th><th scope=col>V3</th><th scope=col>V4</th><th scope=col>V5</th><th scope=col>V6</th><th scope=col>V7</th><th scope=col>V8</th><th scope=col>V9</th><th scope=col>V10</th><th scope=col>...</th><th scope=col>V314</th><th scope=col>V315</th><th scope=col>V316</th><th scope=col>V317</th><th scope=col>V318</th><th scope=col>V319</th><th scope=col>V320</th><th scope=col>V321</th><th scope=col>V322</th><th scope=col>V323</th></tr></thead>\n",
       "<tbody>\n",
       "\t<tr><td>sample</td><td>bin   </td><td>X80   </td><td>X81   </td><td>X82   </td><td>X83   </td><td>X84   </td><td>X85   </td><td>X86   </td><td>X87   </td><td>...   </td><td>X391  </td><td>X392  </td><td>X393  </td><td>X394  </td><td>X395  </td><td>X396  </td><td>X397  </td><td>X398  </td><td>X399  </td><td>X400  </td></tr>\n",
       "</tbody>\n",
       "</table>\n"
      ],
      "text/latex": [
       "\\begin{tabular}{r|lllllllllllllllllllllllllllllllllllllllllllllllllllllllllllllllllllllllllllllllllllllllllllllllllllllllllllllllllllllllllllllllllllllllllllllllllllllllllllllllllllllllllllllllllllllllllllllllllllllllllllllllllllllllllllllllllllllllllllllllllllllllllllllllllllllllllllllllllllllllllllllllllllllllllllllllllllllllllllllllllll}\n",
       " V1 & V2 & V3 & V4 & V5 & V6 & V7 & V8 & V9 & V10 & ... & V314 & V315 & V316 & V317 & V318 & V319 & V320 & V321 & V322 & V323\\\\\n",
       "\\hline\n",
       "\t sample & bin    & X80    & X81    & X82    & X83    & X84    & X85    & X86    & X87    & ...    & X391   & X392   & X393   & X394   & X395   & X396   & X397   & X398   & X399   & X400  \\\\\n",
       "\\end{tabular}\n"
      ],
      "text/markdown": [
       "\n",
       "| V1 | V2 | V3 | V4 | V5 | V6 | V7 | V8 | V9 | V10 | ... | V314 | V315 | V316 | V317 | V318 | V319 | V320 | V321 | V322 | V323 |\n",
       "|---|---|---|---|---|---|---|---|---|---|---|---|---|---|---|---|---|---|---|---|---|\n",
       "| sample | bin    | X80    | X81    | X82    | X83    | X84    | X85    | X86    | X87    | ...    | X391   | X392   | X393   | X394   | X395   | X396   | X397   | X398   | X399   | X400   |\n",
       "\n"
      ],
      "text/plain": [
       "  V1     V2  V3  V4  V5  V6  V7  V8  V9  V10 ... V314 V315 V316 V317 V318 V319\n",
       "1 sample bin X80 X81 X82 X83 X84 X85 X86 X87 ... X391 X392 X393 X394 X395 X396\n",
       "  V320 V321 V322 V323\n",
       "1 X397 X398 X399 X400"
      ]
     },
     "metadata": {},
     "output_type": "display_data"
    }
   ],
   "source": [
    "cols_trimmed_first_two <- colnames(small_test)[1:2]\n",
    "cols_trimmed_rest <- colnames(small_test)[53:373]\n",
    "cols_trimmed_rest <- paste(\"X\", cols_trimmed_rest, sep = \"\")\n",
    "\n",
    "cols_trimmed = as.data.frame(t(c(cols_trimmed_first_two, cols_trimmed_rest)))\n",
    "cols_trimmed"
   ]
  },
  {
   "cell_type": "code",
   "execution_count": 6,
   "id": "3de488d8-1f4f-42fa-afe5-7855a11d62c7",
   "metadata": {},
   "outputs": [],
   "source": [
    "write.table(NULL, file=\"../data/all_samples_normalized_gaussian_smooth_trimmed.csv\", \n",
    "             append = F, \n",
    "             sep=',', \n",
    "             row.names=F, \n",
    "             col.names=F)\n",
    "\n",
    "write.table(cols_trimmed, \"../data/all_samples_normalized_gaussian_smooth_trimmed.csv\", append = F, sep=',', col.names=F, row.names=F)"
   ]
  },
  {
   "cell_type": "code",
   "execution_count": 7,
   "id": "afcc13eb-b598-4997-95f9-51a68d247963",
   "metadata": {},
   "outputs": [
    {
     "name": "stderr",
     "output_type": "stream",
     "text": [
      "Parsed with column specification:\n",
      "cols(\n",
      "  .default = col_double(),\n",
      "  sample = col_character(),\n",
      "  bin = col_character()\n",
      ")\n",
      "See spec(...) for full column specifications.\n"
     ]
    }
   ],
   "source": [
    "f <- function(df1, pos) {\n",
    "    trimmed_first_two <- df1[,1:2]\n",
    "    trimmed_rest <- df1[,53:373]\n",
    "    \n",
    "    output <- cbind(trimmed_first_two, trimmed_rest)\n",
    "\n",
    "    write.table(output, \"../data/all_samples_normalized_gaussian_smooth_trimmed.csv\", append = TRUE, sep=',', col.names=F, row.names=F)\n",
    "    }\n",
    "\n",
    "\n",
    "df <- read_delim_chunked(file = filename, \n",
    "                 callback = DataFrameCallback$new(f), \n",
    "                 chunk_size = 10000, col_names = T,\n",
    "                 delim = \",\", \n",
    "                 progress = show_progress())"
   ]
  },
  {
   "cell_type": "markdown",
   "id": "fff074d8-99ad-4c74-8a7d-a521fda66d71",
   "metadata": {},
   "source": [
    "### 3) Discarding start and end of histograms for all the normalized and gaussian smoothed summed controls"
   ]
  },
  {
   "cell_type": "code",
   "execution_count": 8,
   "id": "7e120451-dacc-4b66-8697-ff183e91b68c",
   "metadata": {},
   "outputs": [
    {
     "data": {
      "text/html": [
       "<table>\n",
       "<thead><tr><th scope=col>ATAC_val</th></tr></thead>\n",
       "<tbody>\n",
       "\t<tr><td>0.5931657</td></tr>\n",
       "\t<tr><td>0.4089315</td></tr>\n",
       "\t<tr><td>0.3058228</td></tr>\n",
       "\t<tr><td>0.4764137</td></tr>\n",
       "\t<tr><td>0.2862775</td></tr>\n",
       "\t<tr><td>0.3169988</td></tr>\n",
       "</tbody>\n",
       "</table>\n"
      ],
      "text/latex": [
       "\\begin{tabular}{r|l}\n",
       " ATAC\\_val\\\\\n",
       "\\hline\n",
       "\t 0.5931657\\\\\n",
       "\t 0.4089315\\\\\n",
       "\t 0.3058228\\\\\n",
       "\t 0.4764137\\\\\n",
       "\t 0.2862775\\\\\n",
       "\t 0.3169988\\\\\n",
       "\\end{tabular}\n"
      ],
      "text/markdown": [
       "\n",
       "| ATAC_val |\n",
       "|---|\n",
       "| 0.5931657 |\n",
       "| 0.4089315 |\n",
       "| 0.3058228 |\n",
       "| 0.4764137 |\n",
       "| 0.2862775 |\n",
       "| 0.3169988 |\n",
       "\n"
      ],
      "text/plain": [
       "  ATAC_val \n",
       "1 0.5931657\n",
       "2 0.4089315\n",
       "3 0.3058228\n",
       "4 0.4764137\n",
       "5 0.2862775\n",
       "6 0.3169988"
      ]
     },
     "metadata": {},
     "output_type": "display_data"
    },
    {
     "data": {
      "text/html": [
       "<table>\n",
       "<thead><tr><th scope=col>X30</th><th scope=col>X31</th><th scope=col>X32</th><th scope=col>X33</th><th scope=col>X34</th><th scope=col>X35</th><th scope=col>X36</th><th scope=col>X37</th><th scope=col>X38</th><th scope=col>X39</th><th scope=col>...</th><th scope=col>X691</th><th scope=col>X692</th><th scope=col>X693</th><th scope=col>X694</th><th scope=col>X695</th><th scope=col>X696</th><th scope=col>X697</th><th scope=col>X698</th><th scope=col>X699</th><th scope=col>X700</th></tr></thead>\n",
       "<tbody>\n",
       "\t<tr><td>0           </td><td>0           </td><td>0           </td><td>0           </td><td>0           </td><td>0           </td><td>1.295662e-06</td><td>1.315240e-06</td><td>1.377055e-06</td><td>1.493326e-06</td><td>...         </td><td>0.000000e+00</td><td>0.000000e+00</td><td>0.000000e+00</td><td>0.000000e+00</td><td>0.000000e+00</td><td>0           </td><td>0           </td><td>0           </td><td>0           </td><td>0           </td></tr>\n",
       "\t<tr><td>0           </td><td>0           </td><td>0           </td><td>0           </td><td>0           </td><td>0           </td><td>1.898063e-06</td><td>2.292049e-06</td><td>2.673739e-06</td><td>2.929634e-06</td><td>...         </td><td>0.000000e+00</td><td>0.000000e+00</td><td>0.000000e+00</td><td>0.000000e+00</td><td>0.000000e+00</td><td>0           </td><td>0           </td><td>0           </td><td>0           </td><td>0           </td></tr>\n",
       "\t<tr><td>0           </td><td>0           </td><td>0           </td><td>0           </td><td>0           </td><td>0           </td><td>1.114137e-06</td><td>1.158812e-06</td><td>1.143512e-06</td><td>1.142800e-06</td><td>...         </td><td>0.000000e+00</td><td>0.000000e+00</td><td>0.000000e+00</td><td>0.000000e+00</td><td>0.000000e+00</td><td>0           </td><td>0           </td><td>0           </td><td>0           </td><td>0           </td></tr>\n",
       "\t<tr><td>0           </td><td>0           </td><td>0           </td><td>0           </td><td>0           </td><td>0           </td><td>8.292440e-07</td><td>8.302439e-07</td><td>8.203466e-07</td><td>8.455300e-07</td><td>...         </td><td>0.000000e+00</td><td>0.000000e+00</td><td>0.000000e+00</td><td>0.000000e+00</td><td>0.000000e+00</td><td>0           </td><td>0           </td><td>0           </td><td>0           </td><td>0           </td></tr>\n",
       "\t<tr><td>0           </td><td>0           </td><td>0           </td><td>0           </td><td>0           </td><td>0           </td><td>6.358502e-07</td><td>7.854683e-07</td><td>1.037024e-06</td><td>1.299074e-06</td><td>...         </td><td>1.429406e-07</td><td>1.337957e-07</td><td>1.097238e-07</td><td>7.883745e-08</td><td>4.962914e-08</td><td>0           </td><td>0           </td><td>0           </td><td>0           </td><td>0           </td></tr>\n",
       "\t<tr><td>0           </td><td>0           </td><td>0           </td><td>0           </td><td>0           </td><td>0           </td><td>1.369131e-06</td><td>1.302297e-06</td><td>1.181740e-06</td><td>1.057154e-06</td><td>...         </td><td>0.000000e+00</td><td>0.000000e+00</td><td>0.000000e+00</td><td>0.000000e+00</td><td>0.000000e+00</td><td>0           </td><td>0           </td><td>0           </td><td>0           </td><td>0           </td></tr>\n",
       "</tbody>\n",
       "</table>\n"
      ],
      "text/latex": [
       "\\begin{tabular}{r|lllllllllllllllllllllllllllllllllllllllllllllllllllllllllllllllllllllllllllllllllllllllllllllllllllllllllllllllllllllllllllllllllllllllllllllllllllllllllllllllllllllllllllllllllllllllllllllllllllllllllllllllllllllllllllllllllllllllllllllllllllllllllllllllllllllllllllllllllllllllllllllllllllllllllllllllllllllllllllllllllllllllllllllllllllllllllllllllllllllllllllllllllllllllllllllllllllllllllllllllllllllllllllllllllllllllllllllllllllllllllllllllllllllllllllllllllllllllllllllllllllllllllllllllllllllllllllllllllllllllllllllllllllllllllllllllllllllllllllllllllllllllllllllllllllllllllllllllllllllllllllllllllllllllllllllllllllllllllllllllllllllllllllllllllllllllllllllll}\n",
       " X30 & X31 & X32 & X33 & X34 & X35 & X36 & X37 & X38 & X39 & ... & X691 & X692 & X693 & X694 & X695 & X696 & X697 & X698 & X699 & X700\\\\\n",
       "\\hline\n",
       "\t 0            & 0            & 0            & 0            & 0            & 0            & 1.295662e-06 & 1.315240e-06 & 1.377055e-06 & 1.493326e-06 & ...          & 0.000000e+00 & 0.000000e+00 & 0.000000e+00 & 0.000000e+00 & 0.000000e+00 & 0            & 0            & 0            & 0            & 0           \\\\\n",
       "\t 0            & 0            & 0            & 0            & 0            & 0            & 1.898063e-06 & 2.292049e-06 & 2.673739e-06 & 2.929634e-06 & ...          & 0.000000e+00 & 0.000000e+00 & 0.000000e+00 & 0.000000e+00 & 0.000000e+00 & 0            & 0            & 0            & 0            & 0           \\\\\n",
       "\t 0            & 0            & 0            & 0            & 0            & 0            & 1.114137e-06 & 1.158812e-06 & 1.143512e-06 & 1.142800e-06 & ...          & 0.000000e+00 & 0.000000e+00 & 0.000000e+00 & 0.000000e+00 & 0.000000e+00 & 0            & 0            & 0            & 0            & 0           \\\\\n",
       "\t 0            & 0            & 0            & 0            & 0            & 0            & 8.292440e-07 & 8.302439e-07 & 8.203466e-07 & 8.455300e-07 & ...          & 0.000000e+00 & 0.000000e+00 & 0.000000e+00 & 0.000000e+00 & 0.000000e+00 & 0            & 0            & 0            & 0            & 0           \\\\\n",
       "\t 0            & 0            & 0            & 0            & 0            & 0            & 6.358502e-07 & 7.854683e-07 & 1.037024e-06 & 1.299074e-06 & ...          & 1.429406e-07 & 1.337957e-07 & 1.097238e-07 & 7.883745e-08 & 4.962914e-08 & 0            & 0            & 0            & 0            & 0           \\\\\n",
       "\t 0            & 0            & 0            & 0            & 0            & 0            & 1.369131e-06 & 1.302297e-06 & 1.181740e-06 & 1.057154e-06 & ...          & 0.000000e+00 & 0.000000e+00 & 0.000000e+00 & 0.000000e+00 & 0.000000e+00 & 0            & 0            & 0            & 0            & 0           \\\\\n",
       "\\end{tabular}\n"
      ],
      "text/markdown": [
       "\n",
       "| X30 | X31 | X32 | X33 | X34 | X35 | X36 | X37 | X38 | X39 | ... | X691 | X692 | X693 | X694 | X695 | X696 | X697 | X698 | X699 | X700 |\n",
       "|---|---|---|---|---|---|---|---|---|---|---|---|---|---|---|---|---|---|---|---|---|\n",
       "| 0            | 0            | 0            | 0            | 0            | 0            | 1.295662e-06 | 1.315240e-06 | 1.377055e-06 | 1.493326e-06 | ...          | 0.000000e+00 | 0.000000e+00 | 0.000000e+00 | 0.000000e+00 | 0.000000e+00 | 0            | 0            | 0            | 0            | 0            |\n",
       "| 0            | 0            | 0            | 0            | 0            | 0            | 1.898063e-06 | 2.292049e-06 | 2.673739e-06 | 2.929634e-06 | ...          | 0.000000e+00 | 0.000000e+00 | 0.000000e+00 | 0.000000e+00 | 0.000000e+00 | 0            | 0            | 0            | 0            | 0            |\n",
       "| 0            | 0            | 0            | 0            | 0            | 0            | 1.114137e-06 | 1.158812e-06 | 1.143512e-06 | 1.142800e-06 | ...          | 0.000000e+00 | 0.000000e+00 | 0.000000e+00 | 0.000000e+00 | 0.000000e+00 | 0            | 0            | 0            | 0            | 0            |\n",
       "| 0            | 0            | 0            | 0            | 0            | 0            | 8.292440e-07 | 8.302439e-07 | 8.203466e-07 | 8.455300e-07 | ...          | 0.000000e+00 | 0.000000e+00 | 0.000000e+00 | 0.000000e+00 | 0.000000e+00 | 0            | 0            | 0            | 0            | 0            |\n",
       "| 0            | 0            | 0            | 0            | 0            | 0            | 6.358502e-07 | 7.854683e-07 | 1.037024e-06 | 1.299074e-06 | ...          | 1.429406e-07 | 1.337957e-07 | 1.097238e-07 | 7.883745e-08 | 4.962914e-08 | 0            | 0            | 0            | 0            | 0            |\n",
       "| 0            | 0            | 0            | 0            | 0            | 0            | 1.369131e-06 | 1.302297e-06 | 1.181740e-06 | 1.057154e-06 | ...          | 0.000000e+00 | 0.000000e+00 | 0.000000e+00 | 0.000000e+00 | 0.000000e+00 | 0            | 0            | 0            | 0            | 0            |\n",
       "\n"
      ],
      "text/plain": [
       "  X30 X31 X32 X33 X34 X35 X36          X37          X38          X39         \n",
       "1 0   0   0   0   0   0   1.295662e-06 1.315240e-06 1.377055e-06 1.493326e-06\n",
       "2 0   0   0   0   0   0   1.898063e-06 2.292049e-06 2.673739e-06 2.929634e-06\n",
       "3 0   0   0   0   0   0   1.114137e-06 1.158812e-06 1.143512e-06 1.142800e-06\n",
       "4 0   0   0   0   0   0   8.292440e-07 8.302439e-07 8.203466e-07 8.455300e-07\n",
       "5 0   0   0   0   0   0   6.358502e-07 7.854683e-07 1.037024e-06 1.299074e-06\n",
       "6 0   0   0   0   0   0   1.369131e-06 1.302297e-06 1.181740e-06 1.057154e-06\n",
       "  ... X691         X692         X693         X694         X695         X696\n",
       "1 ... 0.000000e+00 0.000000e+00 0.000000e+00 0.000000e+00 0.000000e+00 0   \n",
       "2 ... 0.000000e+00 0.000000e+00 0.000000e+00 0.000000e+00 0.000000e+00 0   \n",
       "3 ... 0.000000e+00 0.000000e+00 0.000000e+00 0.000000e+00 0.000000e+00 0   \n",
       "4 ... 0.000000e+00 0.000000e+00 0.000000e+00 0.000000e+00 0.000000e+00 0   \n",
       "5 ... 1.429406e-07 1.337957e-07 1.097238e-07 7.883745e-08 4.962914e-08 0   \n",
       "6 ... 0.000000e+00 0.000000e+00 0.000000e+00 0.000000e+00 0.000000e+00 0   \n",
       "  X697 X698 X699 X700\n",
       "1 0    0    0    0   \n",
       "2 0    0    0    0   \n",
       "3 0    0    0    0   \n",
       "4 0    0    0    0   \n",
       "5 0    0    0    0   \n",
       "6 0    0    0    0   "
      ]
     },
     "metadata": {},
     "output_type": "display_data"
    }
   ],
   "source": [
    "sum_control_ATAC_bin_rm_gaussian_mean <- read.csv(\"../data/sum_control_normalized_gaussian_smooth_ATAC_bin_rm.csv\")\n",
    "ATAC_value <- sum_control_ATAC_bin_rm_gaussian_mean %>% select(ATAC_val)\n",
    "head(ATAC_value)\n",
    "sum_control_ATAC_bin_rm_gaussian_mean = sum_control_ATAC_bin_rm_gaussian_mean %>% select(-ATAC_val)\n",
    "\n",
    "head(sum_control_ATAC_bin_rm_gaussian_mean)"
   ]
  },
  {
   "cell_type": "code",
   "execution_count": 11,
   "id": "dd3eb4c6-e451-44cc-8fb1-35a75aa4cad5",
   "metadata": {},
   "outputs": [
    {
     "data": {
      "text/html": [
       "<table>\n",
       "<thead><tr><th scope=col>X80</th><th scope=col>X81</th><th scope=col>X82</th><th scope=col>X83</th><th scope=col>X84</th><th scope=col>X85</th><th scope=col>X86</th><th scope=col>X87</th><th scope=col>X88</th><th scope=col>X89</th><th scope=col>...</th><th scope=col>X392</th><th scope=col>X393</th><th scope=col>X394</th><th scope=col>X395</th><th scope=col>X396</th><th scope=col>X397</th><th scope=col>X398</th><th scope=col>X399</th><th scope=col>X400</th><th scope=col>ATAC_val</th></tr></thead>\n",
       "<tbody>\n",
       "\t<tr><td>1.941075e-05</td><td>2.079943e-05</td><td>2.162218e-05</td><td>2.244632e-05</td><td>2.353735e-05</td><td>2.524666e-05</td><td>2.846163e-05</td><td>3.416138e-05</td><td>4.175699e-05</td><td>5.068301e-05</td><td>...         </td><td>7.389605e-05</td><td>7.064061e-05</td><td>6.691617e-05</td><td>6.300203e-05</td><td>5.890176e-05</td><td>5.505384e-05</td><td>5.169955e-05</td><td>4.846250e-05</td><td>4.546832e-05</td><td>0.5931657   </td></tr>\n",
       "\t<tr><td>3.340475e-05</td><td>3.604897e-05</td><td>3.813424e-05</td><td>3.972881e-05</td><td>4.136925e-05</td><td>4.373924e-05</td><td>4.763574e-05</td><td>5.387640e-05</td><td>6.273863e-05</td><td>7.350752e-05</td><td>...         </td><td>9.652966e-05</td><td>9.020873e-05</td><td>8.499570e-05</td><td>8.022667e-05</td><td>7.591143e-05</td><td>7.223015e-05</td><td>6.880952e-05</td><td>6.539239e-05</td><td>6.217557e-05</td><td>0.4089315   </td></tr>\n",
       "\t<tr><td>1.827843e-05</td><td>1.906753e-05</td><td>1.961684e-05</td><td>2.002694e-05</td><td>2.043854e-05</td><td>2.184018e-05</td><td>2.401005e-05</td><td>2.806282e-05</td><td>3.377775e-05</td><td>4.125139e-05</td><td>...         </td><td>9.453006e-05</td><td>9.032740e-05</td><td>8.597152e-05</td><td>8.156974e-05</td><td>7.759355e-05</td><td>7.430006e-05</td><td>7.126369e-05</td><td>6.859701e-05</td><td>6.604890e-05</td><td>0.3058228   </td></tr>\n",
       "\t<tr><td>1.889019e-05</td><td>2.052863e-05</td><td>2.166710e-05</td><td>2.231962e-05</td><td>2.285308e-05</td><td>2.389903e-05</td><td>2.591130e-05</td><td>2.996872e-05</td><td>3.643993e-05</td><td>4.400150e-05</td><td>...         </td><td>7.566216e-05</td><td>7.139018e-05</td><td>6.710408e-05</td><td>6.303360e-05</td><td>5.923884e-05</td><td>5.550531e-05</td><td>5.198491e-05</td><td>4.928195e-05</td><td>4.691004e-05</td><td>0.4764137   </td></tr>\n",
       "\t<tr><td>1.210448e-05</td><td>1.325520e-05</td><td>1.430822e-05</td><td>1.507180e-05</td><td>1.577416e-05</td><td>1.690351e-05</td><td>1.881520e-05</td><td>2.241909e-05</td><td>2.754345e-05</td><td>3.405389e-05</td><td>...         </td><td>8.331454e-05</td><td>7.885015e-05</td><td>7.475785e-05</td><td>7.066735e-05</td><td>6.703360e-05</td><td>6.344876e-05</td><td>6.032220e-05</td><td>5.786202e-05</td><td>5.525848e-05</td><td>0.2862775   </td></tr>\n",
       "\t<tr><td>1.368989e-05</td><td>1.531414e-05</td><td>1.667634e-05</td><td>1.768305e-05</td><td>1.861072e-05</td><td>2.007812e-05</td><td>2.246905e-05</td><td>2.612024e-05</td><td>3.174561e-05</td><td>3.872263e-05</td><td>...         </td><td>8.273963e-05</td><td>7.837361e-05</td><td>7.445714e-05</td><td>7.078112e-05</td><td>6.741255e-05</td><td>6.405234e-05</td><td>6.083425e-05</td><td>5.773046e-05</td><td>5.479946e-05</td><td>0.3169988   </td></tr>\n",
       "</tbody>\n",
       "</table>\n"
      ],
      "text/latex": [
       "\\begin{tabular}{r|llllllllllllllllllllllllllllllllllllllllllllllllllllllllllllllllllllllllllllllllllllllllllllllllllllllllllllllllllllllllllllllllllllllllllllllllllllllllllllllllllllllllllllllllllllllllllllllllllllllllllllllllllllllllllllllllllllllllllllllllllllllllllllllllllllllllllllllllllllllllllllllllllllllllllllllllllllllllllllllllll}\n",
       " X80 & X81 & X82 & X83 & X84 & X85 & X86 & X87 & X88 & X89 & ... & X392 & X393 & X394 & X395 & X396 & X397 & X398 & X399 & X400 & ATAC\\_val\\\\\n",
       "\\hline\n",
       "\t 1.941075e-05 & 2.079943e-05 & 2.162218e-05 & 2.244632e-05 & 2.353735e-05 & 2.524666e-05 & 2.846163e-05 & 3.416138e-05 & 4.175699e-05 & 5.068301e-05 & ...          & 7.389605e-05 & 7.064061e-05 & 6.691617e-05 & 6.300203e-05 & 5.890176e-05 & 5.505384e-05 & 5.169955e-05 & 4.846250e-05 & 4.546832e-05 & 0.5931657   \\\\\n",
       "\t 3.340475e-05 & 3.604897e-05 & 3.813424e-05 & 3.972881e-05 & 4.136925e-05 & 4.373924e-05 & 4.763574e-05 & 5.387640e-05 & 6.273863e-05 & 7.350752e-05 & ...          & 9.652966e-05 & 9.020873e-05 & 8.499570e-05 & 8.022667e-05 & 7.591143e-05 & 7.223015e-05 & 6.880952e-05 & 6.539239e-05 & 6.217557e-05 & 0.4089315   \\\\\n",
       "\t 1.827843e-05 & 1.906753e-05 & 1.961684e-05 & 2.002694e-05 & 2.043854e-05 & 2.184018e-05 & 2.401005e-05 & 2.806282e-05 & 3.377775e-05 & 4.125139e-05 & ...          & 9.453006e-05 & 9.032740e-05 & 8.597152e-05 & 8.156974e-05 & 7.759355e-05 & 7.430006e-05 & 7.126369e-05 & 6.859701e-05 & 6.604890e-05 & 0.3058228   \\\\\n",
       "\t 1.889019e-05 & 2.052863e-05 & 2.166710e-05 & 2.231962e-05 & 2.285308e-05 & 2.389903e-05 & 2.591130e-05 & 2.996872e-05 & 3.643993e-05 & 4.400150e-05 & ...          & 7.566216e-05 & 7.139018e-05 & 6.710408e-05 & 6.303360e-05 & 5.923884e-05 & 5.550531e-05 & 5.198491e-05 & 4.928195e-05 & 4.691004e-05 & 0.4764137   \\\\\n",
       "\t 1.210448e-05 & 1.325520e-05 & 1.430822e-05 & 1.507180e-05 & 1.577416e-05 & 1.690351e-05 & 1.881520e-05 & 2.241909e-05 & 2.754345e-05 & 3.405389e-05 & ...          & 8.331454e-05 & 7.885015e-05 & 7.475785e-05 & 7.066735e-05 & 6.703360e-05 & 6.344876e-05 & 6.032220e-05 & 5.786202e-05 & 5.525848e-05 & 0.2862775   \\\\\n",
       "\t 1.368989e-05 & 1.531414e-05 & 1.667634e-05 & 1.768305e-05 & 1.861072e-05 & 2.007812e-05 & 2.246905e-05 & 2.612024e-05 & 3.174561e-05 & 3.872263e-05 & ...          & 8.273963e-05 & 7.837361e-05 & 7.445714e-05 & 7.078112e-05 & 6.741255e-05 & 6.405234e-05 & 6.083425e-05 & 5.773046e-05 & 5.479946e-05 & 0.3169988   \\\\\n",
       "\\end{tabular}\n"
      ],
      "text/markdown": [
       "\n",
       "| X80 | X81 | X82 | X83 | X84 | X85 | X86 | X87 | X88 | X89 | ... | X392 | X393 | X394 | X395 | X396 | X397 | X398 | X399 | X400 | ATAC_val |\n",
       "|---|---|---|---|---|---|---|---|---|---|---|---|---|---|---|---|---|---|---|---|---|\n",
       "| 1.941075e-05 | 2.079943e-05 | 2.162218e-05 | 2.244632e-05 | 2.353735e-05 | 2.524666e-05 | 2.846163e-05 | 3.416138e-05 | 4.175699e-05 | 5.068301e-05 | ...          | 7.389605e-05 | 7.064061e-05 | 6.691617e-05 | 6.300203e-05 | 5.890176e-05 | 5.505384e-05 | 5.169955e-05 | 4.846250e-05 | 4.546832e-05 | 0.5931657    |\n",
       "| 3.340475e-05 | 3.604897e-05 | 3.813424e-05 | 3.972881e-05 | 4.136925e-05 | 4.373924e-05 | 4.763574e-05 | 5.387640e-05 | 6.273863e-05 | 7.350752e-05 | ...          | 9.652966e-05 | 9.020873e-05 | 8.499570e-05 | 8.022667e-05 | 7.591143e-05 | 7.223015e-05 | 6.880952e-05 | 6.539239e-05 | 6.217557e-05 | 0.4089315    |\n",
       "| 1.827843e-05 | 1.906753e-05 | 1.961684e-05 | 2.002694e-05 | 2.043854e-05 | 2.184018e-05 | 2.401005e-05 | 2.806282e-05 | 3.377775e-05 | 4.125139e-05 | ...          | 9.453006e-05 | 9.032740e-05 | 8.597152e-05 | 8.156974e-05 | 7.759355e-05 | 7.430006e-05 | 7.126369e-05 | 6.859701e-05 | 6.604890e-05 | 0.3058228    |\n",
       "| 1.889019e-05 | 2.052863e-05 | 2.166710e-05 | 2.231962e-05 | 2.285308e-05 | 2.389903e-05 | 2.591130e-05 | 2.996872e-05 | 3.643993e-05 | 4.400150e-05 | ...          | 7.566216e-05 | 7.139018e-05 | 6.710408e-05 | 6.303360e-05 | 5.923884e-05 | 5.550531e-05 | 5.198491e-05 | 4.928195e-05 | 4.691004e-05 | 0.4764137    |\n",
       "| 1.210448e-05 | 1.325520e-05 | 1.430822e-05 | 1.507180e-05 | 1.577416e-05 | 1.690351e-05 | 1.881520e-05 | 2.241909e-05 | 2.754345e-05 | 3.405389e-05 | ...          | 8.331454e-05 | 7.885015e-05 | 7.475785e-05 | 7.066735e-05 | 6.703360e-05 | 6.344876e-05 | 6.032220e-05 | 5.786202e-05 | 5.525848e-05 | 0.2862775    |\n",
       "| 1.368989e-05 | 1.531414e-05 | 1.667634e-05 | 1.768305e-05 | 1.861072e-05 | 2.007812e-05 | 2.246905e-05 | 2.612024e-05 | 3.174561e-05 | 3.872263e-05 | ...          | 8.273963e-05 | 7.837361e-05 | 7.445714e-05 | 7.078112e-05 | 6.741255e-05 | 6.405234e-05 | 6.083425e-05 | 5.773046e-05 | 5.479946e-05 | 0.3169988    |\n",
       "\n"
      ],
      "text/plain": [
       "  X80          X81          X82          X83          X84          X85         \n",
       "1 1.941075e-05 2.079943e-05 2.162218e-05 2.244632e-05 2.353735e-05 2.524666e-05\n",
       "2 3.340475e-05 3.604897e-05 3.813424e-05 3.972881e-05 4.136925e-05 4.373924e-05\n",
       "3 1.827843e-05 1.906753e-05 1.961684e-05 2.002694e-05 2.043854e-05 2.184018e-05\n",
       "4 1.889019e-05 2.052863e-05 2.166710e-05 2.231962e-05 2.285308e-05 2.389903e-05\n",
       "5 1.210448e-05 1.325520e-05 1.430822e-05 1.507180e-05 1.577416e-05 1.690351e-05\n",
       "6 1.368989e-05 1.531414e-05 1.667634e-05 1.768305e-05 1.861072e-05 2.007812e-05\n",
       "  X86          X87          X88          X89          ... X392        \n",
       "1 2.846163e-05 3.416138e-05 4.175699e-05 5.068301e-05 ... 7.389605e-05\n",
       "2 4.763574e-05 5.387640e-05 6.273863e-05 7.350752e-05 ... 9.652966e-05\n",
       "3 2.401005e-05 2.806282e-05 3.377775e-05 4.125139e-05 ... 9.453006e-05\n",
       "4 2.591130e-05 2.996872e-05 3.643993e-05 4.400150e-05 ... 7.566216e-05\n",
       "5 1.881520e-05 2.241909e-05 2.754345e-05 3.405389e-05 ... 8.331454e-05\n",
       "6 2.246905e-05 2.612024e-05 3.174561e-05 3.872263e-05 ... 8.273963e-05\n",
       "  X393         X394         X395         X396         X397         X398        \n",
       "1 7.064061e-05 6.691617e-05 6.300203e-05 5.890176e-05 5.505384e-05 5.169955e-05\n",
       "2 9.020873e-05 8.499570e-05 8.022667e-05 7.591143e-05 7.223015e-05 6.880952e-05\n",
       "3 9.032740e-05 8.597152e-05 8.156974e-05 7.759355e-05 7.430006e-05 7.126369e-05\n",
       "4 7.139018e-05 6.710408e-05 6.303360e-05 5.923884e-05 5.550531e-05 5.198491e-05\n",
       "5 7.885015e-05 7.475785e-05 7.066735e-05 6.703360e-05 6.344876e-05 6.032220e-05\n",
       "6 7.837361e-05 7.445714e-05 7.078112e-05 6.741255e-05 6.405234e-05 6.083425e-05\n",
       "  X399         X400         ATAC_val \n",
       "1 4.846250e-05 4.546832e-05 0.5931657\n",
       "2 6.539239e-05 6.217557e-05 0.4089315\n",
       "3 6.859701e-05 6.604890e-05 0.3058228\n",
       "4 4.928195e-05 4.691004e-05 0.4764137\n",
       "5 5.786202e-05 5.525848e-05 0.2862775\n",
       "6 5.773046e-05 5.479946e-05 0.3169988"
      ]
     },
     "metadata": {},
     "output_type": "display_data"
    },
    {
     "data": {
      "text/html": [
       "<ol class=list-inline>\n",
       "\t<li>10303</li>\n",
       "\t<li>322</li>\n",
       "</ol>\n"
      ],
      "text/latex": [
       "\\begin{enumerate*}\n",
       "\\item 10303\n",
       "\\item 322\n",
       "\\end{enumerate*}\n"
      ],
      "text/markdown": [
       "1. 10303\n",
       "2. 322\n",
       "\n",
       "\n"
      ],
      "text/plain": [
       "[1] 10303   322"
      ]
     },
     "metadata": {},
     "output_type": "display_data"
    }
   ],
   "source": [
    "sum_control_normalized_gaussian_trimmed <- sum_control_ATAC_bin_rm_gaussian_mean %>% select(X80:X400)\n",
    "sum_control_normalized_gaussian_trimmed <- sum_control_normalized_gaussian_trimmed %>% mutate(ATAC_val = ATAC_value$ATAC_val)\n",
    "head(sum_control_normalized_gaussian_trimmed)\n",
    "dim(sum_control_normalized_gaussian_trimmed)\n"
   ]
  },
  {
   "cell_type": "code",
   "execution_count": 12,
   "id": "3be4eee0-3c2b-46b7-b83b-1118b5d0fded",
   "metadata": {},
   "outputs": [],
   "source": [
    "write.table(sum_control_normalized_gaussian_trimmed, \"../data/sum_control_ATAC_bin_rm_gaussian_smooth_trimmed_CONTROLS.csv\", append = F, sep=',', col.names=T, row.names=F)"
   ]
  },
  {
   "cell_type": "markdown",
   "id": "b135659d-c910-4470-847f-4f126f804a92",
   "metadata": {},
   "source": [
    "### 4) Discarding start and end of histograms for all the normalized and rolling mean smoothed summed controls"
   ]
  },
  {
   "cell_type": "code",
   "execution_count": 11,
   "id": "973e145f-5e89-4c6f-9432-4f6cc9404d53",
   "metadata": {},
   "outputs": [
    {
     "data": {
      "text/html": [
       "<table>\n",
       "<thead><tr><th scope=col>X30</th><th scope=col>X31</th><th scope=col>X32</th><th scope=col>X33</th><th scope=col>X34</th><th scope=col>X35</th><th scope=col>X36</th><th scope=col>X37</th><th scope=col>X38</th><th scope=col>X39</th><th scope=col>...</th><th scope=col>X692</th><th scope=col>X693</th><th scope=col>X694</th><th scope=col>X695</th><th scope=col>X696</th><th scope=col>X697</th><th scope=col>X698</th><th scope=col>X699</th><th scope=col>X700</th><th scope=col>ATAC_val</th></tr></thead>\n",
       "<tbody>\n",
       "\t<tr><td>1.449941e-06</td><td>1.491368e-06</td><td>1.522438e-06</td><td>1.353278e-06</td><td>1.478940e-06</td><td>1.423579e-06</td><td>1.581754e-06</td><td>1.581754e-06</td><td>1.502666e-06</td><td>1.581754e-06</td><td>...         </td><td>0.000000e+00</td><td>0.000000e+00</td><td>0.000000e+00</td><td>0.000000e+00</td><td>0.000000e+00</td><td>0.000000e+00</td><td>0.000000e+00</td><td>0.000000e+00</td><td>0.000000e+00</td><td>0.5931657   </td></tr>\n",
       "\t<tr><td>8.313727e-07</td><td>8.313727e-07</td><td>1.454902e-06</td><td>1.662745e-06</td><td>1.829020e-06</td><td>2.040642e-06</td><td>2.116221e-06</td><td>2.342959e-06</td><td>2.494118e-06</td><td>2.645277e-06</td><td>...         </td><td>0.000000e+00</td><td>0.000000e+00</td><td>0.000000e+00</td><td>0.000000e+00</td><td>0.000000e+00</td><td>0.000000e+00</td><td>0.000000e+00</td><td>0.000000e+00</td><td>0.000000e+00</td><td>0.4089315   </td></tr>\n",
       "\t<tr><td>7.254811e-07</td><td>9.949456e-07</td><td>1.305866e-06</td><td>1.160770e-06</td><td>1.131751e-06</td><td>1.028864e-06</td><td>1.028864e-06</td><td>9.497208e-07</td><td>1.108008e-06</td><td>1.108008e-06</td><td>...         </td><td>0.000000e+00</td><td>0.000000e+00</td><td>0.000000e+00</td><td>7.914340e-08</td><td>8.705774e-08</td><td>9.673082e-08</td><td>1.088222e-07</td><td>1.243682e-07</td><td>1.450962e-07</td><td>0.3058228   </td></tr>\n",
       "\t<tr><td>8.503423e-07</td><td>8.503423e-07</td><td>7.440495e-07</td><td>7.558598e-07</td><td>7.653081e-07</td><td>7.730385e-07</td><td>8.503423e-07</td><td>8.503423e-07</td><td>9.276462e-07</td><td>8.503423e-07</td><td>...         </td><td>0.000000e+00</td><td>0.000000e+00</td><td>0.000000e+00</td><td>0.000000e+00</td><td>0.000000e+00</td><td>0.000000e+00</td><td>0.000000e+00</td><td>0.000000e+00</td><td>0.000000e+00</td><td>0.4764137   </td></tr>\n",
       "\t<tr><td>3.138859e-07</td><td>4.035676e-07</td><td>3.531216e-07</td><td>6.277718e-07</td><td>5.649946e-07</td><td>7.704472e-07</td><td>8.560525e-07</td><td>1.198473e-06</td><td>1.369684e-06</td><td>1.455289e-06</td><td>...         </td><td>8.560525e-08</td><td>8.560525e-08</td><td>8.560525e-08</td><td>8.560525e-08</td><td>0.000000e+00</td><td>0.000000e+00</td><td>0.000000e+00</td><td>0.000000e+00</td><td>0.000000e+00</td><td>0.2862775   </td></tr>\n",
       "\t<tr><td>1.266337e-06</td><td>1.206035e-06</td><td>1.055281e-06</td><td>1.219435e-06</td><td>1.097492e-06</td><td>1.151215e-06</td><td>1.151215e-06</td><td>1.151215e-06</td><td>1.227963e-06</td><td>9.977199e-07</td><td>...         </td><td>0.000000e+00</td><td>0.000000e+00</td><td>0.000000e+00</td><td>0.000000e+00</td><td>0.000000e+00</td><td>0.000000e+00</td><td>0.000000e+00</td><td>0.000000e+00</td><td>0.000000e+00</td><td>0.3169988   </td></tr>\n",
       "</tbody>\n",
       "</table>\n"
      ],
      "text/latex": [
       "\\begin{tabular}{r|llllllllllllllllllllllllllllllllllllllllllllllllllllllllllllllllllllllllllllllllllllllllllllllllllllllllllllllllllllllllllllllllllllllllllllllllllllllllllllllllllllllllllllllllllllllllllllllllllllllllllllllllllllllllllllllllllllllllllllllllllllllllllllllllllllllllllllllllllllllllllllllllllllllllllllllllllllllllllllllllllllllllllllllllllllllllllllllllllllllllllllllllllllllllllllllllllllllllllllllllllllllllllllllllllllllllllllllllllllllllllllllllllllllllllllllllllllllllllllllllllllllllllllllllllllllllllllllllllllllllllllllllllllllllllllllllllllllllllllllllllllllllllllllllllllllllllllllllllllllllllllllllllllllllllllllllllllllllllllllllllllllllllllllllllllllllllllllll}\n",
       " X30 & X31 & X32 & X33 & X34 & X35 & X36 & X37 & X38 & X39 & ... & X692 & X693 & X694 & X695 & X696 & X697 & X698 & X699 & X700 & ATAC\\_val\\\\\n",
       "\\hline\n",
       "\t 1.449941e-06 & 1.491368e-06 & 1.522438e-06 & 1.353278e-06 & 1.478940e-06 & 1.423579e-06 & 1.581754e-06 & 1.581754e-06 & 1.502666e-06 & 1.581754e-06 & ...          & 0.000000e+00 & 0.000000e+00 & 0.000000e+00 & 0.000000e+00 & 0.000000e+00 & 0.000000e+00 & 0.000000e+00 & 0.000000e+00 & 0.000000e+00 & 0.5931657   \\\\\n",
       "\t 8.313727e-07 & 8.313727e-07 & 1.454902e-06 & 1.662745e-06 & 1.829020e-06 & 2.040642e-06 & 2.116221e-06 & 2.342959e-06 & 2.494118e-06 & 2.645277e-06 & ...          & 0.000000e+00 & 0.000000e+00 & 0.000000e+00 & 0.000000e+00 & 0.000000e+00 & 0.000000e+00 & 0.000000e+00 & 0.000000e+00 & 0.000000e+00 & 0.4089315   \\\\\n",
       "\t 7.254811e-07 & 9.949456e-07 & 1.305866e-06 & 1.160770e-06 & 1.131751e-06 & 1.028864e-06 & 1.028864e-06 & 9.497208e-07 & 1.108008e-06 & 1.108008e-06 & ...          & 0.000000e+00 & 0.000000e+00 & 0.000000e+00 & 7.914340e-08 & 8.705774e-08 & 9.673082e-08 & 1.088222e-07 & 1.243682e-07 & 1.450962e-07 & 0.3058228   \\\\\n",
       "\t 8.503423e-07 & 8.503423e-07 & 7.440495e-07 & 7.558598e-07 & 7.653081e-07 & 7.730385e-07 & 8.503423e-07 & 8.503423e-07 & 9.276462e-07 & 8.503423e-07 & ...          & 0.000000e+00 & 0.000000e+00 & 0.000000e+00 & 0.000000e+00 & 0.000000e+00 & 0.000000e+00 & 0.000000e+00 & 0.000000e+00 & 0.000000e+00 & 0.4764137   \\\\\n",
       "\t 3.138859e-07 & 4.035676e-07 & 3.531216e-07 & 6.277718e-07 & 5.649946e-07 & 7.704472e-07 & 8.560525e-07 & 1.198473e-06 & 1.369684e-06 & 1.455289e-06 & ...          & 8.560525e-08 & 8.560525e-08 & 8.560525e-08 & 8.560525e-08 & 0.000000e+00 & 0.000000e+00 & 0.000000e+00 & 0.000000e+00 & 0.000000e+00 & 0.2862775   \\\\\n",
       "\t 1.266337e-06 & 1.206035e-06 & 1.055281e-06 & 1.219435e-06 & 1.097492e-06 & 1.151215e-06 & 1.151215e-06 & 1.151215e-06 & 1.227963e-06 & 9.977199e-07 & ...          & 0.000000e+00 & 0.000000e+00 & 0.000000e+00 & 0.000000e+00 & 0.000000e+00 & 0.000000e+00 & 0.000000e+00 & 0.000000e+00 & 0.000000e+00 & 0.3169988   \\\\\n",
       "\\end{tabular}\n"
      ],
      "text/markdown": [
       "\n",
       "| X30 | X31 | X32 | X33 | X34 | X35 | X36 | X37 | X38 | X39 | ... | X692 | X693 | X694 | X695 | X696 | X697 | X698 | X699 | X700 | ATAC_val |\n",
       "|---|---|---|---|---|---|---|---|---|---|---|---|---|---|---|---|---|---|---|---|---|\n",
       "| 1.449941e-06 | 1.491368e-06 | 1.522438e-06 | 1.353278e-06 | 1.478940e-06 | 1.423579e-06 | 1.581754e-06 | 1.581754e-06 | 1.502666e-06 | 1.581754e-06 | ...          | 0.000000e+00 | 0.000000e+00 | 0.000000e+00 | 0.000000e+00 | 0.000000e+00 | 0.000000e+00 | 0.000000e+00 | 0.000000e+00 | 0.000000e+00 | 0.5931657    |\n",
       "| 8.313727e-07 | 8.313727e-07 | 1.454902e-06 | 1.662745e-06 | 1.829020e-06 | 2.040642e-06 | 2.116221e-06 | 2.342959e-06 | 2.494118e-06 | 2.645277e-06 | ...          | 0.000000e+00 | 0.000000e+00 | 0.000000e+00 | 0.000000e+00 | 0.000000e+00 | 0.000000e+00 | 0.000000e+00 | 0.000000e+00 | 0.000000e+00 | 0.4089315    |\n",
       "| 7.254811e-07 | 9.949456e-07 | 1.305866e-06 | 1.160770e-06 | 1.131751e-06 | 1.028864e-06 | 1.028864e-06 | 9.497208e-07 | 1.108008e-06 | 1.108008e-06 | ...          | 0.000000e+00 | 0.000000e+00 | 0.000000e+00 | 7.914340e-08 | 8.705774e-08 | 9.673082e-08 | 1.088222e-07 | 1.243682e-07 | 1.450962e-07 | 0.3058228    |\n",
       "| 8.503423e-07 | 8.503423e-07 | 7.440495e-07 | 7.558598e-07 | 7.653081e-07 | 7.730385e-07 | 8.503423e-07 | 8.503423e-07 | 9.276462e-07 | 8.503423e-07 | ...          | 0.000000e+00 | 0.000000e+00 | 0.000000e+00 | 0.000000e+00 | 0.000000e+00 | 0.000000e+00 | 0.000000e+00 | 0.000000e+00 | 0.000000e+00 | 0.4764137    |\n",
       "| 3.138859e-07 | 4.035676e-07 | 3.531216e-07 | 6.277718e-07 | 5.649946e-07 | 7.704472e-07 | 8.560525e-07 | 1.198473e-06 | 1.369684e-06 | 1.455289e-06 | ...          | 8.560525e-08 | 8.560525e-08 | 8.560525e-08 | 8.560525e-08 | 0.000000e+00 | 0.000000e+00 | 0.000000e+00 | 0.000000e+00 | 0.000000e+00 | 0.2862775    |\n",
       "| 1.266337e-06 | 1.206035e-06 | 1.055281e-06 | 1.219435e-06 | 1.097492e-06 | 1.151215e-06 | 1.151215e-06 | 1.151215e-06 | 1.227963e-06 | 9.977199e-07 | ...          | 0.000000e+00 | 0.000000e+00 | 0.000000e+00 | 0.000000e+00 | 0.000000e+00 | 0.000000e+00 | 0.000000e+00 | 0.000000e+00 | 0.000000e+00 | 0.3169988    |\n",
       "\n"
      ],
      "text/plain": [
       "  X30          X31          X32          X33          X34          X35         \n",
       "1 1.449941e-06 1.491368e-06 1.522438e-06 1.353278e-06 1.478940e-06 1.423579e-06\n",
       "2 8.313727e-07 8.313727e-07 1.454902e-06 1.662745e-06 1.829020e-06 2.040642e-06\n",
       "3 7.254811e-07 9.949456e-07 1.305866e-06 1.160770e-06 1.131751e-06 1.028864e-06\n",
       "4 8.503423e-07 8.503423e-07 7.440495e-07 7.558598e-07 7.653081e-07 7.730385e-07\n",
       "5 3.138859e-07 4.035676e-07 3.531216e-07 6.277718e-07 5.649946e-07 7.704472e-07\n",
       "6 1.266337e-06 1.206035e-06 1.055281e-06 1.219435e-06 1.097492e-06 1.151215e-06\n",
       "  X36          X37          X38          X39          ... X692        \n",
       "1 1.581754e-06 1.581754e-06 1.502666e-06 1.581754e-06 ... 0.000000e+00\n",
       "2 2.116221e-06 2.342959e-06 2.494118e-06 2.645277e-06 ... 0.000000e+00\n",
       "3 1.028864e-06 9.497208e-07 1.108008e-06 1.108008e-06 ... 0.000000e+00\n",
       "4 8.503423e-07 8.503423e-07 9.276462e-07 8.503423e-07 ... 0.000000e+00\n",
       "5 8.560525e-07 1.198473e-06 1.369684e-06 1.455289e-06 ... 8.560525e-08\n",
       "6 1.151215e-06 1.151215e-06 1.227963e-06 9.977199e-07 ... 0.000000e+00\n",
       "  X693         X694         X695         X696         X697         X698        \n",
       "1 0.000000e+00 0.000000e+00 0.000000e+00 0.000000e+00 0.000000e+00 0.000000e+00\n",
       "2 0.000000e+00 0.000000e+00 0.000000e+00 0.000000e+00 0.000000e+00 0.000000e+00\n",
       "3 0.000000e+00 0.000000e+00 7.914340e-08 8.705774e-08 9.673082e-08 1.088222e-07\n",
       "4 0.000000e+00 0.000000e+00 0.000000e+00 0.000000e+00 0.000000e+00 0.000000e+00\n",
       "5 8.560525e-08 8.560525e-08 8.560525e-08 0.000000e+00 0.000000e+00 0.000000e+00\n",
       "6 0.000000e+00 0.000000e+00 0.000000e+00 0.000000e+00 0.000000e+00 0.000000e+00\n",
       "  X699         X700         ATAC_val \n",
       "1 0.000000e+00 0.000000e+00 0.5931657\n",
       "2 0.000000e+00 0.000000e+00 0.4089315\n",
       "3 1.243682e-07 1.450962e-07 0.3058228\n",
       "4 0.000000e+00 0.000000e+00 0.4764137\n",
       "5 0.000000e+00 0.000000e+00 0.2862775\n",
       "6 0.000000e+00 0.000000e+00 0.3169988"
      ]
     },
     "metadata": {},
     "output_type": "display_data"
    }
   ],
   "source": [
    "sum_control_ATAC_bin_rm_sliding_mean <- read.csv(\"../data/sum_control_ATAC_bin_rm_sliding_mean.csv\") \n",
    "head(sum_control_ATAC_bin_rm_sliding_mean)"
   ]
  },
  {
   "cell_type": "code",
   "execution_count": 12,
   "id": "66424ea2-9542-4132-94a1-82d6039fbe7c",
   "metadata": {},
   "outputs": [
    {
     "data": {
      "text/html": [
       "<table>\n",
       "<thead><tr><th scope=col>ATAC_val</th></tr></thead>\n",
       "<tbody>\n",
       "\t<tr><td>0.5931657</td></tr>\n",
       "\t<tr><td>0.4089315</td></tr>\n",
       "\t<tr><td>0.3058228</td></tr>\n",
       "\t<tr><td>0.4764137</td></tr>\n",
       "\t<tr><td>0.2862775</td></tr>\n",
       "\t<tr><td>0.3169988</td></tr>\n",
       "</tbody>\n",
       "</table>\n"
      ],
      "text/latex": [
       "\\begin{tabular}{r|l}\n",
       " ATAC\\_val\\\\\n",
       "\\hline\n",
       "\t 0.5931657\\\\\n",
       "\t 0.4089315\\\\\n",
       "\t 0.3058228\\\\\n",
       "\t 0.4764137\\\\\n",
       "\t 0.2862775\\\\\n",
       "\t 0.3169988\\\\\n",
       "\\end{tabular}\n"
      ],
      "text/markdown": [
       "\n",
       "| ATAC_val |\n",
       "|---|\n",
       "| 0.5931657 |\n",
       "| 0.4089315 |\n",
       "| 0.3058228 |\n",
       "| 0.4764137 |\n",
       "| 0.2862775 |\n",
       "| 0.3169988 |\n",
       "\n"
      ],
      "text/plain": [
       "  ATAC_val \n",
       "1 0.5931657\n",
       "2 0.4089315\n",
       "3 0.3058228\n",
       "4 0.4764137\n",
       "5 0.2862775\n",
       "6 0.3169988"
      ]
     },
     "metadata": {},
     "output_type": "display_data"
    },
    {
     "data": {
      "text/html": [
       "<table>\n",
       "<thead><tr><th scope=col>X30</th><th scope=col>X31</th><th scope=col>X32</th><th scope=col>X33</th><th scope=col>X34</th><th scope=col>X35</th><th scope=col>X36</th><th scope=col>X37</th><th scope=col>X38</th><th scope=col>X39</th><th scope=col>...</th><th scope=col>X691</th><th scope=col>X692</th><th scope=col>X693</th><th scope=col>X694</th><th scope=col>X695</th><th scope=col>X696</th><th scope=col>X697</th><th scope=col>X698</th><th scope=col>X699</th><th scope=col>X700</th></tr></thead>\n",
       "<tbody>\n",
       "\t<tr><td>1.449941e-06</td><td>1.491368e-06</td><td>1.522438e-06</td><td>1.353278e-06</td><td>1.478940e-06</td><td>1.423579e-06</td><td>1.581754e-06</td><td>1.581754e-06</td><td>1.502666e-06</td><td>1.581754e-06</td><td>...         </td><td>0.000000e+00</td><td>0.000000e+00</td><td>0.000000e+00</td><td>0.000000e+00</td><td>0.000000e+00</td><td>0.000000e+00</td><td>0.000000e+00</td><td>0.000000e+00</td><td>0.000000e+00</td><td>0.000000e+00</td></tr>\n",
       "\t<tr><td>8.313727e-07</td><td>8.313727e-07</td><td>1.454902e-06</td><td>1.662745e-06</td><td>1.829020e-06</td><td>2.040642e-06</td><td>2.116221e-06</td><td>2.342959e-06</td><td>2.494118e-06</td><td>2.645277e-06</td><td>...         </td><td>0.000000e+00</td><td>0.000000e+00</td><td>0.000000e+00</td><td>0.000000e+00</td><td>0.000000e+00</td><td>0.000000e+00</td><td>0.000000e+00</td><td>0.000000e+00</td><td>0.000000e+00</td><td>0.000000e+00</td></tr>\n",
       "\t<tr><td>7.254811e-07</td><td>9.949456e-07</td><td>1.305866e-06</td><td>1.160770e-06</td><td>1.131751e-06</td><td>1.028864e-06</td><td>1.028864e-06</td><td>9.497208e-07</td><td>1.108008e-06</td><td>1.108008e-06</td><td>...         </td><td>0.000000e+00</td><td>0.000000e+00</td><td>0.000000e+00</td><td>0.000000e+00</td><td>7.914340e-08</td><td>8.705774e-08</td><td>9.673082e-08</td><td>1.088222e-07</td><td>1.243682e-07</td><td>1.450962e-07</td></tr>\n",
       "\t<tr><td>8.503423e-07</td><td>8.503423e-07</td><td>7.440495e-07</td><td>7.558598e-07</td><td>7.653081e-07</td><td>7.730385e-07</td><td>8.503423e-07</td><td>8.503423e-07</td><td>9.276462e-07</td><td>8.503423e-07</td><td>...         </td><td>0.000000e+00</td><td>0.000000e+00</td><td>0.000000e+00</td><td>0.000000e+00</td><td>0.000000e+00</td><td>0.000000e+00</td><td>0.000000e+00</td><td>0.000000e+00</td><td>0.000000e+00</td><td>0.000000e+00</td></tr>\n",
       "\t<tr><td>3.138859e-07</td><td>4.035676e-07</td><td>3.531216e-07</td><td>6.277718e-07</td><td>5.649946e-07</td><td>7.704472e-07</td><td>8.560525e-07</td><td>1.198473e-06</td><td>1.369684e-06</td><td>1.455289e-06</td><td>...         </td><td>8.560525e-08</td><td>8.560525e-08</td><td>8.560525e-08</td><td>8.560525e-08</td><td>8.560525e-08</td><td>0.000000e+00</td><td>0.000000e+00</td><td>0.000000e+00</td><td>0.000000e+00</td><td>0.000000e+00</td></tr>\n",
       "\t<tr><td>1.266337e-06</td><td>1.206035e-06</td><td>1.055281e-06</td><td>1.219435e-06</td><td>1.097492e-06</td><td>1.151215e-06</td><td>1.151215e-06</td><td>1.151215e-06</td><td>1.227963e-06</td><td>9.977199e-07</td><td>...         </td><td>0.000000e+00</td><td>0.000000e+00</td><td>0.000000e+00</td><td>0.000000e+00</td><td>0.000000e+00</td><td>0.000000e+00</td><td>0.000000e+00</td><td>0.000000e+00</td><td>0.000000e+00</td><td>0.000000e+00</td></tr>\n",
       "</tbody>\n",
       "</table>\n"
      ],
      "text/latex": [
       "\\begin{tabular}{r|lllllllllllllllllllllllllllllllllllllllllllllllllllllllllllllllllllllllllllllllllllllllllllllllllllllllllllllllllllllllllllllllllllllllllllllllllllllllllllllllllllllllllllllllllllllllllllllllllllllllllllllllllllllllllllllllllllllllllllllllllllllllllllllllllllllllllllllllllllllllllllllllllllllllllllllllllllllllllllllllllllllllllllllllllllllllllllllllllllllllllllllllllllllllllllllllllllllllllllllllllllllllllllllllllllllllllllllllllllllllllllllllllllllllllllllllllllllllllllllllllllllllllllllllllllllllllllllllllllllllllllllllllllllllllllllllllllllllllllllllllllllllllllllllllllllllllllllllllllllllllllllllllllllllllllllllllllllllllllllllllllllllllllllllllllllllllllllll}\n",
       " X30 & X31 & X32 & X33 & X34 & X35 & X36 & X37 & X38 & X39 & ... & X691 & X692 & X693 & X694 & X695 & X696 & X697 & X698 & X699 & X700\\\\\n",
       "\\hline\n",
       "\t 1.449941e-06 & 1.491368e-06 & 1.522438e-06 & 1.353278e-06 & 1.478940e-06 & 1.423579e-06 & 1.581754e-06 & 1.581754e-06 & 1.502666e-06 & 1.581754e-06 & ...          & 0.000000e+00 & 0.000000e+00 & 0.000000e+00 & 0.000000e+00 & 0.000000e+00 & 0.000000e+00 & 0.000000e+00 & 0.000000e+00 & 0.000000e+00 & 0.000000e+00\\\\\n",
       "\t 8.313727e-07 & 8.313727e-07 & 1.454902e-06 & 1.662745e-06 & 1.829020e-06 & 2.040642e-06 & 2.116221e-06 & 2.342959e-06 & 2.494118e-06 & 2.645277e-06 & ...          & 0.000000e+00 & 0.000000e+00 & 0.000000e+00 & 0.000000e+00 & 0.000000e+00 & 0.000000e+00 & 0.000000e+00 & 0.000000e+00 & 0.000000e+00 & 0.000000e+00\\\\\n",
       "\t 7.254811e-07 & 9.949456e-07 & 1.305866e-06 & 1.160770e-06 & 1.131751e-06 & 1.028864e-06 & 1.028864e-06 & 9.497208e-07 & 1.108008e-06 & 1.108008e-06 & ...          & 0.000000e+00 & 0.000000e+00 & 0.000000e+00 & 0.000000e+00 & 7.914340e-08 & 8.705774e-08 & 9.673082e-08 & 1.088222e-07 & 1.243682e-07 & 1.450962e-07\\\\\n",
       "\t 8.503423e-07 & 8.503423e-07 & 7.440495e-07 & 7.558598e-07 & 7.653081e-07 & 7.730385e-07 & 8.503423e-07 & 8.503423e-07 & 9.276462e-07 & 8.503423e-07 & ...          & 0.000000e+00 & 0.000000e+00 & 0.000000e+00 & 0.000000e+00 & 0.000000e+00 & 0.000000e+00 & 0.000000e+00 & 0.000000e+00 & 0.000000e+00 & 0.000000e+00\\\\\n",
       "\t 3.138859e-07 & 4.035676e-07 & 3.531216e-07 & 6.277718e-07 & 5.649946e-07 & 7.704472e-07 & 8.560525e-07 & 1.198473e-06 & 1.369684e-06 & 1.455289e-06 & ...          & 8.560525e-08 & 8.560525e-08 & 8.560525e-08 & 8.560525e-08 & 8.560525e-08 & 0.000000e+00 & 0.000000e+00 & 0.000000e+00 & 0.000000e+00 & 0.000000e+00\\\\\n",
       "\t 1.266337e-06 & 1.206035e-06 & 1.055281e-06 & 1.219435e-06 & 1.097492e-06 & 1.151215e-06 & 1.151215e-06 & 1.151215e-06 & 1.227963e-06 & 9.977199e-07 & ...          & 0.000000e+00 & 0.000000e+00 & 0.000000e+00 & 0.000000e+00 & 0.000000e+00 & 0.000000e+00 & 0.000000e+00 & 0.000000e+00 & 0.000000e+00 & 0.000000e+00\\\\\n",
       "\\end{tabular}\n"
      ],
      "text/markdown": [
       "\n",
       "| X30 | X31 | X32 | X33 | X34 | X35 | X36 | X37 | X38 | X39 | ... | X691 | X692 | X693 | X694 | X695 | X696 | X697 | X698 | X699 | X700 |\n",
       "|---|---|---|---|---|---|---|---|---|---|---|---|---|---|---|---|---|---|---|---|---|\n",
       "| 1.449941e-06 | 1.491368e-06 | 1.522438e-06 | 1.353278e-06 | 1.478940e-06 | 1.423579e-06 | 1.581754e-06 | 1.581754e-06 | 1.502666e-06 | 1.581754e-06 | ...          | 0.000000e+00 | 0.000000e+00 | 0.000000e+00 | 0.000000e+00 | 0.000000e+00 | 0.000000e+00 | 0.000000e+00 | 0.000000e+00 | 0.000000e+00 | 0.000000e+00 |\n",
       "| 8.313727e-07 | 8.313727e-07 | 1.454902e-06 | 1.662745e-06 | 1.829020e-06 | 2.040642e-06 | 2.116221e-06 | 2.342959e-06 | 2.494118e-06 | 2.645277e-06 | ...          | 0.000000e+00 | 0.000000e+00 | 0.000000e+00 | 0.000000e+00 | 0.000000e+00 | 0.000000e+00 | 0.000000e+00 | 0.000000e+00 | 0.000000e+00 | 0.000000e+00 |\n",
       "| 7.254811e-07 | 9.949456e-07 | 1.305866e-06 | 1.160770e-06 | 1.131751e-06 | 1.028864e-06 | 1.028864e-06 | 9.497208e-07 | 1.108008e-06 | 1.108008e-06 | ...          | 0.000000e+00 | 0.000000e+00 | 0.000000e+00 | 0.000000e+00 | 7.914340e-08 | 8.705774e-08 | 9.673082e-08 | 1.088222e-07 | 1.243682e-07 | 1.450962e-07 |\n",
       "| 8.503423e-07 | 8.503423e-07 | 7.440495e-07 | 7.558598e-07 | 7.653081e-07 | 7.730385e-07 | 8.503423e-07 | 8.503423e-07 | 9.276462e-07 | 8.503423e-07 | ...          | 0.000000e+00 | 0.000000e+00 | 0.000000e+00 | 0.000000e+00 | 0.000000e+00 | 0.000000e+00 | 0.000000e+00 | 0.000000e+00 | 0.000000e+00 | 0.000000e+00 |\n",
       "| 3.138859e-07 | 4.035676e-07 | 3.531216e-07 | 6.277718e-07 | 5.649946e-07 | 7.704472e-07 | 8.560525e-07 | 1.198473e-06 | 1.369684e-06 | 1.455289e-06 | ...          | 8.560525e-08 | 8.560525e-08 | 8.560525e-08 | 8.560525e-08 | 8.560525e-08 | 0.000000e+00 | 0.000000e+00 | 0.000000e+00 | 0.000000e+00 | 0.000000e+00 |\n",
       "| 1.266337e-06 | 1.206035e-06 | 1.055281e-06 | 1.219435e-06 | 1.097492e-06 | 1.151215e-06 | 1.151215e-06 | 1.151215e-06 | 1.227963e-06 | 9.977199e-07 | ...          | 0.000000e+00 | 0.000000e+00 | 0.000000e+00 | 0.000000e+00 | 0.000000e+00 | 0.000000e+00 | 0.000000e+00 | 0.000000e+00 | 0.000000e+00 | 0.000000e+00 |\n",
       "\n"
      ],
      "text/plain": [
       "  X30          X31          X32          X33          X34          X35         \n",
       "1 1.449941e-06 1.491368e-06 1.522438e-06 1.353278e-06 1.478940e-06 1.423579e-06\n",
       "2 8.313727e-07 8.313727e-07 1.454902e-06 1.662745e-06 1.829020e-06 2.040642e-06\n",
       "3 7.254811e-07 9.949456e-07 1.305866e-06 1.160770e-06 1.131751e-06 1.028864e-06\n",
       "4 8.503423e-07 8.503423e-07 7.440495e-07 7.558598e-07 7.653081e-07 7.730385e-07\n",
       "5 3.138859e-07 4.035676e-07 3.531216e-07 6.277718e-07 5.649946e-07 7.704472e-07\n",
       "6 1.266337e-06 1.206035e-06 1.055281e-06 1.219435e-06 1.097492e-06 1.151215e-06\n",
       "  X36          X37          X38          X39          ... X691        \n",
       "1 1.581754e-06 1.581754e-06 1.502666e-06 1.581754e-06 ... 0.000000e+00\n",
       "2 2.116221e-06 2.342959e-06 2.494118e-06 2.645277e-06 ... 0.000000e+00\n",
       "3 1.028864e-06 9.497208e-07 1.108008e-06 1.108008e-06 ... 0.000000e+00\n",
       "4 8.503423e-07 8.503423e-07 9.276462e-07 8.503423e-07 ... 0.000000e+00\n",
       "5 8.560525e-07 1.198473e-06 1.369684e-06 1.455289e-06 ... 8.560525e-08\n",
       "6 1.151215e-06 1.151215e-06 1.227963e-06 9.977199e-07 ... 0.000000e+00\n",
       "  X692         X693         X694         X695         X696         X697        \n",
       "1 0.000000e+00 0.000000e+00 0.000000e+00 0.000000e+00 0.000000e+00 0.000000e+00\n",
       "2 0.000000e+00 0.000000e+00 0.000000e+00 0.000000e+00 0.000000e+00 0.000000e+00\n",
       "3 0.000000e+00 0.000000e+00 0.000000e+00 7.914340e-08 8.705774e-08 9.673082e-08\n",
       "4 0.000000e+00 0.000000e+00 0.000000e+00 0.000000e+00 0.000000e+00 0.000000e+00\n",
       "5 8.560525e-08 8.560525e-08 8.560525e-08 8.560525e-08 0.000000e+00 0.000000e+00\n",
       "6 0.000000e+00 0.000000e+00 0.000000e+00 0.000000e+00 0.000000e+00 0.000000e+00\n",
       "  X698         X699         X700        \n",
       "1 0.000000e+00 0.000000e+00 0.000000e+00\n",
       "2 0.000000e+00 0.000000e+00 0.000000e+00\n",
       "3 1.088222e-07 1.243682e-07 1.450962e-07\n",
       "4 0.000000e+00 0.000000e+00 0.000000e+00\n",
       "5 0.000000e+00 0.000000e+00 0.000000e+00\n",
       "6 0.000000e+00 0.000000e+00 0.000000e+00"
      ]
     },
     "metadata": {},
     "output_type": "display_data"
    }
   ],
   "source": [
    "ATAC_value <- sum_control_ATAC_bin_rm_sliding_mean %>% select(ATAC_val)\n",
    "head(ATAC_value)\n",
    "sum_control_ATAC_bin_rm_sliding_mean = sum_control_ATAC_bin_rm_sliding_mean %>% select(-ATAC_val)\n",
    "\n",
    "head(sum_control_ATAC_bin_rm_sliding_mean)"
   ]
  },
  {
   "cell_type": "code",
   "execution_count": 13,
   "id": "225e9959-448e-4cd2-902b-bcbe4bc3cba9",
   "metadata": {},
   "outputs": [
    {
     "data": {
      "text/html": [
       "<table>\n",
       "<thead><tr><th scope=col>X80</th><th scope=col>X81</th><th scope=col>X82</th><th scope=col>X83</th><th scope=col>X84</th><th scope=col>X85</th><th scope=col>X86</th><th scope=col>X87</th><th scope=col>X88</th><th scope=col>X89</th><th scope=col>...</th><th scope=col>X392</th><th scope=col>X393</th><th scope=col>X394</th><th scope=col>X395</th><th scope=col>X396</th><th scope=col>X397</th><th scope=col>X398</th><th scope=col>X399</th><th scope=col>X400</th><th scope=col>ATAC_val</th></tr></thead>\n",
       "<tbody>\n",
       "\t<tr><td>1.977192e-05</td><td>2.040463e-05</td><td>2.238182e-05</td><td>2.514989e-05</td><td>2.823431e-05</td><td>3.297957e-05</td><td>4.073016e-05</td><td>4.768988e-05</td><td>5.314693e-05</td><td>5.876216e-05</td><td>...         </td><td>6.896447e-05</td><td>6.627549e-05</td><td>6.366559e-05</td><td>5.971121e-05</td><td>5.591500e-05</td><td>5.275149e-05</td><td>4.871802e-05</td><td>4.563360e-05</td><td>4.270736e-05</td><td>0.5931657   </td></tr>\n",
       "\t<tr><td>3.378396e-05</td><td>3.665598e-05</td><td>3.937683e-05</td><td>4.262674e-05</td><td>4.693477e-05</td><td>5.275438e-05</td><td>6.061463e-05</td><td>6.975973e-05</td><td>7.777114e-05</td><td>8.585812e-05</td><td>...         </td><td>9.182889e-05</td><td>8.744529e-05</td><td>8.200358e-05</td><td>7.595723e-05</td><td>7.180037e-05</td><td>6.892835e-05</td><td>6.582960e-05</td><td>6.288201e-05</td><td>5.948094e-05</td><td>0.4089315   </td></tr>\n",
       "\t<tr><td>1.733240e-05</td><td>1.875698e-05</td><td>2.057728e-05</td><td>2.168529e-05</td><td>2.477188e-05</td><td>2.722533e-05</td><td>3.244879e-05</td><td>3.806797e-05</td><td>4.495345e-05</td><td>5.033520e-05</td><td>...         </td><td>8.943204e-05</td><td>8.610802e-05</td><td>8.270485e-05</td><td>7.938083e-05</td><td>7.653166e-05</td><td>7.217878e-05</td><td>6.814246e-05</td><td>6.489758e-05</td><td>6.165271e-05</td><td>0.3058228   </td></tr>\n",
       "\t<tr><td>1.832101e-05</td><td>1.986709e-05</td><td>2.156777e-05</td><td>2.365498e-05</td><td>2.651522e-05</td><td>2.976198e-05</td><td>3.548247e-05</td><td>4.305824e-05</td><td>4.738726e-05</td><td>5.132975e-05</td><td>...         </td><td>7.158336e-05</td><td>6.640400e-05</td><td>6.246151e-05</td><td>6.006509e-05</td><td>5.705024e-05</td><td>5.303044e-05</td><td>5.063402e-05</td><td>4.785108e-05</td><td>4.661422e-05</td><td>0.4764137   </td></tr>\n",
       "\t<tr><td>1.258397e-05</td><td>1.352563e-05</td><td>1.438168e-05</td><td>1.566576e-05</td><td>1.831952e-05</td><td>2.191494e-05</td><td>2.765049e-05</td><td>3.270120e-05</td><td>3.715268e-05</td><td>4.228899e-05</td><td>...         </td><td>7.901364e-05</td><td>7.464778e-05</td><td>7.045312e-05</td><td>6.797057e-05</td><td>6.446075e-05</td><td>6.146457e-05</td><td>5.949565e-05</td><td>5.521538e-05</td><td>5.281844e-05</td><td>0.2862775   </td></tr>\n",
       "\t<tr><td>1.427507e-05</td><td>1.588677e-05</td><td>1.711473e-05</td><td>1.864969e-05</td><td>2.187309e-05</td><td>2.617096e-05</td><td>3.054558e-05</td><td>3.653190e-05</td><td>4.198098e-05</td><td>4.558812e-05</td><td>...         </td><td>7.935711e-05</td><td>7.475225e-05</td><td>7.045437e-05</td><td>6.769146e-05</td><td>6.439131e-05</td><td>6.124465e-05</td><td>5.809800e-05</td><td>5.502809e-05</td><td>5.310940e-05</td><td>0.3169988   </td></tr>\n",
       "</tbody>\n",
       "</table>\n"
      ],
      "text/latex": [
       "\\begin{tabular}{r|llllllllllllllllllllllllllllllllllllllllllllllllllllllllllllllllllllllllllllllllllllllllllllllllllllllllllllllllllllllllllllllllllllllllllllllllllllllllllllllllllllllllllllllllllllllllllllllllllllllllllllllllllllllllllllllllllllllllllllllllllllllllllllllllllllllllllllllllllllllllllllllllllllllllllllllllllllllllllllllllll}\n",
       " X80 & X81 & X82 & X83 & X84 & X85 & X86 & X87 & X88 & X89 & ... & X392 & X393 & X394 & X395 & X396 & X397 & X398 & X399 & X400 & ATAC\\_val\\\\\n",
       "\\hline\n",
       "\t 1.977192e-05 & 2.040463e-05 & 2.238182e-05 & 2.514989e-05 & 2.823431e-05 & 3.297957e-05 & 4.073016e-05 & 4.768988e-05 & 5.314693e-05 & 5.876216e-05 & ...          & 6.896447e-05 & 6.627549e-05 & 6.366559e-05 & 5.971121e-05 & 5.591500e-05 & 5.275149e-05 & 4.871802e-05 & 4.563360e-05 & 4.270736e-05 & 0.5931657   \\\\\n",
       "\t 3.378396e-05 & 3.665598e-05 & 3.937683e-05 & 4.262674e-05 & 4.693477e-05 & 5.275438e-05 & 6.061463e-05 & 6.975973e-05 & 7.777114e-05 & 8.585812e-05 & ...          & 9.182889e-05 & 8.744529e-05 & 8.200358e-05 & 7.595723e-05 & 7.180037e-05 & 6.892835e-05 & 6.582960e-05 & 6.288201e-05 & 5.948094e-05 & 0.4089315   \\\\\n",
       "\t 1.733240e-05 & 1.875698e-05 & 2.057728e-05 & 2.168529e-05 & 2.477188e-05 & 2.722533e-05 & 3.244879e-05 & 3.806797e-05 & 4.495345e-05 & 5.033520e-05 & ...          & 8.943204e-05 & 8.610802e-05 & 8.270485e-05 & 7.938083e-05 & 7.653166e-05 & 7.217878e-05 & 6.814246e-05 & 6.489758e-05 & 6.165271e-05 & 0.3058228   \\\\\n",
       "\t 1.832101e-05 & 1.986709e-05 & 2.156777e-05 & 2.365498e-05 & 2.651522e-05 & 2.976198e-05 & 3.548247e-05 & 4.305824e-05 & 4.738726e-05 & 5.132975e-05 & ...          & 7.158336e-05 & 6.640400e-05 & 6.246151e-05 & 6.006509e-05 & 5.705024e-05 & 5.303044e-05 & 5.063402e-05 & 4.785108e-05 & 4.661422e-05 & 0.4764137   \\\\\n",
       "\t 1.258397e-05 & 1.352563e-05 & 1.438168e-05 & 1.566576e-05 & 1.831952e-05 & 2.191494e-05 & 2.765049e-05 & 3.270120e-05 & 3.715268e-05 & 4.228899e-05 & ...          & 7.901364e-05 & 7.464778e-05 & 7.045312e-05 & 6.797057e-05 & 6.446075e-05 & 6.146457e-05 & 5.949565e-05 & 5.521538e-05 & 5.281844e-05 & 0.2862775   \\\\\n",
       "\t 1.427507e-05 & 1.588677e-05 & 1.711473e-05 & 1.864969e-05 & 2.187309e-05 & 2.617096e-05 & 3.054558e-05 & 3.653190e-05 & 4.198098e-05 & 4.558812e-05 & ...          & 7.935711e-05 & 7.475225e-05 & 7.045437e-05 & 6.769146e-05 & 6.439131e-05 & 6.124465e-05 & 5.809800e-05 & 5.502809e-05 & 5.310940e-05 & 0.3169988   \\\\\n",
       "\\end{tabular}\n"
      ],
      "text/markdown": [
       "\n",
       "| X80 | X81 | X82 | X83 | X84 | X85 | X86 | X87 | X88 | X89 | ... | X392 | X393 | X394 | X395 | X396 | X397 | X398 | X399 | X400 | ATAC_val |\n",
       "|---|---|---|---|---|---|---|---|---|---|---|---|---|---|---|---|---|---|---|---|---|\n",
       "| 1.977192e-05 | 2.040463e-05 | 2.238182e-05 | 2.514989e-05 | 2.823431e-05 | 3.297957e-05 | 4.073016e-05 | 4.768988e-05 | 5.314693e-05 | 5.876216e-05 | ...          | 6.896447e-05 | 6.627549e-05 | 6.366559e-05 | 5.971121e-05 | 5.591500e-05 | 5.275149e-05 | 4.871802e-05 | 4.563360e-05 | 4.270736e-05 | 0.5931657    |\n",
       "| 3.378396e-05 | 3.665598e-05 | 3.937683e-05 | 4.262674e-05 | 4.693477e-05 | 5.275438e-05 | 6.061463e-05 | 6.975973e-05 | 7.777114e-05 | 8.585812e-05 | ...          | 9.182889e-05 | 8.744529e-05 | 8.200358e-05 | 7.595723e-05 | 7.180037e-05 | 6.892835e-05 | 6.582960e-05 | 6.288201e-05 | 5.948094e-05 | 0.4089315    |\n",
       "| 1.733240e-05 | 1.875698e-05 | 2.057728e-05 | 2.168529e-05 | 2.477188e-05 | 2.722533e-05 | 3.244879e-05 | 3.806797e-05 | 4.495345e-05 | 5.033520e-05 | ...          | 8.943204e-05 | 8.610802e-05 | 8.270485e-05 | 7.938083e-05 | 7.653166e-05 | 7.217878e-05 | 6.814246e-05 | 6.489758e-05 | 6.165271e-05 | 0.3058228    |\n",
       "| 1.832101e-05 | 1.986709e-05 | 2.156777e-05 | 2.365498e-05 | 2.651522e-05 | 2.976198e-05 | 3.548247e-05 | 4.305824e-05 | 4.738726e-05 | 5.132975e-05 | ...          | 7.158336e-05 | 6.640400e-05 | 6.246151e-05 | 6.006509e-05 | 5.705024e-05 | 5.303044e-05 | 5.063402e-05 | 4.785108e-05 | 4.661422e-05 | 0.4764137    |\n",
       "| 1.258397e-05 | 1.352563e-05 | 1.438168e-05 | 1.566576e-05 | 1.831952e-05 | 2.191494e-05 | 2.765049e-05 | 3.270120e-05 | 3.715268e-05 | 4.228899e-05 | ...          | 7.901364e-05 | 7.464778e-05 | 7.045312e-05 | 6.797057e-05 | 6.446075e-05 | 6.146457e-05 | 5.949565e-05 | 5.521538e-05 | 5.281844e-05 | 0.2862775    |\n",
       "| 1.427507e-05 | 1.588677e-05 | 1.711473e-05 | 1.864969e-05 | 2.187309e-05 | 2.617096e-05 | 3.054558e-05 | 3.653190e-05 | 4.198098e-05 | 4.558812e-05 | ...          | 7.935711e-05 | 7.475225e-05 | 7.045437e-05 | 6.769146e-05 | 6.439131e-05 | 6.124465e-05 | 5.809800e-05 | 5.502809e-05 | 5.310940e-05 | 0.3169988    |\n",
       "\n"
      ],
      "text/plain": [
       "  X80          X81          X82          X83          X84          X85         \n",
       "1 1.977192e-05 2.040463e-05 2.238182e-05 2.514989e-05 2.823431e-05 3.297957e-05\n",
       "2 3.378396e-05 3.665598e-05 3.937683e-05 4.262674e-05 4.693477e-05 5.275438e-05\n",
       "3 1.733240e-05 1.875698e-05 2.057728e-05 2.168529e-05 2.477188e-05 2.722533e-05\n",
       "4 1.832101e-05 1.986709e-05 2.156777e-05 2.365498e-05 2.651522e-05 2.976198e-05\n",
       "5 1.258397e-05 1.352563e-05 1.438168e-05 1.566576e-05 1.831952e-05 2.191494e-05\n",
       "6 1.427507e-05 1.588677e-05 1.711473e-05 1.864969e-05 2.187309e-05 2.617096e-05\n",
       "  X86          X87          X88          X89          ... X392        \n",
       "1 4.073016e-05 4.768988e-05 5.314693e-05 5.876216e-05 ... 6.896447e-05\n",
       "2 6.061463e-05 6.975973e-05 7.777114e-05 8.585812e-05 ... 9.182889e-05\n",
       "3 3.244879e-05 3.806797e-05 4.495345e-05 5.033520e-05 ... 8.943204e-05\n",
       "4 3.548247e-05 4.305824e-05 4.738726e-05 5.132975e-05 ... 7.158336e-05\n",
       "5 2.765049e-05 3.270120e-05 3.715268e-05 4.228899e-05 ... 7.901364e-05\n",
       "6 3.054558e-05 3.653190e-05 4.198098e-05 4.558812e-05 ... 7.935711e-05\n",
       "  X393         X394         X395         X396         X397         X398        \n",
       "1 6.627549e-05 6.366559e-05 5.971121e-05 5.591500e-05 5.275149e-05 4.871802e-05\n",
       "2 8.744529e-05 8.200358e-05 7.595723e-05 7.180037e-05 6.892835e-05 6.582960e-05\n",
       "3 8.610802e-05 8.270485e-05 7.938083e-05 7.653166e-05 7.217878e-05 6.814246e-05\n",
       "4 6.640400e-05 6.246151e-05 6.006509e-05 5.705024e-05 5.303044e-05 5.063402e-05\n",
       "5 7.464778e-05 7.045312e-05 6.797057e-05 6.446075e-05 6.146457e-05 5.949565e-05\n",
       "6 7.475225e-05 7.045437e-05 6.769146e-05 6.439131e-05 6.124465e-05 5.809800e-05\n",
       "  X399         X400         ATAC_val \n",
       "1 4.563360e-05 4.270736e-05 0.5931657\n",
       "2 6.288201e-05 5.948094e-05 0.4089315\n",
       "3 6.489758e-05 6.165271e-05 0.3058228\n",
       "4 4.785108e-05 4.661422e-05 0.4764137\n",
       "5 5.521538e-05 5.281844e-05 0.2862775\n",
       "6 5.502809e-05 5.310940e-05 0.3169988"
      ]
     },
     "metadata": {},
     "output_type": "display_data"
    },
    {
     "data": {
      "text/html": [
       "<ol class=list-inline>\n",
       "\t<li>10303</li>\n",
       "\t<li>322</li>\n",
       "</ol>\n"
      ],
      "text/latex": [
       "\\begin{enumerate*}\n",
       "\\item 10303\n",
       "\\item 322\n",
       "\\end{enumerate*}\n"
      ],
      "text/markdown": [
       "1. 10303\n",
       "2. 322\n",
       "\n",
       "\n"
      ],
      "text/plain": [
       "[1] 10303   322"
      ]
     },
     "metadata": {},
     "output_type": "display_data"
    }
   ],
   "source": [
    "sum_control_normalized_sliding_trimmed <- sum_control_ATAC_bin_rm_sliding_mean %>% select(X80:X400)\n",
    "sum_control_normalized_sliding_trimmed <- sum_control_normalized_sliding_trimmed %>% mutate(ATAC_val = ATAC_value$ATAC_val)\n",
    "head(sum_control_normalized_sliding_trimmed)\n",
    "dim(sum_control_normalized_sliding_trimmed)\n"
   ]
  },
  {
   "cell_type": "code",
   "execution_count": 10,
   "id": "0b4d5212-f08b-4258-8fdc-84b51a11ac4f",
   "metadata": {},
   "outputs": [],
   "source": [
    "write.table(sum_control_normalized_sliding_trimmed, \"../data/sum_control_ATAC_bin_rm_sliding_mean_trimmed_CONTROLS.csv\", append = F, sep=',', col.names=T, row.names=F)"
   ]
  },
  {
   "cell_type": "code",
   "execution_count": 15,
   "id": "6dadf805-ca40-4c23-b956-a7fe9e5e07d0",
   "metadata": {},
   "outputs": [],
   "source": [
    "saveRDS(sum_control_normalized_sliding_trimmed, file = \"../data/data_rds_format/sum_control_ATAC_bin_rm_sliding_mean_trimmed_CONTROLS.rds\")"
   ]
  },
  {
   "cell_type": "markdown",
   "id": "cad61ab0-0165-470e-87a9-c40ea53f3c92",
   "metadata": {},
   "source": [
    "### 5) Discarding start and end of histograms for all the normalized and rolling mean smoothed individuals"
   ]
  },
  {
   "cell_type": "code",
   "execution_count": null,
   "id": "6d8ede8b-2a50-485a-9184-d3543fd162dc",
   "metadata": {},
   "outputs": [],
   "source": [
    "#inputs\n",
    "filename = \"../data/all_samples_normalized_sliding_mean.csv\""
   ]
  },
  {
   "cell_type": "code",
   "execution_count": null,
   "id": "a27abaab-a884-49a5-964c-fc8836dff2b5",
   "metadata": {},
   "outputs": [],
   "source": [
    "small_test <- read_csv(file = filename, col_names = T, comment = \"#\", skip = 0, n_max = 10)\n",
    "head(small_test)"
   ]
  },
  {
   "cell_type": "code",
   "execution_count": null,
   "id": "7df65b58-58da-41de-9b6c-3fad51bdb2a5",
   "metadata": {},
   "outputs": [],
   "source": [
    "cols_trimmed_first_two <- colnames(small_test)[1:2]\n",
    "cols_trimmed_rest <- colnames(small_test)[53:373]\n",
    "cols_trimmed_rest <- paste(\"X\", cols_trimmed_rest, sep = \"\")\n",
    "\n",
    "cols_trimmed = as.data.frame(t(c(cols_trimmed_first_two, cols_trimmed_rest)))\n",
    "cols_trimmed"
   ]
  },
  {
   "cell_type": "code",
   "execution_count": null,
   "id": "30a9c888-a3b6-426a-9f7e-6a3a3f590634",
   "metadata": {},
   "outputs": [],
   "source": [
    "write.table(NULL, file=\"../data/all_samples_normalized_sliding_mean_trimmed.csv\", \n",
    "             append = F, \n",
    "             sep=',', \n",
    "             row.names=F, \n",
    "             col.names=F)\n",
    "\n",
    "write.table(cols_trimmed, \"../data/all_samples_normalized_sliding_mean_trimmed.csv\", append = F, sep=',', col.names=F, row.names=F)"
   ]
  },
  {
   "cell_type": "code",
   "execution_count": null,
   "id": "de2b7655-bac7-4c9f-9b12-31998574bef4",
   "metadata": {},
   "outputs": [],
   "source": [
    "f <- function(df1, pos) {\n",
    "    trimmed_first_two <- df1[,1:2]\n",
    "    trimmed_rest <- df1[,53:373]\n",
    "    \n",
    "    output <- cbind(trimmed_first_two, trimmed_rest)\n",
    "\n",
    "    write.table(output, \"../data/all_samples_normalized_sliding_mean_trimmed.csv\", append = TRUE, sep=',', col.names=F, row.names=F)\n",
    "    }\n",
    "\n",
    "\n",
    "df <- read_delim_chunked(file = filename, \n",
    "                 callback = DataFrameCallback$new(f), \n",
    "                 chunk_size = 10000, col_names = T,\n",
    "                 delim = \",\", \n",
    "                 progress = show_progress())"
   ]
  }
 ],
 "metadata": {
  "kernelspec": {
   "display_name": "R",
   "language": "R",
   "name": "ir"
  },
  "language_info": {
   "codemirror_mode": "r",
   "file_extension": ".r",
   "mimetype": "text/x-r-source",
   "name": "R",
   "pygments_lexer": "r",
   "version": "3.6.1"
  }
 },
 "nbformat": 4,
 "nbformat_minor": 5
}
