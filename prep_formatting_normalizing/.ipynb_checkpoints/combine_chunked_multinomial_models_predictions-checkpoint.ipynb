{
 "cells": [
  {
   "cell_type": "code",
   "execution_count": 1,
   "id": "0ff53b4c-c124-4bf5-9b87-86fe6f860bb4",
   "metadata": {},
   "outputs": [
    {
     "name": "stderr",
     "output_type": "stream",
     "text": [
      "Registered S3 methods overwritten by 'ggplot2':\n",
      "  method         from \n",
      "  [.quosures     rlang\n",
      "  c.quosures     rlang\n",
      "  print.quosures rlang\n",
      "Registered S3 method overwritten by 'rvest':\n",
      "  method            from\n",
      "  read_xml.response xml2\n",
      "── Attaching packages ─────────────────────────────────────── tidyverse 1.2.1 ──\n",
      "✔ ggplot2 3.1.1     ✔ purrr   0.3.4\n",
      "✔ tibble  3.1.4     ✔ dplyr   1.0.7\n",
      "✔ tidyr   1.1.3     ✔ stringr 1.4.0\n",
      "✔ readr   1.3.1     ✔ forcats 0.4.0\n",
      "── Conflicts ────────────────────────────────────────── tidyverse_conflicts() ──\n",
      "✖ dplyr::filter() masks stats::filter()\n",
      "✖ dplyr::lag()    masks stats::lag()\n"
     ]
    }
   ],
   "source": [
    "library(tidyverse)"
   ]
  },
  {
   "cell_type": "code",
   "execution_count": 12,
   "id": "a5045ef3-5034-4ed3-82bf-4862a78f3d16",
   "metadata": {},
   "outputs": [
    {
     "data": {
      "text/html": [
       "229"
      ],
      "text/latex": [
       "229"
      ],
      "text/markdown": [
       "229"
      ],
      "text/plain": [
       "[1] 229"
      ]
     },
     "metadata": {},
     "output_type": "display_data"
    }
   ],
   "source": [
    "observed <- readRDS(\"../Classification_output/ATAC/Observed_cancer_types.rds\")\n",
    "length(observed)"
   ]
  },
  {
   "cell_type": "code",
   "execution_count": 13,
   "id": "84a45284-49d1-40a1-8b28-899f544c4e47",
   "metadata": {},
   "outputs": [],
   "source": [
    "\n",
    "MODELS = c(\"Lasso\")\n",
    "datasets = c(\"Full_data\", \"PCA\", \"Collinear_features_removed\")\n",
    "\n",
    "CV_REPS = c(\"1\", \"2\", \"3\", \"4\", \"5\", \"6\", \"7\", \"8\", \"9\", \"10\")\n",
    "FOLDS = c(\"1\", \"2\", \"3\", \"4\", \"5\", \"6\", \"7\", \"8\", \"9\", \"10\")"
   ]
  },
  {
   "cell_type": "code",
   "execution_count": 14,
   "id": "0b095f9d-7c00-41de-a575-6aca0a4d3ec4",
   "metadata": {},
   "outputs": [
    {
     "name": "stdout",
     "output_type": "stream",
     "text": [
      "# A tibble: 229 × 8\n",
      "   row_predicted Bile_Duct_Cancer Breast_Cancer Colorectal_Cancer Gastric_cancer\n",
      "           <int>            <dbl>         <dbl>             <dbl>          <dbl>\n",
      " 1             3           0.263        0.00230            0.0132        0.00142\n",
      " 2            16           0.0587       0.401              0.0613        0.166  \n",
      " 3            17           0.0478       0.404              0.0798        0.183  \n",
      " 4            18           0.108        0.406              0.0261        0.0431 \n",
      " 5            24           0.0882       0.455              0.0286        0.204  \n",
      " 6            43           0.117        0.100              0.0472        0.231  \n",
      " 7            49           0.0299       0.178              0.188         0.158  \n",
      " 8            50           0.286        0.0310             0.0961        0.150  \n",
      " 9            56           0.123        0.495              0.0535        0.103  \n",
      "10            64           0.102        0.257              0.134         0.118  \n",
      "# … with 219 more rows, and 3 more variables: Lung_Cancer <dbl>,\n",
      "#   Ovarian_Cancer <dbl>, Pancreatic_Cancer <dbl>\n",
      "# A tibble: 229 × 8\n",
      "   row_predicted Bile_Duct_Cancer Breast_Cancer Colorectal_Cancer Gastric_cancer\n",
      "           <int>            <dbl>         <dbl>             <dbl>          <dbl>\n",
      " 1             8           0.0824       0.368              0.0555         0.0448\n",
      " 2            13           0.0323       0.584              0.0427         0.0497\n",
      " 3            20           0.114        0.193              0.0737         0.0510\n",
      " 4            34           0.164        0.0307             0.0521         0.434 \n",
      " 5            36           0.139        0.230              0.0670         0.247 \n",
      " 6            65           0.0920       0.0134             0.0303         0.0352\n",
      " 7            66           0.0587       0.619              0.0392         0.0507\n",
      " 8            69           0.245        0.0717             0.0322         0.0745\n",
      " 9            87           0.213        0.00954            0.0193         0.104 \n",
      "10            88           0.133        0.223              0.0538         0.148 \n",
      "# … with 219 more rows, and 3 more variables: Lung_Cancer <dbl>,\n",
      "#   Ovarian_Cancer <dbl>, Pancreatic_Cancer <dbl>\n",
      "# A tibble: 229 × 8\n",
      "   row_predicted Bile_Duct_Cancer Breast_Cancer Colorectal_Cancer Gastric_cancer\n",
      "           <int>            <dbl>         <dbl>             <dbl>          <dbl>\n",
      " 1             7           0.0631       0.145              0.0711         0.0367\n",
      " 2             8           0.0757       0.542              0.0346         0.0161\n",
      " 3            16           0.121        0.369              0.0604         0.138 \n",
      " 4            22           0.206        0.174              0.124          0.0597\n",
      " 5            33           0.141        0.481              0.0486         0.167 \n",
      " 6            37           0.0385       0.747              0.0215         0.0784\n",
      " 7            38           0.0601       0.381              0.166          0.0927\n",
      " 8            73           0.183        0.00441            0.0208         0.0634\n",
      " 9            75           0.241        0.0878             0.156          0.163 \n",
      "10            86           0.359        0.00847            0.0125         0.0618\n",
      "# … with 219 more rows, and 3 more variables: Lung_Cancer <dbl>,\n",
      "#   Ovarian_Cancer <dbl>, Pancreatic_Cancer <dbl>\n",
      "# A tibble: 229 × 8\n",
      "   row_predicted Bile_Duct_Cancer Breast_Cancer Colorectal_Cancer Gastric_cancer\n",
      "           <int>            <dbl>         <dbl>             <dbl>          <dbl>\n",
      " 1             5           0.0351       0.325             0.0891          0.0714\n",
      " 2             9           0.0454       0.104             0.0302          0.0442\n",
      " 3            27           0.0879       0.251             0.0687          0.280 \n",
      " 4            34           0.147        0.0299            0.0590          0.395 \n",
      " 5            49           0.0370       0.161             0.167           0.143 \n",
      " 6            56           0.142        0.475             0.0496          0.126 \n",
      " 7            69           0.273        0.0618            0.0218          0.0543\n",
      " 8            75           0.116        0.0960            0.125           0.249 \n",
      " 9            87           0.529        0.00483           0.00773         0.0764\n",
      "10            88           0.150        0.242             0.0450          0.162 \n",
      "# … with 219 more rows, and 3 more variables: Lung_Cancer <dbl>,\n",
      "#   Ovarian_Cancer <dbl>, Pancreatic_Cancer <dbl>\n",
      "# A tibble: 229 × 8\n",
      "   row_predicted Bile_Duct_Cancer Breast_Cancer Colorectal_Cancer Gastric_cancer\n",
      "           <int>            <dbl>         <dbl>             <dbl>          <dbl>\n",
      " 1             9           0.0996        0.117             0.0239         0.0992\n",
      " 2            13           0.0197        0.543             0.0393         0.0581\n",
      " 3            18           0.0933        0.410             0.0264         0.0628\n",
      " 4            20           0.0966        0.134             0.0814         0.0794\n",
      " 5            31           0.212         0.0340            0.191          0.265 \n",
      " 6            32           0.123         0.167             0.0517         0.219 \n",
      " 7            46           0.0721        0.455             0.0651         0.0628\n",
      " 8            57           0.122         0.360             0.0540         0.117 \n",
      " 9            58           0.0674        0.223             0.0824         0.0398\n",
      "10            62           0.129         0.242             0.0943         0.106 \n",
      "# … with 219 more rows, and 3 more variables: Lung_Cancer <dbl>,\n",
      "#   Ovarian_Cancer <dbl>, Pancreatic_Cancer <dbl>\n",
      "# A tibble: 229 × 8\n",
      "   row_predicted Bile_Duct_Cancer Breast_Cancer Colorectal_Cancer Gastric_cancer\n",
      "           <int>            <dbl>         <dbl>             <dbl>          <dbl>\n",
      " 1             3           0.118        0.00505            0.0158        0.00217\n",
      " 2             4           0.0238       0.503              0.0574        0.110  \n",
      " 3             8           0.0838       0.425              0.0531        0.0290 \n",
      " 4            20           0.0931       0.184              0.108         0.0594 \n",
      " 5            27           0.0793       0.232              0.0797        0.245  \n",
      " 6            52           0.128        0.0119             0.0300        0.0201 \n",
      " 7            53           0.190        0.0554             0.0836        0.347  \n",
      " 8            71           0.211        0.0129             0.0377        0.00652\n",
      " 9            82           0.0477       0.526              0.0348        0.144  \n",
      "10            84           0.154        0.250              0.0419        0.0638 \n",
      "# … with 219 more rows, and 3 more variables: Lung_Cancer <dbl>,\n",
      "#   Ovarian_Cancer <dbl>, Pancreatic_Cancer <dbl>\n",
      "# A tibble: 229 × 8\n",
      "   row_predicted Bile_Duct_Cancer Breast_Cancer Colorectal_Cancer Gastric_cancer\n",
      "           <int>            <dbl>         <dbl>             <dbl>          <dbl>\n",
      " 1             7           0.0813       0.130              0.0905        0.0577 \n",
      " 2            32           0.156        0.161              0.0614        0.212  \n",
      " 3            34           0.128        0.0351             0.0562        0.377  \n",
      " 4            43           0.113        0.137              0.0578        0.228  \n",
      " 5            50           0.201        0.0343             0.132         0.146  \n",
      " 6            54           0.113        0.101              0.114         0.244  \n",
      " 7            60           0.0459       0.341              0.0582        0.172  \n",
      " 8            79           0.100        0.00172            0.0479        0.00783\n",
      " 9            95           0.100        0.127              0.0665        0.0997 \n",
      "10           108           0.0269       0.659              0.0376        0.0493 \n",
      "# … with 219 more rows, and 3 more variables: Lung_Cancer <dbl>,\n",
      "#   Ovarian_Cancer <dbl>, Pancreatic_Cancer <dbl>\n",
      "# A tibble: 229 × 8\n",
      "   row_predicted Bile_Duct_Cancer Breast_Cancer Colorectal_Cancer Gastric_cancer\n",
      "           <int>            <dbl>         <dbl>             <dbl>          <dbl>\n",
      " 1            32           0.165        0.152              0.0509        0.219  \n",
      " 2            34           0.101        0.0186             0.0428        0.444  \n",
      " 3            48           0.221        0.0180             0.0686        0.325  \n",
      " 4            54           0.142        0.0833             0.107         0.301  \n",
      " 5            56           0.113        0.496              0.0486        0.127  \n",
      " 6            57           0.125        0.375              0.0541        0.136  \n",
      " 7            61           0.186        0.00962            0.0927        0.00711\n",
      " 8            65           0.0968       0.00976            0.0323        0.0258 \n",
      " 9            93           0.124        0.206              0.105         0.0944 \n",
      "10           117           0.0308       0.678              0.0184        0.106  \n",
      "# … with 219 more rows, and 3 more variables: Lung_Cancer <dbl>,\n",
      "#   Ovarian_Cancer <dbl>, Pancreatic_Cancer <dbl>\n",
      "# A tibble: 229 × 8\n",
      "   row_predicted Bile_Duct_Cancer Breast_Cancer Colorectal_Cancer Gastric_cancer\n",
      "           <int>            <dbl>         <dbl>             <dbl>          <dbl>\n",
      " 1            10           0.123        0.0140             0.0176         0.0314\n",
      " 2            16           0.0636       0.465              0.0598         0.138 \n",
      " 3            20           0.145        0.0945             0.0675         0.0516\n",
      " 4            27           0.129        0.232              0.0597         0.210 \n",
      " 5            29           0.0966       0.295              0.0740         0.290 \n",
      " 6            30           0.216        0.182              0.0753         0.210 \n",
      " 7            52           0.123        0.00878            0.0234         0.153 \n",
      " 8            56           0.112        0.552              0.0500         0.110 \n",
      " 9            59           0.102        0.349              0.0463         0.0918\n",
      "10            82           0.0415       0.530              0.0299         0.158 \n",
      "# … with 219 more rows, and 3 more variables: Lung_Cancer <dbl>,\n",
      "#   Ovarian_Cancer <dbl>, Pancreatic_Cancer <dbl>\n",
      "# A tibble: 229 × 8\n",
      "   row_predicted Bile_Duct_Cancer Breast_Cancer Colorectal_Cancer Gastric_cancer\n",
      "           <int>            <dbl>         <dbl>             <dbl>          <dbl>\n",
      " 1            15           0.0705        0.567             0.0230         0.0805\n",
      " 2            31           0.170         0.0483            0.0788         0.398 \n",
      " 3            38           0.0631        0.325             0.123          0.194 \n",
      " 4            58           0.0706        0.266             0.0995         0.0502\n",
      " 5            70           0.0667        0.402             0.0733         0.0949\n",
      " 6            77           0.206         0.0593            0.0713         0.0486\n",
      " 7            92           0.0416        0.664             0.0268         0.0822\n",
      " 8            94           0.127         0.264             0.139          0.0932\n",
      " 9            95           0.138         0.108             0.0429         0.132 \n",
      "10           116           0.116         0.229             0.0939         0.162 \n",
      "# … with 219 more rows, and 3 more variables: Lung_Cancer <dbl>,\n",
      "#   Ovarian_Cancer <dbl>, Pancreatic_Cancer <dbl>\n"
     ]
    }
   ],
   "source": [
    "target_data <- \"ATAC\"\n",
    "data_type <- \"PCA\"\n",
    "\n",
    "for (model in MODELS){\n",
    "    model_res <- tibble(cv_rep = rep((1:10), each = 229), \n",
    "                        observed = rep(observed, 10))\n",
    "    \n",
    "    all_cv_reps <- tibble()\n",
    "    for (cv_rep in CV_REPS) {\n",
    "        cv_rep_res <- tibble()\n",
    "        for (fold in FOLDS) {\n",
    "            filename <- paste(\"../Classification_output/\", target_data, \"/NEW_CORRECT_PRED/Multinomial_models_output/\", model, \"/\", model, \"_CVrep_\", cv_rep, \"_fold_\", fold, \"_Predictions_\", data_type, \".rds\", sep = \"\")\n",
    "            pred <- readRDS(filename)\n",
    "            #if (model_binomial == \"SVM_radial\"){\n",
    "            #    print(colnames(pred))\n",
    "            #    print(head(pred))\n",
    "            #    colnames(pred) <- c(\"dataset_row_no\", class_type, \"Other\", \"label_pred\")\n",
    "            #}\n",
    "            cv_rep_res <- rbind(cv_rep_res, pred)\n",
    "\n",
    "        }\n",
    "        print(cv_rep_res)\n",
    "        cv_rep_res <- cv_rep_res %>% arrange(row_predicted)\n",
    "        cv_rep_res <- cv_rep_res %>% select(-row_predicted)\n",
    "        all_cv_reps  <- rbind(all_cv_reps, cv_rep_res)\n",
    "    }\n",
    "    model_res <- cbind(model_res, all_cv_reps)\n",
    "\n",
    "    #print(head(model_res))\n",
    "    saveRDS(model_res, paste(\"../Classification_output/\", target_data, \"/NEW_CORRECT_PRED/Multinomial_models_output/\", model, \"_Predictions_\", data_type, \".rds\", sep = \"\"))\n",
    "}"
   ]
  },
  {
   "cell_type": "code",
   "execution_count": 15,
   "id": "845fdb05-f1b6-4da2-bdeb-930f269ecc16",
   "metadata": {},
   "outputs": [
    {
     "data": {
      "text/html": [
       "<table>\n",
       "<thead><tr><th scope=col>cv_rep</th><th scope=col>observed</th><th scope=col>Bile_Duct_Cancer</th><th scope=col>Breast_Cancer</th><th scope=col>Colorectal_Cancer</th><th scope=col>Gastric_cancer</th><th scope=col>Lung_Cancer</th><th scope=col>Ovarian_Cancer</th><th scope=col>Pancreatic_Cancer</th></tr></thead>\n",
       "<tbody>\n",
       "\t<tr><td>1             </td><td>Gastric_cancer</td><td>0.14355301    </td><td>0.401008236   </td><td>0.07386426    </td><td>0.137387832   </td><td>0.083194408   </td><td>0.09041162    </td><td>0.07058063    </td></tr>\n",
       "\t<tr><td>1             </td><td>Gastric_cancer</td><td>0.09891958    </td><td>0.309624394   </td><td>0.09535733    </td><td>0.114072524   </td><td>0.147657776   </td><td>0.14517921    </td><td>0.08918919    </td></tr>\n",
       "\t<tr><td>1             </td><td>Gastric_cancer</td><td>0.26291358    </td><td>0.002302513   </td><td>0.01322929    </td><td>0.001415141   </td><td>0.001427661   </td><td>0.01680275    </td><td>0.70190907    </td></tr>\n",
       "\t<tr><td>1             </td><td>Gastric_cancer</td><td>0.02630080    </td><td>0.577156943   </td><td>0.06822171    </td><td>0.058649603   </td><td>0.173421442   </td><td>0.06062555    </td><td>0.03562396    </td></tr>\n",
       "\t<tr><td>1             </td><td>Ovarian_Cancer</td><td>0.03888729    </td><td>0.320566286   </td><td>0.09805930    </td><td>0.069560047   </td><td>0.281446633   </td><td>0.10557462    </td><td>0.08590582    </td></tr>\n",
       "\t<tr><td>1             </td><td>Ovarian_Cancer</td><td>0.14446569    </td><td>0.238658459   </td><td>0.06358497    </td><td>0.071913728   </td><td>0.067967598   </td><td>0.29105531    </td><td>0.12235424    </td></tr>\n",
       "</tbody>\n",
       "</table>\n"
      ],
      "text/latex": [
       "\\begin{tabular}{r|lllllllll}\n",
       " cv\\_rep & observed & Bile\\_Duct\\_Cancer & Breast\\_Cancer & Colorectal\\_Cancer & Gastric\\_cancer & Lung\\_Cancer & Ovarian\\_Cancer & Pancreatic\\_Cancer\\\\\n",
       "\\hline\n",
       "\t 1                & Gastric\\_cancer & 0.14355301       & 0.401008236      & 0.07386426       & 0.137387832      & 0.083194408      & 0.09041162       & 0.07058063      \\\\\n",
       "\t 1                & Gastric\\_cancer & 0.09891958       & 0.309624394      & 0.09535733       & 0.114072524      & 0.147657776      & 0.14517921       & 0.08918919      \\\\\n",
       "\t 1                & Gastric\\_cancer & 0.26291358       & 0.002302513      & 0.01322929       & 0.001415141      & 0.001427661      & 0.01680275       & 0.70190907      \\\\\n",
       "\t 1                & Gastric\\_cancer & 0.02630080       & 0.577156943      & 0.06822171       & 0.058649603      & 0.173421442      & 0.06062555       & 0.03562396      \\\\\n",
       "\t 1                & Ovarian\\_Cancer & 0.03888729       & 0.320566286      & 0.09805930       & 0.069560047      & 0.281446633      & 0.10557462       & 0.08590582      \\\\\n",
       "\t 1                & Ovarian\\_Cancer & 0.14446569       & 0.238658459      & 0.06358497       & 0.071913728      & 0.067967598      & 0.29105531       & 0.12235424      \\\\\n",
       "\\end{tabular}\n"
      ],
      "text/markdown": [
       "\n",
       "| cv_rep | observed | Bile_Duct_Cancer | Breast_Cancer | Colorectal_Cancer | Gastric_cancer | Lung_Cancer | Ovarian_Cancer | Pancreatic_Cancer |\n",
       "|---|---|---|---|---|---|---|---|---|\n",
       "| 1              | Gastric_cancer | 0.14355301     | 0.401008236    | 0.07386426     | 0.137387832    | 0.083194408    | 0.09041162     | 0.07058063     |\n",
       "| 1              | Gastric_cancer | 0.09891958     | 0.309624394    | 0.09535733     | 0.114072524    | 0.147657776    | 0.14517921     | 0.08918919     |\n",
       "| 1              | Gastric_cancer | 0.26291358     | 0.002302513    | 0.01322929     | 0.001415141    | 0.001427661    | 0.01680275     | 0.70190907     |\n",
       "| 1              | Gastric_cancer | 0.02630080     | 0.577156943    | 0.06822171     | 0.058649603    | 0.173421442    | 0.06062555     | 0.03562396     |\n",
       "| 1              | Ovarian_Cancer | 0.03888729     | 0.320566286    | 0.09805930     | 0.069560047    | 0.281446633    | 0.10557462     | 0.08590582     |\n",
       "| 1              | Ovarian_Cancer | 0.14446569     | 0.238658459    | 0.06358497     | 0.071913728    | 0.067967598    | 0.29105531     | 0.12235424     |\n",
       "\n"
      ],
      "text/plain": [
       "  cv_rep observed       Bile_Duct_Cancer Breast_Cancer Colorectal_Cancer\n",
       "1 1      Gastric_cancer 0.14355301       0.401008236   0.07386426       \n",
       "2 1      Gastric_cancer 0.09891958       0.309624394   0.09535733       \n",
       "3 1      Gastric_cancer 0.26291358       0.002302513   0.01322929       \n",
       "4 1      Gastric_cancer 0.02630080       0.577156943   0.06822171       \n",
       "5 1      Ovarian_Cancer 0.03888729       0.320566286   0.09805930       \n",
       "6 1      Ovarian_Cancer 0.14446569       0.238658459   0.06358497       \n",
       "  Gastric_cancer Lung_Cancer Ovarian_Cancer Pancreatic_Cancer\n",
       "1 0.137387832    0.083194408 0.09041162     0.07058063       \n",
       "2 0.114072524    0.147657776 0.14517921     0.08918919       \n",
       "3 0.001415141    0.001427661 0.01680275     0.70190907       \n",
       "4 0.058649603    0.173421442 0.06062555     0.03562396       \n",
       "5 0.069560047    0.281446633 0.10557462     0.08590582       \n",
       "6 0.071913728    0.067967598 0.29105531     0.12235424       "
      ]
     },
     "metadata": {},
     "output_type": "display_data"
    }
   ],
   "source": [
    "head(model_res)"
   ]
  },
  {
   "cell_type": "code",
   "execution_count": 16,
   "id": "9831b3e4-57c7-4b51-a50a-f4681755d6ec",
   "metadata": {},
   "outputs": [
    {
     "data": {
      "text/html": [
       "<ol class=list-inline>\n",
       "\t<li>2290</li>\n",
       "\t<li>9</li>\n",
       "</ol>\n"
      ],
      "text/latex": [
       "\\begin{enumerate*}\n",
       "\\item 2290\n",
       "\\item 9\n",
       "\\end{enumerate*}\n"
      ],
      "text/markdown": [
       "1. 2290\n",
       "2. 9\n",
       "\n",
       "\n"
      ],
      "text/plain": [
       "[1] 2290    9"
      ]
     },
     "metadata": {},
     "output_type": "display_data"
    }
   ],
   "source": [
    "dim(model_res)"
   ]
  },
  {
   "cell_type": "code",
   "execution_count": null,
   "id": "5a72fcec-b996-4979-9607-9e33d8a6dfca",
   "metadata": {},
   "outputs": [],
   "source": []
  }
 ],
 "metadata": {
  "kernelspec": {
   "display_name": "R",
   "language": "R",
   "name": "ir"
  },
  "language_info": {
   "codemirror_mode": "r",
   "file_extension": ".r",
   "mimetype": "text/x-r-source",
   "name": "R",
   "pygments_lexer": "r",
   "version": "3.6.1"
  }
 },
 "nbformat": 4,
 "nbformat_minor": 5
}
