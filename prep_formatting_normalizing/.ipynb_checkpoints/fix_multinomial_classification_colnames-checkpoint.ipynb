{
 "cells": [
  {
   "cell_type": "code",
   "execution_count": 5,
   "id": "a2573ff9-5730-48cf-8a71-4b82b777227a",
   "metadata": {},
   "outputs": [
    {
     "name": "stderr",
     "output_type": "stream",
     "text": [
      "Registered S3 methods overwritten by 'ggplot2':\n",
      "  method         from \n",
      "  [.quosures     rlang\n",
      "  c.quosures     rlang\n",
      "  print.quosures rlang\n",
      "Registered S3 method overwritten by 'rvest':\n",
      "  method            from\n",
      "  read_xml.response xml2\n",
      "── Attaching packages ─────────────────────────────────────── tidyverse 1.2.1 ──\n",
      "✔ ggplot2 3.1.1     ✔ purrr   0.3.4\n",
      "✔ tibble  3.1.4     ✔ dplyr   1.0.7\n",
      "✔ tidyr   1.1.3     ✔ stringr 1.4.0\n",
      "✔ readr   1.3.1     ✔ forcats 0.4.0\n",
      "── Conflicts ────────────────────────────────────────── tidyverse_conflicts() ──\n",
      "✖ dplyr::filter() masks stats::filter()\n",
      "✖ dplyr::lag()    masks stats::lag()\n"
     ]
    }
   ],
   "source": [
    "library(tidyverse)"
   ]
  },
  {
   "cell_type": "code",
   "execution_count": 52,
   "id": "4bfc72c4-cace-47c4-a8fe-b41235231b5c",
   "metadata": {},
   "outputs": [],
   "source": [
    "input_file <- \"../Classification_output/ATAC/NEW_CORRECT_PRED/Multinomial_models_output/LDA_Predictions_PCA.rds\""
   ]
  },
  {
   "cell_type": "code",
   "execution_count": 53,
   "id": "2584b738-932c-4d71-9cb3-efa8f7629d77",
   "metadata": {},
   "outputs": [
    {
     "data": {
      "text/html": [
       "<table>\n",
       "<thead><tr><th scope=col>observed</th><th scope=col>CV_rep</th><th scope=col>Bile_Duct_Cancer</th><th scope=col>Breast_Cancer</th><th scope=col>Colorectal_Cancer</th><th scope=col>Gastric_cancer</th><th scope=col>Lung_Cancer</th><th scope=col>Ovarian_Cancer</th><th scope=col>Pancreatic_Cancer</th></tr></thead>\n",
       "<tbody>\n",
       "\t<tr><td>Gastric_cancer</td><td>1             </td><td>0.0161238836  </td><td>0.735567955   </td><td>0.0199283267  </td><td>0.0168284793  </td><td>5.732727e-03  </td><td>0.0707852476  </td><td>0.13503338    </td></tr>\n",
       "\t<tr><td>Gastric_cancer</td><td>1             </td><td>0.7210144476  </td><td>0.141314060   </td><td>0.0009541241  </td><td>0.0374327360  </td><td>2.550055e-03  </td><td>0.0035155565  </td><td>0.09321902    </td></tr>\n",
       "\t<tr><td>Gastric_cancer</td><td>1             </td><td>0.0127750930  </td><td>0.001339864   </td><td>0.0001281440  </td><td>0.0000287727  </td><td>3.482629e-06  </td><td>0.0009096307  </td><td>0.98481501    </td></tr>\n",
       "\t<tr><td>Gastric_cancer</td><td>1             </td><td>0.0108215191  </td><td>0.689906961   </td><td>0.0082157401  </td><td>0.2051041573  </td><td>2.601509e-03  </td><td>0.0220190178  </td><td>0.06133110    </td></tr>\n",
       "\t<tr><td>Ovarian_Cancer</td><td>1             </td><td>0.0005760247  </td><td>0.588388052   </td><td>0.0025537478  </td><td>0.0012222620  </td><td>7.605220e-02  </td><td>0.3187188289  </td><td>0.01248889    </td></tr>\n",
       "\t<tr><td>Ovarian_Cancer</td><td>1             </td><td>0.0380704133  </td><td>0.500015546   </td><td>0.0021416022  </td><td>0.0021328582  </td><td>2.301056e-03  </td><td>0.1659602688  </td><td>0.28937826    </td></tr>\n",
       "</tbody>\n",
       "</table>\n"
      ],
      "text/latex": [
       "\\begin{tabular}{r|lllllllll}\n",
       " observed & CV\\_rep & Bile\\_Duct\\_Cancer & Breast\\_Cancer & Colorectal\\_Cancer & Gastric\\_cancer & Lung\\_Cancer & Ovarian\\_Cancer & Pancreatic\\_Cancer\\\\\n",
       "\\hline\n",
       "\t Gastric\\_cancer & 1                & 0.0161238836     & 0.735567955      & 0.0199283267     & 0.0168284793     & 5.732727e-03     & 0.0707852476     & 0.13503338      \\\\\n",
       "\t Gastric\\_cancer & 1                & 0.7210144476     & 0.141314060      & 0.0009541241     & 0.0374327360     & 2.550055e-03     & 0.0035155565     & 0.09321902      \\\\\n",
       "\t Gastric\\_cancer & 1                & 0.0127750930     & 0.001339864      & 0.0001281440     & 0.0000287727     & 3.482629e-06     & 0.0009096307     & 0.98481501      \\\\\n",
       "\t Gastric\\_cancer & 1                & 0.0108215191     & 0.689906961      & 0.0082157401     & 0.2051041573     & 2.601509e-03     & 0.0220190178     & 0.06133110      \\\\\n",
       "\t Ovarian\\_Cancer & 1                & 0.0005760247     & 0.588388052      & 0.0025537478     & 0.0012222620     & 7.605220e-02     & 0.3187188289     & 0.01248889      \\\\\n",
       "\t Ovarian\\_Cancer & 1                & 0.0380704133     & 0.500015546      & 0.0021416022     & 0.0021328582     & 2.301056e-03     & 0.1659602688     & 0.28937826      \\\\\n",
       "\\end{tabular}\n"
      ],
      "text/markdown": [
       "\n",
       "| observed | CV_rep | Bile_Duct_Cancer | Breast_Cancer | Colorectal_Cancer | Gastric_cancer | Lung_Cancer | Ovarian_Cancer | Pancreatic_Cancer |\n",
       "|---|---|---|---|---|---|---|---|---|\n",
       "| Gastric_cancer | 1              | 0.0161238836   | 0.735567955    | 0.0199283267   | 0.0168284793   | 5.732727e-03   | 0.0707852476   | 0.13503338     |\n",
       "| Gastric_cancer | 1              | 0.7210144476   | 0.141314060    | 0.0009541241   | 0.0374327360   | 2.550055e-03   | 0.0035155565   | 0.09321902     |\n",
       "| Gastric_cancer | 1              | 0.0127750930   | 0.001339864    | 0.0001281440   | 0.0000287727   | 3.482629e-06   | 0.0009096307   | 0.98481501     |\n",
       "| Gastric_cancer | 1              | 0.0108215191   | 0.689906961    | 0.0082157401   | 0.2051041573   | 2.601509e-03   | 0.0220190178   | 0.06133110     |\n",
       "| Ovarian_Cancer | 1              | 0.0005760247   | 0.588388052    | 0.0025537478   | 0.0012222620   | 7.605220e-02   | 0.3187188289   | 0.01248889     |\n",
       "| Ovarian_Cancer | 1              | 0.0380704133   | 0.500015546    | 0.0021416022   | 0.0021328582   | 2.301056e-03   | 0.1659602688   | 0.28937826     |\n",
       "\n"
      ],
      "text/plain": [
       "  observed       CV_rep Bile_Duct_Cancer Breast_Cancer Colorectal_Cancer\n",
       "1 Gastric_cancer 1      0.0161238836     0.735567955   0.0199283267     \n",
       "2 Gastric_cancer 1      0.7210144476     0.141314060   0.0009541241     \n",
       "3 Gastric_cancer 1      0.0127750930     0.001339864   0.0001281440     \n",
       "4 Gastric_cancer 1      0.0108215191     0.689906961   0.0082157401     \n",
       "5 Ovarian_Cancer 1      0.0005760247     0.588388052   0.0025537478     \n",
       "6 Ovarian_Cancer 1      0.0380704133     0.500015546   0.0021416022     \n",
       "  Gastric_cancer Lung_Cancer  Ovarian_Cancer Pancreatic_Cancer\n",
       "1 0.0168284793   5.732727e-03 0.0707852476   0.13503338       \n",
       "2 0.0374327360   2.550055e-03 0.0035155565   0.09321902       \n",
       "3 0.0000287727   3.482629e-06 0.0009096307   0.98481501       \n",
       "4 0.2051041573   2.601509e-03 0.0220190178   0.06133110       \n",
       "5 0.0012222620   7.605220e-02 0.3187188289   0.01248889       \n",
       "6 0.0021328582   2.301056e-03 0.1659602688   0.28937826       "
      ]
     },
     "metadata": {},
     "output_type": "display_data"
    }
   ],
   "source": [
    "pred <- readRDS(input_file)\n",
    "head(pred)"
   ]
  },
  {
   "cell_type": "code",
   "execution_count": 54,
   "id": "7a3dfbd2-c148-4b82-8615-323cbe8ba927",
   "metadata": {},
   "outputs": [
    {
     "data": {
      "text/html": [
       "<table>\n",
       "<thead><tr><th scope=col>observed</th><th scope=col>CV_rep</th><th scope=col>Bile_Duct_Cancer</th><th scope=col>Breast_Cancer</th><th scope=col>Colorectal_Cancer</th><th scope=col>Gastric_cancer</th><th scope=col>Lung_Cancer</th><th scope=col>Ovarian_Cancer</th><th scope=col>Pancreatic_Cancer</th><th scope=col>cv_rep</th></tr></thead>\n",
       "<tbody>\n",
       "\t<tr><td>Gastric_cancer</td><td>1             </td><td>0.0161238836  </td><td>0.735567955   </td><td>0.0199283267  </td><td>0.0168284793  </td><td>5.732727e-03  </td><td>0.0707852476  </td><td>0.13503338    </td><td>1             </td></tr>\n",
       "\t<tr><td>Gastric_cancer</td><td>1             </td><td>0.7210144476  </td><td>0.141314060   </td><td>0.0009541241  </td><td>0.0374327360  </td><td>2.550055e-03  </td><td>0.0035155565  </td><td>0.09321902    </td><td>1             </td></tr>\n",
       "\t<tr><td>Gastric_cancer</td><td>1             </td><td>0.0127750930  </td><td>0.001339864   </td><td>0.0001281440  </td><td>0.0000287727  </td><td>3.482629e-06  </td><td>0.0009096307  </td><td>0.98481501    </td><td>1             </td></tr>\n",
       "\t<tr><td>Gastric_cancer</td><td>1             </td><td>0.0108215191  </td><td>0.689906961   </td><td>0.0082157401  </td><td>0.2051041573  </td><td>2.601509e-03  </td><td>0.0220190178  </td><td>0.06133110    </td><td>1             </td></tr>\n",
       "\t<tr><td>Ovarian_Cancer</td><td>1             </td><td>0.0005760247  </td><td>0.588388052   </td><td>0.0025537478  </td><td>0.0012222620  </td><td>7.605220e-02  </td><td>0.3187188289  </td><td>0.01248889    </td><td>1             </td></tr>\n",
       "\t<tr><td>Ovarian_Cancer</td><td>1             </td><td>0.0380704133  </td><td>0.500015546   </td><td>0.0021416022  </td><td>0.0021328582  </td><td>2.301056e-03  </td><td>0.1659602688  </td><td>0.28937826    </td><td>1             </td></tr>\n",
       "</tbody>\n",
       "</table>\n"
      ],
      "text/latex": [
       "\\begin{tabular}{r|llllllllll}\n",
       " observed & CV\\_rep & Bile\\_Duct\\_Cancer & Breast\\_Cancer & Colorectal\\_Cancer & Gastric\\_cancer & Lung\\_Cancer & Ovarian\\_Cancer & Pancreatic\\_Cancer & cv\\_rep\\\\\n",
       "\\hline\n",
       "\t Gastric\\_cancer & 1                & 0.0161238836     & 0.735567955      & 0.0199283267     & 0.0168284793     & 5.732727e-03     & 0.0707852476     & 0.13503338       & 1               \\\\\n",
       "\t Gastric\\_cancer & 1                & 0.7210144476     & 0.141314060      & 0.0009541241     & 0.0374327360     & 2.550055e-03     & 0.0035155565     & 0.09321902       & 1               \\\\\n",
       "\t Gastric\\_cancer & 1                & 0.0127750930     & 0.001339864      & 0.0001281440     & 0.0000287727     & 3.482629e-06     & 0.0009096307     & 0.98481501       & 1               \\\\\n",
       "\t Gastric\\_cancer & 1                & 0.0108215191     & 0.689906961      & 0.0082157401     & 0.2051041573     & 2.601509e-03     & 0.0220190178     & 0.06133110       & 1               \\\\\n",
       "\t Ovarian\\_Cancer & 1                & 0.0005760247     & 0.588388052      & 0.0025537478     & 0.0012222620     & 7.605220e-02     & 0.3187188289     & 0.01248889       & 1               \\\\\n",
       "\t Ovarian\\_Cancer & 1                & 0.0380704133     & 0.500015546      & 0.0021416022     & 0.0021328582     & 2.301056e-03     & 0.1659602688     & 0.28937826       & 1               \\\\\n",
       "\\end{tabular}\n"
      ],
      "text/markdown": [
       "\n",
       "| observed | CV_rep | Bile_Duct_Cancer | Breast_Cancer | Colorectal_Cancer | Gastric_cancer | Lung_Cancer | Ovarian_Cancer | Pancreatic_Cancer | cv_rep |\n",
       "|---|---|---|---|---|---|---|---|---|---|\n",
       "| Gastric_cancer | 1              | 0.0161238836   | 0.735567955    | 0.0199283267   | 0.0168284793   | 5.732727e-03   | 0.0707852476   | 0.13503338     | 1              |\n",
       "| Gastric_cancer | 1              | 0.7210144476   | 0.141314060    | 0.0009541241   | 0.0374327360   | 2.550055e-03   | 0.0035155565   | 0.09321902     | 1              |\n",
       "| Gastric_cancer | 1              | 0.0127750930   | 0.001339864    | 0.0001281440   | 0.0000287727   | 3.482629e-06   | 0.0009096307   | 0.98481501     | 1              |\n",
       "| Gastric_cancer | 1              | 0.0108215191   | 0.689906961    | 0.0082157401   | 0.2051041573   | 2.601509e-03   | 0.0220190178   | 0.06133110     | 1              |\n",
       "| Ovarian_Cancer | 1              | 0.0005760247   | 0.588388052    | 0.0025537478   | 0.0012222620   | 7.605220e-02   | 0.3187188289   | 0.01248889     | 1              |\n",
       "| Ovarian_Cancer | 1              | 0.0380704133   | 0.500015546    | 0.0021416022   | 0.0021328582   | 2.301056e-03   | 0.1659602688   | 0.28937826     | 1              |\n",
       "\n"
      ],
      "text/plain": [
       "  observed       CV_rep Bile_Duct_Cancer Breast_Cancer Colorectal_Cancer\n",
       "1 Gastric_cancer 1      0.0161238836     0.735567955   0.0199283267     \n",
       "2 Gastric_cancer 1      0.7210144476     0.141314060   0.0009541241     \n",
       "3 Gastric_cancer 1      0.0127750930     0.001339864   0.0001281440     \n",
       "4 Gastric_cancer 1      0.0108215191     0.689906961   0.0082157401     \n",
       "5 Ovarian_Cancer 1      0.0005760247     0.588388052   0.0025537478     \n",
       "6 Ovarian_Cancer 1      0.0380704133     0.500015546   0.0021416022     \n",
       "  Gastric_cancer Lung_Cancer  Ovarian_Cancer Pancreatic_Cancer cv_rep\n",
       "1 0.0168284793   5.732727e-03 0.0707852476   0.13503338        1     \n",
       "2 0.0374327360   2.550055e-03 0.0035155565   0.09321902        1     \n",
       "3 0.0000287727   3.482629e-06 0.0009096307   0.98481501        1     \n",
       "4 0.2051041573   2.601509e-03 0.0220190178   0.06133110        1     \n",
       "5 0.0012222620   7.605220e-02 0.3187188289   0.01248889        1     \n",
       "6 0.0021328582   2.301056e-03 0.1659602688   0.28937826        1     "
      ]
     },
     "metadata": {},
     "output_type": "display_data"
    }
   ],
   "source": [
    "pred$cv_rep <- pred$CV_rep\n",
    "head(pred)"
   ]
  },
  {
   "cell_type": "code",
   "execution_count": 55,
   "id": "d5ec8131-3553-4bd6-9f3f-778d742edf02",
   "metadata": {},
   "outputs": [
    {
     "data": {
      "text/html": [
       "<table>\n",
       "<thead><tr><th scope=col>observed</th><th scope=col>Bile_Duct_Cancer</th><th scope=col>Breast_Cancer</th><th scope=col>Colorectal_Cancer</th><th scope=col>Gastric_cancer</th><th scope=col>Lung_Cancer</th><th scope=col>Ovarian_Cancer</th><th scope=col>Pancreatic_Cancer</th><th scope=col>cv_rep</th></tr></thead>\n",
       "<tbody>\n",
       "\t<tr><td>Gastric_cancer</td><td>0.0161238836  </td><td>0.735567955   </td><td>0.0199283267  </td><td>0.0168284793  </td><td>5.732727e-03  </td><td>0.0707852476  </td><td>0.13503338    </td><td>1             </td></tr>\n",
       "\t<tr><td>Gastric_cancer</td><td>0.7210144476  </td><td>0.141314060   </td><td>0.0009541241  </td><td>0.0374327360  </td><td>2.550055e-03  </td><td>0.0035155565  </td><td>0.09321902    </td><td>1             </td></tr>\n",
       "\t<tr><td>Gastric_cancer</td><td>0.0127750930  </td><td>0.001339864   </td><td>0.0001281440  </td><td>0.0000287727  </td><td>3.482629e-06  </td><td>0.0009096307  </td><td>0.98481501    </td><td>1             </td></tr>\n",
       "\t<tr><td>Gastric_cancer</td><td>0.0108215191  </td><td>0.689906961   </td><td>0.0082157401  </td><td>0.2051041573  </td><td>2.601509e-03  </td><td>0.0220190178  </td><td>0.06133110    </td><td>1             </td></tr>\n",
       "\t<tr><td>Ovarian_Cancer</td><td>0.0005760247  </td><td>0.588388052   </td><td>0.0025537478  </td><td>0.0012222620  </td><td>7.605220e-02  </td><td>0.3187188289  </td><td>0.01248889    </td><td>1             </td></tr>\n",
       "\t<tr><td>Ovarian_Cancer</td><td>0.0380704133  </td><td>0.500015546   </td><td>0.0021416022  </td><td>0.0021328582  </td><td>2.301056e-03  </td><td>0.1659602688  </td><td>0.28937826    </td><td>1             </td></tr>\n",
       "</tbody>\n",
       "</table>\n"
      ],
      "text/latex": [
       "\\begin{tabular}{r|lllllllll}\n",
       " observed & Bile\\_Duct\\_Cancer & Breast\\_Cancer & Colorectal\\_Cancer & Gastric\\_cancer & Lung\\_Cancer & Ovarian\\_Cancer & Pancreatic\\_Cancer & cv\\_rep\\\\\n",
       "\\hline\n",
       "\t Gastric\\_cancer & 0.0161238836     & 0.735567955      & 0.0199283267     & 0.0168284793     & 5.732727e-03     & 0.0707852476     & 0.13503338       & 1               \\\\\n",
       "\t Gastric\\_cancer & 0.7210144476     & 0.141314060      & 0.0009541241     & 0.0374327360     & 2.550055e-03     & 0.0035155565     & 0.09321902       & 1               \\\\\n",
       "\t Gastric\\_cancer & 0.0127750930     & 0.001339864      & 0.0001281440     & 0.0000287727     & 3.482629e-06     & 0.0009096307     & 0.98481501       & 1               \\\\\n",
       "\t Gastric\\_cancer & 0.0108215191     & 0.689906961      & 0.0082157401     & 0.2051041573     & 2.601509e-03     & 0.0220190178     & 0.06133110       & 1               \\\\\n",
       "\t Ovarian\\_Cancer & 0.0005760247     & 0.588388052      & 0.0025537478     & 0.0012222620     & 7.605220e-02     & 0.3187188289     & 0.01248889       & 1               \\\\\n",
       "\t Ovarian\\_Cancer & 0.0380704133     & 0.500015546      & 0.0021416022     & 0.0021328582     & 2.301056e-03     & 0.1659602688     & 0.28937826       & 1               \\\\\n",
       "\\end{tabular}\n"
      ],
      "text/markdown": [
       "\n",
       "| observed | Bile_Duct_Cancer | Breast_Cancer | Colorectal_Cancer | Gastric_cancer | Lung_Cancer | Ovarian_Cancer | Pancreatic_Cancer | cv_rep |\n",
       "|---|---|---|---|---|---|---|---|---|\n",
       "| Gastric_cancer | 0.0161238836   | 0.735567955    | 0.0199283267   | 0.0168284793   | 5.732727e-03   | 0.0707852476   | 0.13503338     | 1              |\n",
       "| Gastric_cancer | 0.7210144476   | 0.141314060    | 0.0009541241   | 0.0374327360   | 2.550055e-03   | 0.0035155565   | 0.09321902     | 1              |\n",
       "| Gastric_cancer | 0.0127750930   | 0.001339864    | 0.0001281440   | 0.0000287727   | 3.482629e-06   | 0.0009096307   | 0.98481501     | 1              |\n",
       "| Gastric_cancer | 0.0108215191   | 0.689906961    | 0.0082157401   | 0.2051041573   | 2.601509e-03   | 0.0220190178   | 0.06133110     | 1              |\n",
       "| Ovarian_Cancer | 0.0005760247   | 0.588388052    | 0.0025537478   | 0.0012222620   | 7.605220e-02   | 0.3187188289   | 0.01248889     | 1              |\n",
       "| Ovarian_Cancer | 0.0380704133   | 0.500015546    | 0.0021416022   | 0.0021328582   | 2.301056e-03   | 0.1659602688   | 0.28937826     | 1              |\n",
       "\n"
      ],
      "text/plain": [
       "  observed       Bile_Duct_Cancer Breast_Cancer Colorectal_Cancer\n",
       "1 Gastric_cancer 0.0161238836     0.735567955   0.0199283267     \n",
       "2 Gastric_cancer 0.7210144476     0.141314060   0.0009541241     \n",
       "3 Gastric_cancer 0.0127750930     0.001339864   0.0001281440     \n",
       "4 Gastric_cancer 0.0108215191     0.689906961   0.0082157401     \n",
       "5 Ovarian_Cancer 0.0005760247     0.588388052   0.0025537478     \n",
       "6 Ovarian_Cancer 0.0380704133     0.500015546   0.0021416022     \n",
       "  Gastric_cancer Lung_Cancer  Ovarian_Cancer Pancreatic_Cancer cv_rep\n",
       "1 0.0168284793   5.732727e-03 0.0707852476   0.13503338        1     \n",
       "2 0.0374327360   2.550055e-03 0.0035155565   0.09321902        1     \n",
       "3 0.0000287727   3.482629e-06 0.0009096307   0.98481501        1     \n",
       "4 0.2051041573   2.601509e-03 0.0220190178   0.06133110        1     \n",
       "5 0.0012222620   7.605220e-02 0.3187188289   0.01248889        1     \n",
       "6 0.0021328582   2.301056e-03 0.1659602688   0.28937826        1     "
      ]
     },
     "metadata": {},
     "output_type": "display_data"
    }
   ],
   "source": [
    "pred <- pred %>% select(-CV_rep)\n",
    "head(pred)"
   ]
  },
  {
   "cell_type": "code",
   "execution_count": 56,
   "id": "07b1340b-041d-4f05-98eb-144a7e594fc4",
   "metadata": {},
   "outputs": [],
   "source": [
    "saveRDS(pred, input_file)"
   ]
  },
  {
   "cell_type": "code",
   "execution_count": null,
   "id": "3bbc14d4-fd18-4bfc-8fc8-24888caffad5",
   "metadata": {},
   "outputs": [],
   "source": []
  }
 ],
 "metadata": {
  "kernelspec": {
   "display_name": "R",
   "language": "R",
   "name": "ir"
  },
  "language_info": {
   "codemirror_mode": "r",
   "file_extension": ".r",
   "mimetype": "text/x-r-source",
   "name": "R",
   "pygments_lexer": "r",
   "version": "3.6.1"
  }
 },
 "nbformat": 4,
 "nbformat_minor": 5
}
