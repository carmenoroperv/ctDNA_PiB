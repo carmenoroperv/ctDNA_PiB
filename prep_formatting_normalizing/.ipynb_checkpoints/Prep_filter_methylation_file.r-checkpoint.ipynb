{
 "cells": [
  {
   "cell_type": "code",
   "execution_count": 5,
   "id": "1512181c-5693-4303-b307-3bedfd6ad147",
   "metadata": {},
   "outputs": [
    {
     "name": "stderr",
     "output_type": "stream",
     "text": [
      "Registered S3 methods overwritten by 'ggplot2':\n",
      "  method         from \n",
      "  [.quosures     rlang\n",
      "  c.quosures     rlang\n",
      "  print.quosures rlang\n",
      "Registered S3 method overwritten by 'rvest':\n",
      "  method            from\n",
      "  read_xml.response xml2\n",
      "── Attaching packages ───────────────────────────────────── tidyverse 1.2.1 ──\n",
      "✔ ggplot2 3.1.1     ✔ purrr   0.3.4\n",
      "✔ tibble  3.1.4     ✔ dplyr   1.0.7\n",
      "✔ tidyr   1.1.3     ✔ stringr 1.4.0\n",
      "✔ readr   1.3.1     ✔ forcats 0.4.0\n",
      "── Conflicts ──────────────────────────────────────── tidyverse_conflicts() ──\n",
      "✖ dplyr::filter() masks stats::filter()\n",
      "✖ dplyr::lag()    masks stats::lag()\n"
     ]
    }
   ],
   "source": [
    "library(tidyverse)"
   ]
  },
  {
   "cell_type": "markdown",
   "id": "4ab45ea6-139f-4831-b4b1-87edc247d7da",
   "metadata": {},
   "source": [
    "### Read in the methylation file"
   ]
  },
  {
   "cell_type": "code",
   "execution_count": 2,
   "id": "0edd38e0-f51c-4600-9451-6384ee03b526",
   "metadata": {},
   "outputs": [
    {
     "data": {
      "text/html": [
       "<table>\n",
       "<thead><tr><th scope=col>V1</th><th scope=col>V2</th><th scope=col>V3</th><th scope=col>V4</th></tr></thead>\n",
       "<tbody>\n",
       "\t<tr><td>chr1 </td><td>10468</td><td>10469</td><td>100  </td></tr>\n",
       "\t<tr><td>chr1 </td><td>10469</td><td>10470</td><td>100  </td></tr>\n",
       "\t<tr><td>chr1 </td><td>10470</td><td>10471</td><td>100  </td></tr>\n",
       "\t<tr><td>chr1 </td><td>10471</td><td>10472</td><td>100  </td></tr>\n",
       "\t<tr><td>chr1 </td><td>10483</td><td>10484</td><td>100  </td></tr>\n",
       "\t<tr><td>chr1 </td><td>10484</td><td>10485</td><td>100  </td></tr>\n",
       "</tbody>\n",
       "</table>\n"
      ],
      "text/latex": [
       "\\begin{tabular}{r|llll}\n",
       " V1 & V2 & V3 & V4\\\\\n",
       "\\hline\n",
       "\t chr1  & 10468 & 10469 & 100  \\\\\n",
       "\t chr1  & 10469 & 10470 & 100  \\\\\n",
       "\t chr1  & 10470 & 10471 & 100  \\\\\n",
       "\t chr1  & 10471 & 10472 & 100  \\\\\n",
       "\t chr1  & 10483 & 10484 & 100  \\\\\n",
       "\t chr1  & 10484 & 10485 & 100  \\\\\n",
       "\\end{tabular}\n"
      ],
      "text/markdown": [
       "\n",
       "| V1 | V2 | V3 | V4 |\n",
       "|---|---|---|---|\n",
       "| chr1  | 10468 | 10469 | 100   |\n",
       "| chr1  | 10469 | 10470 | 100   |\n",
       "| chr1  | 10470 | 10471 | 100   |\n",
       "| chr1  | 10471 | 10472 | 100   |\n",
       "| chr1  | 10483 | 10484 | 100   |\n",
       "| chr1  | 10484 | 10485 | 100   |\n",
       "\n"
      ],
      "text/plain": [
       "  V1   V2    V3    V4 \n",
       "1 chr1 10468 10469 100\n",
       "2 chr1 10469 10470 100\n",
       "3 chr1 10470 10471 100\n",
       "4 chr1 10471 10472 100\n",
       "5 chr1 10483 10484 100\n",
       "6 chr1 10484 10485 100"
      ]
     },
     "metadata": {},
     "output_type": "display_data"
    }
   ],
   "source": [
    "met_df <- read.table(file = '../data/methylation/GM12878_WGBS_CpG_mean.bedgraph', sep = '\\t', header = FALSE)\n",
    "head(met_df)"
   ]
  },
  {
   "cell_type": "code",
   "execution_count": 3,
   "id": "2f2f1595-85ea-4961-862d-45d324c2d208",
   "metadata": {},
   "outputs": [
    {
     "data": {
      "text/html": [
       "<table>\n",
       "<thead><tr><th scope=col>chr</th><th scope=col>start</th><th scope=col>end</th><th scope=col>methylation</th></tr></thead>\n",
       "<tbody>\n",
       "\t<tr><td>chr1 </td><td>10468</td><td>10469</td><td>100  </td></tr>\n",
       "\t<tr><td>chr1 </td><td>10469</td><td>10470</td><td>100  </td></tr>\n",
       "\t<tr><td>chr1 </td><td>10470</td><td>10471</td><td>100  </td></tr>\n",
       "\t<tr><td>chr1 </td><td>10471</td><td>10472</td><td>100  </td></tr>\n",
       "\t<tr><td>chr1 </td><td>10483</td><td>10484</td><td>100  </td></tr>\n",
       "\t<tr><td>chr1 </td><td>10484</td><td>10485</td><td>100  </td></tr>\n",
       "</tbody>\n",
       "</table>\n"
      ],
      "text/latex": [
       "\\begin{tabular}{r|llll}\n",
       " chr & start & end & methylation\\\\\n",
       "\\hline\n",
       "\t chr1  & 10468 & 10469 & 100  \\\\\n",
       "\t chr1  & 10469 & 10470 & 100  \\\\\n",
       "\t chr1  & 10470 & 10471 & 100  \\\\\n",
       "\t chr1  & 10471 & 10472 & 100  \\\\\n",
       "\t chr1  & 10483 & 10484 & 100  \\\\\n",
       "\t chr1  & 10484 & 10485 & 100  \\\\\n",
       "\\end{tabular}\n"
      ],
      "text/markdown": [
       "\n",
       "| chr | start | end | methylation |\n",
       "|---|---|---|---|\n",
       "| chr1  | 10468 | 10469 | 100   |\n",
       "| chr1  | 10469 | 10470 | 100   |\n",
       "| chr1  | 10470 | 10471 | 100   |\n",
       "| chr1  | 10471 | 10472 | 100   |\n",
       "| chr1  | 10483 | 10484 | 100   |\n",
       "| chr1  | 10484 | 10485 | 100   |\n",
       "\n"
      ],
      "text/plain": [
       "  chr  start end   methylation\n",
       "1 chr1 10468 10469 100        \n",
       "2 chr1 10469 10470 100        \n",
       "3 chr1 10470 10471 100        \n",
       "4 chr1 10471 10472 100        \n",
       "5 chr1 10483 10484 100        \n",
       "6 chr1 10484 10485 100        "
      ]
     },
     "metadata": {},
     "output_type": "display_data"
    },
    {
     "data": {
      "text/html": [
       "<ol class=list-inline>\n",
       "\t<li>54369453</li>\n",
       "\t<li>4</li>\n",
       "</ol>\n"
      ],
      "text/latex": [
       "\\begin{enumerate*}\n",
       "\\item 54369453\n",
       "\\item 4\n",
       "\\end{enumerate*}\n"
      ],
      "text/markdown": [
       "1. 54369453\n",
       "2. 4\n",
       "\n",
       "\n"
      ],
      "text/plain": [
       "[1] 54369453        4"
      ]
     },
     "metadata": {},
     "output_type": "display_data"
    }
   ],
   "source": [
    "colnames(met_df) <- c(\"chr\", \"start\", \"end\", \"methylation\")\n",
    "met_df$chr <- as.character(met_df$chr)\n",
    "head(met_df)\n",
    "dim(met_df)"
   ]
  },
  {
   "cell_type": "code",
   "execution_count": 4,
   "id": "eec3d8ce-2967-4c96-95d4-35accd7d98e4",
   "metadata": {},
   "outputs": [],
   "source": [
    "met_df <- met_df %>% arrange(chr, start)"
   ]
  },
  {
   "cell_type": "markdown",
   "id": "c411c2c4-ef52-49ec-91ff-4d975318bf55",
   "metadata": {},
   "source": [
    "### Read in the file with the ATAC values"
   ]
  },
  {
   "cell_type": "code",
   "execution_count": 5,
   "id": "ef6b912e-2914-4b4e-8392-05a343be1e45",
   "metadata": {},
   "outputs": [
    {
     "name": "stdout",
     "output_type": "stream",
     "text": [
      "'data.frame':\t10303 obs. of  3 variables:\n",
      " $ bin     : Factor w/ 10303 levels \"chr1_100\",\"chr1_101\",..: 851 849 850 852 853 854 855 856 857 858 ...\n",
      " $ ATAC_val: num  0.593 0.409 0.306 0.476 0.286 ...\n",
      " $ bin_id  : Factor w/ 10303 levels \"chr1_100\",\"chr1_101\",..: 851 849 850 852 853 854 855 856 857 858 ...\n"
     ]
    },
    {
     "data": {
      "text/html": [
       "<table>\n",
       "<thead><tr><th scope=col>bin</th><th scope=col>ATAC_val</th><th scope=col>bin_id</th></tr></thead>\n",
       "<tbody>\n",
       "\t<tr><td>chr10_100</td><td>0.5931657</td><td>chr10_100</td></tr>\n",
       "\t<tr><td>chr10_1  </td><td>0.4089315</td><td>chr10_1  </td></tr>\n",
       "\t<tr><td>chr10_10 </td><td>0.3058228</td><td>chr10_10 </td></tr>\n",
       "\t<tr><td>chr10_101</td><td>0.4764137</td><td>chr10_101</td></tr>\n",
       "\t<tr><td>chr10_102</td><td>0.2862775</td><td>chr10_102</td></tr>\n",
       "\t<tr><td>chr10_103</td><td>0.3169988</td><td>chr10_103</td></tr>\n",
       "</tbody>\n",
       "</table>\n"
      ],
      "text/latex": [
       "\\begin{tabular}{r|lll}\n",
       " bin & ATAC\\_val & bin\\_id\\\\\n",
       "\\hline\n",
       "\t chr10\\_100 & 0.5931657   & chr10\\_100\\\\\n",
       "\t chr10\\_1   & 0.4089315   & chr10\\_1  \\\\\n",
       "\t chr10\\_10  & 0.3058228   & chr10\\_10 \\\\\n",
       "\t chr10\\_101 & 0.4764137   & chr10\\_101\\\\\n",
       "\t chr10\\_102 & 0.2862775   & chr10\\_102\\\\\n",
       "\t chr10\\_103 & 0.3169988   & chr10\\_103\\\\\n",
       "\\end{tabular}\n"
      ],
      "text/markdown": [
       "\n",
       "| bin | ATAC_val | bin_id |\n",
       "|---|---|---|\n",
       "| chr10_100 | 0.5931657 | chr10_100 |\n",
       "| chr10_1   | 0.4089315 | chr10_1   |\n",
       "| chr10_10  | 0.3058228 | chr10_10  |\n",
       "| chr10_101 | 0.4764137 | chr10_101 |\n",
       "| chr10_102 | 0.2862775 | chr10_102 |\n",
       "| chr10_103 | 0.3169988 | chr10_103 |\n",
       "\n"
      ],
      "text/plain": [
       "  bin       ATAC_val  bin_id   \n",
       "1 chr10_100 0.5931657 chr10_100\n",
       "2 chr10_1   0.4089315 chr10_1  \n",
       "3 chr10_10  0.3058228 chr10_10 \n",
       "4 chr10_101 0.4764137 chr10_101\n",
       "5 chr10_102 0.2862775 chr10_102\n",
       "6 chr10_103 0.3169988 chr10_103"
      ]
     },
     "metadata": {},
     "output_type": "display_data"
    }
   ],
   "source": [
    "sum_control_ATAC_bin_rm = read.csv(\"../data/sum_control_normalized_ATAC.csv\")\n",
    "ATAC <- sum_control_ATAC_bin_rm %>% select(bin, ATAC_val)\n",
    "\n",
    "ATAC <- ATAC %>% mutate(bin_id = ATAC$bin)\n",
    "str(ATAC)\n",
    "head(ATAC)"
   ]
  },
  {
   "cell_type": "code",
   "execution_count": 6,
   "id": "d5c966ff-b856-4b97-9eda-c70f7ed8b657",
   "metadata": {},
   "outputs": [],
   "source": [
    "#ATAC$ATAC_val <- as.character(ATAC$ATAC_val)\n",
    "#ATAC$ATAC_val <- as.numeric(ATAC$ATAC_val)\n",
    "ATAC$bin <- as.character(ATAC$bin)"
   ]
  },
  {
   "cell_type": "code",
   "execution_count": 7,
   "id": "fec5e9b8-b319-456c-a1d7-c3c054b82b93",
   "metadata": {},
   "outputs": [
    {
     "name": "stdout",
     "output_type": "stream",
     "text": [
      "'data.frame':\t10303 obs. of  3 variables:\n",
      " $ bin     : chr  \"chr10_100\" \"chr10_1\" \"chr10_10\" \"chr10_101\" ...\n",
      " $ ATAC_val: num  0.593 0.409 0.306 0.476 0.286 ...\n",
      " $ bin_id  : Factor w/ 10303 levels \"chr1_100\",\"chr1_101\",..: 851 849 850 852 853 854 855 856 857 858 ...\n"
     ]
    },
    {
     "data": {
      "text/html": [
       "<ol class=list-inline>\n",
       "\t<li>10303</li>\n",
       "\t<li>3</li>\n",
       "</ol>\n"
      ],
      "text/latex": [
       "\\begin{enumerate*}\n",
       "\\item 10303\n",
       "\\item 3\n",
       "\\end{enumerate*}\n"
      ],
      "text/markdown": [
       "1. 10303\n",
       "2. 3\n",
       "\n",
       "\n"
      ],
      "text/plain": [
       "[1] 10303     3"
      ]
     },
     "metadata": {},
     "output_type": "display_data"
    }
   ],
   "source": [
    "str(ATAC)\n",
    "dim(ATAC)"
   ]
  },
  {
   "cell_type": "code",
   "execution_count": 8,
   "id": "4468ddd0-0f56-4f44-9e58-d7fd53e3a5f7",
   "metadata": {},
   "outputs": [
    {
     "data": {
      "text/html": [
       "<table>\n",
       "<thead><tr><th scope=col>chr</th><th scope=col>start_pos</th><th scope=col>end_pos</th><th scope=col>bin_number</th><th scope=col>bin_id</th><th scope=col>ATAC_val</th></tr></thead>\n",
       "<tbody>\n",
       "\t<tr><td>chr1     </td><td> 750000  </td><td>1000000  </td><td>3        </td><td>chr1_3   </td><td>0.5496224</td></tr>\n",
       "\t<tr><td>chr1     </td><td>1000000  </td><td>1250000  </td><td>4        </td><td>chr1_4   </td><td>0.5760086</td></tr>\n",
       "\t<tr><td>chr1     </td><td>1250000  </td><td>1500000  </td><td>5        </td><td>chr1_5   </td><td>0.7151874</td></tr>\n",
       "\t<tr><td>chr1     </td><td>1750000  </td><td>2000000  </td><td>7        </td><td>chr1_7   </td><td>0.4912511</td></tr>\n",
       "\t<tr><td>chr1     </td><td>2000000  </td><td>2250000  </td><td>8        </td><td>chr1_8   </td><td>0.4561390</td></tr>\n",
       "\t<tr><td>chr1     </td><td>2250000  </td><td>2500000  </td><td>9        </td><td>chr1_9   </td><td>0.6980095</td></tr>\n",
       "</tbody>\n",
       "</table>\n"
      ],
      "text/latex": [
       "\\begin{tabular}{r|llllll}\n",
       " chr & start\\_pos & end\\_pos & bin\\_number & bin\\_id & ATAC\\_val\\\\\n",
       "\\hline\n",
       "\t chr1      &  750000   & 1000000   & 3         & chr1\\_3  & 0.5496224\\\\\n",
       "\t chr1      & 1000000   & 1250000   & 4         & chr1\\_4  & 0.5760086\\\\\n",
       "\t chr1      & 1250000   & 1500000   & 5         & chr1\\_5  & 0.7151874\\\\\n",
       "\t chr1      & 1750000   & 2000000   & 7         & chr1\\_7  & 0.4912511\\\\\n",
       "\t chr1      & 2000000   & 2250000   & 8         & chr1\\_8  & 0.4561390\\\\\n",
       "\t chr1      & 2250000   & 2500000   & 9         & chr1\\_9  & 0.6980095\\\\\n",
       "\\end{tabular}\n"
      ],
      "text/markdown": [
       "\n",
       "| chr | start_pos | end_pos | bin_number | bin_id | ATAC_val |\n",
       "|---|---|---|---|---|---|\n",
       "| chr1      |  750000   | 1000000   | 3         | chr1_3    | 0.5496224 |\n",
       "| chr1      | 1000000   | 1250000   | 4         | chr1_4    | 0.5760086 |\n",
       "| chr1      | 1250000   | 1500000   | 5         | chr1_5    | 0.7151874 |\n",
       "| chr1      | 1750000   | 2000000   | 7         | chr1_7    | 0.4912511 |\n",
       "| chr1      | 2000000   | 2250000   | 8         | chr1_8    | 0.4561390 |\n",
       "| chr1      | 2250000   | 2500000   | 9         | chr1_9    | 0.6980095 |\n",
       "\n"
      ],
      "text/plain": [
       "  chr  start_pos end_pos bin_number bin_id ATAC_val \n",
       "1 chr1  750000   1000000 3          chr1_3 0.5496224\n",
       "2 chr1 1000000   1250000 4          chr1_4 0.5760086\n",
       "3 chr1 1250000   1500000 5          chr1_5 0.7151874\n",
       "4 chr1 1750000   2000000 7          chr1_7 0.4912511\n",
       "5 chr1 2000000   2250000 8          chr1_8 0.4561390\n",
       "6 chr1 2250000   2500000 9          chr1_9 0.6980095"
      ]
     },
     "metadata": {},
     "output_type": "display_data"
    }
   ],
   "source": [
    "#ATAC$bin <- sub('...', '', ATAC$bin)\n",
    "ATAC <- ATAC %>% separate(bin, c(\"chr\", \"bin_number\"), sep = \"_\")\n",
    "\n",
    "ATAC$chr <- as.character(ATAC$chr)\n",
    "ATAC$bin_number <- as.numeric(ATAC$bin_number)\n",
    "ATAC <- ATAC %>% mutate(start_pos = bin_number*250000)\n",
    "ATAC <- ATAC %>% mutate(end_pos = start_pos + 250000)\n",
    "ATAC <- ATAC %>% arrange(chr, start_pos)\n",
    "\n",
    "ATAC <- ATAC %>% select(chr, start_pos, end_pos, bin_number, bin_id, ATAC_val)\n",
    "head(ATAC)"
   ]
  },
  {
   "cell_type": "code",
   "execution_count": 9,
   "id": "fc5f6d7b-ff57-4147-b986-0a3e994bb605",
   "metadata": {},
   "outputs": [
    {
     "data": {
      "text/html": [
       "<ol class=list-inline>\n",
       "\t<li>10303</li>\n",
       "\t<li>6</li>\n",
       "</ol>\n"
      ],
      "text/latex": [
       "\\begin{enumerate*}\n",
       "\\item 10303\n",
       "\\item 6\n",
       "\\end{enumerate*}\n"
      ],
      "text/markdown": [
       "1. 10303\n",
       "2. 6\n",
       "\n",
       "\n"
      ],
      "text/plain": [
       "[1] 10303     6"
      ]
     },
     "metadata": {},
     "output_type": "display_data"
    }
   ],
   "source": [
    "dim(ATAC)"
   ]
  },
  {
   "cell_type": "code",
   "execution_count": 10,
   "id": "2666207f-9d1c-4086-a76f-19bfc53416f7",
   "metadata": {},
   "outputs": [],
   "source": [
    "ATAC <- ATAC %>% filter(!is.na(ATAC_val))"
   ]
  },
  {
   "cell_type": "code",
   "execution_count": 11,
   "id": "7ae38d79-517c-4f0d-a926-e6eb8f7bced2",
   "metadata": {},
   "outputs": [
    {
     "data": {
      "text/html": [
       "<ol class=list-inline>\n",
       "\t<li>10303</li>\n",
       "\t<li>6</li>\n",
       "</ol>\n"
      ],
      "text/latex": [
       "\\begin{enumerate*}\n",
       "\\item 10303\n",
       "\\item 6\n",
       "\\end{enumerate*}\n"
      ],
      "text/markdown": [
       "1. 10303\n",
       "2. 6\n",
       "\n",
       "\n"
      ],
      "text/plain": [
       "[1] 10303     6"
      ]
     },
     "metadata": {},
     "output_type": "display_data"
    }
   ],
   "source": [
    "dim(ATAC)"
   ]
  },
  {
   "cell_type": "code",
   "execution_count": 12,
   "id": "b466a79f-32c9-46cd-897b-74a23c1493d9",
   "metadata": {},
   "outputs": [
    {
     "data": {
      "text/html": [
       "<table>\n",
       "<thead><tr><th scope=col>chr</th><th scope=col>start</th><th scope=col>end</th><th scope=col>bin_number</th><th scope=col>methylation</th><th scope=col>n_meth_values_in_bin</th><th scope=col>n_na_meth_values_in_bin</th></tr></thead>\n",
       "<tbody>\n",
       "</tbody>\n",
       "</table>\n"
      ],
      "text/latex": [
       "\\begin{tabular}{r|lllllll}\n",
       " chr & start & end & bin\\_number & methylation & n\\_meth\\_values\\_in\\_bin & n\\_na\\_meth\\_values\\_in\\_bin\\\\\n",
       "\\hline\n",
       "\\end{tabular}\n"
      ],
      "text/markdown": [
       "\n",
       "| chr | start | end | bin_number | methylation | n_meth_values_in_bin | n_na_meth_values_in_bin |\n",
       "|---|---|---|---|---|---|---|\n",
       "\n"
      ],
      "text/plain": [
       "     chr start end bin_number methylation n_meth_values_in_bin\n",
       "     n_na_meth_values_in_bin"
      ]
     },
     "metadata": {},
     "output_type": "display_data"
    },
    {
     "name": "stdout",
     "output_type": "stream",
     "text": [
      "tibble [0 × 7] (S3: tbl_df/tbl/data.frame)\n",
      " $ chr                    : chr(0) \n",
      " $ start                  : num(0) \n",
      " $ end                    : num(0) \n",
      " $ bin_number             : num(0) \n",
      " $ methylation            : num(0) \n",
      " $ n_meth_values_in_bin   : num(0) \n",
      " $ n_na_meth_values_in_bin: num(0) \n"
     ]
    }
   ],
   "source": [
    "FINAL_meth_df <- tibble(chr = character(), \n",
    "                        start = numeric(), \n",
    "                        end = numeric(),\n",
    "                        bin_number = numeric(),\n",
    "                        methylation = numeric(), \n",
    "                        n_meth_values_in_bin = numeric(), \n",
    "                        n_na_meth_values_in_bin = numeric())\n",
    "FINAL_meth_df\n",
    "str(FINAL_meth_df)"
   ]
  },
  {
   "cell_type": "code",
   "execution_count": 13,
   "id": "eddadd13-c787-4bd9-bd7d-9b4e29dd1dbd",
   "metadata": {},
   "outputs": [
    {
     "name": "stdout",
     "output_type": "stream",
     "text": [
      "  |=======                                           |  13%[1] \"zero values found\"\n",
      "[1] \"chr10\"\n",
      "[1] 1.34e+08\n",
      "[1] 134250000\n",
      "[1] \"zero values found\"\n",
      "[1] \"chr10\"\n",
      "[1] 134250000\n",
      "[1] 134500000\n",
      "[1] \"zero values found\"\n",
      "[1] \"chr10\"\n",
      "[1] 134500000\n",
      "[1] 134750000\n",
      "[1] \"zero values found\"\n",
      "[1] \"chr10\"\n",
      "[1] 134750000\n",
      "[1] 1.35e+08\n",
      "[1] \"zero values found\"\n",
      "[1] \"chr10\"\n",
      "[1] 1.35e+08\n",
      "[1] 135250000\n",
      "[1] \"zero values found\"\n",
      "[1] \"chr10\"\n",
      "[1] 135250000\n",
      "[1] 135500000\n",
      "  |=============                                     |  27%[1] \"zero values found\"\n",
      "[1] \"chr13\"\n",
      "[1] 114750000\n",
      "[1] 1.15e+08\n",
      "  |===============                                   |  30%[1] \"zero values found\"\n",
      "[1] \"chr14\"\n",
      "[1] 1.07e+08\n",
      "[1] 107250000\n",
      "  |================                                  |  33%[1] \"zero values found\"\n",
      "[1] \"chr15\"\n",
      "[1] 1.02e+08\n",
      "[1] 102250000\n",
      "  |======================                            |  43%[1] \"zero values found\"\n",
      "[1] \"chr19\"\n",
      "[1] 58750000\n",
      "[1] 5.9e+07\n",
      "  |==========================                        |  52%[1] \"zero values found\"\n",
      "[1] \"chr2\"\n",
      "[1] 242250000\n",
      "[1] 242500000\n",
      "[1] \"zero values found\"\n",
      "[1] \"chr2\"\n",
      "[1] 242500000\n",
      "[1] 242750000\n",
      "[1] \"zero values found\"\n",
      "[1] \"chr2\"\n",
      "[1] 242750000\n",
      "[1] 2.43e+08\n",
      "  |============================                      |  56%[1] \"zero values found\"\n",
      "[1] \"chr21\"\n",
      "[1] 46750000\n",
      "[1] 4.7e+07\n",
      "[1] \"zero values found\"\n",
      "[1] \"chr21\"\n",
      "[1] 4.7e+07\n",
      "[1] 47250000\n",
      "[1] \"zero values found\"\n",
      "[1] \"chr21\"\n",
      "[1] 47250000\n",
      "[1] 47500000\n",
      "[1] \"zero values found\"\n",
      "[1] \"chr21\"\n",
      "[1] 47500000\n",
      "[1] 47750000\n",
      "[1] \"zero values found\"\n",
      "[1] \"chr21\"\n",
      "[1] 47750000\n",
      "[1] 4.8e+07\n",
      "  |=============================                     |  57%[1] \"zero values found\"\n",
      "[1] \"chr22\"\n",
      "[1] 5.1e+07\n",
      "[1] 51250000\n",
      "  |====================================              |  72%[1] \"zero values found\"\n",
      "[1] \"chr4\"\n",
      "[1] 190250000\n",
      "[1] 190500000\n",
      "  |==========================================        |  85%[1] \"zero values found\"\n",
      "[1] \"chr6\"\n",
      "[1] 170750000\n",
      "[1] 1.71e+08\n",
      "  |================================================  |  96%[1] \"zero values found\"\n",
      "[1] \"chr8\"\n",
      "[1] 145500000\n",
      "[1] 145750000\n",
      "[1] \"zero values found\"\n",
      "[1] \"chr8\"\n",
      "[1] 145750000\n",
      "[1] 1.46e+08\n",
      "[1] \"zero values found\"\n",
      "[1] \"chr8\"\n",
      "[1] 1.46e+08\n",
      "[1] 146250000\n",
      "  |==================================================| 100%[1] \"zero values found\"\n",
      "[1] \"chr9\"\n",
      "[1] 138500000\n",
      "[1] 138750000\n",
      "[1] \"zero values found\"\n",
      "[1] \"chr9\"\n",
      "[1] 138750000\n",
      "[1] 1.39e+08\n",
      "[1] \"zero values found\"\n",
      "[1] \"chr9\"\n",
      "[1] 1.39e+08\n",
      "[1] 139250000\n",
      "[1] \"zero values found\"\n",
      "[1] \"chr9\"\n",
      "[1] 139250000\n",
      "[1] 139500000\n",
      "[1] \"zero values found\"\n",
      "[1] \"chr9\"\n",
      "[1] 139500000\n",
      "[1] 139750000\n",
      "[1] \"zero values found\"\n",
      "[1] \"chr9\"\n",
      "[1] 139750000\n",
      "[1] 1.4e+08\n",
      "[1] \"zero values found\"\n",
      "[1] \"chr9\"\n",
      "[1] 1.4e+08\n",
      "[1] 140250000\n",
      "[1] \"zero values found\"\n",
      "[1] \"chr9\"\n",
      "[1] 140250000\n",
      "[1] 140500000\n",
      "[1] \"zero values found\"\n",
      "[1] \"chr9\"\n",
      "[1] 140500000\n",
      "[1] 140750000\n",
      "[1] \"zero values found\"\n",
      "[1] \"chr9\"\n",
      "[1] 140750000\n",
      "[1] 1.41e+08\n",
      "\n"
     ]
    }
   ],
   "source": [
    "n_iter <- dim(ATAC)[1] # Number of iterations of the loop\n",
    "\n",
    "# Initializes the progress bar\n",
    "pb <- txtProgressBar(min = 0,      # Minimum value of the progress bar\n",
    "                     max = n_iter, # Maximum value of the progress bar\n",
    "                     style = 3,    # Progress bar style (also available style = 1 and style = 2)\n",
    "                     width = 50,   # Progress bar width. Defaults to getOption(\"width\")\n",
    "                     char = \"=\")   # Character used to create the bar\n",
    "\n",
    "mean_meth_vector <- c()\n",
    "for (row_index in (1:n_iter)){\n",
    "    chrom <- ATAC[row_index, \"chr\"]\n",
    "    start_pos <- ATAC[row_index, \"start_pos\"]\n",
    "    end_pos <- ATAC[row_index, \"end_pos\"]\n",
    "    bin_nr <- ATAC[row_index, \"bin_number\"]\n",
    "    meth_values <- met_df %>% filter(chr == chrom, between(start, start_pos, end_pos - 1))\n",
    "    \n",
    "    n_meth_values = dim(meth_values)[1]\n",
    "    n_na_meth_values = sum(is.na(meth_values$methylation))\n",
    "    \n",
    "    if (dim(meth_values)[1] == 0){\n",
    "        print(\"zero values found\")\n",
    "        print(chrom)\n",
    "        print(start_pos)\n",
    "        print(end_pos)\n",
    "    }\n",
    "    \n",
    "    mean_meth <- mean(meth_values$methylation)\n",
    "    \n",
    "    FINAL_meth_df <- FINAL_meth_df %>% add_row(chr = chrom, \n",
    "                                               start = start_pos, \n",
    "                                               end = end_pos, \n",
    "                                               bin_number = bin_nr,\n",
    "                                               methylation = mean_meth, \n",
    "                                               n_meth_values_in_bin = n_meth_values, \n",
    "                                               n_na_meth_values_in_bin = n_na_meth_values\n",
    "                                               )\n",
    "\n",
    "    setTxtProgressBar(pb, row_index)\n",
    "                                     \n",
    "}\n",
    "close(pb)"
   ]
  },
  {
   "cell_type": "code",
   "execution_count": 1,
   "id": "7390408d-7490-42a2-b01b-d07449d6a2c6",
   "metadata": {},
   "outputs": [
    {
     "ename": "ERROR",
     "evalue": "Error in head(FINAL_meth_df): object 'FINAL_meth_df' not found\n",
     "output_type": "error",
     "traceback": [
      "Error in head(FINAL_meth_df): object 'FINAL_meth_df' not found\nTraceback:\n",
      "1. head(FINAL_meth_df)"
     ]
    }
   ],
   "source": [
    "head(FINAL_meth_df)\n",
    "dim(FINAL_meth_df)"
   ]
  },
  {
   "cell_type": "code",
   "execution_count": 15,
   "id": "96290bd3-bc97-4191-b291-31e4218ad2a2",
   "metadata": {},
   "outputs": [],
   "source": [
    "saveRDS(FINAL_meth_df, file = '../data/methylation/Methylation_files_with_counts/mean_methylation_with_counts.rds')"
   ]
  },
  {
   "cell_type": "markdown",
   "id": "c51ef134-8b1f-4ac4-8d9f-cde282a76aeb",
   "metadata": {},
   "source": [
    "### Removing NA's"
   ]
  },
  {
   "cell_type": "code",
   "execution_count": 2,
   "id": "5a397581-748d-4136-a3f1-98c1a2ab8b6f",
   "metadata": {},
   "outputs": [
    {
     "data": {
      "text/html": [
       "<table>\n",
       "<thead><tr><th scope=col>chr</th><th scope=col>start</th><th scope=col>end</th><th scope=col>bin_number</th><th scope=col>methylation</th><th scope=col>n_meth_values_in_bin</th><th scope=col>n_na_meth_values_in_bin</th></tr></thead>\n",
       "<tbody>\n",
       "\t<tr><td>chr1    </td><td> 750000 </td><td>1000000 </td><td>3       </td><td>48.69058</td><td>11554   </td><td>0       </td></tr>\n",
       "\t<tr><td>chr1    </td><td>1000000 </td><td>1250000 </td><td>4       </td><td>55.44770</td><td>20073   </td><td>0       </td></tr>\n",
       "\t<tr><td>chr1    </td><td>1250000 </td><td>1500000 </td><td>5       </td><td>63.11780</td><td>18631   </td><td>0       </td></tr>\n",
       "\t<tr><td>chr1    </td><td>1750000 </td><td>2000000 </td><td>7       </td><td>62.01188</td><td>13403   </td><td>0       </td></tr>\n",
       "\t<tr><td>chr1    </td><td>2000000 </td><td>2250000 </td><td>8       </td><td>60.11379</td><td>16934   </td><td>0       </td></tr>\n",
       "\t<tr><td>chr1    </td><td>2250000 </td><td>2500000 </td><td>9       </td><td>57.19907</td><td>16015   </td><td>0       </td></tr>\n",
       "</tbody>\n",
       "</table>\n"
      ],
      "text/latex": [
       "\\begin{tabular}{r|lllllll}\n",
       " chr & start & end & bin\\_number & methylation & n\\_meth\\_values\\_in\\_bin & n\\_na\\_meth\\_values\\_in\\_bin\\\\\n",
       "\\hline\n",
       "\t chr1     &  750000  & 1000000  & 3        & 48.69058 & 11554    & 0       \\\\\n",
       "\t chr1     & 1000000  & 1250000  & 4        & 55.44770 & 20073    & 0       \\\\\n",
       "\t chr1     & 1250000  & 1500000  & 5        & 63.11780 & 18631    & 0       \\\\\n",
       "\t chr1     & 1750000  & 2000000  & 7        & 62.01188 & 13403    & 0       \\\\\n",
       "\t chr1     & 2000000  & 2250000  & 8        & 60.11379 & 16934    & 0       \\\\\n",
       "\t chr1     & 2250000  & 2500000  & 9        & 57.19907 & 16015    & 0       \\\\\n",
       "\\end{tabular}\n"
      ],
      "text/markdown": [
       "\n",
       "| chr | start | end | bin_number | methylation | n_meth_values_in_bin | n_na_meth_values_in_bin |\n",
       "|---|---|---|---|---|---|---|\n",
       "| chr1     |  750000  | 1000000  | 3        | 48.69058 | 11554    | 0        |\n",
       "| chr1     | 1000000  | 1250000  | 4        | 55.44770 | 20073    | 0        |\n",
       "| chr1     | 1250000  | 1500000  | 5        | 63.11780 | 18631    | 0        |\n",
       "| chr1     | 1750000  | 2000000  | 7        | 62.01188 | 13403    | 0        |\n",
       "| chr1     | 2000000  | 2250000  | 8        | 60.11379 | 16934    | 0        |\n",
       "| chr1     | 2250000  | 2500000  | 9        | 57.19907 | 16015    | 0        |\n",
       "\n"
      ],
      "text/plain": [
       "  chr  start   end     bin_number methylation n_meth_values_in_bin\n",
       "1 chr1  750000 1000000 3          48.69058    11554               \n",
       "2 chr1 1000000 1250000 4          55.44770    20073               \n",
       "3 chr1 1250000 1500000 5          63.11780    18631               \n",
       "4 chr1 1750000 2000000 7          62.01188    13403               \n",
       "5 chr1 2000000 2250000 8          60.11379    16934               \n",
       "6 chr1 2250000 2500000 9          57.19907    16015               \n",
       "  n_na_meth_values_in_bin\n",
       "1 0                      \n",
       "2 0                      \n",
       "3 0                      \n",
       "4 0                      \n",
       "5 0                      \n",
       "6 0                      "
      ]
     },
     "metadata": {},
     "output_type": "display_data"
    },
    {
     "data": {
      "text/html": [
       "<ol class=list-inline>\n",
       "\t<li>10303</li>\n",
       "\t<li>7</li>\n",
       "</ol>\n"
      ],
      "text/latex": [
       "\\begin{enumerate*}\n",
       "\\item 10303\n",
       "\\item 7\n",
       "\\end{enumerate*}\n"
      ],
      "text/markdown": [
       "1. 10303\n",
       "2. 7\n",
       "\n",
       "\n"
      ],
      "text/plain": [
       "[1] 10303     7"
      ]
     },
     "metadata": {},
     "output_type": "display_data"
    }
   ],
   "source": [
    "new_meth_df <- readRDS('../data/methylation/mean_methylation_with_counts.rds')\n",
    "head(new_meth_df)\n",
    "dim(new_meth_df)"
   ]
  },
  {
   "cell_type": "code",
   "execution_count": 3,
   "id": "ec2425b8-0400-4be8-9867-b57a84fff2a6",
   "metadata": {},
   "outputs": [
    {
     "data": {
      "text/html": [
       "34"
      ],
      "text/latex": [
       "34"
      ],
      "text/markdown": [
       "34"
      ],
      "text/plain": [
       "[1] 34"
      ]
     },
     "metadata": {},
     "output_type": "display_data"
    }
   ],
   "source": [
    "sum(is.na(new_meth_df))"
   ]
  },
  {
   "cell_type": "code",
   "execution_count": 6,
   "id": "8524c4a0-ca08-4911-8279-192877a9b94d",
   "metadata": {},
   "outputs": [
    {
     "data": {
      "text/html": [
       "<ol class=list-inline>\n",
       "\t<li>10269</li>\n",
       "\t<li>7</li>\n",
       "</ol>\n"
      ],
      "text/latex": [
       "\\begin{enumerate*}\n",
       "\\item 10269\n",
       "\\item 7\n",
       "\\end{enumerate*}\n"
      ],
      "text/markdown": [
       "1. 10269\n",
       "2. 7\n",
       "\n",
       "\n"
      ],
      "text/plain": [
       "[1] 10269     7"
      ]
     },
     "metadata": {},
     "output_type": "display_data"
    }
   ],
   "source": [
    "new_meth_df_na_rm <- new_meth_df %>% filter(!is.na(methylation))\n",
    "dim(new_meth_df_na_rm)"
   ]
  },
  {
   "cell_type": "code",
   "execution_count": 7,
   "id": "8d1c18d2-f665-4342-9931-7c1655ad4e27",
   "metadata": {},
   "outputs": [],
   "source": [
    "saveRDS(new_meth_df_na_rm, file = '../data/methylation/Methylation_files_with_counts/mean_methylation_with_counts_NAs_removed.rds')"
   ]
  },
  {
   "cell_type": "markdown",
   "id": "d971dda9-0650-495e-aedb-1888c3668a10",
   "metadata": {},
   "source": [
    "### Converting to bin id's"
   ]
  },
  {
   "cell_type": "code",
   "execution_count": 8,
   "id": "bed363e1-6114-411b-bd9a-287bcf38ab76",
   "metadata": {},
   "outputs": [
    {
     "data": {
      "text/html": [
       "<table>\n",
       "<thead><tr><th scope=col>chr</th><th scope=col>start</th><th scope=col>end</th><th scope=col>bin_number</th><th scope=col>methylation</th><th scope=col>n_meth_values_in_bin</th><th scope=col>n_na_meth_values_in_bin</th><th scope=col>bin_id</th></tr></thead>\n",
       "<tbody>\n",
       "\t<tr><td>chr1    </td><td> 750000 </td><td>1000000 </td><td>3       </td><td>48.69058</td><td>11554   </td><td>0       </td><td>chr1_3  </td></tr>\n",
       "\t<tr><td>chr1    </td><td>1000000 </td><td>1250000 </td><td>4       </td><td>55.44770</td><td>20073   </td><td>0       </td><td>chr1_4  </td></tr>\n",
       "\t<tr><td>chr1    </td><td>1250000 </td><td>1500000 </td><td>5       </td><td>63.11780</td><td>18631   </td><td>0       </td><td>chr1_5  </td></tr>\n",
       "\t<tr><td>chr1    </td><td>1750000 </td><td>2000000 </td><td>7       </td><td>62.01188</td><td>13403   </td><td>0       </td><td>chr1_7  </td></tr>\n",
       "\t<tr><td>chr1    </td><td>2000000 </td><td>2250000 </td><td>8       </td><td>60.11379</td><td>16934   </td><td>0       </td><td>chr1_8  </td></tr>\n",
       "\t<tr><td>chr1    </td><td>2250000 </td><td>2500000 </td><td>9       </td><td>57.19907</td><td>16015   </td><td>0       </td><td>chr1_9  </td></tr>\n",
       "</tbody>\n",
       "</table>\n"
      ],
      "text/latex": [
       "\\begin{tabular}{r|llllllll}\n",
       " chr & start & end & bin\\_number & methylation & n\\_meth\\_values\\_in\\_bin & n\\_na\\_meth\\_values\\_in\\_bin & bin\\_id\\\\\n",
       "\\hline\n",
       "\t chr1     &  750000  & 1000000  & 3        & 48.69058 & 11554    & 0        & chr1\\_3\\\\\n",
       "\t chr1     & 1000000  & 1250000  & 4        & 55.44770 & 20073    & 0        & chr1\\_4\\\\\n",
       "\t chr1     & 1250000  & 1500000  & 5        & 63.11780 & 18631    & 0        & chr1\\_5\\\\\n",
       "\t chr1     & 1750000  & 2000000  & 7        & 62.01188 & 13403    & 0        & chr1\\_7\\\\\n",
       "\t chr1     & 2000000  & 2250000  & 8        & 60.11379 & 16934    & 0        & chr1\\_8\\\\\n",
       "\t chr1     & 2250000  & 2500000  & 9        & 57.19907 & 16015    & 0        & chr1\\_9\\\\\n",
       "\\end{tabular}\n"
      ],
      "text/markdown": [
       "\n",
       "| chr | start | end | bin_number | methylation | n_meth_values_in_bin | n_na_meth_values_in_bin | bin_id |\n",
       "|---|---|---|---|---|---|---|---|\n",
       "| chr1     |  750000  | 1000000  | 3        | 48.69058 | 11554    | 0        | chr1_3   |\n",
       "| chr1     | 1000000  | 1250000  | 4        | 55.44770 | 20073    | 0        | chr1_4   |\n",
       "| chr1     | 1250000  | 1500000  | 5        | 63.11780 | 18631    | 0        | chr1_5   |\n",
       "| chr1     | 1750000  | 2000000  | 7        | 62.01188 | 13403    | 0        | chr1_7   |\n",
       "| chr1     | 2000000  | 2250000  | 8        | 60.11379 | 16934    | 0        | chr1_8   |\n",
       "| chr1     | 2250000  | 2500000  | 9        | 57.19907 | 16015    | 0        | chr1_9   |\n",
       "\n"
      ],
      "text/plain": [
       "  chr  start   end     bin_number methylation n_meth_values_in_bin\n",
       "1 chr1  750000 1000000 3          48.69058    11554               \n",
       "2 chr1 1000000 1250000 4          55.44770    20073               \n",
       "3 chr1 1250000 1500000 5          63.11780    18631               \n",
       "4 chr1 1750000 2000000 7          62.01188    13403               \n",
       "5 chr1 2000000 2250000 8          60.11379    16934               \n",
       "6 chr1 2250000 2500000 9          57.19907    16015               \n",
       "  n_na_meth_values_in_bin bin_id\n",
       "1 0                       chr1_3\n",
       "2 0                       chr1_4\n",
       "3 0                       chr1_5\n",
       "4 0                       chr1_7\n",
       "5 0                       chr1_8\n",
       "6 0                       chr1_9"
      ]
     },
     "metadata": {},
     "output_type": "display_data"
    }
   ],
   "source": [
    "new_meth_df_na_rm$bin_id <- paste(new_meth_df_na_rm$chr, new_meth_df_na_rm$bin_number, sep = \"_\")\n",
    "head(new_meth_df_na_rm)"
   ]
  },
  {
   "cell_type": "code",
   "execution_count": 9,
   "id": "f8abfffa-cf69-43b8-9d17-5f890f5398dd",
   "metadata": {},
   "outputs": [
    {
     "data": {
      "text/html": [
       "<ol class=list-inline>\n",
       "\t<li>10269</li>\n",
       "\t<li>8</li>\n",
       "</ol>\n"
      ],
      "text/latex": [
       "\\begin{enumerate*}\n",
       "\\item 10269\n",
       "\\item 8\n",
       "\\end{enumerate*}\n"
      ],
      "text/markdown": [
       "1. 10269\n",
       "2. 8\n",
       "\n",
       "\n"
      ],
      "text/plain": [
       "[1] 10269     8"
      ]
     },
     "metadata": {},
     "output_type": "display_data"
    },
    {
     "data": {
      "text/html": [
       "<table>\n",
       "<thead><tr><th scope=col>chr</th><th scope=col>start</th><th scope=col>end</th><th scope=col>bin_number</th><th scope=col>bin_id</th><th scope=col>methylation</th></tr></thead>\n",
       "<tbody>\n",
       "\t<tr><td>chr1    </td><td> 750000 </td><td>1000000 </td><td>3       </td><td>chr1_3  </td><td>48.69058</td></tr>\n",
       "\t<tr><td>chr1    </td><td>1000000 </td><td>1250000 </td><td>4       </td><td>chr1_4  </td><td>55.44770</td></tr>\n",
       "\t<tr><td>chr1    </td><td>1250000 </td><td>1500000 </td><td>5       </td><td>chr1_5  </td><td>63.11780</td></tr>\n",
       "\t<tr><td>chr1    </td><td>1750000 </td><td>2000000 </td><td>7       </td><td>chr1_7  </td><td>62.01188</td></tr>\n",
       "\t<tr><td>chr1    </td><td>2000000 </td><td>2250000 </td><td>8       </td><td>chr1_8  </td><td>60.11379</td></tr>\n",
       "\t<tr><td>chr1    </td><td>2250000 </td><td>2500000 </td><td>9       </td><td>chr1_9  </td><td>57.19907</td></tr>\n",
       "</tbody>\n",
       "</table>\n"
      ],
      "text/latex": [
       "\\begin{tabular}{r|llllll}\n",
       " chr & start & end & bin\\_number & bin\\_id & methylation\\\\\n",
       "\\hline\n",
       "\t chr1     &  750000  & 1000000  & 3        & chr1\\_3 & 48.69058\\\\\n",
       "\t chr1     & 1000000  & 1250000  & 4        & chr1\\_4 & 55.44770\\\\\n",
       "\t chr1     & 1250000  & 1500000  & 5        & chr1\\_5 & 63.11780\\\\\n",
       "\t chr1     & 1750000  & 2000000  & 7        & chr1\\_7 & 62.01188\\\\\n",
       "\t chr1     & 2000000  & 2250000  & 8        & chr1\\_8 & 60.11379\\\\\n",
       "\t chr1     & 2250000  & 2500000  & 9        & chr1\\_9 & 57.19907\\\\\n",
       "\\end{tabular}\n"
      ],
      "text/markdown": [
       "\n",
       "| chr | start | end | bin_number | bin_id | methylation |\n",
       "|---|---|---|---|---|---|\n",
       "| chr1     |  750000  | 1000000  | 3        | chr1_3   | 48.69058 |\n",
       "| chr1     | 1000000  | 1250000  | 4        | chr1_4   | 55.44770 |\n",
       "| chr1     | 1250000  | 1500000  | 5        | chr1_5   | 63.11780 |\n",
       "| chr1     | 1750000  | 2000000  | 7        | chr1_7   | 62.01188 |\n",
       "| chr1     | 2000000  | 2250000  | 8        | chr1_8   | 60.11379 |\n",
       "| chr1     | 2250000  | 2500000  | 9        | chr1_9   | 57.19907 |\n",
       "\n"
      ],
      "text/plain": [
       "  chr  start   end     bin_number bin_id methylation\n",
       "1 chr1  750000 1000000 3          chr1_3 48.69058   \n",
       "2 chr1 1000000 1250000 4          chr1_4 55.44770   \n",
       "3 chr1 1250000 1500000 5          chr1_5 63.11780   \n",
       "4 chr1 1750000 2000000 7          chr1_7 62.01188   \n",
       "5 chr1 2000000 2250000 8          chr1_8 60.11379   \n",
       "6 chr1 2250000 2500000 9          chr1_9 57.19907   "
      ]
     },
     "metadata": {},
     "output_type": "display_data"
    }
   ],
   "source": [
    "dim(new_meth_df_na_rm)\n",
    "new_meth_df_na_rm <- new_meth_df_na_rm %>% select(chr, start, end, bin_number, bin_id, methylation)\n",
    "head(new_meth_df_na_rm)"
   ]
  },
  {
   "cell_type": "code",
   "execution_count": 10,
   "id": "6efd7ca0-8dea-4143-aeee-4dd0b4fd62b3",
   "metadata": {},
   "outputs": [],
   "source": [
    "saveRDS(new_meth_df_na_rm, file = '../data/methylation/Methylation_files_with_counts/mean_methylation_with_counts_NAs_removed_with_binID.rds')"
   ]
  },
  {
   "cell_type": "code",
   "execution_count": null,
   "id": "0f72b0c5-5b9b-4006-9e1a-e4aee6e705e3",
   "metadata": {},
   "outputs": [],
   "source": []
  }
 ],
 "metadata": {
  "kernelspec": {
   "display_name": "R",
   "language": "R",
   "name": "ir"
  },
  "language_info": {
   "codemirror_mode": "r",
   "file_extension": ".r",
   "mimetype": "text/x-r-source",
   "name": "R",
   "pygments_lexer": "r",
   "version": "3.6.1"
  }
 },
 "nbformat": 4,
 "nbformat_minor": 5
}
