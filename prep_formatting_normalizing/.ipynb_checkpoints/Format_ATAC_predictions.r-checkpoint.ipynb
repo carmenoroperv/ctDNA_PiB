{
 "cells": [
  {
   "cell_type": "markdown",
   "id": "e7d7d882-671e-4f93-a644-d069d6270f2a",
   "metadata": {},
   "source": [
    "# Format ATAC predictions into wider format"
   ]
  },
  {
   "cell_type": "code",
   "execution_count": 3,
   "id": "bc2485f9-c91e-42f8-9f0c-99238ff78754",
   "metadata": {},
   "outputs": [],
   "source": [
    "library(tidyverse)\n",
    "install.packages(\"tidyr\", repos='http://cran.us.r-project.org')\n",
    "library(tidyr)"
   ]
  },
  {
   "cell_type": "code",
   "execution_count": 29,
   "id": "af18de5e-72c4-4510-bbb1-0ce86237684b",
   "metadata": {},
   "outputs": [],
   "source": [
    "input_file = snakemake@input[[\"input\"]]\n",
    "output_file = snakemake@output[[\"output_formatted_pred\"]]"
   ]
  },
  {
   "cell_type": "code",
   "execution_count": 30,
   "id": "dbbbca59-3197-41ea-ad08-bffff5af9f3a",
   "metadata": {},
   "outputs": [
    {
     "data": {
      "text/html": [
       "<ol class=list-inline>\n",
       "\t<li>4368472</li>\n",
       "\t<li>4</li>\n",
       "</ol>\n"
      ],
      "text/latex": [
       "\\begin{enumerate*}\n",
       "\\item 4368472\n",
       "\\item 4\n",
       "\\end{enumerate*}\n"
      ],
      "text/markdown": [
       "1. 4368472\n",
       "2. 4\n",
       "\n",
       "\n"
      ],
      "text/plain": [
       "[1] 4368472       4"
      ]
     },
     "metadata": {},
     "output_type": "display_data"
    }
   ],
   "source": [
    "\n",
    "#pred_ATAC = read.csv( \"../data/ATAC_predictions_on_all_samples/ATAC_pred_lasso_std_FALSE.csv\")\n",
    "#dim(pred_ATAC)\n",
    "\n",
    "pred_ATAC = readRDS(input_file)\n",
    "dim(pred_ATAC)"
   ]
  },
  {
   "cell_type": "code",
   "execution_count": 31,
   "id": "369a0676-469a-4753-a710-1608682af0c7",
   "metadata": {},
   "outputs": [
    {
     "data": {
      "text/html": [
       "<table>\n",
       "<thead><tr><th scope=col>sample</th><th scope=col>bin</th><th scope=col>ATAC_observed</th><th scope=col>ATAC_predicted</th></tr></thead>\n",
       "<tbody>\n",
       "\t<tr><td>PGDX16568P</td><td>chr10_400 </td><td>0.5866651 </td><td>0.4436094 </td></tr>\n",
       "\t<tr><td>PGDX16568P</td><td>chr10_40  </td><td>0.1996134 </td><td>0.3504080 </td></tr>\n",
       "\t<tr><td>PGDX16568P</td><td>chr10_4   </td><td>0.5968816 </td><td>0.4246037 </td></tr>\n",
       "\t<tr><td>PGDX16568P</td><td>chr10_401 </td><td>0.2905764 </td><td>0.3558493 </td></tr>\n",
       "\t<tr><td>PGDX16568P</td><td>chr10_402 </td><td>0.2319729 </td><td>0.3627217 </td></tr>\n",
       "\t<tr><td>PGDX16568P</td><td>chr10_403 </td><td>0.2262170 </td><td>0.3753545 </td></tr>\n",
       "</tbody>\n",
       "</table>\n"
      ],
      "text/latex": [
       "\\begin{tabular}{r|llll}\n",
       " sample & bin & ATAC\\_observed & ATAC\\_predicted\\\\\n",
       "\\hline\n",
       "\t PGDX16568P  & chr10\\_400 & 0.5866651   & 0.4436094  \\\\\n",
       "\t PGDX16568P  & chr10\\_40  & 0.1996134   & 0.3504080  \\\\\n",
       "\t PGDX16568P  & chr10\\_4   & 0.5968816   & 0.4246037  \\\\\n",
       "\t PGDX16568P  & chr10\\_401 & 0.2905764   & 0.3558493  \\\\\n",
       "\t PGDX16568P  & chr10\\_402 & 0.2319729   & 0.3627217  \\\\\n",
       "\t PGDX16568P  & chr10\\_403 & 0.2262170   & 0.3753545  \\\\\n",
       "\\end{tabular}\n"
      ],
      "text/markdown": [
       "\n",
       "| sample | bin | ATAC_observed | ATAC_predicted |\n",
       "|---|---|---|---|\n",
       "| PGDX16568P | chr10_400  | 0.5866651  | 0.4436094  |\n",
       "| PGDX16568P | chr10_40   | 0.1996134  | 0.3504080  |\n",
       "| PGDX16568P | chr10_4    | 0.5968816  | 0.4246037  |\n",
       "| PGDX16568P | chr10_401  | 0.2905764  | 0.3558493  |\n",
       "| PGDX16568P | chr10_402  | 0.2319729  | 0.3627217  |\n",
       "| PGDX16568P | chr10_403  | 0.2262170  | 0.3753545  |\n",
       "\n"
      ],
      "text/plain": [
       "  sample     bin       ATAC_observed ATAC_predicted\n",
       "1 PGDX16568P chr10_400 0.5866651     0.4436094     \n",
       "2 PGDX16568P chr10_40  0.1996134     0.3504080     \n",
       "3 PGDX16568P chr10_4   0.5968816     0.4246037     \n",
       "4 PGDX16568P chr10_401 0.2905764     0.3558493     \n",
       "5 PGDX16568P chr10_402 0.2319729     0.3627217     \n",
       "6 PGDX16568P chr10_403 0.2262170     0.3753545     "
      ]
     },
     "metadata": {},
     "output_type": "display_data"
    }
   ],
   "source": [
    "head(pred_ATAC)"
   ]
  },
  {
   "cell_type": "code",
   "execution_count": 32,
   "id": "74a4061e-8581-435f-b151-eb20325a5f74",
   "metadata": {},
   "outputs": [
    {
     "name": "stdout",
     "output_type": "stream",
     "text": [
      "tibble [4,368,472 × 4] (S3: tbl_df/tbl/data.frame)\n",
      " $ sample        : Factor w/ 473 levels \"PGDX16568P\",\"PGDX16569P\",..: 1 1 1 1 1 1 1 1 1 1 ...\n",
      " $ bin           : chr [1:4368472] \"chr10_400\" \"chr10_40\" \"chr10_4\" \"chr10_401\" ...\n",
      " $ ATAC_observed : num [1:4368472] 0.587 0.2 0.597 0.291 0.232 ...\n",
      " $ ATAC_predicted: num [1:4368472] 0.444 0.35 0.425 0.356 0.363 ...\n"
     ]
    }
   ],
   "source": [
    "str(pred_ATAC)"
   ]
  },
  {
   "cell_type": "code",
   "execution_count": 33,
   "id": "62f2964a-1df0-4514-ba57-da5c3241fbb3",
   "metadata": {},
   "outputs": [
    {
     "name": "stdout",
     "output_type": "stream",
     "text": [
      "tibble [4,368,472 × 3] (S3: tbl_df/tbl/data.frame)\n",
      " $ sample        : chr [1:4368472] \"PGDX16568P\" \"PGDX16568P\" \"PGDX16568P\" \"PGDX16568P\" ...\n",
      " $ bin           : chr [1:4368472] \"chr10_400\" \"chr10_40\" \"chr10_4\" \"chr10_401\" ...\n",
      " $ ATAC_predicted: num [1:4368472] 0.444 0.35 0.425 0.356 0.363 ...\n"
     ]
    }
   ],
   "source": [
    "pred_ATAC$sample <- as.character(pred_ATAC$sample)\n",
    "pred_ATAC$bin <- as.character(pred_ATAC$bin)\n",
    "pred_ATAC <- pred_ATAC %>% select(-ATAC_observed)\n",
    "\n",
    "str(pred_ATAC)"
   ]
  },
  {
   "cell_type": "code",
   "execution_count": 34,
   "id": "b4c009cb-ed69-4603-a4e9-b8e1e40ef04f",
   "metadata": {
    "tags": []
   },
   "outputs": [
    {
     "name": "stderr",
     "output_type": "stream",
     "text": [
      "ERROR while rich displaying an object: Error in sprintf(wrap, header, body): 'fmt' length exceeds maximal format length 8192\n",
      "\n",
      "Traceback:\n",
      "1. FUN(X[[i]], ...)\n",
      "2. tryCatch(withCallingHandlers({\n",
      " .     if (!mime %in% names(repr::mime2repr)) \n",
      " .         stop(\"No repr_* for mimetype \", mime, \" in repr::mime2repr\")\n",
      " .     rpr <- repr::mime2repr[[mime]](obj)\n",
      " .     if (is.null(rpr)) \n",
      " .         return(NULL)\n",
      " .     prepare_content(is.raw(rpr), rpr)\n",
      " . }, error = error_handler), error = outer_handler)\n",
      "3. tryCatchList(expr, classes, parentenv, handlers)\n",
      "4. tryCatchOne(expr, names, parentenv, handlers[[1L]])\n",
      "5. doTryCatch(return(expr), name, parentenv, handler)\n",
      "6. withCallingHandlers({\n",
      " .     if (!mime %in% names(repr::mime2repr)) \n",
      " .         stop(\"No repr_* for mimetype \", mime, \" in repr::mime2repr\")\n",
      " .     rpr <- repr::mime2repr[[mime]](obj)\n",
      " .     if (is.null(rpr)) \n",
      " .         return(NULL)\n",
      " .     prepare_content(is.raw(rpr), rpr)\n",
      " . }, error = error_handler)\n",
      "7. repr::mime2repr[[mime]](obj)\n",
      "8. repr_latex.data.frame(obj)\n",
      "9. repr_matrix_generic(obj, sprintf(\"\\\\begin{tabular}{%s}\\n%%s%%s\\\\end{tabular}\\n\", \n",
      " .     cols), \"%s\\\\\\\\\\n\\\\hline\\n\", \"  &\", \" %s &\", \"%s\", \"\\t%s\\\\\\\\\\n\", \n",
      " .     \"%s &\", \" %s &\", escape_fun = latex_escape_vec, ...)\n",
      "10. sprintf(wrap, header, body)\n"
     ]
    },
    {
     "data": {
      "text/html": [
       "<table>\n",
       "<thead><tr><th scope=col>sample</th><th scope=col>chr10_400</th><th scope=col>chr10_40</th><th scope=col>chr10_4</th><th scope=col>chr10_401</th><th scope=col>chr10_402</th><th scope=col>chr10_403</th><th scope=col>chr10_404</th><th scope=col>chr10_405</th><th scope=col>chr10_406</th><th scope=col>...</th><th scope=col>chr9_39</th><th scope=col>chr9_391</th><th scope=col>chr9_392</th><th scope=col>chr9_393</th><th scope=col>chr9_394</th><th scope=col>chr9_395</th><th scope=col>chr9_396</th><th scope=col>chr9_397</th><th scope=col>chr9_398</th><th scope=col>chr9_399</th></tr></thead>\n",
       "<tbody>\n",
       "\t<tr><td>PGDX16568P</td><td>0.4436094 </td><td>0.3504080 </td><td>0.4246037 </td><td>0.3558493 </td><td>0.3627217 </td><td>0.3753545 </td><td>0.4049277 </td><td>0.4338185 </td><td>0.4541919 </td><td>...       </td><td>0.3799619 </td><td>0.4243779 </td><td>0.3755864 </td><td>0.3606068 </td><td>0.4115406 </td><td>0.3945905 </td><td>0.4629984 </td><td>0.4562378 </td><td>0.4472082 </td><td>0.3200752 </td></tr>\n",
       "\t<tr><td>PGDX16569P</td><td>0.4636636 </td><td>0.3733197 </td><td>0.4599899 </td><td>0.3585467 </td><td>0.3635841 </td><td>0.3928777 </td><td>0.4024169 </td><td>0.4557413 </td><td>0.4527247 </td><td>...       </td><td>0.3670218 </td><td>0.4537003 </td><td>0.4222544 </td><td>0.4087220 </td><td>0.4328663 </td><td>0.4206941 </td><td>0.4642584 </td><td>0.4543508 </td><td>0.5355371 </td><td>0.4195697 </td></tr>\n",
       "\t<tr><td>PGDX16570P</td><td>0.4570223 </td><td>0.3621384 </td><td>0.5049831 </td><td>0.3649314 </td><td>0.4151366 </td><td>0.3826162 </td><td>0.4007929 </td><td>0.5099564 </td><td>0.4650457 </td><td>...       </td><td>0.3741272 </td><td>0.4253619 </td><td>0.4224042 </td><td>0.4104941 </td><td>0.3821752 </td><td>0.4420274 </td><td>0.4798147 </td><td>0.4445934 </td><td>0.5185267 </td><td>0.4069963 </td></tr>\n",
       "\t<tr><td>PGDX16571P</td><td>0.4771153 </td><td>0.3537090 </td><td>0.4787658 </td><td>0.3590829 </td><td>0.3772378 </td><td>0.3824423 </td><td>0.4151299 </td><td>0.4917104 </td><td>0.4588042 </td><td>...       </td><td>0.4343292 </td><td>0.4450333 </td><td>0.4419920 </td><td>0.4347214 </td><td>0.4287800 </td><td>0.4535012 </td><td>0.4772294 </td><td>0.4988258 </td><td>0.5147849 </td><td>0.4670048 </td></tr>\n",
       "\t<tr><td>PGDX16579P</td><td>0.4491478 </td><td>0.3482935 </td><td>0.4620643 </td><td>0.3342121 </td><td>0.3037149 </td><td>0.3249840 </td><td>0.4178352 </td><td>0.4227655 </td><td>0.4409287 </td><td>...       </td><td>0.4057000 </td><td>0.3933598 </td><td>0.4103984 </td><td>0.3664697 </td><td>0.3544236 </td><td>0.3859092 </td><td>0.5119405 </td><td>0.4694774 </td><td>0.4611093 </td><td>0.3958704 </td></tr>\n",
       "\t<tr><td>PGDX16582P</td><td>0.4972027 </td><td>0.3837468 </td><td>0.5216159 </td><td>0.3879830 </td><td>0.4097884 </td><td>0.3991161 </td><td>0.4335345 </td><td>0.5385746 </td><td>0.5105224 </td><td>...       </td><td>0.4134010 </td><td>0.5264980 </td><td>0.4764794 </td><td>0.4308143 </td><td>0.4633172 </td><td>0.4737872 </td><td>0.5391489 </td><td>0.5137524 </td><td>0.5067752 </td><td>0.4082605 </td></tr>\n",
       "</tbody>\n",
       "</table>\n"
      ],
      "text/markdown": [
       "\n",
       "| sample | chr10_400 | chr10_40 | chr10_4 | chr10_401 | chr10_402 | chr10_403 | chr10_404 | chr10_405 | chr10_406 | ... | chr9_39 | chr9_391 | chr9_392 | chr9_393 | chr9_394 | chr9_395 | chr9_396 | chr9_397 | chr9_398 | chr9_399 |\n",
       "|---|---|---|---|---|---|---|---|---|---|---|---|---|---|---|---|---|---|---|---|---|\n",
       "| PGDX16568P | 0.4436094  | 0.3504080  | 0.4246037  | 0.3558493  | 0.3627217  | 0.3753545  | 0.4049277  | 0.4338185  | 0.4541919  | ...        | 0.3799619  | 0.4243779  | 0.3755864  | 0.3606068  | 0.4115406  | 0.3945905  | 0.4629984  | 0.4562378  | 0.4472082  | 0.3200752  |\n",
       "| PGDX16569P | 0.4636636  | 0.3733197  | 0.4599899  | 0.3585467  | 0.3635841  | 0.3928777  | 0.4024169  | 0.4557413  | 0.4527247  | ...        | 0.3670218  | 0.4537003  | 0.4222544  | 0.4087220  | 0.4328663  | 0.4206941  | 0.4642584  | 0.4543508  | 0.5355371  | 0.4195697  |\n",
       "| PGDX16570P | 0.4570223  | 0.3621384  | 0.5049831  | 0.3649314  | 0.4151366  | 0.3826162  | 0.4007929  | 0.5099564  | 0.4650457  | ...        | 0.3741272  | 0.4253619  | 0.4224042  | 0.4104941  | 0.3821752  | 0.4420274  | 0.4798147  | 0.4445934  | 0.5185267  | 0.4069963  |\n",
       "| PGDX16571P | 0.4771153  | 0.3537090  | 0.4787658  | 0.3590829  | 0.3772378  | 0.3824423  | 0.4151299  | 0.4917104  | 0.4588042  | ...        | 0.4343292  | 0.4450333  | 0.4419920  | 0.4347214  | 0.4287800  | 0.4535012  | 0.4772294  | 0.4988258  | 0.5147849  | 0.4670048  |\n",
       "| PGDX16579P | 0.4491478  | 0.3482935  | 0.4620643  | 0.3342121  | 0.3037149  | 0.3249840  | 0.4178352  | 0.4227655  | 0.4409287  | ...        | 0.4057000  | 0.3933598  | 0.4103984  | 0.3664697  | 0.3544236  | 0.3859092  | 0.5119405  | 0.4694774  | 0.4611093  | 0.3958704  |\n",
       "| PGDX16582P | 0.4972027  | 0.3837468  | 0.5216159  | 0.3879830  | 0.4097884  | 0.3991161  | 0.4335345  | 0.5385746  | 0.5105224  | ...        | 0.4134010  | 0.5264980  | 0.4764794  | 0.4308143  | 0.4633172  | 0.4737872  | 0.5391489  | 0.5137524  | 0.5067752  | 0.4082605  |\n",
       "\n"
      ],
      "text/plain": [
       "  sample     chr10_400 chr10_40  chr10_4   chr10_401 chr10_402 chr10_403\n",
       "1 PGDX16568P 0.4436094 0.3504080 0.4246037 0.3558493 0.3627217 0.3753545\n",
       "2 PGDX16569P 0.4636636 0.3733197 0.4599899 0.3585467 0.3635841 0.3928777\n",
       "3 PGDX16570P 0.4570223 0.3621384 0.5049831 0.3649314 0.4151366 0.3826162\n",
       "4 PGDX16571P 0.4771153 0.3537090 0.4787658 0.3590829 0.3772378 0.3824423\n",
       "5 PGDX16579P 0.4491478 0.3482935 0.4620643 0.3342121 0.3037149 0.3249840\n",
       "6 PGDX16582P 0.4972027 0.3837468 0.5216159 0.3879830 0.4097884 0.3991161\n",
       "  chr10_404 chr10_405 chr10_406 ... chr9_39   chr9_391  chr9_392  chr9_393 \n",
       "1 0.4049277 0.4338185 0.4541919 ... 0.3799619 0.4243779 0.3755864 0.3606068\n",
       "2 0.4024169 0.4557413 0.4527247 ... 0.3670218 0.4537003 0.4222544 0.4087220\n",
       "3 0.4007929 0.5099564 0.4650457 ... 0.3741272 0.4253619 0.4224042 0.4104941\n",
       "4 0.4151299 0.4917104 0.4588042 ... 0.4343292 0.4450333 0.4419920 0.4347214\n",
       "5 0.4178352 0.4227655 0.4409287 ... 0.4057000 0.3933598 0.4103984 0.3664697\n",
       "6 0.4335345 0.5385746 0.5105224 ... 0.4134010 0.5264980 0.4764794 0.4308143\n",
       "  chr9_394  chr9_395  chr9_396  chr9_397  chr9_398  chr9_399 \n",
       "1 0.4115406 0.3945905 0.4629984 0.4562378 0.4472082 0.3200752\n",
       "2 0.4328663 0.4206941 0.4642584 0.4543508 0.5355371 0.4195697\n",
       "3 0.3821752 0.4420274 0.4798147 0.4445934 0.5185267 0.4069963\n",
       "4 0.4287800 0.4535012 0.4772294 0.4988258 0.5147849 0.4670048\n",
       "5 0.3544236 0.3859092 0.5119405 0.4694774 0.4611093 0.3958704\n",
       "6 0.4633172 0.4737872 0.5391489 0.5137524 0.5067752 0.4082605"
      ]
     },
     "metadata": {},
     "output_type": "display_data"
    }
   ],
   "source": [
    "#pred_ATAC <- pred_ATAC %>% select(-ATAC_observed)\n",
    "pred_ATAC_wide <- pred_ATAC %>% tidyr::pivot_wider(names_from = bin, values_from = ATAC_predicted)\n",
    "head(pred_ATAC_wide)"
   ]
  },
  {
   "cell_type": "code",
   "execution_count": 35,
   "id": "a0572626-d4d3-45e8-8777-a6f1e370d516",
   "metadata": {},
   "outputs": [
    {
     "data": {
      "text/html": [
       "<ol class=list-inline>\n",
       "\t<li>424</li>\n",
       "\t<li>10304</li>\n",
       "</ol>\n"
      ],
      "text/latex": [
       "\\begin{enumerate*}\n",
       "\\item 424\n",
       "\\item 10304\n",
       "\\end{enumerate*}\n"
      ],
      "text/markdown": [
       "1. 424\n",
       "2. 10304\n",
       "\n",
       "\n"
      ],
      "text/plain": [
       "[1]   424 10304"
      ]
     },
     "metadata": {},
     "output_type": "display_data"
    }
   ],
   "source": [
    "dim(pred_ATAC_wide)"
   ]
  },
  {
   "cell_type": "code",
   "execution_count": 36,
   "id": "e9d8ee4d-b062-4fd7-8bc5-09efa00f2bff",
   "metadata": {},
   "outputs": [],
   "source": [
    "saveRDS(pred_ATAC_wide, file = output_file)"
   ]
  },
  {
   "cell_type": "code",
   "execution_count": null,
   "id": "7f34d94f-0941-42b9-8ab4-1e095ed1721b",
   "metadata": {},
   "outputs": [],
   "source": []
  }
 ],
 "metadata": {
  "kernelspec": {
   "display_name": "R",
   "language": "R",
   "name": "ir"
  },
  "language_info": {
   "codemirror_mode": "r",
   "file_extension": ".r",
   "mimetype": "text/x-r-source",
   "name": "R",
   "pygments_lexer": "r",
   "version": "3.6.1"
  }
 },
 "nbformat": 4,
 "nbformat_minor": 5
}
