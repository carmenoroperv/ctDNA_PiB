{
 "cells": [
  {
   "cell_type": "code",
   "execution_count": 1,
   "id": "bd492e21-e2ed-450c-bb6f-5040c08ad762",
   "metadata": {},
   "outputs": [
    {
     "name": "stderr",
     "output_type": "stream",
     "text": [
      "Registered S3 methods overwritten by 'ggplot2':\n",
      "  method         from \n",
      "  [.quosures     rlang\n",
      "  c.quosures     rlang\n",
      "  print.quosures rlang\n",
      "Registered S3 method overwritten by 'rvest':\n",
      "  method            from\n",
      "  read_xml.response xml2\n",
      "── Attaching packages ─────────────────────────────────────── tidyverse 1.2.1 ──\n",
      "✔ ggplot2 3.1.1     ✔ purrr   0.3.4\n",
      "✔ tibble  3.1.4     ✔ dplyr   1.0.7\n",
      "✔ tidyr   1.1.3     ✔ stringr 1.4.0\n",
      "✔ readr   1.3.1     ✔ forcats 0.4.0\n",
      "── Conflicts ────────────────────────────────────────── tidyverse_conflicts() ──\n",
      "✖ dplyr::filter() masks stats::filter()\n",
      "✖ dplyr::lag()    masks stats::lag()\n"
     ]
    }
   ],
   "source": [
    "library(tidyverse)"
   ]
  },
  {
   "cell_type": "markdown",
   "id": "19a2474d-4b26-42f6-947a-83d4422a00d4",
   "metadata": {},
   "source": [
    "# Full data"
   ]
  },
  {
   "cell_type": "code",
   "execution_count": 2,
   "id": "496aa52d-9099-4857-8401-f235923ec81d",
   "metadata": {},
   "outputs": [
    {
     "data": {
      "text/html": [
       "<ol class=list-inline>\n",
       "\t<li>424</li>\n",
       "\t<li>10020</li>\n",
       "</ol>\n"
      ],
      "text/latex": [
       "\\begin{enumerate*}\n",
       "\\item 424\n",
       "\\item 10020\n",
       "\\end{enumerate*}\n"
      ],
      "text/markdown": [
       "1. 424\n",
       "2. 10020\n",
       "\n",
       "\n"
      ],
      "text/plain": [
       "[1]   424 10020"
      ]
     },
     "metadata": {},
     "output_type": "display_data"
    },
    {
     "name": "stderr",
     "output_type": "stream",
     "text": [
      "ERROR while rich displaying an object: Error in sprintf(wrap, header, body): 'fmt' length exceeds maximal format length 8192\n",
      "\n",
      "Traceback:\n",
      "1. FUN(X[[i]], ...)\n",
      "2. tryCatch(withCallingHandlers({\n",
      " .     if (!mime %in% names(repr::mime2repr)) \n",
      " .         stop(\"No repr_* for mimetype \", mime, \" in repr::mime2repr\")\n",
      " .     rpr <- repr::mime2repr[[mime]](obj)\n",
      " .     if (is.null(rpr)) \n",
      " .         return(NULL)\n",
      " .     prepare_content(is.raw(rpr), rpr)\n",
      " . }, error = error_handler), error = outer_handler)\n",
      "3. tryCatchList(expr, classes, parentenv, handlers)\n",
      "4. tryCatchOne(expr, names, parentenv, handlers[[1L]])\n",
      "5. doTryCatch(return(expr), name, parentenv, handler)\n",
      "6. withCallingHandlers({\n",
      " .     if (!mime %in% names(repr::mime2repr)) \n",
      " .         stop(\"No repr_* for mimetype \", mime, \" in repr::mime2repr\")\n",
      " .     rpr <- repr::mime2repr[[mime]](obj)\n",
      " .     if (is.null(rpr)) \n",
      " .         return(NULL)\n",
      " .     prepare_content(is.raw(rpr), rpr)\n",
      " . }, error = error_handler)\n",
      "7. repr::mime2repr[[mime]](obj)\n",
      "8. repr_latex.data.frame(obj)\n",
      "9. repr_matrix_generic(obj, sprintf(\"\\\\begin{tabular}{%s}\\n%%s%%s\\\\end{tabular}\\n\", \n",
      " .     cols), \"%s\\\\\\\\\\n\\\\hline\\n\", \"  &\", \" %s &\", \"%s\", \"\\t%s\\\\\\\\\\n\", \n",
      " .     \"%s &\", \" %s &\", escape_fun = latex_escape_vec, ...)\n",
      "10. sprintf(wrap, header, body)\n"
     ]
    },
    {
     "data": {
      "text/html": [
       "<table>\n",
       "<thead><tr><th></th><th scope=col>sample</th><th scope=col>chr10_400_methylation</th><th scope=col>chr10_40_methylation</th><th scope=col>chr10_4_methylation</th><th scope=col>chr10_401_methylation</th><th scope=col>chr10_402_methylation</th><th scope=col>chr10_403_methylation</th><th scope=col>chr10_404_methylation</th><th scope=col>chr10_405_methylation</th><th scope=col>chr10_406_methylation</th><th scope=col>...</th><th scope=col>chr9_39_methylation</th><th scope=col>chr9_391_methylation</th><th scope=col>chr9_392_methylation</th><th scope=col>chr9_393_methylation</th><th scope=col>chr9_394_methylation</th><th scope=col>chr9_395_methylation</th><th scope=col>chr9_396_methylation</th><th scope=col>chr9_397_methylation</th><th scope=col>chr9_398_methylation</th><th scope=col>chr9_399_methylation</th></tr></thead>\n",
       "<tbody>\n",
       "\t<tr><th scope=row>V1</th><td>PGDX16568P </td><td>0.6381665  </td><td>-0.6658505 </td><td>0.6904588  </td><td>-0.9032039 </td><td>-0.8121137 </td><td>-0.9732033 </td><td>-0.1626930 </td><td>0.6587277  </td><td>0.7111909  </td><td>...        </td><td>-0.3039193 </td><td> 0.46265798</td><td>-0.57606948</td><td>-0.4415990 </td><td> 0.5996338 </td><td>-0.20260916</td><td>0.8726281  </td><td>0.8381501  </td><td>1.0579668  </td><td>-1.0342853 </td></tr>\n",
       "\t<tr><th scope=row>V2</th><td>PGDX16569P </td><td>0.3701495  </td><td>-0.4395735 </td><td>0.7553905  </td><td>-0.8730569 </td><td>-0.8108286 </td><td>-0.2008477 </td><td>-0.1820751 </td><td>0.7639719  </td><td>0.8418074  </td><td>...        </td><td>-0.8953684 </td><td> 0.25999620</td><td>-0.14536610</td><td>-0.5000400 </td><td> 0.3307216 </td><td>-0.09875243</td><td>0.5028320  </td><td>0.2453388  </td><td>1.9197525  </td><td>-0.4107431 </td></tr>\n",
       "\t<tr><th scope=row>V3</th><td>PGDX16570P </td><td>0.3958594  </td><td>-1.2640399 </td><td>0.7781886  </td><td>-1.2561386 </td><td>-0.8249068 </td><td>-0.7153104 </td><td>-0.4646223 </td><td>1.0316740  </td><td>0.7484739  </td><td>...        </td><td>-0.8641871 </td><td>-0.05957864</td><td> 0.05953728</td><td>-0.6333781 </td><td>-0.3201615 </td><td> 0.10894302</td><td>0.5153786  </td><td>0.1728165  </td><td>1.5642530  </td><td>-0.2739879 </td></tr>\n",
       "\t<tr><th scope=row>V4</th><td>PGDX16571P </td><td>0.5156732  </td><td>-0.9728239 </td><td>0.5800816  </td><td>-0.8442973 </td><td>-0.7900454 </td><td>-0.6724023 </td><td>-0.2367448 </td><td>0.8696995  </td><td>0.6805365  </td><td>...        </td><td>-0.1581775 </td><td> 0.20179672</td><td> 0.57241329</td><td>-0.1968154 </td><td> 0.3067705 </td><td>-0.08061983</td><td>1.0160353  </td><td>0.9618521  </td><td>1.4854530  </td><td> 0.1786005 </td></tr>\n",
       "\t<tr><th scope=row>V5</th><td>PGDX16579P </td><td>0.5708062  </td><td>-1.2814300 </td><td>0.8377718  </td><td>-1.0959934 </td><td>-0.9640020 </td><td>-0.8959734 </td><td>-0.1180514 </td><td>0.3299854  </td><td>0.3668287  </td><td>...        </td><td>-0.2392937 </td><td> 0.11071966</td><td>-0.04436478</td><td>-0.7927964 </td><td>-0.2584669 </td><td>-0.03036576</td><td>1.1207912  </td><td>1.0080207  </td><td>0.7377992  </td><td>-0.4983057 </td></tr>\n",
       "\t<tr><th scope=row>V6</th><td>PGDX16580P </td><td>0.5830073  </td><td>-0.8545268 </td><td>0.6777814  </td><td>-1.2582298 </td><td>-0.9926679 </td><td>-0.7761655 </td><td>-0.3154464 </td><td>0.8021774  </td><td>0.5820050  </td><td>...        </td><td>-0.5592997 </td><td> 0.12719467</td><td> 0.19483923</td><td>-0.5101358 </td><td> 0.2818420 </td><td> 0.33549386</td><td>0.9132132  </td><td>0.6111872  </td><td>1.7289107  </td><td>-0.4615868 </td></tr>\n",
       "</tbody>\n",
       "</table>\n"
      ],
      "text/markdown": [
       "\n",
       "| <!--/--> | sample | chr10_400_methylation | chr10_40_methylation | chr10_4_methylation | chr10_401_methylation | chr10_402_methylation | chr10_403_methylation | chr10_404_methylation | chr10_405_methylation | chr10_406_methylation | ... | chr9_39_methylation | chr9_391_methylation | chr9_392_methylation | chr9_393_methylation | chr9_394_methylation | chr9_395_methylation | chr9_396_methylation | chr9_397_methylation | chr9_398_methylation | chr9_399_methylation |\n",
       "|---|---|---|---|---|---|---|---|---|---|---|---|---|---|---|---|---|---|---|---|---|---|\n",
       "| V1 | PGDX16568P  | 0.6381665   | -0.6658505  | 0.6904588   | -0.9032039  | -0.8121137  | -0.9732033  | -0.1626930  | 0.6587277   | 0.7111909   | ...         | -0.3039193  |  0.46265798 | -0.57606948 | -0.4415990  |  0.5996338  | -0.20260916 | 0.8726281   | 0.8381501   | 1.0579668   | -1.0342853  |\n",
       "| V2 | PGDX16569P  | 0.3701495   | -0.4395735  | 0.7553905   | -0.8730569  | -0.8108286  | -0.2008477  | -0.1820751  | 0.7639719   | 0.8418074   | ...         | -0.8953684  |  0.25999620 | -0.14536610 | -0.5000400  |  0.3307216  | -0.09875243 | 0.5028320   | 0.2453388   | 1.9197525   | -0.4107431  |\n",
       "| V3 | PGDX16570P  | 0.3958594   | -1.2640399  | 0.7781886   | -1.2561386  | -0.8249068  | -0.7153104  | -0.4646223  | 1.0316740   | 0.7484739   | ...         | -0.8641871  | -0.05957864 |  0.05953728 | -0.6333781  | -0.3201615  |  0.10894302 | 0.5153786   | 0.1728165   | 1.5642530   | -0.2739879  |\n",
       "| V4 | PGDX16571P  | 0.5156732   | -0.9728239  | 0.5800816   | -0.8442973  | -0.7900454  | -0.6724023  | -0.2367448  | 0.8696995   | 0.6805365   | ...         | -0.1581775  |  0.20179672 |  0.57241329 | -0.1968154  |  0.3067705  | -0.08061983 | 1.0160353   | 0.9618521   | 1.4854530   |  0.1786005  |\n",
       "| V5 | PGDX16579P  | 0.5708062   | -1.2814300  | 0.8377718   | -1.0959934  | -0.9640020  | -0.8959734  | -0.1180514  | 0.3299854   | 0.3668287   | ...         | -0.2392937  |  0.11071966 | -0.04436478 | -0.7927964  | -0.2584669  | -0.03036576 | 1.1207912   | 1.0080207   | 0.7377992   | -0.4983057  |\n",
       "| V6 | PGDX16580P  | 0.5830073   | -0.8545268  | 0.6777814   | -1.2582298  | -0.9926679  | -0.7761655  | -0.3154464  | 0.8021774   | 0.5820050   | ...         | -0.5592997  |  0.12719467 |  0.19483923 | -0.5101358  |  0.2818420  |  0.33549386 | 0.9132132   | 0.6111872   | 1.7289107   | -0.4615868  |\n",
       "\n"
      ],
      "text/plain": [
       "   sample     chr10_400_methylation chr10_40_methylation chr10_4_methylation\n",
       "V1 PGDX16568P 0.6381665             -0.6658505           0.6904588          \n",
       "V2 PGDX16569P 0.3701495             -0.4395735           0.7553905          \n",
       "V3 PGDX16570P 0.3958594             -1.2640399           0.7781886          \n",
       "V4 PGDX16571P 0.5156732             -0.9728239           0.5800816          \n",
       "V5 PGDX16579P 0.5708062             -1.2814300           0.8377718          \n",
       "V6 PGDX16580P 0.5830073             -0.8545268           0.6777814          \n",
       "   chr10_401_methylation chr10_402_methylation chr10_403_methylation\n",
       "V1 -0.9032039            -0.8121137            -0.9732033           \n",
       "V2 -0.8730569            -0.8108286            -0.2008477           \n",
       "V3 -1.2561386            -0.8249068            -0.7153104           \n",
       "V4 -0.8442973            -0.7900454            -0.6724023           \n",
       "V5 -1.0959934            -0.9640020            -0.8959734           \n",
       "V6 -1.2582298            -0.9926679            -0.7761655           \n",
       "   chr10_404_methylation chr10_405_methylation chr10_406_methylation ...\n",
       "V1 -0.1626930            0.6587277             0.7111909             ...\n",
       "V2 -0.1820751            0.7639719             0.8418074             ...\n",
       "V3 -0.4646223            1.0316740             0.7484739             ...\n",
       "V4 -0.2367448            0.8696995             0.6805365             ...\n",
       "V5 -0.1180514            0.3299854             0.3668287             ...\n",
       "V6 -0.3154464            0.8021774             0.5820050             ...\n",
       "   chr9_39_methylation chr9_391_methylation chr9_392_methylation\n",
       "V1 -0.3039193           0.46265798          -0.57606948         \n",
       "V2 -0.8953684           0.25999620          -0.14536610         \n",
       "V3 -0.8641871          -0.05957864           0.05953728         \n",
       "V4 -0.1581775           0.20179672           0.57241329         \n",
       "V5 -0.2392937           0.11071966          -0.04436478         \n",
       "V6 -0.5592997           0.12719467           0.19483923         \n",
       "   chr9_393_methylation chr9_394_methylation chr9_395_methylation\n",
       "V1 -0.4415990            0.5996338           -0.20260916         \n",
       "V2 -0.5000400            0.3307216           -0.09875243         \n",
       "V3 -0.6333781           -0.3201615            0.10894302         \n",
       "V4 -0.1968154            0.3067705           -0.08061983         \n",
       "V5 -0.7927964           -0.2584669           -0.03036576         \n",
       "V6 -0.5101358            0.2818420            0.33549386         \n",
       "   chr9_396_methylation chr9_397_methylation chr9_398_methylation\n",
       "V1 0.8726281            0.8381501            1.0579668           \n",
       "V2 0.5028320            0.2453388            1.9197525           \n",
       "V3 0.5153786            0.1728165            1.5642530           \n",
       "V4 1.0160353            0.9618521            1.4854530           \n",
       "V5 1.1207912            1.0080207            0.7377992           \n",
       "V6 0.9132132            0.6111872            1.7289107           \n",
       "   chr9_399_methylation\n",
       "V1 -1.0342853          \n",
       "V2 -0.4107431          \n",
       "V3 -0.2739879          \n",
       "V4  0.1786005          \n",
       "V5 -0.4983057          \n",
       "V6 -0.4615868          "
      ]
     },
     "metadata": {},
     "output_type": "display_data"
    }
   ],
   "source": [
    "meth_pred_full_data <- readRDS(\"../data/Methylation_predictions_train_20_predict_80/NEW_CORRECT_PRED/Full_data_Methylation_pred_lasso_formatted_standardized.rds\")\n",
    "dim(meth_pred_full_data)\n",
    "colnames(meth_pred_full_data) <- c(\"sample\", paste((colnames(meth_pred_full_data)[-1]), \"_methylation\", sep = \"\"))\n",
    "head(meth_pred_full_data)"
   ]
  },
  {
   "cell_type": "code",
   "execution_count": 3,
   "id": "8179f64c-69ca-473e-beb7-33cd34902fa9",
   "metadata": {},
   "outputs": [
    {
     "data": {
      "text/html": [
       "<ol class=list-inline>\n",
       "\t<li>424</li>\n",
       "\t<li>10304</li>\n",
       "</ol>\n"
      ],
      "text/latex": [
       "\\begin{enumerate*}\n",
       "\\item 424\n",
       "\\item 10304\n",
       "\\end{enumerate*}\n"
      ],
      "text/markdown": [
       "1. 424\n",
       "2. 10304\n",
       "\n",
       "\n"
      ],
      "text/plain": [
       "[1]   424 10304"
      ]
     },
     "metadata": {},
     "output_type": "display_data"
    },
    {
     "name": "stderr",
     "output_type": "stream",
     "text": [
      "ERROR while rich displaying an object: Error in sprintf(wrap, header, body): 'fmt' length exceeds maximal format length 8192\n",
      "\n",
      "Traceback:\n",
      "1. FUN(X[[i]], ...)\n",
      "2. tryCatch(withCallingHandlers({\n",
      " .     if (!mime %in% names(repr::mime2repr)) \n",
      " .         stop(\"No repr_* for mimetype \", mime, \" in repr::mime2repr\")\n",
      " .     rpr <- repr::mime2repr[[mime]](obj)\n",
      " .     if (is.null(rpr)) \n",
      " .         return(NULL)\n",
      " .     prepare_content(is.raw(rpr), rpr)\n",
      " . }, error = error_handler), error = outer_handler)\n",
      "3. tryCatchList(expr, classes, parentenv, handlers)\n",
      "4. tryCatchOne(expr, names, parentenv, handlers[[1L]])\n",
      "5. doTryCatch(return(expr), name, parentenv, handler)\n",
      "6. withCallingHandlers({\n",
      " .     if (!mime %in% names(repr::mime2repr)) \n",
      " .         stop(\"No repr_* for mimetype \", mime, \" in repr::mime2repr\")\n",
      " .     rpr <- repr::mime2repr[[mime]](obj)\n",
      " .     if (is.null(rpr)) \n",
      " .         return(NULL)\n",
      " .     prepare_content(is.raw(rpr), rpr)\n",
      " . }, error = error_handler)\n",
      "7. repr::mime2repr[[mime]](obj)\n",
      "8. repr_latex.data.frame(obj)\n",
      "9. repr_matrix_generic(obj, sprintf(\"\\\\begin{tabular}{%s}\\n%%s%%s\\\\end{tabular}\\n\", \n",
      " .     cols), \"%s\\\\\\\\\\n\\\\hline\\n\", \"  &\", \" %s &\", \"%s\", \"\\t%s\\\\\\\\\\n\", \n",
      " .     \"%s &\", \" %s &\", escape_fun = latex_escape_vec, ...)\n",
      "10. sprintf(wrap, header, body)\n"
     ]
    },
    {
     "data": {
      "text/html": [
       "<table>\n",
       "<thead><tr><th></th><th scope=col>sample</th><th scope=col>chr10_400_ATAC</th><th scope=col>chr10_40_ATAC</th><th scope=col>chr10_4_ATAC</th><th scope=col>chr10_401_ATAC</th><th scope=col>chr10_402_ATAC</th><th scope=col>chr10_403_ATAC</th><th scope=col>chr10_404_ATAC</th><th scope=col>chr10_405_ATAC</th><th scope=col>chr10_406_ATAC</th><th scope=col>...</th><th scope=col>chr9_39_ATAC</th><th scope=col>chr9_391_ATAC</th><th scope=col>chr9_392_ATAC</th><th scope=col>chr9_393_ATAC</th><th scope=col>chr9_394_ATAC</th><th scope=col>chr9_395_ATAC</th><th scope=col>chr9_396_ATAC</th><th scope=col>chr9_397_ATAC</th><th scope=col>chr9_398_ATAC</th><th scope=col>chr9_399_ATAC</th></tr></thead>\n",
       "<tbody>\n",
       "\t<tr><th scope=row>V1</th><td>PGDX16568P  </td><td>0.7532483   </td><td>-0.8048662  </td><td>0.6499628   </td><td>-0.8621338  </td><td>-0.4747970  </td><td>-0.5279515  </td><td> 0.01726774 </td><td>0.7132929   </td><td>0.7784802   </td><td>...         </td><td>-0.414512606</td><td> 0.59235710 </td><td>-0.28408143 </td><td>-0.55447384 </td><td> 0.3980471  </td><td>-0.04696915 </td><td>0.9268827   </td><td>0.7618428   </td><td>0.9894814   </td><td>-1.0362916  </td></tr>\n",
       "\t<tr><th scope=row>V2</th><td>PGDX16569P  </td><td>0.7084940   </td><td>-0.8089144  </td><td>0.7876828   </td><td>-1.0441240  </td><td>-0.9268429  </td><td>-0.4037346  </td><td>-0.17853365 </td><td>0.7771850   </td><td>0.5805516   </td><td>...         </td><td>-0.847045541</td><td> 0.39751308 </td><td> 0.05661642 </td><td>-0.36450335 </td><td> 0.1828456  </td><td>-0.13241813 </td><td>0.5469537   </td><td>0.4078478   </td><td>1.7949073   </td><td>-0.3552759  </td></tr>\n",
       "\t<tr><th scope=row>V3</th><td>PGDX16570P  </td><td>0.4959658   </td><td>-1.1397108  </td><td>0.9544504   </td><td>-1.0908630  </td><td>-0.5138091  </td><td>-0.7536931  </td><td>-0.47431538 </td><td>0.9573462   </td><td>0.6611501   </td><td>...         </td><td>-0.882708084</td><td>-0.06811961 </td><td>-0.21565631 </td><td>-0.32131661 </td><td>-0.6075783  </td><td> 0.17362542 </td><td>0.6852651   </td><td>0.1730935   </td><td>1.4339327   </td><td>-0.2325788  </td></tr>\n",
       "\t<tr><th scope=row>V4</th><td>PGDX16571P  </td><td>0.6816223   </td><td>-0.8621521  </td><td>0.6175025   </td><td>-0.8302239  </td><td>-0.5368261  </td><td>-0.5073557  </td><td>-0.34534922 </td><td>0.9367723   </td><td>0.4800840   </td><td>...         </td><td>-0.007971472</td><td> 0.16726550 </td><td> 0.33050584 </td><td> 0.02981561 </td><td> 0.2742559  </td><td> 0.20706418 </td><td>0.6390014   </td><td>0.8409508   </td><td>1.2790244   </td><td> 0.5550181  </td></tr>\n",
       "\t<tr><th scope=row>V5</th><td>PGDX16579P  </td><td>0.5616518   </td><td>-1.1789003  </td><td>0.7669169   </td><td>-1.0362905  </td><td>-1.2247884  </td><td>-0.7459692  </td><td>-0.18957129 </td><td>0.2630011   </td><td>0.2609975   </td><td>...         </td><td>-0.064503929</td><td>-0.03801190 </td><td>-0.19273117 </td><td>-0.71557898 </td><td>-0.4175401  </td><td>-0.06346181 </td><td>1.0731714   </td><td>1.1278934   </td><td>0.8708775   </td><td>-0.4871932  </td></tr>\n",
       "\t<tr><th scope=row>V6</th><td>PGDX16580P  </td><td>0.6778232   </td><td>-0.8846650  </td><td>0.7200640   </td><td>-1.1734471  </td><td>-0.8535885  </td><td>-0.6873354  </td><td>-0.35975773 </td><td>0.8494105   </td><td>0.3927093   </td><td>...         </td><td>-0.721209654</td><td> 0.36590943 </td><td> 0.20919393 </td><td>-0.51772053 </td><td> 0.2741135  </td><td> 0.53105096 </td><td>1.0703524   </td><td>0.6894967   </td><td>1.7606331   </td><td>-0.4263165  </td></tr>\n",
       "</tbody>\n",
       "</table>\n"
      ],
      "text/markdown": [
       "\n",
       "| <!--/--> | sample | chr10_400_ATAC | chr10_40_ATAC | chr10_4_ATAC | chr10_401_ATAC | chr10_402_ATAC | chr10_403_ATAC | chr10_404_ATAC | chr10_405_ATAC | chr10_406_ATAC | ... | chr9_39_ATAC | chr9_391_ATAC | chr9_392_ATAC | chr9_393_ATAC | chr9_394_ATAC | chr9_395_ATAC | chr9_396_ATAC | chr9_397_ATAC | chr9_398_ATAC | chr9_399_ATAC |\n",
       "|---|---|---|---|---|---|---|---|---|---|---|---|---|---|---|---|---|---|---|---|---|---|\n",
       "| V1 | PGDX16568P   | 0.7532483    | -0.8048662   | 0.6499628    | -0.8621338   | -0.4747970   | -0.5279515   |  0.01726774  | 0.7132929    | 0.7784802    | ...          | -0.414512606 |  0.59235710  | -0.28408143  | -0.55447384  |  0.3980471   | -0.04696915  | 0.9268827    | 0.7618428    | 0.9894814    | -1.0362916   |\n",
       "| V2 | PGDX16569P   | 0.7084940    | -0.8089144   | 0.7876828    | -1.0441240   | -0.9268429   | -0.4037346   | -0.17853365  | 0.7771850    | 0.5805516    | ...          | -0.847045541 |  0.39751308  |  0.05661642  | -0.36450335  |  0.1828456   | -0.13241813  | 0.5469537    | 0.4078478    | 1.7949073    | -0.3552759   |\n",
       "| V3 | PGDX16570P   | 0.4959658    | -1.1397108   | 0.9544504    | -1.0908630   | -0.5138091   | -0.7536931   | -0.47431538  | 0.9573462    | 0.6611501    | ...          | -0.882708084 | -0.06811961  | -0.21565631  | -0.32131661  | -0.6075783   |  0.17362542  | 0.6852651    | 0.1730935    | 1.4339327    | -0.2325788   |\n",
       "| V4 | PGDX16571P   | 0.6816223    | -0.8621521   | 0.6175025    | -0.8302239   | -0.5368261   | -0.5073557   | -0.34534922  | 0.9367723    | 0.4800840    | ...          | -0.007971472 |  0.16726550  |  0.33050584  |  0.02981561  |  0.2742559   |  0.20706418  | 0.6390014    | 0.8409508    | 1.2790244    |  0.5550181   |\n",
       "| V5 | PGDX16579P   | 0.5616518    | -1.1789003   | 0.7669169    | -1.0362905   | -1.2247884   | -0.7459692   | -0.18957129  | 0.2630011    | 0.2609975    | ...          | -0.064503929 | -0.03801190  | -0.19273117  | -0.71557898  | -0.4175401   | -0.06346181  | 1.0731714    | 1.1278934    | 0.8708775    | -0.4871932   |\n",
       "| V6 | PGDX16580P   | 0.6778232    | -0.8846650   | 0.7200640    | -1.1734471   | -0.8535885   | -0.6873354   | -0.35975773  | 0.8494105    | 0.3927093    | ...          | -0.721209654 |  0.36590943  |  0.20919393  | -0.51772053  |  0.2741135   |  0.53105096  | 1.0703524    | 0.6894967    | 1.7606331    | -0.4263165   |\n",
       "\n"
      ],
      "text/plain": [
       "   sample     chr10_400_ATAC chr10_40_ATAC chr10_4_ATAC chr10_401_ATAC\n",
       "V1 PGDX16568P 0.7532483      -0.8048662    0.6499628    -0.8621338    \n",
       "V2 PGDX16569P 0.7084940      -0.8089144    0.7876828    -1.0441240    \n",
       "V3 PGDX16570P 0.4959658      -1.1397108    0.9544504    -1.0908630    \n",
       "V4 PGDX16571P 0.6816223      -0.8621521    0.6175025    -0.8302239    \n",
       "V5 PGDX16579P 0.5616518      -1.1789003    0.7669169    -1.0362905    \n",
       "V6 PGDX16580P 0.6778232      -0.8846650    0.7200640    -1.1734471    \n",
       "   chr10_402_ATAC chr10_403_ATAC chr10_404_ATAC chr10_405_ATAC chr10_406_ATAC\n",
       "V1 -0.4747970     -0.5279515      0.01726774    0.7132929      0.7784802     \n",
       "V2 -0.9268429     -0.4037346     -0.17853365    0.7771850      0.5805516     \n",
       "V3 -0.5138091     -0.7536931     -0.47431538    0.9573462      0.6611501     \n",
       "V4 -0.5368261     -0.5073557     -0.34534922    0.9367723      0.4800840     \n",
       "V5 -1.2247884     -0.7459692     -0.18957129    0.2630011      0.2609975     \n",
       "V6 -0.8535885     -0.6873354     -0.35975773    0.8494105      0.3927093     \n",
       "   ... chr9_39_ATAC chr9_391_ATAC chr9_392_ATAC chr9_393_ATAC chr9_394_ATAC\n",
       "V1 ... -0.414512606  0.59235710   -0.28408143   -0.55447384    0.3980471   \n",
       "V2 ... -0.847045541  0.39751308    0.05661642   -0.36450335    0.1828456   \n",
       "V3 ... -0.882708084 -0.06811961   -0.21565631   -0.32131661   -0.6075783   \n",
       "V4 ... -0.007971472  0.16726550    0.33050584    0.02981561    0.2742559   \n",
       "V5 ... -0.064503929 -0.03801190   -0.19273117   -0.71557898   -0.4175401   \n",
       "V6 ... -0.721209654  0.36590943    0.20919393   -0.51772053    0.2741135   \n",
       "   chr9_395_ATAC chr9_396_ATAC chr9_397_ATAC chr9_398_ATAC chr9_399_ATAC\n",
       "V1 -0.04696915   0.9268827     0.7618428     0.9894814     -1.0362916   \n",
       "V2 -0.13241813   0.5469537     0.4078478     1.7949073     -0.3552759   \n",
       "V3  0.17362542   0.6852651     0.1730935     1.4339327     -0.2325788   \n",
       "V4  0.20706418   0.6390014     0.8409508     1.2790244      0.5550181   \n",
       "V5 -0.06346181   1.0731714     1.1278934     0.8708775     -0.4871932   \n",
       "V6  0.53105096   1.0703524     0.6894967     1.7606331     -0.4263165   "
      ]
     },
     "metadata": {},
     "output_type": "display_data"
    }
   ],
   "source": [
    "ATAC_pred_full_data <- readRDS(\"../data/ATAC_predictions_train_20_predict_80/NEW_CORRECT_PRED/Full_data_ATAC_pred_lasso_formatted_standardized.rds\")\n",
    "dim(ATAC_pred_full_data)\n",
    "colnames(ATAC_pred_full_data) <- c(\"sample\", paste((colnames(ATAC_pred_full_data)[-1]), \"_ATAC\", sep = \"\"))\n",
    "head(ATAC_pred_full_data)"
   ]
  },
  {
   "cell_type": "code",
   "execution_count": 4,
   "id": "afbec08a-5968-44dd-b408-3153895f5902",
   "metadata": {},
   "outputs": [
    {
     "data": {
      "text/html": [
       "<ol class=list-inline>\n",
       "\t<li>424</li>\n",
       "\t<li>20323</li>\n",
       "</ol>\n"
      ],
      "text/latex": [
       "\\begin{enumerate*}\n",
       "\\item 424\n",
       "\\item 20323\n",
       "\\end{enumerate*}\n"
      ],
      "text/markdown": [
       "1. 424\n",
       "2. 20323\n",
       "\n",
       "\n"
      ],
      "text/plain": [
       "[1]   424 20323"
      ]
     },
     "metadata": {},
     "output_type": "display_data"
    },
    {
     "name": "stderr",
     "output_type": "stream",
     "text": [
      "ERROR while rich displaying an object: Error in sprintf(wrap, header, body): 'fmt' length exceeds maximal format length 8192\n",
      "\n",
      "Traceback:\n",
      "1. FUN(X[[i]], ...)\n",
      "2. tryCatch(withCallingHandlers({\n",
      " .     if (!mime %in% names(repr::mime2repr)) \n",
      " .         stop(\"No repr_* for mimetype \", mime, \" in repr::mime2repr\")\n",
      " .     rpr <- repr::mime2repr[[mime]](obj)\n",
      " .     if (is.null(rpr)) \n",
      " .         return(NULL)\n",
      " .     prepare_content(is.raw(rpr), rpr)\n",
      " . }, error = error_handler), error = outer_handler)\n",
      "3. tryCatchList(expr, classes, parentenv, handlers)\n",
      "4. tryCatchOne(expr, names, parentenv, handlers[[1L]])\n",
      "5. doTryCatch(return(expr), name, parentenv, handler)\n",
      "6. withCallingHandlers({\n",
      " .     if (!mime %in% names(repr::mime2repr)) \n",
      " .         stop(\"No repr_* for mimetype \", mime, \" in repr::mime2repr\")\n",
      " .     rpr <- repr::mime2repr[[mime]](obj)\n",
      " .     if (is.null(rpr)) \n",
      " .         return(NULL)\n",
      " .     prepare_content(is.raw(rpr), rpr)\n",
      " . }, error = error_handler)\n",
      "7. repr::mime2repr[[mime]](obj)\n",
      "8. repr_latex.data.frame(obj)\n",
      "9. repr_matrix_generic(obj, sprintf(\"\\\\begin{tabular}{%s}\\n%%s%%s\\\\end{tabular}\\n\", \n",
      " .     cols), \"%s\\\\\\\\\\n\\\\hline\\n\", \"  &\", \" %s &\", \"%s\", \"\\t%s\\\\\\\\\\n\", \n",
      " .     \"%s &\", \" %s &\", escape_fun = latex_escape_vec, ...)\n",
      "10. sprintf(wrap, header, body)\n"
     ]
    },
    {
     "data": {
      "text/html": [
       "<table>\n",
       "<thead><tr><th scope=col>sample</th><th scope=col>chr10_400_methylation</th><th scope=col>chr10_40_methylation</th><th scope=col>chr10_4_methylation</th><th scope=col>chr10_401_methylation</th><th scope=col>chr10_402_methylation</th><th scope=col>chr10_403_methylation</th><th scope=col>chr10_404_methylation</th><th scope=col>chr10_405_methylation</th><th scope=col>chr10_406_methylation</th><th scope=col>...</th><th scope=col>chr9_39_ATAC</th><th scope=col>chr9_391_ATAC</th><th scope=col>chr9_392_ATAC</th><th scope=col>chr9_393_ATAC</th><th scope=col>chr9_394_ATAC</th><th scope=col>chr9_395_ATAC</th><th scope=col>chr9_396_ATAC</th><th scope=col>chr9_397_ATAC</th><th scope=col>chr9_398_ATAC</th><th scope=col>chr9_399_ATAC</th></tr></thead>\n",
       "<tbody>\n",
       "\t<tr><td>PGDX10344P1 </td><td> 0.19441752 </td><td>-1.0382846  </td><td>1.1835907   </td><td>-0.6992718  </td><td>-0.4068113  </td><td>-0.8810093  </td><td>-0.3358435  </td><td>0.3413281   </td><td>0.4235864   </td><td>...         </td><td>-0.5332279  </td><td>-0.3191424  </td><td> 0.01054977 </td><td>-0.49207709 </td><td>-0.1956784  </td><td> 0.004869146</td><td> 0.59041013 </td><td>-0.3866654  </td><td>1.3301475   </td><td>-0.28800428 </td></tr>\n",
       "\t<tr><td>PGDX10346P1 </td><td> 1.21865793 </td><td>-0.8804700  </td><td>1.0304788   </td><td>-0.6707363  </td><td>-0.6819613  </td><td>-0.5771156  </td><td>-0.1637835  </td><td>0.6317129   </td><td>0.3803712   </td><td>...         </td><td>-0.2773379  </td><td>-0.1728858  </td><td>-0.41480355 </td><td>-0.57629397 </td><td> 0.1397992  </td><td> 0.210900058</td><td> 1.14323651 </td><td> 0.8034748  </td><td>0.3242987   </td><td>-0.48539609 </td></tr>\n",
       "\t<tr><td>PGDX10349P1 </td><td>-0.05870798 </td><td>-1.1634972  </td><td>0.2970597   </td><td>-1.2161447  </td><td>-0.8162257  </td><td>-0.8923239  </td><td>-0.1785833  </td><td>0.5700555   </td><td>2.3181795   </td><td>...         </td><td>-0.9166027  </td><td> 1.2252550  </td><td> 0.53116039 </td><td>-0.14485922 </td><td> 0.4962913  </td><td> 0.159366453</td><td> 0.89872847 </td><td> 0.5394507  </td><td>1.6691416   </td><td>-0.03592333 </td></tr>\n",
       "\t<tr><td>PGDX10351P1 </td><td> 1.12002368 </td><td>-1.3345489  </td><td>0.3775714   </td><td>-1.1838254  </td><td>-0.9131621  </td><td>-0.5568538  </td><td>-0.4675081  </td><td>1.2207570   </td><td>0.6039308   </td><td>...         </td><td>-0.2415262  </td><td> 0.4401355  </td><td> 0.86916752 </td><td>-0.06665681 </td><td> 0.7374085  </td><td> 0.141778221</td><td> 1.30435943 </td><td> 0.4872020  </td><td>1.4078574   </td><td>-0.11538254 </td></tr>\n",
       "\t<tr><td>PGDX10566P  </td><td> 0.47551826 </td><td>-0.8574452  </td><td>0.9302030   </td><td>-1.0609045  </td><td>-0.6539861  </td><td>-0.7939147  </td><td>-0.3515309  </td><td>0.9180691   </td><td>0.5318785   </td><td>...         </td><td>-0.6566064  </td><td> 0.0475536  </td><td> 0.16117057 </td><td>-0.86930989 </td><td> 0.4929603  </td><td>-0.166543582</td><td>-0.02203962 </td><td> 0.3217377  </td><td>1.3944822   </td><td>-0.46986900 </td></tr>\n",
       "\t<tr><td>PGDX10567P  </td><td> 0.89195480 </td><td>-0.7373642  </td><td>1.1359784   </td><td>-0.3232710  </td><td>-0.7395245  </td><td>-0.7753000  </td><td> 0.2782615  </td><td>0.5870899   </td><td>1.0279597   </td><td>...         </td><td>-0.6390401  </td><td> 0.5158870  </td><td>-0.24650086 </td><td>-0.68654606 </td><td> 0.2448308  </td><td> 0.125711903</td><td> 0.07386022 </td><td> 0.2809059  </td><td>1.8041542   </td><td>-0.71100610 </td></tr>\n",
       "</tbody>\n",
       "</table>\n"
      ],
      "text/markdown": [
       "\n",
       "| sample | chr10_400_methylation | chr10_40_methylation | chr10_4_methylation | chr10_401_methylation | chr10_402_methylation | chr10_403_methylation | chr10_404_methylation | chr10_405_methylation | chr10_406_methylation | ... | chr9_39_ATAC | chr9_391_ATAC | chr9_392_ATAC | chr9_393_ATAC | chr9_394_ATAC | chr9_395_ATAC | chr9_396_ATAC | chr9_397_ATAC | chr9_398_ATAC | chr9_399_ATAC |\n",
       "|---|---|---|---|---|---|---|---|---|---|---|---|---|---|---|---|---|---|---|---|---|\n",
       "| PGDX10344P1  |  0.19441752  | -1.0382846   | 1.1835907    | -0.6992718   | -0.4068113   | -0.8810093   | -0.3358435   | 0.3413281    | 0.4235864    | ...          | -0.5332279   | -0.3191424   |  0.01054977  | -0.49207709  | -0.1956784   |  0.004869146 |  0.59041013  | -0.3866654   | 1.3301475    | -0.28800428  |\n",
       "| PGDX10346P1  |  1.21865793  | -0.8804700   | 1.0304788    | -0.6707363   | -0.6819613   | -0.5771156   | -0.1637835   | 0.6317129    | 0.3803712    | ...          | -0.2773379   | -0.1728858   | -0.41480355  | -0.57629397  |  0.1397992   |  0.210900058 |  1.14323651  |  0.8034748   | 0.3242987    | -0.48539609  |\n",
       "| PGDX10349P1  | -0.05870798  | -1.1634972   | 0.2970597    | -1.2161447   | -0.8162257   | -0.8923239   | -0.1785833   | 0.5700555    | 2.3181795    | ...          | -0.9166027   |  1.2252550   |  0.53116039  | -0.14485922  |  0.4962913   |  0.159366453 |  0.89872847  |  0.5394507   | 1.6691416    | -0.03592333  |\n",
       "| PGDX10351P1  |  1.12002368  | -1.3345489   | 0.3775714    | -1.1838254   | -0.9131621   | -0.5568538   | -0.4675081   | 1.2207570    | 0.6039308    | ...          | -0.2415262   |  0.4401355   |  0.86916752  | -0.06665681  |  0.7374085   |  0.141778221 |  1.30435943  |  0.4872020   | 1.4078574    | -0.11538254  |\n",
       "| PGDX10566P   |  0.47551826  | -0.8574452   | 0.9302030    | -1.0609045   | -0.6539861   | -0.7939147   | -0.3515309   | 0.9180691    | 0.5318785    | ...          | -0.6566064   |  0.0475536   |  0.16117057  | -0.86930989  |  0.4929603   | -0.166543582 | -0.02203962  |  0.3217377   | 1.3944822    | -0.46986900  |\n",
       "| PGDX10567P   |  0.89195480  | -0.7373642   | 1.1359784    | -0.3232710   | -0.7395245   | -0.7753000   |  0.2782615   | 0.5870899    | 1.0279597    | ...          | -0.6390401   |  0.5158870   | -0.24650086  | -0.68654606  |  0.2448308   |  0.125711903 |  0.07386022  |  0.2809059   | 1.8041542    | -0.71100610  |\n",
       "\n"
      ],
      "text/plain": [
       "  sample      chr10_400_methylation chr10_40_methylation chr10_4_methylation\n",
       "1 PGDX10344P1  0.19441752           -1.0382846           1.1835907          \n",
       "2 PGDX10346P1  1.21865793           -0.8804700           1.0304788          \n",
       "3 PGDX10349P1 -0.05870798           -1.1634972           0.2970597          \n",
       "4 PGDX10351P1  1.12002368           -1.3345489           0.3775714          \n",
       "5 PGDX10566P   0.47551826           -0.8574452           0.9302030          \n",
       "6 PGDX10567P   0.89195480           -0.7373642           1.1359784          \n",
       "  chr10_401_methylation chr10_402_methylation chr10_403_methylation\n",
       "1 -0.6992718            -0.4068113            -0.8810093           \n",
       "2 -0.6707363            -0.6819613            -0.5771156           \n",
       "3 -1.2161447            -0.8162257            -0.8923239           \n",
       "4 -1.1838254            -0.9131621            -0.5568538           \n",
       "5 -1.0609045            -0.6539861            -0.7939147           \n",
       "6 -0.3232710            -0.7395245            -0.7753000           \n",
       "  chr10_404_methylation chr10_405_methylation chr10_406_methylation ...\n",
       "1 -0.3358435            0.3413281             0.4235864             ...\n",
       "2 -0.1637835            0.6317129             0.3803712             ...\n",
       "3 -0.1785833            0.5700555             2.3181795             ...\n",
       "4 -0.4675081            1.2207570             0.6039308             ...\n",
       "5 -0.3515309            0.9180691             0.5318785             ...\n",
       "6  0.2782615            0.5870899             1.0279597             ...\n",
       "  chr9_39_ATAC chr9_391_ATAC chr9_392_ATAC chr9_393_ATAC chr9_394_ATAC\n",
       "1 -0.5332279   -0.3191424     0.01054977   -0.49207709   -0.1956784   \n",
       "2 -0.2773379   -0.1728858    -0.41480355   -0.57629397    0.1397992   \n",
       "3 -0.9166027    1.2252550     0.53116039   -0.14485922    0.4962913   \n",
       "4 -0.2415262    0.4401355     0.86916752   -0.06665681    0.7374085   \n",
       "5 -0.6566064    0.0475536     0.16117057   -0.86930989    0.4929603   \n",
       "6 -0.6390401    0.5158870    -0.24650086   -0.68654606    0.2448308   \n",
       "  chr9_395_ATAC chr9_396_ATAC chr9_397_ATAC chr9_398_ATAC chr9_399_ATAC\n",
       "1  0.004869146   0.59041013   -0.3866654    1.3301475     -0.28800428  \n",
       "2  0.210900058   1.14323651    0.8034748    0.3242987     -0.48539609  \n",
       "3  0.159366453   0.89872847    0.5394507    1.6691416     -0.03592333  \n",
       "4  0.141778221   1.30435943    0.4872020    1.4078574     -0.11538254  \n",
       "5 -0.166543582  -0.02203962    0.3217377    1.3944822     -0.46986900  \n",
       "6  0.125711903   0.07386022    0.2809059    1.8041542     -0.71100610  "
      ]
     },
     "metadata": {},
     "output_type": "display_data"
    }
   ],
   "source": [
    "data_merged <- merge(meth_pred_full_data, ATAC_pred_full_data, by=\"sample\")\n",
    "dim(data_merged)\n",
    "head(data_merged)"
   ]
  },
  {
   "cell_type": "code",
   "execution_count": 5,
   "id": "be0dcbb9-50d9-4c58-905e-96f286e183aa",
   "metadata": {},
   "outputs": [],
   "source": [
    "saveRDS(data_merged, \"../data/Meth_and_ATAC_predictions_combined/NEW_CORRECT_PRED/Full_data_ATAC_and_methylation.rds\")"
   ]
  },
  {
   "cell_type": "markdown",
   "id": "f6ffb54c-5806-474b-9582-da5b35c044fd",
   "metadata": {},
   "source": [
    "# Merge full data - run PCA data and take the first PCs based on the elbow rule"
   ]
  },
  {
   "cell_type": "code",
   "execution_count": 6,
   "id": "2c65c2e3-186c-49d7-a82d-ed2e31fe4ceb",
   "metadata": {},
   "outputs": [],
   "source": [
    "#meth_pred <- readRDS(\"../data/Methylation_predictions_train_20_predict_80/PCA_Methylation_pred_lasso_formatted_standardized.rds\")\n",
    "#dim(meth_pred)"
   ]
  },
  {
   "cell_type": "code",
   "execution_count": 7,
   "id": "68273793-ae15-4311-8d23-2acf2e1c28f3",
   "metadata": {},
   "outputs": [],
   "source": [
    "#ATAC_pred <- readRDS(\"../data/ATAC_predictions_train_20_predict_80/PCA_ATAC_pred_lasso_formatted_standardized.rds\")\n",
    "#dim(ATAC_pred)"
   ]
  },
  {
   "cell_type": "code",
   "execution_count": 8,
   "id": "8eadceac-697c-4df2-b12c-efcf81ae47d7",
   "metadata": {},
   "outputs": [],
   "source": [
    "pred_pca <- prcomp(data_merged[,-1], center = TRUE, scale. = TRUE)"
   ]
  },
  {
   "cell_type": "code",
   "execution_count": 9,
   "id": "4d9b406b-05ce-44e2-b293-f53acf8d98f4",
   "metadata": {},
   "outputs": [
    {
     "data": {
      "image/png": "[encoded data removed]",
      "text/plain": [
       "plot without title"
      ]
     },
     "metadata": {},
     "output_type": "display_data"
    }
   ],
   "source": [
    "ggplot() +\n",
    "  geom_point(aes(pred_pca$x[,1],pred_pca$x[,2])) +\n",
    "  theme_minimal() +\n",
    "  ylab('PC1') + xlab('PC2')"
   ]
  },
  {
   "cell_type": "code",
   "execution_count": 10,
   "id": "c07a5d53-c3aa-4fe2-b920-ddf1e94dcf76",
   "metadata": {},
   "outputs": [],
   "source": [
    "var_exp <- tibble(PC = 1:dim(pred_pca$x)[2], \n",
    "                  Variance_Explained = pred_pca$sdev^2 / sum(pred_pca$sdev^2),\n",
    "                  Cumulative_Variance_Explained = cumsum(Variance_Explained))"
   ]
  },
  {
   "cell_type": "code",
   "execution_count": 11,
   "id": "40d110a1-fcad-4e2c-9c61-dc0ba5914865",
   "metadata": {},
   "outputs": [
    {
     "data": {
      "image/png": "[encoded data removed]",
      "text/plain": [
       "plot without title"
      ]
     },
     "metadata": {},
     "output_type": "display_data"
    }
   ],
   "source": [
    "p <- ggplot(data = var_exp, aes(x = seq(1:dim(var_exp)[1]), y = Variance_Explained)) + \n",
    "  geom_point() + \n",
    "  geom_line() +\n",
    "  xlab(\"Principal component\") + \n",
    "  ylab(\"Proportion of variance explained\") + \n",
    "  geom_vline(aes(xintercept = 50), color = \"firebrick\") + \n",
    "  theme_minimal()\n",
    "\n",
    "print(p)"
   ]
  },
  {
   "cell_type": "code",
   "execution_count": 12,
   "id": "355df829-564b-41e2-89e5-f6e8071c9164",
   "metadata": {},
   "outputs": [],
   "source": [
    "sample_names <- as.data.frame(data_merged$sample)\n",
    "colnames(sample_names) <- c(\"sample\")\n",
    "pca <- pred_pca$x[,1:50]\n",
    "pca <- cbind(pca, sample_names)"
   ]
  },
  {
   "cell_type": "code",
   "execution_count": 13,
   "id": "7960da76-8193-4eca-b90b-243ea0e86449",
   "metadata": {},
   "outputs": [],
   "source": [
    "saveRDS(pca, \"../data/Meth_and_ATAC_predictions_combined/NEW_CORRECT_PRED/PCA_ATAC_and_methylation.rds\")"
   ]
  },
  {
   "cell_type": "markdown",
   "id": "0deaac6f-803d-46bc-8d23-53b3eefb7e94",
   "metadata": {},
   "source": [
    "# Merge full data - remove collinear features"
   ]
  },
  {
   "cell_type": "code",
   "execution_count": 15,
   "id": "067d85a2-62e9-41bc-837c-369ed9258108",
   "metadata": {},
   "outputs": [
    {
     "name": "stderr",
     "output_type": "stream",
     "text": [
      "ERROR while rich displaying an object: Error in sprintf(wrap, header, body): 'fmt' length exceeds maximal format length 8192\n",
      "\n",
      "Traceback:\n",
      "1. FUN(X[[i]], ...)\n",
      "2. tryCatch(withCallingHandlers({\n",
      " .     if (!mime %in% names(repr::mime2repr)) \n",
      " .         stop(\"No repr_* for mimetype \", mime, \" in repr::mime2repr\")\n",
      " .     rpr <- repr::mime2repr[[mime]](obj)\n",
      " .     if (is.null(rpr)) \n",
      " .         return(NULL)\n",
      " .     prepare_content(is.raw(rpr), rpr)\n",
      " . }, error = error_handler), error = outer_handler)\n",
      "3. tryCatchList(expr, classes, parentenv, handlers)\n",
      "4. tryCatchOne(expr, names, parentenv, handlers[[1L]])\n",
      "5. doTryCatch(return(expr), name, parentenv, handler)\n",
      "6. withCallingHandlers({\n",
      " .     if (!mime %in% names(repr::mime2repr)) \n",
      " .         stop(\"No repr_* for mimetype \", mime, \" in repr::mime2repr\")\n",
      " .     rpr <- repr::mime2repr[[mime]](obj)\n",
      " .     if (is.null(rpr)) \n",
      " .         return(NULL)\n",
      " .     prepare_content(is.raw(rpr), rpr)\n",
      " . }, error = error_handler)\n",
      "7. repr::mime2repr[[mime]](obj)\n",
      "8. repr_latex.data.frame(obj)\n",
      "9. repr_matrix_generic(obj, sprintf(\"\\\\begin{tabular}{%s}\\n%%s%%s\\\\end{tabular}\\n\", \n",
      " .     cols), \"%s\\\\\\\\\\n\\\\hline\\n\", \"  &\", \" %s &\", \"%s\", \"\\t%s\\\\\\\\\\n\", \n",
      " .     \"%s &\", \" %s &\", escape_fun = latex_escape_vec, ...)\n",
      "10. sprintf(wrap, header, body)\n"
     ]
    },
    {
     "data": {
      "text/html": [
       "<table>\n",
       "<thead><tr><th scope=col>sample</th><th scope=col>chr10_400_methylation</th><th scope=col>chr10_40_methylation</th><th scope=col>chr10_4_methylation</th><th scope=col>chr10_401_methylation</th><th scope=col>chr10_402_methylation</th><th scope=col>chr10_403_methylation</th><th scope=col>chr10_404_methylation</th><th scope=col>chr10_405_methylation</th><th scope=col>chr10_406_methylation</th><th scope=col>...</th><th scope=col>chr9_39_ATAC</th><th scope=col>chr9_391_ATAC</th><th scope=col>chr9_392_ATAC</th><th scope=col>chr9_393_ATAC</th><th scope=col>chr9_394_ATAC</th><th scope=col>chr9_395_ATAC</th><th scope=col>chr9_396_ATAC</th><th scope=col>chr9_397_ATAC</th><th scope=col>chr9_398_ATAC</th><th scope=col>chr9_399_ATAC</th></tr></thead>\n",
       "<tbody>\n",
       "\t<tr><td>PGDX10344P1 </td><td> 0.19441752 </td><td>-1.0382846  </td><td>1.1835907   </td><td>-0.6992718  </td><td>-0.4068113  </td><td>-0.8810093  </td><td>-0.3358435  </td><td>0.3413281   </td><td>0.4235864   </td><td>...         </td><td>-0.5332279  </td><td>-0.3191424  </td><td> 0.01054977 </td><td>-0.49207709 </td><td>-0.1956784  </td><td> 0.004869146</td><td> 0.59041013 </td><td>-0.3866654  </td><td>1.3301475   </td><td>-0.28800428 </td></tr>\n",
       "\t<tr><td>PGDX10346P1 </td><td> 1.21865793 </td><td>-0.8804700  </td><td>1.0304788   </td><td>-0.6707363  </td><td>-0.6819613  </td><td>-0.5771156  </td><td>-0.1637835  </td><td>0.6317129   </td><td>0.3803712   </td><td>...         </td><td>-0.2773379  </td><td>-0.1728858  </td><td>-0.41480355 </td><td>-0.57629397 </td><td> 0.1397992  </td><td> 0.210900058</td><td> 1.14323651 </td><td> 0.8034748  </td><td>0.3242987   </td><td>-0.48539609 </td></tr>\n",
       "\t<tr><td>PGDX10349P1 </td><td>-0.05870798 </td><td>-1.1634972  </td><td>0.2970597   </td><td>-1.2161447  </td><td>-0.8162257  </td><td>-0.8923239  </td><td>-0.1785833  </td><td>0.5700555   </td><td>2.3181795   </td><td>...         </td><td>-0.9166027  </td><td> 1.2252550  </td><td> 0.53116039 </td><td>-0.14485922 </td><td> 0.4962913  </td><td> 0.159366453</td><td> 0.89872847 </td><td> 0.5394507  </td><td>1.6691416   </td><td>-0.03592333 </td></tr>\n",
       "\t<tr><td>PGDX10351P1 </td><td> 1.12002368 </td><td>-1.3345489  </td><td>0.3775714   </td><td>-1.1838254  </td><td>-0.9131621  </td><td>-0.5568538  </td><td>-0.4675081  </td><td>1.2207570   </td><td>0.6039308   </td><td>...         </td><td>-0.2415262  </td><td> 0.4401355  </td><td> 0.86916752 </td><td>-0.06665681 </td><td> 0.7374085  </td><td> 0.141778221</td><td> 1.30435943 </td><td> 0.4872020  </td><td>1.4078574   </td><td>-0.11538254 </td></tr>\n",
       "\t<tr><td>PGDX10566P  </td><td> 0.47551826 </td><td>-0.8574452  </td><td>0.9302030   </td><td>-1.0609045  </td><td>-0.6539861  </td><td>-0.7939147  </td><td>-0.3515309  </td><td>0.9180691   </td><td>0.5318785   </td><td>...         </td><td>-0.6566064  </td><td> 0.0475536  </td><td> 0.16117057 </td><td>-0.86930989 </td><td> 0.4929603  </td><td>-0.166543582</td><td>-0.02203962 </td><td> 0.3217377  </td><td>1.3944822   </td><td>-0.46986900 </td></tr>\n",
       "\t<tr><td>PGDX10567P  </td><td> 0.89195480 </td><td>-0.7373642  </td><td>1.1359784   </td><td>-0.3232710  </td><td>-0.7395245  </td><td>-0.7753000  </td><td> 0.2782615  </td><td>0.5870899   </td><td>1.0279597   </td><td>...         </td><td>-0.6390401  </td><td> 0.5158870  </td><td>-0.24650086 </td><td>-0.68654606 </td><td> 0.2448308  </td><td> 0.125711903</td><td> 0.07386022 </td><td> 0.2809059  </td><td>1.8041542   </td><td>-0.71100610 </td></tr>\n",
       "</tbody>\n",
       "</table>\n"
      ],
      "text/markdown": [
       "\n",
       "| sample | chr10_400_methylation | chr10_40_methylation | chr10_4_methylation | chr10_401_methylation | chr10_402_methylation | chr10_403_methylation | chr10_404_methylation | chr10_405_methylation | chr10_406_methylation | ... | chr9_39_ATAC | chr9_391_ATAC | chr9_392_ATAC | chr9_393_ATAC | chr9_394_ATAC | chr9_395_ATAC | chr9_396_ATAC | chr9_397_ATAC | chr9_398_ATAC | chr9_399_ATAC |\n",
       "|---|---|---|---|---|---|---|---|---|---|---|---|---|---|---|---|---|---|---|---|---|\n",
       "| PGDX10344P1  |  0.19441752  | -1.0382846   | 1.1835907    | -0.6992718   | -0.4068113   | -0.8810093   | -0.3358435   | 0.3413281    | 0.4235864    | ...          | -0.5332279   | -0.3191424   |  0.01054977  | -0.49207709  | -0.1956784   |  0.004869146 |  0.59041013  | -0.3866654   | 1.3301475    | -0.28800428  |\n",
       "| PGDX10346P1  |  1.21865793  | -0.8804700   | 1.0304788    | -0.6707363   | -0.6819613   | -0.5771156   | -0.1637835   | 0.6317129    | 0.3803712    | ...          | -0.2773379   | -0.1728858   | -0.41480355  | -0.57629397  |  0.1397992   |  0.210900058 |  1.14323651  |  0.8034748   | 0.3242987    | -0.48539609  |\n",
       "| PGDX10349P1  | -0.05870798  | -1.1634972   | 0.2970597    | -1.2161447   | -0.8162257   | -0.8923239   | -0.1785833   | 0.5700555    | 2.3181795    | ...          | -0.9166027   |  1.2252550   |  0.53116039  | -0.14485922  |  0.4962913   |  0.159366453 |  0.89872847  |  0.5394507   | 1.6691416    | -0.03592333  |\n",
       "| PGDX10351P1  |  1.12002368  | -1.3345489   | 0.3775714    | -1.1838254   | -0.9131621   | -0.5568538   | -0.4675081   | 1.2207570    | 0.6039308    | ...          | -0.2415262   |  0.4401355   |  0.86916752  | -0.06665681  |  0.7374085   |  0.141778221 |  1.30435943  |  0.4872020   | 1.4078574    | -0.11538254  |\n",
       "| PGDX10566P   |  0.47551826  | -0.8574452   | 0.9302030    | -1.0609045   | -0.6539861   | -0.7939147   | -0.3515309   | 0.9180691    | 0.5318785    | ...          | -0.6566064   |  0.0475536   |  0.16117057  | -0.86930989  |  0.4929603   | -0.166543582 | -0.02203962  |  0.3217377   | 1.3944822    | -0.46986900  |\n",
       "| PGDX10567P   |  0.89195480  | -0.7373642   | 1.1359784    | -0.3232710   | -0.7395245   | -0.7753000   |  0.2782615   | 0.5870899    | 1.0279597    | ...          | -0.6390401   |  0.5158870   | -0.24650086  | -0.68654606  |  0.2448308   |  0.125711903 |  0.07386022  |  0.2809059   | 1.8041542    | -0.71100610  |\n",
       "\n"
      ],
      "text/plain": [
       "  sample      chr10_400_methylation chr10_40_methylation chr10_4_methylation\n",
       "1 PGDX10344P1  0.19441752           -1.0382846           1.1835907          \n",
       "2 PGDX10346P1  1.21865793           -0.8804700           1.0304788          \n",
       "3 PGDX10349P1 -0.05870798           -1.1634972           0.2970597          \n",
       "4 PGDX10351P1  1.12002368           -1.3345489           0.3775714          \n",
       "5 PGDX10566P   0.47551826           -0.8574452           0.9302030          \n",
       "6 PGDX10567P   0.89195480           -0.7373642           1.1359784          \n",
       "  chr10_401_methylation chr10_402_methylation chr10_403_methylation\n",
       "1 -0.6992718            -0.4068113            -0.8810093           \n",
       "2 -0.6707363            -0.6819613            -0.5771156           \n",
       "3 -1.2161447            -0.8162257            -0.8923239           \n",
       "4 -1.1838254            -0.9131621            -0.5568538           \n",
       "5 -1.0609045            -0.6539861            -0.7939147           \n",
       "6 -0.3232710            -0.7395245            -0.7753000           \n",
       "  chr10_404_methylation chr10_405_methylation chr10_406_methylation ...\n",
       "1 -0.3358435            0.3413281             0.4235864             ...\n",
       "2 -0.1637835            0.6317129             0.3803712             ...\n",
       "3 -0.1785833            0.5700555             2.3181795             ...\n",
       "4 -0.4675081            1.2207570             0.6039308             ...\n",
       "5 -0.3515309            0.9180691             0.5318785             ...\n",
       "6  0.2782615            0.5870899             1.0279597             ...\n",
       "  chr9_39_ATAC chr9_391_ATAC chr9_392_ATAC chr9_393_ATAC chr9_394_ATAC\n",
       "1 -0.5332279   -0.3191424     0.01054977   -0.49207709   -0.1956784   \n",
       "2 -0.2773379   -0.1728858    -0.41480355   -0.57629397    0.1397992   \n",
       "3 -0.9166027    1.2252550     0.53116039   -0.14485922    0.4962913   \n",
       "4 -0.2415262    0.4401355     0.86916752   -0.06665681    0.7374085   \n",
       "5 -0.6566064    0.0475536     0.16117057   -0.86930989    0.4929603   \n",
       "6 -0.6390401    0.5158870    -0.24650086   -0.68654606    0.2448308   \n",
       "  chr9_395_ATAC chr9_396_ATAC chr9_397_ATAC chr9_398_ATAC chr9_399_ATAC\n",
       "1  0.004869146   0.59041013   -0.3866654    1.3301475     -0.28800428  \n",
       "2  0.210900058   1.14323651    0.8034748    0.3242987     -0.48539609  \n",
       "3  0.159366453   0.89872847    0.5394507    1.6691416     -0.03592333  \n",
       "4  0.141778221   1.30435943    0.4872020    1.4078574     -0.11538254  \n",
       "5 -0.166543582  -0.02203962    0.3217377    1.3944822     -0.46986900  \n",
       "6  0.125711903   0.07386022    0.2809059    1.8041542     -0.71100610  "
      ]
     },
     "metadata": {},
     "output_type": "display_data"
    }
   ],
   "source": [
    "head(data_merged)"
   ]
  },
  {
   "cell_type": "code",
   "execution_count": 16,
   "id": "97558335-e603-4054-a12d-1f820866f7e6",
   "metadata": {},
   "outputs": [
    {
     "data": {
      "text/html": [
       "<ol class=list-inline>\n",
       "\t<li>424</li>\n",
       "\t<li>20322</li>\n",
       "</ol>\n"
      ],
      "text/latex": [
       "\\begin{enumerate*}\n",
       "\\item 424\n",
       "\\item 20322\n",
       "\\end{enumerate*}\n"
      ],
      "text/markdown": [
       "1. 424\n",
       "2. 20322\n",
       "\n",
       "\n"
      ],
      "text/plain": [
       "[1]   424 20322"
      ]
     },
     "metadata": {},
     "output_type": "display_data"
    }
   ],
   "source": [
    "sample <- data_merged %>% dplyr::select(sample)\n",
    "data_clean <- data_merged %>% dplyr::select(-sample)\n",
    "dim(data_clean)\n",
    "tmp <- cor(data_clean)\n"
   ]
  },
  {
   "cell_type": "code",
   "execution_count": 17,
   "id": "f2854a5b-3105-4b3c-837e-3cf456ccfc92",
   "metadata": {},
   "outputs": [
    {
     "data": {
      "text/html": [
       "<ol class=list-inline>\n",
       "\t<li>424</li>\n",
       "\t<li>16433</li>\n",
       "</ol>\n"
      ],
      "text/latex": [
       "\\begin{enumerate*}\n",
       "\\item 424\n",
       "\\item 16433\n",
       "\\end{enumerate*}\n"
      ],
      "text/markdown": [
       "1. 424\n",
       "2. 16433\n",
       "\n",
       "\n"
      ],
      "text/plain": [
       "[1]   424 16433"
      ]
     },
     "metadata": {},
     "output_type": "display_data"
    },
    {
     "name": "stderr",
     "output_type": "stream",
     "text": [
      "ERROR while rich displaying an object: Error in sprintf(wrap, header, body): 'fmt' length exceeds maximal format length 8192\n",
      "\n",
      "Traceback:\n",
      "1. FUN(X[[i]], ...)\n",
      "2. tryCatch(withCallingHandlers({\n",
      " .     if (!mime %in% names(repr::mime2repr)) \n",
      " .         stop(\"No repr_* for mimetype \", mime, \" in repr::mime2repr\")\n",
      " .     rpr <- repr::mime2repr[[mime]](obj)\n",
      " .     if (is.null(rpr)) \n",
      " .         return(NULL)\n",
      " .     prepare_content(is.raw(rpr), rpr)\n",
      " . }, error = error_handler), error = outer_handler)\n",
      "3. tryCatchList(expr, classes, parentenv, handlers)\n",
      "4. tryCatchOne(expr, names, parentenv, handlers[[1L]])\n",
      "5. doTryCatch(return(expr), name, parentenv, handler)\n",
      "6. withCallingHandlers({\n",
      " .     if (!mime %in% names(repr::mime2repr)) \n",
      " .         stop(\"No repr_* for mimetype \", mime, \" in repr::mime2repr\")\n",
      " .     rpr <- repr::mime2repr[[mime]](obj)\n",
      " .     if (is.null(rpr)) \n",
      " .         return(NULL)\n",
      " .     prepare_content(is.raw(rpr), rpr)\n",
      " . }, error = error_handler)\n",
      "7. repr::mime2repr[[mime]](obj)\n",
      "8. repr_latex.data.frame(obj)\n",
      "9. repr_matrix_generic(obj, sprintf(\"\\\\begin{tabular}{%s}\\n%%s%%s\\\\end{tabular}\\n\", \n",
      " .     cols), \"%s\\\\\\\\\\n\\\\hline\\n\", \"  &\", \" %s &\", \"%s\", \"\\t%s\\\\\\\\\\n\", \n",
      " .     \"%s &\", \" %s &\", escape_fun = latex_escape_vec, ...)\n",
      "10. sprintf(wrap, header, body)\n"
     ]
    },
    {
     "data": {
      "text/html": [
       "<table>\n",
       "<thead><tr><th scope=col>sample</th><th scope=col>chr10_40_methylation</th><th scope=col>chr10_4_methylation</th><th scope=col>chr10_401_methylation</th><th scope=col>chr10_402_methylation</th><th scope=col>chr10_403_methylation</th><th scope=col>chr10_404_methylation</th><th scope=col>chr10_405_methylation</th><th scope=col>chr10_409_methylation</th><th scope=col>chr10_410_methylation</th><th scope=col>...</th><th scope=col>chr9_39_ATAC</th><th scope=col>chr9_391_ATAC</th><th scope=col>chr9_392_ATAC</th><th scope=col>chr9_393_ATAC</th><th scope=col>chr9_394_ATAC</th><th scope=col>chr9_395_ATAC</th><th scope=col>chr9_396_ATAC</th><th scope=col>chr9_397_ATAC</th><th scope=col>chr9_398_ATAC</th><th scope=col>chr9_399_ATAC</th></tr></thead>\n",
       "<tbody>\n",
       "\t<tr><td>PGDX10344P1 </td><td>-1.0382846  </td><td>1.1835907   </td><td>-0.6992718  </td><td>-0.4068113  </td><td>-0.8810093  </td><td>-0.3358435  </td><td>0.3413281   </td><td>-0.16510639 </td><td>-0.25389256 </td><td>...         </td><td>-0.5332279  </td><td>-0.3191424  </td><td> 0.01054977 </td><td>-0.49207709 </td><td>-0.1956784  </td><td> 0.004869146</td><td> 0.59041013 </td><td>-0.3866654  </td><td>1.3301475   </td><td>-0.28800428 </td></tr>\n",
       "\t<tr><td>PGDX10346P1 </td><td>-0.8804700  </td><td>1.0304788   </td><td>-0.6707363  </td><td>-0.6819613  </td><td>-0.5771156  </td><td>-0.1637835  </td><td>0.6317129   </td><td> 0.20490800 </td><td> 0.03405211 </td><td>...         </td><td>-0.2773379  </td><td>-0.1728858  </td><td>-0.41480355 </td><td>-0.57629397 </td><td> 0.1397992  </td><td> 0.210900058</td><td> 1.14323651 </td><td> 0.8034748  </td><td>0.3242987   </td><td>-0.48539609 </td></tr>\n",
       "\t<tr><td>PGDX10349P1 </td><td>-1.1634972  </td><td>0.2970597   </td><td>-1.2161447  </td><td>-0.8162257  </td><td>-0.8923239  </td><td>-0.1785833  </td><td>0.5700555   </td><td>-0.04954693 </td><td> 0.21667899 </td><td>...         </td><td>-0.9166027  </td><td> 1.2252550  </td><td> 0.53116039 </td><td>-0.14485922 </td><td> 0.4962913  </td><td> 0.159366453</td><td> 0.89872847 </td><td> 0.5394507  </td><td>1.6691416   </td><td>-0.03592333 </td></tr>\n",
       "\t<tr><td>PGDX10351P1 </td><td>-1.3345489  </td><td>0.3775714   </td><td>-1.1838254  </td><td>-0.9131621  </td><td>-0.5568538  </td><td>-0.4675081  </td><td>1.2207570   </td><td> 0.37443925 </td><td>-0.13888779 </td><td>...         </td><td>-0.2415262  </td><td> 0.4401355  </td><td> 0.86916752 </td><td>-0.06665681 </td><td> 0.7374085  </td><td> 0.141778221</td><td> 1.30435943 </td><td> 0.4872020  </td><td>1.4078574   </td><td>-0.11538254 </td></tr>\n",
       "\t<tr><td>PGDX10566P  </td><td>-0.8574452  </td><td>0.9302030   </td><td>-1.0609045  </td><td>-0.6539861  </td><td>-0.7939147  </td><td>-0.3515309  </td><td>0.9180691   </td><td> 0.05904459 </td><td>-0.33765513 </td><td>...         </td><td>-0.6566064  </td><td> 0.0475536  </td><td> 0.16117057 </td><td>-0.86930989 </td><td> 0.4929603  </td><td>-0.166543582</td><td>-0.02203962 </td><td> 0.3217377  </td><td>1.3944822   </td><td>-0.46986900 </td></tr>\n",
       "\t<tr><td>PGDX10567P  </td><td>-0.7373642  </td><td>1.1359784   </td><td>-0.3232710  </td><td>-0.7395245  </td><td>-0.7753000  </td><td> 0.2782615  </td><td>0.5870899   </td><td>-0.11624466 </td><td>-0.33087360 </td><td>...         </td><td>-0.6390401  </td><td> 0.5158870  </td><td>-0.24650086 </td><td>-0.68654606 </td><td> 0.2448308  </td><td> 0.125711903</td><td> 0.07386022 </td><td> 0.2809059  </td><td>1.8041542   </td><td>-0.71100610 </td></tr>\n",
       "</tbody>\n",
       "</table>\n"
      ],
      "text/markdown": [
       "\n",
       "| sample | chr10_40_methylation | chr10_4_methylation | chr10_401_methylation | chr10_402_methylation | chr10_403_methylation | chr10_404_methylation | chr10_405_methylation | chr10_409_methylation | chr10_410_methylation | ... | chr9_39_ATAC | chr9_391_ATAC | chr9_392_ATAC | chr9_393_ATAC | chr9_394_ATAC | chr9_395_ATAC | chr9_396_ATAC | chr9_397_ATAC | chr9_398_ATAC | chr9_399_ATAC |\n",
       "|---|---|---|---|---|---|---|---|---|---|---|---|---|---|---|---|---|---|---|---|---|\n",
       "| PGDX10344P1  | -1.0382846   | 1.1835907    | -0.6992718   | -0.4068113   | -0.8810093   | -0.3358435   | 0.3413281    | -0.16510639  | -0.25389256  | ...          | -0.5332279   | -0.3191424   |  0.01054977  | -0.49207709  | -0.1956784   |  0.004869146 |  0.59041013  | -0.3866654   | 1.3301475    | -0.28800428  |\n",
       "| PGDX10346P1  | -0.8804700   | 1.0304788    | -0.6707363   | -0.6819613   | -0.5771156   | -0.1637835   | 0.6317129    |  0.20490800  |  0.03405211  | ...          | -0.2773379   | -0.1728858   | -0.41480355  | -0.57629397  |  0.1397992   |  0.210900058 |  1.14323651  |  0.8034748   | 0.3242987    | -0.48539609  |\n",
       "| PGDX10349P1  | -1.1634972   | 0.2970597    | -1.2161447   | -0.8162257   | -0.8923239   | -0.1785833   | 0.5700555    | -0.04954693  |  0.21667899  | ...          | -0.9166027   |  1.2252550   |  0.53116039  | -0.14485922  |  0.4962913   |  0.159366453 |  0.89872847  |  0.5394507   | 1.6691416    | -0.03592333  |\n",
       "| PGDX10351P1  | -1.3345489   | 0.3775714    | -1.1838254   | -0.9131621   | -0.5568538   | -0.4675081   | 1.2207570    |  0.37443925  | -0.13888779  | ...          | -0.2415262   |  0.4401355   |  0.86916752  | -0.06665681  |  0.7374085   |  0.141778221 |  1.30435943  |  0.4872020   | 1.4078574    | -0.11538254  |\n",
       "| PGDX10566P   | -0.8574452   | 0.9302030    | -1.0609045   | -0.6539861   | -0.7939147   | -0.3515309   | 0.9180691    |  0.05904459  | -0.33765513  | ...          | -0.6566064   |  0.0475536   |  0.16117057  | -0.86930989  |  0.4929603   | -0.166543582 | -0.02203962  |  0.3217377   | 1.3944822    | -0.46986900  |\n",
       "| PGDX10567P   | -0.7373642   | 1.1359784    | -0.3232710   | -0.7395245   | -0.7753000   |  0.2782615   | 0.5870899    | -0.11624466  | -0.33087360  | ...          | -0.6390401   |  0.5158870   | -0.24650086  | -0.68654606  |  0.2448308   |  0.125711903 |  0.07386022  |  0.2809059   | 1.8041542    | -0.71100610  |\n",
       "\n"
      ],
      "text/plain": [
       "  sample      chr10_40_methylation chr10_4_methylation chr10_401_methylation\n",
       "1 PGDX10344P1 -1.0382846           1.1835907           -0.6992718           \n",
       "2 PGDX10346P1 -0.8804700           1.0304788           -0.6707363           \n",
       "3 PGDX10349P1 -1.1634972           0.2970597           -1.2161447           \n",
       "4 PGDX10351P1 -1.3345489           0.3775714           -1.1838254           \n",
       "5 PGDX10566P  -0.8574452           0.9302030           -1.0609045           \n",
       "6 PGDX10567P  -0.7373642           1.1359784           -0.3232710           \n",
       "  chr10_402_methylation chr10_403_methylation chr10_404_methylation\n",
       "1 -0.4068113            -0.8810093            -0.3358435           \n",
       "2 -0.6819613            -0.5771156            -0.1637835           \n",
       "3 -0.8162257            -0.8923239            -0.1785833           \n",
       "4 -0.9131621            -0.5568538            -0.4675081           \n",
       "5 -0.6539861            -0.7939147            -0.3515309           \n",
       "6 -0.7395245            -0.7753000             0.2782615           \n",
       "  chr10_405_methylation chr10_409_methylation chr10_410_methylation ...\n",
       "1 0.3413281             -0.16510639           -0.25389256           ...\n",
       "2 0.6317129              0.20490800            0.03405211           ...\n",
       "3 0.5700555             -0.04954693            0.21667899           ...\n",
       "4 1.2207570              0.37443925           -0.13888779           ...\n",
       "5 0.9180691              0.05904459           -0.33765513           ...\n",
       "6 0.5870899             -0.11624466           -0.33087360           ...\n",
       "  chr9_39_ATAC chr9_391_ATAC chr9_392_ATAC chr9_393_ATAC chr9_394_ATAC\n",
       "1 -0.5332279   -0.3191424     0.01054977   -0.49207709   -0.1956784   \n",
       "2 -0.2773379   -0.1728858    -0.41480355   -0.57629397    0.1397992   \n",
       "3 -0.9166027    1.2252550     0.53116039   -0.14485922    0.4962913   \n",
       "4 -0.2415262    0.4401355     0.86916752   -0.06665681    0.7374085   \n",
       "5 -0.6566064    0.0475536     0.16117057   -0.86930989    0.4929603   \n",
       "6 -0.6390401    0.5158870    -0.24650086   -0.68654606    0.2448308   \n",
       "  chr9_395_ATAC chr9_396_ATAC chr9_397_ATAC chr9_398_ATAC chr9_399_ATAC\n",
       "1  0.004869146   0.59041013   -0.3866654    1.3301475     -0.28800428  \n",
       "2  0.210900058   1.14323651    0.8034748    0.3242987     -0.48539609  \n",
       "3  0.159366453   0.89872847    0.5394507    1.6691416     -0.03592333  \n",
       "4  0.141778221   1.30435943    0.4872020    1.4078574     -0.11538254  \n",
       "5 -0.166543582  -0.02203962    0.3217377    1.3944822     -0.46986900  \n",
       "6  0.125711903   0.07386022    0.2809059    1.8041542     -0.71100610  "
      ]
     },
     "metadata": {},
     "output_type": "display_data"
    }
   ],
   "source": [
    "tmp[upper.tri(tmp)] <- 0\n",
    "diag(tmp) <- 0\n",
    "data_collinear_rm <- data_clean[, !apply(tmp, 2, function(x) any(abs(x) > 0.9, na.rm = TRUE))]\n",
    "dim(data_collinear_rm)\n",
    "\n",
    "data_collinear_rm <- data_collinear_rm %>% mutate(sample = sample$sample) %>% dplyr::select(sample, everything())\n",
    "head(data_collinear_rm)\n"
   ]
  },
  {
   "cell_type": "code",
   "execution_count": 18,
   "id": "8a456f6e-232f-4e5c-aa5d-6c7b4addd77d",
   "metadata": {},
   "outputs": [],
   "source": [
    "saveRDS(data_collinear_rm, \"../data/Meth_and_ATAC_predictions_combined/NEW_CORRECT_PRED/Collinear_features_removed_ATAC_and_methylation.rds\")"
   ]
  },
  {
   "cell_type": "code",
   "execution_count": null,
   "id": "10b10cd5-7ae4-4c6f-a8b6-19d93401f2ed",
   "metadata": {},
   "outputs": [],
   "source": []
  }
 ],
 "metadata": {
  "kernelspec": {
   "display_name": "R",
   "language": "R",
   "name": "ir"
  },
  "language_info": {
   "codemirror_mode": "r",
   "file_extension": ".r",
   "mimetype": "text/x-r-source",
   "name": "R",
   "pygments_lexer": "r",
   "version": "3.6.1"
  }
 },
 "nbformat": 4,
 "nbformat_minor": 5
}
