{
 "cells": [
  {
   "cell_type": "markdown",
   "id": "0a9a8d95-7e82-4476-b25e-3ffba2c944b4",
   "metadata": {},
   "source": [
    "## Calculate correlation"
   ]
  },
  {
   "cell_type": "code",
   "execution_count": 2,
   "id": "925dec8e-b421-4081-8a22-ae1b7d6f62d4",
   "metadata": {},
   "outputs": [
    {
     "name": "stderr",
     "output_type": "stream",
     "text": [
      "Registered S3 methods overwritten by 'ggplot2':\n",
      "  method         from \n",
      "  [.quosures     rlang\n",
      "  c.quosures     rlang\n",
      "  print.quosures rlang\n",
      "Registered S3 method overwritten by 'rvest':\n",
      "  method            from\n",
      "  read_xml.response xml2\n",
      "── Attaching packages ─────────────────────────────────────── tidyverse 1.2.1 ──\n",
      "✔ ggplot2 3.1.1     ✔ purrr   0.3.2\n",
      "✔ tibble  3.1.4     ✔ dplyr   1.0.7\n",
      "✔ tidyr   1.1.3     ✔ stringr 1.4.0\n",
      "✔ readr   1.3.1     ✔ forcats 0.4.0\n",
      "── Conflicts ────────────────────────────────────────── tidyverse_conflicts() ──\n",
      "✖ dplyr::filter() masks stats::filter()\n",
      "✖ dplyr::lag()    masks stats::lag()\n"
     ]
    }
   ],
   "source": [
    "library(tidyverse)"
   ]
  },
  {
   "cell_type": "markdown",
   "id": "6ef5fcda-ab84-4b0e-8e14-bb94a2522b38",
   "metadata": {},
   "source": [
    "### Observed ATAC values"
   ]
  },
  {
   "cell_type": "code",
   "execution_count": 3,
   "id": "1bb4ea9d-35fb-4a8f-b1b1-33b286824b0c",
   "metadata": {},
   "outputs": [
    {
     "data": {
      "text/html": [
       "<table>\n",
       "<thead><tr><th scope=col>bin</th><th scope=col>ATAC_observed</th></tr></thead>\n",
       "<tbody>\n",
       "\t<tr><td>chr10_100</td><td>0.5931657</td></tr>\n",
       "\t<tr><td>chr10_1  </td><td>0.4089315</td></tr>\n",
       "\t<tr><td>chr10_10 </td><td>0.3058228</td></tr>\n",
       "\t<tr><td>chr10_101</td><td>0.4764137</td></tr>\n",
       "\t<tr><td>chr10_102</td><td>0.2862775</td></tr>\n",
       "\t<tr><td>chr10_103</td><td>0.3169988</td></tr>\n",
       "</tbody>\n",
       "</table>\n"
      ],
      "text/latex": [
       "\\begin{tabular}{r|ll}\n",
       " bin & ATAC\\_observed\\\\\n",
       "\\hline\n",
       "\t chr10\\_100 & 0.5931657  \\\\\n",
       "\t chr10\\_1   & 0.4089315  \\\\\n",
       "\t chr10\\_10  & 0.3058228  \\\\\n",
       "\t chr10\\_101 & 0.4764137  \\\\\n",
       "\t chr10\\_102 & 0.2862775  \\\\\n",
       "\t chr10\\_103 & 0.3169988  \\\\\n",
       "\\end{tabular}\n"
      ],
      "text/markdown": [
       "\n",
       "| bin | ATAC_observed |\n",
       "|---|---|\n",
       "| chr10_100 | 0.5931657 |\n",
       "| chr10_1   | 0.4089315 |\n",
       "| chr10_10  | 0.3058228 |\n",
       "| chr10_101 | 0.4764137 |\n",
       "| chr10_102 | 0.2862775 |\n",
       "| chr10_103 | 0.3169988 |\n",
       "\n"
      ],
      "text/plain": [
       "  bin       ATAC_observed\n",
       "1 chr10_100 0.5931657    \n",
       "2 chr10_1   0.4089315    \n",
       "3 chr10_10  0.3058228    \n",
       "4 chr10_101 0.4764137    \n",
       "5 chr10_102 0.2862775    \n",
       "6 chr10_103 0.3169988    "
      ]
     },
     "metadata": {},
     "output_type": "display_data"
    },
    {
     "data": {
      "text/html": [
       "<table>\n",
       "<thead><tr><th scope=col>bin</th><th scope=col>ATAC_observed</th></tr></thead>\n",
       "<tbody>\n",
       "\t<tr><td>chr10_100 </td><td> 1.2882623</td></tr>\n",
       "\t<tr><td>chr10_1   </td><td>-0.1842358</td></tr>\n",
       "\t<tr><td>chr10_10  </td><td>-1.0083355</td></tr>\n",
       "\t<tr><td>chr10_101 </td><td> 0.3551181</td></tr>\n",
       "\t<tr><td>chr10_102 </td><td>-1.1645524</td></tr>\n",
       "\t<tr><td>chr10_103 </td><td>-0.9190113</td></tr>\n",
       "</tbody>\n",
       "</table>\n"
      ],
      "text/latex": [
       "\\begin{tabular}{r|ll}\n",
       " bin & ATAC\\_observed\\\\\n",
       "\\hline\n",
       "\t chr10\\_100 &  1.2882623 \\\\\n",
       "\t chr10\\_1   & -0.1842358 \\\\\n",
       "\t chr10\\_10  & -1.0083355 \\\\\n",
       "\t chr10\\_101 &  0.3551181 \\\\\n",
       "\t chr10\\_102 & -1.1645524 \\\\\n",
       "\t chr10\\_103 & -0.9190113 \\\\\n",
       "\\end{tabular}\n"
      ],
      "text/markdown": [
       "\n",
       "| bin | ATAC_observed |\n",
       "|---|---|\n",
       "| chr10_100  |  1.2882623 |\n",
       "| chr10_1    | -0.1842358 |\n",
       "| chr10_10   | -1.0083355 |\n",
       "| chr10_101  |  0.3551181 |\n",
       "| chr10_102  | -1.1645524 |\n",
       "| chr10_103  | -0.9190113 |\n",
       "\n"
      ],
      "text/plain": [
       "  bin       ATAC_observed\n",
       "1 chr10_100  1.2882623   \n",
       "2 chr10_1   -0.1842358   \n",
       "3 chr10_10  -1.0083355   \n",
       "4 chr10_101  0.3551181   \n",
       "5 chr10_102 -1.1645524   \n",
       "6 chr10_103 -0.9190113   "
      ]
     },
     "metadata": {},
     "output_type": "display_data"
    },
    {
     "data": {
      "text/html": [
       "<table>\n",
       "<thead><tr><th scope=col>sample</th><th scope=col>sample_type</th></tr></thead>\n",
       "<tbody>\n",
       "\t<tr><td>PGDX16568P</td><td>Healthy   </td></tr>\n",
       "\t<tr><td>PGDX16569P</td><td>Healthy   </td></tr>\n",
       "\t<tr><td>PGDX16570P</td><td>Healthy   </td></tr>\n",
       "\t<tr><td>PGDX16571P</td><td>Healthy   </td></tr>\n",
       "\t<tr><td>PGDX16579P</td><td>Healthy   </td></tr>\n",
       "\t<tr><td>PGDX16580P</td><td>Healthy   </td></tr>\n",
       "</tbody>\n",
       "</table>\n"
      ],
      "text/latex": [
       "\\begin{tabular}{r|ll}\n",
       " sample & sample\\_type\\\\\n",
       "\\hline\n",
       "\t PGDX16568P & Healthy   \\\\\n",
       "\t PGDX16569P & Healthy   \\\\\n",
       "\t PGDX16570P & Healthy   \\\\\n",
       "\t PGDX16571P & Healthy   \\\\\n",
       "\t PGDX16579P & Healthy   \\\\\n",
       "\t PGDX16580P & Healthy   \\\\\n",
       "\\end{tabular}\n"
      ],
      "text/markdown": [
       "\n",
       "| sample | sample_type |\n",
       "|---|---|\n",
       "| PGDX16568P | Healthy    |\n",
       "| PGDX16569P | Healthy    |\n",
       "| PGDX16570P | Healthy    |\n",
       "| PGDX16571P | Healthy    |\n",
       "| PGDX16579P | Healthy    |\n",
       "| PGDX16580P | Healthy    |\n",
       "\n"
      ],
      "text/plain": [
       "  sample     sample_type\n",
       "1 PGDX16568P Healthy    \n",
       "2 PGDX16569P Healthy    \n",
       "3 PGDX16570P Healthy    \n",
       "4 PGDX16571P Healthy    \n",
       "5 PGDX16579P Healthy    \n",
       "6 PGDX16580P Healthy    "
      ]
     },
     "metadata": {},
     "output_type": "display_data"
    }
   ],
   "source": [
    "ATAC_obs <- read.csv(\"../data/sum_control_normalized_ATAC.csv\") %>% select(bin, ATAC_val)\n",
    "colnames(ATAC_obs) <- c(\"bin\", \"ATAC_observed\")\n",
    "head(ATAC_obs)\n",
    "\n",
    "ATAC_obs <- ATAC_obs %>% mutate_at(c(\"ATAC_observed\"), ~(scale(.) %>% as.vector))\n",
    "head(ATAC_obs)\n",
    "\n",
    "\n",
    "sample_types <- read.table(\"../data/sample_types.txt\", header = F, sep = \" \")\n",
    "colnames(sample_types) <- c(\"sample\", \"sample_type\")\n",
    "sample_types_healthy <- sample_types %>% filter(sample_type == \"Healthy\")\n",
    "head(sample_types_healthy)"
   ]
  },
  {
   "cell_type": "code",
   "execution_count": 4,
   "id": "299b7c12-57b6-410f-9961-efa334a187c3",
   "metadata": {},
   "outputs": [],
   "source": [
    "format_input <- function(input_pred){\n",
    "    formatted_pred <- input_pred %>% pivot_longer(!sample, values_to = \"ATAC_prediction\", names_to = \"bin\")\n",
    "    formatted_pred <- merge(formatted_pred, ATAC_obs, by = \"bin\")\n",
    "    \n",
    "    return(formatted_pred)\n",
    "}\n",
    "\n",
    "get_controls <- function(input_pred){\n",
    "    input_pred_healthy <- merge(input_pred, sample_types_healthy, by = \"sample\")\n",
    "    return(input_pred_healthy)\n",
    "}"
   ]
  },
  {
   "cell_type": "markdown",
   "id": "91416876-0594-4ade-a488-65a0db1f7a24",
   "metadata": {},
   "source": [
    "# Models trained on summed controls"
   ]
  },
  {
   "cell_type": "markdown",
   "id": "a3cd3a7f-d47e-41e0-aedf-66932a1ac45c",
   "metadata": {},
   "source": [
    "## Gaussian smoothed individuals, lasso std = TRUE"
   ]
  },
  {
   "cell_type": "code",
   "execution_count": 27,
   "id": "d70e0f7a-35ad-4277-b216-5951163259d6",
   "metadata": {},
   "outputs": [
    {
     "data": {
      "text/html": [
       "<table>\n",
       "<thead><tr><th scope=col>bin</th><th scope=col>sample</th><th scope=col>ATAC_prediction</th><th scope=col>ATAC_observed</th></tr></thead>\n",
       "<tbody>\n",
       "\t<tr><td>chr1_100   </td><td>PGDX10351P1</td><td>1.1665348  </td><td>1.738932   </td></tr>\n",
       "\t<tr><td>chr1_100   </td><td>PGDX17971P1</td><td>1.5099425  </td><td>1.738932   </td></tr>\n",
       "\t<tr><td>chr1_100   </td><td>PGDX10570P </td><td>0.2511939  </td><td>1.738932   </td></tr>\n",
       "\t<tr><td>chr1_100   </td><td>PGDX18447P </td><td>0.1027906  </td><td>1.738932   </td></tr>\n",
       "\t<tr><td>chr1_100   </td><td>PGDX10577P </td><td>1.3222183  </td><td>1.738932   </td></tr>\n",
       "\t<tr><td>chr1_100   </td><td>PGDX18453P </td><td>0.4123033  </td><td>1.738932   </td></tr>\n",
       "</tbody>\n",
       "</table>\n"
      ],
      "text/latex": [
       "\\begin{tabular}{r|llll}\n",
       " bin & sample & ATAC\\_prediction & ATAC\\_observed\\\\\n",
       "\\hline\n",
       "\t chr1\\_100  & PGDX10351P1 & 1.1665348   & 1.738932   \\\\\n",
       "\t chr1\\_100  & PGDX17971P1 & 1.5099425   & 1.738932   \\\\\n",
       "\t chr1\\_100  & PGDX10570P  & 0.2511939   & 1.738932   \\\\\n",
       "\t chr1\\_100  & PGDX18447P  & 0.1027906   & 1.738932   \\\\\n",
       "\t chr1\\_100  & PGDX10577P  & 1.3222183   & 1.738932   \\\\\n",
       "\t chr1\\_100  & PGDX18453P  & 0.4123033   & 1.738932   \\\\\n",
       "\\end{tabular}\n"
      ],
      "text/markdown": [
       "\n",
       "| bin | sample | ATAC_prediction | ATAC_observed |\n",
       "|---|---|---|---|\n",
       "| chr1_100    | PGDX10351P1 | 1.1665348   | 1.738932    |\n",
       "| chr1_100    | PGDX17971P1 | 1.5099425   | 1.738932    |\n",
       "| chr1_100    | PGDX10570P  | 0.2511939   | 1.738932    |\n",
       "| chr1_100    | PGDX18447P  | 0.1027906   | 1.738932    |\n",
       "| chr1_100    | PGDX10577P  | 1.3222183   | 1.738932    |\n",
       "| chr1_100    | PGDX18453P  | 0.4123033   | 1.738932    |\n",
       "\n"
      ],
      "text/plain": [
       "  bin      sample      ATAC_prediction ATAC_observed\n",
       "1 chr1_100 PGDX10351P1 1.1665348       1.738932     \n",
       "2 chr1_100 PGDX17971P1 1.5099425       1.738932     \n",
       "3 chr1_100 PGDX10570P  0.2511939       1.738932     \n",
       "4 chr1_100 PGDX18447P  0.1027906       1.738932     \n",
       "5 chr1_100 PGDX10577P  1.3222183       1.738932     \n",
       "6 chr1_100 PGDX18453P  0.4123033       1.738932     "
      ]
     },
     "metadata": {},
     "output_type": "display_data"
    },
    {
     "data": {
      "text/html": [
       "<ol class=list-inline>\n",
       "\t<li>4873319</li>\n",
       "\t<li>4</li>\n",
       "</ol>\n"
      ],
      "text/latex": [
       "\\begin{enumerate*}\n",
       "\\item 4873319\n",
       "\\item 4\n",
       "\\end{enumerate*}\n"
      ],
      "text/markdown": [
       "1. 4873319\n",
       "2. 4\n",
       "\n",
       "\n"
      ],
      "text/plain": [
       "[1] 4873319       4"
      ]
     },
     "metadata": {},
     "output_type": "display_data"
    },
    {
     "data": {
      "text/html": [
       "<table>\n",
       "<thead><tr><th scope=col>sample</th><th scope=col>bin</th><th scope=col>ATAC_prediction</th><th scope=col>ATAC_observed</th><th scope=col>sample_type</th></tr></thead>\n",
       "<tbody>\n",
       "\t<tr><td>PGDX16568P</td><td>chr18_6   </td><td> 0.6226771</td><td>-1.4943833</td><td>Healthy   </td></tr>\n",
       "\t<tr><td>PGDX16568P</td><td>chr11_167 </td><td>-0.3729613</td><td>-1.5135230</td><td>Healthy   </td></tr>\n",
       "\t<tr><td>PGDX16568P</td><td>chr3_771  </td><td>-0.3340284</td><td>-0.5790788</td><td>Healthy   </td></tr>\n",
       "\t<tr><td>PGDX16568P</td><td>chr18_32  </td><td> 0.6909383</td><td>-0.9983870</td><td>Healthy   </td></tr>\n",
       "\t<tr><td>PGDX16568P</td><td>chr6_532  </td><td> 1.1472074</td><td> 0.4201405</td><td>Healthy   </td></tr>\n",
       "\t<tr><td>PGDX16568P</td><td>chr18_238 </td><td>-0.1833294</td><td> 0.5271027</td><td>Healthy   </td></tr>\n",
       "</tbody>\n",
       "</table>\n"
      ],
      "text/latex": [
       "\\begin{tabular}{r|lllll}\n",
       " sample & bin & ATAC\\_prediction & ATAC\\_observed & sample\\_type\\\\\n",
       "\\hline\n",
       "\t PGDX16568P  & chr18\\_6   &  0.6226771  & -1.4943833  & Healthy    \\\\\n",
       "\t PGDX16568P  & chr11\\_167 & -0.3729613  & -1.5135230  & Healthy    \\\\\n",
       "\t PGDX16568P  & chr3\\_771  & -0.3340284  & -0.5790788  & Healthy    \\\\\n",
       "\t PGDX16568P  & chr18\\_32  &  0.6909383  & -0.9983870  & Healthy    \\\\\n",
       "\t PGDX16568P  & chr6\\_532  &  1.1472074  &  0.4201405  & Healthy    \\\\\n",
       "\t PGDX16568P  & chr18\\_238 & -0.1833294  &  0.5271027  & Healthy    \\\\\n",
       "\\end{tabular}\n"
      ],
      "text/markdown": [
       "\n",
       "| sample | bin | ATAC_prediction | ATAC_observed | sample_type |\n",
       "|---|---|---|---|---|\n",
       "| PGDX16568P | chr18_6    |  0.6226771 | -1.4943833 | Healthy    |\n",
       "| PGDX16568P | chr11_167  | -0.3729613 | -1.5135230 | Healthy    |\n",
       "| PGDX16568P | chr3_771   | -0.3340284 | -0.5790788 | Healthy    |\n",
       "| PGDX16568P | chr18_32   |  0.6909383 | -0.9983870 | Healthy    |\n",
       "| PGDX16568P | chr6_532   |  1.1472074 |  0.4201405 | Healthy    |\n",
       "| PGDX16568P | chr18_238  | -0.1833294 |  0.5271027 | Healthy    |\n",
       "\n"
      ],
      "text/plain": [
       "  sample     bin       ATAC_prediction ATAC_observed sample_type\n",
       "1 PGDX16568P chr18_6    0.6226771      -1.4943833    Healthy    \n",
       "2 PGDX16568P chr11_167 -0.3729613      -1.5135230    Healthy    \n",
       "3 PGDX16568P chr3_771  -0.3340284      -0.5790788    Healthy    \n",
       "4 PGDX16568P chr18_32   0.6909383      -0.9983870    Healthy    \n",
       "5 PGDX16568P chr6_532   1.1472074       0.4201405    Healthy    \n",
       "6 PGDX16568P chr18_238 -0.1833294       0.5271027    Healthy    "
      ]
     },
     "metadata": {},
     "output_type": "display_data"
    },
    {
     "data": {
      "text/html": [
       "<ol class=list-inline>\n",
       "\t<li>2503629</li>\n",
       "\t<li>5</li>\n",
       "</ol>\n"
      ],
      "text/latex": [
       "\\begin{enumerate*}\n",
       "\\item 2503629\n",
       "\\item 5\n",
       "\\end{enumerate*}\n"
      ],
      "text/markdown": [
       "1. 2503629\n",
       "2. 5\n",
       "\n",
       "\n"
      ],
      "text/plain": [
       "[1] 2503629       5"
      ]
     },
     "metadata": {},
     "output_type": "display_data"
    }
   ],
   "source": [
    "lasso_pred <- read.csv(\"../data/ATAC_predictions_on_all_samples_NEW/ATAC_pred_lasso_std_TRUE_gaussian_formatted_standardized.csv\")\n",
    "lasso_pred_formatted <- format_input(lasso_pred)\n",
    "lasso_pred_formatted_controls <- get_controls(lasso_pred_formatted)\n",
    "head(lasso_pred_formatted)\n",
    "dim(lasso_pred_formatted)\n",
    "\n",
    "head(lasso_pred_formatted_controls)\n",
    "dim(lasso_pred_formatted_controls)"
   ]
  },
  {
   "cell_type": "code",
   "execution_count": 28,
   "id": "13c836a7-742f-4532-80e7-edc51b740a40",
   "metadata": {},
   "outputs": [
    {
     "data": {
      "text/html": [
       "'Correlation for all predictions: 0.172855638555523'"
      ],
      "text/latex": [
       "'Correlation for all predictions: 0.172855638555523'"
      ],
      "text/markdown": [
       "'Correlation for all predictions: 0.172855638555523'"
      ],
      "text/plain": [
       "[1] \"Correlation for all predictions: 0.172855638555523\""
      ]
     },
     "metadata": {},
     "output_type": "display_data"
    },
    {
     "data": {
      "text/html": [
       "'Correlation for controls: 0.199747271692435'"
      ],
      "text/latex": [
       "'Correlation for controls: 0.199747271692435'"
      ],
      "text/markdown": [
       "'Correlation for controls: 0.199747271692435'"
      ],
      "text/plain": [
       "[1] \"Correlation for controls: 0.199747271692435\""
      ]
     },
     "metadata": {},
     "output_type": "display_data"
    }
   ],
   "source": [
    "cor_all = cor(lasso_pred_formatted$ATAC_observed, lasso_pred_formatted$ATAC_prediction)\n",
    "cor_control  = cor(lasso_pred_formatted_controls$ATAC_observed, lasso_pred_formatted_controls$ATAC_prediction)\n",
    "\n",
    "paste(\"Correlation for all predictions: \", cor_all, sep = \"\")\n",
    "paste(\"Correlation for controls: \", cor_control, sep = \"\")"
   ]
  },
  {
   "cell_type": "markdown",
   "id": "0bf586de-eaa2-4558-9302-8f9f3a3e0311",
   "metadata": {},
   "source": [
    "## Gaussian smoothed individuals, lasso std = FALSE"
   ]
  },
  {
   "cell_type": "code",
   "execution_count": 29,
   "id": "f8b741ae-9410-496a-8e5d-1682fc441fa8",
   "metadata": {},
   "outputs": [],
   "source": [
    "lasso_pred <- read.csv(\"../data/ATAC_predictions_on_all_samples_NEW/ATAC_pred_lasso_std_FALSE_gaussian_formatted_standardized.csv\")\n",
    "lasso_pred_formatted <- format_input(lasso_pred)\n",
    "lasso_pred_formatted_controls <- get_controls(lasso_pred_formatted)"
   ]
  },
  {
   "cell_type": "code",
   "execution_count": 30,
   "id": "016c1d3a-87d0-49f2-a74e-9706fa9145c6",
   "metadata": {},
   "outputs": [
    {
     "data": {
      "text/html": [
       "'Correlation for all predictions: 0.164132645973486'"
      ],
      "text/latex": [
       "'Correlation for all predictions: 0.164132645973486'"
      ],
      "text/markdown": [
       "'Correlation for all predictions: 0.164132645973486'"
      ],
      "text/plain": [
       "[1] \"Correlation for all predictions: 0.164132645973486\""
      ]
     },
     "metadata": {},
     "output_type": "display_data"
    },
    {
     "data": {
      "text/html": [
       "'Correlation for controls: 0.195898374854515'"
      ],
      "text/latex": [
       "'Correlation for controls: 0.195898374854515'"
      ],
      "text/markdown": [
       "'Correlation for controls: 0.195898374854515'"
      ],
      "text/plain": [
       "[1] \"Correlation for controls: 0.195898374854515\""
      ]
     },
     "metadata": {},
     "output_type": "display_data"
    }
   ],
   "source": [
    "cor_all = cor(lasso_pred_formatted$ATAC_observed, lasso_pred_formatted$ATAC_prediction)\n",
    "cor_control  = cor(lasso_pred_formatted_controls$ATAC_observed, lasso_pred_formatted_controls$ATAC_prediction)\n",
    "\n",
    "paste(\"Correlation for all predictions: \", cor_all, sep = \"\")\n",
    "paste(\"Correlation for controls: \", cor_control, sep = \"\")"
   ]
  },
  {
   "cell_type": "markdown",
   "id": "85cc639e-2f19-4928-a73a-fec743914351",
   "metadata": {},
   "source": [
    "## Not-smoothed (only normalized) individuals, lasso std = TRUE"
   ]
  },
  {
   "cell_type": "code",
   "execution_count": 31,
   "id": "d99dfa13-cd22-4257-90ed-b49a2ae90856",
   "metadata": {},
   "outputs": [],
   "source": [
    "lasso_pred <- read.csv(\"../data/ATAC_predictions_on_all_samples_NEW/ATAC_pred_lasso_std_TRUE_formatted_standardized.csv\")\n",
    "lasso_pred_formatted <- format_input(lasso_pred)\n",
    "lasso_pred_formatted_controls <- get_controls(lasso_pred_formatted)"
   ]
  },
  {
   "cell_type": "code",
   "execution_count": 32,
   "id": "541515e2-2eb0-45fc-bee7-4d11e7aa1087",
   "metadata": {},
   "outputs": [
    {
     "data": {
      "text/html": [
       "'Correlation for all predictions: 0.171651934094209'"
      ],
      "text/latex": [
       "'Correlation for all predictions: 0.171651934094209'"
      ],
      "text/markdown": [
       "'Correlation for all predictions: 0.171651934094209'"
      ],
      "text/plain": [
       "[1] \"Correlation for all predictions: 0.171651934094209\""
      ]
     },
     "metadata": {},
     "output_type": "display_data"
    },
    {
     "data": {
      "text/html": [
       "'Correlation for controls: 0.205329737687376'"
      ],
      "text/latex": [
       "'Correlation for controls: 0.205329737687376'"
      ],
      "text/markdown": [
       "'Correlation for controls: 0.205329737687376'"
      ],
      "text/plain": [
       "[1] \"Correlation for controls: 0.205329737687376\""
      ]
     },
     "metadata": {},
     "output_type": "display_data"
    }
   ],
   "source": [
    "cor_all = cor(lasso_pred_formatted$ATAC_observed, lasso_pred_formatted$ATAC_prediction)\n",
    "cor_control  = cor(lasso_pred_formatted_controls$ATAC_observed, lasso_pred_formatted_controls$ATAC_prediction)\n",
    "\n",
    "paste(\"Correlation for all predictions: \", cor_all, sep = \"\")\n",
    "paste(\"Correlation for controls: \", cor_control, sep = \"\")"
   ]
  },
  {
   "cell_type": "markdown",
   "id": "ef54076d-01bb-4423-bcec-861cb485374f",
   "metadata": {},
   "source": [
    "## Gaussian smoothed and trimmed individuals, lasso std = TRUE"
   ]
  },
  {
   "cell_type": "code",
   "execution_count": 33,
   "id": "ab68b5d3-87e4-4112-b9c9-4abb72a50d02",
   "metadata": {},
   "outputs": [],
   "source": [
    "lasso_pred <- read.csv(\"../data/ATAC_predictions_on_all_samples_NEW/ATAC_pred_lasso_std_TRUE_gaussian_trimmed_formatted_standardized.csv\")\n",
    "lasso_pred_formatted <- format_input(lasso_pred)\n",
    "lasso_pred_formatted_controls <- get_controls(lasso_pred_formatted)"
   ]
  },
  {
   "cell_type": "code",
   "execution_count": 34,
   "id": "93c34b06-e64a-4638-82cf-05623c934a6c",
   "metadata": {},
   "outputs": [
    {
     "data": {
      "text/html": [
       "'Correlation for all predictions: 0.155167327421964'"
      ],
      "text/latex": [
       "'Correlation for all predictions: 0.155167327421964'"
      ],
      "text/markdown": [
       "'Correlation for all predictions: 0.155167327421964'"
      ],
      "text/plain": [
       "[1] \"Correlation for all predictions: 0.155167327421964\""
      ]
     },
     "metadata": {},
     "output_type": "display_data"
    },
    {
     "data": {
      "text/html": [
       "'Correlation for controls: 0.182894291437676'"
      ],
      "text/latex": [
       "'Correlation for controls: 0.182894291437676'"
      ],
      "text/markdown": [
       "'Correlation for controls: 0.182894291437676'"
      ],
      "text/plain": [
       "[1] \"Correlation for controls: 0.182894291437676\""
      ]
     },
     "metadata": {},
     "output_type": "display_data"
    }
   ],
   "source": [
    "cor_all = cor(lasso_pred_formatted$ATAC_observed, lasso_pred_formatted$ATAC_prediction)\n",
    "cor_control  = cor(lasso_pred_formatted_controls$ATAC_observed, lasso_pred_formatted_controls$ATAC_prediction)\n",
    "\n",
    "paste(\"Correlation for all predictions: \", cor_all, sep = \"\")\n",
    "paste(\"Correlation for controls: \", cor_control, sep = \"\")"
   ]
  },
  {
   "cell_type": "markdown",
   "id": "50841a44-a3b5-4fac-aacc-128c66096d2b",
   "metadata": {},
   "source": [
    "# Models trained on individual controls"
   ]
  },
  {
   "cell_type": "markdown",
   "id": "3ac6dbbc-ba11-421e-ac1e-9e5704aacaf9",
   "metadata": {},
   "source": [
    "## Gaussian smoothed individuals, lasso std = TRUE"
   ]
  },
  {
   "cell_type": "code",
   "execution_count": 5,
   "id": "90858b04-35eb-4eb3-999c-77a457523862",
   "metadata": {},
   "outputs": [],
   "source": [
    "lasso_pred <- read.csv(\"../data/all_samples_train_ATAC_predictions_on_all_samples/all_samples_ATAC_pred_lasso_std_TRUE_gaussian_formatted_standardized.csv\")\n",
    "lasso_pred_formatted <- format_input(lasso_pred)\n",
    "lasso_pred_formatted_controls <- get_controls(lasso_pred_formatted)"
   ]
  },
  {
   "cell_type": "code",
   "execution_count": 6,
   "id": "07380843-d10d-447e-9a01-b181133b7360",
   "metadata": {},
   "outputs": [
    {
     "data": {
      "text/html": [
       "'Correlation for all predictions: 0.556648109445736'"
      ],
      "text/latex": [
       "'Correlation for all predictions: 0.556648109445736'"
      ],
      "text/markdown": [
       "'Correlation for all predictions: 0.556648109445736'"
      ],
      "text/plain": [
       "[1] \"Correlation for all predictions: 0.556648109445736\""
      ]
     },
     "metadata": {},
     "output_type": "display_data"
    },
    {
     "data": {
      "text/html": [
       "'Correlation for controls: 0.566835848817565'"
      ],
      "text/latex": [
       "'Correlation for controls: 0.566835848817565'"
      ],
      "text/markdown": [
       "'Correlation for controls: 0.566835848817565'"
      ],
      "text/plain": [
       "[1] \"Correlation for controls: 0.566835848817565\""
      ]
     },
     "metadata": {},
     "output_type": "display_data"
    }
   ],
   "source": [
    "cor_all = cor(lasso_pred_formatted$ATAC_observed, lasso_pred_formatted$ATAC_prediction)\n",
    "cor_control  = cor(lasso_pred_formatted_controls$ATAC_observed, lasso_pred_formatted_controls$ATAC_prediction)\n",
    "\n",
    "paste(\"Correlation for all predictions: \", cor_all, sep = \"\")\n",
    "paste(\"Correlation for controls: \", cor_control, sep = \"\")"
   ]
  },
  {
   "cell_type": "markdown",
   "id": "835dec7c-26c5-43b3-a9c5-ce4fc15315c6",
   "metadata": {},
   "source": [
    "## Gaussian smoothed individuals, lasso std = FALSE"
   ]
  },
  {
   "cell_type": "code",
   "execution_count": 7,
   "id": "b5822514-0c2b-428a-90d9-e038e56b50b6",
   "metadata": {},
   "outputs": [],
   "source": [
    "lasso_pred <- read.csv(\"../data/all_samples_train_ATAC_predictions_on_all_samples/all_samples_ATAC_pred_lasso_std_FALSE_gaussian_formatted_standardized.csv\")\n",
    "lasso_pred_formatted <- format_input(lasso_pred)\n",
    "lasso_pred_formatted_controls <- get_controls(lasso_pred_formatted)"
   ]
  },
  {
   "cell_type": "code",
   "execution_count": 8,
   "id": "43c6cc2e-4dd6-4fdb-83b1-75ccbb96398d",
   "metadata": {},
   "outputs": [
    {
     "data": {
      "text/html": [
       "'Correlation for all predictions: 0.556648109701069'"
      ],
      "text/latex": [
       "'Correlation for all predictions: 0.556648109701069'"
      ],
      "text/markdown": [
       "'Correlation for all predictions: 0.556648109701069'"
      ],
      "text/plain": [
       "[1] \"Correlation for all predictions: 0.556648109701069\""
      ]
     },
     "metadata": {},
     "output_type": "display_data"
    },
    {
     "data": {
      "text/html": [
       "'Correlation for controls: 0.5668358488933'"
      ],
      "text/latex": [
       "'Correlation for controls: 0.5668358488933'"
      ],
      "text/markdown": [
       "'Correlation for controls: 0.5668358488933'"
      ],
      "text/plain": [
       "[1] \"Correlation for controls: 0.5668358488933\""
      ]
     },
     "metadata": {},
     "output_type": "display_data"
    }
   ],
   "source": [
    "cor_all = cor(lasso_pred_formatted$ATAC_observed, lasso_pred_formatted$ATAC_prediction)\n",
    "cor_control  = cor(lasso_pred_formatted_controls$ATAC_observed, lasso_pred_formatted_controls$ATAC_prediction)\n",
    "\n",
    "paste(\"Correlation for all predictions: \", cor_all, sep = \"\")\n",
    "paste(\"Correlation for controls: \", cor_control, sep = \"\")"
   ]
  },
  {
   "cell_type": "markdown",
   "id": "81876a30-bf08-45fd-9fb4-3eba79a4b031",
   "metadata": {},
   "source": [
    "## Not-smoothed (only normalized) individuals, lasso std = TRUE"
   ]
  },
  {
   "cell_type": "code",
   "execution_count": 35,
   "id": "e90d2fd4-b3ba-4932-91cd-9c05490991e9",
   "metadata": {},
   "outputs": [],
   "source": [
    "lasso_pred <- read.csv(\"../data/all_samples_train_ATAC_predictions_on_all_samples/all_samples_ATAC_pred_lasso_std_TRUE_formatted_standardized.csv\")\n",
    "lasso_pred_formatted <- format_input(lasso_pred)\n",
    "lasso_pred_formatted_controls <- get_controls(lasso_pred_formatted)"
   ]
  },
  {
   "cell_type": "code",
   "execution_count": 36,
   "id": "000dc109-b1b6-4daa-9840-9a060bfb155c",
   "metadata": {},
   "outputs": [
    {
     "data": {
      "text/html": [
       "'Correlation for all predictions: 0.557023917645834'"
      ],
      "text/latex": [
       "'Correlation for all predictions: 0.557023917645834'"
      ],
      "text/markdown": [
       "'Correlation for all predictions: 0.557023917645834'"
      ],
      "text/plain": [
       "[1] \"Correlation for all predictions: 0.557023917645834\""
      ]
     },
     "metadata": {},
     "output_type": "display_data"
    },
    {
     "data": {
      "text/html": [
       "'Correlation for controls: 0.56727039556448'"
      ],
      "text/latex": [
       "'Correlation for controls: 0.56727039556448'"
      ],
      "text/markdown": [
       "'Correlation for controls: 0.56727039556448'"
      ],
      "text/plain": [
       "[1] \"Correlation for controls: 0.56727039556448\""
      ]
     },
     "metadata": {},
     "output_type": "display_data"
    }
   ],
   "source": [
    "cor_all = cor(lasso_pred_formatted$ATAC_observed, lasso_pred_formatted$ATAC_prediction)\n",
    "cor_control  = cor(lasso_pred_formatted_controls$ATAC_observed, lasso_pred_formatted_controls$ATAC_prediction)\n",
    "\n",
    "paste(\"Correlation for all predictions: \", cor_all, sep = \"\")\n",
    "paste(\"Correlation for controls: \", cor_control, sep = \"\")"
   ]
  },
  {
   "cell_type": "markdown",
   "id": "da941203-5c3e-4c2d-8988-7aad3bcfba59",
   "metadata": {},
   "source": [
    "## Gaussian smoothed and trimmed individuals, lasso std = TRUE"
   ]
  },
  {
   "cell_type": "code",
   "execution_count": 37,
   "id": "7e856349-3c85-4d3b-87fc-ab22e5406d88",
   "metadata": {},
   "outputs": [],
   "source": [
    "lasso_pred <- read.csv(\"../data/all_samples_train_ATAC_predictions_on_all_samples/all_samples_ATAC_pred_lasso_std_TRUE_gaussian_trimmed_formatted_standardized.csv\")\n",
    "lasso_pred_formatted <- format_input(lasso_pred)\n",
    "lasso_pred_formatted_controls <- get_controls(lasso_pred_formatted)"
   ]
  },
  {
   "cell_type": "code",
   "execution_count": 38,
   "id": "60985a92-e007-4243-96f6-b5decae60b7b",
   "metadata": {},
   "outputs": [
    {
     "data": {
      "text/html": [
       "'Correlation for all predictions: 0.557054023433835'"
      ],
      "text/latex": [
       "'Correlation for all predictions: 0.557054023433835'"
      ],
      "text/markdown": [
       "'Correlation for all predictions: 0.557054023433835'"
      ],
      "text/plain": [
       "[1] \"Correlation for all predictions: 0.557054023433835\""
      ]
     },
     "metadata": {},
     "output_type": "display_data"
    },
    {
     "data": {
      "text/html": [
       "'Correlation for controls: 0.56685981092802'"
      ],
      "text/latex": [
       "'Correlation for controls: 0.56685981092802'"
      ],
      "text/markdown": [
       "'Correlation for controls: 0.56685981092802'"
      ],
      "text/plain": [
       "[1] \"Correlation for controls: 0.56685981092802\""
      ]
     },
     "metadata": {},
     "output_type": "display_data"
    }
   ],
   "source": [
    "cor_all = cor(lasso_pred_formatted$ATAC_observed, lasso_pred_formatted$ATAC_prediction)\n",
    "cor_control  = cor(lasso_pred_formatted_controls$ATAC_observed, lasso_pred_formatted_controls$ATAC_prediction)\n",
    "\n",
    "paste(\"Correlation for all predictions: \", cor_all, sep = \"\")\n",
    "paste(\"Correlation for controls: \", cor_control, sep = \"\")"
   ]
  }
 ],
 "metadata": {
  "kernelspec": {
   "display_name": "R",
   "language": "R",
   "name": "ir"
  },
  "language_info": {
   "codemirror_mode": "r",
   "file_extension": ".r",
   "mimetype": "text/x-r-source",
   "name": "R",
   "pygments_lexer": "r",
   "version": "3.6.1"
  }
 },
 "nbformat": 4,
 "nbformat_minor": 5
}
