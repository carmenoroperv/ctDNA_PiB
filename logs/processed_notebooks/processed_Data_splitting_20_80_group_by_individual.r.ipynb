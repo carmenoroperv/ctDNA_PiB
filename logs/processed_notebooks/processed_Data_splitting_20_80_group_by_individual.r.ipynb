{
 "cells": [
  {
   "cell_type": "code",
   "execution_count": 1,
   "id": "c6d320b5",
   "metadata": {
    "execution": {
     "iopub.execute_input": "2021-10-17T16:58:33.283904Z",
     "iopub.status.busy": "2021-10-17T16:58:33.280406Z",
     "iopub.status.idle": "2021-10-17T16:58:33.344943Z",
     "shell.execute_reply": "2021-10-17T16:58:33.344510Z"
    },
    "tags": [
     "snakemake-job-properties"
    ]
   },
   "outputs": [],
   "source": [
    "\n",
    "######## snakemake preamble start (automatically inserted, do not edit) ########\n",
    "library(methods)\n",
    "Snakemake <- setClass(\n",
    "    \"Snakemake\",\n",
    "    slots = c(\n",
    "        input = \"list\",\n",
    "        output = \"list\",\n",
    "        params = \"list\",\n",
    "        wildcards = \"list\",\n",
    "        threads = \"numeric\",\n",
    "        log = \"list\",\n",
    "        resources = \"list\",\n",
    "        config = \"list\",\n",
    "        rule = \"character\",\n",
    "        bench_iteration = \"numeric\",\n",
    "        scriptdir = \"character\",\n",
    "        source = \"function\"\n",
    "    )\n",
    ")\n",
    "snakemake <- Snakemake(\n",
    "    input = list('data/cases_controls/cases_controls_rds_format/all_samples_normalized_gaussian_smooth_CONTROLS.rds', 'data/cases_controls/cases_controls_rds_format/all_samples_normalized_CONTROLS.rds', 'data/cases_controls/cases_controls_rds_format/all_samples_normalized_gaussian_smooth_trimmed_CONTROLS.rds', \"input_std_LASSO_TRAIN_DATA\" = 'data/cases_controls/cases_controls_rds_format/all_samples_normalized_gaussian_smooth_CONTROLS.rds', \"input_smooth_LASSO_TRAIN_DATA\" = 'data/cases_controls/cases_controls_rds_format/all_samples_normalized_CONTROLS.rds', \"input_trim_LASSO_TRAIN_DATA\" = 'data/cases_controls/cases_controls_rds_format/all_samples_normalized_gaussian_smooth_trimmed_CONTROLS.rds'),\n",
    "    output = list('data/20_80_splits_group_by_ind/20_all_samples_normalized_gaussian_smooth_CONTROLS.rds', 'data/20_80_splits_group_by_ind/80_all_samples_normalized_gaussian_smooth_CONTROLS.rds', 'data/20_80_splits_group_by_ind/20_all_samples_normalized_CONTROLS.rds', 'data/20_80_splits_group_by_ind/80_all_samples_normalized_CONTROLS.rds', 'data/20_80_splits_group_by_ind/20_all_samples_normalized_gaussian_smooth_trimmed_CONTROLS.rds', 'data/20_80_splits_group_by_ind/80_all_samples_normalized_gaussian_smooth_trimmed_CONTROLS.rds', \"OUTPUT_std_LASSO_DATA_20\" = 'data/20_80_splits_group_by_ind/20_all_samples_normalized_gaussian_smooth_CONTROLS.rds', \"OUTPUT_std_LASSO_DATA_80\" = 'data/20_80_splits_group_by_ind/80_all_samples_normalized_gaussian_smooth_CONTROLS.rds', \"OUTPUT_smooth_LASSO_DATA_20\" = 'data/20_80_splits_group_by_ind/20_all_samples_normalized_CONTROLS.rds', \"OUTPUT_smooth_LASSO_DATA_80\" = 'data/20_80_splits_group_by_ind/80_all_samples_normalized_CONTROLS.rds', \"OUTPUT_trim_LASSO_DATA_20\" = 'data/20_80_splits_group_by_ind/20_all_samples_normalized_gaussian_smooth_trimmed_CONTROLS.rds', \"OUTPUT_trim_LASSO_DATA_80\" = 'data/20_80_splits_group_by_ind/80_all_samples_normalized_gaussian_smooth_trimmed_CONTROLS.rds'),\n",
    "    params = list(),\n",
    "    wildcards = list(),\n",
    "    threads = 3,\n",
    "    log = list('logs/processed_notebooks/processed_Data_splitting_20_80_group_by_individual.r.ipynb', \"notebook\" = 'logs/processed_notebooks/processed_Data_splitting_20_80_group_by_individual.r.ipynb'),\n",
    "    resources = list('mem_mb', 'disk_mb', 'tmpdir', 'time', \"mem_mb\" = 200000, \"disk_mb\" = 29296, \"tmpdir\" = '/scratch/56079982', \"time\" = '5:00:00'),\n",
    "    config = list(),\n",
    "    rule = 'splitting_group_by_individual',\n",
    "    bench_iteration = as.numeric(NA),\n",
    "    scriptdir = '/faststorage/project/DELFI1/Workspaces/CarmenAndAnika/20_80_experiments',\n",
    "    source = function(...){\n",
    "        wd <- getwd()\n",
    "        setwd(snakemake@scriptdir)\n",
    "        source(...)\n",
    "        setwd(wd)\n",
    "    }\n",
    ")\n",
    "setwd('/faststorage/project/DELFI1/Workspaces/CarmenAndAnika');\n",
    "\n",
    "######## snakemake preamble end #########\n"
   ]
  },
  {
   "cell_type": "code",
   "execution_count": 2,
   "id": "def54471-7559-4285-bdd5-a919578fbef8",
   "metadata": {
    "execution": {
     "iopub.execute_input": "2021-10-17T16:58:33.423118Z",
     "iopub.status.busy": "2021-10-17T16:58:33.346740Z",
     "iopub.status.idle": "2021-10-17T16:58:34.539200Z",
     "shell.execute_reply": "2021-10-17T16:58:34.538576Z"
    }
   },
   "outputs": [
    {
     "name": "stderr",
     "output_type": "stream",
     "text": [
      "Registered S3 methods overwritten by 'ggplot2':\n",
      "  method         from \n",
      "  [.quosures     rlang\n",
      "  c.quosures     rlang\n",
      "  print.quosures rlang\n",
      "Registered S3 method overwritten by 'rvest':\n",
      "  method            from\n",
      "  read_xml.response xml2\n",
      "── Attaching packages ─────────────────────────────────────── tidyverse 1.2.1 ──\n",
      "✔ ggplot2 3.1.1     ✔ purrr   0.3.2\n",
      "✔ tibble  3.1.5     ✔ dplyr   1.0.7\n",
      "✔ tidyr   1.1.4     ✔ stringr 1.4.0\n",
      "✔ readr   1.3.1     ✔ forcats 0.4.0\n",
      "── Conflicts ────────────────────────────────────────── tidyverse_conflicts() ──\n",
      "✖ dplyr::filter() masks stats::filter()\n",
      "✖ dplyr::lag()    masks stats::lag()\n"
     ]
    }
   ],
   "source": [
    "library(tidyverse)"
   ]
  },
  {
   "cell_type": "code",
   "execution_count": 3,
   "id": "03ca9aa9-dea6-439f-8134-f5874aee561b",
   "metadata": {
    "execution": {
     "iopub.execute_input": "2021-10-17T16:58:34.545234Z",
     "iopub.status.busy": "2021-10-17T16:58:34.544322Z",
     "iopub.status.idle": "2021-10-17T17:06:28.694748Z",
     "shell.execute_reply": "2021-10-17T17:06:28.694400Z"
    }
   },
   "outputs": [],
   "source": [
    "INPUT_std_LASSO_TRAIN_DATA = readRDS(snakemake@input[[\"input_std_LASSO_TRAIN_DATA\"]])\n",
    " \n",
    "INPUT_smooth_LASSO_TRAIN_DATA = readRDS(snakemake@input[[\"input_smooth_LASSO_TRAIN_DATA\"]])\n",
    "\n",
    "INPUT_trim_LASSO_TRAIN_DATA = readRDS(snakemake@input[[\"input_trim_LASSO_TRAIN_DATA\"]])"
   ]
  },
  {
   "cell_type": "code",
   "execution_count": 4,
   "id": "3d99e560-a93a-413b-aa87-b3219da80ccf",
   "metadata": {
    "execution": {
     "iopub.execute_input": "2021-10-17T17:06:28.714617Z",
     "iopub.status.busy": "2021-10-17T17:06:28.713997Z",
     "iopub.status.idle": "2021-10-17T17:06:28.738084Z",
     "shell.execute_reply": "2021-10-17T17:06:28.737379Z"
    }
   },
   "outputs": [
    {
     "data": {
      "text/html": [
       "<table>\n",
       "<thead><tr><th scope=col>sample</th><th scope=col>bin</th><th scope=col>X30</th><th scope=col>X31</th><th scope=col>X32</th><th scope=col>X33</th><th scope=col>X34</th><th scope=col>X35</th><th scope=col>X36</th><th scope=col>X37</th><th scope=col>...</th><th scope=col>X691</th><th scope=col>X692</th><th scope=col>X693</th><th scope=col>X694</th><th scope=col>X695</th><th scope=col>X696</th><th scope=col>X697</th><th scope=col>X698</th><th scope=col>X699</th><th scope=col>X700</th></tr></thead>\n",
       "<tbody>\n",
       "\t<tr><td>PGDX16568P</td><td>chr10_400 </td><td>0         </td><td>0         </td><td>0         </td><td>0         </td><td>0         </td><td>0         </td><td>0         </td><td>0         </td><td>...       </td><td>0         </td><td>0         </td><td>0         </td><td>0         </td><td>0         </td><td>0         </td><td>0         </td><td>0         </td><td>0         </td><td>0         </td></tr>\n",
       "\t<tr><td>PGDX16568P</td><td>chr10_40  </td><td>0         </td><td>0         </td><td>0         </td><td>0         </td><td>0         </td><td>0         </td><td>0         </td><td>0         </td><td>...       </td><td>0         </td><td>0         </td><td>0         </td><td>0         </td><td>0         </td><td>0         </td><td>0         </td><td>0         </td><td>0         </td><td>0         </td></tr>\n",
       "\t<tr><td>PGDX16568P</td><td>chr10_4   </td><td>0         </td><td>0         </td><td>0         </td><td>0         </td><td>0         </td><td>0         </td><td>0         </td><td>0         </td><td>...       </td><td>0         </td><td>0         </td><td>0         </td><td>0         </td><td>0         </td><td>0         </td><td>0         </td><td>0         </td><td>0         </td><td>0         </td></tr>\n",
       "\t<tr><td>PGDX16568P</td><td>chr10_401 </td><td>0         </td><td>0         </td><td>0         </td><td>0         </td><td>0         </td><td>0         </td><td>0         </td><td>0         </td><td>...       </td><td>0         </td><td>0         </td><td>0         </td><td>0         </td><td>0         </td><td>0         </td><td>0         </td><td>0         </td><td>0         </td><td>0         </td></tr>\n",
       "\t<tr><td>PGDX16568P</td><td>chr10_402 </td><td>0         </td><td>0         </td><td>0         </td><td>0         </td><td>0         </td><td>0         </td><td>0         </td><td>0         </td><td>...       </td><td>0         </td><td>0         </td><td>0         </td><td>0         </td><td>0         </td><td>0         </td><td>0         </td><td>0         </td><td>0         </td><td>0         </td></tr>\n",
       "\t<tr><td>PGDX16568P</td><td>chr10_403 </td><td>0         </td><td>0         </td><td>0         </td><td>0         </td><td>0         </td><td>0         </td><td>0         </td><td>0         </td><td>...       </td><td>0         </td><td>0         </td><td>0         </td><td>0         </td><td>0         </td><td>0         </td><td>0         </td><td>0         </td><td>0         </td><td>0         </td></tr>\n",
       "</tbody>\n",
       "</table>\n"
      ],
      "text/latex": [
       "\\begin{tabular}{r|lllllllllllllllllllllllllllllllllllllllllllllllllllllllllllllllllllllllllllllllllllllllllllllllllllllllllllllllllllllllllllllllllllllllllllllllllllllllllllllllllllllllllllllllllllllllllllllllllllllllllllllllllllllllllllllllllllllllllllllllllllllllllllllllllllllllllllllllllllllllllllllllllllllllllllllllllllllllllllllllllllllllllllllllllllllllllllllllllllllllllllllllllllllllllllllllllllllllllllllllllllllllllllllllllllllllllllllllllllllllllllllllllllllllllllllllllllllllllllllllllllllllllllllllllllllllllllllllllllllllllllllllllllllllllllllllllllllllllllllllllllllllllllllllllllllllllllllllllllllllllllllllllllllllllllllllllllllllllllllllllllllllllllllllllllllllllllllllll}\n",
       " sample & bin & X30 & X31 & X32 & X33 & X34 & X35 & X36 & X37 & ... & X691 & X692 & X693 & X694 & X695 & X696 & X697 & X698 & X699 & X700\\\\\n",
       "\\hline\n",
       "\t PGDX16568P  & chr10\\_400 & 0           & 0           & 0           & 0           & 0           & 0           & 0           & 0           & ...         & 0           & 0           & 0           & 0           & 0           & 0           & 0           & 0           & 0           & 0          \\\\\n",
       "\t PGDX16568P  & chr10\\_40  & 0           & 0           & 0           & 0           & 0           & 0           & 0           & 0           & ...         & 0           & 0           & 0           & 0           & 0           & 0           & 0           & 0           & 0           & 0          \\\\\n",
       "\t PGDX16568P  & chr10\\_4   & 0           & 0           & 0           & 0           & 0           & 0           & 0           & 0           & ...         & 0           & 0           & 0           & 0           & 0           & 0           & 0           & 0           & 0           & 0          \\\\\n",
       "\t PGDX16568P  & chr10\\_401 & 0           & 0           & 0           & 0           & 0           & 0           & 0           & 0           & ...         & 0           & 0           & 0           & 0           & 0           & 0           & 0           & 0           & 0           & 0          \\\\\n",
       "\t PGDX16568P  & chr10\\_402 & 0           & 0           & 0           & 0           & 0           & 0           & 0           & 0           & ...         & 0           & 0           & 0           & 0           & 0           & 0           & 0           & 0           & 0           & 0          \\\\\n",
       "\t PGDX16568P  & chr10\\_403 & 0           & 0           & 0           & 0           & 0           & 0           & 0           & 0           & ...         & 0           & 0           & 0           & 0           & 0           & 0           & 0           & 0           & 0           & 0          \\\\\n",
       "\\end{tabular}\n"
      ],
      "text/markdown": [
       "\n",
       "| sample | bin | X30 | X31 | X32 | X33 | X34 | X35 | X36 | X37 | ... | X691 | X692 | X693 | X694 | X695 | X696 | X697 | X698 | X699 | X700 |\n",
       "|---|---|---|---|---|---|---|---|---|---|---|---|---|---|---|---|---|---|---|---|---|\n",
       "| PGDX16568P | chr10_400  | 0          | 0          | 0          | 0          | 0          | 0          | 0          | 0          | ...        | 0          | 0          | 0          | 0          | 0          | 0          | 0          | 0          | 0          | 0          |\n",
       "| PGDX16568P | chr10_40   | 0          | 0          | 0          | 0          | 0          | 0          | 0          | 0          | ...        | 0          | 0          | 0          | 0          | 0          | 0          | 0          | 0          | 0          | 0          |\n",
       "| PGDX16568P | chr10_4    | 0          | 0          | 0          | 0          | 0          | 0          | 0          | 0          | ...        | 0          | 0          | 0          | 0          | 0          | 0          | 0          | 0          | 0          | 0          |\n",
       "| PGDX16568P | chr10_401  | 0          | 0          | 0          | 0          | 0          | 0          | 0          | 0          | ...        | 0          | 0          | 0          | 0          | 0          | 0          | 0          | 0          | 0          | 0          |\n",
       "| PGDX16568P | chr10_402  | 0          | 0          | 0          | 0          | 0          | 0          | 0          | 0          | ...        | 0          | 0          | 0          | 0          | 0          | 0          | 0          | 0          | 0          | 0          |\n",
       "| PGDX16568P | chr10_403  | 0          | 0          | 0          | 0          | 0          | 0          | 0          | 0          | ...        | 0          | 0          | 0          | 0          | 0          | 0          | 0          | 0          | 0          | 0          |\n",
       "\n"
      ],
      "text/plain": [
       "  sample     bin       X30 X31 X32 X33 X34 X35 X36 X37 ... X691 X692 X693 X694\n",
       "1 PGDX16568P chr10_400 0   0   0   0   0   0   0   0   ... 0    0    0    0   \n",
       "2 PGDX16568P chr10_40  0   0   0   0   0   0   0   0   ... 0    0    0    0   \n",
       "3 PGDX16568P chr10_4   0   0   0   0   0   0   0   0   ... 0    0    0    0   \n",
       "4 PGDX16568P chr10_401 0   0   0   0   0   0   0   0   ... 0    0    0    0   \n",
       "5 PGDX16568P chr10_402 0   0   0   0   0   0   0   0   ... 0    0    0    0   \n",
       "6 PGDX16568P chr10_403 0   0   0   0   0   0   0   0   ... 0    0    0    0   \n",
       "  X695 X696 X697 X698 X699 X700\n",
       "1 0    0    0    0    0    0   \n",
       "2 0    0    0    0    0    0   \n",
       "3 0    0    0    0    0    0   \n",
       "4 0    0    0    0    0    0   \n",
       "5 0    0    0    0    0    0   \n",
       "6 0    0    0    0    0    0   "
      ]
     },
     "metadata": {},
     "output_type": "display_data"
    }
   ],
   "source": [
    "head(INPUT_std_LASSO_TRAIN_DATA)"
   ]
  },
  {
   "cell_type": "code",
   "execution_count": 5,
   "id": "12784d9c-af30-48e3-affd-ff21e87d93aa",
   "metadata": {
    "execution": {
     "iopub.execute_input": "2021-10-17T17:06:28.740986Z",
     "iopub.status.busy": "2021-10-17T17:06:28.740121Z",
     "iopub.status.idle": "2021-10-17T17:06:33.154152Z",
     "shell.execute_reply": "2021-10-17T17:06:33.153477Z"
    }
   },
   "outputs": [
    {
     "data": {
      "text/html": [
       "<table>\n",
       "<thead><tr><th scope=col>Unique_Elements</th></tr></thead>\n",
       "<tbody>\n",
       "\t<tr><td>243</td></tr>\n",
       "</tbody>\n",
       "</table>\n"
      ],
      "text/latex": [
       "\\begin{tabular}{r|l}\n",
       " Unique\\_Elements\\\\\n",
       "\\hline\n",
       "\t 243\\\\\n",
       "\\end{tabular}\n"
      ],
      "text/markdown": [
       "\n",
       "| Unique_Elements |\n",
       "|---|\n",
       "| 243 |\n",
       "\n"
      ],
      "text/plain": [
       "  Unique_Elements\n",
       "1 243            "
      ]
     },
     "metadata": {},
     "output_type": "display_data"
    },
    {
     "data": {
      "text/html": [
       "243"
      ],
      "text/latex": [
       "243"
      ],
      "text/markdown": [
       "243"
      ],
      "text/plain": [
       "[1] 243"
      ]
     },
     "metadata": {},
     "output_type": "display_data"
    },
    {
     "data": {
      "text/html": [
       "<ol class=list-inline>\n",
       "\t<li>2503629</li>\n",
       "\t<li>673</li>\n",
       "</ol>\n"
      ],
      "text/latex": [
       "\\begin{enumerate*}\n",
       "\\item 2503629\n",
       "\\item 673\n",
       "\\end{enumerate*}\n"
      ],
      "text/markdown": [
       "1. 2503629\n",
       "2. 673\n",
       "\n",
       "\n"
      ],
      "text/plain": [
       "[1] 2503629     673"
      ]
     },
     "metadata": {},
     "output_type": "display_data"
    },
    {
     "data": {
      "text/html": [
       "<ol class=list-inline>\n",
       "\t<li>504847</li>\n",
       "\t<li>673</li>\n",
       "</ol>\n"
      ],
      "text/latex": [
       "\\begin{enumerate*}\n",
       "\\item 504847\n",
       "\\item 673\n",
       "\\end{enumerate*}\n"
      ],
      "text/markdown": [
       "1. 504847\n",
       "2. 673\n",
       "\n",
       "\n"
      ],
      "text/plain": [
       "[1] 504847    673"
      ]
     },
     "metadata": {},
     "output_type": "display_data"
    },
    {
     "data": {
      "text/html": [
       "<ol class=list-inline>\n",
       "\t<li>1998782</li>\n",
       "\t<li>673</li>\n",
       "</ol>\n"
      ],
      "text/latex": [
       "\\begin{enumerate*}\n",
       "\\item 1998782\n",
       "\\item 673\n",
       "\\end{enumerate*}\n"
      ],
      "text/markdown": [
       "1. 1998782\n",
       "2. 673\n",
       "\n",
       "\n"
      ],
      "text/plain": [
       "[1] 1998782     673"
      ]
     },
     "metadata": {},
     "output_type": "display_data"
    }
   ],
   "source": [
    "INPUT_std_LASSO_TRAIN_DATA %>%             \n",
    "  summarise(Unique_Elements = n_distinct(sample))\n",
    "\n",
    "ind_list = INPUT_std_LASSO_TRAIN_DATA %>% distinct(sample)\n",
    "ind_list = ind_list$sample\n",
    "length(ind_list)\n",
    "\n",
    "training <- sample(ind_list, 194, replace = FALSE)\n",
    "\n",
    "std_LASSO_train_20 <- INPUT_std_LASSO_TRAIN_DATA %>% filter(!sample %in% training)\n",
    "std_LASSO_test_80 <- INPUT_std_LASSO_TRAIN_DATA %>% filter(sample %in% training)\n",
    "\n",
    "dim(INPUT_std_LASSO_TRAIN_DATA)\n",
    "dim(std_LASSO_train_20)\n",
    "dim(std_LASSO_test_80)"
   ]
  },
  {
   "cell_type": "code",
   "execution_count": 6,
   "id": "a7e9597e-1698-4ada-a915-15479d692e88",
   "metadata": {
    "execution": {
     "iopub.execute_input": "2021-10-17T17:06:33.156537Z",
     "iopub.status.busy": "2021-10-17T17:06:33.155837Z",
     "iopub.status.idle": "2021-10-17T17:15:50.584540Z",
     "shell.execute_reply": "2021-10-17T17:15:50.583890Z"
    }
   },
   "outputs": [],
   "source": [
    "saveRDS(std_LASSO_test_80, file = snakemake@output[[\"OUTPUT_std_LASSO_DATA_80\"]])\n",
    "saveRDS(std_LASSO_train_20, file = snakemake@output[[\"OUTPUT_std_LASSO_DATA_20\"]])"
   ]
  },
  {
   "cell_type": "code",
   "execution_count": 7,
   "id": "5cbf60fb-85c3-491c-806d-db69318cd4a0",
   "metadata": {
    "execution": {
     "iopub.execute_input": "2021-10-17T17:15:50.612489Z",
     "iopub.status.busy": "2021-10-17T17:15:50.611787Z",
     "iopub.status.idle": "2021-10-17T17:15:50.635895Z",
     "shell.execute_reply": "2021-10-17T17:15:50.635081Z"
    }
   },
   "outputs": [
    {
     "data": {
      "text/html": [
       "<table>\n",
       "<thead><tr><th scope=col>sample</th><th scope=col>bin</th><th scope=col>X30</th><th scope=col>X31</th><th scope=col>X32</th><th scope=col>X33</th><th scope=col>X34</th><th scope=col>X35</th><th scope=col>X36</th><th scope=col>X37</th><th scope=col>...</th><th scope=col>X691</th><th scope=col>X692</th><th scope=col>X693</th><th scope=col>X694</th><th scope=col>X695</th><th scope=col>X696</th><th scope=col>X697</th><th scope=col>X698</th><th scope=col>X699</th><th scope=col>X700</th></tr></thead>\n",
       "<tbody>\n",
       "\t<tr><td>PGDX16568P</td><td>chr10_400 </td><td>0         </td><td>0         </td><td>0         </td><td>0         </td><td>0         </td><td>0         </td><td>0         </td><td>0         </td><td>...       </td><td>0         </td><td>0         </td><td>0         </td><td>0         </td><td>0         </td><td>0         </td><td>0         </td><td>0         </td><td>0         </td><td>0         </td></tr>\n",
       "\t<tr><td>PGDX16568P</td><td>chr10_40  </td><td>0         </td><td>0         </td><td>0         </td><td>0         </td><td>0         </td><td>0         </td><td>0         </td><td>0         </td><td>...       </td><td>0         </td><td>0         </td><td>0         </td><td>0         </td><td>0         </td><td>0         </td><td>0         </td><td>0         </td><td>0         </td><td>0         </td></tr>\n",
       "\t<tr><td>PGDX16568P</td><td>chr10_4   </td><td>0         </td><td>0         </td><td>0         </td><td>0         </td><td>0         </td><td>0         </td><td>0         </td><td>0         </td><td>...       </td><td>0         </td><td>0         </td><td>0         </td><td>0         </td><td>0         </td><td>0         </td><td>0         </td><td>0         </td><td>0         </td><td>0         </td></tr>\n",
       "\t<tr><td>PGDX16568P</td><td>chr10_401 </td><td>0         </td><td>0         </td><td>0         </td><td>0         </td><td>0         </td><td>0         </td><td>0         </td><td>0         </td><td>...       </td><td>0         </td><td>0         </td><td>0         </td><td>0         </td><td>0         </td><td>0         </td><td>0         </td><td>0         </td><td>0         </td><td>0         </td></tr>\n",
       "\t<tr><td>PGDX16568P</td><td>chr10_402 </td><td>0         </td><td>0         </td><td>0         </td><td>0         </td><td>0         </td><td>0         </td><td>0         </td><td>0         </td><td>...       </td><td>0         </td><td>0         </td><td>0         </td><td>0         </td><td>0         </td><td>0         </td><td>0         </td><td>0         </td><td>0         </td><td>0         </td></tr>\n",
       "\t<tr><td>PGDX16568P</td><td>chr10_403 </td><td>0         </td><td>0         </td><td>0         </td><td>0         </td><td>0         </td><td>0         </td><td>0         </td><td>0         </td><td>...       </td><td>0         </td><td>0         </td><td>0         </td><td>0         </td><td>0         </td><td>0         </td><td>0         </td><td>0         </td><td>0         </td><td>0         </td></tr>\n",
       "</tbody>\n",
       "</table>\n"
      ],
      "text/latex": [
       "\\begin{tabular}{r|lllllllllllllllllllllllllllllllllllllllllllllllllllllllllllllllllllllllllllllllllllllllllllllllllllllllllllllllllllllllllllllllllllllllllllllllllllllllllllllllllllllllllllllllllllllllllllllllllllllllllllllllllllllllllllllllllllllllllllllllllllllllllllllllllllllllllllllllllllllllllllllllllllllllllllllllllllllllllllllllllllllllllllllllllllllllllllllllllllllllllllllllllllllllllllllllllllllllllllllllllllllllllllllllllllllllllllllllllllllllllllllllllllllllllllllllllllllllllllllllllllllllllllllllllllllllllllllllllllllllllllllllllllllllllllllllllllllllllllllllllllllllllllllllllllllllllllllllllllllllllllllllllllllllllllllllllllllllllllllllllllllllllllllllllllllllllllllllll}\n",
       " sample & bin & X30 & X31 & X32 & X33 & X34 & X35 & X36 & X37 & ... & X691 & X692 & X693 & X694 & X695 & X696 & X697 & X698 & X699 & X700\\\\\n",
       "\\hline\n",
       "\t PGDX16568P  & chr10\\_400 & 0           & 0           & 0           & 0           & 0           & 0           & 0           & 0           & ...         & 0           & 0           & 0           & 0           & 0           & 0           & 0           & 0           & 0           & 0          \\\\\n",
       "\t PGDX16568P  & chr10\\_40  & 0           & 0           & 0           & 0           & 0           & 0           & 0           & 0           & ...         & 0           & 0           & 0           & 0           & 0           & 0           & 0           & 0           & 0           & 0          \\\\\n",
       "\t PGDX16568P  & chr10\\_4   & 0           & 0           & 0           & 0           & 0           & 0           & 0           & 0           & ...         & 0           & 0           & 0           & 0           & 0           & 0           & 0           & 0           & 0           & 0          \\\\\n",
       "\t PGDX16568P  & chr10\\_401 & 0           & 0           & 0           & 0           & 0           & 0           & 0           & 0           & ...         & 0           & 0           & 0           & 0           & 0           & 0           & 0           & 0           & 0           & 0          \\\\\n",
       "\t PGDX16568P  & chr10\\_402 & 0           & 0           & 0           & 0           & 0           & 0           & 0           & 0           & ...         & 0           & 0           & 0           & 0           & 0           & 0           & 0           & 0           & 0           & 0          \\\\\n",
       "\t PGDX16568P  & chr10\\_403 & 0           & 0           & 0           & 0           & 0           & 0           & 0           & 0           & ...         & 0           & 0           & 0           & 0           & 0           & 0           & 0           & 0           & 0           & 0          \\\\\n",
       "\\end{tabular}\n"
      ],
      "text/markdown": [
       "\n",
       "| sample | bin | X30 | X31 | X32 | X33 | X34 | X35 | X36 | X37 | ... | X691 | X692 | X693 | X694 | X695 | X696 | X697 | X698 | X699 | X700 |\n",
       "|---|---|---|---|---|---|---|---|---|---|---|---|---|---|---|---|---|---|---|---|---|\n",
       "| PGDX16568P | chr10_400  | 0          | 0          | 0          | 0          | 0          | 0          | 0          | 0          | ...        | 0          | 0          | 0          | 0          | 0          | 0          | 0          | 0          | 0          | 0          |\n",
       "| PGDX16568P | chr10_40   | 0          | 0          | 0          | 0          | 0          | 0          | 0          | 0          | ...        | 0          | 0          | 0          | 0          | 0          | 0          | 0          | 0          | 0          | 0          |\n",
       "| PGDX16568P | chr10_4    | 0          | 0          | 0          | 0          | 0          | 0          | 0          | 0          | ...        | 0          | 0          | 0          | 0          | 0          | 0          | 0          | 0          | 0          | 0          |\n",
       "| PGDX16568P | chr10_401  | 0          | 0          | 0          | 0          | 0          | 0          | 0          | 0          | ...        | 0          | 0          | 0          | 0          | 0          | 0          | 0          | 0          | 0          | 0          |\n",
       "| PGDX16568P | chr10_402  | 0          | 0          | 0          | 0          | 0          | 0          | 0          | 0          | ...        | 0          | 0          | 0          | 0          | 0          | 0          | 0          | 0          | 0          | 0          |\n",
       "| PGDX16568P | chr10_403  | 0          | 0          | 0          | 0          | 0          | 0          | 0          | 0          | ...        | 0          | 0          | 0          | 0          | 0          | 0          | 0          | 0          | 0          | 0          |\n",
       "\n"
      ],
      "text/plain": [
       "  sample     bin       X30 X31 X32 X33 X34 X35 X36 X37 ... X691 X692 X693 X694\n",
       "1 PGDX16568P chr10_400 0   0   0   0   0   0   0   0   ... 0    0    0    0   \n",
       "2 PGDX16568P chr10_40  0   0   0   0   0   0   0   0   ... 0    0    0    0   \n",
       "3 PGDX16568P chr10_4   0   0   0   0   0   0   0   0   ... 0    0    0    0   \n",
       "4 PGDX16568P chr10_401 0   0   0   0   0   0   0   0   ... 0    0    0    0   \n",
       "5 PGDX16568P chr10_402 0   0   0   0   0   0   0   0   ... 0    0    0    0   \n",
       "6 PGDX16568P chr10_403 0   0   0   0   0   0   0   0   ... 0    0    0    0   \n",
       "  X695 X696 X697 X698 X699 X700\n",
       "1 0    0    0    0    0    0   \n",
       "2 0    0    0    0    0    0   \n",
       "3 0    0    0    0    0    0   \n",
       "4 0    0    0    0    0    0   \n",
       "5 0    0    0    0    0    0   \n",
       "6 0    0    0    0    0    0   "
      ]
     },
     "metadata": {},
     "output_type": "display_data"
    }
   ],
   "source": [
    "head(INPUT_smooth_LASSO_TRAIN_DATA)"
   ]
  },
  {
   "cell_type": "code",
   "execution_count": 8,
   "id": "fd93e039-84b2-4791-95ed-1c18efefd428",
   "metadata": {
    "execution": {
     "iopub.execute_input": "2021-10-17T17:15:50.638679Z",
     "iopub.status.busy": "2021-10-17T17:15:50.637838Z",
     "iopub.status.idle": "2021-10-17T17:15:54.935965Z",
     "shell.execute_reply": "2021-10-17T17:15:54.935302Z"
    }
   },
   "outputs": [
    {
     "data": {
      "text/html": [
       "<table>\n",
       "<thead><tr><th scope=col>Unique_Elements</th></tr></thead>\n",
       "<tbody>\n",
       "\t<tr><td>243</td></tr>\n",
       "</tbody>\n",
       "</table>\n"
      ],
      "text/latex": [
       "\\begin{tabular}{r|l}\n",
       " Unique\\_Elements\\\\\n",
       "\\hline\n",
       "\t 243\\\\\n",
       "\\end{tabular}\n"
      ],
      "text/markdown": [
       "\n",
       "| Unique_Elements |\n",
       "|---|\n",
       "| 243 |\n",
       "\n"
      ],
      "text/plain": [
       "  Unique_Elements\n",
       "1 243            "
      ]
     },
     "metadata": {},
     "output_type": "display_data"
    },
    {
     "data": {
      "text/html": [
       "243"
      ],
      "text/latex": [
       "243"
      ],
      "text/markdown": [
       "243"
      ],
      "text/plain": [
       "[1] 243"
      ]
     },
     "metadata": {},
     "output_type": "display_data"
    },
    {
     "data": {
      "text/html": [
       "<ol class=list-inline>\n",
       "\t<li>2503629</li>\n",
       "\t<li>673</li>\n",
       "</ol>\n"
      ],
      "text/latex": [
       "\\begin{enumerate*}\n",
       "\\item 2503629\n",
       "\\item 673\n",
       "\\end{enumerate*}\n"
      ],
      "text/markdown": [
       "1. 2503629\n",
       "2. 673\n",
       "\n",
       "\n"
      ],
      "text/plain": [
       "[1] 2503629     673"
      ]
     },
     "metadata": {},
     "output_type": "display_data"
    },
    {
     "data": {
      "text/html": [
       "<ol class=list-inline>\n",
       "\t<li>504847</li>\n",
       "\t<li>673</li>\n",
       "</ol>\n"
      ],
      "text/latex": [
       "\\begin{enumerate*}\n",
       "\\item 504847\n",
       "\\item 673\n",
       "\\end{enumerate*}\n"
      ],
      "text/markdown": [
       "1. 504847\n",
       "2. 673\n",
       "\n",
       "\n"
      ],
      "text/plain": [
       "[1] 504847    673"
      ]
     },
     "metadata": {},
     "output_type": "display_data"
    },
    {
     "data": {
      "text/html": [
       "<ol class=list-inline>\n",
       "\t<li>1998782</li>\n",
       "\t<li>673</li>\n",
       "</ol>\n"
      ],
      "text/latex": [
       "\\begin{enumerate*}\n",
       "\\item 1998782\n",
       "\\item 673\n",
       "\\end{enumerate*}\n"
      ],
      "text/markdown": [
       "1. 1998782\n",
       "2. 673\n",
       "\n",
       "\n"
      ],
      "text/plain": [
       "[1] 1998782     673"
      ]
     },
     "metadata": {},
     "output_type": "display_data"
    }
   ],
   "source": [
    "INPUT_smooth_LASSO_TRAIN_DATA %>%             \n",
    "  summarise(Unique_Elements = n_distinct(sample))\n",
    "\n",
    "ind_list2 = INPUT_smooth_LASSO_TRAIN_DATA %>% distinct(sample)\n",
    "ind_list2 = ind_list2$sample\n",
    "length(ind_list2)\n",
    "\n",
    "training2 <- sample(ind_list2, 194, replace = FALSE)\n",
    "\n",
    "smooth_LASSO_train_20 <- INPUT_smooth_LASSO_TRAIN_DATA %>% filter(!sample %in% training2)\n",
    "smooth_LASSO_test_80 <- INPUT_smooth_LASSO_TRAIN_DATA %>% filter(sample %in% training2)\n",
    "\n",
    "dim(INPUT_smooth_LASSO_TRAIN_DATA)\n",
    "dim(smooth_LASSO_train_20)\n",
    "dim(smooth_LASSO_test_80)"
   ]
  },
  {
   "cell_type": "code",
   "execution_count": 9,
   "id": "d0b3f2da-00eb-4850-b8ce-cd93a00e7cc6",
   "metadata": {
    "execution": {
     "iopub.execute_input": "2021-10-17T17:15:54.938419Z",
     "iopub.status.busy": "2021-10-17T17:15:54.937724Z",
     "iopub.status.idle": "2021-10-17T17:21:08.208539Z",
     "shell.execute_reply": "2021-10-17T17:21:08.207868Z"
    }
   },
   "outputs": [],
   "source": [
    "saveRDS(smooth_LASSO_test_80, file = snakemake@output[[\"OUTPUT_smooth_LASSO_DATA_80\"]])\n",
    "saveRDS(smooth_LASSO_train_20, file = snakemake@output[[\"OUTPUT_smooth_LASSO_DATA_20\"]])"
   ]
  },
  {
   "cell_type": "code",
   "execution_count": 10,
   "id": "13db224f-fc9d-4fab-8626-cf445b3f5df3",
   "metadata": {
    "execution": {
     "iopub.execute_input": "2021-10-17T17:21:08.225063Z",
     "iopub.status.busy": "2021-10-17T17:21:08.224235Z",
     "iopub.status.idle": "2021-10-17T17:21:08.246049Z",
     "shell.execute_reply": "2021-10-17T17:21:08.245279Z"
    }
   },
   "outputs": [
    {
     "data": {
      "text/html": [
       "<table>\n",
       "<thead><tr><th scope=col>sample</th><th scope=col>bin</th><th scope=col>X80</th><th scope=col>X81</th><th scope=col>X82</th><th scope=col>X83</th><th scope=col>X84</th><th scope=col>X85</th><th scope=col>X86</th><th scope=col>X87</th><th scope=col>...</th><th scope=col>X391</th><th scope=col>X392</th><th scope=col>X393</th><th scope=col>X394</th><th scope=col>X395</th><th scope=col>X396</th><th scope=col>X397</th><th scope=col>X398</th><th scope=col>X399</th><th scope=col>X400</th></tr></thead>\n",
       "<tbody>\n",
       "\t<tr><td>PGDX16568P  </td><td>chr10_400   </td><td>2.656112e-05</td><td>2.994814e-05</td><td>2.961085e-05</td><td>2.929903e-05</td><td>3.469718e-05</td><td>3.917019e-05</td><td>4.629696e-05</td><td>5.955899e-05</td><td>...         </td><td>1.797668e-04</td><td>1.753154e-04</td><td>1.569416e-04</td><td>0.0001385816</td><td>1.166854e-04</td><td>9.841735e-05</td><td>8.478873e-05</td><td>7.355554e-05</td><td>6.464917e-05</td><td>7.007278e-05</td></tr>\n",
       "\t<tr><td>PGDX16568P  </td><td>chr10_40    </td><td>2.639605e-05</td><td>3.960356e-05</td><td>5.284513e-05</td><td>6.279401e-05</td><td>6.650374e-05</td><td>6.279401e-05</td><td>5.284513e-05</td><td>3.960356e-05</td><td>...         </td><td>1.239199e-04</td><td>1.143096e-04</td><td>1.096515e-04</td><td>0.0001061073</td><td>1.087833e-04</td><td>1.047829e-04</td><td>9.925148e-05</td><td>8.919007e-05</td><td>7.883794e-05</td><td>7.639961e-05</td></tr>\n",
       "\t<tr><td>PGDX16568P  </td><td>chr10_4     </td><td>4.192713e-05</td><td>6.023358e-05</td><td>7.256827e-05</td><td>7.906282e-05</td><td>7.854465e-05</td><td>7.167697e-05</td><td>7.860718e-05</td><td>8.606324e-05</td><td>...         </td><td>1.251224e-04</td><td>1.238579e-04</td><td>1.192868e-04</td><td>0.0001246347</td><td>1.214730e-04</td><td>1.148990e-04</td><td>1.029420e-04</td><td>8.920670e-05</td><td>7.138334e-05</td><td>5.295770e-05</td></tr>\n",
       "\t<tr><td>PGDX16568P  </td><td>chr10_401   </td><td>0.000000e+00</td><td>0.000000e+00</td><td>0.000000e+00</td><td>5.920236e-06</td><td>1.073402e-05</td><td>1.705132e-05</td><td>3.557204e-05</td><td>5.040596e-05</td><td>...         </td><td>2.383188e-04</td><td>2.242108e-04</td><td>1.921067e-04</td><td>0.0001600517</td><td>1.301008e-04</td><td>1.037432e-04</td><td>8.040869e-05</td><td>7.337752e-05</td><td>8.314214e-05</td><td>8.566120e-05</td></tr>\n",
       "\t<tr><td>PGDX16568P  </td><td>chr10_402   </td><td>2.723749e-05</td><td>3.321301e-05</td><td>3.548313e-05</td><td>3.321301e-05</td><td>2.723749e-05</td><td>2.636520e-05</td><td>3.143441e-05</td><td>4.547983e-05</td><td>...         </td><td>3.955727e-05</td><td>3.316005e-05</td><td>2.463956e-05</td><td>0.0000263652</td><td>4.082719e-05</td><td>7.144226e-05</td><td>9.926339e-05</td><td>1.268287e-04</td><td>1.481385e-04</td><td>1.569626e-04</td></tr>\n",
       "\t<tr><td>PGDX16568P  </td><td>chr10_403   </td><td>3.026954e-05</td><td>3.233848e-05</td><td>3.026954e-05</td><td>2.482360e-05</td><td>1.783596e-05</td><td>1.122795e-05</td><td>1.857799e-05</td><td>2.245591e-05</td><td>...         </td><td>2.366995e-04</td><td>2.341484e-04</td><td>2.196942e-04</td><td>0.0002026050</td><td>1.707937e-04</td><td>1.339162e-04</td><td>9.654238e-05</td><td>6.627284e-05</td><td>4.648453e-05</td><td>3.525657e-05</td></tr>\n",
       "</tbody>\n",
       "</table>\n"
      ],
      "text/latex": [
       "\\begin{tabular}{r|lllllllllllllllllllllllllllllllllllllllllllllllllllllllllllllllllllllllllllllllllllllllllllllllllllllllllllllllllllllllllllllllllllllllllllllllllllllllllllllllllllllllllllllllllllllllllllllllllllllllllllllllllllllllllllllllllllllllllllllllllllllllllllllllllllllllllllllllllllllllllllllllllllllllllllllllllllllllllllllllllll}\n",
       " sample & bin & X80 & X81 & X82 & X83 & X84 & X85 & X86 & X87 & ... & X391 & X392 & X393 & X394 & X395 & X396 & X397 & X398 & X399 & X400\\\\\n",
       "\\hline\n",
       "\t PGDX16568P   & chr10\\_400  & 2.656112e-05 & 2.994814e-05 & 2.961085e-05 & 2.929903e-05 & 3.469718e-05 & 3.917019e-05 & 4.629696e-05 & 5.955899e-05 & ...          & 1.797668e-04 & 1.753154e-04 & 1.569416e-04 & 0.0001385816 & 1.166854e-04 & 9.841735e-05 & 8.478873e-05 & 7.355554e-05 & 6.464917e-05 & 7.007278e-05\\\\\n",
       "\t PGDX16568P   & chr10\\_40   & 2.639605e-05 & 3.960356e-05 & 5.284513e-05 & 6.279401e-05 & 6.650374e-05 & 6.279401e-05 & 5.284513e-05 & 3.960356e-05 & ...          & 1.239199e-04 & 1.143096e-04 & 1.096515e-04 & 0.0001061073 & 1.087833e-04 & 1.047829e-04 & 9.925148e-05 & 8.919007e-05 & 7.883794e-05 & 7.639961e-05\\\\\n",
       "\t PGDX16568P   & chr10\\_4    & 4.192713e-05 & 6.023358e-05 & 7.256827e-05 & 7.906282e-05 & 7.854465e-05 & 7.167697e-05 & 7.860718e-05 & 8.606324e-05 & ...          & 1.251224e-04 & 1.238579e-04 & 1.192868e-04 & 0.0001246347 & 1.214730e-04 & 1.148990e-04 & 1.029420e-04 & 8.920670e-05 & 7.138334e-05 & 5.295770e-05\\\\\n",
       "\t PGDX16568P   & chr10\\_401  & 0.000000e+00 & 0.000000e+00 & 0.000000e+00 & 5.920236e-06 & 1.073402e-05 & 1.705132e-05 & 3.557204e-05 & 5.040596e-05 & ...          & 2.383188e-04 & 2.242108e-04 & 1.921067e-04 & 0.0001600517 & 1.301008e-04 & 1.037432e-04 & 8.040869e-05 & 7.337752e-05 & 8.314214e-05 & 8.566120e-05\\\\\n",
       "\t PGDX16568P   & chr10\\_402  & 2.723749e-05 & 3.321301e-05 & 3.548313e-05 & 3.321301e-05 & 2.723749e-05 & 2.636520e-05 & 3.143441e-05 & 4.547983e-05 & ...          & 3.955727e-05 & 3.316005e-05 & 2.463956e-05 & 0.0000263652 & 4.082719e-05 & 7.144226e-05 & 9.926339e-05 & 1.268287e-04 & 1.481385e-04 & 1.569626e-04\\\\\n",
       "\t PGDX16568P   & chr10\\_403  & 3.026954e-05 & 3.233848e-05 & 3.026954e-05 & 2.482360e-05 & 1.783596e-05 & 1.122795e-05 & 1.857799e-05 & 2.245591e-05 & ...          & 2.366995e-04 & 2.341484e-04 & 2.196942e-04 & 0.0002026050 & 1.707937e-04 & 1.339162e-04 & 9.654238e-05 & 6.627284e-05 & 4.648453e-05 & 3.525657e-05\\\\\n",
       "\\end{tabular}\n"
      ],
      "text/markdown": [
       "\n",
       "| sample | bin | X80 | X81 | X82 | X83 | X84 | X85 | X86 | X87 | ... | X391 | X392 | X393 | X394 | X395 | X396 | X397 | X398 | X399 | X400 |\n",
       "|---|---|---|---|---|---|---|---|---|---|---|---|---|---|---|---|---|---|---|---|---|\n",
       "| PGDX16568P   | chr10_400    | 2.656112e-05 | 2.994814e-05 | 2.961085e-05 | 2.929903e-05 | 3.469718e-05 | 3.917019e-05 | 4.629696e-05 | 5.955899e-05 | ...          | 1.797668e-04 | 1.753154e-04 | 1.569416e-04 | 0.0001385816 | 1.166854e-04 | 9.841735e-05 | 8.478873e-05 | 7.355554e-05 | 6.464917e-05 | 7.007278e-05 |\n",
       "| PGDX16568P   | chr10_40     | 2.639605e-05 | 3.960356e-05 | 5.284513e-05 | 6.279401e-05 | 6.650374e-05 | 6.279401e-05 | 5.284513e-05 | 3.960356e-05 | ...          | 1.239199e-04 | 1.143096e-04 | 1.096515e-04 | 0.0001061073 | 1.087833e-04 | 1.047829e-04 | 9.925148e-05 | 8.919007e-05 | 7.883794e-05 | 7.639961e-05 |\n",
       "| PGDX16568P   | chr10_4      | 4.192713e-05 | 6.023358e-05 | 7.256827e-05 | 7.906282e-05 | 7.854465e-05 | 7.167697e-05 | 7.860718e-05 | 8.606324e-05 | ...          | 1.251224e-04 | 1.238579e-04 | 1.192868e-04 | 0.0001246347 | 1.214730e-04 | 1.148990e-04 | 1.029420e-04 | 8.920670e-05 | 7.138334e-05 | 5.295770e-05 |\n",
       "| PGDX16568P   | chr10_401    | 0.000000e+00 | 0.000000e+00 | 0.000000e+00 | 5.920236e-06 | 1.073402e-05 | 1.705132e-05 | 3.557204e-05 | 5.040596e-05 | ...          | 2.383188e-04 | 2.242108e-04 | 1.921067e-04 | 0.0001600517 | 1.301008e-04 | 1.037432e-04 | 8.040869e-05 | 7.337752e-05 | 8.314214e-05 | 8.566120e-05 |\n",
       "| PGDX16568P   | chr10_402    | 2.723749e-05 | 3.321301e-05 | 3.548313e-05 | 3.321301e-05 | 2.723749e-05 | 2.636520e-05 | 3.143441e-05 | 4.547983e-05 | ...          | 3.955727e-05 | 3.316005e-05 | 2.463956e-05 | 0.0000263652 | 4.082719e-05 | 7.144226e-05 | 9.926339e-05 | 1.268287e-04 | 1.481385e-04 | 1.569626e-04 |\n",
       "| PGDX16568P   | chr10_403    | 3.026954e-05 | 3.233848e-05 | 3.026954e-05 | 2.482360e-05 | 1.783596e-05 | 1.122795e-05 | 1.857799e-05 | 2.245591e-05 | ...          | 2.366995e-04 | 2.341484e-04 | 2.196942e-04 | 0.0002026050 | 1.707937e-04 | 1.339162e-04 | 9.654238e-05 | 6.627284e-05 | 4.648453e-05 | 3.525657e-05 |\n",
       "\n"
      ],
      "text/plain": [
       "  sample     bin       X80          X81          X82          X83         \n",
       "1 PGDX16568P chr10_400 2.656112e-05 2.994814e-05 2.961085e-05 2.929903e-05\n",
       "2 PGDX16568P chr10_40  2.639605e-05 3.960356e-05 5.284513e-05 6.279401e-05\n",
       "3 PGDX16568P chr10_4   4.192713e-05 6.023358e-05 7.256827e-05 7.906282e-05\n",
       "4 PGDX16568P chr10_401 0.000000e+00 0.000000e+00 0.000000e+00 5.920236e-06\n",
       "5 PGDX16568P chr10_402 2.723749e-05 3.321301e-05 3.548313e-05 3.321301e-05\n",
       "6 PGDX16568P chr10_403 3.026954e-05 3.233848e-05 3.026954e-05 2.482360e-05\n",
       "  X84          X85          X86          X87          ... X391        \n",
       "1 3.469718e-05 3.917019e-05 4.629696e-05 5.955899e-05 ... 1.797668e-04\n",
       "2 6.650374e-05 6.279401e-05 5.284513e-05 3.960356e-05 ... 1.239199e-04\n",
       "3 7.854465e-05 7.167697e-05 7.860718e-05 8.606324e-05 ... 1.251224e-04\n",
       "4 1.073402e-05 1.705132e-05 3.557204e-05 5.040596e-05 ... 2.383188e-04\n",
       "5 2.723749e-05 2.636520e-05 3.143441e-05 4.547983e-05 ... 3.955727e-05\n",
       "6 1.783596e-05 1.122795e-05 1.857799e-05 2.245591e-05 ... 2.366995e-04\n",
       "  X392         X393         X394         X395         X396         X397        \n",
       "1 1.753154e-04 1.569416e-04 0.0001385816 1.166854e-04 9.841735e-05 8.478873e-05\n",
       "2 1.143096e-04 1.096515e-04 0.0001061073 1.087833e-04 1.047829e-04 9.925148e-05\n",
       "3 1.238579e-04 1.192868e-04 0.0001246347 1.214730e-04 1.148990e-04 1.029420e-04\n",
       "4 2.242108e-04 1.921067e-04 0.0001600517 1.301008e-04 1.037432e-04 8.040869e-05\n",
       "5 3.316005e-05 2.463956e-05 0.0000263652 4.082719e-05 7.144226e-05 9.926339e-05\n",
       "6 2.341484e-04 2.196942e-04 0.0002026050 1.707937e-04 1.339162e-04 9.654238e-05\n",
       "  X398         X399         X400        \n",
       "1 7.355554e-05 6.464917e-05 7.007278e-05\n",
       "2 8.919007e-05 7.883794e-05 7.639961e-05\n",
       "3 8.920670e-05 7.138334e-05 5.295770e-05\n",
       "4 7.337752e-05 8.314214e-05 8.566120e-05\n",
       "5 1.268287e-04 1.481385e-04 1.569626e-04\n",
       "6 6.627284e-05 4.648453e-05 3.525657e-05"
      ]
     },
     "metadata": {},
     "output_type": "display_data"
    }
   ],
   "source": [
    "head(INPUT_trim_LASSO_TRAIN_DATA)"
   ]
  },
  {
   "cell_type": "code",
   "execution_count": 11,
   "id": "ced4fb3e-8def-4b69-87b8-5c8146bb195e",
   "metadata": {
    "execution": {
     "iopub.execute_input": "2021-10-17T17:21:08.248742Z",
     "iopub.status.busy": "2021-10-17T17:21:08.247940Z",
     "iopub.status.idle": "2021-10-17T17:21:10.969527Z",
     "shell.execute_reply": "2021-10-17T17:21:10.968861Z"
    }
   },
   "outputs": [
    {
     "data": {
      "text/html": [
       "<table>\n",
       "<thead><tr><th scope=col>Unique_Elements</th></tr></thead>\n",
       "<tbody>\n",
       "\t<tr><td>243</td></tr>\n",
       "</tbody>\n",
       "</table>\n"
      ],
      "text/latex": [
       "\\begin{tabular}{r|l}\n",
       " Unique\\_Elements\\\\\n",
       "\\hline\n",
       "\t 243\\\\\n",
       "\\end{tabular}\n"
      ],
      "text/markdown": [
       "\n",
       "| Unique_Elements |\n",
       "|---|\n",
       "| 243 |\n",
       "\n"
      ],
      "text/plain": [
       "  Unique_Elements\n",
       "1 243            "
      ]
     },
     "metadata": {},
     "output_type": "display_data"
    },
    {
     "data": {
      "text/html": [
       "243"
      ],
      "text/latex": [
       "243"
      ],
      "text/markdown": [
       "243"
      ],
      "text/plain": [
       "[1] 243"
      ]
     },
     "metadata": {},
     "output_type": "display_data"
    },
    {
     "data": {
      "text/html": [
       "<ol class=list-inline>\n",
       "\t<li>2503629</li>\n",
       "\t<li>323</li>\n",
       "</ol>\n"
      ],
      "text/latex": [
       "\\begin{enumerate*}\n",
       "\\item 2503629\n",
       "\\item 323\n",
       "\\end{enumerate*}\n"
      ],
      "text/markdown": [
       "1. 2503629\n",
       "2. 323\n",
       "\n",
       "\n"
      ],
      "text/plain": [
       "[1] 2503629     323"
      ]
     },
     "metadata": {},
     "output_type": "display_data"
    },
    {
     "data": {
      "text/html": [
       "<ol class=list-inline>\n",
       "\t<li>504847</li>\n",
       "\t<li>323</li>\n",
       "</ol>\n"
      ],
      "text/latex": [
       "\\begin{enumerate*}\n",
       "\\item 504847\n",
       "\\item 323\n",
       "\\end{enumerate*}\n"
      ],
      "text/markdown": [
       "1. 504847\n",
       "2. 323\n",
       "\n",
       "\n"
      ],
      "text/plain": [
       "[1] 504847    323"
      ]
     },
     "metadata": {},
     "output_type": "display_data"
    },
    {
     "data": {
      "text/html": [
       "<ol class=list-inline>\n",
       "\t<li>1998782</li>\n",
       "\t<li>323</li>\n",
       "</ol>\n"
      ],
      "text/latex": [
       "\\begin{enumerate*}\n",
       "\\item 1998782\n",
       "\\item 323\n",
       "\\end{enumerate*}\n"
      ],
      "text/markdown": [
       "1. 1998782\n",
       "2. 323\n",
       "\n",
       "\n"
      ],
      "text/plain": [
       "[1] 1998782     323"
      ]
     },
     "metadata": {},
     "output_type": "display_data"
    }
   ],
   "source": [
    "INPUT_trim_LASSO_TRAIN_DATA %>%             \n",
    "  summarise(Unique_Elements = n_distinct(sample))\n",
    "\n",
    "ind_list3 = INPUT_trim_LASSO_TRAIN_DATA %>% distinct(sample)\n",
    "ind_list3 = ind_list3$sample\n",
    "length(ind_list3)\n",
    "\n",
    "training3 <- sample(ind_list3, 194, replace = FALSE)\n",
    "\n",
    "trim_LASSO_train_20 <- INPUT_trim_LASSO_TRAIN_DATA %>% filter(!sample %in% training3)\n",
    "trim_LASSO_test_80 <- INPUT_trim_LASSO_TRAIN_DATA %>% filter(sample %in% training3)\n",
    "\n",
    "dim(INPUT_trim_LASSO_TRAIN_DATA)\n",
    "dim(trim_LASSO_train_20)\n",
    "dim(trim_LASSO_test_80)"
   ]
  },
  {
   "cell_type": "code",
   "execution_count": 12,
   "id": "f4df2cdf-fdfb-469d-a56f-1f118e08608c",
   "metadata": {
    "execution": {
     "iopub.execute_input": "2021-10-17T17:21:10.971966Z",
     "iopub.status.busy": "2021-10-17T17:21:10.971278Z",
     "iopub.status.idle": "2021-10-17T17:29:25.821904Z",
     "shell.execute_reply": "2021-10-17T17:29:25.821223Z"
    }
   },
   "outputs": [],
   "source": [
    "saveRDS(trim_LASSO_test_80, file = snakemake@output[[\"OUTPUT_trim_LASSO_DATA_80\"]])\n",
    "saveRDS(trim_LASSO_train_20, file = snakemake@output[[\"OUTPUT_trim_LASSO_DATA_20\"]])"
   ]
  }
 ],
 "metadata": {
  "kernelspec": {
   "display_name": "R",
   "language": "R",
   "name": "ir"
  },
  "language_info": {
   "codemirror_mode": "r",
   "file_extension": ".r",
   "mimetype": "text/x-r-source",
   "name": "R",
   "pygments_lexer": "r",
   "version": "3.6.1"
  }
 },
 "nbformat": 4,
 "nbformat_minor": 5
}
