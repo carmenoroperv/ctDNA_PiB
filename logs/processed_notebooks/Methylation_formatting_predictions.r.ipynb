{
 "cells": [
  {
   "cell_type": "code",
   "execution_count": 1,
   "id": "5ce1e077",
   "metadata": {
    "execution": {
     "iopub.execute_input": "2021-11-30T09:23:48.390043Z",
     "iopub.status.busy": "2021-11-30T09:23:48.386098Z",
     "iopub.status.idle": "2021-11-30T09:23:48.493510Z",
     "shell.execute_reply": "2021-11-30T09:23:48.491872Z"
    },
    "tags": [
     "snakemake-job-properties"
    ]
   },
   "outputs": [],
   "source": [
    "\n",
    "######## snakemake preamble start (automatically inserted, do not edit) ########\n",
    "library(methods)\n",
    "Snakemake <- setClass(\n",
    "    \"Snakemake\",\n",
    "    slots = c(\n",
    "        input = \"list\",\n",
    "        output = \"list\",\n",
    "        params = \"list\",\n",
    "        wildcards = \"list\",\n",
    "        threads = \"numeric\",\n",
    "        log = \"list\",\n",
    "        resources = \"list\",\n",
    "        config = \"list\",\n",
    "        rule = \"character\",\n",
    "        bench_iteration = \"numeric\",\n",
    "        scriptdir = \"character\",\n",
    "        source = \"function\"\n",
    "    )\n",
    ")\n",
    "snakemake <- Snakemake(\n",
    "    input = list('data/Methylation_predictions_train_20_predict_80/Methylation_pred_lasso_normalized_trimmed.rds', \"input\" = 'data/Methylation_predictions_train_20_predict_80/Methylation_pred_lasso_normalized_trimmed.rds'),\n",
    "    output = list('data/Methylation_predictions_train_20_predict_80/Methylation_pred_lasso_normalized_trimmed_formatted.rds', \"output_formatted_pred\" = 'data/Methylation_predictions_train_20_predict_80/Methylation_pred_lasso_normalized_trimmed_formatted.rds'),\n",
    "    params = list(),\n",
    "    wildcards = list(),\n",
    "    threads = 1,\n",
    "    log = list('logs/processed_notebooks/Methylation_formatting_predictions.r.ipynb', \"notebook\" = 'logs/processed_notebooks/Methylation_formatting_predictions.r.ipynb'),\n",
    "    resources = list('mem_mb', 'disk_mb', 'tmpdir', 'time', \"mem_mb\" = 200000, \"disk_mb\" = 1000, \"tmpdir\" = '/scratch/57589790', \"time\" = '20:00:00'),\n",
    "    config = list(),\n",
    "    rule = 'methylation_format',\n",
    "    bench_iteration = as.numeric(NA),\n",
    "    scriptdir = '/faststorage/project/DELFI1/Workspaces/CarmenAndAnika/prep_formatting_normalizing',\n",
    "    source = function(...){\n",
    "        wd <- getwd()\n",
    "        setwd(snakemake@scriptdir)\n",
    "        source(...)\n",
    "        setwd(wd)\n",
    "    }\n",
    ")\n",
    "setwd('/faststorage/project/DELFI1/Workspaces/CarmenAndAnika');\n",
    "\n",
    "######## snakemake preamble end #########\n"
   ]
  },
  {
   "cell_type": "markdown",
   "id": "e7d7d882-671e-4f93-a644-d069d6270f2a",
   "metadata": {},
   "source": [
    "# Format ATAC predictions into wider format"
   ]
  },
  {
   "cell_type": "code",
   "execution_count": 2,
   "id": "bc2485f9-c91e-42f8-9f0c-99238ff78754",
   "metadata": {
    "execution": {
     "iopub.execute_input": "2021-11-30T09:23:48.588818Z",
     "iopub.status.busy": "2021-11-30T09:23:48.495941Z",
     "iopub.status.idle": "2021-11-30T09:24:04.529149Z",
     "shell.execute_reply": "2021-11-30T09:24:04.527352Z"
    }
   },
   "outputs": [
    {
     "name": "stderr",
     "output_type": "stream",
     "text": [
      "Registered S3 methods overwritten by 'ggplot2':\n",
      "  method         from \n",
      "  [.quosures     rlang\n",
      "  c.quosures     rlang\n",
      "  print.quosures rlang\n",
      "Registered S3 method overwritten by 'rvest':\n",
      "  method            from\n",
      "  read_xml.response xml2\n",
      "── Attaching packages ─────────────────────────────────────── tidyverse 1.2.1 ──\n",
      "✔ ggplot2 3.1.1     ✔ purrr   0.3.2\n",
      "✔ tibble  3.1.6     ✔ dplyr   1.0.7\n",
      "✔ tidyr   1.1.4     ✔ stringr 1.4.0\n",
      "✔ readr   1.3.1     ✔ forcats 0.4.0\n",
      "── Conflicts ────────────────────────────────────────── tidyverse_conflicts() ──\n",
      "✖ dplyr::filter() masks stats::filter()\n",
      "✖ dplyr::lag()    masks stats::lag()\n",
      "Updating HTML index of packages in '.Library'\n",
      "Making 'packages.html' ... done\n"
     ]
    }
   ],
   "source": [
    "library(tidyverse)\n",
    "install.packages(\"tidyr\", repos='http://cran.us.r-project.org')\n",
    "library(tidyr)"
   ]
  },
  {
   "cell_type": "code",
   "execution_count": 3,
   "id": "af18de5e-72c4-4510-bbb1-0ce86237684b",
   "metadata": {
    "execution": {
     "iopub.execute_input": "2021-11-30T09:24:04.536124Z",
     "iopub.status.busy": "2021-11-30T09:24:04.533945Z",
     "iopub.status.idle": "2021-11-30T09:24:04.548827Z",
     "shell.execute_reply": "2021-11-30T09:24:04.547254Z"
    }
   },
   "outputs": [],
   "source": [
    "input_file = snakemake@input[[\"input\"]]\n",
    "output_file = snakemake@output[[\"output_formatted_pred\"]]"
   ]
  },
  {
   "cell_type": "code",
   "execution_count": 4,
   "id": "dbbbca59-3197-41ea-ad08-bffff5af9f3a",
   "metadata": {
    "execution": {
     "iopub.execute_input": "2021-11-30T09:24:04.553558Z",
     "iopub.status.busy": "2021-11-30T09:24:04.551834Z",
     "iopub.status.idle": "2021-11-30T09:24:06.700372Z",
     "shell.execute_reply": "2021-11-30T09:24:06.698801Z"
    }
   },
   "outputs": [
    {
     "data": {
      "text/html": [
       "<ol class=list-inline>\n",
       "\t<li>4248056</li>\n",
       "\t<li>4</li>\n",
       "</ol>\n"
      ],
      "text/latex": [
       "\\begin{enumerate*}\n",
       "\\item 4248056\n",
       "\\item 4\n",
       "\\end{enumerate*}\n"
      ],
      "text/markdown": [
       "1. 4248056\n",
       "2. 4\n",
       "\n",
       "\n"
      ],
      "text/plain": [
       "[1] 4248056       4"
      ]
     },
     "metadata": {},
     "output_type": "display_data"
    }
   ],
   "source": [
    "\n",
    "#pred_ATAC = read.csv( \"../data/ATAC_predictions_on_all_samples/ATAC_pred_lasso_std_FALSE.csv\")\n",
    "#dim(pred_ATAC)\n",
    "\n",
    "pred_ATAC = readRDS(input_file)\n",
    "dim(pred_ATAC)"
   ]
  },
  {
   "cell_type": "code",
   "execution_count": 5,
   "id": "369a0676-469a-4753-a710-1608682af0c7",
   "metadata": {
    "execution": {
     "iopub.execute_input": "2021-11-30T09:24:06.704982Z",
     "iopub.status.busy": "2021-11-30T09:24:06.703427Z",
     "iopub.status.idle": "2021-11-30T09:24:06.727147Z",
     "shell.execute_reply": "2021-11-30T09:24:06.725641Z"
    }
   },
   "outputs": [
    {
     "data": {
      "text/html": [
       "<table>\n",
       "<thead><tr><th scope=col>sample</th><th scope=col>bin</th><th scope=col>ATAC_observed</th><th scope=col>ATAC_predicted</th></tr></thead>\n",
       "<tbody>\n",
       "\t<tr><td>PGDX16568P</td><td>chr10_400 </td><td>59.09021  </td><td>50.10720  </td></tr>\n",
       "\t<tr><td>PGDX16568P</td><td>chr10_40  </td><td>32.87098  </td><td>38.43050  </td></tr>\n",
       "\t<tr><td>PGDX16568P</td><td>chr10_4   </td><td>65.82263  </td><td>50.49563  </td></tr>\n",
       "\t<tr><td>PGDX16568P</td><td>chr10_401 </td><td>39.20313  </td><td>36.26990  </td></tr>\n",
       "\t<tr><td>PGDX16568P</td><td>chr10_402 </td><td>35.89876  </td><td>37.08899  </td></tr>\n",
       "\t<tr><td>PGDX16568P</td><td>chr10_403 </td><td>37.92318  </td><td>35.73950  </td></tr>\n",
       "</tbody>\n",
       "</table>\n"
      ],
      "text/latex": [
       "\\begin{tabular}{r|llll}\n",
       " sample & bin & ATAC\\_observed & ATAC\\_predicted\\\\\n",
       "\\hline\n",
       "\t PGDX16568P  & chr10\\_400 & 59.09021    & 50.10720   \\\\\n",
       "\t PGDX16568P  & chr10\\_40  & 32.87098    & 38.43050   \\\\\n",
       "\t PGDX16568P  & chr10\\_4   & 65.82263    & 50.49563   \\\\\n",
       "\t PGDX16568P  & chr10\\_401 & 39.20313    & 36.26990   \\\\\n",
       "\t PGDX16568P  & chr10\\_402 & 35.89876    & 37.08899   \\\\\n",
       "\t PGDX16568P  & chr10\\_403 & 37.92318    & 35.73950   \\\\\n",
       "\\end{tabular}\n"
      ],
      "text/markdown": [
       "\n",
       "| sample | bin | ATAC_observed | ATAC_predicted |\n",
       "|---|---|---|---|\n",
       "| PGDX16568P | chr10_400  | 59.09021   | 50.10720   |\n",
       "| PGDX16568P | chr10_40   | 32.87098   | 38.43050   |\n",
       "| PGDX16568P | chr10_4    | 65.82263   | 50.49563   |\n",
       "| PGDX16568P | chr10_401  | 39.20313   | 36.26990   |\n",
       "| PGDX16568P | chr10_402  | 35.89876   | 37.08899   |\n",
       "| PGDX16568P | chr10_403  | 37.92318   | 35.73950   |\n",
       "\n"
      ],
      "text/plain": [
       "  sample     bin       ATAC_observed ATAC_predicted\n",
       "1 PGDX16568P chr10_400 59.09021      50.10720      \n",
       "2 PGDX16568P chr10_40  32.87098      38.43050      \n",
       "3 PGDX16568P chr10_4   65.82263      50.49563      \n",
       "4 PGDX16568P chr10_401 39.20313      36.26990      \n",
       "5 PGDX16568P chr10_402 35.89876      37.08899      \n",
       "6 PGDX16568P chr10_403 37.92318      35.73950      "
      ]
     },
     "metadata": {},
     "output_type": "display_data"
    }
   ],
   "source": [
    "head(pred_ATAC)"
   ]
  },
  {
   "cell_type": "code",
   "execution_count": 6,
   "id": "74a4061e-8581-435f-b151-eb20325a5f74",
   "metadata": {
    "execution": {
     "iopub.execute_input": "2021-11-30T09:24:06.731327Z",
     "iopub.status.busy": "2021-11-30T09:24:06.729726Z",
     "iopub.status.idle": "2021-11-30T09:24:06.751989Z",
     "shell.execute_reply": "2021-11-30T09:24:06.750622Z"
    }
   },
   "outputs": [
    {
     "name": "stdout",
     "output_type": "stream",
     "text": [
      "tibble [4,248,056 × 4] (S3: tbl_df/tbl/data.frame)\n",
      " $ sample        : Factor w/ 473 levels \"PGDX10344P1\",..: 46 46 46 46 46 46 46 46 46 46 ...\n",
      " $ bin           : chr [1:4248056] \"chr10_400\" \"chr10_40\" \"chr10_4\" \"chr10_401\" ...\n",
      " $ ATAC_observed : num [1:4248056] 59.1 32.9 65.8 39.2 35.9 ...\n",
      " $ ATAC_predicted: num [1:4248056] 50.1 38.4 50.5 36.3 37.1 ...\n"
     ]
    }
   ],
   "source": [
    "str(pred_ATAC)"
   ]
  },
  {
   "cell_type": "code",
   "execution_count": 7,
   "id": "62f2964a-1df0-4514-ba57-da5c3241fbb3",
   "metadata": {
    "execution": {
     "iopub.execute_input": "2021-11-30T09:24:06.755874Z",
     "iopub.status.busy": "2021-11-30T09:24:06.754398Z",
     "iopub.status.idle": "2021-11-30T09:24:07.145970Z",
     "shell.execute_reply": "2021-11-30T09:24:07.144039Z"
    }
   },
   "outputs": [
    {
     "name": "stdout",
     "output_type": "stream",
     "text": [
      "tibble [4,248,056 × 3] (S3: tbl_df/tbl/data.frame)\n",
      " $ sample        : chr [1:4248056] \"PGDX16568P\" \"PGDX16568P\" \"PGDX16568P\" \"PGDX16568P\" ...\n",
      " $ bin           : chr [1:4248056] \"chr10_400\" \"chr10_40\" \"chr10_4\" \"chr10_401\" ...\n",
      " $ ATAC_predicted: num [1:4248056] 50.1 38.4 50.5 36.3 37.1 ...\n"
     ]
    }
   ],
   "source": [
    "pred_ATAC$sample <- as.character(pred_ATAC$sample)\n",
    "pred_ATAC$bin <- as.character(pred_ATAC$bin)\n",
    "pred_ATAC <- pred_ATAC %>% select(-ATAC_observed)\n",
    "\n",
    "str(pred_ATAC)"
   ]
  },
  {
   "cell_type": "code",
   "execution_count": 8,
   "id": "b4c009cb-ed69-4603-a4e9-b8e1e40ef04f",
   "metadata": {
    "execution": {
     "iopub.execute_input": "2021-11-30T09:24:07.151735Z",
     "iopub.status.busy": "2021-11-30T09:24:07.149534Z",
     "iopub.status.idle": "2021-11-30T09:24:09.633093Z",
     "shell.execute_reply": "2021-11-30T09:24:09.631489Z"
    },
    "tags": []
   },
   "outputs": [
    {
     "name": "stderr",
     "output_type": "stream",
     "text": [
      "ERROR while rich displaying an object: Error in sprintf(wrap, header, body): 'fmt' length exceeds maximal format length 8192\n",
      "\n",
      "Traceback:\n",
      "1. FUN(X[[i]], ...)\n",
      "2. tryCatch(withCallingHandlers({\n",
      " .     if (!mime %in% names(repr::mime2repr)) \n",
      " .         stop(\"No repr_* for mimetype \", mime, \" in repr::mime2repr\")\n",
      " .     rpr <- repr::mime2repr[[mime]](obj)\n",
      " .     if (is.null(rpr)) \n",
      " .         return(NULL)\n",
      " .     prepare_content(is.raw(rpr), rpr)\n",
      " . }, error = error_handler), error = outer_handler)\n",
      "3. tryCatchList(expr, classes, parentenv, handlers)\n",
      "4. tryCatchOne(expr, names, parentenv, handlers[[1L]])\n",
      "5. doTryCatch(return(expr), name, parentenv, handler)\n",
      "6. withCallingHandlers({\n",
      " .     if (!mime %in% names(repr::mime2repr)) \n",
      " .         stop(\"No repr_* for mimetype \", mime, \" in repr::mime2repr\")\n",
      " .     rpr <- repr::mime2repr[[mime]](obj)\n",
      " .     if (is.null(rpr)) \n",
      " .         return(NULL)\n",
      " .     prepare_content(is.raw(rpr), rpr)\n",
      " . }, error = error_handler)\n",
      "7. repr::mime2repr[[mime]](obj)\n",
      "8. repr_latex.data.frame(obj)\n",
      "9. repr_matrix_generic(obj, sprintf(\"\\\\begin{tabular}{%s}\\n%%s%%s\\\\end{tabular}\\n\", \n",
      " .     cols), \"%s\\\\\\\\\\n\\\\hline\\n\", \"  &\", \" %s &\", \"%s\", \"\\t%s\\\\\\\\\\n\", \n",
      " .     \"%s &\", \" %s &\", escape_fun = latex_escape_vec, ...)\n",
      "10. sprintf(wrap, header, body)\n"
     ]
    },
    {
     "data": {
      "text/html": [
       "<table>\n",
       "<thead><tr><th scope=col>sample</th><th scope=col>chr10_400</th><th scope=col>chr10_40</th><th scope=col>chr10_4</th><th scope=col>chr10_401</th><th scope=col>chr10_402</th><th scope=col>chr10_403</th><th scope=col>chr10_404</th><th scope=col>chr10_405</th><th scope=col>chr10_406</th><th scope=col>...</th><th scope=col>chr9_39</th><th scope=col>chr9_391</th><th scope=col>chr9_392</th><th scope=col>chr9_393</th><th scope=col>chr9_394</th><th scope=col>chr9_395</th><th scope=col>chr9_396</th><th scope=col>chr9_397</th><th scope=col>chr9_398</th><th scope=col>chr9_399</th></tr></thead>\n",
       "<tbody>\n",
       "\t<tr><td>PGDX16568P</td><td>50.10720  </td><td>38.43050  </td><td>50.49563  </td><td>36.26990  </td><td>37.08899  </td><td>35.73950  </td><td>42.94098  </td><td>50.30837  </td><td>50.66313  </td><td>...       </td><td>41.69085  </td><td>48.46803  </td><td>39.19122  </td><td>40.33245  </td><td>49.63915  </td><td>42.58743  </td><td>52.08225  </td><td>51.84441  </td><td>53.84734  </td><td>35.06284  </td></tr>\n",
       "\t<tr><td>PGDX16569P</td><td>50.38967  </td><td>43.69226  </td><td>53.56724  </td><td>40.19999  </td><td>40.67496  </td><td>45.66306  </td><td>45.94454  </td><td>53.63420  </td><td>54.25514  </td><td>...       </td><td>39.99292  </td><td>49.49178  </td><td>46.14314  </td><td>43.29620  </td><td>50.04835  </td><td>46.53519  </td><td>51.45761  </td><td>49.33736  </td><td>63.15294  </td><td>43.94147  </td></tr>\n",
       "\t<tr><td>PGDX16570P</td><td>54.09841  </td><td>38.90010  </td><td>57.60327  </td><td>39.01121  </td><td>42.97006  </td><td>43.96420  </td><td>46.19221  </td><td>59.91990  </td><td>57.36566  </td><td>...       </td><td>42.65936  </td><td>49.98062  </td><td>50.99560  </td><td>44.71672  </td><td>47.49022  </td><td>51.49670  </td><td>55.23129  </td><td>52.10197  </td><td>64.84029  </td><td>47.99915  </td></tr>\n",
       "\t<tr><td>PGDX16571P</td><td>54.90257  </td><td>40.47710  </td><td>55.52637  </td><td>41.71517  </td><td>42.23254  </td><td>43.34020  </td><td>47.61174  </td><td>58.27360  </td><td>56.45344  </td><td>...       </td><td>48.34666  </td><td>51.90264  </td><td>55.36530  </td><td>48.01901  </td><td>52.85030  </td><td>49.18811  </td><td>59.65190  </td><td>59.16895  </td><td>64.22539  </td><td>51.64244  </td></tr>\n",
       "\t<tr><td>PGDX16579P</td><td>54.40836  </td><td>35.16049  </td><td>57.19377  </td><td>36.97275  </td><td>38.29034  </td><td>39.15255  </td><td>47.17557  </td><td>51.75797  </td><td>52.33919  </td><td>...       </td><td>45.87922  </td><td>49.45779  </td><td>47.96223  </td><td>40.21917  </td><td>45.66219  </td><td>48.05531  </td><td>60.02450  </td><td>58.92792  </td><td>56.02913  </td><td>43.20545  </td></tr>\n",
       "\t<tr><td>PGDX16580P</td><td>54.04343  </td><td>40.79401  </td><td>54.85352  </td><td>36.91397  </td><td>39.41826  </td><td>41.45725  </td><td>45.73760  </td><td>56.09565  </td><td>53.96090  </td><td>...       </td><td>43.38544  </td><td>49.79330  </td><td>50.40758  </td><td>43.99041  </td><td>51.16138  </td><td>51.78069  </td><td>57.08762  </td><td>54.30238  </td><td>64.64102  </td><td>44.41425  </td></tr>\n",
       "</tbody>\n",
       "</table>\n"
      ],
      "text/markdown": [
       "\n",
       "| sample | chr10_400 | chr10_40 | chr10_4 | chr10_401 | chr10_402 | chr10_403 | chr10_404 | chr10_405 | chr10_406 | ... | chr9_39 | chr9_391 | chr9_392 | chr9_393 | chr9_394 | chr9_395 | chr9_396 | chr9_397 | chr9_398 | chr9_399 |\n",
       "|---|---|---|---|---|---|---|---|---|---|---|---|---|---|---|---|---|---|---|---|---|\n",
       "| PGDX16568P | 50.10720   | 38.43050   | 50.49563   | 36.26990   | 37.08899   | 35.73950   | 42.94098   | 50.30837   | 50.66313   | ...        | 41.69085   | 48.46803   | 39.19122   | 40.33245   | 49.63915   | 42.58743   | 52.08225   | 51.84441   | 53.84734   | 35.06284   |\n",
       "| PGDX16569P | 50.38967   | 43.69226   | 53.56724   | 40.19999   | 40.67496   | 45.66306   | 45.94454   | 53.63420   | 54.25514   | ...        | 39.99292   | 49.49178   | 46.14314   | 43.29620   | 50.04835   | 46.53519   | 51.45761   | 49.33736   | 63.15294   | 43.94147   |\n",
       "| PGDX16570P | 54.09841   | 38.90010   | 57.60327   | 39.01121   | 42.97006   | 43.96420   | 46.19221   | 59.91990   | 57.36566   | ...        | 42.65936   | 49.98062   | 50.99560   | 44.71672   | 47.49022   | 51.49670   | 55.23129   | 52.10197   | 64.84029   | 47.99915   |\n",
       "| PGDX16571P | 54.90257   | 40.47710   | 55.52637   | 41.71517   | 42.23254   | 43.34020   | 47.61174   | 58.27360   | 56.45344   | ...        | 48.34666   | 51.90264   | 55.36530   | 48.01901   | 52.85030   | 49.18811   | 59.65190   | 59.16895   | 64.22539   | 51.64244   |\n",
       "| PGDX16579P | 54.40836   | 35.16049   | 57.19377   | 36.97275   | 38.29034   | 39.15255   | 47.17557   | 51.75797   | 52.33919   | ...        | 45.87922   | 49.45779   | 47.96223   | 40.21917   | 45.66219   | 48.05531   | 60.02450   | 58.92792   | 56.02913   | 43.20545   |\n",
       "| PGDX16580P | 54.04343   | 40.79401   | 54.85352   | 36.91397   | 39.41826   | 41.45725   | 45.73760   | 56.09565   | 53.96090   | ...        | 43.38544   | 49.79330   | 50.40758   | 43.99041   | 51.16138   | 51.78069   | 57.08762   | 54.30238   | 64.64102   | 44.41425   |\n",
       "\n"
      ],
      "text/plain": [
       "  sample     chr10_400 chr10_40 chr10_4  chr10_401 chr10_402 chr10_403\n",
       "1 PGDX16568P 50.10720  38.43050 50.49563 36.26990  37.08899  35.73950 \n",
       "2 PGDX16569P 50.38967  43.69226 53.56724 40.19999  40.67496  45.66306 \n",
       "3 PGDX16570P 54.09841  38.90010 57.60327 39.01121  42.97006  43.96420 \n",
       "4 PGDX16571P 54.90257  40.47710 55.52637 41.71517  42.23254  43.34020 \n",
       "5 PGDX16579P 54.40836  35.16049 57.19377 36.97275  38.29034  39.15255 \n",
       "6 PGDX16580P 54.04343  40.79401 54.85352 36.91397  39.41826  41.45725 \n",
       "  chr10_404 chr10_405 chr10_406 ... chr9_39  chr9_391 chr9_392 chr9_393\n",
       "1 42.94098  50.30837  50.66313  ... 41.69085 48.46803 39.19122 40.33245\n",
       "2 45.94454  53.63420  54.25514  ... 39.99292 49.49178 46.14314 43.29620\n",
       "3 46.19221  59.91990  57.36566  ... 42.65936 49.98062 50.99560 44.71672\n",
       "4 47.61174  58.27360  56.45344  ... 48.34666 51.90264 55.36530 48.01901\n",
       "5 47.17557  51.75797  52.33919  ... 45.87922 49.45779 47.96223 40.21917\n",
       "6 45.73760  56.09565  53.96090  ... 43.38544 49.79330 50.40758 43.99041\n",
       "  chr9_394 chr9_395 chr9_396 chr9_397 chr9_398 chr9_399\n",
       "1 49.63915 42.58743 52.08225 51.84441 53.84734 35.06284\n",
       "2 50.04835 46.53519 51.45761 49.33736 63.15294 43.94147\n",
       "3 47.49022 51.49670 55.23129 52.10197 64.84029 47.99915\n",
       "4 52.85030 49.18811 59.65190 59.16895 64.22539 51.64244\n",
       "5 45.66219 48.05531 60.02450 58.92792 56.02913 43.20545\n",
       "6 51.16138 51.78069 57.08762 54.30238 64.64102 44.41425"
      ]
     },
     "metadata": {},
     "output_type": "display_data"
    }
   ],
   "source": [
    "#pred_ATAC <- pred_ATAC %>% select(-ATAC_observed)\n",
    "pred_ATAC_wide <- pred_ATAC %>% tidyr::pivot_wider(names_from = bin, values_from = ATAC_predicted)\n",
    "head(pred_ATAC_wide)"
   ]
  },
  {
   "cell_type": "code",
   "execution_count": 9,
   "id": "a0572626-d4d3-45e8-8777-a6f1e370d516",
   "metadata": {
    "execution": {
     "iopub.execute_input": "2021-11-30T09:24:09.638139Z",
     "iopub.status.busy": "2021-11-30T09:24:09.636416Z",
     "iopub.status.idle": "2021-11-30T09:24:09.652998Z",
     "shell.execute_reply": "2021-11-30T09:24:09.651266Z"
    }
   },
   "outputs": [
    {
     "data": {
      "text/html": [
       "<ol class=list-inline>\n",
       "\t<li>424</li>\n",
       "\t<li>10020</li>\n",
       "</ol>\n"
      ],
      "text/latex": [
       "\\begin{enumerate*}\n",
       "\\item 424\n",
       "\\item 10020\n",
       "\\end{enumerate*}\n"
      ],
      "text/markdown": [
       "1. 424\n",
       "2. 10020\n",
       "\n",
       "\n"
      ],
      "text/plain": [
       "[1]   424 10020"
      ]
     },
     "metadata": {},
     "output_type": "display_data"
    }
   ],
   "source": [
    "dim(pred_ATAC_wide)"
   ]
  },
  {
   "cell_type": "code",
   "execution_count": 10,
   "id": "e9d8ee4d-b062-4fd7-8bc5-09efa00f2bff",
   "metadata": {
    "execution": {
     "iopub.execute_input": "2021-11-30T09:24:09.657854Z",
     "iopub.status.busy": "2021-11-30T09:24:09.655863Z",
     "iopub.status.idle": "2021-11-30T09:24:11.697352Z",
     "shell.execute_reply": "2021-11-30T09:24:11.695467Z"
    }
   },
   "outputs": [],
   "source": [
    "saveRDS(pred_ATAC_wide, file = output_file)"
   ]
  },
  {
   "cell_type": "code",
   "execution_count": null,
   "id": "7f34d94f-0941-42b9-8ab4-1e095ed1721b",
   "metadata": {},
   "outputs": [],
   "source": []
  }
 ],
 "metadata": {
  "kernelspec": {
   "display_name": "R",
   "language": "R",
   "name": "ir"
  },
  "language_info": {
   "codemirror_mode": "r",
   "file_extension": ".r",
   "mimetype": "text/x-r-source",
   "name": "R",
   "pygments_lexer": "r",
   "version": "3.6.1"
  }
 },
 "nbformat": 4,
 "nbformat_minor": 5
}
