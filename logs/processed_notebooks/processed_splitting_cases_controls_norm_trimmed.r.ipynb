{
 "cells": [
  {
   "cell_type": "code",
   "execution_count": 1,
   "id": "38a9e166",
   "metadata": {
    "execution": {
     "iopub.execute_input": "2021-10-20T13:18:34.080820Z",
     "iopub.status.busy": "2021-10-20T13:18:34.076900Z",
     "iopub.status.idle": "2021-10-20T13:18:37.313710Z",
     "shell.execute_reply": "2021-10-20T13:18:37.312463Z"
    },
    "tags": [
     "snakemake-job-properties"
    ]
   },
   "outputs": [],
   "source": [
    "\n",
    "######## snakemake preamble start (automatically inserted, do not edit) ########\n",
    "library(methods)\n",
    "Snakemake <- setClass(\n",
    "    \"Snakemake\",\n",
    "    slots = c(\n",
    "        input = \"list\",\n",
    "        output = \"list\",\n",
    "        params = \"list\",\n",
    "        wildcards = \"list\",\n",
    "        threads = \"numeric\",\n",
    "        log = \"list\",\n",
    "        resources = \"list\",\n",
    "        config = \"list\",\n",
    "        rule = \"character\",\n",
    "        bench_iteration = \"numeric\",\n",
    "        scriptdir = \"character\",\n",
    "        source = \"function\"\n",
    "    )\n",
    ")\n",
    "snakemake <- Snakemake(\n",
    "    input = list('data/sample_types.txt', 'data/data_rds_format/all_samples_normalized_trimmed.rds', \"input_samples\" = 'data/sample_types.txt', \"input_data\" = 'data/data_rds_format/all_samples_normalized_trimmed.rds'),\n",
    "    output = list('data/cases_controls/cases_controls_rds_format/all_samples_normalized_trimmed_CASES.rds', 'data/cases_controls/cases_controls_rds_format/all_samples_normalized_trimmed_CONTROLS.rds', \"output_cases_normalized_trimmed\" = 'data/cases_controls/cases_controls_rds_format/all_samples_normalized_trimmed_CASES.rds', \"output_controls_normalized_trimmed\" = 'data/cases_controls/cases_controls_rds_format/all_samples_normalized_trimmed_CONTROLS.rds'),\n",
    "    params = list(),\n",
    "    wildcards = list(),\n",
    "    threads = 1,\n",
    "    log = list('logs/processed_notebooks/processed_splitting_cases_controls_norm_trimmed.r.ipynb', \"notebook\" = 'logs/processed_notebooks/processed_splitting_cases_controls_norm_trimmed.r.ipynb'),\n",
    "    resources = list('mem_mb', 'disk_mb', 'tmpdir', 'time', \"mem_mb\" = 150000, \"disk_mb\" = 11139, \"tmpdir\" = '/scratch/56249438', \"time\" = '5:00:00'),\n",
    "    config = list(),\n",
    "    rule = 'cases_controls_normalized_trimmed',\n",
    "    bench_iteration = as.numeric(NA),\n",
    "    scriptdir = '/faststorage/project/DELFI1/Workspaces/CarmenAndAnika/Notebooks for data prep, formatting, normalizing/splitting_cases_controls',\n",
    "    source = function(...){\n",
    "        wd <- getwd()\n",
    "        setwd(snakemake@scriptdir)\n",
    "        source(...)\n",
    "        setwd(wd)\n",
    "    }\n",
    ")\n",
    "setwd('/faststorage/project/DELFI1/Workspaces/CarmenAndAnika');\n",
    "\n",
    "######## snakemake preamble end #########\n"
   ]
  },
  {
   "cell_type": "code",
   "execution_count": 2,
   "id": "e1d5fa62-0996-456b-895a-bcb6825d21a0",
   "metadata": {
    "execution": {
     "iopub.execute_input": "2021-10-20T13:18:37.363433Z",
     "iopub.status.busy": "2021-10-20T13:18:37.315870Z",
     "iopub.status.idle": "2021-10-20T13:18:54.545120Z",
     "shell.execute_reply": "2021-10-20T13:18:54.543889Z"
    }
   },
   "outputs": [
    {
     "name": "stderr",
     "output_type": "stream",
     "text": [
      "Registered S3 methods overwritten by 'ggplot2':\n",
      "  method         from \n",
      "  [.quosures     rlang\n",
      "  c.quosures     rlang\n",
      "  print.quosures rlang\n",
      "Registered S3 method overwritten by 'rvest':\n",
      "  method            from\n",
      "  read_xml.response xml2\n",
      "── Attaching packages ─────────────────────────────────────── tidyverse 1.2.1 ──\n",
      "✔ ggplot2 3.1.1     ✔ purrr   0.3.2\n",
      "✔ tibble  3.1.5     ✔ dplyr   1.0.7\n",
      "✔ tidyr   1.1.4     ✔ stringr 1.4.0\n",
      "✔ readr   1.3.1     ✔ forcats 0.4.0\n",
      "── Conflicts ────────────────────────────────────────── tidyverse_conflicts() ──\n",
      "✖ dplyr::filter() masks stats::filter()\n",
      "✖ dplyr::lag()    masks stats::lag()\n"
     ]
    }
   ],
   "source": [
    "library(tidyverse)"
   ]
  },
  {
   "cell_type": "code",
   "execution_count": 3,
   "id": "2c02bf1a-8fe0-4567-97fa-2d1fb0bec103",
   "metadata": {
    "execution": {
     "iopub.execute_input": "2021-10-20T13:18:54.549961Z",
     "iopub.status.busy": "2021-10-20T13:18:54.548398Z",
     "iopub.status.idle": "2021-10-20T13:18:54.557926Z",
     "shell.execute_reply": "2021-10-20T13:18:54.556658Z"
    }
   },
   "outputs": [],
   "source": [
    "filename = snakemake@input[[\"input_data\"]]"
   ]
  },
  {
   "cell_type": "code",
   "execution_count": 4,
   "id": "f9527aeb-7edb-4338-8a01-f820241c197d",
   "metadata": {
    "execution": {
     "iopub.execute_input": "2021-10-20T13:18:54.561219Z",
     "iopub.status.busy": "2021-10-20T13:18:54.560008Z",
     "iopub.status.idle": "2021-10-20T13:21:18.547003Z",
     "shell.execute_reply": "2021-10-20T13:21:18.545869Z"
    }
   },
   "outputs": [],
   "source": [
    "data <- readRDS(filename)"
   ]
  },
  {
   "cell_type": "markdown",
   "id": "b9f46c29-0700-40c1-a5c7-5aa3239f1e12",
   "metadata": {},
   "source": [
    "## Sample types"
   ]
  },
  {
   "cell_type": "code",
   "execution_count": 5,
   "id": "55de7dc2-51ff-4513-b1dd-2e778579857a",
   "metadata": {
    "execution": {
     "iopub.execute_input": "2021-10-20T13:21:18.557339Z",
     "iopub.status.busy": "2021-10-20T13:21:18.556166Z",
     "iopub.status.idle": "2021-10-20T13:21:18.682322Z",
     "shell.execute_reply": "2021-10-20T13:21:18.681219Z"
    }
   },
   "outputs": [
    {
     "data": {
      "text/html": [
       "<table>\n",
       "<thead><tr><th scope=col>V1</th><th scope=col>V2</th></tr></thead>\n",
       "<tbody>\n",
       "\t<tr><td>PGDX10344P1   </td><td>Gastric_cancer</td></tr>\n",
       "\t<tr><td>PGDX10346P1   </td><td>Gastric_cancer</td></tr>\n",
       "\t<tr><td>PGDX10349P1   </td><td>Gastric_cancer</td></tr>\n",
       "\t<tr><td>PGDX10351P1   </td><td>Gastric_cancer</td></tr>\n",
       "\t<tr><td>PGDX10566P    </td><td>Ovarian_Cancer</td></tr>\n",
       "\t<tr><td>PGDX10567P    </td><td>Ovarian_Cancer</td></tr>\n",
       "</tbody>\n",
       "</table>\n"
      ],
      "text/latex": [
       "\\begin{tabular}{r|ll}\n",
       " V1 & V2\\\\\n",
       "\\hline\n",
       "\t PGDX10344P1      & Gastric\\_cancer\\\\\n",
       "\t PGDX10346P1      & Gastric\\_cancer\\\\\n",
       "\t PGDX10349P1      & Gastric\\_cancer\\\\\n",
       "\t PGDX10351P1      & Gastric\\_cancer\\\\\n",
       "\t PGDX10566P       & Ovarian\\_Cancer\\\\\n",
       "\t PGDX10567P       & Ovarian\\_Cancer\\\\\n",
       "\\end{tabular}\n"
      ],
      "text/markdown": [
       "\n",
       "| V1 | V2 |\n",
       "|---|---|\n",
       "| PGDX10344P1    | Gastric_cancer |\n",
       "| PGDX10346P1    | Gastric_cancer |\n",
       "| PGDX10349P1    | Gastric_cancer |\n",
       "| PGDX10351P1    | Gastric_cancer |\n",
       "| PGDX10566P     | Ovarian_Cancer |\n",
       "| PGDX10567P     | Ovarian_Cancer |\n",
       "\n"
      ],
      "text/plain": [
       "  V1          V2            \n",
       "1 PGDX10344P1 Gastric_cancer\n",
       "2 PGDX10346P1 Gastric_cancer\n",
       "3 PGDX10349P1 Gastric_cancer\n",
       "4 PGDX10351P1 Gastric_cancer\n",
       "5 PGDX10566P  Ovarian_Cancer\n",
       "6 PGDX10567P  Ovarian_Cancer"
      ]
     },
     "metadata": {},
     "output_type": "display_data"
    }
   ],
   "source": [
    "sample_types <- read.table(snakemake@input[[\"input_samples\"]])\n",
    "head(sample_types)"
   ]
  },
  {
   "cell_type": "code",
   "execution_count": 6,
   "id": "313a7014-3be0-4037-b1fd-85877c687958",
   "metadata": {
    "execution": {
     "iopub.execute_input": "2021-10-20T13:21:18.685483Z",
     "iopub.status.busy": "2021-10-20T13:21:18.684379Z",
     "iopub.status.idle": "2021-10-20T13:21:18.709241Z",
     "shell.execute_reply": "2021-10-20T13:21:18.708132Z"
    }
   },
   "outputs": [
    {
     "data": {
      "text/html": [
       "<table>\n",
       "<thead><tr><th scope=col>V1</th></tr></thead>\n",
       "<tbody>\n",
       "\t<tr><td>PGDX16568P</td></tr>\n",
       "\t<tr><td>PGDX16569P</td></tr>\n",
       "\t<tr><td>PGDX16570P</td></tr>\n",
       "\t<tr><td>PGDX16571P</td></tr>\n",
       "\t<tr><td>PGDX16579P</td></tr>\n",
       "\t<tr><td>PGDX16580P</td></tr>\n",
       "</tbody>\n",
       "</table>\n"
      ],
      "text/latex": [
       "\\begin{tabular}{r|l}\n",
       " V1\\\\\n",
       "\\hline\n",
       "\t PGDX16568P\\\\\n",
       "\t PGDX16569P\\\\\n",
       "\t PGDX16570P\\\\\n",
       "\t PGDX16571P\\\\\n",
       "\t PGDX16579P\\\\\n",
       "\t PGDX16580P\\\\\n",
       "\\end{tabular}\n"
      ],
      "text/markdown": [
       "\n",
       "| V1 |\n",
       "|---|\n",
       "| PGDX16568P |\n",
       "| PGDX16569P |\n",
       "| PGDX16570P |\n",
       "| PGDX16571P |\n",
       "| PGDX16579P |\n",
       "| PGDX16580P |\n",
       "\n"
      ],
      "text/plain": [
       "  V1        \n",
       "1 PGDX16568P\n",
       "2 PGDX16569P\n",
       "3 PGDX16570P\n",
       "4 PGDX16571P\n",
       "5 PGDX16579P\n",
       "6 PGDX16580P"
      ]
     },
     "metadata": {},
     "output_type": "display_data"
    }
   ],
   "source": [
    "healthy_individuals <- sample_types %>% filter(V2 == \"Healthy\") %>% select(V1)\n",
    "head(healthy_individuals)"
   ]
  },
  {
   "cell_type": "code",
   "execution_count": 7,
   "id": "8704b8d8-6658-4e2d-b39a-b5851dad1cb3",
   "metadata": {
    "execution": {
     "iopub.execute_input": "2021-10-20T13:21:18.712663Z",
     "iopub.status.busy": "2021-10-20T13:21:18.711390Z",
     "iopub.status.idle": "2021-10-20T13:21:18.730014Z",
     "shell.execute_reply": "2021-10-20T13:21:18.728758Z"
    }
   },
   "outputs": [
    {
     "data": {
      "text/html": [
       "<table>\n",
       "<thead><tr><th scope=col>V1</th></tr></thead>\n",
       "<tbody>\n",
       "\t<tr><td>PGDX10344P1</td></tr>\n",
       "\t<tr><td>PGDX10346P1</td></tr>\n",
       "\t<tr><td>PGDX10349P1</td></tr>\n",
       "\t<tr><td>PGDX10351P1</td></tr>\n",
       "\t<tr><td>PGDX10566P </td></tr>\n",
       "\t<tr><td>PGDX10567P </td></tr>\n",
       "</tbody>\n",
       "</table>\n"
      ],
      "text/latex": [
       "\\begin{tabular}{r|l}\n",
       " V1\\\\\n",
       "\\hline\n",
       "\t PGDX10344P1\\\\\n",
       "\t PGDX10346P1\\\\\n",
       "\t PGDX10349P1\\\\\n",
       "\t PGDX10351P1\\\\\n",
       "\t PGDX10566P \\\\\n",
       "\t PGDX10567P \\\\\n",
       "\\end{tabular}\n"
      ],
      "text/markdown": [
       "\n",
       "| V1 |\n",
       "|---|\n",
       "| PGDX10344P1 |\n",
       "| PGDX10346P1 |\n",
       "| PGDX10349P1 |\n",
       "| PGDX10351P1 |\n",
       "| PGDX10566P  |\n",
       "| PGDX10567P  |\n",
       "\n"
      ],
      "text/plain": [
       "  V1         \n",
       "1 PGDX10344P1\n",
       "2 PGDX10346P1\n",
       "3 PGDX10349P1\n",
       "4 PGDX10351P1\n",
       "5 PGDX10566P \n",
       "6 PGDX10567P "
      ]
     },
     "metadata": {},
     "output_type": "display_data"
    }
   ],
   "source": [
    "cancer_individuals <- sample_types %>% filter(V2 != \"Healthy\") %>% select(V1)\n",
    "head(cancer_individuals)"
   ]
  },
  {
   "cell_type": "markdown",
   "id": "2589b568-7453-42b5-8ea9-2fcc6e0e9c04",
   "metadata": {},
   "source": [
    "## Controls"
   ]
  },
  {
   "cell_type": "code",
   "execution_count": 8,
   "id": "a0133672-f541-4862-beca-6440dd0f65aa",
   "metadata": {
    "execution": {
     "iopub.execute_input": "2021-10-20T13:21:18.733519Z",
     "iopub.status.busy": "2021-10-20T13:21:18.732230Z",
     "iopub.status.idle": "2021-10-20T13:21:20.199791Z",
     "shell.execute_reply": "2021-10-20T13:21:20.198504Z"
    }
   },
   "outputs": [
    {
     "data": {
      "text/html": [
       "<table>\n",
       "<thead><tr><th scope=col>sample</th><th scope=col>bin</th><th scope=col>X80</th><th scope=col>X81</th><th scope=col>X82</th><th scope=col>X83</th><th scope=col>X84</th><th scope=col>X85</th><th scope=col>X86</th><th scope=col>X87</th><th scope=col>...</th><th scope=col>X391</th><th scope=col>X392</th><th scope=col>X393</th><th scope=col>X394</th><th scope=col>X395</th><th scope=col>X396</th><th scope=col>X397</th><th scope=col>X398</th><th scope=col>X399</th><th scope=col>X400</th></tr></thead>\n",
       "<tbody>\n",
       "\t<tr><td>PGDX16568P  </td><td>chr10_400   </td><td>0.0000000000</td><td>0.0000000000</td><td>0.0000000000</td><td>0           </td><td>0.0000000000</td><td>0.0001749781</td><td>0           </td><td>0.000000000 </td><td>...         </td><td>0.0001749781</td><td>0.0003499563</td><td>0.0000000000</td><td>0.0001749781</td><td>0.0000000000</td><td>0.0001749781</td><td>0.0000000000</td><td>0.0000000000</td><td>0.0000000000</td><td>0.0001749781</td></tr>\n",
       "\t<tr><td>PGDX16568P  </td><td>chr10_40    </td><td>0.0000000000</td><td>0.0000000000</td><td>0.0002340276</td><td>0           </td><td>0.0002340276</td><td>0.0000000000</td><td>0           </td><td>0.000000000 </td><td>...         </td><td>0.0002340276</td><td>0.0002340276</td><td>0.0000000000</td><td>0.0002340276</td><td>0.0000000000</td><td>0.0000000000</td><td>0.0002340276</td><td>0.0000000000</td><td>0.0002340276</td><td>0.0000000000</td></tr>\n",
       "\t<tr><td>PGDX16568P  </td><td>chr10_4     </td><td>0.0000000000</td><td>0.0002093802</td><td>0.0002093802</td><td>0           </td><td>0.0000000000</td><td>0.0002093802</td><td>0           </td><td>0.000000000 </td><td>...         </td><td>0.0000000000</td><td>0.0000000000</td><td>0.0000000000</td><td>0.0004187605</td><td>0.0002093802</td><td>0.0000000000</td><td>0.0000000000</td><td>0.0002093802</td><td>0.0000000000</td><td>0.0000000000</td></tr>\n",
       "\t<tr><td>PGDX16568P  </td><td>chr10_401   </td><td>0.0000000000</td><td>0.0000000000</td><td>0.0000000000</td><td>0           </td><td>0.0000000000</td><td>0.0000000000</td><td>0           </td><td>0.000203666 </td><td>...         </td><td>0.0004073320</td><td>0.0000000000</td><td>0.0004073320</td><td>0.0000000000</td><td>0.0000000000</td><td>0.0000000000</td><td>0.0000000000</td><td>0.0002036660</td><td>0.0000000000</td><td>0.0002036660</td></tr>\n",
       "\t<tr><td>PGDX16568P  </td><td>chr10_402   </td><td>0.0000000000</td><td>0.0002337541</td><td>0.0000000000</td><td>0           </td><td>0.0000000000</td><td>0.0000000000</td><td>0           </td><td>0.000000000 </td><td>...         </td><td>0.0000000000</td><td>0.0000000000</td><td>0.0000000000</td><td>0.0000000000</td><td>0.0000000000</td><td>0.0002337541</td><td>0.0000000000</td><td>0.0000000000</td><td>0.0004675082</td><td>0.0004675082</td></tr>\n",
       "\t<tr><td>PGDX16568P  </td><td>chr10_403   </td><td>0.0002130379</td><td>0.0000000000</td><td>0.0000000000</td><td>0           </td><td>0.0000000000</td><td>0.0000000000</td><td>0           </td><td>0.000000000 </td><td>...         </td><td>0.0004260758</td><td>0.0002130379</td><td>0.0002130379</td><td>0.0002130379</td><td>0.0002130379</td><td>0.0000000000</td><td>0.0000000000</td><td>0.0000000000</td><td>0.0000000000</td><td>0.0000000000</td></tr>\n",
       "</tbody>\n",
       "</table>\n"
      ],
      "text/latex": [
       "\\begin{tabular}{r|lllllllllllllllllllllllllllllllllllllllllllllllllllllllllllllllllllllllllllllllllllllllllllllllllllllllllllllllllllllllllllllllllllllllllllllllllllllllllllllllllllllllllllllllllllllllllllllllllllllllllllllllllllllllllllllllllllllllllllllllllllllllllllllllllllllllllllllllllllllllllllllllllllllllllllllllllllllllllllllllllll}\n",
       " sample & bin & X80 & X81 & X82 & X83 & X84 & X85 & X86 & X87 & ... & X391 & X392 & X393 & X394 & X395 & X396 & X397 & X398 & X399 & X400\\\\\n",
       "\\hline\n",
       "\t PGDX16568P   & chr10\\_400  & 0.0000000000 & 0.0000000000 & 0.0000000000 & 0            & 0.0000000000 & 0.0001749781 & 0            & 0.000000000  & ...          & 0.0001749781 & 0.0003499563 & 0.0000000000 & 0.0001749781 & 0.0000000000 & 0.0001749781 & 0.0000000000 & 0.0000000000 & 0.0000000000 & 0.0001749781\\\\\n",
       "\t PGDX16568P   & chr10\\_40   & 0.0000000000 & 0.0000000000 & 0.0002340276 & 0            & 0.0002340276 & 0.0000000000 & 0            & 0.000000000  & ...          & 0.0002340276 & 0.0002340276 & 0.0000000000 & 0.0002340276 & 0.0000000000 & 0.0000000000 & 0.0002340276 & 0.0000000000 & 0.0002340276 & 0.0000000000\\\\\n",
       "\t PGDX16568P   & chr10\\_4    & 0.0000000000 & 0.0002093802 & 0.0002093802 & 0            & 0.0000000000 & 0.0002093802 & 0            & 0.000000000  & ...          & 0.0000000000 & 0.0000000000 & 0.0000000000 & 0.0004187605 & 0.0002093802 & 0.0000000000 & 0.0000000000 & 0.0002093802 & 0.0000000000 & 0.0000000000\\\\\n",
       "\t PGDX16568P   & chr10\\_401  & 0.0000000000 & 0.0000000000 & 0.0000000000 & 0            & 0.0000000000 & 0.0000000000 & 0            & 0.000203666  & ...          & 0.0004073320 & 0.0000000000 & 0.0004073320 & 0.0000000000 & 0.0000000000 & 0.0000000000 & 0.0000000000 & 0.0002036660 & 0.0000000000 & 0.0002036660\\\\\n",
       "\t PGDX16568P   & chr10\\_402  & 0.0000000000 & 0.0002337541 & 0.0000000000 & 0            & 0.0000000000 & 0.0000000000 & 0            & 0.000000000  & ...          & 0.0000000000 & 0.0000000000 & 0.0000000000 & 0.0000000000 & 0.0000000000 & 0.0002337541 & 0.0000000000 & 0.0000000000 & 0.0004675082 & 0.0004675082\\\\\n",
       "\t PGDX16568P   & chr10\\_403  & 0.0002130379 & 0.0000000000 & 0.0000000000 & 0            & 0.0000000000 & 0.0000000000 & 0            & 0.000000000  & ...          & 0.0004260758 & 0.0002130379 & 0.0002130379 & 0.0002130379 & 0.0002130379 & 0.0000000000 & 0.0000000000 & 0.0000000000 & 0.0000000000 & 0.0000000000\\\\\n",
       "\\end{tabular}\n"
      ],
      "text/markdown": [
       "\n",
       "| sample | bin | X80 | X81 | X82 | X83 | X84 | X85 | X86 | X87 | ... | X391 | X392 | X393 | X394 | X395 | X396 | X397 | X398 | X399 | X400 |\n",
       "|---|---|---|---|---|---|---|---|---|---|---|---|---|---|---|---|---|---|---|---|---|\n",
       "| PGDX16568P   | chr10_400    | 0.0000000000 | 0.0000000000 | 0.0000000000 | 0            | 0.0000000000 | 0.0001749781 | 0            | 0.000000000  | ...          | 0.0001749781 | 0.0003499563 | 0.0000000000 | 0.0001749781 | 0.0000000000 | 0.0001749781 | 0.0000000000 | 0.0000000000 | 0.0000000000 | 0.0001749781 |\n",
       "| PGDX16568P   | chr10_40     | 0.0000000000 | 0.0000000000 | 0.0002340276 | 0            | 0.0002340276 | 0.0000000000 | 0            | 0.000000000  | ...          | 0.0002340276 | 0.0002340276 | 0.0000000000 | 0.0002340276 | 0.0000000000 | 0.0000000000 | 0.0002340276 | 0.0000000000 | 0.0002340276 | 0.0000000000 |\n",
       "| PGDX16568P   | chr10_4      | 0.0000000000 | 0.0002093802 | 0.0002093802 | 0            | 0.0000000000 | 0.0002093802 | 0            | 0.000000000  | ...          | 0.0000000000 | 0.0000000000 | 0.0000000000 | 0.0004187605 | 0.0002093802 | 0.0000000000 | 0.0000000000 | 0.0002093802 | 0.0000000000 | 0.0000000000 |\n",
       "| PGDX16568P   | chr10_401    | 0.0000000000 | 0.0000000000 | 0.0000000000 | 0            | 0.0000000000 | 0.0000000000 | 0            | 0.000203666  | ...          | 0.0004073320 | 0.0000000000 | 0.0004073320 | 0.0000000000 | 0.0000000000 | 0.0000000000 | 0.0000000000 | 0.0002036660 | 0.0000000000 | 0.0002036660 |\n",
       "| PGDX16568P   | chr10_402    | 0.0000000000 | 0.0002337541 | 0.0000000000 | 0            | 0.0000000000 | 0.0000000000 | 0            | 0.000000000  | ...          | 0.0000000000 | 0.0000000000 | 0.0000000000 | 0.0000000000 | 0.0000000000 | 0.0002337541 | 0.0000000000 | 0.0000000000 | 0.0004675082 | 0.0004675082 |\n",
       "| PGDX16568P   | chr10_403    | 0.0002130379 | 0.0000000000 | 0.0000000000 | 0            | 0.0000000000 | 0.0000000000 | 0            | 0.000000000  | ...          | 0.0004260758 | 0.0002130379 | 0.0002130379 | 0.0002130379 | 0.0002130379 | 0.0000000000 | 0.0000000000 | 0.0000000000 | 0.0000000000 | 0.0000000000 |\n",
       "\n"
      ],
      "text/plain": [
       "  sample     bin       X80          X81          X82          X83 X84         \n",
       "1 PGDX16568P chr10_400 0.0000000000 0.0000000000 0.0000000000 0   0.0000000000\n",
       "2 PGDX16568P chr10_40  0.0000000000 0.0000000000 0.0002340276 0   0.0002340276\n",
       "3 PGDX16568P chr10_4   0.0000000000 0.0002093802 0.0002093802 0   0.0000000000\n",
       "4 PGDX16568P chr10_401 0.0000000000 0.0000000000 0.0000000000 0   0.0000000000\n",
       "5 PGDX16568P chr10_402 0.0000000000 0.0002337541 0.0000000000 0   0.0000000000\n",
       "6 PGDX16568P chr10_403 0.0002130379 0.0000000000 0.0000000000 0   0.0000000000\n",
       "  X85          X86 X87         ... X391         X392         X393        \n",
       "1 0.0001749781 0   0.000000000 ... 0.0001749781 0.0003499563 0.0000000000\n",
       "2 0.0000000000 0   0.000000000 ... 0.0002340276 0.0002340276 0.0000000000\n",
       "3 0.0002093802 0   0.000000000 ... 0.0000000000 0.0000000000 0.0000000000\n",
       "4 0.0000000000 0   0.000203666 ... 0.0004073320 0.0000000000 0.0004073320\n",
       "5 0.0000000000 0   0.000000000 ... 0.0000000000 0.0000000000 0.0000000000\n",
       "6 0.0000000000 0   0.000000000 ... 0.0004260758 0.0002130379 0.0002130379\n",
       "  X394         X395         X396         X397         X398         X399        \n",
       "1 0.0001749781 0.0000000000 0.0001749781 0.0000000000 0.0000000000 0.0000000000\n",
       "2 0.0002340276 0.0000000000 0.0000000000 0.0002340276 0.0000000000 0.0002340276\n",
       "3 0.0004187605 0.0002093802 0.0000000000 0.0000000000 0.0002093802 0.0000000000\n",
       "4 0.0000000000 0.0000000000 0.0000000000 0.0000000000 0.0002036660 0.0000000000\n",
       "5 0.0000000000 0.0000000000 0.0002337541 0.0000000000 0.0000000000 0.0004675082\n",
       "6 0.0002130379 0.0002130379 0.0000000000 0.0000000000 0.0000000000 0.0000000000\n",
       "  X400        \n",
       "1 0.0001749781\n",
       "2 0.0000000000\n",
       "3 0.0000000000\n",
       "4 0.0002036660\n",
       "5 0.0004675082\n",
       "6 0.0000000000"
      ]
     },
     "metadata": {},
     "output_type": "display_data"
    }
   ],
   "source": [
    "data_controls <- data %>% filter(sample %in% healthy_individuals$V1)\n",
    "\n",
    "head(data_controls)"
   ]
  },
  {
   "cell_type": "code",
   "execution_count": 9,
   "id": "9a2fc7f2-b9fa-48fd-8779-1e43b16c965a",
   "metadata": {
    "execution": {
     "iopub.execute_input": "2021-10-20T13:21:20.202919Z",
     "iopub.status.busy": "2021-10-20T13:21:20.201803Z",
     "iopub.status.idle": "2021-10-20T13:21:20.215126Z",
     "shell.execute_reply": "2021-10-20T13:21:20.214026Z"
    }
   },
   "outputs": [
    {
     "data": {
      "text/html": [
       "<ol class=list-inline>\n",
       "\t<li>2503629</li>\n",
       "\t<li>323</li>\n",
       "</ol>\n"
      ],
      "text/latex": [
       "\\begin{enumerate*}\n",
       "\\item 2503629\n",
       "\\item 323\n",
       "\\end{enumerate*}\n"
      ],
      "text/markdown": [
       "1. 2503629\n",
       "2. 323\n",
       "\n",
       "\n"
      ],
      "text/plain": [
       "[1] 2503629     323"
      ]
     },
     "metadata": {},
     "output_type": "display_data"
    }
   ],
   "source": [
    "dim(data_controls)"
   ]
  },
  {
   "cell_type": "code",
   "execution_count": 10,
   "id": "41d146ec-dd79-42c9-996d-4ef5b9e21878",
   "metadata": {
    "execution": {
     "iopub.execute_input": "2021-10-20T13:21:20.218147Z",
     "iopub.status.busy": "2021-10-20T13:21:20.217024Z",
     "iopub.status.idle": "2021-10-20T13:24:51.141047Z",
     "shell.execute_reply": "2021-10-20T13:24:51.139641Z"
    }
   },
   "outputs": [],
   "source": [
    "saveRDS(data_controls, file = snakemake@output[[\"output_controls_normalized_trimmed\"]])"
   ]
  },
  {
   "cell_type": "markdown",
   "id": "97ee341e-0816-458c-9cac-d357d225e56d",
   "metadata": {},
   "source": [
    "## Cases"
   ]
  },
  {
   "cell_type": "code",
   "execution_count": 11,
   "id": "ea26edc1-5b34-4ef0-8e6f-a073d33d0e49",
   "metadata": {
    "execution": {
     "iopub.execute_input": "2021-10-20T13:24:51.157907Z",
     "iopub.status.busy": "2021-10-20T13:24:51.156543Z",
     "iopub.status.idle": "2021-10-20T13:24:52.700014Z",
     "shell.execute_reply": "2021-10-20T13:24:52.698903Z"
    }
   },
   "outputs": [
    {
     "data": {
      "text/html": [
       "<table>\n",
       "<thead><tr><th scope=col>sample</th><th scope=col>bin</th><th scope=col>X80</th><th scope=col>X81</th><th scope=col>X82</th><th scope=col>X83</th><th scope=col>X84</th><th scope=col>X85</th><th scope=col>X86</th><th scope=col>X87</th><th scope=col>...</th><th scope=col>X391</th><th scope=col>X392</th><th scope=col>X393</th><th scope=col>X394</th><th scope=col>X395</th><th scope=col>X396</th><th scope=col>X397</th><th scope=col>X398</th><th scope=col>X399</th><th scope=col>X400</th></tr></thead>\n",
       "<tbody>\n",
       "\t<tr><td>PGDX10344P1 </td><td>chr10_400   </td><td>0           </td><td>0.0000000000</td><td>0.0000000000</td><td>0.0000000000</td><td>0           </td><td>0.0002261932</td><td>0.0002261932</td><td>0.0000000000</td><td>...         </td><td>0.0002261932</td><td>0.0004523863</td><td>0.0000000000</td><td>0.0002261932</td><td>0.0000000000</td><td>0.0002261932</td><td>0.0000000000</td><td>0.0000000000</td><td>0.0000000000</td><td>0.0002261932</td></tr>\n",
       "\t<tr><td>PGDX10344P1 </td><td>chr10_40    </td><td>0           </td><td>0.0000000000</td><td>0.0000000000</td><td>0.0000000000</td><td>0           </td><td>0.0000000000</td><td>0.0000000000</td><td>0.0000000000</td><td>...         </td><td>0.0000000000</td><td>0.0000000000</td><td>0.0002773925</td><td>0.0002773925</td><td>0.0002773925</td><td>0.0002773925</td><td>0.0000000000</td><td>0.0002773925</td><td>0.0002773925</td><td>0.0002773925</td></tr>\n",
       "\t<tr><td>PGDX10344P1 </td><td>chr10_4     </td><td>0           </td><td>0.0000000000</td><td>0.0002667378</td><td>0.0000000000</td><td>0           </td><td>0.0000000000</td><td>0.0002667378</td><td>0.0000000000</td><td>...         </td><td>0.0002667378</td><td>0.0005334756</td><td>0.0002667378</td><td>0.0002667378</td><td>0.0000000000</td><td>0.0005334756</td><td>0.0000000000</td><td>0.0000000000</td><td>0.0000000000</td><td>0.0000000000</td></tr>\n",
       "\t<tr><td>PGDX10344P1 </td><td>chr10_401   </td><td>0           </td><td>0.0000000000</td><td>0.0000000000</td><td>0.0002428363</td><td>0           </td><td>0.0002428363</td><td>0.0000000000</td><td>0.0002428363</td><td>...         </td><td>0.0002428363</td><td>0.0000000000</td><td>0.0000000000</td><td>0.0000000000</td><td>0.0000000000</td><td>0.0000000000</td><td>0.0000000000</td><td>0.0007285090</td><td>0.0004856727</td><td>0.0000000000</td></tr>\n",
       "\t<tr><td>PGDX10344P1 </td><td>chr10_402   </td><td>0           </td><td>0.0000000000</td><td>0.0000000000</td><td>0.0002801905</td><td>0           </td><td>0.0000000000</td><td>0.0002801905</td><td>0.0000000000</td><td>...         </td><td>0.0002801905</td><td>0.0002801905</td><td>0.0002801905</td><td>0.0005603811</td><td>0.0002801905</td><td>0.0000000000</td><td>0.0002801905</td><td>0.0002801905</td><td>0.0005603811</td><td>0.0002801905</td></tr>\n",
       "\t<tr><td>PGDX10344P1 </td><td>chr10_403   </td><td>0           </td><td>0.0005206977</td><td>0.0000000000</td><td>0.0000000000</td><td>0           </td><td>0.0002603489</td><td>0.0000000000</td><td>0.0000000000</td><td>...         </td><td>0.0002603489</td><td>0.0000000000</td><td>0.0000000000</td><td>0.0005206977</td><td>0.0000000000</td><td>0.0002603489</td><td>0.0002603489</td><td>0.0002603489</td><td>0.0002603489</td><td>0.0005206977</td></tr>\n",
       "</tbody>\n",
       "</table>\n"
      ],
      "text/latex": [
       "\\begin{tabular}{r|lllllllllllllllllllllllllllllllllllllllllllllllllllllllllllllllllllllllllllllllllllllllllllllllllllllllllllllllllllllllllllllllllllllllllllllllllllllllllllllllllllllllllllllllllllllllllllllllllllllllllllllllllllllllllllllllllllllllllllllllllllllllllllllllllllllllllllllllllllllllllllllllllllllllllllllllllllllllllllllllllll}\n",
       " sample & bin & X80 & X81 & X82 & X83 & X84 & X85 & X86 & X87 & ... & X391 & X392 & X393 & X394 & X395 & X396 & X397 & X398 & X399 & X400\\\\\n",
       "\\hline\n",
       "\t PGDX10344P1  & chr10\\_400  & 0            & 0.0000000000 & 0.0000000000 & 0.0000000000 & 0            & 0.0002261932 & 0.0002261932 & 0.0000000000 & ...          & 0.0002261932 & 0.0004523863 & 0.0000000000 & 0.0002261932 & 0.0000000000 & 0.0002261932 & 0.0000000000 & 0.0000000000 & 0.0000000000 & 0.0002261932\\\\\n",
       "\t PGDX10344P1  & chr10\\_40   & 0            & 0.0000000000 & 0.0000000000 & 0.0000000000 & 0            & 0.0000000000 & 0.0000000000 & 0.0000000000 & ...          & 0.0000000000 & 0.0000000000 & 0.0002773925 & 0.0002773925 & 0.0002773925 & 0.0002773925 & 0.0000000000 & 0.0002773925 & 0.0002773925 & 0.0002773925\\\\\n",
       "\t PGDX10344P1  & chr10\\_4    & 0            & 0.0000000000 & 0.0002667378 & 0.0000000000 & 0            & 0.0000000000 & 0.0002667378 & 0.0000000000 & ...          & 0.0002667378 & 0.0005334756 & 0.0002667378 & 0.0002667378 & 0.0000000000 & 0.0005334756 & 0.0000000000 & 0.0000000000 & 0.0000000000 & 0.0000000000\\\\\n",
       "\t PGDX10344P1  & chr10\\_401  & 0            & 0.0000000000 & 0.0000000000 & 0.0002428363 & 0            & 0.0002428363 & 0.0000000000 & 0.0002428363 & ...          & 0.0002428363 & 0.0000000000 & 0.0000000000 & 0.0000000000 & 0.0000000000 & 0.0000000000 & 0.0000000000 & 0.0007285090 & 0.0004856727 & 0.0000000000\\\\\n",
       "\t PGDX10344P1  & chr10\\_402  & 0            & 0.0000000000 & 0.0000000000 & 0.0002801905 & 0            & 0.0000000000 & 0.0002801905 & 0.0000000000 & ...          & 0.0002801905 & 0.0002801905 & 0.0002801905 & 0.0005603811 & 0.0002801905 & 0.0000000000 & 0.0002801905 & 0.0002801905 & 0.0005603811 & 0.0002801905\\\\\n",
       "\t PGDX10344P1  & chr10\\_403  & 0            & 0.0005206977 & 0.0000000000 & 0.0000000000 & 0            & 0.0002603489 & 0.0000000000 & 0.0000000000 & ...          & 0.0002603489 & 0.0000000000 & 0.0000000000 & 0.0005206977 & 0.0000000000 & 0.0002603489 & 0.0002603489 & 0.0002603489 & 0.0002603489 & 0.0005206977\\\\\n",
       "\\end{tabular}\n"
      ],
      "text/markdown": [
       "\n",
       "| sample | bin | X80 | X81 | X82 | X83 | X84 | X85 | X86 | X87 | ... | X391 | X392 | X393 | X394 | X395 | X396 | X397 | X398 | X399 | X400 |\n",
       "|---|---|---|---|---|---|---|---|---|---|---|---|---|---|---|---|---|---|---|---|---|\n",
       "| PGDX10344P1  | chr10_400    | 0            | 0.0000000000 | 0.0000000000 | 0.0000000000 | 0            | 0.0002261932 | 0.0002261932 | 0.0000000000 | ...          | 0.0002261932 | 0.0004523863 | 0.0000000000 | 0.0002261932 | 0.0000000000 | 0.0002261932 | 0.0000000000 | 0.0000000000 | 0.0000000000 | 0.0002261932 |\n",
       "| PGDX10344P1  | chr10_40     | 0            | 0.0000000000 | 0.0000000000 | 0.0000000000 | 0            | 0.0000000000 | 0.0000000000 | 0.0000000000 | ...          | 0.0000000000 | 0.0000000000 | 0.0002773925 | 0.0002773925 | 0.0002773925 | 0.0002773925 | 0.0000000000 | 0.0002773925 | 0.0002773925 | 0.0002773925 |\n",
       "| PGDX10344P1  | chr10_4      | 0            | 0.0000000000 | 0.0002667378 | 0.0000000000 | 0            | 0.0000000000 | 0.0002667378 | 0.0000000000 | ...          | 0.0002667378 | 0.0005334756 | 0.0002667378 | 0.0002667378 | 0.0000000000 | 0.0005334756 | 0.0000000000 | 0.0000000000 | 0.0000000000 | 0.0000000000 |\n",
       "| PGDX10344P1  | chr10_401    | 0            | 0.0000000000 | 0.0000000000 | 0.0002428363 | 0            | 0.0002428363 | 0.0000000000 | 0.0002428363 | ...          | 0.0002428363 | 0.0000000000 | 0.0000000000 | 0.0000000000 | 0.0000000000 | 0.0000000000 | 0.0000000000 | 0.0007285090 | 0.0004856727 | 0.0000000000 |\n",
       "| PGDX10344P1  | chr10_402    | 0            | 0.0000000000 | 0.0000000000 | 0.0002801905 | 0            | 0.0000000000 | 0.0002801905 | 0.0000000000 | ...          | 0.0002801905 | 0.0002801905 | 0.0002801905 | 0.0005603811 | 0.0002801905 | 0.0000000000 | 0.0002801905 | 0.0002801905 | 0.0005603811 | 0.0002801905 |\n",
       "| PGDX10344P1  | chr10_403    | 0            | 0.0005206977 | 0.0000000000 | 0.0000000000 | 0            | 0.0002603489 | 0.0000000000 | 0.0000000000 | ...          | 0.0002603489 | 0.0000000000 | 0.0000000000 | 0.0005206977 | 0.0000000000 | 0.0002603489 | 0.0002603489 | 0.0002603489 | 0.0002603489 | 0.0005206977 |\n",
       "\n"
      ],
      "text/plain": [
       "  sample      bin       X80 X81          X82          X83          X84\n",
       "1 PGDX10344P1 chr10_400 0   0.0000000000 0.0000000000 0.0000000000 0  \n",
       "2 PGDX10344P1 chr10_40  0   0.0000000000 0.0000000000 0.0000000000 0  \n",
       "3 PGDX10344P1 chr10_4   0   0.0000000000 0.0002667378 0.0000000000 0  \n",
       "4 PGDX10344P1 chr10_401 0   0.0000000000 0.0000000000 0.0002428363 0  \n",
       "5 PGDX10344P1 chr10_402 0   0.0000000000 0.0000000000 0.0002801905 0  \n",
       "6 PGDX10344P1 chr10_403 0   0.0005206977 0.0000000000 0.0000000000 0  \n",
       "  X85          X86          X87          ... X391         X392        \n",
       "1 0.0002261932 0.0002261932 0.0000000000 ... 0.0002261932 0.0004523863\n",
       "2 0.0000000000 0.0000000000 0.0000000000 ... 0.0000000000 0.0000000000\n",
       "3 0.0000000000 0.0002667378 0.0000000000 ... 0.0002667378 0.0005334756\n",
       "4 0.0002428363 0.0000000000 0.0002428363 ... 0.0002428363 0.0000000000\n",
       "5 0.0000000000 0.0002801905 0.0000000000 ... 0.0002801905 0.0002801905\n",
       "6 0.0002603489 0.0000000000 0.0000000000 ... 0.0002603489 0.0000000000\n",
       "  X393         X394         X395         X396         X397         X398        \n",
       "1 0.0000000000 0.0002261932 0.0000000000 0.0002261932 0.0000000000 0.0000000000\n",
       "2 0.0002773925 0.0002773925 0.0002773925 0.0002773925 0.0000000000 0.0002773925\n",
       "3 0.0002667378 0.0002667378 0.0000000000 0.0005334756 0.0000000000 0.0000000000\n",
       "4 0.0000000000 0.0000000000 0.0000000000 0.0000000000 0.0000000000 0.0007285090\n",
       "5 0.0002801905 0.0005603811 0.0002801905 0.0000000000 0.0002801905 0.0002801905\n",
       "6 0.0000000000 0.0005206977 0.0000000000 0.0002603489 0.0002603489 0.0002603489\n",
       "  X399         X400        \n",
       "1 0.0000000000 0.0002261932\n",
       "2 0.0002773925 0.0002773925\n",
       "3 0.0000000000 0.0000000000\n",
       "4 0.0004856727 0.0000000000\n",
       "5 0.0005603811 0.0002801905\n",
       "6 0.0002603489 0.0005206977"
      ]
     },
     "metadata": {},
     "output_type": "display_data"
    }
   ],
   "source": [
    "data_cases <- data %>% filter(sample %in% cancer_individuals$V1)\n",
    "\n",
    "head(data_cases)"
   ]
  },
  {
   "cell_type": "code",
   "execution_count": 12,
   "id": "3aaf579f-cacf-4c62-b55c-0cc91390bbfe",
   "metadata": {
    "execution": {
     "iopub.execute_input": "2021-10-20T13:24:52.703540Z",
     "iopub.status.busy": "2021-10-20T13:24:52.702402Z",
     "iopub.status.idle": "2021-10-20T13:24:52.715138Z",
     "shell.execute_reply": "2021-10-20T13:24:52.714016Z"
    }
   },
   "outputs": [
    {
     "data": {
      "text/html": [
       "<ol class=list-inline>\n",
       "\t<li>2369690</li>\n",
       "\t<li>323</li>\n",
       "</ol>\n"
      ],
      "text/latex": [
       "\\begin{enumerate*}\n",
       "\\item 2369690\n",
       "\\item 323\n",
       "\\end{enumerate*}\n"
      ],
      "text/markdown": [
       "1. 2369690\n",
       "2. 323\n",
       "\n",
       "\n"
      ],
      "text/plain": [
       "[1] 2369690     323"
      ]
     },
     "metadata": {},
     "output_type": "display_data"
    }
   ],
   "source": [
    "dim(data_cases)"
   ]
  },
  {
   "cell_type": "code",
   "execution_count": 13,
   "id": "76b11989-a910-4066-81be-60e4c5fc126f",
   "metadata": {
    "execution": {
     "iopub.execute_input": "2021-10-20T13:24:52.718636Z",
     "iopub.status.busy": "2021-10-20T13:24:52.717120Z",
     "iopub.status.idle": "2021-10-20T13:28:03.658961Z",
     "shell.execute_reply": "2021-10-20T13:28:03.657546Z"
    }
   },
   "outputs": [],
   "source": [
    "saveRDS(data_cases, file = snakemake@output[[\"output_cases_normalized_trimmed\"]])"
   ]
  }
 ],
 "metadata": {
  "kernelspec": {
   "display_name": "R",
   "language": "R",
   "name": "ir"
  },
  "language_info": {
   "codemirror_mode": "r",
   "file_extension": ".r",
   "mimetype": "text/x-r-source",
   "name": "R",
   "pygments_lexer": "r",
   "version": "3.6.1"
  }
 },
 "nbformat": 4,
 "nbformat_minor": 5
}
