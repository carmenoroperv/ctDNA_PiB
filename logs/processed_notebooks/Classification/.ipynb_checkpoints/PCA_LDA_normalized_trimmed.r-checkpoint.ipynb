{
 "cells": [
  {
   "cell_type": "code",
   "execution_count": 1,
   "id": "c857330d",
   "metadata": {
    "execution": {
     "iopub.execute_input": "2021-11-11T20:37:40.955505Z",
     "iopub.status.busy": "2021-11-11T20:37:40.949988Z",
     "iopub.status.idle": "2021-11-11T20:37:41.025481Z",
     "shell.execute_reply": "2021-11-11T20:37:41.023699Z"
    },
    "tags": [
     "snakemake-job-properties"
    ]
   },
   "outputs": [],
   "source": [
    "\n",
    "######## snakemake preamble start (automatically inserted, do not edit) ########\n",
    "library(methods)\n",
    "Snakemake <- setClass(\n",
    "    \"Snakemake\",\n",
    "    slots = c(\n",
    "        input = \"list\",\n",
    "        output = \"list\",\n",
    "        params = \"list\",\n",
    "        wildcards = \"list\",\n",
    "        threads = \"numeric\",\n",
    "        log = \"list\",\n",
    "        resources = \"list\",\n",
    "        config = \"list\",\n",
    "        rule = \"character\",\n",
    "        bench_iteration = \"numeric\",\n",
    "        scriptdir = \"character\",\n",
    "        source = \"function\"\n",
    "    )\n",
    ")\n",
    "snakemake <- Snakemake(\n",
    "    input = list('data/ATAC_predictions_train_20_predict_80/ATAC_pred_lasso_normalized_trimmed_formatted_standardized.rds', 'data/sample_types.txt', \"input_predictions\" = 'data/ATAC_predictions_train_20_predict_80/ATAC_pred_lasso_normalized_trimmed_formatted_standardized.rds', \"input_sample_types\" = 'data/sample_types.txt'),\n",
    "    output = list('Classification_output/PCA_LDA_normalized_trimmed.rds', \"LDA_output\" = 'Classification_output/PCA_LDA_normalized_trimmed.rds'),\n",
    "    params = list(),\n",
    "    wildcards = list(),\n",
    "    threads = 1,\n",
    "    log = list('logs/processed_notebooks/Classification/PCA_LDA_normalized_trimmed.r.ipynb', \"notebook\" = 'logs/processed_notebooks/Classification/PCA_LDA_normalized_trimmed.r.ipynb'),\n",
    "    resources = list('mem_mb', 'disk_mb', 'tmpdir', 'time', \"mem_mb\" = 200000, \"disk_mb\" = 1000, \"tmpdir\" = '/scratch/56917337', \"time\" = '48:00:00'),\n",
    "    config = list(),\n",
    "    rule = 'PCA_LDA',\n",
    "    bench_iteration = as.numeric(NA),\n",
    "    scriptdir = '/faststorage/project/DELFI1/Workspaces/CarmenAndAnika/Classification/PCA_classification',\n",
    "    source = function(...){\n",
    "        wd <- getwd()\n",
    "        setwd(snakemake@scriptdir)\n",
    "        source(...)\n",
    "        setwd(wd)\n",
    "    }\n",
    ")\n",
    "setwd('/faststorage/project/DELFI1/Workspaces/CarmenAndAnika');\n",
    "\n",
    "######## snakemake preamble end #########\n"
   ]
  },
  {
   "cell_type": "code",
   "execution_count": 2,
   "id": "2716ac21-4d05-4928-b049-8a448ea93a9b",
   "metadata": {
    "execution": {
     "iopub.execute_input": "2021-11-11T20:37:41.130792Z",
     "iopub.status.busy": "2021-11-11T20:37:41.028244Z",
     "iopub.status.idle": "2021-11-11T20:37:43.272357Z",
     "shell.execute_reply": "2021-11-11T20:37:43.270789Z"
    }
   },
   "outputs": [
    {
     "name": "stderr",
     "output_type": "stream",
     "text": [
      "\n",
      "Attaching package: ‘dplyr’\n",
      "\n",
      "The following objects are masked from ‘package:stats’:\n",
      "\n",
      "    filter, lag\n",
      "\n",
      "The following objects are masked from ‘package:base’:\n",
      "\n",
      "    intersect, setdiff, setequal, union\n",
      "\n",
      "Registered S3 methods overwritten by 'ggplot2':\n",
      "  method         from \n",
      "  [.quosures     rlang\n",
      "  c.quosures     rlang\n",
      "  print.quosures rlang\n",
      "Registered S3 method overwritten by 'rvest':\n",
      "  method            from\n",
      "  read_xml.response xml2\n",
      "── Attaching packages ─────────────────────────────────────── tidyverse 1.2.1 ──\n",
      "✔ ggplot2 3.1.1     ✔ readr   1.3.1\n",
      "✔ tibble  3.1.4     ✔ purrr   0.3.4\n",
      "✔ tidyr   1.1.3     ✔ stringr 1.4.0\n",
      "✔ ggplot2 3.1.1     ✔ forcats 0.4.0\n",
      "── Conflicts ────────────────────────────────────────── tidyverse_conflicts() ──\n",
      "✖ dplyr::filter() masks stats::filter()\n",
      "✖ dplyr::lag()    masks stats::lag()\n",
      "Type 'citation(\"pROC\")' for a citation.\n",
      "\n",
      "Attaching package: ‘pROC’\n",
      "\n",
      "The following objects are masked from ‘package:stats’:\n",
      "\n",
      "    cov, smooth, var\n",
      "\n",
      "Loading required package: Matrix\n",
      "\n",
      "Attaching package: ‘Matrix’\n",
      "\n",
      "The following objects are masked from ‘package:tidyr’:\n",
      "\n",
      "    expand, pack, unpack\n",
      "\n",
      "Loading required package: foreach\n",
      "\n",
      "Attaching package: ‘foreach’\n",
      "\n",
      "The following objects are masked from ‘package:purrr’:\n",
      "\n",
      "    accumulate, when\n",
      "\n",
      "Loaded glmnet 2.0-16\n",
      "\n",
      "\n",
      "Attaching package: ‘glmnet’\n",
      "\n",
      "The following object is masked from ‘package:pROC’:\n",
      "\n",
      "    auc\n",
      "\n",
      "\n",
      "Attaching package: ‘MASS’\n",
      "\n",
      "The following object is masked from ‘package:dplyr’:\n",
      "\n",
      "    select\n",
      "\n",
      "\n",
      "Attaching package: ‘glmnetUtils’\n",
      "\n",
      "The following objects are masked from ‘package:glmnet’:\n",
      "\n",
      "    cv.glmnet, glmnet\n",
      "\n"
     ]
    }
   ],
   "source": [
    "library(dplyr)\n",
    "library(class)\n",
    "library(tidyverse)\n",
    "library(pROC)\n",
    "library(glmnet)\n",
    "library(MASS)\n",
    "#install.packages('glmnetUtils')\n",
    "library(glmnetUtils)"
   ]
  },
  {
   "cell_type": "code",
   "execution_count": 3,
   "id": "b76e1a6c-c21e-4262-bccd-789fbd93c858",
   "metadata": {
    "execution": {
     "iopub.execute_input": "2021-11-11T20:37:43.277276Z",
     "iopub.status.busy": "2021-11-11T20:37:43.275331Z",
     "iopub.status.idle": "2021-11-11T20:37:43.595232Z",
     "shell.execute_reply": "2021-11-11T20:37:43.593477Z"
    }
   },
   "outputs": [],
   "source": [
    "#lasso_pred <- readRDS(\"../../data/ATAC_predictions_train_XX_predict_XX/ATAC_pred_lasso_normalized_trimmed_formatted_standardized.rds\")\n",
    "lasso_pred <- readRDS(snakemake@input[[\"input_predictions\"]])"
   ]
  },
  {
   "cell_type": "code",
   "execution_count": 4,
   "id": "60f43372-ad78-48a0-9dc7-8347d86e6516",
   "metadata": {
    "execution": {
     "iopub.execute_input": "2021-11-11T20:37:43.599496Z",
     "iopub.status.busy": "2021-11-11T20:37:43.597913Z",
     "iopub.status.idle": "2021-11-11T20:37:43.907418Z",
     "shell.execute_reply": "2021-11-11T20:37:43.905822Z"
    }
   },
   "outputs": [
    {
     "name": "stderr",
     "output_type": "stream",
     "text": [
      "ERROR while rich displaying an object: Error in sprintf(wrap, header, body): 'fmt' length exceeds maximal format length 8192\n",
      "\n",
      "Traceback:\n",
      "1. FUN(X[[i]], ...)\n",
      "2. tryCatch(withCallingHandlers({\n",
      " .     if (!mime %in% names(repr::mime2repr)) \n",
      " .         stop(\"No repr_* for mimetype \", mime, \" in repr::mime2repr\")\n",
      " .     rpr <- repr::mime2repr[[mime]](obj)\n",
      " .     if (is.null(rpr)) \n",
      " .         return(NULL)\n",
      " .     prepare_content(is.raw(rpr), rpr)\n",
      " . }, error = error_handler), error = outer_handler)\n",
      "3. tryCatchList(expr, classes, parentenv, handlers)\n",
      "4. tryCatchOne(expr, names, parentenv, handlers[[1L]])\n",
      "5. doTryCatch(return(expr), name, parentenv, handler)\n",
      "6. withCallingHandlers({\n",
      " .     if (!mime %in% names(repr::mime2repr)) \n",
      " .         stop(\"No repr_* for mimetype \", mime, \" in repr::mime2repr\")\n",
      " .     rpr <- repr::mime2repr[[mime]](obj)\n",
      " .     if (is.null(rpr)) \n",
      " .         return(NULL)\n",
      " .     prepare_content(is.raw(rpr), rpr)\n",
      " . }, error = error_handler)\n",
      "7. repr::mime2repr[[mime]](obj)\n",
      "8. repr_latex.data.frame(obj)\n",
      "9. repr_matrix_generic(obj, sprintf(\"\\\\begin{tabular}{%s}\\n%%s%%s\\\\end{tabular}\\n\", \n",
      " .     cols), \"%s\\\\\\\\\\n\\\\hline\\n\", \"  &\", \" %s &\", \"%s\", \"\\t%s\\\\\\\\\\n\", \n",
      " .     \"%s &\", \" %s &\", escape_fun = latex_escape_vec, ...)\n",
      "10. sprintf(wrap, header, body)\n"
     ]
    },
    {
     "data": {
      "text/html": [
       "<table>\n",
       "<thead><tr><th></th><th scope=col>sample</th><th scope=col>chr10_400</th><th scope=col>chr10_40</th><th scope=col>chr10_4</th><th scope=col>chr10_401</th><th scope=col>chr10_402</th><th scope=col>chr10_403</th><th scope=col>chr10_404</th><th scope=col>chr10_405</th><th scope=col>chr10_406</th><th scope=col>...</th><th scope=col>chr9_39</th><th scope=col>chr9_391</th><th scope=col>chr9_392</th><th scope=col>chr9_393</th><th scope=col>chr9_394</th><th scope=col>chr9_395</th><th scope=col>chr9_396</th><th scope=col>chr9_397</th><th scope=col>chr9_398</th><th scope=col>chr9_399</th></tr></thead>\n",
       "<tbody>\n",
       "\t<tr><th scope=row>V1</th><td>PGDX16568P  </td><td>0.7621097   </td><td>-0.8032188  </td><td>0.6402487   </td><td>-0.8688929  </td><td>-0.4792134  </td><td>-0.5096581  </td><td> 0.02594817 </td><td>0.7295906   </td><td>0.7738027   </td><td>...         </td><td>-0.405123632</td><td> 0.59187320 </td><td>-0.29125018 </td><td>-0.58276010 </td><td> 0.3792968  </td><td>-0.04366948 </td><td>0.9183014   </td><td>0.7664238   </td><td>0.9980457   </td><td>-1.0572778  </td></tr>\n",
       "\t<tr><th scope=row>V2</th><td>PGDX16569P  </td><td>0.7057109   </td><td>-0.8227554  </td><td>0.7868749   </td><td>-1.0407754  </td><td>-0.9284673  </td><td>-0.4139074  </td><td>-0.16594560 </td><td>0.7765621   </td><td>0.5761691   </td><td>...         </td><td>-0.849313481</td><td> 0.39431325 </td><td> 0.05197526 </td><td>-0.36318168 </td><td> 0.1744439  </td><td>-0.13785162 </td><td>0.5392077   </td><td>0.3942941   </td><td>1.7972449   </td><td>-0.3619464  </td></tr>\n",
       "\t<tr><th scope=row>V3</th><td>PGDX16570P  </td><td>0.4891340   </td><td>-1.1448217  </td><td>0.9478602   </td><td>-1.0930696  </td><td>-0.5115270  </td><td>-0.7552269  </td><td>-0.48824613 </td><td>0.9537215   </td><td>0.6624865   </td><td>...         </td><td>-0.871941533</td><td>-0.06389996 </td><td>-0.22907645 </td><td>-0.32470631 </td><td>-0.6251958  </td><td> 0.17051719 </td><td>0.6882020   </td><td>0.1744819   </td><td>1.4357406   </td><td>-0.2330366  </td></tr>\n",
       "\t<tr><th scope=row>V4</th><td>PGDX16571P  </td><td>0.6882727   </td><td>-0.8585679  </td><td>0.6248431   </td><td>-0.8310281  </td><td>-0.5335804  </td><td>-0.5125528  </td><td>-0.34185944 </td><td>0.9281618   </td><td>0.4768828   </td><td>...         </td><td>-0.005893625</td><td> 0.18185487 </td><td> 0.32387927 </td><td> 0.04577069 </td><td> 0.2752394  </td><td> 0.22750427 </td><td>0.6333635   </td><td>0.8413436   </td><td>1.2819797   </td><td> 0.5629469  </td></tr>\n",
       "\t<tr><th scope=row>V5</th><td>PGDX16579P  </td><td>0.5801896   </td><td>-1.1674832  </td><td>0.7883376   </td><td>-1.0498406  </td><td>-1.2475692  </td><td>-0.7345196  </td><td>-0.18778863 </td><td>0.2546093   </td><td>0.2920616   </td><td>...         </td><td>-0.067895629</td><td>-0.05197828 </td><td>-0.18308631 </td><td>-0.70242368 </td><td>-0.4281903  </td><td>-0.06235782 </td><td>1.0764914   </td><td>1.1411410   </td><td>0.8795170   </td><td>-0.4910720  </td></tr>\n",
       "\t<tr><th scope=row>V6</th><td>PGDX16580P  </td><td>0.6831409   </td><td>-0.8712906  </td><td>0.7199476   </td><td>-1.1853489  </td><td>-0.8520159  </td><td>-0.6829992  </td><td>-0.35499242 </td><td>0.8598551   </td><td>0.3870744   </td><td>...         </td><td>-0.735310376</td><td> 0.36325245 </td><td> 0.20814984 </td><td>-0.50307962 </td><td> 0.2609116  </td><td> 0.53933999 </td><td>1.0772367   </td><td>0.6906960   </td><td>1.7696570   </td><td>-0.4181884  </td></tr>\n",
       "</tbody>\n",
       "</table>\n"
      ],
      "text/markdown": [
       "\n",
       "| <!--/--> | sample | chr10_400 | chr10_40 | chr10_4 | chr10_401 | chr10_402 | chr10_403 | chr10_404 | chr10_405 | chr10_406 | ... | chr9_39 | chr9_391 | chr9_392 | chr9_393 | chr9_394 | chr9_395 | chr9_396 | chr9_397 | chr9_398 | chr9_399 |\n",
       "|---|---|---|---|---|---|---|---|---|---|---|---|---|---|---|---|---|---|---|---|---|---|\n",
       "| V1 | PGDX16568P   | 0.7621097    | -0.8032188   | 0.6402487    | -0.8688929   | -0.4792134   | -0.5096581   |  0.02594817  | 0.7295906    | 0.7738027    | ...          | -0.405123632 |  0.59187320  | -0.29125018  | -0.58276010  |  0.3792968   | -0.04366948  | 0.9183014    | 0.7664238    | 0.9980457    | -1.0572778   |\n",
       "| V2 | PGDX16569P   | 0.7057109    | -0.8227554   | 0.7868749    | -1.0407754   | -0.9284673   | -0.4139074   | -0.16594560  | 0.7765621    | 0.5761691    | ...          | -0.849313481 |  0.39431325  |  0.05197526  | -0.36318168  |  0.1744439   | -0.13785162  | 0.5392077    | 0.3942941    | 1.7972449    | -0.3619464   |\n",
       "| V3 | PGDX16570P   | 0.4891340    | -1.1448217   | 0.9478602    | -1.0930696   | -0.5115270   | -0.7552269   | -0.48824613  | 0.9537215    | 0.6624865    | ...          | -0.871941533 | -0.06389996  | -0.22907645  | -0.32470631  | -0.6251958   |  0.17051719  | 0.6882020    | 0.1744819    | 1.4357406    | -0.2330366   |\n",
       "| V4 | PGDX16571P   | 0.6882727    | -0.8585679   | 0.6248431    | -0.8310281   | -0.5335804   | -0.5125528   | -0.34185944  | 0.9281618    | 0.4768828    | ...          | -0.005893625 |  0.18185487  |  0.32387927  |  0.04577069  |  0.2752394   |  0.22750427  | 0.6333635    | 0.8413436    | 1.2819797    |  0.5629469   |\n",
       "| V5 | PGDX16579P   | 0.5801896    | -1.1674832   | 0.7883376    | -1.0498406   | -1.2475692   | -0.7345196   | -0.18778863  | 0.2546093    | 0.2920616    | ...          | -0.067895629 | -0.05197828  | -0.18308631  | -0.70242368  | -0.4281903   | -0.06235782  | 1.0764914    | 1.1411410    | 0.8795170    | -0.4910720   |\n",
       "| V6 | PGDX16580P   | 0.6831409    | -0.8712906   | 0.7199476    | -1.1853489   | -0.8520159   | -0.6829992   | -0.35499242  | 0.8598551    | 0.3870744    | ...          | -0.735310376 |  0.36325245  |  0.20814984  | -0.50307962  |  0.2609116   |  0.53933999  | 1.0772367    | 0.6906960    | 1.7696570    | -0.4181884   |\n",
       "\n"
      ],
      "text/plain": [
       "   sample     chr10_400 chr10_40   chr10_4   chr10_401  chr10_402  chr10_403 \n",
       "V1 PGDX16568P 0.7621097 -0.8032188 0.6402487 -0.8688929 -0.4792134 -0.5096581\n",
       "V2 PGDX16569P 0.7057109 -0.8227554 0.7868749 -1.0407754 -0.9284673 -0.4139074\n",
       "V3 PGDX16570P 0.4891340 -1.1448217 0.9478602 -1.0930696 -0.5115270 -0.7552269\n",
       "V4 PGDX16571P 0.6882727 -0.8585679 0.6248431 -0.8310281 -0.5335804 -0.5125528\n",
       "V5 PGDX16579P 0.5801896 -1.1674832 0.7883376 -1.0498406 -1.2475692 -0.7345196\n",
       "V6 PGDX16580P 0.6831409 -0.8712906 0.7199476 -1.1853489 -0.8520159 -0.6829992\n",
       "   chr10_404   chr10_405 chr10_406 ... chr9_39      chr9_391    chr9_392   \n",
       "V1  0.02594817 0.7295906 0.7738027 ... -0.405123632  0.59187320 -0.29125018\n",
       "V2 -0.16594560 0.7765621 0.5761691 ... -0.849313481  0.39431325  0.05197526\n",
       "V3 -0.48824613 0.9537215 0.6624865 ... -0.871941533 -0.06389996 -0.22907645\n",
       "V4 -0.34185944 0.9281618 0.4768828 ... -0.005893625  0.18185487  0.32387927\n",
       "V5 -0.18778863 0.2546093 0.2920616 ... -0.067895629 -0.05197828 -0.18308631\n",
       "V6 -0.35499242 0.8598551 0.3870744 ... -0.735310376  0.36325245  0.20814984\n",
       "   chr9_393    chr9_394   chr9_395    chr9_396  chr9_397  chr9_398  chr9_399  \n",
       "V1 -0.58276010  0.3792968 -0.04366948 0.9183014 0.7664238 0.9980457 -1.0572778\n",
       "V2 -0.36318168  0.1744439 -0.13785162 0.5392077 0.3942941 1.7972449 -0.3619464\n",
       "V3 -0.32470631 -0.6251958  0.17051719 0.6882020 0.1744819 1.4357406 -0.2330366\n",
       "V4  0.04577069  0.2752394  0.22750427 0.6333635 0.8413436 1.2819797  0.5629469\n",
       "V5 -0.70242368 -0.4281903 -0.06235782 1.0764914 1.1411410 0.8795170 -0.4910720\n",
       "V6 -0.50307962  0.2609116  0.53933999 1.0772367 0.6906960 1.7696570 -0.4181884"
      ]
     },
     "metadata": {},
     "output_type": "display_data"
    }
   ],
   "source": [
    "head(lasso_pred)"
   ]
  },
  {
   "cell_type": "code",
   "execution_count": 5,
   "id": "4acd3eb0-f2e8-4dd0-b24c-abd7fe4a26fb",
   "metadata": {
    "execution": {
     "iopub.execute_input": "2021-11-11T20:37:43.912286Z",
     "iopub.status.busy": "2021-11-11T20:37:43.910438Z",
     "iopub.status.idle": "2021-11-11T20:37:46.318851Z",
     "shell.execute_reply": "2021-11-11T20:37:46.317096Z"
    }
   },
   "outputs": [],
   "source": [
    "lasso_pred.pca <- prcomp(lasso_pred[2:10304], center = TRUE,scale. = TRUE)"
   ]
  },
  {
   "cell_type": "code",
   "execution_count": 6,
   "id": "9597f667-0e0c-4560-9195-c5fa52e8aa77",
   "metadata": {
    "execution": {
     "iopub.execute_input": "2021-11-11T20:37:46.323464Z",
     "iopub.status.busy": "2021-11-11T20:37:46.321870Z",
     "iopub.status.idle": "2021-11-11T20:37:46.344822Z",
     "shell.execute_reply": "2021-11-11T20:37:46.343367Z"
    },
    "tags": []
   },
   "outputs": [
    {
     "data": {
      "text/html": [
       "<table>\n",
       "<thead><tr><th></th><th scope=col>PC1</th><th scope=col>PC2</th><th scope=col>PC3</th><th scope=col>PC4</th><th scope=col>PC5</th><th scope=col>PC6</th><th scope=col>PC7</th><th scope=col>PC8</th><th scope=col>PC9</th><th scope=col>PC10</th><th scope=col>...</th><th scope=col>PC415</th><th scope=col>PC416</th><th scope=col>PC417</th><th scope=col>PC418</th><th scope=col>PC419</th><th scope=col>PC420</th><th scope=col>PC421</th><th scope=col>PC422</th><th scope=col>PC423</th><th scope=col>PC424</th></tr></thead>\n",
       "<tbody>\n",
       "\t<tr><th scope=row>V1</th><td>-15.2265158  </td><td>  1.1439775  </td><td> -8.296222   </td><td> 4.48245890  </td><td>-1.3355241   </td><td>4.8802111    </td><td>-1.5523707   </td><td> 0.7999849   </td><td>-4.7522280   </td><td> 2.7608014   </td><td>...          </td><td>-0.65800314  </td><td> 0.95169782  </td><td>-0.41084578  </td><td> 0.60852525  </td><td>-0.07547477  </td><td> 0.01482042  </td><td>-0.35238377  </td><td> 0.13045048  </td><td>-0.2041816   </td><td>-7.410739e-15</td></tr>\n",
       "\t<tr><th scope=row>V2</th><td>  4.3243724  </td><td>-19.4159808  </td><td> 26.093334   </td><td> 9.00428915  </td><td>-5.3011949   </td><td>5.3605925    </td><td>-2.9697958   </td><td>10.1294220   </td><td>14.1969498   </td><td> 5.4397945   </td><td>...          </td><td> 0.10647120  </td><td> 0.62135384  </td><td> 0.58600376  </td><td> 0.04862774  </td><td> 1.08341218  </td><td>-0.03153724  </td><td> 0.44070032  </td><td> 0.09332012  </td><td> 0.2686092   </td><td>-1.099121e-14</td></tr>\n",
       "\t<tr><th scope=row>V3</th><td> -4.6063199  </td><td> -0.8040079  </td><td>  3.066747   </td><td> 6.76008180  </td><td>-0.7531005   </td><td>3.3614591    </td><td> 2.9378869   </td><td>-2.6362632   </td><td>-0.8766079   </td><td>-1.5006157   </td><td>...          </td><td>-0.60783168  </td><td> 0.06371054  </td><td> 0.75189183  </td><td> 0.58872501  </td><td>-0.02765133  </td><td> 0.48785318  </td><td> 0.23444574  </td><td>-0.24678547  </td><td> 0.8521206   </td><td>-8.774231e-15</td></tr>\n",
       "\t<tr><th scope=row>V4</th><td> -8.5814328  </td><td> -6.8163299  </td><td>-14.337072   </td><td>-0.09825629  </td><td>-1.2567324   </td><td>1.7686144    </td><td> 0.9196301   </td><td>-0.4870796   </td><td>-0.6504569   </td><td> 1.7541831   </td><td>...          </td><td> 0.08874938  </td><td>-0.62098954  </td><td>-0.08304112  </td><td> 0.59493798  </td><td> 0.16777147  </td><td>-0.03292807  </td><td> 0.04462314  </td><td> 0.46231486  </td><td>-0.2803168   </td><td>-6.689094e-15</td></tr>\n",
       "\t<tr><th scope=row>V5</th><td> -0.6606702  </td><td>-24.7348173  </td><td>-28.097192   </td><td>-7.80833623  </td><td>-1.2275561   </td><td>0.6568667    </td><td>-0.4001172   </td><td> 0.6167319   </td><td>-2.4452097   </td><td> 0.0269603   </td><td>...          </td><td> 0.96699400  </td><td>-0.73553404  </td><td>-0.44843059  </td><td>-0.19252807  </td><td>-0.56773840  </td><td> 0.24895345  </td><td>-0.29442997  </td><td> 0.40862739  </td><td>-0.3039250   </td><td>-9.964252e-15</td></tr>\n",
       "\t<tr><th scope=row>V6</th><td> -5.2543993  </td><td> -9.3039217  </td><td> -8.371634   </td><td> 3.57135578  </td><td>-1.5410358   </td><td>4.1509389    </td><td> 0.2083436   </td><td>-2.0991876   </td><td>-0.2124703   </td><td>-1.5396283   </td><td>...          </td><td>-0.34177895  </td><td>-1.09691623  </td><td>-0.05334271  </td><td> 1.39384990  </td><td>-0.09427847  </td><td>-0.26940296  </td><td>-0.23731892  </td><td> 0.80329505  </td><td> 0.1481473   </td><td>-8.909540e-15</td></tr>\n",
       "</tbody>\n",
       "</table>\n"
      ],
      "text/latex": [
       "\\begin{tabular}{r|llllllllllllllllllllllllllllllllllllllllllllllllllllllllllllllllllllllllllllllllllllllllllllllllllllllllllllllllllllllllllllllllllllllllllllllllllllllllllllllllllllllllllllllllllllllllllllllllllllllllllllllllllllllllllllllllllllllllllllllllllllllllllllllllllllllllllllllllllllllllllllllllllllllllllllllllllllllllllllllllllllllllllllllllllllllllllllllllllllllllllllllllllllllllllllllllllllllllllllllllllllllllllllllllllllllll}\n",
       "  & PC1 & PC2 & PC3 & PC4 & PC5 & PC6 & PC7 & PC8 & PC9 & PC10 & ... & PC415 & PC416 & PC417 & PC418 & PC419 & PC420 & PC421 & PC422 & PC423 & PC424\\\\\n",
       "\\hline\n",
       "\tV1 & -15.2265158   &   1.1439775   &  -8.296222    &  4.48245890   & -1.3355241    & 4.8802111     & -1.5523707    &  0.7999849    & -4.7522280    &  2.7608014    & ...           & -0.65800314   &  0.95169782   & -0.41084578   &  0.60852525   & -0.07547477   &  0.01482042   & -0.35238377   &  0.13045048   & -0.2041816    & -7.410739e-15\\\\\n",
       "\tV2 &   4.3243724   & -19.4159808   &  26.093334    &  9.00428915   & -5.3011949    & 5.3605925     & -2.9697958    & 10.1294220    & 14.1969498    &  5.4397945    & ...           &  0.10647120   &  0.62135384   &  0.58600376   &  0.04862774   &  1.08341218   & -0.03153724   &  0.44070032   &  0.09332012   &  0.2686092    & -1.099121e-14\\\\\n",
       "\tV3 &  -4.6063199   &  -0.8040079   &   3.066747    &  6.76008180   & -0.7531005    & 3.3614591     &  2.9378869    & -2.6362632    & -0.8766079    & -1.5006157    & ...           & -0.60783168   &  0.06371054   &  0.75189183   &  0.58872501   & -0.02765133   &  0.48785318   &  0.23444574   & -0.24678547   &  0.8521206    & -8.774231e-15\\\\\n",
       "\tV4 &  -8.5814328   &  -6.8163299   & -14.337072    & -0.09825629   & -1.2567324    & 1.7686144     &  0.9196301    & -0.4870796    & -0.6504569    &  1.7541831    & ...           &  0.08874938   & -0.62098954   & -0.08304112   &  0.59493798   &  0.16777147   & -0.03292807   &  0.04462314   &  0.46231486   & -0.2803168    & -6.689094e-15\\\\\n",
       "\tV5 &  -0.6606702   & -24.7348173   & -28.097192    & -7.80833623   & -1.2275561    & 0.6568667     & -0.4001172    &  0.6167319    & -2.4452097    &  0.0269603    & ...           &  0.96699400   & -0.73553404   & -0.44843059   & -0.19252807   & -0.56773840   &  0.24895345   & -0.29442997   &  0.40862739   & -0.3039250    & -9.964252e-15\\\\\n",
       "\tV6 &  -5.2543993   &  -9.3039217   &  -8.371634    &  3.57135578   & -1.5410358    & 4.1509389     &  0.2083436    & -2.0991876    & -0.2124703    & -1.5396283    & ...           & -0.34177895   & -1.09691623   & -0.05334271   &  1.39384990   & -0.09427847   & -0.26940296   & -0.23731892   &  0.80329505   &  0.1481473    & -8.909540e-15\\\\\n",
       "\\end{tabular}\n"
      ],
      "text/markdown": [
       "\n",
       "| <!--/--> | PC1 | PC2 | PC3 | PC4 | PC5 | PC6 | PC7 | PC8 | PC9 | PC10 | ... | PC415 | PC416 | PC417 | PC418 | PC419 | PC420 | PC421 | PC422 | PC423 | PC424 |\n",
       "|---|---|---|---|---|---|---|---|---|---|---|---|---|---|---|---|---|---|---|---|---|---|\n",
       "| V1 | -15.2265158   |   1.1439775   |  -8.296222    |  4.48245890   | -1.3355241    | 4.8802111     | -1.5523707    |  0.7999849    | -4.7522280    |  2.7608014    | ...           | -0.65800314   |  0.95169782   | -0.41084578   |  0.60852525   | -0.07547477   |  0.01482042   | -0.35238377   |  0.13045048   | -0.2041816    | -7.410739e-15 |\n",
       "| V2 |   4.3243724   | -19.4159808   |  26.093334    |  9.00428915   | -5.3011949    | 5.3605925     | -2.9697958    | 10.1294220    | 14.1969498    |  5.4397945    | ...           |  0.10647120   |  0.62135384   |  0.58600376   |  0.04862774   |  1.08341218   | -0.03153724   |  0.44070032   |  0.09332012   |  0.2686092    | -1.099121e-14 |\n",
       "| V3 |  -4.6063199   |  -0.8040079   |   3.066747    |  6.76008180   | -0.7531005    | 3.3614591     |  2.9378869    | -2.6362632    | -0.8766079    | -1.5006157    | ...           | -0.60783168   |  0.06371054   |  0.75189183   |  0.58872501   | -0.02765133   |  0.48785318   |  0.23444574   | -0.24678547   |  0.8521206    | -8.774231e-15 |\n",
       "| V4 |  -8.5814328   |  -6.8163299   | -14.337072    | -0.09825629   | -1.2567324    | 1.7686144     |  0.9196301    | -0.4870796    | -0.6504569    |  1.7541831    | ...           |  0.08874938   | -0.62098954   | -0.08304112   |  0.59493798   |  0.16777147   | -0.03292807   |  0.04462314   |  0.46231486   | -0.2803168    | -6.689094e-15 |\n",
       "| V5 |  -0.6606702   | -24.7348173   | -28.097192    | -7.80833623   | -1.2275561    | 0.6568667     | -0.4001172    |  0.6167319    | -2.4452097    |  0.0269603    | ...           |  0.96699400   | -0.73553404   | -0.44843059   | -0.19252807   | -0.56773840   |  0.24895345   | -0.29442997   |  0.40862739   | -0.3039250    | -9.964252e-15 |\n",
       "| V6 |  -5.2543993   |  -9.3039217   |  -8.371634    |  3.57135578   | -1.5410358    | 4.1509389     |  0.2083436    | -2.0991876    | -0.2124703    | -1.5396283    | ...           | -0.34177895   | -1.09691623   | -0.05334271   |  1.39384990   | -0.09427847   | -0.26940296   | -0.23731892   |  0.80329505   |  0.1481473    | -8.909540e-15 |\n",
       "\n"
      ],
      "text/plain": [
       "   PC1         PC2         PC3        PC4         PC5        PC6      \n",
       "V1 -15.2265158   1.1439775  -8.296222  4.48245890 -1.3355241 4.8802111\n",
       "V2   4.3243724 -19.4159808  26.093334  9.00428915 -5.3011949 5.3605925\n",
       "V3  -4.6063199  -0.8040079   3.066747  6.76008180 -0.7531005 3.3614591\n",
       "V4  -8.5814328  -6.8163299 -14.337072 -0.09825629 -1.2567324 1.7686144\n",
       "V5  -0.6606702 -24.7348173 -28.097192 -7.80833623 -1.2275561 0.6568667\n",
       "V6  -5.2543993  -9.3039217  -8.371634  3.57135578 -1.5410358 4.1509389\n",
       "   PC7        PC8        PC9        PC10       ... PC415       PC416      \n",
       "V1 -1.5523707  0.7999849 -4.7522280  2.7608014 ... -0.65800314  0.95169782\n",
       "V2 -2.9697958 10.1294220 14.1969498  5.4397945 ...  0.10647120  0.62135384\n",
       "V3  2.9378869 -2.6362632 -0.8766079 -1.5006157 ... -0.60783168  0.06371054\n",
       "V4  0.9196301 -0.4870796 -0.6504569  1.7541831 ...  0.08874938 -0.62098954\n",
       "V5 -0.4001172  0.6167319 -2.4452097  0.0269603 ...  0.96699400 -0.73553404\n",
       "V6  0.2083436 -2.0991876 -0.2124703 -1.5396283 ... -0.34177895 -1.09691623\n",
       "   PC417       PC418       PC419       PC420       PC421       PC422      \n",
       "V1 -0.41084578  0.60852525 -0.07547477  0.01482042 -0.35238377  0.13045048\n",
       "V2  0.58600376  0.04862774  1.08341218 -0.03153724  0.44070032  0.09332012\n",
       "V3  0.75189183  0.58872501 -0.02765133  0.48785318  0.23444574 -0.24678547\n",
       "V4 -0.08304112  0.59493798  0.16777147 -0.03292807  0.04462314  0.46231486\n",
       "V5 -0.44843059 -0.19252807 -0.56773840  0.24895345 -0.29442997  0.40862739\n",
       "V6 -0.05334271  1.39384990 -0.09427847 -0.26940296 -0.23731892  0.80329505\n",
       "   PC423      PC424        \n",
       "V1 -0.2041816 -7.410739e-15\n",
       "V2  0.2686092 -1.099121e-14\n",
       "V3  0.8521206 -8.774231e-15\n",
       "V4 -0.2803168 -6.689094e-15\n",
       "V5 -0.3039250 -9.964252e-15\n",
       "V6  0.1481473 -8.909540e-15"
      ]
     },
     "metadata": {},
     "output_type": "display_data"
    }
   ],
   "source": [
    "head(lasso_pred.pca$x)"
   ]
  },
  {
   "cell_type": "code",
   "execution_count": 7,
   "id": "74965b61-8c33-4cc8-a385-267e9675f189",
   "metadata": {
    "execution": {
     "iopub.execute_input": "2021-11-11T20:37:46.348956Z",
     "iopub.status.busy": "2021-11-11T20:37:46.347417Z",
     "iopub.status.idle": "2021-11-11T20:37:46.668380Z",
     "shell.execute_reply": "2021-11-11T20:37:46.666805Z"
    }
   },
   "outputs": [
    {
     "data": {
      "image/png": "[encoded data removed]",
      "text/plain": [
       "plot without title"
      ]
     },
     "metadata": {},
     "output_type": "display_data"
    }
   ],
   "source": [
    "ggplot() +\n",
    "  geom_point(aes(lasso_pred.pca$x[,1],lasso_pred.pca$x[,2])) +\n",
    "  theme_minimal() +\n",
    "  ylab('PC1') + xlab('PC2')"
   ]
  },
  {
   "cell_type": "code",
   "execution_count": 8,
   "id": "760b79e5-f1a3-4a9a-8a88-235538a6ad42",
   "metadata": {
    "execution": {
     "iopub.execute_input": "2021-11-11T20:37:46.672560Z",
     "iopub.status.busy": "2021-11-11T20:37:46.671002Z",
     "iopub.status.idle": "2021-11-11T20:37:46.683536Z",
     "shell.execute_reply": "2021-11-11T20:37:46.681970Z"
    }
   },
   "outputs": [],
   "source": [
    "var_exp <- tibble(PC = 1:dim(lasso_pred.pca$x)[2], \n",
    "                  Variance_Explained = lasso_pred.pca$sdev^2 / sum(lasso_pred.pca$sdev^2),\n",
    "                  Cumulative_Variance_Explained = cumsum(Variance_Explained))"
   ]
  },
  {
   "cell_type": "code",
   "execution_count": 9,
   "id": "6013663c-c9c2-4a2b-8199-6069f7a1cc3b",
   "metadata": {
    "execution": {
     "iopub.execute_input": "2021-11-11T20:37:46.687695Z",
     "iopub.status.busy": "2021-11-11T20:37:46.686122Z",
     "iopub.status.idle": "2021-11-11T20:37:46.913726Z",
     "shell.execute_reply": "2021-11-11T20:37:46.912198Z"
    }
   },
   "outputs": [
    {
     "data": {
      "image/png": "[encoded data removed]",
      "text/plain": [
       "plot without title"
      ]
     },
     "metadata": {},
     "output_type": "display_data"
    }
   ],
   "source": [
    "var_exp %>% \n",
    "  ggplot(aes(PC, Variance_Explained)) + \n",
    "  geom_line() + \n",
    "  geom_point() + \n",
    "  theme_minimal() "
   ]
  },
  {
   "cell_type": "code",
   "execution_count": 10,
   "id": "03e36dcd-0eaa-4dbf-a233-73b8db18b1d2",
   "metadata": {
    "execution": {
     "iopub.execute_input": "2021-11-11T20:37:46.917746Z",
     "iopub.status.busy": "2021-11-11T20:37:46.916218Z",
     "iopub.status.idle": "2021-11-11T20:37:46.930305Z",
     "shell.execute_reply": "2021-11-11T20:37:46.928813Z"
    }
   },
   "outputs": [],
   "source": [
    "sample_names <- as.data.frame(lasso_pred$sample)\n",
    "colnames(sample_names) <- c(\"sample\")\n",
    "pca <- lasso_pred.pca$x[,1:50]"
   ]
  },
  {
   "cell_type": "code",
   "execution_count": 11,
   "id": "af57627b-8ba1-4aba-b4a7-d43507b06ed0",
   "metadata": {
    "execution": {
     "iopub.execute_input": "2021-11-11T20:37:46.934385Z",
     "iopub.status.busy": "2021-11-11T20:37:46.932871Z",
     "iopub.status.idle": "2021-11-11T20:37:46.953956Z",
     "shell.execute_reply": "2021-11-11T20:37:46.952491Z"
    }
   },
   "outputs": [
    {
     "data": {
      "text/html": [
       "<table>\n",
       "<thead><tr><th></th><th scope=col>PC1</th><th scope=col>PC2</th><th scope=col>PC3</th><th scope=col>PC4</th><th scope=col>PC5</th><th scope=col>PC6</th><th scope=col>PC7</th><th scope=col>PC8</th><th scope=col>PC9</th><th scope=col>PC10</th><th scope=col>...</th><th scope=col>PC41</th><th scope=col>PC42</th><th scope=col>PC43</th><th scope=col>PC44</th><th scope=col>PC45</th><th scope=col>PC46</th><th scope=col>PC47</th><th scope=col>PC48</th><th scope=col>PC49</th><th scope=col>PC50</th></tr></thead>\n",
       "<tbody>\n",
       "\t<tr><th scope=row>V1</th><td>-15.2265158</td><td>  1.1439775</td><td> -8.296222 </td><td> 4.48245890</td><td>-1.3355241 </td><td>4.8802111  </td><td>-1.5523707 </td><td> 0.7999849 </td><td>-4.7522280 </td><td> 2.7608014 </td><td>...        </td><td>-1.6209073 </td><td> 1.1454021 </td><td>-0.1013291 </td><td>-1.5590984 </td><td> 1.4565019 </td><td>0.1808208  </td><td>-2.7773855 </td><td>-0.5299759 </td><td>2.1619511  </td><td> 1.03146426</td></tr>\n",
       "\t<tr><th scope=row>V2</th><td>  4.3243724</td><td>-19.4159808</td><td> 26.093334 </td><td> 9.00428915</td><td>-5.3011949 </td><td>5.3605925  </td><td>-2.9697958 </td><td>10.1294220 </td><td>14.1969498 </td><td> 5.4397945 </td><td>...        </td><td>-1.9620863 </td><td>-2.0160985 </td><td> 1.8727879 </td><td> 1.9626121 </td><td> 1.8462839 </td><td>1.2079163  </td><td> 1.1003376 </td><td>-1.9753527 </td><td>0.6114587  </td><td>-0.18072436</td></tr>\n",
       "\t<tr><th scope=row>V3</th><td> -4.6063199</td><td> -0.8040079</td><td>  3.066747 </td><td> 6.76008180</td><td>-0.7531005 </td><td>3.3614591  </td><td> 2.9378869 </td><td>-2.6362632 </td><td>-0.8766079 </td><td>-1.5006157 </td><td>...        </td><td>-1.1057902 </td><td> 0.4218852 </td><td>-0.3978684 </td><td> 1.3139833 </td><td> 2.1703696 </td><td>1.4379112  </td><td>-1.9227372 </td><td>-0.5670856 </td><td>1.2762748  </td><td>-1.71623194</td></tr>\n",
       "\t<tr><th scope=row>V4</th><td> -8.5814328</td><td> -6.8163299</td><td>-14.337072 </td><td>-0.09825629</td><td>-1.2567324 </td><td>1.7686144  </td><td> 0.9196301 </td><td>-0.4870796 </td><td>-0.6504569 </td><td> 1.7541831 </td><td>...        </td><td>-0.5791377 </td><td> 2.2918165 </td><td> 0.6459708 </td><td>-0.7596068 </td><td>-0.9879893 </td><td>0.2722558  </td><td>-0.4618307 </td><td>-1.8378491 </td><td>0.4302889  </td><td>-1.64355150</td></tr>\n",
       "\t<tr><th scope=row>V5</th><td> -0.6606702</td><td>-24.7348173</td><td>-28.097192 </td><td>-7.80833623</td><td>-1.2275561 </td><td>0.6568667  </td><td>-0.4001172 </td><td> 0.6167319 </td><td>-2.4452097 </td><td> 0.0269603 </td><td>...        </td><td> 3.4071570 </td><td>-1.3237016 </td><td>-0.8310992 </td><td> 0.9592468 </td><td> 0.8136893 </td><td>0.1197892  </td><td> 1.1093784 </td><td>-2.1636222 </td><td>0.3328450  </td><td>-2.54647392</td></tr>\n",
       "\t<tr><th scope=row>V6</th><td> -5.2543993</td><td> -9.3039217</td><td> -8.371634 </td><td> 3.57135578</td><td>-1.5410358 </td><td>4.1509389  </td><td> 0.2083436 </td><td>-2.0991876 </td><td>-0.2124703 </td><td>-1.5396283 </td><td>...        </td><td>-1.7189934 </td><td>-1.0295196 </td><td>-0.6557889 </td><td>-1.3526760 </td><td> 1.3104467 </td><td>1.3990342  </td><td>-0.6996009 </td><td>-0.3705912 </td><td>0.5525779  </td><td>-0.01810541</td></tr>\n",
       "</tbody>\n",
       "</table>\n"
      ],
      "text/latex": [
       "\\begin{tabular}{r|llllllllllllllllllllllllllllllllllllllllllllllllll}\n",
       "  & PC1 & PC2 & PC3 & PC4 & PC5 & PC6 & PC7 & PC8 & PC9 & PC10 & ... & PC41 & PC42 & PC43 & PC44 & PC45 & PC46 & PC47 & PC48 & PC49 & PC50\\\\\n",
       "\\hline\n",
       "\tV1 & -15.2265158 &   1.1439775 &  -8.296222  &  4.48245890 & -1.3355241  & 4.8802111   & -1.5523707  &  0.7999849  & -4.7522280  &  2.7608014  & ...         & -1.6209073  &  1.1454021  & -0.1013291  & -1.5590984  &  1.4565019  & 0.1808208   & -2.7773855  & -0.5299759  & 2.1619511   &  1.03146426\\\\\n",
       "\tV2 &   4.3243724 & -19.4159808 &  26.093334  &  9.00428915 & -5.3011949  & 5.3605925   & -2.9697958  & 10.1294220  & 14.1969498  &  5.4397945  & ...         & -1.9620863  & -2.0160985  &  1.8727879  &  1.9626121  &  1.8462839  & 1.2079163   &  1.1003376  & -1.9753527  & 0.6114587   & -0.18072436\\\\\n",
       "\tV3 &  -4.6063199 &  -0.8040079 &   3.066747  &  6.76008180 & -0.7531005  & 3.3614591   &  2.9378869  & -2.6362632  & -0.8766079  & -1.5006157  & ...         & -1.1057902  &  0.4218852  & -0.3978684  &  1.3139833  &  2.1703696  & 1.4379112   & -1.9227372  & -0.5670856  & 1.2762748   & -1.71623194\\\\\n",
       "\tV4 &  -8.5814328 &  -6.8163299 & -14.337072  & -0.09825629 & -1.2567324  & 1.7686144   &  0.9196301  & -0.4870796  & -0.6504569  &  1.7541831  & ...         & -0.5791377  &  2.2918165  &  0.6459708  & -0.7596068  & -0.9879893  & 0.2722558   & -0.4618307  & -1.8378491  & 0.4302889   & -1.64355150\\\\\n",
       "\tV5 &  -0.6606702 & -24.7348173 & -28.097192  & -7.80833623 & -1.2275561  & 0.6568667   & -0.4001172  &  0.6167319  & -2.4452097  &  0.0269603  & ...         &  3.4071570  & -1.3237016  & -0.8310992  &  0.9592468  &  0.8136893  & 0.1197892   &  1.1093784  & -2.1636222  & 0.3328450   & -2.54647392\\\\\n",
       "\tV6 &  -5.2543993 &  -9.3039217 &  -8.371634  &  3.57135578 & -1.5410358  & 4.1509389   &  0.2083436  & -2.0991876  & -0.2124703  & -1.5396283  & ...         & -1.7189934  & -1.0295196  & -0.6557889  & -1.3526760  &  1.3104467  & 1.3990342   & -0.6996009  & -0.3705912  & 0.5525779   & -0.01810541\\\\\n",
       "\\end{tabular}\n"
      ],
      "text/markdown": [
       "\n",
       "| <!--/--> | PC1 | PC2 | PC3 | PC4 | PC5 | PC6 | PC7 | PC8 | PC9 | PC10 | ... | PC41 | PC42 | PC43 | PC44 | PC45 | PC46 | PC47 | PC48 | PC49 | PC50 |\n",
       "|---|---|---|---|---|---|---|---|---|---|---|---|---|---|---|---|---|---|---|---|---|---|\n",
       "| V1 | -15.2265158 |   1.1439775 |  -8.296222  |  4.48245890 | -1.3355241  | 4.8802111   | -1.5523707  |  0.7999849  | -4.7522280  |  2.7608014  | ...         | -1.6209073  |  1.1454021  | -0.1013291  | -1.5590984  |  1.4565019  | 0.1808208   | -2.7773855  | -0.5299759  | 2.1619511   |  1.03146426 |\n",
       "| V2 |   4.3243724 | -19.4159808 |  26.093334  |  9.00428915 | -5.3011949  | 5.3605925   | -2.9697958  | 10.1294220  | 14.1969498  |  5.4397945  | ...         | -1.9620863  | -2.0160985  |  1.8727879  |  1.9626121  |  1.8462839  | 1.2079163   |  1.1003376  | -1.9753527  | 0.6114587   | -0.18072436 |\n",
       "| V3 |  -4.6063199 |  -0.8040079 |   3.066747  |  6.76008180 | -0.7531005  | 3.3614591   |  2.9378869  | -2.6362632  | -0.8766079  | -1.5006157  | ...         | -1.1057902  |  0.4218852  | -0.3978684  |  1.3139833  |  2.1703696  | 1.4379112   | -1.9227372  | -0.5670856  | 1.2762748   | -1.71623194 |\n",
       "| V4 |  -8.5814328 |  -6.8163299 | -14.337072  | -0.09825629 | -1.2567324  | 1.7686144   |  0.9196301  | -0.4870796  | -0.6504569  |  1.7541831  | ...         | -0.5791377  |  2.2918165  |  0.6459708  | -0.7596068  | -0.9879893  | 0.2722558   | -0.4618307  | -1.8378491  | 0.4302889   | -1.64355150 |\n",
       "| V5 |  -0.6606702 | -24.7348173 | -28.097192  | -7.80833623 | -1.2275561  | 0.6568667   | -0.4001172  |  0.6167319  | -2.4452097  |  0.0269603  | ...         |  3.4071570  | -1.3237016  | -0.8310992  |  0.9592468  |  0.8136893  | 0.1197892   |  1.1093784  | -2.1636222  | 0.3328450   | -2.54647392 |\n",
       "| V6 |  -5.2543993 |  -9.3039217 |  -8.371634  |  3.57135578 | -1.5410358  | 4.1509389   |  0.2083436  | -2.0991876  | -0.2124703  | -1.5396283  | ...         | -1.7189934  | -1.0295196  | -0.6557889  | -1.3526760  |  1.3104467  | 1.3990342   | -0.6996009  | -0.3705912  | 0.5525779   | -0.01810541 |\n",
       "\n"
      ],
      "text/plain": [
       "   PC1         PC2         PC3        PC4         PC5        PC6      \n",
       "V1 -15.2265158   1.1439775  -8.296222  4.48245890 -1.3355241 4.8802111\n",
       "V2   4.3243724 -19.4159808  26.093334  9.00428915 -5.3011949 5.3605925\n",
       "V3  -4.6063199  -0.8040079   3.066747  6.76008180 -0.7531005 3.3614591\n",
       "V4  -8.5814328  -6.8163299 -14.337072 -0.09825629 -1.2567324 1.7686144\n",
       "V5  -0.6606702 -24.7348173 -28.097192 -7.80833623 -1.2275561 0.6568667\n",
       "V6  -5.2543993  -9.3039217  -8.371634  3.57135578 -1.5410358 4.1509389\n",
       "   PC7        PC8        PC9        PC10       ... PC41       PC42      \n",
       "V1 -1.5523707  0.7999849 -4.7522280  2.7608014 ... -1.6209073  1.1454021\n",
       "V2 -2.9697958 10.1294220 14.1969498  5.4397945 ... -1.9620863 -2.0160985\n",
       "V3  2.9378869 -2.6362632 -0.8766079 -1.5006157 ... -1.1057902  0.4218852\n",
       "V4  0.9196301 -0.4870796 -0.6504569  1.7541831 ... -0.5791377  2.2918165\n",
       "V5 -0.4001172  0.6167319 -2.4452097  0.0269603 ...  3.4071570 -1.3237016\n",
       "V6  0.2083436 -2.0991876 -0.2124703 -1.5396283 ... -1.7189934 -1.0295196\n",
       "   PC43       PC44       PC45       PC46      PC47       PC48       PC49     \n",
       "V1 -0.1013291 -1.5590984  1.4565019 0.1808208 -2.7773855 -0.5299759 2.1619511\n",
       "V2  1.8727879  1.9626121  1.8462839 1.2079163  1.1003376 -1.9753527 0.6114587\n",
       "V3 -0.3978684  1.3139833  2.1703696 1.4379112 -1.9227372 -0.5670856 1.2762748\n",
       "V4  0.6459708 -0.7596068 -0.9879893 0.2722558 -0.4618307 -1.8378491 0.4302889\n",
       "V5 -0.8310992  0.9592468  0.8136893 0.1197892  1.1093784 -2.1636222 0.3328450\n",
       "V6 -0.6557889 -1.3526760  1.3104467 1.3990342 -0.6996009 -0.3705912 0.5525779\n",
       "   PC50       \n",
       "V1  1.03146426\n",
       "V2 -0.18072436\n",
       "V3 -1.71623194\n",
       "V4 -1.64355150\n",
       "V5 -2.54647392\n",
       "V6 -0.01810541"
      ]
     },
     "metadata": {},
     "output_type": "display_data"
    }
   ],
   "source": [
    "head(pca)"
   ]
  },
  {
   "cell_type": "code",
   "execution_count": 12,
   "id": "dfce178e-6696-4c8b-99df-706d6aeea655",
   "metadata": {
    "execution": {
     "iopub.execute_input": "2021-11-11T20:37:46.958011Z",
     "iopub.status.busy": "2021-11-11T20:37:46.956497Z",
     "iopub.status.idle": "2021-11-11T20:37:46.972143Z",
     "shell.execute_reply": "2021-11-11T20:37:46.970684Z"
    }
   },
   "outputs": [
    {
     "data": {
      "text/html": [
       "<table>\n",
       "<thead><tr><th scope=col>sample</th></tr></thead>\n",
       "<tbody>\n",
       "\t<tr><td>PGDX16568P</td></tr>\n",
       "\t<tr><td>PGDX16569P</td></tr>\n",
       "\t<tr><td>PGDX16570P</td></tr>\n",
       "\t<tr><td>PGDX16571P</td></tr>\n",
       "\t<tr><td>PGDX16579P</td></tr>\n",
       "\t<tr><td>PGDX16580P</td></tr>\n",
       "</tbody>\n",
       "</table>\n"
      ],
      "text/latex": [
       "\\begin{tabular}{r|l}\n",
       " sample\\\\\n",
       "\\hline\n",
       "\t PGDX16568P\\\\\n",
       "\t PGDX16569P\\\\\n",
       "\t PGDX16570P\\\\\n",
       "\t PGDX16571P\\\\\n",
       "\t PGDX16579P\\\\\n",
       "\t PGDX16580P\\\\\n",
       "\\end{tabular}\n"
      ],
      "text/markdown": [
       "\n",
       "| sample |\n",
       "|---|\n",
       "| PGDX16568P |\n",
       "| PGDX16569P |\n",
       "| PGDX16570P |\n",
       "| PGDX16571P |\n",
       "| PGDX16579P |\n",
       "| PGDX16580P |\n",
       "\n"
      ],
      "text/plain": [
       "  sample    \n",
       "1 PGDX16568P\n",
       "2 PGDX16569P\n",
       "3 PGDX16570P\n",
       "4 PGDX16571P\n",
       "5 PGDX16579P\n",
       "6 PGDX16580P"
      ]
     },
     "metadata": {},
     "output_type": "display_data"
    }
   ],
   "source": [
    "head(sample_names)"
   ]
  },
  {
   "cell_type": "code",
   "execution_count": 13,
   "id": "5934cb0a-0dd4-4c4a-b1cb-80ec20c70feb",
   "metadata": {
    "execution": {
     "iopub.execute_input": "2021-11-11T20:37:46.976144Z",
     "iopub.status.busy": "2021-11-11T20:37:46.974639Z",
     "iopub.status.idle": "2021-11-11T20:37:46.985489Z",
     "shell.execute_reply": "2021-11-11T20:37:46.984015Z"
    }
   },
   "outputs": [],
   "source": [
    "ATAC_pred <- cbind(sample_names, pca)"
   ]
  },
  {
   "cell_type": "code",
   "execution_count": 14,
   "id": "abab0866-26dd-4d33-9d12-e1cce5af8f7c",
   "metadata": {
    "execution": {
     "iopub.execute_input": "2021-11-11T20:37:46.989522Z",
     "iopub.status.busy": "2021-11-11T20:37:46.988013Z",
     "iopub.status.idle": "2021-11-11T20:37:47.009723Z",
     "shell.execute_reply": "2021-11-11T20:37:47.008235Z"
    }
   },
   "outputs": [
    {
     "data": {
      "text/html": [
       "<table>\n",
       "<thead><tr><th></th><th scope=col>sample</th><th scope=col>PC1</th><th scope=col>PC2</th><th scope=col>PC3</th><th scope=col>PC4</th><th scope=col>PC5</th><th scope=col>PC6</th><th scope=col>PC7</th><th scope=col>PC8</th><th scope=col>PC9</th><th scope=col>...</th><th scope=col>PC41</th><th scope=col>PC42</th><th scope=col>PC43</th><th scope=col>PC44</th><th scope=col>PC45</th><th scope=col>PC46</th><th scope=col>PC47</th><th scope=col>PC48</th><th scope=col>PC49</th><th scope=col>PC50</th></tr></thead>\n",
       "<tbody>\n",
       "\t<tr><th scope=row>V1</th><td>PGDX16568P </td><td>-15.2265158</td><td>  1.1439775</td><td> -8.296222 </td><td> 4.48245890</td><td>-1.3355241 </td><td>4.8802111  </td><td>-1.5523707 </td><td> 0.7999849 </td><td>-4.7522280 </td><td>...        </td><td>-1.6209073 </td><td> 1.1454021 </td><td>-0.1013291 </td><td>-1.5590984 </td><td> 1.4565019 </td><td>0.1808208  </td><td>-2.7773855 </td><td>-0.5299759 </td><td>2.1619511  </td><td> 1.03146426</td></tr>\n",
       "\t<tr><th scope=row>V2</th><td>PGDX16569P </td><td>  4.3243724</td><td>-19.4159808</td><td> 26.093334 </td><td> 9.00428915</td><td>-5.3011949 </td><td>5.3605925  </td><td>-2.9697958 </td><td>10.1294220 </td><td>14.1969498 </td><td>...        </td><td>-1.9620863 </td><td>-2.0160985 </td><td> 1.8727879 </td><td> 1.9626121 </td><td> 1.8462839 </td><td>1.2079163  </td><td> 1.1003376 </td><td>-1.9753527 </td><td>0.6114587  </td><td>-0.18072436</td></tr>\n",
       "\t<tr><th scope=row>V3</th><td>PGDX16570P </td><td> -4.6063199</td><td> -0.8040079</td><td>  3.066747 </td><td> 6.76008180</td><td>-0.7531005 </td><td>3.3614591  </td><td> 2.9378869 </td><td>-2.6362632 </td><td>-0.8766079 </td><td>...        </td><td>-1.1057902 </td><td> 0.4218852 </td><td>-0.3978684 </td><td> 1.3139833 </td><td> 2.1703696 </td><td>1.4379112  </td><td>-1.9227372 </td><td>-0.5670856 </td><td>1.2762748  </td><td>-1.71623194</td></tr>\n",
       "\t<tr><th scope=row>V4</th><td>PGDX16571P </td><td> -8.5814328</td><td> -6.8163299</td><td>-14.337072 </td><td>-0.09825629</td><td>-1.2567324 </td><td>1.7686144  </td><td> 0.9196301 </td><td>-0.4870796 </td><td>-0.6504569 </td><td>...        </td><td>-0.5791377 </td><td> 2.2918165 </td><td> 0.6459708 </td><td>-0.7596068 </td><td>-0.9879893 </td><td>0.2722558  </td><td>-0.4618307 </td><td>-1.8378491 </td><td>0.4302889  </td><td>-1.64355150</td></tr>\n",
       "\t<tr><th scope=row>V5</th><td>PGDX16579P </td><td> -0.6606702</td><td>-24.7348173</td><td>-28.097192 </td><td>-7.80833623</td><td>-1.2275561 </td><td>0.6568667  </td><td>-0.4001172 </td><td> 0.6167319 </td><td>-2.4452097 </td><td>...        </td><td> 3.4071570 </td><td>-1.3237016 </td><td>-0.8310992 </td><td> 0.9592468 </td><td> 0.8136893 </td><td>0.1197892  </td><td> 1.1093784 </td><td>-2.1636222 </td><td>0.3328450  </td><td>-2.54647392</td></tr>\n",
       "\t<tr><th scope=row>V6</th><td>PGDX16580P </td><td> -5.2543993</td><td> -9.3039217</td><td> -8.371634 </td><td> 3.57135578</td><td>-1.5410358 </td><td>4.1509389  </td><td> 0.2083436 </td><td>-2.0991876 </td><td>-0.2124703 </td><td>...        </td><td>-1.7189934 </td><td>-1.0295196 </td><td>-0.6557889 </td><td>-1.3526760 </td><td> 1.3104467 </td><td>1.3990342  </td><td>-0.6996009 </td><td>-0.3705912 </td><td>0.5525779  </td><td>-0.01810541</td></tr>\n",
       "</tbody>\n",
       "</table>\n"
      ],
      "text/latex": [
       "\\begin{tabular}{r|lllllllllllllllllllllllllllllllllllllllllllllllllll}\n",
       "  & sample & PC1 & PC2 & PC3 & PC4 & PC5 & PC6 & PC7 & PC8 & PC9 & ... & PC41 & PC42 & PC43 & PC44 & PC45 & PC46 & PC47 & PC48 & PC49 & PC50\\\\\n",
       "\\hline\n",
       "\tV1 & PGDX16568P  & -15.2265158 &   1.1439775 &  -8.296222  &  4.48245890 & -1.3355241  & 4.8802111   & -1.5523707  &  0.7999849  & -4.7522280  & ...         & -1.6209073  &  1.1454021  & -0.1013291  & -1.5590984  &  1.4565019  & 0.1808208   & -2.7773855  & -0.5299759  & 2.1619511   &  1.03146426\\\\\n",
       "\tV2 & PGDX16569P  &   4.3243724 & -19.4159808 &  26.093334  &  9.00428915 & -5.3011949  & 5.3605925   & -2.9697958  & 10.1294220  & 14.1969498  & ...         & -1.9620863  & -2.0160985  &  1.8727879  &  1.9626121  &  1.8462839  & 1.2079163   &  1.1003376  & -1.9753527  & 0.6114587   & -0.18072436\\\\\n",
       "\tV3 & PGDX16570P  &  -4.6063199 &  -0.8040079 &   3.066747  &  6.76008180 & -0.7531005  & 3.3614591   &  2.9378869  & -2.6362632  & -0.8766079  & ...         & -1.1057902  &  0.4218852  & -0.3978684  &  1.3139833  &  2.1703696  & 1.4379112   & -1.9227372  & -0.5670856  & 1.2762748   & -1.71623194\\\\\n",
       "\tV4 & PGDX16571P  &  -8.5814328 &  -6.8163299 & -14.337072  & -0.09825629 & -1.2567324  & 1.7686144   &  0.9196301  & -0.4870796  & -0.6504569  & ...         & -0.5791377  &  2.2918165  &  0.6459708  & -0.7596068  & -0.9879893  & 0.2722558   & -0.4618307  & -1.8378491  & 0.4302889   & -1.64355150\\\\\n",
       "\tV5 & PGDX16579P  &  -0.6606702 & -24.7348173 & -28.097192  & -7.80833623 & -1.2275561  & 0.6568667   & -0.4001172  &  0.6167319  & -2.4452097  & ...         &  3.4071570  & -1.3237016  & -0.8310992  &  0.9592468  &  0.8136893  & 0.1197892   &  1.1093784  & -2.1636222  & 0.3328450   & -2.54647392\\\\\n",
       "\tV6 & PGDX16580P  &  -5.2543993 &  -9.3039217 &  -8.371634  &  3.57135578 & -1.5410358  & 4.1509389   &  0.2083436  & -2.0991876  & -0.2124703  & ...         & -1.7189934  & -1.0295196  & -0.6557889  & -1.3526760  &  1.3104467  & 1.3990342   & -0.6996009  & -0.3705912  & 0.5525779   & -0.01810541\\\\\n",
       "\\end{tabular}\n"
      ],
      "text/markdown": [
       "\n",
       "| <!--/--> | sample | PC1 | PC2 | PC3 | PC4 | PC5 | PC6 | PC7 | PC8 | PC9 | ... | PC41 | PC42 | PC43 | PC44 | PC45 | PC46 | PC47 | PC48 | PC49 | PC50 |\n",
       "|---|---|---|---|---|---|---|---|---|---|---|---|---|---|---|---|---|---|---|---|---|---|\n",
       "| V1 | PGDX16568P  | -15.2265158 |   1.1439775 |  -8.296222  |  4.48245890 | -1.3355241  | 4.8802111   | -1.5523707  |  0.7999849  | -4.7522280  | ...         | -1.6209073  |  1.1454021  | -0.1013291  | -1.5590984  |  1.4565019  | 0.1808208   | -2.7773855  | -0.5299759  | 2.1619511   |  1.03146426 |\n",
       "| V2 | PGDX16569P  |   4.3243724 | -19.4159808 |  26.093334  |  9.00428915 | -5.3011949  | 5.3605925   | -2.9697958  | 10.1294220  | 14.1969498  | ...         | -1.9620863  | -2.0160985  |  1.8727879  |  1.9626121  |  1.8462839  | 1.2079163   |  1.1003376  | -1.9753527  | 0.6114587   | -0.18072436 |\n",
       "| V3 | PGDX16570P  |  -4.6063199 |  -0.8040079 |   3.066747  |  6.76008180 | -0.7531005  | 3.3614591   |  2.9378869  | -2.6362632  | -0.8766079  | ...         | -1.1057902  |  0.4218852  | -0.3978684  |  1.3139833  |  2.1703696  | 1.4379112   | -1.9227372  | -0.5670856  | 1.2762748   | -1.71623194 |\n",
       "| V4 | PGDX16571P  |  -8.5814328 |  -6.8163299 | -14.337072  | -0.09825629 | -1.2567324  | 1.7686144   |  0.9196301  | -0.4870796  | -0.6504569  | ...         | -0.5791377  |  2.2918165  |  0.6459708  | -0.7596068  | -0.9879893  | 0.2722558   | -0.4618307  | -1.8378491  | 0.4302889   | -1.64355150 |\n",
       "| V5 | PGDX16579P  |  -0.6606702 | -24.7348173 | -28.097192  | -7.80833623 | -1.2275561  | 0.6568667   | -0.4001172  |  0.6167319  | -2.4452097  | ...         |  3.4071570  | -1.3237016  | -0.8310992  |  0.9592468  |  0.8136893  | 0.1197892   |  1.1093784  | -2.1636222  | 0.3328450   | -2.54647392 |\n",
       "| V6 | PGDX16580P  |  -5.2543993 |  -9.3039217 |  -8.371634  |  3.57135578 | -1.5410358  | 4.1509389   |  0.2083436  | -2.0991876  | -0.2124703  | ...         | -1.7189934  | -1.0295196  | -0.6557889  | -1.3526760  |  1.3104467  | 1.3990342   | -0.6996009  | -0.3705912  | 0.5525779   | -0.01810541 |\n",
       "\n"
      ],
      "text/plain": [
       "   sample     PC1         PC2         PC3        PC4         PC5       \n",
       "V1 PGDX16568P -15.2265158   1.1439775  -8.296222  4.48245890 -1.3355241\n",
       "V2 PGDX16569P   4.3243724 -19.4159808  26.093334  9.00428915 -5.3011949\n",
       "V3 PGDX16570P  -4.6063199  -0.8040079   3.066747  6.76008180 -0.7531005\n",
       "V4 PGDX16571P  -8.5814328  -6.8163299 -14.337072 -0.09825629 -1.2567324\n",
       "V5 PGDX16579P  -0.6606702 -24.7348173 -28.097192 -7.80833623 -1.2275561\n",
       "V6 PGDX16580P  -5.2543993  -9.3039217  -8.371634  3.57135578 -1.5410358\n",
       "   PC6       PC7        PC8        PC9        ... PC41       PC42      \n",
       "V1 4.8802111 -1.5523707  0.7999849 -4.7522280 ... -1.6209073  1.1454021\n",
       "V2 5.3605925 -2.9697958 10.1294220 14.1969498 ... -1.9620863 -2.0160985\n",
       "V3 3.3614591  2.9378869 -2.6362632 -0.8766079 ... -1.1057902  0.4218852\n",
       "V4 1.7686144  0.9196301 -0.4870796 -0.6504569 ... -0.5791377  2.2918165\n",
       "V5 0.6568667 -0.4001172  0.6167319 -2.4452097 ...  3.4071570 -1.3237016\n",
       "V6 4.1509389  0.2083436 -2.0991876 -0.2124703 ... -1.7189934 -1.0295196\n",
       "   PC43       PC44       PC45       PC46      PC47       PC48       PC49     \n",
       "V1 -0.1013291 -1.5590984  1.4565019 0.1808208 -2.7773855 -0.5299759 2.1619511\n",
       "V2  1.8727879  1.9626121  1.8462839 1.2079163  1.1003376 -1.9753527 0.6114587\n",
       "V3 -0.3978684  1.3139833  2.1703696 1.4379112 -1.9227372 -0.5670856 1.2762748\n",
       "V4  0.6459708 -0.7596068 -0.9879893 0.2722558 -0.4618307 -1.8378491 0.4302889\n",
       "V5 -0.8310992  0.9592468  0.8136893 0.1197892  1.1093784 -2.1636222 0.3328450\n",
       "V6 -0.6557889 -1.3526760  1.3104467 1.3990342 -0.6996009 -0.3705912 0.5525779\n",
       "   PC50       \n",
       "V1  1.03146426\n",
       "V2 -0.18072436\n",
       "V3 -1.71623194\n",
       "V4 -1.64355150\n",
       "V5 -2.54647392\n",
       "V6 -0.01810541"
      ]
     },
     "metadata": {},
     "output_type": "display_data"
    }
   ],
   "source": [
    "head(ATAC_pred)"
   ]
  },
  {
   "cell_type": "code",
   "execution_count": 15,
   "id": "1ac5b564-db27-49bd-b6a5-248cef3e4a21",
   "metadata": {
    "execution": {
     "iopub.execute_input": "2021-11-11T20:37:47.013965Z",
     "iopub.status.busy": "2021-11-11T20:37:47.012381Z",
     "iopub.status.idle": "2021-11-11T20:37:47.035552Z",
     "shell.execute_reply": "2021-11-11T20:37:47.034054Z"
    }
   },
   "outputs": [
    {
     "data": {
      "text/html": [
       "<table>\n",
       "<thead><tr><th scope=col>sample</th><th scope=col>sample_type</th></tr></thead>\n",
       "<tbody>\n",
       "\t<tr><td>PGDX10344P1   </td><td>Gastric_cancer</td></tr>\n",
       "\t<tr><td>PGDX10346P1   </td><td>Gastric_cancer</td></tr>\n",
       "\t<tr><td>PGDX10349P1   </td><td>Gastric_cancer</td></tr>\n",
       "\t<tr><td>PGDX10351P1   </td><td>Gastric_cancer</td></tr>\n",
       "\t<tr><td>PGDX10566P    </td><td>Ovarian_Cancer</td></tr>\n",
       "\t<tr><td>PGDX10567P    </td><td>Ovarian_Cancer</td></tr>\n",
       "</tbody>\n",
       "</table>\n"
      ],
      "text/latex": [
       "\\begin{tabular}{r|ll}\n",
       " sample & sample\\_type\\\\\n",
       "\\hline\n",
       "\t PGDX10344P1      & Gastric\\_cancer\\\\\n",
       "\t PGDX10346P1      & Gastric\\_cancer\\\\\n",
       "\t PGDX10349P1      & Gastric\\_cancer\\\\\n",
       "\t PGDX10351P1      & Gastric\\_cancer\\\\\n",
       "\t PGDX10566P       & Ovarian\\_Cancer\\\\\n",
       "\t PGDX10567P       & Ovarian\\_Cancer\\\\\n",
       "\\end{tabular}\n"
      ],
      "text/markdown": [
       "\n",
       "| sample | sample_type |\n",
       "|---|---|\n",
       "| PGDX10344P1    | Gastric_cancer |\n",
       "| PGDX10346P1    | Gastric_cancer |\n",
       "| PGDX10349P1    | Gastric_cancer |\n",
       "| PGDX10351P1    | Gastric_cancer |\n",
       "| PGDX10566P     | Ovarian_Cancer |\n",
       "| PGDX10567P     | Ovarian_Cancer |\n",
       "\n"
      ],
      "text/plain": [
       "  sample      sample_type   \n",
       "1 PGDX10344P1 Gastric_cancer\n",
       "2 PGDX10346P1 Gastric_cancer\n",
       "3 PGDX10349P1 Gastric_cancer\n",
       "4 PGDX10351P1 Gastric_cancer\n",
       "5 PGDX10566P  Ovarian_Cancer\n",
       "6 PGDX10567P  Ovarian_Cancer"
      ]
     },
     "metadata": {},
     "output_type": "display_data"
    }
   ],
   "source": [
    "#sample_types <- read.table(\"../../data/sample_types.txt\", header = F, sep = \" \")\n",
    "sample_types <- read.table(file = snakemake@input[[\"input_sample_types\"]], header = F, sep = \" \")\n",
    "\n",
    "colnames(sample_types) <- c(\"sample\", \"sample_type\")\n",
    "head(sample_types)"
   ]
  },
  {
   "cell_type": "code",
   "execution_count": 16,
   "id": "b998b2ed-cad4-4a05-98c6-58d72410d7a9",
   "metadata": {
    "execution": {
     "iopub.execute_input": "2021-11-11T20:37:47.039697Z",
     "iopub.status.busy": "2021-11-11T20:37:47.038147Z",
     "iopub.status.idle": "2021-11-11T20:37:47.075238Z",
     "shell.execute_reply": "2021-11-11T20:37:47.073705Z"
    }
   },
   "outputs": [
    {
     "data": {
      "text/html": [
       "<table>\n",
       "<thead><tr><th scope=col>sample</th><th scope=col>PC1</th><th scope=col>PC2</th><th scope=col>PC3</th><th scope=col>PC4</th><th scope=col>PC5</th><th scope=col>PC6</th><th scope=col>PC7</th><th scope=col>PC8</th><th scope=col>PC9</th><th scope=col>...</th><th scope=col>PC43</th><th scope=col>PC44</th><th scope=col>PC45</th><th scope=col>PC46</th><th scope=col>PC47</th><th scope=col>PC48</th><th scope=col>PC49</th><th scope=col>PC50</th><th scope=col>sample_type</th><th scope=col>sample_type01</th></tr></thead>\n",
       "<tbody>\n",
       "\t<tr><td>PGDX10344P1   </td><td> -4.342131    </td><td>  1.953977    </td><td>-13.968322    </td><td>  2.318305    </td><td>  1.685676    </td><td>-3.381066     </td><td> 6.0445212    </td><td>-1.1347791    </td><td> 1.74198197   </td><td>...           </td><td> 0.6274859    </td><td>-2.622078     </td><td> 1.6339641    </td><td> 0.2876357    </td><td> 2.4162404    </td><td> 1.8695959    </td><td> 0.08770358   </td><td>-1.2166196    </td><td>Gastric_cancer</td><td>1             </td></tr>\n",
       "\t<tr><td>PGDX10346P1   </td><td> -6.078536    </td><td>-12.661175    </td><td>-11.678871    </td><td> -1.872324    </td><td>  1.336255    </td><td>-1.996692     </td><td>-6.4118319    </td><td> 7.9706470    </td><td>12.11108040   </td><td>...           </td><td>-2.9572109    </td><td>-2.308502     </td><td> 0.7707140    </td><td>-3.6516509    </td><td>-3.0050707    </td><td>-1.9374279    </td><td>-0.15064911   </td><td>-3.4388000    </td><td>Gastric_cancer</td><td>1             </td></tr>\n",
       "\t<tr><td>PGDX10349P1   </td><td> 48.179628    </td><td>-48.671877    </td><td> 57.672198    </td><td> 10.976267    </td><td>-20.122190    </td><td>-4.259207     </td><td> 3.0733782    </td><td> 0.6075922    </td><td> 1.57203960   </td><td>...           </td><td> 0.6475888    </td><td> 2.037660     </td><td>-1.7877125    </td><td> 2.0789376    </td><td>-1.0851786    </td><td>-0.2287387    </td><td> 0.90575811   </td><td>-0.9010285    </td><td>Gastric_cancer</td><td>1             </td></tr>\n",
       "\t<tr><td>PGDX10351P1   </td><td>-35.928939    </td><td>-11.350262    </td><td>-13.701368    </td><td>-14.147165    </td><td> -4.240782    </td><td>-5.227815     </td><td>-0.1563398    </td><td> 5.1853643    </td><td>-1.26376760   </td><td>...           </td><td> 2.4307994    </td><td> 5.922993     </td><td> 2.1776501    </td><td>-2.6065181    </td><td> 1.8807665    </td><td> 2.5498882    </td><td>-3.57969961   </td><td> 1.5642893    </td><td>Gastric_cancer</td><td>1             </td></tr>\n",
       "\t<tr><td>PGDX10566P    </td><td> -3.645149    </td><td> -8.417624    </td><td>-18.188105    </td><td> -4.633597    </td><td>  1.470311    </td><td>-1.048202     </td><td> 3.6578793    </td><td>-1.3577985    </td><td>-0.59132535   </td><td>...           </td><td> 2.1880247    </td><td>-4.290371     </td><td> 0.5627505    </td><td> 2.3363121    </td><td>-0.2994595    </td><td> 2.8081674    </td><td> 2.42526637   </td><td> 1.0627620    </td><td>Ovarian_Cancer</td><td>1             </td></tr>\n",
       "\t<tr><td>PGDX10567P    </td><td>  9.167948    </td><td> -9.013273    </td><td>  9.812515    </td><td>  4.895645    </td><td> -4.504976    </td><td> 4.545019     </td><td> 1.3597509    </td><td>-2.8620042    </td><td> 0.01220041   </td><td>...           </td><td>-1.0443199    </td><td> 3.607826     </td><td>-2.0018629    </td><td> 3.3426278    </td><td>-1.0511282    </td><td> 0.7924274    </td><td> 0.98886233   </td><td> 6.8472585    </td><td>Ovarian_Cancer</td><td>1             </td></tr>\n",
       "</tbody>\n",
       "</table>\n"
      ],
      "text/latex": [
       "\\begin{tabular}{r|lllllllllllllllllllllllllllllllllllllllllllllllllllll}\n",
       " sample & PC1 & PC2 & PC3 & PC4 & PC5 & PC6 & PC7 & PC8 & PC9 & ... & PC43 & PC44 & PC45 & PC46 & PC47 & PC48 & PC49 & PC50 & sample\\_type & sample\\_type01\\\\\n",
       "\\hline\n",
       "\t PGDX10344P1      &  -4.342131       &   1.953977       & -13.968322       &   2.318305       &   1.685676       & -3.381066        &  6.0445212       & -1.1347791       &  1.74198197      & ...              &  0.6274859       & -2.622078        &  1.6339641       &  0.2876357       &  2.4162404       &  1.8695959       &  0.08770358      & -1.2166196       & Gastric\\_cancer & 1               \\\\\n",
       "\t PGDX10346P1      &  -6.078536       & -12.661175       & -11.678871       &  -1.872324       &   1.336255       & -1.996692        & -6.4118319       &  7.9706470       & 12.11108040      & ...              & -2.9572109       & -2.308502        &  0.7707140       & -3.6516509       & -3.0050707       & -1.9374279       & -0.15064911      & -3.4388000       & Gastric\\_cancer & 1               \\\\\n",
       "\t PGDX10349P1      &  48.179628       & -48.671877       &  57.672198       &  10.976267       & -20.122190       & -4.259207        &  3.0733782       &  0.6075922       &  1.57203960      & ...              &  0.6475888       &  2.037660        & -1.7877125       &  2.0789376       & -1.0851786       & -0.2287387       &  0.90575811      & -0.9010285       & Gastric\\_cancer & 1               \\\\\n",
       "\t PGDX10351P1      & -35.928939       & -11.350262       & -13.701368       & -14.147165       &  -4.240782       & -5.227815        & -0.1563398       &  5.1853643       & -1.26376760      & ...              &  2.4307994       &  5.922993        &  2.1776501       & -2.6065181       &  1.8807665       &  2.5498882       & -3.57969961      &  1.5642893       & Gastric\\_cancer & 1               \\\\\n",
       "\t PGDX10566P       &  -3.645149       &  -8.417624       & -18.188105       &  -4.633597       &   1.470311       & -1.048202        &  3.6578793       & -1.3577985       & -0.59132535      & ...              &  2.1880247       & -4.290371        &  0.5627505       &  2.3363121       & -0.2994595       &  2.8081674       &  2.42526637      &  1.0627620       & Ovarian\\_Cancer & 1               \\\\\n",
       "\t PGDX10567P       &   9.167948       &  -9.013273       &   9.812515       &   4.895645       &  -4.504976       &  4.545019        &  1.3597509       & -2.8620042       &  0.01220041      & ...              & -1.0443199       &  3.607826        & -2.0018629       &  3.3426278       & -1.0511282       &  0.7924274       &  0.98886233      &  6.8472585       & Ovarian\\_Cancer & 1               \\\\\n",
       "\\end{tabular}\n"
      ],
      "text/markdown": [
       "\n",
       "| sample | PC1 | PC2 | PC3 | PC4 | PC5 | PC6 | PC7 | PC8 | PC9 | ... | PC43 | PC44 | PC45 | PC46 | PC47 | PC48 | PC49 | PC50 | sample_type | sample_type01 |\n",
       "|---|---|---|---|---|---|---|---|---|---|---|---|---|---|---|---|---|---|---|---|---|\n",
       "| PGDX10344P1    |  -4.342131     |   1.953977     | -13.968322     |   2.318305     |   1.685676     | -3.381066      |  6.0445212     | -1.1347791     |  1.74198197    | ...            |  0.6274859     | -2.622078      |  1.6339641     |  0.2876357     |  2.4162404     |  1.8695959     |  0.08770358    | -1.2166196     | Gastric_cancer | 1              |\n",
       "| PGDX10346P1    |  -6.078536     | -12.661175     | -11.678871     |  -1.872324     |   1.336255     | -1.996692      | -6.4118319     |  7.9706470     | 12.11108040    | ...            | -2.9572109     | -2.308502      |  0.7707140     | -3.6516509     | -3.0050707     | -1.9374279     | -0.15064911    | -3.4388000     | Gastric_cancer | 1              |\n",
       "| PGDX10349P1    |  48.179628     | -48.671877     |  57.672198     |  10.976267     | -20.122190     | -4.259207      |  3.0733782     |  0.6075922     |  1.57203960    | ...            |  0.6475888     |  2.037660      | -1.7877125     |  2.0789376     | -1.0851786     | -0.2287387     |  0.90575811    | -0.9010285     | Gastric_cancer | 1              |\n",
       "| PGDX10351P1    | -35.928939     | -11.350262     | -13.701368     | -14.147165     |  -4.240782     | -5.227815      | -0.1563398     |  5.1853643     | -1.26376760    | ...            |  2.4307994     |  5.922993      |  2.1776501     | -2.6065181     |  1.8807665     |  2.5498882     | -3.57969961    |  1.5642893     | Gastric_cancer | 1              |\n",
       "| PGDX10566P     |  -3.645149     |  -8.417624     | -18.188105     |  -4.633597     |   1.470311     | -1.048202      |  3.6578793     | -1.3577985     | -0.59132535    | ...            |  2.1880247     | -4.290371      |  0.5627505     |  2.3363121     | -0.2994595     |  2.8081674     |  2.42526637    |  1.0627620     | Ovarian_Cancer | 1              |\n",
       "| PGDX10567P     |   9.167948     |  -9.013273     |   9.812515     |   4.895645     |  -4.504976     |  4.545019      |  1.3597509     | -2.8620042     |  0.01220041    | ...            | -1.0443199     |  3.607826      | -2.0018629     |  3.3426278     | -1.0511282     |  0.7924274     |  0.98886233    |  6.8472585     | Ovarian_Cancer | 1              |\n",
       "\n"
      ],
      "text/plain": [
       "  sample      PC1        PC2        PC3        PC4        PC5        PC6      \n",
       "1 PGDX10344P1  -4.342131   1.953977 -13.968322   2.318305   1.685676 -3.381066\n",
       "2 PGDX10346P1  -6.078536 -12.661175 -11.678871  -1.872324   1.336255 -1.996692\n",
       "3 PGDX10349P1  48.179628 -48.671877  57.672198  10.976267 -20.122190 -4.259207\n",
       "4 PGDX10351P1 -35.928939 -11.350262 -13.701368 -14.147165  -4.240782 -5.227815\n",
       "5 PGDX10566P   -3.645149  -8.417624 -18.188105  -4.633597   1.470311 -1.048202\n",
       "6 PGDX10567P    9.167948  -9.013273   9.812515   4.895645  -4.504976  4.545019\n",
       "  PC7        PC8        PC9         ... PC43       PC44      PC45      \n",
       "1  6.0445212 -1.1347791  1.74198197 ...  0.6274859 -2.622078  1.6339641\n",
       "2 -6.4118319  7.9706470 12.11108040 ... -2.9572109 -2.308502  0.7707140\n",
       "3  3.0733782  0.6075922  1.57203960 ...  0.6475888  2.037660 -1.7877125\n",
       "4 -0.1563398  5.1853643 -1.26376760 ...  2.4307994  5.922993  2.1776501\n",
       "5  3.6578793 -1.3577985 -0.59132535 ...  2.1880247 -4.290371  0.5627505\n",
       "6  1.3597509 -2.8620042  0.01220041 ... -1.0443199  3.607826 -2.0018629\n",
       "  PC46       PC47       PC48       PC49        PC50       sample_type   \n",
       "1  0.2876357  2.4162404  1.8695959  0.08770358 -1.2166196 Gastric_cancer\n",
       "2 -3.6516509 -3.0050707 -1.9374279 -0.15064911 -3.4388000 Gastric_cancer\n",
       "3  2.0789376 -1.0851786 -0.2287387  0.90575811 -0.9010285 Gastric_cancer\n",
       "4 -2.6065181  1.8807665  2.5498882 -3.57969961  1.5642893 Gastric_cancer\n",
       "5  2.3363121 -0.2994595  2.8081674  2.42526637  1.0627620 Ovarian_Cancer\n",
       "6  3.3426278 -1.0511282  0.7924274  0.98886233  6.8472585 Ovarian_Cancer\n",
       "  sample_type01\n",
       "1 1            \n",
       "2 1            \n",
       "3 1            \n",
       "4 1            \n",
       "5 1            \n",
       "6 1            "
      ]
     },
     "metadata": {},
     "output_type": "display_data"
    }
   ],
   "source": [
    "data <- merge(ATAC_pred, sample_types, by=\"sample\")\n",
    "data <- data %>% mutate(sample_type01 = ifelse(sample_type == \"Healthy\", 0, 1))\n",
    "head(data)"
   ]
  },
  {
   "cell_type": "code",
   "execution_count": 17,
   "id": "bb87f5ae-a854-4b23-996c-e795cdbb70af",
   "metadata": {
    "execution": {
     "iopub.execute_input": "2021-11-11T20:37:47.079404Z",
     "iopub.status.busy": "2021-11-11T20:37:47.077844Z",
     "iopub.status.idle": "2021-11-11T20:37:47.094377Z",
     "shell.execute_reply": "2021-11-11T20:37:47.092805Z"
    }
   },
   "outputs": [],
   "source": [
    "data <- data %>% dplyr::select(-sample_type)"
   ]
  },
  {
   "cell_type": "code",
   "execution_count": 18,
   "id": "65c4d00f-37ac-4eef-89e5-a620a3029ff2",
   "metadata": {
    "execution": {
     "iopub.execute_input": "2021-11-11T20:37:47.098481Z",
     "iopub.status.busy": "2021-11-11T20:37:47.096930Z",
     "iopub.status.idle": "2021-11-11T20:37:47.121879Z",
     "shell.execute_reply": "2021-11-11T20:37:47.120371Z"
    }
   },
   "outputs": [
    {
     "data": {
      "text/html": [
       "<table>\n",
       "<thead><tr><th scope=col>PC1</th><th scope=col>PC2</th><th scope=col>PC3</th><th scope=col>PC4</th><th scope=col>PC5</th><th scope=col>PC6</th><th scope=col>PC7</th><th scope=col>PC8</th><th scope=col>PC9</th><th scope=col>PC10</th><th scope=col>...</th><th scope=col>PC42</th><th scope=col>PC43</th><th scope=col>PC44</th><th scope=col>PC45</th><th scope=col>PC46</th><th scope=col>PC47</th><th scope=col>PC48</th><th scope=col>PC49</th><th scope=col>PC50</th><th scope=col>sample_type01</th></tr></thead>\n",
       "<tbody>\n",
       "\t<tr><td> -4.342131 </td><td>  1.953977 </td><td>-13.968322 </td><td>  2.318305 </td><td>  1.685676 </td><td>-3.381066  </td><td> 6.0445212 </td><td>-1.1347791 </td><td> 1.74198197</td><td>-0.74881708</td><td>...        </td><td>-2.8077276 </td><td> 0.6274859 </td><td>-2.622078  </td><td> 1.6339641 </td><td> 0.2876357 </td><td> 2.4162404 </td><td> 1.8695959 </td><td> 0.08770358</td><td>-1.2166196 </td><td>1          </td></tr>\n",
       "\t<tr><td> -6.078536 </td><td>-12.661175 </td><td>-11.678871 </td><td> -1.872324 </td><td>  1.336255 </td><td>-1.996692  </td><td>-6.4118319 </td><td> 7.9706470 </td><td>12.11108040</td><td> 5.72266372</td><td>...        </td><td>-1.3210358 </td><td>-2.9572109 </td><td>-2.308502  </td><td> 0.7707140 </td><td>-3.6516509 </td><td>-3.0050707 </td><td>-1.9374279 </td><td>-0.15064911</td><td>-3.4388000 </td><td>1          </td></tr>\n",
       "\t<tr><td> 48.179628 </td><td>-48.671877 </td><td> 57.672198 </td><td> 10.976267 </td><td>-20.122190 </td><td>-4.259207  </td><td> 3.0733782 </td><td> 0.6075922 </td><td> 1.57203960</td><td>-2.84910093</td><td>...        </td><td> 0.7400773 </td><td> 0.6475888 </td><td> 2.037660  </td><td>-1.7877125 </td><td> 2.0789376 </td><td>-1.0851786 </td><td>-0.2287387 </td><td> 0.90575811</td><td>-0.9010285 </td><td>1          </td></tr>\n",
       "\t<tr><td>-35.928939 </td><td>-11.350262 </td><td>-13.701368 </td><td>-14.147165 </td><td> -4.240782 </td><td>-5.227815  </td><td>-0.1563398 </td><td> 5.1853643 </td><td>-1.26376760</td><td> 0.05546772</td><td>...        </td><td> 3.8996607 </td><td> 2.4307994 </td><td> 5.922993  </td><td> 2.1776501 </td><td>-2.6065181 </td><td> 1.8807665 </td><td> 2.5498882 </td><td>-3.57969961</td><td> 1.5642893 </td><td>1          </td></tr>\n",
       "\t<tr><td> -3.645149 </td><td> -8.417624 </td><td>-18.188105 </td><td> -4.633597 </td><td>  1.470311 </td><td>-1.048202  </td><td> 3.6578793 </td><td>-1.3577985 </td><td>-0.59132535</td><td>-2.49310460</td><td>...        </td><td> 1.2274091 </td><td> 2.1880247 </td><td>-4.290371  </td><td> 0.5627505 </td><td> 2.3363121 </td><td>-0.2994595 </td><td> 2.8081674 </td><td> 2.42526637</td><td> 1.0627620 </td><td>1          </td></tr>\n",
       "\t<tr><td>  9.167948 </td><td> -9.013273 </td><td>  9.812515 </td><td>  4.895645 </td><td> -4.504976 </td><td> 4.545019  </td><td> 1.3597509 </td><td>-2.8620042 </td><td> 0.01220041</td><td> 0.19581699</td><td>...        </td><td> 2.7123738 </td><td>-1.0443199 </td><td> 3.607826  </td><td>-2.0018629 </td><td> 3.3426278 </td><td>-1.0511282 </td><td> 0.7924274 </td><td> 0.98886233</td><td> 6.8472585 </td><td>1          </td></tr>\n",
       "</tbody>\n",
       "</table>\n"
      ],
      "text/latex": [
       "\\begin{tabular}{r|lllllllllllllllllllllllllllllllllllllllllllllllllll}\n",
       " PC1 & PC2 & PC3 & PC4 & PC5 & PC6 & PC7 & PC8 & PC9 & PC10 & ... & PC42 & PC43 & PC44 & PC45 & PC46 & PC47 & PC48 & PC49 & PC50 & sample\\_type01\\\\\n",
       "\\hline\n",
       "\t  -4.342131  &   1.953977  & -13.968322  &   2.318305  &   1.685676  & -3.381066   &  6.0445212  & -1.1347791  &  1.74198197 & -0.74881708 & ...         & -2.8077276  &  0.6274859  & -2.622078   &  1.6339641  &  0.2876357  &  2.4162404  &  1.8695959  &  0.08770358 & -1.2166196  & 1          \\\\\n",
       "\t  -6.078536  & -12.661175  & -11.678871  &  -1.872324  &   1.336255  & -1.996692   & -6.4118319  &  7.9706470  & 12.11108040 &  5.72266372 & ...         & -1.3210358  & -2.9572109  & -2.308502   &  0.7707140  & -3.6516509  & -3.0050707  & -1.9374279  & -0.15064911 & -3.4388000  & 1          \\\\\n",
       "\t  48.179628  & -48.671877  &  57.672198  &  10.976267  & -20.122190  & -4.259207   &  3.0733782  &  0.6075922  &  1.57203960 & -2.84910093 & ...         &  0.7400773  &  0.6475888  &  2.037660   & -1.7877125  &  2.0789376  & -1.0851786  & -0.2287387  &  0.90575811 & -0.9010285  & 1          \\\\\n",
       "\t -35.928939  & -11.350262  & -13.701368  & -14.147165  &  -4.240782  & -5.227815   & -0.1563398  &  5.1853643  & -1.26376760 &  0.05546772 & ...         &  3.8996607  &  2.4307994  &  5.922993   &  2.1776501  & -2.6065181  &  1.8807665  &  2.5498882  & -3.57969961 &  1.5642893  & 1          \\\\\n",
       "\t  -3.645149  &  -8.417624  & -18.188105  &  -4.633597  &   1.470311  & -1.048202   &  3.6578793  & -1.3577985  & -0.59132535 & -2.49310460 & ...         &  1.2274091  &  2.1880247  & -4.290371   &  0.5627505  &  2.3363121  & -0.2994595  &  2.8081674  &  2.42526637 &  1.0627620  & 1          \\\\\n",
       "\t   9.167948  &  -9.013273  &   9.812515  &   4.895645  &  -4.504976  &  4.545019   &  1.3597509  & -2.8620042  &  0.01220041 &  0.19581699 & ...         &  2.7123738  & -1.0443199  &  3.607826   & -2.0018629  &  3.3426278  & -1.0511282  &  0.7924274  &  0.98886233 &  6.8472585  & 1          \\\\\n",
       "\\end{tabular}\n"
      ],
      "text/markdown": [
       "\n",
       "| PC1 | PC2 | PC3 | PC4 | PC5 | PC6 | PC7 | PC8 | PC9 | PC10 | ... | PC42 | PC43 | PC44 | PC45 | PC46 | PC47 | PC48 | PC49 | PC50 | sample_type01 |\n",
       "|---|---|---|---|---|---|---|---|---|---|---|---|---|---|---|---|---|---|---|---|---|\n",
       "|  -4.342131  |   1.953977  | -13.968322  |   2.318305  |   1.685676  | -3.381066   |  6.0445212  | -1.1347791  |  1.74198197 | -0.74881708 | ...         | -2.8077276  |  0.6274859  | -2.622078   |  1.6339641  |  0.2876357  |  2.4162404  |  1.8695959  |  0.08770358 | -1.2166196  | 1           |\n",
       "|  -6.078536  | -12.661175  | -11.678871  |  -1.872324  |   1.336255  | -1.996692   | -6.4118319  |  7.9706470  | 12.11108040 |  5.72266372 | ...         | -1.3210358  | -2.9572109  | -2.308502   |  0.7707140  | -3.6516509  | -3.0050707  | -1.9374279  | -0.15064911 | -3.4388000  | 1           |\n",
       "|  48.179628  | -48.671877  |  57.672198  |  10.976267  | -20.122190  | -4.259207   |  3.0733782  |  0.6075922  |  1.57203960 | -2.84910093 | ...         |  0.7400773  |  0.6475888  |  2.037660   | -1.7877125  |  2.0789376  | -1.0851786  | -0.2287387  |  0.90575811 | -0.9010285  | 1           |\n",
       "| -35.928939  | -11.350262  | -13.701368  | -14.147165  |  -4.240782  | -5.227815   | -0.1563398  |  5.1853643  | -1.26376760 |  0.05546772 | ...         |  3.8996607  |  2.4307994  |  5.922993   |  2.1776501  | -2.6065181  |  1.8807665  |  2.5498882  | -3.57969961 |  1.5642893  | 1           |\n",
       "|  -3.645149  |  -8.417624  | -18.188105  |  -4.633597  |   1.470311  | -1.048202   |  3.6578793  | -1.3577985  | -0.59132535 | -2.49310460 | ...         |  1.2274091  |  2.1880247  | -4.290371   |  0.5627505  |  2.3363121  | -0.2994595  |  2.8081674  |  2.42526637 |  1.0627620  | 1           |\n",
       "|   9.167948  |  -9.013273  |   9.812515  |   4.895645  |  -4.504976  |  4.545019   |  1.3597509  | -2.8620042  |  0.01220041 |  0.19581699 | ...         |  2.7123738  | -1.0443199  |  3.607826   | -2.0018629  |  3.3426278  | -1.0511282  |  0.7924274  |  0.98886233 |  6.8472585  | 1           |\n",
       "\n"
      ],
      "text/plain": [
       "  PC1        PC2        PC3        PC4        PC5        PC6       PC7       \n",
       "1  -4.342131   1.953977 -13.968322   2.318305   1.685676 -3.381066  6.0445212\n",
       "2  -6.078536 -12.661175 -11.678871  -1.872324   1.336255 -1.996692 -6.4118319\n",
       "3  48.179628 -48.671877  57.672198  10.976267 -20.122190 -4.259207  3.0733782\n",
       "4 -35.928939 -11.350262 -13.701368 -14.147165  -4.240782 -5.227815 -0.1563398\n",
       "5  -3.645149  -8.417624 -18.188105  -4.633597   1.470311 -1.048202  3.6578793\n",
       "6   9.167948  -9.013273   9.812515   4.895645  -4.504976  4.545019  1.3597509\n",
       "  PC8        PC9         PC10        ... PC42       PC43       PC44     \n",
       "1 -1.1347791  1.74198197 -0.74881708 ... -2.8077276  0.6274859 -2.622078\n",
       "2  7.9706470 12.11108040  5.72266372 ... -1.3210358 -2.9572109 -2.308502\n",
       "3  0.6075922  1.57203960 -2.84910093 ...  0.7400773  0.6475888  2.037660\n",
       "4  5.1853643 -1.26376760  0.05546772 ...  3.8996607  2.4307994  5.922993\n",
       "5 -1.3577985 -0.59132535 -2.49310460 ...  1.2274091  2.1880247 -4.290371\n",
       "6 -2.8620042  0.01220041  0.19581699 ...  2.7123738 -1.0443199  3.607826\n",
       "  PC45       PC46       PC47       PC48       PC49        PC50      \n",
       "1  1.6339641  0.2876357  2.4162404  1.8695959  0.08770358 -1.2166196\n",
       "2  0.7707140 -3.6516509 -3.0050707 -1.9374279 -0.15064911 -3.4388000\n",
       "3 -1.7877125  2.0789376 -1.0851786 -0.2287387  0.90575811 -0.9010285\n",
       "4  2.1776501 -2.6065181  1.8807665  2.5498882 -3.57969961  1.5642893\n",
       "5  0.5627505  2.3363121 -0.2994595  2.8081674  2.42526637  1.0627620\n",
       "6 -2.0018629  3.3426278 -1.0511282  0.7924274  0.98886233  6.8472585\n",
       "  sample_type01\n",
       "1 1            \n",
       "2 1            \n",
       "3 1            \n",
       "4 1            \n",
       "5 1            \n",
       "6 1            "
      ]
     },
     "metadata": {},
     "output_type": "display_data"
    }
   ],
   "source": [
    "data <- data %>% dplyr::select(-sample)\n",
    "head(data)"
   ]
  },
  {
   "cell_type": "code",
   "execution_count": 19,
   "id": "e464b9ea-4c23-421d-9a6a-8ecf746c2f78",
   "metadata": {
    "execution": {
     "iopub.execute_input": "2021-11-11T20:37:47.126093Z",
     "iopub.status.busy": "2021-11-11T20:37:47.124505Z",
     "iopub.status.idle": "2021-11-11T20:37:47.135686Z",
     "shell.execute_reply": "2021-11-11T20:37:47.134147Z"
    }
   },
   "outputs": [],
   "source": [
    "cross_validation <- function(dataset, k_inner_cv, k_outer_cv){\n",
    "    \n",
    "    observed  <- dataset$sample_type01\n",
    "    return_tibble <- tibble(observed = observed)\n",
    "    \n",
    "    for (i in 1:k_outer_cv){ # repeated Cross-validation loop\n",
    "        set.seed(i)\n",
    "        cvfolds <- cut(seq_len(nrow(dataset)), breaks = k_inner_cv, labels = F)\n",
    "        cvfolds <- sample(cvfolds)\n",
    "\n",
    "        predicted <- rep(NA, nrow(dataset))\n",
    "\n",
    "        for (n in 1:k_inner_cv){\n",
    "            rows      <- which(cvfolds==n)\n",
    "            testdata  <- dataset[rows,]\n",
    "            testlabels <- testdata$sample_type01\n",
    "            testdata <- testdata %>% dplyr::select(-sample_type01)\n",
    "\n",
    "            traindata <- dataset[-rows,]\n",
    "            trainlabels <- traindata$sample_type01\n",
    "            #traindata <- traindata %>% dplyr::select(-sample_type01)\n",
    "\n",
    "\n",
    "            fit       <- lda(sample_type01 ~ ., data=traindata)\n",
    "            prediction <- predict(fit, testdata)\n",
    "            predicted[rows] <- prediction$posterior[,2]\n",
    "        }\n",
    "        \n",
    "    current_round_tibble <- tibble(predicted = predicted)\n",
    "    return_tibble <- cbind(return_tibble, current_round_tibble)\n",
    "    } # end of outer cv loop\n",
    "\n",
    "    return(return_tibble)\n",
    "}"
   ]
  },
  {
   "cell_type": "code",
   "execution_count": 20,
   "id": "4b3e8535-ed1f-40f6-a389-0481b560eb1d",
   "metadata": {
    "execution": {
     "iopub.execute_input": "2021-11-11T20:37:47.139784Z",
     "iopub.status.busy": "2021-11-11T20:37:47.138248Z",
     "iopub.status.idle": "2021-11-11T20:37:48.798615Z",
     "shell.execute_reply": "2021-11-11T20:37:48.796862Z"
    },
    "tags": []
   },
   "outputs": [],
   "source": [
    "results <- as.data.frame(cross_validation(data, k_inner_cv = 10, k_outer_cv = 10))"
   ]
  },
  {
   "cell_type": "code",
   "execution_count": 21,
   "id": "42f51e28-e15f-455a-8044-62d47725bc15",
   "metadata": {
    "execution": {
     "iopub.execute_input": "2021-11-11T20:37:48.803338Z",
     "iopub.status.busy": "2021-11-11T20:37:48.801637Z",
     "iopub.status.idle": "2021-11-11T20:37:48.827467Z",
     "shell.execute_reply": "2021-11-11T20:37:48.826014Z"
    }
   },
   "outputs": [
    {
     "name": "stderr",
     "output_type": "stream",
     "text": [
      "New names:\n",
      "* predicted -> predicted...2\n",
      "* predicted -> predicted...3\n",
      "* predicted -> predicted...4\n",
      "* predicted -> predicted...5\n",
      "* predicted -> predicted...6\n",
      "* ...\n"
     ]
    },
    {
     "data": {
      "text/html": [
       "<table>\n",
       "<thead><tr><th scope=col>observed</th><th scope=col>predicted...2</th><th scope=col>predicted...3</th><th scope=col>predicted...4</th><th scope=col>predicted...5</th><th scope=col>predicted...6</th><th scope=col>predicted...7</th><th scope=col>predicted...8</th><th scope=col>predicted...9</th><th scope=col>predicted...10</th><th scope=col>predicted...11</th></tr></thead>\n",
       "<tbody>\n",
       "\t<tr><td>1        </td><td>0.3436612</td><td>0.6801321</td><td>0.3410724</td><td>0.4460276</td><td>0.3714559</td><td>0.3395366</td><td>0.6577503</td><td>0.3651524</td><td>0.4175338</td><td>0.4188710</td></tr>\n",
       "\t<tr><td>1        </td><td>0.4314549</td><td>0.2076484</td><td>0.4243601</td><td>0.4769424</td><td>0.4580539</td><td>0.3264093</td><td>0.3089825</td><td>0.3425262</td><td>0.1353414</td><td>0.1367788</td></tr>\n",
       "\t<tr><td>1        </td><td>0.9794671</td><td>0.9869055</td><td>0.9838237</td><td>0.9844531</td><td>0.9782503</td><td>0.9793649</td><td>0.9800792</td><td>0.9733342</td><td>0.9874479</td><td>0.9827637</td></tr>\n",
       "\t<tr><td>1        </td><td>0.2794645</td><td>0.2610130</td><td>0.1865214</td><td>0.1684457</td><td>0.2974522</td><td>0.1473623</td><td>0.2752325</td><td>0.5666697</td><td>0.5591218</td><td>0.1593999</td></tr>\n",
       "\t<tr><td>1        </td><td>0.7125422</td><td>0.7607799</td><td>0.8604535</td><td>0.7266700</td><td>0.8019640</td><td>0.7847162</td><td>0.8056162</td><td>0.6810949</td><td>0.7743292</td><td>0.7469585</td></tr>\n",
       "\t<tr><td>1        </td><td>0.8581353</td><td>0.8693567</td><td>0.9292935</td><td>0.8889015</td><td>0.7587556</td><td>0.8092268</td><td>0.8288329</td><td>0.8452354</td><td>0.8599730</td><td>0.8097178</td></tr>\n",
       "</tbody>\n",
       "</table>\n"
      ],
      "text/latex": [
       "\\begin{tabular}{r|lllllllllll}\n",
       " observed & predicted...2 & predicted...3 & predicted...4 & predicted...5 & predicted...6 & predicted...7 & predicted...8 & predicted...9 & predicted...10 & predicted...11\\\\\n",
       "\\hline\n",
       "\t 1         & 0.3436612 & 0.6801321 & 0.3410724 & 0.4460276 & 0.3714559 & 0.3395366 & 0.6577503 & 0.3651524 & 0.4175338 & 0.4188710\\\\\n",
       "\t 1         & 0.4314549 & 0.2076484 & 0.4243601 & 0.4769424 & 0.4580539 & 0.3264093 & 0.3089825 & 0.3425262 & 0.1353414 & 0.1367788\\\\\n",
       "\t 1         & 0.9794671 & 0.9869055 & 0.9838237 & 0.9844531 & 0.9782503 & 0.9793649 & 0.9800792 & 0.9733342 & 0.9874479 & 0.9827637\\\\\n",
       "\t 1         & 0.2794645 & 0.2610130 & 0.1865214 & 0.1684457 & 0.2974522 & 0.1473623 & 0.2752325 & 0.5666697 & 0.5591218 & 0.1593999\\\\\n",
       "\t 1         & 0.7125422 & 0.7607799 & 0.8604535 & 0.7266700 & 0.8019640 & 0.7847162 & 0.8056162 & 0.6810949 & 0.7743292 & 0.7469585\\\\\n",
       "\t 1         & 0.8581353 & 0.8693567 & 0.9292935 & 0.8889015 & 0.7587556 & 0.8092268 & 0.8288329 & 0.8452354 & 0.8599730 & 0.8097178\\\\\n",
       "\\end{tabular}\n"
      ],
      "text/markdown": [
       "\n",
       "| observed | predicted...2 | predicted...3 | predicted...4 | predicted...5 | predicted...6 | predicted...7 | predicted...8 | predicted...9 | predicted...10 | predicted...11 |\n",
       "|---|---|---|---|---|---|---|---|---|---|---|\n",
       "| 1         | 0.3436612 | 0.6801321 | 0.3410724 | 0.4460276 | 0.3714559 | 0.3395366 | 0.6577503 | 0.3651524 | 0.4175338 | 0.4188710 |\n",
       "| 1         | 0.4314549 | 0.2076484 | 0.4243601 | 0.4769424 | 0.4580539 | 0.3264093 | 0.3089825 | 0.3425262 | 0.1353414 | 0.1367788 |\n",
       "| 1         | 0.9794671 | 0.9869055 | 0.9838237 | 0.9844531 | 0.9782503 | 0.9793649 | 0.9800792 | 0.9733342 | 0.9874479 | 0.9827637 |\n",
       "| 1         | 0.2794645 | 0.2610130 | 0.1865214 | 0.1684457 | 0.2974522 | 0.1473623 | 0.2752325 | 0.5666697 | 0.5591218 | 0.1593999 |\n",
       "| 1         | 0.7125422 | 0.7607799 | 0.8604535 | 0.7266700 | 0.8019640 | 0.7847162 | 0.8056162 | 0.6810949 | 0.7743292 | 0.7469585 |\n",
       "| 1         | 0.8581353 | 0.8693567 | 0.9292935 | 0.8889015 | 0.7587556 | 0.8092268 | 0.8288329 | 0.8452354 | 0.8599730 | 0.8097178 |\n",
       "\n"
      ],
      "text/plain": [
       "  observed predicted...2 predicted...3 predicted...4 predicted...5\n",
       "1 1        0.3436612     0.6801321     0.3410724     0.4460276    \n",
       "2 1        0.4314549     0.2076484     0.4243601     0.4769424    \n",
       "3 1        0.9794671     0.9869055     0.9838237     0.9844531    \n",
       "4 1        0.2794645     0.2610130     0.1865214     0.1684457    \n",
       "5 1        0.7125422     0.7607799     0.8604535     0.7266700    \n",
       "6 1        0.8581353     0.8693567     0.9292935     0.8889015    \n",
       "  predicted...6 predicted...7 predicted...8 predicted...9 predicted...10\n",
       "1 0.3714559     0.3395366     0.6577503     0.3651524     0.4175338     \n",
       "2 0.4580539     0.3264093     0.3089825     0.3425262     0.1353414     \n",
       "3 0.9782503     0.9793649     0.9800792     0.9733342     0.9874479     \n",
       "4 0.2974522     0.1473623     0.2752325     0.5666697     0.5591218     \n",
       "5 0.8019640     0.7847162     0.8056162     0.6810949     0.7743292     \n",
       "6 0.7587556     0.8092268     0.8288329     0.8452354     0.8599730     \n",
       "  predicted...11\n",
       "1 0.4188710     \n",
       "2 0.1367788     \n",
       "3 0.9827637     \n",
       "4 0.1593999     \n",
       "5 0.7469585     \n",
       "6 0.8097178     "
      ]
     },
     "metadata": {},
     "output_type": "display_data"
    }
   ],
   "source": [
    "results <- tibble(results, .name_repair = \"unique\")\n",
    "head(results)"
   ]
  },
  {
   "cell_type": "code",
   "execution_count": 22,
   "id": "7f4b2cc0-448d-4306-b063-f8b2e30b7f61",
   "metadata": {
    "execution": {
     "iopub.execute_input": "2021-11-11T20:37:48.831511Z",
     "iopub.status.busy": "2021-11-11T20:37:48.829995Z",
     "iopub.status.idle": "2021-11-11T20:37:48.891352Z",
     "shell.execute_reply": "2021-11-11T20:37:48.889684Z"
    }
   },
   "outputs": [],
   "source": [
    "saveRDS(results, file = snakemake@output[[\"LDA_output\"]])"
   ]
  },
  {
   "cell_type": "code",
   "execution_count": 23,
   "id": "3ba22c8a-88dd-409d-8808-bbacd72c63eb",
   "metadata": {
    "execution": {
     "iopub.execute_input": "2021-11-11T20:37:48.895553Z",
     "iopub.status.busy": "2021-11-11T20:37:48.893972Z",
     "iopub.status.idle": "2021-11-11T20:37:50.021663Z",
     "shell.execute_reply": "2021-11-11T20:37:50.019959Z"
    }
   },
   "outputs": [
    {
     "data": {
      "image/png": "[encoded data removed]",
      "text/plain": [
       "plot without title"
      ]
     },
     "metadata": {},
     "output_type": "display_data"
    }
   ],
   "source": [
    "# Create multiple curves to plot\n",
    "rocs <- roc(observed ~ predicted...2 + \n",
    "                    predicted...3 + \n",
    "                    predicted...4 + \n",
    "                    predicted...5 + \n",
    "                    predicted...6 +\n",
    "                    predicted...7 +\n",
    "                    predicted...8 + \n",
    "                    predicted...9 + \n",
    "                    predicted...10 + \n",
    "                    predicted...11, data = results)\n",
    "ggroc(rocs)"
   ]
  },
  {
   "cell_type": "code",
   "execution_count": 24,
   "id": "c70dfd35-58b7-4695-b97d-90c19180a4b4",
   "metadata": {
    "execution": {
     "iopub.execute_input": "2021-11-11T20:37:50.026660Z",
     "iopub.status.busy": "2021-11-11T20:37:50.024844Z",
     "iopub.status.idle": "2021-11-11T20:37:50.041528Z",
     "shell.execute_reply": "2021-11-11T20:37:50.039666Z"
    }
   },
   "outputs": [
    {
     "data": {
      "text/plain": [
       "NULL"
      ]
     },
     "metadata": {},
     "output_type": "display_data"
    }
   ],
   "source": [
    "\n",
    "dim(results$observed)"
   ]
  },
  {
   "cell_type": "code",
   "execution_count": null,
   "id": "d656dfd4-b2b5-4f1b-b560-25af1f706007",
   "metadata": {},
   "outputs": [],
   "source": []
  },
  {
   "cell_type": "code",
   "execution_count": 25,
   "id": "8fc27694-efbe-42ce-ba7f-252c3ef12344",
   "metadata": {
    "execution": {
     "iopub.execute_input": "2021-11-11T20:37:50.046027Z",
     "iopub.status.busy": "2021-11-11T20:37:50.044432Z",
     "iopub.status.idle": "2021-11-11T20:37:50.099542Z",
     "shell.execute_reply": "2021-11-11T20:37:50.097788Z"
    }
   },
   "outputs": [],
   "source": [
    "roc1 <- roc(results$observed, results$predicted...2)\n",
    "roc2 <- roc(results$observed, results$predicted...3)\n",
    "roc3 <- roc(results$observed, results$predicted...4)\n",
    "roc4 <- roc(results$observed, results$predicted...5)\n",
    "roc5 <- roc(results$observed, results$predicted...6)\n",
    "roc6 <- roc(results$observed, results$predicted...7)\n",
    "roc7 <- roc(results$observed, results$predicted...8)\n",
    "roc8 <- roc(results$observed, results$predicted...9)\n",
    "roc9 <- roc(results$observed, results$predicted...10)\n",
    "roc10 <- roc(results$observed, results$predicted...11)"
   ]
  },
  {
   "cell_type": "code",
   "execution_count": null,
   "id": "dd213c44-3499-4e56-89cd-da8093c3044e",
   "metadata": {},
   "outputs": [],
   "source": []
  },
  {
   "cell_type": "code",
   "execution_count": 26,
   "id": "63b777e5-556a-4912-9a35-fef3b1284292",
   "metadata": {
    "execution": {
     "iopub.execute_input": "2021-11-11T20:37:50.104004Z",
     "iopub.status.busy": "2021-11-11T20:37:50.102359Z",
     "iopub.status.idle": "2021-11-11T20:37:50.118425Z",
     "shell.execute_reply": "2021-11-11T20:37:50.116794Z"
    }
   },
   "outputs": [
    {
     "data": {
      "text/html": [
       "'Mean AUC over 10 repetitions of 10-fold CV: 0.847187359928283'"
      ],
      "text/latex": [
       "'Mean AUC over 10 repetitions of 10-fold CV: 0.847187359928283'"
      ],
      "text/markdown": [
       "'Mean AUC over 10 repetitions of 10-fold CV: 0.847187359928283'"
      ],
      "text/plain": [
       "[1] \"Mean AUC over 10 repetitions of 10-fold CV: 0.847187359928283\""
      ]
     },
     "metadata": {},
     "output_type": "display_data"
    }
   ],
   "source": [
    "paste(\"Mean AUC over 10 repetitions of 10-fold CV: \", mean(c(roc1$auc, roc2$auc, roc3$auc, roc4$auc, roc5$auc, roc6$auc, roc7$auc, roc8$auc, roc9$auc, roc10$auc)), sep = \"\")"
   ]
  },
  {
   "cell_type": "code",
   "execution_count": 27,
   "id": "49f159fe-7ecc-4e80-8851-65e78c8a4f0e",
   "metadata": {
    "execution": {
     "iopub.execute_input": "2021-11-11T20:37:50.122778Z",
     "iopub.status.busy": "2021-11-11T20:37:50.121140Z",
     "iopub.status.idle": "2021-11-11T20:37:50.150484Z",
     "shell.execute_reply": "2021-11-11T20:37:50.148533Z"
    }
   },
   "outputs": [],
   "source": [
    "results_01 <- results %>% mutate(predicted...2_01 = ifelse(predicted...2 > 0.5, 1, 0), \n",
    "                                 predicted...3_01 = ifelse(predicted...3 > 0.5, 1, 0), \n",
    "                                 predicted...4_01 = ifelse(predicted...4 > 0.5, 1, 0),\n",
    "                                 predicted...5_01 = ifelse(predicted...5 > 0.5, 1, 0),\n",
    "                                 predicted...6_01 = ifelse(predicted...6 > 0.5, 1, 0),\n",
    "                                 predicted...7_01 = ifelse(predicted...7 > 0.5, 1, 0),\n",
    "                                 predicted...8_01 = ifelse(predicted...8 > 0.5, 1, 0),\n",
    "                                 predicted...9_01 = ifelse(predicted...9 > 0.5, 1, 0),\n",
    "                                 predicted...10_01 = ifelse(predicted...10 > 0.5, 1, 0),\n",
    "                                 predicted...11_01 = ifelse(predicted...11 > 0.5, 1, 0))"
   ]
  },
  {
   "cell_type": "code",
   "execution_count": 28,
   "id": "05bb2d6a-bbf1-4152-877d-a3710aff5961",
   "metadata": {
    "execution": {
     "iopub.execute_input": "2021-11-11T20:37:50.154961Z",
     "iopub.status.busy": "2021-11-11T20:37:50.153328Z",
     "iopub.status.idle": "2021-11-11T20:37:50.175263Z",
     "shell.execute_reply": "2021-11-11T20:37:50.173728Z"
    }
   },
   "outputs": [
    {
     "data": {
      "text/html": [
       "<ol class=list-inline>\n",
       "\t<li>0.205188679245283</li>\n",
       "\t<li>0.19811320754717</li>\n",
       "\t<li>0.224056603773585</li>\n",
       "\t<li>0.226415094339623</li>\n",
       "\t<li>0.214622641509434</li>\n",
       "\t<li>0.212264150943396</li>\n",
       "\t<li>0.214622641509434</li>\n",
       "\t<li>0.195754716981132</li>\n",
       "\t<li>0.216981132075472</li>\n",
       "\t<li>0.216981132075472</li>\n",
       "</ol>\n"
      ],
      "text/latex": [
       "\\begin{enumerate*}\n",
       "\\item 0.205188679245283\n",
       "\\item 0.19811320754717\n",
       "\\item 0.224056603773585\n",
       "\\item 0.226415094339623\n",
       "\\item 0.214622641509434\n",
       "\\item 0.212264150943396\n",
       "\\item 0.214622641509434\n",
       "\\item 0.195754716981132\n",
       "\\item 0.216981132075472\n",
       "\\item 0.216981132075472\n",
       "\\end{enumerate*}\n"
      ],
      "text/markdown": [
       "1. 0.205188679245283\n",
       "2. 0.19811320754717\n",
       "3. 0.224056603773585\n",
       "4. 0.226415094339623\n",
       "5. 0.214622641509434\n",
       "6. 0.212264150943396\n",
       "7. 0.214622641509434\n",
       "8. 0.195754716981132\n",
       "9. 0.216981132075472\n",
       "10. 0.216981132075472\n",
       "\n",
       "\n"
      ],
      "text/plain": [
       " [1] 0.2051887 0.1981132 0.2240566 0.2264151 0.2146226 0.2122642 0.2146226\n",
       " [8] 0.1957547 0.2169811 0.2169811"
      ]
     },
     "metadata": {},
     "output_type": "display_data"
    },
    {
     "data": {
      "text/html": [
       "'Mean error rate over 10 repetitions of 10-fold CV: 0.2125'"
      ],
      "text/latex": [
       "'Mean error rate over 10 repetitions of 10-fold CV: 0.2125'"
      ],
      "text/markdown": [
       "'Mean error rate over 10 repetitions of 10-fold CV: 0.2125'"
      ],
      "text/plain": [
       "[1] \"Mean error rate over 10 repetitions of 10-fold CV: 0.2125\""
      ]
     },
     "metadata": {},
     "output_type": "display_data"
    }
   ],
   "source": [
    "error_rates <- c(mean(results_01$observed != results_01$predicted...2_01), \n",
    "                mean(results_01$observed != results_01$predicted...3_01),\n",
    "               mean(results_01$observed != results_01$predicted...4_01),\n",
    "               mean(results_01$observed != results_01$predicted...5_01),\n",
    "               mean(results_01$observed != results_01$predicted...6_01),\n",
    "               mean(results_01$observed != results_01$predicted...7_01),\n",
    "               mean(results_01$observed != results_01$predicted...8_01),\n",
    "               mean(results_01$observed != results_01$predicted...9_01), \n",
    "               mean(results_01$observed != results_01$predicted...10_01), \n",
    "               mean(results_01$observed != results_01$predicted...11_01))\n",
    "\n",
    "error_rates\n",
    "\n",
    "paste(\"Mean error rate over 10 repetitions of 10-fold CV: \", mean(error_rates), sep = \"\")"
   ]
  },
  {
   "cell_type": "code",
   "execution_count": 29,
   "id": "c76a3931-a7e2-48a0-97c2-78e5906a16d8",
   "metadata": {
    "execution": {
     "iopub.execute_input": "2021-11-11T20:37:50.179458Z",
     "iopub.status.busy": "2021-11-11T20:37:50.177885Z",
     "iopub.status.idle": "2021-11-11T20:37:50.197740Z",
     "shell.execute_reply": "2021-11-11T20:37:50.196259Z"
    }
   },
   "outputs": [
    {
     "data": {
      "text/html": [
       "<ol class=list-inline>\n",
       "\t<li>0.794811320754717</li>\n",
       "\t<li>0.80188679245283</li>\n",
       "\t<li>0.775943396226415</li>\n",
       "\t<li>0.773584905660377</li>\n",
       "\t<li>0.785377358490566</li>\n",
       "\t<li>0.787735849056604</li>\n",
       "\t<li>0.785377358490566</li>\n",
       "\t<li>0.804245283018868</li>\n",
       "\t<li>0.783018867924528</li>\n",
       "\t<li>0.783018867924528</li>\n",
       "</ol>\n"
      ],
      "text/latex": [
       "\\begin{enumerate*}\n",
       "\\item 0.794811320754717\n",
       "\\item 0.80188679245283\n",
       "\\item 0.775943396226415\n",
       "\\item 0.773584905660377\n",
       "\\item 0.785377358490566\n",
       "\\item 0.787735849056604\n",
       "\\item 0.785377358490566\n",
       "\\item 0.804245283018868\n",
       "\\item 0.783018867924528\n",
       "\\item 0.783018867924528\n",
       "\\end{enumerate*}\n"
      ],
      "text/markdown": [
       "1. 0.794811320754717\n",
       "2. 0.80188679245283\n",
       "3. 0.775943396226415\n",
       "4. 0.773584905660377\n",
       "5. 0.785377358490566\n",
       "6. 0.787735849056604\n",
       "7. 0.785377358490566\n",
       "8. 0.804245283018868\n",
       "9. 0.783018867924528\n",
       "10. 0.783018867924528\n",
       "\n",
       "\n"
      ],
      "text/plain": [
       " [1] 0.7948113 0.8018868 0.7759434 0.7735849 0.7853774 0.7877358 0.7853774\n",
       " [8] 0.8042453 0.7830189 0.7830189"
      ]
     },
     "metadata": {},
     "output_type": "display_data"
    },
    {
     "data": {
      "text/html": [
       "'Mean accuracy over 10 repetitions of 10-fold CV: 0.7875'"
      ],
      "text/latex": [
       "'Mean accuracy over 10 repetitions of 10-fold CV: 0.7875'"
      ],
      "text/markdown": [
       "'Mean accuracy over 10 repetitions of 10-fold CV: 0.7875'"
      ],
      "text/plain": [
       "[1] \"Mean accuracy over 10 repetitions of 10-fold CV: 0.7875\""
      ]
     },
     "metadata": {},
     "output_type": "display_data"
    }
   ],
   "source": [
    "accuracies <- c(mean(results_01$observed == results_01$predicted...2_01),\n",
    "               mean(results_01$observed == results_01$predicted...3_01), \n",
    "               mean(results_01$observed == results_01$predicted...4_01),\n",
    "               mean(results_01$observed == results_01$predicted...5_01),\n",
    "               mean(results_01$observed == results_01$predicted...6_01),\n",
    "               mean(results_01$observed == results_01$predicted...7_01),\n",
    "               mean(results_01$observed == results_01$predicted...8_01),\n",
    "               mean(results_01$observed == results_01$predicted...9_01), \n",
    "               mean(results_01$observed == results_01$predicted...10_01), \n",
    "               mean(results_01$observed == results_01$predicted...11_01))\n",
    "\n",
    "accuracies\n",
    "paste(\"Mean accuracy over 10 repetitions of 10-fold CV: \", mean(accuracies), sep = \"\")"
   ]
  },
  {
   "cell_type": "code",
   "execution_count": null,
   "id": "014f8ea9-7a72-4dfb-9159-0ef352c732d7",
   "metadata": {},
   "outputs": [],
   "source": []
  }
 ],
 "metadata": {
  "kernelspec": {
   "display_name": "R",
   "language": "R",
   "name": "ir"
  },
  "language_info": {
   "codemirror_mode": "r",
   "file_extension": ".r",
   "mimetype": "text/x-r-source",
   "name": "R",
   "pygments_lexer": "r",
   "version": "3.6.1"
  }
 },
 "nbformat": 4,
 "nbformat_minor": 5
}
