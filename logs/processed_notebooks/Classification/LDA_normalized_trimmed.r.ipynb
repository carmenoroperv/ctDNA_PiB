{
 "cells": [
  {
   "cell_type": "code",
   "execution_count": 1,
   "id": "da93bde2",
   "metadata": {
    "execution": {
     "iopub.execute_input": "2021-11-17T23:12:25.969991Z",
     "iopub.status.busy": "2021-11-17T23:12:25.966453Z",
     "iopub.status.idle": "2021-11-17T23:12:26.037654Z",
     "shell.execute_reply": "2021-11-17T23:12:26.036462Z"
    },
    "tags": [
     "snakemake-job-properties"
    ]
   },
   "outputs": [],
   "source": [
    "\n",
    "######## snakemake preamble start (automatically inserted, do not edit) ########\n",
    "library(methods)\n",
    "Snakemake <- setClass(\n",
    "    \"Snakemake\",\n",
    "    slots = c(\n",
    "        input = \"list\",\n",
    "        output = \"list\",\n",
    "        params = \"list\",\n",
    "        wildcards = \"list\",\n",
    "        threads = \"numeric\",\n",
    "        log = \"list\",\n",
    "        resources = \"list\",\n",
    "        config = \"list\",\n",
    "        rule = \"character\",\n",
    "        bench_iteration = \"numeric\",\n",
    "        scriptdir = \"character\",\n",
    "        source = \"function\"\n",
    "    )\n",
    ")\n",
    "snakemake <- Snakemake(\n",
    "    input = list('data/ATAC_predictions_train_20_predict_80/ATAC_pred_lasso_normalized_trimmed_formatted_standardized.rds', 'data/sample_types.txt', \"input_predictions\" = 'data/ATAC_predictions_train_20_predict_80/ATAC_pred_lasso_normalized_trimmed_formatted_standardized.rds', \"input_sample_types\" = 'data/sample_types.txt'),\n",
    "    output = list('Classification_output/LDA_normalized_trimmed.rds', \"LDA_output\" = 'Classification_output/LDA_normalized_trimmed.rds'),\n",
    "    params = list(),\n",
    "    wildcards = list(),\n",
    "    threads = 1,\n",
    "    log = list('logs/processed_notebooks/Classification/LDA_normalized_trimmed.r.ipynb', \"notebook\" = 'logs/processed_notebooks/Classification/LDA_normalized_trimmed.r.ipynb'),\n",
    "    resources = list('mem_mb', 'disk_mb', 'tmpdir', 'time', \"mem_mb\" = 200000, \"disk_mb\" = 1000, \"tmpdir\" = '/scratch/57062189', \"time\" = '12:00:00'),\n",
    "    config = list(),\n",
    "    rule = 'LDA',\n",
    "    bench_iteration = as.numeric(NA),\n",
    "    scriptdir = '/faststorage/project/DELFI1/Workspaces/CarmenAndAnika/Classification',\n",
    "    source = function(...){\n",
    "        wd <- getwd()\n",
    "        setwd(snakemake@scriptdir)\n",
    "        source(...)\n",
    "        setwd(wd)\n",
    "    }\n",
    ")\n",
    "setwd('/faststorage/project/DELFI1/Workspaces/CarmenAndAnika');\n",
    "\n",
    "######## snakemake preamble end #########\n"
   ]
  },
  {
   "cell_type": "markdown",
   "id": "6a50e390-f439-4961-898a-286685966e17",
   "metadata": {},
   "source": [
    "### LDA"
   ]
  },
  {
   "cell_type": "code",
   "execution_count": 2,
   "id": "e5084794-5ca4-4966-9dc6-c874934234d4",
   "metadata": {
    "execution": {
     "iopub.execute_input": "2021-11-17T23:12:26.112473Z",
     "iopub.status.busy": "2021-11-17T23:12:26.039577Z",
     "iopub.status.idle": "2021-11-17T23:12:27.049081Z",
     "shell.execute_reply": "2021-11-17T23:12:27.047965Z"
    }
   },
   "outputs": [
    {
     "name": "stderr",
     "output_type": "stream",
     "text": [
      "Registered S3 methods overwritten by 'ggplot2':\n",
      "  method         from \n",
      "  [.quosures     rlang\n",
      "  c.quosures     rlang\n",
      "  print.quosures rlang\n",
      "Registered S3 method overwritten by 'rvest':\n",
      "  method            from\n",
      "  read_xml.response xml2\n",
      "── Attaching packages ─────────────────────────────────────── tidyverse 1.2.1 ──\n",
      "✔ ggplot2 3.1.1     ✔ purrr   0.3.4\n",
      "✔ tibble  3.1.4     ✔ dplyr   1.0.7\n",
      "✔ tidyr   1.1.3     ✔ stringr 1.4.0\n",
      "✔ readr   1.3.1     ✔ forcats 0.4.0\n",
      "── Conflicts ────────────────────────────────────────── tidyverse_conflicts() ──\n",
      "✖ dplyr::filter() masks stats::filter()\n",
      "✖ dplyr::lag()    masks stats::lag()\n",
      "\n",
      "Attaching package: ‘MASS’\n",
      "\n",
      "The following object is masked from ‘package:dplyr’:\n",
      "\n",
      "    select\n",
      "\n",
      "Type 'citation(\"pROC\")' for a citation.\n",
      "\n",
      "Attaching package: ‘pROC’\n",
      "\n",
      "The following objects are masked from ‘package:stats’:\n",
      "\n",
      "    cov, smooth, var\n",
      "\n"
     ]
    }
   ],
   "source": [
    "library(tidyverse)\n",
    "library(MASS)\n",
    "library(pROC)"
   ]
  },
  {
   "cell_type": "code",
   "execution_count": 3,
   "id": "e352eacf-4293-4148-ae30-d47869fa552d",
   "metadata": {
    "execution": {
     "iopub.execute_input": "2021-11-17T23:12:27.052495Z",
     "iopub.status.busy": "2021-11-17T23:12:27.051114Z",
     "iopub.status.idle": "2021-11-17T23:12:28.246708Z",
     "shell.execute_reply": "2021-11-17T23:12:28.245575Z"
    }
   },
   "outputs": [
    {
     "name": "stderr",
     "output_type": "stream",
     "text": [
      "ERROR while rich displaying an object: Error in sprintf(wrap, header, body): 'fmt' length exceeds maximal format length 8192\n",
      "\n",
      "Traceback:\n",
      "1. FUN(X[[i]], ...)\n",
      "2. tryCatch(withCallingHandlers({\n",
      " .     if (!mime %in% names(repr::mime2repr)) \n",
      " .         stop(\"No repr_* for mimetype \", mime, \" in repr::mime2repr\")\n",
      " .     rpr <- repr::mime2repr[[mime]](obj)\n",
      " .     if (is.null(rpr)) \n",
      " .         return(NULL)\n",
      " .     prepare_content(is.raw(rpr), rpr)\n",
      " . }, error = error_handler), error = outer_handler)\n",
      "3. tryCatchList(expr, classes, parentenv, handlers)\n",
      "4. tryCatchOne(expr, names, parentenv, handlers[[1L]])\n",
      "5. doTryCatch(return(expr), name, parentenv, handler)\n",
      "6. withCallingHandlers({\n",
      " .     if (!mime %in% names(repr::mime2repr)) \n",
      " .         stop(\"No repr_* for mimetype \", mime, \" in repr::mime2repr\")\n",
      " .     rpr <- repr::mime2repr[[mime]](obj)\n",
      " .     if (is.null(rpr)) \n",
      " .         return(NULL)\n",
      " .     prepare_content(is.raw(rpr), rpr)\n",
      " . }, error = error_handler)\n",
      "7. repr::mime2repr[[mime]](obj)\n",
      "8. repr_latex.data.frame(obj)\n",
      "9. repr_matrix_generic(obj, sprintf(\"\\\\begin{tabular}{%s}\\n%%s%%s\\\\end{tabular}\\n\", \n",
      " .     cols), \"%s\\\\\\\\\\n\\\\hline\\n\", \"  &\", \" %s &\", \"%s\", \"\\t%s\\\\\\\\\\n\", \n",
      " .     \"%s &\", \" %s &\", escape_fun = latex_escape_vec, ...)\n",
      "10. sprintf(wrap, header, body)\n"
     ]
    },
    {
     "data": {
      "text/html": [
       "<table>\n",
       "<thead><tr><th></th><th scope=col>sample</th><th scope=col>chr10_400</th><th scope=col>chr10_40</th><th scope=col>chr10_4</th><th scope=col>chr10_401</th><th scope=col>chr10_402</th><th scope=col>chr10_403</th><th scope=col>chr10_404</th><th scope=col>chr10_405</th><th scope=col>chr10_406</th><th scope=col>...</th><th scope=col>chr9_39</th><th scope=col>chr9_391</th><th scope=col>chr9_392</th><th scope=col>chr9_393</th><th scope=col>chr9_394</th><th scope=col>chr9_395</th><th scope=col>chr9_396</th><th scope=col>chr9_397</th><th scope=col>chr9_398</th><th scope=col>chr9_399</th></tr></thead>\n",
       "<tbody>\n",
       "\t<tr><th scope=row>V1</th><td>PGDX16568P  </td><td>0.7621097   </td><td>-0.8032188  </td><td>0.6402487   </td><td>-0.8688929  </td><td>-0.4792134  </td><td>-0.5096581  </td><td> 0.02594817 </td><td>0.7295906   </td><td>0.7738027   </td><td>...         </td><td>-0.405123632</td><td> 0.59187320 </td><td>-0.29125018 </td><td>-0.58276010 </td><td> 0.3792968  </td><td>-0.04366948 </td><td>0.9183014   </td><td>0.7664238   </td><td>0.9980457   </td><td>-1.0572778  </td></tr>\n",
       "\t<tr><th scope=row>V2</th><td>PGDX16569P  </td><td>0.7057109   </td><td>-0.8227554  </td><td>0.7868749   </td><td>-1.0407754  </td><td>-0.9284673  </td><td>-0.4139074  </td><td>-0.16594560 </td><td>0.7765621   </td><td>0.5761691   </td><td>...         </td><td>-0.849313481</td><td> 0.39431325 </td><td> 0.05197526 </td><td>-0.36318168 </td><td> 0.1744439  </td><td>-0.13785162 </td><td>0.5392077   </td><td>0.3942941   </td><td>1.7972449   </td><td>-0.3619464  </td></tr>\n",
       "\t<tr><th scope=row>V3</th><td>PGDX16570P  </td><td>0.4891340   </td><td>-1.1448217  </td><td>0.9478602   </td><td>-1.0930696  </td><td>-0.5115270  </td><td>-0.7552269  </td><td>-0.48824613 </td><td>0.9537215   </td><td>0.6624865   </td><td>...         </td><td>-0.871941533</td><td>-0.06389996 </td><td>-0.22907645 </td><td>-0.32470631 </td><td>-0.6251958  </td><td> 0.17051719 </td><td>0.6882020   </td><td>0.1744819   </td><td>1.4357406   </td><td>-0.2330366  </td></tr>\n",
       "\t<tr><th scope=row>V4</th><td>PGDX16571P  </td><td>0.6882727   </td><td>-0.8585679  </td><td>0.6248431   </td><td>-0.8310281  </td><td>-0.5335804  </td><td>-0.5125528  </td><td>-0.34185944 </td><td>0.9281618   </td><td>0.4768828   </td><td>...         </td><td>-0.005893625</td><td> 0.18185487 </td><td> 0.32387927 </td><td> 0.04577069 </td><td> 0.2752394  </td><td> 0.22750427 </td><td>0.6333635   </td><td>0.8413436   </td><td>1.2819797   </td><td> 0.5629469  </td></tr>\n",
       "\t<tr><th scope=row>V5</th><td>PGDX16579P  </td><td>0.5801896   </td><td>-1.1674832  </td><td>0.7883376   </td><td>-1.0498406  </td><td>-1.2475692  </td><td>-0.7345196  </td><td>-0.18778863 </td><td>0.2546093   </td><td>0.2920616   </td><td>...         </td><td>-0.067895629</td><td>-0.05197828 </td><td>-0.18308631 </td><td>-0.70242368 </td><td>-0.4281903  </td><td>-0.06235782 </td><td>1.0764914   </td><td>1.1411410   </td><td>0.8795170   </td><td>-0.4910720  </td></tr>\n",
       "\t<tr><th scope=row>V6</th><td>PGDX16580P  </td><td>0.6831409   </td><td>-0.8712906  </td><td>0.7199476   </td><td>-1.1853489  </td><td>-0.8520159  </td><td>-0.6829992  </td><td>-0.35499242 </td><td>0.8598551   </td><td>0.3870744   </td><td>...         </td><td>-0.735310376</td><td> 0.36325245 </td><td> 0.20814984 </td><td>-0.50307962 </td><td> 0.2609116  </td><td> 0.53933999 </td><td>1.0772367   </td><td>0.6906960   </td><td>1.7696570   </td><td>-0.4181884  </td></tr>\n",
       "</tbody>\n",
       "</table>\n"
      ],
      "text/markdown": [
       "\n",
       "| <!--/--> | sample | chr10_400 | chr10_40 | chr10_4 | chr10_401 | chr10_402 | chr10_403 | chr10_404 | chr10_405 | chr10_406 | ... | chr9_39 | chr9_391 | chr9_392 | chr9_393 | chr9_394 | chr9_395 | chr9_396 | chr9_397 | chr9_398 | chr9_399 |\n",
       "|---|---|---|---|---|---|---|---|---|---|---|---|---|---|---|---|---|---|---|---|---|---|\n",
       "| V1 | PGDX16568P   | 0.7621097    | -0.8032188   | 0.6402487    | -0.8688929   | -0.4792134   | -0.5096581   |  0.02594817  | 0.7295906    | 0.7738027    | ...          | -0.405123632 |  0.59187320  | -0.29125018  | -0.58276010  |  0.3792968   | -0.04366948  | 0.9183014    | 0.7664238    | 0.9980457    | -1.0572778   |\n",
       "| V2 | PGDX16569P   | 0.7057109    | -0.8227554   | 0.7868749    | -1.0407754   | -0.9284673   | -0.4139074   | -0.16594560  | 0.7765621    | 0.5761691    | ...          | -0.849313481 |  0.39431325  |  0.05197526  | -0.36318168  |  0.1744439   | -0.13785162  | 0.5392077    | 0.3942941    | 1.7972449    | -0.3619464   |\n",
       "| V3 | PGDX16570P   | 0.4891340    | -1.1448217   | 0.9478602    | -1.0930696   | -0.5115270   | -0.7552269   | -0.48824613  | 0.9537215    | 0.6624865    | ...          | -0.871941533 | -0.06389996  | -0.22907645  | -0.32470631  | -0.6251958   |  0.17051719  | 0.6882020    | 0.1744819    | 1.4357406    | -0.2330366   |\n",
       "| V4 | PGDX16571P   | 0.6882727    | -0.8585679   | 0.6248431    | -0.8310281   | -0.5335804   | -0.5125528   | -0.34185944  | 0.9281618    | 0.4768828    | ...          | -0.005893625 |  0.18185487  |  0.32387927  |  0.04577069  |  0.2752394   |  0.22750427  | 0.6333635    | 0.8413436    | 1.2819797    |  0.5629469   |\n",
       "| V5 | PGDX16579P   | 0.5801896    | -1.1674832   | 0.7883376    | -1.0498406   | -1.2475692   | -0.7345196   | -0.18778863  | 0.2546093    | 0.2920616    | ...          | -0.067895629 | -0.05197828  | -0.18308631  | -0.70242368  | -0.4281903   | -0.06235782  | 1.0764914    | 1.1411410    | 0.8795170    | -0.4910720   |\n",
       "| V6 | PGDX16580P   | 0.6831409    | -0.8712906   | 0.7199476    | -1.1853489   | -0.8520159   | -0.6829992   | -0.35499242  | 0.8598551    | 0.3870744    | ...          | -0.735310376 |  0.36325245  |  0.20814984  | -0.50307962  |  0.2609116   |  0.53933999  | 1.0772367    | 0.6906960    | 1.7696570    | -0.4181884   |\n",
       "\n"
      ],
      "text/plain": [
       "   sample     chr10_400 chr10_40   chr10_4   chr10_401  chr10_402  chr10_403 \n",
       "V1 PGDX16568P 0.7621097 -0.8032188 0.6402487 -0.8688929 -0.4792134 -0.5096581\n",
       "V2 PGDX16569P 0.7057109 -0.8227554 0.7868749 -1.0407754 -0.9284673 -0.4139074\n",
       "V3 PGDX16570P 0.4891340 -1.1448217 0.9478602 -1.0930696 -0.5115270 -0.7552269\n",
       "V4 PGDX16571P 0.6882727 -0.8585679 0.6248431 -0.8310281 -0.5335804 -0.5125528\n",
       "V5 PGDX16579P 0.5801896 -1.1674832 0.7883376 -1.0498406 -1.2475692 -0.7345196\n",
       "V6 PGDX16580P 0.6831409 -0.8712906 0.7199476 -1.1853489 -0.8520159 -0.6829992\n",
       "   chr10_404   chr10_405 chr10_406 ... chr9_39      chr9_391    chr9_392   \n",
       "V1  0.02594817 0.7295906 0.7738027 ... -0.405123632  0.59187320 -0.29125018\n",
       "V2 -0.16594560 0.7765621 0.5761691 ... -0.849313481  0.39431325  0.05197526\n",
       "V3 -0.48824613 0.9537215 0.6624865 ... -0.871941533 -0.06389996 -0.22907645\n",
       "V4 -0.34185944 0.9281618 0.4768828 ... -0.005893625  0.18185487  0.32387927\n",
       "V5 -0.18778863 0.2546093 0.2920616 ... -0.067895629 -0.05197828 -0.18308631\n",
       "V6 -0.35499242 0.8598551 0.3870744 ... -0.735310376  0.36325245  0.20814984\n",
       "   chr9_393    chr9_394   chr9_395    chr9_396  chr9_397  chr9_398  chr9_399  \n",
       "V1 -0.58276010  0.3792968 -0.04366948 0.9183014 0.7664238 0.9980457 -1.0572778\n",
       "V2 -0.36318168  0.1744439 -0.13785162 0.5392077 0.3942941 1.7972449 -0.3619464\n",
       "V3 -0.32470631 -0.6251958  0.17051719 0.6882020 0.1744819 1.4357406 -0.2330366\n",
       "V4  0.04577069  0.2752394  0.22750427 0.6333635 0.8413436 1.2819797  0.5629469\n",
       "V5 -0.70242368 -0.4281903 -0.06235782 1.0764914 1.1411410 0.8795170 -0.4910720\n",
       "V6 -0.50307962  0.2609116  0.53933999 1.0772367 0.6906960 1.7696570 -0.4181884"
      ]
     },
     "metadata": {},
     "output_type": "display_data"
    }
   ],
   "source": [
    "#data <- readRDS(\"../data/ATAC_predictions_train_XX_predict_XX/ATAC_pred_lasso_normalized_trimmed_formatted_standardized.rds\")\n",
    "data <- readRDS(snakemake@input[[\"input_predictions\"]])\n",
    "\n",
    "#data <- data[1:100, 1:50]\n",
    "head(data)"
   ]
  },
  {
   "cell_type": "code",
   "execution_count": 4,
   "id": "3d6bcac6-83e3-4f5c-8ca8-44a6c0abfb71",
   "metadata": {
    "execution": {
     "iopub.execute_input": "2021-11-17T23:12:28.250062Z",
     "iopub.status.busy": "2021-11-17T23:12:28.248927Z",
     "iopub.status.idle": "2021-11-17T23:12:28.304609Z",
     "shell.execute_reply": "2021-11-17T23:12:28.303536Z"
    }
   },
   "outputs": [
    {
     "data": {
      "text/html": [
       "<table>\n",
       "<thead><tr><th scope=col>sample</th><th scope=col>sample_type</th></tr></thead>\n",
       "<tbody>\n",
       "\t<tr><td>PGDX10344P1   </td><td>Gastric_cancer</td></tr>\n",
       "\t<tr><td>PGDX10346P1   </td><td>Gastric_cancer</td></tr>\n",
       "\t<tr><td>PGDX10349P1   </td><td>Gastric_cancer</td></tr>\n",
       "\t<tr><td>PGDX10351P1   </td><td>Gastric_cancer</td></tr>\n",
       "\t<tr><td>PGDX10566P    </td><td>Ovarian_Cancer</td></tr>\n",
       "\t<tr><td>PGDX10567P    </td><td>Ovarian_Cancer</td></tr>\n",
       "</tbody>\n",
       "</table>\n"
      ],
      "text/latex": [
       "\\begin{tabular}{r|ll}\n",
       " sample & sample\\_type\\\\\n",
       "\\hline\n",
       "\t PGDX10344P1      & Gastric\\_cancer\\\\\n",
       "\t PGDX10346P1      & Gastric\\_cancer\\\\\n",
       "\t PGDX10349P1      & Gastric\\_cancer\\\\\n",
       "\t PGDX10351P1      & Gastric\\_cancer\\\\\n",
       "\t PGDX10566P       & Ovarian\\_Cancer\\\\\n",
       "\t PGDX10567P       & Ovarian\\_Cancer\\\\\n",
       "\\end{tabular}\n"
      ],
      "text/markdown": [
       "\n",
       "| sample | sample_type |\n",
       "|---|---|\n",
       "| PGDX10344P1    | Gastric_cancer |\n",
       "| PGDX10346P1    | Gastric_cancer |\n",
       "| PGDX10349P1    | Gastric_cancer |\n",
       "| PGDX10351P1    | Gastric_cancer |\n",
       "| PGDX10566P     | Ovarian_Cancer |\n",
       "| PGDX10567P     | Ovarian_Cancer |\n",
       "\n"
      ],
      "text/plain": [
       "  sample      sample_type   \n",
       "1 PGDX10344P1 Gastric_cancer\n",
       "2 PGDX10346P1 Gastric_cancer\n",
       "3 PGDX10349P1 Gastric_cancer\n",
       "4 PGDX10351P1 Gastric_cancer\n",
       "5 PGDX10566P  Ovarian_Cancer\n",
       "6 PGDX10567P  Ovarian_Cancer"
      ]
     },
     "metadata": {},
     "output_type": "display_data"
    }
   ],
   "source": [
    "sample_types <- read.table(snakemake@input[[\"input_sample_types\"]], header = F, sep = \" \")\n",
    "#sample_types <- read.table(\"../data/sample_types.txt\", header = F, sep = \" \")\n",
    "\n",
    "colnames(sample_types) <- c(\"sample\", \"sample_type\")\n",
    "head(sample_types)"
   ]
  },
  {
   "cell_type": "code",
   "execution_count": 5,
   "id": "1d634c6e-6618-4baf-ad6c-ac79cf9f470d",
   "metadata": {
    "execution": {
     "iopub.execute_input": "2021-11-17T23:12:28.307624Z",
     "iopub.status.busy": "2021-11-17T23:12:28.306518Z",
     "iopub.status.idle": "2021-11-17T23:12:28.781815Z",
     "shell.execute_reply": "2021-11-17T23:12:28.780678Z"
    }
   },
   "outputs": [
    {
     "name": "stderr",
     "output_type": "stream",
     "text": [
      "ERROR while rich displaying an object: Error in sprintf(wrap, header, body): 'fmt' length exceeds maximal format length 8192\n",
      "\n",
      "Traceback:\n",
      "1. FUN(X[[i]], ...)\n",
      "2. tryCatch(withCallingHandlers({\n",
      " .     if (!mime %in% names(repr::mime2repr)) \n",
      " .         stop(\"No repr_* for mimetype \", mime, \" in repr::mime2repr\")\n",
      " .     rpr <- repr::mime2repr[[mime]](obj)\n",
      " .     if (is.null(rpr)) \n",
      " .         return(NULL)\n",
      " .     prepare_content(is.raw(rpr), rpr)\n",
      " . }, error = error_handler), error = outer_handler)\n",
      "3. tryCatchList(expr, classes, parentenv, handlers)\n",
      "4. tryCatchOne(expr, names, parentenv, handlers[[1L]])\n",
      "5. doTryCatch(return(expr), name, parentenv, handler)\n",
      "6. withCallingHandlers({\n",
      " .     if (!mime %in% names(repr::mime2repr)) \n",
      " .         stop(\"No repr_* for mimetype \", mime, \" in repr::mime2repr\")\n",
      " .     rpr <- repr::mime2repr[[mime]](obj)\n",
      " .     if (is.null(rpr)) \n",
      " .         return(NULL)\n",
      " .     prepare_content(is.raw(rpr), rpr)\n",
      " . }, error = error_handler)\n",
      "7. repr::mime2repr[[mime]](obj)\n",
      "8. repr_latex.data.frame(obj)\n",
      "9. repr_matrix_generic(obj, sprintf(\"\\\\begin{tabular}{%s}\\n%%s%%s\\\\end{tabular}\\n\", \n",
      " .     cols), \"%s\\\\\\\\\\n\\\\hline\\n\", \"  &\", \" %s &\", \"%s\", \"\\t%s\\\\\\\\\\n\", \n",
      " .     \"%s &\", \" %s &\", escape_fun = latex_escape_vec, ...)\n",
      "10. sprintf(wrap, header, body)\n"
     ]
    },
    {
     "data": {
      "text/html": [
       "<table>\n",
       "<thead><tr><th scope=col>sample</th><th scope=col>chr10_400</th><th scope=col>chr10_40</th><th scope=col>chr10_4</th><th scope=col>chr10_401</th><th scope=col>chr10_402</th><th scope=col>chr10_403</th><th scope=col>chr10_404</th><th scope=col>chr10_405</th><th scope=col>chr10_406</th><th scope=col>...</th><th scope=col>chr9_391</th><th scope=col>chr9_392</th><th scope=col>chr9_393</th><th scope=col>chr9_394</th><th scope=col>chr9_395</th><th scope=col>chr9_396</th><th scope=col>chr9_397</th><th scope=col>chr9_398</th><th scope=col>chr9_399</th><th scope=col>sample_type</th></tr></thead>\n",
       "<tbody>\n",
       "\t<tr><td>PGDX10344P1   </td><td>0.28476325    </td><td>-0.8212573    </td><td>1.0277500     </td><td>-0.7094983    </td><td>-0.2327985    </td><td>-0.7836319    </td><td> 0.01979819   </td><td>0.2624251     </td><td>0.3128992     </td><td>...           </td><td>-0.34089350   </td><td> 0.006860094  </td><td>-0.5010935    </td><td>-0.2043651    </td><td> 0.02437101   </td><td> 0.57938365   </td><td>-0.4136060    </td><td>1.3160044     </td><td>-0.26256223   </td><td>Gastric_cancer</td></tr>\n",
       "\t<tr><td>PGDX10346P1   </td><td>1.28471727    </td><td>-0.8295661    </td><td>1.0145149     </td><td>-0.6213053    </td><td>-0.8143027    </td><td>-0.6479755    </td><td>-0.06975614   </td><td>0.9264024     </td><td>0.4895216     </td><td>...           </td><td>-0.17629217   </td><td>-0.421600296  </td><td>-0.5810840    </td><td> 0.1408379    </td><td> 0.21122926   </td><td> 1.13429106   </td><td> 0.8116547    </td><td>0.3187471     </td><td>-0.48265821   </td><td>Gastric_cancer</td></tr>\n",
       "\t<tr><td>PGDX10349P1   </td><td>0.07110482    </td><td>-1.0079115    </td><td>0.3347017     </td><td>-1.1303365    </td><td>-0.8177276    </td><td>-0.9202015    </td><td>-0.08484151   </td><td>0.5183954     </td><td>2.2808829     </td><td>...           </td><td> 1.22409122   </td><td> 0.527804492  </td><td>-0.1435833    </td><td> 0.4967880    </td><td> 0.15991730   </td><td> 0.89522351   </td><td> 0.5305742    </td><td>1.6767953     </td><td>-0.02839009   </td><td>Gastric_cancer</td></tr>\n",
       "\t<tr><td>PGDX10351P1   </td><td>1.36298501    </td><td>-1.4848879    </td><td>0.4225454     </td><td>-1.3192129    </td><td>-0.7097136    </td><td>-0.4653093    </td><td>-0.42147744   </td><td>0.9729417     </td><td>0.5944980     </td><td>...           </td><td> 0.43571295   </td><td> 0.872833915  </td><td>-0.0670184    </td><td> 0.7394425    </td><td> 0.13690205   </td><td> 1.29732717   </td><td> 0.4739056    </td><td>1.4153912     </td><td>-0.12217374   </td><td>Gastric_cancer</td></tr>\n",
       "\t<tr><td>PGDX10566P    </td><td>0.40245603    </td><td>-1.0782760    </td><td>1.2759516     </td><td>-0.8646247    </td><td>-0.5192562    </td><td>-0.8555661    </td><td>-0.22999396   </td><td>0.7699482     </td><td>0.4825674     </td><td>...           </td><td> 0.04951928   </td><td> 0.173364771  </td><td>-0.8705736    </td><td> 0.4935296    </td><td>-0.17648798   </td><td>-0.02395699   </td><td> 0.3182328    </td><td>1.3930824     </td><td>-0.47078676   </td><td>Ovarian_Cancer</td></tr>\n",
       "\t<tr><td>PGDX10567P    </td><td>0.97825189    </td><td>-0.6787169    </td><td>1.0934262     </td><td>-0.1749540    </td><td>-0.6319351    </td><td>-0.7585842    </td><td> 0.22653017   </td><td>0.5994301     </td><td>0.6407291     </td><td>...           </td><td> 0.50968208   </td><td>-0.241967372  </td><td>-0.6951369    </td><td> 0.2412607    </td><td> 0.11914801   </td><td> 0.07982386   </td><td> 0.2854560    </td><td>1.7946488     </td><td>-0.69550001   </td><td>Ovarian_Cancer</td></tr>\n",
       "</tbody>\n",
       "</table>\n"
      ],
      "text/markdown": [
       "\n",
       "| sample | chr10_400 | chr10_40 | chr10_4 | chr10_401 | chr10_402 | chr10_403 | chr10_404 | chr10_405 | chr10_406 | ... | chr9_391 | chr9_392 | chr9_393 | chr9_394 | chr9_395 | chr9_396 | chr9_397 | chr9_398 | chr9_399 | sample_type |\n",
       "|---|---|---|---|---|---|---|---|---|---|---|---|---|---|---|---|---|---|---|---|---|\n",
       "| PGDX10344P1    | 0.28476325     | -0.8212573     | 1.0277500      | -0.7094983     | -0.2327985     | -0.7836319     |  0.01979819    | 0.2624251      | 0.3128992      | ...            | -0.34089350    |  0.006860094   | -0.5010935     | -0.2043651     |  0.02437101    |  0.57938365    | -0.4136060     | 1.3160044      | -0.26256223    | Gastric_cancer |\n",
       "| PGDX10346P1    | 1.28471727     | -0.8295661     | 1.0145149      | -0.6213053     | -0.8143027     | -0.6479755     | -0.06975614    | 0.9264024      | 0.4895216      | ...            | -0.17629217    | -0.421600296   | -0.5810840     |  0.1408379     |  0.21122926    |  1.13429106    |  0.8116547     | 0.3187471      | -0.48265821    | Gastric_cancer |\n",
       "| PGDX10349P1    | 0.07110482     | -1.0079115     | 0.3347017      | -1.1303365     | -0.8177276     | -0.9202015     | -0.08484151    | 0.5183954      | 2.2808829      | ...            |  1.22409122    |  0.527804492   | -0.1435833     |  0.4967880     |  0.15991730    |  0.89522351    |  0.5305742     | 1.6767953      | -0.02839009    | Gastric_cancer |\n",
       "| PGDX10351P1    | 1.36298501     | -1.4848879     | 0.4225454      | -1.3192129     | -0.7097136     | -0.4653093     | -0.42147744    | 0.9729417      | 0.5944980      | ...            |  0.43571295    |  0.872833915   | -0.0670184     |  0.7394425     |  0.13690205    |  1.29732717    |  0.4739056     | 1.4153912      | -0.12217374    | Gastric_cancer |\n",
       "| PGDX10566P     | 0.40245603     | -1.0782760     | 1.2759516      | -0.8646247     | -0.5192562     | -0.8555661     | -0.22999396    | 0.7699482      | 0.4825674      | ...            |  0.04951928    |  0.173364771   | -0.8705736     |  0.4935296     | -0.17648798    | -0.02395699    |  0.3182328     | 1.3930824      | -0.47078676    | Ovarian_Cancer |\n",
       "| PGDX10567P     | 0.97825189     | -0.6787169     | 1.0934262      | -0.1749540     | -0.6319351     | -0.7585842     |  0.22653017    | 0.5994301      | 0.6407291      | ...            |  0.50968208    | -0.241967372   | -0.6951369     |  0.2412607     |  0.11914801    |  0.07982386    |  0.2854560     | 1.7946488      | -0.69550001    | Ovarian_Cancer |\n",
       "\n"
      ],
      "text/plain": [
       "  sample      chr10_400  chr10_40   chr10_4   chr10_401  chr10_402  chr10_403 \n",
       "1 PGDX10344P1 0.28476325 -0.8212573 1.0277500 -0.7094983 -0.2327985 -0.7836319\n",
       "2 PGDX10346P1 1.28471727 -0.8295661 1.0145149 -0.6213053 -0.8143027 -0.6479755\n",
       "3 PGDX10349P1 0.07110482 -1.0079115 0.3347017 -1.1303365 -0.8177276 -0.9202015\n",
       "4 PGDX10351P1 1.36298501 -1.4848879 0.4225454 -1.3192129 -0.7097136 -0.4653093\n",
       "5 PGDX10566P  0.40245603 -1.0782760 1.2759516 -0.8646247 -0.5192562 -0.8555661\n",
       "6 PGDX10567P  0.97825189 -0.6787169 1.0934262 -0.1749540 -0.6319351 -0.7585842\n",
       "  chr10_404   chr10_405 chr10_406 ... chr9_391    chr9_392     chr9_393  \n",
       "1  0.01979819 0.2624251 0.3128992 ... -0.34089350  0.006860094 -0.5010935\n",
       "2 -0.06975614 0.9264024 0.4895216 ... -0.17629217 -0.421600296 -0.5810840\n",
       "3 -0.08484151 0.5183954 2.2808829 ...  1.22409122  0.527804492 -0.1435833\n",
       "4 -0.42147744 0.9729417 0.5944980 ...  0.43571295  0.872833915 -0.0670184\n",
       "5 -0.22999396 0.7699482 0.4825674 ...  0.04951928  0.173364771 -0.8705736\n",
       "6  0.22653017 0.5994301 0.6407291 ...  0.50968208 -0.241967372 -0.6951369\n",
       "  chr9_394   chr9_395    chr9_396    chr9_397   chr9_398  chr9_399   \n",
       "1 -0.2043651  0.02437101  0.57938365 -0.4136060 1.3160044 -0.26256223\n",
       "2  0.1408379  0.21122926  1.13429106  0.8116547 0.3187471 -0.48265821\n",
       "3  0.4967880  0.15991730  0.89522351  0.5305742 1.6767953 -0.02839009\n",
       "4  0.7394425  0.13690205  1.29732717  0.4739056 1.4153912 -0.12217374\n",
       "5  0.4935296 -0.17648798 -0.02395699  0.3182328 1.3930824 -0.47078676\n",
       "6  0.2412607  0.11914801  0.07982386  0.2854560 1.7946488 -0.69550001\n",
       "  sample_type   \n",
       "1 Gastric_cancer\n",
       "2 Gastric_cancer\n",
       "3 Gastric_cancer\n",
       "4 Gastric_cancer\n",
       "5 Ovarian_Cancer\n",
       "6 Ovarian_Cancer"
      ]
     },
     "metadata": {},
     "output_type": "display_data"
    }
   ],
   "source": [
    "data <- merge(data, sample_types, by=\"sample\")\n",
    "head(data)\n",
    "data <- data %>% mutate(sample_type01 = ifelse(sample_type == \"Healthy\", 0, 1))"
   ]
  },
  {
   "cell_type": "code",
   "execution_count": 6,
   "id": "a631656c-49dd-4b23-b885-fb8a9b219b7c",
   "metadata": {
    "execution": {
     "iopub.execute_input": "2021-11-17T23:12:28.784821Z",
     "iopub.status.busy": "2021-11-17T23:12:28.783717Z",
     "iopub.status.idle": "2021-11-17T23:12:28.893195Z",
     "shell.execute_reply": "2021-11-17T23:12:28.892094Z"
    }
   },
   "outputs": [
    {
     "name": "stderr",
     "output_type": "stream",
     "text": [
      "ERROR while rich displaying an object: Error in sprintf(wrap, header, body): 'fmt' length exceeds maximal format length 8192\n",
      "\n",
      "Traceback:\n",
      "1. FUN(X[[i]], ...)\n",
      "2. tryCatch(withCallingHandlers({\n",
      " .     if (!mime %in% names(repr::mime2repr)) \n",
      " .         stop(\"No repr_* for mimetype \", mime, \" in repr::mime2repr\")\n",
      " .     rpr <- repr::mime2repr[[mime]](obj)\n",
      " .     if (is.null(rpr)) \n",
      " .         return(NULL)\n",
      " .     prepare_content(is.raw(rpr), rpr)\n",
      " . }, error = error_handler), error = outer_handler)\n",
      "3. tryCatchList(expr, classes, parentenv, handlers)\n",
      "4. tryCatchOne(expr, names, parentenv, handlers[[1L]])\n",
      "5. doTryCatch(return(expr), name, parentenv, handler)\n",
      "6. withCallingHandlers({\n",
      " .     if (!mime %in% names(repr::mime2repr)) \n",
      " .         stop(\"No repr_* for mimetype \", mime, \" in repr::mime2repr\")\n",
      " .     rpr <- repr::mime2repr[[mime]](obj)\n",
      " .     if (is.null(rpr)) \n",
      " .         return(NULL)\n",
      " .     prepare_content(is.raw(rpr), rpr)\n",
      " . }, error = error_handler)\n",
      "7. repr::mime2repr[[mime]](obj)\n",
      "8. repr_latex.data.frame(obj)\n",
      "9. repr_matrix_generic(obj, sprintf(\"\\\\begin{tabular}{%s}\\n%%s%%s\\\\end{tabular}\\n\", \n",
      " .     cols), \"%s\\\\\\\\\\n\\\\hline\\n\", \"  &\", \" %s &\", \"%s\", \"\\t%s\\\\\\\\\\n\", \n",
      " .     \"%s &\", \" %s &\", escape_fun = latex_escape_vec, ...)\n",
      "10. sprintf(wrap, header, body)\n"
     ]
    },
    {
     "data": {
      "text/html": [
       "<table>\n",
       "<thead><tr><th scope=col>sample</th><th scope=col>chr10_400</th><th scope=col>chr10_40</th><th scope=col>chr10_4</th><th scope=col>chr10_401</th><th scope=col>chr10_402</th><th scope=col>chr10_403</th><th scope=col>chr10_404</th><th scope=col>chr10_405</th><th scope=col>chr10_406</th><th scope=col>...</th><th scope=col>chr9_392</th><th scope=col>chr9_393</th><th scope=col>chr9_394</th><th scope=col>chr9_395</th><th scope=col>chr9_396</th><th scope=col>chr9_397</th><th scope=col>chr9_398</th><th scope=col>chr9_399</th><th scope=col>sample_type</th><th scope=col>sample_type01</th></tr></thead>\n",
       "<tbody>\n",
       "\t<tr><td>PGDX10344P1   </td><td>0.28476325    </td><td>-0.8212573    </td><td>1.0277500     </td><td>-0.7094983    </td><td>-0.2327985    </td><td>-0.7836319    </td><td> 0.01979819   </td><td>0.2624251     </td><td>0.3128992     </td><td>...           </td><td> 0.006860094  </td><td>-0.5010935    </td><td>-0.2043651    </td><td> 0.02437101   </td><td> 0.57938365   </td><td>-0.4136060    </td><td>1.3160044     </td><td>-0.26256223   </td><td>Gastric_cancer</td><td>1             </td></tr>\n",
       "\t<tr><td>PGDX10346P1   </td><td>1.28471727    </td><td>-0.8295661    </td><td>1.0145149     </td><td>-0.6213053    </td><td>-0.8143027    </td><td>-0.6479755    </td><td>-0.06975614   </td><td>0.9264024     </td><td>0.4895216     </td><td>...           </td><td>-0.421600296  </td><td>-0.5810840    </td><td> 0.1408379    </td><td> 0.21122926   </td><td> 1.13429106   </td><td> 0.8116547    </td><td>0.3187471     </td><td>-0.48265821   </td><td>Gastric_cancer</td><td>1             </td></tr>\n",
       "\t<tr><td>PGDX10349P1   </td><td>0.07110482    </td><td>-1.0079115    </td><td>0.3347017     </td><td>-1.1303365    </td><td>-0.8177276    </td><td>-0.9202015    </td><td>-0.08484151   </td><td>0.5183954     </td><td>2.2808829     </td><td>...           </td><td> 0.527804492  </td><td>-0.1435833    </td><td> 0.4967880    </td><td> 0.15991730   </td><td> 0.89522351   </td><td> 0.5305742    </td><td>1.6767953     </td><td>-0.02839009   </td><td>Gastric_cancer</td><td>1             </td></tr>\n",
       "\t<tr><td>PGDX10351P1   </td><td>1.36298501    </td><td>-1.4848879    </td><td>0.4225454     </td><td>-1.3192129    </td><td>-0.7097136    </td><td>-0.4653093    </td><td>-0.42147744   </td><td>0.9729417     </td><td>0.5944980     </td><td>...           </td><td> 0.872833915  </td><td>-0.0670184    </td><td> 0.7394425    </td><td> 0.13690205   </td><td> 1.29732717   </td><td> 0.4739056    </td><td>1.4153912     </td><td>-0.12217374   </td><td>Gastric_cancer</td><td>1             </td></tr>\n",
       "\t<tr><td>PGDX10566P    </td><td>0.40245603    </td><td>-1.0782760    </td><td>1.2759516     </td><td>-0.8646247    </td><td>-0.5192562    </td><td>-0.8555661    </td><td>-0.22999396   </td><td>0.7699482     </td><td>0.4825674     </td><td>...           </td><td> 0.173364771  </td><td>-0.8705736    </td><td> 0.4935296    </td><td>-0.17648798   </td><td>-0.02395699   </td><td> 0.3182328    </td><td>1.3930824     </td><td>-0.47078676   </td><td>Ovarian_Cancer</td><td>1             </td></tr>\n",
       "\t<tr><td>PGDX10567P    </td><td>0.97825189    </td><td>-0.6787169    </td><td>1.0934262     </td><td>-0.1749540    </td><td>-0.6319351    </td><td>-0.7585842    </td><td> 0.22653017   </td><td>0.5994301     </td><td>0.6407291     </td><td>...           </td><td>-0.241967372  </td><td>-0.6951369    </td><td> 0.2412607    </td><td> 0.11914801   </td><td> 0.07982386   </td><td> 0.2854560    </td><td>1.7946488     </td><td>-0.69550001   </td><td>Ovarian_Cancer</td><td>1             </td></tr>\n",
       "</tbody>\n",
       "</table>\n"
      ],
      "text/markdown": [
       "\n",
       "| sample | chr10_400 | chr10_40 | chr10_4 | chr10_401 | chr10_402 | chr10_403 | chr10_404 | chr10_405 | chr10_406 | ... | chr9_392 | chr9_393 | chr9_394 | chr9_395 | chr9_396 | chr9_397 | chr9_398 | chr9_399 | sample_type | sample_type01 |\n",
       "|---|---|---|---|---|---|---|---|---|---|---|---|---|---|---|---|---|---|---|---|---|\n",
       "| PGDX10344P1    | 0.28476325     | -0.8212573     | 1.0277500      | -0.7094983     | -0.2327985     | -0.7836319     |  0.01979819    | 0.2624251      | 0.3128992      | ...            |  0.006860094   | -0.5010935     | -0.2043651     |  0.02437101    |  0.57938365    | -0.4136060     | 1.3160044      | -0.26256223    | Gastric_cancer | 1              |\n",
       "| PGDX10346P1    | 1.28471727     | -0.8295661     | 1.0145149      | -0.6213053     | -0.8143027     | -0.6479755     | -0.06975614    | 0.9264024      | 0.4895216      | ...            | -0.421600296   | -0.5810840     |  0.1408379     |  0.21122926    |  1.13429106    |  0.8116547     | 0.3187471      | -0.48265821    | Gastric_cancer | 1              |\n",
       "| PGDX10349P1    | 0.07110482     | -1.0079115     | 0.3347017      | -1.1303365     | -0.8177276     | -0.9202015     | -0.08484151    | 0.5183954      | 2.2808829      | ...            |  0.527804492   | -0.1435833     |  0.4967880     |  0.15991730    |  0.89522351    |  0.5305742     | 1.6767953      | -0.02839009    | Gastric_cancer | 1              |\n",
       "| PGDX10351P1    | 1.36298501     | -1.4848879     | 0.4225454      | -1.3192129     | -0.7097136     | -0.4653093     | -0.42147744    | 0.9729417      | 0.5944980      | ...            |  0.872833915   | -0.0670184     |  0.7394425     |  0.13690205    |  1.29732717    |  0.4739056     | 1.4153912      | -0.12217374    | Gastric_cancer | 1              |\n",
       "| PGDX10566P     | 0.40245603     | -1.0782760     | 1.2759516      | -0.8646247     | -0.5192562     | -0.8555661     | -0.22999396    | 0.7699482      | 0.4825674      | ...            |  0.173364771   | -0.8705736     |  0.4935296     | -0.17648798    | -0.02395699    |  0.3182328     | 1.3930824      | -0.47078676    | Ovarian_Cancer | 1              |\n",
       "| PGDX10567P     | 0.97825189     | -0.6787169     | 1.0934262      | -0.1749540     | -0.6319351     | -0.7585842     |  0.22653017    | 0.5994301      | 0.6407291      | ...            | -0.241967372   | -0.6951369     |  0.2412607     |  0.11914801    |  0.07982386    |  0.2854560     | 1.7946488      | -0.69550001    | Ovarian_Cancer | 1              |\n",
       "\n"
      ],
      "text/plain": [
       "  sample      chr10_400  chr10_40   chr10_4   chr10_401  chr10_402  chr10_403 \n",
       "1 PGDX10344P1 0.28476325 -0.8212573 1.0277500 -0.7094983 -0.2327985 -0.7836319\n",
       "2 PGDX10346P1 1.28471727 -0.8295661 1.0145149 -0.6213053 -0.8143027 -0.6479755\n",
       "3 PGDX10349P1 0.07110482 -1.0079115 0.3347017 -1.1303365 -0.8177276 -0.9202015\n",
       "4 PGDX10351P1 1.36298501 -1.4848879 0.4225454 -1.3192129 -0.7097136 -0.4653093\n",
       "5 PGDX10566P  0.40245603 -1.0782760 1.2759516 -0.8646247 -0.5192562 -0.8555661\n",
       "6 PGDX10567P  0.97825189 -0.6787169 1.0934262 -0.1749540 -0.6319351 -0.7585842\n",
       "  chr10_404   chr10_405 chr10_406 ... chr9_392     chr9_393   chr9_394  \n",
       "1  0.01979819 0.2624251 0.3128992 ...  0.006860094 -0.5010935 -0.2043651\n",
       "2 -0.06975614 0.9264024 0.4895216 ... -0.421600296 -0.5810840  0.1408379\n",
       "3 -0.08484151 0.5183954 2.2808829 ...  0.527804492 -0.1435833  0.4967880\n",
       "4 -0.42147744 0.9729417 0.5944980 ...  0.872833915 -0.0670184  0.7394425\n",
       "5 -0.22999396 0.7699482 0.4825674 ...  0.173364771 -0.8705736  0.4935296\n",
       "6  0.22653017 0.5994301 0.6407291 ... -0.241967372 -0.6951369  0.2412607\n",
       "  chr9_395    chr9_396    chr9_397   chr9_398  chr9_399    sample_type   \n",
       "1  0.02437101  0.57938365 -0.4136060 1.3160044 -0.26256223 Gastric_cancer\n",
       "2  0.21122926  1.13429106  0.8116547 0.3187471 -0.48265821 Gastric_cancer\n",
       "3  0.15991730  0.89522351  0.5305742 1.6767953 -0.02839009 Gastric_cancer\n",
       "4  0.13690205  1.29732717  0.4739056 1.4153912 -0.12217374 Gastric_cancer\n",
       "5 -0.17648798 -0.02395699  0.3182328 1.3930824 -0.47078676 Ovarian_Cancer\n",
       "6  0.11914801  0.07982386  0.2854560 1.7946488 -0.69550001 Ovarian_Cancer\n",
       "  sample_type01\n",
       "1 1            \n",
       "2 1            \n",
       "3 1            \n",
       "4 1            \n",
       "5 1            \n",
       "6 1            "
      ]
     },
     "metadata": {},
     "output_type": "display_data"
    }
   ],
   "source": [
    "head(data)"
   ]
  },
  {
   "cell_type": "code",
   "execution_count": 7,
   "id": "5570b6c7-9349-4885-a69d-3609c752efe6",
   "metadata": {
    "execution": {
     "iopub.execute_input": "2021-11-17T23:12:28.896194Z",
     "iopub.status.busy": "2021-11-17T23:12:28.895084Z",
     "iopub.status.idle": "2021-11-17T23:12:29.016048Z",
     "shell.execute_reply": "2021-11-17T23:12:29.014935Z"
    }
   },
   "outputs": [],
   "source": [
    "data <- data %>% dplyr::select(-sample_type)\n",
    "data <- data %>% dplyr::select(-sample)"
   ]
  },
  {
   "cell_type": "code",
   "execution_count": 8,
   "id": "b81686d6-4df1-4403-ae94-6d4c20b4fc61",
   "metadata": {
    "execution": {
     "iopub.execute_input": "2021-11-17T23:12:29.019031Z",
     "iopub.status.busy": "2021-11-17T23:12:29.017947Z",
     "iopub.status.idle": "2021-11-17T23:12:29.122700Z",
     "shell.execute_reply": "2021-11-17T23:12:29.121615Z"
    }
   },
   "outputs": [
    {
     "name": "stderr",
     "output_type": "stream",
     "text": [
      "ERROR while rich displaying an object: Error in sprintf(wrap, header, body): 'fmt' length exceeds maximal format length 8192\n",
      "\n",
      "Traceback:\n",
      "1. FUN(X[[i]], ...)\n",
      "2. tryCatch(withCallingHandlers({\n",
      " .     if (!mime %in% names(repr::mime2repr)) \n",
      " .         stop(\"No repr_* for mimetype \", mime, \" in repr::mime2repr\")\n",
      " .     rpr <- repr::mime2repr[[mime]](obj)\n",
      " .     if (is.null(rpr)) \n",
      " .         return(NULL)\n",
      " .     prepare_content(is.raw(rpr), rpr)\n",
      " . }, error = error_handler), error = outer_handler)\n",
      "3. tryCatchList(expr, classes, parentenv, handlers)\n",
      "4. tryCatchOne(expr, names, parentenv, handlers[[1L]])\n",
      "5. doTryCatch(return(expr), name, parentenv, handler)\n",
      "6. withCallingHandlers({\n",
      " .     if (!mime %in% names(repr::mime2repr)) \n",
      " .         stop(\"No repr_* for mimetype \", mime, \" in repr::mime2repr\")\n",
      " .     rpr <- repr::mime2repr[[mime]](obj)\n",
      " .     if (is.null(rpr)) \n",
      " .         return(NULL)\n",
      " .     prepare_content(is.raw(rpr), rpr)\n",
      " . }, error = error_handler)\n",
      "7. repr::mime2repr[[mime]](obj)\n",
      "8. repr_latex.data.frame(obj)\n",
      "9. repr_matrix_generic(obj, sprintf(\"\\\\begin{tabular}{%s}\\n%%s%%s\\\\end{tabular}\\n\", \n",
      " .     cols), \"%s\\\\\\\\\\n\\\\hline\\n\", \"  &\", \" %s &\", \"%s\", \"\\t%s\\\\\\\\\\n\", \n",
      " .     \"%s &\", \" %s &\", escape_fun = latex_escape_vec, ...)\n",
      "10. sprintf(wrap, header, body)\n"
     ]
    },
    {
     "data": {
      "text/html": [
       "<table>\n",
       "<thead><tr><th scope=col>chr10_400</th><th scope=col>chr10_40</th><th scope=col>chr10_4</th><th scope=col>chr10_401</th><th scope=col>chr10_402</th><th scope=col>chr10_403</th><th scope=col>chr10_404</th><th scope=col>chr10_405</th><th scope=col>chr10_406</th><th scope=col>chr10_407</th><th scope=col>...</th><th scope=col>chr9_391</th><th scope=col>chr9_392</th><th scope=col>chr9_393</th><th scope=col>chr9_394</th><th scope=col>chr9_395</th><th scope=col>chr9_396</th><th scope=col>chr9_397</th><th scope=col>chr9_398</th><th scope=col>chr9_399</th><th scope=col>sample_type01</th></tr></thead>\n",
       "<tbody>\n",
       "\t<tr><td>0.28476325  </td><td>-0.8212573  </td><td>1.0277500   </td><td>-0.7094983  </td><td>-0.2327985  </td><td>-0.7836319  </td><td> 0.01979819 </td><td>0.2624251   </td><td>0.3128992   </td><td>1.45146500  </td><td>...         </td><td>-0.34089350 </td><td> 0.006860094</td><td>-0.5010935  </td><td>-0.2043651  </td><td> 0.02437101 </td><td> 0.57938365 </td><td>-0.4136060  </td><td>1.3160044   </td><td>-0.26256223 </td><td>1           </td></tr>\n",
       "\t<tr><td>1.28471727  </td><td>-0.8295661  </td><td>1.0145149   </td><td>-0.6213053  </td><td>-0.8143027  </td><td>-0.6479755  </td><td>-0.06975614 </td><td>0.9264024   </td><td>0.4895216   </td><td>0.04814456  </td><td>...         </td><td>-0.17629217 </td><td>-0.421600296</td><td>-0.5810840  </td><td> 0.1408379  </td><td> 0.21122926 </td><td> 1.13429106 </td><td> 0.8116547  </td><td>0.3187471   </td><td>-0.48265821 </td><td>1           </td></tr>\n",
       "\t<tr><td>0.07110482  </td><td>-1.0079115  </td><td>0.3347017   </td><td>-1.1303365  </td><td>-0.8177276  </td><td>-0.9202015  </td><td>-0.08484151 </td><td>0.5183954   </td><td>2.2808829   </td><td>1.33462998  </td><td>...         </td><td> 1.22409122 </td><td> 0.527804492</td><td>-0.1435833  </td><td> 0.4967880  </td><td> 0.15991730 </td><td> 0.89522351 </td><td> 0.5305742  </td><td>1.6767953   </td><td>-0.02839009 </td><td>1           </td></tr>\n",
       "\t<tr><td>1.36298501  </td><td>-1.4848879  </td><td>0.4225454   </td><td>-1.3192129  </td><td>-0.7097136  </td><td>-0.4653093  </td><td>-0.42147744 </td><td>0.9729417   </td><td>0.5944980   </td><td>0.97671516  </td><td>...         </td><td> 0.43571295 </td><td> 0.872833915</td><td>-0.0670184  </td><td> 0.7394425  </td><td> 0.13690205 </td><td> 1.29732717 </td><td> 0.4739056  </td><td>1.4153912   </td><td>-0.12217374 </td><td>1           </td></tr>\n",
       "\t<tr><td>0.40245603  </td><td>-1.0782760  </td><td>1.2759516   </td><td>-0.8646247  </td><td>-0.5192562  </td><td>-0.8555661  </td><td>-0.22999396 </td><td>0.7699482   </td><td>0.4825674   </td><td>0.76308429  </td><td>...         </td><td> 0.04951928 </td><td> 0.173364771</td><td>-0.8705736  </td><td> 0.4935296  </td><td>-0.17648798 </td><td>-0.02395699 </td><td> 0.3182328  </td><td>1.3930824   </td><td>-0.47078676 </td><td>1           </td></tr>\n",
       "\t<tr><td>0.97825189  </td><td>-0.6787169  </td><td>1.0934262   </td><td>-0.1749540  </td><td>-0.6319351  </td><td>-0.7585842  </td><td> 0.22653017 </td><td>0.5994301   </td><td>0.6407291   </td><td>0.64706533  </td><td>...         </td><td> 0.50968208 </td><td>-0.241967372</td><td>-0.6951369  </td><td> 0.2412607  </td><td> 0.11914801 </td><td> 0.07982386 </td><td> 0.2854560  </td><td>1.7946488   </td><td>-0.69550001 </td><td>1           </td></tr>\n",
       "</tbody>\n",
       "</table>\n"
      ],
      "text/markdown": [
       "\n",
       "| chr10_400 | chr10_40 | chr10_4 | chr10_401 | chr10_402 | chr10_403 | chr10_404 | chr10_405 | chr10_406 | chr10_407 | ... | chr9_391 | chr9_392 | chr9_393 | chr9_394 | chr9_395 | chr9_396 | chr9_397 | chr9_398 | chr9_399 | sample_type01 |\n",
       "|---|---|---|---|---|---|---|---|---|---|---|---|---|---|---|---|---|---|---|---|---|\n",
       "| 0.28476325   | -0.8212573   | 1.0277500    | -0.7094983   | -0.2327985   | -0.7836319   |  0.01979819  | 0.2624251    | 0.3128992    | 1.45146500   | ...          | -0.34089350  |  0.006860094 | -0.5010935   | -0.2043651   |  0.02437101  |  0.57938365  | -0.4136060   | 1.3160044    | -0.26256223  | 1            |\n",
       "| 1.28471727   | -0.8295661   | 1.0145149    | -0.6213053   | -0.8143027   | -0.6479755   | -0.06975614  | 0.9264024    | 0.4895216    | 0.04814456   | ...          | -0.17629217  | -0.421600296 | -0.5810840   |  0.1408379   |  0.21122926  |  1.13429106  |  0.8116547   | 0.3187471    | -0.48265821  | 1            |\n",
       "| 0.07110482   | -1.0079115   | 0.3347017    | -1.1303365   | -0.8177276   | -0.9202015   | -0.08484151  | 0.5183954    | 2.2808829    | 1.33462998   | ...          |  1.22409122  |  0.527804492 | -0.1435833   |  0.4967880   |  0.15991730  |  0.89522351  |  0.5305742   | 1.6767953    | -0.02839009  | 1            |\n",
       "| 1.36298501   | -1.4848879   | 0.4225454    | -1.3192129   | -0.7097136   | -0.4653093   | -0.42147744  | 0.9729417    | 0.5944980    | 0.97671516   | ...          |  0.43571295  |  0.872833915 | -0.0670184   |  0.7394425   |  0.13690205  |  1.29732717  |  0.4739056   | 1.4153912    | -0.12217374  | 1            |\n",
       "| 0.40245603   | -1.0782760   | 1.2759516    | -0.8646247   | -0.5192562   | -0.8555661   | -0.22999396  | 0.7699482    | 0.4825674    | 0.76308429   | ...          |  0.04951928  |  0.173364771 | -0.8705736   |  0.4935296   | -0.17648798  | -0.02395699  |  0.3182328   | 1.3930824    | -0.47078676  | 1            |\n",
       "| 0.97825189   | -0.6787169   | 1.0934262    | -0.1749540   | -0.6319351   | -0.7585842   |  0.22653017  | 0.5994301    | 0.6407291    | 0.64706533   | ...          |  0.50968208  | -0.241967372 | -0.6951369   |  0.2412607   |  0.11914801  |  0.07982386  |  0.2854560   | 1.7946488    | -0.69550001  | 1            |\n",
       "\n"
      ],
      "text/plain": [
       "  chr10_400  chr10_40   chr10_4   chr10_401  chr10_402  chr10_403  chr10_404  \n",
       "1 0.28476325 -0.8212573 1.0277500 -0.7094983 -0.2327985 -0.7836319  0.01979819\n",
       "2 1.28471727 -0.8295661 1.0145149 -0.6213053 -0.8143027 -0.6479755 -0.06975614\n",
       "3 0.07110482 -1.0079115 0.3347017 -1.1303365 -0.8177276 -0.9202015 -0.08484151\n",
       "4 1.36298501 -1.4848879 0.4225454 -1.3192129 -0.7097136 -0.4653093 -0.42147744\n",
       "5 0.40245603 -1.0782760 1.2759516 -0.8646247 -0.5192562 -0.8555661 -0.22999396\n",
       "6 0.97825189 -0.6787169 1.0934262 -0.1749540 -0.6319351 -0.7585842  0.22653017\n",
       "  chr10_405 chr10_406 chr10_407  ... chr9_391    chr9_392     chr9_393  \n",
       "1 0.2624251 0.3128992 1.45146500 ... -0.34089350  0.006860094 -0.5010935\n",
       "2 0.9264024 0.4895216 0.04814456 ... -0.17629217 -0.421600296 -0.5810840\n",
       "3 0.5183954 2.2808829 1.33462998 ...  1.22409122  0.527804492 -0.1435833\n",
       "4 0.9729417 0.5944980 0.97671516 ...  0.43571295  0.872833915 -0.0670184\n",
       "5 0.7699482 0.4825674 0.76308429 ...  0.04951928  0.173364771 -0.8705736\n",
       "6 0.5994301 0.6407291 0.64706533 ...  0.50968208 -0.241967372 -0.6951369\n",
       "  chr9_394   chr9_395    chr9_396    chr9_397   chr9_398  chr9_399   \n",
       "1 -0.2043651  0.02437101  0.57938365 -0.4136060 1.3160044 -0.26256223\n",
       "2  0.1408379  0.21122926  1.13429106  0.8116547 0.3187471 -0.48265821\n",
       "3  0.4967880  0.15991730  0.89522351  0.5305742 1.6767953 -0.02839009\n",
       "4  0.7394425  0.13690205  1.29732717  0.4739056 1.4153912 -0.12217374\n",
       "5  0.4935296 -0.17648798 -0.02395699  0.3182328 1.3930824 -0.47078676\n",
       "6  0.2412607  0.11914801  0.07982386  0.2854560 1.7946488 -0.69550001\n",
       "  sample_type01\n",
       "1 1            \n",
       "2 1            \n",
       "3 1            \n",
       "4 1            \n",
       "5 1            \n",
       "6 1            "
      ]
     },
     "metadata": {},
     "output_type": "display_data"
    }
   ],
   "source": [
    "head(data)"
   ]
  },
  {
   "cell_type": "code",
   "execution_count": 9,
   "id": "f4539dcf-2074-4957-9a04-6985cfc2ab92",
   "metadata": {
    "execution": {
     "iopub.execute_input": "2021-11-17T23:12:29.125688Z",
     "iopub.status.busy": "2021-11-17T23:12:29.124579Z",
     "iopub.status.idle": "2021-11-17T23:12:29.131487Z",
     "shell.execute_reply": "2021-11-17T23:12:29.130407Z"
    }
   },
   "outputs": [],
   "source": [
    "##################### CODE FOR REMOVING COLLINEAR FEATURES ###########################\n",
    "\n",
    "#sample_type01 <- data %>% dplyr::select(sample_type01)\n",
    "#data_clean <- data %>% dplyr::select(-sample_type01)\n",
    "#dim(data_clean)\n",
    "#tmp <- cor(data_clean)\n",
    "\n",
    "######################################################################################"
   ]
  },
  {
   "cell_type": "code",
   "execution_count": 10,
   "id": "1b251e4c-61a9-4c6a-aded-b7a7949891e3",
   "metadata": {
    "execution": {
     "iopub.execute_input": "2021-11-17T23:12:29.134425Z",
     "iopub.status.busy": "2021-11-17T23:12:29.133322Z",
     "iopub.status.idle": "2021-11-17T23:12:29.140064Z",
     "shell.execute_reply": "2021-11-17T23:12:29.139006Z"
    }
   },
   "outputs": [],
   "source": [
    "##################### CODE FOR REMOVING COLLINEAR FEATURES ###########################\n",
    "\n",
    "#tmp[upper.tri(tmp)] <- 0\n",
    "#diag(tmp) <- 0\n",
    "#data_new_clean <- data_clean[, !apply(tmp, 2, function(x) any(abs(x) > 0.9, na.rm = TRUE))]\n",
    "#head(data_new_clean)\n",
    "#dim(data_new_clean)\n",
    "\n",
    "#data <- data_new_clean %>% mutate(sample_type01 = sample_type01$sample_type01)\n",
    "#head(data)\n",
    "\n",
    "######################################################################################"
   ]
  },
  {
   "cell_type": "code",
   "execution_count": 11,
   "id": "6a846559-09f2-47b2-b4c4-747064566813",
   "metadata": {
    "execution": {
     "iopub.execute_input": "2021-11-17T23:12:29.143033Z",
     "iopub.status.busy": "2021-11-17T23:12:29.141904Z",
     "iopub.status.idle": "2021-11-17T23:12:29.149502Z",
     "shell.execute_reply": "2021-11-17T23:12:29.148440Z"
    }
   },
   "outputs": [],
   "source": [
    "cross_validation <- function(dataset, k_inner_cv, k_outer_cv){\n",
    "    \n",
    "    observed  <- dataset$sample_type01\n",
    "    return_tibble <- tibble(observed = observed)\n",
    "    \n",
    "    for (i in 1:k_outer_cv){ # repeated Cross-validation loop\n",
    "        set.seed(i)\n",
    "        cvfolds <- cut(seq_len(nrow(dataset)), breaks = k_inner_cv, labels = F)\n",
    "        cvfolds <- sample(cvfolds)\n",
    "\n",
    "        predicted <- rep(NA, nrow(dataset))\n",
    "\n",
    "        for (n in 1:k_inner_cv){\n",
    "            rows      <- which(cvfolds==n)\n",
    "            testdata  <- dataset[rows,]\n",
    "            testlabels <- testdata$sample_type01\n",
    "            testdata <- testdata %>% dplyr::select(-sample_type01)\n",
    "\n",
    "            traindata <- dataset[-rows,]\n",
    "            trainlabels <- traindata$sample_type01\n",
    "            #traindata <- traindata %>% dplyr::select(-sample_type01)\n",
    "\n",
    "\n",
    "            fit       <- lda(sample_type01 ~ ., data=traindata)\n",
    "            prediction <- predict(fit, testdata)\n",
    "            predicted[rows] <- prediction$posterior[,2]\n",
    "        }\n",
    "        \n",
    "    current_round_tibble <- tibble(predicted = predicted)\n",
    "    return_tibble <- cbind(return_tibble, current_round_tibble)\n",
    "    } # end of outer cv loop\n",
    "\n",
    "    return(return_tibble)\n",
    "}"
   ]
  },
  {
   "cell_type": "code",
   "execution_count": 12,
   "id": "d96b040e-4dfa-45e9-908a-f1c0beded45d",
   "metadata": {
    "execution": {
     "iopub.execute_input": "2021-11-17T23:12:29.152411Z",
     "iopub.status.busy": "2021-11-17T23:12:29.151322Z",
     "iopub.status.idle": "2021-11-18T00:28:06.089256Z",
     "shell.execute_reply": "2021-11-18T00:28:06.088116Z"
    }
   },
   "outputs": [
    {
     "name": "stderr",
     "output_type": "stream",
     "text": [
      "Warning message in lda.default(x, grouping, ...):\n",
      "“variables are collinear”Warning message in lda.default(x, grouping, ...):\n",
      "“variables are collinear”Warning message in lda.default(x, grouping, ...):\n",
      "“variables are collinear”Warning message in lda.default(x, grouping, ...):\n",
      "“variables are collinear”Warning message in lda.default(x, grouping, ...):\n",
      "“variables are collinear”Warning message in lda.default(x, grouping, ...):\n",
      "“variables are collinear”Warning message in lda.default(x, grouping, ...):\n",
      "“variables are collinear”Warning message in lda.default(x, grouping, ...):\n",
      "“variables are collinear”Warning message in lda.default(x, grouping, ...):\n",
      "“variables are collinear”Warning message in lda.default(x, grouping, ...):\n",
      "“variables are collinear”Warning message in lda.default(x, grouping, ...):\n",
      "“variables are collinear”Warning message in lda.default(x, grouping, ...):\n",
      "“variables are collinear”Warning message in lda.default(x, grouping, ...):\n",
      "“variables are collinear”Warning message in lda.default(x, grouping, ...):\n",
      "“variables are collinear”Warning message in lda.default(x, grouping, ...):\n",
      "“variables are collinear”Warning message in lda.default(x, grouping, ...):\n",
      "“variables are collinear”Warning message in lda.default(x, grouping, ...):\n",
      "“variables are collinear”Warning message in lda.default(x, grouping, ...):\n",
      "“variables are collinear”Warning message in lda.default(x, grouping, ...):\n",
      "“variables are collinear”Warning message in lda.default(x, grouping, ...):\n",
      "“variables are collinear”Warning message in lda.default(x, grouping, ...):\n",
      "“variables are collinear”Warning message in lda.default(x, grouping, ...):\n",
      "“variables are collinear”Warning message in lda.default(x, grouping, ...):\n",
      "“variables are collinear”Warning message in lda.default(x, grouping, ...):\n",
      "“variables are collinear”Warning message in lda.default(x, grouping, ...):\n",
      "“variables are collinear”Warning message in lda.default(x, grouping, ...):\n",
      "“variables are collinear”Warning message in lda.default(x, grouping, ...):\n",
      "“variables are collinear”Warning message in lda.default(x, grouping, ...):\n",
      "“variables are collinear”Warning message in lda.default(x, grouping, ...):\n",
      "“variables are collinear”Warning message in lda.default(x, grouping, ...):\n",
      "“variables are collinear”Warning message in lda.default(x, grouping, ...):\n",
      "“variables are collinear”Warning message in lda.default(x, grouping, ...):\n",
      "“variables are collinear”Warning message in lda.default(x, grouping, ...):\n",
      "“variables are collinear”Warning message in lda.default(x, grouping, ...):\n",
      "“variables are collinear”Warning message in lda.default(x, grouping, ...):\n",
      "“variables are collinear”Warning message in lda.default(x, grouping, ...):\n",
      "“variables are collinear”Warning message in lda.default(x, grouping, ...):\n",
      "“variables are collinear”Warning message in lda.default(x, grouping, ...):\n",
      "“variables are collinear”Warning message in lda.default(x, grouping, ...):\n",
      "“variables are collinear”Warning message in lda.default(x, grouping, ...):\n",
      "“variables are collinear”Warning message in lda.default(x, grouping, ...):\n",
      "“variables are collinear”Warning message in lda.default(x, grouping, ...):\n",
      "“variables are collinear”Warning message in lda.default(x, grouping, ...):\n",
      "“variables are collinear”Warning message in lda.default(x, grouping, ...):\n",
      "“variables are collinear”Warning message in lda.default(x, grouping, ...):\n",
      "“variables are collinear”Warning message in lda.default(x, grouping, ...):\n",
      "“variables are collinear”Warning message in lda.default(x, grouping, ...):\n",
      "“variables are collinear”Warning message in lda.default(x, grouping, ...):\n",
      "“variables are collinear”Warning message in lda.default(x, grouping, ...):\n",
      "“variables are collinear”Warning message in lda.default(x, grouping, ...):\n",
      "“variables are collinear”Warning message in lda.default(x, grouping, ...):\n",
      "“variables are collinear”Warning message in lda.default(x, grouping, ...):\n",
      "“variables are collinear”Warning message in lda.default(x, grouping, ...):\n",
      "“variables are collinear”Warning message in lda.default(x, grouping, ...):\n",
      "“variables are collinear”Warning message in lda.default(x, grouping, ...):\n",
      "“variables are collinear”Warning message in lda.default(x, grouping, ...):\n",
      "“variables are collinear”Warning message in lda.default(x, grouping, ...):\n",
      "“variables are collinear”Warning message in lda.default(x, grouping, ...):\n",
      "“variables are collinear”Warning message in lda.default(x, grouping, ...):\n",
      "“variables are collinear”Warning message in lda.default(x, grouping, ...):\n",
      "“variables are collinear”Warning message in lda.default(x, grouping, ...):\n",
      "“variables are collinear”Warning message in lda.default(x, grouping, ...):\n",
      "“variables are collinear”Warning message in lda.default(x, grouping, ...):\n",
      "“variables are collinear”Warning message in lda.default(x, grouping, ...):\n",
      "“variables are collinear”Warning message in lda.default(x, grouping, ...):\n",
      "“variables are collinear”Warning message in lda.default(x, grouping, ...):\n",
      "“variables are collinear”Warning message in lda.default(x, grouping, ...):\n",
      "“variables are collinear”Warning message in lda.default(x, grouping, ...):\n",
      "“variables are collinear”Warning message in lda.default(x, grouping, ...):\n",
      "“variables are collinear”Warning message in lda.default(x, grouping, ...):\n",
      "“variables are collinear”Warning message in lda.default(x, grouping, ...):\n",
      "“variables are collinear”Warning message in lda.default(x, grouping, ...):\n",
      "“variables are collinear”Warning message in lda.default(x, grouping, ...):\n",
      "“variables are collinear”Warning message in lda.default(x, grouping, ...):\n",
      "“variables are collinear”Warning message in lda.default(x, grouping, ...):\n",
      "“variables are collinear”Warning message in lda.default(x, grouping, ...):\n",
      "“variables are collinear”Warning message in lda.default(x, grouping, ...):\n",
      "“variables are collinear”Warning message in lda.default(x, grouping, ...):\n",
      "“variables are collinear”Warning message in lda.default(x, grouping, ...):\n",
      "“variables are collinear”Warning message in lda.default(x, grouping, ...):\n",
      "“variables are collinear”Warning message in lda.default(x, grouping, ...):\n",
      "“variables are collinear”Warning message in lda.default(x, grouping, ...):\n",
      "“variables are collinear”Warning message in lda.default(x, grouping, ...):\n",
      "“variables are collinear”Warning message in lda.default(x, grouping, ...):\n",
      "“variables are collinear”Warning message in lda.default(x, grouping, ...):\n",
      "“variables are collinear”Warning message in lda.default(x, grouping, ...):\n",
      "“variables are collinear”Warning message in lda.default(x, grouping, ...):\n",
      "“variables are collinear”Warning message in lda.default(x, grouping, ...):\n",
      "“variables are collinear”Warning message in lda.default(x, grouping, ...):\n",
      "“variables are collinear”Warning message in lda.default(x, grouping, ...):\n",
      "“variables are collinear”Warning message in lda.default(x, grouping, ...):\n",
      "“variables are collinear”Warning message in lda.default(x, grouping, ...):\n",
      "“variables are collinear”Warning message in lda.default(x, grouping, ...):\n",
      "“variables are collinear”Warning message in lda.default(x, grouping, ...):\n",
      "“variables are collinear”Warning message in lda.default(x, grouping, ...):\n",
      "“variables are collinear”Warning message in lda.default(x, grouping, ...):\n",
      "“variables are collinear”Warning message in lda.default(x, grouping, ...):\n",
      "“variables are collinear”Warning message in lda.default(x, grouping, ...):\n",
      "“variables are collinear”Warning message in lda.default(x, grouping, ...):\n",
      "“variables are collinear”Warning message in lda.default(x, grouping, ...):\n",
      "“variables are collinear”"
     ]
    }
   ],
   "source": [
    "results <- as.data.frame(cross_validation(data, k_inner_cv = 10, k_outer_cv = 10))"
   ]
  },
  {
   "cell_type": "code",
   "execution_count": 13,
   "id": "5b5427b4-502f-44f1-9160-81f5943b4c93",
   "metadata": {
    "execution": {
     "iopub.execute_input": "2021-11-18T00:28:06.322143Z",
     "iopub.status.busy": "2021-11-18T00:28:06.321843Z",
     "iopub.status.idle": "2021-11-18T00:28:06.344992Z",
     "shell.execute_reply": "2021-11-18T00:28:06.343894Z"
    }
   },
   "outputs": [
    {
     "name": "stderr",
     "output_type": "stream",
     "text": [
      "New names:\n",
      "* predicted -> predicted...2\n",
      "* predicted -> predicted...3\n",
      "* predicted -> predicted...4\n",
      "* predicted -> predicted...5\n",
      "* predicted -> predicted...6\n",
      "* ...\n"
     ]
    },
    {
     "data": {
      "text/html": [
       "<table>\n",
       "<thead><tr><th scope=col>observed</th><th scope=col>predicted...2</th><th scope=col>predicted...3</th><th scope=col>predicted...4</th><th scope=col>predicted...5</th><th scope=col>predicted...6</th><th scope=col>predicted...7</th><th scope=col>predicted...8</th><th scope=col>predicted...9</th><th scope=col>predicted...10</th><th scope=col>predicted...11</th></tr></thead>\n",
       "<tbody>\n",
       "\t<tr><td>1        </td><td>0.4280139</td><td>0.4572829</td><td>0.4045602</td><td>0.4274476</td><td>0.4362458</td><td>0.4262941</td><td>0.4328707</td><td>0.4345714</td><td>0.4971108</td><td>0.4443425</td></tr>\n",
       "\t<tr><td>1        </td><td>0.4166959</td><td>0.3483635</td><td>0.4632095</td><td>0.3946658</td><td>0.3763273</td><td>0.3995463</td><td>0.3229993</td><td>0.4349125</td><td>0.4001746</td><td>0.3543592</td></tr>\n",
       "\t<tr><td>1        </td><td>0.9729562</td><td>0.9743726</td><td>0.9791898</td><td>0.9759273</td><td>0.9656363</td><td>0.9704542</td><td>0.9724899</td><td>0.9751545</td><td>0.9704233</td><td>0.9763816</td></tr>\n",
       "\t<tr><td>1        </td><td>0.3882664</td><td>0.3703939</td><td>0.3739635</td><td>0.2884217</td><td>0.4120391</td><td>0.3619067</td><td>0.4237132</td><td>0.3556275</td><td>0.3091521</td><td>0.3151468</td></tr>\n",
       "\t<tr><td>1        </td><td>0.5402984</td><td>0.6212922</td><td>0.6231354</td><td>0.5964793</td><td>0.6326308</td><td>0.5966377</td><td>0.5567068</td><td>0.6265027</td><td>0.6151459</td><td>0.6696959</td></tr>\n",
       "\t<tr><td>1        </td><td>0.8267292</td><td>0.8342506</td><td>0.8113039</td><td>0.8117587</td><td>0.8428975</td><td>0.7931930</td><td>0.7986084</td><td>0.8096733</td><td>0.8217113</td><td>0.8329040</td></tr>\n",
       "</tbody>\n",
       "</table>\n"
      ],
      "text/latex": [
       "\\begin{tabular}{r|lllllllllll}\n",
       " observed & predicted...2 & predicted...3 & predicted...4 & predicted...5 & predicted...6 & predicted...7 & predicted...8 & predicted...9 & predicted...10 & predicted...11\\\\\n",
       "\\hline\n",
       "\t 1         & 0.4280139 & 0.4572829 & 0.4045602 & 0.4274476 & 0.4362458 & 0.4262941 & 0.4328707 & 0.4345714 & 0.4971108 & 0.4443425\\\\\n",
       "\t 1         & 0.4166959 & 0.3483635 & 0.4632095 & 0.3946658 & 0.3763273 & 0.3995463 & 0.3229993 & 0.4349125 & 0.4001746 & 0.3543592\\\\\n",
       "\t 1         & 0.9729562 & 0.9743726 & 0.9791898 & 0.9759273 & 0.9656363 & 0.9704542 & 0.9724899 & 0.9751545 & 0.9704233 & 0.9763816\\\\\n",
       "\t 1         & 0.3882664 & 0.3703939 & 0.3739635 & 0.2884217 & 0.4120391 & 0.3619067 & 0.4237132 & 0.3556275 & 0.3091521 & 0.3151468\\\\\n",
       "\t 1         & 0.5402984 & 0.6212922 & 0.6231354 & 0.5964793 & 0.6326308 & 0.5966377 & 0.5567068 & 0.6265027 & 0.6151459 & 0.6696959\\\\\n",
       "\t 1         & 0.8267292 & 0.8342506 & 0.8113039 & 0.8117587 & 0.8428975 & 0.7931930 & 0.7986084 & 0.8096733 & 0.8217113 & 0.8329040\\\\\n",
       "\\end{tabular}\n"
      ],
      "text/markdown": [
       "\n",
       "| observed | predicted...2 | predicted...3 | predicted...4 | predicted...5 | predicted...6 | predicted...7 | predicted...8 | predicted...9 | predicted...10 | predicted...11 |\n",
       "|---|---|---|---|---|---|---|---|---|---|---|\n",
       "| 1         | 0.4280139 | 0.4572829 | 0.4045602 | 0.4274476 | 0.4362458 | 0.4262941 | 0.4328707 | 0.4345714 | 0.4971108 | 0.4443425 |\n",
       "| 1         | 0.4166959 | 0.3483635 | 0.4632095 | 0.3946658 | 0.3763273 | 0.3995463 | 0.3229993 | 0.4349125 | 0.4001746 | 0.3543592 |\n",
       "| 1         | 0.9729562 | 0.9743726 | 0.9791898 | 0.9759273 | 0.9656363 | 0.9704542 | 0.9724899 | 0.9751545 | 0.9704233 | 0.9763816 |\n",
       "| 1         | 0.3882664 | 0.3703939 | 0.3739635 | 0.2884217 | 0.4120391 | 0.3619067 | 0.4237132 | 0.3556275 | 0.3091521 | 0.3151468 |\n",
       "| 1         | 0.5402984 | 0.6212922 | 0.6231354 | 0.5964793 | 0.6326308 | 0.5966377 | 0.5567068 | 0.6265027 | 0.6151459 | 0.6696959 |\n",
       "| 1         | 0.8267292 | 0.8342506 | 0.8113039 | 0.8117587 | 0.8428975 | 0.7931930 | 0.7986084 | 0.8096733 | 0.8217113 | 0.8329040 |\n",
       "\n"
      ],
      "text/plain": [
       "  observed predicted...2 predicted...3 predicted...4 predicted...5\n",
       "1 1        0.4280139     0.4572829     0.4045602     0.4274476    \n",
       "2 1        0.4166959     0.3483635     0.4632095     0.3946658    \n",
       "3 1        0.9729562     0.9743726     0.9791898     0.9759273    \n",
       "4 1        0.3882664     0.3703939     0.3739635     0.2884217    \n",
       "5 1        0.5402984     0.6212922     0.6231354     0.5964793    \n",
       "6 1        0.8267292     0.8342506     0.8113039     0.8117587    \n",
       "  predicted...6 predicted...7 predicted...8 predicted...9 predicted...10\n",
       "1 0.4362458     0.4262941     0.4328707     0.4345714     0.4971108     \n",
       "2 0.3763273     0.3995463     0.3229993     0.4349125     0.4001746     \n",
       "3 0.9656363     0.9704542     0.9724899     0.9751545     0.9704233     \n",
       "4 0.4120391     0.3619067     0.4237132     0.3556275     0.3091521     \n",
       "5 0.6326308     0.5966377     0.5567068     0.6265027     0.6151459     \n",
       "6 0.8428975     0.7931930     0.7986084     0.8096733     0.8217113     \n",
       "  predicted...11\n",
       "1 0.4443425     \n",
       "2 0.3543592     \n",
       "3 0.9763816     \n",
       "4 0.3151468     \n",
       "5 0.6696959     \n",
       "6 0.8329040     "
      ]
     },
     "metadata": {},
     "output_type": "display_data"
    }
   ],
   "source": [
    "results <- tibble(results, .name_repair = \"unique\")\n",
    "head(results)"
   ]
  },
  {
   "cell_type": "code",
   "execution_count": 14,
   "id": "b96fd55d-9fc0-42d3-b613-5522cda286fd",
   "metadata": {
    "execution": {
     "iopub.execute_input": "2021-11-18T00:28:06.352783Z",
     "iopub.status.busy": "2021-11-18T00:28:06.351574Z",
     "iopub.status.idle": "2021-11-18T00:28:06.363572Z",
     "shell.execute_reply": "2021-11-18T00:28:06.362453Z"
    }
   },
   "outputs": [],
   "source": [
    "saveRDS(results, file = snakemake@output[[\"LDA_output\"]])"
   ]
  },
  {
   "cell_type": "code",
   "execution_count": 15,
   "id": "053c5577-cc80-47b6-980a-27bd6cbe2abf",
   "metadata": {
    "execution": {
     "iopub.execute_input": "2021-11-18T00:28:06.366688Z",
     "iopub.status.busy": "2021-11-18T00:28:06.365539Z",
     "iopub.status.idle": "2021-11-18T00:28:07.471202Z",
     "shell.execute_reply": "2021-11-18T00:28:07.470119Z"
    }
   },
   "outputs": [
    {
     "data": {
      "image/png": "[encoded data removed]",
      "text/plain": [
       "plot without title"
      ]
     },
     "metadata": {},
     "output_type": "display_data"
    }
   ],
   "source": [
    "# Create multiple curves to plot\n",
    "rocs <- roc(observed ~ predicted...2 + \n",
    "                    predicted...3 + \n",
    "                    predicted...4 + \n",
    "                    predicted...5 + \n",
    "                    predicted...6 +\n",
    "                    predicted...7 +\n",
    "                    predicted...8 + \n",
    "                    predicted...9 + \n",
    "                    predicted...10 + \n",
    "                    predicted...11, data = results)\n",
    "ggroc(rocs)"
   ]
  },
  {
   "cell_type": "code",
   "execution_count": 16,
   "id": "6107e30a-78fd-4edf-8742-6595c5960955",
   "metadata": {
    "execution": {
     "iopub.execute_input": "2021-11-18T00:28:07.474281Z",
     "iopub.status.busy": "2021-11-18T00:28:07.473168Z",
     "iopub.status.idle": "2021-11-18T00:28:07.514015Z",
     "shell.execute_reply": "2021-11-18T00:28:07.512884Z"
    }
   },
   "outputs": [],
   "source": [
    "roc1 <- roc(results$observed, results$predicted...2)\n",
    "roc2 <- roc(results$observed, results$predicted...3)\n",
    "roc3 <- roc(results$observed, results$predicted...4)\n",
    "roc4 <- roc(results$observed, results$predicted...5)\n",
    "roc5 <- roc(results$observed, results$predicted...6)\n",
    "roc6 <- roc(results$observed, results$predicted...7)\n",
    "roc7 <- roc(results$observed, results$predicted...8)\n",
    "roc8 <- roc(results$observed, results$predicted...9)\n",
    "roc9 <- roc(results$observed, results$predicted...10)\n",
    "roc10 <- roc(results$observed, results$predicted...11)"
   ]
  },
  {
   "cell_type": "code",
   "execution_count": 17,
   "id": "0fcbe140-0abb-4e96-848f-771f4a0742f5",
   "metadata": {
    "execution": {
     "iopub.execute_input": "2021-11-18T00:28:07.517057Z",
     "iopub.status.busy": "2021-11-18T00:28:07.515948Z",
     "iopub.status.idle": "2021-11-18T00:28:07.527168Z",
     "shell.execute_reply": "2021-11-18T00:28:07.526080Z"
    }
   },
   "outputs": [
    {
     "data": {
      "text/html": [
       "'Mean AUC over 10 repetitions of 10-fold CV: 0.819610040340654'"
      ],
      "text/latex": [
       "'Mean AUC over 10 repetitions of 10-fold CV: 0.819610040340654'"
      ],
      "text/markdown": [
       "'Mean AUC over 10 repetitions of 10-fold CV: 0.819610040340654'"
      ],
      "text/plain": [
       "[1] \"Mean AUC over 10 repetitions of 10-fold CV: 0.819610040340654\""
      ]
     },
     "metadata": {},
     "output_type": "display_data"
    }
   ],
   "source": [
    "paste(\"Mean AUC over 10 repetitions of 10-fold CV: \", mean(c(auc(roc1), auc(roc2), auc(roc3), auc(roc4), auc(roc5), auc(roc6), auc(roc7), auc(roc8), auc(roc9), auc(roc10))), sep = \"\")"
   ]
  },
  {
   "cell_type": "code",
   "execution_count": 18,
   "id": "fc596d04-ea30-4b05-807a-2ce93510524a",
   "metadata": {
    "execution": {
     "iopub.execute_input": "2021-11-18T00:28:07.530168Z",
     "iopub.status.busy": "2021-11-18T00:28:07.529052Z",
     "iopub.status.idle": "2021-11-18T00:28:07.555730Z",
     "shell.execute_reply": "2021-11-18T00:28:07.554557Z"
    }
   },
   "outputs": [],
   "source": [
    "results_01 <- results %>% mutate(predicted...2_01 = ifelse(predicted...2 > 0.5, 1, 0), \n",
    "                                 predicted...3_01 = ifelse(predicted...3 > 0.5, 1, 0), \n",
    "                                 predicted...4_01 = ifelse(predicted...4 > 0.5, 1, 0),\n",
    "                                 predicted...5_01 = ifelse(predicted...5 > 0.5, 1, 0),\n",
    "                                 predicted...6_01 = ifelse(predicted...6 > 0.5, 1, 0),\n",
    "                                 predicted...7_01 = ifelse(predicted...7 > 0.5, 1, 0),\n",
    "                                 predicted...8_01 = ifelse(predicted...8 > 0.5, 1, 0),\n",
    "                                 predicted...9_01 = ifelse(predicted...9 > 0.5, 1, 0),\n",
    "                                 predicted...10_01 = ifelse(predicted...10 > 0.5, 1, 0),\n",
    "                                 predicted...11_01 = ifelse(predicted...11 > 0.5, 1, 0))"
   ]
  },
  {
   "cell_type": "code",
   "execution_count": 19,
   "id": "54242558-d709-4159-b025-25a2ea2f4948",
   "metadata": {
    "execution": {
     "iopub.execute_input": "2021-11-18T00:28:07.558836Z",
     "iopub.status.busy": "2021-11-18T00:28:07.557701Z",
     "iopub.status.idle": "2021-11-18T00:28:07.572806Z",
     "shell.execute_reply": "2021-11-18T00:28:07.571757Z"
    }
   },
   "outputs": [
    {
     "data": {
      "text/html": [
       "<ol class=list-inline>\n",
       "\t<li>0.273584905660377</li>\n",
       "\t<li>0.259433962264151</li>\n",
       "\t<li>0.259433962264151</li>\n",
       "\t<li>0.264150943396226</li>\n",
       "\t<li>0.25</li>\n",
       "\t<li>0.257075471698113</li>\n",
       "\t<li>0.261792452830189</li>\n",
       "\t<li>0.261792452830189</li>\n",
       "\t<li>0.257075471698113</li>\n",
       "\t<li>0.264150943396226</li>\n",
       "</ol>\n"
      ],
      "text/latex": [
       "\\begin{enumerate*}\n",
       "\\item 0.273584905660377\n",
       "\\item 0.259433962264151\n",
       "\\item 0.259433962264151\n",
       "\\item 0.264150943396226\n",
       "\\item 0.25\n",
       "\\item 0.257075471698113\n",
       "\\item 0.261792452830189\n",
       "\\item 0.261792452830189\n",
       "\\item 0.257075471698113\n",
       "\\item 0.264150943396226\n",
       "\\end{enumerate*}\n"
      ],
      "text/markdown": [
       "1. 0.273584905660377\n",
       "2. 0.259433962264151\n",
       "3. 0.259433962264151\n",
       "4. 0.264150943396226\n",
       "5. 0.25\n",
       "6. 0.257075471698113\n",
       "7. 0.261792452830189\n",
       "8. 0.261792452830189\n",
       "9. 0.257075471698113\n",
       "10. 0.264150943396226\n",
       "\n",
       "\n"
      ],
      "text/plain": [
       " [1] 0.2735849 0.2594340 0.2594340 0.2641509 0.2500000 0.2570755 0.2617925\n",
       " [8] 0.2617925 0.2570755 0.2641509"
      ]
     },
     "metadata": {},
     "output_type": "display_data"
    },
    {
     "data": {
      "text/html": [
       "'Mean error rate over 10 repetitions of 10-fold CV: 0.260849056603774'"
      ],
      "text/latex": [
       "'Mean error rate over 10 repetitions of 10-fold CV: 0.260849056603774'"
      ],
      "text/markdown": [
       "'Mean error rate over 10 repetitions of 10-fold CV: 0.260849056603774'"
      ],
      "text/plain": [
       "[1] \"Mean error rate over 10 repetitions of 10-fold CV: 0.260849056603774\""
      ]
     },
     "metadata": {},
     "output_type": "display_data"
    }
   ],
   "source": [
    "error_rates <- c(mean(results_01$observed != results_01$predicted...2_01),\n",
    "               mean(results_01$observed != results_01$predicted...3_01), \n",
    "               mean(results_01$observed != results_01$predicted...4_01),\n",
    "               mean(results_01$observed != results_01$predicted...5_01),\n",
    "               mean(results_01$observed != results_01$predicted...6_01),\n",
    "               mean(results_01$observed != results_01$predicted...7_01),\n",
    "               mean(results_01$observed != results_01$predicted...8_01),\n",
    "               mean(results_01$observed != results_01$predicted...9_01), \n",
    "               mean(results_01$observed != results_01$predicted...10_01), \n",
    "               mean(results_01$observed != results_01$predicted...11_01))\n",
    "\n",
    "error_rates\n",
    "\n",
    "paste(\"Mean error rate over 10 repetitions of 10-fold CV: \", mean(error_rates), sep = \"\")"
   ]
  },
  {
   "cell_type": "code",
   "execution_count": 20,
   "id": "ed53aefb-39fb-453d-8365-7b9fe5c06533",
   "metadata": {
    "execution": {
     "iopub.execute_input": "2021-11-18T00:28:07.575845Z",
     "iopub.status.busy": "2021-11-18T00:28:07.574752Z",
     "iopub.status.idle": "2021-11-18T00:28:07.589025Z",
     "shell.execute_reply": "2021-11-18T00:28:07.587968Z"
    }
   },
   "outputs": [
    {
     "data": {
      "text/html": [
       "<ol class=list-inline>\n",
       "\t<li>0.726415094339623</li>\n",
       "\t<li>0.740566037735849</li>\n",
       "\t<li>0.740566037735849</li>\n",
       "\t<li>0.735849056603774</li>\n",
       "\t<li>0.75</li>\n",
       "\t<li>0.742924528301887</li>\n",
       "\t<li>0.738207547169811</li>\n",
       "\t<li>0.738207547169811</li>\n",
       "\t<li>0.742924528301887</li>\n",
       "\t<li>0.735849056603774</li>\n",
       "</ol>\n"
      ],
      "text/latex": [
       "\\begin{enumerate*}\n",
       "\\item 0.726415094339623\n",
       "\\item 0.740566037735849\n",
       "\\item 0.740566037735849\n",
       "\\item 0.735849056603774\n",
       "\\item 0.75\n",
       "\\item 0.742924528301887\n",
       "\\item 0.738207547169811\n",
       "\\item 0.738207547169811\n",
       "\\item 0.742924528301887\n",
       "\\item 0.735849056603774\n",
       "\\end{enumerate*}\n"
      ],
      "text/markdown": [
       "1. 0.726415094339623\n",
       "2. 0.740566037735849\n",
       "3. 0.740566037735849\n",
       "4. 0.735849056603774\n",
       "5. 0.75\n",
       "6. 0.742924528301887\n",
       "7. 0.738207547169811\n",
       "8. 0.738207547169811\n",
       "9. 0.742924528301887\n",
       "10. 0.735849056603774\n",
       "\n",
       "\n"
      ],
      "text/plain": [
       " [1] 0.7264151 0.7405660 0.7405660 0.7358491 0.7500000 0.7429245 0.7382075\n",
       " [8] 0.7382075 0.7429245 0.7358491"
      ]
     },
     "metadata": {},
     "output_type": "display_data"
    },
    {
     "data": {
      "text/html": [
       "'Mean accuracy over 10 repetitions of 10-fold CV: 0.739150943396226'"
      ],
      "text/latex": [
       "'Mean accuracy over 10 repetitions of 10-fold CV: 0.739150943396226'"
      ],
      "text/markdown": [
       "'Mean accuracy over 10 repetitions of 10-fold CV: 0.739150943396226'"
      ],
      "text/plain": [
       "[1] \"Mean accuracy over 10 repetitions of 10-fold CV: 0.739150943396226\""
      ]
     },
     "metadata": {},
     "output_type": "display_data"
    }
   ],
   "source": [
    "accuracies <- c(mean(results_01$observed == results_01$predicted...2_01),\n",
    "               mean(results_01$observed == results_01$predicted...3_01), \n",
    "               mean(results_01$observed == results_01$predicted...4_01),\n",
    "               mean(results_01$observed == results_01$predicted...5_01),\n",
    "               mean(results_01$observed == results_01$predicted...6_01),\n",
    "               mean(results_01$observed == results_01$predicted...7_01),\n",
    "               mean(results_01$observed == results_01$predicted...8_01),\n",
    "               mean(results_01$observed == results_01$predicted...9_01), \n",
    "               mean(results_01$observed == results_01$predicted...10_01), \n",
    "               mean(results_01$observed == results_01$predicted...11_01))\n",
    "\n",
    "accuracies\n",
    "paste(\"Mean accuracy over 10 repetitions of 10-fold CV: \", mean(accuracies), sep = \"\")"
   ]
  },
  {
   "cell_type": "code",
   "execution_count": null,
   "id": "35cdb724-c57c-41be-9bd0-f8fc4ac0be63",
   "metadata": {},
   "outputs": [],
   "source": []
  }
 ],
 "metadata": {
  "kernelspec": {
   "display_name": "R",
   "language": "R",
   "name": "ir"
  },
  "language_info": {
   "codemirror_mode": "r",
   "file_extension": ".r",
   "mimetype": "text/x-r-source",
   "name": "R",
   "pygments_lexer": "r",
   "version": "3.6.1"
  }
 },
 "nbformat": 4,
 "nbformat_minor": 5
}
