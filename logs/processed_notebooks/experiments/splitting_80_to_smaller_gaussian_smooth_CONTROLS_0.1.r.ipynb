{
 "cells": [
  {
   "cell_type": "code",
   "execution_count": 1,
   "id": "afaae701",
   "metadata": {
    "execution": {
     "iopub.execute_input": "2021-10-23T19:56:27.040772Z",
     "iopub.status.busy": "2021-10-23T19:56:27.037923Z",
     "iopub.status.idle": "2021-10-23T19:56:27.573090Z",
     "shell.execute_reply": "2021-10-23T19:56:27.571411Z"
    },
    "tags": [
     "snakemake-job-properties"
    ]
   },
   "outputs": [],
   "source": [
    "\n",
    "######## snakemake preamble start (automatically inserted, do not edit) ########\n",
    "library(methods)\n",
    "Snakemake <- setClass(\n",
    "    \"Snakemake\",\n",
    "    slots = c(\n",
    "        input = \"list\",\n",
    "        output = \"list\",\n",
    "        params = \"list\",\n",
    "        wildcards = \"list\",\n",
    "        threads = \"numeric\",\n",
    "        log = \"list\",\n",
    "        resources = \"list\",\n",
    "        config = \"list\",\n",
    "        rule = \"character\",\n",
    "        bench_iteration = \"numeric\",\n",
    "        scriptdir = \"character\",\n",
    "        source = \"function\"\n",
    "    )\n",
    ")\n",
    "snakemake <- Snakemake(\n",
    "    input = list('data/ATACseq_250kb_bins.txt', 'data/20_80_splits_group_by_ind/80_all_samples_normalized_gaussian_smooth_CONTROLS.rds', \"input_atac\" = 'data/ATACseq_250kb_bins.txt', \"input_train_data\" = 'data/20_80_splits_group_by_ind/80_all_samples_normalized_gaussian_smooth_CONTROLS.rds'),\n",
    "    output = list('data/experiment_ATAC_predictions/traindata_splits_diff_percentages/gaussian_smooth_CONTROLS_split_0.1.rds', \"output_file\" = 'data/experiment_ATAC_predictions/traindata_splits_diff_percentages/gaussian_smooth_CONTROLS_split_0.1.rds'),\n",
    "    params = list('0.1', \"percentage\" = '0.1'),\n",
    "    wildcards = list('gaussian_smooth_CONTROLS', '0.1', \"suffix\" = 'gaussian_smooth_CONTROLS', \"percentage\" = '0.1'),\n",
    "    threads = 1,\n",
    "    log = list('logs/processed_notebooks/experiments/splitting_80_to_smaller_gaussian_smooth_CONTROLS_0.1.r.ipynb', \"notebook\" = 'logs/processed_notebooks/experiments/splitting_80_to_smaller_gaussian_smooth_CONTROLS_0.1.r.ipynb'),\n",
    "    resources = list('mem_mb', 'disk_mb', 'tmpdir', 'time', \"mem_mb\" = 100000, \"disk_mb\" = 10024, \"tmpdir\" = '/scratch/56345888', \"time\" = '5:00:00'),\n",
    "    config = list(),\n",
    "    rule = 'splitting',\n",
    "    bench_iteration = as.numeric(NA),\n",
    "    scriptdir = '/faststorage/project/DELFI1/Workspaces/CarmenAndAnika/20_80_experiments',\n",
    "    source = function(...){\n",
    "        wd <- getwd()\n",
    "        setwd(snakemake@scriptdir)\n",
    "        source(...)\n",
    "        setwd(wd)\n",
    "    }\n",
    ")\n",
    "setwd('/faststorage/project/DELFI1/Workspaces/CarmenAndAnika');\n",
    "\n",
    "######## snakemake preamble end #########\n"
   ]
  },
  {
   "cell_type": "code",
   "execution_count": 2,
   "id": "0e54b3cd-e64a-49f6-bb74-34c79a9ef340",
   "metadata": {
    "execution": {
     "iopub.execute_input": "2021-10-23T19:56:27.671285Z",
     "iopub.status.busy": "2021-10-23T19:56:27.575796Z",
     "iopub.status.idle": "2021-10-23T19:56:30.322510Z",
     "shell.execute_reply": "2021-10-23T19:56:30.320908Z"
    }
   },
   "outputs": [
    {
     "name": "stderr",
     "output_type": "stream",
     "text": [
      "Registered S3 methods overwritten by 'ggplot2':\n",
      "  method         from \n",
      "  [.quosures     rlang\n",
      "  c.quosures     rlang\n",
      "  print.quosures rlang\n",
      "Registered S3 method overwritten by 'rvest':\n",
      "  method            from\n",
      "  read_xml.response xml2\n",
      "── Attaching packages ─────────────────────────────────────── tidyverse 1.2.1 ──\n",
      "✔ ggplot2 3.1.1       ✔ purrr   0.3.2  \n",
      "✔ tibble  2.1.1       ✔ dplyr   0.8.0.1\n",
      "✔ tidyr   0.8.3       ✔ stringr 1.4.0  \n",
      "✔ readr   1.3.1       ✔ forcats 0.4.0  \n",
      "── Conflicts ────────────────────────────────────────── tidyverse_conflicts() ──\n",
      "✖ dplyr::filter() masks stats::filter()\n",
      "✖ dplyr::lag()    masks stats::lag()\n"
     ]
    }
   ],
   "source": [
    "library(tidyverse)"
   ]
  },
  {
   "cell_type": "code",
   "execution_count": 3,
   "id": "58826089-7742-4600-bedb-1a5b34db5b04",
   "metadata": {
    "execution": {
     "iopub.execute_input": "2021-10-23T19:56:30.327389Z",
     "iopub.status.busy": "2021-10-23T19:56:30.325473Z",
     "iopub.status.idle": "2021-10-23T19:56:30.336872Z",
     "shell.execute_reply": "2021-10-23T19:56:30.335397Z"
    }
   },
   "outputs": [],
   "source": [
    "INPUT_percentage = as.numeric(snakemake@params[[\"percentage\"]])"
   ]
  },
  {
   "cell_type": "code",
   "execution_count": 4,
   "id": "04bda7c8-51c8-49ff-b155-27eb0c0c9d88",
   "metadata": {
    "execution": {
     "iopub.execute_input": "2021-10-23T19:56:30.340924Z",
     "iopub.status.busy": "2021-10-23T19:56:30.339401Z",
     "iopub.status.idle": "2021-10-23T19:58:08.042401Z",
     "shell.execute_reply": "2021-10-23T19:58:08.040956Z"
    }
   },
   "outputs": [],
   "source": [
    "INPUT_std_LASSO_TRAIN_DATA = readRDS(snakemake@input[[\"input_train_data\"]])"
   ]
  },
  {
   "cell_type": "code",
   "execution_count": null,
   "id": "01583b58-614d-4404-b5da-e90c7b6e000f",
   "metadata": {},
   "outputs": [],
   "source": []
  },
  {
   "cell_type": "code",
   "execution_count": 5,
   "id": "803b0130-fb93-4122-bc76-644c852e405c",
   "metadata": {
    "execution": {
     "iopub.execute_input": "2021-10-23T19:58:08.051307Z",
     "iopub.status.busy": "2021-10-23T19:58:08.050032Z",
     "iopub.status.idle": "2021-10-23T19:58:08.060631Z",
     "shell.execute_reply": "2021-10-23T19:58:08.059450Z"
    }
   },
   "outputs": [],
   "source": [
    "percentage = INPUT_percentage/0.8"
   ]
  },
  {
   "cell_type": "code",
   "execution_count": 6,
   "id": "3053535e-3a2b-4604-b4c1-60698c4adcd7",
   "metadata": {
    "execution": {
     "iopub.execute_input": "2021-10-23T19:58:08.064066Z",
     "iopub.status.busy": "2021-10-23T19:58:08.062843Z",
     "iopub.status.idle": "2021-10-23T19:58:08.071101Z",
     "shell.execute_reply": "2021-10-23T19:58:08.069908Z"
    }
   },
   "outputs": [],
   "source": [
    "n_input = round((dim(INPUT_std_LASSO_TRAIN_DATA)[1]/10303)*percentage)"
   ]
  },
  {
   "cell_type": "code",
   "execution_count": 7,
   "id": "7b7d0436-a5f4-410a-bed0-6db867097a7b",
   "metadata": {
    "execution": {
     "iopub.execute_input": "2021-10-23T19:58:08.074409Z",
     "iopub.status.busy": "2021-10-23T19:58:08.073164Z",
     "iopub.status.idle": "2021-10-23T19:58:08.085317Z",
     "shell.execute_reply": "2021-10-23T19:58:08.084122Z"
    }
   },
   "outputs": [
    {
     "data": {
      "text/html": [
       "24"
      ],
      "text/latex": [
       "24"
      ],
      "text/markdown": [
       "24"
      ],
      "text/plain": [
       "[1] 24"
      ]
     },
     "metadata": {},
     "output_type": "display_data"
    }
   ],
   "source": [
    "(n_input = as.integer(n_input))"
   ]
  },
  {
   "cell_type": "code",
   "execution_count": 8,
   "id": "a4a1f9bb-3cb9-4cec-9852-59a5b20eb0db",
   "metadata": {
    "execution": {
     "iopub.execute_input": "2021-10-23T19:58:08.088709Z",
     "iopub.status.busy": "2021-10-23T19:58:08.087429Z",
     "iopub.status.idle": "2021-10-23T19:58:09.111453Z",
     "shell.execute_reply": "2021-10-23T19:58:09.110227Z"
    }
   },
   "outputs": [
    {
     "data": {
      "text/html": [
       "<table>\n",
       "<thead><tr><th scope=col>Unique_Elements</th></tr></thead>\n",
       "<tbody>\n",
       "\t<tr><td>194</td></tr>\n",
       "</tbody>\n",
       "</table>\n"
      ],
      "text/latex": [
       "\\begin{tabular}{r|l}\n",
       " Unique\\_Elements\\\\\n",
       "\\hline\n",
       "\t 194\\\\\n",
       "\\end{tabular}\n"
      ],
      "text/markdown": [
       "\n",
       "| Unique_Elements |\n",
       "|---|\n",
       "| 194 |\n",
       "\n"
      ],
      "text/plain": [
       "  Unique_Elements\n",
       "1 194            "
      ]
     },
     "metadata": {},
     "output_type": "display_data"
    },
    {
     "data": {
      "text/html": [
       "194"
      ],
      "text/latex": [
       "194"
      ],
      "text/markdown": [
       "194"
      ],
      "text/plain": [
       "[1] 194"
      ]
     },
     "metadata": {},
     "output_type": "display_data"
    },
    {
     "data": {
      "text/html": [
       "<ol class=list-inline>\n",
       "\t<li>1998782</li>\n",
       "\t<li>673</li>\n",
       "</ol>\n"
      ],
      "text/latex": [
       "\\begin{enumerate*}\n",
       "\\item 1998782\n",
       "\\item 673\n",
       "\\end{enumerate*}\n"
      ],
      "text/markdown": [
       "1. 1998782\n",
       "2. 673\n",
       "\n",
       "\n"
      ],
      "text/plain": [
       "[1] 1998782     673"
      ]
     },
     "metadata": {},
     "output_type": "display_data"
    },
    {
     "data": {
      "text/html": [
       "<ol class=list-inline>\n",
       "\t<li>247272</li>\n",
       "\t<li>673</li>\n",
       "</ol>\n"
      ],
      "text/latex": [
       "\\begin{enumerate*}\n",
       "\\item 247272\n",
       "\\item 673\n",
       "\\end{enumerate*}\n"
      ],
      "text/markdown": [
       "1. 247272\n",
       "2. 673\n",
       "\n",
       "\n"
      ],
      "text/plain": [
       "[1] 247272    673"
      ]
     },
     "metadata": {},
     "output_type": "display_data"
    }
   ],
   "source": [
    "INPUT_std_LASSO_TRAIN_DATA %>%             \n",
    "  summarise(Unique_Elements = n_distinct(sample))\n",
    "\n",
    "ind_list = INPUT_std_LASSO_TRAIN_DATA %>% distinct(sample)\n",
    "ind_list = ind_list$sample\n",
    "length(ind_list)\n",
    "\n",
    "\n",
    "set.seed(0)\n",
    "training <- sample(ind_list, size = n_input, replace = FALSE)\n",
    "\n",
    "#std_LASSO_train_20 <- INPUT_std_LASSO_TRAIN_DATA %>% filter(!sample %in% training)\n",
    "std_LASSO_test_80 <- INPUT_std_LASSO_TRAIN_DATA %>% filter(sample %in% training)\n",
    "\n",
    "dim(INPUT_std_LASSO_TRAIN_DATA)\n",
    "#dim(std_LASSO_train_20)\n",
    "dim(std_LASSO_test_80)"
   ]
  },
  {
   "cell_type": "code",
   "execution_count": 9,
   "id": "a29c9a1e-0dac-4962-b3cd-75a4a5a480b1",
   "metadata": {
    "execution": {
     "iopub.execute_input": "2021-10-23T19:58:09.115487Z",
     "iopub.status.busy": "2021-10-23T19:58:09.114015Z",
     "iopub.status.idle": "2021-10-23T19:58:52.567848Z",
     "shell.execute_reply": "2021-10-23T19:58:52.565718Z"
    }
   },
   "outputs": [],
   "source": [
    "saveRDS(std_LASSO_test_80, file = snakemake@output[[\"output_file\"]])\n",
    "#saveRDS(std_LASSO_train_20, file = snakemake@output[[\"OUTPUT_norm_trimmed_LASSO_DATA_20\"]])"
   ]
  },
  {
   "cell_type": "code",
   "execution_count": null,
   "id": "aa6a2783-b25b-46e0-b282-9459eb4888ca",
   "metadata": {},
   "outputs": [],
   "source": []
  },
  {
   "cell_type": "code",
   "execution_count": null,
   "id": "db17079a-7621-4718-bb15-a0ed77cf8695",
   "metadata": {},
   "outputs": [],
   "source": []
  }
 ],
 "metadata": {
  "kernelspec": {
   "display_name": "R",
   "language": "R",
   "name": "ir"
  },
  "language_info": {
   "codemirror_mode": "r",
   "file_extension": ".r",
   "mimetype": "text/x-r-source",
   "name": "R",
   "pygments_lexer": "r",
   "version": "3.6.1"
  }
 },
 "nbformat": 4,
 "nbformat_minor": 5
}
