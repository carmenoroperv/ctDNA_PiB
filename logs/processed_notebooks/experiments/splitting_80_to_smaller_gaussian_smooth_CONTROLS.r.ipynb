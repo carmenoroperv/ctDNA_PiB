{
 "cells": [
  {
   "cell_type": "code",
   "execution_count": 1,
   "id": "bcf987dd",
   "metadata": {
    "execution": {
     "iopub.execute_input": "2021-11-02T19:00:33.243201Z",
     "iopub.status.busy": "2021-11-02T19:00:33.240237Z",
     "iopub.status.idle": "2021-11-02T19:00:35.743463Z",
     "shell.execute_reply": "2021-11-02T19:00:35.704334Z"
    },
    "tags": [
     "snakemake-job-properties"
    ]
   },
   "outputs": [],
   "source": [
    "\n",
    "######## snakemake preamble start (automatically inserted, do not edit) ########\n",
    "library(methods)\n",
    "Snakemake <- setClass(\n",
    "    \"Snakemake\",\n",
    "    slots = c(\n",
    "        input = \"list\",\n",
    "        output = \"list\",\n",
    "        params = \"list\",\n",
    "        wildcards = \"list\",\n",
    "        threads = \"numeric\",\n",
    "        log = \"list\",\n",
    "        resources = \"list\",\n",
    "        config = \"list\",\n",
    "        rule = \"character\",\n",
    "        bench_iteration = \"numeric\",\n",
    "        scriptdir = \"character\",\n",
    "        source = \"function\"\n",
    "    )\n",
    ")\n",
    "snakemake <- Snakemake(\n",
    "    input = list('data/ATACseq_250kb_bins.txt', 'data/cases_controls/cases_controls_rds_format/all_samples_normalized_gaussian_smooth_CONTROLS.rds', \"input_atac\" = 'data/ATACseq_250kb_bins.txt', \"input_train_data\" = 'data/cases_controls/cases_controls_rds_format/all_samples_normalized_gaussian_smooth_CONTROLS.rds'),\n",
    "    output = list('data/ATAC_predictions_new_split/train_gaussian_smooth_CONTROLS_split.rds', 'data/ATAC_predictions_new_split/test_gaussian_smooth_CONTROLS_split.rds', \"train_data_output\" = 'data/ATAC_predictions_new_split/train_gaussian_smooth_CONTROLS_split.rds', \"test_data_output\" = 'data/ATAC_predictions_new_split/test_gaussian_smooth_CONTROLS_split.rds'),\n",
    "    params = list(),\n",
    "    wildcards = list('gaussian_smooth_CONTROLS', \"suffix\" = 'gaussian_smooth_CONTROLS'),\n",
    "    threads = 1,\n",
    "    log = list('logs/processed_notebooks/experiments/splitting_80_to_smaller_gaussian_smooth_CONTROLS.r.ipynb', \"notebook\" = 'logs/processed_notebooks/experiments/splitting_80_to_smaller_gaussian_smooth_CONTROLS.r.ipynb'),\n",
    "    resources = list('mem_mb', 'disk_mb', 'tmpdir', 'time', \"mem_mb\" = 200000, \"disk_mb\" = 12442, \"tmpdir\" = '/scratch/56738041', \"time\" = '48:00:00'),\n",
    "    config = list(),\n",
    "    rule = 'splitting_final',\n",
    "    bench_iteration = as.numeric(NA),\n",
    "    scriptdir = '/faststorage/project/DELFI1/Workspaces/CarmenAndAnika',\n",
    "    source = function(...){\n",
    "        wd <- getwd()\n",
    "        setwd(snakemake@scriptdir)\n",
    "        source(...)\n",
    "        setwd(wd)\n",
    "    }\n",
    ")\n",
    "setwd('/faststorage/project/DELFI1/Workspaces/CarmenAndAnika');\n",
    "\n",
    "######## snakemake preamble end #########\n"
   ]
  },
  {
   "cell_type": "code",
   "execution_count": 2,
   "id": "0e54b3cd-e64a-49f6-bb74-34c79a9ef340",
   "metadata": {
    "execution": {
     "iopub.execute_input": "2021-11-02T19:00:35.811544Z",
     "iopub.status.busy": "2021-11-02T19:00:35.746803Z",
     "iopub.status.idle": "2021-11-02T19:00:45.813898Z",
     "shell.execute_reply": "2021-11-02T19:00:45.812244Z"
    }
   },
   "outputs": [
    {
     "name": "stderr",
     "output_type": "stream",
     "text": [
      "Registered S3 methods overwritten by 'ggplot2':\n",
      "  method         from \n",
      "  [.quosures     rlang\n",
      "  c.quosures     rlang\n",
      "  print.quosures rlang\n",
      "Registered S3 method overwritten by 'rvest':\n",
      "  method            from\n",
      "  read_xml.response xml2\n",
      "── Attaching packages ─────────────────────────────────────── tidyverse 1.2.1 ──\n",
      "✔ ggplot2 3.1.1       ✔ purrr   0.3.2  \n",
      "✔ tibble  2.1.1       ✔ dplyr   0.8.0.1\n",
      "✔ tidyr   0.8.3       ✔ stringr 1.4.0  \n",
      "✔ readr   1.3.1       ✔ forcats 0.4.0  \n",
      "── Conflicts ────────────────────────────────────────── tidyverse_conflicts() ──\n",
      "✖ dplyr::filter() masks stats::filter()\n",
      "✖ dplyr::lag()    masks stats::lag()\n"
     ]
    }
   ],
   "source": [
    "library(tidyverse)"
   ]
  },
  {
   "cell_type": "code",
   "execution_count": 3,
   "id": "58826089-7742-4600-bedb-1a5b34db5b04",
   "metadata": {
    "execution": {
     "iopub.execute_input": "2021-11-02T19:00:45.819913Z",
     "iopub.status.busy": "2021-11-02T19:00:45.817902Z",
     "iopub.status.idle": "2021-11-02T19:00:45.830409Z",
     "shell.execute_reply": "2021-11-02T19:00:45.828847Z"
    }
   },
   "outputs": [],
   "source": [
    "\n",
    "INPUT_percentage = 0.2"
   ]
  },
  {
   "cell_type": "code",
   "execution_count": 4,
   "id": "04bda7c8-51c8-49ff-b155-27eb0c0c9d88",
   "metadata": {
    "execution": {
     "iopub.execute_input": "2021-11-02T19:00:45.834918Z",
     "iopub.status.busy": "2021-11-02T19:00:45.833101Z",
     "iopub.status.idle": "2021-11-02T19:03:02.671342Z",
     "shell.execute_reply": "2021-11-02T19:03:02.669690Z"
    }
   },
   "outputs": [],
   "source": [
    "INPUT_std_LASSO_TRAIN_DATA = readRDS(snakemake@input[[\"input_train_data\"]])\n",
    "#INPUT_std_LASSO_TRAIN_DATA = readRDS(\"data/cases_controls/cases_controls_rds_format/all_samples_normalized_CONTROLS.rds\")"
   ]
  },
  {
   "cell_type": "code",
   "execution_count": null,
   "id": "01583b58-614d-4404-b5da-e90c7b6e000f",
   "metadata": {},
   "outputs": [],
   "source": []
  },
  {
   "cell_type": "code",
   "execution_count": 5,
   "id": "803b0130-fb93-4122-bc76-644c852e405c",
   "metadata": {
    "execution": {
     "iopub.execute_input": "2021-11-02T19:03:02.686692Z",
     "iopub.status.busy": "2021-11-02T19:03:02.685090Z",
     "iopub.status.idle": "2021-11-02T19:03:02.696995Z",
     "shell.execute_reply": "2021-11-02T19:03:02.695461Z"
    }
   },
   "outputs": [],
   "source": [
    "percentage = INPUT_percentage"
   ]
  },
  {
   "cell_type": "code",
   "execution_count": 6,
   "id": "3053535e-3a2b-4604-b4c1-60698c4adcd7",
   "metadata": {
    "execution": {
     "iopub.execute_input": "2021-11-02T19:03:02.701406Z",
     "iopub.status.busy": "2021-11-02T19:03:02.699801Z",
     "iopub.status.idle": "2021-11-02T19:03:02.710715Z",
     "shell.execute_reply": "2021-11-02T19:03:02.709164Z"
    }
   },
   "outputs": [],
   "source": [
    "n_input = round((dim(INPUT_std_LASSO_TRAIN_DATA)[1]/10303)*percentage)"
   ]
  },
  {
   "cell_type": "code",
   "execution_count": 7,
   "id": "7b7d0436-a5f4-410a-bed0-6db867097a7b",
   "metadata": {
    "execution": {
     "iopub.execute_input": "2021-11-02T19:03:02.714984Z",
     "iopub.status.busy": "2021-11-02T19:03:02.713377Z",
     "iopub.status.idle": "2021-11-02T19:03:02.729556Z",
     "shell.execute_reply": "2021-11-02T19:03:02.727947Z"
    }
   },
   "outputs": [
    {
     "data": {
      "text/html": [
       "49"
      ],
      "text/latex": [
       "49"
      ],
      "text/markdown": [
       "49"
      ],
      "text/plain": [
       "[1] 49"
      ]
     },
     "metadata": {},
     "output_type": "display_data"
    }
   ],
   "source": [
    "(n_input = as.integer(n_input))"
   ]
  },
  {
   "cell_type": "code",
   "execution_count": 8,
   "id": "a4a1f9bb-3cb9-4cec-9852-59a5b20eb0db",
   "metadata": {
    "execution": {
     "iopub.execute_input": "2021-11-02T19:03:02.734147Z",
     "iopub.status.busy": "2021-11-02T19:03:02.732370Z",
     "iopub.status.idle": "2021-11-02T19:03:09.744764Z",
     "shell.execute_reply": "2021-11-02T19:03:09.743138Z"
    }
   },
   "outputs": [
    {
     "data": {
      "text/html": [
       "<table>\n",
       "<thead><tr><th scope=col>Unique_Elements</th></tr></thead>\n",
       "<tbody>\n",
       "\t<tr><td>243</td></tr>\n",
       "</tbody>\n",
       "</table>\n"
      ],
      "text/latex": [
       "\\begin{tabular}{r|l}\n",
       " Unique\\_Elements\\\\\n",
       "\\hline\n",
       "\t 243\\\\\n",
       "\\end{tabular}\n"
      ],
      "text/markdown": [
       "\n",
       "| Unique_Elements |\n",
       "|---|\n",
       "| 243 |\n",
       "\n"
      ],
      "text/plain": [
       "  Unique_Elements\n",
       "1 243            "
      ]
     },
     "metadata": {},
     "output_type": "display_data"
    },
    {
     "data": {
      "text/html": [
       "243"
      ],
      "text/latex": [
       "243"
      ],
      "text/markdown": [
       "243"
      ],
      "text/plain": [
       "[1] 243"
      ]
     },
     "metadata": {},
     "output_type": "display_data"
    }
   ],
   "source": [
    "INPUT_std_LASSO_TRAIN_DATA %>%             \n",
    "  summarise(Unique_Elements = n_distinct(sample))\n",
    "\n",
    "ind_list = INPUT_std_LASSO_TRAIN_DATA %>% distinct(sample)\n",
    "ind_list = ind_list$sample\n",
    "length(ind_list)\n",
    "\n",
    "\n",
    "set.seed(0)\n",
    "training <- sample(ind_list, size = n_input, replace = FALSE)\n",
    "\n",
    "std_LASSO_test <- INPUT_std_LASSO_TRAIN_DATA %>% filter(!sample %in% training)\n",
    "std_LASSO_train <- INPUT_std_LASSO_TRAIN_DATA %>% filter(sample %in% training)\n"
   ]
  },
  {
   "cell_type": "code",
   "execution_count": 9,
   "id": "a29c9a1e-0dac-4962-b3cd-75a4a5a480b1",
   "metadata": {
    "execution": {
     "iopub.execute_input": "2021-11-02T19:03:09.749834Z",
     "iopub.status.busy": "2021-11-02T19:03:09.748190Z",
     "iopub.status.idle": "2021-11-02T19:11:06.577837Z",
     "shell.execute_reply": "2021-11-02T19:11:06.575862Z"
    }
   },
   "outputs": [],
   "source": [
    "saveRDS(std_LASSO_test, file = snakemake@output[[\"test_data_output\"]])\n",
    "saveRDS(std_LASSO_train, file = snakemake@output[[\"train_data_output\"]])\n",
    "#saveRDS(std_LASSO_train_20, file = snakemake@output[[\"OUTPUT_norm_trimmed_LASSO_DATA_20\"]])"
   ]
  },
  {
   "cell_type": "code",
   "execution_count": null,
   "id": "aa6a2783-b25b-46e0-b282-9459eb4888ca",
   "metadata": {},
   "outputs": [],
   "source": []
  },
  {
   "cell_type": "code",
   "execution_count": null,
   "id": "db17079a-7621-4718-bb15-a0ed77cf8695",
   "metadata": {},
   "outputs": [],
   "source": []
  }
 ],
 "metadata": {
  "kernelspec": {
   "display_name": "R",
   "language": "R",
   "name": "ir"
  },
  "language_info": {
   "codemirror_mode": "r",
   "file_extension": ".r",
   "mimetype": "text/x-r-source",
   "name": "R",
   "pygments_lexer": "r",
   "version": "3.6.1"
  }
 },
 "nbformat": 4,
 "nbformat_minor": 5
}
