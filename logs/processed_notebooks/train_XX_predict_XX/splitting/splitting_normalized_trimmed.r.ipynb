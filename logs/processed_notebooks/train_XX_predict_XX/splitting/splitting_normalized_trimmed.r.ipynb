{
 "cells": [
  {
   "cell_type": "code",
   "execution_count": 1,
   "id": "8b458695",
   "metadata": {
    "execution": {
     "iopub.execute_input": "2021-11-02T23:33:20.009012Z",
     "iopub.status.busy": "2021-11-02T23:33:20.006518Z",
     "iopub.status.idle": "2021-11-02T23:33:22.274201Z",
     "shell.execute_reply": "2021-11-02T23:33:22.238921Z"
    },
    "tags": [
     "snakemake-job-properties"
    ]
   },
   "outputs": [],
   "source": [
    "\n",
    "######## snakemake preamble start (automatically inserted, do not edit) ########\n",
    "library(methods)\n",
    "Snakemake <- setClass(\n",
    "    \"Snakemake\",\n",
    "    slots = c(\n",
    "        input = \"list\",\n",
    "        output = \"list\",\n",
    "        params = \"list\",\n",
    "        wildcards = \"list\",\n",
    "        threads = \"numeric\",\n",
    "        log = \"list\",\n",
    "        resources = \"list\",\n",
    "        config = \"list\",\n",
    "        rule = \"character\",\n",
    "        bench_iteration = \"numeric\",\n",
    "        scriptdir = \"character\",\n",
    "        source = \"function\"\n",
    "    )\n",
    ")\n",
    "snakemake <- Snakemake(\n",
    "    input = list('data/ATACseq_250kb_bins.txt', 'data/cases_controls/cases_controls_rds_format/all_samples_normalized_trimmed_CONTROLS.rds', \"input_atac\" = 'data/ATACseq_250kb_bins.txt', \"input_train_data\" = 'data/cases_controls/cases_controls_rds_format/all_samples_normalized_trimmed_CONTROLS.rds'),\n",
    "    output = list('data/ATAC_predictions_new_split/train_normalized_trimmed_CONTROLS_split.rds', 'data/ATAC_predictions_new_split/test_normalized_trimmed_CONTROLS_split.rds', \"train_data_output\" = 'data/ATAC_predictions_new_split/train_normalized_trimmed_CONTROLS_split.rds', \"test_data_output\" = 'data/ATAC_predictions_new_split/test_normalized_trimmed_CONTROLS_split.rds'),\n",
    "    params = list(),\n",
    "    wildcards = list('normalized_trimmed', \"suffix\" = 'normalized_trimmed'),\n",
    "    threads = 1,\n",
    "    log = list('logs/processed_notebooks/train_XX_predict_XX/splitting/splitting_normalized_trimmed.r.ipynb', \"notebook\" = 'logs/processed_notebooks/train_XX_predict_XX/splitting/splitting_normalized_trimmed.r.ipynb'),\n",
    "    resources = list('mem_mb', 'disk_mb', 'tmpdir', 'time', \"mem_mb\" = 200000, \"disk_mb\" = 5953, \"tmpdir\" = '/scratch/56739902', \"time\" = '48:00:00'),\n",
    "    config = list(),\n",
    "    rule = 'splitting_final',\n",
    "    bench_iteration = as.numeric(NA),\n",
    "    scriptdir = '/faststorage/project/DELFI1/Workspaces/CarmenAndAnika',\n",
    "    source = function(...){\n",
    "        wd <- getwd()\n",
    "        setwd(snakemake@scriptdir)\n",
    "        source(...)\n",
    "        setwd(wd)\n",
    "    }\n",
    ")\n",
    "setwd('/faststorage/project/DELFI1/Workspaces/CarmenAndAnika');\n",
    "\n",
    "######## snakemake preamble end #########\n"
   ]
  },
  {
   "cell_type": "code",
   "execution_count": 2,
   "id": "0e54b3cd-e64a-49f6-bb74-34c79a9ef340",
   "metadata": {
    "execution": {
     "iopub.execute_input": "2021-11-02T23:33:22.329908Z",
     "iopub.status.busy": "2021-11-02T23:33:22.276897Z",
     "iopub.status.idle": "2021-11-02T23:33:31.916245Z",
     "shell.execute_reply": "2021-11-02T23:33:31.914924Z"
    }
   },
   "outputs": [
    {
     "name": "stderr",
     "output_type": "stream",
     "text": [
      "Registered S3 methods overwritten by 'ggplot2':\n",
      "  method         from \n",
      "  [.quosures     rlang\n",
      "  c.quosures     rlang\n",
      "  print.quosures rlang\n",
      "Registered S3 method overwritten by 'rvest':\n",
      "  method            from\n",
      "  read_xml.response xml2\n",
      "── Attaching packages ─────────────────────────────────────── tidyverse 1.2.1 ──\n",
      "✔ ggplot2 3.1.1       ✔ purrr   0.3.2  \n",
      "✔ tibble  2.1.1       ✔ dplyr   0.8.0.1\n",
      "✔ tidyr   0.8.3       ✔ stringr 1.4.0  \n",
      "✔ readr   1.3.1       ✔ forcats 0.4.0  \n",
      "── Conflicts ────────────────────────────────────────── tidyverse_conflicts() ──\n",
      "✖ dplyr::filter() masks stats::filter()\n",
      "✖ dplyr::lag()    masks stats::lag()\n"
     ]
    }
   ],
   "source": [
    "library(tidyverse)"
   ]
  },
  {
   "cell_type": "code",
   "execution_count": 3,
   "id": "58826089-7742-4600-bedb-1a5b34db5b04",
   "metadata": {
    "execution": {
     "iopub.execute_input": "2021-11-02T23:33:31.920740Z",
     "iopub.status.busy": "2021-11-02T23:33:31.919135Z",
     "iopub.status.idle": "2021-11-02T23:33:31.928968Z",
     "shell.execute_reply": "2021-11-02T23:33:31.927756Z"
    }
   },
   "outputs": [],
   "source": [
    "\n",
    "INPUT_percentage = 0.2"
   ]
  },
  {
   "cell_type": "code",
   "execution_count": 4,
   "id": "04bda7c8-51c8-49ff-b155-27eb0c0c9d88",
   "metadata": {
    "execution": {
     "iopub.execute_input": "2021-11-02T23:33:31.932327Z",
     "iopub.status.busy": "2021-11-02T23:33:31.931082Z",
     "iopub.status.idle": "2021-11-02T23:34:33.701986Z",
     "shell.execute_reply": "2021-11-02T23:34:33.700566Z"
    }
   },
   "outputs": [],
   "source": [
    "INPUT_std_LASSO_TRAIN_DATA = readRDS(snakemake@input[[\"input_train_data\"]])\n",
    "#INPUT_std_LASSO_TRAIN_DATA = readRDS(\"data/cases_controls/cases_controls_rds_format/all_samples_normalized_CONTROLS.rds\")"
   ]
  },
  {
   "cell_type": "code",
   "execution_count": null,
   "id": "01583b58-614d-4404-b5da-e90c7b6e000f",
   "metadata": {},
   "outputs": [],
   "source": []
  },
  {
   "cell_type": "code",
   "execution_count": 5,
   "id": "803b0130-fb93-4122-bc76-644c852e405c",
   "metadata": {
    "execution": {
     "iopub.execute_input": "2021-11-02T23:34:33.708828Z",
     "iopub.status.busy": "2021-11-02T23:34:33.707575Z",
     "iopub.status.idle": "2021-11-02T23:34:33.717079Z",
     "shell.execute_reply": "2021-11-02T23:34:33.715906Z"
    }
   },
   "outputs": [],
   "source": [
    "percentage = INPUT_percentage"
   ]
  },
  {
   "cell_type": "code",
   "execution_count": 6,
   "id": "3053535e-3a2b-4604-b4c1-60698c4adcd7",
   "metadata": {
    "execution": {
     "iopub.execute_input": "2021-11-02T23:34:33.720446Z",
     "iopub.status.busy": "2021-11-02T23:34:33.719200Z",
     "iopub.status.idle": "2021-11-02T23:34:33.727461Z",
     "shell.execute_reply": "2021-11-02T23:34:33.726278Z"
    }
   },
   "outputs": [],
   "source": [
    "n_input = round((dim(INPUT_std_LASSO_TRAIN_DATA)[1]/10303)*percentage)"
   ]
  },
  {
   "cell_type": "code",
   "execution_count": 7,
   "id": "7b7d0436-a5f4-410a-bed0-6db867097a7b",
   "metadata": {
    "execution": {
     "iopub.execute_input": "2021-11-02T23:34:33.730741Z",
     "iopub.status.busy": "2021-11-02T23:34:33.729493Z",
     "iopub.status.idle": "2021-11-02T23:34:33.741666Z",
     "shell.execute_reply": "2021-11-02T23:34:33.740464Z"
    }
   },
   "outputs": [
    {
     "data": {
      "text/html": [
       "49"
      ],
      "text/latex": [
       "49"
      ],
      "text/markdown": [
       "49"
      ],
      "text/plain": [
       "[1] 49"
      ]
     },
     "metadata": {},
     "output_type": "display_data"
    }
   ],
   "source": [
    "(n_input = as.integer(n_input))"
   ]
  },
  {
   "cell_type": "code",
   "execution_count": 8,
   "id": "a4a1f9bb-3cb9-4cec-9852-59a5b20eb0db",
   "metadata": {
    "execution": {
     "iopub.execute_input": "2021-11-02T23:34:33.745079Z",
     "iopub.status.busy": "2021-11-02T23:34:33.743829Z",
     "iopub.status.idle": "2021-11-02T23:34:37.169667Z",
     "shell.execute_reply": "2021-11-02T23:34:37.168237Z"
    }
   },
   "outputs": [
    {
     "data": {
      "text/html": [
       "<table>\n",
       "<thead><tr><th scope=col>Unique_Elements</th></tr></thead>\n",
       "<tbody>\n",
       "\t<tr><td>243</td></tr>\n",
       "</tbody>\n",
       "</table>\n"
      ],
      "text/latex": [
       "\\begin{tabular}{r|l}\n",
       " Unique\\_Elements\\\\\n",
       "\\hline\n",
       "\t 243\\\\\n",
       "\\end{tabular}\n"
      ],
      "text/markdown": [
       "\n",
       "| Unique_Elements |\n",
       "|---|\n",
       "| 243 |\n",
       "\n"
      ],
      "text/plain": [
       "  Unique_Elements\n",
       "1 243            "
      ]
     },
     "metadata": {},
     "output_type": "display_data"
    },
    {
     "data": {
      "text/html": [
       "243"
      ],
      "text/latex": [
       "243"
      ],
      "text/markdown": [
       "243"
      ],
      "text/plain": [
       "[1] 243"
      ]
     },
     "metadata": {},
     "output_type": "display_data"
    }
   ],
   "source": [
    "INPUT_std_LASSO_TRAIN_DATA %>%             \n",
    "  summarise(Unique_Elements = n_distinct(sample))\n",
    "\n",
    "ind_list = INPUT_std_LASSO_TRAIN_DATA %>% distinct(sample)\n",
    "ind_list = ind_list$sample\n",
    "length(ind_list)\n",
    "\n",
    "\n",
    "set.seed(0)\n",
    "training <- sample(ind_list, size = n_input, replace = FALSE)\n",
    "\n",
    "std_LASSO_test <- INPUT_std_LASSO_TRAIN_DATA %>% filter(!sample %in% training)\n",
    "std_LASSO_train <- INPUT_std_LASSO_TRAIN_DATA %>% filter(sample %in% training)\n"
   ]
  },
  {
   "cell_type": "code",
   "execution_count": 9,
   "id": "a29c9a1e-0dac-4962-b3cd-75a4a5a480b1",
   "metadata": {
    "execution": {
     "iopub.execute_input": "2021-11-02T23:34:37.173389Z",
     "iopub.status.busy": "2021-11-02T23:34:37.172089Z",
     "iopub.status.idle": "2021-11-02T23:38:20.639442Z",
     "shell.execute_reply": "2021-11-02T23:38:20.637670Z"
    }
   },
   "outputs": [],
   "source": [
    "saveRDS(std_LASSO_test, file = snakemake@output[[\"test_data_output\"]])\n",
    "saveRDS(std_LASSO_train, file = snakemake@output[[\"train_data_output\"]])\n",
    "#saveRDS(std_LASSO_train_20, file = snakemake@output[[\"OUTPUT_norm_trimmed_LASSO_DATA_20\"]])"
   ]
  },
  {
   "cell_type": "code",
   "execution_count": null,
   "id": "aa6a2783-b25b-46e0-b282-9459eb4888ca",
   "metadata": {},
   "outputs": [],
   "source": []
  },
  {
   "cell_type": "code",
   "execution_count": null,
   "id": "db17079a-7621-4718-bb15-a0ed77cf8695",
   "metadata": {},
   "outputs": [],
   "source": []
  }
 ],
 "metadata": {
  "kernelspec": {
   "display_name": "R",
   "language": "R",
   "name": "ir"
  },
  "language_info": {
   "codemirror_mode": "r",
   "file_extension": ".r",
   "mimetype": "text/x-r-source",
   "name": "R",
   "pygments_lexer": "r",
   "version": "3.6.1"
  }
 },
 "nbformat": 4,
 "nbformat_minor": 5
}
