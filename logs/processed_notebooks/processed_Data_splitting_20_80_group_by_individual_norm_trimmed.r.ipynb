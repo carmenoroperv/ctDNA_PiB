{
 "cells": [
  {
   "cell_type": "code",
   "execution_count": 1,
   "id": "1cf45c45",
   "metadata": {
    "execution": {
     "iopub.execute_input": "2021-10-20T18:15:02.208153Z",
     "iopub.status.busy": "2021-10-20T18:15:02.204903Z",
     "iopub.status.idle": "2021-10-20T18:15:04.653212Z",
     "shell.execute_reply": "2021-10-20T18:15:04.652675Z"
    },
    "tags": [
     "snakemake-job-properties"
    ]
   },
   "outputs": [],
   "source": [
    "\n",
    "######## snakemake preamble start (automatically inserted, do not edit) ########\n",
    "library(methods)\n",
    "Snakemake <- setClass(\n",
    "    \"Snakemake\",\n",
    "    slots = c(\n",
    "        input = \"list\",\n",
    "        output = \"list\",\n",
    "        params = \"list\",\n",
    "        wildcards = \"list\",\n",
    "        threads = \"numeric\",\n",
    "        log = \"list\",\n",
    "        resources = \"list\",\n",
    "        config = \"list\",\n",
    "        rule = \"character\",\n",
    "        bench_iteration = \"numeric\",\n",
    "        scriptdir = \"character\",\n",
    "        source = \"function\"\n",
    "    )\n",
    ")\n",
    "snakemake <- Snakemake(\n",
    "    input = list('data/cases_controls/cases_controls_rds_format/all_samples_normalized_trimmed_CONTROLS.rds', \"input_norm_trimmed_LASSO_TRAIN_DATA\" = 'data/cases_controls/cases_controls_rds_format/all_samples_normalized_trimmed_CONTROLS.rds'),\n",
    "    output = list('data/20_80_splits_group_by_ind/20_all_samples_normalized_trimmed_CONTROLS.rds', 'data/20_80_splits_group_by_ind/80_all_samples_normalized_trimmed_CONTROLS.rds', \"OUTPUT_norm_trimmed_LASSO_DATA_20\" = 'data/20_80_splits_group_by_ind/20_all_samples_normalized_trimmed_CONTROLS.rds', \"OUTPUT_norm_trimmed_LASSO_DATA_80\" = 'data/20_80_splits_group_by_ind/80_all_samples_normalized_trimmed_CONTROLS.rds'),\n",
    "    params = list(),\n",
    "    wildcards = list(),\n",
    "    threads = 3,\n",
    "    log = list('logs/processed_notebooks/processed_Data_splitting_20_80_group_by_individual_norm_trimmed.r.ipynb', \"notebook\" = 'logs/processed_notebooks/processed_Data_splitting_20_80_group_by_individual_norm_trimmed.r.ipynb'),\n",
    "    resources = list('mem_mb', 'disk_mb', 'tmpdir', 'time', \"mem_mb\" = 150000, \"disk_mb\" = 5953, \"tmpdir\" = '/scratch/56255143', \"time\" = '5:00:00'),\n",
    "    config = list(),\n",
    "    rule = 'splitting_norm_trimmed_group_by_individual',\n",
    "    bench_iteration = as.numeric(NA),\n",
    "    scriptdir = '/faststorage/project/DELFI1/Workspaces/CarmenAndAnika/20_80_experiments',\n",
    "    source = function(...){\n",
    "        wd <- getwd()\n",
    "        setwd(snakemake@scriptdir)\n",
    "        source(...)\n",
    "        setwd(wd)\n",
    "    }\n",
    ")\n",
    "setwd('/faststorage/project/DELFI1/Workspaces/CarmenAndAnika');\n",
    "\n",
    "######## snakemake preamble end #########\n"
   ]
  },
  {
   "cell_type": "code",
   "execution_count": 2,
   "id": "def54471-7559-4285-bdd5-a919578fbef8",
   "metadata": {
    "execution": {
     "iopub.execute_input": "2021-10-20T18:15:04.701710Z",
     "iopub.status.busy": "2021-10-20T18:15:04.654969Z",
     "iopub.status.idle": "2021-10-20T18:15:28.194844Z",
     "shell.execute_reply": "2021-10-20T18:15:28.194205Z"
    }
   },
   "outputs": [
    {
     "name": "stderr",
     "output_type": "stream",
     "text": [
      "Registered S3 methods overwritten by 'ggplot2':\n",
      "  method         from \n",
      "  [.quosures     rlang\n",
      "  c.quosures     rlang\n",
      "  print.quosures rlang\n",
      "Registered S3 method overwritten by 'rvest':\n",
      "  method            from\n",
      "  read_xml.response xml2\n",
      "── Attaching packages ─────────────────────────────────────── tidyverse 1.2.1 ──\n",
      "✔ ggplot2 3.1.1     ✔ purrr   0.3.2\n",
      "✔ tibble  3.1.5     ✔ dplyr   1.0.7\n",
      "✔ tidyr   1.1.4     ✔ stringr 1.4.0\n",
      "✔ readr   1.3.1     ✔ forcats 0.4.0\n",
      "── Conflicts ────────────────────────────────────────── tidyverse_conflicts() ──\n",
      "✖ dplyr::filter() masks stats::filter()\n",
      "✖ dplyr::lag()    masks stats::lag()\n"
     ]
    }
   ],
   "source": [
    "library(tidyverse)"
   ]
  },
  {
   "cell_type": "code",
   "execution_count": 3,
   "id": "03ca9aa9-dea6-439f-8134-f5874aee561b",
   "metadata": {
    "execution": {
     "iopub.execute_input": "2021-10-20T18:15:28.198048Z",
     "iopub.status.busy": "2021-10-20T18:15:28.196982Z",
     "iopub.status.idle": "2021-10-20T18:17:29.516755Z",
     "shell.execute_reply": "2021-10-20T18:17:29.516283Z"
    }
   },
   "outputs": [],
   "source": [
    "INPUT_std_LASSO_TRAIN_DATA = readRDS(snakemake@input[[\"input_norm_trimmed_LASSO_TRAIN_DATA\"]])\n",
    "#INPUT_smooth_LASSO_TRAIN_DATA = readRDS(snakemake@input[[\"input_smooth_LASSO_TRAIN_DATA\"]])\n",
    "#INPUT_trim_LASSO_TRAIN_DATA = readRDS(snakemake@input[[\"input_trim_LASSO_TRAIN_DATA\"]])"
   ]
  },
  {
   "cell_type": "code",
   "execution_count": 4,
   "id": "3d99e560-a93a-413b-aa87-b3219da80ccf",
   "metadata": {
    "execution": {
     "iopub.execute_input": "2021-10-20T18:17:29.523250Z",
     "iopub.status.busy": "2021-10-20T18:17:29.522512Z",
     "iopub.status.idle": "2021-10-20T18:17:29.543675Z",
     "shell.execute_reply": "2021-10-20T18:17:29.542981Z"
    }
   },
   "outputs": [
    {
     "data": {
      "text/html": [
       "<table>\n",
       "<thead><tr><th scope=col>sample</th><th scope=col>bin</th><th scope=col>X80</th><th scope=col>X81</th><th scope=col>X82</th><th scope=col>X83</th><th scope=col>X84</th><th scope=col>X85</th><th scope=col>X86</th><th scope=col>X87</th><th scope=col>...</th><th scope=col>X391</th><th scope=col>X392</th><th scope=col>X393</th><th scope=col>X394</th><th scope=col>X395</th><th scope=col>X396</th><th scope=col>X397</th><th scope=col>X398</th><th scope=col>X399</th><th scope=col>X400</th></tr></thead>\n",
       "<tbody>\n",
       "\t<tr><td>PGDX16568P  </td><td>chr10_400   </td><td>0.0000000000</td><td>0.0000000000</td><td>0.0000000000</td><td>0           </td><td>0.0000000000</td><td>0.0001749781</td><td>0           </td><td>0.000000000 </td><td>...         </td><td>0.0001749781</td><td>0.0003499563</td><td>0.0000000000</td><td>0.0001749781</td><td>0.0000000000</td><td>0.0001749781</td><td>0.0000000000</td><td>0.0000000000</td><td>0.0000000000</td><td>0.0001749781</td></tr>\n",
       "\t<tr><td>PGDX16568P  </td><td>chr10_40    </td><td>0.0000000000</td><td>0.0000000000</td><td>0.0002340276</td><td>0           </td><td>0.0002340276</td><td>0.0000000000</td><td>0           </td><td>0.000000000 </td><td>...         </td><td>0.0002340276</td><td>0.0002340276</td><td>0.0000000000</td><td>0.0002340276</td><td>0.0000000000</td><td>0.0000000000</td><td>0.0002340276</td><td>0.0000000000</td><td>0.0002340276</td><td>0.0000000000</td></tr>\n",
       "\t<tr><td>PGDX16568P  </td><td>chr10_4     </td><td>0.0000000000</td><td>0.0002093802</td><td>0.0002093802</td><td>0           </td><td>0.0000000000</td><td>0.0002093802</td><td>0           </td><td>0.000000000 </td><td>...         </td><td>0.0000000000</td><td>0.0000000000</td><td>0.0000000000</td><td>0.0004187605</td><td>0.0002093802</td><td>0.0000000000</td><td>0.0000000000</td><td>0.0002093802</td><td>0.0000000000</td><td>0.0000000000</td></tr>\n",
       "\t<tr><td>PGDX16568P  </td><td>chr10_401   </td><td>0.0000000000</td><td>0.0000000000</td><td>0.0000000000</td><td>0           </td><td>0.0000000000</td><td>0.0000000000</td><td>0           </td><td>0.000203666 </td><td>...         </td><td>0.0004073320</td><td>0.0000000000</td><td>0.0004073320</td><td>0.0000000000</td><td>0.0000000000</td><td>0.0000000000</td><td>0.0000000000</td><td>0.0002036660</td><td>0.0000000000</td><td>0.0002036660</td></tr>\n",
       "\t<tr><td>PGDX16568P  </td><td>chr10_402   </td><td>0.0000000000</td><td>0.0002337541</td><td>0.0000000000</td><td>0           </td><td>0.0000000000</td><td>0.0000000000</td><td>0           </td><td>0.000000000 </td><td>...         </td><td>0.0000000000</td><td>0.0000000000</td><td>0.0000000000</td><td>0.0000000000</td><td>0.0000000000</td><td>0.0002337541</td><td>0.0000000000</td><td>0.0000000000</td><td>0.0004675082</td><td>0.0004675082</td></tr>\n",
       "\t<tr><td>PGDX16568P  </td><td>chr10_403   </td><td>0.0002130379</td><td>0.0000000000</td><td>0.0000000000</td><td>0           </td><td>0.0000000000</td><td>0.0000000000</td><td>0           </td><td>0.000000000 </td><td>...         </td><td>0.0004260758</td><td>0.0002130379</td><td>0.0002130379</td><td>0.0002130379</td><td>0.0002130379</td><td>0.0000000000</td><td>0.0000000000</td><td>0.0000000000</td><td>0.0000000000</td><td>0.0000000000</td></tr>\n",
       "</tbody>\n",
       "</table>\n"
      ],
      "text/latex": [
       "\\begin{tabular}{r|lllllllllllllllllllllllllllllllllllllllllllllllllllllllllllllllllllllllllllllllllllllllllllllllllllllllllllllllllllllllllllllllllllllllllllllllllllllllllllllllllllllllllllllllllllllllllllllllllllllllllllllllllllllllllllllllllllllllllllllllllllllllllllllllllllllllllllllllllllllllllllllllllllllllllllllllllllllllllllllllllll}\n",
       " sample & bin & X80 & X81 & X82 & X83 & X84 & X85 & X86 & X87 & ... & X391 & X392 & X393 & X394 & X395 & X396 & X397 & X398 & X399 & X400\\\\\n",
       "\\hline\n",
       "\t PGDX16568P   & chr10\\_400  & 0.0000000000 & 0.0000000000 & 0.0000000000 & 0            & 0.0000000000 & 0.0001749781 & 0            & 0.000000000  & ...          & 0.0001749781 & 0.0003499563 & 0.0000000000 & 0.0001749781 & 0.0000000000 & 0.0001749781 & 0.0000000000 & 0.0000000000 & 0.0000000000 & 0.0001749781\\\\\n",
       "\t PGDX16568P   & chr10\\_40   & 0.0000000000 & 0.0000000000 & 0.0002340276 & 0            & 0.0002340276 & 0.0000000000 & 0            & 0.000000000  & ...          & 0.0002340276 & 0.0002340276 & 0.0000000000 & 0.0002340276 & 0.0000000000 & 0.0000000000 & 0.0002340276 & 0.0000000000 & 0.0002340276 & 0.0000000000\\\\\n",
       "\t PGDX16568P   & chr10\\_4    & 0.0000000000 & 0.0002093802 & 0.0002093802 & 0            & 0.0000000000 & 0.0002093802 & 0            & 0.000000000  & ...          & 0.0000000000 & 0.0000000000 & 0.0000000000 & 0.0004187605 & 0.0002093802 & 0.0000000000 & 0.0000000000 & 0.0002093802 & 0.0000000000 & 0.0000000000\\\\\n",
       "\t PGDX16568P   & chr10\\_401  & 0.0000000000 & 0.0000000000 & 0.0000000000 & 0            & 0.0000000000 & 0.0000000000 & 0            & 0.000203666  & ...          & 0.0004073320 & 0.0000000000 & 0.0004073320 & 0.0000000000 & 0.0000000000 & 0.0000000000 & 0.0000000000 & 0.0002036660 & 0.0000000000 & 0.0002036660\\\\\n",
       "\t PGDX16568P   & chr10\\_402  & 0.0000000000 & 0.0002337541 & 0.0000000000 & 0            & 0.0000000000 & 0.0000000000 & 0            & 0.000000000  & ...          & 0.0000000000 & 0.0000000000 & 0.0000000000 & 0.0000000000 & 0.0000000000 & 0.0002337541 & 0.0000000000 & 0.0000000000 & 0.0004675082 & 0.0004675082\\\\\n",
       "\t PGDX16568P   & chr10\\_403  & 0.0002130379 & 0.0000000000 & 0.0000000000 & 0            & 0.0000000000 & 0.0000000000 & 0            & 0.000000000  & ...          & 0.0004260758 & 0.0002130379 & 0.0002130379 & 0.0002130379 & 0.0002130379 & 0.0000000000 & 0.0000000000 & 0.0000000000 & 0.0000000000 & 0.0000000000\\\\\n",
       "\\end{tabular}\n"
      ],
      "text/markdown": [
       "\n",
       "| sample | bin | X80 | X81 | X82 | X83 | X84 | X85 | X86 | X87 | ... | X391 | X392 | X393 | X394 | X395 | X396 | X397 | X398 | X399 | X400 |\n",
       "|---|---|---|---|---|---|---|---|---|---|---|---|---|---|---|---|---|---|---|---|---|\n",
       "| PGDX16568P   | chr10_400    | 0.0000000000 | 0.0000000000 | 0.0000000000 | 0            | 0.0000000000 | 0.0001749781 | 0            | 0.000000000  | ...          | 0.0001749781 | 0.0003499563 | 0.0000000000 | 0.0001749781 | 0.0000000000 | 0.0001749781 | 0.0000000000 | 0.0000000000 | 0.0000000000 | 0.0001749781 |\n",
       "| PGDX16568P   | chr10_40     | 0.0000000000 | 0.0000000000 | 0.0002340276 | 0            | 0.0002340276 | 0.0000000000 | 0            | 0.000000000  | ...          | 0.0002340276 | 0.0002340276 | 0.0000000000 | 0.0002340276 | 0.0000000000 | 0.0000000000 | 0.0002340276 | 0.0000000000 | 0.0002340276 | 0.0000000000 |\n",
       "| PGDX16568P   | chr10_4      | 0.0000000000 | 0.0002093802 | 0.0002093802 | 0            | 0.0000000000 | 0.0002093802 | 0            | 0.000000000  | ...          | 0.0000000000 | 0.0000000000 | 0.0000000000 | 0.0004187605 | 0.0002093802 | 0.0000000000 | 0.0000000000 | 0.0002093802 | 0.0000000000 | 0.0000000000 |\n",
       "| PGDX16568P   | chr10_401    | 0.0000000000 | 0.0000000000 | 0.0000000000 | 0            | 0.0000000000 | 0.0000000000 | 0            | 0.000203666  | ...          | 0.0004073320 | 0.0000000000 | 0.0004073320 | 0.0000000000 | 0.0000000000 | 0.0000000000 | 0.0000000000 | 0.0002036660 | 0.0000000000 | 0.0002036660 |\n",
       "| PGDX16568P   | chr10_402    | 0.0000000000 | 0.0002337541 | 0.0000000000 | 0            | 0.0000000000 | 0.0000000000 | 0            | 0.000000000  | ...          | 0.0000000000 | 0.0000000000 | 0.0000000000 | 0.0000000000 | 0.0000000000 | 0.0002337541 | 0.0000000000 | 0.0000000000 | 0.0004675082 | 0.0004675082 |\n",
       "| PGDX16568P   | chr10_403    | 0.0002130379 | 0.0000000000 | 0.0000000000 | 0            | 0.0000000000 | 0.0000000000 | 0            | 0.000000000  | ...          | 0.0004260758 | 0.0002130379 | 0.0002130379 | 0.0002130379 | 0.0002130379 | 0.0000000000 | 0.0000000000 | 0.0000000000 | 0.0000000000 | 0.0000000000 |\n",
       "\n"
      ],
      "text/plain": [
       "  sample     bin       X80          X81          X82          X83 X84         \n",
       "1 PGDX16568P chr10_400 0.0000000000 0.0000000000 0.0000000000 0   0.0000000000\n",
       "2 PGDX16568P chr10_40  0.0000000000 0.0000000000 0.0002340276 0   0.0002340276\n",
       "3 PGDX16568P chr10_4   0.0000000000 0.0002093802 0.0002093802 0   0.0000000000\n",
       "4 PGDX16568P chr10_401 0.0000000000 0.0000000000 0.0000000000 0   0.0000000000\n",
       "5 PGDX16568P chr10_402 0.0000000000 0.0002337541 0.0000000000 0   0.0000000000\n",
       "6 PGDX16568P chr10_403 0.0002130379 0.0000000000 0.0000000000 0   0.0000000000\n",
       "  X85          X86 X87         ... X391         X392         X393        \n",
       "1 0.0001749781 0   0.000000000 ... 0.0001749781 0.0003499563 0.0000000000\n",
       "2 0.0000000000 0   0.000000000 ... 0.0002340276 0.0002340276 0.0000000000\n",
       "3 0.0002093802 0   0.000000000 ... 0.0000000000 0.0000000000 0.0000000000\n",
       "4 0.0000000000 0   0.000203666 ... 0.0004073320 0.0000000000 0.0004073320\n",
       "5 0.0000000000 0   0.000000000 ... 0.0000000000 0.0000000000 0.0000000000\n",
       "6 0.0000000000 0   0.000000000 ... 0.0004260758 0.0002130379 0.0002130379\n",
       "  X394         X395         X396         X397         X398         X399        \n",
       "1 0.0001749781 0.0000000000 0.0001749781 0.0000000000 0.0000000000 0.0000000000\n",
       "2 0.0002340276 0.0000000000 0.0000000000 0.0002340276 0.0000000000 0.0002340276\n",
       "3 0.0004187605 0.0002093802 0.0000000000 0.0000000000 0.0002093802 0.0000000000\n",
       "4 0.0000000000 0.0000000000 0.0000000000 0.0000000000 0.0002036660 0.0000000000\n",
       "5 0.0000000000 0.0000000000 0.0002337541 0.0000000000 0.0000000000 0.0004675082\n",
       "6 0.0002130379 0.0002130379 0.0000000000 0.0000000000 0.0000000000 0.0000000000\n",
       "  X400        \n",
       "1 0.0001749781\n",
       "2 0.0000000000\n",
       "3 0.0000000000\n",
       "4 0.0002036660\n",
       "5 0.0004675082\n",
       "6 0.0000000000"
      ]
     },
     "metadata": {},
     "output_type": "display_data"
    }
   ],
   "source": [
    "head(INPUT_std_LASSO_TRAIN_DATA)"
   ]
  },
  {
   "cell_type": "code",
   "execution_count": 5,
   "id": "12784d9c-af30-48e3-affd-ff21e87d93aa",
   "metadata": {
    "execution": {
     "iopub.execute_input": "2021-10-20T18:17:29.546201Z",
     "iopub.status.busy": "2021-10-20T18:17:29.545481Z",
     "iopub.status.idle": "2021-10-20T18:17:31.446012Z",
     "shell.execute_reply": "2021-10-20T18:17:31.445297Z"
    }
   },
   "outputs": [
    {
     "data": {
      "text/html": [
       "<table>\n",
       "<thead><tr><th scope=col>Unique_Elements</th></tr></thead>\n",
       "<tbody>\n",
       "\t<tr><td>243</td></tr>\n",
       "</tbody>\n",
       "</table>\n"
      ],
      "text/latex": [
       "\\begin{tabular}{r|l}\n",
       " Unique\\_Elements\\\\\n",
       "\\hline\n",
       "\t 243\\\\\n",
       "\\end{tabular}\n"
      ],
      "text/markdown": [
       "\n",
       "| Unique_Elements |\n",
       "|---|\n",
       "| 243 |\n",
       "\n"
      ],
      "text/plain": [
       "  Unique_Elements\n",
       "1 243            "
      ]
     },
     "metadata": {},
     "output_type": "display_data"
    },
    {
     "data": {
      "text/html": [
       "243"
      ],
      "text/latex": [
       "243"
      ],
      "text/markdown": [
       "243"
      ],
      "text/plain": [
       "[1] 243"
      ]
     },
     "metadata": {},
     "output_type": "display_data"
    },
    {
     "data": {
      "text/html": [
       "<ol class=list-inline>\n",
       "\t<li>2503629</li>\n",
       "\t<li>323</li>\n",
       "</ol>\n"
      ],
      "text/latex": [
       "\\begin{enumerate*}\n",
       "\\item 2503629\n",
       "\\item 323\n",
       "\\end{enumerate*}\n"
      ],
      "text/markdown": [
       "1. 2503629\n",
       "2. 323\n",
       "\n",
       "\n"
      ],
      "text/plain": [
       "[1] 2503629     323"
      ]
     },
     "metadata": {},
     "output_type": "display_data"
    },
    {
     "data": {
      "text/html": [
       "<ol class=list-inline>\n",
       "\t<li>504847</li>\n",
       "\t<li>323</li>\n",
       "</ol>\n"
      ],
      "text/latex": [
       "\\begin{enumerate*}\n",
       "\\item 504847\n",
       "\\item 323\n",
       "\\end{enumerate*}\n"
      ],
      "text/markdown": [
       "1. 504847\n",
       "2. 323\n",
       "\n",
       "\n"
      ],
      "text/plain": [
       "[1] 504847    323"
      ]
     },
     "metadata": {},
     "output_type": "display_data"
    },
    {
     "data": {
      "text/html": [
       "<ol class=list-inline>\n",
       "\t<li>1998782</li>\n",
       "\t<li>323</li>\n",
       "</ol>\n"
      ],
      "text/latex": [
       "\\begin{enumerate*}\n",
       "\\item 1998782\n",
       "\\item 323\n",
       "\\end{enumerate*}\n"
      ],
      "text/markdown": [
       "1. 1998782\n",
       "2. 323\n",
       "\n",
       "\n"
      ],
      "text/plain": [
       "[1] 1998782     323"
      ]
     },
     "metadata": {},
     "output_type": "display_data"
    }
   ],
   "source": [
    "INPUT_std_LASSO_TRAIN_DATA %>%             \n",
    "  summarise(Unique_Elements = n_distinct(sample))\n",
    "\n",
    "ind_list = INPUT_std_LASSO_TRAIN_DATA %>% distinct(sample)\n",
    "ind_list = ind_list$sample\n",
    "length(ind_list)\n",
    "\n",
    "\n",
    "set.seed(0)\n",
    "training <- sample(ind_list, 194, replace = FALSE)\n",
    "\n",
    "std_LASSO_train_20 <- INPUT_std_LASSO_TRAIN_DATA %>% filter(!sample %in% training)\n",
    "std_LASSO_test_80 <- INPUT_std_LASSO_TRAIN_DATA %>% filter(sample %in% training)\n",
    "\n",
    "dim(INPUT_std_LASSO_TRAIN_DATA)\n",
    "dim(std_LASSO_train_20)\n",
    "dim(std_LASSO_test_80)"
   ]
  },
  {
   "cell_type": "code",
   "execution_count": 6,
   "id": "a7e9597e-1698-4ada-a915-15479d692e88",
   "metadata": {
    "execution": {
     "iopub.execute_input": "2021-10-20T18:17:31.448488Z",
     "iopub.status.busy": "2021-10-20T18:17:31.447794Z",
     "iopub.status.idle": "2021-10-20T18:21:35.323243Z",
     "shell.execute_reply": "2021-10-20T18:21:35.322539Z"
    }
   },
   "outputs": [],
   "source": [
    "saveRDS(std_LASSO_test_80, file = snakemake@output[[\"OUTPUT_norm_trimmed_LASSO_DATA_80\"]])\n",
    "saveRDS(std_LASSO_train_20, file = snakemake@output[[\"OUTPUT_norm_trimmed_LASSO_DATA_20\"]])"
   ]
  }
 ],
 "metadata": {
  "kernelspec": {
   "display_name": "R",
   "language": "R",
   "name": "ir"
  },
  "language_info": {
   "codemirror_mode": "r",
   "file_extension": ".r",
   "mimetype": "text/x-r-source",
   "name": "R",
   "pygments_lexer": "r",
   "version": "3.6.1"
  }
 },
 "nbformat": 4,
 "nbformat_minor": 5
}
