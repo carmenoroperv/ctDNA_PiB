{
 "cells": [
  {
   "cell_type": "code",
   "execution_count": 1,
   "id": "156fe03a",
   "metadata": {
    "execution": {
     "iopub.execute_input": "2021-11-17T12:04:10.241718Z",
     "iopub.status.busy": "2021-11-17T12:04:10.238329Z",
     "iopub.status.idle": "2021-11-17T12:04:10.277661Z",
     "shell.execute_reply": "2021-11-17T12:04:10.277124Z"
    },
    "tags": [
     "snakemake-job-properties"
    ]
   },
   "outputs": [],
   "source": [
    "\n",
    "######## snakemake preamble start (automatically inserted, do not edit) ########\n",
    "library(methods)\n",
    "Snakemake <- setClass(\n",
    "    \"Snakemake\",\n",
    "    slots = c(\n",
    "        input = \"list\",\n",
    "        output = \"list\",\n",
    "        params = \"list\",\n",
    "        wildcards = \"list\",\n",
    "        threads = \"numeric\",\n",
    "        log = \"list\",\n",
    "        resources = \"list\",\n",
    "        config = \"list\",\n",
    "        rule = \"character\",\n",
    "        bench_iteration = \"numeric\",\n",
    "        scriptdir = \"character\",\n",
    "        source = \"function\"\n",
    "    )\n",
    ")\n",
    "snakemake <- Snakemake(\n",
    "    input = list('data/ATAC_predictions_train_20_predict_80/ATAC_pred_lasso_normalized_trimmed_formatted_standardized.rds', \"input_predictions\" = 'data/ATAC_predictions_train_20_predict_80/ATAC_pred_lasso_normalized_trimmed_formatted_standardized.rds'),\n",
    "    output = list('data/ATAC_predictions_train_20_predict_80/PCA_ATAC_pred_lasso_formatted_standardized.rds', \"output_pca\" = 'data/ATAC_predictions_train_20_predict_80/PCA_ATAC_pred_lasso_formatted_standardized.rds'),\n",
    "    params = list(),\n",
    "    wildcards = list(),\n",
    "    threads = 5,\n",
    "    log = list('logs/processed_notebooks/PCA.r.ipynb', \"notebook\" = 'logs/processed_notebooks/PCA.r.ipynb'),\n",
    "    resources = list('mem_mb', 'disk_mb', 'tmpdir', 'time', \"mem_mb\" = 200000, \"disk_mb\" = 1000, \"tmpdir\" = '/scratch/57038870', \"time\" = '12:00:00'),\n",
    "    config = list(),\n",
    "    rule = 'PCA',\n",
    "    bench_iteration = as.numeric(NA),\n",
    "    scriptdir = '/faststorage/project/DELFI1/Workspaces/CarmenAndAnika',\n",
    "    source = function(...){\n",
    "        wd <- getwd()\n",
    "        setwd(snakemake@scriptdir)\n",
    "        source(...)\n",
    "        setwd(wd)\n",
    "    }\n",
    ")\n",
    "setwd('/faststorage/project/DELFI1/Workspaces/CarmenAndAnika');\n",
    "\n",
    "######## snakemake preamble end #########\n"
   ]
  },
  {
   "cell_type": "code",
   "execution_count": 2,
   "id": "04b73646-100b-43ae-8693-b22d6c4a0e5e",
   "metadata": {
    "execution": {
     "iopub.execute_input": "2021-11-17T12:04:10.362543Z",
     "iopub.status.busy": "2021-11-17T12:04:10.279441Z",
     "iopub.status.idle": "2021-11-17T12:04:11.928246Z",
     "shell.execute_reply": "2021-11-17T12:04:11.885849Z"
    }
   },
   "outputs": [
    {
     "name": "stderr",
     "output_type": "stream",
     "text": [
      "\n",
      "Attaching package: ‘dplyr’\n",
      "\n",
      "The following objects are masked from ‘package:stats’:\n",
      "\n",
      "    filter, lag\n",
      "\n",
      "The following objects are masked from ‘package:base’:\n",
      "\n",
      "    intersect, setdiff, setequal, union\n",
      "\n",
      "Registered S3 methods overwritten by 'ggplot2':\n",
      "  method         from \n",
      "  [.quosures     rlang\n",
      "  c.quosures     rlang\n",
      "  print.quosures rlang\n",
      "Registered S3 method overwritten by 'rvest':\n",
      "  method            from\n",
      "  read_xml.response xml2\n",
      "── Attaching packages ─────────────────────────────────────── tidyverse 1.2.1 ──\n",
      "✔ ggplot2 3.1.1     ✔ readr   1.3.1\n",
      "✔ tibble  3.1.4     ✔ purrr   0.3.4\n",
      "✔ tidyr   1.1.3     ✔ stringr 1.4.0\n",
      "✔ ggplot2 3.1.1     ✔ forcats 0.4.0\n",
      "── Conflicts ────────────────────────────────────────── tidyverse_conflicts() ──\n",
      "✖ dplyr::filter() masks stats::filter()\n",
      "✖ dplyr::lag()    masks stats::lag()\n",
      "Type 'citation(\"pROC\")' for a citation.\n",
      "\n",
      "Attaching package: ‘pROC’\n",
      "\n",
      "The following objects are masked from ‘package:stats’:\n",
      "\n",
      "    cov, smooth, var\n",
      "\n",
      "Loading required package: Matrix\n",
      "\n",
      "Attaching package: ‘Matrix’\n",
      "\n",
      "The following objects are masked from ‘package:tidyr’:\n",
      "\n",
      "    expand, pack, unpack\n",
      "\n",
      "Loading required package: foreach\n",
      "\n",
      "Attaching package: ‘foreach’\n",
      "\n",
      "The following objects are masked from ‘package:purrr’:\n",
      "\n",
      "    accumulate, when\n",
      "\n",
      "Loaded glmnet 2.0-16\n",
      "\n",
      "\n",
      "Attaching package: ‘glmnet’\n",
      "\n",
      "The following object is masked from ‘package:pROC’:\n",
      "\n",
      "    auc\n",
      "\n",
      "\n",
      "Attaching package: ‘glmnetUtils’\n",
      "\n",
      "The following objects are masked from ‘package:glmnet’:\n",
      "\n",
      "    cv.glmnet, glmnet\n",
      "\n"
     ]
    }
   ],
   "source": [
    "library(dplyr)\n",
    "library(class)\n",
    "library(tidyverse)\n",
    "library(pROC)\n",
    "library(glmnet)\n",
    "\n",
    "#install.packages('glmnetUtils')\n",
    "library(glmnetUtils)"
   ]
  },
  {
   "cell_type": "code",
   "execution_count": 3,
   "id": "bacc4d43-1608-4813-8490-af4b6d7e7f00",
   "metadata": {
    "execution": {
     "iopub.execute_input": "2021-11-17T12:04:11.932076Z",
     "iopub.status.busy": "2021-11-17T12:04:11.930813Z",
     "iopub.status.idle": "2021-11-17T12:04:12.224218Z",
     "shell.execute_reply": "2021-11-17T12:04:12.223354Z"
    }
   },
   "outputs": [],
   "source": [
    "#pred <- readRDS(\"../../data/ATAC_predictions_train_XX_predict_XX/ATAC_pred_lasso_normalized_trimmed_formatted_standardized.rds\")\n",
    "pred <- readRDS(snakemake@input[[\"input_predictions\"]])"
   ]
  },
  {
   "cell_type": "code",
   "execution_count": 4,
   "id": "be5d202c-23cb-4e75-98df-b2d6631edd40",
   "metadata": {
    "execution": {
     "iopub.execute_input": "2021-11-17T12:04:12.226854Z",
     "iopub.status.busy": "2021-11-17T12:04:12.226035Z",
     "iopub.status.idle": "2021-11-17T12:04:14.344549Z",
     "shell.execute_reply": "2021-11-17T12:04:14.341979Z"
    }
   },
   "outputs": [],
   "source": [
    "pred.pca <- prcomp(pred[2:10304], center = TRUE,scale. = TRUE)"
   ]
  },
  {
   "cell_type": "code",
   "execution_count": 5,
   "id": "e56760c3-2c10-447a-ae7b-8bbb99c9bd6d",
   "metadata": {
    "execution": {
     "iopub.execute_input": "2021-11-17T12:04:14.348624Z",
     "iopub.status.busy": "2021-11-17T12:04:14.346734Z",
     "iopub.status.idle": "2021-11-17T12:04:14.614460Z",
     "shell.execute_reply": "2021-11-17T12:04:14.613521Z"
    }
   },
   "outputs": [
    {
     "data": {
      "image/png": "[encoded data removed]",
      "text/plain": [
       "plot without title"
      ]
     },
     "metadata": {},
     "output_type": "display_data"
    }
   ],
   "source": [
    "ggplot() +\n",
    "  geom_point(aes(pred.pca$x[,1],pred.pca$x[,2])) +\n",
    "  theme_minimal() +\n",
    "  ylab('PC1') + xlab('PC2')"
   ]
  },
  {
   "cell_type": "code",
   "execution_count": 6,
   "id": "db0501ba-23f7-4a6a-a393-af5d63fb3639",
   "metadata": {
    "execution": {
     "iopub.execute_input": "2021-11-17T12:04:14.617401Z",
     "iopub.status.busy": "2021-11-17T12:04:14.616534Z",
     "iopub.status.idle": "2021-11-17T12:04:14.624447Z",
     "shell.execute_reply": "2021-11-17T12:04:14.623785Z"
    }
   },
   "outputs": [],
   "source": [
    "var_exp <- tibble(PC = 1:dim(pred.pca$x)[2], \n",
    "                  Variance_Explained = pred.pca$sdev^2 / sum(pred.pca$sdev^2),\n",
    "                  Cumulative_Variance_Explained = cumsum(Variance_Explained))"
   ]
  },
  {
   "cell_type": "code",
   "execution_count": 7,
   "id": "e5f4a574-cc26-4a83-80c6-5947c42284c6",
   "metadata": {
    "execution": {
     "iopub.execute_input": "2021-11-17T12:04:14.626911Z",
     "iopub.status.busy": "2021-11-17T12:04:14.626161Z",
     "iopub.status.idle": "2021-11-17T12:04:14.636719Z",
     "shell.execute_reply": "2021-11-17T12:04:14.636110Z"
    }
   },
   "outputs": [],
   "source": [
    "sample_names <- as.data.frame(pred$sample)\n",
    "colnames(sample_names) <- c(\"sample\")\n",
    "pca <- pred.pca$x[,1:50]\n",
    "pca <- cbind(pca, sample_names)"
   ]
  },
  {
   "cell_type": "code",
   "execution_count": 8,
   "id": "18dc09d4-9c97-4f44-a52e-951ee9944124",
   "metadata": {
    "execution": {
     "iopub.execute_input": "2021-11-17T12:04:14.639194Z",
     "iopub.status.busy": "2021-11-17T12:04:14.638455Z",
     "iopub.status.idle": "2021-11-17T12:04:14.678007Z",
     "shell.execute_reply": "2021-11-17T12:04:14.677366Z"
    }
   },
   "outputs": [],
   "source": [
    "saveRDS(pca, snakemake@output[[\"output_pca\"]])"
   ]
  },
  {
   "cell_type": "code",
   "execution_count": null,
   "id": "1fd6cf64-eba5-44e6-aa78-39db44962a6b",
   "metadata": {},
   "outputs": [],
   "source": []
  },
  {
   "cell_type": "code",
   "execution_count": null,
   "id": "908f33f4-fd08-4f62-a24b-33a828d8326a",
   "metadata": {},
   "outputs": [],
   "source": []
  },
  {
   "cell_type": "code",
   "execution_count": null,
   "id": "48d32c4f-f2da-4cad-a33e-c3f52289f22f",
   "metadata": {},
   "outputs": [],
   "source": []
  },
  {
   "cell_type": "code",
   "execution_count": null,
   "id": "616a78ef-66f6-44b7-9cf0-8610cf09a6c0",
   "metadata": {},
   "outputs": [],
   "source": []
  }
 ],
 "metadata": {
  "kernelspec": {
   "display_name": "R",
   "language": "R",
   "name": "ir"
  },
  "language_info": {
   "codemirror_mode": "r",
   "file_extension": ".r",
   "mimetype": "text/x-r-source",
   "name": "R",
   "pygments_lexer": "r",
   "version": "3.6.1"
  }
 },
 "nbformat": 4,
 "nbformat_minor": 5
}
