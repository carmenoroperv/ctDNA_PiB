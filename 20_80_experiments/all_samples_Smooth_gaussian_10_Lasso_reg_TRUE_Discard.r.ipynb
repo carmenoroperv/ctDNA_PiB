{
 "cells": [
  {
   "cell_type": "markdown",
   "id": "2199a549-43c6-4096-8918-9704b72b02da",
   "metadata": {},
   "source": [
    "# Lasso regression on data normalized, smoothed with Gaussian (n = 10) and trimmed (80 to 400) "
   ]
  },
  {
   "cell_type": "code",
   "execution_count": 1,
   "id": "adbff3e1-a386-48fe-a724-d16bad5d4c35",
   "metadata": {
    "tags": []
   },
   "outputs": [
    {
     "name": "stderr",
     "output_type": "stream",
     "text": [
      "Registered S3 methods overwritten by 'ggplot2':\n",
      "  method         from \n",
      "  [.quosures     rlang\n",
      "  c.quosures     rlang\n",
      "  print.quosures rlang\n",
      "Registered S3 method overwritten by 'rvest':\n",
      "  method            from\n",
      "  read_xml.response xml2\n",
      "── Attaching packages ─────────────────────────────────────── tidyverse 1.2.1 ──\n",
      "✔ ggplot2 3.1.1     ✔ purrr   0.3.2\n",
      "✔ tibble  3.1.4     ✔ dplyr   1.0.7\n",
      "✔ tidyr   1.1.3     ✔ stringr 1.4.0\n",
      "✔ readr   1.3.1     ✔ forcats 0.4.0\n",
      "── Conflicts ────────────────────────────────────────── tidyverse_conflicts() ──\n",
      "✖ dplyr::filter() masks stats::filter()\n",
      "✖ dplyr::lag()    masks stats::lag()\n",
      "Loading required package: Matrix\n",
      "\n",
      "Attaching package: ‘Matrix’\n",
      "\n",
      "The following objects are masked from ‘package:tidyr’:\n",
      "\n",
      "    expand, pack, unpack\n",
      "\n",
      "Loading required package: foreach\n",
      "\n",
      "Attaching package: ‘foreach’\n",
      "\n",
      "The following objects are masked from ‘package:purrr’:\n",
      "\n",
      "    accumulate, when\n",
      "\n",
      "Loaded glmnet 2.0-16\n",
      "\n",
      "Warning message in install.packages(\"tidyr\"):\n",
      "“installation of package ‘tidyr’ had non-zero exit status”Updating HTML index of packages in '.Library'\n",
      "Making 'packages.html' ... done\n"
     ]
    }
   ],
   "source": [
    "library(tidyverse)\n",
    "library(glmnet)\n",
    "library(glmnetUtils)"
   ]
  },
  {
   "cell_type": "markdown",
   "id": "6b2b237f-06a1-49ce-ab48-89fa130d07fc",
   "metadata": {},
   "source": [
    "### Read in data and ATAC values, add ATAC values to the dataframe"
   ]
  },
  {
   "cell_type": "code",
   "execution_count": 3,
   "id": "b2fafd6f-ac5e-44c3-b375-62f87a90a12a",
   "metadata": {},
   "outputs": [],
   "source": [
    "#all_samples_gaussian_trimmed_controls <- read.csv(\"../../../data/all_samples_normalized_gaussian_smooth_trimmed_CONTROLS.csv\", nrows=50000)\n",
    "all_samples_gaussian_trimmed_controls <- readRDS(snakemake@input[[\"input_train_data_trim\"]])"
   ]
  },
  {
   "cell_type": "code",
   "execution_count": 4,
   "id": "c138d3e8-1b77-4b9a-9641-3cfd1aa02f3a",
   "metadata": {},
   "outputs": [
    {
     "name": "stderr",
     "output_type": "stream",
     "text": [
      "Warning message in eval(expr, envir, enclos):\n",
      "“NAs introduced by coercion”"
     ]
    },
    {
     "data": {
      "text/html": [
       "<table>\n",
       "<thead><tr><th scope=col>sample</th><th scope=col>bin</th><th scope=col>X80</th><th scope=col>X81</th><th scope=col>X82</th><th scope=col>X83</th><th scope=col>X84</th><th scope=col>X85</th><th scope=col>X86</th><th scope=col>X87</th><th scope=col>...</th><th scope=col>X392</th><th scope=col>X393</th><th scope=col>X394</th><th scope=col>X395</th><th scope=col>X396</th><th scope=col>X397</th><th scope=col>X398</th><th scope=col>X399</th><th scope=col>X400</th><th scope=col>ATAC_observed</th></tr></thead>\n",
       "<tbody>\n",
       "\t<tr><td>PGDX16568P  </td><td>chr10_400   </td><td>2.656112e-05</td><td>2.994814e-05</td><td>2.961085e-05</td><td>2.929903e-05</td><td>3.469718e-05</td><td>3.917019e-05</td><td>4.629696e-05</td><td>5.955899e-05</td><td>...         </td><td>1.753154e-04</td><td>1.569416e-04</td><td>0.0001385816</td><td>1.166854e-04</td><td>9.841735e-05</td><td>8.478873e-05</td><td>7.355554e-05</td><td>6.464917e-05</td><td>7.007278e-05</td><td>0.5866651   </td></tr>\n",
       "\t<tr><td>PGDX16568P  </td><td>chr10_40    </td><td>2.639605e-05</td><td>3.960356e-05</td><td>5.284513e-05</td><td>6.279401e-05</td><td>6.650374e-05</td><td>6.279401e-05</td><td>5.284513e-05</td><td>3.960356e-05</td><td>...         </td><td>1.143096e-04</td><td>1.096515e-04</td><td>0.0001061073</td><td>1.087833e-04</td><td>1.047829e-04</td><td>9.925148e-05</td><td>8.919007e-05</td><td>7.883794e-05</td><td>7.639961e-05</td><td>0.1996134   </td></tr>\n",
       "\t<tr><td>PGDX16568P  </td><td>chr10_4     </td><td>4.192713e-05</td><td>6.023358e-05</td><td>7.256827e-05</td><td>7.906282e-05</td><td>7.854465e-05</td><td>7.167697e-05</td><td>7.860718e-05</td><td>8.606324e-05</td><td>...         </td><td>1.238579e-04</td><td>1.192868e-04</td><td>0.0001246347</td><td>1.214730e-04</td><td>1.148990e-04</td><td>1.029420e-04</td><td>8.920670e-05</td><td>7.138334e-05</td><td>5.295770e-05</td><td>0.5968816   </td></tr>\n",
       "\t<tr><td>PGDX16568P  </td><td>chr10_401   </td><td>0.000000e+00</td><td>0.000000e+00</td><td>0.000000e+00</td><td>5.920236e-06</td><td>1.073402e-05</td><td>1.705132e-05</td><td>3.557204e-05</td><td>5.040596e-05</td><td>...         </td><td>2.242108e-04</td><td>1.921067e-04</td><td>0.0001600517</td><td>1.301008e-04</td><td>1.037432e-04</td><td>8.040869e-05</td><td>7.337752e-05</td><td>8.314214e-05</td><td>8.566120e-05</td><td>0.2905764   </td></tr>\n",
       "\t<tr><td>PGDX16568P  </td><td>chr10_402   </td><td>2.723749e-05</td><td>3.321301e-05</td><td>3.548313e-05</td><td>3.321301e-05</td><td>2.723749e-05</td><td>2.636520e-05</td><td>3.143441e-05</td><td>4.547983e-05</td><td>...         </td><td>3.316005e-05</td><td>2.463956e-05</td><td>0.0000263652</td><td>4.082719e-05</td><td>7.144226e-05</td><td>9.926339e-05</td><td>1.268287e-04</td><td>1.481385e-04</td><td>1.569626e-04</td><td>0.2319729   </td></tr>\n",
       "\t<tr><td>PGDX16568P  </td><td>chr10_403   </td><td>3.026954e-05</td><td>3.233848e-05</td><td>3.026954e-05</td><td>2.482360e-05</td><td>1.783596e-05</td><td>1.122795e-05</td><td>1.857799e-05</td><td>2.245591e-05</td><td>...         </td><td>2.341484e-04</td><td>2.196942e-04</td><td>0.0002026050</td><td>1.707937e-04</td><td>1.339162e-04</td><td>9.654238e-05</td><td>6.627284e-05</td><td>4.648453e-05</td><td>3.525657e-05</td><td>0.2262170   </td></tr>\n",
       "</tbody>\n",
       "</table>\n"
      ],
      "text/latex": [
       "\\begin{tabular}{r|llllllllllllllllllllllllllllllllllllllllllllllllllllllllllllllllllllllllllllllllllllllllllllllllllllllllllllllllllllllllllllllllllllllllllllllllllllllllllllllllllllllllllllllllllllllllllllllllllllllllllllllllllllllllllllllllllllllllllllllllllllllllllllllllllllllllllllllllllllllllllllllllllllllllllllllllllllllllllllllllllll}\n",
       " sample & bin & X80 & X81 & X82 & X83 & X84 & X85 & X86 & X87 & ... & X392 & X393 & X394 & X395 & X396 & X397 & X398 & X399 & X400 & ATAC\\_observed\\\\\n",
       "\\hline\n",
       "\t PGDX16568P   & chr10\\_400  & 2.656112e-05 & 2.994814e-05 & 2.961085e-05 & 2.929903e-05 & 3.469718e-05 & 3.917019e-05 & 4.629696e-05 & 5.955899e-05 & ...          & 1.753154e-04 & 1.569416e-04 & 0.0001385816 & 1.166854e-04 & 9.841735e-05 & 8.478873e-05 & 7.355554e-05 & 6.464917e-05 & 7.007278e-05 & 0.5866651   \\\\\n",
       "\t PGDX16568P   & chr10\\_40   & 2.639605e-05 & 3.960356e-05 & 5.284513e-05 & 6.279401e-05 & 6.650374e-05 & 6.279401e-05 & 5.284513e-05 & 3.960356e-05 & ...          & 1.143096e-04 & 1.096515e-04 & 0.0001061073 & 1.087833e-04 & 1.047829e-04 & 9.925148e-05 & 8.919007e-05 & 7.883794e-05 & 7.639961e-05 & 0.1996134   \\\\\n",
       "\t PGDX16568P   & chr10\\_4    & 4.192713e-05 & 6.023358e-05 & 7.256827e-05 & 7.906282e-05 & 7.854465e-05 & 7.167697e-05 & 7.860718e-05 & 8.606324e-05 & ...          & 1.238579e-04 & 1.192868e-04 & 0.0001246347 & 1.214730e-04 & 1.148990e-04 & 1.029420e-04 & 8.920670e-05 & 7.138334e-05 & 5.295770e-05 & 0.5968816   \\\\\n",
       "\t PGDX16568P   & chr10\\_401  & 0.000000e+00 & 0.000000e+00 & 0.000000e+00 & 5.920236e-06 & 1.073402e-05 & 1.705132e-05 & 3.557204e-05 & 5.040596e-05 & ...          & 2.242108e-04 & 1.921067e-04 & 0.0001600517 & 1.301008e-04 & 1.037432e-04 & 8.040869e-05 & 7.337752e-05 & 8.314214e-05 & 8.566120e-05 & 0.2905764   \\\\\n",
       "\t PGDX16568P   & chr10\\_402  & 2.723749e-05 & 3.321301e-05 & 3.548313e-05 & 3.321301e-05 & 2.723749e-05 & 2.636520e-05 & 3.143441e-05 & 4.547983e-05 & ...          & 3.316005e-05 & 2.463956e-05 & 0.0000263652 & 4.082719e-05 & 7.144226e-05 & 9.926339e-05 & 1.268287e-04 & 1.481385e-04 & 1.569626e-04 & 0.2319729   \\\\\n",
       "\t PGDX16568P   & chr10\\_403  & 3.026954e-05 & 3.233848e-05 & 3.026954e-05 & 2.482360e-05 & 1.783596e-05 & 1.122795e-05 & 1.857799e-05 & 2.245591e-05 & ...          & 2.341484e-04 & 2.196942e-04 & 0.0002026050 & 1.707937e-04 & 1.339162e-04 & 9.654238e-05 & 6.627284e-05 & 4.648453e-05 & 3.525657e-05 & 0.2262170   \\\\\n",
       "\\end{tabular}\n"
      ],
      "text/markdown": [
       "\n",
       "| sample | bin | X80 | X81 | X82 | X83 | X84 | X85 | X86 | X87 | ... | X392 | X393 | X394 | X395 | X396 | X397 | X398 | X399 | X400 | ATAC_observed |\n",
       "|---|---|---|---|---|---|---|---|---|---|---|---|---|---|---|---|---|---|---|---|---|\n",
       "| PGDX16568P   | chr10_400    | 2.656112e-05 | 2.994814e-05 | 2.961085e-05 | 2.929903e-05 | 3.469718e-05 | 3.917019e-05 | 4.629696e-05 | 5.955899e-05 | ...          | 1.753154e-04 | 1.569416e-04 | 0.0001385816 | 1.166854e-04 | 9.841735e-05 | 8.478873e-05 | 7.355554e-05 | 6.464917e-05 | 7.007278e-05 | 0.5866651    |\n",
       "| PGDX16568P   | chr10_40     | 2.639605e-05 | 3.960356e-05 | 5.284513e-05 | 6.279401e-05 | 6.650374e-05 | 6.279401e-05 | 5.284513e-05 | 3.960356e-05 | ...          | 1.143096e-04 | 1.096515e-04 | 0.0001061073 | 1.087833e-04 | 1.047829e-04 | 9.925148e-05 | 8.919007e-05 | 7.883794e-05 | 7.639961e-05 | 0.1996134    |\n",
       "| PGDX16568P   | chr10_4      | 4.192713e-05 | 6.023358e-05 | 7.256827e-05 | 7.906282e-05 | 7.854465e-05 | 7.167697e-05 | 7.860718e-05 | 8.606324e-05 | ...          | 1.238579e-04 | 1.192868e-04 | 0.0001246347 | 1.214730e-04 | 1.148990e-04 | 1.029420e-04 | 8.920670e-05 | 7.138334e-05 | 5.295770e-05 | 0.5968816    |\n",
       "| PGDX16568P   | chr10_401    | 0.000000e+00 | 0.000000e+00 | 0.000000e+00 | 5.920236e-06 | 1.073402e-05 | 1.705132e-05 | 3.557204e-05 | 5.040596e-05 | ...          | 2.242108e-04 | 1.921067e-04 | 0.0001600517 | 1.301008e-04 | 1.037432e-04 | 8.040869e-05 | 7.337752e-05 | 8.314214e-05 | 8.566120e-05 | 0.2905764    |\n",
       "| PGDX16568P   | chr10_402    | 2.723749e-05 | 3.321301e-05 | 3.548313e-05 | 3.321301e-05 | 2.723749e-05 | 2.636520e-05 | 3.143441e-05 | 4.547983e-05 | ...          | 3.316005e-05 | 2.463956e-05 | 0.0000263652 | 4.082719e-05 | 7.144226e-05 | 9.926339e-05 | 1.268287e-04 | 1.481385e-04 | 1.569626e-04 | 0.2319729    |\n",
       "| PGDX16568P   | chr10_403    | 3.026954e-05 | 3.233848e-05 | 3.026954e-05 | 2.482360e-05 | 1.783596e-05 | 1.122795e-05 | 1.857799e-05 | 2.245591e-05 | ...          | 2.341484e-04 | 2.196942e-04 | 0.0002026050 | 1.707937e-04 | 1.339162e-04 | 9.654238e-05 | 6.627284e-05 | 4.648453e-05 | 3.525657e-05 | 0.2262170    |\n",
       "\n"
      ],
      "text/plain": [
       "  sample     bin       X80          X81          X82          X83         \n",
       "1 PGDX16568P chr10_400 2.656112e-05 2.994814e-05 2.961085e-05 2.929903e-05\n",
       "2 PGDX16568P chr10_40  2.639605e-05 3.960356e-05 5.284513e-05 6.279401e-05\n",
       "3 PGDX16568P chr10_4   4.192713e-05 6.023358e-05 7.256827e-05 7.906282e-05\n",
       "4 PGDX16568P chr10_401 0.000000e+00 0.000000e+00 0.000000e+00 5.920236e-06\n",
       "5 PGDX16568P chr10_402 2.723749e-05 3.321301e-05 3.548313e-05 3.321301e-05\n",
       "6 PGDX16568P chr10_403 3.026954e-05 3.233848e-05 3.026954e-05 2.482360e-05\n",
       "  X84          X85          X86          X87          ... X392        \n",
       "1 3.469718e-05 3.917019e-05 4.629696e-05 5.955899e-05 ... 1.753154e-04\n",
       "2 6.650374e-05 6.279401e-05 5.284513e-05 3.960356e-05 ... 1.143096e-04\n",
       "3 7.854465e-05 7.167697e-05 7.860718e-05 8.606324e-05 ... 1.238579e-04\n",
       "4 1.073402e-05 1.705132e-05 3.557204e-05 5.040596e-05 ... 2.242108e-04\n",
       "5 2.723749e-05 2.636520e-05 3.143441e-05 4.547983e-05 ... 3.316005e-05\n",
       "6 1.783596e-05 1.122795e-05 1.857799e-05 2.245591e-05 ... 2.341484e-04\n",
       "  X393         X394         X395         X396         X397         X398        \n",
       "1 1.569416e-04 0.0001385816 1.166854e-04 9.841735e-05 8.478873e-05 7.355554e-05\n",
       "2 1.096515e-04 0.0001061073 1.087833e-04 1.047829e-04 9.925148e-05 8.919007e-05\n",
       "3 1.192868e-04 0.0001246347 1.214730e-04 1.148990e-04 1.029420e-04 8.920670e-05\n",
       "4 1.921067e-04 0.0001600517 1.301008e-04 1.037432e-04 8.040869e-05 7.337752e-05\n",
       "5 2.463956e-05 0.0000263652 4.082719e-05 7.144226e-05 9.926339e-05 1.268287e-04\n",
       "6 2.196942e-04 0.0002026050 1.707937e-04 1.339162e-04 9.654238e-05 6.627284e-05\n",
       "  X399         X400         ATAC_observed\n",
       "1 6.464917e-05 7.007278e-05 0.5866651    \n",
       "2 7.883794e-05 7.639961e-05 0.1996134    \n",
       "3 7.138334e-05 5.295770e-05 0.5968816    \n",
       "4 8.314214e-05 8.566120e-05 0.2905764    \n",
       "5 1.481385e-04 1.569626e-04 0.2319729    \n",
       "6 4.648453e-05 3.525657e-05 0.2262170    "
      ]
     },
     "metadata": {},
     "output_type": "display_data"
    }
   ],
   "source": [
    "#ATAC <- read.table(\"../../../data/ATACseq_250kb_bins.txt\", header = FALSE)\n",
    "ATAC <- read.table(snakemake@input[[\"input_atac\"]], header = FALSE)\n",
    "colnames(ATAC) <- c(\"bin\", \"ATAC_observed\")\n",
    "\n",
    "ATAC$ATAC_observed <- as.character(ATAC$ATAC_observed)\n",
    "ATAC$ATAC_observed <- as.numeric(ATAC$ATAC_observed)\n",
    "ATAC$bin <- as.character(ATAC$bin)\n",
    "\n",
    "all_samples_gaussian_trimmed_controls <- inner_join(all_samples_gaussian_trimmed_controls, ATAC, by=\"bin\")\n",
    "\n",
    "head(all_samples_gaussian_trimmed_controls)"
   ]
  },
  {
   "cell_type": "code",
   "execution_count": 5,
   "id": "9bd8245c-aea6-4dd4-a7f3-a000b02d4c80",
   "metadata": {},
   "outputs": [
    {
     "data": {
      "text/html": [
       "<table>\n",
       "<thead><tr><th scope=col>X80</th><th scope=col>X81</th><th scope=col>X82</th><th scope=col>X83</th><th scope=col>X84</th><th scope=col>X85</th><th scope=col>X86</th><th scope=col>X87</th><th scope=col>X88</th><th scope=col>X89</th><th scope=col>...</th><th scope=col>X391</th><th scope=col>X392</th><th scope=col>X393</th><th scope=col>X394</th><th scope=col>X395</th><th scope=col>X396</th><th scope=col>X397</th><th scope=col>X398</th><th scope=col>X399</th><th scope=col>X400</th></tr></thead>\n",
       "<tbody>\n",
       "\t<tr><td>2.656112e-05</td><td>2.994814e-05</td><td>2.961085e-05</td><td>2.929903e-05</td><td>3.469718e-05</td><td>3.917019e-05</td><td>4.629696e-05</td><td>5.955899e-05</td><td>6.912218e-05</td><td>9.150794e-05</td><td>...         </td><td>1.797668e-04</td><td>1.753154e-04</td><td>1.569416e-04</td><td>0.0001385816</td><td>1.166854e-04</td><td>9.841735e-05</td><td>8.478873e-05</td><td>7.355554e-05</td><td>6.464917e-05</td><td>7.007278e-05</td></tr>\n",
       "\t<tr><td>2.639605e-05</td><td>3.960356e-05</td><td>5.284513e-05</td><td>6.279401e-05</td><td>6.650374e-05</td><td>6.279401e-05</td><td>5.284513e-05</td><td>3.960356e-05</td><td>2.639605e-05</td><td>1.233419e-05</td><td>...         </td><td>1.239199e-04</td><td>1.143096e-04</td><td>1.096515e-04</td><td>0.0001061073</td><td>1.087833e-04</td><td>1.047829e-04</td><td>9.925148e-05</td><td>8.919007e-05</td><td>7.883794e-05</td><td>7.639961e-05</td></tr>\n",
       "\t<tr><td>4.192713e-05</td><td>6.023358e-05</td><td>7.256827e-05</td><td>7.906282e-05</td><td>7.854465e-05</td><td>7.167697e-05</td><td>7.860718e-05</td><td>8.606324e-05</td><td>1.001944e-04</td><td>1.253732e-04</td><td>...         </td><td>1.251224e-04</td><td>1.238579e-04</td><td>1.192868e-04</td><td>0.0001246347</td><td>1.214730e-04</td><td>1.148990e-04</td><td>1.029420e-04</td><td>8.920670e-05</td><td>7.138334e-05</td><td>5.295770e-05</td></tr>\n",
       "\t<tr><td>0.000000e+00</td><td>0.000000e+00</td><td>0.000000e+00</td><td>5.920236e-06</td><td>1.073402e-05</td><td>1.705132e-05</td><td>3.557204e-05</td><td>5.040596e-05</td><td>7.685896e-05</td><td>9.786910e-05</td><td>...         </td><td>2.383188e-04</td><td>2.242108e-04</td><td>1.921067e-04</td><td>0.0001600517</td><td>1.301008e-04</td><td>1.037432e-04</td><td>8.040869e-05</td><td>7.337752e-05</td><td>8.314214e-05</td><td>8.566120e-05</td></tr>\n",
       "\t<tr><td>2.723749e-05</td><td>3.321301e-05</td><td>3.548313e-05</td><td>3.321301e-05</td><td>2.723749e-05</td><td>2.636520e-05</td><td>3.143441e-05</td><td>4.547983e-05</td><td>6.592248e-05</td><td>9.234063e-05</td><td>...         </td><td>3.955727e-05</td><td>3.316005e-05</td><td>2.463956e-05</td><td>0.0000263652</td><td>4.082719e-05</td><td>7.144226e-05</td><td>9.926339e-05</td><td>1.268287e-04</td><td>1.481385e-04</td><td>1.569626e-04</td></tr>\n",
       "\t<tr><td>3.026954e-05</td><td>3.233848e-05</td><td>3.026954e-05</td><td>2.482360e-05</td><td>1.783596e-05</td><td>1.122795e-05</td><td>1.857799e-05</td><td>2.245591e-05</td><td>4.186458e-05</td><td>6.706782e-05</td><td>...         </td><td>2.366995e-04</td><td>2.341484e-04</td><td>2.196942e-04</td><td>0.0002026050</td><td>1.707937e-04</td><td>1.339162e-04</td><td>9.654238e-05</td><td>6.627284e-05</td><td>4.648453e-05</td><td>3.525657e-05</td></tr>\n",
       "</tbody>\n",
       "</table>\n"
      ],
      "text/latex": [
       "\\begin{tabular}{r|lllllllllllllllllllllllllllllllllllllllllllllllllllllllllllllllllllllllllllllllllllllllllllllllllllllllllllllllllllllllllllllllllllllllllllllllllllllllllllllllllllllllllllllllllllllllllllllllllllllllllllllllllllllllllllllllllllllllllllllllllllllllllllllllllllllllllllllllllllllllllllllllllllllllllllllllllllllllllllllllll}\n",
       " X80 & X81 & X82 & X83 & X84 & X85 & X86 & X87 & X88 & X89 & ... & X391 & X392 & X393 & X394 & X395 & X396 & X397 & X398 & X399 & X400\\\\\n",
       "\\hline\n",
       "\t 2.656112e-05 & 2.994814e-05 & 2.961085e-05 & 2.929903e-05 & 3.469718e-05 & 3.917019e-05 & 4.629696e-05 & 5.955899e-05 & 6.912218e-05 & 9.150794e-05 & ...          & 1.797668e-04 & 1.753154e-04 & 1.569416e-04 & 0.0001385816 & 1.166854e-04 & 9.841735e-05 & 8.478873e-05 & 7.355554e-05 & 6.464917e-05 & 7.007278e-05\\\\\n",
       "\t 2.639605e-05 & 3.960356e-05 & 5.284513e-05 & 6.279401e-05 & 6.650374e-05 & 6.279401e-05 & 5.284513e-05 & 3.960356e-05 & 2.639605e-05 & 1.233419e-05 & ...          & 1.239199e-04 & 1.143096e-04 & 1.096515e-04 & 0.0001061073 & 1.087833e-04 & 1.047829e-04 & 9.925148e-05 & 8.919007e-05 & 7.883794e-05 & 7.639961e-05\\\\\n",
       "\t 4.192713e-05 & 6.023358e-05 & 7.256827e-05 & 7.906282e-05 & 7.854465e-05 & 7.167697e-05 & 7.860718e-05 & 8.606324e-05 & 1.001944e-04 & 1.253732e-04 & ...          & 1.251224e-04 & 1.238579e-04 & 1.192868e-04 & 0.0001246347 & 1.214730e-04 & 1.148990e-04 & 1.029420e-04 & 8.920670e-05 & 7.138334e-05 & 5.295770e-05\\\\\n",
       "\t 0.000000e+00 & 0.000000e+00 & 0.000000e+00 & 5.920236e-06 & 1.073402e-05 & 1.705132e-05 & 3.557204e-05 & 5.040596e-05 & 7.685896e-05 & 9.786910e-05 & ...          & 2.383188e-04 & 2.242108e-04 & 1.921067e-04 & 0.0001600517 & 1.301008e-04 & 1.037432e-04 & 8.040869e-05 & 7.337752e-05 & 8.314214e-05 & 8.566120e-05\\\\\n",
       "\t 2.723749e-05 & 3.321301e-05 & 3.548313e-05 & 3.321301e-05 & 2.723749e-05 & 2.636520e-05 & 3.143441e-05 & 4.547983e-05 & 6.592248e-05 & 9.234063e-05 & ...          & 3.955727e-05 & 3.316005e-05 & 2.463956e-05 & 0.0000263652 & 4.082719e-05 & 7.144226e-05 & 9.926339e-05 & 1.268287e-04 & 1.481385e-04 & 1.569626e-04\\\\\n",
       "\t 3.026954e-05 & 3.233848e-05 & 3.026954e-05 & 2.482360e-05 & 1.783596e-05 & 1.122795e-05 & 1.857799e-05 & 2.245591e-05 & 4.186458e-05 & 6.706782e-05 & ...          & 2.366995e-04 & 2.341484e-04 & 2.196942e-04 & 0.0002026050 & 1.707937e-04 & 1.339162e-04 & 9.654238e-05 & 6.627284e-05 & 4.648453e-05 & 3.525657e-05\\\\\n",
       "\\end{tabular}\n"
      ],
      "text/markdown": [
       "\n",
       "| X80 | X81 | X82 | X83 | X84 | X85 | X86 | X87 | X88 | X89 | ... | X391 | X392 | X393 | X394 | X395 | X396 | X397 | X398 | X399 | X400 |\n",
       "|---|---|---|---|---|---|---|---|---|---|---|---|---|---|---|---|---|---|---|---|---|\n",
       "| 2.656112e-05 | 2.994814e-05 | 2.961085e-05 | 2.929903e-05 | 3.469718e-05 | 3.917019e-05 | 4.629696e-05 | 5.955899e-05 | 6.912218e-05 | 9.150794e-05 | ...          | 1.797668e-04 | 1.753154e-04 | 1.569416e-04 | 0.0001385816 | 1.166854e-04 | 9.841735e-05 | 8.478873e-05 | 7.355554e-05 | 6.464917e-05 | 7.007278e-05 |\n",
       "| 2.639605e-05 | 3.960356e-05 | 5.284513e-05 | 6.279401e-05 | 6.650374e-05 | 6.279401e-05 | 5.284513e-05 | 3.960356e-05 | 2.639605e-05 | 1.233419e-05 | ...          | 1.239199e-04 | 1.143096e-04 | 1.096515e-04 | 0.0001061073 | 1.087833e-04 | 1.047829e-04 | 9.925148e-05 | 8.919007e-05 | 7.883794e-05 | 7.639961e-05 |\n",
       "| 4.192713e-05 | 6.023358e-05 | 7.256827e-05 | 7.906282e-05 | 7.854465e-05 | 7.167697e-05 | 7.860718e-05 | 8.606324e-05 | 1.001944e-04 | 1.253732e-04 | ...          | 1.251224e-04 | 1.238579e-04 | 1.192868e-04 | 0.0001246347 | 1.214730e-04 | 1.148990e-04 | 1.029420e-04 | 8.920670e-05 | 7.138334e-05 | 5.295770e-05 |\n",
       "| 0.000000e+00 | 0.000000e+00 | 0.000000e+00 | 5.920236e-06 | 1.073402e-05 | 1.705132e-05 | 3.557204e-05 | 5.040596e-05 | 7.685896e-05 | 9.786910e-05 | ...          | 2.383188e-04 | 2.242108e-04 | 1.921067e-04 | 0.0001600517 | 1.301008e-04 | 1.037432e-04 | 8.040869e-05 | 7.337752e-05 | 8.314214e-05 | 8.566120e-05 |\n",
       "| 2.723749e-05 | 3.321301e-05 | 3.548313e-05 | 3.321301e-05 | 2.723749e-05 | 2.636520e-05 | 3.143441e-05 | 4.547983e-05 | 6.592248e-05 | 9.234063e-05 | ...          | 3.955727e-05 | 3.316005e-05 | 2.463956e-05 | 0.0000263652 | 4.082719e-05 | 7.144226e-05 | 9.926339e-05 | 1.268287e-04 | 1.481385e-04 | 1.569626e-04 |\n",
       "| 3.026954e-05 | 3.233848e-05 | 3.026954e-05 | 2.482360e-05 | 1.783596e-05 | 1.122795e-05 | 1.857799e-05 | 2.245591e-05 | 4.186458e-05 | 6.706782e-05 | ...          | 2.366995e-04 | 2.341484e-04 | 2.196942e-04 | 0.0002026050 | 1.707937e-04 | 1.339162e-04 | 9.654238e-05 | 6.627284e-05 | 4.648453e-05 | 3.525657e-05 |\n",
       "\n"
      ],
      "text/plain": [
       "  X80          X81          X82          X83          X84          X85         \n",
       "1 2.656112e-05 2.994814e-05 2.961085e-05 2.929903e-05 3.469718e-05 3.917019e-05\n",
       "2 2.639605e-05 3.960356e-05 5.284513e-05 6.279401e-05 6.650374e-05 6.279401e-05\n",
       "3 4.192713e-05 6.023358e-05 7.256827e-05 7.906282e-05 7.854465e-05 7.167697e-05\n",
       "4 0.000000e+00 0.000000e+00 0.000000e+00 5.920236e-06 1.073402e-05 1.705132e-05\n",
       "5 2.723749e-05 3.321301e-05 3.548313e-05 3.321301e-05 2.723749e-05 2.636520e-05\n",
       "6 3.026954e-05 3.233848e-05 3.026954e-05 2.482360e-05 1.783596e-05 1.122795e-05\n",
       "  X86          X87          X88          X89          ... X391        \n",
       "1 4.629696e-05 5.955899e-05 6.912218e-05 9.150794e-05 ... 1.797668e-04\n",
       "2 5.284513e-05 3.960356e-05 2.639605e-05 1.233419e-05 ... 1.239199e-04\n",
       "3 7.860718e-05 8.606324e-05 1.001944e-04 1.253732e-04 ... 1.251224e-04\n",
       "4 3.557204e-05 5.040596e-05 7.685896e-05 9.786910e-05 ... 2.383188e-04\n",
       "5 3.143441e-05 4.547983e-05 6.592248e-05 9.234063e-05 ... 3.955727e-05\n",
       "6 1.857799e-05 2.245591e-05 4.186458e-05 6.706782e-05 ... 2.366995e-04\n",
       "  X392         X393         X394         X395         X396         X397        \n",
       "1 1.753154e-04 1.569416e-04 0.0001385816 1.166854e-04 9.841735e-05 8.478873e-05\n",
       "2 1.143096e-04 1.096515e-04 0.0001061073 1.087833e-04 1.047829e-04 9.925148e-05\n",
       "3 1.238579e-04 1.192868e-04 0.0001246347 1.214730e-04 1.148990e-04 1.029420e-04\n",
       "4 2.242108e-04 1.921067e-04 0.0001600517 1.301008e-04 1.037432e-04 8.040869e-05\n",
       "5 3.316005e-05 2.463956e-05 0.0000263652 4.082719e-05 7.144226e-05 9.926339e-05\n",
       "6 2.341484e-04 2.196942e-04 0.0002026050 1.707937e-04 1.339162e-04 9.654238e-05\n",
       "  X398         X399         X400        \n",
       "1 7.355554e-05 6.464917e-05 7.007278e-05\n",
       "2 8.919007e-05 7.883794e-05 7.639961e-05\n",
       "3 8.920670e-05 7.138334e-05 5.295770e-05\n",
       "4 7.337752e-05 8.314214e-05 8.566120e-05\n",
       "5 1.268287e-04 1.481385e-04 1.569626e-04\n",
       "6 6.627284e-05 4.648453e-05 3.525657e-05"
      ]
     },
     "metadata": {},
     "output_type": "display_data"
    }
   ],
   "source": [
    "ATAC_val <- all_samples_gaussian_trimmed_controls %>% select(ATAC_observed)\n",
    "controls_predictions <- all_samples_gaussian_trimmed_controls %>% select(sample, bin)\n",
    "all_samples_gaussian_trimmed_controls = all_samples_gaussian_trimmed_controls %>% select(-c(ATAC_observed, sample, bin))\n",
    "\n",
    "head(all_samples_gaussian_trimmed_controls)"
   ]
  },
  {
   "cell_type": "markdown",
   "id": "4c8db7a0-11af-4742-8f97-3740df831e48",
   "metadata": {},
   "source": [
    "## Finding the best lambda"
   ]
  },
  {
   "cell_type": "code",
   "execution_count": null,
   "id": "a3abb3b4-aac8-445b-9041-22b79680f141",
   "metadata": {},
   "outputs": [],
   "source": [
    "get_cvm <- function(model) {\n",
    "   index <- match(model$lambda.min, model$lambda)\n",
    "  model$cvm[index]\n",
    "}"
   ]
  },
  {
   "cell_type": "code",
   "execution_count": 6,
   "id": "43f356c1-367c-4a08-8ac5-9686bf1030d4",
   "metadata": {},
   "outputs": [
    {
     "name": "stderr",
     "output_type": "stream",
     "text": [
      "Warning message in regularize.values(x, y, ties, missing(ties)):\n",
      "“collapsing to unique 'x' values”Warning message in regularize.values(x, y, ties, missing(ties)):\n",
      "“collapsing to unique 'x' values”Warning message in regularize.values(x, y, ties, missing(ties)):\n",
      "“collapsing to unique 'x' values”Warning message in regularize.values(x, y, ties, missing(ties)):\n",
      "“collapsing to unique 'x' values”Warning message in regularize.values(x, y, ties, missing(ties)):\n",
      "“collapsing to unique 'x' values”Warning message in regularize.values(x, y, ties, missing(ties)):\n",
      "“collapsing to unique 'x' values”Warning message in regularize.values(x, y, ties, missing(ties)):\n",
      "“collapsing to unique 'x' values”Warning message in regularize.values(x, y, ties, missing(ties)):\n",
      "“collapsing to unique 'x' values”Warning message in regularize.values(x, y, ties, missing(ties)):\n",
      "“collapsing to unique 'x' values”Warning message in regularize.values(x, y, ties, missing(ties)):\n",
      "“collapsing to unique 'x' values”"
     ]
    },
    {
     "data": {
      "image/png": "[encoded data removed]",
      "text/plain": [
       "plot without title"
      ]
     },
     "metadata": {},
     "output_type": "display_data"
    }
   ],
   "source": [
    "set.seed(0)\n",
    "#X==predictor\n",
    "#y==response\n",
    "\n",
    "y <- ATAC_val %>% as.matrix()\n",
    "X <- all_samples_gaussian_trimmed_controls %>% as.matrix()\n",
    "\n",
    "######### finding the best alpha #########\n",
    "set.seed(0)\n",
    "lasso_cva <- cva.glmnet(X, y, nfolds = 10)\n",
    "enet_performance <- data.frame(alpha = lasso_cva$alpha)\n",
    "models <- lasso_cva$modlist\n",
    "enet_performance$cvm <- vapply(models, get_cvm, numeric(1))\n",
    "\n",
    "minix <- which.min(enet_performance$cvm)\n",
    "best_alpha <- lasso_cva$alpha[minix]\n",
    "###########################################\n",
    "\n",
    "######### finding the best lambda #########\n",
    "set.seed(0)\n",
    "lasso_cv <- cv.glmnet(X, y, alpha = best_alpha,\n",
    "                      standardize = TRUE, nfolds = 10)\n",
    "\n",
    "plot(lasso_cv)\n",
    "###########################################"
   ]
  },
  {
   "cell_type": "code",
   "execution_count": 7,
   "id": "7e099a3a-a509-4152-aa34-1031dcfbaf9f",
   "metadata": {},
   "outputs": [
    {
     "data": {
      "text/html": [
       "8.11130830789689e-06"
      ],
      "text/latex": [
       "8.11130830789689e-06"
      ],
      "text/markdown": [
       "8.11130830789689e-06"
      ],
      "text/plain": [
       "[1] 8.111308e-06"
      ]
     },
     "metadata": {},
     "output_type": "display_data"
    }
   ],
   "source": [
    "(lambda_cv <- lasso_cv$lambda.min)"
   ]
  },
  {
   "cell_type": "markdown",
   "id": "7700f4a6-4293-4ee8-af29-575a6c8f8e61",
   "metadata": {},
   "source": [
    "## Fit the model on all controls"
   ]
  },
  {
   "cell_type": "code",
   "execution_count": 10,
   "id": "66a790f2-ef42-4e37-ae07-1ee7b33de7a0",
   "metadata": {},
   "outputs": [],
   "source": [
    "y <- ATAC_val %>% as.matrix()\n",
    "X <- all_samples_gaussian_trimmed_controls %>% as.matrix()\n",
    "\n",
    "fit       <- glmnet(X, y, alpha = best_alpha, lambda = lambda_cv, standardize = TRUE)\n",
    "# saving the model\n",
    "saveRDS(fit, snakemake@output[[\"output_model\"]])\n"
   ]
  },
  {
   "cell_type": "markdown",
   "id": "119c1e61-bd60-42b2-9d61-584ea9fab270",
   "metadata": {},
   "source": [
    "## Predict on 20% normalized, smoothed and trimmed controls using the model (fitted on train controls) and save the predictions to the file"
   ]
  },
  {
   "cell_type": "code",
   "execution_count": 11,
   "id": "c51d2c58-9296-4a74-91c5-f0f619052ba5",
   "metadata": {},
   "outputs": [],
   "source": [
    "#filename = \"../../../data/all_samples_normalized_gaussian_smooth_trimmed_CASES.csv\"\n",
    "#filename = snakemake@input[[\"input_test_data_trim\"]]\n",
    "\n",
    "test_data = readRDS(snakemake@input[[\"input_test_data_trim\"]])"
   ]
  },
  {
   "cell_type": "code",
   "execution_count": null,
   "id": "ed92882d-e041-40df-b9bf-dfeae3654fb4",
   "metadata": {},
   "outputs": [],
   "source": [
    "head(test_data)"
   ]
  },
  {
   "cell_type": "code",
   "execution_count": null,
   "id": "7cd32a3d-367a-46c3-a87f-72fa5461b815",
   "metadata": {},
   "outputs": [],
   "source": [
    "test_data_samples_bin_rm <- test_data %>% select(-c(\"sample\", \"bin\")) %>% as.matrix()\n",
    "tmp <- as.vector(predict(fit, s=lambda_cv, test_data_samples_bin_rm))"
   ]
  },
  {
   "cell_type": "code",
   "execution_count": null,
   "id": "e12ba691-08df-4e8c-a91e-107e2ff3554c",
   "metadata": {},
   "outputs": [],
   "source": [
    "pred_tibble <- tibble(sample = test_data$sample, bin = test_data$bin)\n",
    "pred_tibble <- inner_join(pred_tibble, ATAC, by=\"bin\")\n",
    "pred_tibble <- pred_tibble %>% mutate(ATAC_predicted = tmp)"
   ]
  },
  {
   "cell_type": "code",
   "execution_count": null,
   "id": "e1a84665-3665-47be-ac7e-dd0d8f03b6d5",
   "metadata": {},
   "outputs": [],
   "source": [
    "ggplot(pred_tibble, aes(x = ATAC_observed, y = ATAC_predicted)) + \n",
    "    geom_point(size = 0.5) + \n",
    "    geom_smooth(method = \"lm\", formula = y~x)"
   ]
  },
  {
   "cell_type": "code",
   "execution_count": null,
   "id": "f91b94c4-5675-4f87-ae3e-be49c0165eb6",
   "metadata": {},
   "outputs": [],
   "source": [
    "cor(pred_tibble$ATAC_observed, pred_tibble$ATAC_predicted)"
   ]
  },
  {
   "cell_type": "code",
   "execution_count": null,
   "id": "fc91b33a-af55-47be-a6df-aec86aa33fd1",
   "metadata": {},
   "outputs": [],
   "source": [
    "ae    <- abs(pred_tibble$ATAC_observed - pred_tibble$ATAC_predicted)\n",
    "(mae   <- mean(ae))"
   ]
  },
  {
   "cell_type": "code",
   "execution_count": null,
   "id": "2189b3c2-9a1c-41df-a4bc-6c7b4909f88f",
   "metadata": {},
   "outputs": [],
   "source": [
    "se    <- (pred_tibble$ATAC_observed - pred_tibble$ATAC_predicted)^2\n",
    "mse   <- mean(se)\n",
    "(rmse <- sqrt(mse))"
   ]
  },
  {
   "cell_type": "code",
   "execution_count": null,
   "id": "cf1996e3-3712-4236-acb8-e957d5bccbf1",
   "metadata": {},
   "outputs": [],
   "source": [
    "saveRDS(pred_tibble, file = snakemake@output[[\"output_pred\"]])"
   ]
  }
 ],
 "metadata": {
  "kernelspec": {
   "display_name": "R",
   "language": "R",
   "name": "ir"
  },
  "language_info": {
   "codemirror_mode": "r",
   "file_extension": ".r",
   "mimetype": "text/x-r-source",
   "name": "R",
   "pygments_lexer": "r",
   "version": "3.6.1"
  }
 },
 "nbformat": 4,
 "nbformat_minor": 5
}
