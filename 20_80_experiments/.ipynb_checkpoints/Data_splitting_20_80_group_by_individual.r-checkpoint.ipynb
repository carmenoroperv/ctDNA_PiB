{
 "cells": [
  {
   "cell_type": "code",
   "execution_count": null,
   "id": "def54471-7559-4285-bdd5-a919578fbef8",
   "metadata": {},
   "outputs": [],
   "source": [
    "library(tidyverse)"
   ]
  },
  {
   "cell_type": "code",
   "execution_count": null,
   "id": "03ca9aa9-dea6-439f-8134-f5874aee561b",
   "metadata": {},
   "outputs": [],
   "source": [
    "INPUT_std_LASSO_TRAIN_DATA = readRDS(snakemake@input[[\"input_data\"]])"
   ]
  },
  {
   "cell_type": "code",
   "execution_count": null,
   "id": "3d99e560-a93a-413b-aa87-b3219da80ccf",
   "metadata": {},
   "outputs": [],
   "source": [
    "head(INPUT_std_LASSO_TRAIN_DATA)"
   ]
  },
  {
   "cell_type": "code",
   "execution_count": null,
   "id": "12784d9c-af30-48e3-affd-ff21e87d93aa",
   "metadata": {},
   "outputs": [],
   "source": [
    "INPUT_std_LASSO_TRAIN_DATA %>%             \n",
    "  summarise(Unique_Elements = n_distinct(sample))\n",
    "\n",
    "ind_list = INPUT_std_LASSO_TRAIN_DATA %>% distinct(sample)\n",
    "ind_list = ind_list$sample\n",
    "length(ind_list)\n",
    "\n",
    "\n",
    "set.seed(0)\n",
    "training <- sample(ind_list, 194, replace = FALSE)\n",
    "\n",
    "std_LASSO_train_20 <- INPUT_std_LASSO_TRAIN_DATA %>% filter(!sample %in% training)\n",
    "std_LASSO_test_80 <- INPUT_std_LASSO_TRAIN_DATA %>% filter(sample %in% training)\n",
    "\n",
    "dim(INPUT_std_LASSO_TRAIN_DATA)\n",
    "dim(std_LASSO_train_20)\n",
    "dim(std_LASSO_test_80)"
   ]
  },
  {
   "cell_type": "code",
   "execution_count": null,
   "id": "a7e9597e-1698-4ada-a915-15479d692e88",
   "metadata": {},
   "outputs": [],
   "source": [
    "saveRDS(std_LASSO_test_80, file = snakemake@output[[\"output_data_80\"]])\n",
    "saveRDS(std_LASSO_train_20, file = snakemake@output[[\"output_data_20\"]])"
   ]
  }
 ],
 "metadata": {
  "kernelspec": {
   "display_name": "R",
   "language": "R",
   "name": "ir"
  },
  "language_info": {
   "codemirror_mode": "r",
   "file_extension": ".r",
   "mimetype": "text/x-r-source",
   "name": "R",
   "pygments_lexer": "r",
   "version": "3.6.1"
  }
 },
 "nbformat": 4,
 "nbformat_minor": 5
}
