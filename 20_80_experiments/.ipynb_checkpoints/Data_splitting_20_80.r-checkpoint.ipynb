{
 "cells": [
  {
   "cell_type": "code",
   "execution_count": 1,
   "id": "6d7ded6c-7ecc-4493-9849-0b6553816acd",
   "metadata": {},
   "outputs": [
    {
     "name": "stderr",
     "output_type": "stream",
     "text": [
      "Registered S3 methods overwritten by 'ggplot2':\n",
      "  method         from \n",
      "  [.quosures     rlang\n",
      "  c.quosures     rlang\n",
      "  print.quosures rlang\n",
      "Registered S3 method overwritten by 'rvest':\n",
      "  method            from\n",
      "  read_xml.response xml2\n",
      "── Attaching packages ─────────────────────────────────────── tidyverse 1.2.1 ──\n",
      "✔ ggplot2 3.1.1     ✔ purrr   0.3.2\n",
      "✔ tibble  3.1.4     ✔ dplyr   1.0.7\n",
      "✔ tidyr   1.1.3     ✔ stringr 1.4.0\n",
      "✔ readr   1.3.1     ✔ forcats 0.4.0\n",
      "── Conflicts ────────────────────────────────────────── tidyverse_conflicts() ──\n",
      "✖ dplyr::filter() masks stats::filter()\n",
      "✖ dplyr::lag()    masks stats::lag()\n"
     ]
    }
   ],
   "source": [
    "library(tidyverse)"
   ]
  },
  {
   "cell_type": "code",
   "execution_count": 3,
   "id": "977dddfd-a98d-4462-9b14-279fe2695e48",
   "metadata": {},
   "outputs": [],
   "source": [
    "#INPUT_std_LASSO_TRAIN_DATA = readRDS(snakemake@input[[\"input_std_LASSO_TRAIN_DATA\"]])\n",
    " \n",
    "#INPUT_smooth_LASSO_TRAIN_DATA = readRDS(snakemake@input[[\"input_smooth_LASSO_TRAIN_DATA\"]])\n",
    "\n",
    "#INPUT_trim_LASSO_TRAIN_DATA = readRDS(snakemake@input[[\"input_trim_LASSO_TRAIN_DATA\"]])\n",
    "\n",
    "INPUT_smooth_LASSO_TRAIN_DATA = readRDS(\"../data/cases_controls/cases_controls_rds_format/all_samples_normalized_CONTROLS.rds\")"
   ]
  },
  {
   "cell_type": "code",
   "execution_count": 5,
   "id": "c247df84-f5c5-481b-a88d-8fa6f33010f5",
   "metadata": {},
   "outputs": [
    {
     "data": {
      "text/html": [
       "<table>\n",
       "<thead><tr><th scope=col>sample</th><th scope=col>bin</th><th scope=col>X30</th><th scope=col>X31</th><th scope=col>X32</th><th scope=col>X33</th><th scope=col>X34</th><th scope=col>X35</th><th scope=col>X36</th><th scope=col>X37</th><th scope=col>...</th><th scope=col>X691</th><th scope=col>X692</th><th scope=col>X693</th><th scope=col>X694</th><th scope=col>X695</th><th scope=col>X696</th><th scope=col>X697</th><th scope=col>X698</th><th scope=col>X699</th><th scope=col>X700</th></tr></thead>\n",
       "<tbody>\n",
       "\t<tr><td>PGDX16568P</td><td>chr10_400 </td><td>0         </td><td>0         </td><td>0         </td><td>0         </td><td>0         </td><td>0         </td><td>0         </td><td>0         </td><td>...       </td><td>0         </td><td>0         </td><td>0         </td><td>0         </td><td>0         </td><td>0         </td><td>0         </td><td>0         </td><td>0         </td><td>0         </td></tr>\n",
       "\t<tr><td>PGDX16568P</td><td>chr10_40  </td><td>0         </td><td>0         </td><td>0         </td><td>0         </td><td>0         </td><td>0         </td><td>0         </td><td>0         </td><td>...       </td><td>0         </td><td>0         </td><td>0         </td><td>0         </td><td>0         </td><td>0         </td><td>0         </td><td>0         </td><td>0         </td><td>0         </td></tr>\n",
       "\t<tr><td>PGDX16568P</td><td>chr10_4   </td><td>0         </td><td>0         </td><td>0         </td><td>0         </td><td>0         </td><td>0         </td><td>0         </td><td>0         </td><td>...       </td><td>0         </td><td>0         </td><td>0         </td><td>0         </td><td>0         </td><td>0         </td><td>0         </td><td>0         </td><td>0         </td><td>0         </td></tr>\n",
       "\t<tr><td>PGDX16568P</td><td>chr10_401 </td><td>0         </td><td>0         </td><td>0         </td><td>0         </td><td>0         </td><td>0         </td><td>0         </td><td>0         </td><td>...       </td><td>0         </td><td>0         </td><td>0         </td><td>0         </td><td>0         </td><td>0         </td><td>0         </td><td>0         </td><td>0         </td><td>0         </td></tr>\n",
       "\t<tr><td>PGDX16568P</td><td>chr10_402 </td><td>0         </td><td>0         </td><td>0         </td><td>0         </td><td>0         </td><td>0         </td><td>0         </td><td>0         </td><td>...       </td><td>0         </td><td>0         </td><td>0         </td><td>0         </td><td>0         </td><td>0         </td><td>0         </td><td>0         </td><td>0         </td><td>0         </td></tr>\n",
       "\t<tr><td>PGDX16568P</td><td>chr10_403 </td><td>0         </td><td>0         </td><td>0         </td><td>0         </td><td>0         </td><td>0         </td><td>0         </td><td>0         </td><td>...       </td><td>0         </td><td>0         </td><td>0         </td><td>0         </td><td>0         </td><td>0         </td><td>0         </td><td>0         </td><td>0         </td><td>0         </td></tr>\n",
       "</tbody>\n",
       "</table>\n"
      ],
      "text/latex": [
       "\\begin{tabular}{r|lllllllllllllllllllllllllllllllllllllllllllllllllllllllllllllllllllllllllllllllllllllllllllllllllllllllllllllllllllllllllllllllllllllllllllllllllllllllllllllllllllllllllllllllllllllllllllllllllllllllllllllllllllllllllllllllllllllllllllllllllllllllllllllllllllllllllllllllllllllllllllllllllllllllllllllllllllllllllllllllllllllllllllllllllllllllllllllllllllllllllllllllllllllllllllllllllllllllllllllllllllllllllllllllllllllllllllllllllllllllllllllllllllllllllllllllllllllllllllllllllllllllllllllllllllllllllllllllllllllllllllllllllllllllllllllllllllllllllllllllllllllllllllllllllllllllllllllllllllllllllllllllllllllllllllllllllllllllllllllllllllllllllllllllllllllllllllllllll}\n",
       " sample & bin & X30 & X31 & X32 & X33 & X34 & X35 & X36 & X37 & ... & X691 & X692 & X693 & X694 & X695 & X696 & X697 & X698 & X699 & X700\\\\\n",
       "\\hline\n",
       "\t PGDX16568P  & chr10\\_400 & 0           & 0           & 0           & 0           & 0           & 0           & 0           & 0           & ...         & 0           & 0           & 0           & 0           & 0           & 0           & 0           & 0           & 0           & 0          \\\\\n",
       "\t PGDX16568P  & chr10\\_40  & 0           & 0           & 0           & 0           & 0           & 0           & 0           & 0           & ...         & 0           & 0           & 0           & 0           & 0           & 0           & 0           & 0           & 0           & 0          \\\\\n",
       "\t PGDX16568P  & chr10\\_4   & 0           & 0           & 0           & 0           & 0           & 0           & 0           & 0           & ...         & 0           & 0           & 0           & 0           & 0           & 0           & 0           & 0           & 0           & 0          \\\\\n",
       "\t PGDX16568P  & chr10\\_401 & 0           & 0           & 0           & 0           & 0           & 0           & 0           & 0           & ...         & 0           & 0           & 0           & 0           & 0           & 0           & 0           & 0           & 0           & 0          \\\\\n",
       "\t PGDX16568P  & chr10\\_402 & 0           & 0           & 0           & 0           & 0           & 0           & 0           & 0           & ...         & 0           & 0           & 0           & 0           & 0           & 0           & 0           & 0           & 0           & 0          \\\\\n",
       "\t PGDX16568P  & chr10\\_403 & 0           & 0           & 0           & 0           & 0           & 0           & 0           & 0           & ...         & 0           & 0           & 0           & 0           & 0           & 0           & 0           & 0           & 0           & 0          \\\\\n",
       "\\end{tabular}\n"
      ],
      "text/markdown": [
       "\n",
       "| sample | bin | X30 | X31 | X32 | X33 | X34 | X35 | X36 | X37 | ... | X691 | X692 | X693 | X694 | X695 | X696 | X697 | X698 | X699 | X700 |\n",
       "|---|---|---|---|---|---|---|---|---|---|---|---|---|---|---|---|---|---|---|---|---|\n",
       "| PGDX16568P | chr10_400  | 0          | 0          | 0          | 0          | 0          | 0          | 0          | 0          | ...        | 0          | 0          | 0          | 0          | 0          | 0          | 0          | 0          | 0          | 0          |\n",
       "| PGDX16568P | chr10_40   | 0          | 0          | 0          | 0          | 0          | 0          | 0          | 0          | ...        | 0          | 0          | 0          | 0          | 0          | 0          | 0          | 0          | 0          | 0          |\n",
       "| PGDX16568P | chr10_4    | 0          | 0          | 0          | 0          | 0          | 0          | 0          | 0          | ...        | 0          | 0          | 0          | 0          | 0          | 0          | 0          | 0          | 0          | 0          |\n",
       "| PGDX16568P | chr10_401  | 0          | 0          | 0          | 0          | 0          | 0          | 0          | 0          | ...        | 0          | 0          | 0          | 0          | 0          | 0          | 0          | 0          | 0          | 0          |\n",
       "| PGDX16568P | chr10_402  | 0          | 0          | 0          | 0          | 0          | 0          | 0          | 0          | ...        | 0          | 0          | 0          | 0          | 0          | 0          | 0          | 0          | 0          | 0          |\n",
       "| PGDX16568P | chr10_403  | 0          | 0          | 0          | 0          | 0          | 0          | 0          | 0          | ...        | 0          | 0          | 0          | 0          | 0          | 0          | 0          | 0          | 0          | 0          |\n",
       "\n"
      ],
      "text/plain": [
       "  sample     bin       X30 X31 X32 X33 X34 X35 X36 X37 ... X691 X692 X693 X694\n",
       "1 PGDX16568P chr10_400 0   0   0   0   0   0   0   0   ... 0    0    0    0   \n",
       "2 PGDX16568P chr10_40  0   0   0   0   0   0   0   0   ... 0    0    0    0   \n",
       "3 PGDX16568P chr10_4   0   0   0   0   0   0   0   0   ... 0    0    0    0   \n",
       "4 PGDX16568P chr10_401 0   0   0   0   0   0   0   0   ... 0    0    0    0   \n",
       "5 PGDX16568P chr10_402 0   0   0   0   0   0   0   0   ... 0    0    0    0   \n",
       "6 PGDX16568P chr10_403 0   0   0   0   0   0   0   0   ... 0    0    0    0   \n",
       "  X695 X696 X697 X698 X699 X700\n",
       "1 0    0    0    0    0    0   \n",
       "2 0    0    0    0    0    0   \n",
       "3 0    0    0    0    0    0   \n",
       "4 0    0    0    0    0    0   \n",
       "5 0    0    0    0    0    0   \n",
       "6 0    0    0    0    0    0   "
      ]
     },
     "metadata": {},
     "output_type": "display_data"
    }
   ],
   "source": [
    "head(INPUT_std_LASSO_TRAIN_DATA)"
   ]
  },
  {
   "cell_type": "code",
   "execution_count": null,
   "id": "55a203c7-4313-43ec-9f77-6e3f26fb7f5a",
   "metadata": {},
   "outputs": [],
   "source": [
    "smp_size <- floor(0.80 * nrow(INPUT_std_LASSO_TRAIN_DATA))\n",
    "\n",
    "set.seed(0)\n",
    "train_ind_1 <- sample(seq_len(nrow(INPUT_std_LASSO_TRAIN_DATA)), size = smp_size)\n",
    "\n",
    "INPUT_std_LASSO_TRAIN_DATA_80 <- INPUT_std_LASSO_TRAIN_DATA[train_ind_1, ]\n",
    "INPUT_std_LASSO_TRAIN_DATA_20 <- INPUT_std_LASSO_TRAIN_DATA[-train_ind_1, ]"
   ]
  },
  {
   "cell_type": "code",
   "execution_count": null,
   "id": "9c9aac50-b3ae-4ece-9c9a-16124fc94e9c",
   "metadata": {},
   "outputs": [],
   "source": [
    "saveRDS(INPUT_std_LASSO_TRAIN_DATA_80, file = snakemake@output[[\"OUTPUT_std_LASSO_DATA_80\"]])\n",
    "saveRDS(INPUT_std_LASSO_TRAIN_DATA_20, file = snakemake@output[[\"OUTPUT_std_LASSO_DATA_20\"]])"
   ]
  },
  {
   "cell_type": "code",
   "execution_count": null,
   "id": "dbdd6da5-26ad-40ac-9a26-7aafdc7b1b47",
   "metadata": {},
   "outputs": [],
   "source": [
    "smp_size <- floor(0.80 * nrow(INPUT_smooth_LASSO_TRAIN_DATA))\n",
    "\n",
    "set.seed(0)\n",
    "train_ind_2 <- sample(seq_len(nrow(INPUT_smooth_LASSO_TRAIN_DATA)), size = smp_size)\n",
    "\n",
    "INPUT_smooth_LASSO_TRAIN_DATA_80 <- INPUT_smooth_LASSO_TRAIN_DATA[train_ind_2, ]\n",
    "INPUT_smooth_LASSO_TRAIN_DATA_20 <- INPUT_smooth_LASSO_TRAIN_DATA[-train_ind_2, ]"
   ]
  },
  {
   "cell_type": "code",
   "execution_count": null,
   "id": "a897c543-3ac3-4ec4-9324-8e60ca0f2947",
   "metadata": {},
   "outputs": [],
   "source": [
    "saveRDS(INPUT_smooth_LASSO_TRAIN_DATA_80, file = snakemake@output[[\"OUTPUT_smooth_LASSO_DATA_80\"]])\n",
    "saveRDS(INPUT_smooth_LASSO_TRAIN_DATA_20, file = snakemake@output[[\"OUTPUT_smooth_LASSO_DATA_20\"]])"
   ]
  },
  {
   "cell_type": "code",
   "execution_count": null,
   "id": "a69c828d-cf3d-485b-b956-915809b48ba8",
   "metadata": {},
   "outputs": [],
   "source": [
    "\n",
    "smp_size <- floor(0.80 * nrow(INPUT_trim_LASSO_TRAIN_DATA))\n",
    "\n",
    "set.seed(0)\n",
    "train_ind_3 <- sample(seq_len(nrow(INPUT_trim_LASSO_TRAIN_DATA)), size = smp_size)\n",
    "\n",
    "INPUT_trim_LASSO_TRAIN_DATA_80 <- INPUT_trim_LASSO_TRAIN_DATA[train_ind_3, ]\n",
    "INPUT_trim_LASSO_TRAIN_DATA_20 <- INPUT_trim_LASSO_TRAIN_DATA[-train_ind_3, ]"
   ]
  },
  {
   "cell_type": "code",
   "execution_count": null,
   "id": "383cbde8-bdd4-4076-8f35-87070c1b219d",
   "metadata": {},
   "outputs": [],
   "source": [
    "saveRDS(INPUT_trim_LASSO_TRAIN_DATA_80, file = snakemake@output[[\"OUTPUT_trim_LASSO_DATA_80\"]])\n",
    "saveRDS(INPUT_trim_LASSO_TRAIN_DATA_20, file = snakemake@output[[\"OUTPUT_trim_LASSO_DATA_20\"]])"
   ]
  },
  {
   "cell_type": "code",
   "execution_count": null,
   "id": "4b07ef7a-15a1-48c6-9305-20d064c074aa",
   "metadata": {},
   "outputs": [],
   "source": []
  },
  {
   "cell_type": "markdown",
   "id": "8b12e58f-c487-44af-b516-e0d45c53a62d",
   "metadata": {},
   "source": [
    "Splitting the 20 procent from the 80 procent"
   ]
  },
  {
   "cell_type": "code",
   "execution_count": null,
   "id": "159309e7-c032-4069-a8b7-f175e9e1c518",
   "metadata": {},
   "outputs": [],
   "source": [
    "smp_size <- floor(0.25* nrow(INPUT_std_LASSO_TRAIN_DATA_80))\n",
    "\n",
    "set.seed(0)\n",
    "train_ind_4 <- sample(seq_len(nrow(INPUT_std_LASSO_TRAIN_DATA_80)), size = smp_size)\n",
    "\n",
    "INPUT_std_LASSO_TRAIN_DATA_80_20 <- INPUT_std_LASSO_TRAIN_DATA_80[train_ind_4, ]"
   ]
  },
  {
   "cell_type": "code",
   "execution_count": null,
   "id": "7e2a2bd8-1516-4f06-b5d3-c133eecbc75c",
   "metadata": {},
   "outputs": [],
   "source": [
    "saveRDS(INPUT_std_LASSO_TRAIN_DATA_80_20, file = snakemake@output[[\"OUTPUT_std_LASSO_DATA_80_20\"]])"
   ]
  },
  {
   "cell_type": "code",
   "execution_count": null,
   "id": "740f675a-b3de-48fb-8e76-f0d9ebe5089e",
   "metadata": {},
   "outputs": [],
   "source": [
    "smp_size <- floor(0.25* nrow(INPUT_smooth_LASSO_TRAIN_DATA_80))\n",
    "\n",
    "set.seed(0)\n",
    "train_ind_5 <- sample(seq_len(nrow(INPUT_smooth_LASSO_TRAIN_DATA_80)), size = smp_size)\n",
    "\n",
    "INPUT_smooth_LASSO_TRAIN_DATA_80_20 <- INPUT_smooth_LASSO_TRAIN_DATA_80[train_ind_5, ]"
   ]
  },
  {
   "cell_type": "code",
   "execution_count": null,
   "id": "144ac1c9-d2d3-4e2b-a264-c5c3a3b54810",
   "metadata": {},
   "outputs": [],
   "source": [
    "saveRDS(INPUT_smooth_LASSO_TRAIN_DATA_80_20, file = snakemake@output[[\"OUTPUT_smooth_LASSO_DATA_80_20\"]])"
   ]
  },
  {
   "cell_type": "code",
   "execution_count": null,
   "id": "e2ab45ab-b514-46fa-8286-3277b057d840",
   "metadata": {},
   "outputs": [],
   "source": [
    "\n",
    "smp_size <- floor(0.25* nrow(INPUT_trim_LASSO_TRAIN_DATA_80))\n",
    "\n",
    "set.seed(0)\n",
    "train_ind_6 <- sample(seq_len(nrow(INPUT_trim_LASSO_TRAIN_DATA_80)), size = smp_size)\n",
    "\n",
    "INPUT_trim_LASSO_TRAIN_DATA_80_20 <- INPUT_trim_LASSO_TRAIN_DATA_80[train_ind_6, ]"
   ]
  },
  {
   "cell_type": "code",
   "execution_count": null,
   "id": "284002b1-0edf-463d-8aaa-55934f8ec72d",
   "metadata": {},
   "outputs": [],
   "source": [
    "saveRDS(INPUT_trim_LASSO_TRAIN_DATA_80_20, file = snakemake@output[[\"OUTPUT_trim_LASSO_DATA_80_20\"]])"
   ]
  },
  {
   "cell_type": "code",
   "execution_count": null,
   "id": "688568f8-bb58-4b3f-b1a6-189ebc0ae137",
   "metadata": {},
   "outputs": [],
   "source": []
  }
 ],
 "metadata": {
  "kernelspec": {
   "display_name": "R",
   "language": "R",
   "name": "ir"
  },
  "language_info": {
   "codemirror_mode": "r",
   "file_extension": ".r",
   "mimetype": "text/x-r-source",
   "name": "R",
   "pygments_lexer": "r",
   "version": "3.6.1"
  }
 },
 "nbformat": 4,
 "nbformat_minor": 5
}
