{
 "cells": [
  {
   "cell_type": "markdown",
   "id": "d7c804ea-e5a5-442c-857e-db4233327851",
   "metadata": {},
   "source": [
    "# Lasso regression"
   ]
  },
  {
   "cell_type": "code",
   "execution_count": 8,
   "id": "3481b5b5",
   "metadata": {},
   "outputs": [],
   "source": [
    "library(tidyverse)\n",
    "library(glmnet)\n",
    "\n",
    "install.packages('glmnetUtils')\n",
    "library(glmnetUtils)"
   ]
  },
  {
   "cell_type": "markdown",
   "id": "6088e96b",
   "metadata": {},
   "source": [
    "### Read in data and ATAC values, add ATAC values to the dataframe"
   ]
  },
  {
   "cell_type": "code",
   "execution_count": 15,
   "id": "1e8603bc",
   "metadata": {},
   "outputs": [
    {
     "name": "stderr",
     "output_type": "stream",
     "text": [
      "Warning message in cbind(parts$left, ellip_h, parts$right, deparse.level = 0L):\n",
      "“number of rows of result is not a multiple of vector length (arg 2)”Warning message in cbind(parts$left, ellip_h, parts$right, deparse.level = 0L):\n",
      "“number of rows of result is not a multiple of vector length (arg 2)”Warning message in cbind(parts$left, ellip_h, parts$right, deparse.level = 0L):\n",
      "“number of rows of result is not a multiple of vector length (arg 2)”Warning message in cbind(parts$left, ellip_h, parts$right, deparse.level = 0L):\n",
      "“number of rows of result is not a multiple of vector length (arg 2)”"
     ]
    },
    {
     "data": {
      "text/html": [
       "<table>\n",
       "<thead><tr><th scope=col>sample</th><th scope=col>bin</th><th scope=col>X30</th><th scope=col>X31</th><th scope=col>X32</th><th scope=col>X33</th><th scope=col>X34</th><th scope=col>X35</th><th scope=col>X36</th><th scope=col>X37</th><th scope=col>...</th><th scope=col>X691</th><th scope=col>X692</th><th scope=col>X693</th><th scope=col>X694</th><th scope=col>X695</th><th scope=col>X696</th><th scope=col>X697</th><th scope=col>X698</th><th scope=col>X699</th><th scope=col>X700</th></tr></thead>\n",
       "<tbody>\n",
       "</tbody>\n",
       "</table>\n"
      ],
      "text/latex": [
       "\\begin{tabular}{r|lllllllllllllllllllllllllllllllllllllllllllllllllllllllllllllllllllllllllllllllllllllllllllllllllllllllllllllllllllllllllllllllllllllllllllllllllllllllllllllllllllllllllllllllllllllllllllllllllllllllllllllllllllllllllllllllllllllllllllllllllllllllllllllllllllllllllllllllllllllllllllllllllllllllllllllllllllllllllllllllllllllllllllllllllllllllllllllllllllllllllllllllllllllllllllllllllllllllllllllllllllllllllllllllllllllllllllllllllllllllllllllllllllllllllllllllllllllllllllllllllllllllllllllllllllllllllllllllllllllllllllllllllllllllllllllllllllllllllllllllllllllllllllllllllllllllllllllllllllllllllllllllllllllllllllllllllllllllllllllllllllllllllllllllllllllllllllllllll}\n",
       " sample & bin & X30 & X31 & X32 & X33 & X34 & X35 & X36 & X37 & ... & X691 & X692 & X693 & X694 & X695 & X696 & X697 & X698 & X699 & X700\\\\\n",
       "\\hline\n",
       "\\end{tabular}\n"
      ],
      "text/markdown": [
       "\n",
       "| sample | bin | X30 | X31 | X32 | X33 | X34 | X35 | X36 | X37 | ... | X691 | X692 | X693 | X694 | X695 | X696 | X697 | X698 | X699 | X700 |\n",
       "|---|---|---|---|---|---|---|---|---|---|---|---|---|---|---|---|---|---|---|---|---|\n",
       "\n"
      ],
      "text/plain": [
       "     sample bin X30 X31 X32 X33 X34 X35 X36 X37 ... X691 X692 X693 X694 X695\n",
       "     X696 X697 X698 X699 X700"
      ]
     },
     "metadata": {},
     "output_type": "display_data"
    }
   ],
   "source": [
    "#all_samples_controls <- readRDS(\"../data/experiment_ATAC_predictions/CONTROLS_split_0.05.rds\")\n",
    "all_samples_controls <- readRDS(snakemake@input[[\"input_train\"]])\n",
    "head(all_samples_controls)"
   ]
  },
  {
   "cell_type": "code",
   "execution_count": 11,
   "id": "0d2355c9-a6ad-404f-a106-06be083aa1f6",
   "metadata": {},
   "outputs": [
    {
     "data": {
      "text/html": [
       "<table>\n",
       "<thead><tr><th scope=col>bin</th><th scope=col>ATAC_observed</th></tr></thead>\n",
       "<tbody>\n",
       "\t<tr><td>chr1_0    </td><td>0.05376791</td></tr>\n",
       "\t<tr><td>chr10_0   </td><td>0.29698782</td></tr>\n",
       "\t<tr><td>chr10_1   </td><td>0.40893151</td></tr>\n",
       "\t<tr><td>chr10_10  </td><td>0.30582283</td></tr>\n",
       "\t<tr><td>chr10_100 </td><td>0.59316570</td></tr>\n",
       "\t<tr><td>chr10_101 </td><td>0.47641373</td></tr>\n",
       "</tbody>\n",
       "</table>\n"
      ],
      "text/latex": [
       "\\begin{tabular}{r|ll}\n",
       " bin & ATAC\\_observed\\\\\n",
       "\\hline\n",
       "\t chr1\\_0    & 0.05376791 \\\\\n",
       "\t chr10\\_0   & 0.29698782 \\\\\n",
       "\t chr10\\_1   & 0.40893151 \\\\\n",
       "\t chr10\\_10  & 0.30582283 \\\\\n",
       "\t chr10\\_100 & 0.59316570 \\\\\n",
       "\t chr10\\_101 & 0.47641373 \\\\\n",
       "\\end{tabular}\n"
      ],
      "text/markdown": [
       "\n",
       "| bin | ATAC_observed |\n",
       "|---|---|\n",
       "| chr1_0     | 0.05376791 |\n",
       "| chr10_0    | 0.29698782 |\n",
       "| chr10_1    | 0.40893151 |\n",
       "| chr10_10   | 0.30582283 |\n",
       "| chr10_100  | 0.59316570 |\n",
       "| chr10_101  | 0.47641373 |\n",
       "\n"
      ],
      "text/plain": [
       "  bin       ATAC_observed\n",
       "1 chr1_0    0.05376791   \n",
       "2 chr10_0   0.29698782   \n",
       "3 chr10_1   0.40893151   \n",
       "4 chr10_10  0.30582283   \n",
       "5 chr10_100 0.59316570   \n",
       "6 chr10_101 0.47641373   "
      ]
     },
     "metadata": {},
     "output_type": "display_data"
    },
    {
     "name": "stderr",
     "output_type": "stream",
     "text": [
      "Warning message in eval(expr, envir, enclos):\n",
      "“NAs introduced by coercion”"
     ]
    },
    {
     "data": {
      "text/html": [
       "<table>\n",
       "<thead><tr><th scope=col>sample</th><th scope=col>bin</th><th scope=col>X30</th><th scope=col>X31</th><th scope=col>X32</th><th scope=col>X33</th><th scope=col>X34</th><th scope=col>X35</th><th scope=col>X36</th><th scope=col>X37</th><th scope=col>...</th><th scope=col>X692</th><th scope=col>X693</th><th scope=col>X694</th><th scope=col>X695</th><th scope=col>X696</th><th scope=col>X697</th><th scope=col>X698</th><th scope=col>X699</th><th scope=col>X700</th><th scope=col>ATAC_observed</th></tr></thead>\n",
       "<tbody>\n",
       "\t<tr><td>PGDX16568P</td><td>chr10_400 </td><td>0         </td><td>0         </td><td>0         </td><td>0         </td><td>0         </td><td>0         </td><td>0         </td><td>0         </td><td>...       </td><td>0         </td><td>0         </td><td>0         </td><td>0         </td><td>0         </td><td>0         </td><td>0         </td><td>0         </td><td>0         </td><td>0.5866651 </td></tr>\n",
       "\t<tr><td>PGDX16568P</td><td>chr10_40  </td><td>0         </td><td>0         </td><td>0         </td><td>0         </td><td>0         </td><td>0         </td><td>0         </td><td>0         </td><td>...       </td><td>0         </td><td>0         </td><td>0         </td><td>0         </td><td>0         </td><td>0         </td><td>0         </td><td>0         </td><td>0         </td><td>0.1996134 </td></tr>\n",
       "\t<tr><td>PGDX16568P</td><td>chr10_4   </td><td>0         </td><td>0         </td><td>0         </td><td>0         </td><td>0         </td><td>0         </td><td>0         </td><td>0         </td><td>...       </td><td>0         </td><td>0         </td><td>0         </td><td>0         </td><td>0         </td><td>0         </td><td>0         </td><td>0         </td><td>0         </td><td>0.5968816 </td></tr>\n",
       "\t<tr><td>PGDX16568P</td><td>chr10_401 </td><td>0         </td><td>0         </td><td>0         </td><td>0         </td><td>0         </td><td>0         </td><td>0         </td><td>0         </td><td>...       </td><td>0         </td><td>0         </td><td>0         </td><td>0         </td><td>0         </td><td>0         </td><td>0         </td><td>0         </td><td>0         </td><td>0.2905764 </td></tr>\n",
       "\t<tr><td>PGDX16568P</td><td>chr10_402 </td><td>0         </td><td>0         </td><td>0         </td><td>0         </td><td>0         </td><td>0         </td><td>0         </td><td>0         </td><td>...       </td><td>0         </td><td>0         </td><td>0         </td><td>0         </td><td>0         </td><td>0         </td><td>0         </td><td>0         </td><td>0         </td><td>0.2319729 </td></tr>\n",
       "\t<tr><td>PGDX16568P</td><td>chr10_403 </td><td>0         </td><td>0         </td><td>0         </td><td>0         </td><td>0         </td><td>0         </td><td>0         </td><td>0         </td><td>...       </td><td>0         </td><td>0         </td><td>0         </td><td>0         </td><td>0         </td><td>0         </td><td>0         </td><td>0         </td><td>0         </td><td>0.2262170 </td></tr>\n",
       "</tbody>\n",
       "</table>\n"
      ],
      "text/latex": [
       "\\begin{tabular}{r|llllllllllllllllllllllllllllllllllllllllllllllllllllllllllllllllllllllllllllllllllllllllllllllllllllllllllllllllllllllllllllllllllllllllllllllllllllllllllllllllllllllllllllllllllllllllllllllllllllllllllllllllllllllllllllllllllllllllllllllllllllllllllllllllllllllllllllllllllllllllllllllllllllllllllllllllllllllllllllllllllllllllllllllllllllllllllllllllllllllllllllllllllllllllllllllllllllllllllllllllllllllllllllllllllllllllllllllllllllllllllllllllllllllllllllllllllllllllllllllllllllllllllllllllllllllllllllllllllllllllllllllllllllllllllllllllllllllllllllllllllllllllllllllllllllllllllllllllllllllllllllllllllllllllllllllllllllllllllllllllllllllllllllllllllllllllllllllllll}\n",
       " sample & bin & X30 & X31 & X32 & X33 & X34 & X35 & X36 & X37 & ... & X692 & X693 & X694 & X695 & X696 & X697 & X698 & X699 & X700 & ATAC\\_observed\\\\\n",
       "\\hline\n",
       "\t PGDX16568P  & chr10\\_400 & 0           & 0           & 0           & 0           & 0           & 0           & 0           & 0           & ...         & 0           & 0           & 0           & 0           & 0           & 0           & 0           & 0           & 0           & 0.5866651  \\\\\n",
       "\t PGDX16568P  & chr10\\_40  & 0           & 0           & 0           & 0           & 0           & 0           & 0           & 0           & ...         & 0           & 0           & 0           & 0           & 0           & 0           & 0           & 0           & 0           & 0.1996134  \\\\\n",
       "\t PGDX16568P  & chr10\\_4   & 0           & 0           & 0           & 0           & 0           & 0           & 0           & 0           & ...         & 0           & 0           & 0           & 0           & 0           & 0           & 0           & 0           & 0           & 0.5968816  \\\\\n",
       "\t PGDX16568P  & chr10\\_401 & 0           & 0           & 0           & 0           & 0           & 0           & 0           & 0           & ...         & 0           & 0           & 0           & 0           & 0           & 0           & 0           & 0           & 0           & 0.2905764  \\\\\n",
       "\t PGDX16568P  & chr10\\_402 & 0           & 0           & 0           & 0           & 0           & 0           & 0           & 0           & ...         & 0           & 0           & 0           & 0           & 0           & 0           & 0           & 0           & 0           & 0.2319729  \\\\\n",
       "\t PGDX16568P  & chr10\\_403 & 0           & 0           & 0           & 0           & 0           & 0           & 0           & 0           & ...         & 0           & 0           & 0           & 0           & 0           & 0           & 0           & 0           & 0           & 0.2262170  \\\\\n",
       "\\end{tabular}\n"
      ],
      "text/markdown": [
       "\n",
       "| sample | bin | X30 | X31 | X32 | X33 | X34 | X35 | X36 | X37 | ... | X692 | X693 | X694 | X695 | X696 | X697 | X698 | X699 | X700 | ATAC_observed |\n",
       "|---|---|---|---|---|---|---|---|---|---|---|---|---|---|---|---|---|---|---|---|---|\n",
       "| PGDX16568P | chr10_400  | 0          | 0          | 0          | 0          | 0          | 0          | 0          | 0          | ...        | 0          | 0          | 0          | 0          | 0          | 0          | 0          | 0          | 0          | 0.5866651  |\n",
       "| PGDX16568P | chr10_40   | 0          | 0          | 0          | 0          | 0          | 0          | 0          | 0          | ...        | 0          | 0          | 0          | 0          | 0          | 0          | 0          | 0          | 0          | 0.1996134  |\n",
       "| PGDX16568P | chr10_4    | 0          | 0          | 0          | 0          | 0          | 0          | 0          | 0          | ...        | 0          | 0          | 0          | 0          | 0          | 0          | 0          | 0          | 0          | 0.5968816  |\n",
       "| PGDX16568P | chr10_401  | 0          | 0          | 0          | 0          | 0          | 0          | 0          | 0          | ...        | 0          | 0          | 0          | 0          | 0          | 0          | 0          | 0          | 0          | 0.2905764  |\n",
       "| PGDX16568P | chr10_402  | 0          | 0          | 0          | 0          | 0          | 0          | 0          | 0          | ...        | 0          | 0          | 0          | 0          | 0          | 0          | 0          | 0          | 0          | 0.2319729  |\n",
       "| PGDX16568P | chr10_403  | 0          | 0          | 0          | 0          | 0          | 0          | 0          | 0          | ...        | 0          | 0          | 0          | 0          | 0          | 0          | 0          | 0          | 0          | 0.2262170  |\n",
       "\n"
      ],
      "text/plain": [
       "  sample     bin       X30 X31 X32 X33 X34 X35 X36 X37 ... X692 X693 X694 X695\n",
       "1 PGDX16568P chr10_400 0   0   0   0   0   0   0   0   ... 0    0    0    0   \n",
       "2 PGDX16568P chr10_40  0   0   0   0   0   0   0   0   ... 0    0    0    0   \n",
       "3 PGDX16568P chr10_4   0   0   0   0   0   0   0   0   ... 0    0    0    0   \n",
       "4 PGDX16568P chr10_401 0   0   0   0   0   0   0   0   ... 0    0    0    0   \n",
       "5 PGDX16568P chr10_402 0   0   0   0   0   0   0   0   ... 0    0    0    0   \n",
       "6 PGDX16568P chr10_403 0   0   0   0   0   0   0   0   ... 0    0    0    0   \n",
       "  X696 X697 X698 X699 X700 ATAC_observed\n",
       "1 0    0    0    0    0    0.5866651    \n",
       "2 0    0    0    0    0    0.1996134    \n",
       "3 0    0    0    0    0    0.5968816    \n",
       "4 0    0    0    0    0    0.2905764    \n",
       "5 0    0    0    0    0    0.2319729    \n",
       "6 0    0    0    0    0    0.2262170    "
      ]
     },
     "metadata": {},
     "output_type": "display_data"
    }
   ],
   "source": [
    "#ATAC <- read.table(\"../../../data/ATACseq_250kb_bins.txt\", header = FALSE)\n",
    "ATAC <- read.table(snakemake@input[[\"input_atac\"]], header = FALSE)\n",
    "\n",
    "colnames(ATAC) <- c(\"bin\", \"ATAC_observed\")\n",
    "head(ATAC)\n",
    "\n",
    "ATAC$ATAC_observed <- as.character(ATAC$ATAC_observed)\n",
    "ATAC$ATAC_observed <- as.numeric(ATAC$ATAC_observed)\n",
    "ATAC$bin <- as.character(ATAC$bin)\n",
    "\n",
    "all_samples_ATAC_controls <- inner_join(all_samples_controls, ATAC, by=\"bin\")\n",
    "\n",
    "head(all_samples_ATAC_controls)"
   ]
  },
  {
   "cell_type": "code",
   "execution_count": 12,
   "id": "d4113760-f513-4fd6-bc8f-a2348a300cb7",
   "metadata": {},
   "outputs": [
    {
     "data": {
      "text/html": [
       "<table>\n",
       "<thead><tr><th scope=col>X30</th><th scope=col>X31</th><th scope=col>X32</th><th scope=col>X33</th><th scope=col>X34</th><th scope=col>X35</th><th scope=col>X36</th><th scope=col>X37</th><th scope=col>X38</th><th scope=col>X39</th><th scope=col>...</th><th scope=col>X691</th><th scope=col>X692</th><th scope=col>X693</th><th scope=col>X694</th><th scope=col>X695</th><th scope=col>X696</th><th scope=col>X697</th><th scope=col>X698</th><th scope=col>X699</th><th scope=col>X700</th></tr></thead>\n",
       "<tbody>\n",
       "\t<tr><td>0  </td><td>0  </td><td>0  </td><td>0  </td><td>0  </td><td>0  </td><td>0  </td><td>0  </td><td>0  </td><td>0  </td><td>...</td><td>0  </td><td>0  </td><td>0  </td><td>0  </td><td>0  </td><td>0  </td><td>0  </td><td>0  </td><td>0  </td><td>0  </td></tr>\n",
       "\t<tr><td>0  </td><td>0  </td><td>0  </td><td>0  </td><td>0  </td><td>0  </td><td>0  </td><td>0  </td><td>0  </td><td>0  </td><td>...</td><td>0  </td><td>0  </td><td>0  </td><td>0  </td><td>0  </td><td>0  </td><td>0  </td><td>0  </td><td>0  </td><td>0  </td></tr>\n",
       "\t<tr><td>0  </td><td>0  </td><td>0  </td><td>0  </td><td>0  </td><td>0  </td><td>0  </td><td>0  </td><td>0  </td><td>0  </td><td>...</td><td>0  </td><td>0  </td><td>0  </td><td>0  </td><td>0  </td><td>0  </td><td>0  </td><td>0  </td><td>0  </td><td>0  </td></tr>\n",
       "\t<tr><td>0  </td><td>0  </td><td>0  </td><td>0  </td><td>0  </td><td>0  </td><td>0  </td><td>0  </td><td>0  </td><td>0  </td><td>...</td><td>0  </td><td>0  </td><td>0  </td><td>0  </td><td>0  </td><td>0  </td><td>0  </td><td>0  </td><td>0  </td><td>0  </td></tr>\n",
       "\t<tr><td>0  </td><td>0  </td><td>0  </td><td>0  </td><td>0  </td><td>0  </td><td>0  </td><td>0  </td><td>0  </td><td>0  </td><td>...</td><td>0  </td><td>0  </td><td>0  </td><td>0  </td><td>0  </td><td>0  </td><td>0  </td><td>0  </td><td>0  </td><td>0  </td></tr>\n",
       "\t<tr><td>0  </td><td>0  </td><td>0  </td><td>0  </td><td>0  </td><td>0  </td><td>0  </td><td>0  </td><td>0  </td><td>0  </td><td>...</td><td>0  </td><td>0  </td><td>0  </td><td>0  </td><td>0  </td><td>0  </td><td>0  </td><td>0  </td><td>0  </td><td>0  </td></tr>\n",
       "</tbody>\n",
       "</table>\n"
      ],
      "text/latex": [
       "\\begin{tabular}{r|lllllllllllllllllllllllllllllllllllllllllllllllllllllllllllllllllllllllllllllllllllllllllllllllllllllllllllllllllllllllllllllllllllllllllllllllllllllllllllllllllllllllllllllllllllllllllllllllllllllllllllllllllllllllllllllllllllllllllllllllllllllllllllllllllllllllllllllllllllllllllllllllllllllllllllllllllllllllllllllllllllllllllllllllllllllllllllllllllllllllllllllllllllllllllllllllllllllllllllllllllllllllllllllllllllllllllllllllllllllllllllllllllllllllllllllllllllllllllllllllllllllllllllllllllllllllllllllllllllllllllllllllllllllllllllllllllllllllllllllllllllllllllllllllllllllllllllllllllllllllllllllllllllllllllllllllllllllllllllllllllllllllllllllllllllllllllllllll}\n",
       " X30 & X31 & X32 & X33 & X34 & X35 & X36 & X37 & X38 & X39 & ... & X691 & X692 & X693 & X694 & X695 & X696 & X697 & X698 & X699 & X700\\\\\n",
       "\\hline\n",
       "\t 0   & 0   & 0   & 0   & 0   & 0   & 0   & 0   & 0   & 0   & ... & 0   & 0   & 0   & 0   & 0   & 0   & 0   & 0   & 0   & 0  \\\\\n",
       "\t 0   & 0   & 0   & 0   & 0   & 0   & 0   & 0   & 0   & 0   & ... & 0   & 0   & 0   & 0   & 0   & 0   & 0   & 0   & 0   & 0  \\\\\n",
       "\t 0   & 0   & 0   & 0   & 0   & 0   & 0   & 0   & 0   & 0   & ... & 0   & 0   & 0   & 0   & 0   & 0   & 0   & 0   & 0   & 0  \\\\\n",
       "\t 0   & 0   & 0   & 0   & 0   & 0   & 0   & 0   & 0   & 0   & ... & 0   & 0   & 0   & 0   & 0   & 0   & 0   & 0   & 0   & 0  \\\\\n",
       "\t 0   & 0   & 0   & 0   & 0   & 0   & 0   & 0   & 0   & 0   & ... & 0   & 0   & 0   & 0   & 0   & 0   & 0   & 0   & 0   & 0  \\\\\n",
       "\t 0   & 0   & 0   & 0   & 0   & 0   & 0   & 0   & 0   & 0   & ... & 0   & 0   & 0   & 0   & 0   & 0   & 0   & 0   & 0   & 0  \\\\\n",
       "\\end{tabular}\n"
      ],
      "text/markdown": [
       "\n",
       "| X30 | X31 | X32 | X33 | X34 | X35 | X36 | X37 | X38 | X39 | ... | X691 | X692 | X693 | X694 | X695 | X696 | X697 | X698 | X699 | X700 |\n",
       "|---|---|---|---|---|---|---|---|---|---|---|---|---|---|---|---|---|---|---|---|---|\n",
       "| 0   | 0   | 0   | 0   | 0   | 0   | 0   | 0   | 0   | 0   | ... | 0   | 0   | 0   | 0   | 0   | 0   | 0   | 0   | 0   | 0   |\n",
       "| 0   | 0   | 0   | 0   | 0   | 0   | 0   | 0   | 0   | 0   | ... | 0   | 0   | 0   | 0   | 0   | 0   | 0   | 0   | 0   | 0   |\n",
       "| 0   | 0   | 0   | 0   | 0   | 0   | 0   | 0   | 0   | 0   | ... | 0   | 0   | 0   | 0   | 0   | 0   | 0   | 0   | 0   | 0   |\n",
       "| 0   | 0   | 0   | 0   | 0   | 0   | 0   | 0   | 0   | 0   | ... | 0   | 0   | 0   | 0   | 0   | 0   | 0   | 0   | 0   | 0   |\n",
       "| 0   | 0   | 0   | 0   | 0   | 0   | 0   | 0   | 0   | 0   | ... | 0   | 0   | 0   | 0   | 0   | 0   | 0   | 0   | 0   | 0   |\n",
       "| 0   | 0   | 0   | 0   | 0   | 0   | 0   | 0   | 0   | 0   | ... | 0   | 0   | 0   | 0   | 0   | 0   | 0   | 0   | 0   | 0   |\n",
       "\n"
      ],
      "text/plain": [
       "  X30 X31 X32 X33 X34 X35 X36 X37 X38 X39 ... X691 X692 X693 X694 X695 X696\n",
       "1 0   0   0   0   0   0   0   0   0   0   ... 0    0    0    0    0    0   \n",
       "2 0   0   0   0   0   0   0   0   0   0   ... 0    0    0    0    0    0   \n",
       "3 0   0   0   0   0   0   0   0   0   0   ... 0    0    0    0    0    0   \n",
       "4 0   0   0   0   0   0   0   0   0   0   ... 0    0    0    0    0    0   \n",
       "5 0   0   0   0   0   0   0   0   0   0   ... 0    0    0    0    0    0   \n",
       "6 0   0   0   0   0   0   0   0   0   0   ... 0    0    0    0    0    0   \n",
       "  X697 X698 X699 X700\n",
       "1 0    0    0    0   \n",
       "2 0    0    0    0   \n",
       "3 0    0    0    0   \n",
       "4 0    0    0    0   \n",
       "5 0    0    0    0   \n",
       "6 0    0    0    0   "
      ]
     },
     "metadata": {},
     "output_type": "display_data"
    },
    {
     "data": {
      "text/html": [
       "<table>\n",
       "<thead><tr><th scope=col>ATAC_observed</th></tr></thead>\n",
       "<tbody>\n",
       "\t<tr><td>0.5866651</td></tr>\n",
       "\t<tr><td>0.1996134</td></tr>\n",
       "\t<tr><td>0.5968816</td></tr>\n",
       "\t<tr><td>0.2905764</td></tr>\n",
       "\t<tr><td>0.2319729</td></tr>\n",
       "\t<tr><td>0.2262170</td></tr>\n",
       "</tbody>\n",
       "</table>\n"
      ],
      "text/latex": [
       "\\begin{tabular}{r|l}\n",
       " ATAC\\_observed\\\\\n",
       "\\hline\n",
       "\t 0.5866651\\\\\n",
       "\t 0.1996134\\\\\n",
       "\t 0.5968816\\\\\n",
       "\t 0.2905764\\\\\n",
       "\t 0.2319729\\\\\n",
       "\t 0.2262170\\\\\n",
       "\\end{tabular}\n"
      ],
      "text/markdown": [
       "\n",
       "| ATAC_observed |\n",
       "|---|\n",
       "| 0.5866651 |\n",
       "| 0.1996134 |\n",
       "| 0.5968816 |\n",
       "| 0.2905764 |\n",
       "| 0.2319729 |\n",
       "| 0.2262170 |\n",
       "\n"
      ],
      "text/plain": [
       "  ATAC_observed\n",
       "1 0.5866651    \n",
       "2 0.1996134    \n",
       "3 0.5968816    \n",
       "4 0.2905764    \n",
       "5 0.2319729    \n",
       "6 0.2262170    "
      ]
     },
     "metadata": {},
     "output_type": "display_data"
    }
   ],
   "source": [
    "ATAC_val <- all_samples_ATAC_controls %>% select(ATAC_observed)\n",
    "controls_predictions <- all_samples_ATAC_controls %>% select(sample, bin)\n",
    "all_samples_ATAC_controls = all_samples_ATAC_controls %>% select(-c(ATAC_observed, sample, bin))\n",
    "\n",
    "head(all_samples_ATAC_controls)\n",
    "head(ATAC_val)"
   ]
  },
  {
   "cell_type": "markdown",
   "id": "75e34ab0",
   "metadata": {},
   "source": [
    "# Lasso regression"
   ]
  },
  {
   "cell_type": "markdown",
   "id": "808f1462",
   "metadata": {},
   "source": [
    "## Cross validation to find the best lambda and alpha"
   ]
  },
  {
   "cell_type": "code",
   "execution_count": null,
   "id": "6854f6b6-7fc5-48f8-8fa3-32964625ed5d",
   "metadata": {},
   "outputs": [],
   "source": [
    "get_cvm <- function(model) {\n",
    "   index <- match(model$lambda.min, model$lambda)\n",
    "  model$cvm[index]\n",
    "}"
   ]
  },
  {
   "cell_type": "code",
   "execution_count": 3,
   "id": "90f05360",
   "metadata": {},
   "outputs": [
    {
     "data": {
      "image/png": "[encoded data removed]",
      "text/plain": [
       "plot without title"
      ]
     },
     "metadata": {},
     "output_type": "display_data"
    }
   ],
   "source": [
    "set.seed(0)\n",
    "\n",
    "y <- ATAC_val %>% as.matrix()\n",
    "X <- all_samples_ATAC_controls %>% as.matrix()\n",
    "\n",
    "######### finding the best alpha #########\n",
    "set.seed(0)\n",
    "lasso_cva <- glmnetUtils::cva.glmnet(X, y, nfolds = 10)\n",
    "enet_performance <- data.frame(alpha = lasso_cva$alpha)\n",
    "models <- lasso_cva$modlist\n",
    "enet_performance$cvm <- vapply(models, get_cvm, numeric(1))\n",
    "\n",
    "minix <- which.min(enet_performance$cvm)\n",
    "best_alpha <- lasso_cva$alpha[minix]\n",
    "###########################################\n",
    "\n",
    "######### finding the best lambda #########\n",
    "set.seed(0)\n",
    "lasso_cv <- glmnet::cv.glmnet(X, y, alpha = best_alpha,\n",
    "                      standardize = TRUE, nfolds = 10)\n",
    "\n",
    "plot(lasso_cv)\n",
    "###########################################"
   ]
  },
  {
   "cell_type": "code",
   "execution_count": null,
   "id": "c914aca4-622f-4d07-8d47-b07896334a7b",
   "metadata": {},
   "outputs": [],
   "source": [
    "(lambda_cv <- lasso_cv$lambda.min)"
   ]
  },
  {
   "cell_type": "markdown",
   "id": "a35749ba-98e9-43ac-b797-09fdb3c44a72",
   "metadata": {},
   "source": [
    "## Fit the model on all traindata controls"
   ]
  },
  {
   "cell_type": "code",
   "execution_count": null,
   "id": "cc241f1b-666f-442d-bb55-f1629e46c17e",
   "metadata": {},
   "outputs": [],
   "source": [
    "y <- ATAC_val %>% as.matrix()\n",
    "X <- all_samples_ATAC_controls %>% as.matrix()\n",
    "\n",
    "fit       <- glmnet::glmnet(X, y, alpha = best_alpha, lambda = lambda_cv, standardize = TRUE)\n",
    "# saving the model\n",
    "saveRDS(fit, snakemake@output[[\"output_model\"]])\n"
   ]
  },
  {
   "cell_type": "markdown",
   "id": "5d1373d5",
   "metadata": {},
   "source": [
    "## Predict on normalized 20% of controls using the model (fitted on train controls) and save the predictions to file"
   ]
  },
  {
   "cell_type": "code",
   "execution_count": 1,
   "id": "590667a4-c2d4-4d93-b336-1c6623f55567",
   "metadata": {},
   "outputs": [],
   "source": [
    "#filename = \"../../../data/all_samples_normalized_CASES.csv\"\n",
    "#test_data = readRDS(\"../../data/20_80_splits/20_all_samples_normalized_CONTROLS.rds\")\n",
    "\n",
    "test_data = readRDS(snakemake@input[[\"input_test\"]])"
   ]
  },
  {
   "cell_type": "code",
   "execution_count": 3,
   "id": "d2d8d402-b9a4-4131-960b-0b1eaaff9d1b",
   "metadata": {
    "tags": []
   },
   "outputs": [
    {
     "data": {
      "text/html": [
       "<table>\n",
       "<thead><tr><th></th><th scope=col>sample</th><th scope=col>bin</th><th scope=col>X30</th><th scope=col>X31</th><th scope=col>X32</th><th scope=col>X33</th><th scope=col>X34</th><th scope=col>X35</th><th scope=col>X36</th><th scope=col>X37</th><th scope=col>...</th><th scope=col>X691</th><th scope=col>X692</th><th scope=col>X693</th><th scope=col>X694</th><th scope=col>X695</th><th scope=col>X696</th><th scope=col>X697</th><th scope=col>X698</th><th scope=col>X699</th><th scope=col>X700</th></tr></thead>\n",
       "<tbody>\n",
       "\t<tr><th scope=row>2</th><td>PGDX16568P  </td><td>chr10_40    </td><td>0           </td><td>0           </td><td>0           </td><td>0           </td><td>0           </td><td>0.0000000000</td><td>0           </td><td>0           </td><td>...         </td><td>0           </td><td>0           </td><td>0           </td><td>0           </td><td>0           </td><td>0           </td><td>0           </td><td>0           </td><td>0           </td><td>0           </td></tr>\n",
       "\t<tr><th scope=row>9</th><td>PGDX16568P  </td><td>chr10_406   </td><td>0           </td><td>0           </td><td>0           </td><td>0           </td><td>0           </td><td>0.0000000000</td><td>0           </td><td>0           </td><td>...         </td><td>0           </td><td>0           </td><td>0           </td><td>0           </td><td>0           </td><td>0           </td><td>0           </td><td>0           </td><td>0           </td><td>0           </td></tr>\n",
       "\t<tr><th scope=row>17</th><td>PGDX16568P  </td><td>chr10_413   </td><td>0           </td><td>0           </td><td>0           </td><td>0           </td><td>0           </td><td>0.0000000000</td><td>0           </td><td>0           </td><td>...         </td><td>0           </td><td>0           </td><td>0           </td><td>0           </td><td>0           </td><td>0           </td><td>0           </td><td>0           </td><td>0           </td><td>0           </td></tr>\n",
       "\t<tr><th scope=row>26</th><td>PGDX16568P  </td><td>chr10_421   </td><td>0           </td><td>0           </td><td>0           </td><td>0           </td><td>0           </td><td>0.0001756235</td><td>0           </td><td>0           </td><td>...         </td><td>0           </td><td>0           </td><td>0           </td><td>0           </td><td>0           </td><td>0           </td><td>0           </td><td>0           </td><td>0           </td><td>0           </td></tr>\n",
       "\t<tr><th scope=row>30</th><td>PGDX16568P  </td><td>chr10_425   </td><td>0           </td><td>0           </td><td>0           </td><td>0           </td><td>0           </td><td>0.0000000000</td><td>0           </td><td>0           </td><td>...         </td><td>0           </td><td>0           </td><td>0           </td><td>0           </td><td>0           </td><td>0           </td><td>0           </td><td>0           </td><td>0           </td><td>0           </td></tr>\n",
       "\t<tr><th scope=row>43</th><td>PGDX16568P  </td><td>chr10_437   </td><td>0           </td><td>0           </td><td>0           </td><td>0           </td><td>0           </td><td>0.0000000000</td><td>0           </td><td>0           </td><td>...         </td><td>0           </td><td>0           </td><td>0           </td><td>0           </td><td>0           </td><td>0           </td><td>0           </td><td>0           </td><td>0           </td><td>0           </td></tr>\n",
       "</tbody>\n",
       "</table>\n"
      ],
      "text/latex": [
       "\\begin{tabular}{r|lllllllllllllllllllllllllllllllllllllllllllllllllllllllllllllllllllllllllllllllllllllllllllllllllllllllllllllllllllllllllllllllllllllllllllllllllllllllllllllllllllllllllllllllllllllllllllllllllllllllllllllllllllllllllllllllllllllllllllllllllllllllllllllllllllllllllllllllllllllllllllllllllllllllllllllllllllllllllllllllllllllllllllllllllllllllllllllllllllllllllllllllllllllllllllllllllllllllllllllllllllllllllllllllllllllllllllllllllllllllllllllllllllllllllllllllllllllllllllllllllllllllllllllllllllllllllllllllllllllllllllllllllllllllllllllllllllllllllllllllllllllllllllllllllllllllllllllllllllllllllllllllllllllllllllllllllllllllllllllllllllllllllllllllllllllllllllllllll}\n",
       "  & sample & bin & X30 & X31 & X32 & X33 & X34 & X35 & X36 & X37 & ... & X691 & X692 & X693 & X694 & X695 & X696 & X697 & X698 & X699 & X700\\\\\n",
       "\\hline\n",
       "\t2 & PGDX16568P   & chr10\\_40   & 0            & 0            & 0            & 0            & 0            & 0.0000000000 & 0            & 0            & ...          & 0            & 0            & 0            & 0            & 0            & 0            & 0            & 0            & 0            & 0           \\\\\n",
       "\t9 & PGDX16568P   & chr10\\_406  & 0            & 0            & 0            & 0            & 0            & 0.0000000000 & 0            & 0            & ...          & 0            & 0            & 0            & 0            & 0            & 0            & 0            & 0            & 0            & 0           \\\\\n",
       "\t17 & PGDX16568P   & chr10\\_413  & 0            & 0            & 0            & 0            & 0            & 0.0000000000 & 0            & 0            & ...          & 0            & 0            & 0            & 0            & 0            & 0            & 0            & 0            & 0            & 0           \\\\\n",
       "\t26 & PGDX16568P   & chr10\\_421  & 0            & 0            & 0            & 0            & 0            & 0.0001756235 & 0            & 0            & ...          & 0            & 0            & 0            & 0            & 0            & 0            & 0            & 0            & 0            & 0           \\\\\n",
       "\t30 & PGDX16568P   & chr10\\_425  & 0            & 0            & 0            & 0            & 0            & 0.0000000000 & 0            & 0            & ...          & 0            & 0            & 0            & 0            & 0            & 0            & 0            & 0            & 0            & 0           \\\\\n",
       "\t43 & PGDX16568P   & chr10\\_437  & 0            & 0            & 0            & 0            & 0            & 0.0000000000 & 0            & 0            & ...          & 0            & 0            & 0            & 0            & 0            & 0            & 0            & 0            & 0            & 0           \\\\\n",
       "\\end{tabular}\n"
      ],
      "text/markdown": [
       "\n",
       "| <!--/--> | sample | bin | X30 | X31 | X32 | X33 | X34 | X35 | X36 | X37 | ... | X691 | X692 | X693 | X694 | X695 | X696 | X697 | X698 | X699 | X700 |\n",
       "|---|---|---|---|---|---|---|---|---|---|---|---|---|---|---|---|---|---|---|---|---|---|\n",
       "| 2 | PGDX16568P   | chr10_40     | 0            | 0            | 0            | 0            | 0            | 0.0000000000 | 0            | 0            | ...          | 0            | 0            | 0            | 0            | 0            | 0            | 0            | 0            | 0            | 0            |\n",
       "| 9 | PGDX16568P   | chr10_406    | 0            | 0            | 0            | 0            | 0            | 0.0000000000 | 0            | 0            | ...          | 0            | 0            | 0            | 0            | 0            | 0            | 0            | 0            | 0            | 0            |\n",
       "| 17 | PGDX16568P   | chr10_413    | 0            | 0            | 0            | 0            | 0            | 0.0000000000 | 0            | 0            | ...          | 0            | 0            | 0            | 0            | 0            | 0            | 0            | 0            | 0            | 0            |\n",
       "| 26 | PGDX16568P   | chr10_421    | 0            | 0            | 0            | 0            | 0            | 0.0001756235 | 0            | 0            | ...          | 0            | 0            | 0            | 0            | 0            | 0            | 0            | 0            | 0            | 0            |\n",
       "| 30 | PGDX16568P   | chr10_425    | 0            | 0            | 0            | 0            | 0            | 0.0000000000 | 0            | 0            | ...          | 0            | 0            | 0            | 0            | 0            | 0            | 0            | 0            | 0            | 0            |\n",
       "| 43 | PGDX16568P   | chr10_437    | 0            | 0            | 0            | 0            | 0            | 0.0000000000 | 0            | 0            | ...          | 0            | 0            | 0            | 0            | 0            | 0            | 0            | 0            | 0            | 0            |\n",
       "\n"
      ],
      "text/plain": [
       "   sample     bin       X30 X31 X32 X33 X34 X35          X36 X37 ... X691 X692\n",
       "2  PGDX16568P chr10_40  0   0   0   0   0   0.0000000000 0   0   ... 0    0   \n",
       "9  PGDX16568P chr10_406 0   0   0   0   0   0.0000000000 0   0   ... 0    0   \n",
       "17 PGDX16568P chr10_413 0   0   0   0   0   0.0000000000 0   0   ... 0    0   \n",
       "26 PGDX16568P chr10_421 0   0   0   0   0   0.0001756235 0   0   ... 0    0   \n",
       "30 PGDX16568P chr10_425 0   0   0   0   0   0.0000000000 0   0   ... 0    0   \n",
       "43 PGDX16568P chr10_437 0   0   0   0   0   0.0000000000 0   0   ... 0    0   \n",
       "   X693 X694 X695 X696 X697 X698 X699 X700\n",
       "2  0    0    0    0    0    0    0    0   \n",
       "9  0    0    0    0    0    0    0    0   \n",
       "17 0    0    0    0    0    0    0    0   \n",
       "26 0    0    0    0    0    0    0    0   \n",
       "30 0    0    0    0    0    0    0    0   \n",
       "43 0    0    0    0    0    0    0    0   "
      ]
     },
     "metadata": {},
     "output_type": "display_data"
    }
   ],
   "source": [
    "head(test_data)"
   ]
  },
  {
   "cell_type": "code",
   "execution_count": null,
   "id": "da6eddd5-1b96-433a-a2ac-d0544a135d1a",
   "metadata": {},
   "outputs": [],
   "source": [
    "test_data_samples_bin_rm <- test_data %>% select(-c(\"sample\", \"bin\")) %>% as.matrix()\n",
    "tmp <- as.vector(predict(fit, s=lambda_cv, test_data_samples_bin_rm))"
   ]
  },
  {
   "cell_type": "code",
   "execution_count": null,
   "id": "4d8d680e-bb2d-434c-9db0-8df5c290a7c4",
   "metadata": {},
   "outputs": [],
   "source": [
    "pred_tibble <- tibble(sample = test_data$sample, bin = test_data$bin)\n",
    "pred_tibble <- inner_join(pred_tibble, ATAC, by=\"bin\")\n",
    "pred_tibble <- pred_tibble %>% mutate(ATAC_predicted = tmp)"
   ]
  },
  {
   "cell_type": "code",
   "execution_count": null,
   "id": "9bd26162-e138-4d9d-b537-97071743a8d2",
   "metadata": {},
   "outputs": [],
   "source": [
    "ggplot(pred_tibble, aes(x = ATAC_observed, y = ATAC_predicted)) + \n",
    "    geom_point(size = 0.5) + \n",
    "    geom_smooth(method = \"lm\", formula = y~x)"
   ]
  },
  {
   "cell_type": "code",
   "execution_count": null,
   "id": "7eed3dbc-917d-46a6-af84-340699847385",
   "metadata": {},
   "outputs": [],
   "source": [
    "cor(pred_tibble$ATAC_observed, pred_tibble$ATAC_predicted)"
   ]
  },
  {
   "cell_type": "code",
   "execution_count": null,
   "id": "429b8b76-15de-4b07-8484-be53db359591",
   "metadata": {},
   "outputs": [],
   "source": [
    "ae    <- abs(pred_tibble$ATAC_observed - pred_tibble$ATAC_predicted)\n",
    "(mae   <- mean(ae))"
   ]
  },
  {
   "cell_type": "code",
   "execution_count": null,
   "id": "d57b5a55-9a46-4bf4-8081-1670e6b59581",
   "metadata": {},
   "outputs": [],
   "source": [
    "se    <- (pred_tibble$ATAC_observed - pred_tibble$ATAC_predicted)^2\n",
    "mse   <- mean(se)\n",
    "(rmse <- sqrt(mse))"
   ]
  },
  {
   "cell_type": "code",
   "execution_count": null,
   "id": "b4ba6339-1af7-4185-90c8-b99ba611adea",
   "metadata": {},
   "outputs": [],
   "source": [
    "saveRDS(pred_tibble, file = snakemake@output[[\"output_pred\"]])"
   ]
  }
 ],
 "metadata": {
  "kernelspec": {
   "display_name": "R",
   "language": "R",
   "name": "ir"
  },
  "language_info": {
   "codemirror_mode": "r",
   "file_extension": ".r",
   "mimetype": "text/x-r-source",
   "name": "R",
   "pygments_lexer": "r",
   "version": "3.6.1"
  }
 },
 "nbformat": 4,
 "nbformat_minor": 5
}
