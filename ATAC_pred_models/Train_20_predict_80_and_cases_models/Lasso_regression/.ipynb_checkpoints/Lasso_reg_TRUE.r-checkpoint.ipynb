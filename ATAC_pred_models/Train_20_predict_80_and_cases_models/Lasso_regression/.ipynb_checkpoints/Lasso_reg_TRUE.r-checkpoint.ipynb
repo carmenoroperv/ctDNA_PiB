{
 "cells": [
  {
   "cell_type": "markdown",
   "id": "d7c804ea-e5a5-442c-857e-db4233327851",
   "metadata": {},
   "source": [
    "# Lasso regression"
   ]
  },
  {
   "cell_type": "code",
   "execution_count": 24,
   "id": "3481b5b5",
   "metadata": {},
   "outputs": [
    {
     "name": "stderr",
     "output_type": "stream",
     "text": [
      "\n",
      "Attaching package: ‘glmnetUtils’\n",
      "\n",
      "The following objects are masked from ‘package:glmnet’:\n",
      "\n",
      "    cv.glmnet, glmnet\n",
      "\n"
     ]
    }
   ],
   "source": [
    "library(tidyverse)\n",
    "library(glmnet)\n",
    "\n",
    "install.packages('glmnetUtils')\n",
    "library(glmnetUtils)"
   ]
  },
  {
   "cell_type": "markdown",
   "id": "6088e96b",
   "metadata": {},
   "source": [
    "### Read in data and ATAC values, add ATAC values to the dataframe"
   ]
  },
  {
   "cell_type": "code",
   "execution_count": 9,
   "id": "19ec541d-c641-4c3d-9a04-e5f8f6103fd4",
   "metadata": {},
   "outputs": [
    {
     "data": {
      "text/html": [
       "<table>\n",
       "<thead><tr><th scope=col>sample</th><th scope=col>bin</th><th scope=col>X30</th><th scope=col>X31</th><th scope=col>X32</th><th scope=col>X33</th><th scope=col>X34</th><th scope=col>X35</th><th scope=col>X36</th><th scope=col>X37</th><th scope=col>...</th><th scope=col>X691</th><th scope=col>X692</th><th scope=col>X693</th><th scope=col>X694</th><th scope=col>X695</th><th scope=col>X696</th><th scope=col>X697</th><th scope=col>X698</th><th scope=col>X699</th><th scope=col>X700</th></tr></thead>\n",
       "<tbody>\n",
       "\t<tr><td>PGDX10344P1</td><td>chr10_400  </td><td>0          </td><td>0          </td><td>0          </td><td>0          </td><td>0          </td><td>0          </td><td>0          </td><td>0          </td><td>...        </td><td>0          </td><td>0          </td><td>0          </td><td>0          </td><td>0          </td><td>0          </td><td>0          </td><td>0          </td><td>0          </td><td>0          </td></tr>\n",
       "\t<tr><td>PGDX10344P1</td><td>chr10_40   </td><td>0          </td><td>0          </td><td>0          </td><td>0          </td><td>0          </td><td>0          </td><td>0          </td><td>0          </td><td>...        </td><td>0          </td><td>0          </td><td>0          </td><td>0          </td><td>0          </td><td>0          </td><td>0          </td><td>0          </td><td>0          </td><td>0          </td></tr>\n",
       "\t<tr><td>PGDX10344P1</td><td>chr10_4    </td><td>0          </td><td>0          </td><td>0          </td><td>0          </td><td>0          </td><td>0          </td><td>0          </td><td>0          </td><td>...        </td><td>0          </td><td>0          </td><td>0          </td><td>0          </td><td>0          </td><td>0          </td><td>0          </td><td>0          </td><td>0          </td><td>0          </td></tr>\n",
       "\t<tr><td>PGDX10344P1</td><td>chr10_401  </td><td>0          </td><td>0          </td><td>0          </td><td>0          </td><td>0          </td><td>0          </td><td>0          </td><td>0          </td><td>...        </td><td>0          </td><td>0          </td><td>0          </td><td>0          </td><td>0          </td><td>0          </td><td>0          </td><td>0          </td><td>0          </td><td>0          </td></tr>\n",
       "\t<tr><td>PGDX10344P1</td><td>chr10_402  </td><td>0          </td><td>0          </td><td>0          </td><td>0          </td><td>0          </td><td>0          </td><td>0          </td><td>0          </td><td>...        </td><td>0          </td><td>0          </td><td>0          </td><td>0          </td><td>0          </td><td>0          </td><td>0          </td><td>0          </td><td>0          </td><td>0          </td></tr>\n",
       "\t<tr><td>PGDX10344P1</td><td>chr10_403  </td><td>0          </td><td>0          </td><td>0          </td><td>0          </td><td>0          </td><td>0          </td><td>0          </td><td>0          </td><td>...        </td><td>0          </td><td>0          </td><td>0          </td><td>0          </td><td>0          </td><td>0          </td><td>0          </td><td>0          </td><td>0          </td><td>0          </td></tr>\n",
       "</tbody>\n",
       "</table>\n"
      ],
      "text/latex": [
       "\\begin{tabular}{r|lllllllllllllllllllllllllllllllllllllllllllllllllllllllllllllllllllllllllllllllllllllllllllllllllllllllllllllllllllllllllllllllllllllllllllllllllllllllllllllllllllllllllllllllllllllllllllllllllllllllllllllllllllllllllllllllllllllllllllllllllllllllllllllllllllllllllllllllllllllllllllllllllllllllllllllllllllllllllllllllllllllllllllllllllllllllllllllllllllllllllllllllllllllllllllllllllllllllllllllllllllllllllllllllllllllllllllllllllllllllllllllllllllllllllllllllllllllllllllllllllllllllllllllllllllllllllllllllllllllllllllllllllllllllllllllllllllllllllllllllllllllllllllllllllllllllllllllllllllllllllllllllllllllllllllllllllllllllllllllllllllllllllllllllllllllllllllllllll}\n",
       " sample & bin & X30 & X31 & X32 & X33 & X34 & X35 & X36 & X37 & ... & X691 & X692 & X693 & X694 & X695 & X696 & X697 & X698 & X699 & X700\\\\\n",
       "\\hline\n",
       "\t PGDX10344P1 & chr10\\_400 & 0           & 0           & 0           & 0           & 0           & 0           & 0           & 0           & ...         & 0           & 0           & 0           & 0           & 0           & 0           & 0           & 0           & 0           & 0          \\\\\n",
       "\t PGDX10344P1 & chr10\\_40  & 0           & 0           & 0           & 0           & 0           & 0           & 0           & 0           & ...         & 0           & 0           & 0           & 0           & 0           & 0           & 0           & 0           & 0           & 0          \\\\\n",
       "\t PGDX10344P1 & chr10\\_4   & 0           & 0           & 0           & 0           & 0           & 0           & 0           & 0           & ...         & 0           & 0           & 0           & 0           & 0           & 0           & 0           & 0           & 0           & 0          \\\\\n",
       "\t PGDX10344P1 & chr10\\_401 & 0           & 0           & 0           & 0           & 0           & 0           & 0           & 0           & ...         & 0           & 0           & 0           & 0           & 0           & 0           & 0           & 0           & 0           & 0          \\\\\n",
       "\t PGDX10344P1 & chr10\\_402 & 0           & 0           & 0           & 0           & 0           & 0           & 0           & 0           & ...         & 0           & 0           & 0           & 0           & 0           & 0           & 0           & 0           & 0           & 0          \\\\\n",
       "\t PGDX10344P1 & chr10\\_403 & 0           & 0           & 0           & 0           & 0           & 0           & 0           & 0           & ...         & 0           & 0           & 0           & 0           & 0           & 0           & 0           & 0           & 0           & 0          \\\\\n",
       "\\end{tabular}\n"
      ],
      "text/markdown": [
       "\n",
       "| sample | bin | X30 | X31 | X32 | X33 | X34 | X35 | X36 | X37 | ... | X691 | X692 | X693 | X694 | X695 | X696 | X697 | X698 | X699 | X700 |\n",
       "|---|---|---|---|---|---|---|---|---|---|---|---|---|---|---|---|---|---|---|---|---|\n",
       "| PGDX10344P1 | chr10_400   | 0           | 0           | 0           | 0           | 0           | 0           | 0           | 0           | ...         | 0           | 0           | 0           | 0           | 0           | 0           | 0           | 0           | 0           | 0           |\n",
       "| PGDX10344P1 | chr10_40    | 0           | 0           | 0           | 0           | 0           | 0           | 0           | 0           | ...         | 0           | 0           | 0           | 0           | 0           | 0           | 0           | 0           | 0           | 0           |\n",
       "| PGDX10344P1 | chr10_4     | 0           | 0           | 0           | 0           | 0           | 0           | 0           | 0           | ...         | 0           | 0           | 0           | 0           | 0           | 0           | 0           | 0           | 0           | 0           |\n",
       "| PGDX10344P1 | chr10_401   | 0           | 0           | 0           | 0           | 0           | 0           | 0           | 0           | ...         | 0           | 0           | 0           | 0           | 0           | 0           | 0           | 0           | 0           | 0           |\n",
       "| PGDX10344P1 | chr10_402   | 0           | 0           | 0           | 0           | 0           | 0           | 0           | 0           | ...         | 0           | 0           | 0           | 0           | 0           | 0           | 0           | 0           | 0           | 0           |\n",
       "| PGDX10344P1 | chr10_403   | 0           | 0           | 0           | 0           | 0           | 0           | 0           | 0           | ...         | 0           | 0           | 0           | 0           | 0           | 0           | 0           | 0           | 0           | 0           |\n",
       "\n"
      ],
      "text/plain": [
       "  sample      bin       X30 X31 X32 X33 X34 X35 X36 X37 ... X691 X692 X693 X694\n",
       "1 PGDX10344P1 chr10_400 0   0   0   0   0   0   0   0   ... 0    0    0    0   \n",
       "2 PGDX10344P1 chr10_40  0   0   0   0   0   0   0   0   ... 0    0    0    0   \n",
       "3 PGDX10344P1 chr10_4   0   0   0   0   0   0   0   0   ... 0    0    0    0   \n",
       "4 PGDX10344P1 chr10_401 0   0   0   0   0   0   0   0   ... 0    0    0    0   \n",
       "5 PGDX10344P1 chr10_402 0   0   0   0   0   0   0   0   ... 0    0    0    0   \n",
       "6 PGDX10344P1 chr10_403 0   0   0   0   0   0   0   0   ... 0    0    0    0   \n",
       "  X695 X696 X697 X698 X699 X700\n",
       "1 0    0    0    0    0    0   \n",
       "2 0    0    0    0    0    0   \n",
       "3 0    0    0    0    0    0   \n",
       "4 0    0    0    0    0    0   \n",
       "5 0    0    0    0    0    0   \n",
       "6 0    0    0    0    0    0   "
      ]
     },
     "metadata": {},
     "output_type": "display_data"
    }
   ],
   "source": [
    "#all_samples_gaussian_controls <- read.csv(\"../../../data/cases_controls/all_samples_normalized_CASES.csv\", nrows=20000)\n",
    "#head(all_samples_gaussian_controls)"
   ]
  },
  {
   "cell_type": "code",
   "execution_count": 15,
   "id": "0e3c1ee7-c742-41f6-a088-34b0087427e8",
   "metadata": {},
   "outputs": [],
   "source": [
    "#all_samples_controls <- all_samples_gaussian_controls"
   ]
  },
  {
   "cell_type": "code",
   "execution_count": 10,
   "id": "676fc3ea-6d61-4ef7-8eea-39ffe616ea45",
   "metadata": {},
   "outputs": [],
   "source": [
    "#ATAC <- read.table(\"../../../data/ATACseq_250kb_bins.txt\", header = FALSE)"
   ]
  },
  {
   "cell_type": "code",
   "execution_count": 11,
   "id": "24d2781a-58b4-476c-ace7-f7e1d9fac42b",
   "metadata": {},
   "outputs": [
    {
     "data": {
      "text/html": [
       "<table>\n",
       "<thead><tr><th scope=col>V1</th><th scope=col>V2</th></tr></thead>\n",
       "<tbody>\n",
       "\t<tr><td>chr1_0    </td><td>0.05376791</td></tr>\n",
       "\t<tr><td>chr10_0   </td><td>0.29698782</td></tr>\n",
       "\t<tr><td>chr10_1   </td><td>0.40893151</td></tr>\n",
       "\t<tr><td>chr10_10  </td><td>0.30582283</td></tr>\n",
       "\t<tr><td>chr10_100 </td><td>0.59316570</td></tr>\n",
       "\t<tr><td>chr10_101 </td><td>0.47641373</td></tr>\n",
       "</tbody>\n",
       "</table>\n"
      ],
      "text/latex": [
       "\\begin{tabular}{r|ll}\n",
       " V1 & V2\\\\\n",
       "\\hline\n",
       "\t chr1\\_0    & 0.05376791 \\\\\n",
       "\t chr10\\_0   & 0.29698782 \\\\\n",
       "\t chr10\\_1   & 0.40893151 \\\\\n",
       "\t chr10\\_10  & 0.30582283 \\\\\n",
       "\t chr10\\_100 & 0.59316570 \\\\\n",
       "\t chr10\\_101 & 0.47641373 \\\\\n",
       "\\end{tabular}\n"
      ],
      "text/markdown": [
       "\n",
       "| V1 | V2 |\n",
       "|---|---|\n",
       "| chr1_0     | 0.05376791 |\n",
       "| chr10_0    | 0.29698782 |\n",
       "| chr10_1    | 0.40893151 |\n",
       "| chr10_10   | 0.30582283 |\n",
       "| chr10_100  | 0.59316570 |\n",
       "| chr10_101  | 0.47641373 |\n",
       "\n"
      ],
      "text/plain": [
       "  V1        V2        \n",
       "1 chr1_0    0.05376791\n",
       "2 chr10_0   0.29698782\n",
       "3 chr10_1   0.40893151\n",
       "4 chr10_10  0.30582283\n",
       "5 chr10_100 0.59316570\n",
       "6 chr10_101 0.47641373"
      ]
     },
     "metadata": {},
     "output_type": "display_data"
    }
   ],
   "source": [
    "#head(ATAC)"
   ]
  },
  {
   "cell_type": "code",
   "execution_count": 7,
   "id": "1e8603bc",
   "metadata": {},
   "outputs": [
    {
     "data": {
      "text/html": [
       "<table>\n",
       "<thead><tr><th scope=col>sample</th><th scope=col>bin</th><th scope=col>X30</th><th scope=col>X31</th><th scope=col>X32</th><th scope=col>X33</th><th scope=col>X34</th><th scope=col>X35</th><th scope=col>X36</th><th scope=col>X37</th><th scope=col>...</th><th scope=col>X691</th><th scope=col>X692</th><th scope=col>X693</th><th scope=col>X694</th><th scope=col>X695</th><th scope=col>X696</th><th scope=col>X697</th><th scope=col>X698</th><th scope=col>X699</th><th scope=col>X700</th></tr></thead>\n",
       "<tbody>\n",
       "\t<tr><td>PGDX16568P</td><td>chr10_400 </td><td>0         </td><td>0         </td><td>0         </td><td>0         </td><td>0         </td><td>0         </td><td>0         </td><td>0         </td><td>...       </td><td>0         </td><td>0         </td><td>0         </td><td>0         </td><td>0         </td><td>0         </td><td>0         </td><td>0         </td><td>0         </td><td>0         </td></tr>\n",
       "\t<tr><td>PGDX16568P</td><td>chr10_40  </td><td>0         </td><td>0         </td><td>0         </td><td>0         </td><td>0         </td><td>0         </td><td>0         </td><td>0         </td><td>...       </td><td>0         </td><td>0         </td><td>0         </td><td>0         </td><td>0         </td><td>0         </td><td>0         </td><td>0         </td><td>0         </td><td>0         </td></tr>\n",
       "\t<tr><td>PGDX16568P</td><td>chr10_4   </td><td>0         </td><td>0         </td><td>0         </td><td>0         </td><td>0         </td><td>0         </td><td>0         </td><td>0         </td><td>...       </td><td>0         </td><td>0         </td><td>0         </td><td>0         </td><td>0         </td><td>0         </td><td>0         </td><td>0         </td><td>0         </td><td>0         </td></tr>\n",
       "\t<tr><td>PGDX16568P</td><td>chr10_401 </td><td>0         </td><td>0         </td><td>0         </td><td>0         </td><td>0         </td><td>0         </td><td>0         </td><td>0         </td><td>...       </td><td>0         </td><td>0         </td><td>0         </td><td>0         </td><td>0         </td><td>0         </td><td>0         </td><td>0         </td><td>0         </td><td>0         </td></tr>\n",
       "\t<tr><td>PGDX16568P</td><td>chr10_402 </td><td>0         </td><td>0         </td><td>0         </td><td>0         </td><td>0         </td><td>0         </td><td>0         </td><td>0         </td><td>...       </td><td>0         </td><td>0         </td><td>0         </td><td>0         </td><td>0         </td><td>0         </td><td>0         </td><td>0         </td><td>0         </td><td>0         </td></tr>\n",
       "\t<tr><td>PGDX16568P</td><td>chr10_403 </td><td>0         </td><td>0         </td><td>0         </td><td>0         </td><td>0         </td><td>0         </td><td>0         </td><td>0         </td><td>...       </td><td>0         </td><td>0         </td><td>0         </td><td>0         </td><td>0         </td><td>0         </td><td>0         </td><td>0         </td><td>0         </td><td>0         </td></tr>\n",
       "</tbody>\n",
       "</table>\n"
      ],
      "text/latex": [
       "\\begin{tabular}{r|lllllllllllllllllllllllllllllllllllllllllllllllllllllllllllllllllllllllllllllllllllllllllllllllllllllllllllllllllllllllllllllllllllllllllllllllllllllllllllllllllllllllllllllllllllllllllllllllllllllllllllllllllllllllllllllllllllllllllllllllllllllllllllllllllllllllllllllllllllllllllllllllllllllllllllllllllllllllllllllllllllllllllllllllllllllllllllllllllllllllllllllllllllllllllllllllllllllllllllllllllllllllllllllllllllllllllllllllllllllllllllllllllllllllllllllllllllllllllllllllllllllllllllllllllllllllllllllllllllllllllllllllllllllllllllllllllllllllllllllllllllllllllllllllllllllllllllllllllllllllllllllllllllllllllllllllllllllllllllllllllllllllllllllllllllllllllllllllll}\n",
       " sample & bin & X30 & X31 & X32 & X33 & X34 & X35 & X36 & X37 & ... & X691 & X692 & X693 & X694 & X695 & X696 & X697 & X698 & X699 & X700\\\\\n",
       "\\hline\n",
       "\t PGDX16568P  & chr10\\_400 & 0           & 0           & 0           & 0           & 0           & 0           & 0           & 0           & ...         & 0           & 0           & 0           & 0           & 0           & 0           & 0           & 0           & 0           & 0          \\\\\n",
       "\t PGDX16568P  & chr10\\_40  & 0           & 0           & 0           & 0           & 0           & 0           & 0           & 0           & ...         & 0           & 0           & 0           & 0           & 0           & 0           & 0           & 0           & 0           & 0          \\\\\n",
       "\t PGDX16568P  & chr10\\_4   & 0           & 0           & 0           & 0           & 0           & 0           & 0           & 0           & ...         & 0           & 0           & 0           & 0           & 0           & 0           & 0           & 0           & 0           & 0          \\\\\n",
       "\t PGDX16568P  & chr10\\_401 & 0           & 0           & 0           & 0           & 0           & 0           & 0           & 0           & ...         & 0           & 0           & 0           & 0           & 0           & 0           & 0           & 0           & 0           & 0          \\\\\n",
       "\t PGDX16568P  & chr10\\_402 & 0           & 0           & 0           & 0           & 0           & 0           & 0           & 0           & ...         & 0           & 0           & 0           & 0           & 0           & 0           & 0           & 0           & 0           & 0          \\\\\n",
       "\t PGDX16568P  & chr10\\_403 & 0           & 0           & 0           & 0           & 0           & 0           & 0           & 0           & ...         & 0           & 0           & 0           & 0           & 0           & 0           & 0           & 0           & 0           & 0          \\\\\n",
       "\\end{tabular}\n"
      ],
      "text/markdown": [
       "\n",
       "| sample | bin | X30 | X31 | X32 | X33 | X34 | X35 | X36 | X37 | ... | X691 | X692 | X693 | X694 | X695 | X696 | X697 | X698 | X699 | X700 |\n",
       "|---|---|---|---|---|---|---|---|---|---|---|---|---|---|---|---|---|---|---|---|---|\n",
       "| PGDX16568P | chr10_400  | 0          | 0          | 0          | 0          | 0          | 0          | 0          | 0          | ...        | 0          | 0          | 0          | 0          | 0          | 0          | 0          | 0          | 0          | 0          |\n",
       "| PGDX16568P | chr10_40   | 0          | 0          | 0          | 0          | 0          | 0          | 0          | 0          | ...        | 0          | 0          | 0          | 0          | 0          | 0          | 0          | 0          | 0          | 0          |\n",
       "| PGDX16568P | chr10_4    | 0          | 0          | 0          | 0          | 0          | 0          | 0          | 0          | ...        | 0          | 0          | 0          | 0          | 0          | 0          | 0          | 0          | 0          | 0          |\n",
       "| PGDX16568P | chr10_401  | 0          | 0          | 0          | 0          | 0          | 0          | 0          | 0          | ...        | 0          | 0          | 0          | 0          | 0          | 0          | 0          | 0          | 0          | 0          |\n",
       "| PGDX16568P | chr10_402  | 0          | 0          | 0          | 0          | 0          | 0          | 0          | 0          | ...        | 0          | 0          | 0          | 0          | 0          | 0          | 0          | 0          | 0          | 0          |\n",
       "| PGDX16568P | chr10_403  | 0          | 0          | 0          | 0          | 0          | 0          | 0          | 0          | ...        | 0          | 0          | 0          | 0          | 0          | 0          | 0          | 0          | 0          | 0          |\n",
       "\n"
      ],
      "text/plain": [
       "  sample     bin       X30 X31 X32 X33 X34 X35 X36 X37 ... X691 X692 X693 X694\n",
       "1 PGDX16568P chr10_400 0   0   0   0   0   0   0   0   ... 0    0    0    0   \n",
       "2 PGDX16568P chr10_40  0   0   0   0   0   0   0   0   ... 0    0    0    0   \n",
       "3 PGDX16568P chr10_4   0   0   0   0   0   0   0   0   ... 0    0    0    0   \n",
       "4 PGDX16568P chr10_401 0   0   0   0   0   0   0   0   ... 0    0    0    0   \n",
       "5 PGDX16568P chr10_402 0   0   0   0   0   0   0   0   ... 0    0    0    0   \n",
       "6 PGDX16568P chr10_403 0   0   0   0   0   0   0   0   ... 0    0    0    0   \n",
       "  X695 X696 X697 X698 X699 X700\n",
       "1 0    0    0    0    0    0   \n",
       "2 0    0    0    0    0    0   \n",
       "3 0    0    0    0    0    0   \n",
       "4 0    0    0    0    0    0   \n",
       "5 0    0    0    0    0    0   \n",
       "6 0    0    0    0    0    0   "
      ]
     },
     "metadata": {},
     "output_type": "display_data"
    }
   ],
   "source": [
    "#all_samples_gaussian_controls <- read.csv(\"../../../data/all_samples_normalized_CONTROLS.csv\", nrows=20000)\n",
    "all_samples_controls <- readRDS(snakemake@input[[\"input_train\"]])\n",
    "head(all_samples_controls)"
   ]
  },
  {
   "cell_type": "code",
   "execution_count": 16,
   "id": "0d2355c9-a6ad-404f-a106-06be083aa1f6",
   "metadata": {},
   "outputs": [
    {
     "data": {
      "text/html": [
       "<table>\n",
       "<thead><tr><th scope=col>bin</th><th scope=col>ATAC_observed</th></tr></thead>\n",
       "<tbody>\n",
       "\t<tr><td>chr1_0    </td><td>0.05376791</td></tr>\n",
       "\t<tr><td>chr10_0   </td><td>0.29698782</td></tr>\n",
       "\t<tr><td>chr10_1   </td><td>0.40893151</td></tr>\n",
       "\t<tr><td>chr10_10  </td><td>0.30582283</td></tr>\n",
       "\t<tr><td>chr10_100 </td><td>0.59316570</td></tr>\n",
       "\t<tr><td>chr10_101 </td><td>0.47641373</td></tr>\n",
       "</tbody>\n",
       "</table>\n"
      ],
      "text/latex": [
       "\\begin{tabular}{r|ll}\n",
       " bin & ATAC\\_observed\\\\\n",
       "\\hline\n",
       "\t chr1\\_0    & 0.05376791 \\\\\n",
       "\t chr10\\_0   & 0.29698782 \\\\\n",
       "\t chr10\\_1   & 0.40893151 \\\\\n",
       "\t chr10\\_10  & 0.30582283 \\\\\n",
       "\t chr10\\_100 & 0.59316570 \\\\\n",
       "\t chr10\\_101 & 0.47641373 \\\\\n",
       "\\end{tabular}\n"
      ],
      "text/markdown": [
       "\n",
       "| bin | ATAC_observed |\n",
       "|---|---|\n",
       "| chr1_0     | 0.05376791 |\n",
       "| chr10_0    | 0.29698782 |\n",
       "| chr10_1    | 0.40893151 |\n",
       "| chr10_10   | 0.30582283 |\n",
       "| chr10_100  | 0.59316570 |\n",
       "| chr10_101  | 0.47641373 |\n",
       "\n"
      ],
      "text/plain": [
       "  bin       ATAC_observed\n",
       "1 chr1_0    0.05376791   \n",
       "2 chr10_0   0.29698782   \n",
       "3 chr10_1   0.40893151   \n",
       "4 chr10_10  0.30582283   \n",
       "5 chr10_100 0.59316570   \n",
       "6 chr10_101 0.47641373   "
      ]
     },
     "metadata": {},
     "output_type": "display_data"
    },
    {
     "data": {
      "text/html": [
       "<table>\n",
       "<thead><tr><th scope=col>sample</th><th scope=col>bin</th><th scope=col>X30</th><th scope=col>X31</th><th scope=col>X32</th><th scope=col>X33</th><th scope=col>X34</th><th scope=col>X35</th><th scope=col>X36</th><th scope=col>X37</th><th scope=col>...</th><th scope=col>X692</th><th scope=col>X693</th><th scope=col>X694</th><th scope=col>X695</th><th scope=col>X696</th><th scope=col>X697</th><th scope=col>X698</th><th scope=col>X699</th><th scope=col>X700</th><th scope=col>ATAC_observed</th></tr></thead>\n",
       "<tbody>\n",
       "\t<tr><td>PGDX10344P1</td><td>chr10_400  </td><td>0          </td><td>0          </td><td>0          </td><td>0          </td><td>0          </td><td>0          </td><td>0          </td><td>0          </td><td>...        </td><td>0          </td><td>0          </td><td>0          </td><td>0          </td><td>0          </td><td>0          </td><td>0          </td><td>0          </td><td>0          </td><td>0.5866651  </td></tr>\n",
       "\t<tr><td>PGDX10344P1</td><td>chr10_40   </td><td>0          </td><td>0          </td><td>0          </td><td>0          </td><td>0          </td><td>0          </td><td>0          </td><td>0          </td><td>...        </td><td>0          </td><td>0          </td><td>0          </td><td>0          </td><td>0          </td><td>0          </td><td>0          </td><td>0          </td><td>0          </td><td>0.1996134  </td></tr>\n",
       "\t<tr><td>PGDX10344P1</td><td>chr10_4    </td><td>0          </td><td>0          </td><td>0          </td><td>0          </td><td>0          </td><td>0          </td><td>0          </td><td>0          </td><td>...        </td><td>0          </td><td>0          </td><td>0          </td><td>0          </td><td>0          </td><td>0          </td><td>0          </td><td>0          </td><td>0          </td><td>0.5968816  </td></tr>\n",
       "\t<tr><td>PGDX10344P1</td><td>chr10_401  </td><td>0          </td><td>0          </td><td>0          </td><td>0          </td><td>0          </td><td>0          </td><td>0          </td><td>0          </td><td>...        </td><td>0          </td><td>0          </td><td>0          </td><td>0          </td><td>0          </td><td>0          </td><td>0          </td><td>0          </td><td>0          </td><td>0.2905764  </td></tr>\n",
       "\t<tr><td>PGDX10344P1</td><td>chr10_402  </td><td>0          </td><td>0          </td><td>0          </td><td>0          </td><td>0          </td><td>0          </td><td>0          </td><td>0          </td><td>...        </td><td>0          </td><td>0          </td><td>0          </td><td>0          </td><td>0          </td><td>0          </td><td>0          </td><td>0          </td><td>0          </td><td>0.2319729  </td></tr>\n",
       "\t<tr><td>PGDX10344P1</td><td>chr10_403  </td><td>0          </td><td>0          </td><td>0          </td><td>0          </td><td>0          </td><td>0          </td><td>0          </td><td>0          </td><td>...        </td><td>0          </td><td>0          </td><td>0          </td><td>0          </td><td>0          </td><td>0          </td><td>0          </td><td>0          </td><td>0          </td><td>0.2262170  </td></tr>\n",
       "</tbody>\n",
       "</table>\n"
      ],
      "text/latex": [
       "\\begin{tabular}{r|llllllllllllllllllllllllllllllllllllllllllllllllllllllllllllllllllllllllllllllllllllllllllllllllllllllllllllllllllllllllllllllllllllllllllllllllllllllllllllllllllllllllllllllllllllllllllllllllllllllllllllllllllllllllllllllllllllllllllllllllllllllllllllllllllllllllllllllllllllllllllllllllllllllllllllllllllllllllllllllllllllllllllllllllllllllllllllllllllllllllllllllllllllllllllllllllllllllllllllllllllllllllllllllllllllllllllllllllllllllllllllllllllllllllllllllllllllllllllllllllllllllllllllllllllllllllllllllllllllllllllllllllllllllllllllllllllllllllllllllllllllllllllllllllllllllllllllllllllllllllllllllllllllllllllllllllllllllllllllllllllllllllllllllllllllllllllllllllll}\n",
       " sample & bin & X30 & X31 & X32 & X33 & X34 & X35 & X36 & X37 & ... & X692 & X693 & X694 & X695 & X696 & X697 & X698 & X699 & X700 & ATAC\\_observed\\\\\n",
       "\\hline\n",
       "\t PGDX10344P1 & chr10\\_400 & 0           & 0           & 0           & 0           & 0           & 0           & 0           & 0           & ...         & 0           & 0           & 0           & 0           & 0           & 0           & 0           & 0           & 0           & 0.5866651  \\\\\n",
       "\t PGDX10344P1 & chr10\\_40  & 0           & 0           & 0           & 0           & 0           & 0           & 0           & 0           & ...         & 0           & 0           & 0           & 0           & 0           & 0           & 0           & 0           & 0           & 0.1996134  \\\\\n",
       "\t PGDX10344P1 & chr10\\_4   & 0           & 0           & 0           & 0           & 0           & 0           & 0           & 0           & ...         & 0           & 0           & 0           & 0           & 0           & 0           & 0           & 0           & 0           & 0.5968816  \\\\\n",
       "\t PGDX10344P1 & chr10\\_401 & 0           & 0           & 0           & 0           & 0           & 0           & 0           & 0           & ...         & 0           & 0           & 0           & 0           & 0           & 0           & 0           & 0           & 0           & 0.2905764  \\\\\n",
       "\t PGDX10344P1 & chr10\\_402 & 0           & 0           & 0           & 0           & 0           & 0           & 0           & 0           & ...         & 0           & 0           & 0           & 0           & 0           & 0           & 0           & 0           & 0           & 0.2319729  \\\\\n",
       "\t PGDX10344P1 & chr10\\_403 & 0           & 0           & 0           & 0           & 0           & 0           & 0           & 0           & ...         & 0           & 0           & 0           & 0           & 0           & 0           & 0           & 0           & 0           & 0.2262170  \\\\\n",
       "\\end{tabular}\n"
      ],
      "text/markdown": [
       "\n",
       "| sample | bin | X30 | X31 | X32 | X33 | X34 | X35 | X36 | X37 | ... | X692 | X693 | X694 | X695 | X696 | X697 | X698 | X699 | X700 | ATAC_observed |\n",
       "|---|---|---|---|---|---|---|---|---|---|---|---|---|---|---|---|---|---|---|---|---|\n",
       "| PGDX10344P1 | chr10_400   | 0           | 0           | 0           | 0           | 0           | 0           | 0           | 0           | ...         | 0           | 0           | 0           | 0           | 0           | 0           | 0           | 0           | 0           | 0.5866651   |\n",
       "| PGDX10344P1 | chr10_40    | 0           | 0           | 0           | 0           | 0           | 0           | 0           | 0           | ...         | 0           | 0           | 0           | 0           | 0           | 0           | 0           | 0           | 0           | 0.1996134   |\n",
       "| PGDX10344P1 | chr10_4     | 0           | 0           | 0           | 0           | 0           | 0           | 0           | 0           | ...         | 0           | 0           | 0           | 0           | 0           | 0           | 0           | 0           | 0           | 0.5968816   |\n",
       "| PGDX10344P1 | chr10_401   | 0           | 0           | 0           | 0           | 0           | 0           | 0           | 0           | ...         | 0           | 0           | 0           | 0           | 0           | 0           | 0           | 0           | 0           | 0.2905764   |\n",
       "| PGDX10344P1 | chr10_402   | 0           | 0           | 0           | 0           | 0           | 0           | 0           | 0           | ...         | 0           | 0           | 0           | 0           | 0           | 0           | 0           | 0           | 0           | 0.2319729   |\n",
       "| PGDX10344P1 | chr10_403   | 0           | 0           | 0           | 0           | 0           | 0           | 0           | 0           | ...         | 0           | 0           | 0           | 0           | 0           | 0           | 0           | 0           | 0           | 0.2262170   |\n",
       "\n"
      ],
      "text/plain": [
       "  sample      bin       X30 X31 X32 X33 X34 X35 X36 X37 ... X692 X693 X694 X695\n",
       "1 PGDX10344P1 chr10_400 0   0   0   0   0   0   0   0   ... 0    0    0    0   \n",
       "2 PGDX10344P1 chr10_40  0   0   0   0   0   0   0   0   ... 0    0    0    0   \n",
       "3 PGDX10344P1 chr10_4   0   0   0   0   0   0   0   0   ... 0    0    0    0   \n",
       "4 PGDX10344P1 chr10_401 0   0   0   0   0   0   0   0   ... 0    0    0    0   \n",
       "5 PGDX10344P1 chr10_402 0   0   0   0   0   0   0   0   ... 0    0    0    0   \n",
       "6 PGDX10344P1 chr10_403 0   0   0   0   0   0   0   0   ... 0    0    0    0   \n",
       "  X696 X697 X698 X699 X700 ATAC_observed\n",
       "1 0    0    0    0    0    0.5866651    \n",
       "2 0    0    0    0    0    0.1996134    \n",
       "3 0    0    0    0    0    0.5968816    \n",
       "4 0    0    0    0    0    0.2905764    \n",
       "5 0    0    0    0    0    0.2319729    \n",
       "6 0    0    0    0    0    0.2262170    "
      ]
     },
     "metadata": {},
     "output_type": "display_data"
    }
   ],
   "source": [
    "#ATAC <- read.table(\"../../../data/ATACseq_250kb_bins.txt\", header = FALSE)\n",
    "ATAC <- readRDS(snakemake@input[[\"input_atac\"]])\n",
    "\n",
    "colnames(ATAC) <- c(\"bin\", \"ATAC_observed\")\n",
    "head(ATAC)\n",
    "\n",
    "ATAC$ATAC_observed <- as.character(ATAC$ATAC_observed)\n",
    "ATAC$ATAC_observed <- as.numeric(ATAC$ATAC_observed)\n",
    "ATAC$bin <- as.character(ATAC$bin)\n",
    "\n",
    "all_samples_ATAC_controls <- inner_join(all_samples_controls, ATAC, by=\"bin\")\n",
    "\n",
    "head(all_samples_ATAC_controls)"
   ]
  },
  {
   "cell_type": "code",
   "execution_count": 17,
   "id": "d4113760-f513-4fd6-bc8f-a2348a300cb7",
   "metadata": {},
   "outputs": [
    {
     "data": {
      "text/html": [
       "<table>\n",
       "<thead><tr><th scope=col>X30</th><th scope=col>X31</th><th scope=col>X32</th><th scope=col>X33</th><th scope=col>X34</th><th scope=col>X35</th><th scope=col>X36</th><th scope=col>X37</th><th scope=col>X38</th><th scope=col>X39</th><th scope=col>...</th><th scope=col>X691</th><th scope=col>X692</th><th scope=col>X693</th><th scope=col>X694</th><th scope=col>X695</th><th scope=col>X696</th><th scope=col>X697</th><th scope=col>X698</th><th scope=col>X699</th><th scope=col>X700</th></tr></thead>\n",
       "<tbody>\n",
       "\t<tr><td>0  </td><td>0  </td><td>0  </td><td>0  </td><td>0  </td><td>0  </td><td>0  </td><td>0  </td><td>0  </td><td>0  </td><td>...</td><td>0  </td><td>0  </td><td>0  </td><td>0  </td><td>0  </td><td>0  </td><td>0  </td><td>0  </td><td>0  </td><td>0  </td></tr>\n",
       "\t<tr><td>0  </td><td>0  </td><td>0  </td><td>0  </td><td>0  </td><td>0  </td><td>0  </td><td>0  </td><td>0  </td><td>0  </td><td>...</td><td>0  </td><td>0  </td><td>0  </td><td>0  </td><td>0  </td><td>0  </td><td>0  </td><td>0  </td><td>0  </td><td>0  </td></tr>\n",
       "\t<tr><td>0  </td><td>0  </td><td>0  </td><td>0  </td><td>0  </td><td>0  </td><td>0  </td><td>0  </td><td>0  </td><td>0  </td><td>...</td><td>0  </td><td>0  </td><td>0  </td><td>0  </td><td>0  </td><td>0  </td><td>0  </td><td>0  </td><td>0  </td><td>0  </td></tr>\n",
       "\t<tr><td>0  </td><td>0  </td><td>0  </td><td>0  </td><td>0  </td><td>0  </td><td>0  </td><td>0  </td><td>0  </td><td>0  </td><td>...</td><td>0  </td><td>0  </td><td>0  </td><td>0  </td><td>0  </td><td>0  </td><td>0  </td><td>0  </td><td>0  </td><td>0  </td></tr>\n",
       "\t<tr><td>0  </td><td>0  </td><td>0  </td><td>0  </td><td>0  </td><td>0  </td><td>0  </td><td>0  </td><td>0  </td><td>0  </td><td>...</td><td>0  </td><td>0  </td><td>0  </td><td>0  </td><td>0  </td><td>0  </td><td>0  </td><td>0  </td><td>0  </td><td>0  </td></tr>\n",
       "\t<tr><td>0  </td><td>0  </td><td>0  </td><td>0  </td><td>0  </td><td>0  </td><td>0  </td><td>0  </td><td>0  </td><td>0  </td><td>...</td><td>0  </td><td>0  </td><td>0  </td><td>0  </td><td>0  </td><td>0  </td><td>0  </td><td>0  </td><td>0  </td><td>0  </td></tr>\n",
       "</tbody>\n",
       "</table>\n"
      ],
      "text/latex": [
       "\\begin{tabular}{r|lllllllllllllllllllllllllllllllllllllllllllllllllllllllllllllllllllllllllllllllllllllllllllllllllllllllllllllllllllllllllllllllllllllllllllllllllllllllllllllllllllllllllllllllllllllllllllllllllllllllllllllllllllllllllllllllllllllllllllllllllllllllllllllllllllllllllllllllllllllllllllllllllllllllllllllllllllllllllllllllllllllllllllllllllllllllllllllllllllllllllllllllllllllllllllllllllllllllllllllllllllllllllllllllllllllllllllllllllllllllllllllllllllllllllllllllllllllllllllllllllllllllllllllllllllllllllllllllllllllllllllllllllllllllllllllllllllllllllllllllllllllllllllllllllllllllllllllllllllllllllllllllllllllllllllllllllllllllllllllllllllllllllllllllllllllllllllllll}\n",
       " X30 & X31 & X32 & X33 & X34 & X35 & X36 & X37 & X38 & X39 & ... & X691 & X692 & X693 & X694 & X695 & X696 & X697 & X698 & X699 & X700\\\\\n",
       "\\hline\n",
       "\t 0   & 0   & 0   & 0   & 0   & 0   & 0   & 0   & 0   & 0   & ... & 0   & 0   & 0   & 0   & 0   & 0   & 0   & 0   & 0   & 0  \\\\\n",
       "\t 0   & 0   & 0   & 0   & 0   & 0   & 0   & 0   & 0   & 0   & ... & 0   & 0   & 0   & 0   & 0   & 0   & 0   & 0   & 0   & 0  \\\\\n",
       "\t 0   & 0   & 0   & 0   & 0   & 0   & 0   & 0   & 0   & 0   & ... & 0   & 0   & 0   & 0   & 0   & 0   & 0   & 0   & 0   & 0  \\\\\n",
       "\t 0   & 0   & 0   & 0   & 0   & 0   & 0   & 0   & 0   & 0   & ... & 0   & 0   & 0   & 0   & 0   & 0   & 0   & 0   & 0   & 0  \\\\\n",
       "\t 0   & 0   & 0   & 0   & 0   & 0   & 0   & 0   & 0   & 0   & ... & 0   & 0   & 0   & 0   & 0   & 0   & 0   & 0   & 0   & 0  \\\\\n",
       "\t 0   & 0   & 0   & 0   & 0   & 0   & 0   & 0   & 0   & 0   & ... & 0   & 0   & 0   & 0   & 0   & 0   & 0   & 0   & 0   & 0  \\\\\n",
       "\\end{tabular}\n"
      ],
      "text/markdown": [
       "\n",
       "| X30 | X31 | X32 | X33 | X34 | X35 | X36 | X37 | X38 | X39 | ... | X691 | X692 | X693 | X694 | X695 | X696 | X697 | X698 | X699 | X700 |\n",
       "|---|---|---|---|---|---|---|---|---|---|---|---|---|---|---|---|---|---|---|---|---|\n",
       "| 0   | 0   | 0   | 0   | 0   | 0   | 0   | 0   | 0   | 0   | ... | 0   | 0   | 0   | 0   | 0   | 0   | 0   | 0   | 0   | 0   |\n",
       "| 0   | 0   | 0   | 0   | 0   | 0   | 0   | 0   | 0   | 0   | ... | 0   | 0   | 0   | 0   | 0   | 0   | 0   | 0   | 0   | 0   |\n",
       "| 0   | 0   | 0   | 0   | 0   | 0   | 0   | 0   | 0   | 0   | ... | 0   | 0   | 0   | 0   | 0   | 0   | 0   | 0   | 0   | 0   |\n",
       "| 0   | 0   | 0   | 0   | 0   | 0   | 0   | 0   | 0   | 0   | ... | 0   | 0   | 0   | 0   | 0   | 0   | 0   | 0   | 0   | 0   |\n",
       "| 0   | 0   | 0   | 0   | 0   | 0   | 0   | 0   | 0   | 0   | ... | 0   | 0   | 0   | 0   | 0   | 0   | 0   | 0   | 0   | 0   |\n",
       "| 0   | 0   | 0   | 0   | 0   | 0   | 0   | 0   | 0   | 0   | ... | 0   | 0   | 0   | 0   | 0   | 0   | 0   | 0   | 0   | 0   |\n",
       "\n"
      ],
      "text/plain": [
       "  X30 X31 X32 X33 X34 X35 X36 X37 X38 X39 ... X691 X692 X693 X694 X695 X696\n",
       "1 0   0   0   0   0   0   0   0   0   0   ... 0    0    0    0    0    0   \n",
       "2 0   0   0   0   0   0   0   0   0   0   ... 0    0    0    0    0    0   \n",
       "3 0   0   0   0   0   0   0   0   0   0   ... 0    0    0    0    0    0   \n",
       "4 0   0   0   0   0   0   0   0   0   0   ... 0    0    0    0    0    0   \n",
       "5 0   0   0   0   0   0   0   0   0   0   ... 0    0    0    0    0    0   \n",
       "6 0   0   0   0   0   0   0   0   0   0   ... 0    0    0    0    0    0   \n",
       "  X697 X698 X699 X700\n",
       "1 0    0    0    0   \n",
       "2 0    0    0    0   \n",
       "3 0    0    0    0   \n",
       "4 0    0    0    0   \n",
       "5 0    0    0    0   \n",
       "6 0    0    0    0   "
      ]
     },
     "metadata": {},
     "output_type": "display_data"
    },
    {
     "data": {
      "text/html": [
       "<table>\n",
       "<thead><tr><th scope=col>ATAC_observed</th></tr></thead>\n",
       "<tbody>\n",
       "\t<tr><td>0.5866651</td></tr>\n",
       "\t<tr><td>0.1996134</td></tr>\n",
       "\t<tr><td>0.5968816</td></tr>\n",
       "\t<tr><td>0.2905764</td></tr>\n",
       "\t<tr><td>0.2319729</td></tr>\n",
       "\t<tr><td>0.2262170</td></tr>\n",
       "</tbody>\n",
       "</table>\n"
      ],
      "text/latex": [
       "\\begin{tabular}{r|l}\n",
       " ATAC\\_observed\\\\\n",
       "\\hline\n",
       "\t 0.5866651\\\\\n",
       "\t 0.1996134\\\\\n",
       "\t 0.5968816\\\\\n",
       "\t 0.2905764\\\\\n",
       "\t 0.2319729\\\\\n",
       "\t 0.2262170\\\\\n",
       "\\end{tabular}\n"
      ],
      "text/markdown": [
       "\n",
       "| ATAC_observed |\n",
       "|---|\n",
       "| 0.5866651 |\n",
       "| 0.1996134 |\n",
       "| 0.5968816 |\n",
       "| 0.2905764 |\n",
       "| 0.2319729 |\n",
       "| 0.2262170 |\n",
       "\n"
      ],
      "text/plain": [
       "  ATAC_observed\n",
       "1 0.5866651    \n",
       "2 0.1996134    \n",
       "3 0.5968816    \n",
       "4 0.2905764    \n",
       "5 0.2319729    \n",
       "6 0.2262170    "
      ]
     },
     "metadata": {},
     "output_type": "display_data"
    }
   ],
   "source": [
    "ATAC_val <- all_samples_ATAC_controls %>% select(ATAC_observed)\n",
    "controls_predictions <- all_samples_ATAC_controls %>% select(sample, bin)\n",
    "all_samples_ATAC_controls = all_samples_ATAC_controls %>% select(-c(ATAC_observed, sample, bin))\n",
    "\n",
    "head(all_samples_ATAC_controls)\n",
    "head(ATAC_val)"
   ]
  },
  {
   "cell_type": "markdown",
   "id": "75e34ab0",
   "metadata": {},
   "source": [
    "## Lasso regression"
   ]
  },
  {
   "cell_type": "markdown",
   "id": "808f1462",
   "metadata": {},
   "source": [
    "## Cross validation to find the best lambda and alpha"
   ]
  },
  {
   "cell_type": "markdown",
   "id": "a35749ba-98e9-43ac-b797-09fdb3c44a72",
   "metadata": {},
   "source": [
    "## Fit the model on 20% of controls"
   ]
  },
  {
   "cell_type": "code",
   "execution_count": 27,
   "id": "64e7451d-ac92-4da8-b334-15880835fff7",
   "metadata": {},
   "outputs": [],
   "source": [
    "get_cvm <- function(model) {\n",
    "   index <- match(model$lambda.min, model$lambda)\n",
    "  model$cvm[index]\n",
    "}"
   ]
  },
  {
   "cell_type": "code",
   "execution_count": 28,
   "id": "cc241f1b-666f-442d-bb55-f1629e46c17e",
   "metadata": {},
   "outputs": [
    {
     "ename": "ERROR",
     "evalue": "Error in saveRDS(fit, snakemake@output[[\"output_model\"]]): object 'snakemake' not found\n",
     "output_type": "error",
     "traceback": [
      "Error in saveRDS(fit, snakemake@output[[\"output_model\"]]): object 'snakemake' not found\nTraceback:\n",
      "1. saveRDS(fit, snakemake@output[[\"output_model\"]])"
     ]
    }
   ],
   "source": [
    "y <- ATAC_val %>% as.matrix()\n",
    "X <- all_samples_ATAC_controls %>% as.matrix()\n",
    "\n",
    "######### finding the best alpha #########\n",
    "set.seed(0)\n",
    "lasso_cva <- cva.glmnet(X, y, nfolds = 10)\n",
    "enet_performance <- data.frame(alpha = lasso_cva$alpha)\n",
    "models <- lasso_cva$modlist\n",
    "enet_performance$cvm <- vapply(models, get_cvm, numeric(1))\n",
    "\n",
    "minix <- which.min(enet_performance$cvm)\n",
    "best_alpha <- lasso_cva$alpha[minix]\n",
    "###########################################\n",
    "\n",
    "######### finding the best lambda #########\n",
    "set.seed(0)\n",
    "lasso_cv <- cv.glmnet(X, y, alpha = best_alpha,\n",
    "                      standardize = TRUE, nfolds = 10)\n",
    "\n",
    "plot(lasso_cv)\n",
    "\n",
    "###########################################\n"
   ]
  },
  {
   "cell_type": "code",
   "execution_count": null,
   "id": "f2bfe29b-1142-422a-a092-c1067c2eb307",
   "metadata": {},
   "outputs": [],
   "source": [
    "(lambda_cv <- lasso_cv$lambda.min)"
   ]
  },
  {
   "cell_type": "code",
   "execution_count": null,
   "id": "f7c5407c-c28e-4d33-aee7-d26759f911ec",
   "metadata": {},
   "outputs": [],
   "source": [
    "y <- ATAC_val %>% as.matrix()\n",
    "X <- all_samples_ATAC_controls %>% as.matrix()\n",
    "\n",
    "fit       <- glmnet(X, y, alpha = best_alpha, lambda = lambda_cv, standardize = TRUE)\n",
    "# saving the model\n",
    "saveRDS(fit, snakemake@output[[\"output_model\"]])"
   ]
  },
  {
   "cell_type": "markdown",
   "id": "5d1373d5",
   "metadata": {},
   "source": [
    "## Predict on 80% normalized controls and all the cases using the model (fitted on train controls) and save the predictions to the file"
   ]
  },
  {
   "cell_type": "code",
   "execution_count": 1,
   "id": "590667a4-c2d4-4d93-b336-1c6623f55567",
   "metadata": {},
   "outputs": [],
   "source": [
    "#filename = \"../../../data/all_samples_normalized_CASES.csv\"\n",
    "#test_data = readRDS(\"../../data/20_80_splits/20_all_samples_normalized_CONTROLS.rds\")\n",
    "\n",
    "test_data_80_controls = readRDS(snakemake@input[[\"input_test_controls\"]])\n",
    "test_data_cases = readRDS(snakemake@input[[\"input_test_cases\"]])"
   ]
  },
  {
   "cell_type": "code",
   "execution_count": 3,
   "id": "d2d8d402-b9a4-4131-960b-0b1eaaff9d1b",
   "metadata": {
    "tags": []
   },
   "outputs": [
    {
     "data": {
      "text/html": [
       "<table>\n",
       "<thead><tr><th></th><th scope=col>sample</th><th scope=col>bin</th><th scope=col>X30</th><th scope=col>X31</th><th scope=col>X32</th><th scope=col>X33</th><th scope=col>X34</th><th scope=col>X35</th><th scope=col>X36</th><th scope=col>X37</th><th scope=col>...</th><th scope=col>X691</th><th scope=col>X692</th><th scope=col>X693</th><th scope=col>X694</th><th scope=col>X695</th><th scope=col>X696</th><th scope=col>X697</th><th scope=col>X698</th><th scope=col>X699</th><th scope=col>X700</th></tr></thead>\n",
       "<tbody>\n",
       "\t<tr><th scope=row>2</th><td>PGDX16568P  </td><td>chr10_40    </td><td>0           </td><td>0           </td><td>0           </td><td>0           </td><td>0           </td><td>0.0000000000</td><td>0           </td><td>0           </td><td>...         </td><td>0           </td><td>0           </td><td>0           </td><td>0           </td><td>0           </td><td>0           </td><td>0           </td><td>0           </td><td>0           </td><td>0           </td></tr>\n",
       "\t<tr><th scope=row>9</th><td>PGDX16568P  </td><td>chr10_406   </td><td>0           </td><td>0           </td><td>0           </td><td>0           </td><td>0           </td><td>0.0000000000</td><td>0           </td><td>0           </td><td>...         </td><td>0           </td><td>0           </td><td>0           </td><td>0           </td><td>0           </td><td>0           </td><td>0           </td><td>0           </td><td>0           </td><td>0           </td></tr>\n",
       "\t<tr><th scope=row>17</th><td>PGDX16568P  </td><td>chr10_413   </td><td>0           </td><td>0           </td><td>0           </td><td>0           </td><td>0           </td><td>0.0000000000</td><td>0           </td><td>0           </td><td>...         </td><td>0           </td><td>0           </td><td>0           </td><td>0           </td><td>0           </td><td>0           </td><td>0           </td><td>0           </td><td>0           </td><td>0           </td></tr>\n",
       "\t<tr><th scope=row>26</th><td>PGDX16568P  </td><td>chr10_421   </td><td>0           </td><td>0           </td><td>0           </td><td>0           </td><td>0           </td><td>0.0001756235</td><td>0           </td><td>0           </td><td>...         </td><td>0           </td><td>0           </td><td>0           </td><td>0           </td><td>0           </td><td>0           </td><td>0           </td><td>0           </td><td>0           </td><td>0           </td></tr>\n",
       "\t<tr><th scope=row>30</th><td>PGDX16568P  </td><td>chr10_425   </td><td>0           </td><td>0           </td><td>0           </td><td>0           </td><td>0           </td><td>0.0000000000</td><td>0           </td><td>0           </td><td>...         </td><td>0           </td><td>0           </td><td>0           </td><td>0           </td><td>0           </td><td>0           </td><td>0           </td><td>0           </td><td>0           </td><td>0           </td></tr>\n",
       "\t<tr><th scope=row>43</th><td>PGDX16568P  </td><td>chr10_437   </td><td>0           </td><td>0           </td><td>0           </td><td>0           </td><td>0           </td><td>0.0000000000</td><td>0           </td><td>0           </td><td>...         </td><td>0           </td><td>0           </td><td>0           </td><td>0           </td><td>0           </td><td>0           </td><td>0           </td><td>0           </td><td>0           </td><td>0           </td></tr>\n",
       "</tbody>\n",
       "</table>\n"
      ],
      "text/latex": [
       "\\begin{tabular}{r|lllllllllllllllllllllllllllllllllllllllllllllllllllllllllllllllllllllllllllllllllllllllllllllllllllllllllllllllllllllllllllllllllllllllllllllllllllllllllllllllllllllllllllllllllllllllllllllllllllllllllllllllllllllllllllllllllllllllllllllllllllllllllllllllllllllllllllllllllllllllllllllllllllllllllllllllllllllllllllllllllllllllllllllllllllllllllllllllllllllllllllllllllllllllllllllllllllllllllllllllllllllllllllllllllllllllllllllllllllllllllllllllllllllllllllllllllllllllllllllllllllllllllllllllllllllllllllllllllllllllllllllllllllllllllllllllllllllllllllllllllllllllllllllllllllllllllllllllllllllllllllllllllllllllllllllllllllllllllllllllllllllllllllllllllllllllllllllllll}\n",
       "  & sample & bin & X30 & X31 & X32 & X33 & X34 & X35 & X36 & X37 & ... & X691 & X692 & X693 & X694 & X695 & X696 & X697 & X698 & X699 & X700\\\\\n",
       "\\hline\n",
       "\t2 & PGDX16568P   & chr10\\_40   & 0            & 0            & 0            & 0            & 0            & 0.0000000000 & 0            & 0            & ...          & 0            & 0            & 0            & 0            & 0            & 0            & 0            & 0            & 0            & 0           \\\\\n",
       "\t9 & PGDX16568P   & chr10\\_406  & 0            & 0            & 0            & 0            & 0            & 0.0000000000 & 0            & 0            & ...          & 0            & 0            & 0            & 0            & 0            & 0            & 0            & 0            & 0            & 0           \\\\\n",
       "\t17 & PGDX16568P   & chr10\\_413  & 0            & 0            & 0            & 0            & 0            & 0.0000000000 & 0            & 0            & ...          & 0            & 0            & 0            & 0            & 0            & 0            & 0            & 0            & 0            & 0           \\\\\n",
       "\t26 & PGDX16568P   & chr10\\_421  & 0            & 0            & 0            & 0            & 0            & 0.0001756235 & 0            & 0            & ...          & 0            & 0            & 0            & 0            & 0            & 0            & 0            & 0            & 0            & 0           \\\\\n",
       "\t30 & PGDX16568P   & chr10\\_425  & 0            & 0            & 0            & 0            & 0            & 0.0000000000 & 0            & 0            & ...          & 0            & 0            & 0            & 0            & 0            & 0            & 0            & 0            & 0            & 0           \\\\\n",
       "\t43 & PGDX16568P   & chr10\\_437  & 0            & 0            & 0            & 0            & 0            & 0.0000000000 & 0            & 0            & ...          & 0            & 0            & 0            & 0            & 0            & 0            & 0            & 0            & 0            & 0           \\\\\n",
       "\\end{tabular}\n"
      ],
      "text/markdown": [
       "\n",
       "| <!--/--> | sample | bin | X30 | X31 | X32 | X33 | X34 | X35 | X36 | X37 | ... | X691 | X692 | X693 | X694 | X695 | X696 | X697 | X698 | X699 | X700 |\n",
       "|---|---|---|---|---|---|---|---|---|---|---|---|---|---|---|---|---|---|---|---|---|---|\n",
       "| 2 | PGDX16568P   | chr10_40     | 0            | 0            | 0            | 0            | 0            | 0.0000000000 | 0            | 0            | ...          | 0            | 0            | 0            | 0            | 0            | 0            | 0            | 0            | 0            | 0            |\n",
       "| 9 | PGDX16568P   | chr10_406    | 0            | 0            | 0            | 0            | 0            | 0.0000000000 | 0            | 0            | ...          | 0            | 0            | 0            | 0            | 0            | 0            | 0            | 0            | 0            | 0            |\n",
       "| 17 | PGDX16568P   | chr10_413    | 0            | 0            | 0            | 0            | 0            | 0.0000000000 | 0            | 0            | ...          | 0            | 0            | 0            | 0            | 0            | 0            | 0            | 0            | 0            | 0            |\n",
       "| 26 | PGDX16568P   | chr10_421    | 0            | 0            | 0            | 0            | 0            | 0.0001756235 | 0            | 0            | ...          | 0            | 0            | 0            | 0            | 0            | 0            | 0            | 0            | 0            | 0            |\n",
       "| 30 | PGDX16568P   | chr10_425    | 0            | 0            | 0            | 0            | 0            | 0.0000000000 | 0            | 0            | ...          | 0            | 0            | 0            | 0            | 0            | 0            | 0            | 0            | 0            | 0            |\n",
       "| 43 | PGDX16568P   | chr10_437    | 0            | 0            | 0            | 0            | 0            | 0.0000000000 | 0            | 0            | ...          | 0            | 0            | 0            | 0            | 0            | 0            | 0            | 0            | 0            | 0            |\n",
       "\n"
      ],
      "text/plain": [
       "   sample     bin       X30 X31 X32 X33 X34 X35          X36 X37 ... X691 X692\n",
       "2  PGDX16568P chr10_40  0   0   0   0   0   0.0000000000 0   0   ... 0    0   \n",
       "9  PGDX16568P chr10_406 0   0   0   0   0   0.0000000000 0   0   ... 0    0   \n",
       "17 PGDX16568P chr10_413 0   0   0   0   0   0.0000000000 0   0   ... 0    0   \n",
       "26 PGDX16568P chr10_421 0   0   0   0   0   0.0001756235 0   0   ... 0    0   \n",
       "30 PGDX16568P chr10_425 0   0   0   0   0   0.0000000000 0   0   ... 0    0   \n",
       "43 PGDX16568P chr10_437 0   0   0   0   0   0.0000000000 0   0   ... 0    0   \n",
       "   X693 X694 X695 X696 X697 X698 X699 X700\n",
       "2  0    0    0    0    0    0    0    0   \n",
       "9  0    0    0    0    0    0    0    0   \n",
       "17 0    0    0    0    0    0    0    0   \n",
       "26 0    0    0    0    0    0    0    0   \n",
       "30 0    0    0    0    0    0    0    0   \n",
       "43 0    0    0    0    0    0    0    0   "
      ]
     },
     "metadata": {},
     "output_type": "display_data"
    }
   ],
   "source": [
    "head(test_data_80_controls)\n",
    "head(test_data_cases)"
   ]
  },
  {
   "cell_type": "code",
   "execution_count": null,
   "id": "da6eddd5-1b96-433a-a2ac-d0544a135d1a",
   "metadata": {},
   "outputs": [],
   "source": [
    "test_data_80_controls_samples_bin_rm <- test_data_80_controls %>% select(-c(\"sample\", \"bin\")) %>% as.matrix()\n",
    "pred_80_controls <- as.vector(predict(fit, s=lambda_cv, test_data_80_controls_samples_bin_rm))\n",
    "\n",
    "test_data_cases_samples_bin_rm <- test_data_cases %>% select(-c(\"sample\", \"bin\")) %>% as.matrix()\n",
    "pred_cases <- as.vector(predict(fit, s=lambda_cv, test_data_cases_samples_bin_rm))"
   ]
  },
  {
   "cell_type": "code",
   "execution_count": null,
   "id": "4d8d680e-bb2d-434c-9db0-8df5c290a7c4",
   "metadata": {},
   "outputs": [],
   "source": [
    "pred_tibble_80_controls <- tibble(sample = test_data_80_controls$sample, bin = test_data_80_controls$bin)\n",
    "pred_tibble_80_controls <- inner_join(pred_tibble_80_controls, ATAC, by=\"bin\")\n",
    "pred_tibble_80_controls <- pred_tibble_80_controls %>% mutate(ATAC_predicted = pred_80_controls)\n",
    "\n",
    "pred_tibble_cases <- tibble(sample = test_data_cases$sample, bin = test_data_cases$bin)\n",
    "pred_tibble_cases <- inner_join(pred_tibble_cases, ATAC, by=\"bin\")\n",
    "pred_tibble_cases <- pred_tibble_cases %>% mutate(ATAC_predicted = pred_cases)\n",
    "\n",
    "pred_tibble <- rbind(pred_tibble_80_controls, pred_tibble_cases)"
   ]
  },
  {
   "cell_type": "code",
   "execution_count": null,
   "id": "9bd26162-e138-4d9d-b537-97071743a8d2",
   "metadata": {},
   "outputs": [],
   "source": [
    "ggplot(pred_tibble, aes(x = ATAC_observed, y = ATAC_predicted)) + \n",
    "    geom_point(size = 0.5) + \n",
    "    geom_smooth(method = \"lm\", formula = y~x)"
   ]
  },
  {
   "cell_type": "markdown",
   "id": "2242c1b7-8f05-48f9-9c0a-27c71d7572d6",
   "metadata": {},
   "source": [
    "## Cor, MAE, RMSE -- all predictions"
   ]
  },
  {
   "cell_type": "code",
   "execution_count": null,
   "id": "7eed3dbc-917d-46a6-af84-340699847385",
   "metadata": {},
   "outputs": [],
   "source": [
    "cor(pred_tibble$ATAC_observed, pred_tibble$ATAC_predicted)"
   ]
  },
  {
   "cell_type": "code",
   "execution_count": null,
   "id": "429b8b76-15de-4b07-8484-be53db359591",
   "metadata": {},
   "outputs": [],
   "source": [
    "ae    <- abs(pred_tibble$ATAC_observed - pred_tibble$ATAC_predicted)\n",
    "(mae   <- mean(ae))"
   ]
  },
  {
   "cell_type": "code",
   "execution_count": null,
   "id": "d57b5a55-9a46-4bf4-8081-1670e6b59581",
   "metadata": {},
   "outputs": [],
   "source": [
    "se    <- (pred_tibble$ATAC_observed - pred_tibble$ATAC_predicted)^2\n",
    "mse   <- mean(se)\n",
    "(rmse <- sqrt(mse))"
   ]
  },
  {
   "cell_type": "markdown",
   "id": "d2156fcf-7e24-4404-b3d2-cd016e008656",
   "metadata": {},
   "source": [
    "## Cor, MAE, RMSE -- 80% of the controls predictions"
   ]
  },
  {
   "cell_type": "code",
   "execution_count": null,
   "id": "104d2b66-d86e-46b5-9a41-b85f05dd45cb",
   "metadata": {},
   "outputs": [],
   "source": [
    "cor(pred_tibble_80_controls$ATAC_observed, pred_tibble_80_controls$ATAC_predicted)"
   ]
  },
  {
   "cell_type": "code",
   "execution_count": null,
   "id": "d7191a67-1c73-491c-b958-bf99f19af1e1",
   "metadata": {},
   "outputs": [],
   "source": [
    "ae    <- abs(pred_tibble_80_controls$ATAC_observed - pred_tibble_80_controls$ATAC_predicted)\n",
    "(mae   <- mean(ae))"
   ]
  },
  {
   "cell_type": "code",
   "execution_count": null,
   "id": "e4c66d1a-9aa8-4c68-b974-c6f9e4e17019",
   "metadata": {},
   "outputs": [],
   "source": [
    "se    <- (pred_tibble_80_controls$ATAC_observed - pred_tibble_80_controls$ATAC_predicted)^2\n",
    "mse   <- mean(se)\n",
    "(rmse <- sqrt(mse))"
   ]
  },
  {
   "cell_type": "markdown",
   "id": "b7e5f297-d6fa-46ef-b8e1-6ad23f5d2d62",
   "metadata": {},
   "source": [
    "## Cor, MAE, RMSE -- cases predictions"
   ]
  },
  {
   "cell_type": "code",
   "execution_count": null,
   "id": "093641fa-3cc7-4735-b583-38609843a0ac",
   "metadata": {},
   "outputs": [],
   "source": [
    "cor(pred_tibble_cases$ATAC_observed, pred_tibble_cases$ATAC_predicted)"
   ]
  },
  {
   "cell_type": "code",
   "execution_count": null,
   "id": "87e606f3-58b4-4624-9af9-5b24e4e276dc",
   "metadata": {},
   "outputs": [],
   "source": [
    "ae    <- abs(pred_tibble_cases$ATAC_observed - pred_tibble_cases$ATAC_predicted)\n",
    "(mae   <- mean(ae))"
   ]
  },
  {
   "cell_type": "code",
   "execution_count": null,
   "id": "3a8646d9-4bcd-4591-90ed-eeada7f70c2f",
   "metadata": {},
   "outputs": [],
   "source": [
    "se    <- (pred_tibble_cases$ATAC_observed - pred_tibble_cases$ATAC_predicted)^2\n",
    "mse   <- mean(se)\n",
    "(rmse <- sqrt(mse))"
   ]
  },
  {
   "cell_type": "markdown",
   "id": "1aab141b-ec82-4bb7-8eca-33ef6c9e8d55",
   "metadata": {},
   "source": [
    "## Save predictions"
   ]
  },
  {
   "cell_type": "code",
   "execution_count": null,
   "id": "b4ba6339-1af7-4185-90c8-b99ba611adea",
   "metadata": {},
   "outputs": [],
   "source": [
    "saveRDS(pred_tibble, file = snakemake@output[[\"output_pred\"]])"
   ]
  }
 ],
 "metadata": {
  "kernelspec": {
   "display_name": "R",
   "language": "R",
   "name": "ir"
  },
  "language_info": {
   "codemirror_mode": "r",
   "file_extension": ".r",
   "mimetype": "text/x-r-source",
   "name": "R",
   "pygments_lexer": "r",
   "version": "3.6.1"
  }
 },
 "nbformat": 4,
 "nbformat_minor": 5
}
