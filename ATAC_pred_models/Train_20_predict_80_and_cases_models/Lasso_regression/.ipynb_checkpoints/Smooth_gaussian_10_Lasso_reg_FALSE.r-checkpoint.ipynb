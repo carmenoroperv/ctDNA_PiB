{
 "cells": [
  {
   "cell_type": "markdown",
   "id": "2199a549-43c6-4096-8918-9704b72b02da",
   "metadata": {},
   "source": [
    "# Lasso regression on data smoothed with Gaussian (n = 10)"
   ]
  },
  {
   "cell_type": "code",
   "execution_count": 1,
   "id": "adbff3e1-a386-48fe-a724-d16bad5d4c35",
   "metadata": {
    "collapsed": true,
    "jupyter": {
     "outputs_hidden": true
    },
    "tags": []
   },
   "outputs": [
    {
     "name": "stderr",
     "output_type": "stream",
     "text": [
      "Registered S3 methods overwritten by 'ggplot2':\n",
      "  method         from \n",
      "  [.quosures     rlang\n",
      "  c.quosures     rlang\n",
      "  print.quosures rlang\n",
      "Registered S3 method overwritten by 'rvest':\n",
      "  method            from\n",
      "  read_xml.response xml2\n",
      "── Attaching packages ─────────────────────────────────────── tidyverse 1.2.1 ──\n",
      "✔ ggplot2 3.1.1     ✔ purrr   0.3.2\n",
      "✔ tibble  3.1.4     ✔ dplyr   1.0.7\n",
      "✔ tidyr   1.1.3     ✔ stringr 1.4.0\n",
      "✔ readr   1.3.1     ✔ forcats 0.4.0\n",
      "── Conflicts ────────────────────────────────────────── tidyverse_conflicts() ──\n",
      "✖ dplyr::filter() masks stats::filter()\n",
      "✖ dplyr::lag()    masks stats::lag()\n",
      "Loading required package: Matrix\n",
      "\n",
      "Attaching package: ‘Matrix’\n",
      "\n",
      "The following objects are masked from ‘package:tidyr’:\n",
      "\n",
      "    expand, pack, unpack\n",
      "\n",
      "Loading required package: foreach\n",
      "\n",
      "Attaching package: ‘foreach’\n",
      "\n",
      "The following objects are masked from ‘package:purrr’:\n",
      "\n",
      "    accumulate, when\n",
      "\n",
      "Loaded glmnet 2.0-16\n",
      "\n",
      "Warning message in install.packages(\"tidyr\"):\n",
      "“installation of package ‘tidyr’ had non-zero exit status”Updating HTML index of packages in '.Library'\n",
      "Making 'packages.html' ... done\n"
     ]
    }
   ],
   "source": [
    "library(tidyverse)\n",
    "library(glmnet)\n",
    "\n",
    "install.packages('glmnetUtils')\n",
    "library(glmnetUtils)"
   ]
  },
  {
   "cell_type": "markdown",
   "id": "7a405b4a-740d-45ed-ab18-04c863898062",
   "metadata": {},
   "source": [
    "### Read in data and ATAC values, add ATAC values to the dataframe"
   ]
  },
  {
   "cell_type": "code",
   "execution_count": 16,
   "id": "c138d3e8-1b77-4b9a-9641-3cfd1aa02f3a",
   "metadata": {},
   "outputs": [],
   "source": [
    "#all_samples_gaussian_controls <- read.csv(\"../../../data/all_samples_normalized_gaussian_smooth_CONTROLS.csv\", nrows=50000)\n",
    "all_samples_gaussian_controls <- readRDS(snakemake@input[[\"input_train\"]])\n",
    "head(all_samples_gaussian_controls)"
   ]
  },
  {
   "cell_type": "code",
   "execution_count": 17,
   "id": "866127fd-3667-4403-ab3a-e8952bd16b53",
   "metadata": {},
   "outputs": [
    {
     "name": "stderr",
     "output_type": "stream",
     "text": [
      "Warning message in eval(expr, envir, enclos):\n",
      "“NAs introduced by coercion”"
     ]
    },
    {
     "data": {
      "text/html": [
       "<table>\n",
       "<thead><tr><th scope=col>sample</th><th scope=col>bin</th><th scope=col>X30</th><th scope=col>X31</th><th scope=col>X32</th><th scope=col>X33</th><th scope=col>X34</th><th scope=col>X35</th><th scope=col>X36</th><th scope=col>X37</th><th scope=col>...</th><th scope=col>X692</th><th scope=col>X693</th><th scope=col>X694</th><th scope=col>X695</th><th scope=col>X696</th><th scope=col>X697</th><th scope=col>X698</th><th scope=col>X699</th><th scope=col>X700</th><th scope=col>ATAC_observed</th></tr></thead>\n",
       "<tbody>\n",
       "\t<tr><td>PGDX16568P</td><td>chr10_400 </td><td>0         </td><td>0         </td><td>0         </td><td>0         </td><td>0         </td><td>0         </td><td>0         </td><td>0         </td><td>...       </td><td>0         </td><td>0         </td><td>0         </td><td>0         </td><td>0         </td><td>0         </td><td>0         </td><td>0         </td><td>0         </td><td>0.5866651 </td></tr>\n",
       "\t<tr><td>PGDX16568P</td><td>chr10_40  </td><td>0         </td><td>0         </td><td>0         </td><td>0         </td><td>0         </td><td>0         </td><td>0         </td><td>0         </td><td>...       </td><td>0         </td><td>0         </td><td>0         </td><td>0         </td><td>0         </td><td>0         </td><td>0         </td><td>0         </td><td>0         </td><td>0.1996134 </td></tr>\n",
       "\t<tr><td>PGDX16568P</td><td>chr10_4   </td><td>0         </td><td>0         </td><td>0         </td><td>0         </td><td>0         </td><td>0         </td><td>0         </td><td>0         </td><td>...       </td><td>0         </td><td>0         </td><td>0         </td><td>0         </td><td>0         </td><td>0         </td><td>0         </td><td>0         </td><td>0         </td><td>0.5968816 </td></tr>\n",
       "\t<tr><td>PGDX16568P</td><td>chr10_401 </td><td>0         </td><td>0         </td><td>0         </td><td>0         </td><td>0         </td><td>0         </td><td>0         </td><td>0         </td><td>...       </td><td>0         </td><td>0         </td><td>0         </td><td>0         </td><td>0         </td><td>0         </td><td>0         </td><td>0         </td><td>0         </td><td>0.2905764 </td></tr>\n",
       "\t<tr><td>PGDX16568P</td><td>chr10_402 </td><td>0         </td><td>0         </td><td>0         </td><td>0         </td><td>0         </td><td>0         </td><td>0         </td><td>0         </td><td>...       </td><td>0         </td><td>0         </td><td>0         </td><td>0         </td><td>0         </td><td>0         </td><td>0         </td><td>0         </td><td>0         </td><td>0.2319729 </td></tr>\n",
       "\t<tr><td>PGDX16568P</td><td>chr10_403 </td><td>0         </td><td>0         </td><td>0         </td><td>0         </td><td>0         </td><td>0         </td><td>0         </td><td>0         </td><td>...       </td><td>0         </td><td>0         </td><td>0         </td><td>0         </td><td>0         </td><td>0         </td><td>0         </td><td>0         </td><td>0         </td><td>0.2262170 </td></tr>\n",
       "</tbody>\n",
       "</table>\n"
      ],
      "text/latex": [
       "\\begin{tabular}{r|llllllllllllllllllllllllllllllllllllllllllllllllllllllllllllllllllllllllllllllllllllllllllllllllllllllllllllllllllllllllllllllllllllllllllllllllllllllllllllllllllllllllllllllllllllllllllllllllllllllllllllllllllllllllllllllllllllllllllllllllllllllllllllllllllllllllllllllllllllllllllllllllllllllllllllllllllllllllllllllllllllllllllllllllllllllllllllllllllllllllllllllllllllllllllllllllllllllllllllllllllllllllllllllllllllllllllllllllllllllllllllllllllllllllllllllllllllllllllllllllllllllllllllllllllllllllllllllllllllllllllllllllllllllllllllllllllllllllllllllllllllllllllllllllllllllllllllllllllllllllllllllllllllllllllllllllllllllllllllllllllllllllllllllllllllllllllllllllll}\n",
       " sample & bin & X30 & X31 & X32 & X33 & X34 & X35 & X36 & X37 & ... & X692 & X693 & X694 & X695 & X696 & X697 & X698 & X699 & X700 & ATAC\\_observed\\\\\n",
       "\\hline\n",
       "\t PGDX16568P  & chr10\\_400 & 0           & 0           & 0           & 0           & 0           & 0           & 0           & 0           & ...         & 0           & 0           & 0           & 0           & 0           & 0           & 0           & 0           & 0           & 0.5866651  \\\\\n",
       "\t PGDX16568P  & chr10\\_40  & 0           & 0           & 0           & 0           & 0           & 0           & 0           & 0           & ...         & 0           & 0           & 0           & 0           & 0           & 0           & 0           & 0           & 0           & 0.1996134  \\\\\n",
       "\t PGDX16568P  & chr10\\_4   & 0           & 0           & 0           & 0           & 0           & 0           & 0           & 0           & ...         & 0           & 0           & 0           & 0           & 0           & 0           & 0           & 0           & 0           & 0.5968816  \\\\\n",
       "\t PGDX16568P  & chr10\\_401 & 0           & 0           & 0           & 0           & 0           & 0           & 0           & 0           & ...         & 0           & 0           & 0           & 0           & 0           & 0           & 0           & 0           & 0           & 0.2905764  \\\\\n",
       "\t PGDX16568P  & chr10\\_402 & 0           & 0           & 0           & 0           & 0           & 0           & 0           & 0           & ...         & 0           & 0           & 0           & 0           & 0           & 0           & 0           & 0           & 0           & 0.2319729  \\\\\n",
       "\t PGDX16568P  & chr10\\_403 & 0           & 0           & 0           & 0           & 0           & 0           & 0           & 0           & ...         & 0           & 0           & 0           & 0           & 0           & 0           & 0           & 0           & 0           & 0.2262170  \\\\\n",
       "\\end{tabular}\n"
      ],
      "text/markdown": [
       "\n",
       "| sample | bin | X30 | X31 | X32 | X33 | X34 | X35 | X36 | X37 | ... | X692 | X693 | X694 | X695 | X696 | X697 | X698 | X699 | X700 | ATAC_observed |\n",
       "|---|---|---|---|---|---|---|---|---|---|---|---|---|---|---|---|---|---|---|---|---|\n",
       "| PGDX16568P | chr10_400  | 0          | 0          | 0          | 0          | 0          | 0          | 0          | 0          | ...        | 0          | 0          | 0          | 0          | 0          | 0          | 0          | 0          | 0          | 0.5866651  |\n",
       "| PGDX16568P | chr10_40   | 0          | 0          | 0          | 0          | 0          | 0          | 0          | 0          | ...        | 0          | 0          | 0          | 0          | 0          | 0          | 0          | 0          | 0          | 0.1996134  |\n",
       "| PGDX16568P | chr10_4    | 0          | 0          | 0          | 0          | 0          | 0          | 0          | 0          | ...        | 0          | 0          | 0          | 0          | 0          | 0          | 0          | 0          | 0          | 0.5968816  |\n",
       "| PGDX16568P | chr10_401  | 0          | 0          | 0          | 0          | 0          | 0          | 0          | 0          | ...        | 0          | 0          | 0          | 0          | 0          | 0          | 0          | 0          | 0          | 0.2905764  |\n",
       "| PGDX16568P | chr10_402  | 0          | 0          | 0          | 0          | 0          | 0          | 0          | 0          | ...        | 0          | 0          | 0          | 0          | 0          | 0          | 0          | 0          | 0          | 0.2319729  |\n",
       "| PGDX16568P | chr10_403  | 0          | 0          | 0          | 0          | 0          | 0          | 0          | 0          | ...        | 0          | 0          | 0          | 0          | 0          | 0          | 0          | 0          | 0          | 0.2262170  |\n",
       "\n"
      ],
      "text/plain": [
       "  sample     bin       X30 X31 X32 X33 X34 X35 X36 X37 ... X692 X693 X694 X695\n",
       "1 PGDX16568P chr10_400 0   0   0   0   0   0   0   0   ... 0    0    0    0   \n",
       "2 PGDX16568P chr10_40  0   0   0   0   0   0   0   0   ... 0    0    0    0   \n",
       "3 PGDX16568P chr10_4   0   0   0   0   0   0   0   0   ... 0    0    0    0   \n",
       "4 PGDX16568P chr10_401 0   0   0   0   0   0   0   0   ... 0    0    0    0   \n",
       "5 PGDX16568P chr10_402 0   0   0   0   0   0   0   0   ... 0    0    0    0   \n",
       "6 PGDX16568P chr10_403 0   0   0   0   0   0   0   0   ... 0    0    0    0   \n",
       "  X696 X697 X698 X699 X700 ATAC_observed\n",
       "1 0    0    0    0    0    0.5866651    \n",
       "2 0    0    0    0    0    0.1996134    \n",
       "3 0    0    0    0    0    0.5968816    \n",
       "4 0    0    0    0    0    0.2905764    \n",
       "5 0    0    0    0    0    0.2319729    \n",
       "6 0    0    0    0    0    0.2262170    "
      ]
     },
     "metadata": {},
     "output_type": "display_data"
    }
   ],
   "source": [
    "#ATAC <- read.table(\"../../../data/ATACseq_250kb_bins.txt\", header = FALSE)\n",
    "ATAC <- read.table(snakemake@input[[\"input_atac\"]], header = FALSE)\n",
    "colnames(ATAC) <- c(\"bin\", \"ATAC_observed\")\n",
    "head(ATAC)\n",
    "\n",
    "ATAC$ATAC_observed <- as.character(ATAC$ATAC_observed)\n",
    "ATAC$ATAC_observed <- as.numeric(ATAC$ATAC_observed)\n",
    "ATAC$bin <- as.character(ATAC$bin)\n",
    "\n",
    "all_samples_ATAC_gaussian_controls <- inner_join(all_samples_gaussian_controls, ATAC, by=\"bin\")\n",
    "\n",
    "head(all_samples_ATAC_gaussian_controls)"
   ]
  },
  {
   "cell_type": "code",
   "execution_count": 18,
   "id": "9cdbab37-b0d4-4b4f-a231-0d6bee8c1d6c",
   "metadata": {},
   "outputs": [],
   "source": [
    "ATAC_val <- all_samples_ATAC_gaussian_controls %>% select(ATAC_observed)\n",
    "controls_predictions <- all_samples_ATAC_gaussian_controls %>% select(sample, bin)\n",
    "all_samples_ATAC_gaussian_controls = all_samples_ATAC_gaussian_controls %>% select(-c(ATAC_observed, sample, bin))\n",
    "\n",
    "head(all_samples_ATAC_gaussian_controls)\n",
    "head(ATAC_val)"
   ]
  },
  {
   "cell_type": "markdown",
   "id": "4c8db7a0-11af-4742-8f97-3740df831e48",
   "metadata": {},
   "source": [
    "## Finding the best lambda"
   ]
  },
  {
   "cell_type": "code",
   "execution_count": 19,
   "id": "43f356c1-367c-4a08-8ac5-9686bf1030d4",
   "metadata": {},
   "outputs": [
    {
     "data": {
      "image/png": "[encoded data removed]",
      "text/plain": [
       "plot without title"
      ]
     },
     "metadata": {},
     "output_type": "display_data"
    }
   ],
   "source": [
    "#set.seed(0)\n",
    "#X==predictor\n",
    "#y==response\n",
    "\n",
    "#y <- ATAC_val %>% as.matrix()\n",
    "#X <- all_samples_ATAC_gaussian_controls %>% as.matrix()\n",
    "#head(X)\n",
    "\n",
    "#lambdas_to_try <- 10^seq(-15, 0, length.out = 100)\n",
    "#standardize = FALSE -- range -12, -3\n",
    "#standardize = TRUE -- range -10, 0\n",
    "\n",
    "\n",
    "#lasso_smooth_cv <- cv.glmnet(X, y, alpha = 1, lambda = lambdas_to_try,\n",
    "#                      standardize = FALSE, nfolds = 10)\n",
    "\n",
    "#Plotting the MSE and log(lambda)\n",
    "\n",
    "#plot(lasso_smooth_cv)"
   ]
  },
  {
   "cell_type": "code",
   "execution_count": 20,
   "id": "7e099a3a-a509-4152-aa34-1031dcfbaf9f",
   "metadata": {},
   "outputs": [
    {
     "data": {
      "text/html": [
       "6.57933224657568e-09"
      ],
      "text/latex": [
       "6.57933224657568e-09"
      ],
      "text/markdown": [
       "6.57933224657568e-09"
      ],
      "text/plain": [
       "[1] 6.579332e-09"
      ]
     },
     "metadata": {},
     "output_type": "display_data"
    }
   ],
   "source": [
    "#(lambda_smooth_cv <- lasso_smooth_cv$lambda.min)"
   ]
  },
  {
   "cell_type": "markdown",
   "id": "9565dc06-7a82-4083-be70-386f622fda13",
   "metadata": {},
   "source": [
    "## Fit the model on 20% of controls"
   ]
  },
  {
   "cell_type": "code",
   "execution_count": null,
   "id": "57378c95-057b-44ec-a130-56e2ecd692d9",
   "metadata": {},
   "outputs": [],
   "source": [
    "get_cvm <- function(model) {\n",
    "   index <- match(model$lambda.min, model$lambda)\n",
    "  model$cvm[index]\n",
    "}"
   ]
  },
  {
   "cell_type": "code",
   "execution_count": 27,
   "id": "66a790f2-ef42-4e37-ae07-1ee7b33de7a0",
   "metadata": {},
   "outputs": [],
   "source": [
    "y <- ATAC_val %>% as.matrix()\n",
    "X <- all_samples_ATAC_gaussian_controls %>% as.matrix()\n",
    "\n",
    "######### finding the best alpha #########\n",
    "set.seed(0)\n",
    "lasso_cva <- cva.glmnet(X, y, nfolds = 10)\n",
    "enet_performance <- data.frame(alpha = lasso_cva$alpha)\n",
    "models <- lasso_cva$modlist\n",
    "enet_performance$cvm <- vapply(models, get_cvm, numeric(1))\n",
    "\n",
    "minix <- which.min(enet_performance$cvm)\n",
    "best_alpha <- lasso_cva$alpha[minix]\n",
    "###########################################\n",
    "\n",
    "######### finding the best lambda #########\n",
    "set.seed(0)\n",
    "lasso_cv <- cv.glmnet(X, y, alpha = best_alpha,\n",
    "                      standardize = FALSE, nfolds = 10)\n",
    "\n",
    "plot(lasso_cv)\n",
    "\n",
    "###########################################\n"
   ]
  },
  {
   "cell_type": "code",
   "execution_count": null,
   "id": "f78aa77b-a6f0-4102-ad2b-ddbee9cb8056",
   "metadata": {},
   "outputs": [],
   "source": [
    "(lambda_cv <- lasso_cv$lambda.min)"
   ]
  },
  {
   "cell_type": "code",
   "execution_count": null,
   "id": "08bb6b20-5f8d-4404-bf74-8b79ba2a700d",
   "metadata": {},
   "outputs": [],
   "source": [
    "fit       <- glmnet(X, y, alpha = best_alpha, lambda = lambda_cv, standardize = FALSE)\n",
    "# saving the model\n",
    "saveRDS(fit, snakemake@output[[\"output_model\"]])"
   ]
  },
  {
   "cell_type": "markdown",
   "id": "119c1e61-bd60-42b2-9d61-584ea9fab270",
   "metadata": {},
   "source": [
    "## Predict on 80% normalized smoothed controls and all the cases using the model (fitted on train controls) and save the predictions to the file"
   ]
  },
  {
   "cell_type": "code",
   "execution_count": 28,
   "id": "c51d2c58-9296-4a74-91c5-f0f619052ba5",
   "metadata": {},
   "outputs": [],
   "source": [
    "#filename = \"../../../data/all_samples_normalized_gaussian_smooth_CASES.csv\"\n",
    "#filename = snakemake@input[[\"input_test_data_std\"]]\n",
    "\n",
    "test_data_80_controls = readRDS(snakemake@input[[\"input_test_controls\"]])\n",
    "test_data_cases = readRDS(snakemake@input[[\"input_test_cases\"]])"
   ]
  },
  {
   "cell_type": "code",
   "execution_count": null,
   "id": "6f5bf698-365b-4819-a48f-428f2281f78d",
   "metadata": {},
   "outputs": [],
   "source": [
    "head(test_data_80_controls)\n",
    "head(test_data_cases)"
   ]
  },
  {
   "cell_type": "code",
   "execution_count": null,
   "id": "e30e01f9-a493-4b41-9161-c4bfad955b4c",
   "metadata": {},
   "outputs": [],
   "source": [
    "test_data_80_controls_samples_bin_rm <- test_data_80_controls %>% select(-c(\"sample\", \"bin\")) %>% as.matrix()\n",
    "pred_80_controls <- as.vector(predict(fit, s=lambda_cv, test_data_80_controls_samples_bin_rm))\n",
    "\n",
    "test_data_cases_samples_bin_rm <- test_data_cases %>% select(-c(\"sample\", \"bin\")) %>% as.matrix()\n",
    "pred_cases <- as.vector(predict(fit, s=lambda_cv, test_data_cases_samples_bin_rm))"
   ]
  },
  {
   "cell_type": "code",
   "execution_count": null,
   "id": "18ff0ed6-3232-45f3-9a23-520c0cb453a8",
   "metadata": {},
   "outputs": [],
   "source": [
    "pred_tibble_80_controls <- tibble(sample = test_data_80_controls$sample, bin = test_data_80_controls$bin)\n",
    "pred_tibble_80_controls <- inner_join(pred_tibble_80_controls, ATAC, by=\"bin\")\n",
    "pred_tibble_80_controls <- pred_tibble_80_controls %>% mutate(ATAC_predicted = pred_80_controls)\n",
    "\n",
    "pred_tibble_cases <- tibble(sample = test_data_cases$sample, bin = test_data_cases$bin)\n",
    "pred_tibble_cases <- inner_join(pred_tibble_cases, ATAC, by=\"bin\")\n",
    "pred_tibble_cases <- pred_tibble_cases %>% mutate(ATAC_predicted = pred_cases)\n",
    "\n",
    "pred_tibble <- rbind(pred_tibble_80_controls, pred_tibble_cases)"
   ]
  },
  {
   "cell_type": "code",
   "execution_count": null,
   "id": "1dc44d6f-bb63-4b35-8ffa-c23cd92625f6",
   "metadata": {},
   "outputs": [],
   "source": [
    "ggplot(pred_tibble, aes(x = ATAC_observed, y = ATAC_predicted)) + \n",
    "    geom_point(size = 0.5) + \n",
    "    geom_smooth(method = \"lm\", formula = y~x)"
   ]
  },
  {
   "cell_type": "markdown",
   "id": "ba47422b-5699-4545-9655-147e03e3ad92",
   "metadata": {},
   "source": [
    "## Cor, MAE, RMSE -- all predictions"
   ]
  },
  {
   "cell_type": "code",
   "execution_count": null,
   "id": "fd2dde8c-8ba7-472d-813c-f62617d87806",
   "metadata": {},
   "outputs": [],
   "source": [
    "cor(pred_tibble$ATAC_observed, pred_tibble$ATAC_predicted)"
   ]
  },
  {
   "cell_type": "code",
   "execution_count": null,
   "id": "6c3e1927-4904-4dc0-a919-f0f713ee9eb4",
   "metadata": {},
   "outputs": [],
   "source": [
    "ae    <- abs(pred_tibble$ATAC_observed - pred_tibble$ATAC_predicted)\n",
    "(mae   <- mean(ae))"
   ]
  },
  {
   "cell_type": "code",
   "execution_count": null,
   "id": "15342be6-c197-422b-8e4f-9b6e750743aa",
   "metadata": {},
   "outputs": [],
   "source": [
    "se    <- (pred_tibble$ATAC_observed - pred_tibble$ATAC_predicted)^2\n",
    "mse   <- mean(se)\n",
    "(rmse <- sqrt(mse))"
   ]
  },
  {
   "cell_type": "markdown",
   "id": "93062c61-4244-4db3-8abb-97e22b63e6fa",
   "metadata": {},
   "source": [
    "## Cor, MAE, RMSE -- 80% of the controls predictions"
   ]
  },
  {
   "cell_type": "code",
   "execution_count": null,
   "id": "fff3f556-1cad-4c03-b311-17c548c5b08e",
   "metadata": {},
   "outputs": [],
   "source": [
    "cor(pred_tibble_80_controls$ATAC_observed, pred_tibble_80_controls$ATAC_predicted)"
   ]
  },
  {
   "cell_type": "code",
   "execution_count": null,
   "id": "21b6ce58-7e52-4aab-95bd-e6e324e08799",
   "metadata": {},
   "outputs": [],
   "source": [
    "ae    <- abs(pred_tibble_80_controls$ATAC_observed - pred_tibble_80_controls$ATAC_predicted)\n",
    "(mae   <- mean(ae))"
   ]
  },
  {
   "cell_type": "code",
   "execution_count": null,
   "id": "d749fe9e-9a47-4925-a708-1d6c2def3dcc",
   "metadata": {},
   "outputs": [],
   "source": [
    "se    <- (pred_tibble_80_controls$ATAC_observed - pred_tibble_80_controls$ATAC_predicted)^2\n",
    "mse   <- mean(se)\n",
    "(rmse <- sqrt(mse))"
   ]
  },
  {
   "cell_type": "markdown",
   "id": "aa87c0fd-2480-4526-8cda-692ce01a3a2c",
   "metadata": {},
   "source": [
    "## Cor, MAE, RMSE -- cases predictions"
   ]
  },
  {
   "cell_type": "code",
   "execution_count": null,
   "id": "ba6e6437-867b-4c59-930e-9317609c9fd9",
   "metadata": {},
   "outputs": [],
   "source": [
    "cor(pred_tibble_cases$ATAC_observed, pred_tibble_cases$ATAC_predicted)"
   ]
  },
  {
   "cell_type": "code",
   "execution_count": null,
   "id": "91368689-1839-4e1f-8d3d-ede6b0202478",
   "metadata": {},
   "outputs": [],
   "source": [
    "ae    <- abs(pred_tibble_cases$ATAC_observed - pred_tibble_cases$ATAC_predicted)\n",
    "(mae   <- mean(ae))"
   ]
  },
  {
   "cell_type": "code",
   "execution_count": null,
   "id": "68a89ad8-cc36-4b06-a8a9-6d2ca35d4255",
   "metadata": {},
   "outputs": [],
   "source": [
    "se    <- (pred_tibble_cases$ATAC_observed - pred_tibble_cases$ATAC_predicted)^2\n",
    "mse   <- mean(se)\n",
    "(rmse <- sqrt(mse))"
   ]
  },
  {
   "cell_type": "markdown",
   "id": "bc5a75d8-73f0-489e-af5a-14e6701e4fc4",
   "metadata": {},
   "source": [
    "## Save predictions"
   ]
  },
  {
   "cell_type": "code",
   "execution_count": null,
   "id": "79164452-86a9-4630-aa64-6fd78cd41a42",
   "metadata": {},
   "outputs": [],
   "source": [
    "saveRDS(pred_tibble, file = snakemake@output[[\"output_pred\"]])"
   ]
  }
 ],
 "metadata": {
  "kernelspec": {
   "display_name": "R",
   "language": "R",
   "name": "ir"
  },
  "language_info": {
   "codemirror_mode": "r",
   "file_extension": ".r",
   "mimetype": "text/x-r-source",
   "name": "R",
   "pygments_lexer": "r",
   "version": "3.6.1"
  }
 },
 "nbformat": 4,
 "nbformat_minor": 5
}
