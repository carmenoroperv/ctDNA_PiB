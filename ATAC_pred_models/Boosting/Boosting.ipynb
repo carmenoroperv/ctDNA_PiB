{
 "cells": [
  {
   "cell_type": "markdown",
   "id": "d26f9412-1b57-40fb-a8de-295d01c4fd88",
   "metadata": {},
   "source": [
    "# Boosting"
   ]
  },
  {
   "cell_type": "code",
   "execution_count": 6,
   "id": "4ad2bf9e-9281-4fc8-8067-8ef58c52ff3d",
   "metadata": {},
   "outputs": [],
   "source": [
    "library(tidyverse)\n",
    "\n",
    "#install.packages('hablar')\n",
    "#library(hablar)\n",
    "\n",
    "#install.packages(\"tidyr\")\n",
    "#install.packages(\"rlang\")\n",
    "library(tidyr)\n",
    "\n",
    "#install.packages('scales')\n",
    "library(scales)\n",
    "\n",
    "library(LICORS)\n",
    "\n",
    "#install.packages(\"slider\")\n",
    "library(slider)\n",
    "\n",
    "library(glmnet)\n",
    "\n",
    "library(gbm)"
   ]
  },
  {
   "cell_type": "code",
   "execution_count": 7,
   "id": "9dea145d-dbd3-4aeb-b1b4-dd168b5b6713",
   "metadata": {},
   "outputs": [],
   "source": [
    "sum_control_ATAC_bin_rm = read.csv(\"data/sum_control_normalized_ATAC_bin_rm.csv\")"
   ]
  },
  {
   "cell_type": "code",
   "execution_count": 4,
   "id": "a86b0291-9fbb-466f-91e9-63289975bc0a",
   "metadata": {},
   "outputs": [
    {
     "data": {
      "text/html": [
       "<table>\n",
       "<thead><tr><th scope=col>X30</th><th scope=col>X31</th><th scope=col>X32</th><th scope=col>X33</th><th scope=col>X34</th><th scope=col>X35</th><th scope=col>X36</th><th scope=col>X37</th><th scope=col>X38</th><th scope=col>X39</th><th scope=col>...</th><th scope=col>X692</th><th scope=col>X693</th><th scope=col>X694</th><th scope=col>X695</th><th scope=col>X696</th><th scope=col>X697</th><th scope=col>X698</th><th scope=col>X699</th><th scope=col>X700</th><th scope=col>ATAC_val</th></tr></thead>\n",
       "<tbody>\n",
       "\t<tr><td>8.699646e-07</td><td>3.479859e-06</td><td>2.609894e-06</td><td>0.000000e+00</td><td>8.699646e-07</td><td>8.699646e-07</td><td>1.739929e-06</td><td>1.739929e-06</td><td>0.000000e+00</td><td>2.609894e-06</td><td>...         </td><td>0           </td><td>0           </td><td>0           </td><td>0           </td><td>0           </td><td>0           </td><td>0           </td><td>0           </td><td>0.000000e+00</td><td>0.5931657   </td></tr>\n",
       "\t<tr><td>8.313727e-07</td><td>8.313727e-07</td><td>0.000000e+00</td><td>8.313727e-07</td><td>1.662745e-06</td><td>8.313727e-07</td><td>8.313727e-07</td><td>5.819609e-06</td><td>3.325491e-06</td><td>3.325491e-06</td><td>...         </td><td>0           </td><td>0           </td><td>0           </td><td>0           </td><td>0           </td><td>0           </td><td>0           </td><td>0           </td><td>0.000000e+00</td><td>0.4089315   </td></tr>\n",
       "\t<tr><td>8.705774e-07</td><td>1.741155e-06</td><td>8.705774e-07</td><td>8.705774e-07</td><td>0.000000e+00</td><td>0.000000e+00</td><td>2.611732e-06</td><td>3.482309e-06</td><td>0.000000e+00</td><td>8.705774e-07</td><td>...         </td><td>0           </td><td>0           </td><td>0           </td><td>0           </td><td>0           </td><td>0           </td><td>0           </td><td>0           </td><td>8.705774e-07</td><td>0.3058228   </td></tr>\n",
       "\t<tr><td>0.000000e+00</td><td>1.700685e-06</td><td>0.000000e+00</td><td>8.503423e-07</td><td>8.503423e-07</td><td>1.700685e-06</td><td>8.503423e-07</td><td>0.000000e+00</td><td>8.503423e-07</td><td>8.503423e-07</td><td>...         </td><td>0           </td><td>0           </td><td>0           </td><td>0           </td><td>0           </td><td>0           </td><td>0           </td><td>0           </td><td>0.000000e+00</td><td>0.4764137   </td></tr>\n",
       "\t<tr><td>0.000000e+00</td><td>9.416577e-07</td><td>0.000000e+00</td><td>0.000000e+00</td><td>9.416577e-07</td><td>0.000000e+00</td><td>9.416577e-07</td><td>0.000000e+00</td><td>2.824973e-06</td><td>0.000000e+00</td><td>...         </td><td>0           </td><td>0           </td><td>0           </td><td>0           </td><td>0           </td><td>0           </td><td>0           </td><td>0           </td><td>0.000000e+00</td><td>0.2862775   </td></tr>\n",
       "\t<tr><td>0.000000e+00</td><td>0.000000e+00</td><td>0.000000e+00</td><td>4.221123e-06</td><td>1.688449e-06</td><td>1.688449e-06</td><td>8.442245e-07</td><td>0.000000e+00</td><td>2.532674e-06</td><td>0.000000e+00</td><td>...         </td><td>0           </td><td>0           </td><td>0           </td><td>0           </td><td>0           </td><td>0           </td><td>0           </td><td>0           </td><td>0.000000e+00</td><td>0.3169988   </td></tr>\n",
       "</tbody>\n",
       "</table>\n"
      ],
      "text/latex": [
       "\\begin{tabular}{r|llllllllllllllllllllllllllllllllllllllllllllllllllllllllllllllllllllllllllllllllllllllllllllllllllllllllllllllllllllllllllllllllllllllllllllllllllllllllllllllllllllllllllllllllllllllllllllllllllllllllllllllllllllllllllllllllllllllllllllllllllllllllllllllllllllllllllllllllllllllllllllllllllllllllllllllllllllllllllllllllllllllllllllllllllllllllllllllllllllllllllllllllllllllllllllllllllllllllllllllllllllllllllllllllllllllllllllllllllllllllllllllllllllllllllllllllllllllllllllllllllllllllllllllllllllllllllllllllllllllllllllllllllllllllllllllllllllllllllllllllllllllllllllllllllllllllllllllllllllllllllllllllllllllllllllllllllllllllllllllllllllllllllllllllllllllllllllllll}\n",
       " X30 & X31 & X32 & X33 & X34 & X35 & X36 & X37 & X38 & X39 & ... & X692 & X693 & X694 & X695 & X696 & X697 & X698 & X699 & X700 & ATAC\\_val\\\\\n",
       "\\hline\n",
       "\t 8.699646e-07 & 3.479859e-06 & 2.609894e-06 & 0.000000e+00 & 8.699646e-07 & 8.699646e-07 & 1.739929e-06 & 1.739929e-06 & 0.000000e+00 & 2.609894e-06 & ...          & 0            & 0            & 0            & 0            & 0            & 0            & 0            & 0            & 0.000000e+00 & 0.5931657   \\\\\n",
       "\t 8.313727e-07 & 8.313727e-07 & 0.000000e+00 & 8.313727e-07 & 1.662745e-06 & 8.313727e-07 & 8.313727e-07 & 5.819609e-06 & 3.325491e-06 & 3.325491e-06 & ...          & 0            & 0            & 0            & 0            & 0            & 0            & 0            & 0            & 0.000000e+00 & 0.4089315   \\\\\n",
       "\t 8.705774e-07 & 1.741155e-06 & 8.705774e-07 & 8.705774e-07 & 0.000000e+00 & 0.000000e+00 & 2.611732e-06 & 3.482309e-06 & 0.000000e+00 & 8.705774e-07 & ...          & 0            & 0            & 0            & 0            & 0            & 0            & 0            & 0            & 8.705774e-07 & 0.3058228   \\\\\n",
       "\t 0.000000e+00 & 1.700685e-06 & 0.000000e+00 & 8.503423e-07 & 8.503423e-07 & 1.700685e-06 & 8.503423e-07 & 0.000000e+00 & 8.503423e-07 & 8.503423e-07 & ...          & 0            & 0            & 0            & 0            & 0            & 0            & 0            & 0            & 0.000000e+00 & 0.4764137   \\\\\n",
       "\t 0.000000e+00 & 9.416577e-07 & 0.000000e+00 & 0.000000e+00 & 9.416577e-07 & 0.000000e+00 & 9.416577e-07 & 0.000000e+00 & 2.824973e-06 & 0.000000e+00 & ...          & 0            & 0            & 0            & 0            & 0            & 0            & 0            & 0            & 0.000000e+00 & 0.2862775   \\\\\n",
       "\t 0.000000e+00 & 0.000000e+00 & 0.000000e+00 & 4.221123e-06 & 1.688449e-06 & 1.688449e-06 & 8.442245e-07 & 0.000000e+00 & 2.532674e-06 & 0.000000e+00 & ...          & 0            & 0            & 0            & 0            & 0            & 0            & 0            & 0            & 0.000000e+00 & 0.3169988   \\\\\n",
       "\\end{tabular}\n"
      ],
      "text/markdown": [
       "\n",
       "| X30 | X31 | X32 | X33 | X34 | X35 | X36 | X37 | X38 | X39 | ... | X692 | X693 | X694 | X695 | X696 | X697 | X698 | X699 | X700 | ATAC_val |\n",
       "|---|---|---|---|---|---|---|---|---|---|---|---|---|---|---|---|---|---|---|---|---|\n",
       "| 8.699646e-07 | 3.479859e-06 | 2.609894e-06 | 0.000000e+00 | 8.699646e-07 | 8.699646e-07 | 1.739929e-06 | 1.739929e-06 | 0.000000e+00 | 2.609894e-06 | ...          | 0            | 0            | 0            | 0            | 0            | 0            | 0            | 0            | 0.000000e+00 | 0.5931657    |\n",
       "| 8.313727e-07 | 8.313727e-07 | 0.000000e+00 | 8.313727e-07 | 1.662745e-06 | 8.313727e-07 | 8.313727e-07 | 5.819609e-06 | 3.325491e-06 | 3.325491e-06 | ...          | 0            | 0            | 0            | 0            | 0            | 0            | 0            | 0            | 0.000000e+00 | 0.4089315    |\n",
       "| 8.705774e-07 | 1.741155e-06 | 8.705774e-07 | 8.705774e-07 | 0.000000e+00 | 0.000000e+00 | 2.611732e-06 | 3.482309e-06 | 0.000000e+00 | 8.705774e-07 | ...          | 0            | 0            | 0            | 0            | 0            | 0            | 0            | 0            | 8.705774e-07 | 0.3058228    |\n",
       "| 0.000000e+00 | 1.700685e-06 | 0.000000e+00 | 8.503423e-07 | 8.503423e-07 | 1.700685e-06 | 8.503423e-07 | 0.000000e+00 | 8.503423e-07 | 8.503423e-07 | ...          | 0            | 0            | 0            | 0            | 0            | 0            | 0            | 0            | 0.000000e+00 | 0.4764137    |\n",
       "| 0.000000e+00 | 9.416577e-07 | 0.000000e+00 | 0.000000e+00 | 9.416577e-07 | 0.000000e+00 | 9.416577e-07 | 0.000000e+00 | 2.824973e-06 | 0.000000e+00 | ...          | 0            | 0            | 0            | 0            | 0            | 0            | 0            | 0            | 0.000000e+00 | 0.2862775    |\n",
       "| 0.000000e+00 | 0.000000e+00 | 0.000000e+00 | 4.221123e-06 | 1.688449e-06 | 1.688449e-06 | 8.442245e-07 | 0.000000e+00 | 2.532674e-06 | 0.000000e+00 | ...          | 0            | 0            | 0            | 0            | 0            | 0            | 0            | 0            | 0.000000e+00 | 0.3169988    |\n",
       "\n"
      ],
      "text/plain": [
       "  X30          X31          X32          X33          X34          X35         \n",
       "1 8.699646e-07 3.479859e-06 2.609894e-06 0.000000e+00 8.699646e-07 8.699646e-07\n",
       "2 8.313727e-07 8.313727e-07 0.000000e+00 8.313727e-07 1.662745e-06 8.313727e-07\n",
       "3 8.705774e-07 1.741155e-06 8.705774e-07 8.705774e-07 0.000000e+00 0.000000e+00\n",
       "4 0.000000e+00 1.700685e-06 0.000000e+00 8.503423e-07 8.503423e-07 1.700685e-06\n",
       "5 0.000000e+00 9.416577e-07 0.000000e+00 0.000000e+00 9.416577e-07 0.000000e+00\n",
       "6 0.000000e+00 0.000000e+00 0.000000e+00 4.221123e-06 1.688449e-06 1.688449e-06\n",
       "  X36          X37          X38          X39          ... X692 X693 X694 X695\n",
       "1 1.739929e-06 1.739929e-06 0.000000e+00 2.609894e-06 ... 0    0    0    0   \n",
       "2 8.313727e-07 5.819609e-06 3.325491e-06 3.325491e-06 ... 0    0    0    0   \n",
       "3 2.611732e-06 3.482309e-06 0.000000e+00 8.705774e-07 ... 0    0    0    0   \n",
       "4 8.503423e-07 0.000000e+00 8.503423e-07 8.503423e-07 ... 0    0    0    0   \n",
       "5 9.416577e-07 0.000000e+00 2.824973e-06 0.000000e+00 ... 0    0    0    0   \n",
       "6 8.442245e-07 0.000000e+00 2.532674e-06 0.000000e+00 ... 0    0    0    0   \n",
       "  X696 X697 X698 X699 X700         ATAC_val \n",
       "1 0    0    0    0    0.000000e+00 0.5931657\n",
       "2 0    0    0    0    0.000000e+00 0.4089315\n",
       "3 0    0    0    0    8.705774e-07 0.3058228\n",
       "4 0    0    0    0    0.000000e+00 0.4764137\n",
       "5 0    0    0    0    0.000000e+00 0.2862775\n",
       "6 0    0    0    0    0.000000e+00 0.3169988"
      ]
     },
     "metadata": {},
     "output_type": "display_data"
    }
   ],
   "source": [
    "head(sum_control_ATAC_bin_rm)"
   ]
  },
  {
   "cell_type": "code",
   "execution_count": 5,
   "id": "fac4c5e0-12e9-469f-8816-ecf591d4a98c",
   "metadata": {},
   "outputs": [
    {
     "name": "stdout",
     "output_type": "stream",
     "text": [
      "Distribution not specified, assuming gaussian ...\n"
     ]
    },
    {
     "ename": "ERROR",
     "evalue": "Error in serialize(data, node$con): error writing to connection\n",
     "output_type": "error",
     "traceback": [
      "Error in serialize(data, node$con): error writing to connection\nTraceback:\n",
      "1. gbm(formula = ATAC_val ~ ., data = sum_control_ATAC_bin_rm, n.trees = 600, \n .     cv.folds = 10)",
      "2. gbmCrossVal(cv.folds = cv.folds, nTrain = nTrain, n.cores = n.cores, \n .     class.stratify.cv = class.stratify.cv, data = data, x = x, \n .     y = y, offset = offset, distribution = distribution, w = w, \n .     var.monotone = var.monotone, n.trees = n.trees, interaction.depth = interaction.depth, \n .     n.minobsinnode = n.minobsinnode, shrinkage = shrinkage, bag.fraction = bag.fraction, \n .     var.names = var.names, response.name = response.name, group = group)",
      "3. gbmCrossValModelBuild(cv.folds, cv.group, n.cores, i.train, x, \n .     y, offset, distribution, w, var.monotone, n.trees, interaction.depth, \n .     n.minobsinnode, shrinkage, bag.fraction, var.names, response.name, \n .     group)",
      "4. parallel::stopCluster(cluster)",
      "5. stopCluster.default(cluster)",
      "6. stopNode(n)",
      "7. postNode(n, \"DONE\")",
      "8. sendData(con, list(type = type, data = value, tag = tag))",
      "9. sendData.SOCKnode(con, list(type = type, data = value, tag = tag))",
      "10. serialize(data, node$con)"
     ]
    }
   ],
   "source": [
    "set.seed(0)\n",
    "\n",
    "fit <- gbm(formula  = ATAC_val ~ ., \n",
    "               data = sum_control_ATAC_bin_rm, \n",
    "            n.trees =600, \n",
    "           cv.folds = 10)"
   ]
  },
  {
   "cell_type": "code",
   "execution_count": null,
   "id": "23385321-756c-4a00-9b53-5df0e4ff89da",
   "metadata": {},
   "outputs": [],
   "source": [
    "fit"
   ]
  },
  {
   "cell_type": "markdown",
   "id": "2fa07ba2-754b-475a-90da-ca9022656ed9",
   "metadata": {},
   "source": [
    "## Plot the training error and the CV RMSE"
   ]
  },
  {
   "cell_type": "code",
   "execution_count": null,
   "id": "f7217c00-424f-4ce0-8999-f4672949ab9c",
   "metadata": {},
   "outputs": [],
   "source": [
    "pd <- tibble(rmse_cv = sqrt(fit$cv.error), \n",
    "             rmse_train = sqrt(fit$train.error)) %>%\n",
    "  mutate(tree = row_number()) %>%\n",
    "  pivot_longer(names_to = \"key\", values_to = \"value\", -tree)\n",
    "\n",
    "ggplot(pd, aes(x=tree, y=value, color=key)) + \n",
    "  geom_line() + \n",
    "  geom_point() + \n",
    "  NULL"
   ]
  },
  {
   "cell_type": "code",
   "execution_count": null,
   "id": "09a8c348-1eec-4620-923a-998f565fcd8b",
   "metadata": {},
   "outputs": [],
   "source": [
    "gbm.perf(fit, method = \"cv\")"
   ]
  },
  {
   "cell_type": "code",
   "execution_count": null,
   "id": "988b9955-ce13-4a04-8a07-cff9a4ff51aa",
   "metadata": {},
   "outputs": [],
   "source": []
  },
  {
   "cell_type": "code",
   "execution_count": null,
   "id": "6b7aeddd-2543-4c9d-8916-fad47250b3ee",
   "metadata": {},
   "outputs": [],
   "source": [
    "fit$train.error[which.min(sqrt(fit$train.error))]\n",
    "\n",
    "fit$cv.error[which.min(sqrt(fit$cv.error))]\n"
   ]
  },
  {
   "cell_type": "code",
   "execution_count": null,
   "id": "66251f1f-9793-4ea3-aa64-86a5e39fa678",
   "metadata": {},
   "outputs": [],
   "source": [
    "predictions <- fit$cv.fitted\n",
    "observed <- as.data.frame(sum_control_ATAC_bin_rm$ATAC_val)"
   ]
  },
  {
   "cell_type": "code",
   "execution_count": null,
   "id": "91e0ddad-23a9-4f4d-adec-5ce8c567d03a",
   "metadata": {},
   "outputs": [],
   "source": [
    "combined <- cbind(predictions, observed)\n",
    "colnames(combined) <- c(\"predictions\", \"observed\")\n",
    "head(combined)"
   ]
  },
  {
   "cell_type": "code",
   "execution_count": null,
   "id": "651e7be5-a38b-4bae-bbae-e1d42b892003",
   "metadata": {},
   "outputs": [],
   "source": [
    "ggplot(data = combined, aes(x = observed, y = predictions)) + \n",
    "    geom_point(size = 0.5) + \n",
    "    geom_smooth(method = \"lm\", formula = y~x)"
   ]
  },
  {
   "cell_type": "code",
   "execution_count": null,
   "id": "a09638a7-8edb-4089-bb67-694bdb556679",
   "metadata": {},
   "outputs": [],
   "source": [
    "cor(combined$observed, combined$predictions)\n",
    "#500 trees: 0.68095964611291\n",
    "#600 trees: 0.681618712436074"
   ]
  },
  {
   "cell_type": "markdown",
   "id": "a656bb19-932d-4582-919f-43a4a43c0258",
   "metadata": {},
   "source": [
    "# Extract the predictors"
   ]
  },
  {
   "cell_type": "code",
   "execution_count": null,
   "id": "05335ff2-64af-4428-8e09-ea753e7db558",
   "metadata": {},
   "outputs": [],
   "source": [
    "#summary(fit)"
   ]
  },
  {
   "cell_type": "code",
   "execution_count": null,
   "id": "763680f8-3135-4fc8-9ede-304cd24fc9cf",
   "metadata": {},
   "outputs": [],
   "source": []
  },
  {
   "cell_type": "markdown",
   "id": "647529e0-8d2e-49ca-ba79-eb1f12a1b10c",
   "metadata": {},
   "source": [
    "## Tuning the boosting"
   ]
  },
  {
   "cell_type": "code",
   "execution_count": 8,
   "id": "128602e4-c697-4117-9e0f-18e85bb7be22",
   "metadata": {},
   "outputs": [
    {
     "name": "stderr",
     "output_type": "stream",
     "text": [
      "randomForest 4.6-14\n",
      "Type rfNews() to see new features/changes/bug fixes.\n",
      "\n",
      "Attaching package: ‘randomForest’\n",
      "\n",
      "The following object is masked from ‘package:dplyr’:\n",
      "\n",
      "    combine\n",
      "\n",
      "The following object is masked from ‘package:ggplot2’:\n",
      "\n",
      "    margin\n",
      "\n",
      "Loading required package: lattice\n",
      "\n",
      "Attaching package: ‘caret’\n",
      "\n",
      "The following object is masked from ‘package:purrr’:\n",
      "\n",
      "    lift\n",
      "\n",
      "\n",
      "Attaching package: ‘ranger’\n",
      "\n",
      "The following object is masked from ‘package:randomForest’:\n",
      "\n",
      "    importance\n",
      "\n"
     ]
    }
   ],
   "source": [
    "library(tidyverse)\n",
    "library(randomForest)\n",
    "library(caret)\n",
    "#install.packages(\"ranger\")\n",
    "library(ranger)\n",
    "#install.packages(\"e1071\")\n",
    "library(e1071)"
   ]
  },
  {
   "cell_type": "code",
   "execution_count": 9,
   "id": "b72ebd21-b054-4ac8-bc43-1b543984610d",
   "metadata": {},
   "outputs": [
    {
     "data": {
      "text/html": [
       "'glmnet'"
      ],
      "text/latex": [
       "'glmnet'"
      ],
      "text/markdown": [
       "'glmnet'"
      ],
      "text/plain": [
       "[1] \"glmnet\""
      ]
     },
     "metadata": {},
     "output_type": "display_data"
    },
    {
     "data": {
      "text/html": [
       "<ol class=list-inline>\n",
       "\t<li>'Regression'</li>\n",
       "\t<li>'Classification'</li>\n",
       "</ol>\n"
      ],
      "text/latex": [
       "\\begin{enumerate*}\n",
       "\\item 'Regression'\n",
       "\\item 'Classification'\n",
       "\\end{enumerate*}\n"
      ],
      "text/markdown": [
       "1. 'Regression'\n",
       "2. 'Classification'\n",
       "\n",
       "\n"
      ],
      "text/plain": [
       "[1] \"Regression\"     \"Classification\""
      ]
     },
     "metadata": {},
     "output_type": "display_data"
    },
    {
     "data": {
      "text/html": [
       "<table>\n",
       "<thead><tr><th scope=col>parameter</th><th scope=col>class</th><th scope=col>label</th></tr></thead>\n",
       "<tbody>\n",
       "\t<tr><td>alpha                   </td><td>numeric                 </td><td>Mixing Percentage       </td></tr>\n",
       "\t<tr><td>lambda                  </td><td>numeric                 </td><td>Regularization Parameter</td></tr>\n",
       "</tbody>\n",
       "</table>\n"
      ],
      "text/latex": [
       "\\begin{tabular}{r|lll}\n",
       " parameter & class & label\\\\\n",
       "\\hline\n",
       "\t alpha                    & numeric                  & Mixing Percentage       \\\\\n",
       "\t lambda                   & numeric                  & Regularization Parameter\\\\\n",
       "\\end{tabular}\n"
      ],
      "text/markdown": [
       "\n",
       "| parameter | class | label |\n",
       "|---|---|---|\n",
       "| alpha                    | numeric                  | Mixing Percentage        |\n",
       "| lambda                   | numeric                  | Regularization Parameter |\n",
       "\n"
      ],
      "text/plain": [
       "  parameter class   label                   \n",
       "1 alpha     numeric Mixing Percentage       \n",
       "2 lambda    numeric Regularization Parameter"
      ]
     },
     "metadata": {},
     "output_type": "display_data"
    }
   ],
   "source": [
    "x <- getModelInfo(model = \"glmnet\")[[1]]\n",
    "x$label\n",
    "x$type\n",
    "x$parameters"
   ]
  },
  {
   "cell_type": "code",
   "execution_count": 10,
   "id": "376ca3c7-a0dc-4ce0-b3e7-6502cc5e9105",
   "metadata": {},
   "outputs": [],
   "source": [
    "training_x <- sum_control_ATAC_bin_rm %>% select(-ATAC_val)\n",
    "training_y <- sum_control_ATAC_bin_rm %>% select(ATAC_val)"
   ]
  },
  {
   "cell_type": "code",
   "execution_count": 11,
   "id": "6ee49a81-f0b2-44d0-a420-811dea8ee644",
   "metadata": {},
   "outputs": [
    {
     "name": "stdout",
     "output_type": "stream",
     "text": [
      "'data.frame':\t10303 obs. of  1 variable:\n",
      " $ ATAC_val: num  0.593 0.409 0.306 0.476 0.286 ...\n"
     ]
    }
   ],
   "source": [
    "str(training_y)"
   ]
  },
  {
   "cell_type": "code",
   "execution_count": 12,
   "id": "68aa886a-7e46-4f10-b6ac-26107769999d",
   "metadata": {},
   "outputs": [],
   "source": [
    "# Random search with tune length 10\n",
    "trControl <- trainControl(method = \"repeatedcv\", number = 5, repeats = 3, verboseIter = T)\n",
    "\n",
    "fit <- train(x = training_x, \n",
    "             y = training_y$ATAC_val, \n",
    "        method = \"gbm\",\n",
    "     trControl = trControl,\n",
    "      tuneLength = 10\n",
    "    )"
   ]
  },
  {
   "cell_type": "code",
   "execution_count": null,
   "id": "850561cf-d277-478f-86c7-c32002262515",
   "metadata": {},
   "outputs": [],
   "source": [
    "# Plot to check the hyperparameters \n",
    "plot(fit)"
   ]
  },
  {
   "cell_type": "code",
   "execution_count": null,
   "id": "2ed9b41c-eb50-43ba-b7ed-96f29b33bcee",
   "metadata": {},
   "outputs": [],
   "source": [
    "#Finer grid (The values ARE NOT TUNED YET!)\n",
    "trControl <- trainControl(method = \"repeatedcv\", number = 5, repeats = 3, verboseIter = T)\n",
    "tuneGrid <- expand.grid(n.trees = c(100, 200, 250), interaction.depth = c(1, 4, 6), shrinkage = 0.1, n.minobsinnode = 10)\n",
    "  \n",
    "fit <- train(x = training_x, \n",
    "             y = training_y, \n",
    "        method = \"gbm\",\n",
    "     trControl = trControl,\n",
    "      tuneGrid = tuneGrid\n",
    "    )"
   ]
  },
  {
   "cell_type": "code",
   "execution_count": null,
   "id": "d5da29b3-67cf-43dd-8f50-a7494266df67",
   "metadata": {},
   "outputs": [],
   "source": [
    "# Plot to check the hyperparameters \n",
    "plot(fit)"
   ]
  },
  {
   "cell_type": "code",
   "execution_count": null,
   "id": "a4d02108-4781-4763-8672-30138c450664",
   "metadata": {},
   "outputs": [],
   "source": []
  },
  {
   "cell_type": "code",
   "execution_count": null,
   "id": "d6510bfc-49e1-42dd-ad07-0e9ef3b311b8",
   "metadata": {},
   "outputs": [],
   "source": []
  },
  {
   "cell_type": "code",
   "execution_count": null,
   "id": "c9c45910-cd2c-4522-b2db-7a3a2e7af098",
   "metadata": {},
   "outputs": [],
   "source": []
  },
  {
   "cell_type": "code",
   "execution_count": null,
   "id": "3f1a33fb-962c-4cb7-bacf-47fad1f34f50",
   "metadata": {},
   "outputs": [],
   "source": []
  },
  {
   "cell_type": "code",
   "execution_count": null,
   "id": "076203d3-3a9b-4f3c-8f4d-067538f99190",
   "metadata": {},
   "outputs": [],
   "source": []
  }
 ],
 "metadata": {
  "kernelspec": {
   "display_name": "R [conda env:ctDNA] *",
   "language": "R",
   "name": "conda-env-ctDNA-r"
  },
  "language_info": {
   "codemirror_mode": "r",
   "file_extension": ".r",
   "mimetype": "text/x-r-source",
   "name": "R",
   "pygments_lexer": "r",
   "version": "3.6.1"
  }
 },
 "nbformat": 4,
 "nbformat_minor": 5
}
