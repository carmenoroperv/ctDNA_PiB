{
 "cells": [
  {
   "cell_type": "code",
   "execution_count": null,
   "id": "04b73646-100b-43ae-8693-b22d6c4a0e5e",
   "metadata": {},
   "outputs": [],
   "source": [
    "library(dplyr)\n",
    "library(class)\n",
    "library(tidyverse)\n",
    "library(pROC)\n",
    "library(glmnet)\n",
    "\n",
    "#install.packages('glmnetUtils')\n",
    "library(glmnetUtils)"
   ]
  },
  {
   "cell_type": "code",
   "execution_count": null,
   "id": "bacc4d43-1608-4813-8490-af4b6d7e7f00",
   "metadata": {},
   "outputs": [],
   "source": [
    "#pred <- readRDS(\"../../data/ATAC_predictions_train_XX_predict_XX/ATAC_pred_lasso_normalized_trimmed_formatted_standardized.rds\")\n",
    "pred <- readRDS(snakemake@input[[\"input_predictions\"]])"
   ]
  },
  {
   "cell_type": "code",
   "execution_count": null,
   "id": "be5d202c-23cb-4e75-98df-b2d6631edd40",
   "metadata": {},
   "outputs": [],
   "source": [
    "pred.pca <- prcomp(pred[2:10304], center = TRUE,scale. = TRUE)"
   ]
  },
  {
   "cell_type": "code",
   "execution_count": null,
   "id": "e56760c3-2c10-447a-ae7b-8bbb99c9bd6d",
   "metadata": {},
   "outputs": [],
   "source": [
    "ggplot() +\n",
    "  geom_point(aes(pred.pca$x[,1],pred.pca$x[,2])) +\n",
    "  theme_minimal() +\n",
    "  ylab('PC1') + xlab('PC2')"
   ]
  },
  {
   "cell_type": "code",
   "execution_count": null,
   "id": "db0501ba-23f7-4a6a-a393-af5d63fb3639",
   "metadata": {},
   "outputs": [],
   "source": [
    "var_exp <- tibble(PC = 1:dim(pred.pca$x)[2], \n",
    "                  Variance_Explained = pred.pca$sdev^2 / sum(pred.pca$sdev^2),\n",
    "                  Cumulative_Variance_Explained = cumsum(Variance_Explained))"
   ]
  },
  {
   "cell_type": "code",
   "execution_count": null,
   "id": "e5f4a574-cc26-4a83-80c6-5947c42284c6",
   "metadata": {},
   "outputs": [],
   "source": [
    "sample_names <- as.data.frame(pred$sample)\n",
    "colnames(sample_names) <- c(\"sample\")\n",
    "pca <- pred.pca$x[,1:50]\n",
    "pca <- cbind(pca, sample_names)"
   ]
  },
  {
   "cell_type": "code",
   "execution_count": null,
   "id": "18dc09d4-9c97-4f44-a52e-951ee9944124",
   "metadata": {},
   "outputs": [],
   "source": [
    "saveRDS(pca, snakemake@output[[\"output_pca\"]])"
   ]
  },
  {
   "cell_type": "code",
   "execution_count": null,
   "id": "1fd6cf64-eba5-44e6-aa78-39db44962a6b",
   "metadata": {},
   "outputs": [],
   "source": []
  },
  {
   "cell_type": "code",
   "execution_count": null,
   "id": "908f33f4-fd08-4f62-a24b-33a828d8326a",
   "metadata": {},
   "outputs": [],
   "source": []
  },
  {
   "cell_type": "code",
   "execution_count": null,
   "id": "48d32c4f-f2da-4cad-a33e-c3f52289f22f",
   "metadata": {},
   "outputs": [],
   "source": []
  },
  {
   "cell_type": "code",
   "execution_count": null,
   "id": "616a78ef-66f6-44b7-9cf0-8610cf09a6c0",
   "metadata": {},
   "outputs": [],
   "source": []
  }
 ],
 "metadata": {
  "kernelspec": {
   "display_name": "R",
   "language": "R",
   "name": "ir"
  },
  "language_info": {
   "codemirror_mode": "r",
   "file_extension": ".r",
   "mimetype": "text/x-r-source",
   "name": "R",
   "pygments_lexer": "r",
   "version": "3.6.1"
  }
 },
 "nbformat": 4,
 "nbformat_minor": 5
}
