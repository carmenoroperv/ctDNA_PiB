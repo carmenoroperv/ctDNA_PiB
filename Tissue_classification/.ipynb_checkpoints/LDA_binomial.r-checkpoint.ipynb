{
 "cells": [
  {
   "cell_type": "markdown",
   "id": "6a50e390-f439-4961-898a-286685966e17",
   "metadata": {},
   "source": [
    "### LDA"
   ]
  },
  {
   "cell_type": "code",
   "execution_count": 1,
   "id": "e5084794-5ca4-4966-9dc6-c874934234d4",
   "metadata": {},
   "outputs": [
    {
     "name": "stderr",
     "output_type": "stream",
     "text": [
      "── Attaching packages ─────────────────────────────────────────────────────────────────────────────── tidyverse 1.3.1 ──\n",
      "✔ ggplot2 3.3.5     ✔ purrr   0.3.4\n",
      "✔ tibble  3.1.5     ✔ dplyr   1.0.7\n",
      "✔ tidyr   1.1.4     ✔ stringr 1.4.0\n",
      "✔ readr   2.0.2     ✔ forcats 0.5.1\n",
      "── Conflicts ────────────────────────────────────────────────────────────────────────────────── tidyverse_conflicts() ──\n",
      "✖ dplyr::filter() masks stats::filter()\n",
      "✖ dplyr::lag()    masks stats::lag()\n",
      "\n",
      "Attaching package: ‘MASS’\n",
      "\n",
      "The following object is masked from ‘package:dplyr’:\n",
      "\n",
      "    select\n",
      "\n",
      "Type 'citation(\"pROC\")' for a citation.\n",
      "\n",
      "Attaching package: ‘pROC’\n",
      "\n",
      "The following objects are masked from ‘package:stats’:\n",
      "\n",
      "    cov, smooth, var\n",
      "\n",
      "Updating HTML index of packages in '.Library'\n",
      "Making 'packages.html' ... done\n",
      "\n",
      "Attaching package: ‘pracma’\n",
      "\n",
      "The following object is masked from ‘package:purrr’:\n",
      "\n",
      "    cross\n",
      "\n"
     ]
    }
   ],
   "source": [
    "library(tidyverse)\n",
    "library(MASS)\n",
    "library(pROC)\n",
    "\n",
    "install.packages(\"pracma\")\n",
    "library(\"pracma\")"
   ]
  },
  {
   "cell_type": "code",
   "execution_count": 3,
   "id": "e352eacf-4293-4148-ae30-d47869fa552d",
   "metadata": {},
   "outputs": [
    {
     "name": "stderr",
     "output_type": "stream",
     "text": [
      "ERROR while rich displaying an object: Error in sprintf(wrap, header, body): 'fmt' length exceeds maximal format length 8192\n",
      "\n",
      "Traceback:\n",
      "1. FUN(X[[i]], ...)\n",
      "2. tryCatch(withCallingHandlers({\n",
      " .     if (!mime %in% names(repr::mime2repr)) \n",
      " .         stop(\"No repr_* for mimetype \", mime, \" in repr::mime2repr\")\n",
      " .     rpr <- repr::mime2repr[[mime]](obj)\n",
      " .     if (is.null(rpr)) \n",
      " .         return(NULL)\n",
      " .     prepare_content(is.raw(rpr), rpr)\n",
      " . }, error = error_handler), error = outer_handler)\n",
      "3. tryCatchList(expr, classes, parentenv, handlers)\n",
      "4. tryCatchOne(expr, names, parentenv, handlers[[1L]])\n",
      "5. doTryCatch(return(expr), name, parentenv, handler)\n",
      "6. withCallingHandlers({\n",
      " .     if (!mime %in% names(repr::mime2repr)) \n",
      " .         stop(\"No repr_* for mimetype \", mime, \" in repr::mime2repr\")\n",
      " .     rpr <- repr::mime2repr[[mime]](obj)\n",
      " .     if (is.null(rpr)) \n",
      " .         return(NULL)\n",
      " .     prepare_content(is.raw(rpr), rpr)\n",
      " . }, error = error_handler)\n",
      "7. repr::mime2repr[[mime]](obj)\n",
      "8. repr_latex.data.frame(obj)\n",
      "9. repr_matrix_generic(obj, sprintf(\"\\\\begin{tabular}{%s}\\n%%s%%s\\\\end{tabular}\\n\", \n",
      " .     cols), \"%s\\\\\\\\\\n\\\\hline\\n\", \"  &\", \" %s &\", \"%s\", \"\\t%s\\\\\\\\\\n\", \n",
      " .     \"%s &\", \" %s &\", escape_fun = latex_escape_vec, ...)\n",
      "10. sprintf(wrap, header, body)\n"
     ]
    },
    {
     "data": {
      "text/html": [
       "<table>\n",
       "<thead><tr><th></th><th scope=col>sample</th><th scope=col>chr10_400</th><th scope=col>chr10_40</th><th scope=col>chr10_4</th><th scope=col>chr10_401</th><th scope=col>chr10_402</th><th scope=col>chr10_403</th><th scope=col>chr10_404</th><th scope=col>chr10_405</th><th scope=col>chr10_406</th><th scope=col>...</th><th scope=col>chr9_39</th><th scope=col>chr9_391</th><th scope=col>chr9_392</th><th scope=col>chr9_393</th><th scope=col>chr9_394</th><th scope=col>chr9_395</th><th scope=col>chr9_396</th><th scope=col>chr9_397</th><th scope=col>chr9_398</th><th scope=col>chr9_399</th></tr></thead>\n",
       "<tbody>\n",
       "\t<tr><th scope=row>V1</th><td>PGDX16568P  </td><td>0.7621097   </td><td>-0.8032188  </td><td>0.6402487   </td><td>-0.8688929  </td><td>-0.4792134  </td><td>-0.5096581  </td><td> 0.02594817 </td><td>0.7295906   </td><td>0.7738027   </td><td>...         </td><td>-0.405123632</td><td> 0.59187320 </td><td>-0.29125018 </td><td>-0.58276010 </td><td> 0.3792968  </td><td>-0.04366948 </td><td>0.9183014   </td><td>0.7664238   </td><td>0.9980457   </td><td>-1.0572778  </td></tr>\n",
       "\t<tr><th scope=row>V2</th><td>PGDX16569P  </td><td>0.7057109   </td><td>-0.8227554  </td><td>0.7868749   </td><td>-1.0407754  </td><td>-0.9284673  </td><td>-0.4139074  </td><td>-0.16594560 </td><td>0.7765621   </td><td>0.5761691   </td><td>...         </td><td>-0.849313481</td><td> 0.39431325 </td><td> 0.05197526 </td><td>-0.36318168 </td><td> 0.1744439  </td><td>-0.13785162 </td><td>0.5392077   </td><td>0.3942941   </td><td>1.7972449   </td><td>-0.3619464  </td></tr>\n",
       "\t<tr><th scope=row>V3</th><td>PGDX16570P  </td><td>0.4891340   </td><td>-1.1448217  </td><td>0.9478602   </td><td>-1.0930696  </td><td>-0.5115270  </td><td>-0.7552269  </td><td>-0.48824613 </td><td>0.9537215   </td><td>0.6624865   </td><td>...         </td><td>-0.871941533</td><td>-0.06389996 </td><td>-0.22907645 </td><td>-0.32470631 </td><td>-0.6251958  </td><td> 0.17051719 </td><td>0.6882020   </td><td>0.1744819   </td><td>1.4357406   </td><td>-0.2330366  </td></tr>\n",
       "\t<tr><th scope=row>V4</th><td>PGDX16571P  </td><td>0.6882727   </td><td>-0.8585679  </td><td>0.6248431   </td><td>-0.8310281  </td><td>-0.5335804  </td><td>-0.5125528  </td><td>-0.34185944 </td><td>0.9281618   </td><td>0.4768828   </td><td>...         </td><td>-0.005893625</td><td> 0.18185487 </td><td> 0.32387927 </td><td> 0.04577069 </td><td> 0.2752394  </td><td> 0.22750427 </td><td>0.6333635   </td><td>0.8413436   </td><td>1.2819797   </td><td> 0.5629469  </td></tr>\n",
       "\t<tr><th scope=row>V5</th><td>PGDX16579P  </td><td>0.5801896   </td><td>-1.1674832  </td><td>0.7883376   </td><td>-1.0498406  </td><td>-1.2475692  </td><td>-0.7345196  </td><td>-0.18778863 </td><td>0.2546093   </td><td>0.2920616   </td><td>...         </td><td>-0.067895629</td><td>-0.05197828 </td><td>-0.18308631 </td><td>-0.70242368 </td><td>-0.4281903  </td><td>-0.06235782 </td><td>1.0764914   </td><td>1.1411410   </td><td>0.8795170   </td><td>-0.4910720  </td></tr>\n",
       "\t<tr><th scope=row>V6</th><td>PGDX16580P  </td><td>0.6831409   </td><td>-0.8712906  </td><td>0.7199476   </td><td>-1.1853489  </td><td>-0.8520159  </td><td>-0.6829992  </td><td>-0.35499242 </td><td>0.8598551   </td><td>0.3870744   </td><td>...         </td><td>-0.735310376</td><td> 0.36325245 </td><td> 0.20814984 </td><td>-0.50307962 </td><td> 0.2609116  </td><td> 0.53933999 </td><td>1.0772367   </td><td>0.6906960   </td><td>1.7696570   </td><td>-0.4181884  </td></tr>\n",
       "</tbody>\n",
       "</table>\n"
      ],
      "text/markdown": [
       "\n",
       "| <!--/--> | sample | chr10_400 | chr10_40 | chr10_4 | chr10_401 | chr10_402 | chr10_403 | chr10_404 | chr10_405 | chr10_406 | ... | chr9_39 | chr9_391 | chr9_392 | chr9_393 | chr9_394 | chr9_395 | chr9_396 | chr9_397 | chr9_398 | chr9_399 |\n",
       "|---|---|---|---|---|---|---|---|---|---|---|---|---|---|---|---|---|---|---|---|---|---|\n",
       "| V1 | PGDX16568P   | 0.7621097    | -0.8032188   | 0.6402487    | -0.8688929   | -0.4792134   | -0.5096581   |  0.02594817  | 0.7295906    | 0.7738027    | ...          | -0.405123632 |  0.59187320  | -0.29125018  | -0.58276010  |  0.3792968   | -0.04366948  | 0.9183014    | 0.7664238    | 0.9980457    | -1.0572778   |\n",
       "| V2 | PGDX16569P   | 0.7057109    | -0.8227554   | 0.7868749    | -1.0407754   | -0.9284673   | -0.4139074   | -0.16594560  | 0.7765621    | 0.5761691    | ...          | -0.849313481 |  0.39431325  |  0.05197526  | -0.36318168  |  0.1744439   | -0.13785162  | 0.5392077    | 0.3942941    | 1.7972449    | -0.3619464   |\n",
       "| V3 | PGDX16570P   | 0.4891340    | -1.1448217   | 0.9478602    | -1.0930696   | -0.5115270   | -0.7552269   | -0.48824613  | 0.9537215    | 0.6624865    | ...          | -0.871941533 | -0.06389996  | -0.22907645  | -0.32470631  | -0.6251958   |  0.17051719  | 0.6882020    | 0.1744819    | 1.4357406    | -0.2330366   |\n",
       "| V4 | PGDX16571P   | 0.6882727    | -0.8585679   | 0.6248431    | -0.8310281   | -0.5335804   | -0.5125528   | -0.34185944  | 0.9281618    | 0.4768828    | ...          | -0.005893625 |  0.18185487  |  0.32387927  |  0.04577069  |  0.2752394   |  0.22750427  | 0.6333635    | 0.8413436    | 1.2819797    |  0.5629469   |\n",
       "| V5 | PGDX16579P   | 0.5801896    | -1.1674832   | 0.7883376    | -1.0498406   | -1.2475692   | -0.7345196   | -0.18778863  | 0.2546093    | 0.2920616    | ...          | -0.067895629 | -0.05197828  | -0.18308631  | -0.70242368  | -0.4281903   | -0.06235782  | 1.0764914    | 1.1411410    | 0.8795170    | -0.4910720   |\n",
       "| V6 | PGDX16580P   | 0.6831409    | -0.8712906   | 0.7199476    | -1.1853489   | -0.8520159   | -0.6829992   | -0.35499242  | 0.8598551    | 0.3870744    | ...          | -0.735310376 |  0.36325245  |  0.20814984  | -0.50307962  |  0.2609116   |  0.53933999  | 1.0772367    | 0.6906960    | 1.7696570    | -0.4181884   |\n",
       "\n"
      ],
      "text/plain": [
       "   sample     chr10_400 chr10_40   chr10_4   chr10_401  chr10_402  chr10_403 \n",
       "V1 PGDX16568P 0.7621097 -0.8032188 0.6402487 -0.8688929 -0.4792134 -0.5096581\n",
       "V2 PGDX16569P 0.7057109 -0.8227554 0.7868749 -1.0407754 -0.9284673 -0.4139074\n",
       "V3 PGDX16570P 0.4891340 -1.1448217 0.9478602 -1.0930696 -0.5115270 -0.7552269\n",
       "V4 PGDX16571P 0.6882727 -0.8585679 0.6248431 -0.8310281 -0.5335804 -0.5125528\n",
       "V5 PGDX16579P 0.5801896 -1.1674832 0.7883376 -1.0498406 -1.2475692 -0.7345196\n",
       "V6 PGDX16580P 0.6831409 -0.8712906 0.7199476 -1.1853489 -0.8520159 -0.6829992\n",
       "   chr10_404   chr10_405 chr10_406 ... chr9_39      chr9_391    chr9_392   \n",
       "V1  0.02594817 0.7295906 0.7738027 ... -0.405123632  0.59187320 -0.29125018\n",
       "V2 -0.16594560 0.7765621 0.5761691 ... -0.849313481  0.39431325  0.05197526\n",
       "V3 -0.48824613 0.9537215 0.6624865 ... -0.871941533 -0.06389996 -0.22907645\n",
       "V4 -0.34185944 0.9281618 0.4768828 ... -0.005893625  0.18185487  0.32387927\n",
       "V5 -0.18778863 0.2546093 0.2920616 ... -0.067895629 -0.05197828 -0.18308631\n",
       "V6 -0.35499242 0.8598551 0.3870744 ... -0.735310376  0.36325245  0.20814984\n",
       "   chr9_393    chr9_394   chr9_395    chr9_396  chr9_397  chr9_398  chr9_399  \n",
       "V1 -0.58276010  0.3792968 -0.04366948 0.9183014 0.7664238 0.9980457 -1.0572778\n",
       "V2 -0.36318168  0.1744439 -0.13785162 0.5392077 0.3942941 1.7972449 -0.3619464\n",
       "V3 -0.32470631 -0.6251958  0.17051719 0.6882020 0.1744819 1.4357406 -0.2330366\n",
       "V4  0.04577069  0.2752394  0.22750427 0.6333635 0.8413436 1.2819797  0.5629469\n",
       "V5 -0.70242368 -0.4281903 -0.06235782 1.0764914 1.1411410 0.8795170 -0.4910720\n",
       "V6 -0.50307962  0.2609116  0.53933999 1.0772367 0.6906960 1.7696570 -0.4181884"
      ]
     },
     "metadata": {},
     "output_type": "display_data"
    }
   ],
   "source": [
    "data <- readRDS(\"../data/ATAC_predictions_train_XX_predict_XX/ATAC_pred_lasso_normalized_trimmed_formatted_standardized.rds\")\n",
    "#data <- readRDS(snakemake@input[[\"input_predictions\"]])\n",
    "\n",
    "\n",
    "head(data)"
   ]
  },
  {
   "cell_type": "code",
   "execution_count": 4,
   "id": "3d6bcac6-83e3-4f5c-8ca8-44a6c0abfb71",
   "metadata": {},
   "outputs": [
    {
     "data": {
      "text/html": [
       "<table>\n",
       "<thead><tr><th scope=col>sample</th><th scope=col>sample_type</th></tr></thead>\n",
       "<tbody>\n",
       "\t<tr><td>PGDX10344P1   </td><td>Gastric_cancer</td></tr>\n",
       "\t<tr><td>PGDX10346P1   </td><td>Gastric_cancer</td></tr>\n",
       "\t<tr><td>PGDX10349P1   </td><td>Gastric_cancer</td></tr>\n",
       "\t<tr><td>PGDX10351P1   </td><td>Gastric_cancer</td></tr>\n",
       "\t<tr><td>PGDX10566P    </td><td>Ovarian_Cancer</td></tr>\n",
       "\t<tr><td>PGDX10567P    </td><td>Ovarian_Cancer</td></tr>\n",
       "</tbody>\n",
       "</table>\n"
      ],
      "text/latex": [
       "\\begin{tabular}{r|ll}\n",
       " sample & sample\\_type\\\\\n",
       "\\hline\n",
       "\t PGDX10344P1      & Gastric\\_cancer\\\\\n",
       "\t PGDX10346P1      & Gastric\\_cancer\\\\\n",
       "\t PGDX10349P1      & Gastric\\_cancer\\\\\n",
       "\t PGDX10351P1      & Gastric\\_cancer\\\\\n",
       "\t PGDX10566P       & Ovarian\\_Cancer\\\\\n",
       "\t PGDX10567P       & Ovarian\\_Cancer\\\\\n",
       "\\end{tabular}\n"
      ],
      "text/markdown": [
       "\n",
       "| sample | sample_type |\n",
       "|---|---|\n",
       "| PGDX10344P1    | Gastric_cancer |\n",
       "| PGDX10346P1    | Gastric_cancer |\n",
       "| PGDX10349P1    | Gastric_cancer |\n",
       "| PGDX10351P1    | Gastric_cancer |\n",
       "| PGDX10566P     | Ovarian_Cancer |\n",
       "| PGDX10567P     | Ovarian_Cancer |\n",
       "\n"
      ],
      "text/plain": [
       "  sample      sample_type   \n",
       "1 PGDX10344P1 Gastric_cancer\n",
       "2 PGDX10346P1 Gastric_cancer\n",
       "3 PGDX10349P1 Gastric_cancer\n",
       "4 PGDX10351P1 Gastric_cancer\n",
       "5 PGDX10566P  Ovarian_Cancer\n",
       "6 PGDX10567P  Ovarian_Cancer"
      ]
     },
     "metadata": {},
     "output_type": "display_data"
    }
   ],
   "source": [
    "#sample_types <- readRDS(snakemake@input[[\"input_sample_types\"]])\n",
    "sample_types <- read.table(\"../data/sample_types.txt\", header = F, sep = \" \")\n",
    "\n",
    "colnames(sample_types) <- c(\"sample\", \"sample_type\")\n",
    "head(sample_types)"
   ]
  },
  {
   "cell_type": "code",
   "execution_count": 5,
   "id": "1d634c6e-6618-4baf-ad6c-ac79cf9f470d",
   "metadata": {},
   "outputs": [
    {
     "name": "stderr",
     "output_type": "stream",
     "text": [
      "ERROR while rich displaying an object: Error in sprintf(wrap, header, body): 'fmt' length exceeds maximal format length 8192\n",
      "\n",
      "Traceback:\n",
      "1. FUN(X[[i]], ...)\n",
      "2. tryCatch(withCallingHandlers({\n",
      " .     if (!mime %in% names(repr::mime2repr)) \n",
      " .         stop(\"No repr_* for mimetype \", mime, \" in repr::mime2repr\")\n",
      " .     rpr <- repr::mime2repr[[mime]](obj)\n",
      " .     if (is.null(rpr)) \n",
      " .         return(NULL)\n",
      " .     prepare_content(is.raw(rpr), rpr)\n",
      " . }, error = error_handler), error = outer_handler)\n",
      "3. tryCatchList(expr, classes, parentenv, handlers)\n",
      "4. tryCatchOne(expr, names, parentenv, handlers[[1L]])\n",
      "5. doTryCatch(return(expr), name, parentenv, handler)\n",
      "6. withCallingHandlers({\n",
      " .     if (!mime %in% names(repr::mime2repr)) \n",
      " .         stop(\"No repr_* for mimetype \", mime, \" in repr::mime2repr\")\n",
      " .     rpr <- repr::mime2repr[[mime]](obj)\n",
      " .     if (is.null(rpr)) \n",
      " .         return(NULL)\n",
      " .     prepare_content(is.raw(rpr), rpr)\n",
      " . }, error = error_handler)\n",
      "7. repr::mime2repr[[mime]](obj)\n",
      "8. repr_latex.data.frame(obj)\n",
      "9. repr_matrix_generic(obj, sprintf(\"\\\\begin{tabular}{%s}\\n%%s%%s\\\\end{tabular}\\n\", \n",
      " .     cols), \"%s\\\\\\\\\\n\\\\hline\\n\", \"  &\", \" %s &\", \"%s\", \"\\t%s\\\\\\\\\\n\", \n",
      " .     \"%s &\", \" %s &\", escape_fun = latex_escape_vec, ...)\n",
      "10. sprintf(wrap, header, body)\n"
     ]
    },
    {
     "data": {
      "text/html": [
       "<table>\n",
       "<thead><tr><th scope=col>sample</th><th scope=col>chr10_400</th><th scope=col>chr10_40</th><th scope=col>chr10_4</th><th scope=col>chr10_401</th><th scope=col>chr10_402</th><th scope=col>chr10_403</th><th scope=col>chr10_404</th><th scope=col>chr10_405</th><th scope=col>chr10_406</th><th scope=col>...</th><th scope=col>chr9_391</th><th scope=col>chr9_392</th><th scope=col>chr9_393</th><th scope=col>chr9_394</th><th scope=col>chr9_395</th><th scope=col>chr9_396</th><th scope=col>chr9_397</th><th scope=col>chr9_398</th><th scope=col>chr9_399</th><th scope=col>sample_type</th></tr></thead>\n",
       "<tbody>\n",
       "\t<tr><td>PGDX10344P1   </td><td>0.28476325    </td><td>-0.8212573    </td><td>1.0277500     </td><td>-0.7094983    </td><td>-0.2327985    </td><td>-0.7836319    </td><td> 0.01979819   </td><td>0.2624251     </td><td>0.3128992     </td><td>...           </td><td>-0.34089350   </td><td> 0.006860094  </td><td>-0.5010935    </td><td>-0.2043651    </td><td> 0.02437101   </td><td> 0.57938365   </td><td>-0.4136060    </td><td>1.3160044     </td><td>-0.26256223   </td><td>Gastric_cancer</td></tr>\n",
       "\t<tr><td>PGDX10346P1   </td><td>1.28471727    </td><td>-0.8295661    </td><td>1.0145149     </td><td>-0.6213053    </td><td>-0.8143027    </td><td>-0.6479755    </td><td>-0.06975614   </td><td>0.9264024     </td><td>0.4895216     </td><td>...           </td><td>-0.17629217   </td><td>-0.421600296  </td><td>-0.5810840    </td><td> 0.1408379    </td><td> 0.21122926   </td><td> 1.13429106   </td><td> 0.8116547    </td><td>0.3187471     </td><td>-0.48265821   </td><td>Gastric_cancer</td></tr>\n",
       "\t<tr><td>PGDX10349P1   </td><td>0.07110482    </td><td>-1.0079115    </td><td>0.3347017     </td><td>-1.1303365    </td><td>-0.8177276    </td><td>-0.9202015    </td><td>-0.08484151   </td><td>0.5183954     </td><td>2.2808829     </td><td>...           </td><td> 1.22409122   </td><td> 0.527804492  </td><td>-0.1435833    </td><td> 0.4967880    </td><td> 0.15991730   </td><td> 0.89522351   </td><td> 0.5305742    </td><td>1.6767953     </td><td>-0.02839009   </td><td>Gastric_cancer</td></tr>\n",
       "\t<tr><td>PGDX10351P1   </td><td>1.36298501    </td><td>-1.4848879    </td><td>0.4225454     </td><td>-1.3192129    </td><td>-0.7097136    </td><td>-0.4653093    </td><td>-0.42147744   </td><td>0.9729417     </td><td>0.5944980     </td><td>...           </td><td> 0.43571295   </td><td> 0.872833915  </td><td>-0.0670184    </td><td> 0.7394425    </td><td> 0.13690205   </td><td> 1.29732717   </td><td> 0.4739056    </td><td>1.4153912     </td><td>-0.12217374   </td><td>Gastric_cancer</td></tr>\n",
       "\t<tr><td>PGDX10566P    </td><td>0.40245603    </td><td>-1.0782760    </td><td>1.2759516     </td><td>-0.8646247    </td><td>-0.5192562    </td><td>-0.8555661    </td><td>-0.22999396   </td><td>0.7699482     </td><td>0.4825674     </td><td>...           </td><td> 0.04951928   </td><td> 0.173364771  </td><td>-0.8705736    </td><td> 0.4935296    </td><td>-0.17648798   </td><td>-0.02395699   </td><td> 0.3182328    </td><td>1.3930824     </td><td>-0.47078676   </td><td>Ovarian_Cancer</td></tr>\n",
       "\t<tr><td>PGDX10567P    </td><td>0.97825189    </td><td>-0.6787169    </td><td>1.0934262     </td><td>-0.1749540    </td><td>-0.6319351    </td><td>-0.7585842    </td><td> 0.22653017   </td><td>0.5994301     </td><td>0.6407291     </td><td>...           </td><td> 0.50968208   </td><td>-0.241967372  </td><td>-0.6951369    </td><td> 0.2412607    </td><td> 0.11914801   </td><td> 0.07982386   </td><td> 0.2854560    </td><td>1.7946488     </td><td>-0.69550001   </td><td>Ovarian_Cancer</td></tr>\n",
       "</tbody>\n",
       "</table>\n"
      ],
      "text/markdown": [
       "\n",
       "| sample | chr10_400 | chr10_40 | chr10_4 | chr10_401 | chr10_402 | chr10_403 | chr10_404 | chr10_405 | chr10_406 | ... | chr9_391 | chr9_392 | chr9_393 | chr9_394 | chr9_395 | chr9_396 | chr9_397 | chr9_398 | chr9_399 | sample_type |\n",
       "|---|---|---|---|---|---|---|---|---|---|---|---|---|---|---|---|---|---|---|---|---|\n",
       "| PGDX10344P1    | 0.28476325     | -0.8212573     | 1.0277500      | -0.7094983     | -0.2327985     | -0.7836319     |  0.01979819    | 0.2624251      | 0.3128992      | ...            | -0.34089350    |  0.006860094   | -0.5010935     | -0.2043651     |  0.02437101    |  0.57938365    | -0.4136060     | 1.3160044      | -0.26256223    | Gastric_cancer |\n",
       "| PGDX10346P1    | 1.28471727     | -0.8295661     | 1.0145149      | -0.6213053     | -0.8143027     | -0.6479755     | -0.06975614    | 0.9264024      | 0.4895216      | ...            | -0.17629217    | -0.421600296   | -0.5810840     |  0.1408379     |  0.21122926    |  1.13429106    |  0.8116547     | 0.3187471      | -0.48265821    | Gastric_cancer |\n",
       "| PGDX10349P1    | 0.07110482     | -1.0079115     | 0.3347017      | -1.1303365     | -0.8177276     | -0.9202015     | -0.08484151    | 0.5183954      | 2.2808829      | ...            |  1.22409122    |  0.527804492   | -0.1435833     |  0.4967880     |  0.15991730    |  0.89522351    |  0.5305742     | 1.6767953      | -0.02839009    | Gastric_cancer |\n",
       "| PGDX10351P1    | 1.36298501     | -1.4848879     | 0.4225454      | -1.3192129     | -0.7097136     | -0.4653093     | -0.42147744    | 0.9729417      | 0.5944980      | ...            |  0.43571295    |  0.872833915   | -0.0670184     |  0.7394425     |  0.13690205    |  1.29732717    |  0.4739056     | 1.4153912      | -0.12217374    | Gastric_cancer |\n",
       "| PGDX10566P     | 0.40245603     | -1.0782760     | 1.2759516      | -0.8646247     | -0.5192562     | -0.8555661     | -0.22999396    | 0.7699482      | 0.4825674      | ...            |  0.04951928    |  0.173364771   | -0.8705736     |  0.4935296     | -0.17648798    | -0.02395699    |  0.3182328     | 1.3930824      | -0.47078676    | Ovarian_Cancer |\n",
       "| PGDX10567P     | 0.97825189     | -0.6787169     | 1.0934262      | -0.1749540     | -0.6319351     | -0.7585842     |  0.22653017    | 0.5994301      | 0.6407291      | ...            |  0.50968208    | -0.241967372   | -0.6951369     |  0.2412607     |  0.11914801    |  0.07982386    |  0.2854560     | 1.7946488      | -0.69550001    | Ovarian_Cancer |\n",
       "\n"
      ],
      "text/plain": [
       "  sample      chr10_400  chr10_40   chr10_4   chr10_401  chr10_402  chr10_403 \n",
       "1 PGDX10344P1 0.28476325 -0.8212573 1.0277500 -0.7094983 -0.2327985 -0.7836319\n",
       "2 PGDX10346P1 1.28471727 -0.8295661 1.0145149 -0.6213053 -0.8143027 -0.6479755\n",
       "3 PGDX10349P1 0.07110482 -1.0079115 0.3347017 -1.1303365 -0.8177276 -0.9202015\n",
       "4 PGDX10351P1 1.36298501 -1.4848879 0.4225454 -1.3192129 -0.7097136 -0.4653093\n",
       "5 PGDX10566P  0.40245603 -1.0782760 1.2759516 -0.8646247 -0.5192562 -0.8555661\n",
       "6 PGDX10567P  0.97825189 -0.6787169 1.0934262 -0.1749540 -0.6319351 -0.7585842\n",
       "  chr10_404   chr10_405 chr10_406 ... chr9_391    chr9_392     chr9_393  \n",
       "1  0.01979819 0.2624251 0.3128992 ... -0.34089350  0.006860094 -0.5010935\n",
       "2 -0.06975614 0.9264024 0.4895216 ... -0.17629217 -0.421600296 -0.5810840\n",
       "3 -0.08484151 0.5183954 2.2808829 ...  1.22409122  0.527804492 -0.1435833\n",
       "4 -0.42147744 0.9729417 0.5944980 ...  0.43571295  0.872833915 -0.0670184\n",
       "5 -0.22999396 0.7699482 0.4825674 ...  0.04951928  0.173364771 -0.8705736\n",
       "6  0.22653017 0.5994301 0.6407291 ...  0.50968208 -0.241967372 -0.6951369\n",
       "  chr9_394   chr9_395    chr9_396    chr9_397   chr9_398  chr9_399   \n",
       "1 -0.2043651  0.02437101  0.57938365 -0.4136060 1.3160044 -0.26256223\n",
       "2  0.1408379  0.21122926  1.13429106  0.8116547 0.3187471 -0.48265821\n",
       "3  0.4967880  0.15991730  0.89522351  0.5305742 1.6767953 -0.02839009\n",
       "4  0.7394425  0.13690205  1.29732717  0.4739056 1.4153912 -0.12217374\n",
       "5  0.4935296 -0.17648798 -0.02395699  0.3182328 1.3930824 -0.47078676\n",
       "6  0.2412607  0.11914801  0.07982386  0.2854560 1.7946488 -0.69550001\n",
       "  sample_type   \n",
       "1 Gastric_cancer\n",
       "2 Gastric_cancer\n",
       "3 Gastric_cancer\n",
       "4 Gastric_cancer\n",
       "5 Ovarian_Cancer\n",
       "6 Ovarian_Cancer"
      ]
     },
     "metadata": {},
     "output_type": "display_data"
    }
   ],
   "source": [
    "data <- merge(data, sample_types, by=\"sample\")\n",
    "head(data)\n",
    "#data <- data %>% mutate(sample_type01 = ifelse(sample_type == \"Healthy\", 0, 1))"
   ]
  },
  {
   "cell_type": "code",
   "execution_count": 6,
   "id": "a631656c-49dd-4b23-b885-fb8a9b219b7c",
   "metadata": {},
   "outputs": [
    {
     "name": "stderr",
     "output_type": "stream",
     "text": [
      "ERROR while rich displaying an object: Error in sprintf(wrap, header, body): 'fmt' length exceeds maximal format length 8192\n",
      "\n",
      "Traceback:\n",
      "1. FUN(X[[i]], ...)\n",
      "2. tryCatch(withCallingHandlers({\n",
      " .     if (!mime %in% names(repr::mime2repr)) \n",
      " .         stop(\"No repr_* for mimetype \", mime, \" in repr::mime2repr\")\n",
      " .     rpr <- repr::mime2repr[[mime]](obj)\n",
      " .     if (is.null(rpr)) \n",
      " .         return(NULL)\n",
      " .     prepare_content(is.raw(rpr), rpr)\n",
      " . }, error = error_handler), error = outer_handler)\n",
      "3. tryCatchList(expr, classes, parentenv, handlers)\n",
      "4. tryCatchOne(expr, names, parentenv, handlers[[1L]])\n",
      "5. doTryCatch(return(expr), name, parentenv, handler)\n",
      "6. withCallingHandlers({\n",
      " .     if (!mime %in% names(repr::mime2repr)) \n",
      " .         stop(\"No repr_* for mimetype \", mime, \" in repr::mime2repr\")\n",
      " .     rpr <- repr::mime2repr[[mime]](obj)\n",
      " .     if (is.null(rpr)) \n",
      " .         return(NULL)\n",
      " .     prepare_content(is.raw(rpr), rpr)\n",
      " . }, error = error_handler)\n",
      "7. repr::mime2repr[[mime]](obj)\n",
      "8. repr_latex.data.frame(obj)\n",
      "9. repr_matrix_generic(obj, sprintf(\"\\\\begin{tabular}{%s}\\n%%s%%s\\\\end{tabular}\\n\", \n",
      " .     cols), \"%s\\\\\\\\\\n\\\\hline\\n\", \"  &\", \" %s &\", \"%s\", \"\\t%s\\\\\\\\\\n\", \n",
      " .     \"%s &\", \" %s &\", escape_fun = latex_escape_vec, ...)\n",
      "10. sprintf(wrap, header, body)\n"
     ]
    },
    {
     "data": {
      "text/html": [
       "<table>\n",
       "<thead><tr><th scope=col>sample</th><th scope=col>chr10_400</th><th scope=col>chr10_40</th><th scope=col>chr10_4</th><th scope=col>chr10_401</th><th scope=col>chr10_402</th><th scope=col>chr10_403</th><th scope=col>chr10_404</th><th scope=col>chr10_405</th><th scope=col>chr10_406</th><th scope=col>...</th><th scope=col>chr9_391</th><th scope=col>chr9_392</th><th scope=col>chr9_393</th><th scope=col>chr9_394</th><th scope=col>chr9_395</th><th scope=col>chr9_396</th><th scope=col>chr9_397</th><th scope=col>chr9_398</th><th scope=col>chr9_399</th><th scope=col>sample_type</th></tr></thead>\n",
       "<tbody>\n",
       "\t<tr><td>PGDX10344P1   </td><td>0.28476325    </td><td>-0.8212573    </td><td>1.0277500     </td><td>-0.7094983    </td><td>-0.2327985    </td><td>-0.7836319    </td><td> 0.01979819   </td><td>0.2624251     </td><td>0.3128992     </td><td>...           </td><td>-0.34089350   </td><td> 0.006860094  </td><td>-0.5010935    </td><td>-0.2043651    </td><td> 0.02437101   </td><td> 0.57938365   </td><td>-0.4136060    </td><td>1.3160044     </td><td>-0.26256223   </td><td>Gastric_cancer</td></tr>\n",
       "\t<tr><td>PGDX10346P1   </td><td>1.28471727    </td><td>-0.8295661    </td><td>1.0145149     </td><td>-0.6213053    </td><td>-0.8143027    </td><td>-0.6479755    </td><td>-0.06975614   </td><td>0.9264024     </td><td>0.4895216     </td><td>...           </td><td>-0.17629217   </td><td>-0.421600296  </td><td>-0.5810840    </td><td> 0.1408379    </td><td> 0.21122926   </td><td> 1.13429106   </td><td> 0.8116547    </td><td>0.3187471     </td><td>-0.48265821   </td><td>Gastric_cancer</td></tr>\n",
       "\t<tr><td>PGDX10349P1   </td><td>0.07110482    </td><td>-1.0079115    </td><td>0.3347017     </td><td>-1.1303365    </td><td>-0.8177276    </td><td>-0.9202015    </td><td>-0.08484151   </td><td>0.5183954     </td><td>2.2808829     </td><td>...           </td><td> 1.22409122   </td><td> 0.527804492  </td><td>-0.1435833    </td><td> 0.4967880    </td><td> 0.15991730   </td><td> 0.89522351   </td><td> 0.5305742    </td><td>1.6767953     </td><td>-0.02839009   </td><td>Gastric_cancer</td></tr>\n",
       "\t<tr><td>PGDX10351P1   </td><td>1.36298501    </td><td>-1.4848879    </td><td>0.4225454     </td><td>-1.3192129    </td><td>-0.7097136    </td><td>-0.4653093    </td><td>-0.42147744   </td><td>0.9729417     </td><td>0.5944980     </td><td>...           </td><td> 0.43571295   </td><td> 0.872833915  </td><td>-0.0670184    </td><td> 0.7394425    </td><td> 0.13690205   </td><td> 1.29732717   </td><td> 0.4739056    </td><td>1.4153912     </td><td>-0.12217374   </td><td>Gastric_cancer</td></tr>\n",
       "\t<tr><td>PGDX10566P    </td><td>0.40245603    </td><td>-1.0782760    </td><td>1.2759516     </td><td>-0.8646247    </td><td>-0.5192562    </td><td>-0.8555661    </td><td>-0.22999396   </td><td>0.7699482     </td><td>0.4825674     </td><td>...           </td><td> 0.04951928   </td><td> 0.173364771  </td><td>-0.8705736    </td><td> 0.4935296    </td><td>-0.17648798   </td><td>-0.02395699   </td><td> 0.3182328    </td><td>1.3930824     </td><td>-0.47078676   </td><td>Ovarian_Cancer</td></tr>\n",
       "\t<tr><td>PGDX10567P    </td><td>0.97825189    </td><td>-0.6787169    </td><td>1.0934262     </td><td>-0.1749540    </td><td>-0.6319351    </td><td>-0.7585842    </td><td> 0.22653017   </td><td>0.5994301     </td><td>0.6407291     </td><td>...           </td><td> 0.50968208   </td><td>-0.241967372  </td><td>-0.6951369    </td><td> 0.2412607    </td><td> 0.11914801   </td><td> 0.07982386   </td><td> 0.2854560    </td><td>1.7946488     </td><td>-0.69550001   </td><td>Ovarian_Cancer</td></tr>\n",
       "</tbody>\n",
       "</table>\n"
      ],
      "text/markdown": [
       "\n",
       "| sample | chr10_400 | chr10_40 | chr10_4 | chr10_401 | chr10_402 | chr10_403 | chr10_404 | chr10_405 | chr10_406 | ... | chr9_391 | chr9_392 | chr9_393 | chr9_394 | chr9_395 | chr9_396 | chr9_397 | chr9_398 | chr9_399 | sample_type |\n",
       "|---|---|---|---|---|---|---|---|---|---|---|---|---|---|---|---|---|---|---|---|---|\n",
       "| PGDX10344P1    | 0.28476325     | -0.8212573     | 1.0277500      | -0.7094983     | -0.2327985     | -0.7836319     |  0.01979819    | 0.2624251      | 0.3128992      | ...            | -0.34089350    |  0.006860094   | -0.5010935     | -0.2043651     |  0.02437101    |  0.57938365    | -0.4136060     | 1.3160044      | -0.26256223    | Gastric_cancer |\n",
       "| PGDX10346P1    | 1.28471727     | -0.8295661     | 1.0145149      | -0.6213053     | -0.8143027     | -0.6479755     | -0.06975614    | 0.9264024      | 0.4895216      | ...            | -0.17629217    | -0.421600296   | -0.5810840     |  0.1408379     |  0.21122926    |  1.13429106    |  0.8116547     | 0.3187471      | -0.48265821    | Gastric_cancer |\n",
       "| PGDX10349P1    | 0.07110482     | -1.0079115     | 0.3347017      | -1.1303365     | -0.8177276     | -0.9202015     | -0.08484151    | 0.5183954      | 2.2808829      | ...            |  1.22409122    |  0.527804492   | -0.1435833     |  0.4967880     |  0.15991730    |  0.89522351    |  0.5305742     | 1.6767953      | -0.02839009    | Gastric_cancer |\n",
       "| PGDX10351P1    | 1.36298501     | -1.4848879     | 0.4225454      | -1.3192129     | -0.7097136     | -0.4653093     | -0.42147744    | 0.9729417      | 0.5944980      | ...            |  0.43571295    |  0.872833915   | -0.0670184     |  0.7394425     |  0.13690205    |  1.29732717    |  0.4739056     | 1.4153912      | -0.12217374    | Gastric_cancer |\n",
       "| PGDX10566P     | 0.40245603     | -1.0782760     | 1.2759516      | -0.8646247     | -0.5192562     | -0.8555661     | -0.22999396    | 0.7699482      | 0.4825674      | ...            |  0.04951928    |  0.173364771   | -0.8705736     |  0.4935296     | -0.17648798    | -0.02395699    |  0.3182328     | 1.3930824      | -0.47078676    | Ovarian_Cancer |\n",
       "| PGDX10567P     | 0.97825189     | -0.6787169     | 1.0934262      | -0.1749540     | -0.6319351     | -0.7585842     |  0.22653017    | 0.5994301      | 0.6407291      | ...            |  0.50968208    | -0.241967372   | -0.6951369     |  0.2412607     |  0.11914801    |  0.07982386    |  0.2854560     | 1.7946488      | -0.69550001    | Ovarian_Cancer |\n",
       "\n"
      ],
      "text/plain": [
       "  sample      chr10_400  chr10_40   chr10_4   chr10_401  chr10_402  chr10_403 \n",
       "1 PGDX10344P1 0.28476325 -0.8212573 1.0277500 -0.7094983 -0.2327985 -0.7836319\n",
       "2 PGDX10346P1 1.28471727 -0.8295661 1.0145149 -0.6213053 -0.8143027 -0.6479755\n",
       "3 PGDX10349P1 0.07110482 -1.0079115 0.3347017 -1.1303365 -0.8177276 -0.9202015\n",
       "4 PGDX10351P1 1.36298501 -1.4848879 0.4225454 -1.3192129 -0.7097136 -0.4653093\n",
       "5 PGDX10566P  0.40245603 -1.0782760 1.2759516 -0.8646247 -0.5192562 -0.8555661\n",
       "6 PGDX10567P  0.97825189 -0.6787169 1.0934262 -0.1749540 -0.6319351 -0.7585842\n",
       "  chr10_404   chr10_405 chr10_406 ... chr9_391    chr9_392     chr9_393  \n",
       "1  0.01979819 0.2624251 0.3128992 ... -0.34089350  0.006860094 -0.5010935\n",
       "2 -0.06975614 0.9264024 0.4895216 ... -0.17629217 -0.421600296 -0.5810840\n",
       "3 -0.08484151 0.5183954 2.2808829 ...  1.22409122  0.527804492 -0.1435833\n",
       "4 -0.42147744 0.9729417 0.5944980 ...  0.43571295  0.872833915 -0.0670184\n",
       "5 -0.22999396 0.7699482 0.4825674 ...  0.04951928  0.173364771 -0.8705736\n",
       "6  0.22653017 0.5994301 0.6407291 ...  0.50968208 -0.241967372 -0.6951369\n",
       "  chr9_394   chr9_395    chr9_396    chr9_397   chr9_398  chr9_399   \n",
       "1 -0.2043651  0.02437101  0.57938365 -0.4136060 1.3160044 -0.26256223\n",
       "2  0.1408379  0.21122926  1.13429106  0.8116547 0.3187471 -0.48265821\n",
       "3  0.4967880  0.15991730  0.89522351  0.5305742 1.6767953 -0.02839009\n",
       "4  0.7394425  0.13690205  1.29732717  0.4739056 1.4153912 -0.12217374\n",
       "5  0.4935296 -0.17648798 -0.02395699  0.3182328 1.3930824 -0.47078676\n",
       "6  0.2412607  0.11914801  0.07982386  0.2854560 1.7946488 -0.69550001\n",
       "  sample_type   \n",
       "1 Gastric_cancer\n",
       "2 Gastric_cancer\n",
       "3 Gastric_cancer\n",
       "4 Gastric_cancer\n",
       "5 Ovarian_Cancer\n",
       "6 Ovarian_Cancer"
      ]
     },
     "metadata": {},
     "output_type": "display_data"
    }
   ],
   "source": [
    "head(data)"
   ]
  },
  {
   "cell_type": "code",
   "execution_count": 7,
   "id": "5570b6c7-9349-4885-a69d-3609c752efe6",
   "metadata": {},
   "outputs": [],
   "source": [
    "#data <- data %>% dplyr::select(-sample_type)\n",
    "data <- data %>% dplyr::select(-sample)"
   ]
  },
  {
   "cell_type": "code",
   "execution_count": 8,
   "id": "b81686d6-4df1-4403-ae94-6d4c20b4fc61",
   "metadata": {},
   "outputs": [
    {
     "name": "stderr",
     "output_type": "stream",
     "text": [
      "ERROR while rich displaying an object: Error in sprintf(wrap, header, body): 'fmt' length exceeds maximal format length 8192\n",
      "\n",
      "Traceback:\n",
      "1. FUN(X[[i]], ...)\n",
      "2. tryCatch(withCallingHandlers({\n",
      " .     if (!mime %in% names(repr::mime2repr)) \n",
      " .         stop(\"No repr_* for mimetype \", mime, \" in repr::mime2repr\")\n",
      " .     rpr <- repr::mime2repr[[mime]](obj)\n",
      " .     if (is.null(rpr)) \n",
      " .         return(NULL)\n",
      " .     prepare_content(is.raw(rpr), rpr)\n",
      " . }, error = error_handler), error = outer_handler)\n",
      "3. tryCatchList(expr, classes, parentenv, handlers)\n",
      "4. tryCatchOne(expr, names, parentenv, handlers[[1L]])\n",
      "5. doTryCatch(return(expr), name, parentenv, handler)\n",
      "6. withCallingHandlers({\n",
      " .     if (!mime %in% names(repr::mime2repr)) \n",
      " .         stop(\"No repr_* for mimetype \", mime, \" in repr::mime2repr\")\n",
      " .     rpr <- repr::mime2repr[[mime]](obj)\n",
      " .     if (is.null(rpr)) \n",
      " .         return(NULL)\n",
      " .     prepare_content(is.raw(rpr), rpr)\n",
      " . }, error = error_handler)\n",
      "7. repr::mime2repr[[mime]](obj)\n",
      "8. repr_latex.data.frame(obj)\n",
      "9. repr_matrix_generic(obj, sprintf(\"\\\\begin{tabular}{%s}\\n%%s%%s\\\\end{tabular}\\n\", \n",
      " .     cols), \"%s\\\\\\\\\\n\\\\hline\\n\", \"  &\", \" %s &\", \"%s\", \"\\t%s\\\\\\\\\\n\", \n",
      " .     \"%s &\", \" %s &\", escape_fun = latex_escape_vec, ...)\n",
      "10. sprintf(wrap, header, body)\n"
     ]
    },
    {
     "data": {
      "text/html": [
       "<table>\n",
       "<thead><tr><th scope=col>chr10_400</th><th scope=col>chr10_40</th><th scope=col>chr10_4</th><th scope=col>chr10_401</th><th scope=col>chr10_402</th><th scope=col>chr10_403</th><th scope=col>chr10_404</th><th scope=col>chr10_405</th><th scope=col>chr10_406</th><th scope=col>chr10_407</th><th scope=col>...</th><th scope=col>chr9_391</th><th scope=col>chr9_392</th><th scope=col>chr9_393</th><th scope=col>chr9_394</th><th scope=col>chr9_395</th><th scope=col>chr9_396</th><th scope=col>chr9_397</th><th scope=col>chr9_398</th><th scope=col>chr9_399</th><th scope=col>sample_type</th></tr></thead>\n",
       "<tbody>\n",
       "\t<tr><td>0.28476325    </td><td>-0.8212573    </td><td>1.0277500     </td><td>-0.7094983    </td><td>-0.2327985    </td><td>-0.7836319    </td><td> 0.01979819   </td><td>0.2624251     </td><td>0.3128992     </td><td>1.45146500    </td><td>...           </td><td>-0.34089350   </td><td> 0.006860094  </td><td>-0.5010935    </td><td>-0.2043651    </td><td> 0.02437101   </td><td> 0.57938365   </td><td>-0.4136060    </td><td>1.3160044     </td><td>-0.26256223   </td><td>Gastric_cancer</td></tr>\n",
       "\t<tr><td>1.28471727    </td><td>-0.8295661    </td><td>1.0145149     </td><td>-0.6213053    </td><td>-0.8143027    </td><td>-0.6479755    </td><td>-0.06975614   </td><td>0.9264024     </td><td>0.4895216     </td><td>0.04814456    </td><td>...           </td><td>-0.17629217   </td><td>-0.421600296  </td><td>-0.5810840    </td><td> 0.1408379    </td><td> 0.21122926   </td><td> 1.13429106   </td><td> 0.8116547    </td><td>0.3187471     </td><td>-0.48265821   </td><td>Gastric_cancer</td></tr>\n",
       "\t<tr><td>0.07110482    </td><td>-1.0079115    </td><td>0.3347017     </td><td>-1.1303365    </td><td>-0.8177276    </td><td>-0.9202015    </td><td>-0.08484151   </td><td>0.5183954     </td><td>2.2808829     </td><td>1.33462998    </td><td>...           </td><td> 1.22409122   </td><td> 0.527804492  </td><td>-0.1435833    </td><td> 0.4967880    </td><td> 0.15991730   </td><td> 0.89522351   </td><td> 0.5305742    </td><td>1.6767953     </td><td>-0.02839009   </td><td>Gastric_cancer</td></tr>\n",
       "\t<tr><td>1.36298501    </td><td>-1.4848879    </td><td>0.4225454     </td><td>-1.3192129    </td><td>-0.7097136    </td><td>-0.4653093    </td><td>-0.42147744   </td><td>0.9729417     </td><td>0.5944980     </td><td>0.97671516    </td><td>...           </td><td> 0.43571295   </td><td> 0.872833915  </td><td>-0.0670184    </td><td> 0.7394425    </td><td> 0.13690205   </td><td> 1.29732717   </td><td> 0.4739056    </td><td>1.4153912     </td><td>-0.12217374   </td><td>Gastric_cancer</td></tr>\n",
       "\t<tr><td>0.40245603    </td><td>-1.0782760    </td><td>1.2759516     </td><td>-0.8646247    </td><td>-0.5192562    </td><td>-0.8555661    </td><td>-0.22999396   </td><td>0.7699482     </td><td>0.4825674     </td><td>0.76308429    </td><td>...           </td><td> 0.04951928   </td><td> 0.173364771  </td><td>-0.8705736    </td><td> 0.4935296    </td><td>-0.17648798   </td><td>-0.02395699   </td><td> 0.3182328    </td><td>1.3930824     </td><td>-0.47078676   </td><td>Ovarian_Cancer</td></tr>\n",
       "\t<tr><td>0.97825189    </td><td>-0.6787169    </td><td>1.0934262     </td><td>-0.1749540    </td><td>-0.6319351    </td><td>-0.7585842    </td><td> 0.22653017   </td><td>0.5994301     </td><td>0.6407291     </td><td>0.64706533    </td><td>...           </td><td> 0.50968208   </td><td>-0.241967372  </td><td>-0.6951369    </td><td> 0.2412607    </td><td> 0.11914801   </td><td> 0.07982386   </td><td> 0.2854560    </td><td>1.7946488     </td><td>-0.69550001   </td><td>Ovarian_Cancer</td></tr>\n",
       "</tbody>\n",
       "</table>\n"
      ],
      "text/markdown": [
       "\n",
       "| chr10_400 | chr10_40 | chr10_4 | chr10_401 | chr10_402 | chr10_403 | chr10_404 | chr10_405 | chr10_406 | chr10_407 | ... | chr9_391 | chr9_392 | chr9_393 | chr9_394 | chr9_395 | chr9_396 | chr9_397 | chr9_398 | chr9_399 | sample_type |\n",
       "|---|---|---|---|---|---|---|---|---|---|---|---|---|---|---|---|---|---|---|---|---|\n",
       "| 0.28476325     | -0.8212573     | 1.0277500      | -0.7094983     | -0.2327985     | -0.7836319     |  0.01979819    | 0.2624251      | 0.3128992      | 1.45146500     | ...            | -0.34089350    |  0.006860094   | -0.5010935     | -0.2043651     |  0.02437101    |  0.57938365    | -0.4136060     | 1.3160044      | -0.26256223    | Gastric_cancer |\n",
       "| 1.28471727     | -0.8295661     | 1.0145149      | -0.6213053     | -0.8143027     | -0.6479755     | -0.06975614    | 0.9264024      | 0.4895216      | 0.04814456     | ...            | -0.17629217    | -0.421600296   | -0.5810840     |  0.1408379     |  0.21122926    |  1.13429106    |  0.8116547     | 0.3187471      | -0.48265821    | Gastric_cancer |\n",
       "| 0.07110482     | -1.0079115     | 0.3347017      | -1.1303365     | -0.8177276     | -0.9202015     | -0.08484151    | 0.5183954      | 2.2808829      | 1.33462998     | ...            |  1.22409122    |  0.527804492   | -0.1435833     |  0.4967880     |  0.15991730    |  0.89522351    |  0.5305742     | 1.6767953      | -0.02839009    | Gastric_cancer |\n",
       "| 1.36298501     | -1.4848879     | 0.4225454      | -1.3192129     | -0.7097136     | -0.4653093     | -0.42147744    | 0.9729417      | 0.5944980      | 0.97671516     | ...            |  0.43571295    |  0.872833915   | -0.0670184     |  0.7394425     |  0.13690205    |  1.29732717    |  0.4739056     | 1.4153912      | -0.12217374    | Gastric_cancer |\n",
       "| 0.40245603     | -1.0782760     | 1.2759516      | -0.8646247     | -0.5192562     | -0.8555661     | -0.22999396    | 0.7699482      | 0.4825674      | 0.76308429     | ...            |  0.04951928    |  0.173364771   | -0.8705736     |  0.4935296     | -0.17648798    | -0.02395699    |  0.3182328     | 1.3930824      | -0.47078676    | Ovarian_Cancer |\n",
       "| 0.97825189     | -0.6787169     | 1.0934262      | -0.1749540     | -0.6319351     | -0.7585842     |  0.22653017    | 0.5994301      | 0.6407291      | 0.64706533     | ...            |  0.50968208    | -0.241967372   | -0.6951369     |  0.2412607     |  0.11914801    |  0.07982386    |  0.2854560     | 1.7946488      | -0.69550001    | Ovarian_Cancer |\n",
       "\n"
      ],
      "text/plain": [
       "  chr10_400  chr10_40   chr10_4   chr10_401  chr10_402  chr10_403  chr10_404  \n",
       "1 0.28476325 -0.8212573 1.0277500 -0.7094983 -0.2327985 -0.7836319  0.01979819\n",
       "2 1.28471727 -0.8295661 1.0145149 -0.6213053 -0.8143027 -0.6479755 -0.06975614\n",
       "3 0.07110482 -1.0079115 0.3347017 -1.1303365 -0.8177276 -0.9202015 -0.08484151\n",
       "4 1.36298501 -1.4848879 0.4225454 -1.3192129 -0.7097136 -0.4653093 -0.42147744\n",
       "5 0.40245603 -1.0782760 1.2759516 -0.8646247 -0.5192562 -0.8555661 -0.22999396\n",
       "6 0.97825189 -0.6787169 1.0934262 -0.1749540 -0.6319351 -0.7585842  0.22653017\n",
       "  chr10_405 chr10_406 chr10_407  ... chr9_391    chr9_392     chr9_393  \n",
       "1 0.2624251 0.3128992 1.45146500 ... -0.34089350  0.006860094 -0.5010935\n",
       "2 0.9264024 0.4895216 0.04814456 ... -0.17629217 -0.421600296 -0.5810840\n",
       "3 0.5183954 2.2808829 1.33462998 ...  1.22409122  0.527804492 -0.1435833\n",
       "4 0.9729417 0.5944980 0.97671516 ...  0.43571295  0.872833915 -0.0670184\n",
       "5 0.7699482 0.4825674 0.76308429 ...  0.04951928  0.173364771 -0.8705736\n",
       "6 0.5994301 0.6407291 0.64706533 ...  0.50968208 -0.241967372 -0.6951369\n",
       "  chr9_394   chr9_395    chr9_396    chr9_397   chr9_398  chr9_399   \n",
       "1 -0.2043651  0.02437101  0.57938365 -0.4136060 1.3160044 -0.26256223\n",
       "2  0.1408379  0.21122926  1.13429106  0.8116547 0.3187471 -0.48265821\n",
       "3  0.4967880  0.15991730  0.89522351  0.5305742 1.6767953 -0.02839009\n",
       "4  0.7394425  0.13690205  1.29732717  0.4739056 1.4153912 -0.12217374\n",
       "5  0.4935296 -0.17648798 -0.02395699  0.3182328 1.3930824 -0.47078676\n",
       "6  0.2412607  0.11914801  0.07982386  0.2854560 1.7946488 -0.69550001\n",
       "  sample_type   \n",
       "1 Gastric_cancer\n",
       "2 Gastric_cancer\n",
       "3 Gastric_cancer\n",
       "4 Gastric_cancer\n",
       "5 Ovarian_Cancer\n",
       "6 Ovarian_Cancer"
      ]
     },
     "metadata": {},
     "output_type": "display_data"
    }
   ],
   "source": [
    "head(data)"
   ]
  },
  {
   "cell_type": "code",
   "execution_count": 9,
   "id": "45b0d079-5a9a-4301-ac4b-adb00f01154d",
   "metadata": {},
   "outputs": [
    {
     "data": {
      "text/html": [
       "<ol class=list-inline>\n",
       "\t<li>Gastric_cancer</li>\n",
       "\t<li>Ovarian_Cancer</li>\n",
       "\t<li>Lung_Cancer</li>\n",
       "\t<li>Healthy</li>\n",
       "\t<li>Bile_Duct_Cancer</li>\n",
       "\t<li>Pancreatic_Cancer</li>\n",
       "\t<li>Duodenal_Cancer</li>\n",
       "\t<li>Breast_Cancer</li>\n",
       "\t<li>Colorectal_Cancer</li>\n",
       "</ol>\n",
       "\n",
       "<details>\n",
       "\t<summary style=display:list-item;cursor:pointer>\n",
       "\t\t<strong>Levels</strong>:\n",
       "\t</summary>\n",
       "\t<ol class=list-inline>\n",
       "\t\t<li>'Bile_Duct_Cancer'</li>\n",
       "\t\t<li>'Breast_Cancer'</li>\n",
       "\t\t<li>'Colorectal_Cancer'</li>\n",
       "\t\t<li>'Duodenal_Cancer'</li>\n",
       "\t\t<li>'Gastric_cancer'</li>\n",
       "\t\t<li>'Healthy'</li>\n",
       "\t\t<li>'Lung_Cancer'</li>\n",
       "\t\t<li>'Ovarian_Cancer'</li>\n",
       "\t\t<li>'Pancreatic_Cancer'</li>\n",
       "\t</ol>\n",
       "</details>"
      ],
      "text/latex": [
       "\\begin{enumerate*}\n",
       "\\item Gastric\\_cancer\n",
       "\\item Ovarian\\_Cancer\n",
       "\\item Lung\\_Cancer\n",
       "\\item Healthy\n",
       "\\item Bile\\_Duct\\_Cancer\n",
       "\\item Pancreatic\\_Cancer\n",
       "\\item Duodenal\\_Cancer\n",
       "\\item Breast\\_Cancer\n",
       "\\item Colorectal\\_Cancer\n",
       "\\end{enumerate*}\n",
       "\n",
       "\\emph{Levels}: \\begin{enumerate*}\n",
       "\\item 'Bile\\_Duct\\_Cancer'\n",
       "\\item 'Breast\\_Cancer'\n",
       "\\item 'Colorectal\\_Cancer'\n",
       "\\item 'Duodenal\\_Cancer'\n",
       "\\item 'Gastric\\_cancer'\n",
       "\\item 'Healthy'\n",
       "\\item 'Lung\\_Cancer'\n",
       "\\item 'Ovarian\\_Cancer'\n",
       "\\item 'Pancreatic\\_Cancer'\n",
       "\\end{enumerate*}\n"
      ],
      "text/markdown": [
       "1. Gastric_cancer\n",
       "2. Ovarian_Cancer\n",
       "3. Lung_Cancer\n",
       "4. Healthy\n",
       "5. Bile_Duct_Cancer\n",
       "6. Pancreatic_Cancer\n",
       "7. Duodenal_Cancer\n",
       "8. Breast_Cancer\n",
       "9. Colorectal_Cancer\n",
       "\n",
       "\n",
       "\n",
       "**Levels**: 1. 'Bile_Duct_Cancer'\n",
       "2. 'Breast_Cancer'\n",
       "3. 'Colorectal_Cancer'\n",
       "4. 'Duodenal_Cancer'\n",
       "5. 'Gastric_cancer'\n",
       "6. 'Healthy'\n",
       "7. 'Lung_Cancer'\n",
       "8. 'Ovarian_Cancer'\n",
       "9. 'Pancreatic_Cancer'\n",
       "\n",
       "\n"
      ],
      "text/plain": [
       "[1] Gastric_cancer    Ovarian_Cancer    Lung_Cancer       Healthy          \n",
       "[5] Bile_Duct_Cancer  Pancreatic_Cancer Duodenal_Cancer   Breast_Cancer    \n",
       "[9] Colorectal_Cancer\n",
       "9 Levels: Bile_Duct_Cancer Breast_Cancer Colorectal_Cancer ... Pancreatic_Cancer"
      ]
     },
     "metadata": {},
     "output_type": "display_data"
    }
   ],
   "source": [
    "unique(data$sample_type)"
   ]
  },
  {
   "cell_type": "code",
   "execution_count": 10,
   "id": "ba95dd9f-a13e-4f24-af21-d3b4f950275e",
   "metadata": {},
   "outputs": [
    {
     "data": {
      "text/html": [
       "<table>\n",
       "<thead><tr><th scope=col>sample_type</th><th scope=col>n</th></tr></thead>\n",
       "<tbody>\n",
       "\t<tr><td>Bile_Duct_Cancer </td><td> 25              </td></tr>\n",
       "\t<tr><td>Breast_Cancer    </td><td> 54              </td></tr>\n",
       "\t<tr><td>Colorectal_Cancer</td><td> 26              </td></tr>\n",
       "\t<tr><td>Duodenal_Cancer  </td><td>  1              </td></tr>\n",
       "\t<tr><td>Gastric_cancer   </td><td> 27              </td></tr>\n",
       "\t<tr><td>Healthy          </td><td>194              </td></tr>\n",
       "\t<tr><td>Lung_Cancer      </td><td> 35              </td></tr>\n",
       "\t<tr><td>Ovarian_Cancer   </td><td> 28              </td></tr>\n",
       "\t<tr><td>Pancreatic_Cancer</td><td> 34              </td></tr>\n",
       "</tbody>\n",
       "</table>\n"
      ],
      "text/latex": [
       "\\begin{tabular}{r|ll}\n",
       " sample\\_type & n\\\\\n",
       "\\hline\n",
       "\t Bile\\_Duct\\_Cancer  &  25                  \\\\\n",
       "\t Breast\\_Cancer     &  54                \\\\\n",
       "\t Colorectal\\_Cancer &  26                \\\\\n",
       "\t Duodenal\\_Cancer   &   1                \\\\\n",
       "\t Gastric\\_cancer    &  27                \\\\\n",
       "\t Healthy           & 194              \\\\\n",
       "\t Lung\\_Cancer       &  35                \\\\\n",
       "\t Ovarian\\_Cancer    &  28                \\\\\n",
       "\t Pancreatic\\_Cancer &  34                \\\\\n",
       "\\end{tabular}\n"
      ],
      "text/markdown": [
       "\n",
       "| sample_type | n |\n",
       "|---|---|\n",
       "| Bile_Duct_Cancer  |  25               |\n",
       "| Breast_Cancer     |  54               |\n",
       "| Colorectal_Cancer |  26               |\n",
       "| Duodenal_Cancer   |   1               |\n",
       "| Gastric_cancer    |  27               |\n",
       "| Healthy           | 194               |\n",
       "| Lung_Cancer       |  35               |\n",
       "| Ovarian_Cancer    |  28               |\n",
       "| Pancreatic_Cancer |  34               |\n",
       "\n"
      ],
      "text/plain": [
       "  sample_type       n  \n",
       "1 Bile_Duct_Cancer   25\n",
       "2 Breast_Cancer      54\n",
       "3 Colorectal_Cancer  26\n",
       "4 Duodenal_Cancer     1\n",
       "5 Gastric_cancer     27\n",
       "6 Healthy           194\n",
       "7 Lung_Cancer        35\n",
       "8 Ovarian_Cancer     28\n",
       "9 Pancreatic_Cancer  34"
      ]
     },
     "metadata": {},
     "output_type": "display_data"
    }
   ],
   "source": [
    "data %>% group_by(sample_type) %>% summarize(n = n())"
   ]
  },
  {
   "cell_type": "code",
   "execution_count": 11,
   "id": "0a145576-3b7e-4a47-a421-9f4301b11a31",
   "metadata": {},
   "outputs": [
    {
     "data": {
      "text/html": [
       "<ol class=list-inline>\n",
       "\t<li>424</li>\n",
       "\t<li>10304</li>\n",
       "</ol>\n"
      ],
      "text/latex": [
       "\\begin{enumerate*}\n",
       "\\item 424\n",
       "\\item 10304\n",
       "\\end{enumerate*}\n"
      ],
      "text/markdown": [
       "1. 424\n",
       "2. 10304\n",
       "\n",
       "\n"
      ],
      "text/plain": [
       "[1]   424 10304"
      ]
     },
     "metadata": {},
     "output_type": "display_data"
    }
   ],
   "source": [
    "dim(data)"
   ]
  },
  {
   "cell_type": "code",
   "execution_count": 12,
   "id": "39f341cc-c5cf-4c0a-996e-0a2504c95953",
   "metadata": {},
   "outputs": [],
   "source": [
    "data <-subset(data, sample_type != \"Duodenal_Cancer\")"
   ]
  },
  {
   "cell_type": "code",
   "execution_count": 13,
   "id": "23e7a7fe-b8fb-42fd-907b-52a8ac4ca306",
   "metadata": {},
   "outputs": [
    {
     "data": {
      "text/html": [
       "<ol class=list-inline>\n",
       "\t<li>423</li>\n",
       "\t<li>10304</li>\n",
       "</ol>\n"
      ],
      "text/latex": [
       "\\begin{enumerate*}\n",
       "\\item 423\n",
       "\\item 10304\n",
       "\\end{enumerate*}\n"
      ],
      "text/markdown": [
       "1. 423\n",
       "2. 10304\n",
       "\n",
       "\n"
      ],
      "text/plain": [
       "[1]   423 10304"
      ]
     },
     "metadata": {},
     "output_type": "display_data"
    }
   ],
   "source": [
    "dim(data)"
   ]
  },
  {
   "cell_type": "code",
   "execution_count": 14,
   "id": "e3353db0-6c20-4905-b084-89c404d3db46",
   "metadata": {},
   "outputs": [
    {
     "data": {
      "text/html": [
       "<ol class=list-inline>\n",
       "\t<li>Gastric_cancer</li>\n",
       "\t<li>Ovarian_Cancer</li>\n",
       "\t<li>Lung_Cancer</li>\n",
       "\t<li>Healthy</li>\n",
       "\t<li>Bile_Duct_Cancer</li>\n",
       "\t<li>Pancreatic_Cancer</li>\n",
       "\t<li>Breast_Cancer</li>\n",
       "\t<li>Colorectal_Cancer</li>\n",
       "</ol>\n",
       "\n",
       "<details>\n",
       "\t<summary style=display:list-item;cursor:pointer>\n",
       "\t\t<strong>Levels</strong>:\n",
       "\t</summary>\n",
       "\t<ol class=list-inline>\n",
       "\t\t<li>'Bile_Duct_Cancer'</li>\n",
       "\t\t<li>'Breast_Cancer'</li>\n",
       "\t\t<li>'Colorectal_Cancer'</li>\n",
       "\t\t<li>'Duodenal_Cancer'</li>\n",
       "\t\t<li>'Gastric_cancer'</li>\n",
       "\t\t<li>'Healthy'</li>\n",
       "\t\t<li>'Lung_Cancer'</li>\n",
       "\t\t<li>'Ovarian_Cancer'</li>\n",
       "\t\t<li>'Pancreatic_Cancer'</li>\n",
       "\t</ol>\n",
       "</details>"
      ],
      "text/latex": [
       "\\begin{enumerate*}\n",
       "\\item Gastric\\_cancer\n",
       "\\item Ovarian\\_Cancer\n",
       "\\item Lung\\_Cancer\n",
       "\\item Healthy\n",
       "\\item Bile\\_Duct\\_Cancer\n",
       "\\item Pancreatic\\_Cancer\n",
       "\\item Breast\\_Cancer\n",
       "\\item Colorectal\\_Cancer\n",
       "\\end{enumerate*}\n",
       "\n",
       "\\emph{Levels}: \\begin{enumerate*}\n",
       "\\item 'Bile\\_Duct\\_Cancer'\n",
       "\\item 'Breast\\_Cancer'\n",
       "\\item 'Colorectal\\_Cancer'\n",
       "\\item 'Duodenal\\_Cancer'\n",
       "\\item 'Gastric\\_cancer'\n",
       "\\item 'Healthy'\n",
       "\\item 'Lung\\_Cancer'\n",
       "\\item 'Ovarian\\_Cancer'\n",
       "\\item 'Pancreatic\\_Cancer'\n",
       "\\end{enumerate*}\n"
      ],
      "text/markdown": [
       "1. Gastric_cancer\n",
       "2. Ovarian_Cancer\n",
       "3. Lung_Cancer\n",
       "4. Healthy\n",
       "5. Bile_Duct_Cancer\n",
       "6. Pancreatic_Cancer\n",
       "7. Breast_Cancer\n",
       "8. Colorectal_Cancer\n",
       "\n",
       "\n",
       "\n",
       "**Levels**: 1. 'Bile_Duct_Cancer'\n",
       "2. 'Breast_Cancer'\n",
       "3. 'Colorectal_Cancer'\n",
       "4. 'Duodenal_Cancer'\n",
       "5. 'Gastric_cancer'\n",
       "6. 'Healthy'\n",
       "7. 'Lung_Cancer'\n",
       "8. 'Ovarian_Cancer'\n",
       "9. 'Pancreatic_Cancer'\n",
       "\n",
       "\n"
      ],
      "text/plain": [
       "[1] Gastric_cancer    Ovarian_Cancer    Lung_Cancer       Healthy          \n",
       "[5] Bile_Duct_Cancer  Pancreatic_Cancer Breast_Cancer     Colorectal_Cancer\n",
       "9 Levels: Bile_Duct_Cancer Breast_Cancer Colorectal_Cancer ... Pancreatic_Cancer"
      ]
     },
     "metadata": {},
     "output_type": "display_data"
    }
   ],
   "source": [
    "unique(data$sample_type)"
   ]
  },
  {
   "cell_type": "code",
   "execution_count": 15,
   "id": "6ffe4e9b-3e7c-45ad-9027-99e849b4dd20",
   "metadata": {},
   "outputs": [
    {
     "data": {
      "text/html": [
       "<table>\n",
       "<thead><tr><th scope=col>sample_type</th><th scope=col>n</th></tr></thead>\n",
       "<tbody>\n",
       "\t<tr><td>Bile_Duct_Cancer </td><td> 25              </td></tr>\n",
       "\t<tr><td>Breast_Cancer    </td><td> 54              </td></tr>\n",
       "\t<tr><td>Colorectal_Cancer</td><td> 26              </td></tr>\n",
       "\t<tr><td>Gastric_cancer   </td><td> 27              </td></tr>\n",
       "\t<tr><td>Healthy          </td><td>194              </td></tr>\n",
       "\t<tr><td>Lung_Cancer      </td><td> 35              </td></tr>\n",
       "\t<tr><td>Ovarian_Cancer   </td><td> 28              </td></tr>\n",
       "\t<tr><td>Pancreatic_Cancer</td><td> 34              </td></tr>\n",
       "</tbody>\n",
       "</table>\n"
      ],
      "text/latex": [
       "\\begin{tabular}{r|ll}\n",
       " sample\\_type & n\\\\\n",
       "\\hline\n",
       "\t Bile\\_Duct\\_Cancer  &  25                  \\\\\n",
       "\t Breast\\_Cancer     &  54                \\\\\n",
       "\t Colorectal\\_Cancer &  26                \\\\\n",
       "\t Gastric\\_cancer    &  27                \\\\\n",
       "\t Healthy           & 194              \\\\\n",
       "\t Lung\\_Cancer       &  35                \\\\\n",
       "\t Ovarian\\_Cancer    &  28                \\\\\n",
       "\t Pancreatic\\_Cancer &  34                \\\\\n",
       "\\end{tabular}\n"
      ],
      "text/markdown": [
       "\n",
       "| sample_type | n |\n",
       "|---|---|\n",
       "| Bile_Duct_Cancer  |  25               |\n",
       "| Breast_Cancer     |  54               |\n",
       "| Colorectal_Cancer |  26               |\n",
       "| Gastric_cancer    |  27               |\n",
       "| Healthy           | 194               |\n",
       "| Lung_Cancer       |  35               |\n",
       "| Ovarian_Cancer    |  28               |\n",
       "| Pancreatic_Cancer |  34               |\n",
       "\n"
      ],
      "text/plain": [
       "  sample_type       n  \n",
       "1 Bile_Duct_Cancer   25\n",
       "2 Breast_Cancer      54\n",
       "3 Colorectal_Cancer  26\n",
       "4 Gastric_cancer     27\n",
       "5 Healthy           194\n",
       "6 Lung_Cancer        35\n",
       "7 Ovarian_Cancer     28\n",
       "8 Pancreatic_Cancer  34"
      ]
     },
     "metadata": {},
     "output_type": "display_data"
    }
   ],
   "source": [
    "data %>% group_by(sample_type) %>% summarize(n = n())"
   ]
  },
  {
   "cell_type": "code",
   "execution_count": 16,
   "id": "dbadc0c7-3251-48fe-9ba7-96fd13e6ca74",
   "metadata": {},
   "outputs": [],
   "source": [
    "data$sample_type <- as.factor(data$sample_type)"
   ]
  },
  {
   "cell_type": "code",
   "execution_count": 17,
   "id": "aa02f3f1-f3e8-46e1-922f-92b956b7cfb4",
   "metadata": {},
   "outputs": [
    {
     "data": {
      "text/html": [
       "<ol class=list-inline>\n",
       "\t<li>'Bile_Duct_Cancer'</li>\n",
       "\t<li>'Breast_Cancer'</li>\n",
       "\t<li>'Colorectal_Cancer'</li>\n",
       "\t<li>'Duodenal_Cancer'</li>\n",
       "\t<li>'Gastric_cancer'</li>\n",
       "\t<li>'Healthy'</li>\n",
       "\t<li>'Lung_Cancer'</li>\n",
       "\t<li>'Ovarian_Cancer'</li>\n",
       "\t<li>'Pancreatic_Cancer'</li>\n",
       "</ol>\n"
      ],
      "text/latex": [
       "\\begin{enumerate*}\n",
       "\\item 'Bile\\_Duct\\_Cancer'\n",
       "\\item 'Breast\\_Cancer'\n",
       "\\item 'Colorectal\\_Cancer'\n",
       "\\item 'Duodenal\\_Cancer'\n",
       "\\item 'Gastric\\_cancer'\n",
       "\\item 'Healthy'\n",
       "\\item 'Lung\\_Cancer'\n",
       "\\item 'Ovarian\\_Cancer'\n",
       "\\item 'Pancreatic\\_Cancer'\n",
       "\\end{enumerate*}\n"
      ],
      "text/markdown": [
       "1. 'Bile_Duct_Cancer'\n",
       "2. 'Breast_Cancer'\n",
       "3. 'Colorectal_Cancer'\n",
       "4. 'Duodenal_Cancer'\n",
       "5. 'Gastric_cancer'\n",
       "6. 'Healthy'\n",
       "7. 'Lung_Cancer'\n",
       "8. 'Ovarian_Cancer'\n",
       "9. 'Pancreatic_Cancer'\n",
       "\n",
       "\n"
      ],
      "text/plain": [
       "[1] \"Bile_Duct_Cancer\"  \"Breast_Cancer\"     \"Colorectal_Cancer\"\n",
       "[4] \"Duodenal_Cancer\"   \"Gastric_cancer\"    \"Healthy\"          \n",
       "[7] \"Lung_Cancer\"       \"Ovarian_Cancer\"    \"Pancreatic_Cancer\""
      ]
     },
     "metadata": {},
     "output_type": "display_data"
    }
   ],
   "source": [
    "levels(data$sample_type)"
   ]
  },
  {
   "cell_type": "code",
   "execution_count": 18,
   "id": "6c9678d8-cb0a-491b-81eb-510e0deb16b2",
   "metadata": {},
   "outputs": [],
   "source": [
    "data = data %>% droplevels(\"Duodenal_Cancer\")"
   ]
  },
  {
   "cell_type": "code",
   "execution_count": 19,
   "id": "6378bd37-d363-4efe-b1fd-ed36c8111a72",
   "metadata": {},
   "outputs": [
    {
     "data": {
      "text/html": [
       "<ol class=list-inline>\n",
       "\t<li>'Bile_Duct_Cancer'</li>\n",
       "\t<li>'Breast_Cancer'</li>\n",
       "\t<li>'Colorectal_Cancer'</li>\n",
       "\t<li>'Gastric_cancer'</li>\n",
       "\t<li>'Healthy'</li>\n",
       "\t<li>'Lung_Cancer'</li>\n",
       "\t<li>'Ovarian_Cancer'</li>\n",
       "\t<li>'Pancreatic_Cancer'</li>\n",
       "</ol>\n"
      ],
      "text/latex": [
       "\\begin{enumerate*}\n",
       "\\item 'Bile\\_Duct\\_Cancer'\n",
       "\\item 'Breast\\_Cancer'\n",
       "\\item 'Colorectal\\_Cancer'\n",
       "\\item 'Gastric\\_cancer'\n",
       "\\item 'Healthy'\n",
       "\\item 'Lung\\_Cancer'\n",
       "\\item 'Ovarian\\_Cancer'\n",
       "\\item 'Pancreatic\\_Cancer'\n",
       "\\end{enumerate*}\n"
      ],
      "text/markdown": [
       "1. 'Bile_Duct_Cancer'\n",
       "2. 'Breast_Cancer'\n",
       "3. 'Colorectal_Cancer'\n",
       "4. 'Gastric_cancer'\n",
       "5. 'Healthy'\n",
       "6. 'Lung_Cancer'\n",
       "7. 'Ovarian_Cancer'\n",
       "8. 'Pancreatic_Cancer'\n",
       "\n",
       "\n"
      ],
      "text/plain": [
       "[1] \"Bile_Duct_Cancer\"  \"Breast_Cancer\"     \"Colorectal_Cancer\"\n",
       "[4] \"Gastric_cancer\"    \"Healthy\"           \"Lung_Cancer\"      \n",
       "[7] \"Ovarian_Cancer\"    \"Pancreatic_Cancer\""
      ]
     },
     "metadata": {},
     "output_type": "display_data"
    }
   ],
   "source": [
    "levels(data$sample_type)"
   ]
  },
  {
   "cell_type": "code",
   "execution_count": 20,
   "id": "6a846559-09f2-47b2-b4c4-747064566813",
   "metadata": {},
   "outputs": [],
   "source": [
    "cross_validation <- function(dataset, k_inner_cv, k_outer_cv){\n",
    "    \n",
    "    y_all <- data %>% dplyr::select(sample_type) %>% as.matrix()\n",
    "    classes <- unique(y_all)\n",
    "    \n",
    "    X <- data %>% dplyr::select(-sample_type) %>% as.matrix() \n",
    "    observed <- y_all\n",
    "    return_tibble <- tibble(observed = rep(data$sample_type, k_outer_cv), \n",
    "                            CV_rep = rep(1:k_outer_cv, each=nrow(data)))\n",
    "    \n",
    "    for(class in 1:length(unique(y_all))){\n",
    "    y <- ifelse(y_all==classes[class], 1, 0)\n",
    "    message(y)\n",
    "    return_vector_for_class <- c()\n",
    "    \n",
    "        for (i in 1:k_outer_cv){ # repeated Cross-validation loop\n",
    "            set.seed(i)\n",
    "            #cvfolds <- cut(1:nrow(data), breaks = k_inner_cv, labels = F)\n",
    "            folds <- create_folds(y, k = k_inner_cv)\n",
    "            #cvfolds <- sample(cvfolds)\n",
    "\n",
    "            predicted <- rep(NA, nrow(data))\n",
    "                                \n",
    "            for (fold in folds){\n",
    "                #rows      <- which(cvfolds==n)\n",
    "                testdata  <- X[-fold,]\n",
    "                traindata <- X[fold,]\n",
    "                train_y <- y[fold,]\n",
    "\n",
    "\n",
    "                fit       <- lda(sample_type ~ ., data=traindata, family = \"binomial\")\n",
    "                tmp <- predict(fit, testdata)\n",
    "                tmp <- as.data.frame(tmp$posterior, row.names = NULL)\n",
    "                predicted[-fold] <- tmp\n",
    "                }\n",
    "            \n",
    "            return_vector_for_class <- c(return_vector_for_class, predicted)\n",
    "        }       \n",
    "        \n",
    "    } # end of outer cv loop\n",
    "    return_tibble <- cbind(return_tibble, tibble(\"{classes[class]}_pred\" := return_vector_for_class))\n",
    "                        \n",
    "    return(return_tibble)\n",
    "}"
   ]
  },
  {
   "cell_type": "code",
   "execution_count": 21,
   "id": "d96b040e-4dfa-45e9-908a-f1c0beded45d",
   "metadata": {
    "tags": []
   },
   "outputs": [
    {
     "ename": "ERROR",
     "evalue": "Error in unique(y_all): object 'y_all' not found\n",
     "output_type": "error",
     "traceback": [
      "Error in unique(y_all): object 'y_all' not found\nTraceback:\n",
      "1. cross_validation(data, k_inner_cv = 10, k_outer_cv = k_outer_cv)",
      "2. unique(y_all)   # at line 6-60 of file <text>"
     ]
    }
   ],
   "source": [
    "k_outer_cv = 10\n",
    "results <- cross_validation(data, k_inner_cv = 10, k_outer_cv = k_outer_cv)"
   ]
  },
  {
   "cell_type": "code",
   "execution_count": 21,
   "id": "6ec9d909-e3b8-4755-b83d-ff745f755d03",
   "metadata": {},
   "outputs": [
    {
     "data": {
      "text/html": [
       "<table>\n",
       "<thead><tr><th scope=col>observed</th><th scope=col>CV_rep</th><th scope=col>Bile_Duct_Cancer</th><th scope=col>Breast_Cancer</th><th scope=col>Colorectal_Cancer</th><th scope=col>Gastric_cancer</th><th scope=col>Healthy</th><th scope=col>Lung_Cancer</th><th scope=col>Ovarian_Cancer</th><th scope=col>Pancreatic_Cancer</th></tr></thead>\n",
       "<tbody>\n",
       "\t<tr><td>Gastric_cancer</td><td>1             </td><td>0.0050989083  </td><td>0.020591774   </td><td>0.8889104901  </td><td>2.353630e-02  </td><td>0.04777009    </td><td>0.009836656   </td><td>0.001813016   </td><td>0.002442760   </td></tr>\n",
       "\t<tr><td>Gastric_cancer</td><td>1             </td><td>0.0042906739  </td><td>0.018092204   </td><td>0.0495527560  </td><td>2.598575e-02  </td><td>0.88651523    </td><td>0.001576407   </td><td>0.006015458   </td><td>0.007971523   </td></tr>\n",
       "\t<tr><td>Gastric_cancer</td><td>1             </td><td>0.2289938527  </td><td>0.001752437   </td><td>0.0050313191  </td><td>2.530297e-05  </td><td>0.01581620    </td><td>0.001217904   </td><td>0.002022685   </td><td>0.745140296   </td></tr>\n",
       "\t<tr><td>Gastric_cancer</td><td>1             </td><td>0.0025384461  </td><td>0.165450422   </td><td>0.2021513254  </td><td>1.424481e-02  </td><td>0.52219527    </td><td>0.024895876   </td><td>0.016906956   </td><td>0.051616901   </td></tr>\n",
       "\t<tr><td>Ovarian_Cancer</td><td>1             </td><td>0.0007723389  </td><td>0.611388139   </td><td>0.0348993779  </td><td>3.849762e-02  </td><td>0.28140442    </td><td>0.010001294   </td><td>0.007948325   </td><td>0.015088493   </td></tr>\n",
       "\t<tr><td>Ovarian_Cancer</td><td>1             </td><td>0.0566156582  </td><td>0.038597604   </td><td>0.0002022403  </td><td>7.115857e-03  </td><td>0.83041866    </td><td>0.055154535   </td><td>0.002787102   </td><td>0.009108341   </td></tr>\n",
       "</tbody>\n",
       "</table>\n"
      ],
      "text/latex": [
       "\\begin{tabular}{r|llllllllll}\n",
       " observed & CV\\_rep & Bile\\_Duct\\_Cancer & Breast\\_Cancer & Colorectal\\_Cancer & Gastric\\_cancer & Healthy & Lung\\_Cancer & Ovarian\\_Cancer & Pancreatic\\_Cancer\\\\\n",
       "\\hline\n",
       "\t Gastric\\_cancer & 1                & 0.0050989083     & 0.020591774      & 0.8889104901     & 2.353630e-02     & 0.04777009       & 0.009836656      & 0.001813016      & 0.002442760     \\\\\n",
       "\t Gastric\\_cancer & 1                & 0.0042906739     & 0.018092204      & 0.0495527560     & 2.598575e-02     & 0.88651523       & 0.001576407      & 0.006015458      & 0.007971523     \\\\\n",
       "\t Gastric\\_cancer & 1                & 0.2289938527     & 0.001752437      & 0.0050313191     & 2.530297e-05     & 0.01581620       & 0.001217904      & 0.002022685      & 0.745140296     \\\\\n",
       "\t Gastric\\_cancer & 1                & 0.0025384461     & 0.165450422      & 0.2021513254     & 1.424481e-02     & 0.52219527       & 0.024895876      & 0.016906956      & 0.051616901     \\\\\n",
       "\t Ovarian\\_Cancer & 1                & 0.0007723389     & 0.611388139      & 0.0348993779     & 3.849762e-02     & 0.28140442       & 0.010001294      & 0.007948325      & 0.015088493     \\\\\n",
       "\t Ovarian\\_Cancer & 1                & 0.0566156582     & 0.038597604      & 0.0002022403     & 7.115857e-03     & 0.83041866       & 0.055154535      & 0.002787102      & 0.009108341     \\\\\n",
       "\\end{tabular}\n"
      ],
      "text/markdown": [
       "\n",
       "| observed | CV_rep | Bile_Duct_Cancer | Breast_Cancer | Colorectal_Cancer | Gastric_cancer | Healthy | Lung_Cancer | Ovarian_Cancer | Pancreatic_Cancer |\n",
       "|---|---|---|---|---|---|---|---|---|---|\n",
       "| Gastric_cancer | 1              | 0.0050989083   | 0.020591774    | 0.8889104901   | 2.353630e-02   | 0.04777009     | 0.009836656    | 0.001813016    | 0.002442760    |\n",
       "| Gastric_cancer | 1              | 0.0042906739   | 0.018092204    | 0.0495527560   | 2.598575e-02   | 0.88651523     | 0.001576407    | 0.006015458    | 0.007971523    |\n",
       "| Gastric_cancer | 1              | 0.2289938527   | 0.001752437    | 0.0050313191   | 2.530297e-05   | 0.01581620     | 0.001217904    | 0.002022685    | 0.745140296    |\n",
       "| Gastric_cancer | 1              | 0.0025384461   | 0.165450422    | 0.2021513254   | 1.424481e-02   | 0.52219527     | 0.024895876    | 0.016906956    | 0.051616901    |\n",
       "| Ovarian_Cancer | 1              | 0.0007723389   | 0.611388139    | 0.0348993779   | 3.849762e-02   | 0.28140442     | 0.010001294    | 0.007948325    | 0.015088493    |\n",
       "| Ovarian_Cancer | 1              | 0.0566156582   | 0.038597604    | 0.0002022403   | 7.115857e-03   | 0.83041866     | 0.055154535    | 0.002787102    | 0.009108341    |\n",
       "\n"
      ],
      "text/plain": [
       "  observed       CV_rep Bile_Duct_Cancer Breast_Cancer Colorectal_Cancer\n",
       "1 Gastric_cancer 1      0.0050989083     0.020591774   0.8889104901     \n",
       "2 Gastric_cancer 1      0.0042906739     0.018092204   0.0495527560     \n",
       "3 Gastric_cancer 1      0.2289938527     0.001752437   0.0050313191     \n",
       "4 Gastric_cancer 1      0.0025384461     0.165450422   0.2021513254     \n",
       "5 Ovarian_Cancer 1      0.0007723389     0.611388139   0.0348993779     \n",
       "6 Ovarian_Cancer 1      0.0566156582     0.038597604   0.0002022403     \n",
       "  Gastric_cancer Healthy    Lung_Cancer Ovarian_Cancer Pancreatic_Cancer\n",
       "1 2.353630e-02   0.04777009 0.009836656 0.001813016    0.002442760      \n",
       "2 2.598575e-02   0.88651523 0.001576407 0.006015458    0.007971523      \n",
       "3 2.530297e-05   0.01581620 0.001217904 0.002022685    0.745140296      \n",
       "4 1.424481e-02   0.52219527 0.024895876 0.016906956    0.051616901      \n",
       "5 3.849762e-02   0.28140442 0.010001294 0.007948325    0.015088493      \n",
       "6 7.115857e-03   0.83041866 0.055154535 0.002787102    0.009108341      "
      ]
     },
     "metadata": {},
     "output_type": "display_data"
    }
   ],
   "source": [
    "head(results)"
   ]
  },
  {
   "cell_type": "code",
   "execution_count": 35,
   "id": "b96fd55d-9fc0-42d3-b613-5522cda286fd",
   "metadata": {},
   "outputs": [
    {
     "ename": "ERROR",
     "evalue": "Error in saveRDS(results, file = snakemake@output[[\"LDA_output\"]]): object 'snakemake' not found\n",
     "output_type": "error",
     "traceback": [
      "Error in saveRDS(results, file = snakemake@output[[\"LDA_output\"]]): object 'snakemake' not found\nTraceback:\n",
      "1. saveRDS(results, file = snakemake@output[[\"LDA_output\"]])"
     ]
    }
   ],
   "source": [
    "saveRDS(results, file = snakemake@output[[\"LDA_output\"]])"
   ]
  },
  {
   "cell_type": "code",
   "execution_count": null,
   "id": "35cdb724-c57c-41be-9bd0-f8fc4ac0be63",
   "metadata": {},
   "outputs": [],
   "source": []
  },
  {
   "cell_type": "markdown",
   "id": "b7668a24-9c0b-462c-a72d-3f5ee0d79cf8",
   "metadata": {},
   "source": [
    "## AUC calculation with pROC package == One vs. one"
   ]
  },
  {
   "cell_type": "code",
   "execution_count": 26,
   "id": "458dee3f-785f-42d5-8a66-9d12ffe247a6",
   "metadata": {},
   "outputs": [
    {
     "data": {
      "text/html": [
       "'The AUC of the first CV repetition: 0.592959312010563'"
      ],
      "text/latex": [
       "'The AUC of the first CV repetition: 0.592959312010563'"
      ],
      "text/markdown": [
       "'The AUC of the first CV repetition: 0.592959312010563'"
      ],
      "text/plain": [
       "[1] \"The AUC of the first CV repetition: 0.592959312010563\""
      ]
     },
     "metadata": {},
     "output_type": "display_data"
    },
    {
     "data": {
      "text/html": [
       "'The mean AUC of all the CV repetitions: 0.582948802580894'"
      ],
      "text/latex": [
       "'The mean AUC of all the CV repetitions: 0.582948802580894'"
      ],
      "text/markdown": [
       "'The mean AUC of all the CV repetitions: 0.582948802580894'"
      ],
      "text/plain": [
       "[1] \"The mean AUC of all the CV repetitions: 0.582948802580894\""
      ]
     },
     "metadata": {},
     "output_type": "display_data"
    }
   ],
   "source": [
    "rocs <- list()\n",
    "list_names <- paste0(\"CV_rep_\", 1:k_outer_cv)\n",
    "for (i in 1:k_outer_cv){\n",
    "    res_CV <- results %>% filter(CV_rep == i) %>% dplyr::select(-c(CV_rep, observed))\n",
    "    roc <- multiclass.roc(response = data$sample_type, predictor = res_CV)\n",
    "    rocs[[i]] <- roc\n",
    "}\n",
    "names(rocs) <- c(list_names)\n",
    "\n",
    "paste0(\"The AUC of the first CV repetition: \", rocs[[1]]$auc)\n",
    "\n",
    "aucs <- c()\n",
    "for (i in 1:length(rocs)){\n",
    "    aucs <- c(aucs, rocs[[i]]$auc) \n",
    "}\n",
    "\n",
    "paste0(\"The mean AUC of all the CV repetitions: \", mean(aucs))"
   ]
  },
  {
   "cell_type": "markdown",
   "id": "36e15440-cffe-4938-8c9c-7108aab45f25",
   "metadata": {},
   "source": [
    "## AUC calculation with functions == One vs. one (source: https://www.datascienceblog.net/post/machine-learning/performance-measures-multi-class-problems/)"
   ]
  },
  {
   "cell_type": "code",
   "execution_count": 28,
   "id": "2f27f503-9f0f-417b-ac3a-4dba4ddad47a",
   "metadata": {},
   "outputs": [
    {
     "data": {
      "text/html": [
       "<table>\n",
       "<thead><tr><th scope=col>Bile_Duct_Cancer</th><th scope=col>Breast_Cancer</th><th scope=col>Colorectal_Cancer</th><th scope=col>Gastric_cancer</th><th scope=col>Healthy</th><th scope=col>Lung_Cancer</th><th scope=col>Ovarian_Cancer</th><th scope=col>Pancreatic_Cancer</th></tr></thead>\n",
       "<tbody>\n",
       "\t<tr><td>0.0050989083</td><td>0.020591774 </td><td>0.8889104901</td><td>2.353630e-02</td><td>0.04777009  </td><td>0.009836656 </td><td>0.001813016 </td><td>0.002442760 </td></tr>\n",
       "\t<tr><td>0.0042906739</td><td>0.018092204 </td><td>0.0495527560</td><td>2.598575e-02</td><td>0.88651523  </td><td>0.001576407 </td><td>0.006015458 </td><td>0.007971523 </td></tr>\n",
       "\t<tr><td>0.2289938527</td><td>0.001752437 </td><td>0.0050313191</td><td>2.530297e-05</td><td>0.01581620  </td><td>0.001217904 </td><td>0.002022685 </td><td>0.745140296 </td></tr>\n",
       "\t<tr><td>0.0025384461</td><td>0.165450422 </td><td>0.2021513254</td><td>1.424481e-02</td><td>0.52219527  </td><td>0.024895876 </td><td>0.016906956 </td><td>0.051616901 </td></tr>\n",
       "\t<tr><td>0.0007723389</td><td>0.611388139 </td><td>0.0348993779</td><td>3.849762e-02</td><td>0.28140442  </td><td>0.010001294 </td><td>0.007948325 </td><td>0.015088493 </td></tr>\n",
       "\t<tr><td>0.0566156582</td><td>0.038597604 </td><td>0.0002022403</td><td>7.115857e-03</td><td>0.83041866  </td><td>0.055154535 </td><td>0.002787102 </td><td>0.009108341 </td></tr>\n",
       "</tbody>\n",
       "</table>\n"
      ],
      "text/latex": [
       "\\begin{tabular}{r|llllllll}\n",
       " Bile\\_Duct\\_Cancer & Breast\\_Cancer & Colorectal\\_Cancer & Gastric\\_cancer & Healthy & Lung\\_Cancer & Ovarian\\_Cancer & Pancreatic\\_Cancer\\\\\n",
       "\\hline\n",
       "\t 0.0050989083 & 0.020591774  & 0.8889104901 & 2.353630e-02 & 0.04777009   & 0.009836656  & 0.001813016  & 0.002442760 \\\\\n",
       "\t 0.0042906739 & 0.018092204  & 0.0495527560 & 2.598575e-02 & 0.88651523   & 0.001576407  & 0.006015458  & 0.007971523 \\\\\n",
       "\t 0.2289938527 & 0.001752437  & 0.0050313191 & 2.530297e-05 & 0.01581620   & 0.001217904  & 0.002022685  & 0.745140296 \\\\\n",
       "\t 0.0025384461 & 0.165450422  & 0.2021513254 & 1.424481e-02 & 0.52219527   & 0.024895876  & 0.016906956  & 0.051616901 \\\\\n",
       "\t 0.0007723389 & 0.611388139  & 0.0348993779 & 3.849762e-02 & 0.28140442   & 0.010001294  & 0.007948325  & 0.015088493 \\\\\n",
       "\t 0.0566156582 & 0.038597604  & 0.0002022403 & 7.115857e-03 & 0.83041866   & 0.055154535  & 0.002787102  & 0.009108341 \\\\\n",
       "\\end{tabular}\n"
      ],
      "text/markdown": [
       "\n",
       "| Bile_Duct_Cancer | Breast_Cancer | Colorectal_Cancer | Gastric_cancer | Healthy | Lung_Cancer | Ovarian_Cancer | Pancreatic_Cancer |\n",
       "|---|---|---|---|---|---|---|---|\n",
       "| 0.0050989083 | 0.020591774  | 0.8889104901 | 2.353630e-02 | 0.04777009   | 0.009836656  | 0.001813016  | 0.002442760  |\n",
       "| 0.0042906739 | 0.018092204  | 0.0495527560 | 2.598575e-02 | 0.88651523   | 0.001576407  | 0.006015458  | 0.007971523  |\n",
       "| 0.2289938527 | 0.001752437  | 0.0050313191 | 2.530297e-05 | 0.01581620   | 0.001217904  | 0.002022685  | 0.745140296  |\n",
       "| 0.0025384461 | 0.165450422  | 0.2021513254 | 1.424481e-02 | 0.52219527   | 0.024895876  | 0.016906956  | 0.051616901  |\n",
       "| 0.0007723389 | 0.611388139  | 0.0348993779 | 3.849762e-02 | 0.28140442   | 0.010001294  | 0.007948325  | 0.015088493  |\n",
       "| 0.0566156582 | 0.038597604  | 0.0002022403 | 7.115857e-03 | 0.83041866   | 0.055154535  | 0.002787102  | 0.009108341  |\n",
       "\n"
      ],
      "text/plain": [
       "  Bile_Duct_Cancer Breast_Cancer Colorectal_Cancer Gastric_cancer Healthy   \n",
       "1 0.0050989083     0.020591774   0.8889104901      2.353630e-02   0.04777009\n",
       "2 0.0042906739     0.018092204   0.0495527560      2.598575e-02   0.88651523\n",
       "3 0.2289938527     0.001752437   0.0050313191      2.530297e-05   0.01581620\n",
       "4 0.0025384461     0.165450422   0.2021513254      1.424481e-02   0.52219527\n",
       "5 0.0007723389     0.611388139   0.0348993779      3.849762e-02   0.28140442\n",
       "6 0.0566156582     0.038597604   0.0002022403      7.115857e-03   0.83041866\n",
       "  Lung_Cancer Ovarian_Cancer Pancreatic_Cancer\n",
       "1 0.009836656 0.001813016    0.002442760      \n",
       "2 0.001576407 0.006015458    0.007971523      \n",
       "3 0.001217904 0.002022685    0.745140296      \n",
       "4 0.024895876 0.016906956    0.051616901      \n",
       "5 0.010001294 0.007948325    0.015088493      \n",
       "6 0.055154535 0.002787102    0.009108341      "
      ]
     },
     "metadata": {},
     "output_type": "display_data"
    }
   ],
   "source": [
    "# run only for the first CV repetition to check that we get the same number\n",
    "\n",
    "res_CV <- data.frame(results %>% filter(CV_rep == 1) %>% dplyr::select(-c(CV_rep, observed)))\n",
    "head(res_CV)"
   ]
  },
  {
   "cell_type": "code",
   "execution_count": 29,
   "id": "8e88ef8c-3740-4196-bf89-bdac4cd98a28",
   "metadata": {},
   "outputs": [
    {
     "name": "stdout",
     "output_type": "stream",
     "text": [
      "[1] \"Generalized AUC is: 0.593\"\n",
      "     Bile_Duct_Cancer/Breast_Cancer  Bile_Duct_Cancer/Colorectal_Cancer \n",
      "                          0.7622222                           0.6215385 \n",
      "    Bile_Duct_Cancer/Gastric_cancer            Bile_Duct_Cancer/Healthy \n",
      "                          0.5851852                           0.6983505 \n",
      "       Bile_Duct_Cancer/Lung_Cancer     Bile_Duct_Cancer/Ovarian_Cancer \n",
      "                          0.6560000                           0.6321429 \n",
      " Bile_Duct_Cancer/Pancreatic_Cancer     Breast_Cancer/Colorectal_Cancer \n",
      "                          0.5182353                           0.6641738 \n",
      "       Breast_Cancer/Gastric_cancer               Breast_Cancer/Healthy \n",
      "                          0.5689300                           0.6311092 \n",
      "          Breast_Cancer/Lung_Cancer        Breast_Cancer/Ovarian_Cancer \n",
      "                          0.6198413                           0.5737434 \n",
      "    Breast_Cancer/Pancreatic_Cancer    Colorectal_Cancer/Gastric_cancer \n",
      "                          0.7260349                           0.4501425 \n",
      "          Colorectal_Cancer/Healthy       Colorectal_Cancer/Lung_Cancer \n",
      "                          0.6125099                           0.5021978 \n",
      "   Colorectal_Cancer/Ovarian_Cancer Colorectal_Cancer/Pancreatic_Cancer \n",
      "                          0.4340659                           0.5876697 \n",
      "             Gastric_cancer/Healthy          Gastric_cancer/Lung_Cancer \n",
      "                          0.5257732                           0.5883598 \n",
      "      Gastric_cancer/Ovarian_Cancer    Gastric_cancer/Pancreatic_Cancer \n",
      "                          0.4391534                           0.6312636 \n",
      "                Healthy/Lung_Cancer              Healthy/Ovarian_Cancer \n",
      "                          0.7050074                           0.5599227 \n",
      "          Healthy/Pancreatic_Cancer          Lung_Cancer/Ovarian_Cancer \n",
      "                          0.6660855                           0.3918367 \n",
      "      Lung_Cancer/Pancreatic_Cancer    Ovarian_Cancer/Pancreatic_Cancer \n",
      "                          0.6247899                           0.6265756 \n"
     ]
    }
   ],
   "source": [
    "compute.A.conditional <- function(pred.matrix, i, j, ref.outcome) {\n",
    "    # computes A(i|j), the probability that a randomly \n",
    "    # chosen member of class j has a lower estimated probability (or score) \n",
    "    # of belonging to class i than a randomly chosen member of class i\n",
    "\n",
    "    # select predictions of class members\n",
    "    i.idx <- which(ref.outcome == i)\n",
    "    j.idx <- which(ref.outcome == j)\n",
    "    pred.i <- pred.matrix[i.idx, i] # p(G = i) assigned to class i observations\n",
    "    pred.j <- pred.matrix[j.idx, i] # p(G = i) assigned to class j observations\n",
    "    all.preds <- c(pred.i, pred.j)\n",
    "    classes <- c(rep(i, length(pred.i)), rep(j, length(pred.j)))\n",
    "    o <- order(all.preds)\n",
    "    classes.o <- classes[o]\n",
    "    # Si: sum of ranks from class i observations\n",
    "    Si <- sum(which(classes.o == i))\n",
    "    ni <- length(i.idx)\n",
    "    nj <- length(j.idx)\n",
    "    # calculate A(i|j)\n",
    "    A <- (Si - ((ni * (ni + 1))/2)) / (ni * nj)\n",
    "    return(A)\n",
    "}\n",
    "\n",
    "multiclass.auc <- function(pred.matrix, ref.outcome) {\n",
    "    labels <- colnames(pred.matrix)\n",
    "    A.ij.cond <- utils::combn(labels, 2, function(x, pred.matrix, ref.outcome) {x\n",
    "        i <- x[1]\n",
    "        j <- x[2]\n",
    "        A.ij <- compute.A.conditional(pred.matrix, i, j, ref.outcome)\n",
    "        A.ji <- compute.A.conditional(pred.matrix, j, i, ref.outcome)\n",
    "        pair <- paste0(i, \"/\", j)\n",
    "        return(c(A.ij, A.ji))\n",
    "    }, simplify = FALSE, pred.matrix = pred.matrix, ref.outcome = ref.outcome)\n",
    "    c <- length(labels)\n",
    "    pairs <- unlist(lapply(combn(labels, 2, simplify = FALSE), function(x) paste(x, collapse = \"/\")))\n",
    "    A.mean <- unlist(lapply(A.ij.cond, mean))\n",
    "    names(A.mean) <- pairs\n",
    "    A.ij.joint <- sum(unlist(A.mean))\n",
    "    M <- 2 / (c * (c-1)) * A.ij.joint \n",
    "    attr(M, \"pair_AUCs\") <- A.mean\n",
    "    return(M)\n",
    "}                          \n",
    "M <- multiclass.auc(res_CV, data$sample_type)\n",
    "print(paste0(\"Generalized AUC is: \", round(as.numeric(M), 3)))\n",
    "                           \n",
    "print(attr(M, \"pair_AUCs\"))"
   ]
  },
  {
   "cell_type": "markdown",
   "id": "066871f0-a2a1-4cb5-8fac-d574e8b01bf2",
   "metadata": {},
   "source": [
    "## AUC calculation with HandTill2001 package == One vs. one (original paper of the approach: https://link.springer.com/content/pdf/10.1023/A:1010920819831.pdf)"
   ]
  },
  {
   "cell_type": "code",
   "execution_count": 30,
   "id": "152705b0-bc94-4ce6-b645-bb48459963c2",
   "metadata": {},
   "outputs": [
    {
     "name": "stderr",
     "output_type": "stream",
     "text": [
      "Loading required package: remotes\n",
      "Warning message in library(package, lib.loc = lib.loc, character.only = TRUE, logical.return = TRUE, :\n",
      "“there is no package called ‘remotes’”Updating HTML index of packages in '.Library'\n",
      "Making 'packages.html' ... done\n",
      "Downloading GitLab repo fvafrCU/HandTill2001@HEAD\n",
      "from URL https://gitlab.com/api/v4/projects/7520017/repository/archive.tar.gz?sha=HEAD\n",
      "Running `R CMD build`...\n"
     ]
    },
    {
     "name": "stdout",
     "output_type": "stream",
     "text": [
      "* checking for file ‘/scratch/57034285/RtmpG5XL7o/remotes1ada2fec8e3a/HandTill2001-HEAD-90deae92052cc77340ebaf06ba3abf696efa325c/DESCRIPTION’ ... OK\n",
      "* preparing ‘HandTill2001’:\n",
      "* checking DESCRIPTION meta-information ... OK\n",
      "* checking for LF line-endings in source and make files and shell scripts\n",
      "* checking for empty or unneeded directories\n",
      "* looking to see if a ‘data/datalist’ file should be added\n",
      "* building ‘HandTill2001_1.0.1.9000.tar.gz’\n"
     ]
    },
    {
     "name": "stderr",
     "output_type": "stream",
     "text": [
      "\n",
      "Attaching package: ‘HandTill2001’\n",
      "\n",
      "The following object is masked from ‘package:pROC’:\n",
      "\n",
      "    auc\n",
      "\n"
     ]
    },
    {
     "data": {
      "text/html": [
       "'The AUC of the first CV repetition: 0.592959312010563'"
      ],
      "text/latex": [
       "'The AUC of the first CV repetition: 0.592959312010563'"
      ],
      "text/markdown": [
       "'The AUC of the first CV repetition: 0.592959312010563'"
      ],
      "text/plain": [
       "[1] \"The AUC of the first CV repetition: 0.592959312010563\""
      ]
     },
     "metadata": {},
     "output_type": "display_data"
    }
   ],
   "source": [
    "if (! require(\"remotes\")) install.packages(\"remotes\")\n",
    "remotes::install_gitlab(\"fvafrCU/HandTill2001\")\n",
    "\n",
    "library(HandTill2001)\n",
    "\n",
    "# run only for the first CV repetition to check that we get the same number\n",
    "\n",
    "paste0(\"The AUC of the first CV repetition: \", auc(multcap(response = data$sample_type, predicted = as.matrix(res_CV))))\n"
   ]
  },
  {
   "cell_type": "markdown",
   "id": "59907a22-fd0d-497d-97e4-0c245beb5769",
   "metadata": {},
   "source": [
    "# AUC calculation with multiROC package == One vs. rest, and plotting (https://github.com/WandeRum/multiROC)"
   ]
  },
  {
   "cell_type": "code",
   "execution_count": 31,
   "id": "a4dc83c7-cfc3-4bba-938b-fdcda6ac1d7e",
   "metadata": {},
   "outputs": [
    {
     "name": "stderr",
     "output_type": "stream",
     "text": [
      "Updating HTML index of packages in '.Library'\n",
      "Making 'packages.html' ... done\n",
      "Updating HTML index of packages in '.Library'\n",
      "Making 'packages.html' ... done\n",
      "dummies-1.5.6 provided by Decision Patterns\n",
      "\n"
     ]
    }
   ],
   "source": [
    "install.packages('multiROC')\n",
    "library(multiROC)\n",
    "\n",
    "install.packages('dummies')\n",
    "library(dummies)"
   ]
  },
  {
   "cell_type": "markdown",
   "id": "600a5c2e-5e55-4c1c-a402-f7e5c8a624bf",
   "metadata": {},
   "source": [
    "### Example of the calculations and plotting wiht the first CV repetition"
   ]
  },
  {
   "cell_type": "code",
   "execution_count": 32,
   "id": "80e922c7-fa7c-4d60-ba64-f0e7a6d71cd1",
   "metadata": {},
   "outputs": [
    {
     "name": "stderr",
     "output_type": "stream",
     "text": [
      "Warning message in model.matrix.default(~x - 1, model.frame(~x - 1), contrasts = FALSE):\n",
      "“non-list contrasts argument ignored”"
     ]
    },
    {
     "data": {
      "text/html": [
       "<table>\n",
       "<thead><tr><th scope=col>Bile_Duct_Cancer_true</th><th scope=col>Breast_Cancer_true</th><th scope=col>Colorectal_Cancer_true</th><th scope=col>Gastric_cancer_true</th><th scope=col>Healthy_true</th><th scope=col>Lung_Cancer_true</th><th scope=col>Ovarian_Cancer_true</th><th scope=col>Pancreatic_Cancer_true</th><th scope=col>Bile_Duct_Cancer_pred_lasso</th><th scope=col>Breast_Cancer_pred_lasso</th><th scope=col>Colorectal_Cancer_pred_lasso</th><th scope=col>Gastric_cancer_pred_lasso</th><th scope=col>Healthy_pred_lasso</th><th scope=col>Lung_Cancer_pred_lasso</th><th scope=col>Ovarian_Cancer_pred_lasso</th><th scope=col>Pancreatic_Cancer_pred_lasso</th></tr></thead>\n",
       "<tbody>\n",
       "\t<tr><td>0           </td><td>0           </td><td>0           </td><td>1           </td><td>0           </td><td>0           </td><td>0           </td><td>0           </td><td>0.0050989083</td><td>0.020591774 </td><td>0.8889104901</td><td>2.353630e-02</td><td>0.04777009  </td><td>0.009836656 </td><td>0.001813016 </td><td>0.002442760 </td></tr>\n",
       "\t<tr><td>0           </td><td>0           </td><td>0           </td><td>1           </td><td>0           </td><td>0           </td><td>0           </td><td>0           </td><td>0.0042906739</td><td>0.018092204 </td><td>0.0495527560</td><td>2.598575e-02</td><td>0.88651523  </td><td>0.001576407 </td><td>0.006015458 </td><td>0.007971523 </td></tr>\n",
       "\t<tr><td>0           </td><td>0           </td><td>0           </td><td>1           </td><td>0           </td><td>0           </td><td>0           </td><td>0           </td><td>0.2289938527</td><td>0.001752437 </td><td>0.0050313191</td><td>2.530297e-05</td><td>0.01581620  </td><td>0.001217904 </td><td>0.002022685 </td><td>0.745140296 </td></tr>\n",
       "\t<tr><td>0           </td><td>0           </td><td>0           </td><td>1           </td><td>0           </td><td>0           </td><td>0           </td><td>0           </td><td>0.0025384461</td><td>0.165450422 </td><td>0.2021513254</td><td>1.424481e-02</td><td>0.52219527  </td><td>0.024895876 </td><td>0.016906956 </td><td>0.051616901 </td></tr>\n",
       "\t<tr><td>0           </td><td>0           </td><td>0           </td><td>0           </td><td>0           </td><td>0           </td><td>1           </td><td>0           </td><td>0.0007723389</td><td>0.611388139 </td><td>0.0348993779</td><td>3.849762e-02</td><td>0.28140442  </td><td>0.010001294 </td><td>0.007948325 </td><td>0.015088493 </td></tr>\n",
       "\t<tr><td>0           </td><td>0           </td><td>0           </td><td>0           </td><td>0           </td><td>0           </td><td>1           </td><td>0           </td><td>0.0566156582</td><td>0.038597604 </td><td>0.0002022403</td><td>7.115857e-03</td><td>0.83041866  </td><td>0.055154535 </td><td>0.002787102 </td><td>0.009108341 </td></tr>\n",
       "</tbody>\n",
       "</table>\n"
      ],
      "text/latex": [
       "\\begin{tabular}{r|llllllllllllllll}\n",
       " Bile\\_Duct\\_Cancer\\_true & Breast\\_Cancer\\_true & Colorectal\\_Cancer\\_true & Gastric\\_cancer\\_true & Healthy\\_true & Lung\\_Cancer\\_true & Ovarian\\_Cancer\\_true & Pancreatic\\_Cancer\\_true & Bile\\_Duct\\_Cancer\\_pred\\_lasso & Breast\\_Cancer\\_pred\\_lasso & Colorectal\\_Cancer\\_pred\\_lasso & Gastric\\_cancer\\_pred\\_lasso & Healthy\\_pred\\_lasso & Lung\\_Cancer\\_pred\\_lasso & Ovarian\\_Cancer\\_pred\\_lasso & Pancreatic\\_Cancer\\_pred\\_lasso\\\\\n",
       "\\hline\n",
       "\t 0            & 0            & 0            & 1            & 0            & 0            & 0            & 0            & 0.0050989083 & 0.020591774  & 0.8889104901 & 2.353630e-02 & 0.04777009   & 0.009836656  & 0.001813016  & 0.002442760 \\\\\n",
       "\t 0            & 0            & 0            & 1            & 0            & 0            & 0            & 0            & 0.0042906739 & 0.018092204  & 0.0495527560 & 2.598575e-02 & 0.88651523   & 0.001576407  & 0.006015458  & 0.007971523 \\\\\n",
       "\t 0            & 0            & 0            & 1            & 0            & 0            & 0            & 0            & 0.2289938527 & 0.001752437  & 0.0050313191 & 2.530297e-05 & 0.01581620   & 0.001217904  & 0.002022685  & 0.745140296 \\\\\n",
       "\t 0            & 0            & 0            & 1            & 0            & 0            & 0            & 0            & 0.0025384461 & 0.165450422  & 0.2021513254 & 1.424481e-02 & 0.52219527   & 0.024895876  & 0.016906956  & 0.051616901 \\\\\n",
       "\t 0            & 0            & 0            & 0            & 0            & 0            & 1            & 0            & 0.0007723389 & 0.611388139  & 0.0348993779 & 3.849762e-02 & 0.28140442   & 0.010001294  & 0.007948325  & 0.015088493 \\\\\n",
       "\t 0            & 0            & 0            & 0            & 0            & 0            & 1            & 0            & 0.0566156582 & 0.038597604  & 0.0002022403 & 7.115857e-03 & 0.83041866   & 0.055154535  & 0.002787102  & 0.009108341 \\\\\n",
       "\\end{tabular}\n"
      ],
      "text/markdown": [
       "\n",
       "| Bile_Duct_Cancer_true | Breast_Cancer_true | Colorectal_Cancer_true | Gastric_cancer_true | Healthy_true | Lung_Cancer_true | Ovarian_Cancer_true | Pancreatic_Cancer_true | Bile_Duct_Cancer_pred_lasso | Breast_Cancer_pred_lasso | Colorectal_Cancer_pred_lasso | Gastric_cancer_pred_lasso | Healthy_pred_lasso | Lung_Cancer_pred_lasso | Ovarian_Cancer_pred_lasso | Pancreatic_Cancer_pred_lasso |\n",
       "|---|---|---|---|---|---|---|---|---|---|---|---|---|---|---|---|\n",
       "| 0            | 0            | 0            | 1            | 0            | 0            | 0            | 0            | 0.0050989083 | 0.020591774  | 0.8889104901 | 2.353630e-02 | 0.04777009   | 0.009836656  | 0.001813016  | 0.002442760  |\n",
       "| 0            | 0            | 0            | 1            | 0            | 0            | 0            | 0            | 0.0042906739 | 0.018092204  | 0.0495527560 | 2.598575e-02 | 0.88651523   | 0.001576407  | 0.006015458  | 0.007971523  |\n",
       "| 0            | 0            | 0            | 1            | 0            | 0            | 0            | 0            | 0.2289938527 | 0.001752437  | 0.0050313191 | 2.530297e-05 | 0.01581620   | 0.001217904  | 0.002022685  | 0.745140296  |\n",
       "| 0            | 0            | 0            | 1            | 0            | 0            | 0            | 0            | 0.0025384461 | 0.165450422  | 0.2021513254 | 1.424481e-02 | 0.52219527   | 0.024895876  | 0.016906956  | 0.051616901  |\n",
       "| 0            | 0            | 0            | 0            | 0            | 0            | 1            | 0            | 0.0007723389 | 0.611388139  | 0.0348993779 | 3.849762e-02 | 0.28140442   | 0.010001294  | 0.007948325  | 0.015088493  |\n",
       "| 0            | 0            | 0            | 0            | 0            | 0            | 1            | 0            | 0.0566156582 | 0.038597604  | 0.0002022403 | 7.115857e-03 | 0.83041866   | 0.055154535  | 0.002787102  | 0.009108341  |\n",
       "\n"
      ],
      "text/plain": [
       "  Bile_Duct_Cancer_true Breast_Cancer_true Colorectal_Cancer_true\n",
       "1 0                     0                  0                     \n",
       "2 0                     0                  0                     \n",
       "3 0                     0                  0                     \n",
       "4 0                     0                  0                     \n",
       "5 0                     0                  0                     \n",
       "6 0                     0                  0                     \n",
       "  Gastric_cancer_true Healthy_true Lung_Cancer_true Ovarian_Cancer_true\n",
       "1 1                   0            0                0                  \n",
       "2 1                   0            0                0                  \n",
       "3 1                   0            0                0                  \n",
       "4 1                   0            0                0                  \n",
       "5 0                   0            0                1                  \n",
       "6 0                   0            0                1                  \n",
       "  Pancreatic_Cancer_true Bile_Duct_Cancer_pred_lasso Breast_Cancer_pred_lasso\n",
       "1 0                      0.0050989083                0.020591774             \n",
       "2 0                      0.0042906739                0.018092204             \n",
       "3 0                      0.2289938527                0.001752437             \n",
       "4 0                      0.0025384461                0.165450422             \n",
       "5 0                      0.0007723389                0.611388139             \n",
       "6 0                      0.0566156582                0.038597604             \n",
       "  Colorectal_Cancer_pred_lasso Gastric_cancer_pred_lasso Healthy_pred_lasso\n",
       "1 0.8889104901                 2.353630e-02              0.04777009        \n",
       "2 0.0495527560                 2.598575e-02              0.88651523        \n",
       "3 0.0050313191                 2.530297e-05              0.01581620        \n",
       "4 0.2021513254                 1.424481e-02              0.52219527        \n",
       "5 0.0348993779                 3.849762e-02              0.28140442        \n",
       "6 0.0002022403                 7.115857e-03              0.83041866        \n",
       "  Lung_Cancer_pred_lasso Ovarian_Cancer_pred_lasso Pancreatic_Cancer_pred_lasso\n",
       "1 0.009836656            0.001813016               0.002442760                 \n",
       "2 0.001576407            0.006015458               0.007971523                 \n",
       "3 0.001217904            0.002022685               0.745140296                 \n",
       "4 0.024895876            0.016906956               0.051616901                 \n",
       "5 0.010001294            0.007948325               0.015088493                 \n",
       "6 0.055154535            0.002787102               0.009108341                 "
      ]
     },
     "metadata": {},
     "output_type": "display_data"
    }
   ],
   "source": [
    "# prep the data frame\n",
    "\n",
    "colnames(res_CV) <- paste(colnames(res_CV), \"_pred_lasso\", sep = \"\")\n",
    "\n",
    "true_label <- dummies::dummy(data$sample_type, sep = \".\")\n",
    "true_label <- data.frame(true_label)\n",
    "colnames(true_label) <- gsub(\".*?\\\\.\", \"\", colnames(true_label))\n",
    "colnames(true_label) <- paste(colnames(true_label), \"_true\", sep = \"\")\n",
    "final_df <- cbind(true_label, res_CV)\n",
    "\n",
    "head(final_df)"
   ]
  },
  {
   "cell_type": "code",
   "execution_count": 33,
   "id": "b942f139-c58d-47ab-aa2f-5b687c7fe575",
   "metadata": {},
   "outputs": [
    {
     "name": "stderr",
     "output_type": "stream",
     "text": [
      "Warning message in regularize.values(x, y, ties, missing(ties)):\n",
      "“collapsing to unique 'x' values”Warning message in regularize.values(x, y, ties, missing(ties)):\n",
      "“collapsing to unique 'x' values”Warning message in regularize.values(x, y, ties, missing(ties)):\n",
      "“collapsing to unique 'x' values”Warning message in regularize.values(x, y, ties, missing(ties)):\n",
      "“collapsing to unique 'x' values”Warning message in regularize.values(x, y, ties, missing(ties)):\n",
      "“collapsing to unique 'x' values”Warning message in regularize.values(x, y, ties, missing(ties)):\n",
      "“collapsing to unique 'x' values”Warning message in regularize.values(x, y, ties, missing(ties)):\n",
      "“collapsing to unique 'x' values”Warning message in regularize.values(x, y, ties, missing(ties)):\n",
      "“collapsing to unique 'x' values”"
     ]
    },
    {
     "data": {
      "text/html": [
       "<table>\n",
       "<thead><tr><th scope=col>Specificity</th><th scope=col>Sensitivity</th><th scope=col>Group</th><th scope=col>AUC</th><th scope=col>Method</th></tr></thead>\n",
       "<tbody>\n",
       "\t<tr><td>1.0000000       </td><td>0.00            </td><td>Bile_Duct_Cancer</td><td>0.6889447       </td><td>lasso           </td></tr>\n",
       "\t<tr><td>1.0000000       </td><td>0.04            </td><td>Bile_Duct_Cancer</td><td>0.6889447       </td><td>lasso           </td></tr>\n",
       "\t<tr><td>0.9974874       </td><td>0.04            </td><td>Bile_Duct_Cancer</td><td>0.6889447       </td><td>lasso           </td></tr>\n",
       "\t<tr><td>0.9974874       </td><td>0.08            </td><td>Bile_Duct_Cancer</td><td>0.6889447       </td><td>lasso           </td></tr>\n",
       "\t<tr><td>0.9949749       </td><td>0.08            </td><td>Bile_Duct_Cancer</td><td>0.6889447       </td><td>lasso           </td></tr>\n",
       "\t<tr><td>0.9924623       </td><td>0.08            </td><td>Bile_Duct_Cancer</td><td>0.6889447       </td><td>lasso           </td></tr>\n",
       "</tbody>\n",
       "</table>\n"
      ],
      "text/latex": [
       "\\begin{tabular}{r|lllll}\n",
       " Specificity & Sensitivity & Group & AUC & Method\\\\\n",
       "\\hline\n",
       "\t 1.0000000            & 0.00                 & Bile\\_Duct\\_Cancer & 0.6889447            & lasso               \\\\\n",
       "\t 1.0000000            & 0.04                 & Bile\\_Duct\\_Cancer & 0.6889447            & lasso               \\\\\n",
       "\t 0.9974874            & 0.04                 & Bile\\_Duct\\_Cancer & 0.6889447            & lasso               \\\\\n",
       "\t 0.9974874            & 0.08                 & Bile\\_Duct\\_Cancer & 0.6889447            & lasso               \\\\\n",
       "\t 0.9949749            & 0.08                 & Bile\\_Duct\\_Cancer & 0.6889447            & lasso               \\\\\n",
       "\t 0.9924623            & 0.08                 & Bile\\_Duct\\_Cancer & 0.6889447            & lasso               \\\\\n",
       "\\end{tabular}\n"
      ],
      "text/markdown": [
       "\n",
       "| Specificity | Sensitivity | Group | AUC | Method |\n",
       "|---|---|---|---|---|\n",
       "| 1.0000000        | 0.00             | Bile_Duct_Cancer | 0.6889447        | lasso            |\n",
       "| 1.0000000        | 0.04             | Bile_Duct_Cancer | 0.6889447        | lasso            |\n",
       "| 0.9974874        | 0.04             | Bile_Duct_Cancer | 0.6889447        | lasso            |\n",
       "| 0.9974874        | 0.08             | Bile_Duct_Cancer | 0.6889447        | lasso            |\n",
       "| 0.9949749        | 0.08             | Bile_Duct_Cancer | 0.6889447        | lasso            |\n",
       "| 0.9924623        | 0.08             | Bile_Duct_Cancer | 0.6889447        | lasso            |\n",
       "\n"
      ],
      "text/plain": [
       "  Specificity Sensitivity Group            AUC       Method\n",
       "1 1.0000000   0.00        Bile_Duct_Cancer 0.6889447 lasso \n",
       "2 1.0000000   0.04        Bile_Duct_Cancer 0.6889447 lasso \n",
       "3 0.9974874   0.04        Bile_Duct_Cancer 0.6889447 lasso \n",
       "4 0.9974874   0.08        Bile_Duct_Cancer 0.6889447 lasso \n",
       "5 0.9949749   0.08        Bile_Duct_Cancer 0.6889447 lasso \n",
       "6 0.9924623   0.08        Bile_Duct_Cancer 0.6889447 lasso "
      ]
     },
     "metadata": {},
     "output_type": "display_data"
    },
    {
     "data": {
      "text/html": [
       "<ol class=list-inline>\n",
       "\t<li>9720</li>\n",
       "\t<li>5</li>\n",
       "</ol>\n"
      ],
      "text/latex": [
       "\\begin{enumerate*}\n",
       "\\item 9720\n",
       "\\item 5\n",
       "\\end{enumerate*}\n"
      ],
      "text/markdown": [
       "1. 9720\n",
       "2. 5\n",
       "\n",
       "\n"
      ],
      "text/plain": [
       "[1] 9720    5"
      ]
     },
     "metadata": {},
     "output_type": "display_data"
    },
    {
     "data": {
      "image/png": "[encoded data removed]",
      "text/plain": [
       "plot without title"
      ]
     },
     "metadata": {},
     "output_type": "display_data"
    }
   ],
   "source": [
    "#perform multiroc and plot\n",
    "\n",
    "roc_res <- multi_roc(final_df, force_diag=T)\n",
    "plot_roc_df <- plot_roc_data(roc_res)\n",
    "head(plot_roc_df)\n",
    "dim(plot_roc_df)\n",
    "\n",
    "ggplot(plot_roc_df, aes(x = 1-Specificity, y=Sensitivity)) +\n",
    "  geom_path(aes(color = Group), size=1) +\n",
    "  geom_segment(aes(x = 0, y = 0, xend = 1, yend = 1), \n",
    "                        colour='grey', linetype = 'dotdash') +\n",
    "  theme_bw() + \n",
    "  theme(plot.title = element_text(hjust = 0.5), \n",
    "                 legend.justification=c(1, 0), legend.position=c(.95, .05),\n",
    "                 legend.title=element_blank(), \n",
    "                 legend.background = element_rect(fill=NULL, size=0.5, \n",
    "                                                           linetype=\"solid\", colour =\"black\"))\n"
   ]
  },
  {
   "cell_type": "code",
   "execution_count": 35,
   "id": "b881c88d-d4ba-4448-bfb9-1a59d0a15d1e",
   "metadata": {},
   "outputs": [
    {
     "data": {
      "text/html": [
       "<table>\n",
       "<thead><tr><th scope=col>Bile_Duct_Cancer</th><th scope=col>Breast_Cancer</th><th scope=col>Colorectal_Cancer</th><th scope=col>Gastric_cancer</th><th scope=col>Healthy</th><th scope=col>Lung_Cancer</th><th scope=col>Ovarian_Cancer</th><th scope=col>Pancreatic_Cancer</th><th scope=col>macro</th><th scope=col>micro</th></tr></thead>\n",
       "<tbody>\n",
       "\t<tr><td>0.6889447</td><td>0.6505571</td><td>0.5208293</td><td>0.4482791</td><td>0.6905191</td><td>0.6064065</td><td>0.4514467</td><td>0.6558294</td><td>0.5891004</td><td>0.7431463</td></tr>\n",
       "</tbody>\n",
       "</table>\n"
      ],
      "text/latex": [
       "\\begin{tabular}{r|llllllllll}\n",
       " Bile\\_Duct\\_Cancer & Breast\\_Cancer & Colorectal\\_Cancer & Gastric\\_cancer & Healthy & Lung\\_Cancer & Ovarian\\_Cancer & Pancreatic\\_Cancer & macro & micro\\\\\n",
       "\\hline\n",
       "\t 0.6889447 & 0.6505571 & 0.5208293 & 0.4482791 & 0.6905191 & 0.6064065 & 0.4514467 & 0.6558294 & 0.5891004 & 0.7431463\\\\\n",
       "\\end{tabular}\n"
      ],
      "text/markdown": [
       "\n",
       "| Bile_Duct_Cancer | Breast_Cancer | Colorectal_Cancer | Gastric_cancer | Healthy | Lung_Cancer | Ovarian_Cancer | Pancreatic_Cancer | macro | micro |\n",
       "|---|---|---|---|---|---|---|---|---|---|\n",
       "| 0.6889447 | 0.6505571 | 0.5208293 | 0.4482791 | 0.6905191 | 0.6064065 | 0.4514467 | 0.6558294 | 0.5891004 | 0.7431463 |\n",
       "\n"
      ],
      "text/plain": [
       "  Bile_Duct_Cancer Breast_Cancer Colorectal_Cancer Gastric_cancer Healthy  \n",
       "1 0.6889447        0.6505571     0.5208293         0.4482791      0.6905191\n",
       "  Lung_Cancer Ovarian_Cancer Pancreatic_Cancer macro     micro    \n",
       "1 0.6064065   0.4514467      0.6558294         0.5891004 0.7431463"
      ]
     },
     "metadata": {},
     "output_type": "display_data"
    }
   ],
   "source": [
    "# print AUCs\n",
    "(AUCs <-roc_res$AUC %>%\n",
    "  transpose() %>%\n",
    "  as_tibble())"
   ]
  },
  {
   "cell_type": "markdown",
   "id": "22900f8d-ca81-4c49-b11a-3356ea2a4c48",
   "metadata": {},
   "source": [
    "## Run the multiROC and plotting for all the CV repetitions"
   ]
  },
  {
   "cell_type": "code",
   "execution_count": 40,
   "id": "0f34acbc-a5bc-4a3f-8d3f-f7eb2fc560c6",
   "metadata": {},
   "outputs": [
    {
     "name": "stderr",
     "output_type": "stream",
     "text": [
      "Warning message in model.matrix.default(~x - 1, model.frame(~x - 1), contrasts = FALSE):\n",
      "“non-list contrasts argument ignored”Warning message in regularize.values(x, y, ties, missing(ties)):\n",
      "“collapsing to unique 'x' values”Warning message in regularize.values(x, y, ties, missing(ties)):\n",
      "“collapsing to unique 'x' values”Warning message in regularize.values(x, y, ties, missing(ties)):\n",
      "“collapsing to unique 'x' values”Warning message in regularize.values(x, y, ties, missing(ties)):\n",
      "“collapsing to unique 'x' values”Warning message in regularize.values(x, y, ties, missing(ties)):\n",
      "“collapsing to unique 'x' values”Warning message in regularize.values(x, y, ties, missing(ties)):\n",
      "“collapsing to unique 'x' values”Warning message in regularize.values(x, y, ties, missing(ties)):\n",
      "“collapsing to unique 'x' values”Warning message in regularize.values(x, y, ties, missing(ties)):\n",
      "“collapsing to unique 'x' values”Warning message in model.matrix.default(~x - 1, model.frame(~x - 1), contrasts = FALSE):\n",
      "“non-list contrasts argument ignored”Warning message in regularize.values(x, y, ties, missing(ties)):\n",
      "“collapsing to unique 'x' values”Warning message in regularize.values(x, y, ties, missing(ties)):\n",
      "“collapsing to unique 'x' values”Warning message in regularize.values(x, y, ties, missing(ties)):\n",
      "“collapsing to unique 'x' values”Warning message in regularize.values(x, y, ties, missing(ties)):\n",
      "“collapsing to unique 'x' values”Warning message in regularize.values(x, y, ties, missing(ties)):\n",
      "“collapsing to unique 'x' values”Warning message in regularize.values(x, y, ties, missing(ties)):\n",
      "“collapsing to unique 'x' values”Warning message in regularize.values(x, y, ties, missing(ties)):\n",
      "“collapsing to unique 'x' values”Warning message in regularize.values(x, y, ties, missing(ties)):\n",
      "“collapsing to unique 'x' values”Warning message in model.matrix.default(~x - 1, model.frame(~x - 1), contrasts = FALSE):\n",
      "“non-list contrasts argument ignored”Warning message in regularize.values(x, y, ties, missing(ties)):\n",
      "“collapsing to unique 'x' values”Warning message in regularize.values(x, y, ties, missing(ties)):\n",
      "“collapsing to unique 'x' values”Warning message in regularize.values(x, y, ties, missing(ties)):\n",
      "“collapsing to unique 'x' values”Warning message in regularize.values(x, y, ties, missing(ties)):\n",
      "“collapsing to unique 'x' values”Warning message in regularize.values(x, y, ties, missing(ties)):\n",
      "“collapsing to unique 'x' values”Warning message in regularize.values(x, y, ties, missing(ties)):\n",
      "“collapsing to unique 'x' values”Warning message in regularize.values(x, y, ties, missing(ties)):\n",
      "“collapsing to unique 'x' values”Warning message in regularize.values(x, y, ties, missing(ties)):\n",
      "“collapsing to unique 'x' values”Warning message in model.matrix.default(~x - 1, model.frame(~x - 1), contrasts = FALSE):\n",
      "“non-list contrasts argument ignored”Warning message in regularize.values(x, y, ties, missing(ties)):\n",
      "“collapsing to unique 'x' values”Warning message in regularize.values(x, y, ties, missing(ties)):\n",
      "“collapsing to unique 'x' values”Warning message in regularize.values(x, y, ties, missing(ties)):\n",
      "“collapsing to unique 'x' values”Warning message in regularize.values(x, y, ties, missing(ties)):\n",
      "“collapsing to unique 'x' values”Warning message in regularize.values(x, y, ties, missing(ties)):\n",
      "“collapsing to unique 'x' values”Warning message in regularize.values(x, y, ties, missing(ties)):\n",
      "“collapsing to unique 'x' values”Warning message in regularize.values(x, y, ties, missing(ties)):\n",
      "“collapsing to unique 'x' values”Warning message in regularize.values(x, y, ties, missing(ties)):\n",
      "“collapsing to unique 'x' values”Warning message in model.matrix.default(~x - 1, model.frame(~x - 1), contrasts = FALSE):\n",
      "“non-list contrasts argument ignored”Warning message in regularize.values(x, y, ties, missing(ties)):\n",
      "“collapsing to unique 'x' values”Warning message in regularize.values(x, y, ties, missing(ties)):\n",
      "“collapsing to unique 'x' values”Warning message in regularize.values(x, y, ties, missing(ties)):\n",
      "“collapsing to unique 'x' values”Warning message in regularize.values(x, y, ties, missing(ties)):\n",
      "“collapsing to unique 'x' values”Warning message in regularize.values(x, y, ties, missing(ties)):\n",
      "“collapsing to unique 'x' values”Warning message in regularize.values(x, y, ties, missing(ties)):\n",
      "“collapsing to unique 'x' values”Warning message in regularize.values(x, y, ties, missing(ties)):\n",
      "“collapsing to unique 'x' values”Warning message in regularize.values(x, y, ties, missing(ties)):\n",
      "“collapsing to unique 'x' values”Warning message in model.matrix.default(~x - 1, model.frame(~x - 1), contrasts = FALSE):\n",
      "“non-list contrasts argument ignored”Warning message in regularize.values(x, y, ties, missing(ties)):\n",
      "“collapsing to unique 'x' values”Warning message in regularize.values(x, y, ties, missing(ties)):\n",
      "“collapsing to unique 'x' values”Warning message in regularize.values(x, y, ties, missing(ties)):\n",
      "“collapsing to unique 'x' values”Warning message in regularize.values(x, y, ties, missing(ties)):\n",
      "“collapsing to unique 'x' values”Warning message in regularize.values(x, y, ties, missing(ties)):\n",
      "“collapsing to unique 'x' values”Warning message in regularize.values(x, y, ties, missing(ties)):\n",
      "“collapsing to unique 'x' values”Warning message in regularize.values(x, y, ties, missing(ties)):\n",
      "“collapsing to unique 'x' values”Warning message in regularize.values(x, y, ties, missing(ties)):\n",
      "“collapsing to unique 'x' values”Warning message in model.matrix.default(~x - 1, model.frame(~x - 1), contrasts = FALSE):\n",
      "“non-list contrasts argument ignored”Warning message in regularize.values(x, y, ties, missing(ties)):\n",
      "“collapsing to unique 'x' values”Warning message in regularize.values(x, y, ties, missing(ties)):\n",
      "“collapsing to unique 'x' values”Warning message in regularize.values(x, y, ties, missing(ties)):\n",
      "“collapsing to unique 'x' values”Warning message in regularize.values(x, y, ties, missing(ties)):\n",
      "“collapsing to unique 'x' values”Warning message in regularize.values(x, y, ties, missing(ties)):\n",
      "“collapsing to unique 'x' values”Warning message in regularize.values(x, y, ties, missing(ties)):\n",
      "“collapsing to unique 'x' values”Warning message in regularize.values(x, y, ties, missing(ties)):\n",
      "“collapsing to unique 'x' values”Warning message in regularize.values(x, y, ties, missing(ties)):\n",
      "“collapsing to unique 'x' values”Warning message in model.matrix.default(~x - 1, model.frame(~x - 1), contrasts = FALSE):\n",
      "“non-list contrasts argument ignored”Warning message in regularize.values(x, y, ties, missing(ties)):\n",
      "“collapsing to unique 'x' values”Warning message in regularize.values(x, y, ties, missing(ties)):\n",
      "“collapsing to unique 'x' values”Warning message in regularize.values(x, y, ties, missing(ties)):\n",
      "“collapsing to unique 'x' values”Warning message in regularize.values(x, y, ties, missing(ties)):\n",
      "“collapsing to unique 'x' values”Warning message in regularize.values(x, y, ties, missing(ties)):\n",
      "“collapsing to unique 'x' values”Warning message in regularize.values(x, y, ties, missing(ties)):\n",
      "“collapsing to unique 'x' values”Warning message in regularize.values(x, y, ties, missing(ties)):\n",
      "“collapsing to unique 'x' values”Warning message in regularize.values(x, y, ties, missing(ties)):\n",
      "“collapsing to unique 'x' values”Warning message in model.matrix.default(~x - 1, model.frame(~x - 1), contrasts = FALSE):\n",
      "“non-list contrasts argument ignored”Warning message in regularize.values(x, y, ties, missing(ties)):\n",
      "“collapsing to unique 'x' values”Warning message in regularize.values(x, y, ties, missing(ties)):\n",
      "“collapsing to unique 'x' values”Warning message in regularize.values(x, y, ties, missing(ties)):\n",
      "“collapsing to unique 'x' values”Warning message in regularize.values(x, y, ties, missing(ties)):\n",
      "“collapsing to unique 'x' values”Warning message in regularize.values(x, y, ties, missing(ties)):\n",
      "“collapsing to unique 'x' values”Warning message in regularize.values(x, y, ties, missing(ties)):\n",
      "“collapsing to unique 'x' values”Warning message in regularize.values(x, y, ties, missing(ties)):\n",
      "“collapsing to unique 'x' values”Warning message in regularize.values(x, y, ties, missing(ties)):\n",
      "“collapsing to unique 'x' values”Warning message in model.matrix.default(~x - 1, model.frame(~x - 1), contrasts = FALSE):\n",
      "“non-list contrasts argument ignored”Warning message in regularize.values(x, y, ties, missing(ties)):\n",
      "“collapsing to unique 'x' values”Warning message in regularize.values(x, y, ties, missing(ties)):\n",
      "“collapsing to unique 'x' values”Warning message in regularize.values(x, y, ties, missing(ties)):\n",
      "“collapsing to unique 'x' values”Warning message in regularize.values(x, y, ties, missing(ties)):\n",
      "“collapsing to unique 'x' values”Warning message in regularize.values(x, y, ties, missing(ties)):\n",
      "“collapsing to unique 'x' values”Warning message in regularize.values(x, y, ties, missing(ties)):\n",
      "“collapsing to unique 'x' values”Warning message in regularize.values(x, y, ties, missing(ties)):\n",
      "“collapsing to unique 'x' values”Warning message in regularize.values(x, y, ties, missing(ties)):\n",
      "“collapsing to unique 'x' values”New names:\n",
      "* Specificity -> Specificity...1\n",
      "* Specificity -> Specificity...2\n",
      "* Specificity -> Specificity...3\n",
      "* Specificity -> Specificity...4\n",
      "* Specificity -> Specificity...5\n",
      "* ...\n",
      "New names:\n",
      "* Sensitivity -> Sensitivity...1\n",
      "* Sensitivity -> Sensitivity...2\n",
      "* Sensitivity -> Sensitivity...3\n",
      "* Sensitivity -> Sensitivity...4\n",
      "* Sensitivity -> Sensitivity...5\n",
      "* ...\n"
     ]
    },
    {
     "data": {
      "text/html": [
       "<table>\n",
       "<thead><tr><th scope=col>lasso.Bile_Duct_Cancer</th><th scope=col>lasso.Breast_Cancer</th><th scope=col>lasso.Colorectal_Cancer</th><th scope=col>lasso.Gastric_cancer</th><th scope=col>lasso.Healthy</th><th scope=col>lasso.Lung_Cancer</th><th scope=col>lasso.Ovarian_Cancer</th><th scope=col>lasso.Pancreatic_Cancer</th><th scope=col>lasso.macro</th><th scope=col>lasso.micro</th></tr></thead>\n",
       "<tbody>\n",
       "\t<tr><td>0.6889447</td><td>0.6505571</td><td>0.5208293</td><td>0.4482791</td><td>0.6905191</td><td>0.6064065</td><td>0.4514467</td><td>0.6558294</td><td>0.5891004</td><td>0.7431463</td></tr>\n",
       "\t<tr><td>0.6757789</td><td>0.6059922</td><td>0.5776981</td><td>0.4000187</td><td>0.6946158</td><td>0.6201031</td><td>0.4894213</td><td>0.6548465</td><td>0.5898054</td><td>0.7397364</td></tr>\n",
       "\t<tr><td>0.6849246</td><td>0.6021781</td><td>0.5420461</td><td>0.4024504</td><td>0.6866024</td><td>0.6195140</td><td>0.4801989</td><td>0.6079692</td><td>0.5782301</td><td>0.7347192</td></tr>\n",
       "\t<tr><td>0.6897487</td><td>0.5993175</td><td>0.5532842</td><td>0.4382716</td><td>0.6923648</td><td>0.5960972</td><td>0.4662749</td><td>0.6592318</td><td>0.5868198</td><td>0.7383982</td></tr>\n",
       "\t<tr><td>0.7073367</td><td>0.6189401</td><td>0.5323581</td><td>0.4349981</td><td>0.6925899</td><td>0.5488218</td><td>0.4634720</td><td>0.6120520</td><td>0.5763283</td><td>0.7302841</td></tr>\n",
       "\t<tr><td>0.6768844</td><td>0.5813008</td><td>0.5424336</td><td>0.4011410</td><td>0.6931076</td><td>0.6527982</td><td>0.4107595</td><td>0.6500076</td><td>0.5760532</td><td>0.7351663</td></tr>\n",
       "\t<tr><td>0.6893467</td><td>0.6178360</td><td>0.5410773</td><td>0.3600823</td><td>0.6896412</td><td>0.5739323</td><td>0.3985533</td><td>0.6496295</td><td>0.5650117</td><td>0.7270881</td></tr>\n",
       "\t<tr><td>0.7155779</td><td>0.5934457</td><td>0.5245108</td><td>0.4019828</td><td>0.6744249</td><td>0.6050074</td><td>0.4839964</td><td>0.6069106</td><td>0.5757227</td><td>0.7320390</td></tr>\n",
       "\t<tr><td>0.6753769</td><td>0.6024290</td><td>0.5931021</td><td>0.3903853</td><td>0.6776887</td><td>0.5388071</td><td>0.4282098</td><td>0.6490246</td><td>0.5693750</td><td>0.7268150</td></tr>\n",
       "\t<tr><td>0.6801005</td><td>0.6196929</td><td>0.5210231</td><td>0.3875795</td><td>0.6891685</td><td>0.5733432</td><td>0.4648282</td><td>0.6093301</td><td>0.5681243</td><td>0.7266098</td></tr>\n",
       "</tbody>\n",
       "</table>\n"
      ],
      "text/latex": [
       "\\begin{tabular}{r|llllllllll}\n",
       " lasso.Bile\\_Duct\\_Cancer & lasso.Breast\\_Cancer & lasso.Colorectal\\_Cancer & lasso.Gastric\\_cancer & lasso.Healthy & lasso.Lung\\_Cancer & lasso.Ovarian\\_Cancer & lasso.Pancreatic\\_Cancer & lasso.macro & lasso.micro\\\\\n",
       "\\hline\n",
       "\t 0.6889447 & 0.6505571 & 0.5208293 & 0.4482791 & 0.6905191 & 0.6064065 & 0.4514467 & 0.6558294 & 0.5891004 & 0.7431463\\\\\n",
       "\t 0.6757789 & 0.6059922 & 0.5776981 & 0.4000187 & 0.6946158 & 0.6201031 & 0.4894213 & 0.6548465 & 0.5898054 & 0.7397364\\\\\n",
       "\t 0.6849246 & 0.6021781 & 0.5420461 & 0.4024504 & 0.6866024 & 0.6195140 & 0.4801989 & 0.6079692 & 0.5782301 & 0.7347192\\\\\n",
       "\t 0.6897487 & 0.5993175 & 0.5532842 & 0.4382716 & 0.6923648 & 0.5960972 & 0.4662749 & 0.6592318 & 0.5868198 & 0.7383982\\\\\n",
       "\t 0.7073367 & 0.6189401 & 0.5323581 & 0.4349981 & 0.6925899 & 0.5488218 & 0.4634720 & 0.6120520 & 0.5763283 & 0.7302841\\\\\n",
       "\t 0.6768844 & 0.5813008 & 0.5424336 & 0.4011410 & 0.6931076 & 0.6527982 & 0.4107595 & 0.6500076 & 0.5760532 & 0.7351663\\\\\n",
       "\t 0.6893467 & 0.6178360 & 0.5410773 & 0.3600823 & 0.6896412 & 0.5739323 & 0.3985533 & 0.6496295 & 0.5650117 & 0.7270881\\\\\n",
       "\t 0.7155779 & 0.5934457 & 0.5245108 & 0.4019828 & 0.6744249 & 0.6050074 & 0.4839964 & 0.6069106 & 0.5757227 & 0.7320390\\\\\n",
       "\t 0.6753769 & 0.6024290 & 0.5931021 & 0.3903853 & 0.6776887 & 0.5388071 & 0.4282098 & 0.6490246 & 0.5693750 & 0.7268150\\\\\n",
       "\t 0.6801005 & 0.6196929 & 0.5210231 & 0.3875795 & 0.6891685 & 0.5733432 & 0.4648282 & 0.6093301 & 0.5681243 & 0.7266098\\\\\n",
       "\\end{tabular}\n"
      ],
      "text/markdown": [
       "\n",
       "| lasso.Bile_Duct_Cancer | lasso.Breast_Cancer | lasso.Colorectal_Cancer | lasso.Gastric_cancer | lasso.Healthy | lasso.Lung_Cancer | lasso.Ovarian_Cancer | lasso.Pancreatic_Cancer | lasso.macro | lasso.micro |\n",
       "|---|---|---|---|---|---|---|---|---|---|\n",
       "| 0.6889447 | 0.6505571 | 0.5208293 | 0.4482791 | 0.6905191 | 0.6064065 | 0.4514467 | 0.6558294 | 0.5891004 | 0.7431463 |\n",
       "| 0.6757789 | 0.6059922 | 0.5776981 | 0.4000187 | 0.6946158 | 0.6201031 | 0.4894213 | 0.6548465 | 0.5898054 | 0.7397364 |\n",
       "| 0.6849246 | 0.6021781 | 0.5420461 | 0.4024504 | 0.6866024 | 0.6195140 | 0.4801989 | 0.6079692 | 0.5782301 | 0.7347192 |\n",
       "| 0.6897487 | 0.5993175 | 0.5532842 | 0.4382716 | 0.6923648 | 0.5960972 | 0.4662749 | 0.6592318 | 0.5868198 | 0.7383982 |\n",
       "| 0.7073367 | 0.6189401 | 0.5323581 | 0.4349981 | 0.6925899 | 0.5488218 | 0.4634720 | 0.6120520 | 0.5763283 | 0.7302841 |\n",
       "| 0.6768844 | 0.5813008 | 0.5424336 | 0.4011410 | 0.6931076 | 0.6527982 | 0.4107595 | 0.6500076 | 0.5760532 | 0.7351663 |\n",
       "| 0.6893467 | 0.6178360 | 0.5410773 | 0.3600823 | 0.6896412 | 0.5739323 | 0.3985533 | 0.6496295 | 0.5650117 | 0.7270881 |\n",
       "| 0.7155779 | 0.5934457 | 0.5245108 | 0.4019828 | 0.6744249 | 0.6050074 | 0.4839964 | 0.6069106 | 0.5757227 | 0.7320390 |\n",
       "| 0.6753769 | 0.6024290 | 0.5931021 | 0.3903853 | 0.6776887 | 0.5388071 | 0.4282098 | 0.6490246 | 0.5693750 | 0.7268150 |\n",
       "| 0.6801005 | 0.6196929 | 0.5210231 | 0.3875795 | 0.6891685 | 0.5733432 | 0.4648282 | 0.6093301 | 0.5681243 | 0.7266098 |\n",
       "\n"
      ],
      "text/plain": [
       "   lasso.Bile_Duct_Cancer lasso.Breast_Cancer lasso.Colorectal_Cancer\n",
       "1  0.6889447              0.6505571           0.5208293              \n",
       "2  0.6757789              0.6059922           0.5776981              \n",
       "3  0.6849246              0.6021781           0.5420461              \n",
       "4  0.6897487              0.5993175           0.5532842              \n",
       "5  0.7073367              0.6189401           0.5323581              \n",
       "6  0.6768844              0.5813008           0.5424336              \n",
       "7  0.6893467              0.6178360           0.5410773              \n",
       "8  0.7155779              0.5934457           0.5245108              \n",
       "9  0.6753769              0.6024290           0.5931021              \n",
       "10 0.6801005              0.6196929           0.5210231              \n",
       "   lasso.Gastric_cancer lasso.Healthy lasso.Lung_Cancer lasso.Ovarian_Cancer\n",
       "1  0.4482791            0.6905191     0.6064065         0.4514467           \n",
       "2  0.4000187            0.6946158     0.6201031         0.4894213           \n",
       "3  0.4024504            0.6866024     0.6195140         0.4801989           \n",
       "4  0.4382716            0.6923648     0.5960972         0.4662749           \n",
       "5  0.4349981            0.6925899     0.5488218         0.4634720           \n",
       "6  0.4011410            0.6931076     0.6527982         0.4107595           \n",
       "7  0.3600823            0.6896412     0.5739323         0.3985533           \n",
       "8  0.4019828            0.6744249     0.6050074         0.4839964           \n",
       "9  0.3903853            0.6776887     0.5388071         0.4282098           \n",
       "10 0.3875795            0.6891685     0.5733432         0.4648282           \n",
       "   lasso.Pancreatic_Cancer lasso.macro lasso.micro\n",
       "1  0.6558294               0.5891004   0.7431463  \n",
       "2  0.6548465               0.5898054   0.7397364  \n",
       "3  0.6079692               0.5782301   0.7347192  \n",
       "4  0.6592318               0.5868198   0.7383982  \n",
       "5  0.6120520               0.5763283   0.7302841  \n",
       "6  0.6500076               0.5760532   0.7351663  \n",
       "7  0.6496295               0.5650117   0.7270881  \n",
       "8  0.6069106               0.5757227   0.7320390  \n",
       "9  0.6490246               0.5693750   0.7268150  \n",
       "10 0.6093301               0.5681243   0.7266098  "
      ]
     },
     "metadata": {},
     "output_type": "display_data"
    },
    {
     "data": {
      "text/html": [
       "<table>\n",
       "<thead><tr><th scope=col>Specificity</th><th scope=col>Sensitivity</th><th scope=col>Group</th></tr></thead>\n",
       "<tbody>\n",
       "\t<tr><td>1.0000000       </td><td>0.000           </td><td>Bile_Duct_Cancer</td></tr>\n",
       "\t<tr><td>0.9984925       </td><td>0.016           </td><td>Bile_Duct_Cancer</td></tr>\n",
       "\t<tr><td>0.9964824       </td><td>0.024           </td><td>Bile_Duct_Cancer</td></tr>\n",
       "\t<tr><td>0.9949749       </td><td>0.040           </td><td>Bile_Duct_Cancer</td></tr>\n",
       "\t<tr><td>0.9927136       </td><td>0.044           </td><td>Bile_Duct_Cancer</td></tr>\n",
       "\t<tr><td>0.9909548       </td><td>0.056           </td><td>Bile_Duct_Cancer</td></tr>\n",
       "</tbody>\n",
       "</table>\n"
      ],
      "text/latex": [
       "\\begin{tabular}{r|lll}\n",
       " Specificity & Sensitivity & Group\\\\\n",
       "\\hline\n",
       "\t 1.0000000            & 0.000                & Bile\\_Duct\\_Cancer\\\\\n",
       "\t 0.9984925            & 0.016                & Bile\\_Duct\\_Cancer\\\\\n",
       "\t 0.9964824            & 0.024                & Bile\\_Duct\\_Cancer\\\\\n",
       "\t 0.9949749            & 0.040                & Bile\\_Duct\\_Cancer\\\\\n",
       "\t 0.9927136            & 0.044                & Bile\\_Duct\\_Cancer\\\\\n",
       "\t 0.9909548            & 0.056                & Bile\\_Duct\\_Cancer\\\\\n",
       "\\end{tabular}\n"
      ],
      "text/markdown": [
       "\n",
       "| Specificity | Sensitivity | Group |\n",
       "|---|---|---|\n",
       "| 1.0000000        | 0.000            | Bile_Duct_Cancer |\n",
       "| 0.9984925        | 0.016            | Bile_Duct_Cancer |\n",
       "| 0.9964824        | 0.024            | Bile_Duct_Cancer |\n",
       "| 0.9949749        | 0.040            | Bile_Duct_Cancer |\n",
       "| 0.9927136        | 0.044            | Bile_Duct_Cancer |\n",
       "| 0.9909548        | 0.056            | Bile_Duct_Cancer |\n",
       "\n"
      ],
      "text/plain": [
       "  Specificity Sensitivity Group           \n",
       "1 1.0000000   0.000       Bile_Duct_Cancer\n",
       "2 0.9984925   0.016       Bile_Duct_Cancer\n",
       "3 0.9964824   0.024       Bile_Duct_Cancer\n",
       "4 0.9949749   0.040       Bile_Duct_Cancer\n",
       "5 0.9927136   0.044       Bile_Duct_Cancer\n",
       "6 0.9909548   0.056       Bile_Duct_Cancer"
      ]
     },
     "metadata": {},
     "output_type": "display_data"
    }
   ],
   "source": [
    "Specificities <- NULL\n",
    "Sensitivities <- NULL\n",
    "\n",
    "for (i in 1:k_outer_cv){\n",
    "    res_CV <- data.frame(results %>% filter(CV_rep == i) %>% dplyr::select(-c(CV_rep, observed)))\n",
    "    \n",
    "    colnames(res_CV) <- paste(colnames(res_CV), \"_pred_lasso\", sep = \"\")\n",
    "\n",
    "    true_label <- dummies::dummy(data$sample_type, sep = \".\")\n",
    "    true_label <- data.frame(true_label)\n",
    "    colnames(true_label) <- gsub(\".*?\\\\.\", \"\", colnames(true_label))\n",
    "    colnames(true_label) <- paste(colnames(true_label), \"_true\", sep = \"\")\n",
    "    final_df <- cbind(true_label, res_CV)\n",
    "\n",
    "    roc_res <- multi_roc(final_df, force_diag=T)\n",
    "    \n",
    "    if (i == 1){\n",
    "        AUCs <- as.data.frame(t(unlist(roc_res$AUC)))\n",
    "    }\n",
    "    else {\n",
    "        AUCs <- rbind(AUCs, as.data.frame(t(unlist(roc_res$AUC))))\n",
    "    }\n",
    "    \n",
    "    plot_roc_df <- plot_roc_data(roc_res)\n",
    "    plot_roc_df <- plot_roc_df %>% dplyr::select(-Method)\n",
    "    \n",
    "    if (i == 1){\n",
    "        Specificities <- plot_roc_df %>% dplyr::select(Specificity)\n",
    "        Sensitivities <- plot_roc_df %>% dplyr::select(Sensitivity)\n",
    "        Groups  <- plot_roc_df %>% dplyr::select(Group)\n",
    "    }\n",
    "    else {\n",
    "        Specificities <- cbind(Specificities, plot_roc_df %>% dplyr::select(Specificity))\n",
    "        Sensitivities <- cbind(Sensitivities, plot_roc_df %>% dplyr::select(Sensitivity))\n",
    "    }\n",
    "    \n",
    "    #IRdisplay::display(all_plot_roc_df)\n",
    "\n",
    "}\n",
    "Specificities <- tibble(Specificities, .name_repair = \"unique\")\n",
    "Specificities <- Specificities %>% mutate(mean = rowMeans(across()))\n",
    "Sensitivities <- tibble(Sensitivities, .name_repair = \"unique\")\n",
    "Sensitivities <- Sensitivities %>% mutate(mean = rowMeans(across()))\n",
    "\n",
    "(AUCs <- tibble(AUCs))\n",
    "\n",
    "all_sensitivity_specificity <- tibble(Specificity = Specificities$mean, Sensitivity = Sensitivities$mean, Group = Groups$Group)\n",
    "head(all_sensitivity_specificity)"
   ]
  },
  {
   "cell_type": "code",
   "execution_count": 41,
   "id": "01b0d941-3507-41a9-a9df-0e061488c365",
   "metadata": {},
   "outputs": [
    {
     "data": {
      "image/png": "[encoded data removed]",
      "text/plain": [
       "plot without title"
      ]
     },
     "metadata": {},
     "output_type": "display_data"
    }
   ],
   "source": [
    "ggplot(all_sensitivity_specificity, aes(x = 1-Specificity, y=Sensitivity)) +\n",
    "  geom_path(aes(color = Group), size=1) +\n",
    "  geom_segment(aes(x = 0, y = 0, xend = 1, yend = 1), \n",
    "                        colour='grey', linetype = 'dotdash') +\n",
    "  theme_bw() + \n",
    "  theme(plot.title = element_text(hjust = 0.5), \n",
    "                 legend.justification=c(1, 0), legend.position=c(.95, .05),\n",
    "                 legend.title=element_blank(), \n",
    "                 legend.background = element_rect(fill=NULL, size=0.5, \n",
    "                                                           linetype=\"solid\", colour =\"black\"))"
   ]
  },
  {
   "cell_type": "code",
   "execution_count": 42,
   "id": "bedaee93-6804-45bb-87f5-ccb023b5e408",
   "metadata": {},
   "outputs": [
    {
     "name": "stdout",
     "output_type": "stream",
     "text": [
      "[1] \"Mean AUC over 10 repetitions of 10-fold CV: \"\n"
     ]
    },
    {
     "data": {
      "text/html": [
       "<dl class=dl-horizontal>\n",
       "\t<dt>lasso.Bile_Duct_Cancer</dt>\n",
       "\t\t<dd>0.688402010050251</dd>\n",
       "\t<dt>lasso.Breast_Cancer</dt>\n",
       "\t\t<dd>0.609168925022584</dd>\n",
       "\t<dt>lasso.Colorectal_Cancer</dt>\n",
       "\t\t<dd>0.544836272040302</dd>\n",
       "\t<dt>lasso.Gastric_cancer</dt>\n",
       "\t\t<dd>0.406518892630004</dd>\n",
       "\t<dt>lasso.Healthy</dt>\n",
       "\t\t<dd>0.688072300004502</dd>\n",
       "\t<dt>lasso.Lung_Cancer</dt>\n",
       "\t\t<dd>0.593483063328424</dd>\n",
       "\t<dt>lasso.Ovarian_Cancer</dt>\n",
       "\t\t<dd>0.45371609403255</dd>\n",
       "\t<dt>lasso.Pancreatic_Cancer</dt>\n",
       "\t\t<dd>0.635483139271133</dd>\n",
       "\t<dt>lasso.macro</dt>\n",
       "\t\t<dd>0.577457064445401</dd>\n",
       "\t<dt>lasso.micro</dt>\n",
       "\t\t<dd>0.733400239360704</dd>\n",
       "</dl>\n"
      ],
      "text/latex": [
       "\\begin{description*}\n",
       "\\item[lasso.Bile\\textbackslash{}\\_Duct\\textbackslash{}\\_Cancer] 0.688402010050251\n",
       "\\item[lasso.Breast\\textbackslash{}\\_Cancer] 0.609168925022584\n",
       "\\item[lasso.Colorectal\\textbackslash{}\\_Cancer] 0.544836272040302\n",
       "\\item[lasso.Gastric\\textbackslash{}\\_cancer] 0.406518892630004\n",
       "\\item[lasso.Healthy] 0.688072300004502\n",
       "\\item[lasso.Lung\\textbackslash{}\\_Cancer] 0.593483063328424\n",
       "\\item[lasso.Ovarian\\textbackslash{}\\_Cancer] 0.45371609403255\n",
       "\\item[lasso.Pancreatic\\textbackslash{}\\_Cancer] 0.635483139271133\n",
       "\\item[lasso.macro] 0.577457064445401\n",
       "\\item[lasso.micro] 0.733400239360704\n",
       "\\end{description*}\n"
      ],
      "text/markdown": [
       "lasso.Bile_Duct_Cancer\n",
       ":   0.688402010050251lasso.Breast_Cancer\n",
       ":   0.609168925022584lasso.Colorectal_Cancer\n",
       ":   0.544836272040302lasso.Gastric_cancer\n",
       ":   0.406518892630004lasso.Healthy\n",
       ":   0.688072300004502lasso.Lung_Cancer\n",
       ":   0.593483063328424lasso.Ovarian_Cancer\n",
       ":   0.45371609403255lasso.Pancreatic_Cancer\n",
       ":   0.635483139271133lasso.macro\n",
       ":   0.577457064445401lasso.micro\n",
       ":   0.733400239360704\n",
       "\n"
      ],
      "text/plain": [
       " lasso.Bile_Duct_Cancer     lasso.Breast_Cancer lasso.Colorectal_Cancer \n",
       "              0.6884020               0.6091689               0.5448363 \n",
       "   lasso.Gastric_cancer           lasso.Healthy       lasso.Lung_Cancer \n",
       "              0.4065189               0.6880723               0.5934831 \n",
       "   lasso.Ovarian_Cancer lasso.Pancreatic_Cancer             lasso.macro \n",
       "              0.4537161               0.6354831               0.5774571 \n",
       "            lasso.micro \n",
       "              0.7334002 "
      ]
     },
     "metadata": {},
     "output_type": "display_data"
    }
   ],
   "source": [
    "print(\"Mean AUC over 10 repetitions of 10-fold CV: \")\n",
    "(mean_AUCs <- colMeans(AUCs[sapply(AUCs, is.numeric)]))"
   ]
  },
  {
   "cell_type": "code",
   "execution_count": 44,
   "id": "405d4a31-68ea-415b-abdc-07c9dec949f1",
   "metadata": {},
   "outputs": [
    {
     "data": {
      "text/html": [
       "<table>\n",
       "<thead><tr><th scope=col>Bile_Duct_Cancer</th><th scope=col>Breast_Cancer</th><th scope=col>Colorectal_Cancer</th><th scope=col>Gastric_cancer</th><th scope=col>Healthy</th><th scope=col>Lung_Cancer</th><th scope=col>Ovarian_Cancer</th><th scope=col>Pancreatic_Cancer</th><th scope=col>pred01</th><th scope=col>CV_rep</th><th scope=col>observed</th></tr></thead>\n",
       "<tbody>\n",
       "\t<tr><td>0.0050989083     </td><td>0.020591774      </td><td>0.8889104901     </td><td>2.353630e-02     </td><td>0.04777009       </td><td>0.009836656      </td><td>0.001813016      </td><td>0.002442760      </td><td>Colorectal_Cancer</td><td>1                </td><td>Gastric_cancer   </td></tr>\n",
       "\t<tr><td>0.0042906739     </td><td>0.018092204      </td><td>0.0495527560     </td><td>2.598575e-02     </td><td>0.88651523       </td><td>0.001576407      </td><td>0.006015458      </td><td>0.007971523      </td><td>Healthy          </td><td>1                </td><td>Gastric_cancer   </td></tr>\n",
       "\t<tr><td>0.2289938527     </td><td>0.001752437      </td><td>0.0050313191     </td><td>2.530297e-05     </td><td>0.01581620       </td><td>0.001217904      </td><td>0.002022685      </td><td>0.745140296      </td><td>Pancreatic_Cancer</td><td>1                </td><td>Gastric_cancer   </td></tr>\n",
       "\t<tr><td>0.0025384461     </td><td>0.165450422      </td><td>0.2021513254     </td><td>1.424481e-02     </td><td>0.52219527       </td><td>0.024895876      </td><td>0.016906956      </td><td>0.051616901      </td><td>Healthy          </td><td>1                </td><td>Gastric_cancer   </td></tr>\n",
       "\t<tr><td>0.0007723389     </td><td>0.611388139      </td><td>0.0348993779     </td><td>3.849762e-02     </td><td>0.28140442       </td><td>0.010001294      </td><td>0.007948325      </td><td>0.015088493      </td><td>Breast_Cancer    </td><td>1                </td><td>Ovarian_Cancer   </td></tr>\n",
       "\t<tr><td>0.0566156582     </td><td>0.038597604      </td><td>0.0002022403     </td><td>7.115857e-03     </td><td>0.83041866       </td><td>0.055154535      </td><td>0.002787102      </td><td>0.009108341      </td><td>Healthy          </td><td>1                </td><td>Ovarian_Cancer   </td></tr>\n",
       "</tbody>\n",
       "</table>\n"
      ],
      "text/latex": [
       "\\begin{tabular}{r|lllllllllll}\n",
       " Bile\\_Duct\\_Cancer & Breast\\_Cancer & Colorectal\\_Cancer & Gastric\\_cancer & Healthy & Lung\\_Cancer & Ovarian\\_Cancer & Pancreatic\\_Cancer & pred01 & CV\\_rep & observed\\\\\n",
       "\\hline\n",
       "\t 0.0050989083        & 0.020591774         & 0.8889104901        & 2.353630e-02        & 0.04777009          & 0.009836656         & 0.001813016         & 0.002442760         & Colorectal\\_Cancer & 1                   & Gastric\\_cancer   \\\\\n",
       "\t 0.0042906739      & 0.018092204       & 0.0495527560      & 2.598575e-02      & 0.88651523        & 0.001576407       & 0.006015458       & 0.007971523       & Healthy           & 1                 & Gastric\\_cancer \\\\\n",
       "\t 0.2289938527        & 0.001752437         & 0.0050313191        & 2.530297e-05        & 0.01581620          & 0.001217904         & 0.002022685         & 0.745140296         & Pancreatic\\_Cancer & 1                   & Gastric\\_cancer   \\\\\n",
       "\t 0.0025384461      & 0.165450422       & 0.2021513254      & 1.424481e-02      & 0.52219527        & 0.024895876       & 0.016906956       & 0.051616901       & Healthy           & 1                 & Gastric\\_cancer \\\\\n",
       "\t 0.0007723389        & 0.611388139         & 0.0348993779        & 3.849762e-02        & 0.28140442          & 0.010001294         & 0.007948325         & 0.015088493         & Breast\\_Cancer     & 1                   & Ovarian\\_Cancer   \\\\\n",
       "\t 0.0566156582      & 0.038597604       & 0.0002022403      & 7.115857e-03      & 0.83041866        & 0.055154535       & 0.002787102       & 0.009108341       & Healthy           & 1                 & Ovarian\\_Cancer \\\\\n",
       "\\end{tabular}\n"
      ],
      "text/markdown": [
       "\n",
       "| Bile_Duct_Cancer | Breast_Cancer | Colorectal_Cancer | Gastric_cancer | Healthy | Lung_Cancer | Ovarian_Cancer | Pancreatic_Cancer | pred01 | CV_rep | observed |\n",
       "|---|---|---|---|---|---|---|---|---|---|---|\n",
       "| 0.0050989083      | 0.020591774       | 0.8889104901      | 2.353630e-02      | 0.04777009        | 0.009836656       | 0.001813016       | 0.002442760       | Colorectal_Cancer | 1                 | Gastric_cancer    |\n",
       "| 0.0042906739      | 0.018092204       | 0.0495527560      | 2.598575e-02      | 0.88651523        | 0.001576407       | 0.006015458       | 0.007971523       | Healthy           | 1                 | Gastric_cancer    |\n",
       "| 0.2289938527      | 0.001752437       | 0.0050313191      | 2.530297e-05      | 0.01581620        | 0.001217904       | 0.002022685       | 0.745140296       | Pancreatic_Cancer | 1                 | Gastric_cancer    |\n",
       "| 0.0025384461      | 0.165450422       | 0.2021513254      | 1.424481e-02      | 0.52219527        | 0.024895876       | 0.016906956       | 0.051616901       | Healthy           | 1                 | Gastric_cancer    |\n",
       "| 0.0007723389      | 0.611388139       | 0.0348993779      | 3.849762e-02      | 0.28140442        | 0.010001294       | 0.007948325       | 0.015088493       | Breast_Cancer     | 1                 | Ovarian_Cancer    |\n",
       "| 0.0566156582      | 0.038597604       | 0.0002022403      | 7.115857e-03      | 0.83041866        | 0.055154535       | 0.002787102       | 0.009108341       | Healthy           | 1                 | Ovarian_Cancer    |\n",
       "\n"
      ],
      "text/plain": [
       "  Bile_Duct_Cancer Breast_Cancer Colorectal_Cancer Gastric_cancer Healthy   \n",
       "1 0.0050989083     0.020591774   0.8889104901      2.353630e-02   0.04777009\n",
       "2 0.0042906739     0.018092204   0.0495527560      2.598575e-02   0.88651523\n",
       "3 0.2289938527     0.001752437   0.0050313191      2.530297e-05   0.01581620\n",
       "4 0.0025384461     0.165450422   0.2021513254      1.424481e-02   0.52219527\n",
       "5 0.0007723389     0.611388139   0.0348993779      3.849762e-02   0.28140442\n",
       "6 0.0566156582     0.038597604   0.0002022403      7.115857e-03   0.83041866\n",
       "  Lung_Cancer Ovarian_Cancer Pancreatic_Cancer pred01            CV_rep\n",
       "1 0.009836656 0.001813016    0.002442760       Colorectal_Cancer 1     \n",
       "2 0.001576407 0.006015458    0.007971523       Healthy           1     \n",
       "3 0.001217904 0.002022685    0.745140296       Pancreatic_Cancer 1     \n",
       "4 0.024895876 0.016906956    0.051616901       Healthy           1     \n",
       "5 0.010001294 0.007948325    0.015088493       Breast_Cancer     1     \n",
       "6 0.055154535 0.002787102    0.009108341       Healthy           1     \n",
       "  observed      \n",
       "1 Gastric_cancer\n",
       "2 Gastric_cancer\n",
       "3 Gastric_cancer\n",
       "4 Gastric_cancer\n",
       "5 Ovarian_Cancer\n",
       "6 Ovarian_Cancer"
      ]
     },
     "metadata": {},
     "output_type": "display_data"
    }
   ],
   "source": [
    "results01 <- tibble()\n",
    "\n",
    "for (i in 1:k_outer_cv){\n",
    "    res_CV <- results %>% filter(CV_rep == i)\n",
    "    obs_rep <- res_CV %>% dplyr::select(c(CV_rep, observed))\n",
    "    res_CV <- res_CV %>% dplyr::select(-c(CV_rep, observed))\n",
    "    res_CV <- res_CV %>% mutate(pred01 = factor(colnames(res_CV)[apply(res_CV,1,which.max)], ordered = TRUE))\n",
    "    res_CV <- cbind(res_CV, obs_rep)\n",
    "    results01 <- rbind(results01, res_CV)\n",
    "}\n",
    "\n",
    "head(results01)"
   ]
  },
  {
   "cell_type": "code",
   "execution_count": 45,
   "id": "50dde3f5-f64c-4f05-ab4b-3cb1553d16d0",
   "metadata": {},
   "outputs": [
    {
     "data": {
      "text/html": [
       "<ol class=list-inline>\n",
       "\t<li>0.569739952718676</li>\n",
       "\t<li>0.583924349881797</li>\n",
       "\t<li>0.567375886524823</li>\n",
       "\t<li>0.569739952718676</li>\n",
       "\t<li>0.581560283687943</li>\n",
       "\t<li>0.565011820330969</li>\n",
       "\t<li>0.576832151300236</li>\n",
       "\t<li>0.583924349881797</li>\n",
       "\t<li>0.588652482269504</li>\n",
       "\t<li>0.607565011820331</li>\n",
       "</ol>\n"
      ],
      "text/latex": [
       "\\begin{enumerate*}\n",
       "\\item 0.569739952718676\n",
       "\\item 0.583924349881797\n",
       "\\item 0.567375886524823\n",
       "\\item 0.569739952718676\n",
       "\\item 0.581560283687943\n",
       "\\item 0.565011820330969\n",
       "\\item 0.576832151300236\n",
       "\\item 0.583924349881797\n",
       "\\item 0.588652482269504\n",
       "\\item 0.607565011820331\n",
       "\\end{enumerate*}\n"
      ],
      "text/markdown": [
       "1. 0.569739952718676\n",
       "2. 0.583924349881797\n",
       "3. 0.567375886524823\n",
       "4. 0.569739952718676\n",
       "5. 0.581560283687943\n",
       "6. 0.565011820330969\n",
       "7. 0.576832151300236\n",
       "8. 0.583924349881797\n",
       "9. 0.588652482269504\n",
       "10. 0.607565011820331\n",
       "\n",
       "\n"
      ],
      "text/plain": [
       " [1] 0.5697400 0.5839243 0.5673759 0.5697400 0.5815603 0.5650118 0.5768322\n",
       " [8] 0.5839243 0.5886525 0.6075650"
      ]
     },
     "metadata": {},
     "output_type": "display_data"
    },
    {
     "data": {
      "text/html": [
       "<ol class=list-inline>\n",
       "\t<li>0.430260047281324</li>\n",
       "\t<li>0.416075650118203</li>\n",
       "\t<li>0.432624113475177</li>\n",
       "\t<li>0.430260047281324</li>\n",
       "\t<li>0.418439716312057</li>\n",
       "\t<li>0.434988179669031</li>\n",
       "\t<li>0.423167848699764</li>\n",
       "\t<li>0.416075650118203</li>\n",
       "\t<li>0.411347517730496</li>\n",
       "\t<li>0.392434988179669</li>\n",
       "</ol>\n"
      ],
      "text/latex": [
       "\\begin{enumerate*}\n",
       "\\item 0.430260047281324\n",
       "\\item 0.416075650118203\n",
       "\\item 0.432624113475177\n",
       "\\item 0.430260047281324\n",
       "\\item 0.418439716312057\n",
       "\\item 0.434988179669031\n",
       "\\item 0.423167848699764\n",
       "\\item 0.416075650118203\n",
       "\\item 0.411347517730496\n",
       "\\item 0.392434988179669\n",
       "\\end{enumerate*}\n"
      ],
      "text/markdown": [
       "1. 0.430260047281324\n",
       "2. 0.416075650118203\n",
       "3. 0.432624113475177\n",
       "4. 0.430260047281324\n",
       "5. 0.418439716312057\n",
       "6. 0.434988179669031\n",
       "7. 0.423167848699764\n",
       "8. 0.416075650118203\n",
       "9. 0.411347517730496\n",
       "10. 0.392434988179669\n",
       "\n",
       "\n"
      ],
      "text/plain": [
       " [1] 0.4302600 0.4160757 0.4326241 0.4302600 0.4184397 0.4349882 0.4231678\n",
       " [8] 0.4160757 0.4113475 0.3924350"
      ]
     },
     "metadata": {},
     "output_type": "display_data"
    },
    {
     "data": {
      "text/html": [
       "'Mean error rate over 10 repetitions of 10-fold CV: 0.579432624113475'"
      ],
      "text/latex": [
       "'Mean error rate over 10 repetitions of 10-fold CV: 0.579432624113475'"
      ],
      "text/markdown": [
       "'Mean error rate over 10 repetitions of 10-fold CV: 0.579432624113475'"
      ],
      "text/plain": [
       "[1] \"Mean error rate over 10 repetitions of 10-fold CV: 0.579432624113475\""
      ]
     },
     "metadata": {},
     "output_type": "display_data"
    },
    {
     "data": {
      "text/html": [
       "'Mean accuracy over 10 repetitions of 10-fold CV: 0.420567375886525'"
      ],
      "text/latex": [
       "'Mean accuracy over 10 repetitions of 10-fold CV: 0.420567375886525'"
      ],
      "text/markdown": [
       "'Mean accuracy over 10 repetitions of 10-fold CV: 0.420567375886525'"
      ],
      "text/plain": [
       "[1] \"Mean accuracy over 10 repetitions of 10-fold CV: 0.420567375886525\""
      ]
     },
     "metadata": {},
     "output_type": "display_data"
    }
   ],
   "source": [
    "error_rates <- c()\n",
    "accuracies <- c()\n",
    "for (i in 1:k_outer_cv){\n",
    "    res_CV <- results01 %>% filter(CV_rep == i)\n",
    "    error_rates <- c(error_rates, mean(as.character(res_CV$observed) != as.character(res_CV$pred01)))\n",
    "    accuracies <- c(accuracies, mean(as.character(res_CV$observed) == as.character(res_CV$pred01)))\n",
    "}\n",
    "\n",
    "error_rates\n",
    "accuracies\n",
    "\n",
    "paste(\"Mean error rate over 10 repetitions of 10-fold CV: \", mean(error_rates), sep = \"\")\n",
    "paste(\"Mean accuracy over 10 repetitions of 10-fold CV: \", mean(accuracies), sep = \"\")"
   ]
  },
  {
   "cell_type": "code",
   "execution_count": null,
   "id": "c1effd49-e492-4482-bb75-f5cfac8cd020",
   "metadata": {},
   "outputs": [],
   "source": []
  },
  {
   "cell_type": "code",
   "execution_count": null,
   "id": "848ee62c-288a-42d6-829b-391a1932cb52",
   "metadata": {},
   "outputs": [],
   "source": []
  },
  {
   "cell_type": "code",
   "execution_count": null,
   "id": "f604372a-a11c-4ba6-8507-fc88bfc8b6bd",
   "metadata": {},
   "outputs": [],
   "source": []
  },
  {
   "cell_type": "code",
   "execution_count": null,
   "id": "9aa48985-114b-47a2-8f48-b9e6f31fff42",
   "metadata": {},
   "outputs": [],
   "source": []
  },
  {
   "cell_type": "code",
   "execution_count": null,
   "id": "f07c300c-5968-4586-b8c4-43de67e99493",
   "metadata": {},
   "outputs": [],
   "source": []
  }
 ],
 "metadata": {
  "kernelspec": {
   "display_name": "R",
   "language": "R",
   "name": "ir"
  },
  "language_info": {
   "codemirror_mode": "r",
   "file_extension": ".r",
   "mimetype": "text/x-r-source",
   "name": "R",
   "pygments_lexer": "r",
   "version": "3.6.1"
  }
 },
 "nbformat": 4,
 "nbformat_minor": 5
}
