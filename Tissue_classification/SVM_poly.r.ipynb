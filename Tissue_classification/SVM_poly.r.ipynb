{
 "cells": [
  {
   "cell_type": "code",
   "execution_count": null,
   "id": "99fb5823-865d-4c34-80f5-42a82e1408a8",
   "metadata": {},
   "outputs": [],
   "source": [
    "library(tidyverse)\n",
    "library(gbm)\n",
    "install.packages(\"caret\")\n",
    "library(caret)\n",
    "library(pROC)\n",
    "install.packages(\"kernlab\")\n",
    "library(kernlab)\n",
    "\n",
    "install.packages(\"splitTools\")\n",
    "library(splitTools)\n",
    "\n",
    "install.packages('multiROC')\n",
    "library(multiROC)\n",
    "\n",
    "install.packages('dummies')\n",
    "library(dummies)"
   ]
  },
  {
   "cell_type": "code",
   "execution_count": null,
   "id": "e7362b7f-280a-4b93-b831-c0e0c14e738f",
   "metadata": {},
   "outputs": [],
   "source": [
    "ATAC_pred <-  readRDS(snakemake@input[[\"input_predictions\"]])\n",
    "#ATAC_pred <- readRDS(\"../data/ATAC_predictions_train_20_predict_80/ATAC_pred_lasso_normalized_trimmed_formatted_standardized.rds\")\n",
    "\n",
    "head(ATAC_pred)"
   ]
  },
  {
   "cell_type": "code",
   "execution_count": null,
   "id": "ead925c5-7c13-49cb-8280-421d58e96120",
   "metadata": {},
   "outputs": [],
   "source": [
    "sample_types <- readRDS(snakemake@input[[\"input_sample_types\"]])\n",
    "#sample_types <- read.table(file = \"../data/sample_types.txt\", header = F, sep = \" \")\n",
    "\n",
    "colnames(sample_types) <- c(\"sample\", \"sample_type\")\n",
    "head(sample_types)"
   ]
  },
  {
   "cell_type": "code",
   "execution_count": null,
   "id": "b1668148-8939-4d5a-a3d5-cdac3f0fe04a",
   "metadata": {},
   "outputs": [],
   "source": [
    "data <- merge(ATAC_pred, sample_types, by=\"sample\")\n",
    "#data <- data %>% mutate(sample_type01 = ifelse(sample_type == \"Healthy\", \"Healthy\", \"Cancer\"))\n",
    "\n",
    "head(data)"
   ]
  },
  {
   "cell_type": "code",
   "execution_count": null,
   "id": "a30bbedb-2952-4b34-92d1-e92b90d0cde7",
   "metadata": {},
   "outputs": [],
   "source": [
    "data %>% group_by(sample_type) %>% summarize(n = n())\n",
    "data <-subset(data, sample_type != \"Duodenal_Cancer\")\n",
    "data$sample_type <- as.factor(data$sample_type)\n",
    "data <- data %>% droplevels(\"Duodenal_Cancer\")\n",
    "data %>% group_by(sample_type) %>% summarize(n = n())"
   ]
  },
  {
   "cell_type": "code",
   "execution_count": null,
   "id": "40e3e831-dc64-47e9-b99a-54ae086ee17c",
   "metadata": {},
   "outputs": [],
   "source": [
    "data <- data %>% select(-sample)\n",
    "head(data)"
   ]
  },
  {
   "cell_type": "code",
   "execution_count": null,
   "id": "c50cee85-0fe5-4e01-b18c-da39c7479b85",
   "metadata": {},
   "outputs": [],
   "source": [
    "cross_validation <- function(dataset, k_inner_cv, k_outer_cv){\n",
    "    \n",
    "    observed_all  <- dataset$sample_type\n",
    "    classes <- unique(observed_all)\n",
    "    return_tibble <- tibble(observed = rep(observed_all, k_outer_cv), \n",
    "                            CV_rep = rep(1:k_outer_cv, each=nrow(dataset)))\n",
    "    \n",
    "     for(class in 1:length(unique(observed_all))){\n",
    "        observed <- ifelse(observed_all==classes[class], 1, 0)\n",
    "        return_vector_for_class <- c()\n",
    "        \n",
    "        for (i in 1:k_outer_cv){ # repeated Cross-validation loop\n",
    "\n",
    "            set.seed(i)\n",
    "            #cvfolds <- cut(seq_len(nrow(dataset)), breaks = k_inner_cv, labels = F)\n",
    "            #cvfolds <- sample(cvfolds)\n",
    "\n",
    "            folds <- create_folds(observed, k = k_inner_cv)\n",
    "            predicted <- rep(NA, nrow(dataset))\n",
    "\n",
    "            for (fold in folds){\n",
    "                #rows      <- which(cvfolds==n)\n",
    "                testdata  <- dataset[-fold,]\n",
    "                testdata <- testdata %>% select(-sample_type)\n",
    "\n",
    "                traindata <- dataset[fold,]\n",
    "                traindata$sample_type <- ifelse(traindata$sample_type==classes[class], 1, 0)\n",
    "\n",
    "                ################# Nested cross validation #######################\n",
    "                set.seed(0)\n",
    "                seeds <- vector(mode = \"list\", length = 11)\n",
    "                for(i in 1:10) seeds[[i]]<- sample.int(n=2000, 1200)\n",
    "                #for the last model\n",
    "                seeds[[11]]<-sample.int(1000, 1)\n",
    "\n",
    "                trControl_svm <- trainControl(method = \"repeatedcv\", \n",
    "                                              seeds = seeds,\n",
    "                                              number = 10, \n",
    "                                              repeats = 1, \n",
    "                                              classProbs = TRUE,\n",
    "                                              verboseIter = ifelse(is.null(getOption('knitr.in.progress')), TRUE, FALSE))\n",
    "\n",
    "                #svmGrid <- expand.grid(C = c(0.01, 0.1, 0.5, 1, 2, 3, 4, 5, 6, 7))\n",
    "\n",
    "                fit <- train(sample_type ~ .,\n",
    "                             data = traindata, \n",
    "                             method = \"svmPoly\",\n",
    "                             tuneLength = 10,\n",
    "                             trControl = trControl_svm,\n",
    "                             preProc = c(\"center\", \"scale\"),\n",
    "                             verbose=F)\n",
    "\n",
    "                message(plot(fit))\n",
    "                message(\"besttune\")\n",
    "                message(fit$bestTune)\n",
    "                message(\"fit\")\n",
    "                message(fit)\n",
    "                #################################################################\n",
    "\n",
    "                fitControl <- trainControl(classProbs = TRUE)\n",
    "                fit2 <- train(sample_type ~ .,\n",
    "                             data = traindata,\n",
    "                             method =  \"svmPoly\",\n",
    "                             trControl = fitControl,\n",
    "                             verbose = FALSE,\n",
    "                             tuneGrid = data.frame(C = fit$bestTune$C, \n",
    "                                                   degree = fit$bestTune$degree, \n",
    "                                                   scale = fit$bestTune$scale),\n",
    "                             preProc = c(\"center\", \"scale\"))\n",
    "\n",
    "                tmp <- predict(fit2, newdata = testdata, type = \"prob\")[,2]\n",
    "                predicted[-fold] <- tmp\n",
    "                }\n",
    "\n",
    "            return_vector_for_class <- c(return_vector_for_class, predicted)\n",
    "            } # end of outer cv loop\n",
    "\n",
    "    return_tibble <- cbind(return_tibble, tibble(\"{classes[class]}_pred\" := return_vector_for_class))\n",
    "    }\n",
    "    return(return_tibble)\n",
    "}"
   ]
  },
  {
   "cell_type": "code",
   "execution_count": null,
   "id": "852041f7-2016-4d33-9220-7d586bf20c7d",
   "metadata": {},
   "outputs": [],
   "source": [
    "k_outer_cv = 10\n",
    "results <- cross_validation(data, k_inner_cv = 10, k_outer_cv = k_outer_cv)"
   ]
  },
  {
   "cell_type": "code",
   "execution_count": null,
   "id": "92cf405a-d129-418b-9d4e-d3b9306c15c7",
   "metadata": {},
   "outputs": [],
   "source": [
    "head(results)"
   ]
  },
  {
   "cell_type": "code",
   "execution_count": null,
   "id": "0469dbd3-9c9c-48a4-8a7e-4a4b718f1906",
   "metadata": {},
   "outputs": [],
   "source": [
    "saveRDS(results, file = snakemake@output[[\"SVM_output\"]])"
   ]
  },
  {
   "cell_type": "markdown",
   "id": "78184e52-3b43-40ab-9d52-15cae986cbcb",
   "metadata": {},
   "source": [
    "## AUC calculation with pROC package == One vs. one"
   ]
  },
  {
   "cell_type": "code",
   "execution_count": null,
   "id": "a10806e2-6f64-4ff7-93b5-89cb660049df",
   "metadata": {},
   "outputs": [],
   "source": [
    "rocs <- list()\n",
    "list_names <- paste0(\"CV_rep_\", 1:k_outer_cv)\n",
    "for (i in 1:k_outer_cv){\n",
    "    res_CV <- results %>% filter(CV_rep == i) %>% select(-c(CV_rep, observed))\n",
    "    res_CV <- \n",
    "    roc <- multiclass.roc(response = data$sample_type, predictor = res_CV)\n",
    "    rocs[[i]] <- roc\n",
    "}\n",
    "names(rocs) <- c(list_names)\n",
    "\n",
    "paste0(\"The AUC of the first CV repetition: \", rocs[[1]]$auc)\n",
    "\n",
    "aucs <- c()\n",
    "for (i in 1:length(rocs)){\n",
    "    aucs <- c(aucs, rocs[[i]]$auc) \n",
    "}\n",
    "\n",
    "paste0(\"The mean AUC of all the CV repetitions: \", mean(aucs))"
   ]
  },
  {
   "cell_type": "markdown",
   "id": "829a0695-6744-4945-a66f-28909698832d",
   "metadata": {},
   "source": [
    "# AUC calculation with multiROC package == One vs. rest, and plotting"
   ]
  },
  {
   "cell_type": "code",
   "execution_count": null,
   "id": "fe5389ae-bcd0-4569-8d25-3c11a7fefd28",
   "metadata": {},
   "outputs": [],
   "source": [
    "Specificities <- NULL\n",
    "Sensitivities <- NULL\n",
    "\n",
    "for (i in 1:k_outer_cv){\n",
    "    res_CV <- data.frame(results %>% filter(CV_rep == i) %>% select(-c(CV_rep, observed)))\n",
    "    \n",
    "    colnames(res_CV) <- paste(colnames(res_CV), \"_pred_lasso\", sep = \"\")\n",
    "\n",
    "    true_label <- dummies::dummy(data$sample_type, sep = \".\")\n",
    "    true_label <- data.frame(true_label)\n",
    "    colnames(true_label) <- gsub(\".*?\\\\.\", \"\", colnames(true_label))\n",
    "    colnames(true_label) <- paste(colnames(true_label), \"_true\", sep = \"\")\n",
    "    final_df <- cbind(true_label, res_CV)\n",
    "\n",
    "    roc_res <- multi_roc(final_df, force_diag=T)\n",
    "    \n",
    "    if (i == 1){\n",
    "        AUCs <- as.data.frame(t(unlist(roc_res$AUC)))\n",
    "    }\n",
    "    else {\n",
    "        AUCs <- rbind(AUCs, as.data.frame(t(unlist(roc_res$AUC))))\n",
    "    }\n",
    "    \n",
    "    plot_roc_df <- plot_roc_data(roc_res)\n",
    "    plot_roc_df <- plot_roc_df %>% select(-Method)\n",
    "    \n",
    "    if (i == 1){\n",
    "        Specificities <- plot_roc_df %>% select(Specificity)\n",
    "        Sensitivities <- plot_roc_df %>% select(Sensitivity)\n",
    "        Groups  <- plot_roc_df %>% select(Group)\n",
    "    }\n",
    "    else {\n",
    "        Specificities <- cbind(Specificities, plot_roc_df %>% select(Specificity))\n",
    "        Sensitivities <- cbind(Sensitivities, plot_roc_df %>% select(Sensitivity))\n",
    "    }\n",
    "    \n",
    "    #IRdisplay::display(all_plot_roc_df)\n",
    "\n",
    "}\n",
    "Specificities <- tibble(Specificities, .name_repair = \"unique\")\n",
    "Specificities <- Specificities %>% mutate(mean = rowMeans(across()))\n",
    "Sensitivities <- tibble(Sensitivities, .name_repair = \"unique\")\n",
    "Sensitivities <- Sensitivities %>% mutate(mean = rowMeans(across()))\n",
    "\n",
    "(AUCs <- tibble(AUCs))\n",
    "\n",
    "all_sensitivity_specificity <- tibble(Specificity = Specificities$mean, Sensitivity = Sensitivities$mean, Group = Groups$Group)\n",
    "head(all_sensitivity_specificity)"
   ]
  },
  {
   "cell_type": "code",
   "execution_count": null,
   "id": "7d60d177-982e-495c-8003-1d19d1504a85",
   "metadata": {},
   "outputs": [],
   "source": [
    "ggplot(all_sensitivity_specificity, aes(x = 1-Specificity, y=Sensitivity)) +\n",
    "  geom_path(aes(color = Group), size=1) +\n",
    "  geom_segment(aes(x = 0, y = 0, xend = 1, yend = 1), \n",
    "                        colour='grey', linetype = 'dotdash') +\n",
    "  theme_bw() + \n",
    "  theme(plot.title = element_text(hjust = 0.5), \n",
    "                 legend.justification=c(1, 0), legend.position=c(.95, .05),\n",
    "                 legend.title=element_blank(), \n",
    "                 legend.background = element_rect(fill=NULL, size=0.5, \n",
    "                                                           linetype=\"solid\", colour =\"black\"))"
   ]
  },
  {
   "cell_type": "code",
   "execution_count": null,
   "id": "54d7f1b7-1e2e-4669-9027-3333b850ec11",
   "metadata": {},
   "outputs": [],
   "source": [
    "print(\"Mean AUC over 10 repetitions of 10-fold CV: \")\n",
    "(mean_AUCs <- colMeans(AUCs[sapply(AUCs, is.numeric)]))"
   ]
  },
  {
   "cell_type": "code",
   "execution_count": null,
   "id": "8f5671b2-a3e3-4c07-92e0-e6ce06f1019a",
   "metadata": {},
   "outputs": [],
   "source": [
    "results01 <- tibble()\n",
    "\n",
    "for (i in 1:k_outer_cv){\n",
    "    res_CV <- results %>% filter(CV_rep == i)\n",
    "    obs_rep <- res_CV %>% select(c(CV_rep, observed))\n",
    "    res_CV <- res_CV %>% select(-c(CV_rep, observed))\n",
    "    res_CV <- res_CV %>% mutate(pred01 = factor(colnames(res_CV)[apply(res_CV,1,which.max)], ordered = TRUE))\n",
    "    res_CV <- cbind(res_CV, obs_rep)\n",
    "    results01 <- rbind(results01, res_CV)\n",
    "}\n",
    "\n",
    "head(results01)"
   ]
  },
  {
   "cell_type": "code",
   "execution_count": null,
   "id": "1567c0eb-0948-412b-ab7a-f7f64e0a6850",
   "metadata": {},
   "outputs": [],
   "source": [
    "error_rates <- c()\n",
    "accuracies <- c()\n",
    "for (i in 1:k_outer_cv){\n",
    "    res_CV <- results01 %>% filter(CV_rep == i)\n",
    "    error_rates <- c(error_rates, mean(as.character(res_CV$observed) != as.character(res_CV$pred01)))\n",
    "    accuracies <- c(accuracies, mean(as.character(res_CV$observed) == as.character(res_CV$pred01)))\n",
    "}\n",
    "\n",
    "error_rates\n",
    "accuracies\n",
    "\n",
    "paste(\"Mean error rate over 10 repetitions of 10-fold CV: \", mean(error_rates), sep = \"\")\n",
    "paste(\"Mean accuracy over 10 repetitions of 10-fold CV: \", mean(accuracies), sep = \"\")"
   ]
  },
  {
   "cell_type": "markdown",
   "id": "277d1c49-530c-4c53-a03b-5e2e24087bb2",
   "metadata": {},
   "source": [
    "### for one vs rest classifier: https://stats.stackexchange.com/questions/71700/how-to-draw-roc-curve-with-three-response-variable/110550#110550"
   ]
  },
  {
   "cell_type": "code",
   "execution_count": null,
   "id": "5430ec00-0dbb-4c80-b323-3a428c502f04",
   "metadata": {},
   "outputs": [],
   "source": [
    "install.packages(\"ROCR\")\n",
    "library(ROCR)\n",
    "install.packages(\"rlist\")\n",
    "library(rlist)"
   ]
  },
  {
   "cell_type": "code",
   "execution_count": null,
   "id": "4728be69-3bad-49cb-b966-6446ee148fea",
   "metadata": {},
   "outputs": [],
   "source": [
    "list_res <- list(predictions = list(), labels = list())\n",
    "str(list_res)"
   ]
  },
  {
   "cell_type": "code",
   "execution_count": null,
   "id": "729625be-f0c0-4c3b-9d8b-7d356e38e454",
   "metadata": {},
   "outputs": [],
   "source": [
    "classes <- unique(data$sample_type)\n",
    "\n",
    "aucs = c()\n",
    "\n",
    "plot(x=NA, y=NA, xlim=c(0,1), ylim=c(0,1),\n",
    "     bty='n')\n",
    "legend_text <- c()\n",
    "\n",
    "for (i in 1:length(classes)) {\n",
    "    for (rep in 1:k_outer_cv){\n",
    "        res_CV <- results %>% filter(CV_rep == rep) %>% select(-c(observed, CV_rep)) \n",
    "        class <- paste0(classes[i], \"\")\n",
    "        pred = pull(res_CV, class)\n",
    "        list.append(list_res$predictions, rep = pred)\n",
    "        obs <- ifelse(data$sample_type == class, 1, 0)\n",
    "        list.append(list_res$labels, rep = obs)\n",
    "        }\n",
    "    pred = prediction(pred, obs)\n",
    "    nbperf = performance(pred, \"tpr\", \"fpr\")\n",
    "    \n",
    "    roc.x = unlist(nbperf@x.values)\n",
    "    roc.y = unlist(nbperf@y.values)\n",
    "    par(new=TRUE)\n",
    "    #lines(roc.y ~ roc.x, col=i+1, lwd=2)\n",
    "    plot(nbperf,\n",
    "     avg='threshold',\n",
    "     lwd=3,\n",
    "     main='Horizontal averaging',\n",
    "     col=i + 1)\n",
    "    legend_text <- c(legend_text, class)\n",
    "\n",
    "\n",
    "    nbauc = performance(pred, \"auc\")\n",
    "    nbauc = unlist(slot(nbauc, \"y.values\"))\n",
    "    aucs <- c(aucs, nbauc)\n",
    "    }\n",
    "\n",
    "lines(x=c(0,1), c(0,1))\n",
    "mean(aucs)\n",
    "aucs\n",
    "legend('bottomright', legend = legend_text, lty = 1, col=2:(length(classes)+1))"
   ]
  }
 ],
 "metadata": {
  "kernelspec": {
   "display_name": "R",
   "language": "R",
   "name": "ir"
  },
  "language_info": {
   "codemirror_mode": "r",
   "file_extension": ".r",
   "mimetype": "text/x-r-source",
   "name": "R",
   "pygments_lexer": "r",
   "version": "3.6.1"
  }
 },
 "nbformat": 4,
 "nbformat_minor": 5
}
