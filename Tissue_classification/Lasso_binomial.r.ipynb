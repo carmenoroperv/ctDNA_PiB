{
 "cells": [
  {
   "cell_type": "code",
   "execution_count": null,
   "id": "646ec4f5-7410-40d9-bebf-b643c512fa3f",
   "metadata": {},
   "outputs": [],
   "source": [
    "library(dplyr)\n",
    "library(class)\n",
    "library(tidyverse)\n",
    "library(pROC)\n",
    "library(glmnet)\n",
    "library(glmnetUtils)\n",
    "\n",
    "install.packages(\"splitTools\")\n",
    "library(splitTools)\n",
    "\n",
    "install.packages('multiROC')\n",
    "library(multiROC)\n",
    "\n",
    "install.packages('dummies')\n",
    "library(dummies)\n",
    "\n",
    "install.packages(\"doParallel\")\n",
    "library(doParallel)\n",
    "\n",
    "install.packages(\"foreach\")\n",
    "library(foreach)\n",
    "\n",
    "install.packages(\"doRNG\")\n",
    "library(doRNG)"
   ]
  },
  {
   "cell_type": "code",
   "execution_count": null,
   "id": "d0c60618-f192-4a26-8fad-5524871fb4d9",
   "metadata": {},
   "outputs": [],
   "source": [
    "#ATAC_pred <- readRDS(snakemake@input[[\"input_predictions\"]])\n",
    "ATAC_pred <- readRDS(\"../data/ATAC_predictions_train_20_predict_80/ATAC_pred_lasso_normalized_trimmed_formatted_standardized.rds\")\n",
    "\n",
    "head(ATAC_pred)"
   ]
  },
  {
   "cell_type": "code",
   "execution_count": null,
   "id": "d4643801-cdf2-4412-abea-047d0796306e",
   "metadata": {},
   "outputs": [],
   "source": [
    "#sample_types <- read.table(snakemake@input[[\"input_sample_types\"]], header = F, sep = \" \")\n",
    "sample_types <- read.table(\"../data/sample_types.txt\", header = F, sep = \" \")\n",
    "\n",
    "colnames(sample_types) <- c(\"sample\", \"sample_type\")\n",
    "head(sample_types)"
   ]
  },
  {
   "cell_type": "code",
   "execution_count": null,
   "id": "dfea9790-88ba-4440-ad00-8e1d1992b9ff",
   "metadata": {},
   "outputs": [],
   "source": [
    "data <- merge(ATAC_pred, sample_types, by=\"sample\")\n",
    "#data <- data %>% mutate(sample_type01 = ifelse(sample_type == \"Healthy\", 0, 1))\n",
    "head(data)"
   ]
  },
  {
   "cell_type": "code",
   "execution_count": null,
   "id": "0a36aec4-335b-48f6-9e26-afdb4b5817d5",
   "metadata": {},
   "outputs": [],
   "source": [
    "data %>% group_by(sample_type) %>% summarize(n = n())\n",
    "data <-subset(data, sample_type != \"Duodenal_Cancer\")\n",
    "data$sample_type <- as.factor(data$sample_type)\n",
    "data <- data %>% droplevels(\"Duodenal_Cancer\")\n",
    "data %>% group_by(sample_type) %>% summarize(n = n())"
   ]
  },
  {
   "cell_type": "code",
   "execution_count": null,
   "id": "822cdbc2-ef8d-4313-b97f-b6238af6f313",
   "metadata": {},
   "outputs": [],
   "source": [
    "data <- data %>% select(-sample)\n",
    "head(data)"
   ]
  },
  {
   "cell_type": "code",
   "execution_count": null,
   "id": "bbc500bf-d094-4c3f-9010-5d04389b091c",
   "metadata": {},
   "outputs": [],
   "source": [
    "\n",
    "\n",
    "nested_CV_lasso <- function(data, k_inner_cv, k_outer_cv){\n",
    "    \n",
    "    y_all <- data %>% dplyr::select(sample_type) %>% as.matrix()\n",
    "    classes <- unique(y_all)\n",
    "    \n",
    "    X <- data %>% dplyr::select(-sample_type) %>% as.matrix() \n",
    "    observed <- y_all\n",
    "    return_tibble <- tibble(observed = rep(data$sample_type, k_outer_cv), \n",
    "                            CV_rep = rep(1:k_outer_cv, each=nrow(data)))\n",
    "    \n",
    "    cl <- makePSOCKcluster(5, outfile=\"\")\n",
    "    registerDoParallel(cl)\n",
    "    return_tibble <- foreach(class = 1:length(unique(y_all)), \n",
    "                            .inorder = TRUE,\n",
    "                            .options.RNG = 1985,\n",
    "                            .combine = \"cbind\",\n",
    "                            .packages = c(\"splitTools\", \"glmnetUtils\")) %dorng% {\n",
    "        \n",
    "        get_cvm <- function(model) {\n",
    "            index <- match(model$lambda.min, model$lambda)\n",
    "            model$cvm[index]\n",
    "        }\n",
    "        \n",
    "        y <- ifelse(y_all==classes[class], 1, 0)\n",
    "        return_vector_for_class <- c()\n",
    "        \n",
    "        for (i in 1:k_outer_cv){ # repeated Cross-validation loop\n",
    "            \n",
    "            set.seed(i)\n",
    "            #cvfolds <- cut(1:nrow(data), breaks = k_inner_cv, labels = F)\n",
    "            folds <- create_folds(y, k = k_inner_cv)\n",
    "            #cvfolds <- sample(cvfolds)\n",
    "\n",
    "            predicted <- rep(NA, nrow(data))\n",
    "                                \n",
    "            for (fold in folds){\n",
    "                testdata  <- X[-fold,]\n",
    "                traindata <- X[fold,]\n",
    "                train_y <- y[fold,]\n",
    "\n",
    "                ########### nested CV to find best alpha and lambda on train folds ###########\n",
    "                set.seed(0) # alpha\n",
    "                lasso_cva <- cva.glmnet(traindata, train_y, nfolds = 3, family = \"binomial\")\n",
    "                enet_performance <- data.frame(alpha = lasso_cva$alpha)\n",
    "                models <- lasso_cva$modlist\n",
    "                enet_performance$cvm <- vapply(models, get_cvm, numeric(1))\n",
    "                minix <- which.min(enet_performance$cvm)\n",
    "                best_alpha <- lasso_cva$alpha[minix]\n",
    "\n",
    "                set.seed(0) # lambda\n",
    "                lasso_cv <- cv.glmnet(traindata, \n",
    "                                      train_y, \n",
    "                                      alpha = best_alpha, \n",
    "                                      standardize = TRUE, \n",
    "                                      nfolds = 3, \n",
    "                                      family = \"binomial\")\n",
    "                #message(plot(lasso_cv))\n",
    "                lambda_cv <- lasso_cv$lambda.min\n",
    "                \n",
    "                cat(\"best_alpha\\n\", file=stdout())\n",
    "                cat(best_alpha, file=stdout())\n",
    "                message(\"best_alpha\")\n",
    "                message(best_alpha)\n",
    "                message(\"best_lambda\")\n",
    "                message(lambda_cv)\n",
    "                ####################################################################\n",
    "\n",
    "                fit       <- glmnet(traindata, train_y, family = \"binomial\", alpha = best_alpha, lambda = lambda_cv)\n",
    "                tmp       <- predict(fit, s=lambda_cv, testdata, type = \"response\")\n",
    "                predicted[-fold] <- tmp\n",
    "                }\n",
    "\n",
    "            return_vector_for_class <- c(return_vector_for_class, predicted)\n",
    "        }  # end of outer cv loop  \n",
    "        tibble(\"{classes[class]}_pred\" := return_vector_for_class)\n",
    "    }\n",
    "    stopCluster(cl)\n",
    "    registerDoSEQ()\n",
    "    \n",
    "    return(return_tibble)\n",
    "}"
   ]
  },
  {
   "cell_type": "code",
   "execution_count": null,
   "id": "7eae52d9-91ed-4b99-adfe-c6e6d6c7871d",
   "metadata": {
    "tags": []
   },
   "outputs": [],
   "source": [
    "k_outer_cv = 2\n",
    "results <- nested_CV_lasso(data, k_inner_cv = 2, k_outer_cv = k_outer_cv)"
   ]
  },
  {
   "cell_type": "code",
   "execution_count": null,
   "id": "13b1530d-49e8-4c21-964d-0f0624804f6a",
   "metadata": {},
   "outputs": [],
   "source": [
    "#results <- tibble(results, .name_repair = \"unique\")\n",
    "head(results)"
   ]
  },
  {
   "cell_type": "code",
   "execution_count": null,
   "id": "ac7d3210-855a-4d48-8285-70ef8ed5669a",
   "metadata": {},
   "outputs": [],
   "source": [
    "saveRDS(results, file = snakemake@output[[\"lasso_output\"]])"
   ]
  },
  {
   "cell_type": "code",
   "execution_count": null,
   "id": "87037f75-069e-49e8-bb54-a48be574ce21",
   "metadata": {},
   "outputs": [],
   "source": [
    "for ( col in 1:ncol(results)){\n",
    "    colnames(results)[col] <-  sub(\"_pred\", \"\", colnames(results)[col])\n",
    "}\n",
    "head(results)"
   ]
  },
  {
   "cell_type": "markdown",
   "id": "b6d5d442-6d59-4557-ad05-35f15bec0ac1",
   "metadata": {},
   "source": [
    "## AUC calculation with pROC package == One vs. one"
   ]
  },
  {
   "cell_type": "code",
   "execution_count": null,
   "id": "1e9343db-da57-4efb-aadb-1e22218b9f0c",
   "metadata": {
    "tags": []
   },
   "outputs": [],
   "source": [
    "rocs <- list()\n",
    "list_names <- paste0(\"CV_rep_\", 1:k_outer_cv)\n",
    "for (i in 1:k_outer_cv){\n",
    "    res_CV <- results %>% filter(CV_rep == i) %>% select(-c(CV_rep, observed))\n",
    "    res_CV <- \n",
    "    roc <- multiclass.roc(response = data$sample_type, predictor = res_CV)\n",
    "    rocs[[i]] <- roc\n",
    "}\n",
    "names(rocs) <- c(list_names)\n",
    "\n",
    "paste0(\"The AUC of the first CV repetition: \", rocs[[1]]$auc)\n",
    "\n",
    "aucs <- c()\n",
    "for (i in 1:length(rocs)){\n",
    "    aucs <- c(aucs, rocs[[i]]$auc) \n",
    "}\n",
    "\n",
    "paste0(\"The mean AUC of all the CV repetitions: \", mean(aucs))"
   ]
  },
  {
   "cell_type": "markdown",
   "id": "535f5201-d089-4e6d-99fd-44953509ef76",
   "metadata": {
    "tags": []
   },
   "source": [
    "# AUC calculation with multiROC package == One vs. rest, and plotting"
   ]
  },
  {
   "cell_type": "markdown",
   "id": "8366882e-fa43-4af4-b815-4da3dff66249",
   "metadata": {},
   "source": [
    "#### Run the multiROC and plotting for all the CV repetitions"
   ]
  },
  {
   "cell_type": "code",
   "execution_count": null,
   "id": "1adae2ed-d20b-41c3-9ad9-e3d5de95f6a8",
   "metadata": {},
   "outputs": [],
   "source": [
    "Specificities <- NULL\n",
    "Sensitivities <- NULL\n",
    "\n",
    "for (i in 1:k_outer_cv){\n",
    "    res_CV <- data.frame(results %>% filter(CV_rep == i) %>% select(-c(CV_rep, observed)))\n",
    "    \n",
    "    colnames(res_CV) <- paste(colnames(res_CV), \"_pred_lasso\", sep = \"\")\n",
    "\n",
    "    true_label <- dummies::dummy(data$sample_type, sep = \".\")\n",
    "    true_label <- data.frame(true_label)\n",
    "    colnames(true_label) <- gsub(\".*?\\\\.\", \"\", colnames(true_label))\n",
    "    colnames(true_label) <- paste(colnames(true_label), \"_true\", sep = \"\")\n",
    "    final_df <- cbind(true_label, res_CV)\n",
    "\n",
    "    roc_res <- multi_roc(final_df, force_diag=T)\n",
    "    \n",
    "    if (i == 1){\n",
    "        AUCs <- as.data.frame(t(unlist(roc_res$AUC)))\n",
    "    }\n",
    "    else {\n",
    "        AUCs <- rbind(AUCs, as.data.frame(t(unlist(roc_res$AUC))))\n",
    "    }\n",
    "    \n",
    "    plot_roc_df <- plot_roc_data(roc_res)\n",
    "    plot_roc_df <- plot_roc_df %>% select(-Method)\n",
    "    \n",
    "    if (i == 1){\n",
    "        Specificities <- plot_roc_df %>% select(Specificity)\n",
    "        Sensitivities <- plot_roc_df %>% select(Sensitivity)\n",
    "        Groups  <- plot_roc_df %>% select(Group)\n",
    "    }\n",
    "    else {\n",
    "        Specificities <- cbind(Specificities, plot_roc_df %>% select(Specificity))\n",
    "        Sensitivities <- cbind(Sensitivities, plot_roc_df %>% select(Sensitivity))\n",
    "    }\n",
    "    \n",
    "    #IRdisplay::display(all_plot_roc_df)\n",
    "\n",
    "}\n",
    "Specificities <- tibble(Specificities, .name_repair = \"unique\")\n",
    "Specificities <- Specificities %>% mutate(mean = rowMeans(across()))\n",
    "Sensitivities <- tibble(Sensitivities, .name_repair = \"unique\")\n",
    "Sensitivities <- Sensitivities %>% mutate(mean = rowMeans(across()))\n",
    "\n",
    "(AUCs <- tibble(AUCs))\n",
    "\n",
    "all_sensitivity_specificity <- tibble(Specificity = Specificities$mean, Sensitivity = Sensitivities$mean, Group = Groups$Group)\n",
    "head(all_sensitivity_specificity)"
   ]
  },
  {
   "cell_type": "code",
   "execution_count": null,
   "id": "afaec313-af5b-4ca7-b413-be6f090a6578",
   "metadata": {},
   "outputs": [],
   "source": [
    "ggplot(all_sensitivity_specificity, aes(x = 1-Specificity, y=Sensitivity)) +\n",
    "  geom_path(aes(color = Group), size=1) +\n",
    "  geom_segment(aes(x = 0, y = 0, xend = 1, yend = 1), \n",
    "                        colour='grey', linetype = 'dotdash') +\n",
    "  theme_bw() + \n",
    "  theme(plot.title = element_text(hjust = 0.5), \n",
    "                 legend.justification=c(1, 0), legend.position=c(.95, .05),\n",
    "                 legend.title=element_blank(), \n",
    "                 legend.background = element_rect(fill=NULL, size=0.5, \n",
    "                                                           linetype=\"solid\", colour =\"black\"))"
   ]
  },
  {
   "cell_type": "code",
   "execution_count": null,
   "id": "0f1222a8-dc18-444b-b1b9-00cbbde221db",
   "metadata": {},
   "outputs": [],
   "source": [
    "print(\"Mean AUC over 10 repetitions of 10-fold CV: \")\n",
    "(mean_AUCs <- colMeans(AUCs[sapply(AUCs, is.numeric)]))"
   ]
  },
  {
   "cell_type": "code",
   "execution_count": null,
   "id": "2f56d950-cfb3-461f-8fda-3740eca24370",
   "metadata": {},
   "outputs": [],
   "source": [
    "results01 <- tibble()\n",
    "\n",
    "for (i in 1:k_outer_cv){\n",
    "    res_CV <- results %>% filter(CV_rep == i)\n",
    "    obs_rep <- res_CV %>% select(c(CV_rep, observed))\n",
    "    res_CV <- res_CV %>% select(-c(CV_rep, observed))\n",
    "    res_CV <- res_CV %>% mutate(pred01 = factor(colnames(res_CV)[apply(res_CV,1,which.max)], ordered = TRUE))\n",
    "    res_CV <- cbind(res_CV, obs_rep)\n",
    "    results01 <- rbind(results01, res_CV)\n",
    "}\n",
    "\n",
    "head(results01)"
   ]
  },
  {
   "cell_type": "code",
   "execution_count": null,
   "id": "4ec33b38-6e87-4af9-be6a-50801bc759ed",
   "metadata": {},
   "outputs": [],
   "source": [
    "error_rates <- c()\n",
    "accuracies <- c()\n",
    "for (i in 1:k_outer_cv){\n",
    "    res_CV <- results01 %>% filter(CV_rep == i)\n",
    "    error_rates <- c(error_rates, mean(as.character(res_CV$observed) != as.character(res_CV$pred01)))\n",
    "    accuracies <- c(accuracies, mean(as.character(res_CV$observed) == as.character(res_CV$pred01)))\n",
    "}\n",
    "\n",
    "error_rates\n",
    "accuracies\n",
    "\n",
    "paste(\"Mean error rate over 10 repetitions of 10-fold CV: \", mean(error_rates), sep = \"\")\n",
    "paste(\"Mean accuracy over 10 repetitions of 10-fold CV: \", mean(accuracies), sep = \"\")"
   ]
  },
  {
   "cell_type": "markdown",
   "id": "938c8703-f741-41e2-8798-073f946756a1",
   "metadata": {},
   "source": [
    "### for one vs rest classifier: https://stats.stackexchange.com/questions/71700/how-to-draw-roc-curve-with-three-response-variable/110550#110550"
   ]
  },
  {
   "cell_type": "code",
   "execution_count": null,
   "id": "1a3e0209-346d-48bd-9ab5-479ae08843e2",
   "metadata": {},
   "outputs": [],
   "source": [
    "install.packages(\"ROCR\")\n",
    "library(ROCR)\n",
    "install.packages(\"rlist\")\n",
    "library(rlist)"
   ]
  },
  {
   "cell_type": "code",
   "execution_count": null,
   "id": "f83d98c6-8341-45d6-882b-25afbebb73ae",
   "metadata": {},
   "outputs": [],
   "source": [
    "data(ROCR.xval)\n",
    "str(ROCR.xval)\n",
    "predictions <- ROCR.xval$predictions"
   ]
  },
  {
   "cell_type": "code",
   "execution_count": null,
   "id": "aa252869-bbb4-408a-b87e-a62fec97a217",
   "metadata": {},
   "outputs": [],
   "source": [
    "list_res <- list(predictions = list(), labels = list())\n",
    "str(list_res)"
   ]
  },
  {
   "cell_type": "code",
   "execution_count": null,
   "id": "a28937e0-0f6e-4844-a006-f6b1acf121d8",
   "metadata": {},
   "outputs": [],
   "source": [
    "classes <- unique(data$sample_type)\n",
    "\n",
    "aucs = c()\n",
    "\n",
    "\n",
    "plot(x=NA, y=NA, xlim=c(0,1), ylim=c(0,1),\n",
    "     bty='n')\n",
    "legend_text <- c()\n",
    "\n",
    "for (i in 1:length(classes)) {\n",
    "    for (rep in 1:k_outer_cv){\n",
    "        res_CV <- results %>% filter(CV_rep == rep) %>% select(-c(observed, CV_rep)) \n",
    "        class <- paste0(classes[i], \"\")\n",
    "        pred = pull(res_CV, class)\n",
    "        list.append(list_res$predictions, rep = pred)\n",
    "        obs <- ifelse(data$sample_type == class, 1, 0)\n",
    "        list.append(list_res$labels, rep = obs)\n",
    "        }\n",
    "    pred = prediction(pred, obs)\n",
    "    nbperf = performance(pred, \"tpr\", \"fpr\")\n",
    "    \n",
    "    roc.x = unlist(nbperf@x.values)\n",
    "    roc.y = unlist(nbperf@y.values)\n",
    "    par(new=TRUE)\n",
    "    #lines(roc.y ~ roc.x, col=i+1, lwd=2)\n",
    "    plot(nbperf,\n",
    "     avg='threshold',\n",
    "     lwd=3,\n",
    "     col=i + 1)\n",
    "    legend_text <- c(legend_text, class)\n",
    "\n",
    "\n",
    "    nbauc = performance(pred, \"auc\")\n",
    "    nbauc = unlist(slot(nbauc, \"y.values\"))\n",
    "    aucs <- c(aucs, nbauc)\n",
    "    }\n",
    "\n",
    "lines(x=c(0,1), c(0,1))\n",
    "mean(aucs)\n",
    "aucs\n",
    "legend('bottomright', legend = legend_text, lty = 1, col=2:(length(classes)+1))"
   ]
  },
  {
   "cell_type": "code",
   "execution_count": null,
   "id": "53cd7359-37f5-4712-bad0-86f10516635d",
   "metadata": {},
   "outputs": [],
   "source": []
  }
 ],
 "metadata": {
  "kernelspec": {
   "display_name": "R",
   "language": "R",
   "name": "ir"
  },
  "language_info": {
   "codemirror_mode": "r",
   "file_extension": ".r",
   "mimetype": "text/x-r-source",
   "name": "R",
   "pygments_lexer": "r",
   "version": "3.6.1"
  }
 },
 "nbformat": 4,
 "nbformat_minor": 5
}
